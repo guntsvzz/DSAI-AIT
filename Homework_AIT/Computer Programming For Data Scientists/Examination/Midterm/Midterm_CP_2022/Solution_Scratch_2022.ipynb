{
 "cells": [
  {
   "cell_type": "markdown",
   "metadata": {},
   "source": [
    "# Q1"
   ]
  },
  {
   "cell_type": "code",
   "execution_count": 2,
   "metadata": {},
   "outputs": [],
   "source": [
    "import numpy as np"
   ]
  },
  {
   "cell_type": "code",
   "execution_count": 3,
   "metadata": {},
   "outputs": [],
   "source": [
    "# From scratch\n",
    "def mycov(x,y):\n",
    "    xmean = x.mean()\n",
    "    ymean = y.mean()\n",
    "    return ((x - xmean) * (y - ymean)).sum()/len(x)\n",
    "\n",
    "def pearson(x1,x2):\n",
    "    cov = mycov(x1,x2)\n",
    "    std1 = x1.std()\n",
    "    std2 = x2.std()\n",
    "    return (cov/(std1 * std2))\n",
    "\n",
    "def mycorr(X):\n",
    "    n_cols = X.shape[1]\n",
    "    ans = np.zeros((n_cols, n_cols))\n",
    "    for i in range(n_cols):\n",
    "        for j in range(n_cols):\n",
    "            ans[i][j] = pearson(X[:,i], X[:,j])\n",
    "    return ans\n",
    "    "
   ]
  },
  {
   "cell_type": "code",
   "execution_count": 4,
   "metadata": {},
   "outputs": [
    {
     "ename": "NameError",
     "evalue": "name 'data' is not defined",
     "output_type": "error",
     "traceback": [
      "\u001b[1;31m---------------------------------------------------------------------------\u001b[0m",
      "\u001b[1;31mNameError\u001b[0m                                 Traceback (most recent call last)",
      "\u001b[1;32mc:\\Users\\Guntsv\\Downloads\\AIT\\AT82.01 Computer Programming for Data Science and Artificial Intelligence (PDS)\\Midterm2022\\Solution_Scratch_2022.ipynb Cell 4\u001b[0m in \u001b[0;36m<cell line: 8>\u001b[1;34m()\u001b[0m\n\u001b[0;32m      <a href='vscode-notebook-cell:/c%3A/Users/Guntsv/Downloads/AIT/AT82.01%20Computer%20Programming%20for%20Data%20Science%20and%20Artificial%20Intelligence%20%28PDS%29/Midterm2022/Solution_Scratch_2022.ipynb#W6sZmlsZQ%3D%3D?line=4'>5</a>\u001b[0m     stds_stds \u001b[39m=\u001b[39m stds\u001b[39m.\u001b[39mreshape(\u001b[39m-\u001b[39m\u001b[39m1\u001b[39m,\u001b[39m1\u001b[39m) \u001b[39m@\u001b[39m stds\u001b[39m.\u001b[39mreshape(\u001b[39m1\u001b[39m,\u001b[39m-\u001b[39m\u001b[39m1\u001b[39m) \n\u001b[0;32m      <a href='vscode-notebook-cell:/c%3A/Users/Guntsv/Downloads/AIT/AT82.01%20Computer%20Programming%20for%20Data%20Science%20and%20Artificial%20Intelligence%20%28PDS%29/Midterm2022/Solution_Scratch_2022.ipynb#W6sZmlsZQ%3D%3D?line=5'>6</a>\u001b[0m     \u001b[39mreturn\u001b[39;00m cov \u001b[39m/\u001b[39m stds_stds\n\u001b[1;32m----> <a href='vscode-notebook-cell:/c%3A/Users/Guntsv/Downloads/AIT/AT82.01%20Computer%20Programming%20for%20Data%20Science%20and%20Artificial%20Intelligence%20%28PDS%29/Midterm2022/Solution_Scratch_2022.ipynb#W6sZmlsZQ%3D%3D?line=7'>8</a>\u001b[0m \u001b[39mprint\u001b[39m(np\u001b[39m.\u001b[39mcorrcoef(data, rowvar\u001b[39m=\u001b[39m\u001b[39mFalse\u001b[39;00m))\n\u001b[0;32m      <a href='vscode-notebook-cell:/c%3A/Users/Guntsv/Downloads/AIT/AT82.01%20Computer%20Programming%20for%20Data%20Science%20and%20Artificial%20Intelligence%20%28PDS%29/Midterm2022/Solution_Scratch_2022.ipynb#W6sZmlsZQ%3D%3D?line=8'>9</a>\u001b[0m \u001b[39mprint\u001b[39m()\n\u001b[0;32m     <a href='vscode-notebook-cell:/c%3A/Users/Guntsv/Downloads/AIT/AT82.01%20Computer%20Programming%20for%20Data%20Science%20and%20Artificial%20Intelligence%20%28PDS%29/Midterm2022/Solution_Scratch_2022.ipynb#W6sZmlsZQ%3D%3D?line=9'>10</a>\u001b[0m \u001b[39mprint\u001b[39m(mycorr(data))\n",
      "\u001b[1;31mNameError\u001b[0m: name 'data' is not defined"
     ]
    }
   ],
   "source": [
    "# numpy version\n",
    "def mycorr_2(data):\n",
    "    cov = np.cov(data, rowvar=False, bias=True)\n",
    "    stds = data.std(axis=0)\n",
    "    stds_stds = stds.reshape(-1,1) @ stds.reshape(1,-1) \n",
    "    return cov / stds_stds\n",
    "    \n",
    "print(np.corrcoef(data, rowvar=False))\n",
    "print()\n",
    "print(mycorr(data))\n",
    "print()\n",
    "print(mycorr_2(data))"
   ]
  },
  {
   "cell_type": "markdown",
   "metadata": {},
   "source": [
    "# Q2"
   ]
  },
  {
   "cell_type": "code",
   "execution_count": 5,
   "metadata": {},
   "outputs": [],
   "source": [
    "def myconvo(arr, kernel):\n",
    "\n",
    "    size = len(kernel)\n",
    "\n",
    "    padded = np.pad(arr, size-1).copy()\n",
    "\n",
    "    ans = []\n",
    "\n",
    "    for i in range(len(padded)-(size-1)):\n",
    "\n",
    "        view = padded[i:i+size]\n",
    "\n",
    "        ans.append((view * np.flip(kernel)).sum())\n",
    "\n",
    "    return np.array(ans)"
   ]
  }
 ],
 "metadata": {
  "kernelspec": {
   "display_name": "Python 3.10.4 64-bit",
   "language": "python",
   "name": "python3"
  },
  "language_info": {
   "codemirror_mode": {
    "name": "ipython",
    "version": 3
   },
   "file_extension": ".py",
   "mimetype": "text/x-python",
   "name": "python",
   "nbconvert_exporter": "python",
   "pygments_lexer": "ipython3",
   "version": "3.10.4"
  },
  "orig_nbformat": 4,
  "vscode": {
   "interpreter": {
    "hash": "c81d839d3c4227cd770621df97fe8191838af02e7eef185a922d8250cb33d344"
   }
  }
 },
 "nbformat": 4,
 "nbformat_minor": 2
}
