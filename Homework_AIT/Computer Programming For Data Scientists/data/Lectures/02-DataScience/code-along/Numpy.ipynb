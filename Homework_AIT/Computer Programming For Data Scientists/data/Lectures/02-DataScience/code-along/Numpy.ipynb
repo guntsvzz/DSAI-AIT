{
 "cells": [
  {
   "cell_type": "markdown",
   "metadata": {},
   "source": [
    "# Programming for Data Science and Artificial Intelligence\n",
    "\n",
    "## Numpy\n",
    "\n",
    "### Readings: \n",
    "- [VANDER] Ch2\n",
    "- https://numpy.org/doc/stable/"
   ]
  },
  {
   "cell_type": "markdown",
   "metadata": {},
   "source": [
    "NumPy arrays are like Python's built-in list type, but NumPy arrays provide much more efficient storage and data operations as the arrays grow larger in size.\n",
    "\n",
    "A python list comes with overhead of determining its dynamic type and convert them back to C.  Unlike python list, Numpy is constrained to arrays that all contain the same type, thus removing that overhead."
   ]
  },
  {
   "cell_type": "code",
   "execution_count": null,
   "metadata": {},
   "outputs": [],
   "source": []
  },
  {
   "cell_type": "markdown",
   "metadata": {},
   "source": [
    "## Creation"
   ]
  },
  {
   "cell_type": "markdown",
   "metadata": {},
   "source": [
    "### From list"
   ]
  },
  {
   "cell_type": "code",
   "execution_count": null,
   "metadata": {},
   "outputs": [],
   "source": []
  },
  {
   "cell_type": "markdown",
   "metadata": {},
   "source": [
    "### Creating using np built-in functions"
   ]
  },
  {
   "cell_type": "code",
   "execution_count": null,
   "metadata": {},
   "outputs": [],
   "source": []
  },
  {
   "cell_type": "markdown",
   "metadata": {},
   "source": [
    "### Creating with data types"
   ]
  },
  {
   "cell_type": "code",
   "execution_count": null,
   "metadata": {},
   "outputs": [],
   "source": []
  },
  {
   "cell_type": "markdown",
   "metadata": {},
   "source": [
    "### Creating multi-dimensional numpy array"
   ]
  },
  {
   "cell_type": "code",
   "execution_count": null,
   "metadata": {},
   "outputs": [],
   "source": []
  },
  {
   "cell_type": "markdown",
   "metadata": {},
   "source": [
    "### Creating randomized numpy arrays"
   ]
  },
  {
   "cell_type": "code",
   "execution_count": null,
   "metadata": {},
   "outputs": [],
   "source": []
  },
  {
   "cell_type": "markdown",
   "metadata": {},
   "source": [
    "### === Task 1 ===\n",
    "\n",
    "1. Declare a list of 1 to 4 using range()\n",
    "\n",
    "2. Continuing, create numpy array from this list, with dtype='float32'\n",
    "\n",
    "3. Create an numpy array of size 3 by 5 using np.zeros\n",
    "\n",
    "4. Create an numpy array of size 2 by 3 with filled value 1 / 3\n",
    "\n",
    "5. Create an array of 5 equal-distanced values for 0 to 10\n",
    "\n",
    "6. Create an array of number for 0.001, 0.01, 0.1, 1 using np.logspace\n",
    "\n",
    "7. Create a diagonal matrix of list [1, 2, 3, 4]\n",
    "\n",
    "\n",
    "8. Create a random array of size 4 by 5 all filled with random values between 0 and 1\n",
    "\n",
    "9.  Create a random array of size 4 by 5 all filled with integer random values between 2 and 5\n",
    "\n",
    "10.  Create a random array of size 4 by 5 all filled with float random values between 2 and 5\n",
    "\n",
    "11. Create a random array of size 4 by 5 with mean = 5, and std = 1 following a gaussian (normal) distribution\n",
    "\n",
    "12. Create an identity matrix of size 5 by 5"
   ]
  },
  {
   "cell_type": "markdown",
   "metadata": {},
   "source": [
    "## Attributes"
   ]
  },
  {
   "cell_type": "markdown",
   "metadata": {},
   "source": [
    "First let's discuss some useful array attributes. We'll start by defining three random arrays, a one-dimensional, two-dimensional, and three-dimensional array. \n",
    "\n",
    "<center><img src=\"../figures/02.01-numpy-dimension.png\" width=500 height=500 /></center>\n",
    "\n",
    "We'll use NumPy's random number generator, which we will seed with a set value in order to ensure that the same random arrays are generated each time this code is run:"
   ]
  },
  {
   "cell_type": "code",
   "execution_count": null,
   "metadata": {},
   "outputs": [],
   "source": []
  },
  {
   "cell_type": "markdown",
   "metadata": {},
   "source": [
    "### Dim"
   ]
  },
  {
   "cell_type": "code",
   "execution_count": null,
   "metadata": {},
   "outputs": [],
   "source": []
  },
  {
   "cell_type": "markdown",
   "metadata": {},
   "source": [
    "### Shape"
   ]
  },
  {
   "cell_type": "code",
   "execution_count": null,
   "metadata": {},
   "outputs": [],
   "source": []
  },
  {
   "cell_type": "markdown",
   "metadata": {},
   "source": [
    "### Len"
   ]
  },
  {
   "cell_type": "code",
   "execution_count": null,
   "metadata": {},
   "outputs": [],
   "source": []
  },
  {
   "cell_type": "markdown",
   "metadata": {},
   "source": [
    "### Size"
   ]
  },
  {
   "cell_type": "code",
   "execution_count": null,
   "metadata": {},
   "outputs": [],
   "source": []
  },
  {
   "cell_type": "markdown",
   "metadata": {},
   "source": [
    "### Dtypes"
   ]
  },
  {
   "cell_type": "code",
   "execution_count": null,
   "metadata": {},
   "outputs": [],
   "source": []
  },
  {
   "cell_type": "markdown",
   "metadata": {},
   "source": [
    "## Indexing and Slicing"
   ]
  },
  {
   "cell_type": "markdown",
   "metadata": {},
   "source": [
    "<center><img src=\"../figures/02.02-numpy-array-slice.png\" width=500 height=500 /></center>"
   ]
  },
  {
   "cell_type": "markdown",
   "metadata": {},
   "source": [
    "### Basic indexing"
   ]
  },
  {
   "cell_type": "code",
   "execution_count": null,
   "metadata": {},
   "outputs": [],
   "source": []
  },
  {
   "cell_type": "markdown",
   "metadata": {},
   "source": [
    "### 2D array access"
   ]
  },
  {
   "cell_type": "markdown",
   "metadata": {},
   "source": [
    "<center><img src=\"../figures/02.03-numpy-matrix-indexing.png\" width=500 height=500 /></center>"
   ]
  },
  {
   "cell_type": "code",
   "execution_count": null,
   "metadata": {},
   "outputs": [],
   "source": []
  },
  {
   "cell_type": "markdown",
   "metadata": {},
   "source": [
    "### 3D array access"
   ]
  },
  {
   "cell_type": "code",
   "execution_count": null,
   "metadata": {},
   "outputs": [],
   "source": []
  },
  {
   "cell_type": "markdown",
   "metadata": {},
   "source": [
    "### Modifying"
   ]
  },
  {
   "cell_type": "code",
   "execution_count": null,
   "metadata": {},
   "outputs": [],
   "source": []
  },
  {
   "cell_type": "markdown",
   "metadata": {},
   "source": [
    "### === Task 2 ===\n",
    "\n",
    "1. Create a numpy array of size 3 by 4 with random float values between 0 to 5\n",
    "\n",
    "2. Continuing, print the shape of this array\n",
    "\n",
    "3. Continuing, access the first row of the array\n",
    "\n",
    "4. Continuing, access the first column of the array\n",
    "\n",
    "5. Continuing, access the second row, and third column element\n",
    "\n",
    "6. Continuing, access the first two columns\n",
    "\n",
    "7. Continuing, access the  first and third columns using step\n",
    "\n",
    "8. Continuing, print the whole matrix in reverse columns but not rows\n",
    "\n",
    "9. Change the third row, fourth column element (i.e., the last element) to 999"
   ]
  },
  {
   "cell_type": "markdown",
   "metadata": {},
   "source": [
    "### Very very important reminder - subarray are not copies!"
   ]
  },
  {
   "cell_type": "code",
   "execution_count": null,
   "metadata": {},
   "outputs": [],
   "source": []
  },
  {
   "cell_type": "markdown",
   "metadata": {},
   "source": [
    "## Reshaping"
   ]
  },
  {
   "cell_type": "markdown",
   "metadata": {},
   "source": [
    "### Simple reshape"
   ]
  },
  {
   "cell_type": "markdown",
   "metadata": {},
   "source": [
    "### 1d to 2d\n",
    "\n",
    "<center><img src=\"../figures/02.04-np_reshape.png\" width=500 height=500 /></center>"
   ]
  },
  {
   "cell_type": "code",
   "execution_count": null,
   "metadata": {},
   "outputs": [],
   "source": []
  },
  {
   "cell_type": "markdown",
   "metadata": {},
   "source": [
    "### np.newaxis"
   ]
  },
  {
   "cell_type": "code",
   "execution_count": null,
   "metadata": {},
   "outputs": [],
   "source": []
  },
  {
   "cell_type": "markdown",
   "metadata": {},
   "source": [
    "### Common to reshape 2d to 3d for time algorithms, such as LSTM"
   ]
  },
  {
   "cell_type": "code",
   "execution_count": null,
   "metadata": {},
   "outputs": [],
   "source": []
  },
  {
   "cell_type": "markdown",
   "metadata": {},
   "source": [
    "### Using -1 in reshape"
   ]
  },
  {
   "cell_type": "code",
   "execution_count": null,
   "metadata": {},
   "outputs": [],
   "source": []
  },
  {
   "cell_type": "markdown",
   "metadata": {},
   "source": [
    "### === Task 3 ===\n",
    "\n",
    "1. Create a numpy array of size 200 by 4 with random float values between 1 to 5 and name it <code>Data</code>\n",
    "\n",
    "2. Split the array into two numpy arrays, X and y, where the X contains the first 3 columns and y contains the last column.\n",
    "\n",
    "3. Continuing, split the first 70% of the 200 rows of X and y and call them <code>X_train</code> and <code>y_train</code>. Similarly, populate <code>X_test</code> and <code>y_test</code> using same corresponding columns but 30\\% rest of the data.\n",
    "\n",
    "<img src=\"../figures/02.07-numpy-Task.png\" width=1000 height=1000 />\n",
    "\n",
    "4. Print the shape of the <code>X_train</code> and <code>y_train</code>.  The first array should have shape (0.7 * 200, 3); the second array is (0.7 * 200, 1)\n",
    "\n",
    "5. Assign m = <code>X_train.shape[0]</code>, and n = <code>X_train.shape[1]</code>, where $m$ is number of samples, and $n$ is number of features\n",
    "\n",
    "6. Randomly select one row of <code>X_train</code> by using <code>np.random.randint</code> to select the random row and called it <code>X_i</code>.  Reshape it so that it has shape of <code>(1, n)</code>\n",
    "\n",
    "7. Randomly select 50 contiguous rows from <code>X_train</code> by using <code>np.random.randint</code> to select a random starting row and called it <code>mini_batch_X</code>.  If the index exceeds, simply grab whatever left.\n",
    "\n",
    "8. Write a for loop that breaks the <code>X_train</code> row-wise into 10 equal pieces without overlap, and simply print their shape\n",
    "\n",
    "9. Create an np.zero array called <code>theta</code> with shape of <code>(n, )</code>\n",
    "\n",
    "10. Perform a **dot product** between <code>X_train</code> and <code>theta</code> and assign this value to a variable called <code>yhat</code>\n",
    "Hint: https://www.guru99.com/numpy-dot-product.html\n",
    "\n",
    "<center><img src=\"../figures/02.07-numpy-Task-dot-explained.png\" width=500 height=500 /></center>\n",
    "\n",
    "11. Create another variable called <code>y</code> with the same shape as <code>yhat</code>, and populate it with random values from 0 to 1.\n",
    "\n",
    "12. Calculate the following \n",
    "    $$ \\frac{\\sum\\limits_{i=1}^{m} (y_i - \\hat{y_i})^2}{m} $$\n",
    "    \n",
    "    For example, if yhat = [1, 2, 3] and y = [2, 3, 4], then the calculation is\n",
    "    \n",
    "    $$ \\frac{sum((1-2)^2 + (2-3)^2 + (3-4)^2)}{m} $$"
   ]
  },
  {
   "cell_type": "markdown",
   "metadata": {},
   "source": [
    "## Concatenation, vstack/hstack"
   ]
  },
  {
   "cell_type": "markdown",
   "metadata": {},
   "source": [
    "<center><img src=\"../figures/numpy-axis.jpg\" width=500 height=500 /></center>"
   ]
  },
  {
   "cell_type": "markdown",
   "metadata": {},
   "source": [
    "<center><img src=\"../figures/02.06-numpy-concatenate.png\" width=500 height=500 /></center>"
   ]
  },
  {
   "cell_type": "markdown",
   "metadata": {},
   "source": [
    "### Concatenation"
   ]
  },
  {
   "cell_type": "code",
   "execution_count": null,
   "metadata": {},
   "outputs": [],
   "source": []
  },
  {
   "cell_type": "markdown",
   "metadata": {},
   "source": [
    "### Error example"
   ]
  },
  {
   "cell_type": "code",
   "execution_count": null,
   "metadata": {},
   "outputs": [],
   "source": []
  },
  {
   "cell_type": "markdown",
   "metadata": {},
   "source": [
    "### More example"
   ]
  },
  {
   "cell_type": "code",
   "execution_count": null,
   "metadata": {},
   "outputs": [],
   "source": []
  },
  {
   "cell_type": "markdown",
   "metadata": {},
   "source": [
    "### Concatenating multiple lists"
   ]
  },
  {
   "cell_type": "code",
   "execution_count": null,
   "metadata": {},
   "outputs": [],
   "source": []
  },
  {
   "cell_type": "markdown",
   "metadata": {},
   "source": [
    "### Vstack and hstack"
   ]
  },
  {
   "cell_type": "markdown",
   "metadata": {},
   "source": [
    "<center><img src=\"../figures/numpy-hstack.png\" width=200 height=200 /><img src=\"../figures/numpy-vstack.png\" width=120 height=200 /></center>"
   ]
  },
  {
   "cell_type": "code",
   "execution_count": null,
   "metadata": {},
   "outputs": [],
   "source": []
  },
  {
   "cell_type": "markdown",
   "metadata": {},
   "source": [
    "## Vectorization\n",
    "<center><img src=\"../figures/numpy-vectorization.png\" width=300 height=300 /></center>"
   ]
  },
  {
   "cell_type": "markdown",
   "metadata": {},
   "source": [
    "### Vectorization basics"
   ]
  },
  {
   "cell_type": "code",
   "execution_count": null,
   "metadata": {},
   "outputs": [],
   "source": []
  },
  {
   "cell_type": "markdown",
   "metadata": {},
   "source": [
    "### Vectorization by scalars"
   ]
  },
  {
   "cell_type": "code",
   "execution_count": null,
   "metadata": {},
   "outputs": [],
   "source": []
  },
  {
   "cell_type": "markdown",
   "metadata": {},
   "source": [
    "### Vectorization using numpy built in function"
   ]
  },
  {
   "cell_type": "code",
   "execution_count": null,
   "metadata": {},
   "outputs": [],
   "source": []
  },
  {
   "cell_type": "markdown",
   "metadata": {},
   "source": [
    "## Broadcasting"
   ]
  },
  {
   "cell_type": "markdown",
   "metadata": {},
   "source": [
    "Broadcasting is actually a built-in vectorization technique when shape is different\n",
    "\n",
    "Here are the broadcasting rules:\n",
    "\n",
    "- Rule 1: If the two arrays differ in their number of dimensions, the shape of the one with fewer dimensions is padded with ones on its leading (left) side.\n",
    "- Rule 2: If the shape of the two arrays does not match in any dimension, the array with shape equal to 1 in that dimension is stretched to match the other shape\n",
    "- Rule 3: If in any dimension the sizes disagree and neither is equal to 1, an error is raised.\n",
    "\n",
    "A simple way to think about broadcasting is as follows:\n",
    "\n",
    "<code>a = 5\n",
    "b = np.array([1, 1, 1])  #shape with (3, )\n",
    "a + b = [6, 6, 6]</code>\n",
    "\n",
    "Actually, what broadcasting does is to stretch a to [5, 5, 5] to match the dimension of b.  As you can see, the shape of [5, 5, 5] has shape with (3, ) as well.  BTW, this duplication does not actually take place, but it is a useful mental model to think about broadcasting\n",
    "\n",
    "<center><img src=\"../figures/02.05-broadcasting.png\" width=400 height=400 /></center>"
   ]
  },
  {
   "cell_type": "markdown",
   "metadata": {},
   "source": [
    "### Example 1"
   ]
  },
  {
   "cell_type": "code",
   "execution_count": null,
   "metadata": {},
   "outputs": [],
   "source": []
  },
  {
   "cell_type": "markdown",
   "metadata": {},
   "source": [
    "### Example 2"
   ]
  },
  {
   "cell_type": "code",
   "execution_count": null,
   "metadata": {},
   "outputs": [],
   "source": []
  },
  {
   "cell_type": "markdown",
   "metadata": {},
   "source": [
    "### Example 3"
   ]
  },
  {
   "cell_type": "code",
   "execution_count": null,
   "metadata": {},
   "outputs": [],
   "source": []
  },
  {
   "cell_type": "markdown",
   "metadata": {},
   "source": [
    "### Example 4"
   ]
  },
  {
   "cell_type": "code",
   "execution_count": null,
   "metadata": {},
   "outputs": [],
   "source": []
  },
  {
   "cell_type": "markdown",
   "metadata": {},
   "source": [
    "### === Task 4 ===\n",
    "\n",
    "1. From the above <code>X_train</code> from previous task, using concatenation, add a column of 1s along axis=1 and call it intercept\n",
    "\n",
    "2. Create a <code>theta</code> of shape (n + 1, 4), with random values between 0 and 1\n",
    "\n",
    "3. Perform a dot product between X_train and theta, and assign this value to a variable called <code>hot_encoded_yhat</code>\n",
    "\n",
    "4. Continuing, using broadcasting and vectorization, for each value (here I use example as value1) in <code>hot_encoded_yhat</code>, perform the following calculations.\n",
    "\n",
    "$$ \\frac{\\exp(value1)}{\\exp(value1)+\\exp(value2)+\\exp(value3)+\\exp(value4)} $$\n",
    "\n",
    "For example, if my first row is [0.3, 0.5, 1.2, 3.1], then the first value 0.3 will change to\n",
    "\n",
    "exp(0.3) / (exp(0.3) + exp(0.5) + exp(1.2) + exp(3.1))\n",
    "\n",
    "The second value 0.5 will become\n",
    "\n",
    "exp(0.5) / (exp(0.3) + exp(0.5) + exp(1.2) + exp(3.1))\n",
    "\n",
    "5. Create a variable called <code>yhat</code> which is equal to the <code>np.argmax</code> of <code>hot_encoded_yhat</code> along axis=1.  That is, <code>yhat</code> has the shape of <code>(X_train.shape[0], )</code>.  For example, if the first row of <code>hot_encoded_yhat</code> is [0.1, 0.2, 0.3, 0.4], since the fourth value is the biggest, the value will be its index which is 3.\n",
    "\n",
    "6. Create a variable called <code>y</code>, containing shape of <code>(X_train.shape[0], )</code> but with random int values from [0, 1, 2, 3]\n",
    "\n",
    "7. Assign a variable <code>n_classses</code> equal to the number of unique values in <code>y</code>"
   ]
  },
  {
   "cell_type": "markdown",
   "metadata": {},
   "source": [
    "## Masking"
   ]
  },
  {
   "cell_type": "markdown",
   "metadata": {},
   "source": [
    "Instead of writing if/while, we can use Boolean masks to elegantly extract desired values from numpy arrays.  You will love it!!\n"
   ]
  },
  {
   "cell_type": "code",
   "execution_count": null,
   "metadata": {},
   "outputs": [],
   "source": []
  },
  {
   "cell_type": "markdown",
   "metadata": {},
   "source": [
    "Examples\n",
    "\n",
    "Hint: https://matteding.github.io/2019/04/12/numpy-masks/"
   ]
  },
  {
   "cell_type": "code",
   "execution_count": null,
   "metadata": {},
   "outputs": [],
   "source": []
  },
  {
   "cell_type": "markdown",
   "metadata": {},
   "source": [
    "### Argwhere"
   ]
  },
  {
   "cell_type": "code",
   "execution_count": null,
   "metadata": {},
   "outputs": [],
   "source": []
  },
  {
   "cell_type": "markdown",
   "metadata": {},
   "source": [
    "### np.any"
   ]
  },
  {
   "cell_type": "code",
   "execution_count": null,
   "metadata": {},
   "outputs": [],
   "source": []
  },
  {
   "cell_type": "markdown",
   "metadata": {},
   "source": [
    "### np.all"
   ]
  },
  {
   "cell_type": "code",
   "execution_count": null,
   "metadata": {},
   "outputs": [],
   "source": []
  },
  {
   "cell_type": "markdown",
   "metadata": {},
   "source": [
    "### Multiple conditions"
   ]
  },
  {
   "cell_type": "code",
   "execution_count": null,
   "metadata": {},
   "outputs": [],
   "source": []
  },
  {
   "cell_type": "markdown",
   "metadata": {},
   "source": [
    "## Fancy indexing"
   ]
  },
  {
   "cell_type": "markdown",
   "metadata": {},
   "source": [
    "Instead of pass individual indices, we can pass array of indices all at once, and it will return a list of numbers"
   ]
  },
  {
   "cell_type": "code",
   "execution_count": null,
   "metadata": {},
   "outputs": [],
   "source": []
  },
  {
   "cell_type": "markdown",
   "metadata": {},
   "source": [
    "### Basic example"
   ]
  },
  {
   "cell_type": "code",
   "execution_count": null,
   "metadata": {},
   "outputs": [],
   "source": []
  },
  {
   "cell_type": "markdown",
   "metadata": {},
   "source": [
    "### Shape of fancy indexing"
   ]
  },
  {
   "cell_type": "code",
   "execution_count": null,
   "metadata": {},
   "outputs": [],
   "source": []
  },
  {
   "cell_type": "markdown",
   "metadata": {},
   "source": [
    "### Multiple dimension fancy indexing"
   ]
  },
  {
   "cell_type": "code",
   "execution_count": null,
   "metadata": {},
   "outputs": [],
   "source": []
  },
  {
   "cell_type": "markdown",
   "metadata": {},
   "source": [
    "### Combined indexing with indexing/slicing"
   ]
  },
  {
   "cell_type": "code",
   "execution_count": null,
   "metadata": {},
   "outputs": [],
   "source": []
  },
  {
   "cell_type": "markdown",
   "metadata": {},
   "source": [
    "### 3d"
   ]
  },
  {
   "cell_type": "code",
   "execution_count": null,
   "metadata": {},
   "outputs": [],
   "source": []
  },
  {
   "cell_type": "markdown",
   "metadata": {},
   "source": [
    "Modifying using fancy indexing"
   ]
  },
  {
   "cell_type": "code",
   "execution_count": null,
   "metadata": {},
   "outputs": [],
   "source": []
  },
  {
   "cell_type": "markdown",
   "metadata": {},
   "source": [
    "### === Task 5 ===\n",
    "\n",
    "1. Take the above variables <code>yhat</code> and <code>y</code>, sum up the counts when their corresponding value are the same.  Then divide this sum by $m$.  Called this variable <code>accuracy</code>\n",
    "\n",
    "2. Let's practice masking.  Convert <code>y</code> into <code>hot_encoded_y</code> matrix of shape <code>(X_train.shape[0], 4)</code>, where the column will be one according to its value, and other columns will be zero.  For example, if the first row is 1, then it will become 0 1 0 0.  If the second row is 2, then it will become 0 0 1 0\n",
    "\n",
    "3. Grab the data from <code>data = np.genfromtxt('../data/perceptron.csv', delimiter=',', skip_header=1)</code>\n",
    "    - set X to be all columns except last\n",
    "    - set y to be the last column\n",
    "    - select X where its corresponding y is 0\n",
    "    - select X where its corresponding y is 1\n",
    "    \n",
    "4. Grab the data from <code>iris = np.genfromtxt('../data/iris.csv', delimiter=',', encoding=\"utf-8\", dtype=None)</code>\n",
    "    - set iris_without_headers to all rows except the first row\n",
    "    - set sepal_length to second column of iris_without_headers\n",
    "    - set petal_length to fourth column of iris_without_headers\n",
    "    - print the shape of iris_without_headers where sepal_length is less than 5, and petal_length is greater than 1.5"
   ]
  },
  {
   "cell_type": "markdown",
   "metadata": {},
   "source": [
    "## Other useful stuff :)"
   ]
  },
  {
   "cell_type": "markdown",
   "metadata": {
    "tags": []
   },
   "source": [
    "#### np.transpose"
   ]
  },
  {
   "cell_type": "code",
   "execution_count": null,
   "metadata": {},
   "outputs": [],
   "source": []
  },
  {
   "cell_type": "code",
   "execution_count": null,
   "metadata": {},
   "outputs": [],
   "source": []
  },
  {
   "cell_type": "code",
   "execution_count": null,
   "metadata": {},
   "outputs": [],
   "source": []
  },
  {
   "cell_type": "markdown",
   "metadata": {},
   "source": [
    "### np.flatten"
   ]
  },
  {
   "cell_type": "code",
   "execution_count": null,
   "metadata": {},
   "outputs": [],
   "source": []
  },
  {
   "cell_type": "markdown",
   "metadata": {},
   "source": [
    "### np.squeeze"
   ]
  },
  {
   "cell_type": "code",
   "execution_count": null,
   "metadata": {},
   "outputs": [],
   "source": []
  },
  {
   "cell_type": "markdown",
   "metadata": {},
   "source": [
    "### np.argwhere"
   ]
  },
  {
   "cell_type": "code",
   "execution_count": null,
   "metadata": {},
   "outputs": [],
   "source": []
  },
  {
   "cell_type": "markdown",
   "metadata": {},
   "source": [
    "### np.argmax"
   ]
  },
  {
   "cell_type": "code",
   "execution_count": null,
   "metadata": {},
   "outputs": [],
   "source": []
  },
  {
   "cell_type": "markdown",
   "metadata": {},
   "source": [
    "### np.argsort"
   ]
  },
  {
   "cell_type": "code",
   "execution_count": null,
   "metadata": {},
   "outputs": [],
   "source": []
  }
 ],
 "metadata": {
  "kernelspec": {
   "display_name": "Python 3",
   "language": "python",
   "name": "python3"
  },
  "language_info": {
   "codemirror_mode": {
    "name": "ipython",
    "version": 3
   },
   "file_extension": ".py",
   "mimetype": "text/x-python",
   "name": "python",
   "nbconvert_exporter": "python",
   "pygments_lexer": "ipython3",
   "version": "3.8.6"
  }
 },
 "nbformat": 4,
 "nbformat_minor": 4
}
