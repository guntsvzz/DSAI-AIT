{
 "cells": [
  {
   "cell_type": "markdown",
   "metadata": {},
   "source": [
    "# Programming for Data Science and Artificial Intelligence"
   ]
  },
  {
   "cell_type": "markdown",
   "metadata": {},
   "source": [
    "### Classes"
   ]
  },
  {
   "cell_type": "markdown",
   "metadata": {},
   "source": [
    "Classes are the key features of object-oriented programming. A class is a structure for representing an object and the operations that can be performed on the object. \n",
    "\n",
    "In Python a class can contain *attributes* (variables) and *methods* (functions).\n",
    "\n",
    "A class is defined almost like a function, but using the `class` keyword, and the class definition usually contains a number of class method definitions (a function in a class).\n",
    "\n",
    "* **Each class method should have an argument `self` as it first argument. This object is a self-reference.**\n",
    "\n",
    "* Some class method names have special meaning, for example:\n",
    "\n",
    "    * `__init__`: The name of the method that is invoked when the object is first created.\n",
    "    * `__str__` : A method that is invoked when a simple string representation of the class is needed, as for example when printed.\n",
    "    * There are many more, see http://docs.python.org/2/reference/datamodel.html#special-method-names\n",
    "    * https://www.youtube.com/watch?v=rJzjDszODTI"
   ]
  },
  {
   "cell_type": "code",
   "execution_count": 43,
   "metadata": {},
   "outputs": [],
   "source": [
    "class Point:\n",
    "    \"\"\"\n",
    "    Simple class for representing a point in a Cartesian coordinate system.\n",
    "    \"\"\"\n",
    "    \n",
    "    def __init__(self, x, y):\n",
    "        \"\"\"\n",
    "        Create a new Point at x, y.\n",
    "        \"\"\"\n",
    "        self.x = x\n",
    "        self.y = y\n",
    "        \n",
    "    def translate(self, dx, dy):\n",
    "        \"\"\"\n",
    "        Translate the point by dx and dy in the x and y direction.\n",
    "        \"\"\"\n",
    "        self.x += dx\n",
    "        self.y += dy\n",
    "        \n",
    "    def __str__(self):\n",
    "        return(\"Point at [%f, %f]\" % (self.x, self.y))"
   ]
  },
  {
   "cell_type": "markdown",
   "metadata": {},
   "source": [
    "To create a new instance of a class:"
   ]
  },
  {
   "cell_type": "code",
   "execution_count": 44,
   "metadata": {},
   "outputs": [
    {
     "name": "stdout",
     "output_type": "stream",
     "text": [
      "1:  Point at [0.000000, 0.000000]\n"
     ]
    }
   ],
   "source": [
    "p1 = Point(0, 0) # this will invoke the __init__ method in the Point class\n",
    "\n",
    "print(\"1: \", p1)         # this will invoke the __str__ method"
   ]
  },
  {
   "cell_type": "markdown",
   "metadata": {},
   "source": [
    "To invoke a class method in the class instance `p`:"
   ]
  },
  {
   "cell_type": "code",
   "execution_count": 45,
   "metadata": {},
   "outputs": [
    {
     "name": "stdout",
     "output_type": "stream",
     "text": [
      "1:  Point at [0.250000, 1.500000]\n",
      "2:  Point at [1.000000, 1.000000]\n"
     ]
    }
   ],
   "source": [
    "p2 = Point(1, 1)\n",
    "\n",
    "p1.translate(0.25, 1.5)\n",
    "\n",
    "print(\"1: \", p1)\n",
    "print(\"2: \", p2)"
   ]
  },
  {
   "cell_type": "markdown",
   "metadata": {},
   "source": [
    "Another example"
   ]
  },
  {
   "cell_type": "code",
   "execution_count": 46,
   "metadata": {},
   "outputs": [
    {
     "name": "stdout",
     "output_type": "stream",
     "text": [
      "1: Radius is:  1\n",
      "2: Area is:  3.14\n",
      "3: Circumference is:  6.28\n"
     ]
    }
   ],
   "source": [
    "class Circle:\n",
    "    pi = 3.14\n",
    "\n",
    "    # Circle gets instantiated with a radius (default is 1)\n",
    "    def __init__(self, radius=1):\n",
    "        self.radius = radius \n",
    "        self.area = radius * radius * Circle.pi\n",
    "\n",
    "    # Method for resetting Radius\n",
    "    def setRadius(self, new_radius):\n",
    "        self.radius = new_radius\n",
    "        self.area = new_radius * new_radius * self.pi\n",
    "\n",
    "    # Method for getting Circumference\n",
    "    def getCircumference(self):\n",
    "        return self.radius * self.pi * 2\n",
    "\n",
    "\n",
    "c = Circle()\n",
    "\n",
    "print('1: Radius is: ',c.radius)\n",
    "print('2: Area is: ',c.area)\n",
    "print('3: Circumference is: ',c.getCircumference()) "
   ]
  },
  {
   "cell_type": "markdown",
   "metadata": {},
   "source": [
    "### === Task 6 ===\n",
    "\n",
    "1. Create a class called `class rectangle()`. This class includes the following functions:\n",
    "\n",
    "- `__init__()` where height and width of your rectangle are initiated. \n",
    "- `setHeight()` and `setWidth()` which allow you to change height and width of your rectangle.\n",
    "- `getArea()` where the area of your rectangle is returned."
   ]
  },
  {
   "cell_type": "markdown",
   "metadata": {},
   "source": [
    "### Try/Except\n",
    "Every programming language has a form of Error handling.\n",
    "\n",
    "[link](https://www.section.io/engineering-education/exceptions-and-error/)\n",
    "\n",
    "What is Error?\n",
    "\n",
    "Here are they."
   ]
  },
  {
   "cell_type": "markdown",
   "metadata": {},
   "source": [
    "#### Error"
   ]
  },
  {
   "cell_type": "code",
   "execution_count": 1,
   "metadata": {},
   "outputs": [
    {
     "ename": "NameError",
     "evalue": "name 'a' is not defined",
     "output_type": "error",
     "traceback": [
      "\u001b[0;31m---------------------------------------------------------------------------\u001b[0m",
      "\u001b[0;31mNameError\u001b[0m                                 Traceback (most recent call last)",
      "\u001b[1;32m/root/projects/Lectures/01-Bootcamp/05 - Classes and try-except.ipynb Cell 13\u001b[0m in \u001b[0;36m<cell line: 1>\u001b[0;34m()\u001b[0m\n\u001b[0;32m----> <a href='vscode-notebook-cell://attached-container%2B7b22636f6e7461696e65724e616d65223a222f707974686f6e2d666f722d646174612d736369656e63652d707974686f6e2d31227d/root/projects/Lectures/01-Bootcamp/05%20-%20Classes%20and%20try-except.ipynb#ch0000013vscode-remote?line=0'>1</a>\u001b[0m a\n",
      "\u001b[0;31mNameError\u001b[0m: name 'a' is not defined"
     ]
    }
   ],
   "source": [
    "a"
   ]
  },
  {
   "cell_type": "code",
   "execution_count": 2,
   "metadata": {},
   "outputs": [
    {
     "ename": "ZeroDivisionError",
     "evalue": "division by zero",
     "output_type": "error",
     "traceback": [
      "\u001b[0;31m---------------------------------------------------------------------------\u001b[0m",
      "\u001b[0;31mZeroDivisionError\u001b[0m                         Traceback (most recent call last)",
      "\u001b[1;32m/root/projects/Lectures/01-Bootcamp/05 - Classes and try-except.ipynb Cell 14\u001b[0m in \u001b[0;36m<cell line: 1>\u001b[0;34m()\u001b[0m\n\u001b[0;32m----> <a href='vscode-notebook-cell://attached-container%2B7b22636f6e7461696e65724e616d65223a222f707974686f6e2d666f722d646174612d736369656e63652d707974686f6e2d31227d/root/projects/Lectures/01-Bootcamp/05%20-%20Classes%20and%20try-except.ipynb#ch0000014vscode-remote?line=0'>1</a>\u001b[0m \u001b[39m1\u001b[39;49m\u001b[39m/\u001b[39;49m\u001b[39m0\u001b[39;49m\n",
      "\u001b[0;31mZeroDivisionError\u001b[0m: division by zero"
     ]
    }
   ],
   "source": [
    "1/0"
   ]
  },
  {
   "cell_type": "code",
   "execution_count": 4,
   "metadata": {},
   "outputs": [
    {
     "ename": "SyntaxError",
     "evalue": "invalid syntax (228233014.py, line 1)",
     "output_type": "error",
     "traceback": [
      "\u001b[0;36m  Input \u001b[0;32mIn [4]\u001b[0;36m\u001b[0m\n\u001b[0;31m    while True print('a')\u001b[0m\n\u001b[0m               ^\u001b[0m\n\u001b[0;31mSyntaxError\u001b[0m\u001b[0;31m:\u001b[0m invalid syntax\n"
     ]
    }
   ],
   "source": [
    "while True print('a')"
   ]
  },
  {
   "cell_type": "markdown",
   "metadata": {},
   "source": [
    "Look closer to the Error. It consists of two sections. (1) Traceback and (2) Message\n",
    "\n",
    "Imagine a code is executing. It executes from top to bottom. If thing runs smoothly, that is happy ending. However, if computer/interpreter facing an unexpected event, what should it do?\n",
    "\n",
    "Imagine you are asked by your mom to go shopping for 1 Kg of tomatoes. Your mom gives you 100 baht to do so. At the time you have arrived the store, the 1 Kg of tomatoes is actually costing 200 baht. Oh no, it does not go as expected. What should you do? (1) you could assume that a 0.5 Kg should be fine and risk that your mom might get upset later when she knows you do not deliver what she wants. Or (2) you could call your mom and tell her what went wrong in the process.\n",
    "\n",
    "The second option is the same as Error message. The computer wants to tell you something went wrong (Error message) and try to explain what happened (Traceback).\n",
    "\n",
    "The above errors I showed you are easy to fix. Once fixed, it most likely never occur again. So did we handle errors yet? Yes and no.\n",
    "\n",
    "Before we understand why, let's see where does these errors come from."
   ]
  },
  {
   "cell_type": "code",
   "execution_count": 8,
   "metadata": {},
   "outputs": [
    {
     "ename": "ZeroDivisionError",
     "evalue": "Hey, you can not divide anything with 0. FIX IT!!!",
     "output_type": "error",
     "traceback": [
      "\u001b[0;31m---------------------------------------------------------------------------\u001b[0m",
      "\u001b[0;31mZeroDivisionError\u001b[0m                         Traceback (most recent call last)",
      "\u001b[1;32m/root/projects/Lectures/01-Bootcamp/05 - Classes and try-except.ipynb Cell 18\u001b[0m in \u001b[0;36m<cell line: 1>\u001b[0;34m()\u001b[0m\n\u001b[0;32m----> <a href='vscode-notebook-cell://attached-container%2B7b22636f6e7461696e65724e616d65223a222f707974686f6e2d666f722d646174612d736369656e63652d707974686f6e2d31227d/root/projects/Lectures/01-Bootcamp/05%20-%20Classes%20and%20try-except.ipynb#ch0000019vscode-remote?line=0'>1</a>\u001b[0m \u001b[39mraise\u001b[39;00m \u001b[39mZeroDivisionError\u001b[39;00m(\u001b[39m\"\u001b[39m\u001b[39mHey, you can not divide anything with 0. FIX IT!!!\u001b[39m\u001b[39m\"\u001b[39m)\n",
      "\u001b[0;31mZeroDivisionError\u001b[0m: Hey, you can not divide anything with 0. FIX IT!!!"
     ]
    }
   ],
   "source": [
    "raise ZeroDivisionError(\"Hey, you can not divide anything with 0. FIX IT!!!\")"
   ]
  },
  {
   "cell_type": "markdown",
   "metadata": {},
   "source": [
    "At some point of the execution, someone writes this, `raise`. This follow by the type of error with error message is causing the red text. This `raise` will stop all the execution and report immediately."
   ]
  },
  {
   "cell_type": "code",
   "execution_count": 51,
   "metadata": {},
   "outputs": [
    {
     "name": "stdout",
     "output_type": "stream",
     "text": [
      "My mom told me to go shopping\n",
      "My mom gave me 100 baht\n",
      "The tomatoes are 200 baht\n"
     ]
    },
    {
     "ename": "ValueError",
     "evalue": "I don't have enough money",
     "output_type": "error",
     "traceback": [
      "\u001b[0;31m---------------------------------------------------------------------------\u001b[0m",
      "\u001b[0;31mValueError\u001b[0m                                Traceback (most recent call last)",
      "\u001b[1;32m/root/projects/Lectures/01-Bootcamp/05 - Classes and try-except.ipynb Cell 20\u001b[0m in \u001b[0;36m<cell line: 4>\u001b[0;34m()\u001b[0m\n\u001b[1;32m      <a href='vscode-notebook-cell://attached-container%2B7b22636f6e7461696e65724e616d65223a222f707974686f6e2d666f722d646174612d736369656e63652d707974686f6e2d31227d/root/projects/Lectures/01-Bootcamp/05%20-%20Classes%20and%20try-except.ipynb#ch0000021vscode-remote?line=1'>2</a>\u001b[0m \u001b[39mprint\u001b[39m(\u001b[39m'\u001b[39m\u001b[39mMy mom gave me 100 baht\u001b[39m\u001b[39m'\u001b[39m)\n\u001b[1;32m      <a href='vscode-notebook-cell://attached-container%2B7b22636f6e7461696e65724e616d65223a222f707974686f6e2d666f722d646174612d736369656e63652d707974686f6e2d31227d/root/projects/Lectures/01-Bootcamp/05%20-%20Classes%20and%20try-except.ipynb#ch0000021vscode-remote?line=2'>3</a>\u001b[0m \u001b[39mprint\u001b[39m(\u001b[39m'\u001b[39m\u001b[39mThe tomatoes are 200 baht\u001b[39m\u001b[39m'\u001b[39m)\n\u001b[0;32m----> <a href='vscode-notebook-cell://attached-container%2B7b22636f6e7461696e65724e616d65223a222f707974686f6e2d666f722d646174612d736369656e63652d707974686f6e2d31227d/root/projects/Lectures/01-Bootcamp/05%20-%20Classes%20and%20try-except.ipynb#ch0000021vscode-remote?line=3'>4</a>\u001b[0m \u001b[39mraise\u001b[39;00m \u001b[39mValueError\u001b[39;00m(\u001b[39m\"\u001b[39m\u001b[39mI don\u001b[39m\u001b[39m'\u001b[39m\u001b[39mt have enough money\u001b[39m\u001b[39m\"\u001b[39m)\n\u001b[1;32m      <a href='vscode-notebook-cell://attached-container%2B7b22636f6e7461696e65724e616d65223a222f707974686f6e2d666f722d646174612d736369656e63652d707974686f6e2d31227d/root/projects/Lectures/01-Bootcamp/05%20-%20Classes%20and%20try-except.ipynb#ch0000021vscode-remote?line=4'>5</a>\u001b[0m \u001b[39mprint\u001b[39m(\u001b[39m'\u001b[39m\u001b[39mI got the tomatoes\u001b[39m\u001b[39m'\u001b[39m)\n\u001b[1;32m      <a href='vscode-notebook-cell://attached-container%2B7b22636f6e7461696e65724e616d65223a222f707974686f6e2d666f722d646174612d736369656e63652d707974686f6e2d31227d/root/projects/Lectures/01-Bootcamp/05%20-%20Classes%20and%20try-except.ipynb#ch0000021vscode-remote?line=5'>6</a>\u001b[0m \u001b[39mprint\u001b[39m(\u001b[39m'\u001b[39m\u001b[39mHappy ending\u001b[39m\u001b[39m'\u001b[39m)\n",
      "\u001b[0;31mValueError\u001b[0m: I don't have enough money"
     ]
    }
   ],
   "source": [
    "print('My mom told me to go shopping')\n",
    "print('My mom gave me 100 baht')\n",
    "print('The tomatoes are 200 baht')\n",
    "raise ValueError(\"I don't have enough money\")\n",
    "print('I got the tomatoes')\n",
    "print('Happy ending')"
   ]
  },
  {
   "cell_type": "markdown",
   "metadata": {},
   "source": [
    "Facing an error at development phase is fine. It does not affect anything but you, the coder. However, when error happens, the program stops running. This mean every time something goes wrong, the computer will seek your attention.\n",
    "\n",
    "To prevent the code from stop running, we use Try/Except"
   ]
  },
  {
   "cell_type": "code",
   "execution_count": 52,
   "metadata": {},
   "outputs": [
    {
     "name": "stdout",
     "output_type": "stream",
     "text": [
      "My mom told me to go shopping\n",
      "My mom gave me 100 baht\n",
      "The tomatoes are 200 baht\n",
      "call my mom for more money\n",
      "I got the tomatoes\n",
      "Happy ending\n"
     ]
    }
   ],
   "source": [
    "print('My mom told me to go shopping')\n",
    "print('My mom gave me 100 baht')\n",
    "try:\n",
    "    print('The tomatoes are 200 baht')\n",
    "    raise ValueError(\"I don't have enough money\")\n",
    "except ValueError as e:\n",
    "    print('call my mom for more money')\n",
    "\n",
    "print('I got the tomatoes')\n",
    "print('Happy ending')"
   ]
  },
  {
   "cell_type": "markdown",
   "metadata": {},
   "source": [
    "In the above scenario, I use try/except to fix the error during run time. Sure, you can write if/else to check whether you have enough money before buying tomatoes.\n",
    "\n",
    "Here is the equivalent (sort of) piece of code."
   ]
  },
  {
   "cell_type": "code",
   "execution_count": 53,
   "metadata": {},
   "outputs": [
    {
     "name": "stdout",
     "output_type": "stream",
     "text": [
      "My mom told me to go shopping\n",
      "My mom gave me 100 baht\n",
      "The tomatoes are 200 baht\n",
      "call my mom for more money\n",
      "I got the tomatoes\n",
      "Happy ending\n"
     ]
    }
   ],
   "source": [
    "print('My mom told me to go shopping')\n",
    "print('My mom gave me 100 baht')\n",
    "wallet = 100\n",
    "print('The tomatoes are 200 baht')\n",
    "tomatoes = 200\n",
    "if(tomatoes > wallet):\n",
    "    print('call my mom for more money')\n",
    "print('I got the tomatoes')\n",
    "print('Happy ending')"
   ]
  },
  {
   "cell_type": "markdown",
   "metadata": {},
   "source": [
    "You can always use if/else to pre-handle the error and prevent it from happening. Which is doable. However, to me there are drawbacks.\n",
    "\n",
    "1. Your code will have a hundred of if/else which reduce the readability of your code. When you see a section of if/else, is it a part of business logic or error handling.\n",
    "2. You will never prevent every possible errors.\n",
    "\n",
    "What if there is no tomato? In the try/except you can except *any* error\n",
    "\n",
    "Before that, I will encapsulate the purchasing function for the code to look sensible."
   ]
  },
  {
   "cell_type": "code",
   "execution_count": 50,
   "metadata": {},
   "outputs": [],
   "source": [
    "def buy_tomato(buyer_wallet: int, tomatoes_cost: int) -> bool:\n",
    "    if(tomatoes_cost == None):\n",
    "        # This mean there is not tomatoes\n",
    "        raise RuntimeError(\"There is no tomatoes\")\n",
    "    if(tomatoes_cost > buyer_wallet):\n",
    "        # If the tomatoes is more expensive than buyer can effort\n",
    "        raise ValueError(\"I don't have enough money\")\n",
    "    \n",
    "    return True\n",
    "    "
   ]
  },
  {
   "cell_type": "code",
   "execution_count": 40,
   "metadata": {},
   "outputs": [
    {
     "name": "stdout",
     "output_type": "stream",
     "text": [
      "My mom told me to go shopping\n",
      "My mom gave me 100 baht\n",
      "There is no tomatoes\n",
      "There is no tomatoes\n",
      "Happy ending\n"
     ]
    }
   ],
   "source": [
    "print('My mom told me to go shopping')\n",
    "print('My mom gave me 100 baht')\n",
    "wallet = 100\n",
    "print('There is no tomatoes')\n",
    "tomatoes = None\n",
    "try:\n",
    "    buy_tomato(buyer_wallet=wallet, tomatoes_cost=tomatoes)\n",
    "except ValueError as e:\n",
    "    print('call my mom for more money')\n",
    "    print('I got the tomatoes')\n",
    "except Exception as e:\n",
    "    print(e)\n",
    "\n",
    "print('Happy ending')"
   ]
  },
  {
   "cell_type": "markdown",
   "metadata": {},
   "source": [
    "The `Exception` is the root of all exception/error in Python. \n",
    "\n",
    "![alt](https://www.section.io/engineering-education/exceptions-and-error/exception_hierarchy.png)"
   ]
  },
  {
   "cell_type": "code",
   "execution_count": 41,
   "metadata": {},
   "outputs": [
    {
     "name": "stdout",
     "output_type": "stream",
     "text": [
      "My mom told me to go shopping\n",
      "My mom gave me 100 baht\n",
      "There is no tomatoes\n",
      "I don't have enough money\n",
      "Happy ending\n"
     ]
    }
   ],
   "source": [
    "print('My mom told me to go shopping')\n",
    "print('My mom gave me 100 baht')\n",
    "wallet = 100\n",
    "print('There is no tomatoes')\n",
    "tomatoes = 200\n",
    "try:\n",
    "    buy_tomato(buyer_wallet=wallet, tomatoes_cost=tomatoes)\n",
    "except Exception as e: # Here I switch the order of the `expect`. and although the actual error is ValueError, this except will handle first becuse ValueError is a kind of Exception.\n",
    "    print(e)\n",
    "except ValueError as e:\n",
    "    print('call my mom for more money')\n",
    "    print('I got the tomatoes')\n",
    "\n",
    "print('Happy ending')\n"
   ]
  },
  {
   "cell_type": "code",
   "execution_count": 42,
   "metadata": {},
   "outputs": [
    {
     "name": "stdout",
     "output_type": "stream",
     "text": [
      "My mom told me to go shopping\n",
      "My mom gave me 100 baht\n",
      "There is no tomatoes\n",
      "call my mom for more money\n",
      "I got the tomotes\n",
      "Happy ending\n"
     ]
    }
   ],
   "source": [
    "print('My mom told me to go shopping')\n",
    "print('My mom gave me 100 baht')\n",
    "wallet = 100\n",
    "print('There is no tomatoes')\n",
    "tomatoes = 200\n",
    "try:\n",
    "    buy_tomato(buyer_wallet=wallet, tomatoes_cost=tomatoes)\n",
    "except ValueError as e: # Switch back to prove\n",
    "    print('call my mom for more money')\n",
    "    print('I got the tomatoes')\n",
    "except Exception as e:\n",
    "    print(e)\n",
    "\n",
    "print('Happy ending')"
   ]
  },
  {
   "cell_type": "markdown",
   "metadata": {},
   "source": [
    "In some events, there might be an action that is required no matter what. For instance, if you open a file for read and write then the file have to be close at the end no matter what.\n",
    "\n",
    "In this shopping scenario, you have to go home with or without the tomatoes. To do that, we use `finally`."
   ]
  },
  {
   "cell_type": "code",
   "execution_count": 43,
   "metadata": {},
   "outputs": [
    {
     "name": "stdout",
     "output_type": "stream",
     "text": [
      "My mom told me to go shopping\n",
      "My mom gave me 100 baht\n",
      "There is no tomatoes\n",
      "call my mom for more money\n",
      "I got the tomotes\n",
      "I go home\n",
      "Happy ending\n"
     ]
    }
   ],
   "source": [
    "print('My mom told me to go shopping')\n",
    "print('My mom gave me 100 baht')\n",
    "wallet = 100\n",
    "print('There is no tomatoes')\n",
    "tomatoes = 200\n",
    "try:\n",
    "    buy_tomato(buyer_wallet=wallet, tomatoes_cost=tomatoes)\n",
    "except ValueError as e:\n",
    "    print('call my mom for more money')\n",
    "    print('I got the tomatoes')\n",
    "except Exception as e:\n",
    "    print(e)\n",
    "finally:\n",
    "    print('I go home')\n",
    "    \n",
    "print('Happy ending')"
   ]
  },
  {
   "cell_type": "markdown",
   "metadata": {},
   "source": [
    "Now, you ask. It is always 'happy ending' this mean we don't need `finally` to ensure code execution, right?\n",
    "\n",
    "Then, what happen if you call your mon, and she says no money for you."
   ]
  },
  {
   "cell_type": "code",
   "execution_count": 44,
   "metadata": {},
   "outputs": [
    {
     "name": "stdout",
     "output_type": "stream",
     "text": [
      "My mom told me to go shopping\n",
      "My mom gave me 100 baht\n",
      "There is no tomatoes\n",
      "call my mom for more money\n",
      "I go home\n"
     ]
    },
    {
     "ename": "RuntimeError",
     "evalue": "No money for you",
     "output_type": "error",
     "traceback": [
      "\u001b[0;31m---------------------------------------------------------------------------\u001b[0m",
      "\u001b[0;31mValueError\u001b[0m                                Traceback (most recent call last)",
      "\u001b[1;32m/root/projects/Lectures/01-Bootcamp/05 - Classes and try-except.ipynb Cell 34\u001b[0m in \u001b[0;36m<cell line: 6>\u001b[0;34m()\u001b[0m\n\u001b[1;32m      <a href='vscode-notebook-cell://attached-container%2B7b22636f6e7461696e65724e616d65223a222f707974686f6e2d666f722d646174612d736369656e63652d707974686f6e2d31227d/root/projects/Lectures/01-Bootcamp/05%20-%20Classes%20and%20try-except.ipynb#ch0000036vscode-remote?line=5'>6</a>\u001b[0m \u001b[39mtry\u001b[39;00m:\n\u001b[0;32m----> <a href='vscode-notebook-cell://attached-container%2B7b22636f6e7461696e65724e616d65223a222f707974686f6e2d666f722d646174612d736369656e63652d707974686f6e2d31227d/root/projects/Lectures/01-Bootcamp/05%20-%20Classes%20and%20try-except.ipynb#ch0000036vscode-remote?line=6'>7</a>\u001b[0m     buy_tomato(buyer_wallet\u001b[39m=\u001b[39;49mwallet, tomatoes_cost\u001b[39m=\u001b[39;49mtomatoes)\n\u001b[1;32m      <a href='vscode-notebook-cell://attached-container%2B7b22636f6e7461696e65724e616d65223a222f707974686f6e2d666f722d646174612d736369656e63652d707974686f6e2d31227d/root/projects/Lectures/01-Bootcamp/05%20-%20Classes%20and%20try-except.ipynb#ch0000036vscode-remote?line=7'>8</a>\u001b[0m \u001b[39mexcept\u001b[39;00m \u001b[39mValueError\u001b[39;00m \u001b[39mas\u001b[39;00m e: \u001b[39m# Switch back to prove\u001b[39;00m\n",
      "\u001b[1;32m/root/projects/Lectures/01-Bootcamp/05 - Classes and try-except.ipynb Cell 34\u001b[0m in \u001b[0;36mbuy_tomato\u001b[0;34m(buyer_wallet, tomatoes_cost)\u001b[0m\n\u001b[1;32m      <a href='vscode-notebook-cell://attached-container%2B7b22636f6e7461696e65724e616d65223a222f707974686f6e2d666f722d646174612d736369656e63652d707974686f6e2d31227d/root/projects/Lectures/01-Bootcamp/05%20-%20Classes%20and%20try-except.ipynb#ch0000036vscode-remote?line=4'>5</a>\u001b[0m \u001b[39mif\u001b[39;00m(tomatoes_cost \u001b[39m>\u001b[39m buyer_wallet):\n\u001b[1;32m      <a href='vscode-notebook-cell://attached-container%2B7b22636f6e7461696e65724e616d65223a222f707974686f6e2d666f722d646174612d736369656e63652d707974686f6e2d31227d/root/projects/Lectures/01-Bootcamp/05%20-%20Classes%20and%20try-except.ipynb#ch0000036vscode-remote?line=5'>6</a>\u001b[0m     \u001b[39m# If the tomatoes is more expensive than buyer can afford\u001b[39;00m\n\u001b[0;32m----> <a href='vscode-notebook-cell://attached-container%2B7b22636f6e7461696e65724e616d65223a222f707974686f6e2d666f722d646174612d736369656e63652d707974686f6e2d31227d/root/projects/Lectures/01-Bootcamp/05%20-%20Classes%20and%20try-except.ipynb#ch0000036vscode-remote?line=6'>7</a>\u001b[0m     \u001b[39mraise\u001b[39;00m \u001b[39mValueError\u001b[39;00m(\u001b[39m\"\u001b[39m\u001b[39mI don\u001b[39m\u001b[39m'\u001b[39m\u001b[39mt have enough money\u001b[39m\u001b[39m\"\u001b[39m)\n\u001b[1;32m      <a href='vscode-notebook-cell://attached-container%2B7b22636f6e7461696e65724e616d65223a222f707974686f6e2d666f722d646174612d736369656e63652d707974686f6e2d31227d/root/projects/Lectures/01-Bootcamp/05%20-%20Classes%20and%20try-except.ipynb#ch0000036vscode-remote?line=8'>9</a>\u001b[0m \u001b[39mreturn\u001b[39;00m \u001b[39mTrue\u001b[39;00m\n",
      "\u001b[0;31mValueError\u001b[0m: I don't have enough money",
      "\nDuring handling of the above exception, another exception occurred:\n",
      "\u001b[0;31mRuntimeError\u001b[0m                              Traceback (most recent call last)",
      "\u001b[1;32m/root/projects/Lectures/01-Bootcamp/05 - Classes and try-except.ipynb Cell 34\u001b[0m in \u001b[0;36m<cell line: 6>\u001b[0;34m()\u001b[0m\n\u001b[1;32m      <a href='vscode-notebook-cell://attached-container%2B7b22636f6e7461696e65724e616d65223a222f707974686f6e2d666f722d646174612d736369656e63652d707974686f6e2d31227d/root/projects/Lectures/01-Bootcamp/05%20-%20Classes%20and%20try-except.ipynb#ch0000036vscode-remote?line=7'>8</a>\u001b[0m \u001b[39mexcept\u001b[39;00m \u001b[39mValueError\u001b[39;00m \u001b[39mas\u001b[39;00m e: \u001b[39m# Switch back to prove\u001b[39;00m\n\u001b[1;32m      <a href='vscode-notebook-cell://attached-container%2B7b22636f6e7461696e65724e616d65223a222f707974686f6e2d666f722d646174612d736369656e63652d707974686f6e2d31227d/root/projects/Lectures/01-Bootcamp/05%20-%20Classes%20and%20try-except.ipynb#ch0000036vscode-remote?line=8'>9</a>\u001b[0m     \u001b[39mprint\u001b[39m(\u001b[39m'\u001b[39m\u001b[39mcall my mom for more money\u001b[39m\u001b[39m'\u001b[39m)\n\u001b[0;32m---> <a href='vscode-notebook-cell://attached-container%2B7b22636f6e7461696e65724e616d65223a222f707974686f6e2d666f722d646174612d736369656e63652d707974686f6e2d31227d/root/projects/Lectures/01-Bootcamp/05%20-%20Classes%20and%20try-except.ipynb#ch0000036vscode-remote?line=9'>10</a>\u001b[0m     \u001b[39mraise\u001b[39;00m \u001b[39mRuntimeError\u001b[39;00m(\u001b[39m\"\u001b[39m\u001b[39mNo money for you\u001b[39m\u001b[39m\"\u001b[39m)\n\u001b[1;32m     <a href='vscode-notebook-cell://attached-container%2B7b22636f6e7461696e65724e616d65223a222f707974686f6e2d666f722d646174612d736369656e63652d707974686f6e2d31227d/root/projects/Lectures/01-Bootcamp/05%20-%20Classes%20and%20try-except.ipynb#ch0000036vscode-remote?line=10'>11</a>\u001b[0m     \u001b[39mprint\u001b[39m(\u001b[39m'\u001b[39m\u001b[39mI got the tomotes\u001b[39m\u001b[39m'\u001b[39m)\n\u001b[1;32m     <a href='vscode-notebook-cell://attached-container%2B7b22636f6e7461696e65724e616d65223a222f707974686f6e2d666f722d646174612d736369656e63652d707974686f6e2d31227d/root/projects/Lectures/01-Bootcamp/05%20-%20Classes%20and%20try-except.ipynb#ch0000036vscode-remote?line=11'>12</a>\u001b[0m \u001b[39mexcept\u001b[39;00m \u001b[39mException\u001b[39;00m \u001b[39mas\u001b[39;00m e:\n",
      "\u001b[0;31mRuntimeError\u001b[0m: No money for you"
     ]
    }
   ],
   "source": [
    "print('My mom told me to go shopping')\n",
    "print('My mom gave me 100 baht')\n",
    "wallet = 100\n",
    "print('There is no tomatoes')\n",
    "tomatoes = 200\n",
    "try:\n",
    "    buy_tomato(buyer_wallet=wallet, tomatoes_cost=tomatoes)\n",
    "except ValueError as e:\n",
    "    print('call my mom for more money')\n",
    "    raise RuntimeError(\"No money for you\")\n",
    "    print('I got the tomatoes')\n",
    "except Exception as e:\n",
    "    print(e)\n",
    "finally:\n",
    "    print('I go home')\n",
    "    \n",
    "print('Happy ending')"
   ]
  },
  {
   "cell_type": "markdown",
   "metadata": {},
   "source": [
    "You see, this is not a happy ending because you don't get the money. Therefore, no tomato.\n",
    "\n",
    "But no matter what happen, you go home.\n",
    "\n",
    "Lastly, `else` is used when thing goes smoothly"
   ]
  },
  {
   "cell_type": "code",
   "execution_count": 57,
   "metadata": {},
   "outputs": [
    {
     "name": "stdout",
     "output_type": "stream",
     "text": [
      "My mom told me to go shopping\n",
      "My mom gave me 100 baht\n",
      "There is no tomatoes\n",
      "I got the tomatoes\n",
      "I go home\n",
      "Happy ending\n"
     ]
    }
   ],
   "source": [
    "print('My mom told me to go shopping')\n",
    "print('My mom gave me 100 baht')\n",
    "wallet = 100\n",
    "print('There is no tomatoes')\n",
    "tomatoes = 100\n",
    "try:\n",
    "    buy_tomato(buyer_wallet=wallet, tomatoes_cost=tomatoes)\n",
    "except ValueError as e:\n",
    "    print('call my mom for more money')\n",
    "    raise RuntimeError(\"No money for you\")\n",
    "except Exception as e:\n",
    "    print(e)\n",
    "else:\n",
    "    # you got the tomatoes only when you have enough money\n",
    "    print('I got the tomatoes')\n",
    "finally:\n",
    "    print('I go home')\n",
    "    \n",
    "print('Happy ending')"
   ]
  },
  {
   "cell_type": "markdown",
   "metadata": {},
   "source": [
    "Honestly, I just know there is `else` in `try/except` of Python, and I could not think of how does it really make sense. But then I remember what does `try/except` help for me.\n",
    "\n",
    "`try/except` helps me to read and understand what line does what. If you know all the convention then you don't really need to read my comment. There is less time to figure out what is happening here.\n",
    "\n",
    "In this sense, `try` block is used when this code or section of codes is likely to have an error. `except _ as e` is what the coder knew at the time of writing the code. `except` is usually used for logging information in the production. `finally` is what needed to run no matter what. And, `else` is when try is success and should not have any error anymore or if it does, write another `try/except`."
   ]
  },
  {
   "cell_type": "markdown",
   "metadata": {},
   "source": [
    "### === Task 6 ===\n",
    "\n",
    "1. Write a function to compute 5/0 and use `try/except` to catch the exceptions."
   ]
  },
  {
   "cell_type": "markdown",
   "metadata": {},
   "source": [
    "# Happy Ending"
   ]
  },
  {
   "cell_type": "markdown",
   "metadata": {},
   "source": [
    "Finally, it does not mean that without function, class, and try-except, you can not write a workable code. Because, in the end, what user sees is the output not the code, if the code suck, but it works, it works. \n",
    "\n",
    "But will your project scalable? Will it be easy to debug? Will your teammate be happy to fix your code?\n",
    "\n",
    "Writing a good code is not a must but should. Just like you don't need to be polite, but you should. "
   ]
  }
 ],
 "metadata": {
  "kernelspec": {
   "display_name": "Python 3.10.4 64-bit",
   "language": "python",
   "name": "python3"
  },
  "language_info": {
   "codemirror_mode": {
    "name": "ipython",
    "version": 3
   },
   "file_extension": ".py",
   "mimetype": "text/x-python",
   "name": "python",
   "nbconvert_exporter": "python",
   "pygments_lexer": "ipython3",
   "version": "3.10.4"
  },
  "vscode": {
   "interpreter": {
    "hash": "c81d839d3c4227cd770621df97fe8191838af02e7eef185a922d8250cb33d344"
   }
  }
 },
 "nbformat": 4,
 "nbformat_minor": 4
}
