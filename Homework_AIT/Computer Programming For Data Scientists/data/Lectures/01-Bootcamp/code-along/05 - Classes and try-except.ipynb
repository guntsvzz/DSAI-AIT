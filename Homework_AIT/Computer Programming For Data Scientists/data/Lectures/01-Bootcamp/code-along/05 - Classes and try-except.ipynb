{
 "cells": [
  {
   "cell_type": "markdown",
   "metadata": {},
   "source": [
    "# Programming for Data Science and Artificial Intelligence"
   ]
  },
  {
   "cell_type": "markdown",
   "metadata": {},
   "source": [
    "Morning exercise! 9:00 - 9:15"
   ]
  },
  {
   "cell_type": "code",
   "execution_count": 49,
   "metadata": {},
   "outputs": [
    {
     "name": "stdout",
     "output_type": "stream",
     "text": [
      "*\n",
      "**\n",
      "***\n",
      "****\n",
      "*****\n"
     ]
    }
   ],
   "source": [
    "#first, print something like this\n",
    "\n",
    "'''\n",
    "*\n",
    "**\n",
    "***\n",
    "****\n",
    "*****\n",
    "'''\n",
    "\n",
    "for i in range(1, 6):\n",
    "    print(i * \"*\")"
   ]
  },
  {
   "cell_type": "code",
   "execution_count": 50,
   "metadata": {},
   "outputs": [
    {
     "name": "stdout",
     "output_type": "stream",
     "text": [
      "*****\n",
      "****\n",
      "***\n",
      "**\n",
      "*\n"
     ]
    }
   ],
   "source": [
    "#second, print something like this\n",
    "'''\n",
    "*****\n",
    "****\n",
    "***\n",
    "**\n",
    "*\n",
    "'''\n",
    "\n",
    "for i in range(5, 0, -1):\n",
    "    print(i * \"*\")"
   ]
  },
  {
   "cell_type": "code",
   "execution_count": null,
   "metadata": {},
   "outputs": [],
   "source": [
    "#challenge - you don't have to do this\n",
    "'''\n",
    "  *\n",
    " ***\n",
    "*****\n",
    "'''\n",
    "\n",
    "#height = 3\n",
    "\n",
    "#i have to print 1, 3, 5 stars        ===> range(0, height)  ==> 0, 1, 2   ===> 2i + 1;   2(0) + 1 = 0;   2(1) + 1 = 3;  2(2) + 1 = 5\n",
    "#i have to print the space, 2, 1, 0   ===> range(height - 1, -1, -1)"
   ]
  },
  {
   "cell_type": "code",
   "execution_count": 51,
   "metadata": {},
   "outputs": [
    {
     "name": "stdout",
     "output_type": "stream",
     "text": [
      "1\n",
      "3\n",
      "5\n"
     ]
    }
   ],
   "source": [
    "height = 3\n",
    "\n",
    "#print the stars\n",
    "for i in range(0, height):\n",
    "    print(2 * i + 1)"
   ]
  },
  {
   "cell_type": "code",
   "execution_count": 52,
   "metadata": {},
   "outputs": [
    {
     "name": "stdout",
     "output_type": "stream",
     "text": [
      "2\n",
      "1\n",
      "0\n"
     ]
    }
   ],
   "source": [
    "#try printing the space\n",
    "for i in range(height - 1, -1, -1):\n",
    "    print(i)"
   ]
  },
  {
   "cell_type": "code",
   "execution_count": 59,
   "metadata": {},
   "outputs": [
    {
     "name": "stdout",
     "output_type": "stream",
     "text": [
      "   *\n",
      "  ***\n",
      " *****\n"
     ]
    }
   ],
   "source": [
    "for i in range(0, height):\n",
    "    for j in range(height - i):   #when i = 0, height - i = 3, j = 2;  when i = 1, height - i = 2, j = 1; when i = 2, height - i = 1, j = 0\n",
    "        print(\" \", end='')\n",
    "    stars = 2 * i + 1\n",
    "    print(\"*\" * stars)"
   ]
  },
  {
   "cell_type": "markdown",
   "metadata": {},
   "source": [
    "9:45 - 10:00 (I need to go to some hearings - NSTDA)"
   ]
  },
  {
   "cell_type": "markdown",
   "metadata": {},
   "source": [
    "## Class"
   ]
  },
  {
   "cell_type": "markdown",
   "metadata": {},
   "source": [
    "Recall that \n",
    "\n",
    "- function is a bunch of code that can be reused\n",
    "- class is a bunch of functions and data that can be reused"
   ]
  },
  {
   "cell_type": "code",
   "execution_count": 75,
   "metadata": {},
   "outputs": [],
   "source": [
    "#structure of a class\n",
    "\n",
    "#you start with a class follow name (capital letter)\n",
    "\n",
    "#inside every class, there is a variable called self, which refers to itself...\n",
    "\n",
    "#in every function, at least one argument must start with self\n",
    "\n",
    "class Circle:\n",
    "    \n",
    "    PI     = 3.14  #class variable\n",
    "    border = \"black\"\n",
    "    \n",
    "    #the first default function you need to have is __init__ (you MUST have; and you cannot change the name)\n",
    "    def __init__(self, radius=1, color='red'):\n",
    "        #what this function does, is that whenever this class is created, what you want to do....\n",
    "        self.color  = color\n",
    "        self.area   = self.PI * ( self.radius ** 2 )\n",
    "    \n",
    "    def getCircumference(self):\n",
    "        return self.radius * self.PI * 2\n",
    "    \n",
    "    def getArea(self):\n",
    "        return self.PI * ( self.radius ** 2 )"
   ]
  },
  {
   "cell_type": "code",
   "execution_count": 76,
   "metadata": {},
   "outputs": [
    {
     "data": {
      "text/plain": [
       "78.5"
      ]
     },
     "execution_count": 76,
     "metadata": {},
     "output_type": "execute_result"
    }
   ],
   "source": [
    "c = Circle(radius = 5)\n",
    "c.area  #when i use as a parameter, I do not have ()"
   ]
  },
  {
   "cell_type": "code",
   "execution_count": 73,
   "metadata": {},
   "outputs": [
    {
     "name": "stdout",
     "output_type": "stream",
     "text": [
      "31.40\n"
     ]
    }
   ],
   "source": [
    "#how do I use the class I made?\n",
    "\n",
    "#step 1: create the class\n",
    "c = Circle(radius = 5, color = 'black')  #where is self?\n",
    "\n",
    "#step 2: call the function in that class that you want\n",
    "print(f\"{c.getCircumference():.2f}\")"
   ]
  },
  {
   "cell_type": "markdown",
   "metadata": {},
   "source": [
    "Exercise: add a function to calculate the area of the circle"
   ]
  },
  {
   "cell_type": "code",
   "execution_count": 74,
   "metadata": {},
   "outputs": [
    {
     "name": "stdout",
     "output_type": "stream",
     "text": [
      "78.50\n"
     ]
    }
   ],
   "source": [
    "print(f\"{c.getArea():.2f}\")"
   ]
  },
  {
   "cell_type": "markdown",
   "metadata": {},
   "source": [
    "Exercise:  Add a `Rectangle` class.  Have a function for getArea(), and getPerimeter()"
   ]
  },
  {
   "cell_type": "code",
   "execution_count": 117,
   "metadata": {},
   "outputs": [],
   "source": [
    "#lowercase - variable\n",
    "#lowercase - function\n",
    "#all uppercase - constant\n",
    "#capital - class\n",
    "\n",
    "class Rectangle:\n",
    "    \n",
    "    def __init__(self, w=1, h=1):\n",
    "        self.w = w\n",
    "        self.h = h\n",
    "        \n",
    "    def getArea(self):\n",
    "        return self.w * self.h\n",
    "        \n",
    "    def getPerimeter(self):\n",
    "        return 2 * self.w + 2 * self.h\n",
    "    \n",
    "    def __str__(self):  #repr if you do not want to print....\n",
    "        return(f\"This is a class rectange with width of {self.w} and height of {self.h}\")\n",
    "        \n"
   ]
  },
  {
   "cell_type": "code",
   "execution_count": 118,
   "metadata": {},
   "outputs": [],
   "source": [
    "r = Rectangle(w=2, h=3)"
   ]
  },
  {
   "cell_type": "code",
   "execution_count": 120,
   "metadata": {},
   "outputs": [
    {
     "name": "stdout",
     "output_type": "stream",
     "text": [
      "This is a class rectange with width of 2 and height of 3\n"
     ]
    }
   ],
   "source": [
    "print(r)  #i gonna modify how it print...."
   ]
  },
  {
   "cell_type": "code",
   "execution_count": 115,
   "metadata": {},
   "outputs": [
    {
     "data": {
      "text/plain": [
       "6"
      ]
     },
     "execution_count": 115,
     "metadata": {},
     "output_type": "execute_result"
    }
   ],
   "source": [
    "r.getArea()"
   ]
  },
  {
   "cell_type": "code",
   "execution_count": 116,
   "metadata": {},
   "outputs": [
    {
     "data": {
      "text/plain": [
       "10"
      ]
     },
     "execution_count": 116,
     "metadata": {},
     "output_type": "execute_result"
    }
   ],
   "source": [
    "r.getPerimeter()"
   ]
  },
  {
   "cell_type": "markdown",
   "metadata": {},
   "source": [
    "## Exception and Files"
   ]
  },
  {
   "cell_type": "code",
   "execution_count": 125,
   "metadata": {},
   "outputs": [
    {
     "ename": "ZeroDivisionError",
     "evalue": "division by zero",
     "output_type": "error",
     "traceback": [
      "\u001b[0;31m---------------------------------------------------------------------------\u001b[0m",
      "\u001b[0;31mZeroDivisionError\u001b[0m                         Traceback (most recent call last)",
      "\u001b[0;32m<ipython-input-125-7ec082ef8594>\u001b[0m in \u001b[0;36m<module>\u001b[0;34m\u001b[0m\n\u001b[1;32m      5\u001b[0m \u001b[0mc\u001b[0m \u001b[0;34m=\u001b[0m \u001b[0;36m3\u001b[0m\u001b[0;34m\u001b[0m\u001b[0;34m\u001b[0m\u001b[0m\n\u001b[1;32m      6\u001b[0m \u001b[0;34m\u001b[0m\u001b[0m\n\u001b[0;32m----> 7\u001b[0;31m \u001b[0mc\u001b[0m \u001b[0;34m=\u001b[0m \u001b[0mb\u001b[0m \u001b[0;34m/\u001b[0m \u001b[0ma\u001b[0m\u001b[0;34m\u001b[0m\u001b[0;34m\u001b[0m\u001b[0m\n\u001b[0m\u001b[1;32m      8\u001b[0m \u001b[0;34m\u001b[0m\u001b[0m\n\u001b[1;32m      9\u001b[0m '''\n",
      "\u001b[0;31mZeroDivisionError\u001b[0m: division by zero"
     ]
    }
   ],
   "source": [
    "#exception is an error that won't stop your program running\n",
    "\n",
    "a = 0\n",
    "b = 2\n",
    "c = 3\n",
    "\n",
    "c = b / a\n",
    "\n",
    "'''\n",
    "two parts of error msg:\n",
    "\n",
    "1. traceback: tell you where\n",
    "2. type of error, e.g., ZeroDivisionError\n",
    "'''\n",
    "\n",
    "print(c)\n",
    "print(\"hello\")"
   ]
  },
  {
   "cell_type": "code",
   "execution_count": 126,
   "metadata": {},
   "outputs": [
    {
     "name": "stdout",
     "output_type": "stream",
     "text": [
      "division by zero\n",
      "hello\n"
     ]
    }
   ],
   "source": [
    "# we don't like this!\n",
    "\n",
    "# when we have errors, we want to keep running the program smoothly, or at least end gently\n",
    "\n",
    "# when we write code, we must \"expect\" the errors\n",
    "\n",
    "try:\n",
    "    c = b / a   # c = 2 / 0\n",
    "except Exception as e:\n",
    "    print(e)\n",
    "    \n",
    "print(\"hello\")"
   ]
  },
  {
   "cell_type": "code",
   "execution_count": 127,
   "metadata": {},
   "outputs": [
    {
     "name": "stdout",
     "output_type": "stream",
     "text": [
      "Oh noooo, something is wrong\n",
      "still running\n"
     ]
    }
   ],
   "source": [
    "# you can also write your own errors\n",
    "\n",
    "try:\n",
    "    c = b / a\n",
    "except:\n",
    "    print(\"Oh noooo, something is wrong\")\n",
    "\n",
    "print(\"still running\")"
   ]
  },
  {
   "cell_type": "code",
   "execution_count": 133,
   "metadata": {},
   "outputs": [
    {
     "name": "stdout",
     "output_type": "stream",
     "text": [
      "Please do not add string to integer\n",
      "program still running\n"
     ]
    }
   ],
   "source": [
    "# you can also capture many type of errors, using many except\n",
    "a = 1\n",
    "\n",
    "try:\n",
    "    c = b / a\n",
    "    d = \"Chaky\" + 3\n",
    "except ZeroDivisionError:\n",
    "    print(\"Please do not divide by zero\")\n",
    "except TypeError:  #otherwise, if not zerodivisionerror, but still error, i will print this....\n",
    "    print(\"Please do not add string to integer\")\n",
    "except:\n",
    "    print(\"Oh no...it can be divided, it's also not adding strings.... but still something is not running.....\")\n",
    "    \n",
    "print(\"program still running\")"
   ]
  },
  {
   "cell_type": "code",
   "execution_count": 132,
   "metadata": {},
   "outputs": [
    {
     "ename": "TypeError",
     "evalue": "can only concatenate str (not \"int\") to str",
     "output_type": "error",
     "traceback": [
      "\u001b[0;31m---------------------------------------------------------------------------\u001b[0m",
      "\u001b[0;31mTypeError\u001b[0m                                 Traceback (most recent call last)",
      "\u001b[0;32m<ipython-input-132-b463c0dda046>\u001b[0m in \u001b[0;36m<module>\u001b[0;34m\u001b[0m\n\u001b[0;32m----> 1\u001b[0;31m \u001b[0md\u001b[0m \u001b[0;34m=\u001b[0m \u001b[0;34m\"Chaky\"\u001b[0m \u001b[0;34m+\u001b[0m \u001b[0;36m3\u001b[0m\u001b[0;34m\u001b[0m\u001b[0;34m\u001b[0m\u001b[0m\n\u001b[0m",
      "\u001b[0;31mTypeError\u001b[0m: can only concatenate str (not \"int\") to str"
     ]
    }
   ],
   "source": [
    "d = \"Chaky\" + 3"
   ]
  },
  {
   "cell_type": "markdown",
   "metadata": {},
   "source": [
    "Warmup exercise"
   ]
  },
  {
   "cell_type": "markdown",
   "metadata": {},
   "source": [
    "- Create a function accepting two numbers\n",
    "- Divide the first number by the second number --> first / second()\n",
    "\n",
    "- Try to capture the error - first, it's not a number, second, divide by zero"
   ]
  },
  {
   "cell_type": "code",
   "execution_count": 137,
   "metadata": {},
   "outputs": [],
   "source": [
    "def divide(first, second):\n",
    "    try:\n",
    "        result = first / second\n",
    "    except ZeroDivisionError:\n",
    "        print(f\"The divisor should not be {second}\")\n",
    "        result = 0\n",
    "    except:\n",
    "        print(\"Something is wrong.  We gonna come back soon....\")\n",
    "        result = 0\n",
    "    \n",
    "    return result"
   ]
  },
  {
   "cell_type": "code",
   "execution_count": 142,
   "metadata": {},
   "outputs": [
    {
     "name": "stdout",
     "output_type": "stream",
     "text": [
      "The divisor should not be 0\n",
      "0\n"
     ]
    }
   ],
   "source": [
    "try:\n",
    "    first  = int(input(\"Please input the first num\"))\n",
    "    second = int(input(\"Please input the second num\"))\n",
    "except ValueError:\n",
    "    print(\"Please give me only numbers. OK?\")\n",
    "except Exception as e:\n",
    "    print(f\"Something is wrong. Error: {e}\")\n",
    "else:  #else must come after all the \"except\"; #else will be run when try is successful\n",
    "    print(divide(first, second))\n"
   ]
  },
  {
   "cell_type": "markdown",
   "metadata": {},
   "source": [
    "## File Handling"
   ]
  },
  {
   "cell_type": "code",
   "execution_count": 167,
   "metadata": {},
   "outputs": [],
   "source": [
    "#to open file, use open()\n",
    "f = open(\"chaky.txt\", \"a+\")  #<-----when you open, it's only for readonly!!\n",
    "\n",
    "#four options you need to know\n",
    "#a => append\n",
    "#w => write (overwrite)\n",
    "#a+ ==> append and read\n",
    "#w+ ==> write(overwrite) and read\n"
   ]
  },
  {
   "cell_type": "code",
   "execution_count": 168,
   "metadata": {},
   "outputs": [],
   "source": [
    "#how to read?\n",
    "\n",
    "#two ways\n",
    "#1st way: read the whole thing using read()\n",
    "# print(f.read())  #it's already read!"
   ]
  },
  {
   "cell_type": "code",
   "execution_count": 169,
   "metadata": {},
   "outputs": [
    {
     "name": "stdout",
     "output_type": "stream",
     "text": [
      "\n",
      "\n",
      "Here is my new line\n",
      "\n"
     ]
    }
   ],
   "source": [
    "#2nd way: read line by line using readline()\n",
    "print(f.readline())\n",
    "print(f.readline())"
   ]
  },
  {
   "cell_type": "code",
   "execution_count": 170,
   "metadata": {},
   "outputs": [
    {
     "data": {
      "text/plain": [
       "20"
      ]
     },
     "execution_count": 170,
     "metadata": {},
     "output_type": "execute_result"
    }
   ],
   "source": [
    "#how to write to a file?\n",
    "f.write(\"\\nHere is my new line\")"
   ]
  },
  {
   "cell_type": "code",
   "execution_count": 171,
   "metadata": {},
   "outputs": [],
   "source": [
    "#close\n",
    "f.close()"
   ]
  },
  {
   "cell_type": "markdown",
   "metadata": {},
   "source": [
    "## File Handling with Exception"
   ]
  },
  {
   "cell_type": "code",
   "execution_count": 174,
   "metadata": {},
   "outputs": [
    {
     "ename": "FileNotFoundError",
     "evalue": "[Errno 2] No such file or directory: 'notexisting.txt'",
     "output_type": "error",
     "traceback": [
      "\u001b[0;31m---------------------------------------------------------------------------\u001b[0m",
      "\u001b[0;31mFileNotFoundError\u001b[0m                         Traceback (most recent call last)",
      "\u001b[0;32m<ipython-input-174-debb0c233019>\u001b[0m in \u001b[0;36m<module>\u001b[0;34m\u001b[0m\n\u001b[0;32m----> 1\u001b[0;31m \u001b[0mf\u001b[0m \u001b[0;34m=\u001b[0m \u001b[0mopen\u001b[0m\u001b[0;34m(\u001b[0m\u001b[0;34m\"notexisting.txt\"\u001b[0m\u001b[0;34m)\u001b[0m\u001b[0;34m\u001b[0m\u001b[0;34m\u001b[0m\u001b[0m\n\u001b[0m",
      "\u001b[0;31mFileNotFoundError\u001b[0m: [Errno 2] No such file or directory: 'notexisting.txt'"
     ]
    }
   ],
   "source": [
    "f = open(\"notexisting.txt\")"
   ]
  },
  {
   "cell_type": "code",
   "execution_count": 190,
   "metadata": {},
   "outputs": [
    {
     "name": "stdout",
     "output_type": "stream",
     "text": [
      "Line: line 1\n",
      "\n",
      "Line: line 2\n",
      "\n",
      "Line: line 3\n"
     ]
    }
   ],
   "source": [
    "# a+ will automatically create the file if it does not exist!\n",
    "\n",
    "try:\n",
    "    f = open(\"something.txt\")\n",
    "except FileNotFoundError:\n",
    "    print(\"The file does not exist!\")\n",
    "else:\n",
    "    for line in f:\n",
    "        print(f\"Line: {line}\")"
   ]
  },
  {
   "cell_type": "markdown",
   "metadata": {},
   "source": [
    "Exercise\n",
    "\n",
    "- Let's first open the file for reading\n",
    "- Print last line"
   ]
  },
  {
   "cell_type": "code",
   "execution_count": 191,
   "metadata": {},
   "outputs": [
    {
     "name": "stdout",
     "output_type": "stream",
     "text": [
      "last line\n"
     ]
    }
   ],
   "source": [
    "#in a situation of logging, we may want to print the last couple of lines of the logs\n",
    "\n",
    "#1st way\n",
    "try:\n",
    "    f = open(\"chaky.txt\")\n",
    "except FileNotFoundError:\n",
    "    print(\"The file does not exist\")\n",
    "else:\n",
    "    for line in f:\n",
    "        pass\n",
    "    print(line)"
   ]
  },
  {
   "cell_type": "code",
   "execution_count": 195,
   "metadata": {},
   "outputs": [
    {
     "name": "stdout",
     "output_type": "stream",
     "text": [
      "last line\n"
     ]
    }
   ],
   "source": [
    "#2nd way\n",
    "try:\n",
    "    f = open(\"chaky.txt\")\n",
    "except FileNotFoundError:\n",
    "    print(\"The file does not exist\")\n",
    "else:\n",
    "    lines = f.readlines()\n",
    "    print(lines[-1])  #readlines give you a list of line"
   ]
  },
  {
   "cell_type": "markdown",
   "metadata": {},
   "source": [
    "Exercise\n",
    "\n",
    "- Create a file if not exists\n",
    "- Write something to it\n",
    "- Don't forget to call `f.close()` in order for the contents to appear...."
   ]
  },
  {
   "cell_type": "code",
   "execution_count": 196,
   "metadata": {},
   "outputs": [],
   "source": [
    "try:\n",
    "    f = open(\"chaky.txt\", \"a+\")\n",
    "except Exception as e:\n",
    "    print(f\"Error: {e}\")\n",
    "else:\n",
    "    f.write(\"\\n A new line\")\n",
    "    f.close()  #automatically flush whatever in the memory to the file\n",
    "    #f.flush()"
   ]
  },
  {
   "cell_type": "code",
   "execution_count": null,
   "metadata": {},
   "outputs": [],
   "source": []
  }
 ],
 "metadata": {
  "kernelspec": {
   "display_name": "Python 3.10.4 64-bit",
   "language": "python",
   "name": "python3"
  },
  "language_info": {
   "codemirror_mode": {
    "name": "ipython",
    "version": 3
   },
   "file_extension": ".py",
   "mimetype": "text/x-python",
   "name": "python",
   "nbconvert_exporter": "python",
   "pygments_lexer": "ipython3",
   "version": "3.10.4"
  },
  "vscode": {
   "interpreter": {
    "hash": "c81d839d3c4227cd770621df97fe8191838af02e7eef185a922d8250cb33d344"
   }
  }
 },
 "nbformat": 4,
 "nbformat_minor": 4
}
