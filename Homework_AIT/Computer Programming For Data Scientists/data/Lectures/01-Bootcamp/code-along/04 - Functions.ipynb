{
 "cells": [
  {
   "cell_type": "markdown",
   "metadata": {},
   "source": [
    "# Programming for Data Science and Artificial Intelligence"
   ]
  },
  {
   "cell_type": "markdown",
   "metadata": {},
   "source": [
    "Let's do some morning exercise first!"
   ]
  },
  {
   "cell_type": "code",
   "execution_count": 16,
   "metadata": {},
   "outputs": [
    {
     "name": "stdout",
     "output_type": "stream",
     "text": [
      "Keys      Values    \n",
      "====================\n",
      "age       25        \n",
      "name      Amp       \n",
      "gender    F         \n",
      "hobby     badminton \n",
      "====================\n",
      "age       30        \n",
      "name      Apple     \n",
      "gender    F         \n",
      "hobby     soccer    \n",
      "====================\n"
     ]
    }
   ],
   "source": [
    "#create a dictionary \n",
    "#of age, name, gender, hobby x 3 persons\n",
    "# loop them, and print only the person that starts with \"A\"\n",
    "person1 = {\n",
    "    'age': 25,\n",
    "    'name': 'Amp',\n",
    "    'gender': 'F',\n",
    "    'hobby': 'badminton'\n",
    "}\n",
    "\n",
    "person2 = {\n",
    "    'age': 40,\n",
    "    'name': 'John',\n",
    "    'gender': 'M',\n",
    "    'hobby': 'golf'\n",
    "}\n",
    "\n",
    "person3 = {\n",
    "    'age': 30,\n",
    "    'name': 'Apple',\n",
    "    'gender': 'F',\n",
    "    'hobby': 'soccer'\n",
    "}\n",
    "\n",
    "\n",
    "list_of_person = [person1, person2, person3]\n",
    "\n",
    "print(f\"{'Keys':<10}{'Values':<10}\")\n",
    "print(\"=\" * 20)\n",
    "for person_dict in list_of_person:\n",
    "    name = person_dict['name']\n",
    "    if name[0].lower() == 'a':\n",
    "        for key, value in person_dict.items():\n",
    "            print(f\"{key:<10}{value:<10}\")\n",
    "        print(\"=\" * 20)"
   ]
  },
  {
   "cell_type": "code",
   "execution_count": 17,
   "metadata": {},
   "outputs": [
    {
     "name": "stdout",
     "output_type": "stream",
     "text": [
      "Keys      Values    \n",
      "====================\n",
      "age       30        \n",
      "name      Apple     \n",
      "gender    F         \n",
      "hobby     soccer    \n",
      "====================\n"
     ]
    }
   ],
   "source": [
    "#i want you to print only the person with age greater than or equal to 30, and is female\n",
    "\n",
    "print(f\"{'Keys':<10}{'Values':<10}\")\n",
    "print(\"=\" * 20)\n",
    "for person_dict in list_of_person:\n",
    "    age    = person_dict['age']\n",
    "    gender = person_dict['gender']\n",
    "    if age >= 30 and gender.lower() == 'f':\n",
    "        for key, value in person_dict.items():\n",
    "            print(f\"{key:<10}{value:<10}\")\n",
    "        print(\"=\" * 20)"
   ]
  },
  {
   "cell_type": "code",
   "execution_count": 20,
   "metadata": {},
   "outputs": [
    {
     "name": "stdout",
     "output_type": "stream",
     "text": [
      "{'age': 40, 'name': 'John', 'gender': 'M', 'hobby': 'golf'}\n"
     ]
    }
   ],
   "source": [
    "# i want you to find the oldest person, and print that person\n",
    "oldest_age   = 0 \n",
    "oldest_index = 0\n",
    "\n",
    "for index, person_dict in enumerate(list_of_person):\n",
    "    age = person_dict['age']\n",
    "    if age > oldest_age:  #if 25 > 0 ;  if 40 > 25  ; if 30 > 40\n",
    "        oldest_index = index  #oldest_index = 0; oldest_index = 1 ; do nothing\n",
    "        oldest_age   = age    #oldest_age   = 25; oldest_age  = 40; do nothing\n",
    "\n",
    "\n",
    "print(list_of_person[oldest_index])"
   ]
  },
  {
   "cell_type": "code",
   "execution_count": null,
   "metadata": {},
   "outputs": [],
   "source": [
    "#loop each of the dictionary\n",
    "\n",
    "#first i see 25\n",
    "    #because it's the first one, it's the oldest one....\n",
    "    \n",
    "#oh now....we see 40....comparing 40 with 25, 40 is bigger!  so now, 40 is the oldest\n",
    "\n",
    "#now.......we see 30....comparing 30 with 40, 40 is still bigger!...so now, 40 remains the oldest"
   ]
  },
  {
   "cell_type": "code",
   "execution_count": 118,
   "metadata": {},
   "outputs": [
    {
     "data": {
      "text/plain": [
       "[{'age': 25, 'name': 'Amp', 'gender': 'F', 'hobby': 'badminton'},\n",
       " {'age': 40, 'name': 'John', 'gender': 'M', 'hobby': 'golf'},\n",
       " {'age': 30, 'name': 'Apple', 'gender': 'F', 'hobby': 'soccer'}]"
      ]
     },
     "execution_count": 118,
     "metadata": {},
     "output_type": "execute_result"
    }
   ],
   "source": [
    "list_of_person"
   ]
  },
  {
   "cell_type": "code",
   "execution_count": 24,
   "metadata": {},
   "outputs": [
    {
     "data": {
      "text/plain": [
       "{1: 1, 2: 4, 3: 9, 4: 16, 5: 25}"
      ]
     },
     "execution_count": 24,
     "metadata": {},
     "output_type": "execute_result"
    }
   ],
   "source": [
    "#can you create a dictionary\n",
    "#i.e., given 5; must be able to change to any number\n",
    "#create {1:1, 2:4, 3:9, 4:16, 5:25}  ==> key = 1, value = 1 x 1;  key = 5, value = 5 * 5\n",
    "\n",
    "number = 5\n",
    "my_dict = dict()\n",
    "\n",
    "for i in range(1, 6):\n",
    "    my_dict[i] = i * i\n",
    "    \n",
    "my_dict"
   ]
  },
  {
   "cell_type": "markdown",
   "metadata": {},
   "source": [
    "Let's have a break until 10:30...."
   ]
  },
  {
   "cell_type": "markdown",
   "metadata": {},
   "source": [
    "### Functions"
   ]
  },
  {
   "cell_type": "code",
   "execution_count": 26,
   "metadata": {},
   "outputs": [
    {
     "name": "stdout",
     "output_type": "stream",
     "text": [
      "25\n"
     ]
    }
   ],
   "source": [
    "#functions is a bunch of code that can be reused\n",
    "\n",
    "#you create function by starting the term \"def\"\n",
    "\n",
    "# def functionname(arguments):\n",
    "#     what you function do\n",
    "\n",
    "#let's try to create a function that will return a square of any input\n",
    "\n",
    "def square(x):\n",
    "    return x ** 2\n",
    "\n",
    "#result will be mapped to whatever return\n",
    "result = square(5)  #this 5 maps to x\n",
    "\n",
    "print(result)"
   ]
  },
  {
   "cell_type": "code",
   "execution_count": 27,
   "metadata": {},
   "outputs": [],
   "source": [
    "def print_msg(key, value):\n",
    "    print(f\"{key:<15}{value:<15}\")"
   ]
  },
  {
   "cell_type": "code",
   "execution_count": 28,
   "metadata": {},
   "outputs": [
    {
     "name": "stdout",
     "output_type": "stream",
     "text": [
      "Key1           Value1         \n",
      "Key2           Value2         \n"
     ]
    }
   ],
   "source": [
    "print_msg(\"Key1\", \"Value1\")\n",
    "print_msg(\"Key2\", \"Value2\")"
   ]
  },
  {
   "cell_type": "code",
   "execution_count": 29,
   "metadata": {},
   "outputs": [
    {
     "data": {
      "text/plain": [
       "9"
      ]
     },
     "execution_count": 29,
     "metadata": {},
     "output_type": "execute_result"
    }
   ],
   "source": [
    "#can you do a 5 minute exercise\n",
    "\n",
    "#create a function that accept x, y , and return x ** y\n",
    "\n",
    "def chaky(x, y):\n",
    "    return x ** y\n",
    "\n",
    "chaky(3, 2)"
   ]
  },
  {
   "cell_type": "markdown",
   "metadata": {},
   "source": [
    "Difficult things about function is type of arguments you can accept"
   ]
  },
  {
   "cell_type": "code",
   "execution_count": 30,
   "metadata": {},
   "outputs": [],
   "source": [
    "#1st type of argument: most basic\n",
    "def func(x):  #positional arguments\n",
    "    print(x)"
   ]
  },
  {
   "cell_type": "code",
   "execution_count": 31,
   "metadata": {},
   "outputs": [
    {
     "name": "stdout",
     "output_type": "stream",
     "text": [
      "chaky-25\n"
     ]
    }
   ],
   "source": [
    "#2nd type of arguments: keywords\n",
    "def func(name='chaky', age='25'):  #it's basically a default\n",
    "    print(name, age, sep=\"-\")\n",
    "    \n",
    "#1st behavior is that, if nothing is specify, the default will be used, i.e., chaky, 25\n",
    "func()"
   ]
  },
  {
   "cell_type": "code",
   "execution_count": 34,
   "metadata": {},
   "outputs": [
    {
     "name": "stdout",
     "output_type": "stream",
     "text": [
      "john-40\n"
     ]
    }
   ],
   "source": [
    "#of course, you can specify the argument, 2nd behaviors is that, it can be any order as long as the name matches\n",
    "func( age='40', name='john')"
   ]
  },
  {
   "cell_type": "code",
   "execution_count": 35,
   "metadata": {},
   "outputs": [
    {
     "name": "stdout",
     "output_type": "stream",
     "text": [
      "chaky-40\n"
     ]
    }
   ],
   "source": [
    "func (age = '40')  #what will happen"
   ]
  },
  {
   "cell_type": "code",
   "execution_count": 36,
   "metadata": {},
   "outputs": [],
   "source": [
    "def some_func(x_int, y_str):\n",
    "    x_int = x_int + 1\n",
    "    print(y_str)"
   ]
  },
  {
   "cell_type": "code",
   "execution_count": 37,
   "metadata": {},
   "outputs": [
    {
     "ename": "TypeError",
     "evalue": "can only concatenate str (not \"int\") to str",
     "output_type": "error",
     "traceback": [
      "\u001b[0;31m---------------------------------------------------------------------------\u001b[0m",
      "\u001b[0;31mTypeError\u001b[0m                                 Traceback (most recent call last)",
      "\u001b[0;32m<ipython-input-37-cc6502b316a7>\u001b[0m in \u001b[0;36m<module>\u001b[0;34m\u001b[0m\n\u001b[0;32m----> 1\u001b[0;31m \u001b[0msome_func\u001b[0m\u001b[0;34m(\u001b[0m\u001b[0;34m\"chaky\"\u001b[0m\u001b[0;34m,\u001b[0m \u001b[0;36m888\u001b[0m\u001b[0;34m)\u001b[0m\u001b[0;34m\u001b[0m\u001b[0;34m\u001b[0m\u001b[0m\n\u001b[0m",
      "\u001b[0;32m<ipython-input-36-2e47909f9857>\u001b[0m in \u001b[0;36msome_func\u001b[0;34m(x_int, y_str)\u001b[0m\n\u001b[1;32m      1\u001b[0m \u001b[0;32mdef\u001b[0m \u001b[0msome_func\u001b[0m\u001b[0;34m(\u001b[0m\u001b[0mx_int\u001b[0m\u001b[0;34m,\u001b[0m \u001b[0my_str\u001b[0m\u001b[0;34m)\u001b[0m\u001b[0;34m:\u001b[0m\u001b[0;34m\u001b[0m\u001b[0;34m\u001b[0m\u001b[0m\n\u001b[0;32m----> 2\u001b[0;31m     \u001b[0mx_int\u001b[0m \u001b[0;34m=\u001b[0m \u001b[0mx_int\u001b[0m \u001b[0;34m+\u001b[0m \u001b[0;36m1\u001b[0m\u001b[0;34m\u001b[0m\u001b[0;34m\u001b[0m\u001b[0m\n\u001b[0m\u001b[1;32m      3\u001b[0m     \u001b[0mprint\u001b[0m\u001b[0;34m(\u001b[0m\u001b[0my_str\u001b[0m\u001b[0;34m)\u001b[0m\u001b[0;34m\u001b[0m\u001b[0;34m\u001b[0m\u001b[0m\n",
      "\u001b[0;31mTypeError\u001b[0m: can only concatenate str (not \"int\") to str"
     ]
    }
   ],
   "source": [
    "some_func(\"chaky\", 888)"
   ]
  },
  {
   "cell_type": "code",
   "execution_count": 38,
   "metadata": {},
   "outputs": [
    {
     "name": "stdout",
     "output_type": "stream",
     "text": [
      "chaky\n"
     ]
    }
   ],
   "source": [
    "some_func(y_str = \"chaky\", x_int = 888)  #what would happen?"
   ]
  },
  {
   "cell_type": "code",
   "execution_count": 3,
   "metadata": {},
   "outputs": [],
   "source": [
    "#3rd type of argument is \"tuples\"\n",
    "def some_func(*x):\n",
    "    print(x)"
   ]
  },
  {
   "cell_type": "code",
   "execution_count": 4,
   "metadata": {},
   "outputs": [
    {
     "name": "stdout",
     "output_type": "stream",
     "text": [
      "(3, 4, 5)\n"
     ]
    }
   ],
   "source": [
    "some_tuple = (3, 4, 5)\n",
    "\n",
    "some_func(*some_tuple)"
   ]
  },
  {
   "cell_type": "code",
   "execution_count": 49,
   "metadata": {},
   "outputs": [],
   "source": [
    "#4th is \"dictionary\"\n",
    "def some_dict_func(**person):\n",
    "    print(person)"
   ]
  },
  {
   "cell_type": "code",
   "execution_count": 51,
   "metadata": {},
   "outputs": [
    {
     "name": "stdout",
     "output_type": "stream",
     "text": [
      "{'name': 'chaky', 'age': 30}\n"
     ]
    }
   ],
   "source": [
    "some_dict = {}\n",
    "some_dict['name'] = \"chaky\"\n",
    "some_dict['age']  = 30\n",
    "\n",
    "some_dict_func(**some_dict)"
   ]
  },
  {
   "cell_type": "markdown",
   "metadata": {},
   "source": [
    "Putting them all together"
   ]
  },
  {
   "cell_type": "code",
   "execution_count": null,
   "metadata": {},
   "outputs": [],
   "source": [
    "#there is a rule that you need to follow\n",
    "\n",
    "#def some_func(basic_arg1, basic_arg2, *tuple1, name='chaky', gender='M', **my_dict)"
   ]
  },
  {
   "cell_type": "code",
   "execution_count": 72,
   "metadata": {},
   "outputs": [
    {
     "data": {
      "text/plain": [
       "{'name': 'chaky', 'age': 30}"
      ]
     },
     "execution_count": 72,
     "metadata": {},
     "output_type": "execute_result"
    }
   ],
   "source": [
    "some_dict"
   ]
  },
  {
   "cell_type": "code",
   "execution_count": 77,
   "metadata": {},
   "outputs": [
    {
     "data": {
      "text/plain": [
       "'John'"
      ]
     },
     "execution_count": 77,
     "metadata": {},
     "output_type": "execute_result"
    }
   ],
   "source": [
    "name"
   ]
  },
  {
   "cell_type": "code",
   "execution_count": 92,
   "metadata": {},
   "outputs": [],
   "source": [
    "some_dict = {\n",
    "    'y': 11,\n",
    "    'price': 22\n",
    "}"
   ]
  },
  {
   "cell_type": "code",
   "execution_count": 93,
   "metadata": {},
   "outputs": [
    {
     "ename": "TypeError",
     "evalue": "my_func() got multiple values for argument 'y'",
     "output_type": "error",
     "traceback": [
      "\u001b[0;31m---------------------------------------------------------------------------\u001b[0m",
      "\u001b[0;31mTypeError\u001b[0m                                 Traceback (most recent call last)",
      "\u001b[0;32m<ipython-input-93-ee9dc72b1dfb>\u001b[0m in \u001b[0;36m<module>\u001b[0;34m\u001b[0m\n\u001b[1;32m     10\u001b[0m \u001b[0mname\u001b[0m \u001b[0;34m=\u001b[0m \u001b[0;34m\"John\"\u001b[0m\u001b[0;34m\u001b[0m\u001b[0;34m\u001b[0m\u001b[0m\n\u001b[1;32m     11\u001b[0m \u001b[0;34m\u001b[0m\u001b[0m\n\u001b[0;32m---> 12\u001b[0;31m \u001b[0mmy_func\u001b[0m\u001b[0;34m(\u001b[0m\u001b[0;34m\"First\"\u001b[0m\u001b[0;34m,\u001b[0m \u001b[0;34m\"Second\"\u001b[0m\u001b[0;34m,\u001b[0m \u001b[0;34m*\u001b[0m\u001b[0mour_tuple\u001b[0m\u001b[0;34m,\u001b[0m \u001b[0mname\u001b[0m\u001b[0;34m=\u001b[0m\u001b[0mname\u001b[0m\u001b[0;34m,\u001b[0m \u001b[0;34m**\u001b[0m\u001b[0msome_dict\u001b[0m\u001b[0;34m)\u001b[0m\u001b[0;34m\u001b[0m\u001b[0;34m\u001b[0m\u001b[0m\n\u001b[0m",
      "\u001b[0;31mTypeError\u001b[0m: my_func() got multiple values for argument 'y'"
     ]
    }
   ],
   "source": [
    "def my_func(x, y, *tuple1, name='chaky', gender='M', **some_dict):\n",
    "    print(x)\n",
    "    print(y)\n",
    "    print(tuple1)\n",
    "    print(name)\n",
    "    print(gender)\n",
    "    print(some_dict)\n",
    "\n",
    "our_tuple = ((1, 2, 3), (4, 5, 6))\n",
    "name = \"John\"\n",
    "\n",
    "my_func(\"First\", \"Second\", *our_tuple, name=name, **some_dict)"
   ]
  },
  {
   "cell_type": "markdown",
   "metadata": {},
   "source": [
    "So here we learn couple of things:\n",
    "    \n",
    "1. The order must be correct, when you use multiple type of arguments\n",
    "2. There must be only one tuple, but which the tuple can be of tuple of tuples\n",
    "3. Dictionary cannot contain keys that overlap with any argument name"
   ]
  },
  {
   "cell_type": "markdown",
   "metadata": {},
   "source": [
    "First exercise!"
   ]
  },
  {
   "cell_type": "code",
   "execution_count": 95,
   "metadata": {},
   "outputs": [
    {
     "name": "stdout",
     "output_type": "stream",
     "text": [
      "True\n",
      "False\n"
     ]
    }
   ],
   "source": [
    "#create a function \n",
    "\n",
    "#input: string\n",
    "#output: True or false, whether the string is a palindrome\n",
    "#racecar  ==> racecar  ==> True\n",
    "#chaky    ==> ykahc    ==> False\n",
    "\n",
    "def is_palin(text):\n",
    "    return text == text[::-1]\n",
    "\n",
    "print(is_palin(\"racecar\"))\n",
    "print(is_palin(\"chaky\"))\n"
   ]
  },
  {
   "cell_type": "code",
   "execution_count": 97,
   "metadata": {},
   "outputs": [
    {
     "data": {
      "text/plain": [
       "[1, 2, 3]"
      ]
     },
     "execution_count": 97,
     "metadata": {},
     "output_type": "execute_result"
    }
   ],
   "source": [
    "#create a function\n",
    "\n",
    "#input: a list of numbers\n",
    "#output: remove duplicates from the list, and return that list\n",
    "\n",
    "def remove_dup(some_list):\n",
    "    return list(set(some_list))\n",
    "\n",
    "remove_dup([1, 1, 2, 2, 3])"
   ]
  },
  {
   "cell_type": "code",
   "execution_count": 98,
   "metadata": {},
   "outputs": [
    {
     "data": {
      "text/plain": [
       "[1, 2, 3]"
      ]
     },
     "execution_count": 98,
     "metadata": {},
     "output_type": "execute_result"
    }
   ],
   "source": [
    "#another way\n",
    "\n",
    "def remove_dup2(some_list):\n",
    "    clean_list = []\n",
    "    for num in some_list:\n",
    "        if num not in clean_list:\n",
    "            clean_list.append(num)\n",
    "    return clean_list\n",
    "\n",
    "remove_dup2([1, 1, 2, 2, 3])"
   ]
  },
  {
   "cell_type": "code",
   "execution_count": 102,
   "metadata": {},
   "outputs": [
    {
     "name": "stdout",
     "output_type": "stream",
     "text": [
      "10......\n",
      "9......\n",
      "8......\n",
      "7......\n",
      "6......\n",
      "5......\n",
      "4......\n",
      "3......\n",
      "2......\n",
      "1......\n",
      "Done!\n"
     ]
    }
   ],
   "source": [
    "# create a function\n",
    "\n",
    "# create a countdown clock, specifying the seconds\n",
    "# Hint: use import time    time.sleep(1)\n",
    "\n",
    "import time\n",
    "\n",
    "def countdown(n=3):\n",
    "    for i in range(n, 0, -1):\n",
    "        print(f\"{i}......\")\n",
    "        time.sleep(1)\n",
    "\n",
    "    print(\"Done!\")\n",
    "    \n",
    "countdown(10)"
   ]
  },
  {
   "cell_type": "code",
   "execution_count": 109,
   "metadata": {},
   "outputs": [
    {
     "data": {
      "text/plain": [
       "[2, 2, 4, 6]"
      ]
     },
     "execution_count": 109,
     "metadata": {},
     "output_type": "execute_result"
    }
   ],
   "source": [
    "# create a function\n",
    "# accept a list of unknown number of numbers, and output only the even numbers\n",
    "# 12 % 2  ==> modulus 2 is a nice way to get even number\n",
    "\n",
    "def only_even(some_list):\n",
    "    \n",
    "    even_list = []\n",
    "    \n",
    "    #loop the list\n",
    "    for num in some_list:\n",
    "    \n",
    "    #for each of the member, if they are %2==0, append a new list\n",
    "        if num % 2 == 0:\n",
    "            even_list.append(num)\n",
    "    \n",
    "    #return this new list\n",
    "    return even_list\n",
    "\n",
    "chaky_list = [1, 1, 2, 2, 3, 3, 4, 5, 6]\n",
    "\n",
    "only_even(chaky_list)\n",
    "    \n",
    "    "
   ]
  },
  {
   "cell_type": "code",
   "execution_count": 117,
   "metadata": {},
   "outputs": [
    {
     "data": {
      "text/plain": [
       "'localhost:3306'"
      ]
     },
     "execution_count": 117,
     "metadata": {},
     "output_type": "execute_result"
    }
   ],
   "source": [
    "# create a funtion\n",
    "# accept a dictionary of server:localhost, port:3306, user:root, password:anything, and print only localhost:3306 (with semicolons)\n",
    "# who want to type very fast:  monkeytype, - improve typing speed to 60\n",
    "\n",
    "# server = \"localhost\"\n",
    "# port   = 3306\n",
    "\n",
    "# server + \":\" + str(port)\n",
    "\n",
    "my_dict = {\n",
    "    \"server\":\"localhost\", \"port\":3306, \"user\":\"root\", \"password\":\"anything\"\n",
    "}\n",
    "\n",
    "def some_func(**here_dict):\n",
    "    server = here_dict['server']\n",
    "    port   = here_dict['port']\n",
    "    \n",
    "    return server + \":\" + str(port)\n",
    "\n",
    "some_func(**my_dict)"
   ]
  }
 ],
 "metadata": {
  "kernelspec": {
   "display_name": "Python 3.10.4 64-bit",
   "language": "python",
   "name": "python3"
  },
  "language_info": {
   "codemirror_mode": {
    "name": "ipython",
    "version": 3
   },
   "file_extension": ".py",
   "mimetype": "text/x-python",
   "name": "python",
   "nbconvert_exporter": "python",
   "pygments_lexer": "ipython3",
   "version": "3.10.4"
  },
  "vscode": {
   "interpreter": {
    "hash": "c81d839d3c4227cd770621df97fe8191838af02e7eef185a922d8250cb33d344"
   }
  }
 },
 "nbformat": 4,
 "nbformat_minor": 4
}
