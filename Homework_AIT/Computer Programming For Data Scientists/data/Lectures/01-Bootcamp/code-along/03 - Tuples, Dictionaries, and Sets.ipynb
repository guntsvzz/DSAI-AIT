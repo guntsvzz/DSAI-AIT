{
 "cells": [
  {
   "cell_type": "markdown",
   "metadata": {},
   "source": [
    "# Programming for Data Science and Artificial Intelligence"
   ]
  },
  {
   "cell_type": "markdown",
   "metadata": {},
   "source": [
    "### Tuples"
   ]
  },
  {
   "cell_type": "markdown",
   "metadata": {},
   "source": [
    "Tuples are like lists, except that they cannot be modified once created, that is they are *immutable*. \n",
    "\n",
    "1. You can't add to tuples, so no extend or append\n",
    "2. You can't remove or insert, so no insert, remove, pop\n",
    "3. You can find, thus \"in\"  or indexing can be used\n",
    "4. Tuples are much faster than list\n",
    "\n",
    "*Make sense* to use tuples for write-protected data\n",
    "\n",
    "In Python, tuples are created using the syntax `(..., ..., ...)`, or even `..., ...`:"
   ]
  },
  {
   "cell_type": "markdown",
   "metadata": {},
   "source": [
    "Creating tuples"
   ]
  },
  {
   "cell_type": "code",
   "execution_count": null,
   "metadata": {},
   "outputs": [],
   "source": [
    "#tuples is basically a list but you cannot change the values\n",
    "\n",
    "#how do we create a tuple; we create using (  )   (Recall for List, we use [])\n",
    "\n",
    "x = (1, 2, 3)"
   ]
  },
  {
   "cell_type": "code",
   "execution_count": null,
   "metadata": {},
   "outputs": [],
   "source": [
    "type(x)"
   ]
  },
  {
   "cell_type": "code",
   "execution_count": null,
   "metadata": {},
   "outputs": [],
   "source": [
    "x[2]"
   ]
  },
  {
   "cell_type": "markdown",
   "metadata": {},
   "source": [
    "What if I change values of tuple"
   ]
  },
  {
   "cell_type": "markdown",
   "metadata": {},
   "source": [
    "Tuple is indeed a disguise of \"multiple assignments\""
   ]
  },
  {
   "cell_type": "code",
   "execution_count": null,
   "metadata": {},
   "outputs": [],
   "source": [
    "x, y, z = 1, 2, 3"
   ]
  },
  {
   "cell_type": "code",
   "execution_count": null,
   "metadata": {},
   "outputs": [],
   "source": [
    "x"
   ]
  },
  {
   "cell_type": "code",
   "execution_count": null,
   "metadata": {},
   "outputs": [],
   "source": [
    "a = 1, 2, 3\n",
    "type(a)"
   ]
  },
  {
   "cell_type": "code",
   "execution_count": null,
   "metadata": {},
   "outputs": [],
   "source": [
    "x, y, z = a"
   ]
  },
  {
   "cell_type": "code",
   "execution_count": null,
   "metadata": {},
   "outputs": [],
   "source": [
    "#what would happen if you put too many or too little values?\n",
    "\n",
    "# x, y = a\n",
    "\n",
    "x, y, z, aa, = a"
   ]
  },
  {
   "cell_type": "markdown",
   "metadata": {},
   "source": [
    "What if I don't want some values, during unpacking"
   ]
  },
  {
   "cell_type": "code",
   "execution_count": null,
   "metadata": {},
   "outputs": [],
   "source": [
    "person = (\"Chaky\", 100, \"Male\")"
   ]
  },
  {
   "cell_type": "code",
   "execution_count": null,
   "metadata": {},
   "outputs": [],
   "source": [
    "#I only want name and salary, not gender\n",
    "name, salary, gender = person\n",
    "\n",
    "print(name, salary, gender, sep=\":\")"
   ]
  },
  {
   "cell_type": "code",
   "execution_count": null,
   "metadata": {},
   "outputs": [],
   "source": [
    "#what if I want to save memory, because I really don't need gender\n",
    "\n",
    "#use underscore _ to save memory\n",
    "\n",
    "#for example: if I don't want gender\n",
    "\n",
    "name, salary, _ = person\n",
    "\n",
    "#what if I also don't want the salary\n",
    "\n",
    "name, _, _ = person"
   ]
  },
  {
   "cell_type": "code",
   "execution_count": null,
   "metadata": {},
   "outputs": [],
   "source": [
    "#let's put that into action\n",
    "\n",
    "list_of_names = ((\"Chaky\", 100, \"Male\"), (\"Aiman\", 200, \"Male\"), (\"Saw\", 300, \"Male\"))\n",
    "\n",
    "#can you write a loop, and print only the names for me?\n",
    "\n",
    "#Hint: Use for and in\n",
    "\n",
    "#1st way is to target index 0\n",
    "for something in list_of_names:\n",
    "    print(\"you print the tuples: \", something[0])\n",
    "    "
   ]
  },
  {
   "cell_type": "code",
   "execution_count": null,
   "metadata": {},
   "outputs": [],
   "source": [
    "#2nd way, is to unpack during the for loop\n",
    "\n",
    "for name, salary, gender in list_of_names:\n",
    "    print(\"you print the name: \", name)"
   ]
  },
  {
   "cell_type": "code",
   "execution_count": null,
   "metadata": {},
   "outputs": [],
   "source": [
    "#even better, we know we not gonna use the salary and gender, so let's use underscore\n",
    "\n",
    "for name, _, _ in list_of_names:\n",
    "    print(\"you print the name: \", name)"
   ]
  },
  {
   "cell_type": "markdown",
   "metadata": {},
   "source": [
    "### Dictionaries"
   ]
  },
  {
   "cell_type": "markdown",
   "metadata": {},
   "source": [
    "Dictionaries are also like lists, except that each element is a key-value pair. The syntax for dictionaries is `{key1 : value1, ...}`:"
   ]
  },
  {
   "cell_type": "markdown",
   "metadata": {},
   "source": [
    "Creating"
   ]
  },
  {
   "cell_type": "code",
   "execution_count": null,
   "metadata": {},
   "outputs": [],
   "source": [
    "#a dictionary has a pair of information\n",
    "\n",
    "#for example, name;gender\n",
    "#for example, term;definition\n",
    "#for example, productID;price\n",
    "\n",
    "#to create dict, you use {  } ==> curly braces\n",
    "#use : to separate key, and value\n",
    "#use , to separate between pairs\n",
    "\n",
    "product_dict = {\n",
    "    '0010-32': 100,   #product-ID : price  | productID = category_ID-product_ID\n",
    "    '0010-33': 133,\n",
    "    '0020-12': 30\n",
    "}\n",
    "\n",
    "type(product_dict)"
   ]
  },
  {
   "cell_type": "code",
   "execution_count": null,
   "metadata": {},
   "outputs": [],
   "source": [
    "#please extract the price of product ID 0010-32\n",
    "\n",
    "#use the key\n",
    "\n",
    "product_dict['0010-32']"
   ]
  },
  {
   "cell_type": "code",
   "execution_count": null,
   "metadata": {},
   "outputs": [],
   "source": [
    "#let's have a bit of trial\n",
    "\n",
    "#can you guys create 5 names+gender pair; and try to extract the gender of \"Tom\"\n",
    "\n",
    "names = {\n",
    "    \"Tom\":\"Male\",\n",
    "    \"May\":\"Female\",\n",
    "    \"Sarah\":\"Female\"\n",
    "}\n",
    "\n",
    "names[\"Tom\"]"
   ]
  },
  {
   "cell_type": "markdown",
   "metadata": {},
   "source": [
    "What if I want to add/change/del dictionary on the fly"
   ]
  },
  {
   "cell_type": "code",
   "execution_count": null,
   "metadata": {},
   "outputs": [],
   "source": [
    "#I mean I don't have dictionary at the beginning; I want an empty dictionary\n",
    "\n",
    "#1st way: use dict() to create an empty dictionary (for list, use a = [], for tuple a = ())\n",
    "\n",
    "empty_dict = dict()"
   ]
  },
  {
   "cell_type": "code",
   "execution_count": null,
   "metadata": {},
   "outputs": [],
   "source": [
    "#another way is to use {}\n",
    "\n",
    "empty_dict = {}"
   ]
  },
  {
   "cell_type": "code",
   "execution_count": null,
   "metadata": {},
   "outputs": [],
   "source": [
    "#now I want to add some pairs of information\n",
    "empty_dict['Tom'] = 'Male'"
   ]
  },
  {
   "cell_type": "code",
   "execution_count": null,
   "metadata": {},
   "outputs": [],
   "source": [
    "empty_dict"
   ]
  },
  {
   "cell_type": "code",
   "execution_count": null,
   "metadata": {},
   "outputs": [],
   "source": [
    "empty_dict['May'] = 'Female'\n",
    "empty_dict"
   ]
  },
  {
   "cell_type": "code",
   "execution_count": null,
   "metadata": {},
   "outputs": [],
   "source": [
    "#what will happen if i target the same existing key\n",
    "empty_dict['Tom'] = 'Female'  #will this error, or will this change, or will this add one more entry\n",
    "\n",
    "#when you target \"existing\" key, it will change, NOT add.  This is because key MUST be unique\n",
    "empty_dict"
   ]
  },
  {
   "cell_type": "code",
   "execution_count": null,
   "metadata": {},
   "outputs": [],
   "source": [
    "#how to delete??\n",
    "\n",
    "#maybe you can try\n",
    "empty_dict['Tom'] = ''  #what happen?  Does this delete?\n",
    "\n",
    "empty_dict"
   ]
  },
  {
   "cell_type": "code",
   "execution_count": null,
   "metadata": {},
   "outputs": [],
   "source": [
    "#1st: use pop()\n",
    "empty_dict.pop('Tom')\n",
    "\n",
    "empty_dict  #tom is gone!"
   ]
  },
  {
   "cell_type": "code",
   "execution_count": null,
   "metadata": {},
   "outputs": [],
   "source": [
    "#let me add Tom back\n",
    "empty_dict['Tom'] = \"Male\"\n",
    "empty_dict"
   ]
  },
  {
   "cell_type": "code",
   "execution_count": null,
   "metadata": {},
   "outputs": [],
   "source": [
    "#2nd: use del dict[key]\n",
    "del empty_dict['Tom']\n",
    "empty_dict"
   ]
  },
  {
   "cell_type": "code",
   "execution_count": null,
   "metadata": {},
   "outputs": [],
   "source": [
    "#what if I want to clear the whole dictionary??\n",
    "\n",
    "del empty_dict\n",
    "\n",
    "empty_dict"
   ]
  },
  {
   "cell_type": "code",
   "execution_count": null,
   "metadata": {},
   "outputs": [],
   "source": [
    "empty_dict = dict()\n",
    "\n",
    "empty_dict['Tom'] = \"Male\"\n",
    "\n",
    "#want to clear  ==> basically like creating\n",
    "empty_dict = dict()   #use {}\n",
    "\n",
    "empty_dict"
   ]
  },
  {
   "cell_type": "markdown",
   "metadata": {},
   "source": [
    "Looping in dictionary"
   ]
  },
  {
   "cell_type": "code",
   "execution_count": null,
   "metadata": {},
   "outputs": [],
   "source": [
    "empty_dict['May'] = \"Female\"\n",
    "empty_dict['Tom'] = \"Male\"\n",
    "\n",
    "empty_dict"
   ]
  },
  {
   "cell_type": "code",
   "execution_count": null,
   "metadata": {},
   "outputs": [],
   "source": [
    "#first way - print only the keys!\n",
    "\n",
    "for something in empty_dict:\n",
    "    print(something)"
   ]
  },
  {
   "cell_type": "code",
   "execution_count": null,
   "metadata": {},
   "outputs": [],
   "source": [
    "#second way - I also want the values!!!  ---> use items()\n",
    "for key, value in empty_dict.items():\n",
    "    print(key, value, sep=\":\")"
   ]
  },
  {
   "cell_type": "code",
   "execution_count": null,
   "metadata": {},
   "outputs": [],
   "source": [
    "#of course, you can combine with enumerate\n",
    "\n",
    "for index, (key, value) in enumerate(empty_dict.items()):\n",
    "    print(index, key, value, sep=\":\")"
   ]
  },
  {
   "cell_type": "code",
   "execution_count": null,
   "metadata": {},
   "outputs": [],
   "source": [
    "#what if I want to sort the dictionary a bit\n",
    "\n",
    "empty_dict"
   ]
  },
  {
   "cell_type": "code",
   "execution_count": null,
   "metadata": {},
   "outputs": [],
   "source": [
    "empty_dict['Ash'] = \"Female\"\n",
    "empty_dict"
   ]
  },
  {
   "cell_type": "code",
   "execution_count": null,
   "metadata": {},
   "outputs": [],
   "source": [
    "for index, (key, value) in enumerate(sorted(empty_dict.items())):\n",
    "    print(index, key, value, sep=\":\")"
   ]
  },
  {
   "cell_type": "markdown",
   "metadata": {},
   "source": [
    "Let's do some challenge"
   ]
  },
  {
   "cell_type": "code",
   "execution_count": 1,
   "metadata": {},
   "outputs": [
    {
     "name": "stdout",
     "output_type": "stream",
     "text": [
      "===============Menu===============\n",
      "Select the choice:\n",
      "1. Add product\n",
      "2. Del product\n",
      "3. Get sum by store\n",
      "0. Exit\n"
     ]
    }
   ],
   "source": [
    "#create a empty dictionary called product\n",
    "product = dict()\n",
    "\n",
    "#has the following key and values\n",
    "#product ID:price\n",
    "#product ID is split by -   store_ID-productID\n",
    "#store ID is a two digit --> 11 means store 11\n",
    "#product ID is a four digit ---> 0120 means some product\n",
    "\n",
    "#the full product ID could be 11-0120\n",
    "\n",
    "#i want you to create a menu using input()\n",
    "def menu():\n",
    "    print(\"=\" * 15 + \"Menu\" + \"=\" * 15)\n",
    "    print(\"Select the choice:\")\n",
    "    print(\"1. Add product\")\n",
    "    print(\"2. Del product\")\n",
    "    print(\"3. Get sum by store\")\n",
    "    print(\"0. Exit\")\n",
    "    \n",
    "\n",
    "while(True):\n",
    "    menu()\n",
    "    choice = int(input())\n",
    "    if choice == 0:\n",
    "        break\n",
    "    \n",
    "    #1. add product (let's assume that the format is correct (optional: you can change the format))\n",
    "        #1.1 if the product ID already exists, don't ADD, but alert user!\n",
    "    if choice == 1:\n",
    "        print(\"Please specify the product ID\")\n",
    "        product_ID = input()\n",
    "        if product_ID in product:\n",
    "            print(\"ID already exists. Try another ID.\")\n",
    "        else:\n",
    "            price = input(\"Please specify the price\")\n",
    "            product[product_ID] = price\n",
    "            print(f\"{product_ID} with {price} is added...\")\n",
    "    \n",
    "    #2. del product (exact product ID)\n",
    "    if choice == 2:\n",
    "        print(\"Please specify the product ID\")\n",
    "        product_ID = input()\n",
    "        product.pop(product_ID) #not handling any exception but I will teach you (here we assume valid product _ID)\n",
    "        print(f\"{product_ID} removed...\")\n",
    "\n",
    "    #3. get the sum of product price based on store ID\n",
    "    if choice == 3:\n",
    "        sum_store = 0\n",
    "        store_ID  = input(\"Please specify the store ID\") \n",
    "        print(product)\n",
    "        for pid, price in product.items():\n",
    "            if pid[:2] == store_ID:\n",
    "                sum_store = sum_store + int(price)\n",
    "        print(f\"The sum price of store {store_ID} is {sum_store}\")\n",
    "\n",
    "\n",
    "    "
   ]
  }
 ],
 "metadata": {
  "kernelspec": {
   "display_name": "Python 3.10.4 64-bit",
   "language": "python",
   "name": "python3"
  },
  "language_info": {
   "codemirror_mode": {
    "name": "ipython",
    "version": 3
   },
   "file_extension": ".py",
   "mimetype": "text/x-python",
   "name": "python",
   "nbconvert_exporter": "python",
   "pygments_lexer": "ipython3",
   "version": "3.10.4"
  },
  "vscode": {
   "interpreter": {
    "hash": "c81d839d3c4227cd770621df97fe8191838af02e7eef185a922d8250cb33d344"
   }
  }
 },
 "nbformat": 4,
 "nbformat_minor": 4
}
