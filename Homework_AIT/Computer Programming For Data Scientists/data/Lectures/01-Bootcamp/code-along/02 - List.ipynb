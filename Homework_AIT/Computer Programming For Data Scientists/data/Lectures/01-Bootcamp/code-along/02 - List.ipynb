{
 "cells": [
  {
   "cell_type": "markdown",
   "metadata": {},
   "source": [
    "# Programming for Data Science and Artificial Intelligence"
   ]
  },
  {
   "cell_type": "markdown",
   "metadata": {},
   "source": [
    "### List"
   ]
  },
  {
   "cell_type": "code",
   "execution_count": 3,
   "metadata": {},
   "outputs": [],
   "source": [
    "#you create a list using square bracket\n",
    "#which the items are separated by commas\n",
    "x = [3, 9, 10]"
   ]
  },
  {
   "cell_type": "code",
   "execution_count": 4,
   "metadata": {},
   "outputs": [
    {
     "data": {
      "text/plain": [
       "list"
      ]
     },
     "execution_count": 4,
     "metadata": {},
     "output_type": "execute_result"
    }
   ],
   "source": [
    "type(x)"
   ]
  },
  {
   "cell_type": "code",
   "execution_count": 5,
   "metadata": {},
   "outputs": [
    {
     "data": {
      "text/plain": [
       "3"
      ]
     },
     "execution_count": 5,
     "metadata": {},
     "output_type": "execute_result"
    }
   ],
   "source": [
    "#to target each member, we start with index 0\n",
    "x[0]"
   ]
  },
  {
   "cell_type": "code",
   "execution_count": 6,
   "metadata": {},
   "outputs": [
    {
     "data": {
      "text/plain": [
       "9"
      ]
     },
     "execution_count": 6,
     "metadata": {},
     "output_type": "execute_result"
    }
   ],
   "source": [
    "#access 9 and 10 for me\n",
    "x[1]"
   ]
  },
  {
   "cell_type": "code",
   "execution_count": 7,
   "metadata": {},
   "outputs": [
    {
     "data": {
      "text/plain": [
       "10"
      ]
     },
     "execution_count": 7,
     "metadata": {},
     "output_type": "execute_result"
    }
   ],
   "source": [
    "x[2]"
   ]
  },
  {
   "cell_type": "code",
   "execution_count": 8,
   "metadata": {},
   "outputs": [
    {
     "data": {
      "text/plain": [
       "[3, 9, 10]"
      ]
     },
     "execution_count": 8,
     "metadata": {},
     "output_type": "execute_result"
    }
   ],
   "source": [
    "x"
   ]
  },
  {
   "cell_type": "code",
   "execution_count": 9,
   "metadata": {},
   "outputs": [
    {
     "ename": "IndexError",
     "evalue": "list index out of range",
     "output_type": "error",
     "traceback": [
      "\u001b[0;31m---------------------------------------------------------------------------\u001b[0m",
      "\u001b[0;31mIndexError\u001b[0m                                Traceback (most recent call last)",
      "\u001b[0;32m<ipython-input-9-dc2cd44e899d>\u001b[0m in \u001b[0;36m<module>\u001b[0;34m\u001b[0m\n\u001b[0;32m----> 1\u001b[0;31m \u001b[0mx\u001b[0m\u001b[0;34m[\u001b[0m\u001b[0;36m3\u001b[0m\u001b[0;34m]\u001b[0m\u001b[0;34m\u001b[0m\u001b[0;34m\u001b[0m\u001b[0m\n\u001b[0m",
      "\u001b[0;31mIndexError\u001b[0m: list index out of range"
     ]
    }
   ],
   "source": [
    "x[3]"
   ]
  },
  {
   "cell_type": "code",
   "execution_count": 10,
   "metadata": {},
   "outputs": [
    {
     "data": {
      "text/plain": [
       "12"
      ]
     },
     "execution_count": 10,
     "metadata": {},
     "output_type": "execute_result"
    }
   ],
   "source": [
    "#what if i have a very long list\n",
    "x = [1, 2, 3, 4, 5, 6, 7, 8, 9, 10, 11, 12]\n",
    "\n",
    "#i want the last member\n",
    "x[11]"
   ]
  },
  {
   "cell_type": "code",
   "execution_count": 11,
   "metadata": {},
   "outputs": [
    {
     "data": {
      "text/plain": [
       "12"
      ]
     },
     "execution_count": 11,
     "metadata": {},
     "output_type": "execute_result"
    }
   ],
   "source": [
    "#you can use negative sign to count from back\n",
    "x[-1]"
   ]
  },
  {
   "cell_type": "code",
   "execution_count": 12,
   "metadata": {},
   "outputs": [
    {
     "data": {
      "text/plain": [
       "[1, 2, 3, 4, 5, 6, 7, 8, 9, 10, 11, 12]"
      ]
     },
     "execution_count": 12,
     "metadata": {},
     "output_type": "execute_result"
    }
   ],
   "source": [
    "x"
   ]
  },
  {
   "cell_type": "code",
   "execution_count": 13,
   "metadata": {},
   "outputs": [
    {
     "data": {
      "text/plain": [
       "11"
      ]
     },
     "execution_count": 13,
     "metadata": {},
     "output_type": "execute_result"
    }
   ],
   "source": [
    "x[-2]"
   ]
  },
  {
   "cell_type": "code",
   "execution_count": 16,
   "metadata": {},
   "outputs": [
    {
     "ename": "IndexError",
     "evalue": "list index out of range",
     "output_type": "error",
     "traceback": [
      "\u001b[0;31m---------------------------------------------------------------------------\u001b[0m",
      "\u001b[0;31mIndexError\u001b[0m                                Traceback (most recent call last)",
      "\u001b[0;32m<ipython-input-16-6d802b1d55b5>\u001b[0m in \u001b[0;36m<module>\u001b[0;34m\u001b[0m\n\u001b[0;32m----> 1\u001b[0;31m \u001b[0mx\u001b[0m\u001b[0;34m[\u001b[0m\u001b[0;34m-\u001b[0m\u001b[0;36m13\u001b[0m\u001b[0;34m]\u001b[0m\u001b[0;34m\u001b[0m\u001b[0;34m\u001b[0m\u001b[0m\n\u001b[0m",
      "\u001b[0;31mIndexError\u001b[0m: list index out of range"
     ]
    }
   ],
   "source": [
    "x[-13]"
   ]
  },
  {
   "cell_type": "markdown",
   "metadata": {},
   "source": [
    "Select more than one members"
   ]
  },
  {
   "cell_type": "code",
   "execution_count": null,
   "metadata": {},
   "outputs": [],
   "source": [
    "x = [1, 2, 3, 4, 5]"
   ]
  },
  {
   "cell_type": "code",
   "execution_count": 17,
   "metadata": {},
   "outputs": [
    {
     "data": {
      "text/plain": [
       "[1, 2]"
      ]
     },
     "execution_count": 17,
     "metadata": {},
     "output_type": "execute_result"
    }
   ],
   "source": [
    "#i want to get 1, 2, 3, not only one member\n",
    "#trick: use semicolon\n",
    "\n",
    "#x[start:stop]  #this \"stop\" is exclusive, which means it WON'T include the stop\n",
    "x[0:2]"
   ]
  },
  {
   "cell_type": "code",
   "execution_count": 18,
   "metadata": {},
   "outputs": [
    {
     "data": {
      "text/plain": [
       "[1, 2, 3]"
      ]
     },
     "execution_count": 18,
     "metadata": {},
     "output_type": "execute_result"
    }
   ],
   "source": [
    "x[0:3]"
   ]
  },
  {
   "cell_type": "code",
   "execution_count": 19,
   "metadata": {},
   "outputs": [
    {
     "data": {
      "text/plain": [
       "[2, 3, 4]"
      ]
     },
     "execution_count": 19,
     "metadata": {},
     "output_type": "execute_result"
    }
   ],
   "source": [
    "#please get 2, 3, 4 for me\n",
    "x[1:4]"
   ]
  },
  {
   "cell_type": "code",
   "execution_count": null,
   "metadata": {},
   "outputs": [],
   "source": [
    "x = [1, 2, 3, 4, 5, 6, 7]"
   ]
  },
  {
   "cell_type": "code",
   "execution_count": 20,
   "metadata": {},
   "outputs": [
    {
     "data": {
      "text/plain": [
       "[9, 10, 11, 12]"
      ]
     },
     "execution_count": 20,
     "metadata": {},
     "output_type": "execute_result"
    }
   ],
   "source": [
    "#get from the back, 4, 5, 6, 7\n",
    "x[-4:]  #you do not need to put anything, it will mean until the end"
   ]
  },
  {
   "cell_type": "code",
   "execution_count": 21,
   "metadata": {},
   "outputs": [
    {
     "data": {
      "text/plain": [
       "[1, 2, 3, 4, 5, 6, 7, 8, 9, 10, 11, 12]"
      ]
     },
     "execution_count": 21,
     "metadata": {},
     "output_type": "execute_result"
    }
   ],
   "source": [
    "x"
   ]
  },
  {
   "cell_type": "code",
   "execution_count": 22,
   "metadata": {},
   "outputs": [
    {
     "data": {
      "text/plain": [
       "[11, 12]"
      ]
     },
     "execution_count": 22,
     "metadata": {},
     "output_type": "execute_result"
    }
   ],
   "source": [
    "#get the last two members, from the back\n",
    "#i.e., 11, 12\n",
    "x[-2:]"
   ]
  },
  {
   "cell_type": "code",
   "execution_count": 23,
   "metadata": {},
   "outputs": [
    {
     "data": {
      "text/plain": [
       "[1, 2, 3, 4, 5, 6, 7, 8, 9, 10, 11, 12]"
      ]
     },
     "execution_count": 23,
     "metadata": {},
     "output_type": "execute_result"
    }
   ],
   "source": [
    "x[:]"
   ]
  },
  {
   "cell_type": "code",
   "execution_count": 24,
   "metadata": {},
   "outputs": [
    {
     "data": {
      "text/plain": [
       "[4, 5, 6, 7, 8, 9, 10, 11, 12]"
      ]
     },
     "execution_count": 24,
     "metadata": {},
     "output_type": "execute_result"
    }
   ],
   "source": [
    "x[3:]"
   ]
  },
  {
   "cell_type": "code",
   "execution_count": 25,
   "metadata": {},
   "outputs": [
    {
     "data": {
      "text/plain": [
       "[1, 2, 3]"
      ]
     },
     "execution_count": 25,
     "metadata": {},
     "output_type": "execute_result"
    }
   ],
   "source": [
    "x[:3]"
   ]
  },
  {
   "cell_type": "markdown",
   "metadata": {},
   "source": [
    "Skipping list members"
   ]
  },
  {
   "cell_type": "code",
   "execution_count": 28,
   "metadata": {},
   "outputs": [
    {
     "data": {
      "text/plain": [
       "[1, 3, 5, 7, 9]"
      ]
     },
     "execution_count": 28,
     "metadata": {},
     "output_type": "execute_result"
    }
   ],
   "source": [
    "x = [1, 2, 3, 4, 5, 6, 7, 8, 9, 10]\n",
    "\n",
    "#i want only even numbers...how to do?\n",
    "#x[start:stop:step]\n",
    "\n",
    "x[0::2]"
   ]
  },
  {
   "cell_type": "code",
   "execution_count": 29,
   "metadata": {},
   "outputs": [
    {
     "data": {
      "text/plain": [
       "[2, 4, 6, 8, 10]"
      ]
     },
     "execution_count": 29,
     "metadata": {},
     "output_type": "execute_result"
    }
   ],
   "source": [
    "#get all the even numbers\n",
    "x[1::2]"
   ]
  },
  {
   "cell_type": "markdown",
   "metadata": {},
   "source": [
    "String as list"
   ]
  },
  {
   "cell_type": "code",
   "execution_count": 30,
   "metadata": {},
   "outputs": [
    {
     "data": {
      "text/plain": [
       "'P'"
      ]
     },
     "execution_count": 30,
     "metadata": {},
     "output_type": "execute_result"
    }
   ],
   "source": [
    "x = \"Python\"  #actually, string is a list of characters!\n",
    "\n",
    "#what if i want the letter 'P'\n",
    "x[0]"
   ]
  },
  {
   "cell_type": "code",
   "execution_count": 31,
   "metadata": {},
   "outputs": [
    {
     "data": {
      "text/plain": [
       "'thon'"
      ]
     },
     "execution_count": 31,
     "metadata": {},
     "output_type": "execute_result"
    }
   ],
   "source": [
    "#get \"thon\"\n",
    "x[2:]"
   ]
  },
  {
   "cell_type": "code",
   "execution_count": 32,
   "metadata": {},
   "outputs": [],
   "source": [
    "product_ID = '0021-3233-3221'  #department_ID - category-ID - product-ID\n",
    "\n",
    "#can you help me extract all the IDs for me\n",
    "dept_ID = product_ID[:4]\n",
    "cat_ID  = product_ID[5:9]\n",
    "prod_ID = product_ID[-4:]"
   ]
  },
  {
   "cell_type": "code",
   "execution_count": 33,
   "metadata": {},
   "outputs": [
    {
     "name": "stdout",
     "output_type": "stream",
     "text": [
      "0021 3233 3221\n"
     ]
    }
   ],
   "source": [
    "print(dept_ID, cat_ID, prod_ID)"
   ]
  },
  {
   "cell_type": "code",
   "execution_count": 34,
   "metadata": {},
   "outputs": [
    {
     "name": "stdout",
     "output_type": "stream",
     "text": [
      "['0021', '3233', '3221']\n"
     ]
    }
   ],
   "source": [
    "list_of_IDs = product_ID.split('-')\n",
    "print(list_of_IDs)"
   ]
  },
  {
   "cell_type": "markdown",
   "metadata": {},
   "source": [
    "Making list"
   ]
  },
  {
   "cell_type": "code",
   "execution_count": 35,
   "metadata": {},
   "outputs": [],
   "source": [
    "x = [1, True, \"String\"]"
   ]
  },
  {
   "cell_type": "code",
   "execution_count": 36,
   "metadata": {},
   "outputs": [],
   "source": [
    "#we want to create a list of continuing numbers\n",
    "#I want 0 to 10\n",
    "x = [0, 1, 2, 3, 4, 5, 6, 7, 8, 9, 10]"
   ]
  },
  {
   "cell_type": "code",
   "execution_count": 37,
   "metadata": {},
   "outputs": [
    {
     "data": {
      "text/plain": [
       "range(0, 10)"
      ]
     },
     "execution_count": 37,
     "metadata": {},
     "output_type": "execute_result"
    }
   ],
   "source": [
    "#range(start:stop:step)\n",
    "#range(stop)\n",
    "\n",
    "range(10)  #this won't create a list yet; a range object"
   ]
  },
  {
   "cell_type": "code",
   "execution_count": 39,
   "metadata": {},
   "outputs": [
    {
     "data": {
      "text/plain": [
       "[0, 1, 2, 3, 4, 5, 6, 7, 8, 9, 10]"
      ]
     },
     "execution_count": 39,
     "metadata": {},
     "output_type": "execute_result"
    }
   ],
   "source": [
    "#convert the range object to list using list()\n",
    "list(range(11))"
   ]
  },
  {
   "cell_type": "code",
   "execution_count": 40,
   "metadata": {},
   "outputs": [
    {
     "data": {
      "text/plain": [
       "[2, 3, 4, 5]"
      ]
     },
     "execution_count": 40,
     "metadata": {},
     "output_type": "execute_result"
    }
   ],
   "source": [
    "#what if i want a list from 2 to 5\n",
    "#range(start:stop:step)\n",
    "\n",
    "range_obj = range(2, 6)\n",
    "\n",
    "list(range_obj)"
   ]
  },
  {
   "cell_type": "code",
   "execution_count": 41,
   "metadata": {},
   "outputs": [
    {
     "data": {
      "text/plain": [
       "[2, 4, 6, 8]"
      ]
     },
     "execution_count": 41,
     "metadata": {},
     "output_type": "execute_result"
    }
   ],
   "source": [
    "#can you create 2, 4, 6, 8\n",
    "#range(start:stop:step)\n",
    "\n",
    "range_obj = range(2, 9, 2)\n",
    "\n",
    "list(range_obj)"
   ]
  },
  {
   "cell_type": "code",
   "execution_count": 42,
   "metadata": {},
   "outputs": [
    {
     "data": {
      "text/plain": [
       "[8, 6, 4, 2]"
      ]
     },
     "execution_count": 42,
     "metadata": {},
     "output_type": "execute_result"
    }
   ],
   "source": [
    "#can you create 8, 6, 4, 2\n",
    "range_obj = range(8, 1, -2)\n",
    "\n",
    "list(range_obj)"
   ]
  },
  {
   "cell_type": "code",
   "execution_count": 43,
   "metadata": {},
   "outputs": [
    {
     "data": {
      "text/plain": [
       "[-5, 0, 5, 10, 15]"
      ]
     },
     "execution_count": 43,
     "metadata": {},
     "output_type": "execute_result"
    }
   ],
   "source": [
    "#can you create -5, 0, 5, 10, 15\n",
    "range_obj = range(-5, 16, 5)\n",
    "\n",
    "list(range_obj)"
   ]
  },
  {
   "cell_type": "markdown",
   "metadata": {},
   "source": [
    "Changing or adding elements in the list"
   ]
  },
  {
   "cell_type": "code",
   "execution_count": 45,
   "metadata": {},
   "outputs": [
    {
     "name": "stdout",
     "output_type": "stream",
     "text": [
      "Using the index way:  [1, 2, 4]\n",
      "Using the append way:  [1, 2, 4, 99]\n"
     ]
    }
   ],
   "source": [
    "x = [1, 2, 3]\n",
    "\n",
    "#what if I want to add or change another element\n",
    "\n",
    "#if you want to change - index way\n",
    "x[2] = 4\n",
    "print(\"Using the index way: \", x)  #1, 2, 4\n",
    "\n",
    "#if you want to add - append way\n",
    "x.append(99)\n",
    "print(\"Using the append way: \", x) #1, 2, 4, 99"
   ]
  },
  {
   "cell_type": "code",
   "execution_count": 46,
   "metadata": {},
   "outputs": [
    {
     "data": {
      "text/plain": [
       "['John', 'Tom', 'May', 'July', 'Sam', 'Yuu']"
      ]
     },
     "execution_count": 46,
     "metadata": {},
     "output_type": "execute_result"
    }
   ],
   "source": [
    "x = [\"John\", \"Tom\", \"Peter\"]\n",
    "\n",
    "#change the name of \"Peter\" to \"May\"\n",
    "x[2] = \"May\"\n",
    "\n",
    "#please add three more names\n",
    "x.append(\"July\")\n",
    "x.append(\"Sam\")\n",
    "x.append(\"Yuu\")\n",
    "\n",
    "x"
   ]
  },
  {
   "cell_type": "markdown",
   "metadata": {},
   "source": [
    "Combine list"
   ]
  },
  {
   "cell_type": "code",
   "execution_count": 47,
   "metadata": {},
   "outputs": [
    {
     "data": {
      "text/plain": [
       "['John', 'Tom', 'Peter', ['July', 'Sam', 'Yuu']]"
      ]
     },
     "execution_count": 47,
     "metadata": {},
     "output_type": "execute_result"
    }
   ],
   "source": [
    "x = [\"John\", \"Tom\", \"Peter\"]\n",
    "y = ['July', 'Sam', 'Yuu']\n",
    "\n",
    "#how to combine these two lists?\n",
    "\n",
    "x.append(y)   #behavior is that the list of y will be inside x (you will have list of list)\n",
    "x"
   ]
  },
  {
   "cell_type": "code",
   "execution_count": 48,
   "metadata": {},
   "outputs": [],
   "source": [
    "#how do i combine these two lists, avoid list of list\n",
    "#use .extend instead\n",
    "x.extend(y)"
   ]
  },
  {
   "cell_type": "code",
   "execution_count": 49,
   "metadata": {},
   "outputs": [
    {
     "data": {
      "text/plain": [
       "['John', 'Tom', 'Peter', ['July', 'Sam', 'Yuu'], 'July', 'Sam', 'Yuu']"
      ]
     },
     "execution_count": 49,
     "metadata": {},
     "output_type": "execute_result"
    }
   ],
   "source": [
    "x"
   ]
  },
  {
   "cell_type": "code",
   "execution_count": 50,
   "metadata": {},
   "outputs": [
    {
     "name": "stdout",
     "output_type": "stream",
     "text": [
      "[3, 6, 9, 12, -5, 0, 5, 10, 15]\n"
     ]
    }
   ],
   "source": [
    "#create two lists\n",
    "#first is 3, 6, 9, 12\n",
    "#second is -5, 0, 10, 15\n",
    "#combine them\n",
    "\n",
    "first, second = list(  range(3, 13, 3)   ),  list(  range(-5, 16, 5)   )\n",
    "\n",
    "first.extend(second)\n",
    "\n",
    "print(first)\n"
   ]
  },
  {
   "cell_type": "markdown",
   "metadata": {},
   "source": [
    "Sorting"
   ]
  },
  {
   "cell_type": "code",
   "execution_count": 5,
   "metadata": {},
   "outputs": [
    {
     "name": "stdout",
     "output_type": "stream",
     "text": [
      "please input your name (Type exit to leave)\n",
      "please input your email\n",
      "please input your name (Type exit to leave)\n",
      "['chaky']\n",
      "['chaklam@gmail.com']\n"
     ]
    }
   ],
   "source": [
    "#regular expression\n",
    "import re #regular expression\n",
    "\n",
    "#my email pattern name@domainname.com\n",
    "#start with a hat, which depicts the start of the expression\n",
    "#two symbols to depict how long\n",
    "# + means one or more\n",
    "# ? means zero or more\n",
    "# dot is a reserved symbol, so you need to escape\n",
    "# {1,3} means 1 to 3 letters ==> no space!\n",
    "# you finish with a dollar sign\n",
    "pattern = \"^[a-zA-Z0-9]+@[a-zA-Z0-9]+\\.[a-z]{1,3}$\"\n",
    "\n",
    "i = 0\n",
    "list_of_names  = []\n",
    "list_of_emails = []\n",
    "\n",
    "while(True):                    \n",
    "    print(\"please input your name (Type exit to leave)\")\n",
    "    name = input()\n",
    "    if name == \"exit\":                #(done!) instead of 3, if they input \"exit\"\n",
    "        break\n",
    "    print(\"please input your email\")  \n",
    "    email = input()\n",
    "    \n",
    "    #check email validity\n",
    "    if not re.match(pattern, email):\n",
    "        continue\n",
    "        \n",
    "    #(done!) before you append, if the name already exists or email already exist, tell them to try again....(Hint: using in)\n",
    "    if(name in list_of_names or email in list_of_emails):\n",
    "        continue\n",
    "    \n",
    "    list_of_emails.append(email)\n",
    "    list_of_names.append(name)  # (done) keep adding names for me  #use isaplha() to check whether is really letters\n",
    "\n",
    "list_of_names.sort()\n",
    "list_of_emails.sort()\n",
    "    \n",
    "print(list_of_names)   # (done) please sort the name using .sort()\n",
    "print(list_of_emails)   # (done) please sort the name using .sort()"
   ]
  },
  {
   "cell_type": "markdown",
   "metadata": {},
   "source": [
    "Looping list"
   ]
  },
  {
   "cell_type": "code",
   "execution_count": 7,
   "metadata": {},
   "outputs": [
    {
     "name": "stdout",
     "output_type": "stream",
     "text": [
      "1\n",
      "2\n",
      "3\n"
     ]
    }
   ],
   "source": [
    "#how do we read each of the element one by one\n",
    "\n",
    "#they are three ways\n",
    "\n",
    "x = [1, 2, 3]\n",
    "\n",
    "#1st using for items in list:\n",
    "for whatevername in x:\n",
    "    print(whatevername)"
   ]
  },
  {
   "cell_type": "code",
   "execution_count": 8,
   "metadata": {},
   "outputs": [
    {
     "name": "stdout",
     "output_type": "stream",
     "text": [
      "0\n",
      "1\n",
      "2\n",
      "3\n",
      "4\n",
      "5\n",
      "6\n",
      "7\n",
      "8\n",
      "9\n"
     ]
    }
   ],
   "source": [
    "#create a list of 0 to 9\n",
    "#loop and print each of them\n",
    "\n",
    "x = list(range(10))\n",
    "\n",
    "for item in x:\n",
    "    print(item)"
   ]
  },
  {
   "cell_type": "code",
   "execution_count": 9,
   "metadata": {},
   "outputs": [
    {
     "name": "stdout",
     "output_type": "stream",
     "text": [
      "0\n",
      "1\n",
      "2\n",
      "3\n",
      "4\n",
      "5\n",
      "6\n",
      "7\n",
      "8\n",
      "9\n"
     ]
    }
   ],
   "source": [
    "#2nd way: directly use range()\n",
    "\n",
    "for item in range(10):\n",
    "    print(item)"
   ]
  },
  {
   "cell_type": "code",
   "execution_count": 10,
   "metadata": {},
   "outputs": [
    {
     "name": "stdout",
     "output_type": "stream",
     "text": [
      "0 - Sword\n",
      "1 - Magic\n",
      "2 - Shield\n"
     ]
    }
   ],
   "source": [
    "#3rd way: using enumerate\n",
    "x = [\"Sword\", \"Magic\", \"Shield\"]\n",
    "\n",
    "for index, item in enumerate(x):   #put in front of the list a function of enumerate(), and also accept one more argument\n",
    "    print(index, item, sep=\" - \")  #I want to also print something 1. Sword, 2. Magic, 3. Shield"
   ]
  },
  {
   "cell_type": "markdown",
   "metadata": {},
   "source": [
    "Randomization in list"
   ]
  },
  {
   "cell_type": "code",
   "execution_count": 11,
   "metadata": {},
   "outputs": [
    {
     "name": "stdout",
     "output_type": "stream",
     "text": [
      "2\n"
     ]
    }
   ],
   "source": [
    "import random\n",
    "\n",
    "x = list(range(10))  #0 - 9\n",
    "\n",
    "print(random.choice(x))              #one random number from this list x; randomly pick from this list"
   ]
  },
  {
   "cell_type": "code",
   "execution_count": 12,
   "metadata": {},
   "outputs": [
    {
     "name": "stdout",
     "output_type": "stream",
     "text": [
      "Python\n"
     ]
    }
   ],
   "source": [
    "#create a list of three dictionary item\n",
    "#randomly pick one for me\n",
    "\n",
    "#imagine you are playing hangman\n",
    "dictionaries = ['Python', 'List', 'Jiraffe']\n",
    "\n",
    "secret = random.choice(dictionaries)\n",
    "\n",
    "print(secret)"
   ]
  },
  {
   "cell_type": "code",
   "execution_count": 14,
   "metadata": {},
   "outputs": [
    {
     "name": "stdout",
     "output_type": "stream",
     "text": [
      "['List', 'Python']\n"
     ]
    }
   ],
   "source": [
    "#what if I want to randomly pick 2 items out of the list\n",
    "\n",
    "#random.sample returns a list\n",
    "print(random.sample(dictionaries, 2))"
   ]
  },
  {
   "cell_type": "markdown",
   "metadata": {},
   "source": [
    "List comprehension"
   ]
  },
  {
   "cell_type": "code",
   "execution_count": 84,
   "metadata": {
    "scrolled": true
   },
   "outputs": [
    {
     "name": "stdout",
     "output_type": "stream",
     "text": [
      "[2, 3, 4]\n"
     ]
    }
   ],
   "source": [
    "#this is REALLY REALLY COOL!   \n",
    "\n",
    "x = [1, 2, 3]\n",
    "\n",
    "#can you guys help me loop them, and add 1 to each of them\n",
    "#output = [2, 3, 4]\n",
    "\n",
    "for index, _ in enumerate(x):\n",
    "    x[index] = x[index] + 1\n",
    "    \n",
    "print(x)\n",
    "\n"
   ]
  },
  {
   "cell_type": "code",
   "execution_count": 86,
   "metadata": {},
   "outputs": [
    {
     "name": "stdout",
     "output_type": "stream",
     "text": [
      "[3, 4, 5]\n"
     ]
    }
   ],
   "source": [
    "new_list = [num + 1 for num in x]\n",
    "\n",
    "print(new_list)"
   ]
  },
  {
   "cell_type": "markdown",
   "metadata": {},
   "source": [
    "Challenge!"
   ]
  },
  {
   "cell_type": "code",
   "execution_count": 19,
   "metadata": {},
   "outputs": [
    {
     "name": "stdout",
     "output_type": "stream",
     "text": [
      "game_map [1, 2, 0, 0, 1, 1, 0, 2, 2, 0, 1, 2, 0, 0, 0]\n",
      "Number of coins:  4\n",
      "Current level:  2\n",
      "Place where the monster is [0, 4, 5, 10]\n"
     ]
    }
   ],
   "source": [
    "#step 1. randomly create a list of length 15, compose of 0, 1, 2 randomly\n",
    "#e.g., [0011211122200]\n",
    "#0 will mean nothing\n",
    "#1 means monster\n",
    "#2 means coin\n",
    "\n",
    "game_map = []\n",
    "\n",
    "for _ in range(15):\n",
    "    game_map.append(random.randint(0, 2))\n",
    "\n",
    "print('game_map',game_map)\n",
    "\n",
    "wallet  = 0\n",
    "level   = 0\n",
    "monster = 0\n",
    "dangerous_place = []\n",
    "\n",
    "#step 2: loop through the list\n",
    "for index, event in enumerate(game_map):\n",
    "    if event == 0:    #if if is nothing, go to next item\n",
    "        pass\n",
    "\n",
    "    if event == 1:    #if it is 1 (monster), you will always successfully kill it\n",
    "    \n",
    "        #keep track of the index where the monster is ==> [2, 3, 5, 6, 7]\n",
    "        dangerous_place.append(index)\n",
    "        \n",
    "        monster = monster + 1\n",
    "        \n",
    "        if (level < monster):\n",
    "            level = level + 1\n",
    "            monster = 0\n",
    "        # 0  -> 0 + 1 monster\n",
    "        # 1  --> 1 + 2 monster\n",
    "        #initially, your level is 0, if you kill one monster, you level up\n",
    "        #when your level is 1, you need to kill two monsters, then you level up\n",
    "        #when your level is 2, you need to kill three monsters to level up\n",
    "        \n",
    "    if event == 2: #if it is 2 (coin), add coin to the wallet\n",
    "        wallet = wallet + 1 \n",
    "\n",
    "#step 3: print the level, wallet, place where the monster is\n",
    "print(\"Number of coins: \", wallet)\n",
    "print(\"Current level: \", level)\n",
    "print(\"Place where the monster is\", dangerous_place)\n",
    "\n",
    "#esimated time: 10 minutes"
   ]
  },
  {
   "cell_type": "code",
   "execution_count": null,
   "metadata": {},
   "outputs": [],
   "source": []
  }
 ],
 "metadata": {
  "kernelspec": {
   "display_name": "Python 3.10.4 64-bit",
   "language": "python",
   "name": "python3"
  },
  "language_info": {
   "codemirror_mode": {
    "name": "ipython",
    "version": 3
   },
   "file_extension": ".py",
   "mimetype": "text/x-python",
   "name": "python",
   "nbconvert_exporter": "python",
   "pygments_lexer": "ipython3",
   "version": "3.10.4"
  },
  "vscode": {
   "interpreter": {
    "hash": "c81d839d3c4227cd770621df97fe8191838af02e7eef185a922d8250cb33d344"
   }
  }
 },
 "nbformat": 4,
 "nbformat_minor": 4
}
