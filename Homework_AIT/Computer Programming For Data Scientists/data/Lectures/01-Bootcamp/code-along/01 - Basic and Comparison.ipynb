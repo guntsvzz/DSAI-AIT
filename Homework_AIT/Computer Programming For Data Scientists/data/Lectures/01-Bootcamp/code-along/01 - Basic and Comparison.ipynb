{
 "cells": [
  {
   "cell_type": "markdown",
   "metadata": {},
   "source": [
    "# Programming for Data Science and Artificial Intelligence\n",
    "\n",
    "## 1 Introduction to Python\n",
    "\n",
    "### Readings: \n",
    "- https://docs.python.org/3/tutorial/"
   ]
  },
  {
   "cell_type": "markdown",
   "metadata": {},
   "source": [
    "### Basics"
   ]
  },
  {
   "cell_type": "markdown",
   "metadata": {},
   "source": [
    "Assigning variables.  By convention, variable names start with a lower-case letter."
   ]
  },
  {
   "cell_type": "code",
   "execution_count": 1,
   "metadata": {},
   "outputs": [
    {
     "data": {
      "text/plain": [
       "int"
      ]
     },
     "execution_count": 1,
     "metadata": {},
     "output_type": "execute_result"
    }
   ],
   "source": [
    "#this is the comment\n",
    "x = 3 ##you do not have to specify the \"type\" of the variable\n",
    "type(x)\n",
    "\n",
    "#press B for new cell"
   ]
  },
  {
   "cell_type": "code",
   "execution_count": 2,
   "metadata": {},
   "outputs": [
    {
     "data": {
      "text/plain": [
       "float"
      ]
     },
     "execution_count": 2,
     "metadata": {},
     "output_type": "execute_result"
    }
   ],
   "source": [
    "x = 3.\n",
    "type(x)"
   ]
  },
  {
   "cell_type": "code",
   "execution_count": 4,
   "metadata": {},
   "outputs": [
    {
     "data": {
      "text/plain": [
       "bool"
      ]
     },
     "execution_count": 4,
     "metadata": {},
     "output_type": "execute_result"
    }
   ],
   "source": [
    "x = False  # or True\n",
    "type(x)  #bool ==> boolean  ===> True or False"
   ]
  },
  {
   "cell_type": "code",
   "execution_count": 5,
   "metadata": {},
   "outputs": [
    {
     "data": {
      "text/plain": [
       "int"
      ]
     },
     "execution_count": 5,
     "metadata": {},
     "output_type": "execute_result"
    }
   ],
   "source": [
    "x = 1  #this is also treated as True\n",
    "type(x)"
   ]
  },
  {
   "cell_type": "code",
   "execution_count": 6,
   "metadata": {},
   "outputs": [
    {
     "data": {
      "text/plain": [
       "int"
      ]
     },
     "execution_count": 6,
     "metadata": {},
     "output_type": "execute_result"
    }
   ],
   "source": [
    "x = 0  #this is also treated as False\n",
    "type(x)"
   ]
  },
  {
   "cell_type": "code",
   "execution_count": 7,
   "metadata": {},
   "outputs": [
    {
     "data": {
      "text/plain": [
       "str"
      ]
     },
     "execution_count": 7,
     "metadata": {},
     "output_type": "execute_result"
    }
   ],
   "source": [
    "x = 'hello'\n",
    "type(x)"
   ]
  },
  {
   "cell_type": "code",
   "execution_count": 11,
   "metadata": {},
   "outputs": [
    {
     "data": {
      "text/plain": [
       "str"
      ]
     },
     "execution_count": 11,
     "metadata": {},
     "output_type": "execute_result"
    }
   ],
   "source": [
    "x = \"3\"\n",
    "type(x)"
   ]
  },
  {
   "cell_type": "code",
   "execution_count": null,
   "metadata": {},
   "outputs": [],
   "source": [
    "#four primitive types are integer, float, boolean, and string"
   ]
  },
  {
   "cell_type": "code",
   "execution_count": 8,
   "metadata": {},
   "outputs": [
    {
     "data": {
      "text/plain": [
       "1"
      ]
     },
     "execution_count": 8,
     "metadata": {},
     "output_type": "execute_result"
    }
   ],
   "source": [
    "a, b, c = 1, 2, 3 #multiple assignments\n",
    "a"
   ]
  },
  {
   "cell_type": "code",
   "execution_count": 9,
   "metadata": {},
   "outputs": [
    {
     "data": {
      "text/plain": [
       "'string'"
      ]
     },
     "execution_count": 9,
     "metadata": {},
     "output_type": "execute_result"
    }
   ],
   "source": [
    "a, b, c = True, 1, \"string\"\n",
    "c"
   ]
  },
  {
   "cell_type": "code",
   "execution_count": 10,
   "metadata": {},
   "outputs": [],
   "source": [
    "#constants are variable that you DO NOT want to change the value\n",
    "#by convention/practice, we like to assign constant UPPERCASE\n",
    "PI = 3.14"
   ]
  },
  {
   "cell_type": "markdown",
   "metadata": {},
   "source": [
    "Various ways to print"
   ]
  },
  {
   "cell_type": "code",
   "execution_count": 12,
   "metadata": {},
   "outputs": [
    {
     "name": "stdout",
     "output_type": "stream",
     "text": [
      "3\n"
     ]
    }
   ],
   "source": [
    "print(x)"
   ]
  },
  {
   "cell_type": "markdown",
   "metadata": {},
   "source": [
    "Printing is very essential component in applications.  Especially when you want to print the status of your program."
   ]
  },
  {
   "cell_type": "code",
   "execution_count": 13,
   "metadata": {},
   "outputs": [
    {
     "name": "stdout",
     "output_type": "stream",
     "text": [
      "hello world\n"
     ]
    }
   ],
   "source": [
    "print(\"hello world\")"
   ]
  },
  {
   "cell_type": "code",
   "execution_count": 40,
   "metadata": {},
   "outputs": [
    {
     "name": "stdout",
     "output_type": "stream",
     "text": [
      "hello world: 3.14444444\n"
     ]
    }
   ],
   "source": [
    "#comma way\n",
    "print(\"hello world:\", x)"
   ]
  },
  {
   "cell_type": "code",
   "execution_count": 15,
   "metadata": {},
   "outputs": [
    {
     "name": "stdout",
     "output_type": "stream",
     "text": [
      "hello world:  3 3 3 3 3 3 3 3 3 hello again\n"
     ]
    }
   ],
   "source": [
    "print(\"hello world: \", x, x, x, x, x, x, x, x, x, \"hello again\")"
   ]
  },
  {
   "cell_type": "code",
   "execution_count": 17,
   "metadata": {},
   "outputs": [
    {
     "name": "stdout",
     "output_type": "stream",
     "text": [
      "hello world: 3; 10\n"
     ]
    }
   ],
   "source": [
    "#f-string\n",
    "y = 10\n",
    "print(f\"hello world: {x}; {y}\")"
   ]
  },
  {
   "cell_type": "code",
   "execution_count": 20,
   "metadata": {},
   "outputs": [
    {
     "name": "stdout",
     "output_type": "stream",
     "text": [
      "hello world: 3.14; 1.122\n"
     ]
    }
   ],
   "source": [
    "#f-string to control how many decimals\n",
    "x = 3.14444444\n",
    "y = 1.12222222\n",
    "\n",
    "print(f\"hello world: {x:.2f}; {y:.3f}\")"
   ]
  },
  {
   "cell_type": "code",
   "execution_count": 41,
   "metadata": {},
   "outputs": [
    {
     "name": "stdout",
     "output_type": "stream",
     "text": [
      "            key          value\n",
      "3.14444444     1.12222222     \n",
      "3.14444444     1.12222222     \n",
      "3.14444444     1.12222222     \n",
      "3.14444444     1.12222222     \n"
     ]
    }
   ],
   "source": [
    "print(f\"{'key':>15}{'value':>15}\")\n",
    "print(f\"{x:<15}{y:<15}\")  #for right align\n",
    "print(f\"{x:<15}{y:<15}\")\n",
    "print(f\"{x:<15}{y:<15}\")\n",
    "print(f\"{x:<15}{y:<15}\")"
   ]
  },
  {
   "cell_type": "code",
   "execution_count": 27,
   "metadata": {},
   "outputs": [
    {
     "name": "stdout",
     "output_type": "stream",
     "text": [
      "\"hi\"\n"
     ]
    }
   ],
   "source": [
    "#i literally want to print \"hi\"\n",
    "print(\"\\\"hi\\\"\")  #this action of slashing is called \"escaping characters\""
   ]
  },
  {
   "cell_type": "code",
   "execution_count": 33,
   "metadata": {},
   "outputs": [
    {
     "name": "stdout",
     "output_type": "stream",
     "text": [
      "User:::::::Desktop:::::::Folders\n"
     ]
    }
   ],
   "source": [
    "print(\"User\", \"Desktop\", \"Folders\", sep=\":::::::\")"
   ]
  },
  {
   "cell_type": "code",
   "execution_count": 39,
   "metadata": {},
   "outputs": [
    {
     "name": "stdout",
     "output_type": "stream",
     "text": [
      "=+=+=+=+=+=+=+=+=+=+=+=+=+=+=+Start Programming+=+=+=+=+=+=+=+=+=+=+=+=+=+=+=\n"
     ]
    }
   ],
   "source": [
    "print(\"=+\" * 15 + \"Start Programming\" + \"+=\" * 15)"
   ]
  },
  {
   "cell_type": "markdown",
   "metadata": {},
   "source": [
    "Booleans"
   ]
  },
  {
   "cell_type": "code",
   "execution_count": 53,
   "metadata": {},
   "outputs": [
    {
     "name": "stdout",
     "output_type": "stream",
     "text": [
      "True and False:  False\n",
      "True and True:  False\n",
      "False and True:  False\n",
      "False and False:  False\n"
     ]
    }
   ],
   "source": [
    "print(\"True and False: \", True and False)\n",
    "print(\"True and True: \",  True and True and False)\n",
    "print(\"False and True: \", False and True)\n",
    "print(\"False and False: \", False and False)"
   ]
  },
  {
   "cell_type": "code",
   "execution_count": 54,
   "metadata": {},
   "outputs": [
    {
     "name": "stdout",
     "output_type": "stream",
     "text": [
      "True or False:  True\n",
      "True or True:  True\n",
      "False or True:  True\n",
      "False or False:  False\n"
     ]
    }
   ],
   "source": [
    "print(\"True or False: \", True or False)  #use cmd+D or ctr+D\n",
    "print(\"True or True: \",  True or True)\n",
    "print(\"False or True: \", False or True)\n",
    "print(\"False or False: \", False or False)"
   ]
  },
  {
   "cell_type": "code",
   "execution_count": 57,
   "metadata": {},
   "outputs": [],
   "source": [
    "#booleans is basically True or False\n",
    "\n",
    "#two possible values of boolean\n",
    "\n",
    "#define x = 3, y = 4\n",
    "#create two comparisons x < 5, y > 5\n",
    "#if true, please print (\"x is less than 5 and y is greater than 5\")\n",
    "#add one more comparison, z is not equal to 10 (hint: use \"not\")\n",
    "\n",
    "x, y, z = 3, 6, 9\n",
    "\n",
    "bool_x = x < 5\n",
    "bool_y = y > 5\n",
    "bool_z = z != 10\n",
    "\n",
    "if(not bool_x and bool_y and bool_z):\n",
    "    print (\"x is NOT less than 5 and y is greater than 5 and z is not equal to 10\")"
   ]
  },
  {
   "cell_type": "code",
   "execution_count": 58,
   "metadata": {},
   "outputs": [
    {
     "name": "stdout",
     "output_type": "stream",
     "text": [
      "hey\n"
     ]
    }
   ],
   "source": [
    "if(    (x < 5) and (y>5) and (z!=10)    ):\n",
    "    print(\"hey\")"
   ]
  },
  {
   "cell_type": "markdown",
   "metadata": {},
   "source": [
    "Arithmetic operations"
   ]
  },
  {
   "cell_type": "code",
   "execution_count": 59,
   "metadata": {},
   "outputs": [
    {
     "data": {
      "text/plain": [
       "6"
      ]
     },
     "execution_count": 59,
     "metadata": {},
     "output_type": "execute_result"
    }
   ],
   "source": [
    "3 + 3"
   ]
  },
  {
   "cell_type": "code",
   "execution_count": 60,
   "metadata": {},
   "outputs": [
    {
     "data": {
      "text/plain": [
       "1.0"
      ]
     },
     "execution_count": 60,
     "metadata": {},
     "output_type": "execute_result"
    }
   ],
   "source": [
    "3 / 3"
   ]
  },
  {
   "cell_type": "code",
   "execution_count": 61,
   "metadata": {},
   "outputs": [
    {
     "data": {
      "text/plain": [
       "1"
      ]
     },
     "execution_count": 61,
     "metadata": {},
     "output_type": "execute_result"
    }
   ],
   "source": [
    "#integer division\n",
    "\n",
    "4 // 3 # = 1.something will only output 1"
   ]
  },
  {
   "cell_type": "code",
   "execution_count": 62,
   "metadata": {},
   "outputs": [
    {
     "data": {
      "text/plain": [
       "2"
      ]
     },
     "execution_count": 62,
     "metadata": {},
     "output_type": "execute_result"
    }
   ],
   "source": [
    "#remainder\n",
    "5 % 3 # 5/3 = 1 and 2 left  #modulus or mod"
   ]
  },
  {
   "cell_type": "code",
   "execution_count": 63,
   "metadata": {},
   "outputs": [
    {
     "data": {
      "text/plain": [
       "25"
      ]
     },
     "execution_count": 63,
     "metadata": {},
     "output_type": "execute_result"
    }
   ],
   "source": [
    "#5 squared\n",
    "5 ** 2"
   ]
  },
  {
   "cell_type": "code",
   "execution_count": 64,
   "metadata": {},
   "outputs": [
    {
     "data": {
      "text/plain": [
       "125"
      ]
     },
     "execution_count": 64,
     "metadata": {},
     "output_type": "execute_result"
    }
   ],
   "source": [
    "# cube\n",
    "5 ** 3"
   ]
  },
  {
   "cell_type": "code",
   "execution_count": 65,
   "metadata": {},
   "outputs": [
    {
     "data": {
      "text/plain": [
       "1.0"
      ]
     },
     "execution_count": 65,
     "metadata": {},
     "output_type": "execute_result"
    }
   ],
   "source": [
    "#you may want to exactly use some lbaries to help in your math\n",
    "import math\n",
    "\n",
    "math.cos(2 * math.pi)"
   ]
  },
  {
   "cell_type": "code",
   "execution_count": 66,
   "metadata": {},
   "outputs": [
    {
     "data": {
      "text/plain": [
       "5.0"
      ]
     },
     "execution_count": 66,
     "metadata": {},
     "output_type": "execute_result"
    }
   ],
   "source": [
    "math.sqrt(25)"
   ]
  },
  {
   "cell_type": "code",
   "execution_count": 67,
   "metadata": {},
   "outputs": [
    {
     "data": {
      "text/plain": [
       "5.0"
      ]
     },
     "execution_count": 67,
     "metadata": {},
     "output_type": "execute_result"
    }
   ],
   "source": [
    "import math as m\n",
    "\n",
    "m.sqrt(25)"
   ]
  },
  {
   "cell_type": "code",
   "execution_count": 70,
   "metadata": {},
   "outputs": [
    {
     "data": {
      "text/plain": [
       "5.0"
      ]
     },
     "execution_count": 70,
     "metadata": {},
     "output_type": "execute_result"
    }
   ],
   "source": [
    "from math import *\n",
    "\n",
    "sqrt(25)"
   ]
  },
  {
   "cell_type": "code",
   "execution_count": 6,
   "metadata": {},
   "outputs": [
    {
     "name": "stdout",
     "output_type": "stream",
     "text": [
      "Please give me a number: \n",
      "\n",
      "30\n"
     ]
    }
   ],
   "source": [
    "\n",
    "print(\"Please give me a number: \\n\")\n",
    "num = input()\n",
    "\n",
    "print(int(num) + 10)  #parse string into integer using int()"
   ]
  },
  {
   "cell_type": "code",
   "execution_count": 7,
   "metadata": {},
   "outputs": [
    {
     "data": {
      "text/plain": [
       "'10'"
      ]
     },
     "execution_count": 7,
     "metadata": {},
     "output_type": "execute_result"
    }
   ],
   "source": [
    "#convert integer back to string\n",
    "\n",
    "x = 10\n",
    "\n",
    "str(x)"
   ]
  },
  {
   "cell_type": "code",
   "execution_count": 9,
   "metadata": {},
   "outputs": [
    {
     "name": "stdout",
     "output_type": "stream",
     "text": [
      "True\n"
     ]
    }
   ],
   "source": [
    "x = 1\n",
    "\n",
    "bool_x = bool(x)\n",
    "\n",
    "print(bool_x)"
   ]
  },
  {
   "cell_type": "code",
   "execution_count": 16,
   "metadata": {},
   "outputs": [
    {
     "name": "stdout",
     "output_type": "stream",
     "text": [
      "<class 'float'>\n",
      "3.0\n",
      "1\n",
      "helloanother string\n"
     ]
    }
   ],
   "source": [
    "#what would happen if you add integer + float\n",
    "print(   type(3 + 3.)    )  #become float\n",
    "\n",
    "#what would happen if you add boolean + float\n",
    "print(     False + 3.     )\n",
    "\n",
    "#what would happen if you add boolean + integer\n",
    "print(      False + 1     )\n",
    "\n",
    "#what would happen if you add string + boolean\n",
    "print(     \"hello\" +  'another string'     )"
   ]
  },
  {
   "cell_type": "markdown",
   "metadata": {},
   "source": [
    "Operation between types"
   ]
  },
  {
   "cell_type": "markdown",
   "metadata": {},
   "source": [
    "### === Task 1 ===\n",
    "\n",
    "1. Declare two strings with value \"3\" and \"4\". Converting them to int, and then perform addition"
   ]
  },
  {
   "cell_type": "code",
   "execution_count": 17,
   "metadata": {},
   "outputs": [
    {
     "data": {
      "text/plain": [
       "7"
      ]
     },
     "execution_count": 17,
     "metadata": {},
     "output_type": "execute_result"
    }
   ],
   "source": [
    "x, y = \"3\", \"4\"\n",
    "\n",
    "int(3) + int(4)"
   ]
  },
  {
   "cell_type": "markdown",
   "metadata": {},
   "source": [
    "2. Declare a variable x = 10, and then print a f-string saying \"my variable x = 10\" where 10 is from the x value."
   ]
  },
  {
   "cell_type": "code",
   "execution_count": 18,
   "metadata": {},
   "outputs": [
    {
     "name": "stdout",
     "output_type": "stream",
     "text": [
      "my variable x = 10\n"
     ]
    }
   ],
   "source": [
    "x = 10\n",
    "\n",
    "print(f\"my variable x = {x}\")"
   ]
  },
  {
   "cell_type": "markdown",
   "metadata": {},
   "source": [
    "3. Perform a calculation of (10 mod 4 / 2) and convert to integer"
   ]
  },
  {
   "cell_type": "code",
   "execution_count": 19,
   "metadata": {},
   "outputs": [
    {
     "data": {
      "text/plain": [
       "1"
      ]
     },
     "execution_count": 19,
     "metadata": {},
     "output_type": "execute_result"
    }
   ],
   "source": [
    "int (10 % 4 / 2)"
   ]
  },
  {
   "cell_type": "markdown",
   "metadata": {},
   "source": [
    "4. Get input from user using input(), and then print the type of the input <br>\n",
    "Hint: https://www.geeksforgeeks.org/taking-input-in-python/"
   ]
  },
  {
   "cell_type": "code",
   "execution_count": 20,
   "metadata": {},
   "outputs": [
    {
     "name": "stdout",
     "output_type": "stream",
     "text": [
      "<class 'str'>\n"
     ]
    }
   ],
   "source": [
    "s = input()\n",
    "\n",
    "print(type(s))"
   ]
  },
  {
   "cell_type": "markdown",
   "metadata": {},
   "source": [
    "5. Declare three strings: \"Chaky\", \"John\", \"Tom\", and concatenate (connect) them into \"Chaky, John, Tom\""
   ]
  },
  {
   "cell_type": "code",
   "execution_count": 22,
   "metadata": {},
   "outputs": [
    {
     "name": "stdout",
     "output_type": "stream",
     "text": [
      "Chaky, John, Tom\n"
     ]
    }
   ],
   "source": [
    "x, y, z = \"Chaky\", \"John\", \"Tom\"\n",
    "\n",
    "print(x, y, z, sep=\", \")"
   ]
  },
  {
   "cell_type": "markdown",
   "metadata": {},
   "source": [
    "### Comparison"
   ]
  },
  {
   "cell_type": "markdown",
   "metadata": {},
   "source": [
    "if statement"
   ]
  },
  {
   "cell_type": "code",
   "execution_count": 27,
   "metadata": {},
   "outputs": [
    {
     "name": "stdout",
     "output_type": "stream",
     "text": [
      "y is True\n"
     ]
    }
   ],
   "source": [
    "x = False\n",
    "y = True\n",
    "\n",
    "if(x):\n",
    "    print(\"x is True\")  #what if I want to print \"otherwise\";   what if I want to have another if?\n",
    "elif(y):\n",
    "    print(\"y is True\")  #else if\n",
    "else:                   #by default\n",
    "    print(\"x is False, and y is also False\")"
   ]
  },
  {
   "cell_type": "code",
   "execution_count": 34,
   "metadata": {},
   "outputs": [],
   "source": [
    "if(x):\n",
    "    print(x)\n",
    "    if(x):\n",
    "      pass\n",
    "    elif(x):\n",
    "      pass\n",
    "    print(x)"
   ]
  },
  {
   "cell_type": "code",
   "execution_count": 29,
   "metadata": {},
   "outputs": [
    {
     "name": "stdout",
     "output_type": "stream",
     "text": [
      "He got B\n"
     ]
    }
   ],
   "source": [
    "#>90 is A,  >80 is B+, >70 is B, >=60 is C+, otherwise F\n",
    "#student_a = 95, student_bplus = 89 student_b = 71, student_cplus = 60, student_f = 12\n",
    "#print grade\n",
    "\n",
    "#1. get the grade from the teacher\n",
    "grade = int(input())\n",
    "\n",
    "#2. define rules\n",
    "bool_a     = grade >  90\n",
    "bool_bplus = grade >  80\n",
    "bool_b     = grade >  70\n",
    "bool_cplus = grade >= 60  #option/alt + shift + down\n",
    "\n",
    "#3. define if-elif-else clause\n",
    "if(bool_a):\n",
    "    print(\"He got A\")\n",
    "elif(bool_bplus):\n",
    "    print(\"He got B+\")\n",
    "elif(bool_b):\n",
    "    print(\"He got B\")\n",
    "elif(bool_cplus):\n",
    "    print(\"He got C+\")\n",
    "else:\n",
    "    print(\"He got F\")"
   ]
  },
  {
   "cell_type": "markdown",
   "metadata": {},
   "source": [
    "while statement"
   ]
  },
  {
   "cell_type": "code",
   "execution_count": 37,
   "metadata": {},
   "outputs": [
    {
     "name": "stdout",
     "output_type": "stream",
     "text": [
      "Wrong password!  Input again\n",
      "Correct password\n"
     ]
    }
   ],
   "source": [
    "#while ==>as long as something, please do something\n",
    "num = int(input())\n",
    "password = 10\n",
    "\n",
    "while num != password:  #as long as this is true\n",
    "    print(\"Wrong password!  Input again\")      #keep on doing this until is not true\n",
    "    num = int(input())\n",
    "\n",
    "print(\"Correct password\")"
   ]
  },
  {
   "cell_type": "code",
   "execution_count": 2,
   "metadata": {},
   "outputs": [
    {
     "name": "stdout",
     "output_type": "stream",
     "text": [
      "secret:  9\n",
      "too low\n",
      "Bingo!\n"
     ]
    }
   ],
   "source": [
    "import random\n",
    "\n",
    "secret = random.randint(0, 10)  #random integer  #inclusive of the endpoints\n",
    "print(\"secret: \", secret)\n",
    "\n",
    "#ask user input, and if they guess too high, print too high; if too low, print too low, otherwise, bingo, end the game!\n",
    "\n",
    "#1. ask user for input\n",
    "num = int(input())\n",
    "\n",
    "while num!= secret: #2. while the input is not the same as secret\n",
    "    if(num > secret): #2.1  if too high\n",
    "        print(\"too high\")\n",
    "    elif(num < secret): #2.2  if too low\n",
    "        print(\"too low\")\n",
    "    num = int(input()) #ask user again for input\n",
    "\n",
    "print(\"Bingo!\")\n"
   ]
  },
  {
   "cell_type": "code",
   "execution_count": 3,
   "metadata": {},
   "outputs": [
    {
     "name": "stdout",
     "output_type": "stream",
     "text": [
      "Current secret:  Python\n",
      "Try a letter XD: \n",
      "\n",
      "Not here!\n",
      "Current secret:  Python\n",
      "Try a letter XD: \n",
      "\n",
      "You guessed correctly!\n",
      "Current secret:  ython\n",
      "Try a letter XD: \n",
      "\n",
      "You guessed correctly!\n",
      "Current secret:  thon\n",
      "Try a letter XD: \n",
      "\n",
      "You guessed correctly!\n",
      "Current secret:  hon\n",
      "Try a letter XD: \n",
      "\n",
      "You guessed correctly!\n",
      "Current secret:  on\n",
      "Try a letter XD: \n",
      "\n",
      "Try a letter again: \n",
      "\n",
      "You guessed correctly!\n",
      "Current secret:  n\n",
      "Try a letter XD: \n",
      "\n",
      "You guessed correctly!\n",
      "You win!\n"
     ]
    }
   ],
   "source": [
    "#please design a hangman game\n",
    "secret  = \"Python\"\n",
    "penalty = 0\n",
    "\n",
    "while(secret):  #as long as secret is not empty\n",
    "    \n",
    "    print(\"Current secret: \", secret)\n",
    "\n",
    "    print(\"Try a letter XD: \\n\")\n",
    "    #let user input a character\n",
    "    c = input()\n",
    "    c = c.strip() #delete empty spaces\n",
    "    bool_c = len(c) == 1 and c.isalpha() #if c is really a letter, if not, ask again\n",
    "        \n",
    "    while (not bool_c):\n",
    "        print(\"Try a letter again: \\n\")\n",
    "        c = input()\n",
    "        c = c.strip() #delete empty spaces\n",
    "        bool_c = len(c) == 1 and c.isalpha() #if c is really a letter, if not, ask again\n",
    "        \n",
    "    #if it is not inside the secret, print (no!), and then increment the penalty by 1  (Hint: if (character in secret))\n",
    "    if(c not in secret):    \n",
    "        print(\"Not here!\")\n",
    "        penalty = penalty + 1\n",
    "    #if it is inside the secret, print(yes!), then remove those characters from secret (Hint: use secret = secret.replace(character, \"\"))\n",
    "    else:\n",
    "        print(\"You guessed correctly!\") #if i guess y\n",
    "        secret = secret.replace(c, \"\")  #print (\"_y_____\")\n",
    "\n",
    "    #if penalty is 5, game over\n",
    "    if(penalty >= 5):\n",
    "        print(\"Game Over\")\n",
    "        break\n",
    "\n",
    "print(\"You win!\")"
   ]
  },
  {
   "cell_type": "markdown",
   "metadata": {},
   "source": [
    "comparison operators"
   ]
  },
  {
   "cell_type": "markdown",
   "metadata": {},
   "source": [
    "### === Task 2 ===\n",
    "\n",
    "1. Get input from user using input().  If the number is less than 5, print \"less than\".  Otherwise, print \"higher than\". <br>\n",
    "Note: input() always returns str\n",
    "\n",
    "2. Write a simple number guessing game.  The program generates a random integer.  It then accepts input from users for a integer.  After the user input, the system outputs one of the three possible states whether the number is higher, lower or equal to the target integer.  If it is wrong, it will keep asking users for input.  Feel free to make any assumption for anything not stated."
   ]
  }
 ],
 "metadata": {
  "kernelspec": {
   "display_name": "Python 3.10.4 64-bit",
   "language": "python",
   "name": "python3"
  },
  "language_info": {
   "codemirror_mode": {
    "name": "ipython",
    "version": 3
   },
   "file_extension": ".py",
   "mimetype": "text/x-python",
   "name": "python",
   "nbconvert_exporter": "python",
   "pygments_lexer": "ipython3",
   "version": "3.10.4"
  },
  "vscode": {
   "interpreter": {
    "hash": "c81d839d3c4227cd770621df97fe8191838af02e7eef185a922d8250cb33d344"
   }
  }
 },
 "nbformat": 4,
 "nbformat_minor": 4
}
