{
  "cells": [
    {
      "cell_type": "markdown",
      "metadata": {
        "id": "tanGUW6DrdfS"
      },
      "source": [
        "# CP - Final - 2021\n",
        "\n",
        "## Instruction\n",
        "\n",
        "- Modify this file to be Final-<Your FirstName-[First Letter of Last Name]>, e.g., <code>Final-Chaklam-S.ipynb</code>\n",
        "- This exam is open-booked; open-internet.\n",
        "- You ARE NOT allowed to use sklearn or pytorch libraries, unless stated.\n",
        "- The completed exams shall be submitted at the Google Classroom\n",
        "- All code should be **complemented with comments**, unless it's really obvious.  **We reserve the privilege to give you zero for any part of the question where the benefit of doubt is not justified**\n",
        "\n",
        "## Examination Rules:\n",
        "- You may leave the room temporarily with the approval and supervision of the proctors. No extra time will be added to the exam in such cases.\n",
        "- You are required to turn on your webcam during the entire period of the exam time\n",
        "- Students will be allowed to leave at the **earliest 45 minutes** after the exam has started\n",
        "- **All work should belong to you**.  A student should NOT engage in the following activities which proctors reserve the right to interpret any of such act as academic dishonesty without questioning:\n",
        "    - Chatting with any human beings physically or via online methods\n",
        "    - Plagiarism of any sort, i.e., copying from friends.  **Both copee and copier shall be given a minimum penalty of zero mark for that particular question or the whole exam.**\n",
        "- No make-up exams are allowed.  Special considerations may be given upon a valid reason on unpredictable events such as accidents or serious sickness."
      ]
    },
    {
      "cell_type": "code",
      "execution_count": null,
      "metadata": {
        "id": "3kcPxgAlPve4"
      },
      "outputs": [],
      "source": [
        "import numpy as np\n",
        "import torch\n",
        "import torchvision\n",
        "import torchvision.datasets as datasets\n",
        "import torch.nn as nn\n",
        "import torch.nn.functional as F\n",
        "import torch.optim as optim\n",
        "import math\n",
        "import matplotlib.pyplot as plt\n",
        "from torch.utils.data import Dataset, DataLoader\n",
        "import random \n",
        "from collections import Counter\n",
        "\n",
        "from sklearn.model_selection import train_test_split"
      ]
    },
    {
      "cell_type": "markdown",
      "metadata": {
        "id": "dN4md_BKR1pL"
      },
      "source": [
        "1. Generate a 4 class 2d-data with 70000 samples. (10 points)\n",
        "- Class 0 data is sampled from a normal distribution with mean = 0, std = 1, size = (28,28) \n",
        "- Class 1 data is sampled from a normal distribution with mean = 5, std = 1, size = (28,28) \n",
        "- Class 2 data is sampled from a normal distribution with mean = 15, std = 1, size = (28,28) \n",
        "- Class 3 data is sampled from a normal distribution with mean = 20, std = 1, size = (28,28) \n",
        "\n",
        "The final shape of x should be (70000, 1, 28, 28) and y should be (70000,)"
      ]
    },
    {
      "cell_type": "code",
      "execution_count": null,
      "metadata": {
        "id": "zjr08O6BSith"
      },
      "outputs": [],
      "source": [
        "class Dataset():\n",
        "    def __init__(self, num_sample = 70000, num_classes = 4):\n",
        "        self.num_sample = num_sample\n",
        "        self.num_classes = num_classes\n",
        "        self.x = torch.empty(self.num_sample,1,28,28)\n",
        "        self.y = [int(random.randrange(0, self.num_classes)) for _ in range(self.num_sample)]\n",
        "        # print(Counter(self.y).keys())\n",
        "        # print(Counter(self.y).values())\n",
        "        self.y = torch.Tensor(self.y) \n",
        "        print(\"X shape: \", self.x.shape, \"y shape: \", self.y.shape)\n",
        "        for i in range(self.num_sample):\n",
        "            if self.y[i] == 0:\n",
        "                self.x[i,:,:,:] = torch.normal(mean=0, std=1, size = (28,28))\n",
        "            elif self.y[i] == 1:\n",
        "                self.x[i,:,:,:] = torch.normal(mean=5, std=1, size = (28,28))\n",
        "            elif self.y[i] == 2:\n",
        "                self.x[i,:,:,:] = torch.normal(mean=15, std=1, size = (28,28))\n",
        "            else:\n",
        "                self.x[i,:,:,:] = torch.normal(mean=20, std=1, size = (28,28))\n",
        "\n",
        "        self.len = self.x.shape[0]\n",
        "\n",
        "    def __getitem__(self, index):\n",
        "        return self.x[index], self.y[index]\n",
        "\n",
        "    def __len__(self):\n",
        "        return self.len"
      ]
    },
    {
      "cell_type": "markdown",
      "metadata": {
        "id": "-9DcEl4Pz1t3"
      },
      "source": [
        "In case you are unable to do question 1, Use the following lines of code to generate your data and continue with question 3. But be aware that no marks will be given to question 1 and question 2"
      ]
    },
    {
      "cell_type": "code",
      "execution_count": null,
      "metadata": {
        "id": "_rqrI69Vz5_y"
      },
      "outputs": [],
      "source": [
        "import torchvision\n",
        "training_data = torchvision.datasets.MNIST('./data/', train=True, download=True,\n",
        "                             transform=torchvision.transforms.Compose([\n",
        "                               torchvision.transforms.ToTensor(),\n",
        "                               torchvision.transforms.Normalize(\n",
        "                                 (0.5,), (0.5,))\n",
        "                             ]))\n",
        "\n",
        "testing_data  = torchvision.datasets.MNIST('./data/', train=False, download=True,\n",
        "                             transform=torchvision.transforms.Compose([\n",
        "                               torchvision.transforms.ToTensor(),\n",
        "                               torchvision.transforms.Normalize(\n",
        "                                 (0.5,), (0.5,))\n",
        "                             ]))\n",
        "\n",
        "datasets = {}\n",
        "datasets['train'] = training_data\n",
        "datasets['test'] = testing_data"
      ]
    },
    {
      "cell_type": "markdown",
      "metadata": {
        "id": "i4gqWf-BAnfK"
      },
      "source": [
        "2. Split your data into train and test with the split ratio of 0.2"
      ]
    },
    {
      "cell_type": "code",
      "execution_count": null,
      "metadata": {
        "colab": {
          "base_uri": "https://localhost:8080/"
        },
        "id": "3JGmI82aYOFt",
        "outputId": "ca0fef78-a333-4bc9-c163-3e15d0622c44"
      },
      "outputs": [
        {
          "name": "stdout",
          "output_type": "stream",
          "text": [
            "X shape:  torch.Size([70000, 1, 28, 28]) y shape:  torch.Size([70000])\n"
          ]
        }
      ],
      "source": [
        "from torch.utils.data import Subset\n",
        "def train_test_dataset(dataset, split=0.20):\n",
        "    train_idx, test_idx = train_test_split(list(range(len(dataset))), test_size=split)\n",
        "    datasets = {}\n",
        "    datasets['train'] = Subset(dataset, train_idx)\n",
        "    datasets['test'] = Subset(dataset, test_idx)\n",
        "    return datasets\n",
        "\n",
        "dataset = Dataset(num_sample = 70000)\n",
        "datasets = train_test_dataset(dataset, split = 1/7)"
      ]
    },
    {
      "cell_type": "markdown",
      "metadata": {
        "id": "hVfzHO4tSutV"
      },
      "source": [
        "3. Check the size of your train and test set"
      ]
    },
    {
      "cell_type": "code",
      "execution_count": null,
      "metadata": {
        "colab": {
          "base_uri": "https://localhost:8080/"
        },
        "id": "RzMQPWlgScTA",
        "outputId": "0de8d7f1-f489-40e5-e190-4a6b27ad66e6"
      },
      "outputs": [
        {
          "name": "stdout",
          "output_type": "stream",
          "text": [
            "Number of training samples:  60000\n",
            "Number of testing samples:  10000\n"
          ]
        }
      ],
      "source": [
        "print(\"Number of training samples: \",len(datasets['train']))\n",
        "print(\"Number of testing samples: \",len(datasets['test']))\n"
      ]
    },
    {
      "cell_type": "markdown",
      "metadata": {
        "id": "zI3okI8lSyA9"
      },
      "source": [
        "4. Set up your train and test loader with a batch size of 32 and shuffle = True."
      ]
    },
    {
      "cell_type": "code",
      "execution_count": null,
      "metadata": {
        "id": "mU-HO84OSizY"
      },
      "outputs": [],
      "source": [
        "batch_size = 32\n",
        "train_loader = DataLoader(datasets['train'], batch_size=batch_size, shuffle=True)\n",
        "test_loader = DataLoader(datasets['test'], batch_size=batch_size, shuffle=True)"
      ]
    },
    {
      "cell_type": "code",
      "execution_count": null,
      "metadata": {
        "id": "jxnPy6_yejEx"
      },
      "outputs": [],
      "source": [
        "loaders = {'train': train_loader, 'test': test_loader }"
      ]
    },
    {
      "cell_type": "markdown",
      "metadata": {
        "id": "MgKC7RaHS6At"
      },
      "source": [
        "5. Check the shape of your batch. It should be [batchsize = 32, channel = 1, height = 28, width = 28]"
      ]
    },
    {
      "cell_type": "code",
      "execution_count": null,
      "metadata": {
        "id": "-AFbESMhTx8q"
      },
      "outputs": [],
      "source": [
        "examples = enumerate(train_loader)\n",
        "batch_idx, (example_data, example_targets) = next(examples)"
      ]
    },
    {
      "cell_type": "code",
      "execution_count": null,
      "metadata": {
        "colab": {
          "base_uri": "https://localhost:8080/"
        },
        "id": "Ed9YxsAGT7Kc",
        "outputId": "b10394b7-d30e-4480-97fb-e30a9cd01352"
      },
      "outputs": [
        {
          "data": {
            "text/plain": [
              "torch.Size([32, 1, 28, 28])"
            ]
          },
          "execution_count": 33,
          "metadata": {},
          "output_type": "execute_result"
        }
      ],
      "source": [
        "example_data.shape"
      ]
    },
    {
      "cell_type": "markdown",
      "metadata": {
        "id": "-DV6rOMhTcSt"
      },
      "source": [
        "6. Plot 6 samples. "
      ]
    },
    {
      "cell_type": "code",
      "execution_count": null,
      "metadata": {
        "colab": {
          "base_uri": "https://localhost:8080/",
          "height": 399
        },
        "id": "PhVfLFEUT9Aj",
        "outputId": "5bd8ba08-9b59-47cf-89fc-5b50d5ecd554"
      },
      "outputs": [
        {
          "name": "stdout",
          "output_type": "stream",
          "text": [
            "torch.Size([1, 28, 28]) torch.Size([])\n",
            "torch.Size([1, 28, 28]) torch.Size([])\n",
            "torch.Size([1, 28, 28]) torch.Size([])\n",
            "torch.Size([1, 28, 28]) torch.Size([])\n",
            "torch.Size([1, 28, 28]) torch.Size([])\n",
            "torch.Size([1, 28, 28]) torch.Size([])\n"
          ]
        },
        {
          "data": {
            "image/png": "[encoded data removed]",
            "text/plain": [
              "<Figure size 432x288 with 6 Axes>"
            ]
          },
          "metadata": {
            "needs_background": "light"
          },
          "output_type": "display_data"
        }
      ],
      "source": [
        "fig = plt.figure()\n",
        "\n",
        "def get_image(x, y):\n",
        "    print(x.shape, y.shape)\n",
        "    plt.tight_layout()\n",
        "    plt.scatter(x[:,:,0],x[:,:,1])\n",
        "    plt.title(f\"Class {y}\")\n",
        "    plt.xlim([-5,30])\n",
        "    plt.ylim([-5,30])\n",
        "\n",
        "for i in range(len(dataset)):\n",
        "    x, y = datasets['train'][i]\n",
        "    ax = plt.subplot(2, 3, i + 1)\n",
        "    ax.set_title('Sample #{}'.format(i))\n",
        "    get_image(x,y)\n",
        "    if i == 5:\n",
        "        plt.show()\n",
        "        break"
      ]
    },
    {
      "cell_type": "code",
      "execution_count": null,
      "metadata": {
        "colab": {
          "base_uri": "https://localhost:8080/",
          "height": 284
        },
        "id": "5yg5wWid0A8z",
        "outputId": "d4680d68-de87-4a4f-c141-c83ab2372718"
      },
      "outputs": [
        {
          "data": {
            "image/png": "[encoded data removed]",
            "text/plain": [
              "<Figure size 432x288 with 6 Axes>"
            ]
          },
          "metadata": {},
          "output_type": "display_data"
        }
      ],
      "source": [
        "import matplotlib.pyplot as plt\n",
        "\n",
        "fig = plt.figure()\n",
        "for i in range(6):\n",
        "  plt.subplot(2,3,i+1)\n",
        "  plt.tight_layout()\n",
        "  plt.imshow(example_data[i][0], cmap='gray', interpolation='none')\n",
        "  plt.title(\"Class: {}\".format(example_targets[i]))\n",
        "  plt.xticks([])\n",
        "  plt.yticks([])\n",
        "\n"
      ]
    },
    {
      "cell_type": "markdown",
      "metadata": {
        "id": "gjsFtdXgTxtN"
      },
      "source": [
        "7. Configure your device."
      ]
    },
    {
      "cell_type": "code",
      "execution_count": null,
      "metadata": {
        "colab": {
          "base_uri": "https://localhost:8080/"
        },
        "id": "-SBaWTaIasS3",
        "outputId": "8fc7353c-a652-4bca-cae9-c052c6362c97"
      },
      "outputs": [
        {
          "data": {
            "text/plain": [
              "device(type='cuda')"
            ]
          },
          "execution_count": 16,
          "metadata": {},
          "output_type": "execute_result"
        }
      ],
      "source": [
        "# Device configuration\n",
        "device = torch.device('cuda' if torch.cuda.is_available() else 'cpu')\n",
        "device"
      ]
    },
    {
      "cell_type": "markdown",
      "metadata": {
        "id": "p5CFDBK8XVZA"
      },
      "source": [
        "8. Define your class called Net with the following layers\n",
        "- cnn2d layer 1 with in_channel = 1, out_channel = 10, kernel size of 5, dropout of p = 0.5 maxpool and relu as its activation function\n",
        "- cnn2d layer 2 with in_channel = 10, out_channel = 20, kernel size of 5, dropout of p = 0.5 maxpool and relu as its activation function\n",
        "- linear layer with output of 25\n",
        "- lstm with num_layer = 2 and set hidden size to be num_classes\n",
        "\n",
        "\n"
      ]
    },
    {
      "cell_type": "code",
      "execution_count": null,
      "metadata": {
        "id": "JgQ7KEGSolg0"
      },
      "outputs": [],
      "source": [
        "class Net(nn.Module):\n",
        "    def __init__(self, num_class, num_layers, num_classes):\n",
        "        super(Net, self).__init__()\n",
        "        # CNN2d\n",
        "        self.num_classes = num_classes\n",
        "        self.conv1 = nn.Conv2d(1, 10, kernel_size=5)\n",
        "        self.conv1_drop = nn.Dropout2d(p = 0.5)\n",
        "        self.conv2 = nn.Conv2d(10, 20, kernel_size=5)\n",
        "        self.conv2_drop = nn.Dropout2d(p = 0.5)\n",
        "        self.fc1 = nn.Linear(320, 25)\n",
        "\n",
        "        #LSTM\n",
        "        self.hidden_size = num_classes\n",
        "        self.num_layers = num_layers\n",
        "        self.input_size = 5\n",
        "        self.sequence_length = 5\n",
        "        \n",
        "        self.lstm = nn.LSTM(self.input_size, self.hidden_size, self.num_layers, batch_first=True) \n",
        "\n",
        "    def forward(self, x):\n",
        "        x = F.relu(F.max_pool2d(self.conv1_drop(self.conv1(x)), 2))\n",
        "        x = F.relu(F.max_pool2d(self.conv2_drop(self.conv2(x)), 2))\n",
        "        x = x.view(-1, 320)\n",
        "        x = F.relu(self.fc1(x))\n",
        "        x = F.dropout(x, training=self.training)\n",
        "        # out = x\n",
        "        h0 = torch.zeros(self.num_layers, x.size(0), self.hidden_size).to(device) \n",
        "        c0 = torch.zeros(self.num_layers, x.size(0), self.hidden_size).to(device)\n",
        "\n",
        "        x = x.reshape(-1, self.sequence_length, self.input_size).to(device)\n",
        "        out, hidden = self.lstm(x, (h0, c0))  # out: tensor of shape (batch_size, seq_length, hidden_size)\n",
        "        out = out[:, -1, :]\n",
        "        return out\n",
        "      "
      ]
    },
    {
      "cell_type": "markdown",
      "metadata": {
        "id": "ZX-z2gwEV0xq"
      },
      "source": [
        "9. Create an model object with num_layers = 2, hidden_size = 64, num_classes = 4\n",
        "\n",
        "If you use MNIST hidden_size and num_classes = 10"
      ]
    },
    {
      "cell_type": "code",
      "execution_count": null,
      "metadata": {
        "colab": {
          "base_uri": "https://localhost:8080/"
        },
        "id": "c5XXKpoNbryI",
        "outputId": "ffa80ff0-ce30-4ed6-e83c-a114b393aaf3"
      },
      "outputs": [
        {
          "name": "stdout",
          "output_type": "stream",
          "text": [
            "Net(\n",
            "  (conv1): Conv2d(1, 10, kernel_size=(5, 5), stride=(1, 1))\n",
            "  (conv1_drop): Dropout2d(p=0.5, inplace=False)\n",
            "  (conv2): Conv2d(10, 20, kernel_size=(5, 5), stride=(1, 1))\n",
            "  (conv2_drop): Dropout2d(p=0.5, inplace=False)\n",
            "  (fc1): Linear(in_features=320, out_features=25, bias=True)\n",
            "  (lstm): LSTM(5, 4, num_layers=2, batch_first=True)\n",
            ")\n"
          ]
        }
      ],
      "source": [
        "num_layers = 2\n",
        "num_classes = 4\n",
        "model = Net(num_classes, num_layers, num_classes).to(device)\n",
        "print(model)"
      ]
    },
    {
      "cell_type": "markdown",
      "metadata": {
        "id": "oB5mzlq1hUjr"
      },
      "source": [
        "10. Define an appropriate loss function for classification of this dataset"
      ]
    },
    {
      "cell_type": "code",
      "execution_count": null,
      "metadata": {
        "id": "qMwV-eeJhZiM"
      },
      "outputs": [],
      "source": [
        "loss_func = nn.CrossEntropyLoss()"
      ]
    },
    {
      "cell_type": "markdown",
      "metadata": {
        "id": "rg8zUUMGhb3D"
      },
      "source": [
        "11. Define your optimizer as Adam with learning rate of 0.001."
      ]
    },
    {
      "cell_type": "code",
      "execution_count": null,
      "metadata": {
        "id": "IOpYvWwJcSDm"
      },
      "outputs": [],
      "source": [
        "from torch import optim\n",
        "learning_rate = 0.001\n",
        "optimizer = optim.Adam(model.parameters(), lr = learning_rate)   "
      ]
    },
    {
      "cell_type": "markdown",
      "metadata": {
        "id": "UHy0PqUZiPbF"
      },
      "source": [
        "12. Train your model with n_epoch = 3"
      ]
    },
    {
      "cell_type": "code",
      "execution_count": null,
      "metadata": {
        "id": "i1jZoAG_c5Yl"
      },
      "outputs": [],
      "source": [
        "def train(num_epochs, model, loaders):\n",
        "    print(f\"num_epochs: {num_epochs}\")\n",
        "    print(f\"model: {model}\")\n",
        "    print(f\"loaders['train']: {loaders['train']}\")\n",
        "    print(\"Started epoch: \")\n",
        "    losses = []\n",
        "    accs = []\n",
        "    model.train()\n",
        "    total_step = len(loaders['train'])\n",
        "    for epoch in range(num_epochs):\n",
        "        correct = 0\n",
        "        total = 0\n",
        "        loss = 0\n",
        "        for i, (inputs, targets) in enumerate(loaders['train']):\n",
        "            inputs = inputs.to(device)\n",
        "            targets = targets.to(device)\n",
        "\n",
        "            # Forward pass\n",
        "            outputs = model(inputs)\n",
        "            _, predicted = torch.max(outputs.data, 1)\n",
        "            total = total + targets.size(0)\n",
        "            correct = correct + (predicted == targets).sum().item()\n",
        "            \n",
        "            loss = loss_func(outputs, targets.long())\n",
        "            loss += loss\n",
        "\n",
        "            # Backward and optimize\n",
        "            optimizer.zero_grad()\n",
        "            loss.backward()\n",
        "            optimizer.step()\n",
        "            \n",
        "            if (i+1) % 100 == 0:\n",
        "                print ('Epoch [{}/{}], Step [{}/{}], Loss: {:.4f}' \n",
        "                       .format(epoch + 1, num_epochs, i + 1, total_step, loss.item())) \n",
        "         \n",
        "        accs.append(100 * correct / total)   \n",
        "        losses.append(loss / total)\n",
        "    print(\"Done!\")\n",
        "    return losses, accs"
      ]
    },
    {
      "cell_type": "code",
      "execution_count": null,
      "metadata": {
        "colab": {
          "base_uri": "https://localhost:8080/"
        },
        "id": "dV8dsxInMDf8",
        "outputId": "1181479e-d7d4-49ee-afbd-092cf9f8d720"
      },
      "outputs": [
        {
          "name": "stdout",
          "output_type": "stream",
          "text": [
            "num_epochs: 3\n",
            "model: Net(\n",
            "  (conv1): Conv2d(1, 10, kernel_size=(5, 5), stride=(1, 1))\n",
            "  (conv1_drop): Dropout2d(p=0.5, inplace=False)\n",
            "  (conv2): Conv2d(10, 20, kernel_size=(5, 5), stride=(1, 1))\n",
            "  (conv2_drop): Dropout2d(p=0.5, inplace=False)\n",
            "  (fc1): Linear(in_features=320, out_features=25, bias=True)\n",
            "  (lstm): LSTM(5, 4, num_layers=2, batch_first=True)\n",
            ")\n",
            "loaders['train']: <torch.utils.data.dataloader.DataLoader object at 0x7f22db1c3350>\n",
            "Started epoch: \n",
            "Epoch [1/3], Step [100/1875], Loss: 2.7407\n",
            "Epoch [1/3], Step [200/1875], Loss: 2.7361\n",
            "Epoch [1/3], Step [300/1875], Loss: 2.5388\n",
            "Epoch [1/3], Step [400/1875], Loss: 2.5938\n",
            "Epoch [1/3], Step [500/1875], Loss: 2.3819\n",
            "Epoch [1/3], Step [600/1875], Loss: 2.2306\n",
            "Epoch [1/3], Step [700/1875], Loss: 2.1422\n",
            "Epoch [1/3], Step [800/1875], Loss: 2.2707\n",
            "Epoch [1/3], Step [900/1875], Loss: 1.9539\n",
            "Epoch [1/3], Step [1000/1875], Loss: 2.1284\n",
            "Epoch [1/3], Step [1100/1875], Loss: 2.0494\n",
            "Epoch [1/3], Step [1200/1875], Loss: 2.0679\n",
            "Epoch [1/3], Step [1300/1875], Loss: 1.6716\n",
            "Epoch [1/3], Step [1400/1875], Loss: 1.8248\n",
            "Epoch [1/3], Step [1500/1875], Loss: 1.6916\n",
            "Epoch [1/3], Step [1600/1875], Loss: 1.3100\n",
            "Epoch [1/3], Step [1700/1875], Loss: 1.4979\n",
            "Epoch [1/3], Step [1800/1875], Loss: 1.6195\n",
            "Epoch [2/3], Step [100/1875], Loss: 1.6101\n",
            "Epoch [2/3], Step [200/1875], Loss: 1.4253\n",
            "Epoch [2/3], Step [300/1875], Loss: 1.3510\n",
            "Epoch [2/3], Step [400/1875], Loss: 1.6336\n",
            "Epoch [2/3], Step [500/1875], Loss: 1.5093\n",
            "Epoch [2/3], Step [600/1875], Loss: 1.4700\n",
            "Epoch [2/3], Step [700/1875], Loss: 1.1975\n",
            "Epoch [2/3], Step [800/1875], Loss: 1.5613\n",
            "Epoch [2/3], Step [900/1875], Loss: 1.4831\n",
            "Epoch [2/3], Step [1000/1875], Loss: 1.3831\n",
            "Epoch [2/3], Step [1100/1875], Loss: 1.4867\n",
            "Epoch [2/3], Step [1200/1875], Loss: 1.2582\n",
            "Epoch [2/3], Step [1300/1875], Loss: 1.3508\n",
            "Epoch [2/3], Step [1400/1875], Loss: 1.2983\n",
            "Epoch [2/3], Step [1500/1875], Loss: 1.2798\n",
            "Epoch [2/3], Step [1600/1875], Loss: 1.6067\n",
            "Epoch [2/3], Step [1700/1875], Loss: 1.5767\n",
            "Epoch [2/3], Step [1800/1875], Loss: 1.4397\n",
            "Epoch [3/3], Step [100/1875], Loss: 1.2378\n",
            "Epoch [3/3], Step [200/1875], Loss: 1.3466\n",
            "Epoch [3/3], Step [300/1875], Loss: 1.4327\n",
            "Epoch [3/3], Step [400/1875], Loss: 1.2882\n",
            "Epoch [3/3], Step [500/1875], Loss: 1.4829\n",
            "Epoch [3/3], Step [600/1875], Loss: 1.4978\n",
            "Epoch [3/3], Step [700/1875], Loss: 1.7869\n",
            "Epoch [3/3], Step [800/1875], Loss: 1.2314\n",
            "Epoch [3/3], Step [900/1875], Loss: 1.3909\n",
            "Epoch [3/3], Step [1000/1875], Loss: 1.3966\n",
            "Epoch [3/3], Step [1100/1875], Loss: 1.6517\n",
            "Epoch [3/3], Step [1200/1875], Loss: 1.4526\n",
            "Epoch [3/3], Step [1300/1875], Loss: 1.3311\n",
            "Epoch [3/3], Step [1400/1875], Loss: 1.3902\n",
            "Epoch [3/3], Step [1500/1875], Loss: 1.3996\n",
            "Epoch [3/3], Step [1600/1875], Loss: 1.3542\n",
            "Epoch [3/3], Step [1700/1875], Loss: 1.5322\n",
            "Epoch [3/3], Step [1800/1875], Loss: 1.5383\n",
            "Done!\n"
          ]
        }
      ],
      "source": [
        "num_epochs = 3\n",
        "losses, accs = train(num_epochs, model, loaders)"
      ]
    },
    {
      "cell_type": "markdown",
      "metadata": {
        "id": "hK7_TsS5iaGi"
      },
      "source": [
        "13. Plot your train losses and accuracies"
      ]
    },
    {
      "cell_type": "code",
      "execution_count": null,
      "metadata": {
        "colab": {
          "base_uri": "https://localhost:8080/",
          "height": 545
        },
        "id": "VOg2XS01sAsI",
        "outputId": "382842fc-8dfe-4406-d7d7-117b3de7dd67"
      },
      "outputs": [
        {
          "data": {
            "image/png": "[encoded data removed]",
            "text/plain": [
              "<Figure size 432x288 with 1 Axes>"
            ]
          },
          "metadata": {
            "needs_background": "light"
          },
          "output_type": "display_data"
        },
        {
          "data": {
            "image/png": "[encoded data removed]",
            "text/plain": [
              "<Figure size 432x288 with 1 Axes>"
            ]
          },
          "metadata": {
            "needs_background": "light"
          },
          "output_type": "display_data"
        }
      ],
      "source": [
        "import matplotlib.pyplot as plt\n",
        "plt.plot(losses)\n",
        "plt.title(\"Loss\")\n",
        "plt.show()\n",
        "plt.plot(accs)\n",
        "plt.title(\"Accuracy\")\n",
        "plt.show()"
      ]
    },
    {
      "cell_type": "markdown",
      "metadata": {
        "id": "UCBLreP1iUUk"
      },
      "source": [
        "14. Evaluate your model"
      ]
    },
    {
      "cell_type": "code",
      "execution_count": null,
      "metadata": {
        "colab": {
          "base_uri": "https://localhost:8080/"
        },
        "id": "nt3fbR1EecZF",
        "outputId": "838c6d59-5a52-4a5c-f5b9-7e0719a922eb"
      },
      "outputs": [
        {
          "name": "stdout",
          "output_type": "stream",
          "text": [
            "Test Accuracy of the model on the 10000 test set: 74.44 %\n"
          ]
        }
      ],
      "source": [
        "# Test the model\n",
        "model.eval()\n",
        "with torch.no_grad():\n",
        "    correct = 0\n",
        "    total = 0\n",
        "    for inputs, targets in loaders['test']:\n",
        "        inputs = inputs.to(device)\n",
        "        targets = targets.to(device)\n",
        "        outputs = model(inputs)\n",
        "        predicted = torch.argmax(outputs, dim = 1)\n",
        "        total = total + targets.size(0)\n",
        "        correct = correct + (predicted == targets).sum().item()\n",
        "print('Test Accuracy of the model on the 10000 test set: {} %'.format(100 * correct / total))"
      ]
    },
    {
      "cell_type": "code",
      "execution_count": null,
      "metadata": {
        "id": "um_vWcZ9-BXe"
      },
      "outputs": [],
      "source": []
    }
  ],
  "metadata": {
    "accelerator": "GPU",
    "colab": {
      "collapsed_sections": [],
      "name": "[Solution] CP - Final - 2021.ipynb",
      "provenance": []
    },
    "kernelspec": {
      "display_name": "Python 3.10.4 64-bit",
      "language": "python",
      "name": "python3"
    },
    "language_info": {
      "name": "python",
      "version": "3.10.4"
    },
    "vscode": {
      "interpreter": {
        "hash": "c81d839d3c4227cd770621df97fe8191838af02e7eef185a922d8250cb33d344"
      }
    }
  },
  "nbformat": 4,
  "nbformat_minor": 0
}
