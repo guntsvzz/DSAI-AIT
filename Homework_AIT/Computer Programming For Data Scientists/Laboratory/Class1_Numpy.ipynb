{
 "cells": [
  {
   "cell_type": "markdown",
   "metadata": {},
   "source": [
    "Numpy"
   ]
  },
  {
   "cell_type": "code",
   "execution_count": 1,
   "metadata": {},
   "outputs": [],
   "source": [
    "#numpy is list\n",
    "#because\n",
    "#   1. numpy is faster\n",
    "#   2. numpy has more bulit-in functions that facilitates data science\n",
    "\n",
    "#to start using numpy \n",
    "import numpy as np #class\n"
   ]
  },
  {
   "cell_type": "code",
   "execution_count": 2,
   "metadata": {},
   "outputs": [
    {
     "data": {
      "text/plain": [
       "numpy.ndarray"
      ]
     },
     "execution_count": 2,
     "metadata": {},
     "output_type": "execute_result"
    }
   ],
   "source": [
    "#create your first list\n",
    "python_list = [1,2,3]\n",
    "\n",
    "#convert this list to numpy list\n",
    "numpy_list = np.array(python_list)\n",
    "\n",
    "type(numpy_list)\n"
   ]
  },
  {
   "cell_type": "code",
   "execution_count": 3,
   "metadata": {},
   "outputs": [],
   "source": [
    "#one theory: one numpy array can only support one type of data\n",
    "\n",
    "#but python list can support many types of data in one list\n",
    "my_list = [1,\"Hello\",True,1.0]"
   ]
  },
  {
   "cell_type": "code",
   "execution_count": 4,
   "metadata": {},
   "outputs": [
    {
     "data": {
      "text/plain": [
       "array([1. , 2. , 3. , 4.5])"
      ]
     },
     "execution_count": 4,
     "metadata": {},
     "output_type": "execute_result"
    }
   ],
   "source": [
    "my_list = [1, 2, 3, 4.5]\n",
    "\n",
    "np_list = np.array(my_list)\n",
    "\n",
    "np_list "
   ]
  },
  {
   "cell_type": "code",
   "execution_count": 6,
   "metadata": {},
   "outputs": [
    {
     "data": {
      "text/plain": [
       "array([1, 2, 3, 4])"
      ]
     },
     "execution_count": 6,
     "metadata": {},
     "output_type": "execute_result"
    }
   ],
   "source": [
    "# I can of course convert the type using numpyarray.astype()\n",
    "np_list_int = np_list.astype(int)\n",
    "\n",
    "np_list_int"
   ]
  },
  {
   "cell_type": "markdown",
   "metadata": {},
   "source": [
    "Accessing indexing"
   ]
  },
  {
   "cell_type": "code",
   "execution_count": 7,
   "metadata": {},
   "outputs": [],
   "source": [
    "x = np.array([1,2,3,4,5,6,7,8]) #x = np.array(range(1,9))"
   ]
  },
  {
   "cell_type": "code",
   "execution_count": 8,
   "metadata": {},
   "outputs": [
    {
     "data": {
      "text/plain": [
       "3"
      ]
     },
     "execution_count": 8,
     "metadata": {},
     "output_type": "execute_result"
    }
   ],
   "source": [
    "#1st way : using index\n",
    "#so how to get 3\n",
    "x[2]"
   ]
  },
  {
   "cell_type": "code",
   "execution_count": null,
   "metadata": {},
   "outputs": [
    {
     "data": {
      "text/plain": [
       "array([1, 2, 3])"
      ]
     },
     "execution_count": 27,
     "metadata": {},
     "output_type": "execute_result"
    }
   ],
   "source": [
    "#2nd way Slicing - get more than one members\n",
    "#format array[start:end:step] --> end is exclusive\n",
    "\n",
    "x[0:3]"
   ]
  },
  {
   "cell_type": "code",
   "execution_count": null,
   "metadata": {},
   "outputs": [
    {
     "data": {
      "text/plain": [
       "array([1, 2, 3, 4, 5, 6, 7, 8])"
      ]
     },
     "execution_count": 29,
     "metadata": {},
     "output_type": "execute_result"
    }
   ],
   "source": [
    "x"
   ]
  },
  {
   "cell_type": "code",
   "execution_count": null,
   "metadata": {},
   "outputs": [
    {
     "data": {
      "text/plain": [
       "array([3, 4, 5, 6, 7])"
      ]
     },
     "execution_count": 37,
     "metadata": {},
     "output_type": "execute_result"
    }
   ],
   "source": [
    "#get 3-8\n",
    "#1st way\n",
    "x[2:8]"
   ]
  },
  {
   "cell_type": "code",
   "execution_count": null,
   "metadata": {},
   "outputs": [
    {
     "data": {
      "text/plain": [
       "array([3, 4, 5, 6, 7, 8])"
      ]
     },
     "execution_count": 41,
     "metadata": {},
     "output_type": "execute_result"
    }
   ],
   "source": [
    "#2nd way\n",
    "x[2:]"
   ]
  },
  {
   "cell_type": "code",
   "execution_count": null,
   "metadata": {},
   "outputs": [
    {
     "data": {
      "text/plain": [
       "array([1, 2, 3, 4, 5, 6, 7, 8])"
      ]
     },
     "execution_count": 42,
     "metadata": {},
     "output_type": "execute_result"
    }
   ],
   "source": [
    "x"
   ]
  },
  {
   "cell_type": "code",
   "execution_count": null,
   "metadata": {},
   "outputs": [
    {
     "data": {
      "text/plain": [
       "array([7, 8])"
      ]
     },
     "execution_count": 54,
     "metadata": {},
     "output_type": "execute_result"
    }
   ],
   "source": [
    "#get 7,8 using minus\n",
    "x[-2:]"
   ]
  },
  {
   "cell_type": "code",
   "execution_count": null,
   "metadata": {},
   "outputs": [
    {
     "ename": "NameError",
     "evalue": "name 'x' is not defined",
     "output_type": "error",
     "traceback": [
      "\u001b[1;31m---------------------------------------------------------------------------\u001b[0m",
      "\u001b[1;31mNameError\u001b[0m                                 Traceback (most recent call last)",
      "\u001b[1;32mc:\\Users\\Guntsv\\Downloads\\AIT\\Python-for-Data-Science-master\\Coding-Along\\Class1_Numpy.ipynb Cell 16\u001b[0m in \u001b[0;36m<cell line: 2>\u001b[1;34m()\u001b[0m\n\u001b[0;32m      <a href='vscode-notebook-cell:/c%3A/Users/Guntsv/Downloads/AIT/Python-for-Data-Science-master/Coding-Along/Class1_Numpy.ipynb#X21sZmlsZQ%3D%3D?line=0'>1</a>\u001b[0m \u001b[39m#3rd way - fancy indexing\u001b[39;00m\n\u001b[1;32m----> <a href='vscode-notebook-cell:/c%3A/Users/Guntsv/Downloads/AIT/Python-for-Data-Science-master/Coding-Along/Class1_Numpy.ipynb#X21sZmlsZQ%3D%3D?line=1'>2</a>\u001b[0m x\n",
      "\u001b[1;31mNameError\u001b[0m: name 'x' is not defined"
     ]
    }
   ],
   "source": [
    "#3rd way - fancy indexing\n",
    "x"
   ]
  },
  {
   "cell_type": "code",
   "execution_count": 9,
   "metadata": {},
   "outputs": [
    {
     "data": {
      "text/plain": [
       "(3, 5)"
      ]
     },
     "execution_count": 9,
     "metadata": {},
     "output_type": "execute_result"
    }
   ],
   "source": [
    "#sometimes, I want element, index\n",
    "x[2],x[4]"
   ]
  },
  {
   "cell_type": "code",
   "execution_count": 10,
   "metadata": {},
   "outputs": [
    {
     "data": {
      "text/plain": [
       "array([3, 5])"
      ]
     },
     "execution_count": 10,
     "metadata": {},
     "output_type": "execute_result"
    }
   ],
   "source": [
    "#put a list of index you wanna access\n",
    "x[[2,4]]"
   ]
  },
  {
   "cell_type": "code",
   "execution_count": null,
   "metadata": {},
   "outputs": [
    {
     "data": {
      "text/plain": [
       "array([3, 5])"
      ]
     },
     "execution_count": 62,
     "metadata": {},
     "output_type": "execute_result"
    }
   ],
   "source": [
    "x[2:5:2]"
   ]
  },
  {
   "cell_type": "markdown",
   "metadata": {},
   "source": [
    "2D Array"
   ]
  },
  {
   "cell_type": "code",
   "execution_count": null,
   "metadata": {},
   "outputs": [
    {
     "data": {
      "text/plain": [
       "array([[1, 2],\n",
       "       [3, 4],\n",
       "       [5, 6]])"
      ]
     },
     "execution_count": 76,
     "metadata": {},
     "output_type": "execute_result"
    }
   ],
   "source": [
    "data = [[1,2],[3,4],[5,6]]\n",
    "\n",
    "np_list = np.array(data)\n",
    "\n",
    "np_list"
   ]
  },
  {
   "cell_type": "code",
   "execution_count": null,
   "metadata": {},
   "outputs": [
    {
     "data": {
      "text/plain": [
       "[[1, 2], [3, 4], [5, 6]]"
      ]
     },
     "execution_count": 73,
     "metadata": {},
     "output_type": "execute_result"
    }
   ],
   "source": [
    "#format when ypu are dealing with multi-demensional array\n",
    "#array(dim1, dim2, so on........)\n",
    "data"
   ]
  },
  {
   "cell_type": "code",
   "execution_count": null,
   "metadata": {},
   "outputs": [
    {
     "data": {
      "text/plain": [
       "2"
      ]
     },
     "execution_count": 79,
     "metadata": {},
     "output_type": "execute_result"
    }
   ],
   "source": [
    "np_list[0, 1]"
   ]
  },
  {
   "cell_type": "code",
   "execution_count": null,
   "metadata": {},
   "outputs": [
    {
     "data": {
      "text/plain": [
       "6"
      ]
     },
     "execution_count": 81,
     "metadata": {},
     "output_type": "execute_result"
    }
   ],
   "source": [
    "#Can you guy retrieve 6 for me\n",
    "np_list[2, 1]"
   ]
  },
  {
   "cell_type": "code",
   "execution_count": null,
   "metadata": {},
   "outputs": [
    {
     "data": {
      "text/plain": [
       "array([[3, 4],\n",
       "       [5, 6]])"
      ]
     },
     "execution_count": 100,
     "metadata": {},
     "output_type": "execute_result"
    }
   ],
   "source": [
    "#can you guys get [3,4], [5,6]\n",
    "#np_list[firstdim,seconddim]\n",
    "#1st way: slicing\n",
    "np_list[1:, :] #if you put [1:3, :]"
   ]
  },
  {
   "cell_type": "code",
   "execution_count": null,
   "metadata": {},
   "outputs": [
    {
     "data": {
      "text/plain": [
       "[[1, 2], [3, 4], [5, 6]]"
      ]
     },
     "execution_count": 98,
     "metadata": {},
     "output_type": "execute_result"
    }
   ],
   "source": [
    "data"
   ]
  },
  {
   "cell_type": "code",
   "execution_count": null,
   "metadata": {},
   "outputs": [
    {
     "data": {
      "text/plain": [
       "array([[3, 4],\n",
       "       [5, 6]])"
      ]
     },
     "execution_count": 103,
     "metadata": {},
     "output_type": "execute_result"
    }
   ],
   "source": [
    "#2nd way : #fancy indexing\n",
    "np_list[[1,2],:] "
   ]
  },
  {
   "cell_type": "code",
   "execution_count": null,
   "metadata": {},
   "outputs": [
    {
     "data": {
      "text/plain": [
       "array([[3, 4],\n",
       "       [5, 6]])"
      ]
     },
     "execution_count": 105,
     "metadata": {},
     "output_type": "execute_result"
    }
   ],
   "source": [
    "#3rd way : the last two\n",
    "np_list[-2:,:]"
   ]
  },
  {
   "cell_type": "code",
   "execution_count": null,
   "metadata": {},
   "outputs": [
    {
     "data": {
      "text/plain": [
       "array([3, 4, 5, 6, 7])"
      ]
     },
     "metadata": {},
     "output_type": "display_data"
    }
   ],
   "source": [
    "#3rd way - so no\n",
    "x[2:-1]"
   ]
  },
  {
   "cell_type": "code",
   "execution_count": null,
   "metadata": {},
   "outputs": [
    {
     "data": {
      "text/plain": [
       "[[1, 2], [3, 4], [5, 6]]"
      ]
     },
     "execution_count": 106,
     "metadata": {},
     "output_type": "execute_result"
    }
   ],
   "source": [
    "data"
   ]
  },
  {
   "cell_type": "code",
   "execution_count": null,
   "metadata": {},
   "outputs": [
    {
     "data": {
      "text/plain": [
       "array([1, 2])"
      ]
     },
     "execution_count": 134,
     "metadata": {},
     "output_type": "execute_result"
    }
   ],
   "source": [
    "#Chaky, how do i know which dimension is which\n",
    "np_list[0,]"
   ]
  },
  {
   "cell_type": "code",
   "execution_count": null,
   "metadata": {},
   "outputs": [
    {
     "data": {
      "text/plain": [
       "array([1, 3, 5])"
      ]
     },
     "execution_count": 135,
     "metadata": {},
     "output_type": "execute_result"
    }
   ],
   "source": [
    "np_list[:,0]"
   ]
  },
  {
   "cell_type": "code",
   "execution_count": null,
   "metadata": {},
   "outputs": [
    {
     "data": {
      "text/plain": [
       "array([1, 3])"
      ]
     },
     "execution_count": 137,
     "metadata": {},
     "output_type": "execute_result"
    }
   ],
   "source": [
    "#get 1,3\n",
    "np_list[0:2,:1] #normal,normal\n",
    "np_list[0:2,0]"
   ]
  },
  {
   "cell_type": "code",
   "execution_count": null,
   "metadata": {},
   "outputs": [
    {
     "data": {
      "text/plain": [
       "array([1, 5])"
      ]
     },
     "execution_count": 143,
     "metadata": {},
     "output_type": "execute_result"
    }
   ],
   "source": [
    "#get 1,5\n",
    "np_list[[0,2],-2:-1] #fancy,minus\n",
    "np_list[[0,2],0] #fancy,minus"
   ]
  },
  {
   "cell_type": "code",
   "execution_count": null,
   "metadata": {},
   "outputs": [
    {
     "data": {
      "text/plain": [
       "array([16, 15, 14, 13])"
      ]
     },
     "execution_count": 207,
     "metadata": {},
     "output_type": "execute_result"
    }
   ],
   "source": [
    "x = [\n",
    "    [1,2,3,4],\n",
    "    [5,6,7,8],\n",
    "    [9,10,11,12],\n",
    "    [13,14,15,16]\n",
    "]\n",
    "np_list  = np.array(x)\n",
    "# x = np.array(range(1,17))\n",
    "# x.reshape(4,4)\n",
    "#1: get 2,6,10,14\n",
    "#2: get 7,11\n",
    "#3: get 4,7,10 - hint: use fancy indexing on both dimensions\n",
    "#4: get 16,15,14,13 - hint: use step -1\n"
   ]
  },
  {
   "cell_type": "code",
   "execution_count": null,
   "metadata": {},
   "outputs": [
    {
     "name": "stdout",
     "output_type": "stream",
     "text": [
      "[ 2  6 10 14]\n",
      "[ 7 11]\n",
      "[ 4  7 10]\n",
      "[16 15 14 13]\n"
     ]
    }
   ],
   "source": [
    "#1: get 2,6,10,14\n",
    "print(np_list[:,1])\n",
    "#2: get 7,11\n",
    "print(np_list[1:3,2])\n",
    "#3: get 4,7,10 - hint: use fancy indexing on both dimensions\n",
    "print(np_list[[0,1,2],[3,2,1]])\n",
    "#4: get 16,15,14,13 - hint: use step -1\n",
    "print(np_list[3,::-1])"
   ]
  },
  {
   "cell_type": "code",
   "execution_count": null,
   "metadata": {},
   "outputs": [],
   "source": [
    "#Exercise\n",
    "#given a matrix = [ [99,99,99],\n",
    "#                   [99,99,99],\n",
    "#                   [99,99,99]]\n",
    "\n",
    "#image 99 is empty\n",
    "#assume 1 is x\n",
    "#assume 0 is O\n",
    "\n",
    "#get the input from the X side and O side alternatively\n",
    "#give you a tupe of index\n",
    "\n",
    "#if X side gives you (0,0)\n",
    "#then the matrix becomes\n",
    "#                 [ [X,99,99],\n",
    "#                   [99,99,99],\n",
    "#                   [99,99,99]]\n",
    "\n",
    "#if O side gives you (0,0)\n",
    "#alert them to input again\n",
    "#otherwise, fill the matrix\n",
    "#challenge (optional) : if the first one to get three\n"
   ]
  },
  {
   "cell_type": "markdown",
   "metadata": {},
   "source": [
    "Afternoon Exerccise"
   ]
  },
  {
   "cell_type": "code",
   "execution_count": null,
   "metadata": {},
   "outputs": [
    {
     "name": "stdout",
     "output_type": "stream",
     "text": [
      "[4 5 6]\n",
      "[2 5]\n",
      "[3 4]\n",
      "[3 4]\n",
      "[9 6 3]\n",
      "[9 6 3]\n"
     ]
    }
   ],
   "source": [
    "y = [\n",
    "    [1,2,3],\n",
    "    [4,5,6],\n",
    "    [7,8,9]\n",
    "]\n",
    "np_y  = np.array(y)\n",
    "#try to get \n",
    "#1. 4,5,6\n",
    "print(np_y[1])\n",
    "#2. 2,5\n",
    "print(np_y[0:2,1])\n",
    "#3. 3,4\n",
    "print(np_y[[0,1],[2,0]])\n",
    "#Recommendation\n",
    "row = [0, 1]\n",
    "col = [2, 0]\n",
    "print(np_y[row,col])\n",
    "#4. 9,6,3\n",
    "#1st fancy indexing\n",
    "row = [2,1,0]\n",
    "col = [2]\n",
    "print(np_y[row,col])\n",
    "#2nd slicing\n",
    "print(np_y[::-1,2])"
   ]
  },
  {
   "cell_type": "markdown",
   "metadata": {},
   "source": [
    "Masking"
   ]
  },
  {
   "cell_type": "code",
   "execution_count": null,
   "metadata": {},
   "outputs": [
    {
     "data": {
      "text/plain": [
       "[2, 4, 6, 8, 10]"
      ]
     },
     "execution_count": 49,
     "metadata": {},
     "output_type": "execute_result"
    }
   ],
   "source": [
    "x = [1,2,3,4,5,6,7,8,9,10]\n",
    "# i want only even number\n",
    "#1st way if \n",
    "even = []\n",
    "for num in x:\n",
    "    if num%2 == 0:\n",
    "        even.append(num)\n",
    "\n",
    "#2nd list comprehension\n",
    "even = [num for num in x if num%2 == 0]\n",
    "\n",
    "even"
   ]
  },
  {
   "cell_type": "code",
   "execution_count": null,
   "metadata": {},
   "outputs": [
    {
     "data": {
      "text/plain": [
       "array([ 1,  2,  3,  4,  5,  6,  7,  8,  9, 10])"
      ]
     },
     "execution_count": 54,
     "metadata": {},
     "output_type": "execute_result"
    }
   ],
   "source": [
    "#do you guys feel painful to write such code?\n",
    "np_x = np.arange(1,11) #this is basically range(10) but for numpy\n",
    "np_x"
   ]
  },
  {
   "cell_type": "code",
   "execution_count": null,
   "metadata": {},
   "outputs": [
    {
     "data": {
      "text/plain": [
       "array([2, 4, 6, 8])"
      ]
     },
     "execution_count": 51,
     "metadata": {},
     "output_type": "execute_result"
    }
   ],
   "source": [
    "np_x[np_x%2 == 0] \n",
    "#Actually, this guy np_x%2 == 0 is fancy indexing"
   ]
  },
  {
   "cell_type": "code",
   "execution_count": null,
   "metadata": {},
   "outputs": [
    {
     "data": {
      "text/plain": [
       "array([False,  True, False,  True, False,  True, False,  True, False,\n",
       "        True])"
      ]
     },
     "execution_count": 55,
     "metadata": {},
     "output_type": "execute_result"
    }
   ],
   "source": [
    "np_x%2 == 0"
   ]
  },
  {
   "cell_type": "code",
   "execution_count": null,
   "metadata": {},
   "outputs": [
    {
     "data": {
      "text/plain": [
       "array([ 1,  2,  5,  6,  7, 10])"
      ]
     },
     "execution_count": 56,
     "metadata": {},
     "output_type": "execute_result"
    }
   ],
   "source": [
    "ix = [True, True, False, False, True, True, True, False, False, True]\n",
    "np_x[ix]\n"
   ]
  },
  {
   "cell_type": "code",
   "execution_count": null,
   "metadata": {},
   "outputs": [
    {
     "data": {
      "text/plain": [
       "array([1, 3, 5, 7, 9])"
      ]
     },
     "execution_count": 57,
     "metadata": {},
     "output_type": "execute_result"
    }
   ],
   "source": [
    "#choose odd number \n",
    "cond1 = np_x%2 != 0\n",
    "cond2 = np_x < 10\n",
    "cond3 = np_x > 0\n",
    "np_x[cond1 & cond2 & cond3] #if you want \"or\", use |"
   ]
  },
  {
   "cell_type": "markdown",
   "metadata": {},
   "source": [
    "Broadcasting"
   ]
  },
  {
   "cell_type": "code",
   "execution_count": null,
   "metadata": {},
   "outputs": [
    {
     "data": {
      "text/plain": [
       "'\\n- slicing, fancy indexing\\n- masking\\n- broadcasting\\n'"
      ]
     },
     "execution_count": 58,
     "metadata": {},
     "output_type": "execute_result"
    }
   ],
   "source": [
    "'''\n",
    "- slicing, fancy indexing\n",
    "- masking\n",
    "- broadcasting\n",
    "'''\n",
    "#basically, numpy behaves like vectors\n",
    "\n",
    "'''\n",
    "[1,         [5,\n",
    " 2, x 5 =   10,\n",
    " 3]         15]\n",
    "'''"
   ]
  },
  {
   "cell_type": "code",
   "execution_count": null,
   "metadata": {},
   "outputs": [
    {
     "data": {
      "text/plain": [
       "array([5, 2, 5, 1, 1, 0, 5, 8, 5, 3])"
      ]
     },
     "execution_count": 67,
     "metadata": {},
     "output_type": "execute_result"
    }
   ],
   "source": [
    "np_x = np.random.randint(10 , size = 10) #10 is exclusive\n",
    "\n",
    "np_x"
   ]
  },
  {
   "cell_type": "code",
   "execution_count": null,
   "metadata": {},
   "outputs": [
    {
     "data": {
      "text/plain": [
       "array([15,  6, 15,  3,  3,  0, 15, 24, 15,  9])"
      ]
     },
     "execution_count": 68,
     "metadata": {},
     "output_type": "execute_result"
    }
   ],
   "source": [
    "np_x*3"
   ]
  },
  {
   "cell_type": "code",
   "execution_count": null,
   "metadata": {},
   "outputs": [
    {
     "data": {
      "text/plain": [
       "[5,\n",
       " 2,\n",
       " 5,\n",
       " 1,\n",
       " 1,\n",
       " 0,\n",
       " 5,\n",
       " 8,\n",
       " 5,\n",
       " 3,\n",
       " 5,\n",
       " 2,\n",
       " 5,\n",
       " 1,\n",
       " 1,\n",
       " 0,\n",
       " 5,\n",
       " 8,\n",
       " 5,\n",
       " 3,\n",
       " 5,\n",
       " 2,\n",
       " 5,\n",
       " 1,\n",
       " 1,\n",
       " 0,\n",
       " 5,\n",
       " 8,\n",
       " 5,\n",
       " 3]"
      ]
     },
     "execution_count": 70,
     "metadata": {},
     "output_type": "execute_result"
    }
   ],
   "source": [
    "some_list = [5, 2, 5, 1, 1, 0, 5, 8, 5, 3]\n",
    "\n",
    "some_list*3"
   ]
  },
  {
   "cell_type": "code",
   "execution_count": null,
   "metadata": {},
   "outputs": [
    {
     "data": {
      "text/plain": [
       "array([[1., 1., 1.],\n",
       "       [1., 1., 1.],\n",
       "       [1., 1., 1.]])"
      ]
     },
     "execution_count": 73,
     "metadata": {},
     "output_type": "execute_result"
    }
   ],
   "source": [
    "#create a np array\n",
    "np.ones((3,3)) #np.ones is to create a marteix of ones, with the specified size"
   ]
  },
  {
   "cell_type": "code",
   "execution_count": null,
   "metadata": {},
   "outputs": [
    {
     "data": {
      "text/plain": [
       "array([0, 1, 2])"
      ]
     },
     "execution_count": 77,
     "metadata": {},
     "output_type": "execute_result"
    }
   ],
   "source": [
    "np.arange(3)"
   ]
  },
  {
   "cell_type": "code",
   "execution_count": null,
   "metadata": {},
   "outputs": [
    {
     "data": {
      "text/plain": [
       "array([[1., 2., 3.],\n",
       "       [1., 2., 3.],\n",
       "       [1., 2., 3.]])"
      ]
     },
     "execution_count": 76,
     "metadata": {},
     "output_type": "execute_result"
    }
   ],
   "source": [
    "#what would happen if I do\n",
    "np.ones((3,3)) + np.arange(3)"
   ]
  },
  {
   "cell_type": "code",
   "execution_count": 3,
   "metadata": {},
   "outputs": [
    {
     "data": {
      "text/plain": [
       "array([0, 1, 2])"
      ]
     },
     "execution_count": 3,
     "metadata": {},
     "output_type": "execute_result"
    }
   ],
   "source": [
    "x = np.arange(3)\n",
    "x"
   ]
  },
  {
   "cell_type": "code",
   "execution_count": 4,
   "metadata": {},
   "outputs": [
    {
     "data": {
      "text/plain": [
       "(3,)"
      ]
     },
     "execution_count": 4,
     "metadata": {},
     "output_type": "execute_result"
    }
   ],
   "source": [
    "x.shape"
   ]
  },
  {
   "cell_type": "code",
   "execution_count": 6,
   "metadata": {},
   "outputs": [
    {
     "data": {
      "text/plain": [
       "(array([[0],\n",
       "        [1],\n",
       "        [2]]),\n",
       " (3, 1))"
      ]
     },
     "execution_count": 6,
     "metadata": {},
     "output_type": "execute_result"
    }
   ],
   "source": [
    "#I gonna make this as a column vector\n",
    "#btw, why do I called this column vector\n",
    "#because at the column dimension, is 1\n",
    "\n",
    "x = x.reshape(3,1)\n",
    "\n",
    "x,x.shape"
   ]
  },
  {
   "cell_type": "code",
   "execution_count": null,
   "metadata": {},
   "outputs": [
    {
     "data": {
      "text/plain": [
       "array([0, 1, 2])"
      ]
     },
     "execution_count": 110,
     "metadata": {},
     "output_type": "execute_result"
    }
   ],
   "source": [
    "y = np.arange(3)\n",
    "y"
   ]
  },
  {
   "cell_type": "code",
   "execution_count": null,
   "metadata": {},
   "outputs": [
    {
     "data": {
      "text/plain": [
       "array([[0, 1, 2],\n",
       "       [1, 2, 3],\n",
       "       [2, 3, 4]])"
      ]
     },
     "execution_count": 91,
     "metadata": {},
     "output_type": "execute_result"
    }
   ],
   "source": [
    "x+y"
   ]
  },
  {
   "cell_type": "code",
   "execution_count": 7,
   "metadata": {},
   "outputs": [
    {
     "name": "stdout",
     "output_type": "stream",
     "text": [
      "Before (2, 3)\n",
      "After (3, 2)\n"
     ]
    },
    {
     "data": {
      "text/plain": [
       "array([[2., 3.],\n",
       "       [2., 3.],\n",
       "       [2., 3.]])"
      ]
     },
     "execution_count": 7,
     "metadata": {},
     "output_type": "execute_result"
    }
   ],
   "source": [
    "#First, create a numpy matrix of ones of size 2,3\n",
    "#np.ones( (2,3) ) #np.zeros, np.empty, np.diagonal\n",
    "'''\n",
    "[\n",
    "[1,1,1],\n",
    "[1,1,1]\n",
    "]\n",
    "'''\n",
    "one = np.ones((2,3))\n",
    "#Second, verify the shape using .shape\n",
    "print(f'Before {one.shape}')\n",
    "#Third, I want you to reshape to 3,2 and verify the shape\n",
    "one = one.reshape(3,2)\n",
    "print(f'After {one.shape}')\n",
    "#Fourth, I want you to add [1,2] to each  row\n",
    "one + np.arange(1,3)"
   ]
  },
  {
   "cell_type": "code",
   "execution_count": null,
   "metadata": {},
   "outputs": [
    {
     "name": "stdout",
     "output_type": "stream",
     "text": [
      "(3, 2)\n",
      "[[1. 1.]\n",
      " [1. 1.]\n",
      " [1. 1.]]\n",
      "(3,)\n",
      "Before [1. 1. 1.]\n",
      "(3, 1)\n",
      "After [[1.]\n",
      " [1.]\n",
      " [1.]]\n"
     ]
    },
    {
     "data": {
      "text/plain": [
       "array([[2., 2.],\n",
       "       [2., 2.],\n",
       "       [2., 2.]])"
      ]
     },
     "execution_count": 119,
     "metadata": {},
     "output_type": "execute_result"
    }
   ],
   "source": [
    "#create two numpy array\n",
    "#first one is size (3,2) - any number \n",
    "x = np.ones((3,2))\n",
    "# or x =np.ones(2,3)\n",
    "print(x.shape)\n",
    "print(x)\n",
    "#second one is size (3,) - any number\n",
    "y = np.ones((3,)) # ==> (1,3)\n",
    "print(y.shape)\n",
    "print(f'Before {y}')\n",
    "#try to add them but you will find error\n",
    "y = y.reshape(3,1)\n",
    "print(y.shape)\n",
    "print(f'After {y}')\n",
    "#hint: fix it using reshapre so they can be added \n",
    "x+y"
   ]
  },
  {
   "cell_type": "markdown",
   "metadata": {},
   "source": [
    "Task\n",
    "1. Create a numpy array of size 200 by 4. Imagine this array holds 200 sample of students height, weight, age, GPA\n",
    "2. Split the array of the first three columns into a variable called x, and the last column to y (X is common name for features/factors/independent variables; y is a common name for labels/targets/metrics/something you wanna predict/dependent variables)\n",
    "3. Split the X into X_train and X_test, where X_train contains 70% of the data(140 rows) ad split the y into y_train and y_test where contains 70 % of the data (140 rows)\n",
    "Note: if you are correct \n",
    "X_train shape = (140,3)  \n",
    "X_test shape = (60,3)\n",
    "y_train shape = (140,3)\n",
    "y_test shape = (60,3)"
   ]
  },
  {
   "cell_type": "code",
   "execution_count": 3,
   "metadata": {},
   "outputs": [
    {
     "data": {
      "text/plain": [
       "(200, 4)"
      ]
     },
     "execution_count": 3,
     "metadata": {},
     "output_type": "execute_result"
    }
   ],
   "source": [
    "import numpy as np\n",
    "import random\n",
    "height =[random.uniform(150,180) for i in range(200)]\n",
    "weight = [random.uniform(50,81) for i in range(200)]\n",
    "age = [random.randint(20,25) for i in range(200)]\n",
    "gpa = [random.randint(1,5) for i in range(200)]\n",
    "# student = [[height[i],weight[i],age[i],gpa[i]] for i in range(200)]\n",
    "student = [height,weight,age,gpa]\n",
    "np_student = np.array(student).T\n",
    "# print(np_student)\n",
    "np_student.shape"
   ]
  },
  {
   "cell_type": "code",
   "execution_count": null,
   "metadata": {},
   "outputs": [
    {
     "name": "stdout",
     "output_type": "stream",
     "text": [
      "(200, 3)\n",
      "(200,)\n",
      "(140, 3)\n",
      "(60, 3)\n",
      "(140,)\n",
      "(60,)\n"
     ]
    }
   ],
   "source": [
    "#Seperate Features and Targets\n",
    "X = np_student[:,:3]\n",
    "print(X.shape)\n",
    "y = np_student[:,3]\n",
    "print(y.shape)\n",
    "\n",
    "#Train Test Split\n",
    "X_train = X[:140]\n",
    "print(X_train.shape)\n",
    "X_test = X[140:]\n",
    "print(X_test.shape)\n",
    "y_train = y[:140]\n",
    "print(y_train.shape)\n",
    "y_test = y[140:]\n",
    "print(y_test.shape)\n"
   ]
  },
  {
   "cell_type": "code",
   "execution_count": null,
   "metadata": {},
   "outputs": [
    {
     "ename": "TypeError",
     "evalue": "slice indices must be integers or None or have an __index__ method",
     "output_type": "error",
     "traceback": [
      "\u001b[1;31m---------------------------------------------------------------------------\u001b[0m",
      "\u001b[1;31mTypeError\u001b[0m                                 Traceback (most recent call last)",
      "\u001b[1;32mc:\\Users\\Guntsv\\Downloads\\AIT\\Python-for-Data-Science-master\\Coding-Along\\Class1_Numpy.ipynb Cell 65\u001b[0m in \u001b[0;36m<cell line: 5>\u001b[1;34m()\u001b[0m\n\u001b[0;32m      <a href='vscode-notebook-cell:/c%3A/Users/Guntsv/Downloads/AIT/Python-for-Data-Science-master/Coding-Along/Class1_Numpy.ipynb#Y131sZmlsZQ%3D%3D?line=1'>2</a>\u001b[0m np_x[[\u001b[39m1\u001b[39m,\u001b[39m3\u001b[39m,\u001b[39m4\u001b[39m]] \u001b[39m#hint: can you create this list randomly -use random.sample\u001b[39;00m\n\u001b[0;32m      <a href='vscode-notebook-cell:/c%3A/Users/Guntsv/Downloads/AIT/Python-for-Data-Science-master/Coding-Along/Class1_Numpy.ipynb#Y131sZmlsZQ%3D%3D?line=3'>4</a>\u001b[0m index \u001b[39m=\u001b[39m \u001b[39m0.7\u001b[39m \u001b[39m*\u001b[39m np_x\u001b[39m.\u001b[39mshape[\u001b[39m0\u001b[39m] \u001b[39m#140\u001b[39;00m\n\u001b[1;32m----> <a href='vscode-notebook-cell:/c%3A/Users/Guntsv/Downloads/AIT/Python-for-Data-Science-master/Coding-Along/Class1_Numpy.ipynb#Y131sZmlsZQ%3D%3D?line=4'>5</a>\u001b[0m np_x[:index]\n",
      "\u001b[1;31mTypeError\u001b[0m: slice indices must be integers or None or have an __index__ method"
     ]
    }
   ],
   "source": [
    "np_x = np.array([1,2,3,4,5])\n",
    "np_x[[1,3,4]] #hint: can you create this list randomly -use random.sample\n",
    "\n",
    "index = 0.7 * np_x.shape[0] #140\n",
    "np_x[:index]"
   ]
  },
  {
   "cell_type": "code",
   "execution_count": null,
   "metadata": {},
   "outputs": [
    {
     "name": "stdout",
     "output_type": "stream",
     "text": [
      "9.998692234374168\n",
      "1.009112440857354\n",
      "(200, 3) (200,)\n",
      "(140, 3)\n",
      "(60, 3)\n",
      "(140,)\n",
      "(60,)\n"
     ]
    }
   ],
   "source": [
    "#1. to create, many ways\n",
    "#np.ones((200,4))\n",
    "#np.zeros((200,4))\n",
    "#np.random.randint(0,10,(200,4))\n",
    "#create a numpy array of shape (200,4) with numbers between 0 and 10\n",
    "#np.random.uniform(1,10, (200,4)) \n",
    "data = np.random.uniform(1,10, (200,4)) \n",
    "data.shape\n",
    "print(data.max())\n",
    "print(data.min())\n",
    "\n",
    "#2.first three column = X, and the last =y\n",
    "#format: np_array[row,col]\n",
    "X = data[:,:3] #or[:,:3]  #or[:,:-1]\n",
    "y = data[:,-1]\n",
    "print(X.shape, y.shape)\n",
    "\n",
    "#3. X_train cotains 70% rows of X\n",
    "dataset_size = X.shape[0]\n",
    "dataset_size\n",
    "train_size = int(dataset_size *0.7) #===> this train train_size will become type \"flaot\"\n",
    "\n",
    "#Train Test Split\n",
    "X_train = X[:train_size,:]\n",
    "print(X_train.shape)\n",
    "X_test = X[train_size:,:]\n",
    "print(X_test.shape)\n",
    "y_train = y[:train_size]\n",
    "print(y_train.shape)\n",
    "y_test = y[train_size:]\n",
    "print(y_test.shape)\n",
    "\n",
    "#this is not the right way\n",
    "# X_train = X[[1,5,100,170,4,2,...]] #Fancy is still not a good way\n",
    "#Because it is not a random set\n"
   ]
  },
  {
   "cell_type": "code",
   "execution_count": null,
   "metadata": {},
   "outputs": [
    {
     "data": {
      "text/plain": [
       "(140, 3)"
      ]
     },
     "execution_count": 237,
     "metadata": {},
     "output_type": "execute_result"
    }
   ],
   "source": [
    "import random\n",
    "my_list = range(200)\n",
    "random_140_indexes = random.sample(my_list,train_size)\n",
    "len(random_140_indexes)\n",
    "X_train = X[random_140_indexes,:]\n",
    "X_train.shape"
   ]
  },
  {
   "cell_type": "code",
   "execution_count": null,
   "metadata": {},
   "outputs": [
    {
     "data": {
      "text/plain": [
       "(60, 3)"
      ]
     },
     "execution_count": 203,
     "metadata": {},
     "output_type": "execute_result"
    }
   ],
   "source": [
    "#X_test should take indexes inverse of random_140_indexes\n",
    "next_60_indexes_not_in_this_140 = [i for i in range(200) if i not in random_140_indexes]\n",
    "len(next_60_indexes_not_in_this_140)\n",
    "\n",
    "X_test = X[next_60_indexes_not_in_this_140,:]\n",
    "X_test.shape"
   ]
  },
  {
   "cell_type": "code",
   "execution_count": null,
   "metadata": {},
   "outputs": [
    {
     "name": "stdout",
     "output_type": "stream",
     "text": [
      "(140,)\n",
      "(60,)\n"
     ]
    }
   ],
   "source": [
    "y_train = y[random_140_indexes,]\n",
    "print(y_train.shape)\n",
    "y_test = y[next_60_indexes_not_in_this_140,]\n",
    "print(y_test.shape)"
   ]
  },
  {
   "cell_type": "code",
   "execution_count": null,
   "metadata": {},
   "outputs": [],
   "source": [
    "#1. Now my X_train is (140,3), please create ten non-overlapping data of shape(14,3) --> use for loop\n",
    "#2. Please create a subset of X_train of size 50, which the starting point is randomized. \n",
    "#   If the number exceeds, take only what you have\n",
    "#This is part of something called mini-batch gradient descent, and it's essential to every deep learning"
   ]
  },
  {
   "cell_type": "code",
   "execution_count": null,
   "metadata": {},
   "outputs": [
    {
     "name": "stdout",
     "output_type": "stream",
     "text": [
      "0\n",
      "[[5.74945102 4.0410421  5.54849427]\n",
      " [3.783317   7.9931463  3.12564339]\n",
      " [6.99469859 6.901887   1.21150022]\n",
      " [7.20731105 4.75103274 4.94337722]\n",
      " [7.93796665 5.94531948 8.13552445]\n",
      " [3.54624626 4.86326796 9.32129219]\n",
      " [9.92889367 3.25621704 9.38762241]\n",
      " [5.61065428 8.77197098 7.17783725]\n",
      " [4.71596877 3.32609085 8.16908561]\n",
      " [3.33002479 1.38966721 4.17461898]\n",
      " [4.09839488 7.76489007 3.4176619 ]\n",
      " [1.88157392 4.37694744 2.90964486]\n",
      " [9.77605996 8.16026849 3.97036756]\n",
      " [4.2623404  5.22299625 6.67275817]]\n",
      "14\n",
      "[[8.26175902 3.32429764 3.11916469]\n",
      " [9.84572305 2.13694378 3.31015183]\n",
      " [4.25947299 4.79357267 3.43627818]\n",
      " [1.46698816 2.22262697 7.99951994]\n",
      " [5.37188309 7.17854449 9.45795034]\n",
      " [8.60972659 2.43303149 9.11743745]\n",
      " [1.45599863 5.04735943 7.51183948]\n",
      " [5.09799423 3.04344057 2.01988135]\n",
      " [8.82991024 1.95546365 5.95470527]\n",
      " [8.56965714 2.18057267 9.59334191]\n",
      " [3.50609717 1.84421009 9.21350502]\n",
      " [9.43667204 2.25647551 2.3902602 ]\n",
      " [2.30339906 6.47289142 6.26166399]\n",
      " [7.48678021 1.22589075 2.39497177]]\n",
      "28\n",
      "[[6.29740743 9.44790902 3.57222811]\n",
      " [9.91699472 2.69294983 9.98931661]\n",
      " [7.30531645 7.75960004 3.63407232]\n",
      " [9.30741104 4.83832881 8.08376314]\n",
      " [4.62542452 3.36484761 2.4923391 ]\n",
      " [8.95994014 1.53514472 7.30600052]\n",
      " [1.19479804 3.70081017 5.03828644]\n",
      " [6.62748204 8.37631503 3.8736719 ]\n",
      " [1.03584947 3.98625021 4.20459742]\n",
      " [8.71536541 1.63262618 9.27942448]\n",
      " [5.18119027 2.31355117 7.87223433]\n",
      " [9.52287239 8.66678529 4.26378255]\n",
      " [1.52128355 3.76016008 1.18054813]\n",
      " [9.60941567 4.8696962  4.9889434 ]]\n",
      "42\n",
      "[[3.204415   6.93163317 1.74547061]\n",
      " [4.59807327 4.74529729 8.1226824 ]\n",
      " [3.60174504 8.71819399 8.26403208]\n",
      " [6.10189892 6.22276958 9.44977983]\n",
      " [4.16026789 2.66993086 8.9046833 ]\n",
      " [4.19839583 2.89580828 6.84354821]\n",
      " [5.77909976 9.89067768 2.98179732]\n",
      " [6.29505845 8.57437953 2.00735191]\n",
      " [5.46707836 2.11710372 2.88888528]\n",
      " [3.93009867 5.0820493  9.14315069]\n",
      " [2.21409922 1.35070789 1.18623966]\n",
      " [2.64172845 4.68420864 3.60146826]\n",
      " [1.72780778 9.80002519 5.09380303]\n",
      " [9.14643192 9.06172376 5.73011147]]\n",
      "56\n",
      "[[3.70345377 9.79748089 1.90478403]\n",
      " [4.82635461 7.53640043 6.44960612]\n",
      " [4.17898039 8.70649078 2.44398863]\n",
      " [4.64967645 9.31814593 7.37984773]\n",
      " [7.62080918 6.93370875 9.79587392]\n",
      " [4.15265982 6.10611258 6.47872261]\n",
      " [4.12787162 3.7359655  2.3856305 ]\n",
      " [7.29671465 3.49815735 7.94826823]\n",
      " [3.73380862 9.61132657 3.48922092]\n",
      " [5.42814243 3.38011079 1.41759045]\n",
      " [1.51354149 3.38143823 5.11794645]\n",
      " [9.74383272 1.82493955 4.40707019]\n",
      " [3.37232462 6.59625109 8.09053919]\n",
      " [5.41892199 2.16260057 6.02723557]]\n",
      "70\n",
      "[[6.12456119 3.08675726 5.45142207]\n",
      " [7.09825957 1.366969   7.50131006]\n",
      " [8.28055669 3.95177547 3.15944558]\n",
      " [1.73301731 8.87722643 3.48880058]\n",
      " [1.10514482 9.19962948 1.57289317]\n",
      " [4.79782371 2.43596942 7.63030142]\n",
      " [6.28890961 3.05800285 9.99869223]\n",
      " [9.56392231 9.42061321 6.24622809]\n",
      " [5.94017689 7.80672212 1.04063796]\n",
      " [7.49063099 9.38882855 4.90273412]\n",
      " [6.02130996 9.31552217 8.06694817]\n",
      " [7.95670925 7.86432597 5.86798608]\n",
      " [7.99001539 4.17094251 1.35753473]\n",
      " [8.69639534 3.9155843  7.06195567]]\n",
      "84\n",
      "[[3.33115443 1.04898673 7.31769519]\n",
      " [2.23812258 7.28564165 4.14880649]\n",
      " [2.30131581 1.51377325 5.85811185]\n",
      " [3.15253728 4.61984615 2.88522421]\n",
      " [9.94331634 9.49397799 4.47827849]\n",
      " [6.56712072 5.68040183 3.90888102]\n",
      " [6.83801379 2.79343602 1.14953524]\n",
      " [6.7755431  3.00716879 5.09737538]\n",
      " [1.53014247 8.1290525  9.18428337]\n",
      " [2.73729313 2.86698185 1.2229437 ]\n",
      " [2.06591654 9.87382443 9.40460468]\n",
      " [7.18562526 4.55111832 3.66662987]\n",
      " [7.57228071 3.14966048 3.6459992 ]\n",
      " [8.65189496 5.34196503 1.06994339]]\n",
      "98\n",
      "[[5.69391223 3.76374643 8.25289026]\n",
      " [8.66840379 9.51477842 1.40417839]\n",
      " [8.40610932 7.51573677 6.6557258 ]\n",
      " [7.081636   7.69372906 8.29606158]\n",
      " [1.14163442 9.76377029 3.98638355]\n",
      " [4.15769921 6.09592929 9.34396509]\n",
      " [5.75521998 2.11541003 3.35995064]\n",
      " [3.91207062 4.5062609  5.91635601]\n",
      " [8.05612663 4.07607046 9.37114363]\n",
      " [6.58924948 7.01465584 5.0849041 ]\n",
      " [5.42152464 9.37742713 8.39547514]\n",
      " [3.6416092  9.15215765 2.49382229]\n",
      " [9.41881769 4.58198698 8.06637166]\n",
      " [5.61187316 2.95847868 3.8448741 ]]\n",
      "112\n",
      "[[8.33008794 5.79295099 3.40767001]\n",
      " [6.07252027 8.77891747 1.14412689]\n",
      " [4.84357539 9.6741525  4.02852851]\n",
      " [1.47477121 9.92598875 1.365012  ]\n",
      " [1.76706633 4.19472638 9.36423935]\n",
      " [4.29530463 2.18837374 8.86159518]\n",
      " [2.6192649  1.56372999 9.54779467]\n",
      " [6.62996884 8.24075636 5.75205339]\n",
      " [5.15547731 3.85330468 4.77379516]\n",
      " [7.92678954 3.0534123  5.30599363]\n",
      " [4.49616132 6.70877326 7.91356724]\n",
      " [3.61167738 6.48589737 4.70598682]\n",
      " [5.6287367  4.93319347 2.0573903 ]\n",
      " [4.4585991  2.75348694 3.92106002]]\n",
      "126\n",
      "[[5.39726839 4.79040423 9.2145039 ]\n",
      " [5.3135029  3.65851253 8.95315968]\n",
      " [1.90933757 4.33538294 2.50797531]\n",
      " [1.96270469 8.38326834 8.39174193]\n",
      " [2.44343375 6.30287408 5.84110496]\n",
      " [1.54870864 5.55765452 3.18754093]\n",
      " [9.93559088 5.64703404 1.0373886 ]\n",
      " [9.60742395 8.30008241 6.33060157]\n",
      " [8.40542312 3.33520358 8.79688173]\n",
      " [9.9548772  7.34558111 9.4273605 ]\n",
      " [5.13508631 2.57243414 8.98478332]\n",
      " [6.9305227  7.08061443 5.25489902]\n",
      " [6.21572888 5.46130208 7.82898884]\n",
      " [6.04891073 4.99632358 9.09113228]]\n"
     ]
    }
   ],
   "source": [
    "#1. Now my X_train is (140,3), please create ten non-overlapping data of shape(14,3) --> use for loop\n",
    "first = X[0:14]\n",
    "second = X[14:28]\n",
    "third = X[28:42]\n",
    "'''\n",
    "'''\n",
    "last = X[126:]\n",
    "#how do get 0, 14, 28, 42,..., 140\n",
    "# for i in range(10):\n",
    "#     my_list.append(i*14)\n",
    "for i in range(0,140,14):\n",
    "    print(i)\n",
    "    print(X[i:i+14]) #do whatever append you want"
   ]
  },
  {
   "cell_type": "code",
   "execution_count": null,
   "metadata": {},
   "outputs": [
    {
     "data": {
      "text/plain": [
       "(140, 3)"
      ]
     },
     "execution_count": 245,
     "metadata": {},
     "output_type": "execute_result"
    }
   ],
   "source": [
    "X_train.shape"
   ]
  },
  {
   "cell_type": "code",
   "execution_count": null,
   "metadata": {},
   "outputs": [
    {
     "data": {
      "text/plain": [
       "(50, 3)"
      ]
     },
     "execution_count": 249,
     "metadata": {},
     "output_type": "execute_result"
    }
   ],
   "source": [
    "#2. Please create a subset of X_train of size 50, which the starting point is randomized. \n",
    "#   If the number exceeds, take only what you have\n",
    "import random\n",
    "random_num= random.choice(range(200))\n",
    "some_subset= X_train[random_num:random_num+50]\n",
    "\n",
    "some_subset.shape"
   ]
  },
  {
   "cell_type": "code",
   "execution_count": null,
   "metadata": {},
   "outputs": [],
   "source": []
  }
 ],
 "metadata": {
  "kernelspec": {
   "display_name": "Python 3.10.4 64-bit",
   "language": "python",
   "name": "python3"
  },
  "language_info": {
   "codemirror_mode": {
    "name": "ipython",
    "version": 3
   },
   "file_extension": ".py",
   "mimetype": "text/x-python",
   "name": "python",
   "nbconvert_exporter": "python",
   "pygments_lexer": "ipython3",
   "version": "3.10.4"
  },
  "orig_nbformat": 4,
  "vscode": {
   "interpreter": {
    "hash": "c81d839d3c4227cd770621df97fe8191838af02e7eef185a922d8250cb33d344"
   }
  }
 },
 "nbformat": 4,
 "nbformat_minor": 2
}
