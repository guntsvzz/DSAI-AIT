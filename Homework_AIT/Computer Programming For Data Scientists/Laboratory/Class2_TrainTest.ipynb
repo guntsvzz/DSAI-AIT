{
 "cells": [
  {
   "cell_type": "markdown",
   "metadata": {},
   "source": [
    "Task\n",
    "1. Create a numpy array of size 150 by 4. Imagine this array holds 150 sample of students height, weight, age, GPA\n",
    "2. Split the array of the first three columns into a variable called x, and the last column to y (X is common name for features/factors/independent variables; y is a common name for labels/targets/metrics/something you wanna predict/dependent variables)\n",
    "3. Split the X into X_train and X_test, where X_train contains 70% of the data(140 rows) ad split the y into y_train and y_test where contains 70 % of the data (140 rows)\n",
    "4. Create 10 non-overlapping dataset of X_train\n"
   ]
  },
  {
   "cell_type": "code",
   "execution_count": 1,
   "metadata": {},
   "outputs": [
    {
     "name": "stdout",
     "output_type": "stream",
     "text": [
      "(150, 5)\n",
      "X shape : (150, 4) Y shape : (150,)\n",
      "Whole dataset size : 150\n",
      "Whole train Size : 105\n"
     ]
    }
   ],
   "source": [
    "import numpy as np\n",
    "import random\n",
    "\n",
    "data = np.random.uniform(1,10, (150,5)) \n",
    "print(data.shape)\n",
    "X = data[:,:-1] \n",
    "y = data[:,-1]\n",
    "print('X shape :',X.shape,'Y shape :', y.shape)\n",
    "\n",
    "dataset_size = X.shape[0]\n",
    "print('Whole dataset size :',dataset_size)\n",
    "train_size = int(dataset_size *0.7)\n",
    "print('Whole train Size :',train_size)\n",
    "\n",
    "#Y_Part\n",
    "# y_train = y[random_105_indexes]\n",
    "# print('y_train Shape :',y_train.shape)\n",
    "# y_test = y[next_45_indexes_not_in_this_105]\n",
    "# print('y_test Shape :',y_test.shape)\n"
   ]
  },
  {
   "cell_type": "code",
   "execution_count": 8,
   "metadata": {},
   "outputs": [
    {
     "data": {
      "text/plain": [
       "((105, 4), (45, 4))"
      ]
     },
     "execution_count": 8,
     "metadata": {},
     "output_type": "execute_result"
    }
   ],
   "source": [
    "#1st easy way\n",
    "X_train = X[:train_size]\n",
    "X_test = X[train_size:]\n",
    "\n",
    "X_train.shape,X_test.shape"
   ]
  },
  {
   "cell_type": "code",
   "execution_count": 9,
   "metadata": {},
   "outputs": [
    {
     "data": {
      "text/plain": [
       "((105, 4), (45, 4))"
      ]
     },
     "execution_count": 9,
     "metadata": {},
     "output_type": "execute_result"
    }
   ],
   "source": [
    "#2nd way\n",
    "#randomized way\n",
    "#randomly pick 105 numbers from 0 to 150\n",
    "my_list = range(150)\n",
    "random_105_indexes = random.sample(my_list,train_size)\n",
    "X_train = X[random_105_indexes]\n",
    "\n",
    "next_45_indexes_not_in_this_105 = [i for i in range(150) if i not in random_105_indexes]\n",
    "X_test = X[next_45_indexes_not_in_this_105,:]\n",
    "\n",
    "X_train.shape, X_test.shape\n",
    "\n",
    "#which will be useful when you learn \"mini-batch\" gradient "
   ]
  },
  {
   "cell_type": "code",
   "execution_count": 4,
   "metadata": {},
   "outputs": [
    {
     "data": {
      "text/plain": [
       "10"
      ]
     },
     "execution_count": 4,
     "metadata": {},
     "output_type": "execute_result"
    }
   ],
   "source": [
    "split = X_train.shape[0]//10\n",
    "\n",
    "split"
   ]
  },
  {
   "cell_type": "code",
   "execution_count": 7,
   "metadata": {},
   "outputs": [
    {
     "name": "stdout",
     "output_type": "stream",
     "text": [
      "(15, 4)\n",
      "(15, 4)\n",
      "(15, 4)\n",
      "(15, 4)\n",
      "(15, 4)\n",
      "(15, 4)\n",
      "(15, 4)\n",
      "(15, 4)\n",
      "(15, 4)\n",
      "(15, 4)\n",
      "(15, 4)\n"
     ]
    }
   ],
   "source": [
    "for counter in range(0,X_train.shape[0],split):\n",
    "    print(X[counter:counter+15].shape)"
   ]
  }
 ],
 "metadata": {
  "kernelspec": {
   "display_name": "Python 3.10.4 64-bit",
   "language": "python",
   "name": "python3"
  },
  "language_info": {
   "codemirror_mode": {
    "name": "ipython",
    "version": 3
   },
   "file_extension": ".py",
   "mimetype": "text/x-python",
   "name": "python",
   "nbconvert_exporter": "python",
   "pygments_lexer": "ipython3",
   "version": "3.10.4"
  },
  "orig_nbformat": 4,
  "vscode": {
   "interpreter": {
    "hash": "c81d839d3c4227cd770621df97fe8191838af02e7eef185a922d8250cb33d344"
   }
  }
 },
 "nbformat": 4,
 "nbformat_minor": 2
}
