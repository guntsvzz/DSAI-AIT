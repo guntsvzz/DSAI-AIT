{
 "cells": [
  {
   "cell_type": "markdown",
   "metadata": {},
   "source": [
    "## Task1:  \n",
    "Please change the adjacency list to the adjacency matrix"
   ]
  },
  {
   "cell_type": "markdown",
   "metadata": {},
   "source": [
    "### BFS"
   ]
  },
  {
   "cell_type": "code",
   "execution_count": 51,
   "metadata": {},
   "outputs": [
    {
     "name": "stdout",
     "output_type": "stream",
     "text": [
      "1 --> 2 --> 7 --> 4 --> 6 --> 5 --> 3 --> "
     ]
    }
   ],
   "source": [
    "#adjacency list\n",
    "graph = {\n",
    "\n",
    "    '1' : ['2'],\n",
    "    '2' : ['7','4'],\n",
    "    '3' : ['4'],\n",
    "    '4' : ['6'],\n",
    "    '5' : ['4','3'],\n",
    "    '6' : [],\n",
    "    '7' : ['5']\n",
    "}\n",
    "\n",
    "def BFS(graph,s):\n",
    "    visited = set() #unique number\n",
    "    queue = set()   #list in python is basiaclly queue\n",
    "    visited.add(s)  #means make it black\n",
    "    queue.add(s)\n",
    "\n",
    "    while queue:        #as long as the queue is not empty....\n",
    "        u = queue.pop() #pop the front guy.... basiaclly index 0\n",
    "        \n",
    "        print(u, \"-->\", end = \" \") \n",
    "        for neighbor in graph[u]:       #for everyone who connects to u,\n",
    "            if neighbor not in visited:\n",
    "                visited.add(neighbor)    #add them to visited\n",
    "                queue.add(neighbor)      #add them to the queue\n",
    "\n",
    "BFS(graph,'1')"
   ]
  },
  {
   "cell_type": "markdown",
   "metadata": {},
   "source": [
    "### DFS"
   ]
  },
  {
   "cell_type": "code",
   "execution_count": 99,
   "metadata": {},
   "outputs": [
    {
     "name": "stdout",
     "output_type": "stream",
     "text": [
      "1 --> 2 --> 7 --> 5 --> 4 --> 6 --> 3 --> "
     ]
    }
   ],
   "source": [
    "#adjacency list\n",
    "graph = {\n",
    "\n",
    "    '1' : ['2'],\n",
    "    '2' : ['7','4'],\n",
    "    '3' : ['4'],\n",
    "    '4' : ['6'],\n",
    "    '5' : ['4','3'],\n",
    "    '6' : [],\n",
    "    '7' : ['5']\n",
    "}\n",
    "\n",
    "visited = set()\n",
    "\n",
    "def DFS(graph,s):\n",
    "    if s not in visited:\n",
    "        print(s,'-->',end=\" \") #our answer\n",
    "        visited.add(s)\n",
    "        for neighbor in graph[s]:\n",
    "            DFS(graph,neighbor)\n",
    "\n",
    "DFS(graph,'1')"
   ]
  },
  {
   "cell_type": "code",
   "execution_count": 6,
   "metadata": {},
   "outputs": [],
   "source": [
    "class Graph_Matrix: \n",
    "    adj = []\n",
    "    def __init__(self, v, e): \n",
    "        self.v = v\n",
    "        self.e = e\n",
    "        Graph_Matrix.adj = [[0 for i in range(self.v)] for j in range(self.v)]\n",
    "        \n",
    "    def addEdge(self, s, e): #Add to Matrix\n",
    "        Graph_Matrix.adj[s-1][e-1] = Graph_Matrix.adj[e-1][s-1] = 1\n",
    "\n",
    "    def BFS(self, s):\n",
    "        visited = set() #unique number\n",
    "        queue = set()   #list in python is basiaclly queue\n",
    "        visited.add(s)  #means make it black\n",
    "        queue.add(s)\n",
    "\n",
    "        while queue:\n",
    "            u = queue.pop()\n",
    "            print(u+1, \"-->\", end = \" \")\n",
    "            for neighbor in range(self.v):\n",
    "                if (Graph_Matrix.adj[u][neighbor] == 1) and (neighbor not in visited):  \n",
    "                    visited.add(neighbor)    #add them to visited\n",
    "                    queue.add(neighbor)      #add them to the queue\n",
    "                    \n",
    "    def DFS(self, s, visited):\n",
    "        if s not in visited:\n",
    "            print(s+1,'-->',end=\" \") #our answer\n",
    "            visited.add(s)\n",
    "            for neighbor in range(self.v):\n",
    "                self.DFS(neighbor,visited)"
   ]
  },
  {
   "cell_type": "code",
   "execution_count": 7,
   "metadata": {},
   "outputs": [
    {
     "data": {
      "text/plain": [
       "[[0, 1, 0, 0, 0, 0, 0],\n",
       " [1, 0, 0, 0, 0, 0, 1],\n",
       " [0, 0, 0, 1, 1, 0, 0],\n",
       " [0, 0, 1, 0, 1, 1, 0],\n",
       " [0, 0, 1, 1, 0, 0, 1],\n",
       " [0, 0, 0, 1, 0, 0, 0],\n",
       " [0, 1, 0, 0, 1, 0, 0]]"
      ]
     },
     "execution_count": 7,
     "metadata": {},
     "output_type": "execute_result"
    }
   ],
   "source": [
    "Matrix = Graph_Matrix(7,7)\n",
    "Matrix.addEdge(1, 2)\n",
    "Matrix.addEdge(2, 7)\n",
    "Matrix.addEdge(3, 4)\n",
    "Matrix.addEdge(4, 6)\n",
    "Matrix.addEdge(5, 3)\n",
    "Matrix.addEdge(5, 4)\n",
    "Matrix.addEdge(7, 5)\n",
    "Matrix.adj"
   ]
  },
  {
   "cell_type": "code",
   "execution_count": 9,
   "metadata": {},
   "outputs": [
    {
     "name": "stdout",
     "output_type": "stream",
     "text": [
      "1 --> 2 --> 7 --> 5 --> 3 --> 4 --> 6 --> "
     ]
    }
   ],
   "source": [
    "Matrix.BFS(0) #1"
   ]
  },
  {
   "cell_type": "code",
   "execution_count": 10,
   "metadata": {},
   "outputs": [
    {
     "name": "stdout",
     "output_type": "stream",
     "text": [
      "1 --> 2 --> 3 --> 4 --> 5 --> 6 --> 7 --> "
     ]
    }
   ],
   "source": [
    "visited = set()\n",
    "Matrix.DFS(0,visited)"
   ]
  },
  {
   "cell_type": "markdown",
   "metadata": {},
   "source": [
    "## Task2:  \n",
    "Chaky wants to know how to use BFS/DFS for real-world case study; can you help Chaky find just one VERY simple case study and apply either BFS/DFS to solve the problem."
   ]
  },
  {
   "cell_type": "markdown",
   "metadata": {},
   "source": [
    "BFS The shortest path"
   ]
  },
  {
   "cell_type": "code",
   "execution_count": null,
   "metadata": {},
   "outputs": [],
   "source": []
  },
  {
   "cell_type": "markdown",
   "metadata": {},
   "source": [
    "DFS path"
   ]
  },
  {
   "cell_type": "markdown",
   "metadata": {},
   "source": []
  }
 ],
 "metadata": {
  "kernelspec": {
   "display_name": "Python 3.10.4 64-bit",
   "language": "python",
   "name": "python3"
  },
  "language_info": {
   "codemirror_mode": {
    "name": "ipython",
    "version": 3
   },
   "file_extension": ".py",
   "mimetype": "text/x-python",
   "name": "python",
   "nbconvert_exporter": "python",
   "pygments_lexer": "ipython3",
   "version": "3.10.4"
  },
  "orig_nbformat": 4,
  "vscode": {
   "interpreter": {
    "hash": "c81d839d3c4227cd770621df97fe8191838af02e7eef185a922d8250cb33d344"
   }
  }
 },
 "nbformat": 4,
 "nbformat_minor": 2
}
