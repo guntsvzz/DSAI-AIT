{
 "cells": [
  {
   "cell_type": "markdown",
   "metadata": {},
   "source": [
    "Insertion Sort"
   ]
  },
  {
   "cell_type": "code",
   "execution_count": 8,
   "metadata": {},
   "outputs": [
    {
     "name": "stdout",
     "output_type": "stream",
     "text": [
      "[78, 52, 63, 26, 18, 58, 87, 75]\n"
     ]
    }
   ],
   "source": [
    "#List Preparation\n",
    "import random\n",
    "list_insert = [random.randint(0,100) for i in range(8)]\n",
    "print(list_insert)"
   ]
  },
  {
   "cell_type": "code",
   "execution_count": 9,
   "metadata": {},
   "outputs": [
    {
     "data": {
      "text/plain": [
       "[18, 26, 52, 58, 63, 75, 78, 87]"
      ]
     },
     "execution_count": 9,
     "metadata": {},
     "output_type": "execute_result"
    }
   ],
   "source": [
    "\n",
    "for j in range(1,len(list_insert)):\n",
    "    key = list_insert[j]\n",
    "    # print(key)\n",
    "    i = j - 1\n",
    "    # print('Index :',i)\n",
    "    while i > -1 and list_insert[i] > key:\n",
    "        list_insert[i+1] = list_insert[i]\n",
    "        i = i - 1\n",
    "    list_insert[i+1] = key\n",
    "\n",
    "list_insert\n"
   ]
  },
  {
   "cell_type": "markdown",
   "metadata": {},
   "source": [
    "Merge Sort"
   ]
  },
  {
   "cell_type": "code",
   "execution_count": 10,
   "metadata": {},
   "outputs": [
    {
     "name": "stdout",
     "output_type": "stream",
     "text": [
      "[6, 33, 50, 59, 65, 39, 60, 10]\n"
     ]
    }
   ],
   "source": [
    "#List Preparation\n",
    "import random\n",
    "list_merge = [random.randint(0,100) for i in range(8)]\n",
    "# list_merge = [2,4,5,7,1,2,3,6]\n",
    "print(list_merge)"
   ]
  },
  {
   "cell_type": "code",
   "execution_count": 11,
   "metadata": {},
   "outputs": [],
   "source": [
    "def merge(list_merge,p,q,r):\n",
    "    # p = list_merge.index(list_merge[0])+1\n",
    "    # q = (list_merge.index(list_merge[-1])+1)//2\n",
    "    # r = list_merge.index(list_merge[-1])+1\n",
    "    # print(p,q,r)\n",
    "    n1 = q - p + 1 \n",
    "    n2 = r - q\n",
    "    print(n1,n2)\n",
    "    #Divide Left and Right Array\n",
    "    Left,Right = [0]*n1 , [0]*n2\n",
    "    for i in range(0,n1):\n",
    "        # Left.append(list_merge[p+i-1])\n",
    "        Left[i] = list_merge[p+i-1]\n",
    "    print(f'Left Term : {Left}')\n",
    "\n",
    "    for j in range(0,n2):\n",
    "        # Right.append(list_merge[q+j])\n",
    "        Right[j] = list_merge[q+j]\n",
    "    print(f'Right Term : {Right}')\n",
    "\n",
    "    #Merge Loop\n",
    "    i,j,k = 0,0,0\n",
    "    # for k in range(p-1,r+1):\n",
    "    while i < n1 and j < n2:\n",
    "        if Left[i] <= Right[j]:\n",
    "            print('less than',k)\n",
    "            list_merge[k] = Left[i]\n",
    "            i = i + 1\n",
    "        else :\n",
    "            print('more than',k)\n",
    "            list_merge[k] = Right[j]\n",
    "            j = j + 1\n",
    "        k = k + 1\n",
    "    \n",
    "    while i < n1:\n",
    "        list_merge[k] = Left[i]\n",
    "        i = i + 1\n",
    "        k = k + 1\n",
    "\n",
    "    while j < n2:\n",
    "        list_merge[k] = Right[j]\n",
    "        j = j + 1\n",
    "        k = k + 1\n",
    "\n",
    "    print('Left List :',Left)\n",
    "    print('Right List :',Right)\n",
    "    print('Merge List :',list_merge)\n",
    "    print('------------------')\n"
   ]
  },
  {
   "cell_type": "code",
   "execution_count": 12,
   "metadata": {},
   "outputs": [],
   "source": [
    "# p = list_merge.index(list_merge[0])+1\n",
    "# q = (list_merge.index(list_merge[-1])+1)//2\n",
    "# r = list_merge.index(list_merge[-1])+1\n",
    "# merge(list_merge,p,q,r)"
   ]
  },
  {
   "cell_type": "code",
   "execution_count": 13,
   "metadata": {},
   "outputs": [],
   "source": [
    "def merge_sort(list_merge,p,r):\n",
    "    if p < r:\n",
    "        q = (p+r)//2\n",
    "        print('q =',q)\n",
    "        merge_sort(list_merge,p,q)\n",
    "        merge_sort(list_merge,q+1,r)\n",
    "        merge(list_merge,p,q,r)"
   ]
  },
  {
   "cell_type": "code",
   "execution_count": 14,
   "metadata": {},
   "outputs": [
    {
     "name": "stdout",
     "output_type": "stream",
     "text": [
      "q = 3\n"
     ]
    },
    {
     "ename": "NameError",
     "evalue": "name 'Left' is not defined",
     "output_type": "error",
     "traceback": [
      "\u001b[1;31m---------------------------------------------------------------------------\u001b[0m",
      "\u001b[1;31mNameError\u001b[0m                                 Traceback (most recent call last)",
      "\u001b[1;32mc:\\Users\\Guntsv\\Downloads\\AIT\\AT72.04 Data Structures and Algorithms\\1-Todsavad.ipynb Cell 9\u001b[0m in \u001b[0;36m<cell line: 1>\u001b[1;34m()\u001b[0m\n\u001b[1;32m----> <a href='vscode-notebook-cell:/c%3A/Users/Guntsv/Downloads/AIT/AT72.04%20Data%20Structures%20and%20Algorithms/1-Todsavad.ipynb#X11sZmlsZQ%3D%3D?line=0'>1</a>\u001b[0m merge_sort(list_merge,\u001b[39m0\u001b[39;49m,\u001b[39mlen\u001b[39;49m(list_merge)\u001b[39m-\u001b[39;49m\u001b[39m1\u001b[39;49m)\n\u001b[0;32m      <a href='vscode-notebook-cell:/c%3A/Users/Guntsv/Downloads/AIT/AT72.04%20Data%20Structures%20and%20Algorithms/1-Todsavad.ipynb#X11sZmlsZQ%3D%3D?line=1'>2</a>\u001b[0m \u001b[39mprint\u001b[39m(list_merge)\n",
      "\u001b[1;32mc:\\Users\\Guntsv\\Downloads\\AIT\\AT72.04 Data Structures and Algorithms\\1-Todsavad.ipynb Cell 9\u001b[0m in \u001b[0;36mmerge_sort\u001b[1;34m(list_merge, p, r)\u001b[0m\n\u001b[0;32m      <a href='vscode-notebook-cell:/c%3A/Users/Guntsv/Downloads/AIT/AT72.04%20Data%20Structures%20and%20Algorithms/1-Todsavad.ipynb#X11sZmlsZQ%3D%3D?line=2'>3</a>\u001b[0m q \u001b[39m=\u001b[39m (p\u001b[39m+\u001b[39mr)\u001b[39m/\u001b[39m\u001b[39m/\u001b[39m\u001b[39m2\u001b[39m\n\u001b[0;32m      <a href='vscode-notebook-cell:/c%3A/Users/Guntsv/Downloads/AIT/AT72.04%20Data%20Structures%20and%20Algorithms/1-Todsavad.ipynb#X11sZmlsZQ%3D%3D?line=3'>4</a>\u001b[0m \u001b[39mprint\u001b[39m(\u001b[39m'\u001b[39m\u001b[39mq =\u001b[39m\u001b[39m'\u001b[39m,q)\n\u001b[1;32m----> <a href='vscode-notebook-cell:/c%3A/Users/Guntsv/Downloads/AIT/AT72.04%20Data%20Structures%20and%20Algorithms/1-Todsavad.ipynb#X11sZmlsZQ%3D%3D?line=4'>5</a>\u001b[0m merge_sort(Left,p,q)\n\u001b[0;32m      <a href='vscode-notebook-cell:/c%3A/Users/Guntsv/Downloads/AIT/AT72.04%20Data%20Structures%20and%20Algorithms/1-Todsavad.ipynb#X11sZmlsZQ%3D%3D?line=5'>6</a>\u001b[0m merge_sort(Right,q\u001b[39m+\u001b[39m\u001b[39m1\u001b[39m,r)\n\u001b[0;32m      <a href='vscode-notebook-cell:/c%3A/Users/Guntsv/Downloads/AIT/AT72.04%20Data%20Structures%20and%20Algorithms/1-Todsavad.ipynb#X11sZmlsZQ%3D%3D?line=6'>7</a>\u001b[0m merge(list_merge,p,q,r)\n",
      "\u001b[1;31mNameError\u001b[0m: name 'Left' is not defined"
     ]
    }
   ],
   "source": [
    "merge_sort(list_merge,0,len(list_merge)-1)\n",
    "print(list_merge)"
   ]
  }
 ],
 "metadata": {
  "kernelspec": {
   "display_name": "Python 3.10.4 64-bit",
   "language": "python",
   "name": "python3"
  },
  "language_info": {
   "codemirror_mode": {
    "name": "ipython",
    "version": 3
   },
   "file_extension": ".py",
   "mimetype": "text/x-python",
   "name": "python",
   "nbconvert_exporter": "python",
   "pygments_lexer": "ipython3",
   "version": "3.10.4"
  },
  "orig_nbformat": 4,
  "vscode": {
   "interpreter": {
    "hash": "c81d839d3c4227cd770621df97fe8191838af02e7eef185a922d8250cb33d344"
   }
  }
 },
 "nbformat": 4,
 "nbformat_minor": 2
}
