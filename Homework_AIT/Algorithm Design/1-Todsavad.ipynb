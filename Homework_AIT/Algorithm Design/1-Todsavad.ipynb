{
 "cells": [
  {
   "cell_type": "markdown",
   "metadata": {},
   "source": [
    "# Insertion Sort"
   ]
  },
  {
   "cell_type": "code",
   "execution_count": 12,
   "metadata": {},
   "outputs": [
    {
     "name": "stdout",
     "output_type": "stream",
     "text": [
      "[9, 56, 1, 6, 30, 81, 99, 80]\n"
     ]
    }
   ],
   "source": [
    "#List Preparation\n",
    "import random\n",
    "list_insert = [random.randint(0,100) for i in range(8)]\n",
    "print(list_insert)"
   ]
  },
  {
   "cell_type": "code",
   "execution_count": 13,
   "metadata": {},
   "outputs": [],
   "source": [
    "def insertion_sort(list_insert):\n",
    "    for j in range(1,len(list_insert)):\n",
    "        key = list_insert[j] #second number\n",
    "        # print(key)\n",
    "        i = j - 1 #set i for comparison\n",
    "        # print('Index :',i)\n",
    "        while i > -1 and list_insert[i] > key:\n",
    "            list_insert[i+1] = list_insert[i]\n",
    "            i = i - 1\n",
    "        list_insert[i+1] = key\n",
    "    return list_insert"
   ]
  },
  {
   "cell_type": "code",
   "execution_count": 15,
   "metadata": {},
   "outputs": [
    {
     "data": {
      "text/plain": [
       "[1, 6, 9, 30, 56, 80, 81, 99]"
      ]
     },
     "execution_count": 15,
     "metadata": {},
     "output_type": "execute_result"
    }
   ],
   "source": [
    "insertion_sort(list_insert)"
   ]
  },
  {
   "cell_type": "markdown",
   "metadata": {},
   "source": [
    "# Merge Sort"
   ]
  },
  {
   "cell_type": "code",
   "execution_count": 8,
   "metadata": {},
   "outputs": [
    {
     "name": "stdout",
     "output_type": "stream",
     "text": [
      "List : [65, 85, 96, 84, 92, 88, 3, 80]\n",
      "Amount : 8\n",
      "p,q,r = (1, 4, 8)\n"
     ]
    }
   ],
   "source": [
    "#List Preparation\n",
    "import random\n",
    "list_merge = [random.randint(0,100) for i in range(8)]\n",
    "# list_merge = [2,4,5,7,1,2,3,6]\n",
    "print('List :', list_merge)\n",
    "print('Amount :',len(list_merge))\n",
    "p = list_merge.index(list_merge[0])+1\n",
    "q = (list_merge.index(list_merge[-1])+1)//2\n",
    "r = list_merge.index(list_merge[-1])+1\n",
    "print(f'{p,q,r = }')"
   ]
  },
  {
   "cell_type": "code",
   "execution_count": 21,
   "metadata": {},
   "outputs": [],
   "source": [
    "import math\n",
    "def merge(list,p,q,r):    \n",
    "    n1 = q - p + 1 \n",
    "    n2 = r - q \n",
    "    #Divide Left and Right Array\n",
    "    Left,Right = [0]*(n1+1), [0]*(n2+1)\n",
    "    Left[-1] = Right[-1]= math.inf\n",
    "    print(f'{Left,Right = }')\n",
    "\n",
    "    for i in range(0,n1):\n",
    "        # Left.append(list_merge[p+i-1])\n",
    "        Left[i] = list[p+i-1]\n",
    "    print(f'Left Term : {Left}')\n",
    "\n",
    "    for j in range(0,n2):\n",
    "        # Right.append(list_merge[q+j])\n",
    "        Right[j] = list[q+j]\n",
    "    print(f'Right Term : {Right}')\n",
    "\n",
    "    #Merge\n",
    "    i = j = 0 \n",
    "    for k in range(p-1,r):\n",
    "        print(k, end = ': ')\n",
    "        if Left[i] <= Right[j]:\n",
    "            print(f'{Left[i]} less than R {Right[j]}')\n",
    "            list[k] = Left[i]\n",
    "            i = i + 1\n",
    "        else :\n",
    "            print(f'{Left[i]} more than R {Right[j]}')\n",
    "            list[k] = Right[j]\n",
    "            j = j + 1\n",
    "    # print()\n",
    "\n",
    "def merge_sort(list,p,r):\n",
    "    if p < r:\n",
    "        q = (p+r)//2\n",
    "        print('q =',q)\n",
    "        merge_sort(list,p,q)\n",
    "        merge_sort(list,q+1,r)\n",
    "        merge(list,p,q,r)\n",
    "    return list"
   ]
  },
  {
   "cell_type": "code",
   "execution_count": 22,
   "metadata": {},
   "outputs": [
    {
     "name": "stdout",
     "output_type": "stream",
     "text": [
      "q = 4\n",
      "q = 2\n",
      "q = 1\n",
      "Left,Right = ([0, inf], [0, inf])\n",
      "Left Term : [3, inf]\n",
      "Right Term : [65, inf]\n",
      "0: 3 less than R 65\n",
      "1: inf more than R 65\n",
      "q = 3\n",
      "Left,Right = ([0, inf], [0, inf])\n",
      "Left Term : [80, inf]\n",
      "Right Term : [84, inf]\n",
      "2: 80 less than R 84\n",
      "3: inf more than R 84\n",
      "Left,Right = ([0, 0, inf], [0, 0, inf])\n",
      "Left Term : [3, 65, inf]\n",
      "Right Term : [80, 84, inf]\n",
      "0: 3 less than R 80\n",
      "1: 65 less than R 80\n",
      "2: inf more than R 80\n",
      "3: inf more than R 84\n",
      "q = 6\n",
      "q = 5\n",
      "Left,Right = ([0, inf], [0, inf])\n",
      "Left Term : [85, inf]\n",
      "Right Term : [88, inf]\n",
      "4: 85 less than R 88\n",
      "5: inf more than R 88\n",
      "q = 7\n",
      "Left,Right = ([0, inf], [0, inf])\n",
      "Left Term : [92, inf]\n",
      "Right Term : [96, inf]\n",
      "6: 92 less than R 96\n",
      "7: inf more than R 96\n",
      "Left,Right = ([0, 0, inf], [0, 0, inf])\n",
      "Left Term : [85, 88, inf]\n",
      "Right Term : [92, 96, inf]\n",
      "4: 85 less than R 92\n",
      "5: 88 less than R 92\n",
      "6: inf more than R 92\n",
      "7: inf more than R 96\n",
      "Left,Right = ([0, 0, 0, 0, inf], [0, 0, 0, 0, inf])\n",
      "Left Term : [3, 65, 80, 84, inf]\n",
      "Right Term : [85, 88, 92, 96, inf]\n",
      "0: 3 less than R 85\n",
      "1: 65 less than R 85\n",
      "2: 80 less than R 85\n",
      "3: 84 less than R 85\n",
      "4: inf more than R 85\n",
      "5: inf more than R 88\n",
      "6: inf more than R 92\n",
      "7: inf more than R 96\n"
     ]
    },
    {
     "data": {
      "text/plain": [
       "[3, 65, 80, 84, 85, 88, 92, 96]"
      ]
     },
     "execution_count": 22,
     "metadata": {},
     "output_type": "execute_result"
    }
   ],
   "source": [
    "merge_sort(list_merge,p,r)"
   ]
  },
  {
   "cell_type": "code",
   "execution_count": null,
   "metadata": {},
   "outputs": [],
   "source": []
  }
 ],
 "metadata": {
  "kernelspec": {
   "display_name": "Python 3.10.4 64-bit",
   "language": "python",
   "name": "python3"
  },
  "language_info": {
   "codemirror_mode": {
    "name": "ipython",
    "version": 3
   },
   "file_extension": ".py",
   "mimetype": "text/x-python",
   "name": "python",
   "nbconvert_exporter": "python",
   "pygments_lexer": "ipython3",
   "version": "3.10.4"
  },
  "orig_nbformat": 4,
  "vscode": {
   "interpreter": {
    "hash": "c81d839d3c4227cd770621df97fe8191838af02e7eef185a922d8250cb33d344"
   }
  }
 },
 "nbformat": 4,
 "nbformat_minor": 2
}
