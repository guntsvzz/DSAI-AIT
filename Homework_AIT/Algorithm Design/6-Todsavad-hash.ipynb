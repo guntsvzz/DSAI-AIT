{
 "cells": [
  {
   "cell_type": "code",
   "execution_count": 44,
   "metadata": {},
   "outputs": [],
   "source": [
    "'''\n",
    "Here I gonna perform chaining method\n",
    "\n",
    "Assignment:  Linear Probing\n",
    "'''\n",
    "from asyncio.windows_events import NULL\n",
    "\n",
    "\n",
    "class HashTable:\n",
    "    \n",
    "    def __init__(self, m):\n",
    "        self.m = m\n",
    "        self.hashtable = self.create_hash_table()\n",
    "    \n",
    "    def create_hash_table(self):\n",
    "        return [ [] for _ in range(self.m) ]\n",
    "    \n",
    "    def _prehash(self, key):\n",
    "        #challenge: handle negative keys and string\n",
    "        if (type(key) == str):\n",
    "            key = hash(key)  #returns a number for you\n",
    "        \n",
    "        if ((type(key) == int) | (type(key) == float)):\n",
    "            if (key < 0):\n",
    "                key = hash(float(key)) * -1  #first convert to float, then hash it\n",
    "        \n",
    "        assert (key > 0) & (type(key) == int)\n",
    "    \n",
    "        return key\n",
    "    \n",
    "    def _hash(self, key):\n",
    "        #get the position using division method\n",
    "        index = key % self.m\n",
    "        bucket = self.hashtable[index]\n",
    "        return bucket\n",
    "    \n",
    "    def insert(self, key, val):\n",
    "        key    = self._prehash(key)  #clean neg numbers or string\n",
    "        bucket = self._hash(key)     #get the position of the hashtable\n",
    "        found, pos_dup, _ = self.search(key)\n",
    "                \n",
    "        #if the key duplicates, only update the value\n",
    "        if(found): #Linear Probing\n",
    "            if bucket[pos_dup] is None:\n",
    "                bucket[pos_dup] = (key, val) \n",
    "            else:\n",
    "                bucket = self._hash(key+1)\n",
    "                # print('Bucket',bucket)   \n",
    "                bucket.append((key, val))\n",
    "\n",
    "        else: #if the key does not exist, append and #if something is there already, append\n",
    "            if len(bucket) != 0:\n",
    "                self.insert(key+1, val)\n",
    "                # pass\n",
    "            else:\n",
    "                bucket.append((key, val))\n",
    "            \n",
    "        print(self.hashtable)\n",
    "    \n",
    "    def search(self, key):\n",
    "        #if you finish this, \n",
    "        key = self._prehash(key)\n",
    "        \n",
    "        #perform the division method\n",
    "        bucket = self._hash(key)     #get the position of the hashtable\n",
    "\n",
    "        found  = False\n",
    "        answer = -9999\n",
    "        pos_dup = -9999\n",
    "        #loop the bucket index\n",
    "        for i, (bkey, bval) in enumerate(bucket):\n",
    "            if bkey == key:\n",
    "                found   = True\n",
    "                pos_dup = i\n",
    "                answer  = bval\n",
    "                break\n",
    "        return found, pos_dup, answer  \n",
    "    \n",
    "    def delete(self, key):\n",
    "        #implement this too\n",
    "        key    = self._prehash(key)\n",
    "        bucket = self._hash(key)\n",
    "        found, pos_dup, _ = self.search(key)\n",
    "        if(found):\n",
    "            bucket.clear()\n",
    "        print(self.hashtable)"
   ]
  },
  {
   "cell_type": "code",
   "execution_count": 45,
   "metadata": {},
   "outputs": [
    {
     "name": "stdout",
     "output_type": "stream",
     "text": [
      "[[], [(1, 'Chaky')], [], [], [], [], [], [], [], [], []]\n",
      "[[], [(1, 'Chaky')], [(2, 'Peter')], [], [], [], [], [], [], [], []]\n",
      "[[], [(1, 'Chaky')], [(2, 'Peter')], [(2, 'Peterss')], [], [], [], [], [], [], []]\n",
      "[[], [(1, 'Chaky')], [(2, 'Peter')], [(2, 'Peterss')], [(4, 'John')], [], [], [], [], [], []]\n",
      "[[], [(1, 'Chaky')], [(2, 'Peter')], [(2, 'Peterss')], [(4, 'John')], [], [], [], [], [], []]\n",
      "[[], [(1, 'Chaky')], [(2, 'Peter')], [(2, 'Peterss')], [(4, 'John')], [(16, 'Matthew')], [], [], [], [], []]\n",
      "[[], [(1, 'Chaky')], [(2, 'Peter')], [(2, 'Peterss')], [(4, 'John')], [(16, 'Matthew')], [], [], [], [], []]\n",
      "[[], [(1, 'Chaky')], [(2, 'Peter')], [(2, 'Peterss')], [(4, 'John')], [(16, 'Matthew')], [], [], [], [], []]\n",
      "[[], [(1, 'Chaky')], [(2, 'Peter')], [(2, 'Peterss')], [(4, 'John')], [(16, 'Matthew')], [], [], [], [], []]\n",
      "[[], [(1, 'Chaky')], [(2, 'Peter')], [(2, 'Peterss')], [(4, 'John')], [(16, 'Matthew')], [], [], [], [], []]\n",
      "True Peter\n"
     ]
    }
   ],
   "source": [
    "ht = HashTable(11)\n",
    "ht.insert(1, 'Chaky')\n",
    "ht.insert(2, 'Peter')\n",
    "ht.insert(2, 'Peterss')\n",
    "ht.insert(3, 'John')\n",
    "ht.insert(12, 'Matthew')  #this should be in the same bucket with 'Chaky'\n",
    "# ht.delete(1)\n",
    "\n",
    "found, _, val = ht.search(2)\n",
    "print(found, val)"
   ]
  },
  {
   "cell_type": "code",
   "execution_count": null,
   "metadata": {},
   "outputs": [],
   "source": []
  }
 ],
 "metadata": {
  "kernelspec": {
   "display_name": "Python 3.10.4 64-bit",
   "language": "python",
   "name": "python3"
  },
  "language_info": {
   "codemirror_mode": {
    "name": "ipython",
    "version": 3
   },
   "file_extension": ".py",
   "mimetype": "text/x-python",
   "name": "python",
   "nbconvert_exporter": "python",
   "pygments_lexer": "ipython3",
   "version": "3.10.4"
  },
  "orig_nbformat": 4,
  "vscode": {
   "interpreter": {
    "hash": "c81d839d3c4227cd770621df97fe8191838af02e7eef185a922d8250cb33d344"
   }
  }
 },
 "nbformat": 4,
 "nbformat_minor": 2
}
