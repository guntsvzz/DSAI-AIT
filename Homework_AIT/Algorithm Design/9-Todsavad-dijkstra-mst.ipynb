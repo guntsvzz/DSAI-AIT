{
 "cells": [
  {
   "cell_type": "markdown",
   "metadata": {},
   "source": [
    "# Dijkstra - Minimum Spinning Tree"
   ]
  },
  {
   "cell_type": "code",
   "execution_count": 122,
   "metadata": {},
   "outputs": [],
   "source": [
    "from heapdict import heapdict\n",
    "class Graph(object):\n",
    "    def __init__(self,V):\n",
    "        self.INF = 9999\n",
    "        self.G = G\n",
    "        self.N = len(G)\n",
    "        self.r = 0\n",
    "        self.Q = heapdict()\n",
    "        for i in range(self.N):\n",
    "            self.Q[i] = INF\n",
    "        self.Q[r] = 0 \n",
    "        self.pi = [None] * N\n",
    "        self.pi[r] = -1\n",
    "\n",
    "    def v_in_q(self,v):\n",
    "        #get the keys in 0\n",
    "        keys = list(self.Q.keys()) #you can actually do if v in Q\n",
    "        #check if v in keys\n",
    "        return v in keys\n",
    "\n",
    "    def adj(self,u):\n",
    "        neighbors = []\n",
    "        for index, values in enumerate(self.G[u]):\n",
    "            if values != 0:\n",
    "                neighbors.append(index) \n",
    "        return neighbors #list() #return only index\n",
    "\n",
    "    def prim_adjmatrix(self):\n",
    "        while (self.Q):\n",
    "            #u = extradct_min  (dict has no extract_min; you have to suffer from)\n",
    "            u = self.Q.popitem()[0]\n",
    "            # print(f'Vertex : {u}')\n",
    "            #for v in adj[u]\n",
    "            for v in self.adj(u):\n",
    "                # print(v, end = \" --> \")\n",
    "                if self.v_in_q(v) and (self.G[u][v] < self.Q[v]):   \n",
    "                    self.pi[v] = u\n",
    "                    self.Q[v] = self.G[u][v]\n",
    "        return f'Pi Adjancency Matrix: {pi}'\n",
    "\n",
    "    def prim_adjlist(self):\n",
    "        while (self.Q):\n",
    "            #u = extradct_min  (dict has no extract_min; you have to suffer from)\n",
    "            u = self.Q.popitem()[0]\n",
    "            # print(f'Vertex : {u}')\n",
    "            #for v in adj[u]\n",
    "            for v in self.adj(u):\n",
    "                # print(v, end = \" --> \")\n",
    "                if self.v_in_q(v) and (self.G[u][v][0] < self.Q[v]):   \n",
    "                    self.pi[v] = u\n",
    "                    self.Q[v] = self.G[u][v][0]\n",
    "        return f'Pi Adjancency List: {pi}'\n",
    "\n",
    "            "
   ]
  },
  {
   "cell_type": "code",
   "execution_count": 124,
   "metadata": {},
   "outputs": [
    {
     "data": {
      "text/plain": [
       "'Pi Adjancency Matrix: [-1, 2, 0, 2, 0]'"
      ]
     },
     "execution_count": 124,
     "metadata": {},
     "output_type": "execute_result"
    }
   ],
   "source": [
    "#Adjacency matrix \n",
    "    # 0, 1, 2, 3, 4\n",
    "G = [[0, 2, 2, 5, 3], #0\n",
    "     [2, 0, 1, 4, 4], #1\n",
    "     [2, 1, 0, 3, 5], #2\n",
    "     [5, 4, 3, 0, 9], #3\n",
    "     [3, 4, 5, 9 ,0]] #4\n",
    "graph = Graph(G)\n",
    "graph.prim_adjmatrix()"
   ]
  },
  {
   "cell_type": "code",
   "execution_count": 123,
   "metadata": {},
   "outputs": [
    {
     "data": {
      "text/plain": [
       "'Pi Adjancency List: [-1, 2, 0, 2, 0]'"
      ]
     },
     "execution_count": 123,
     "metadata": {},
     "output_type": "execute_result"
    }
   ],
   "source": [
    "#Adjacency list\n",
    "G = {\n",
    "    0 : [(0,0), (1,2), (2,2), (3,5), (4,3)],\n",
    "    1 : [(0,2), (1,0), (2,1), (3,4), (4,4)],\n",
    "    2 : [(0,2), (1,1), (2,0), (3,3), (4,5)],\n",
    "    3 : [(0,5), (1,4), (2,3), (3,0), (4,9)],\n",
    "    4 : [(0,3), (1,4), (2,5), (3,9), (4,0)]\n",
    "}\n",
    "graph = Graph(G)\n",
    "graph.prim_adjlist()"
   ]
  }
 ],
 "metadata": {
  "kernelspec": {
   "display_name": "Python 3.10.4 64-bit",
   "language": "python",
   "name": "python3"
  },
  "language_info": {
   "codemirror_mode": {
    "name": "ipython",
    "version": 3
   },
   "file_extension": ".py",
   "mimetype": "text/x-python",
   "name": "python",
   "nbconvert_exporter": "python",
   "pygments_lexer": "ipython3",
   "version": "3.10.4"
  },
  "orig_nbformat": 4,
  "vscode": {
   "interpreter": {
    "hash": "c81d839d3c4227cd770621df97fe8191838af02e7eef185a922d8250cb33d344"
   }
  }
 },
 "nbformat": 4,
 "nbformat_minor": 2
}
