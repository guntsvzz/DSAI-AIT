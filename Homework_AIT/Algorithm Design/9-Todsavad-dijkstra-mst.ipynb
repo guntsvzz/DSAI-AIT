{
 "cells": [
  {
   "cell_type": "markdown",
   "metadata": {},
   "source": [
    "# Dijkstra - Shortest Path Algorithm"
   ]
  },
  {
   "cell_type": "code",
   "execution_count": 8,
   "metadata": {},
   "outputs": [],
   "source": [
    "from heapdict import heapdict\n",
    "class Graph(object):\n",
    "    def __init__(self,G):\n",
    "        self.INF = 9999\n",
    "        self.G = G\n",
    "        self.N = len(G)\n",
    "        self.r = 0\n",
    "        self.Q = heapdict()\n",
    "        for i in range(self.N):\n",
    "            self.Q[i] = self.INF\n",
    "        self.Q[self.r] = 0 \n",
    "        self.pi = [None] * self.N\n",
    "        self.pi[self.r] = -1\n",
    "\n",
    "    def v_in_q(self,v):\n",
    "        #get the keys in 0\n",
    "        keys = list(self.Q.keys()) #you can actually do if v in Q\n",
    "        #check if v in keys\n",
    "        return v in keys\n",
    "\n",
    "    def adj(self,u):\n",
    "        neighbors = []\n",
    "        for index, values in enumerate(self.G[u]):\n",
    "            if values != 0:\n",
    "                neighbors.append(index) \n",
    "        return neighbors #list() #return only index\n",
    "\n",
    "    def dijkstra_adjmatrix(self):\n",
    "        while (self.Q):\n",
    "            #u = extradct_min  (dict has no extract_min; you have to suffer from)\n",
    "            u = self.Q.popitem()[0]\n",
    "            # print(f'Vertex : {u}')\n",
    "            #for v in adj[u]\n",
    "            for v in self.adj(u):\n",
    "                # print(v, end = \" --> \")\n",
    "                if self.v_in_q(v) and (self.G[u][v] < self.Q[v]):   \n",
    "                    self.pi[v] = u\n",
    "                    self.Q[v] = self.G[u][v]\n",
    "        return f'Pi Adjancency Matrix: {self.pi}'\n",
    "\n",
    "    def dijkstra_adjlist(self):\n",
    "        while (self.Q):\n",
    "            #u = extradct_min  (dict has no extract_min; you have to suffer from)\n",
    "            u = self.Q.popitem()[0]\n",
    "            # print(f'Vertex : {u}')\n",
    "            #for v in adj[u]\n",
    "            for v in self.adj(u):\n",
    "                # print(v, end = \" --> \")\n",
    "                if self.v_in_q(v) and (self.G[u][v][1] < self.Q[v]):   \n",
    "                    self.pi[v] = u\n",
    "                    self.Q[v] = self.G[u][v][1]\n",
    "        return f'Pi Adjancency List: {self.pi}'"
   ]
  },
  {
   "cell_type": "code",
   "execution_count": 9,
   "metadata": {},
   "outputs": [
    {
     "data": {
      "text/plain": [
       "'Pi Adjancency Matrix: [-1, 0, 1, 2, 3, 2, 5, 6, 2]'"
      ]
     },
     "execution_count": 9,
     "metadata": {},
     "output_type": "execute_result"
    }
   ],
   "source": [
    "#Adjacency matrix \n",
    "    # 0,  1,  2,  3,  4,  5,  6,  7,  8\n",
    "G = [[0,  4,  0,  0,  0,  0,  0,  8,  0], #0\n",
    "     [4,  0,  8,  0,  0,  0,  0,  11, 0], #1\n",
    "     [0,  8,  0,  7,  0,  4,  0,  0,  2], #2\n",
    "     [0,  0,  7,  0,  9,  14, 0,  0,  0], #3\n",
    "     [0,  0,  0,  9,  0,  10, 0,  0,  0], #4\n",
    "     [0,  0,  4,  14, 10, 0,  2,  0,  0], #5\n",
    "     [0,  0,  0,  0,  0,  2,  0,  1,  6], #6\n",
    "     [8,  11, 0,  0,  0,  0,  1,  0,  7], #7\n",
    "     [0,  0,  2,  0,  0,  0,  6,  7,  0]] #8\n",
    "\n",
    "graph = Graph(G)\n",
    "graph.dijkstra_adjmatrix()"
   ]
  },
  {
   "cell_type": "code",
   "execution_count": 10,
   "metadata": {},
   "outputs": [
    {
     "data": {
      "text/plain": [
       "'Pi Adjancency List: [-1, 8, 0, 0, 0, 0, 0, 3, 0]'"
      ]
     },
     "execution_count": 10,
     "metadata": {},
     "output_type": "execute_result"
    }
   ],
   "source": [
    "#Adjacency list\n",
    "G = {\n",
    "    0 : [(0,0), (1,4),  (2,0), (3,0),  (4,0),  (5,0),  (6,0),  (7,8),  (8,0)],\n",
    "    1 : [(0,4), (1,0),  (2,8), (3,0),  (4,0),  (5,0),  (6,0),  (7,11), (8,0)],\n",
    "    2 : [(0,0), (1,8),  (2,0), (3,7),  (4,0),  (5,4),  (6,0),  (7,0),  (8,2)],\n",
    "    3 : [(0,0), (1,0),  (2,7), (3,0),  (4,9),  (5,14), (6,0),  (7,0),  (8,0)],\n",
    "    4 : [(0,0), (1,0),  (2,0), (3,9),  (4,0),  (5,10), (6,0),  (7,0),  (8,0)],\n",
    "    5 : [(0,0), (1,0),  (2,4), (3,14), (4,10), (5,0),  (6,2),  (7,0),  (8,0)],\n",
    "    6 : [(0,0), (1,0),  (2,0), (3,0),  (4,0),  (5,2),  (6,0),  (7,1),  (8,6)],\n",
    "    7 : [(0,8), (1,11), (2,0), (3,0),  (4,0),  (5,0),  (6,1),  (7,0),  (8,7)],\n",
    "    8 : [(0,0), (1,0),  (2,2), (3,0),  (4,0),  (5,0),  (6,0),  (7,7),  (8,0)] \n",
    "}\n",
    "graph = Graph(G)\n",
    "graph.dijkstra_adjlist()"
   ]
  },
  {
   "cell_type": "code",
   "execution_count": null,
   "metadata": {},
   "outputs": [],
   "source": []
  }
 ],
 "metadata": {
  "kernelspec": {
   "display_name": "Python 3.10.4 64-bit",
   "language": "python",
   "name": "python3"
  },
  "language_info": {
   "codemirror_mode": {
    "name": "ipython",
    "version": 3
   },
   "file_extension": ".py",
   "mimetype": "text/x-python",
   "name": "python",
   "nbconvert_exporter": "python",
   "pygments_lexer": "ipython3",
   "version": "3.10.4"
  },
  "orig_nbformat": 4,
  "vscode": {
   "interpreter": {
    "hash": "c81d839d3c4227cd770621df97fe8191838af02e7eef185a922d8250cb33d344"
   }
  }
 },
 "nbformat": 4,
 "nbformat_minor": 2
}
