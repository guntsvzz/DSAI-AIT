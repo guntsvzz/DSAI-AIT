{
 "cells": [
  {
   "cell_type": "markdown",
   "metadata": {},
   "source": [
    "# Huffman Algorithms"
   ]
  },
  {
   "cell_type": "code",
   "execution_count": 117,
   "metadata": {},
   "outputs": [
    {
     "name": "stdout",
     "output_type": "stream",
     "text": [
      "{'A': 4, 'B': 7, 'E': 5, 'D': 2, 'C': 2}\n",
      "[('D', 2), ('C', 2), ('A', 4), ('E', 5), ('B', 7)]\n",
      "{'A': '00', 'D': '010', 'C': '011', 'E': '10', 'B': '11'}\n"
     ]
    }
   ],
   "source": [
    "from collections import Counter\n",
    "import numpy as np\n",
    "#every node object will have two chdilren, otherwise is a leave\n",
    "class Node(object):\n",
    "    def __init__(self,left=None,right=None):\n",
    "        self.left = left\n",
    "        self.right = right\n",
    "\n",
    "    def getChild(self):\n",
    "        return self.left, self.right\n",
    "\n",
    "def get_code(node, code = ''):\n",
    "    if type(node) is str:\n",
    "        #stop !!\n",
    "        return {node : code}\n",
    "    #get the children\n",
    "    left, right = node.getChild()\n",
    "    #recursive function!! yay!\n",
    "    huffman_code = dict()\n",
    "    huffman_code.update(get_code(left,code +'0'))\n",
    "    huffman_code.update(get_code(right,code +'1'))\n",
    "\n",
    "    return huffman_code\n",
    "    \n",
    "def decode(huffman_code):\n",
    "    pass\n",
    "\n",
    "def calculateTotalCost(huffman_code,freqs):\n",
    "    huffman_sort = dict(sorted(huffman_code.items())) #sort A-E\n",
    "    huffman_list = list(huffman_sort.values()) #take value\n",
    "    huffman_convert = [len(i) for i in huffman_list] #convert to 2 or 3\n",
    "    # print('huffman number :', huffman_number)\n",
    "\n",
    "    freq_sort = dict(sorted(freqs.items())) #sort A-E\n",
    "    freqs_values = list(freq_sort.values()) #take value\n",
    "    # print('freq : ',freqs_values)\n",
    "\n",
    "    message = np.array(huffman_convert) @ np.array(freqs_values) #dot multiplication\n",
    "    table = sum([i + 8 for i in huffman_convert])\n",
    "    return message + table\n",
    "\n",
    "def make_the_tree(freqs_sorted):\n",
    "    while len(freqs_sorted) > 1: #as long as freqs_sorted.length > 1\n",
    "        #combine the two smallest one\n",
    "        key1,value1 = freqs_sorted[0] #key1-D value1-2\n",
    "        key2,value2 = freqs_sorted[1] #key2-C value2-2\n",
    "        #delete them\n",
    "        freqs_sorted = freqs_sorted[2:]\n",
    "        #add the new combination to freqs_sorted\n",
    "        new_value = value1 + value2\n",
    "        # new_key = hash(new_value) #I cannot do like this.... becaise I will lose the structure of this\n",
    "        new_node = Node(key1,key2)\n",
    "        #add to freqs_sorted\n",
    "        freqs_sorted.append((new_node,new_value))\n",
    "        #sort again!!\n",
    "        freqs_sorted = sorted(freqs_sorted, key=lambda item: item[1])\n",
    "        # print(freqs_sorted)\n",
    "\n",
    "    return freqs_sorted[0][0]\n",
    "    #return root node (so we can use this generating coding....)\n",
    "\n",
    "#input\n",
    "message = 'AAABBBBBBEEEDABEEDCC'\n",
    "\n",
    "#count the letters\n",
    "#use Counter, then convert to dictionary \n",
    "freqs = dict(Counter(message))\n",
    "print(freqs)\n",
    "# print(freqs['A']) #4\n",
    "#sort them from smallest to biggest\n",
    "freqs_sorted = sorted(freqs.items(), key=lambda item: item[1])\n",
    "print(freqs_sorted)\n",
    "#make the tree by combining the smallest one, add delete the those guys\n",
    "root =  make_the_tree(freqs_sorted)\n",
    "#get the code\n",
    "huffman_code = get_code(root)\n",
    "print(huffman_code)\n",
    "#print the code \n",
    "#{'A':'01', 'B':'11', 'C':'000', 'D':'001', 'E':'10'}"
   ]
  },
  {
   "cell_type": "code",
   "execution_count": 118,
   "metadata": {},
   "outputs": [
    {
     "name": "stdout",
     "output_type": "stream",
     "text": [
      "None\n"
     ]
    },
    {
     "ename": "AttributeError",
     "evalue": "'list' object has no attribute 'values'",
     "output_type": "error",
     "traceback": [
      "\u001b[1;31m---------------------------------------------------------------------------\u001b[0m",
      "\u001b[1;31mAttributeError\u001b[0m                            Traceback (most recent call last)",
      "\u001b[1;32mc:\\Users\\Guntsv\\Documents\\GitHub\\DSAI-AIT-2022\\Homework_AIT\\Algorithm Design\\10-Todsavad-huffman.ipynb Cell 3\u001b[0m in \u001b[0;36m<cell line: 5>\u001b[1;34m()\u001b[0m\n\u001b[0;32m      <a href='vscode-notebook-cell:/c%3A/Users/Guntsv/Documents/GitHub/DSAI-AIT-2022/Homework_AIT/Algorithm%20Design/10-Todsavad-huffman.ipynb#W2sZmlsZQ%3D%3D?line=2'>3</a>\u001b[0m \u001b[39mprint\u001b[39m(original_message)\n\u001b[0;32m      <a href='vscode-notebook-cell:/c%3A/Users/Guntsv/Documents/GitHub/DSAI-AIT-2022/Homework_AIT/Algorithm%20Design/10-Todsavad-huffman.ipynb#W2sZmlsZQ%3D%3D?line=3'>4</a>\u001b[0m \u001b[39m#Task2: calculate the total cost --> message + table\u001b[39;00m\n\u001b[1;32m----> <a href='vscode-notebook-cell:/c%3A/Users/Guntsv/Documents/GitHub/DSAI-AIT-2022/Homework_AIT/Algorithm%20Design/10-Todsavad-huffman.ipynb#W2sZmlsZQ%3D%3D?line=4'>5</a>\u001b[0m \u001b[39mprint\u001b[39m(calculateTotalCost(huffman_code,freqs))\n",
      "\u001b[1;32mc:\\Users\\Guntsv\\Documents\\GitHub\\DSAI-AIT-2022\\Homework_AIT\\Algorithm Design\\10-Todsavad-huffman.ipynb Cell 3\u001b[0m in \u001b[0;36mcalculateTotalCost\u001b[1;34m(huffman_code, freqs)\u001b[0m\n\u001b[0;32m     <a href='vscode-notebook-cell:/c%3A/Users/Guntsv/Documents/GitHub/DSAI-AIT-2022/Homework_AIT/Algorithm%20Design/10-Todsavad-huffman.ipynb#W2sZmlsZQ%3D%3D?line=27'>28</a>\u001b[0m \u001b[39mdef\u001b[39;00m \u001b[39mcalculateTotalCost\u001b[39m(huffman_code,freqs):\n\u001b[0;32m     <a href='vscode-notebook-cell:/c%3A/Users/Guntsv/Documents/GitHub/DSAI-AIT-2022/Homework_AIT/Algorithm%20Design/10-Todsavad-huffman.ipynb#W2sZmlsZQ%3D%3D?line=28'>29</a>\u001b[0m     huffman_sort \u001b[39m=\u001b[39m \u001b[39msorted\u001b[39m(huffman_code\u001b[39m.\u001b[39mitems()) \u001b[39m#sort A-E\u001b[39;00m\n\u001b[1;32m---> <a href='vscode-notebook-cell:/c%3A/Users/Guntsv/Documents/GitHub/DSAI-AIT-2022/Homework_AIT/Algorithm%20Design/10-Todsavad-huffman.ipynb#W2sZmlsZQ%3D%3D?line=29'>30</a>\u001b[0m     huffman_list \u001b[39m=\u001b[39m \u001b[39mlist\u001b[39m(huffman_sort\u001b[39m.\u001b[39;49mvalues()) \u001b[39m#take value\u001b[39;00m\n\u001b[0;32m     <a href='vscode-notebook-cell:/c%3A/Users/Guntsv/Documents/GitHub/DSAI-AIT-2022/Homework_AIT/Algorithm%20Design/10-Todsavad-huffman.ipynb#W2sZmlsZQ%3D%3D?line=30'>31</a>\u001b[0m     huffman_convert \u001b[39m=\u001b[39m [\u001b[39mlen\u001b[39m(i) \u001b[39mfor\u001b[39;00m i \u001b[39min\u001b[39;00m huffman_list] \u001b[39m#convert to 2 or 3\u001b[39;00m\n\u001b[0;32m     <a href='vscode-notebook-cell:/c%3A/Users/Guntsv/Documents/GitHub/DSAI-AIT-2022/Homework_AIT/Algorithm%20Design/10-Todsavad-huffman.ipynb#W2sZmlsZQ%3D%3D?line=31'>32</a>\u001b[0m     \u001b[39m# print('huffman number :', huffman_number)\u001b[39;00m\n",
      "\u001b[1;31mAttributeError\u001b[0m: 'list' object has no attribute 'values'"
     ]
    }
   ],
   "source": [
    "#Task1: decode the encodeed message to the original message\n",
    "original_message = decode(huffman_code)\n",
    "print(original_message)\n",
    "#Task2: calculate the total cost --> message + table\n",
    "print(calculateTotalCost(huffman_code,freqs)) #freq*len() + 8*len()"
   ]
  },
  {
   "cell_type": "code",
   "execution_count": null,
   "metadata": {},
   "outputs": [],
   "source": []
  }
 ],
 "metadata": {
  "kernelspec": {
   "display_name": "Python 3.10.4 64-bit",
   "language": "python",
   "name": "python3"
  },
  "language_info": {
   "codemirror_mode": {
    "name": "ipython",
    "version": 3
   },
   "file_extension": ".py",
   "mimetype": "text/x-python",
   "name": "python",
   "nbconvert_exporter": "python",
   "pygments_lexer": "ipython3",
   "version": "3.10.4"
  },
  "orig_nbformat": 4,
  "vscode": {
   "interpreter": {
    "hash": "c81d839d3c4227cd770621df97fe8191838af02e7eef185a922d8250cb33d344"
   }
  }
 },
 "nbformat": 4,
 "nbformat_minor": 2
}
