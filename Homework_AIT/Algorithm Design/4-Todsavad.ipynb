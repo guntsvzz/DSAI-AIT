{
 "cells": [
  {
   "cell_type": "markdown",
   "metadata": {},
   "source": [
    "## Quick Sort"
   ]
  },
  {
   "cell_type": "code",
   "execution_count": 1,
   "metadata": {},
   "outputs": [
    {
     "name": "stdout",
     "output_type": "stream",
     "text": [
      "List : [-61, -55, 2, 47, -72, -12, 12, 20, -40]\n",
      "Amount : 9\n"
     ]
    }
   ],
   "source": [
    "#List Preparation\n",
    "import random\n",
    "import time \n",
    "list_prep = [random.randint(-100,100) for i in range(9)]\n",
    "print('List :', list_prep)\n",
    "print('Amount :',len(list_prep))\n",
    "p = list_prep.index(list_prep[0])\n",
    "r = list_prep.index(list_prep[-1])"
   ]
  },
  {
   "cell_type": "code",
   "execution_count": 2,
   "metadata": {},
   "outputs": [],
   "source": [
    "def partition(ls,p,r):\n",
    "    x = ls[r]\n",
    "    # print('x =',x)\n",
    "    i = p - 1\n",
    "    for j in range(p,r):\n",
    "        if ls[j] <= x:\n",
    "            i = i + 1\n",
    "            # print('i =',i,end = ' ')\n",
    "            #swap\n",
    "            ls[i], ls[j] = ls[j], ls[i]\n",
    "    ls[i+1], ls[r] = ls[r], ls[i+1]\n",
    "    return i + 1\n",
    "\n",
    "\n",
    "def quicksort(ls,p,r):\n",
    "    if p < r:\n",
    "        q = partition(ls,p,r)\n",
    "        # print('q =',q)\n",
    "        quicksort(ls,p,q-1)\n",
    "        quicksort(ls,q+1,r)\n",
    "    return ls"
   ]
  },
  {
   "cell_type": "code",
   "execution_count": 3,
   "metadata": {},
   "outputs": [
    {
     "data": {
      "text/plain": [
       "[-72, -61, -55, -40, -12, 2, 12, 20, 47]"
      ]
     },
     "execution_count": 3,
     "metadata": {},
     "output_type": "execute_result"
    }
   ],
   "source": [
    "quicksort(list_prep,p,r)"
   ]
  },
  {
   "cell_type": "markdown",
   "metadata": {},
   "source": [
    "### Optional challenge:  Try to use timeit to physically time which one is faster, quicksort, mergesort heapsort, when n=10, 100, 1000?"
   ]
  },
  {
   "cell_type": "markdown",
   "metadata": {},
   "source": [
    "### Merge Sort"
   ]
  },
  {
   "cell_type": "code",
   "execution_count": 22,
   "metadata": {},
   "outputs": [],
   "source": [
    "import math\n",
    "def merge(list,p,q,r):    \n",
    "    n1 = q - p + 1 \n",
    "    n2 = r - q \n",
    "    #Divide Left and Right Array\n",
    "    Left,Right = [0]*(n1+1), [0]*(n2+1)\n",
    "    Left[-1] = Right[-1]= math.inf\n",
    "    # print(f'{Left,Right = }')\n",
    "\n",
    "    for i in range(0,n1):\n",
    "        # Left.append(list_merge[p+i-1])\n",
    "        Left[i] = list[p+i-1]\n",
    "    # print(f'Left Term : {Left}')\n",
    "\n",
    "    for j in range(0,n2):\n",
    "        # Right.append(list_merge[q+j])\n",
    "        Right[j] = list[q+j]\n",
    "    # print(f'Right Term : {Right}')\n",
    "\n",
    "    #Merge\n",
    "    i = j = 0 \n",
    "    for k in range(p-1,r):\n",
    "        # print(k, end = ': ')\n",
    "        if Left[i] <= Right[j]:\n",
    "            # print(f'{Left[i]} less than R {Right[j]}')\n",
    "            list[k] = Left[i]\n",
    "            i = i + 1\n",
    "        else :\n",
    "            # print(f'{Left[i]} more than R {Right[j]}')\n",
    "            list[k] = Right[j]\n",
    "            j = j + 1\n",
    "    # print()\n",
    "    # print(list)\n",
    "\n",
    "def merge_sort(list,p,r):\n",
    "    if p < r:\n",
    "        q = (p+r)//2\n",
    "        # print('q =',q)\n",
    "        merge_sort(list,p,q)\n",
    "        merge_sort(list,q+1,r)\n",
    "        merge(list,p,q,r)"
   ]
  },
  {
   "cell_type": "markdown",
   "metadata": {},
   "source": [
    "### Heap Sort"
   ]
  },
  {
   "cell_type": "code",
   "execution_count": 23,
   "metadata": {},
   "outputs": [],
   "source": [
    "def Left(i):\n",
    "    return 2*i+1\n",
    "\n",
    "def Right(i):\n",
    "    return 2*i+2\n",
    "\n",
    "def Max_Heapify(ls, heap_size, i):\n",
    "    # Find largest among root and children\n",
    "    l = Left(i)\n",
    "    r = Right(i)\n",
    "    \n",
    "    #Left child and is greater than root\n",
    "    if l < heap_size and ls[l] > ls[i]:\n",
    "        largest = l\n",
    "    else:\n",
    "        largest = i\n",
    "        \n",
    "    #Right child and is greater than root\n",
    "    if r < heap_size and ls[r] > ls[largest]:\n",
    "        largest = r\n",
    "\n",
    "    # print(f'{largest,l,r = }')\n",
    "    \n",
    "    #Swap root\n",
    "    if largest != i:\n",
    "        ls[i], ls[largest] = ls[largest], ls[i]\n",
    "        # print(f'{ls[i], ls[largest] = }')\n",
    "        Max_Heapify(ls, heap_size, largest)\n",
    "    \n",
    "def Build_Max_Heap(ls,heap_size):\n",
    "    for i in range(heap_size//2, -1, -1):\n",
    "        # print('Round', i)\n",
    "        Max_Heapify(ls, heap_size, i)\n",
    "        \n",
    "def HeapSort(ls):\n",
    "    heap_size = len(ls)\n",
    "  \n",
    "    Build_Max_Heap(ls,heap_size)\n",
    "\n",
    "    for i in range(heap_size-1, 0, -1):\n",
    "        ls[i], ls[0] = ls[0], ls[i] \n",
    "        Max_Heapify(ls, i, 0)"
   ]
  },
  {
   "cell_type": "code",
   "execution_count": 34,
   "metadata": {},
   "outputs": [
    {
     "data": {
      "image/png": "[encoded data removed]",
      "text/plain": [
       "<Figure size 432x288 with 1 Axes>"
      ]
     },
     "metadata": {
      "needs_background": "light"
     },
     "output_type": "display_data"
    }
   ],
   "source": [
    "import matplotlib.pyplot as plt\n",
    "import numpy as np\n",
    "import math\n",
    "import random\n",
    "from timeit import timeit\n",
    "num_samples = range(10,1000,10)\n",
    "c = 1/500000\n",
    "time_interval_quicksort = []\n",
    "time_interval_mergesort = []\n",
    "time_interval_heapsort = []\n",
    "\n",
    "for n in num_samples:\n",
    "    mylist = random.sample(range(n),n)\n",
    "    time1 = timeit('quicksort(mylist, mylist.index(mylist[0]), mylist.index(mylist[-1]) )',number=1,globals=globals() )\n",
    "    time_interval_quicksort.append(time1)\n",
    "    time2 = timeit('merge_sort(mylist,mylist.index(mylist[0])+1,mylist.index(mylist[-1])+1)',number=1,globals=globals())\n",
    "    time_interval_mergesort.append(time2)\n",
    "    time3 = timeit('HeapSort(mylist)',number=1,globals=globals())\n",
    "    time_interval_heapsort.append(time3)\n",
    "\n",
    "plt.plot(num_samples,time_interval_quicksort,label='Quicksort')\n",
    "plt.plot(num_samples,time_interval_mergesort,label='Mergesort')\n",
    "plt.plot(num_samples,time_interval_heapsort,label='Heapsort')\n",
    "plt.legend()\n",
    "plt.xlabel(\"Number of samples\")\n",
    "plt.ylabel(\"Time Complexity\")\n",
    "plt.title(\"Time Complexity Comparison\")\n",
    "plt.show()"
   ]
  }
 ],
 "metadata": {
  "kernelspec": {
   "display_name": "Python 3.10.4 64-bit",
   "language": "python",
   "name": "python3"
  },
  "language_info": {
   "codemirror_mode": {
    "name": "ipython",
    "version": 3
   },
   "file_extension": ".py",
   "mimetype": "text/x-python",
   "name": "python",
   "nbconvert_exporter": "python",
   "pygments_lexer": "ipython3",
   "version": "3.10.4"
  },
  "orig_nbformat": 4,
  "vscode": {
   "interpreter": {
    "hash": "c81d839d3c4227cd770621df97fe8191838af02e7eef185a922d8250cb33d344"
   }
  }
 },
 "nbformat": 4,
 "nbformat_minor": 2
}
