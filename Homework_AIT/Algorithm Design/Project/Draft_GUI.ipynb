{
 "cells": [
  {
   "cell_type": "code",
   "execution_count": 63,
   "metadata": {},
   "outputs": [],
   "source": [
    "location = [50,150,250,350,450,550]\n",
    "list1 = ['I' ,'you'  ,'it'   ,'this','that' ,'we']\n",
    "list2 = ['is','am'   ,'are'  ,'do'  ,'have' ,'can']\n",
    "list3 = ['go', 'want','like' ,'get' ,'help' ,'stop']\n",
    "list4 = ['to','in'   ,'for'  ,'for' ,'up'   ,'with']\n",
    "list5 = ['not','more','good','now','different','finished']\n",
    "list6 = ['what','how','when','where','who','why']\n",
    "list7 = ['hi','please','wait','let\\'s','yes','no']\n",
    "list8 = ['and','or','because','but','so','if'] #,'than','as','else','until','a','the']\n",
    "\n",
    "list_text= [list1,list2,list3,list4,list5,list6,list7,list8]"
   ]
  },
  {
   "cell_type": "code",
   "execution_count": 70,
   "metadata": {},
   "outputs": [
    {
     "name": "stdout",
     "output_type": "stream",
     "text": [
      "I->you->it->this->that->we->\n",
      "is->am->are->do->have->can->\n",
      "go->want->like->get->help->stop->\n",
      "to->in->for->for->up->with->\n",
      "not->more->good->now->different->finished->\n",
      "what->how->when->where->who->why->\n",
      "hi->please->wait->let's->yes->no->\n",
      "and->or->because->but->so->if->\n",
      "added :  if\n",
      "added :  if\n",
      "added :  if\n",
      "added :  if\n",
      "added :  if\n",
      "added :  if\n",
      "added :  if\n"
     ]
    }
   ],
   "source": [
    "from tkinter import *\n",
    "from tkinter import messagebox\n",
    "window = Tk()\n",
    "window.title('Test')\n",
    "window.geometry('800x700')\n",
    "window.resizable(False,False)\n",
    "\n",
    "def addText(text):\n",
    "    print('added : ',text)\n",
    "    global text_list \n",
    "    text_list.append(text)\n",
    "    content = \" \".join(text_list)\n",
    "    txt_input.set(content)\n",
    "    return text_list\n",
    "\n",
    "def deleteText():\n",
    "    global text_list\n",
    "    text_list.pop(-1)\n",
    "    content = \" \".join(text_list)\n",
    "    txt_input.set(content)\n",
    "    return text_list\n",
    "    \n",
    "def convertText():\n",
    "    word_list = \" \".join(text_list)\n",
    "    return word_list\n",
    "\n",
    "txt_input = StringVar(value=\"0\")\n",
    "text_list = []\n",
    "#top\n",
    "display = Frame(window,width=800,height=50,bg='grey') \n",
    "display.pack(side=TOP)\n",
    "sub = Frame(window,width=800,height=50,bg='white') \n",
    "sub.pack(side=TOP) \n",
    "#bottom\n",
    "frame1 = Frame(window, width=100, height=600, bg = 'orange')\n",
    "frame1.pack(side=LEFT)\n",
    "frame2 = Frame(window, width=100, height=600, bg = 'plum3')\n",
    "frame2.pack(side=LEFT)\n",
    "frame3 = Frame(window, width=100, height=600, bg = 'plum2')\n",
    "frame3.pack(side=LEFT)\n",
    "frame4 = Frame(window, width=100, height=600, bg = 'olive drab1')\n",
    "frame4.pack(side=LEFT)\n",
    "frame5 = Frame(window, width=100, height=600, bg = 'light blue')\n",
    "frame5.pack(side=LEFT)\n",
    "frame6 = Frame(window, width=100, height=600, bg = 'ivory3')\n",
    "frame6.pack(side=LEFT)\n",
    "frame7 = Frame(window, width=100, height=600, bg = 'rosy brown1')\n",
    "frame7.pack(side=LEFT)\n",
    "frame8 = Frame(window, width=100, height=600, bg = 'light salmon')\n",
    "frame8.pack(side=LEFT)\n",
    "#Button\n",
    "displayEntry = Entry(display,font=('arial',30,'bold'),width=35,fg=\"white\",bg=\"black\",textvariable=txt_input,justify=\"right\")\n",
    "displayEntry.place(x=250,y=25,anchor='c')\n",
    "deleteButton = Button(display,text='Delete',bg='grey',width=10,height=3,command=deleteText)\n",
    "deleteButton.place(x=680,y=25,anchor='c')\n",
    "confirmButton = Button(display,text='Confirm',bg='grey',width=10,height=3,command=convertText)\n",
    "confirmButton.place(x=760,y=25,anchor='c')\n",
    "frame_list = [frame1,frame2,frame3,frame4,frame5,frame6,frame7,frame8]\n",
    "color_list = ['orange','plum3','plum2','olive drab1','light blue','ivory3','rosy brown1','light salmon']\n",
    "#loop orange\n",
    "j = 0\n",
    "bt = [i for i in range(36)]\n",
    "\n",
    "for each_list in list_text:\n",
    "    # print(len(each_list))\n",
    "    for i in range(len(each_list)):\n",
    "        print(each_list[i],end='->')\n",
    "        bt[i*j] = Button(frame_list[j],text=f'{each_list[i]}',font = (None , 20),width=5,height=1,bg=f'{color_list[j]}',command=lambda:addText(f'{each_list[i]}'))\n",
    "        bt[i*j].place(x=50,y=f'{location[i]}',anchor='c')\n",
    "    print()\n",
    "    j+=1\n",
    "\n",
    "window.mainloop()"
   ]
  },
  {
   "cell_type": "code",
   "execution_count": null,
   "metadata": {},
   "outputs": [],
   "source": []
  }
 ],
 "metadata": {
  "kernelspec": {
   "display_name": "Python 3.10.4 64-bit",
   "language": "python",
   "name": "python3"
  },
  "language_info": {
   "codemirror_mode": {
    "name": "ipython",
    "version": 3
   },
   "file_extension": ".py",
   "mimetype": "text/x-python",
   "name": "python",
   "nbconvert_exporter": "python",
   "pygments_lexer": "ipython3",
   "version": "3.10.4"
  },
  "orig_nbformat": 4,
  "vscode": {
   "interpreter": {
    "hash": "c81d839d3c4227cd770621df97fe8191838af02e7eef185a922d8250cb33d344"
   }
  }
 },
 "nbformat": 4,
 "nbformat_minor": 2
}
