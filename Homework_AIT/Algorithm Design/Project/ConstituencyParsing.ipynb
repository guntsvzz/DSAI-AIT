{
 "cells": [
  {
   "cell_type": "markdown",
   "metadata": {},
   "source": [
    "# Constituency Parsing"
   ]
  },
  {
   "cell_type": "markdown",
   "metadata": {},
   "source": [
    "## Context Free Grammar (CFG)\n",
    "\n",
    "S : Start Symbol\n",
    "\n",
    "N : Non-terminal Symbol\n",
    "\n",
    "$\\sum{}$ : Terminal Symbol\n",
    "\n",
    "P : Set of Structure\n",
    "\n",
    "Exmaple : “She eats a fish with a fork”\n",
    "\n",
    "S = {S}\n",
    "\n",
    "N ={VP, PP, NP, V, P, N, Det}\n",
    "\n",
    "Σ = {She, eats, a, fish, with, a, fork}"
   ]
  },
  {
   "cell_type": "markdown",
   "metadata": {},
   "source": [
    "<img src = \"figures/picture1.png\" width=\"200\">"
   ]
  },
  {
   "cell_type": "markdown",
   "metadata": {},
   "source": [
    "## Cocke–Younger–Kasami (CYK) algorithm\n",
    "\n",
    "demo https://martinlaz.github.io/demos/cky.html"
   ]
  },
  {
   "cell_type": "markdown",
   "metadata": {},
   "source": [
    "<img src = \"figures/cyk.gif\" width=\"400\">"
   ]
  },
  {
   "cell_type": "code",
   "execution_count": 1,
   "metadata": {},
   "outputs": [],
   "source": [
    "### Psuedocode CYK algorithm\n",
    "# let the input be a string I consisting of n characters: a1 ... an.\n",
    "# let the grammar contain r nonterminal symbols R1 ... Rr, with start symbol R1.\n",
    "# let P[n,n,r] be an array of booleans. Initialize all elements of P to false.\n",
    "\n",
    "# for each s = 1 to n\n",
    "#     for each unit production Rv → as\n",
    "#         set P[1,s,v] = true\n",
    "\n",
    "# for each l = 2 to n -- Length of span\n",
    "#     for each s = 1 to n-l+1 -- Start of span\n",
    "#         for each p = 1 to l-1 -- Partition of span\n",
    "#             for each production Ra    → Rb Rc\n",
    "#                 if P[p,s,b] and P[l-p,s+p,c] then set P[l,s,a] = true\n",
    "\n",
    "# if P[n,1,1] is true then\n",
    "#     I is member of language\n",
    "# else\n",
    "#     I is not member of language"
   ]
  },
  {
   "cell_type": "markdown",
   "metadata": {},
   "source": [
    "### Ambiguous sentence"
   ]
  },
  {
   "cell_type": "markdown",
   "metadata": {},
   "source": [
    " <img src = \"figures/Ambiguous.png\" width=\"400\">"
   ]
  },
  {
   "cell_type": "markdown",
   "metadata": {},
   "source": [
    "## Chomsky Normal Form (CNF)"
   ]
  },
  {
   "cell_type": "markdown",
   "metadata": {},
   "source": [
    "## Statistical Constituency Parsing"
   ]
  },
  {
   "cell_type": "markdown",
   "metadata": {},
   "source": [
    "## Dependency Parsing"
   ]
  },
  {
   "cell_type": "markdown",
   "metadata": {},
   "source": []
  },
  {
   "cell_type": "markdown",
   "metadata": {},
   "source": []
  },
  {
   "cell_type": "markdown",
   "metadata": {},
   "source": [
    "References: \n",
    "\n",
    "- https://medium.com/super-ai-engineer/%E0%B8%AA%E0%B8%A3%E0%B9%89%E0%B8%B2%E0%B8%87-parse-tree-%E0%B8%87%E0%B9%88%E0%B8%B2%E0%B8%A2%E0%B9%86-%E0%B8%94%E0%B9%89%E0%B8%A7%E0%B8%A2-cyk-algorithm-430e7f0d904c\n",
    "\n",
    "- Sakai, Itiroo (1962). Syntax in universal translation. 1961 International Conference on Machine Translation of Languages and Applied Language Analysis, Teddington, England. II. London: Her Majesty’s Stationery Office. pp. 593–608.\n",
    "\n",
    "- https://en.wikipedia.org/wiki/CYK_algorithm\n",
    "\n",
    "- https://wiki.ubc.ca/Course:CPSC522/PCFG\n",
    "\n",
    "- https://www.youtube.com/watch?v=El4r91dgCTQ&list=PLr9TFf9GjancAHiiP5cqGmYsZad99Uf_h&index=2\n",
    "\n",
    "- https://paperswithcode.com/task/constituency-parsing"
   ]
  },
  {
   "cell_type": "markdown",
   "metadata": {},
   "source": []
  }
 ],
 "metadata": {
  "kernelspec": {
   "display_name": "Python 3.10.4 64-bit",
   "language": "python",
   "name": "python3"
  },
  "language_info": {
   "codemirror_mode": {
    "name": "ipython",
    "version": 3
   },
   "file_extension": ".py",
   "mimetype": "text/x-python",
   "name": "python",
   "nbconvert_exporter": "python",
   "pygments_lexer": "ipython3",
   "version": "3.10.4"
  },
  "orig_nbformat": 4,
  "vscode": {
   "interpreter": {
    "hash": "c81d839d3c4227cd770621df97fe8191838af02e7eef185a922d8250cb33d344"
   }
  }
 },
 "nbformat": 4,
 "nbformat_minor": 2
}
