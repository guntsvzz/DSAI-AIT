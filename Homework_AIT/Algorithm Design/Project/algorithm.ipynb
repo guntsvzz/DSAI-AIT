{
 "cells": [
  {
   "cell_type": "markdown",
   "metadata": {},
   "source": [
    "# Process"
   ]
  },
  {
   "cell_type": "markdown",
   "metadata": {},
   "source": [
    "## 0. Dependency Parsing"
   ]
  },
  {
   "cell_type": "code",
   "execution_count": 143,
   "metadata": {},
   "outputs": [
    {
     "name": "stdout",
     "output_type": "stream",
     "text": [
      "0 John => nsubj => hit\n",
      "1 hit => ROOT => hit\n",
      "2 the => det => ball\n",
      "3 ball => dobj => hit\n"
     ]
    }
   ],
   "source": [
    "import spacy\n",
    "nlp=spacy.load('en_core_web_sm/en_core_web_sm-3.4.1/')\n",
    "\n",
    "text='John hit the ball'\n",
    "\n",
    "list_text = []\n",
    "for index,token in enumerate(nlp(text)):\n",
    "    print(index, token.text,'=>',token.dep_,'=>',token.head.text)\n",
    "    list_text.append((index,token.text,token.dep_)) "
   ]
  },
  {
   "cell_type": "code",
   "execution_count": 144,
   "metadata": {},
   "outputs": [
    {
     "data": {
      "text/plain": [
       "[(0, 'John', 'nsubj'),\n",
       " (1, 'hit', 'ROOT'),\n",
       " (2, 'the', 'det'),\n",
       " (3, 'ball', 'dobj')]"
      ]
     },
     "execution_count": 144,
     "metadata": {},
     "output_type": "execute_result"
    }
   ],
   "source": [
    "list_text"
   ]
  },
  {
   "cell_type": "markdown",
   "metadata": {},
   "source": [
    "## 1. Stack : Enqueue and Dequeue "
   ]
  },
  {
   "cell_type": "code",
   "execution_count": 145,
   "metadata": {},
   "outputs": [],
   "source": [
    "from collections import deque\n",
    "class Stack(object):\n",
    "    def __init__(self):\n",
    "        self.container = deque()\n",
    "    def push(self,value):\n",
    "        self.container.append(value)\n",
    "    def pop(self):\n",
    "        if len(self.container) != 0:\n",
    "            return self.container.pop()  \n",
    "        else: raise IndexError(\"An empty deque\")\n",
    "    # def peek(self):\n",
    "    #     return  self.container[-1]\n",
    "    # def is_empty(self):\n",
    "    #     return len(self.container)==0\n",
    "    def size(self):\n",
    "        return len(self.container)"
   ]
  },
  {
   "cell_type": "code",
   "execution_count": 146,
   "metadata": {},
   "outputs": [
    {
     "name": "stdout",
     "output_type": "stream",
     "text": [
      "Initial queue\n",
      "deque(['John', 'hit', 'the', 'ball'])\n",
      "\n",
      "Queue after removing elements\n",
      "deque([])\n"
     ]
    }
   ],
   "source": [
    "s = Stack()\n",
    "#push items\n",
    "for i in range(len(list_text)):\n",
    "    s.push(list_text[i][1])\n",
    "    \n",
    "print(\"Initial queue\")\n",
    "print(s.container)\n",
    "\n",
    "#pop items\n",
    "for i in range(len(list_text)):\n",
    "    s.pop()\n",
    "    \n",
    "print(\"\\nQueue after removing elements\")\n",
    "print(s.container)"
   ]
  },
  {
   "cell_type": "markdown",
   "metadata": {},
   "source": [
    "## 2. Transition-based : Stack and Buffer"
   ]
  },
  {
   "cell_type": "code",
   "execution_count": 147,
   "metadata": {},
   "outputs": [],
   "source": [
    "class Configuration(object):\n",
    "    def __init__(self,depency_list):\n",
    "        self.stack = list()\n",
    "        self.buffer = depency_list\n",
    "        self.arcs = list()\n",
    "    def __str__(self):\n",
    "        return f'Stack : {self.stack} \\nBuffer : {self.buffer} \\nArcs : {self.arcs}'\n",
    "\n",
    "class Transition(object):\n",
    "    def __init__(self):\n",
    "        pass\n",
    "\n",
    "    def left_arc(self,config,relation): \n",
    "        if (len(config.buffer) <= 0) or (len(config.stack) <= 0):\n",
    "            return -1\n",
    "        if config.buffer[0] == 0:\n",
    "            return -1\n",
    "        #pop top of stack -> append arc relation\n",
    "        index_i = config.stack[len(config.stack)-1]\n",
    "        index_j = config.buffer[0]\n",
    "        config.stack.pop()\n",
    "        config.arcs.append((index_j, relation, index_i)) #buffer to stack\n",
    "\n",
    "    def right_arc(self,config,relation):\n",
    "        if (len(config.buffer) <= 0) or (len(config.stack) <= 0):\n",
    "            return -1\n",
    "        #pop top of buffer -> append arc relation\n",
    "        index_i = config.stack[len(config.stack)-1]\n",
    "        index_j = config.buffer.pop(0)\n",
    "        # config.buffer.pop(0)\n",
    "        # config.stack.append(index_j)\n",
    "        config.arcs.append((index_i, relation, index_j)) #stack to buffer\n",
    "\n",
    "    def shift(self,config): \n",
    "        if len(config.buffer) <= 0:\n",
    "            return -1\n",
    "        #move buffer to stack\n",
    "        index_i = config.buffer.pop(0)\n",
    "        config.stack.append(index_i)\n"
   ]
  },
  {
   "cell_type": "code",
   "execution_count": 151,
   "metadata": {},
   "outputs": [
    {
     "data": {
      "text/plain": [
       "[(0, 'John', 'nsubj'),\n",
       " (1, 'hit', 'ROOT'),\n",
       " (2, 'the', 'det'),\n",
       " (3, 'ball', 'dobj')]"
      ]
     },
     "execution_count": 151,
     "metadata": {},
     "output_type": "execute_result"
    }
   ],
   "source": [
    "new_list = list_text.copy()\n",
    "new_list"
   ]
  },
  {
   "cell_type": "code",
   "execution_count": 152,
   "metadata": {},
   "outputs": [
    {
     "name": "stdout",
     "output_type": "stream",
     "text": [
      "Stack : [] \n",
      "Buffer : [(0, 'John', 'nsubj'), (1, 'hit', 'ROOT'), (2, 'the', 'det'), (3, 'ball', 'dobj')] \n",
      "Arcs : []\n"
     ]
    }
   ],
   "source": [
    "config = Configuration(new_list)\n",
    "print(config)"
   ]
  },
  {
   "cell_type": "code",
   "execution_count": 153,
   "metadata": {},
   "outputs": [
    {
     "name": "stdout",
     "output_type": "stream",
     "text": [
      "Stack : [(1, 'hit', 'ROOT')] \n",
      "Buffer : [] \n",
      "Arcs : [((1, 'hit', 'ROOT'), 'ROOT', (0, 'John', 'nsubj')), ((3, 'ball', 'dobj'), 'dobj', (2, 'the', 'det')), ((1, 'hit', 'ROOT'), 'dobj', (3, 'ball', 'dobj'))]\n"
     ]
    }
   ],
   "source": [
    "Tran = Transition()\n",
    "Tran.shift(config)\n",
    "Tran.left_arc(config,config.buffer[0][2])\n",
    "Tran.shift(config)\n",
    "Tran.shift(config)\n",
    "Tran.left_arc(config,config.buffer[0][2])\n",
    "Tran.right_arc(config,config.buffer[0][2])\n",
    "print(config)"
   ]
  },
  {
   "cell_type": "markdown",
   "metadata": {},
   "source": [
    "### Reference : Transition-Based\n",
    "- https://www.youtube.com/watch?v=xG0MXIPVUdk&list=PLyyEwPZh6aHpDieqWwr7hTgreKnYSY9Ox&index=60\n",
    "- https://www.youtube.com/watch?v=2jLk93iIyrw&list=PLr9TFf9GjancAHiiP5cqGmYsZad99Uf_h&index=39\n",
    "- https://www.youtube.com/watch?v=f5-hTA9hA3s&list=WL&index=8\n",
    "- https://www.youtube.com/watch?v=oLHnqGmQtI4"
   ]
  },
  {
   "cell_type": "markdown",
   "metadata": {},
   "source": [
    "## 3. Chu-Liu-Edmonds : Maximum Spaning Tree"
   ]
  },
  {
   "cell_type": "code",
   "execution_count": 88,
   "metadata": {},
   "outputs": [],
   "source": [
    "class Graph_Matrix: \n",
    "    adj = []\n",
    "    def __init__(self, v, e): \n",
    "        self.v = v\n",
    "        self.e = e\n",
    "        Graph_Matrix.adj = [[0 for i in range(self.v)] for j in range(self.v)]\n",
    "        \n",
    "    def addEdge(self, s, e): #Add to Matrix\n",
    "        Graph_Matrix.adj[s-1][e-1] = Graph_Matrix.adj[e-1][s-1] = 1\n"
   ]
  },
  {
   "cell_type": "code",
   "execution_count": 91,
   "metadata": {},
   "outputs": [
    {
     "data": {
      "text/plain": [
       "[[0, 1, 0, 0, 0, 0],\n",
       " [1, 0, 0, 0, 0, 1],\n",
       " [0, 0, 0, 1, 1, 0],\n",
       " [0, 0, 1, 0, 1, 1],\n",
       " [0, 0, 1, 1, 0, 0],\n",
       " [0, 1, 0, 1, 0, 0]]"
      ]
     },
     "execution_count": 91,
     "metadata": {},
     "output_type": "execute_result"
    }
   ],
   "source": [
    "size = len(list_text)\n",
    "Matrix = Graph_Matrix(size,size)\n",
    "Matrix.addEdge(1, 2)\n",
    "Matrix.addEdge(2, 6)\n",
    "Matrix.addEdge(3, 4)\n",
    "Matrix.addEdge(4, 6)\n",
    "Matrix.addEdge(5, 3)\n",
    "Matrix.addEdge(5, 4)\n",
    "Matrix.adj"
   ]
  },
  {
   "cell_type": "markdown",
   "metadata": {},
   "source": [
    "## 4. MST"
   ]
  },
  {
   "cell_type": "code",
   "execution_count": null,
   "metadata": {},
   "outputs": [],
   "source": []
  },
  {
   "cell_type": "markdown",
   "metadata": {},
   "source": [
    "## 4. Convert to Binary Tree"
   ]
  },
  {
   "cell_type": "code",
   "execution_count": 5,
   "metadata": {},
   "outputs": [],
   "source": [
    "class Node(object):\n",
    "    def __init__(self, key):\n",
    "        self.left  = None\n",
    "        self.right = None\n",
    "        self.key = key\n",
    "        \n",
    "    def insert(self, key):\n",
    "        if(self.key):\n",
    "            if(key < self.key):\n",
    "                if(self.left == None):\n",
    "                    self.left = Node(key)\n",
    "                else:\n",
    "                    self.left.insert(key)\n",
    "            \n",
    "            elif(key >= self.key):\n",
    "                if(self.right == None):\n",
    "                    self.right = Node(key)\n",
    "                else:\n",
    "                    self.right.insert(key)\n",
    "        else:\n",
    "            self.key = key\n",
    "    \n",
    "    def printT(self):        \n",
    "        if (self.left):\n",
    "            self.left.printT()\n",
    "        print(self.key)\n",
    "        if (self.right):\n",
    "            self.right.printT()\n",
    "    \n",
    "    def delete(self,value):\n",
    "        if value < self.key: #CaseD\n",
    "            if self.left:\n",
    "                self.left = self.left.delete(value)\n",
    "        elif value > self.key: #CaseC\n",
    "            if self.right:\n",
    "                self.right = self.right.delete(value)\n",
    "        else:\n",
    "            if self.left == None and self.right == None: #Case A and B\n",
    "                return None\n",
    "            elif self.left == None:\n",
    "                return self.right\n",
    "            elif self.right == None: \n",
    "                return self.left"
   ]
  },
  {
   "cell_type": "code",
   "execution_count": 13,
   "metadata": {},
   "outputs": [
    {
     "name": "stdout",
     "output_type": "stream",
     "text": [
      "1\n",
      "2\n",
      "3\n",
      "4\n",
      "5\n",
      "6\n"
     ]
    }
   ],
   "source": [
    "root = Node(len(list_text))\n",
    "for i in list_text:\n",
    "    root.insert(i[0])\n",
    "\n",
    "root.printT()"
   ]
  },
  {
   "cell_type": "code",
   "execution_count": null,
   "metadata": {},
   "outputs": [],
   "source": [
    "def "
   ]
  },
  {
   "cell_type": "markdown",
   "metadata": {},
   "source": []
  }
 ],
 "metadata": {
  "kernelspec": {
   "display_name": "Python 3.10.4 64-bit",
   "language": "python",
   "name": "python3"
  },
  "language_info": {
   "codemirror_mode": {
    "name": "ipython",
    "version": 3
   },
   "file_extension": ".py",
   "mimetype": "text/x-python",
   "name": "python",
   "nbconvert_exporter": "python",
   "pygments_lexer": "ipython3",
   "version": "3.10.4"
  },
  "orig_nbformat": 4,
  "vscode": {
   "interpreter": {
    "hash": "c81d839d3c4227cd770621df97fe8191838af02e7eef185a922d8250cb33d344"
   }
  }
 },
 "nbformat": 4,
 "nbformat_minor": 2
}
