{
 "cells": [
  {
   "cell_type": "markdown",
   "metadata": {},
   "source": [
    "# Process"
   ]
  },
  {
   "cell_type": "markdown",
   "metadata": {},
   "source": [
    "## 0. Dependency Parsing"
   ]
  },
  {
   "cell_type": "code",
   "execution_count": 11,
   "metadata": {},
   "outputs": [
    {
     "name": "stdout",
     "output_type": "stream",
     "text": [
      "0 I => nsubj => want\n",
      "1 want => ROOT => want\n",
      "2 to => aux => eat\n",
      "3 eat => xcomp => want\n",
      "4 a => det => apple\n",
      "5 apple => dobj => eat\n"
     ]
    }
   ],
   "source": [
    "import spacy\n",
    "nlp=spacy.load('en_core_web_sm/en_core_web_sm-3.4.1/')\n",
    "\n",
    "text='I want to eat a apple'\n",
    "\n",
    "list_text = []\n",
    "for index,token in enumerate(nlp(text)):\n",
    "    print(index, token.text,'=>',token.dep_,'=>',token.head.text)\n",
    "    list_text.append((index,token.text)) "
   ]
  },
  {
   "cell_type": "code",
   "execution_count": 12,
   "metadata": {},
   "outputs": [
    {
     "data": {
      "text/plain": [
       "[(0, 'I'), (1, 'want'), (2, 'to'), (3, 'eat'), (4, 'a'), (5, 'apple')]"
      ]
     },
     "execution_count": 12,
     "metadata": {},
     "output_type": "execute_result"
    }
   ],
   "source": [
    "list_text"
   ]
  },
  {
   "cell_type": "markdown",
   "metadata": {},
   "source": [
    "## 1. Stack : Enqueue and Dequeue "
   ]
  },
  {
   "cell_type": "code",
   "execution_count": 62,
   "metadata": {},
   "outputs": [],
   "source": [
    "from collections import deque\n",
    "class Stack(object):\n",
    "    def __init__(self):\n",
    "        self.container = deque()\n",
    "    def push(self,value):\n",
    "        self.container.append(value)\n",
    "    def pop(self):\n",
    "        if len(self.container) != 0:\n",
    "            return self.container.pop()  \n",
    "        else: raise IndexError(\"An empty deque\")\n",
    "    # def peek(self):\n",
    "    #     return  self.container[-1]\n",
    "    # def is_empty(self):\n",
    "    #     return len(self.container)==0\n",
    "    def size(self):\n",
    "        return len(self.container)"
   ]
  },
  {
   "cell_type": "code",
   "execution_count": 63,
   "metadata": {},
   "outputs": [
    {
     "name": "stdout",
     "output_type": "stream",
     "text": [
      "Initial queue\n",
      "deque(['I', 'want', 'to', 'eat', 'a', 'apple'])\n",
      "\n",
      "Queue after removing elements\n",
      "deque([])\n"
     ]
    }
   ],
   "source": [
    "s = Stack()\n",
    "#push items\n",
    "for i in range(len(list_text)):\n",
    "    s.push(list_text[i][1])\n",
    "    \n",
    "print(\"Initial queue\")\n",
    "print(s.container)\n",
    "\n",
    "#pop items\n",
    "for i in range(len(list_text)):\n",
    "    s.pop()\n",
    "    \n",
    "print(\"\\nQueue after removing elements\")\n",
    "print(s.container)"
   ]
  },
  {
   "cell_type": "markdown",
   "metadata": {},
   "source": [
    "## 2. Transition-based : Stack and Buffer"
   ]
  },
  {
   "cell_type": "code",
   "execution_count": 74,
   "metadata": {},
   "outputs": [],
   "source": [
    "class Configuration(object):\n",
    "    def __init__(self,depency_list):\n",
    "        self.stack = [0]\n",
    "        self.buffer = list(range(1,len(depency_list)))\n",
    "        self.arcs = []\n",
    "    def __str__(self):\n",
    "        return f'Stack : {self.stack} Buffer : {self.buffer} Arcs : {self.arcs}'\n",
    "\n",
    "class Transition(object):\n",
    "    # Define set of transitions\n",
    "    LEFT_ARC = \"LEFTARC\"\n",
    "    RIGHT_ARC = \"RIGHTARC\"\n",
    "    SHIFT = \"SHIFT\"\n",
    "    REDUCE = \"REDUCE\"\n",
    "    def __init__(self):\n",
    "        pass\n",
    "    def left_arc(self,config):\n",
    "        pass\n",
    "    def right_arc(self,config):\n",
    "        pass\n",
    "    def shift(self,config):\n",
    "        if len(config.buffer) <= 0:\n",
    "            return -1\n",
    "    def reduce(self,config):\n",
    "        self.state.pop()\n",
    "    "
   ]
  },
  {
   "cell_type": "code",
   "execution_count": 76,
   "metadata": {},
   "outputs": [
    {
     "name": "stdout",
     "output_type": "stream",
     "text": [
      "Stack : [0] Buffer : [1, 2, 3, 4, 5] Arcs : []\n"
     ]
    }
   ],
   "source": [
    "config = Configuration(list_text)\n",
    "print(config)"
   ]
  },
  {
   "cell_type": "markdown",
   "metadata": {},
   "source": [
    "### Reference : Transition-Based\n",
    "- https://www.youtube.com/watch?v=xG0MXIPVUdk&list=PLyyEwPZh6aHpDieqWwr7hTgreKnYSY9Ox&index=60\n",
    "- https://www.youtube.com/watch?v=2jLk93iIyrw&list=PLr9TFf9GjancAHiiP5cqGmYsZad99Uf_h&index=39\n",
    "- https://www.youtube.com/watch?v=f5-hTA9hA3s&list=WL&index=8\n",
    "- https://www.youtube.com/watch?v=oLHnqGmQtI4"
   ]
  },
  {
   "cell_type": "markdown",
   "metadata": {},
   "source": [
    "## 3. Chu-Liu-Edmonds : Maximum Spaning Tree"
   ]
  },
  {
   "cell_type": "code",
   "execution_count": null,
   "metadata": {},
   "outputs": [],
   "source": []
  },
  {
   "cell_type": "markdown",
   "metadata": {},
   "source": [
    "## 4. Convert to Binary Tree"
   ]
  },
  {
   "cell_type": "code",
   "execution_count": 5,
   "metadata": {},
   "outputs": [],
   "source": [
    "class Node(object):\n",
    "    def __init__(self, key):\n",
    "        self.left  = None\n",
    "        self.right = None\n",
    "        self.key = key\n",
    "        \n",
    "    def insert(self, key):\n",
    "        if(self.key):\n",
    "            if(key < self.key):\n",
    "                if(self.left == None):\n",
    "                    self.left = Node(key)\n",
    "                else:\n",
    "                    self.left.insert(key)\n",
    "            \n",
    "            elif(key >= self.key):\n",
    "                if(self.right == None):\n",
    "                    self.right = Node(key)\n",
    "                else:\n",
    "                    self.right.insert(key)\n",
    "        else:\n",
    "            self.key = key\n",
    "    \n",
    "    def printT(self):        \n",
    "        if (self.left):\n",
    "            self.left.printT()\n",
    "        print(self.key)\n",
    "        if (self.right):\n",
    "            self.right.printT()\n",
    "    \n",
    "    def delete(self,value):\n",
    "        if value < self.key: #CaseD\n",
    "            if self.left:\n",
    "                self.left = self.left.delete(value)\n",
    "        elif value > self.key: #CaseC\n",
    "            if self.right:\n",
    "                self.right = self.right.delete(value)\n",
    "        else:\n",
    "            if self.left == None and self.right == None: #Case A and B\n",
    "                return None\n",
    "            elif self.left == None:\n",
    "                return self.right\n",
    "            elif self.right == None: \n",
    "                return self.left"
   ]
  },
  {
   "cell_type": "code",
   "execution_count": 13,
   "metadata": {},
   "outputs": [
    {
     "name": "stdout",
     "output_type": "stream",
     "text": [
      "1\n",
      "2\n",
      "3\n",
      "4\n",
      "5\n",
      "6\n"
     ]
    }
   ],
   "source": [
    "root = Node(len(list_text))\n",
    "for i in list_text:\n",
    "    root.insert(i[0])\n",
    "\n",
    "root.printT()"
   ]
  },
  {
   "cell_type": "code",
   "execution_count": null,
   "metadata": {},
   "outputs": [],
   "source": [
    "def "
   ]
  },
  {
   "cell_type": "markdown",
   "metadata": {},
   "source": []
  }
 ],
 "metadata": {
  "kernelspec": {
   "display_name": "Python 3.10.4 64-bit",
   "language": "python",
   "name": "python3"
  },
  "language_info": {
   "codemirror_mode": {
    "name": "ipython",
    "version": 3
   },
   "file_extension": ".py",
   "mimetype": "text/x-python",
   "name": "python",
   "nbconvert_exporter": "python",
   "pygments_lexer": "ipython3",
   "version": "3.10.4"
  },
  "orig_nbformat": 4,
  "vscode": {
   "interpreter": {
    "hash": "c81d839d3c4227cd770621df97fe8191838af02e7eef185a922d8250cb33d344"
   }
  }
 },
 "nbformat": 4,
 "nbformat_minor": 2
}
