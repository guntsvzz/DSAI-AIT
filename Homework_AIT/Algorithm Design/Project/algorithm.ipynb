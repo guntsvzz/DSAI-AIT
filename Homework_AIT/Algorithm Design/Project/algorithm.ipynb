{
 "cells": [
  {
   "cell_type": "markdown",
   "metadata": {},
   "source": [
    "# Process"
   ]
  },
  {
   "cell_type": "markdown",
   "metadata": {},
   "source": [
    "# Dependency Parsing"
   ]
  },
  {
   "cell_type": "code",
   "execution_count": 3,
   "metadata": {},
   "outputs": [
    {
     "name": "stdout",
     "output_type": "stream",
     "text": [
      "1 Book => ROOT => Book\n",
      "2 me => dobj => Book\n",
      "3 the => det => flight\n",
      "4 morning => compound => flight\n",
      "5 flight => appos => Book\n"
     ]
    }
   ],
   "source": [
    "import spacy\n",
    "\n",
    "nlp=spacy.load('en_core_web_sm/en_core_web_sm-3.4.1/')\n",
    "\n",
    "text='Book me the morning flight' #arc-standard\n",
    "# text= 'book the flight through houston' #arc-eager\n",
    "# text = 'I am hungry' #arc-standard\n",
    "word_list = list()\n",
    "# dep_list = list()\n",
    "for index,token in enumerate(nlp(text)):\n",
    "    print(index+1, token.text,'=>',token.dep_,'=>',token.head.text)\n",
    "    # text = np.array([index+1,token.text,token.dep_])\n",
    "    # np.append(list_text,text)\n",
    "    word_list.append((index+1,token.text,token.head.text)) #token.dep_ \n",
    "    # dep_list.append((token.text,token.dep_,token.head.text))"
   ]
  },
  {
   "cell_type": "code",
   "execution_count": 4,
   "metadata": {},
   "outputs": [
    {
     "data": {
      "text/html": [
       "<span class=\"tex2jax_ignore\"><svg xmlns=\"http://www.w3.org/2000/svg\" xmlns:xlink=\"http://www.w3.org/1999/xlink\" xml:lang=\"en\" id=\"f96d9a3e11d7480b87b390b80b11af25-0\" class=\"displacy\" width=\"925\" height=\"399.5\" direction=\"ltr\" style=\"max-width: none; height: 399.5px; color: #000000; background: #ffffff; font-family: Arial; direction: ltr\">\n",
       "<text class=\"displacy-token\" fill=\"currentColor\" text-anchor=\"middle\" y=\"309.5\">\n",
       "    <tspan class=\"displacy-word\" fill=\"currentColor\" x=\"50\">Book</tspan>\n",
       "    <tspan class=\"displacy-tag\" dy=\"2em\" fill=\"currentColor\" x=\"50\">PROPN</tspan>\n",
       "</text>\n",
       "\n",
       "<text class=\"displacy-token\" fill=\"currentColor\" text-anchor=\"middle\" y=\"309.5\">\n",
       "    <tspan class=\"displacy-word\" fill=\"currentColor\" x=\"225\">me</tspan>\n",
       "    <tspan class=\"displacy-tag\" dy=\"2em\" fill=\"currentColor\" x=\"225\">PRON</tspan>\n",
       "</text>\n",
       "\n",
       "<text class=\"displacy-token\" fill=\"currentColor\" text-anchor=\"middle\" y=\"309.5\">\n",
       "    <tspan class=\"displacy-word\" fill=\"currentColor\" x=\"400\">the</tspan>\n",
       "    <tspan class=\"displacy-tag\" dy=\"2em\" fill=\"currentColor\" x=\"400\">DET</tspan>\n",
       "</text>\n",
       "\n",
       "<text class=\"displacy-token\" fill=\"currentColor\" text-anchor=\"middle\" y=\"309.5\">\n",
       "    <tspan class=\"displacy-word\" fill=\"currentColor\" x=\"575\">morning</tspan>\n",
       "    <tspan class=\"displacy-tag\" dy=\"2em\" fill=\"currentColor\" x=\"575\">NOUN</tspan>\n",
       "</text>\n",
       "\n",
       "<text class=\"displacy-token\" fill=\"currentColor\" text-anchor=\"middle\" y=\"309.5\">\n",
       "    <tspan class=\"displacy-word\" fill=\"currentColor\" x=\"750\">flight</tspan>\n",
       "    <tspan class=\"displacy-tag\" dy=\"2em\" fill=\"currentColor\" x=\"750\">NOUN</tspan>\n",
       "</text>\n",
       "\n",
       "<g class=\"displacy-arrow\">\n",
       "    <path class=\"displacy-arc\" id=\"arrow-f96d9a3e11d7480b87b390b80b11af25-0-0\" stroke-width=\"2px\" d=\"M70,264.5 C70,177.0 215.0,177.0 215.0,264.5\" fill=\"none\" stroke=\"currentColor\"/>\n",
       "    <text dy=\"1.25em\" style=\"font-size: 0.8em; letter-spacing: 1px\">\n",
       "        <textPath xlink:href=\"#arrow-f96d9a3e11d7480b87b390b80b11af25-0-0\" class=\"displacy-label\" startOffset=\"50%\" side=\"left\" fill=\"currentColor\" text-anchor=\"middle\">dobj</textPath>\n",
       "    </text>\n",
       "    <path class=\"displacy-arrowhead\" d=\"M215.0,266.5 L223.0,254.5 207.0,254.5\" fill=\"currentColor\"/>\n",
       "</g>\n",
       "\n",
       "<g class=\"displacy-arrow\">\n",
       "    <path class=\"displacy-arc\" id=\"arrow-f96d9a3e11d7480b87b390b80b11af25-0-1\" stroke-width=\"2px\" d=\"M420,264.5 C420,89.5 745.0,89.5 745.0,264.5\" fill=\"none\" stroke=\"currentColor\"/>\n",
       "    <text dy=\"1.25em\" style=\"font-size: 0.8em; letter-spacing: 1px\">\n",
       "        <textPath xlink:href=\"#arrow-f96d9a3e11d7480b87b390b80b11af25-0-1\" class=\"displacy-label\" startOffset=\"50%\" side=\"left\" fill=\"currentColor\" text-anchor=\"middle\">det</textPath>\n",
       "    </text>\n",
       "    <path class=\"displacy-arrowhead\" d=\"M420,266.5 L412,254.5 428,254.5\" fill=\"currentColor\"/>\n",
       "</g>\n",
       "\n",
       "<g class=\"displacy-arrow\">\n",
       "    <path class=\"displacy-arc\" id=\"arrow-f96d9a3e11d7480b87b390b80b11af25-0-2\" stroke-width=\"2px\" d=\"M595,264.5 C595,177.0 740.0,177.0 740.0,264.5\" fill=\"none\" stroke=\"currentColor\"/>\n",
       "    <text dy=\"1.25em\" style=\"font-size: 0.8em; letter-spacing: 1px\">\n",
       "        <textPath xlink:href=\"#arrow-f96d9a3e11d7480b87b390b80b11af25-0-2\" class=\"displacy-label\" startOffset=\"50%\" side=\"left\" fill=\"currentColor\" text-anchor=\"middle\">compound</textPath>\n",
       "    </text>\n",
       "    <path class=\"displacy-arrowhead\" d=\"M595,266.5 L587,254.5 603,254.5\" fill=\"currentColor\"/>\n",
       "</g>\n",
       "\n",
       "<g class=\"displacy-arrow\">\n",
       "    <path class=\"displacy-arc\" id=\"arrow-f96d9a3e11d7480b87b390b80b11af25-0-3\" stroke-width=\"2px\" d=\"M70,264.5 C70,2.0 750.0,2.0 750.0,264.5\" fill=\"none\" stroke=\"currentColor\"/>\n",
       "    <text dy=\"1.25em\" style=\"font-size: 0.8em; letter-spacing: 1px\">\n",
       "        <textPath xlink:href=\"#arrow-f96d9a3e11d7480b87b390b80b11af25-0-3\" class=\"displacy-label\" startOffset=\"50%\" side=\"left\" fill=\"currentColor\" text-anchor=\"middle\">appos</textPath>\n",
       "    </text>\n",
       "    <path class=\"displacy-arrowhead\" d=\"M750.0,266.5 L758.0,254.5 742.0,254.5\" fill=\"currentColor\"/>\n",
       "</g>\n",
       "</svg></span>"
      ],
      "text/plain": [
       "<IPython.core.display.HTML object>"
      ]
     },
     "metadata": {},
     "output_type": "display_data"
    }
   ],
   "source": [
    "from spacy import displacy\n",
    "displacy.render(nlp(text),jupyter=True)"
   ]
  },
  {
   "cell_type": "code",
   "execution_count": 5,
   "metadata": {},
   "outputs": [
    {
     "data": {
      "text/plain": [
       "[(1, 'Book', 'Book'),\n",
       " (2, 'me', 'Book'),\n",
       " (3, 'the', 'flight'),\n",
       " (4, 'morning', 'flight'),\n",
       " (5, 'flight', 'Book')]"
      ]
     },
     "execution_count": 5,
     "metadata": {},
     "output_type": "execute_result"
    }
   ],
   "source": [
    "word_list #Buffer list"
   ]
  },
  {
   "cell_type": "markdown",
   "metadata": {},
   "source": [
    "# 1. Transition-Based Dependency Parsing"
   ]
  },
  {
   "cell_type": "markdown",
   "metadata": {},
   "source": [
    "## 1.1.1 Stack : Enqueue and Dequeue (Non-related Dependency Parsing)"
   ]
  },
  {
   "cell_type": "code",
   "execution_count": 48,
   "metadata": {},
   "outputs": [],
   "source": [
    "from collections import deque\n",
    "class Stack(object):\n",
    "    def __init__(self):\n",
    "        self.container = deque()\n",
    "    def push(self,value):\n",
    "        self.container.append(value)\n",
    "    def pop(self):\n",
    "        if len(self.container) != 0:\n",
    "            return self.container.pop()  \n",
    "        else: raise IndexError(\"An empty deque\")\n",
    "    def size(self):\n",
    "        return len(self.container)"
   ]
  },
  {
   "cell_type": "code",
   "execution_count": 49,
   "metadata": {},
   "outputs": [
    {
     "name": "stdout",
     "output_type": "stream",
     "text": [
      "Initial queue\n",
      "deque(['Book', 'me', 'the', 'morning', 'flight'])\n",
      "\n",
      "Queue after removing elements\n",
      "deque([])\n"
     ]
    }
   ],
   "source": [
    "s = Stack()\n",
    "#push items\n",
    "for i in range(len(word_list)):\n",
    "    s.push(word_list[i][1])\n",
    "    \n",
    "print(\"Initial queue\")\n",
    "print(s.container)\n",
    "\n",
    "#pop items\n",
    "for i in range(len(word_list)):\n",
    "    s.pop()\n",
    "    \n",
    "print(\"\\nQueue after removing elements\")\n",
    "print(s.container)\n",
    "\n",
    "#Finish Stack is easy!!!"
   ]
  },
  {
   "cell_type": "markdown",
   "metadata": {},
   "source": [
    "## 1.1.2. Stack and Buffer\n",
    "\n",
    "- LEFTARC: Assert a head-dependent relation between the word at the top of the stack and the word directly beneath it; \n",
    "remove the lower word from the stack. \n",
    "- RIGHTARC: Assert a head-dependent relation between the second word on the stack and the word at the top; \n",
    "remove the word at the top of the stack; \n",
    "- SHIFT: Remove the word from the front of the input buffer and push it onto the stack.\n",
    "\n",
    "Start with root on stack, buffer with whole sentence\n",
    "- If there’s nothing on the stack, you must shift\n",
    "- If the top of the stack is the child of the top of the buffer, then make a left\n",
    "edge\n",
    "- If the top of the buffer is is a child of the top of the stack and the top of\n",
    "the buffer has no children that have yet to be added to the tree, then\n",
    "make a right\n",
    "\n"
   ]
  },
  {
   "cell_type": "code",
   "execution_count": 9,
   "metadata": {},
   "outputs": [],
   "source": [
    "class Configuration(object):\n",
    "    def __init__(self,dependency_list):\n",
    "        self.stack = [(0,'root','ROOT')]\n",
    "        self.buffer = dependency_list\n",
    "        self.arcs = list()\n",
    "    def __str__(self):\n",
    "        return f'Stack : {self.stack} \\nBuffer : {self.buffer} \\nArcs : {self.arcs}'\n",
    "\n",
    "class Transition(object):\n",
    "    def __init__(self,approach):\n",
    "        self.approach = approach #'arc-standard' 'arc-eager'\n",
    "    #Arc-standard parsing cannot produce non-projective trees\n",
    "    def left_arc(self,config,relation):\n",
    "        if self.approach == 'arc-standard':\n",
    "            #pop top of stack -> append arc relation\n",
    "            index_i = config.stack.pop()\n",
    "            index_j = config.stack.pop()\n",
    "            config.stack.append(index_i)\n",
    "            config.arcs.append((index_i, relation, index_j)) \n",
    "        elif self.approach == 'arc-eager':\n",
    "            pass\n",
    "\n",
    "    def right_arc(self,config,relation):\n",
    "        if self.approach == 'arc-standard':\n",
    "            #pop top of stack -> append arc relation\n",
    "            index_i = config.stack.pop()\n",
    "            index_j = config.stack.pop()\n",
    "            config.stack.append(index_j)\n",
    "            config.arcs.append((index_j, relation, index_i)) \n",
    "        elif self.approach == 'arc-eager':\n",
    "            pass\n",
    "\n",
    "    def shift(self,config): #move buffer to stack\n",
    "        if len(config.buffer) <= 0:\n",
    "            return -1\n",
    "        index_i = config.buffer.pop(0)\n",
    "        config.stack.append(index_i)\n",
    "\n",
    "    def reduce(sefl,config):\n",
    "        pass\n",
    "\n",
    "class Parser(object):\n",
    "    def __init__(self,approach):\n",
    "        self.approach = approach\n",
    "\n",
    "    def oracle(self,config):\n",
    "        operation = Transition(self.approach)\n",
    "        i = 0\n",
    "        while not(len(config.buffer) == 0 and len(config.stack) == 1): #stop when buffer is empty and stack contain only root\n",
    "            if (len(config.buffer) == 0 and len(config.stack) == 2):\n",
    "                print('Right-Arc',end='->')\n",
    "                operation.right_arc(config,'->')\n",
    "                \n",
    "            if len(config.stack) == 1:\n",
    "                print(\"Shift_along\",end='->')\n",
    "                operation.shift(config)\n",
    "            else:\n",
    "                if config.stack[-1][1] == config.stack[-2][2]: \n",
    "                    print('Left-Arc',end='->')\n",
    "                    operation.left_arc(config,'->')\n",
    "                elif (config.stack[-1][2] == config.stack[-2][1]) : #next_head = prev_text\n",
    "                    print('Right-Arc',end='->')\n",
    "                    operation.right_arc(config,'->')\n",
    "                else:\n",
    "                    print(\"Shift\",end='->')\n",
    "                    operation.shift(config)\n",
    "            i+=1\n",
    "            if i == 20:\n",
    "                break\n",
    "        # print('\\n',config)\n",
    "        print('\\n') \n",
    "        return config"
   ]
  },
  {
   "cell_type": "code",
   "execution_count": 13,
   "metadata": {},
   "outputs": [
    {
     "name": "stdout",
     "output_type": "stream",
     "text": [
      "Stack : [(0, 'root', 'ROOT')] \n",
      "Buffer : [(1, 'Book', 'Book'), (2, 'me', 'Book'), (3, 'the', 'flight'), (4, 'morning', 'flight'), (5, 'flight', 'Book')] \n",
      "Arcs : []\n"
     ]
    }
   ],
   "source": [
    "buffer_list = word_list.copy()\n",
    "config = Configuration(buffer_list)\n",
    "print(config)"
   ]
  },
  {
   "cell_type": "code",
   "execution_count": 14,
   "metadata": {},
   "outputs": [
    {
     "name": "stdout",
     "output_type": "stream",
     "text": [
      "Shift_along->Shift->Right-Arc->Shift->Shift->Shift->Left-Arc->Left-Arc->Right-Arc->Right-Arc->Shift_along->\n",
      "\n",
      "Stack : [(0, 'root', 'ROOT')] \n",
      "Buffer : [] \n",
      "Arcs : [((1, 'Book', 'Book'), '->', (2, 'me', 'Book')), ((5, 'flight', 'Book'), '->', (4, 'morning', 'flight')), ((5, 'flight', 'Book'), '->', (3, 'the', 'flight')), ((1, 'Book', 'Book'), '->', (5, 'flight', 'Book')), ((0, 'root', 'ROOT'), '->', (1, 'Book', 'Book'))]\n"
     ]
    }
   ],
   "source": [
    "#Dynamic Way\n",
    "parsing = Parser('arc-standard')\n",
    "new_config = parsing.oracle(config)\n",
    "print(new_config)"
   ]
  },
  {
   "cell_type": "markdown",
   "metadata": {},
   "source": [
    "### Manually"
   ]
  },
  {
   "cell_type": "code",
   "execution_count": 12,
   "metadata": {},
   "outputs": [
    {
     "name": "stdout",
     "output_type": "stream",
     "text": [
      "1 Book => ROOT => Book\n",
      "2 me => dobj => Book\n",
      "3 the => det => flight\n",
      "4 morning => compound => flight\n",
      "5 flight => appos => Book\n",
      "\n",
      "Step 10 : Done!\n",
      " Stack : [(0, 'root', 'ROOT')] \n",
      "Buffer : [] \n",
      "Arcs : [((1, 'Book', 'Book'), '->', (2, 'me', 'Book')), ((5, 'flight', 'Book'), '->', (4, 'morning', 'flight')), ((5, 'flight', 'Book'), '->', (3, 'the', 'flight')), ((1, 'Book', 'Book'), '->', (5, 'flight', 'Book')), ((0, 'root', 'ROOT'), '->', (1, 'Book', 'Book'))]\n"
     ]
    }
   ],
   "source": [
    "# Text for\n",
    "text='Book me the morning flight'\n",
    "\n",
    "word_list = list()\n",
    "# dep_list = list()\n",
    "for index,token in enumerate(nlp(text)):\n",
    "    print(index+1, token.text,'=>',token.dep_,'=>',token.head.text)\n",
    "    # text = np.array([index+1,token.text,token.dep_])\n",
    "    # np.append(list_text,text)\n",
    "    word_list.append((index+1,token.text,token.head.text))\n",
    "\n",
    "buffer_list = word_list.copy()\n",
    "config = Configuration(buffer_list)\n",
    "# print(config)\n",
    "\n",
    "Tran = Transition('arc-standard')\n",
    "Tran.shift(config) \n",
    "# print('Step 1 :\\n',config)\n",
    "Tran.shift(config) \n",
    "# print('\\nStep 2 :\\n',config)\n",
    "Tran.right_arc(config,'->') \n",
    "# print('\\nStep 3 :\\n',config)\n",
    "Tran.shift(config) \n",
    "# print('\\nStep 4 :\\n',config)\n",
    "Tran.shift(config) \n",
    "# print('\\nStep 5 :\\n',config)\n",
    "Tran.shift(config) \n",
    "# print('\\nStep 6 :\\n',config)\n",
    "Tran.left_arc(config,'->')\n",
    "# print('\\nStep 7 :\\n',config)\n",
    "Tran.left_arc(config,'->')\n",
    "# print('\\nStep 8 :\\n',config)\n",
    "Tran.right_arc(config,'->')\n",
    "# print('\\nStep 9 :\\n',config)\n",
    "Tran.right_arc(config,'->')\n",
    "print('\\nStep 10 : Done!\\n',config)\n",
    "#how to change it to dynamic -> Machine Learning YEAH!!!!!! NO"
   ]
  },
  {
   "cell_type": "markdown",
   "metadata": {},
   "source": [
    "## 1.2. Dependency Tree\n",
    "- The dependency structure is a tree (directed acyclic graph) with the main verb as its root (head)."
   ]
  },
  {
   "cell_type": "code",
   "execution_count": 24,
   "metadata": {},
   "outputs": [
    {
     "data": {
      "text/plain": [
       "[((1, 'Book', 'Book'), '->', (2, 'me', 'Book')),\n",
       " ((5, 'flight', 'Book'), '->', (4, 'morning', 'flight')),\n",
       " ((5, 'flight', 'Book'), '->', (3, 'the', 'flight')),\n",
       " ((1, 'Book', 'Book'), '->', (5, 'flight', 'Book')),\n",
       " ((0, 'root', 'ROOT'), '->', (1, 'Book', 'Book'))]"
      ]
     },
     "execution_count": 24,
     "metadata": {},
     "output_type": "execute_result"
    }
   ],
   "source": [
    "new_config.arcs"
   ]
  },
  {
   "cell_type": "code",
   "execution_count": 45,
   "metadata": {},
   "outputs": [
    {
     "data": {
      "text/plain": [
       "defaultdict(list, {'1': ['2', '5'], '5': ['4', '3'], '0': ['1']})"
      ]
     },
     "execution_count": 45,
     "metadata": {},
     "output_type": "execute_result"
    }
   ],
   "source": [
    "#store to list\n",
    "from collections import defaultdict\n",
    "graph = defaultdict(list)\n",
    "for i in new_config.arcs:\n",
    "    graph[f\"{i[0][0]}\"].append(f\"{i[2][0]}\")\n",
    "graph"
   ]
  },
  {
   "cell_type": "markdown",
   "metadata": {},
   "source": [
    "### 1.2.1 Breadth-first Search"
   ]
  },
  {
   "cell_type": "code",
   "execution_count": 50,
   "metadata": {},
   "outputs": [
    {
     "name": "stdout",
     "output_type": "stream",
     "text": [
      "0 --> 1 --> 5 --> 3 --> 2 --> 4 --> "
     ]
    }
   ],
   "source": [
    "def BFS(graph,s):\n",
    "    visited = set() #unique number\n",
    "    queue = set()   #list in python is basiaclly queue\n",
    "    visited.add(s)  #means make it black\n",
    "    queue.add(s)\n",
    "\n",
    "    while queue:        #as long as the queue is not empty....\n",
    "        u = queue.pop() #pop the front guy.... basiaclly index 0\n",
    "        \n",
    "        print(u, \"-->\", end = \" \") \n",
    "        for neighbor in graph[u]:       #for everyone who connects to u,\n",
    "            if neighbor not in visited:\n",
    "                visited.add(neighbor)    #add them to visited\n",
    "                queue.add(neighbor)      #add them to the queue\n",
    "\n",
    "BFS(graph,'0')"
   ]
  },
  {
   "cell_type": "markdown",
   "metadata": {},
   "source": [
    "### 1.2.2 Depth-first Search"
   ]
  },
  {
   "cell_type": "code",
   "execution_count": 51,
   "metadata": {},
   "outputs": [
    {
     "name": "stdout",
     "output_type": "stream",
     "text": [
      "0 --> 1 --> 2 --> 5 --> 4 --> 3 --> "
     ]
    }
   ],
   "source": [
    "visited = set()\n",
    "\n",
    "def DFS(graph,s):\n",
    "    if s not in visited:\n",
    "        print(s,'-->',end=\" \")\n",
    "        visited.add(s)\n",
    "        for neighbor in graph[s]:\n",
    "            DFS(graph,neighbor)\n",
    "\n",
    "DFS(graph,'0')"
   ]
  },
  {
   "cell_type": "markdown",
   "metadata": {},
   "source": [
    "### 1.2.3 Beam Search "
   ]
  },
  {
   "cell_type": "code",
   "execution_count": null,
   "metadata": {},
   "outputs": [],
   "source": [
    "def BeamSearch():\n",
    "    pass"
   ]
  },
  {
   "cell_type": "markdown",
   "metadata": {},
   "source": [
    "### Reference : Transition-Based\n",
    "- https://www.youtube.com/watch?v=xG0MXIPVUdk&list=PLyyEwPZh6aHpDieqWwr7hTgreKnYSY9Ox&index=60\n",
    "- https://www.youtube.com/watch?v=2jLk93iIyrw&list=PLr9TFf9GjancAHiiP5cqGmYsZad99Uf_h&index=39\n",
    "- https://www.youtube.com/watch?v=f5-hTA9hA3s&list=WL&index=8\n",
    "- https://www.youtube.com/watch?v=oLHnqGmQtI4\n",
    "- http://www.cs.umd.edu/class/fall2017/cmsc723/slides/slides_13.pdf\n",
    "- Chapter 15 Dependency Parsing, Speech and Language Processing. Daniel Jurafsky & James H. Martin. Copyright c 2019. All rights reserved. Draft of October 2, 2019.\n",
    "- Covington, M. (2001). A fundamental algorithm for dependency parsing. In Proceedings of the 39th Annual ACM Southeast Conference, 95–102.\n",
    "- Nivre, J. (2003). An efficient algorithm for projective dependency parsing. In Proceedings of the 8th International Workshop on Parsing Technologies (IWPT)."
   ]
  },
  {
   "cell_type": "markdown",
   "metadata": {},
   "source": [
    "# 2. Graph-Based Dependency Parsing"
   ]
  },
  {
   "cell_type": "markdown",
   "metadata": {},
   "source": [
    "## 2.1. Binary Tree (Non-related Dependency Parsing)"
   ]
  },
  {
   "cell_type": "code",
   "execution_count": 22,
   "metadata": {},
   "outputs": [],
   "source": [
    "class Node(object):\n",
    "    def __init__(self, key):\n",
    "        self.left  = None\n",
    "        self.right = None\n",
    "        self.key = key\n",
    "        \n",
    "    def insert(self, key):\n",
    "        if(self.key):\n",
    "            if(key < self.key):\n",
    "                if(self.left == None):\n",
    "                    self.left = Node(key)\n",
    "                else:\n",
    "                    self.left.insert(key)\n",
    "            \n",
    "            elif(key >= self.key):\n",
    "                if(self.right == None):\n",
    "                    self.right = Node(key)\n",
    "                else:\n",
    "                    self.right.insert(key)\n",
    "        else:\n",
    "            self.key = key\n",
    "    \n",
    "    def printT(self):        \n",
    "        if (self.left):\n",
    "            self.left.printT()\n",
    "        print(self.key)\n",
    "        if (self.right):\n",
    "            self.right.printT()\n",
    "    \n",
    "    def delete(self,value):\n",
    "        if value < self.key: #CaseD\n",
    "            if self.left:\n",
    "                self.left = self.left.delete(value)\n",
    "        elif value > self.key: #CaseC\n",
    "            if self.right:\n",
    "                self.right = self.right.delete(value)\n",
    "        else:\n",
    "            if self.left == None and self.right == None: #Case A and B\n",
    "                return None\n",
    "            elif self.left == None:\n",
    "                return self.right\n",
    "            elif self.right == None: \n",
    "                return self.left"
   ]
  },
  {
   "cell_type": "code",
   "execution_count": 24,
   "metadata": {},
   "outputs": [
    {
     "data": {
      "text/plain": [
       "[(1, 'I', 'am'), (2, 'am', 'am'), (3, 'hungry', 'am')]"
      ]
     },
     "execution_count": 24,
     "metadata": {},
     "output_type": "execute_result"
    }
   ],
   "source": [
    "word_list"
   ]
  },
  {
   "cell_type": "code",
   "execution_count": 23,
   "metadata": {},
   "outputs": [
    {
     "name": "stdout",
     "output_type": "stream",
     "text": [
      "1\n",
      "2\n",
      "3\n",
      "3\n"
     ]
    }
   ],
   "source": [
    "root = Node(len(word_list))\n",
    "for i in word_list:\n",
    "    root.insert(i[0])\n",
    "\n",
    "root.printT()"
   ]
  },
  {
   "cell_type": "markdown",
   "metadata": {},
   "source": [
    "## 2.2 Maximum Spanning Tree (Chu-Liu-Edmonds)"
   ]
  },
  {
   "cell_type": "code",
   "execution_count": 532,
   "metadata": {},
   "outputs": [],
   "source": [
    "class Edmonds: \n",
    "    adj = []\n",
    "    def __init__(self, V, E): \n",
    "        self.V = V\n",
    "        self.E = E\n",
    "        Edmonds.adj = [[0 for i in range(self.V)] for j in range(self.V)]\n",
    "    \n",
    "    def BestInEdge():\n",
    "        pass\n",
    "\n",
    "    def MaximumSpanningTree(self,V,E,root,score):\n",
    "        F = []\n",
    "        T = []\n",
    "        score = []\n",
    "        for v in range(self.V):\n",
    "            best = self.BestInEdge()\n",
    "            F = F and best\n",
    "            for e in range(self.E):\n",
    "                score[e] -= score[best]\n",
    "\n",
    "            if T:\n",
    "                return T\n",
    "            else:\n",
    "                C =\n",
    "\n",
    "\n",
    "    def addEdge(self, s, e): #Add to Matrix\n",
    "        Edmonds.adj[s-1][e-1] = Edmonds.adj[e-1][s-1] = 1\n"
   ]
  },
  {
   "cell_type": "code",
   "execution_count": 533,
   "metadata": {},
   "outputs": [
    {
     "data": {
      "text/plain": [
       "[[0, 0, 0, 0, 0],\n",
       " [0, 0, 0, 0, 0],\n",
       " [0, 0, 0, 0, 0],\n",
       " [0, 0, 0, 0, 0],\n",
       " [0, 0, 0, 0, 0]]"
      ]
     },
     "execution_count": 533,
     "metadata": {},
     "output_type": "execute_result"
    }
   ],
   "source": [
    "size = len(word_list)\n",
    "Matrix = Edmonds(size,size)\n",
    "# Matrix.addEdge(1, 2)\n",
    "# Matrix.addEdge(2, 6)\n",
    "# Matrix.addEdge(3, 4)\n",
    "# Matrix.addEdge(4, 6)\n",
    "# Matrix.addEdge(5, 3)\n",
    "# Matrix.addEdge(5, 4)\n",
    "Matrix.adj"
   ]
  },
  {
   "cell_type": "markdown",
   "metadata": {},
   "source": [
    "### Reference \n",
    "- https://courses.cs.washington.edu/courses/cse490u/17wi/slides/CLE.pdf\n",
    "- https://www.youtube.com/watch?v=dOCRzahEL84"
   ]
  },
  {
   "cell_type": "markdown",
   "metadata": {},
   "source": []
  },
  {
   "cell_type": "markdown",
   "metadata": {},
   "source": [
    "# Future Work\n",
    "- Projective vs Non-Projective"
   ]
  }
 ],
 "metadata": {
  "kernelspec": {
   "display_name": "Python 3.10.4 64-bit",
   "language": "python",
   "name": "python3"
  },
  "language_info": {
   "codemirror_mode": {
    "name": "ipython",
    "version": 3
   },
   "file_extension": ".py",
   "mimetype": "text/x-python",
   "name": "python",
   "nbconvert_exporter": "python",
   "pygments_lexer": "ipython3",
   "version": "3.10.4"
  },
  "orig_nbformat": 4,
  "vscode": {
   "interpreter": {
    "hash": "c81d839d3c4227cd770621df97fe8191838af02e7eef185a922d8250cb33d344"
   }
  }
 },
 "nbformat": 4,
 "nbformat_minor": 2
}
