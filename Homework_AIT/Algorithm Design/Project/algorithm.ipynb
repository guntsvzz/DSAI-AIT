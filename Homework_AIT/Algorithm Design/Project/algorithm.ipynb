{
 "cells": [
  {
   "cell_type": "markdown",
   "metadata": {},
   "source": [
    "# Process"
   ]
  },
  {
   "cell_type": "markdown",
   "metadata": {},
   "source": [
    "## 0. Dependency Parsing"
   ]
  },
  {
   "cell_type": "code",
   "execution_count": 8,
   "metadata": {},
   "outputs": [
    {
     "name": "stdout",
     "output_type": "stream",
     "text": [
      "0 I => nsubj => want\n",
      "1 want => ROOT => want\n",
      "2 to => aux => eat\n",
      "3 eat => xcomp => want\n",
      "4 a => det => apple\n",
      "5 apple => dobj => eat\n"
     ]
    }
   ],
   "source": [
    "import spacy\n",
    "nlp=spacy.load('en_core_web_sm/en_core_web_sm-3.4.1/')\n",
    "\n",
    "text='I want to eat a apple'\n",
    "\n",
    "list_text = []\n",
    "for index,token in enumerate(nlp(text)):\n",
    " print(index, token.text,'=>',token.dep_,'=>',token.head.text)\n",
    " list_text.append((index,token.text)) "
   ]
  },
  {
   "cell_type": "code",
   "execution_count": 9,
   "metadata": {},
   "outputs": [
    {
     "data": {
      "text/plain": [
       "[(0, 'I'), (1, 'want'), (2, 'to'), (3, 'eat'), (4, 'a'), (5, 'apple')]"
      ]
     },
     "execution_count": 9,
     "metadata": {},
     "output_type": "execute_result"
    }
   ],
   "source": [
    "list_text"
   ]
  },
  {
   "cell_type": "markdown",
   "metadata": {},
   "source": [
    "## 1. Enqueue and Dequeue"
   ]
  },
  {
   "cell_type": "code",
   "execution_count": 23,
   "metadata": {},
   "outputs": [
    {
     "name": "stdout",
     "output_type": "stream",
     "text": [
      "Initial queue\n",
      "['a', 'b', 'c']\n",
      "\n",
      "Elements dequeued from queue\n",
      "c\n",
      "b\n",
      "a\n",
      "\n",
      "Queue after removing elements\n",
      "[]\n"
     ]
    }
   ],
   "source": [
    "# Initializing a queue\n",
    "queue = []\n",
    "# Adding elements to the queue\n",
    "queue.append('a')\n",
    "queue.append('b')\n",
    "queue.append('c')\n",
    "print(\"Initial queue\")\n",
    "print(queue)\n",
    "  \n",
    "# Removing elements from the queue\n",
    "print(\"\\nElements dequeued from queue\")\n",
    "print(queue.pop(-1)) #dequeue\n",
    "print(queue.pop(-1)) #dequeue\n",
    "print(queue.pop(-1)) #dequeue\n",
    "print(\"\\nQueue after removing elements\")\n",
    "print(queue)"
   ]
  },
  {
   "cell_type": "markdown",
   "metadata": {},
   "source": [
    "## 2. Convert to Binary Tree"
   ]
  },
  {
   "cell_type": "code",
   "execution_count": 4,
   "metadata": {},
   "outputs": [],
   "source": [
    "class Node(object):\n",
    "    def __init__(self, key):\n",
    "        self.left  = None\n",
    "        self.right = None\n",
    "        self.key = key\n",
    "        \n",
    "    def insert(self, key):\n",
    "        if(self.key):\n",
    "            if(key < self.key):\n",
    "                if(self.left == None):\n",
    "                    self.left = Node(key)\n",
    "                else:\n",
    "                    self.left.insert(key)\n",
    "            \n",
    "            elif(key >= self.key):\n",
    "                if(self.right == None):\n",
    "                    self.right = Node(key)\n",
    "                else:\n",
    "                    self.right.insert(key)\n",
    "        else:\n",
    "            self.key = key\n",
    "    \n",
    "    def printT(self):        \n",
    "        if (self.left):\n",
    "            self.left.printT()\n",
    "        print(self.key)\n",
    "        if (self.right):\n",
    "            self.right.printT()\n",
    "    \n",
    "    def delete(self,value):\n",
    "        if value < self.key: #CaseD\n",
    "            if self.left:\n",
    "                self.left = self.left.delete(value)\n",
    "        elif value > self.key: #CaseC\n",
    "            if self.right:\n",
    "                self.right = self.right.delete(value)\n",
    "        else:\n",
    "            if self.left == None and self.right == None: #Case A and B\n",
    "                return None\n",
    "            elif self.left == None:\n",
    "                return self.right\n",
    "            elif self.right == None: \n",
    "                return self.left"
   ]
  },
  {
   "cell_type": "code",
   "execution_count": 21,
   "metadata": {},
   "outputs": [
    {
     "name": "stdout",
     "output_type": "stream",
     "text": [
      "1\n",
      "2\n",
      "3\n",
      "4\n",
      "5\n",
      "6\n"
     ]
    }
   ],
   "source": [
    "root = Node(len(list_text))\n",
    "for i in list_text:\n",
    "    root.insert(i[0])\n",
    "\n",
    "root.printT()"
   ]
  }
 ],
 "metadata": {
  "kernelspec": {
   "display_name": "Python 3.10.4 64-bit",
   "language": "python",
   "name": "python3"
  },
  "language_info": {
   "codemirror_mode": {
    "name": "ipython",
    "version": 3
   },
   "file_extension": ".py",
   "mimetype": "text/x-python",
   "name": "python",
   "nbconvert_exporter": "python",
   "pygments_lexer": "ipython3",
   "version": "3.10.4"
  },
  "orig_nbformat": 4,
  "vscode": {
   "interpreter": {
    "hash": "c81d839d3c4227cd770621df97fe8191838af02e7eef185a922d8250cb33d344"
   }
  }
 },
 "nbformat": 4,
 "nbformat_minor": 2
}
