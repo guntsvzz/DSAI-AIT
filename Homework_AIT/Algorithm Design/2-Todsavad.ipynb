{
 "cells": [
  {
   "cell_type": "markdown",
   "metadata": {},
   "source": [
    "Maximum Subarray Sort"
   ]
  },
  {
   "cell_type": "code",
   "execution_count": 4,
   "metadata": {},
   "outputs": [
    {
     "name": "stdout",
     "output_type": "stream",
     "text": [
      "List : [76, 31, 47, 57, 49, 4, 71, 9]\n",
      "Amount : 8\n",
      "l,m,h = (0, 4, 8)\n",
      "sum(list_prep) = 344\n"
     ]
    }
   ],
   "source": [
    "#List Preparation\n",
    "import random\n",
    "list_prep = [random.randint(0,100) for i in range(8)]\n",
    "# list_merge = [2,4,5,7,1,2,3,6]\n",
    "print('List :', list_prep)\n",
    "print('Amount :',len(list_prep))\n",
    "l = list_prep.index(list_prep[0])\n",
    "m = (list_prep.index(list_prep[-1])+1)//2\n",
    "h = list_prep.index(list_prep[-1])+1\n",
    "print(f'{l,m,h = }')\n",
    "print(f'{sum(list_prep) = }')"
   ]
  },
  {
   "cell_type": "code",
   "execution_count": 9,
   "metadata": {},
   "outputs": [
    {
     "name": "stdout",
     "output_type": "stream",
     "text": [
      "i : 3 sum =57\n",
      "i : 2 sum =104\n",
      "i : 1 sum =135\n",
      "i : 0 sum =211\n",
      "max_left = 0\n",
      "j : 4 sum = 49\n",
      "j : 5 sum = 53\n",
      "j : 6 sum = 124\n",
      "j : 7 sum = 133\n",
      "max_right =7\n"
     ]
    },
    {
     "data": {
      "text/plain": [
       "(0, 7, 344)"
      ]
     },
     "execution_count": 9,
     "metadata": {},
     "output_type": "execute_result"
    }
   ],
   "source": [
    "import math\n",
    "def find_max_crossing_subarray(list,low,mid,high):\n",
    "    left_sum = -math.inf\n",
    "    sum = 0\n",
    "    for i in range(mid-1,low-1,-1):\n",
    "        print('i :',i,end = ' ')\n",
    "        sum = sum + list[i]\n",
    "        print(f'{sum =}')\n",
    "        if sum > left_sum:\n",
    "            left_sum = sum\n",
    "            max_left = i\n",
    "    print(f'{max_left = }')\n",
    "\n",
    "    right_sum = -math.inf\n",
    "    sum = 0\n",
    "    for j in range(mid,high,1):\n",
    "        print('j :',j,end = ' ')\n",
    "        sum = sum + list[j]\n",
    "        print(f'{sum = }')\n",
    "        if sum > right_sum:\n",
    "            right_sum = sum\n",
    "            max_right = j\n",
    "    print(f'{max_right =}')\n",
    "\n",
    "\n",
    "    # print(f'{max_left, max_right, left_sum+right_sum =}')\n",
    "    return max_left, max_right, left_sum+right_sum\n",
    "\n",
    "# find_max_crossing_subarray(list_prep,l,m,h)"
   ]
  },
  {
   "cell_type": "code",
   "execution_count": 10,
   "metadata": {},
   "outputs": [
    {
     "name": "stdout",
     "output_type": "stream",
     "text": [
      "mid = 4, mid = 2, mid = 1, mid = 0, \n",
      "low, high, list[low] = (0, 0, 76)\n",
      "left_low, left_high, left_sum = (0, 0, 76)\n",
      "\n",
      "low, high, list[low] = (1, 1, 31)\n",
      "right_low, right_high, right_sum = (1, 1, 31)\n"
     ]
    },
    {
     "ename": "UnboundLocalError",
     "evalue": "local variable 'max_left' referenced before assignment",
     "output_type": "error",
     "traceback": [
      "\u001b[1;31m---------------------------------------------------------------------------\u001b[0m",
      "\u001b[1;31mUnboundLocalError\u001b[0m                         Traceback (most recent call last)",
      "\u001b[1;32mc:\\Users\\Guntsv\\Documents\\GitHub\\DSAI-AIT-2022\\Homework_AIT\\Algorithm Design\\2-Todsavad.ipynb Cell 4\u001b[0m in \u001b[0;36m<cell line: 26>\u001b[1;34m()\u001b[0m\n\u001b[0;32m     <a href='vscode-notebook-cell:/c%3A/Users/Guntsv/Documents/GitHub/DSAI-AIT-2022/Homework_AIT/Algorithm%20Design/2-Todsavad.ipynb#X12sZmlsZQ%3D%3D?line=22'>23</a>\u001b[0m             \u001b[39mprint\u001b[39m(\u001b[39mf\u001b[39m\u001b[39m'\u001b[39m\u001b[39m{\u001b[39;00mcross_low, cross_high, cross_sum \u001b[39m=}\u001b[39;00m\u001b[39m'\u001b[39m)\n\u001b[0;32m     <a href='vscode-notebook-cell:/c%3A/Users/Guntsv/Documents/GitHub/DSAI-AIT-2022/Homework_AIT/Algorithm%20Design/2-Todsavad.ipynb#X12sZmlsZQ%3D%3D?line=23'>24</a>\u001b[0m             \u001b[39mreturn\u001b[39;00m (cross_low,cross_high,cross_sum)\n\u001b[1;32m---> <a href='vscode-notebook-cell:/c%3A/Users/Guntsv/Documents/GitHub/DSAI-AIT-2022/Homework_AIT/Algorithm%20Design/2-Todsavad.ipynb#X12sZmlsZQ%3D%3D?line=25'>26</a>\u001b[0m find_max_subarray(list_prep,l,h)\n",
      "\u001b[1;32mc:\\Users\\Guntsv\\Documents\\GitHub\\DSAI-AIT-2022\\Homework_AIT\\Algorithm Design\\2-Todsavad.ipynb Cell 4\u001b[0m in \u001b[0;36mfind_max_subarray\u001b[1;34m(list, low, high)\u001b[0m\n\u001b[0;32m      <a href='vscode-notebook-cell:/c%3A/Users/Guntsv/Documents/GitHub/DSAI-AIT-2022/Homework_AIT/Algorithm%20Design/2-Todsavad.ipynb#X12sZmlsZQ%3D%3D?line=6'>7</a>\u001b[0m mid \u001b[39m=\u001b[39m (low\u001b[39m+\u001b[39mhigh)\u001b[39m/\u001b[39m\u001b[39m/\u001b[39m\u001b[39m2\u001b[39m\n\u001b[0;32m      <a href='vscode-notebook-cell:/c%3A/Users/Guntsv/Documents/GitHub/DSAI-AIT-2022/Homework_AIT/Algorithm%20Design/2-Todsavad.ipynb#X12sZmlsZQ%3D%3D?line=7'>8</a>\u001b[0m \u001b[39mprint\u001b[39m(\u001b[39mf\u001b[39m\u001b[39m'\u001b[39m\u001b[39m{\u001b[39;00mmid \u001b[39m= }\u001b[39;00m\u001b[39m'\u001b[39m,end \u001b[39m=\u001b[39m \u001b[39m'\u001b[39m\u001b[39m, \u001b[39m\u001b[39m'\u001b[39m)\n\u001b[1;32m----> <a href='vscode-notebook-cell:/c%3A/Users/Guntsv/Documents/GitHub/DSAI-AIT-2022/Homework_AIT/Algorithm%20Design/2-Todsavad.ipynb#X12sZmlsZQ%3D%3D?line=8'>9</a>\u001b[0m (left_low, left_high, left_sum) \u001b[39m=\u001b[39m find_max_subarray(\u001b[39mlist\u001b[39;49m, low, mid)\n\u001b[0;32m     <a href='vscode-notebook-cell:/c%3A/Users/Guntsv/Documents/GitHub/DSAI-AIT-2022/Homework_AIT/Algorithm%20Design/2-Todsavad.ipynb#X12sZmlsZQ%3D%3D?line=9'>10</a>\u001b[0m \u001b[39mprint\u001b[39m(\u001b[39mf\u001b[39m\u001b[39m'\u001b[39m\u001b[39m{\u001b[39;00mleft_low, left_high, left_sum \u001b[39m= }\u001b[39;00m\u001b[39m'\u001b[39m)\n\u001b[0;32m     <a href='vscode-notebook-cell:/c%3A/Users/Guntsv/Documents/GitHub/DSAI-AIT-2022/Homework_AIT/Algorithm%20Design/2-Todsavad.ipynb#X12sZmlsZQ%3D%3D?line=10'>11</a>\u001b[0m (right_low, right_high, right_sum) \u001b[39m=\u001b[39m find_max_subarray(\u001b[39mlist\u001b[39m, mid\u001b[39m+\u001b[39m\u001b[39m1\u001b[39m, high)\n",
      "\u001b[1;32mc:\\Users\\Guntsv\\Documents\\GitHub\\DSAI-AIT-2022\\Homework_AIT\\Algorithm Design\\2-Todsavad.ipynb Cell 4\u001b[0m in \u001b[0;36mfind_max_subarray\u001b[1;34m(list, low, high)\u001b[0m\n\u001b[0;32m      <a href='vscode-notebook-cell:/c%3A/Users/Guntsv/Documents/GitHub/DSAI-AIT-2022/Homework_AIT/Algorithm%20Design/2-Todsavad.ipynb#X12sZmlsZQ%3D%3D?line=6'>7</a>\u001b[0m mid \u001b[39m=\u001b[39m (low\u001b[39m+\u001b[39mhigh)\u001b[39m/\u001b[39m\u001b[39m/\u001b[39m\u001b[39m2\u001b[39m\n\u001b[0;32m      <a href='vscode-notebook-cell:/c%3A/Users/Guntsv/Documents/GitHub/DSAI-AIT-2022/Homework_AIT/Algorithm%20Design/2-Todsavad.ipynb#X12sZmlsZQ%3D%3D?line=7'>8</a>\u001b[0m \u001b[39mprint\u001b[39m(\u001b[39mf\u001b[39m\u001b[39m'\u001b[39m\u001b[39m{\u001b[39;00mmid \u001b[39m= }\u001b[39;00m\u001b[39m'\u001b[39m,end \u001b[39m=\u001b[39m \u001b[39m'\u001b[39m\u001b[39m, \u001b[39m\u001b[39m'\u001b[39m)\n\u001b[1;32m----> <a href='vscode-notebook-cell:/c%3A/Users/Guntsv/Documents/GitHub/DSAI-AIT-2022/Homework_AIT/Algorithm%20Design/2-Todsavad.ipynb#X12sZmlsZQ%3D%3D?line=8'>9</a>\u001b[0m (left_low, left_high, left_sum) \u001b[39m=\u001b[39m find_max_subarray(\u001b[39mlist\u001b[39;49m, low, mid)\n\u001b[0;32m     <a href='vscode-notebook-cell:/c%3A/Users/Guntsv/Documents/GitHub/DSAI-AIT-2022/Homework_AIT/Algorithm%20Design/2-Todsavad.ipynb#X12sZmlsZQ%3D%3D?line=9'>10</a>\u001b[0m \u001b[39mprint\u001b[39m(\u001b[39mf\u001b[39m\u001b[39m'\u001b[39m\u001b[39m{\u001b[39;00mleft_low, left_high, left_sum \u001b[39m= }\u001b[39;00m\u001b[39m'\u001b[39m)\n\u001b[0;32m     <a href='vscode-notebook-cell:/c%3A/Users/Guntsv/Documents/GitHub/DSAI-AIT-2022/Homework_AIT/Algorithm%20Design/2-Todsavad.ipynb#X12sZmlsZQ%3D%3D?line=10'>11</a>\u001b[0m (right_low, right_high, right_sum) \u001b[39m=\u001b[39m find_max_subarray(\u001b[39mlist\u001b[39m, mid\u001b[39m+\u001b[39m\u001b[39m1\u001b[39m, high)\n",
      "\u001b[1;32mc:\\Users\\Guntsv\\Documents\\GitHub\\DSAI-AIT-2022\\Homework_AIT\\Algorithm Design\\2-Todsavad.ipynb Cell 4\u001b[0m in \u001b[0;36mfind_max_subarray\u001b[1;34m(list, low, high)\u001b[0m\n\u001b[0;32m      <a href='vscode-notebook-cell:/c%3A/Users/Guntsv/Documents/GitHub/DSAI-AIT-2022/Homework_AIT/Algorithm%20Design/2-Todsavad.ipynb#X12sZmlsZQ%3D%3D?line=6'>7</a>\u001b[0m mid \u001b[39m=\u001b[39m (low\u001b[39m+\u001b[39mhigh)\u001b[39m/\u001b[39m\u001b[39m/\u001b[39m\u001b[39m2\u001b[39m\n\u001b[0;32m      <a href='vscode-notebook-cell:/c%3A/Users/Guntsv/Documents/GitHub/DSAI-AIT-2022/Homework_AIT/Algorithm%20Design/2-Todsavad.ipynb#X12sZmlsZQ%3D%3D?line=7'>8</a>\u001b[0m \u001b[39mprint\u001b[39m(\u001b[39mf\u001b[39m\u001b[39m'\u001b[39m\u001b[39m{\u001b[39;00mmid \u001b[39m= }\u001b[39;00m\u001b[39m'\u001b[39m,end \u001b[39m=\u001b[39m \u001b[39m'\u001b[39m\u001b[39m, \u001b[39m\u001b[39m'\u001b[39m)\n\u001b[1;32m----> <a href='vscode-notebook-cell:/c%3A/Users/Guntsv/Documents/GitHub/DSAI-AIT-2022/Homework_AIT/Algorithm%20Design/2-Todsavad.ipynb#X12sZmlsZQ%3D%3D?line=8'>9</a>\u001b[0m (left_low, left_high, left_sum) \u001b[39m=\u001b[39m find_max_subarray(\u001b[39mlist\u001b[39;49m, low, mid)\n\u001b[0;32m     <a href='vscode-notebook-cell:/c%3A/Users/Guntsv/Documents/GitHub/DSAI-AIT-2022/Homework_AIT/Algorithm%20Design/2-Todsavad.ipynb#X12sZmlsZQ%3D%3D?line=9'>10</a>\u001b[0m \u001b[39mprint\u001b[39m(\u001b[39mf\u001b[39m\u001b[39m'\u001b[39m\u001b[39m{\u001b[39;00mleft_low, left_high, left_sum \u001b[39m= }\u001b[39;00m\u001b[39m'\u001b[39m)\n\u001b[0;32m     <a href='vscode-notebook-cell:/c%3A/Users/Guntsv/Documents/GitHub/DSAI-AIT-2022/Homework_AIT/Algorithm%20Design/2-Todsavad.ipynb#X12sZmlsZQ%3D%3D?line=10'>11</a>\u001b[0m (right_low, right_high, right_sum) \u001b[39m=\u001b[39m find_max_subarray(\u001b[39mlist\u001b[39m, mid\u001b[39m+\u001b[39m\u001b[39m1\u001b[39m, high)\n",
      "\u001b[1;32mc:\\Users\\Guntsv\\Documents\\GitHub\\DSAI-AIT-2022\\Homework_AIT\\Algorithm Design\\2-Todsavad.ipynb Cell 4\u001b[0m in \u001b[0;36mfind_max_subarray\u001b[1;34m(list, low, high)\u001b[0m\n\u001b[0;32m     <a href='vscode-notebook-cell:/c%3A/Users/Guntsv/Documents/GitHub/DSAI-AIT-2022/Homework_AIT/Algorithm%20Design/2-Todsavad.ipynb#X12sZmlsZQ%3D%3D?line=10'>11</a>\u001b[0m (right_low, right_high, right_sum) \u001b[39m=\u001b[39m find_max_subarray(\u001b[39mlist\u001b[39m, mid\u001b[39m+\u001b[39m\u001b[39m1\u001b[39m, high)\n\u001b[0;32m     <a href='vscode-notebook-cell:/c%3A/Users/Guntsv/Documents/GitHub/DSAI-AIT-2022/Homework_AIT/Algorithm%20Design/2-Todsavad.ipynb#X12sZmlsZQ%3D%3D?line=11'>12</a>\u001b[0m \u001b[39mprint\u001b[39m(\u001b[39mf\u001b[39m\u001b[39m'\u001b[39m\u001b[39m{\u001b[39;00mright_low, right_high, right_sum \u001b[39m= }\u001b[39;00m\u001b[39m'\u001b[39m)\n\u001b[1;32m---> <a href='vscode-notebook-cell:/c%3A/Users/Guntsv/Documents/GitHub/DSAI-AIT-2022/Homework_AIT/Algorithm%20Design/2-Todsavad.ipynb#X12sZmlsZQ%3D%3D?line=12'>13</a>\u001b[0m (cross_low, cross_high, cross_sum) \u001b[39m=\u001b[39m find_max_crossing_subarray(\u001b[39mlist\u001b[39;49m, low, mid, high)\n\u001b[0;32m     <a href='vscode-notebook-cell:/c%3A/Users/Guntsv/Documents/GitHub/DSAI-AIT-2022/Homework_AIT/Algorithm%20Design/2-Todsavad.ipynb#X12sZmlsZQ%3D%3D?line=13'>14</a>\u001b[0m \u001b[39mprint\u001b[39m(\u001b[39mf\u001b[39m\u001b[39m'\u001b[39m\u001b[39m{\u001b[39;00mcross_low, cross_high, cross_sum \u001b[39m= }\u001b[39;00m\u001b[39m'\u001b[39m)\n\u001b[0;32m     <a href='vscode-notebook-cell:/c%3A/Users/Guntsv/Documents/GitHub/DSAI-AIT-2022/Homework_AIT/Algorithm%20Design/2-Todsavad.ipynb#X12sZmlsZQ%3D%3D?line=15'>16</a>\u001b[0m \u001b[39mif\u001b[39;00m left_sum \u001b[39m>\u001b[39m\u001b[39m=\u001b[39m right_sum \u001b[39mand\u001b[39;00m left_sum \u001b[39m>\u001b[39m\u001b[39m=\u001b[39m cross_sum:\n",
      "\u001b[1;32mc:\\Users\\Guntsv\\Documents\\GitHub\\DSAI-AIT-2022\\Homework_AIT\\Algorithm Design\\2-Todsavad.ipynb Cell 4\u001b[0m in \u001b[0;36mfind_max_crossing_subarray\u001b[1;34m(list, low, mid, high)\u001b[0m\n\u001b[0;32m     <a href='vscode-notebook-cell:/c%3A/Users/Guntsv/Documents/GitHub/DSAI-AIT-2022/Homework_AIT/Algorithm%20Design/2-Todsavad.ipynb#X12sZmlsZQ%3D%3D?line=9'>10</a>\u001b[0m         left_sum \u001b[39m=\u001b[39m \u001b[39msum\u001b[39m\n\u001b[0;32m     <a href='vscode-notebook-cell:/c%3A/Users/Guntsv/Documents/GitHub/DSAI-AIT-2022/Homework_AIT/Algorithm%20Design/2-Todsavad.ipynb#X12sZmlsZQ%3D%3D?line=10'>11</a>\u001b[0m         max_left \u001b[39m=\u001b[39m i\n\u001b[1;32m---> <a href='vscode-notebook-cell:/c%3A/Users/Guntsv/Documents/GitHub/DSAI-AIT-2022/Homework_AIT/Algorithm%20Design/2-Todsavad.ipynb#X12sZmlsZQ%3D%3D?line=11'>12</a>\u001b[0m \u001b[39mprint\u001b[39m(\u001b[39mf\u001b[39m\u001b[39m'\u001b[39m\u001b[39m{\u001b[39;00mmax_left \u001b[39m= }\u001b[39;00m\u001b[39m'\u001b[39m)\n\u001b[0;32m     <a href='vscode-notebook-cell:/c%3A/Users/Guntsv/Documents/GitHub/DSAI-AIT-2022/Homework_AIT/Algorithm%20Design/2-Todsavad.ipynb#X12sZmlsZQ%3D%3D?line=13'>14</a>\u001b[0m right_sum \u001b[39m=\u001b[39m \u001b[39m-\u001b[39mmath\u001b[39m.\u001b[39minf\n\u001b[0;32m     <a href='vscode-notebook-cell:/c%3A/Users/Guntsv/Documents/GitHub/DSAI-AIT-2022/Homework_AIT/Algorithm%20Design/2-Todsavad.ipynb#X12sZmlsZQ%3D%3D?line=14'>15</a>\u001b[0m \u001b[39msum\u001b[39m \u001b[39m=\u001b[39m \u001b[39m0\u001b[39m\n",
      "\u001b[1;31mUnboundLocalError\u001b[0m: local variable 'max_left' referenced before assignment"
     ]
    }
   ],
   "source": [
    "def find_max_subarray(list,low,high):\n",
    "    if high == low:\n",
    "        print()\n",
    "        print(f'{low, high, list[low] = }')\n",
    "        return (low, high, list[low])\n",
    "    else :\n",
    "        mid = (low+high)//2\n",
    "        print(f'{mid = }',end = ', ')\n",
    "        (left_low, left_high, left_sum) = find_max_subarray(list, low, mid)\n",
    "        print(f'{left_low, left_high, left_sum = }')\n",
    "        (right_low, right_high, right_sum) = find_max_subarray(list, mid+1, high)\n",
    "        print(f'{right_low, right_high, right_sum = }')\n",
    "        (cross_low, cross_high, cross_sum) = find_max_crossing_subarray(list, low, mid, high)\n",
    "        print(f'{cross_low, cross_high, cross_sum = }')\n",
    "\n",
    "        if left_sum >= right_sum and left_sum >= cross_sum:\n",
    "            print(f'{left_low, left_high, left_sum =}')\n",
    "            return (left_low,left_high,left_sum) \n",
    "        elif right_sum >= left_sum and right_sum >= cross_sum:\n",
    "            print(f'{right_low, right_high, right_sum =}')\n",
    "            return (right_low,right_high,right_sum)\n",
    "        else:\n",
    "            print(f'{cross_low, cross_high, cross_sum =}')\n",
    "            return (cross_low,cross_high,cross_sum)\n",
    "            \n",
    "find_max_subarray(list_prep,l,h)"
   ]
  },
  {
   "cell_type": "code",
   "execution_count": null,
   "metadata": {},
   "outputs": [],
   "source": []
  }
 ],
 "metadata": {
  "kernelspec": {
   "display_name": "Python 3.10.4 64-bit",
   "language": "python",
   "name": "python3"
  },
  "language_info": {
   "codemirror_mode": {
    "name": "ipython",
    "version": 3
   },
   "file_extension": ".py",
   "mimetype": "text/x-python",
   "name": "python",
   "nbconvert_exporter": "python",
   "pygments_lexer": "ipython3",
   "version": "3.10.4"
  },
  "orig_nbformat": 4,
  "vscode": {
   "interpreter": {
    "hash": "c81d839d3c4227cd770621df97fe8191838af02e7eef185a922d8250cb33d344"
   }
  }
 },
 "nbformat": 4,
 "nbformat_minor": 2
}
