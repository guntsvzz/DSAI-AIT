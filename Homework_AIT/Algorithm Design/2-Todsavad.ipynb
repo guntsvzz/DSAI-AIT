{
 "cells": [
  {
   "cell_type": "markdown",
   "metadata": {},
   "source": [
    "## Maximum Subarray Sort"
   ]
  },
  {
   "cell_type": "code",
   "execution_count": 10,
   "metadata": {},
   "outputs": [
    {
     "name": "stdout",
     "output_type": "stream",
     "text": [
      "List : [27, 86, 41, 100, 41, -84, -10, 41]\n",
      "Amount : 8\n",
      "l,m,h = (0, 1, 3)\n",
      "sum(list_prep) = 242\n"
     ]
    }
   ],
   "source": [
    "#List Preparation\n",
    "import random\n",
    "import time \n",
    "import math\n",
    "list_prep = [random.randint(-100,100) for i in range(8)]\n",
    "# list_merge = [2,4,5,7,1,2,3,6]\n",
    "print('List :', list_prep)\n",
    "print('Amount :',len(list_prep))\n",
    "l = list_prep.index(list_prep[0])\n",
    "m = (list_prep.index(list_prep[-1])+1)//2\n",
    "h = list_prep.index(list_prep[-1])+1\n",
    "print(f'{l,m,h = }')\n",
    "print(f'{sum(list_prep) = }')"
   ]
  },
  {
   "cell_type": "code",
   "execution_count": 13,
   "metadata": {},
   "outputs": [
    {
     "data": {
      "text/plain": [
       "(0, 2, 154)"
      ]
     },
     "execution_count": 13,
     "metadata": {},
     "output_type": "execute_result"
    }
   ],
   "source": [
    "def find_max_crossing_subarray(list,low,mid,high):\n",
    "    left_sum = -math.inf\n",
    "    sum = 0\n",
    "    for i in range(mid-1,low-1,-1):\n",
    "        # print('i :',i,end = ' ')\n",
    "        sum = sum + list[i]\n",
    "        # print(f'{sum = }')\n",
    "        if sum > left_sum:\n",
    "            left_sum = sum\n",
    "            max_left = i\n",
    "        # print(f'{max_left = }')\n",
    "    right_sum = -math.inf\n",
    "    sum = 0\n",
    "    for j in range(mid,high,1):\n",
    "        # print('j :',j,end = ' ')\n",
    "        sum = sum + list[j]\n",
    "        # print(f'{sum = }')\n",
    "        if sum > right_sum:\n",
    "            right_sum = sum\n",
    "            max_right = j \n",
    "        # print(f'{max_right = }')\n",
    "    return max_left, max_right, left_sum+right_sum\n",
    "\n",
    "# find_max_crossing_subarray(list_prep,l,m,h)"
   ]
  },
  {
   "cell_type": "code",
   "execution_count": 19,
   "metadata": {},
   "outputs": [],
   "source": [
    "def find_max_subarray(list,low,high):\n",
    "    if high - 1 == low:\n",
    "        # print()\n",
    "        # print(f'{low, high, list[low] = }')\n",
    "        return (low, high, list[low])\n",
    "    else :\n",
    "        mid = (low+high)//2\n",
    "        # print(f'{mid = }',end = ', ')\n",
    "        \n",
    "        (left_low, left_high, left_sum) = find_max_subarray(list, low, mid)\n",
    "        # print(f'{left_low, left_high, left_sum = }')\n",
    "\n",
    "        (right_low, right_high, right_sum) = find_max_subarray(list, mid, high)\n",
    "        # print(f'{right_low, right_high, right_sum = }')\n",
    "\n",
    "        (cross_low, cross_high, cross_sum) = find_max_crossing_subarray(list, low, mid, high)\n",
    "        # print(f'{cross_low, cross_high, cross_sum = }')\n",
    "\n",
    "        if left_sum >= right_sum and left_sum >= cross_sum:\n",
    "            # print(f'{left_low, left_high, left_sum =}')\n",
    "            return (left_low, left_high, left_sum) \n",
    "\n",
    "        elif right_sum >= left_sum and right_sum >= cross_sum:\n",
    "            # print(f'{right_low, right_high, right_sum =}')\n",
    "            return (right_low, right_high, right_sum)\n",
    "            \n",
    "        else:\n",
    "            # print(f'{cross_low, cross_high, cross_sum =}')\n",
    "            return (cross_low, cross_high, cross_sum)\n",
    "            \n",
    "    return "
   ]
  },
  {
   "cell_type": "code",
   "execution_count": 21,
   "metadata": {},
   "outputs": [
    {
     "data": {
      "text/plain": [
       "(0, 2, 154)"
      ]
     },
     "execution_count": 21,
     "metadata": {},
     "output_type": "execute_result"
    }
   ],
   "source": [
    "find_max_subarray(list_prep,l,h)"
   ]
  },
  {
   "cell_type": "markdown",
   "metadata": {},
   "source": [
    "Program the maximum subarray problem in python.\n",
    "\n",
    "Seek to plot the actual time spent and compare it with the theoretical complexity we learn in the class. Attempt to compare many sizes of n. Is the actual time close to the theoretical complexity?\n",
    "\n",
    "Hint: You need to convert complexity into the same scale as time, so you can compare it with actual performances. To convert steps to time, you simply need to multiply with some c.   For example, instead of plotting n log n, you plot c * n log n.     For my choice, I use c = 1/500,000 and it looks good, but it is up to you."
   ]
  },
  {
   "cell_type": "code",
   "execution_count": 18,
   "metadata": {},
   "outputs": [
    {
     "data": {
      "image/png": "[encoded data removed]",
      "text/plain": [
       "<Figure size 432x288 with 1 Axes>"
      ]
     },
     "metadata": {
      "needs_background": "light"
     },
     "output_type": "display_data"
    }
   ],
   "source": [
    "import matplotlib.pyplot as plt\n",
    "import numpy as np\n",
    "import math\n",
    "import random\n",
    "from timeit import timeit\n",
    "num_samples = range(10,1000,10)\n",
    "c = 1/500000\n",
    "time_interval = []\n",
    "y_cnlogn = []\n",
    "\n",
    "for n in num_samples:\n",
    "    mylist = random.sample(range(n),n)\n",
    "    y_cnlogn.append(c*n*math.log2(n))\n",
    "    time = timeit('find_max_subarray(mylist, mylist.index(mylist[0]), mylist.index(mylist[-1])+1)',number=1,globals=globals())\n",
    "    time_interval.append(time)\n",
    "\n",
    "plt.plot(num_samples,time_interval,label='Maximum Sub-Array')\n",
    "plt.plot(num_samples,y_cnlogn,label='O (nlog2n)')\n",
    "plt.legend()\n",
    "plt.xlabel(\"Number of samples\")\n",
    "plt.ylabel(\"Time Complexity\")\n",
    "plt.title(\"Time Complexity Comparison\")\n",
    "plt.show()"
   ]
  },
  {
   "cell_type": "code",
   "execution_count": null,
   "metadata": {},
   "outputs": [],
   "source": []
  }
 ],
 "metadata": {
  "kernelspec": {
   "display_name": "Python 3.10.4 64-bit",
   "language": "python",
   "name": "python3"
  },
  "language_info": {
   "codemirror_mode": {
    "name": "ipython",
    "version": 3
   },
   "file_extension": ".py",
   "mimetype": "text/x-python",
   "name": "python",
   "nbconvert_exporter": "python",
   "pygments_lexer": "ipython3",
   "version": "3.10.4"
  },
  "orig_nbformat": 4,
  "vscode": {
   "interpreter": {
    "hash": "c81d839d3c4227cd770621df97fe8191838af02e7eef185a922d8250cb33d344"
   }
  }
 },
 "nbformat": 4,
 "nbformat_minor": 2
}
