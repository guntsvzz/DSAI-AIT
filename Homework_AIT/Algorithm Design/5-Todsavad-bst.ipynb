{
 "cells": [
  {
   "cell_type": "code",
   "execution_count": 1,
   "metadata": {},
   "outputs": [],
   "source": [
    "#how do we start here\n",
    "#create a class called Node\n",
    "class Node(object):  #object is the primitive class, so I inherit\n",
    "    pass\n",
    "\n",
    "    #left``\n",
    "    #right\n",
    "    #key\n",
    "    #when you first create the Node, this guy is the root node\n",
    "    def __init__(self, key):\n",
    "        self.left  = None\n",
    "        self.right = None\n",
    "        self.key = key  #this is actually the root node\n",
    "        #why you don't write like this\n",
    "        #self.root = key\n",
    "        \n",
    "    #def insert\n",
    "    def insert(self, key):\n",
    "        #if we already have a root node,\n",
    "        if(self.key):\n",
    "            #then check left and right\n",
    "            #cond1:  if less than: go left\n",
    "            if(key < self.key):\n",
    "                #cond1.1  if the left is NIL, yay! fill it!\n",
    "                if(self.left == None):\n",
    "                    self.left = Node(key)\n",
    "                #cond1.2  if the left is NOT NIL...oh no...\n",
    "                else:\n",
    "                    self.left.insert(key)\n",
    "            \n",
    "            #cond2:  if greater than: go right\n",
    "            elif(key >= self.key):\n",
    "                #cond1.2  if the right is NIL, yay! fill it!\n",
    "                if(self.right == None):\n",
    "                    self.right = Node(key)\n",
    "                #cond1.2  if the right is NOT NIL...consider right as the parent...\n",
    "                else:\n",
    "                    self.right.insert(key)\n",
    "        #if we don't have the root node\n",
    "        else:\n",
    "            #this key is the root node\n",
    "            self.key = key\n",
    "    \n",
    "    #def printTree\n",
    "    def printT(self):        \n",
    "        #if left is still available print left\n",
    "        if (self.left):\n",
    "            self.left.printT()\n",
    "        print(self.key)\n",
    "        if (self.right):\n",
    "            self.right.printT()\n",
    "    \n",
    "    #def delete\n",
    "    def delete(self,value):\n",
    "        #when left and right are not empty\n",
    "        if value < self.key: #CaseD\n",
    "            if self.left:\n",
    "                self.left = self.left.delete(value)\n",
    "        elif value > self.key: #CaseC\n",
    "            if self.right:\n",
    "                self.right = self.right.delete(value)\n",
    "        else:\n",
    "            #when left and right are empty\n",
    "            if self.left == None and self.right == None: #Case A and B\n",
    "                return None\n",
    "            #when left root is empty \n",
    "            elif self.left == None: #CaseA\n",
    "                return self.right\n",
    "            #when right root is empty\n",
    "            elif self.right == None: #CaseB\n",
    "                return self.left\n",
    "\n",
    "    #def minimum\n",
    "    #def successor"
   ]
  },
  {
   "cell_type": "code",
   "execution_count": 3,
   "metadata": {},
   "outputs": [
    {
     "name": "stdout",
     "output_type": "stream",
     "text": [
      "3\n",
      "5\n",
      "10\n",
      "11\n"
     ]
    }
   ],
   "source": [
    "#try our class\n",
    "root = Node(10)\n",
    "root.insert(11)\n",
    "root.insert(5)\n",
    "root.insert(3)\n",
    "root.printT()"
   ]
  },
  {
   "cell_type": "code",
   "execution_count": 4,
   "metadata": {},
   "outputs": [
    {
     "name": "stdout",
     "output_type": "stream",
     "text": [
      "3\n",
      "10\n"
     ]
    }
   ],
   "source": [
    "root.delete(5)\n",
    "root.delete(11)\n",
    "root.printT()"
   ]
  }
 ],
 "metadata": {
  "kernelspec": {
   "display_name": "Python 3.10.4 64-bit",
   "language": "python",
   "name": "python3"
  },
  "language_info": {
   "codemirror_mode": {
    "name": "ipython",
    "version": 3
   },
   "file_extension": ".py",
   "mimetype": "text/x-python",
   "name": "python",
   "nbconvert_exporter": "python",
   "pygments_lexer": "ipython3",
   "version": "3.10.4"
  },
  "orig_nbformat": 4,
  "vscode": {
   "interpreter": {
    "hash": "c81d839d3c4227cd770621df97fe8191838af02e7eef185a922d8250cb33d344"
   }
  }
 },
 "nbformat": 4,
 "nbformat_minor": 2
}
