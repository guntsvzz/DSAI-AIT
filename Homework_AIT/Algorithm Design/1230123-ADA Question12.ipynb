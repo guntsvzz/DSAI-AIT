{
 "cells": [
  {
   "cell_type": "code",
   "execution_count": 33,
   "metadata": {},
   "outputs": [
    {
     "name": "stdout",
     "output_type": "stream",
     "text": [
      "ykahc\n",
      "ykahc\n"
     ]
    }
   ],
   "source": [
    "def reverse_recursive(s):\n",
    "    if s == '':\n",
    "        return s\n",
    "    else:\n",
    "        return reverse_recursive(s[1:]) + s[0]\n",
    "    \n",
    "def reverse_iterative(s):\n",
    "    s1 = ''\n",
    "    for c in s:\n",
    "        s1 = c + s1\n",
    "    return s1\n",
    "\n",
    "print(reverse_recursive('chaky'))\n",
    "print(reverse_iterative('chaky'))"
   ]
  },
  {
   "cell_type": "code",
   "execution_count": 56,
   "metadata": {},
   "outputs": [],
   "source": [
    "# import matplotlib.pyplot as plt\n",
    "# import numpy as np\n",
    "# import math\n",
    "# import random\n",
    "# from timeit import timeit\n",
    "# num_samples = range(10,1000,10)\n",
    "# c = 1/500000\n",
    "# time_interval_reverse_recursive = []\n",
    "# time_interval_reverse_iterative = []\n",
    "\n",
    "# # time_interval_o3 = []\n",
    "\n",
    "# for n in num_samples:\n",
    "#     mylist = 'chaky'\n",
    "#     time1 = timeit('reverse_recursive(mylist)',number=1,globals=globals() )\n",
    "#     time_interval_reverse_recursive.append(time1)\n",
    "#     time2 = timeit('reverse_iterative(mylist)',number=1,globals=globals())\n",
    "#     time_interval_reverse_iterative.append(time2)\n",
    "\n",
    "# plt.plot(num_samples,time_interval_reverse_recursive,label='reverse_recursive')\n",
    "# plt.plot(num_samples,time_interval_reverse_iterative,label='reverse_iterative')\n",
    "# # plt.plot(num_samples,time_interval_o3,label='o3')\n",
    "# plt.legend()\n",
    "# plt.xlabel(\"Number of samples\")\n",
    "# plt.ylabel(\"Time Complexity\")\n",
    "# plt.title(\"Time Complexity Comparison\")\n",
    "# plt.show()"
   ]
  },
  {
   "cell_type": "markdown",
   "metadata": {},
   "source": [
    "### Question 12 Coding\n",
    "\n",
    "Given three lists - A, B, and C, write a python function check_null() such that it returns True if there is NO\n",
    "element such that x $ \\epsilon $ A, x $ \\epsilon $ B, x $ \\epsilon $ C . Otherwise, returns False.\n",
    "\n",
    "a. Write an algorithm of complexity running time is $O(n^3)$. Don’t forget to provide a simple proof that the\n",
    "complexity is really (2pts.)"
   ]
  },
  {
   "cell_type": "code",
   "execution_count": 52,
   "metadata": {},
   "outputs": [],
   "source": [
    "def check_null():\n",
    "    A = [7,1,3]\n",
    "    B = [1,6,7]\n",
    "    C = [9,10,1]\n",
    "    check = True\n",
    "    for i in A: #--- First Loop n time\n",
    "        for j in B: #--- Second Loop n time\n",
    "            for k in C: #--- Third Loop n time\n",
    "                if i == j == k :\n",
    "                    # print(i,j,k)\n",
    "                    check = False\n",
    "                    break\n",
    "    return check\n",
    "    #Therefore, O(n*n*n)) = O(n^3) "
   ]
  },
  {
   "cell_type": "code",
   "execution_count": 51,
   "metadata": {},
   "outputs": [
    {
     "data": {
      "text/plain": [
       "False"
      ]
     },
     "execution_count": 51,
     "metadata": {},
     "output_type": "execute_result"
    }
   ],
   "source": [
    "check_null()"
   ]
  },
  {
   "cell_type": "markdown",
   "metadata": {},
   "source": [
    "b. Improve the algorithm to $O(n^2)$. Provide the proof as well. (2pts.)"
   ]
  },
  {
   "cell_type": "code",
   "execution_count": 53,
   "metadata": {},
   "outputs": [],
   "source": [
    "def check_null_improve():\n",
    "    A = [7,1,3]\n",
    "    B = [1,6,7]\n",
    "    C = [9,10,1]\n",
    "    check = True\n",
    "    for i in A: #--- First Loop n time\n",
    "        for j in B: #--- Second Loop n time\n",
    "            if i == j :\n",
    "                check = True\n",
    "                break\n",
    "        for k in C: #--- Third Loop n time\n",
    "            if i == j == k :\n",
    "                # print(i,j,k)\n",
    "                check = False\n",
    "                break\n",
    "    return check     \n",
    "    #Therefore, O(n(n+n)) = O(2n^2) = O(n^2)"
   ]
  }
 ],
 "metadata": {
  "kernelspec": {
   "display_name": "Python 3.10.4 64-bit",
   "language": "python",
   "name": "python3"
  },
  "language_info": {
   "codemirror_mode": {
    "name": "ipython",
    "version": 3
   },
   "file_extension": ".py",
   "mimetype": "text/x-python",
   "name": "python",
   "nbconvert_exporter": "python",
   "pygments_lexer": "ipython3",
   "version": "3.10.4"
  },
  "orig_nbformat": 4,
  "vscode": {
   "interpreter": {
    "hash": "c81d839d3c4227cd770621df97fe8191838af02e7eef185a922d8250cb33d344"
   }
  }
 },
 "nbformat": 4,
 "nbformat_minor": 2
}
