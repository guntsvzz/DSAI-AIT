{
 "cells": [
  {
   "cell_type": "markdown",
   "metadata": {},
   "source": [
    "# Prim - Minimum Spinning Tree"
   ]
  },
  {
   "cell_type": "code",
   "execution_count": 82,
   "metadata": {},
   "outputs": [
    {
     "name": "stdout",
     "output_type": "stream",
     "text": [
      "Queue : [(1, 9999), (2, 9999), (3, 9999), (4, 9999), (0, 0)]\n",
      "Vertex : 0\n",
      "1 --> PI : [-1, 0, None, None, None]\n",
      "2 --> PI : [-1, 0, 0, None, None]\n",
      "3 --> PI : [-1, 0, 0, 0, None]\n",
      "4 --> PI : [-1, 0, 0, 0, 0]\n",
      "\n",
      "Vertex : 2\n",
      "0 --> 1 --> PI : [-1, 2, 0, 0, 0]\n",
      "3 --> PI : [-1, 2, 0, 2, 0]\n",
      "4 --> \n",
      "Vertex : 1\n",
      "0 --> 2 --> 3 --> 4 --> \n",
      "Vertex : 3\n",
      "0 --> 1 --> 2 --> 4 --> \n",
      "Vertex : 4\n",
      "0 --> 1 --> 2 --> 3 --> \n",
      "PI : [-1, 2, 0, 2, 0]\n"
     ]
    }
   ],
   "source": [
    "#use adjacency matrix (undirected)\n",
    "#why undirected?\n",
    "#use example 1\n",
    "    # 0, 1, 2, 3, 4\n",
    "G = [[0, 2, 2, 5, 3], #0\n",
    "     [2, 0, 1, 4, 4], #1\n",
    "     [2, 1, 0, 3, 5], #2\n",
    "     [5, 4, 3, 0, 9], #3\n",
    "     [3, 4, 5, 9 ,0]] #4\n",
    "\n",
    "INF = 9999\n",
    "N = len(G)\n",
    "#r.key = 0\n",
    "r = 0\n",
    "\n",
    "#put all vertex into the queue\n",
    "#for each vertex\n",
    "#set key = infiinity \n",
    " \n",
    "import enum\n",
    "from heapdict import heapdict #pip install heapdict\n",
    "\n",
    "Q = heapdict()\n",
    "for i in range(N):\n",
    "    Q[i] = INF\n",
    "Q[r] = 0 \n",
    "\n",
    "print(f'Queue : {list(Q.items())}')\n",
    "# u = Q.popitem()[0] #why 0 ==> 0 refers to priority, 1 refers to the node\n",
    "# print(f'Queue : {list(Q.items())}')\n",
    "# u = Q.popitem()[0] #why 0 ==> 0 refers to priority, 1 refers to the node\n",
    "# print(f'Queue : {list(Q.items())}')\n",
    "\n",
    "#set pi = NIL\n",
    "#pi = [None, None, None, None, None]\n",
    "pi = [None] * N\n",
    "# set the pi of r = -1 or anything you like \n",
    "pi[r] = -1\n",
    "# print(f'PI : {pi}')\n",
    "def adj(G, u):\n",
    "    neighbors = []\n",
    "    for index, values in enumerate(G[u]):\n",
    "        if values != 0:\n",
    "            neighbors.append(index) \n",
    "    return neighbors #list() #return only index\n",
    "\n",
    "def v_in_q(Q,v):\n",
    "    #get the keys in 0\n",
    "    keys = list(Q.keys()) #you can actually do if v in Q\n",
    "    #check if v in keys\n",
    "    return v in keys\n",
    "\n",
    "#while q is not empty \n",
    "while (Q):\n",
    "    #u = extradct_min  (dict has no extract_min; you have to suffer from)\n",
    "    u = Q.popitem()[0]\n",
    "    print(f'Vertex : {u}')\n",
    "    #for v in adj[u]\n",
    "    for v in adj(G, u):\n",
    "        print(v, end = \" --> \")\n",
    "        if v_in_q(Q,v) and (G[u][v] < Q[v]):   \n",
    "            pi[v] = u\n",
    "            Q[v] = G[u][v]\n",
    "            print(f'PI : {pi}')\n",
    "    print()  \n",
    "        #if v in Q and w(u,v) < v.key:\n",
    "            #v.pi = u\n",
    "            #v.key = w(u,v)\n",
    "#print(pi)\n",
    "print(f'PI : {pi}')"
   ]
  },
  {
   "cell_type": "code",
   "execution_count": 32,
   "metadata": {},
   "outputs": [],
   "source": [
    "    #you have to suffer writing your own min function ===> O(n)\n",
    "    #priority queue can do extract_min in O(logn)\n",
    "    #we should use heap!!!\n",
    "    #this morning I already, there are three ways\n",
    "    #from Queue import PriorityQueue (this one easiest, but not a dictionary.... )\n",
    "    #import heapq (difficult to use, because you can do something Q[v])\n",
    "    #heapq instead 0:0; 1:999 ==> 0:0; 999:1\n",
    "    #import heapdict (is our hero, basically dictionary + heap)"
   ]
  }
 ],
 "metadata": {
  "kernelspec": {
   "display_name": "Python 3.10.4 64-bit",
   "language": "python",
   "name": "python3"
  },
  "language_info": {
   "codemirror_mode": {
    "name": "ipython",
    "version": 3
   },
   "file_extension": ".py",
   "mimetype": "text/x-python",
   "name": "python",
   "nbconvert_exporter": "python",
   "pygments_lexer": "ipython3",
   "version": "3.10.4"
  },
  "orig_nbformat": 4,
  "vscode": {
   "interpreter": {
    "hash": "c81d839d3c4227cd770621df97fe8191838af02e7eef185a922d8250cb33d344"
   }
  }
 },
 "nbformat": 4,
 "nbformat_minor": 2
}
