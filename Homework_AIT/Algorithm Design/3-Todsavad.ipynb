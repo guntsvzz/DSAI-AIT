{
 "cells": [
  {
   "cell_type": "markdown",
   "metadata": {},
   "source": [
    "Heapsort"
   ]
  },
  {
   "cell_type": "code",
   "execution_count": 84,
   "metadata": {},
   "outputs": [],
   "source": [
    "def Left(i):\n",
    "    return 2*i+1\n",
    "\n",
    "def Right(i):\n",
    "    return 2*i+2\n",
    "    \n",
    "def Max_Heapify(ls, heap_size, i):\n",
    "    l = Left(i)\n",
    "    r = Right(i)\n",
    "    print(f'{i, l, r = }')\n",
    "    #Left child and is greater than root\n",
    "    if l <= heap_size and ls[l] > ls[i]:\n",
    "        largest = l\n",
    "    else:\n",
    "        largest = i\n",
    "\n",
    "    #Right child and is greater than root\n",
    "    if r <= heap_size and ls[r] > ls[largest]:\n",
    "        largest = r\n",
    "        \n",
    "    #Swap root\n",
    "    if largest != i:\n",
    "        #exchange ls[i] with ls[largest] SWAP\n",
    "        ls[i], ls[largest] = ls[largest], ls[i]\n",
    "        print(f'{ls[i], ls[largest] = }')\n",
    "        Max_Heapify(ls, heap_size, largest)\n",
    "\n",
    "def Build_Max_Heap(ls):\n",
    "    for i in range(heap_size//2-1, -1, -1): #len(ls)//2-1 due to starting index 0 \n",
    "        print('Round : ', i)\n",
    "        Max_Heapify(ls, heap_size, i)\n",
    "    \n",
    "def Heapsort(ls):\n",
    "    global heap_size \n",
    "    heap_size = len(ls)\n",
    "    \n",
    "    Build_Max_Heap(ls)\n",
    "\n",
    "    for i in range(heap_size-1, 0, -1):\n",
    "    #exchange ls[1] with ls[i] SWAP\n",
    "        ls[i], ls[0] = ls[0], ls[i]\n",
    "        Max_Heapify(ls, i, 0)"
   ]
  },
  {
   "cell_type": "code",
   "execution_count": 85,
   "metadata": {},
   "outputs": [
    {
     "name": "stdout",
     "output_type": "stream",
     "text": [
      "[63, 86, 32, 100, 65, 27, 74, 83]\n"
     ]
    }
   ],
   "source": [
    "import random\n",
    "list_prep = [random.randint(0,100) for j in range(8)]\n",
    "print(list_prep)\n",
    "Heapsort(list_prep)\n",
    "print(list_prep)"
   ]
  },
  {
   "cell_type": "code",
   "execution_count": 8,
   "metadata": {},
   "outputs": [],
   "source": [
    "def Max_Heapify(ls, heap_size, i):\n",
    "    # Find largest among root and children\n",
    "    l = 2 * i + 1\n",
    "    r = 2 * i + 2\n",
    "\n",
    "    if l < heap_size and ls[l] > ls[i]:\n",
    "        largest = l\n",
    "    else:\n",
    "        largest = i\n",
    "\n",
    "    if r < heap_size and ls[r] > ls[largest]:\n",
    "        largest = r\n",
    "\n",
    "    print(f'{largest,l,r = }')\n",
    "\n",
    "    if largest != i:\n",
    "        ls[i], ls[largest] = ls[largest], ls[i]\n",
    "        print(f'{ls[i], ls[largest] = }')\n",
    "        Max_Heapify(ls, heap_size, largest)\n",
    "    \n",
    "def Build_Max_Heap(ls,heap_size):\n",
    "    for i in range(heap_size//2, -1, -1):\n",
    "        print('Round', i)\n",
    "        Max_Heapify(ls, heap_size, i)\n",
    "        \n",
    "def HeapSort(ls):\n",
    "    heap_size = len(ls)\n",
    "  \n",
    "    Build_Max_Heap(ls,heap_size)\n",
    "\n",
    "    for i in range(heap_size-1, 0, -1):\n",
    "        ls[i], ls[0] = ls[0], ls[i] \n",
    "        Max_Heapify(ls, i, 0)"
   ]
  },
  {
   "cell_type": "code",
   "execution_count": 9,
   "metadata": {},
   "outputs": [
    {
     "name": "stdout",
     "output_type": "stream",
     "text": [
      "Round 4\n",
      "largest,l,r = (4, 9, 10)\n",
      "Round 3\n",
      "largest,l,r = (7, 7, 8)\n",
      "ls[i], ls[largest] = (62, 37)\n",
      "largest,l,r = (7, 15, 16)\n",
      "Round 2\n",
      "largest,l,r = (5, 5, 6)\n",
      "ls[i], ls[largest] = (100, 55)\n",
      "largest,l,r = (5, 11, 12)\n",
      "Round 1\n",
      "largest,l,r = (4, 3, 4)\n",
      "ls[i], ls[largest] = (68, 41)\n",
      "largest,l,r = (4, 9, 10)\n",
      "Round 0\n",
      "largest,l,r = (2, 1, 2)\n",
      "ls[i], ls[largest] = (100, 88)\n",
      "largest,l,r = (2, 5, 6)\n",
      "largest,l,r = (2, 1, 2)\n",
      "ls[i], ls[largest] = (88, 37)\n",
      "largest,l,r = (6, 5, 6)\n",
      "ls[i], ls[largest] = (75, 37)\n",
      "largest,l,r = (6, 13, 14)\n",
      "largest,l,r = (2, 1, 2)\n",
      "ls[i], ls[largest] = (75, 37)\n",
      "largest,l,r = (5, 5, 6)\n",
      "ls[i], ls[largest] = (55, 37)\n",
      "largest,l,r = (5, 11, 12)\n",
      "largest,l,r = (1, 1, 2)\n",
      "ls[i], ls[largest] = (68, 37)\n",
      "largest,l,r = (3, 3, 4)\n",
      "ls[i], ls[largest] = (62, 37)\n",
      "largest,l,r = (3, 7, 8)\n",
      "largest,l,r = (1, 1, 2)\n",
      "ls[i], ls[largest] = (62, 41)\n",
      "largest,l,r = (1, 3, 4)\n",
      "largest,l,r = (2, 1, 2)\n",
      "ls[i], ls[largest] = (55, 37)\n",
      "largest,l,r = (2, 5, 6)\n",
      "largest,l,r = (1, 1, 2)\n",
      "ls[i], ls[largest] = (41, 37)\n",
      "largest,l,r = (1, 3, 4)\n",
      "largest,l,r = (0, 1, 2)\n",
      "Heapsort array : [37, 41, 55, 62, 68, 75, 88, 100]\n"
     ]
    }
   ],
   "source": [
    "import random\n",
    "list_prep = [random.randint(0,100) for j in range(8)]\n",
    "HeapSort(list_prep)\n",
    "print(\"Heapsort array :\",list_prep)"
   ]
  }
 ],
 "metadata": {
  "kernelspec": {
   "display_name": "Python 3.10.4 64-bit",
   "language": "python",
   "name": "python3"
  },
  "language_info": {
   "codemirror_mode": {
    "name": "ipython",
    "version": 3
   },
   "file_extension": ".py",
   "mimetype": "text/x-python",
   "name": "python",
   "nbconvert_exporter": "python",
   "pygments_lexer": "ipython3",
   "version": "3.10.4"
  },
  "orig_nbformat": 4,
  "vscode": {
   "interpreter": {
    "hash": "c81d839d3c4227cd770621df97fe8191838af02e7eef185a922d8250cb33d344"
   }
  }
 },
 "nbformat": 4,
 "nbformat_minor": 2
}
