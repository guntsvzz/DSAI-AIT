{
 "cells": [
  {
   "cell_type": "markdown",
   "metadata": {},
   "source": [
    "Heapsort"
   ]
  },
  {
   "cell_type": "code",
   "execution_count": 83,
   "metadata": {},
   "outputs": [],
   "source": [
    "def Left(i):\n",
    "    return 2*i\n",
    "\n",
    "def Right(i):\n",
    "    return 2*i+1\n",
    "    \n",
    "def Max_Heapify(ls,i):\n",
    "    l = Left(i)\n",
    "    r = Right(i)\n",
    "    print(f'{i, l, r = }')\n",
    "    #Left child and is greater than root\n",
    "    if l <= len(ls) and ls[l] > ls[i]:\n",
    "        largest = l\n",
    "    else:\n",
    "        largest = i\n",
    "    #Right child and is greater than root\n",
    "    if r <= len(ls) and ls[r] > ls[largest]:\n",
    "        largest = r\n",
    "    #Swap root\n",
    "    if largest != i:\n",
    "        #exchange ls[i] with ls[largest] SWAP\n",
    "        ls[i], ls[largest] = ls[largest], ls[i]\n",
    "        print(f'{ls[i], ls[largest] = }')\n",
    "        Max_Heapify(ls,largest)\n",
    "\n",
    "def Build_Max_Heap(ls):\n",
    "    for i in range(len(ls)//2-1,-1,-1): #len(ls)//2-1 due to starting index 0 \n",
    "        print('Round : ',i+1)\n",
    "        Max_Heapify(ls,i)\n",
    "    \n",
    "def Heapsort(ls):\n",
    "    Build_Max_Heap(ls)\n",
    "    \n",
    "    for i in range(len(ls)-1,0,-1):\n",
    "    #exchange ls[1] with ls[i] SWAP\n",
    "        ls[i], ls[0] = ls[0], ls[i]\n",
    "        # n = n - 1\n",
    "        Max_Heapify(ls,0)\n",
    "        \n",
    "    print(ls)"
   ]
  },
  {
   "cell_type": "code",
   "execution_count": 84,
   "metadata": {},
   "outputs": [
    {
     "name": "stdout",
     "output_type": "stream",
     "text": [
      "[93, 55, 34, 35, 59, 79, 30, 10]\n"
     ]
    }
   ],
   "source": [
    "import random\n",
    "list_prep = [random.randint(0,100) for i in range(8)]\n",
    "print(list_prep)"
   ]
  },
  {
   "cell_type": "code",
   "execution_count": 85,
   "metadata": {},
   "outputs": [
    {
     "name": "stdout",
     "output_type": "stream",
     "text": [
      "Round :  4\n",
      "i, l, r = (3, 6, 7)\n",
      "Round :  3\n",
      "i, l, r = (2, 4, 5)\n",
      "ls[i], ls[largest] = (79, 34)\n",
      "i, l, r = (5, 10, 11)\n",
      "Round :  2\n",
      "i, l, r = (1, 2, 3)\n",
      "ls[i], ls[largest] = (79, 55)\n",
      "i, l, r = (2, 4, 5)\n",
      "ls[i], ls[largest] = (59, 55)\n",
      "i, l, r = (4, 8, 9)\n"
     ]
    },
    {
     "ename": "IndexError",
     "evalue": "list index out of range",
     "output_type": "error",
     "traceback": [
      "\u001b[1;31m---------------------------------------------------------------------------\u001b[0m",
      "\u001b[1;31mIndexError\u001b[0m                                Traceback (most recent call last)",
      "\u001b[1;32mc:\\Users\\Guntsv\\Documents\\GitHub\\DSAI-AIT-2022\\Homework_AIT\\Algorithm Design\\3-Todsavad.ipynb Cell 4\u001b[0m in \u001b[0;36m<cell line: 1>\u001b[1;34m()\u001b[0m\n\u001b[1;32m----> <a href='vscode-notebook-cell:/c%3A/Users/Guntsv/Documents/GitHub/DSAI-AIT-2022/Homework_AIT/Algorithm%20Design/3-Todsavad.ipynb#W3sZmlsZQ%3D%3D?line=0'>1</a>\u001b[0m Build_Max_Heap(list_prep)\n",
      "\u001b[1;32mc:\\Users\\Guntsv\\Documents\\GitHub\\DSAI-AIT-2022\\Homework_AIT\\Algorithm Design\\3-Todsavad.ipynb Cell 4\u001b[0m in \u001b[0;36mBuild_Max_Heap\u001b[1;34m(ls)\u001b[0m\n\u001b[0;32m     <a href='vscode-notebook-cell:/c%3A/Users/Guntsv/Documents/GitHub/DSAI-AIT-2022/Homework_AIT/Algorithm%20Design/3-Todsavad.ipynb#W3sZmlsZQ%3D%3D?line=26'>27</a>\u001b[0m \u001b[39mfor\u001b[39;00m i \u001b[39min\u001b[39;00m \u001b[39mrange\u001b[39m(\u001b[39mlen\u001b[39m(ls)\u001b[39m/\u001b[39m\u001b[39m/\u001b[39m\u001b[39m2\u001b[39m\u001b[39m-\u001b[39m\u001b[39m1\u001b[39m,\u001b[39m-\u001b[39m\u001b[39m1\u001b[39m,\u001b[39m-\u001b[39m\u001b[39m1\u001b[39m): \u001b[39m#len(ls)//2-1 due to starting index 0 \u001b[39;00m\n\u001b[0;32m     <a href='vscode-notebook-cell:/c%3A/Users/Guntsv/Documents/GitHub/DSAI-AIT-2022/Homework_AIT/Algorithm%20Design/3-Todsavad.ipynb#W3sZmlsZQ%3D%3D?line=27'>28</a>\u001b[0m     \u001b[39mprint\u001b[39m(\u001b[39m'\u001b[39m\u001b[39mRound : \u001b[39m\u001b[39m'\u001b[39m,i\u001b[39m+\u001b[39m\u001b[39m1\u001b[39m)\n\u001b[1;32m---> <a href='vscode-notebook-cell:/c%3A/Users/Guntsv/Documents/GitHub/DSAI-AIT-2022/Homework_AIT/Algorithm%20Design/3-Todsavad.ipynb#W3sZmlsZQ%3D%3D?line=28'>29</a>\u001b[0m     Max_Heapify(ls,i)\n",
      "\u001b[1;32mc:\\Users\\Guntsv\\Documents\\GitHub\\DSAI-AIT-2022\\Homework_AIT\\Algorithm Design\\3-Todsavad.ipynb Cell 4\u001b[0m in \u001b[0;36mMax_Heapify\u001b[1;34m(ls, i)\u001b[0m\n\u001b[0;32m     <a href='vscode-notebook-cell:/c%3A/Users/Guntsv/Documents/GitHub/DSAI-AIT-2022/Homework_AIT/Algorithm%20Design/3-Todsavad.ipynb#W3sZmlsZQ%3D%3D?line=21'>22</a>\u001b[0m ls[i], ls[largest] \u001b[39m=\u001b[39m ls[largest], ls[i]\n\u001b[0;32m     <a href='vscode-notebook-cell:/c%3A/Users/Guntsv/Documents/GitHub/DSAI-AIT-2022/Homework_AIT/Algorithm%20Design/3-Todsavad.ipynb#W3sZmlsZQ%3D%3D?line=22'>23</a>\u001b[0m \u001b[39mprint\u001b[39m(\u001b[39mf\u001b[39m\u001b[39m'\u001b[39m\u001b[39m{\u001b[39;00mls[i], ls[largest] \u001b[39m= }\u001b[39;00m\u001b[39m'\u001b[39m)\n\u001b[1;32m---> <a href='vscode-notebook-cell:/c%3A/Users/Guntsv/Documents/GitHub/DSAI-AIT-2022/Homework_AIT/Algorithm%20Design/3-Todsavad.ipynb#W3sZmlsZQ%3D%3D?line=23'>24</a>\u001b[0m Max_Heapify(ls,largest)\n",
      "\u001b[1;32mc:\\Users\\Guntsv\\Documents\\GitHub\\DSAI-AIT-2022\\Homework_AIT\\Algorithm Design\\3-Todsavad.ipynb Cell 4\u001b[0m in \u001b[0;36mMax_Heapify\u001b[1;34m(ls, i)\u001b[0m\n\u001b[0;32m     <a href='vscode-notebook-cell:/c%3A/Users/Guntsv/Documents/GitHub/DSAI-AIT-2022/Homework_AIT/Algorithm%20Design/3-Todsavad.ipynb#W3sZmlsZQ%3D%3D?line=21'>22</a>\u001b[0m ls[i], ls[largest] \u001b[39m=\u001b[39m ls[largest], ls[i]\n\u001b[0;32m     <a href='vscode-notebook-cell:/c%3A/Users/Guntsv/Documents/GitHub/DSAI-AIT-2022/Homework_AIT/Algorithm%20Design/3-Todsavad.ipynb#W3sZmlsZQ%3D%3D?line=22'>23</a>\u001b[0m \u001b[39mprint\u001b[39m(\u001b[39mf\u001b[39m\u001b[39m'\u001b[39m\u001b[39m{\u001b[39;00mls[i], ls[largest] \u001b[39m= }\u001b[39;00m\u001b[39m'\u001b[39m)\n\u001b[1;32m---> <a href='vscode-notebook-cell:/c%3A/Users/Guntsv/Documents/GitHub/DSAI-AIT-2022/Homework_AIT/Algorithm%20Design/3-Todsavad.ipynb#W3sZmlsZQ%3D%3D?line=23'>24</a>\u001b[0m Max_Heapify(ls,largest)\n",
      "\u001b[1;32mc:\\Users\\Guntsv\\Documents\\GitHub\\DSAI-AIT-2022\\Homework_AIT\\Algorithm Design\\3-Todsavad.ipynb Cell 4\u001b[0m in \u001b[0;36mMax_Heapify\u001b[1;34m(ls, i)\u001b[0m\n\u001b[0;32m     <a href='vscode-notebook-cell:/c%3A/Users/Guntsv/Documents/GitHub/DSAI-AIT-2022/Homework_AIT/Algorithm%20Design/3-Todsavad.ipynb#W3sZmlsZQ%3D%3D?line=9'>10</a>\u001b[0m \u001b[39mprint\u001b[39m(\u001b[39mf\u001b[39m\u001b[39m'\u001b[39m\u001b[39m{\u001b[39;00mi, l, r \u001b[39m= }\u001b[39;00m\u001b[39m'\u001b[39m)\n\u001b[0;32m     <a href='vscode-notebook-cell:/c%3A/Users/Guntsv/Documents/GitHub/DSAI-AIT-2022/Homework_AIT/Algorithm%20Design/3-Todsavad.ipynb#W3sZmlsZQ%3D%3D?line=10'>11</a>\u001b[0m \u001b[39m#Left child and is greater than root\u001b[39;00m\n\u001b[1;32m---> <a href='vscode-notebook-cell:/c%3A/Users/Guntsv/Documents/GitHub/DSAI-AIT-2022/Homework_AIT/Algorithm%20Design/3-Todsavad.ipynb#W3sZmlsZQ%3D%3D?line=11'>12</a>\u001b[0m \u001b[39mif\u001b[39;00m l \u001b[39m<\u001b[39m\u001b[39m=\u001b[39m \u001b[39mlen\u001b[39m(ls) \u001b[39mand\u001b[39;00m ls[l] \u001b[39m>\u001b[39m ls[i]:\n\u001b[0;32m     <a href='vscode-notebook-cell:/c%3A/Users/Guntsv/Documents/GitHub/DSAI-AIT-2022/Homework_AIT/Algorithm%20Design/3-Todsavad.ipynb#W3sZmlsZQ%3D%3D?line=12'>13</a>\u001b[0m     largest \u001b[39m=\u001b[39m l\n\u001b[0;32m     <a href='vscode-notebook-cell:/c%3A/Users/Guntsv/Documents/GitHub/DSAI-AIT-2022/Homework_AIT/Algorithm%20Design/3-Todsavad.ipynb#W3sZmlsZQ%3D%3D?line=13'>14</a>\u001b[0m \u001b[39melse\u001b[39;00m:\n",
      "\u001b[1;31mIndexError\u001b[0m: list index out of range"
     ]
    }
   ],
   "source": [
    "Build_Max_Heap(list_prep)\n",
    "#  Heapsort(list_prep)"
   ]
  },
  {
   "cell_type": "code",
   "execution_count": 46,
   "metadata": {},
   "outputs": [
    {
     "name": "stdout",
     "output_type": "stream",
     "text": [
      "largest,l,r = (3, 7, 8)\n",
      "largest,l,r = (2, 5, 6)\n",
      "arr[i], arr[largest] = (10, 9)\n",
      "largest,l,r = (5, 11, 12)\n",
      "largest,l,r = (1, 3, 4)\n",
      "largest,l,r = (0, 1, 2)\n",
      "arr[i], arr[largest] = (12, 1)\n",
      "largest,l,r = (1, 3, 4)\n",
      "arr[i], arr[largest] = (6, 1)\n",
      "largest,l,r = (4, 9, 10)\n",
      "largest,l,r = (0, 1, 2)\n",
      "arr[i], arr[largest] = (10, 9)\n",
      "largest,l,r = (2, 5, 6)\n",
      "largest,l,r = (0, 1, 2)\n",
      "arr[i], arr[largest] = (9, 1)\n",
      "largest,l,r = (2, 5, 6)\n",
      "largest,l,r = (0, 1, 2)\n",
      "arr[i], arr[largest] = (6, 5)\n",
      "largest,l,r = (1, 3, 4)\n",
      "largest,l,r = (0, 1, 2)\n",
      "arr[i], arr[largest] = (5, 1)\n",
      "largest,l,r = (1, 3, 4)\n",
      "largest,l,r = (0, 1, 2)\n",
      "Sorted array is [1, 5, 6, 9, 10, 12]\n"
     ]
    }
   ],
   "source": [
    "def heapify(arr, n, i):\n",
    "    # Find largest among root and children\n",
    "    largest = i\n",
    "    l = 2 * i + 1\n",
    "    r = 2 * i + 2\n",
    "    print(f'{largest,l,r = }')\n",
    "    if l < n and arr[i] < arr[l]:\n",
    "        largest = l\n",
    "  \n",
    "    if r < n and arr[largest] < arr[r]:\n",
    "        largest = r\n",
    "  \n",
    "    # If root is not largest, swap with largest and continue heapifying\n",
    "    if largest != i:\n",
    "        arr[i], arr[largest] = arr[largest], arr[i]\n",
    "        print(f'{arr[i], arr[largest] = }')\n",
    "        heapify(arr, n, largest)\n",
    "  \n",
    "  \n",
    "def heapSort(arr):\n",
    "    n = len(arr)\n",
    "  \n",
    "    # Build max heap\n",
    "    for i in range(n//2, -1, -1):\n",
    "        heapify(arr, n, i)\n",
    "  \n",
    "    for i in range(n-1, 0, -1):\n",
    "        # Swap\n",
    "        arr[i], arr[0] = arr[0], arr[i]\n",
    "  \n",
    "        # Heapify root element\n",
    "        heapify(arr, i, 0)\n",
    "  \n",
    "  \n",
    "arr = [1, 12, 9, 5, 6, 10]\n",
    "heapSort(arr)\n",
    "print(\"Sorted array is\",arr)\n"
   ]
  },
  {
   "cell_type": "code",
   "execution_count": null,
   "metadata": {},
   "outputs": [],
   "source": []
  }
 ],
 "metadata": {
  "kernelspec": {
   "display_name": "Python 3.10.4 64-bit",
   "language": "python",
   "name": "python3"
  },
  "language_info": {
   "codemirror_mode": {
    "name": "ipython",
    "version": 3
   },
   "file_extension": ".py",
   "mimetype": "text/x-python",
   "name": "python",
   "nbconvert_exporter": "python",
   "pygments_lexer": "ipython3",
   "version": "3.10.4"
  },
  "orig_nbformat": 4,
  "vscode": {
   "interpreter": {
    "hash": "c81d839d3c4227cd770621df97fe8191838af02e7eef185a922d8250cb33d344"
   }
  }
 },
 "nbformat": 4,
 "nbformat_minor": 2
}
