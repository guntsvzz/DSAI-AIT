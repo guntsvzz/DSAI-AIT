{
 "cells": [
  {
   "cell_type": "markdown",
   "metadata": {},
   "source": [
    "# Sample Machine Learning Midterm With Solution\n",
    "\n",
    "In this exam, you will demonstrate your understanding of the material from the lectures, tutorials, and problem sets.\n",
    "\n",
    "For each question, insert your answer directly in this sheet. When complete, export the sheet as a PDF and upload to Gradescope.\n",
    "\n",
    "Note that you have **2.5 hours** to do the exam. Also note that there is at least one short answer question that you may be able to answer faster than the coding questions. You might consider answering those questions first to get as much credit as possible!\n",
    "\n",
    "## Question 1 (20 points)\n",
    "\n",
    "Suppose you enjoy running for exercise, have great data science skills, and would like to build tools to help runners train effectively. You would like to predict a runner's future performance based on his or her past performances, and perhaps come up with some analytics about his or her fitness (increasing, decreasing, etc.)\n",
    "\n",
    "Consider the training and testing data given in the cell below. The data are measurements of your teacher's runs from mid June to mid September 2019. The $\\mathtt{X}$ data contain variables for pace, distance, average temperature, and the number of hours of rest since the last run. The $\\mathbf{y}$ data are the average heart rate in beats per minute over each run. These data come from Garmin and OpenWeatherMap.\n"
   ]
  },
  {
   "cell_type": "code",
   "execution_count": 24,
   "metadata": {},
   "outputs": [],
   "source": [
    "import numpy as np\n",
    "\n",
    "# Columns:\n",
    "# 0: average pace in minutes per kilometer\n",
    "# 1: distance in meters\n",
    "# 2: avg apparent temperature (Farenheight, includes humidity factor etc.)\n",
    "# 3: number of hours of rest since the last run\n",
    "\n",
    "Xtrain = np.array(\n",
    "      [[5.6041250e+00, 1.0386240e+04, 9.6480003e+01, 1.6693195e+02],\n",
    "       [4.5901036e+00, 3.3501699e+03, 9.0070000e+01, 1.4042222e+01],\n",
    "       [5.5853438e+00, 1.0589420e+04, 9.6894997e+01, 4.9480556e+01],\n",
    "       [8.4602365e+00, 5.2353198e+03, 9.2915001e+01, 4.8527222e+01],\n",
    "       [5.2759314e+00, 1.0260830e+04, 8.0415001e+01, 6.9376945e+01],\n",
    "       [5.0050054e+00, 1.0308060e+04, 7.8995003e+01, 7.2154442e+01],\n",
    "       [5.1679587e+00, 1.0297140e+04, 8.4269997e+01, 2.4243610e+01],\n",
    "       [5.5909653e+00, 1.6628650e+04, 9.5754997e+01, 5.8910278e+01],\n",
    "       [5.3112388e+00, 1.0397030e+04, 9.1875000e+01, 1.2679722e+01],\n",
    "       [5.0704794e+00, 1.0266610e+04, 8.7489998e+01, 4.8466110e+01],\n",
    "       [5.1297836e+00, 8.6998496e+03, 8.6510002e+01, 4.7598888e+01],\n",
    "       [5.8092251e+00, 2.1145150e+04, 9.6199997e+01, 5.9379166e+01],\n",
    "       [5.1203279e+00, 1.0201160e+04, 9.2875000e+01, 8.4886391e+01],\n",
    "       [5.1424460e+00, 1.0161310e+04, 8.9500000e+01, 2.3730000e+01],\n",
    "       [5.9502554e+00, 2.4152381e+04, 8.7389999e+01, 5.9973331e+01],\n",
    "       [5.4752522e+00, 1.2884080e+04, 9.2269997e+01, 3.6443890e+01],\n",
    "       [6.2727389e+00, 6.8037402e+03, 9.0209999e+01, 2.3653889e+01],\n",
    "       [5.6941118e+00, 1.6106010e+04, 8.7489998e+01, 2.4058611e+01],\n",
    "       [5.6941118e+00, 8.0607300e+03, 9.0735001e+01, 5.0604721e+01],\n",
    "       [5.1313629e+00, 1.4493960e+04, 9.4910004e+01, 2.3852777e+01],\n",
    "       [5.8397570e+00, 6.4594302e+03, 9.5209999e+01, 1.5108278e+02],\n",
    "       [6.0342746e+00, 2.1100061e+04, 9.2345001e+01, 1.9518888e+01],\n",
    "       [5.7790108e+00, 1.4495710e+04, 8.3410004e+01, 6.7106941e+01],\n",
    "       [5.4059896e+00, 1.6109050e+04, 8.6989998e+01, 2.4075834e+01],\n",
    "       [8.1819668e+00, 6.5416201e+03, 8.1650002e+01, 2.3606112e+01],\n",
    "       [5.6230321e+00, 8.0613101e+03, 9.4324997e+01, 2.5450277e+01],\n",
    "       [5.9101658e+00, 2.4156170e+04, 9.1650002e+01, 3.4091110e+01],\n",
    "       [5.1313629e+00, 1.4496380e+04, 8.9084999e+01, 3.6194443e+01],\n",
    "       [5.6650805e+00, 8.0576001e+03, 8.5985001e+01, 2.3728056e+01],\n",
    "       [5.7991180e+00, 1.6350690e+04, 8.9775002e+01, 4.7979168e+01],\n",
    "       [5.8234339e+00, 8.0631299e+03, 9.4845001e+01, 2.6273333e+01],\n",
    "       [5.7254095e+00, 2.5760990e+04, 9.6279999e+01, 3.4454166e+01],\n",
    "       [5.4324207e+00, 1.2948430e+04, 9.0654999e+01, 3.6110554e+01],\n",
    "       [5.7097182e+00, 8.0617100e+03, 8.5294998e+01, 2.3565277e+01],\n",
    "       [5.6727929e+00, 1.2387530e+04, 9.2535004e+01, 2.4852501e+01],\n",
    "       [5.4024849e+00, 8.1778799e+03, 8.8980003e+01, 4.7656387e+01],\n",
    "       [5.5242515e+00, 1.9322131e+04, 7.9985001e+01, 4.6826668e+01],\n",
    "       [5.1234756e+00, 1.6099910e+04, 8.3794998e+01, 2.4853611e+01],\n",
    "       [5.8418040e+00, 6.7139800e+03, 8.3955002e+01, 2.4078611e+01],\n",
    "       [5.5151114e+00, 1.7712240e+04, 8.5815002e+01, 2.3572500e+01]])\n",
    "\n",
    "# Outcome: average heart rate, in beats per minute\n",
    "\n",
    "ytrain = np.array([[150., 146., 148., 152., 147., 152., 151., 144., 149., 146., 144.,\n",
    "       141., 151., 150., 140., 147., 133., 144., 129., 154., 146., 141.,\n",
    "       155., 151., 111., 138., 141., 151., 134., 150., 134., 150., 149.,\n",
    "       134., 140., 137., 141., 150., 129., 143.]])\n",
    "\n",
    "Xtest = np.array([[5.6516337e+00, 1.1277530e+04, 9.4644997e+01, 5.3126389e+01],\n",
    "       [5.9737158e+00, 2.8977260e+04, 9.4230003e+01, 2.0872499e+01],\n",
    "       [5.4094992e+00, 1.1285160e+04, 7.9794998e+01, 4.6364723e+01],\n",
    "       [5.3885121e+00, 1.9334391e+04, 8.2080002e+01, 2.2815277e+01],\n",
    "       [4.9500046e+00, 1.6110120e+04, 8.3410004e+01, 4.8843613e+01],\n",
    "       [5.9269800e+00, 8.0592202e+03, 9.9250000e+01, 2.7060556e+01],\n",
    "       [6.0496063e+00, 3.2190711e+04, 9.3800003e+01, 2.4073334e+01],\n",
    "       [6.6427526e+00, 9.8029502e+03, 8.5150002e+01, 4.4903057e+01],\n",
    "       [5.4112554e+00, 1.0247100e+04, 8.1955002e+01, 2.4426390e+01],\n",
    "       [5.5853438e+00, 2.2543590e+04, 8.4849998e+01, 2.3573610e+01],\n",
    "       [4.0709982e+00, 2.5134600e+03, 9.4324997e+01, 2.7191111e+01],\n",
    "       [5.9038849e+00, 9.6685303e+03, 8.8099998e+01, 2.3758333e+01],\n",
    "       [5.5315852e+00, 1.9787490e+04, 9.7684998e+01, 3.3159168e+01],\n",
    "       [5.1062093e+00, 1.2883740e+04, 7.9375000e+01, 5.9931667e+01],\n",
    "       [6.1591525e+00, 9.6694502e+03, 8.2260002e+01, 2.4936388e+01],\n",
    "       [5.4914880e+00, 1.2887790e+04, 9.7154999e+01, 5.1264168e+01]])\n",
    "\n",
    "ytest = np.array([[134., 144., 145., 142., 153., 130., 139., 122., 141., 140., 129.,\n",
    "       129., 142., 143., 122., 141.]])\n"
   ]
  },
  {
   "cell_type": "markdown",
   "metadata": {},
   "source": [
    "(Q1 continued) **Do the following:**\n",
    "\n",
    "1. **Build a linear regresion model for the training data. Give the optimal parameter vector $\\mathbf{\\theta}$ below:**"
   ]
  },
  {
   "cell_type": "code",
   "execution_count": 38,
   "metadata": {},
   "outputs": [],
   "source": [
    "def normal_equation(X,y):\n",
    "    theta_normal = np.linalg.inv(X.T @ X) @ X.T @ y\n",
    "    return theta_normal"
   ]
  },
  {
   "cell_type": "code",
   "execution_count": 39,
   "metadata": {},
   "outputs": [
    {
     "data": {
      "text/plain": [
       "((40, 5), (40, 1))"
      ]
     },
     "execution_count": 39,
     "metadata": {},
     "output_type": "execute_result"
    }
   ],
   "source": [
    "#X_train,y_train\n",
    "m = Xtrain.shape[0]\n",
    "X_train = np.insert(Xtrain,0,1,axis=1)\n",
    "y_train = ytrain.T\n",
    "X_train.shape,y_train.shape"
   ]
  },
  {
   "cell_type": "code",
   "execution_count": 40,
   "metadata": {},
   "outputs": [
    {
     "name": "stdout",
     "output_type": "stream",
     "text": [
      "[[ 1.47941323e+02]\n",
      " [-5.41671644e+00]\n",
      " [ 3.19000792e-04]\n",
      " [ 2.18578976e-01]\n",
      " [ 6.18725326e-02]]\n"
     ]
    }
   ],
   "source": [
    "theta = normal_equation(X_train,y_train)\n",
    "print(theta)"
   ]
  },
  {
   "cell_type": "markdown",
   "metadata": {},
   "source": [
    "2. **Plot predicted heart rate against actual heart rate for the training set and the test set using these parameters.**"
   ]
  },
  {
   "cell_type": "code",
   "execution_count": 41,
   "metadata": {},
   "outputs": [],
   "source": [
    "def hypothesis(X,theta):\n",
    "    yhat =  X @ theta\n",
    "    return yhat"
   ]
  },
  {
   "cell_type": "code",
   "execution_count": 42,
   "metadata": {},
   "outputs": [
    {
     "data": {
      "text/plain": [
       "((16, 5), (16, 1))"
      ]
     },
     "execution_count": 42,
     "metadata": {},
     "output_type": "execute_result"
    }
   ],
   "source": [
    "#X_test,y_test\n",
    "m2 = Xtest.shape[0]\n",
    "X_test = np.insert(Xtest,0,1,axis=1)\n",
    "y_test = ytest.T\n",
    "X_test.shape,y_test.shape"
   ]
  },
  {
   "cell_type": "code",
   "execution_count": 43,
   "metadata": {},
   "outputs": [],
   "source": [
    "yhat_train = hypothesis(X_train,theta)\n",
    "yhat_test = hypothesis(X_test,theta)"
   ]
  },
  {
   "cell_type": "code",
   "execution_count": 44,
   "metadata": {},
   "outputs": [],
   "source": [
    "def rmse(X,yhat,y):\n",
    "    m = X.shape[0]\n",
    "    return np.sqrt((yhat - y).T @ (yhat - y) / m)\n",
    "\n",
    "rmse_train = rmse(X_train,yhat_train,y_train)\n",
    "rmse_test  = rmse(X_test,yhat_test,y_test)"
   ]
  },
  {
   "cell_type": "code",
   "execution_count": 50,
   "metadata": {},
   "outputs": [],
   "source": [
    "import matplotlib.pyplot as plt\n",
    "def predict_plot(y,yhat,rmse,text='Train'):\n",
    "    miny,maxy = 100,160\n",
    "    plt.plot(y, yhat, 'ro')\n",
    "    plt.plot([miny, maxy],[miny, maxy], 'k-')\n",
    "    plt.xlim([miny, maxy])\n",
    "    plt.xlabel('Actual')\n",
    "    plt.ylabel('Predicted')\n",
    "    plt.axis('equal')\n",
    "    plt.title(f'{text} set predictions')\n",
    "    plt.text(140, 110, 'RMSE: %.3f' % rmse, fontsize=12)"
   ]
  },
  {
   "cell_type": "code",
   "execution_count": 46,
   "metadata": {},
   "outputs": [
    {
     "data": {
      "text/plain": [
       "Text(140, 110, 'RMSE: 9.448')"
      ]
     },
     "execution_count": 46,
     "metadata": {},
     "output_type": "execute_result"
    },
    {
     "data": {
      "image/png": "[encoded data removed]",
      "text/plain": [
       "<Figure size 1080x360 with 2 Axes>"
      ]
     },
     "metadata": {
      "needs_background": "light"
     },
     "output_type": "display_data"
    }
   ],
   "source": [
    "import matplotlib.pyplot as plt\n",
    "\n",
    "plt.figure(figsize=(15, 5))\n",
    "miny,maxy = 100,160\n",
    "\n",
    "plt.subplot(1,2,1)\n",
    "plt.plot(y_train, yhat_train, 'ro')\n",
    "plt.plot([miny, maxy],[miny, maxy], 'k-')\n",
    "plt.xlim([miny, maxy])\n",
    "plt.xlabel('Actual')\n",
    "plt.ylabel('Predicted')\n",
    "plt.axis('equal')\n",
    "plt.title('Training set predictions')\n",
    "plt.text(140, 110, 'RMSE: %.3f' % rmse_train, fontsize=12)\n",
    "\n",
    "plt.subplot(1,2,2)\n",
    "plt.plot(y_test, yhat_test, 'ro')\n",
    "plt.plot([miny, maxy],[miny, maxy], 'k-')\n",
    "plt.xlim([miny, maxy])\n",
    "plt.xlabel('Actual')\n",
    "plt.axis('equal')\n",
    "plt.title('Test set predictions')\n",
    "plt.text(140, 110, 'RMSE: %.3f' % rmse_test, fontsize=12)"
   ]
  },
  {
   "cell_type": "markdown",
   "metadata": {},
   "source": [
    "## Question 2 (20 points)\n",
    "\n",
    "As it turns out, there is one outlier in the training data, when Matt's heart rate monitor was not fixed correctly against the skin, resulting in a strange average heart rate.\n",
    "\n",
    "**Do the following:**\n",
    "\n",
    "1. **Plot pace (column 0) against heart rate ($\\textbf{y}$) for the training data.**"
   ]
  },
  {
   "cell_type": "code",
   "execution_count": 53,
   "metadata": {},
   "outputs": [
    {
     "data": {
      "text/plain": [
       "Text(0, 0.5, 'Average heart rate')"
      ]
     },
     "execution_count": 53,
     "metadata": {},
     "output_type": "execute_result"
    },
    {
     "data": {
      "image/png": "[encoded data removed]",
      "text/plain": [
       "<Figure size 576x360 with 1 Axes>"
      ]
     },
     "metadata": {
      "needs_background": "light"
     },
     "output_type": "display_data"
    }
   ],
   "source": [
    "plt.figure(figsize=(8, 5))\n",
    "plt.plot(Xtrain[:,0], ytrain.T, 'ro')\n",
    "plt.xlabel('Pace (min/km)')\n",
    "plt.ylabel('Average heart rate')"
   ]
  },
  {
   "cell_type": "markdown",
   "metadata": {},
   "source": [
    "2. **Give the outlier point's data here and explain why it does not seem to be consistent with the other data.**"
   ]
  },
  {
   "cell_type": "markdown",
   "metadata": {},
   "source": [
    "The outlier point is the one in the upper right corner of the previous plot. The pace is very slow, so the heart rate should be correspondingly low (like the other point in the lower right corner of the plot) but it is not. The actual data point is the fourth row of Xtest and fourth element of ytest:\n",
    "\n",
    "$$\\textbf{x} = \\begin{bmatrix} 8.46 & 5235 & 92.9 & 48.5 \\end{bmatrix}^T, \\; \\; y = 152$$"
   ]
  },
  {
   "cell_type": "markdown",
   "metadata": {},
   "source": [
    "3. **Build a new regression model without this point, and make a new plot of predicted versus actual heart rate for the training set and test set using the new parameters.**"
   ]
  },
  {
   "cell_type": "code",
   "execution_count": 65,
   "metadata": {},
   "outputs": [
    {
     "name": "stdout",
     "output_type": "stream",
     "text": [
      "[[ 1.94717362e+02]\n",
      " [-1.18951841e+01]\n",
      " [ 5.31371438e-04]\n",
      " [ 6.17633760e-02]\n",
      " [ 6.32548836e-02]]\n"
     ]
    }
   ],
   "source": [
    "#Clean Data\n",
    "X_clean = np.concatenate([X_train[0:3,:], X_train[4:,:]], 0)\n",
    "y_clean = np.concatenate([y_train[0:3,:], y_train[4:,:]], 0)\n",
    "\n",
    "m_clean = X_clean.shape[0]\n",
    "\n",
    "theta_clean = normal_equation(X_clean,y_clean)\n",
    "print(theta_clean)\n",
    "\n",
    "yhat_clean_train = hypothesis(X_clean,theta_clean)\n",
    "yhat_clean_test = hypothesis(X_test,theta_clean)\n",
    "\n",
    "m_clean = X_clean.shape[0]\n",
    "\n",
    "rmse_clean_train = rmse(X_clean,yhat_clean_train,y_clean)\n",
    "rmse_clean_test = rmse(X_test,yhat_clean_test,y_test)"
   ]
  },
  {
   "cell_type": "code",
   "execution_count": 66,
   "metadata": {},
   "outputs": [
    {
     "data": {
      "text/plain": [
       "Text(140, 110, 'RMSE: 8.943')"
      ]
     },
     "execution_count": 66,
     "metadata": {},
     "output_type": "execute_result"
    },
    {
     "data": {
      "image/png": "[encoded data removed]",
      "text/plain": [
       "<Figure size 1080x360 with 2 Axes>"
      ]
     },
     "metadata": {
      "needs_background": "light"
     },
     "output_type": "display_data"
    }
   ],
   "source": [
    "import matplotlib.pyplot as plt\n",
    "\n",
    "plt.figure(figsize=(15, 5))\n",
    "miny,maxy = 100,160\n",
    "\n",
    "plt.subplot(1,2,1)\n",
    "plt.plot(y_clean, yhat_clean_train, 'ro')\n",
    "plt.plot([miny, maxy],[miny, maxy], 'k-')\n",
    "plt.xlim([miny, maxy])\n",
    "plt.xlabel('Actual')\n",
    "plt.ylabel('Predicted')\n",
    "plt.axis('equal')\n",
    "plt.title('Training set predictions')\n",
    "plt.text(140, 110, 'RMSE: %.3f' % rmse_clean_train, fontsize=12)\n",
    "\n",
    "plt.subplot(1,2,2)\n",
    "plt.plot(y_test, yhat_clean_test, 'ro')\n",
    "plt.plot([miny, maxy],[miny, maxy], 'k-')\n",
    "plt.xlim([miny, maxy])\n",
    "plt.xlabel('Actual')\n",
    "plt.axis('equal')\n",
    "plt.title('Test set predictions')\n",
    "plt.text(140, 110, 'RMSE: %.3f' % rmse_clean_test, fontsize=12)"
   ]
  },
  {
   "cell_type": "markdown",
   "metadata": {},
   "source": [
    "4. **Briefly discuss whether the result based on the \"cleaned\" dataset is better than the result on the original data set.**"
   ]
  },
  {
   "cell_type": "markdown",
   "metadata": {},
   "source": [
    "The model based on the cleaned dataset is much better.\n",
    "\n",
    "The original parameter estimate had a positive value for $\\theta_1$, which says that as minutes per kilometer gets bigger (pace is slower), heart rate increases, which is counterintuitive.\n",
    "\n",
    "The new parameter estimate has a negative value for the variable, as we would expect. The value of -11.9 says that if we speed up by one minute per kilometer, heart rate will increase by 12 beats per minute, which seems reasonable.\n",
    "\n",
    "The RMSE on the training set decreased substantially, from 7.0 to 4.6. The test set RMSE also improved albeit not as much, from 9.4 to 8.9. We see that on the test set, the predictions seem to be higher than the actual rates."
   ]
  },
  {
   "cell_type": "markdown",
   "metadata": {},
   "source": [
    "## Question 3 (20 points)\n",
    "\n",
    "Actually, the data in Questions 1 and 2 are not quite independent of each other, as they form a sequence. Performance in a sport improves with training over time.\n",
    "\n",
    "Perhaps we can model the effect of training on performance by adding a new variable to the data set that is the number of days since the training began.\n",
    "\n",
    "Create a new variable indicating the number of days that have passed since training began. Let's name this variable $x_5$, and let $x_4$ be the \"hours of rest since the last run\" variable (last column in the $\\texttt{X}$ data set). Let $x_5^{(0)} = 0$, and let\n",
    "\n",
    "$$x_5^{(i)} = \\frac{1}{24}\\sum_{j=1}^{i-1} x_4^{(i)}.$$ \n",
    "\n",
    "You can calculate this more easily using the recurrence\n",
    "\n",
    "$$x_5^{(i)} = x_5^{(i-1)} + \\frac{1}{24}x_4^{(i)}.$$ \n",
    "\n",
    "**Do the following:**\n",
    "\n",
    "1. **Add the new variable $x_5$ to your test and training datasets. Note that the test data are just a continuation of the series from the training data, so $x_5$ for the first entry in the test set should be $x_5$ for the last entry in the training set plus the number of rest hours for the first entry in the test set divided by 24.**\n",
    "\n",
    "2. **Build a new regression model using the augmented data set, give the optimal parameters $\\mathbf{\\theta}$ here, and show the scatter plot of predicted versus actual outcomes for the training set and test set.**"
   ]
  },
  {
   "cell_type": "code",
   "execution_count": 71,
   "metadata": {},
   "outputs": [
    {
     "data": {
      "text/plain": [
       "((39, 6), (16, 6))"
      ]
     },
     "execution_count": 71,
     "metadata": {},
     "output_type": "execute_result"
    }
   ],
   "source": [
    "#Add the variable\n",
    "# XX = np.concatenate((X_clean, np.zeros((m_clean, 1))), 1)\n",
    "# XX[:5]\n",
    "\n",
    "#X_train\n",
    "XX_train = np.insert(X_clean,X_clean.shape[1], 0 , axis = 1)\n",
    "for i in range(1,m_clean):\n",
    "    XX_train[i,5] = XX_train[i-1,5] + 1/24 * XX_train[i,4]\n",
    "\n",
    "\n",
    "XX_test = np.concatenate((X_test, np.zeros((m2, 1))), 1)\n",
    "XX_test[0,5] = XX_train[m_clean-1,5] + 1/24 * XX_test[0,4]\n",
    "for i in range(1,m2):\n",
    "    XX_test[i,5] = XX_test[i-1,5] + 1/24 * XX_test[i,4]\n",
    "\n",
    "XX_train.shape,XX_test.shape"
   ]
  },
  {
   "cell_type": "code",
   "execution_count": 72,
   "metadata": {},
   "outputs": [
    {
     "name": "stdout",
     "output_type": "stream",
     "text": [
      "[[ 1.95861589e+02]\n",
      " [-1.14127854e+01]\n",
      " [ 5.67831939e-04]\n",
      " [ 3.74071805e-02]\n",
      " [ 5.44479593e-02]\n",
      " [-4.97604330e-02]]\n"
     ]
    }
   ],
   "source": [
    "theta_XX = normal_equation(XX_train,y_clean)\n",
    "print(theta_XX)\n",
    "\n",
    "yhat_XX_train = hypothesis(XX_train,theta_XX)\n",
    "yhat_XX_test = hypothesis(XX_test,theta_XX)\n",
    "\n",
    "rmse_XX_train = rmse(XX_train,yhat_XX_train,y_clean)\n",
    "rmse_XX_test = rmse(XX_test,yhat_XX_test,y_test)"
   ]
  },
  {
   "cell_type": "code",
   "execution_count": 73,
   "metadata": {},
   "outputs": [
    {
     "data": {
      "text/plain": [
       "Text(140, 110, 'RMSE: 7.401')"
      ]
     },
     "execution_count": 73,
     "metadata": {},
     "output_type": "execute_result"
    },
    {
     "data": {
      "image/png": "[encoded data removed]",
      "text/plain": [
       "<Figure size 1080x360 with 2 Axes>"
      ]
     },
     "metadata": {
      "needs_background": "light"
     },
     "output_type": "display_data"
    }
   ],
   "source": [
    "import matplotlib.pyplot as plt\n",
    "\n",
    "plt.figure(figsize=(15, 5))\n",
    "miny,maxy = 100,160\n",
    "\n",
    "plt.subplot(1,2,1)\n",
    "plt.plot(y_clean, yhat_XX_train, 'ro')\n",
    "plt.plot([miny, maxy],[miny, maxy], 'k-')\n",
    "plt.xlim([miny, maxy])\n",
    "plt.xlabel('Actual')\n",
    "plt.ylabel('Predicted')\n",
    "plt.axis('equal')\n",
    "plt.title('Training set predictions')\n",
    "plt.text(140, 110, 'RMSE: %.3f' % rmse_XX_train, fontsize=12)\n",
    "\n",
    "plt.subplot(1,2,2)\n",
    "plt.plot(y_test, yhat_XX_test, 'ro')\n",
    "plt.plot([miny, maxy],[miny, maxy], 'k-')\n",
    "plt.xlim([miny, maxy])\n",
    "plt.xlabel('Actual')\n",
    "plt.axis('equal')\n",
    "plt.title('Test set predictions')\n",
    "plt.text(140, 110, 'RMSE: %.3f' % rmse_XX_test, fontsize=12)"
   ]
  },
  {
   "cell_type": "markdown",
   "metadata": {},
   "source": [
    "The new parameter estimate has a negative load on number of training days, indicating that, as we might expect, when the number of training days increases, the heart rate is decreasing. The value of -0.05 says that every 20 days of training reduces the heart rate by 1 beat per minute. That seems like a small effect, but interestingly, though training RMSE only improves slightly with this variable, from 4.56 to 4.48, test RMSE improves quite a bit, from 8.94 to 7.40. The test set has bigger values for the \"days of training\" variable, so it has more effect on the test set.\n",
    "\n",
    "Lastly, we see that the model is still overpredicting heart rate on the test set, indicating that there is still something missing in our predictors. We might consider adding a \"volume of training\" variable that reflects the amount of training in the past week or so."
   ]
  },
  {
   "cell_type": "markdown",
   "metadata": {},
   "source": [
    "## Question 4 (20 points)\n",
    "\n",
    "Next we consider a classification problem. We know that logistic regression is only capable of modeling linear classification boundaries. In this question, you will synthesize a data set that has a nonlinear classification boundary then show that we can obtain a good logistic regression classifier by transforming the data so that an appropriate classification boundary is linear in the new transformed inputs.\n",
    "\n",
    "**Do the following:**\n",
    "\n",
    "1. **Generate 100 data points for class 1 in which $x_1$ is sampled uniformly from the range [-3..3] and $x_2$ is sampled from a Gaussian with mean $x_1^2 + 2$ and standard deviation 1.0.**\n",
    "\n",
    "2. **Generate 100 data points for class 2 in which $x_1$ is sampled uniformly from the range [-3..3] and $x_2$ is sampled from a Gaussian with mean $x_1^2 + 5$ and standard deviation 1.0.**"
   ]
  },
  {
   "cell_type": "code",
   "execution_count": 77,
   "metadata": {},
   "outputs": [
    {
     "name": "stdout",
     "output_type": "stream",
     "text": [
      "(100, 3) (100, 3)\n"
     ]
    },
    {
     "data": {
      "text/plain": [
       "Text(0.5, 1.0, 'Classification dataset for question 4')"
      ]
     },
     "execution_count": 77,
     "metadata": {},
     "output_type": "execute_result"
    },
    {
     "data": {
      "image/png": "[encoded data removed]",
      "text/plain": [
       "<Figure size 576x360 with 1 Axes>"
      ]
     },
     "metadata": {
      "needs_background": "light"
     },
     "output_type": "display_data"
    }
   ],
   "source": [
    "x11 = np.random.uniform(-3,3,[100,1])\n",
    "x12 = x11 * x11 + 2 + np.random.normal(0, 1, [100, 1])\n",
    "X1 = np.concatenate((np.ones((100,1)), x11, x12), 1) #X0 X1 X2\n",
    "\n",
    "x21 = np.random.uniform(-3,3,[100,1])\n",
    "x22 = x21 * x21 + 5 + np.random.normal(0, 1, [100, 1])\n",
    "X2 = np.concatenate((np.ones((100,1)), x21, x22), 1) #X0 X1 X2\n",
    " \n",
    "print(X1.shape,X2.shape)\n",
    "\n",
    "plt.figure(figsize=(8, 5))\n",
    "plt.plot(X1[:,1], X1[:,2], 'ro', label='Class 1')\n",
    "plt.plot(X2[:,1], X2[:,2], 'bo', label='Class 2')\n",
    "# plt.xlim([-3.5,3.5])\n",
    "plt.legend()\n",
    "plt.title('Classification dataset for question 4')"
   ]
  },
  {
   "cell_type": "markdown",
   "metadata": {},
   "source": [
    "3. **Split the dataset into 80% train and 20% test, estimate a logistic regression model, and report the model's training set accuracy, test set accuracy, and optimal parameters here:**"
   ]
  },
  {
   "cell_type": "code",
   "execution_count": 82,
   "metadata": {},
   "outputs": [
    {
     "data": {
      "text/plain": [
       "((160, 3), (160, 1), (40, 3), (40, 1))"
      ]
     },
     "execution_count": 82,
     "metadata": {},
     "output_type": "execute_result"
    }
   ],
   "source": [
    "X1_train = X1[0:80,:]\n",
    "X1_test = X1[80:,:]\n",
    "X2_train = X2[0:80,:]\n",
    "X2_test = X2[80:,:]\n",
    "\n",
    "X_train = np.concatenate((X1_train, X2_train), 0)\n",
    "y_train = np.concatenate((np.zeros((80,1)), np.ones((80,1))), 0)\n",
    "X_test = np.concatenate((X1_test, X2_test), 0)\n",
    "y_test = np.concatenate((np.zeros((20,1)), np.ones((20,1))), 0)\n",
    "\n",
    "X_train.shape,y_train.shape,X_test.shape,y_test.shape"
   ]
  },
  {
   "cell_type": "code",
   "execution_count": 85,
   "metadata": {},
   "outputs": [],
   "source": [
    "def predict(X, theta):\n",
    "    return 1 / (1 + np.exp(- X @ theta))\n",
    "\n",
    "def loglike(y, ypred):\n",
    "    return sum(y * np.log(ypred) + (1-y) * np.log(1-ypred))[0]\n",
    "\n",
    "def accuracy(y, ypred):\n",
    "    return sum((ypred >= 0.5) == (y == 1)) / y.size"
   ]
  },
  {
   "cell_type": "code",
   "execution_count": 86,
   "metadata": {},
   "outputs": [
    {
     "data": {
      "text/plain": [
       "((40,), (40,))"
      ]
     },
     "execution_count": 86,
     "metadata": {},
     "output_type": "execute_result"
    }
   ],
   "source": [
    "test_idx_0 = (y_test==0).reshape(X_test.shape[0]) \n",
    "test_idx_1 = (y_test==1).reshape(X_test.shape[0])\n",
    "\n",
    "test_idx_0.shape,test_idx_1.shape"
   ]
  },
  {
   "cell_type": "code",
   "execution_count": 88,
   "metadata": {},
   "outputs": [
    {
     "name": "stdout",
     "output_type": "stream",
     "text": [
      "Iter 0: parms (-4.000000, 0.000000, 1.000000), trn like -161.602908 acc 0.737500 test like -43.273998 acc 0.625000 *\n",
      "Iter 1: parms (-4.035683, 0.011881, 0.743821), trn like -108.399940 acc 0.718750 test like -26.779899 acc 0.750000 *\n",
      "Iter 2: parms (-4.049182, 0.022487, 0.608796), trn like -97.387935 acc 0.687500 test like -23.058376 acc 0.700000 *\n",
      "Iter 3: parms (-4.045133, 0.030555, 0.592307), trn like -97.179042 acc 0.662500 test like -22.939921 acc 0.700000 *\n",
      "Iter 4: parms (-4.038677, 0.037689, 0.593642), trn like -97.088839 acc 0.668750 test like -22.938253 acc 0.700000 *\n",
      "Iter 5: parms (-4.032555, 0.044392, 0.592673), trn like -97.007139 acc 0.668750 test like -22.927201 acc 0.700000 *\n",
      "Iter 6: parms (-4.026407, 0.050629, 0.592056), trn like -96.931455 acc 0.668750 test like -22.918911 acc 0.700000 *\n",
      "Iter 7: parms (-4.020289, 0.056442, 0.591385), trn like -96.861006 acc 0.668750 test like -22.911232 acc 0.700000 *\n",
      "Iter 8: parms (-4.014192, 0.061858, 0.590720), trn like -96.795142 acc 0.668750 test like -22.904322 acc 0.700000 *\n",
      "Iter 9: parms (-4.008118, 0.066902, 0.590051), trn like -96.733298 acc 0.668750 test like -22.898011 acc 0.700000 *\n",
      "Iter 10: parms (-4.002067, 0.071599, 0.589380), trn like -96.674983 acc 0.668750 test like -22.892199 acc 0.700000 *\n",
      "Iter 11: parms (-3.996037, 0.075973, 0.588705), trn like -96.619765 acc 0.668750 test like -22.886797 acc 0.700000 *\n",
      "Iter 12: parms (-3.990029, 0.080045, 0.588027), trn like -96.567271 acc 0.668750 test like -22.881729 acc 0.700000 *\n",
      "Iter 13: parms (-3.984044, 0.083835, 0.587346), trn like -96.517173 acc 0.668750 test like -22.876931 acc 0.700000 *\n",
      "Iter 14: parms (-3.978079, 0.087362, 0.586662), trn like -96.469188 acc 0.668750 test like -22.872349 acc 0.700000 *\n",
      "Iter 15: parms (-3.972136, 0.090643, 0.585975), trn like -96.423067 acc 0.668750 test like -22.867937 acc 0.700000 *\n",
      "Iter 16: parms (-3.966214, 0.093695, 0.585284), trn like -96.378592 acc 0.668750 test like -22.863658 acc 0.700000 *\n",
      "Iter 17: parms (-3.960312, 0.096532, 0.584590), trn like -96.335576 acc 0.675000 test like -22.859479 acc 0.700000 *\n",
      "Iter 18: parms (-3.954431, 0.099170, 0.583893), trn like -96.293854 acc 0.681250 test like -22.855375 acc 0.700000 *\n",
      "Iter 19: parms (-3.948571, 0.101620, 0.583193), trn like -96.253281 acc 0.687500 test like -22.851323 acc 0.700000 *\n",
      "Iter 20: parms (-3.942730, 0.103897, 0.582491), trn like -96.213733 acc 0.687500 test like -22.847307 acc 0.700000 *\n",
      "Iter 21: parms (-3.936909, 0.106011, 0.581785), trn like -96.175100 acc 0.687500 test like -22.843311 acc 0.700000 *\n",
      "Iter 22: parms (-3.931107, 0.107972, 0.581078), trn like -96.137286 acc 0.687500 test like -22.839324 acc 0.700000 *\n",
      "Iter 23: parms (-3.925325, 0.109792, 0.580369), trn like -96.100210 acc 0.687500 test like -22.835337 acc 0.700000 *\n",
      "Iter 24: parms (-3.919562, 0.111480, 0.579657), trn like -96.063797 acc 0.687500 test like -22.831342 acc 0.700000 *\n",
      "Iter 25: parms (-3.913817, 0.113044, 0.578944), trn like -96.027984 acc 0.687500 test like -22.827335 acc 0.700000 *\n",
      "Iter 26: parms (-3.908091, 0.114492, 0.578229), trn like -95.992717 acc 0.687500 test like -22.823312 acc 0.700000 *\n",
      "Iter 27: parms (-3.902383, 0.115833, 0.577512), trn like -95.957946 acc 0.687500 test like -22.819268 acc 0.700000 *\n",
      "Iter 28: parms (-3.896693, 0.117073, 0.576795), trn like -95.923629 acc 0.687500 test like -22.815204 acc 0.700000 *\n",
      "Iter 29: parms (-3.891022, 0.118220, 0.576076), trn like -95.889730 acc 0.687500 test like -22.811117 acc 0.700000 *\n",
      "Iter 30: parms (-3.885368, 0.119279, 0.575357), trn like -95.856217 acc 0.687500 test like -22.807008 acc 0.700000 *\n",
      "Iter 31: parms (-3.879731, 0.120256, 0.574636), trn like -95.823061 acc 0.687500 test like -22.802876 acc 0.700000 *\n",
      "Iter 32: parms (-3.874113, 0.121157, 0.573915), trn like -95.790237 acc 0.687500 test like -22.798722 acc 0.700000 *\n",
      "Iter 33: parms (-3.868511, 0.121986, 0.573194), trn like -95.757725 acc 0.687500 test like -22.794548 acc 0.700000 *\n",
      "Iter 34: parms (-3.862926, 0.122749, 0.572472), trn like -95.725504 acc 0.687500 test like -22.790354 acc 0.700000 *\n",
      "Iter 35: parms (-3.857359, 0.123450, 0.571750), trn like -95.693560 acc 0.687500 test like -22.786142 acc 0.700000 *\n",
      "Iter 36: parms (-3.851808, 0.124094, 0.571028), trn like -95.661877 acc 0.687500 test like -22.781914 acc 0.700000 *\n",
      "Iter 37: parms (-3.846274, 0.124683, 0.570306), trn like -95.630442 acc 0.687500 test like -22.777672 acc 0.700000 *\n",
      "Iter 38: parms (-3.840756, 0.125222, 0.569585), trn like -95.599245 acc 0.687500 test like -22.773417 acc 0.700000 *\n",
      "Iter 39: parms (-3.835255, 0.125714, 0.568864), trn like -95.568276 acc 0.687500 test like -22.769150 acc 0.700000 *\n",
      "Iter 40: parms (-3.829770, 0.126162, 0.568143), trn like -95.537527 acc 0.687500 test like -22.764875 acc 0.700000 *\n",
      "Iter 41: parms (-3.824301, 0.126570, 0.567422), trn like -95.506988 acc 0.687500 test like -22.760593 acc 0.700000 *\n",
      "Iter 42: parms (-3.818849, 0.126939, 0.566702), trn like -95.476656 acc 0.681250 test like -22.756305 acc 0.700000 *\n",
      "Iter 43: parms (-3.813413, 0.127273, 0.565983), trn like -95.446522 acc 0.681250 test like -22.752014 acc 0.700000 *\n",
      "Iter 44: parms (-3.807992, 0.127573, 0.565265), trn like -95.416582 acc 0.681250 test like -22.747721 acc 0.700000 *\n",
      "Iter 45: parms (-3.802588, 0.127843, 0.564547), trn like -95.386832 acc 0.681250 test like -22.743428 acc 0.700000 *\n",
      "Iter 46: parms (-3.797199, 0.128084, 0.563831), trn like -95.357268 acc 0.681250 test like -22.739137 acc 0.700000 *\n",
      "Iter 47: parms (-3.791826, 0.128298, 0.563115), trn like -95.327885 acc 0.681250 test like -22.734849 acc 0.700000 *\n",
      "Iter 48: parms (-3.786468, 0.128487, 0.562401), trn like -95.298681 acc 0.681250 test like -22.730566 acc 0.700000 *\n",
      "Iter 49: parms (-3.781127, 0.128653, 0.561687), trn like -95.269653 acc 0.681250 test like -22.726289 acc 0.700000 *\n",
      "Iter 50: parms (-3.775800, 0.128797, 0.560975), trn like -95.240799 acc 0.681250 test like -22.722019 acc 0.700000 *\n",
      "Iter 51: parms (-3.770489, 0.128921, 0.560264), trn like -95.212115 acc 0.681250 test like -22.717758 acc 0.700000 *\n",
      "Iter 52: parms (-3.765194, 0.129027, 0.559555), trn like -95.183600 acc 0.681250 test like -22.713508 acc 0.700000 *\n",
      "Iter 53: parms (-3.759914, 0.129114, 0.558846), trn like -95.155252 acc 0.681250 test like -22.709268 acc 0.700000 *\n",
      "Iter 54: parms (-3.754649, 0.129186, 0.558139), trn like -95.127069 acc 0.681250 test like -22.705041 acc 0.700000 *\n",
      "Iter 55: parms (-3.749399, 0.129242, 0.557434), trn like -95.099050 acc 0.681250 test like -22.700827 acc 0.700000 *\n",
      "Iter 56: parms (-3.744165, 0.129284, 0.556730), trn like -95.071193 acc 0.681250 test like -22.696627 acc 0.700000 *\n",
      "Iter 57: parms (-3.738945, 0.129313, 0.556027), trn like -95.043498 acc 0.681250 test like -22.692442 acc 0.700000 *\n",
      "Iter 58: parms (-3.733741, 0.129329, 0.555326), trn like -95.015962 acc 0.681250 test like -22.688274 acc 0.700000 *\n",
      "Iter 59: parms (-3.728552, 0.129335, 0.554626), trn like -94.988584 acc 0.681250 test like -22.684122 acc 0.700000 *\n",
      "Iter 60: parms (-3.723378, 0.129330, 0.553928), trn like -94.961365 acc 0.681250 test like -22.679987 acc 0.700000 *\n",
      "Iter 61: parms (-3.718219, 0.129315, 0.553232), trn like -94.934301 acc 0.681250 test like -22.675870 acc 0.700000 *\n",
      "Iter 62: parms (-3.713074, 0.129290, 0.552537), trn like -94.907394 acc 0.681250 test like -22.671773 acc 0.700000 *\n",
      "Iter 63: parms (-3.707945, 0.129258, 0.551844), trn like -94.880641 acc 0.681250 test like -22.667694 acc 0.700000 *\n",
      "Iter 64: parms (-3.702831, 0.129217, 0.551153), trn like -94.854042 acc 0.681250 test like -22.663636 acc 0.700000 *\n",
      "Iter 65: parms (-3.697731, 0.129170, 0.550463), trn like -94.827596 acc 0.681250 test like -22.659597 acc 0.700000 *\n",
      "Iter 66: parms (-3.692646, 0.129115, 0.549776), trn like -94.801302 acc 0.681250 test like -22.655580 acc 0.700000 *\n",
      "Iter 67: parms (-3.687576, 0.129054, 0.549089), trn like -94.775160 acc 0.681250 test like -22.651583 acc 0.700000 *\n",
      "Iter 68: parms (-3.682521, 0.128988, 0.548405), trn like -94.749169 acc 0.681250 test like -22.647608 acc 0.700000 *\n",
      "Iter 69: parms (-3.677480, 0.128916, 0.547722), trn like -94.723327 acc 0.681250 test like -22.643655 acc 0.700000 *\n",
      "Iter 70: parms (-3.672454, 0.128839, 0.547041), trn like -94.697636 acc 0.681250 test like -22.639724 acc 0.700000 *\n",
      "Iter 71: parms (-3.667443, 0.128757, 0.546362), trn like -94.672092 acc 0.681250 test like -22.635816 acc 0.700000 *\n",
      "Iter 72: parms (-3.662446, 0.128672, 0.545685), trn like -94.646697 acc 0.681250 test like -22.631930 acc 0.700000 *\n",
      "Iter 73: parms (-3.657464, 0.128582, 0.545010), trn like -94.621450 acc 0.681250 test like -22.628067 acc 0.700000 *\n",
      "Iter 74: parms (-3.652497, 0.128489, 0.544336), trn like -94.596349 acc 0.681250 test like -22.624227 acc 0.700000 *\n",
      "Iter 75: parms (-3.647544, 0.128392, 0.543664), trn like -94.571394 acc 0.681250 test like -22.620411 acc 0.700000 *\n",
      "Iter 76: parms (-3.642606, 0.128292, 0.542994), trn like -94.546585 acc 0.681250 test like -22.616618 acc 0.700000 *\n",
      "Iter 77: parms (-3.637682, 0.128189, 0.542326), trn like -94.521921 acc 0.681250 test like -22.612848 acc 0.700000 *\n",
      "Iter 78: parms (-3.632773, 0.128084, 0.541660), trn like -94.497401 acc 0.681250 test like -22.609103 acc 0.700000 *\n",
      "Iter 79: parms (-3.627878, 0.127976, 0.540996), trn like -94.473025 acc 0.681250 test like -22.605381 acc 0.700000 *\n",
      "Iter 80: parms (-3.622998, 0.127867, 0.540333), trn like -94.448792 acc 0.681250 test like -22.601683 acc 0.700000 *\n",
      "Iter 81: parms (-3.618132, 0.127755, 0.539673), trn like -94.424701 acc 0.681250 test like -22.598009 acc 0.700000 *\n",
      "Iter 82: parms (-3.613280, 0.127641, 0.539014), trn like -94.400752 acc 0.681250 test like -22.594359 acc 0.700000 *\n",
      "Iter 83: parms (-3.608443, 0.127526, 0.538357), trn like -94.376945 acc 0.681250 test like -22.590733 acc 0.700000 *\n",
      "Iter 84: parms (-3.603620, 0.127409, 0.537702), trn like -94.353278 acc 0.681250 test like -22.587131 acc 0.700000 *\n",
      "Iter 85: parms (-3.598812, 0.127290, 0.537049), trn like -94.329752 acc 0.681250 test like -22.583554 acc 0.700000 *\n",
      "Iter 86: parms (-3.594018, 0.127171, 0.536398), trn like -94.306365 acc 0.681250 test like -22.580000 acc 0.700000 *\n",
      "Iter 87: parms (-3.589238, 0.127050, 0.535749), trn like -94.283117 acc 0.681250 test like -22.576471 acc 0.700000 *\n",
      "Iter 88: parms (-3.584473, 0.126928, 0.535101), trn like -94.260007 acc 0.681250 test like -22.572966 acc 0.700000 *\n",
      "Iter 89: parms (-3.579721, 0.126805, 0.534456), trn like -94.237036 acc 0.681250 test like -22.569485 acc 0.700000 *\n",
      "Iter 90: parms (-3.574984, 0.126682, 0.533812), trn like -94.214201 acc 0.681250 test like -22.566029 acc 0.700000 *\n",
      "Iter 91: parms (-3.570262, 0.126557, 0.533171), trn like -94.191504 acc 0.681250 test like -22.562596 acc 0.700000 *\n",
      "Iter 92: parms (-3.565553, 0.126432, 0.532531), trn like -94.168942 acc 0.681250 test like -22.559187 acc 0.700000 *\n",
      "Iter 93: parms (-3.560859, 0.126307, 0.531893), trn like -94.146516 acc 0.681250 test like -22.555803 acc 0.700000 *\n",
      "Iter 94: parms (-3.556178, 0.126181, 0.531257), trn like -94.124225 acc 0.681250 test like -22.552442 acc 0.700000 *\n",
      "Iter 95: parms (-3.551512, 0.126054, 0.530623), trn like -94.102068 acc 0.681250 test like -22.549105 acc 0.700000 *\n",
      "Iter 96: parms (-3.546860, 0.125927, 0.529991), trn like -94.080045 acc 0.681250 test like -22.545792 acc 0.700000 *\n",
      "Iter 97: parms (-3.542222, 0.125800, 0.529361), trn like -94.058155 acc 0.681250 test like -22.542503 acc 0.700000 *\n",
      "Iter 98: parms (-3.537599, 0.125673, 0.528732), trn like -94.036398 acc 0.681250 test like -22.539238 acc 0.700000 *\n",
      "Iter 99: parms (-3.532989, 0.125545, 0.528106), trn like -94.014773 acc 0.681250 test like -22.535996 acc 0.700000 *\n",
      "Iter 100: parms (-3.528393, 0.125417, 0.527481), trn like -93.993280 acc 0.681250 test like -22.532778 acc 0.700000 *\n",
      "Iter 101: parms (-3.523812, 0.125289, 0.526859), trn like -93.971917 acc 0.681250 test like -22.529584 acc 0.700000 *\n",
      "Iter 102: parms (-3.519244, 0.125161, 0.526238), trn like -93.950685 acc 0.681250 test like -22.526413 acc 0.700000 *\n",
      "Iter 103: parms (-3.514691, 0.125033, 0.525619), trn like -93.929583 acc 0.681250 test like -22.523265 acc 0.700000 *\n",
      "Iter 104: parms (-3.510151, 0.124905, 0.525002), trn like -93.908610 acc 0.681250 test like -22.520141 acc 0.700000 *\n",
      "Iter 105: parms (-3.505625, 0.124777, 0.524387), trn like -93.887765 acc 0.681250 test like -22.517039 acc 0.700000 *\n",
      "Iter 106: parms (-3.501113, 0.124649, 0.523774), trn like -93.867049 acc 0.681250 test like -22.513961 acc 0.700000 *\n",
      "Iter 107: parms (-3.496616, 0.124521, 0.523163), trn like -93.846460 acc 0.681250 test like -22.510906 acc 0.700000 *\n",
      "Iter 108: parms (-3.492132, 0.124394, 0.522554), trn like -93.825998 acc 0.681250 test like -22.507874 acc 0.700000 *\n",
      "Iter 109: parms (-3.487662, 0.124266, 0.521946), trn like -93.805663 acc 0.681250 test like -22.504865 acc 0.700000 *\n",
      "Iter 110: parms (-3.483205, 0.124138, 0.521341), trn like -93.785453 acc 0.681250 test like -22.501878 acc 0.700000 *\n",
      "Iter 111: parms (-3.478763, 0.124011, 0.520737), trn like -93.765369 acc 0.681250 test like -22.498914 acc 0.700000 *\n",
      "Iter 112: parms (-3.474334, 0.123884, 0.520136), trn like -93.745409 acc 0.681250 test like -22.495972 acc 0.700000 *\n",
      "Iter 113: parms (-3.469919, 0.123757, 0.519536), trn like -93.725574 acc 0.681250 test like -22.493053 acc 0.700000 *\n",
      "Iter 114: parms (-3.465518, 0.123630, 0.518938), trn like -93.705862 acc 0.681250 test like -22.490156 acc 0.700000 *\n",
      "Iter 115: parms (-3.461131, 0.123504, 0.518342), trn like -93.686273 acc 0.681250 test like -22.487282 acc 0.700000 *\n",
      "Iter 116: parms (-3.456758, 0.123378, 0.517747), trn like -93.666806 acc 0.681250 test like -22.484429 acc 0.700000 *\n",
      "Iter 117: parms (-3.452398, 0.123252, 0.517155), trn like -93.647462 acc 0.681250 test like -22.481599 acc 0.700000 *\n",
      "Iter 118: parms (-3.448052, 0.123126, 0.516565), trn like -93.628239 acc 0.681250 test like -22.478790 acc 0.700000 *\n",
      "Iter 119: parms (-3.443719, 0.123001, 0.515976), trn like -93.609136 acc 0.681250 test like -22.476004 acc 0.700000 *\n",
      "Iter 120: parms (-3.439400, 0.122876, 0.515389), trn like -93.590154 acc 0.681250 test like -22.473238 acc 0.700000 *\n",
      "Iter 121: parms (-3.435095, 0.122751, 0.514805), trn like -93.571291 acc 0.681250 test like -22.470495 acc 0.700000 *\n",
      "Iter 122: parms (-3.430803, 0.122627, 0.514222), trn like -93.552548 acc 0.681250 test like -22.467773 acc 0.700000 *\n",
      "Iter 123: parms (-3.426525, 0.122503, 0.513640), trn like -93.533923 acc 0.681250 test like -22.465072 acc 0.700000 *\n",
      "Iter 124: parms (-3.422261, 0.122379, 0.513061), trn like -93.515416 acc 0.681250 test like -22.462393 acc 0.700000 *\n",
      "Iter 125: parms (-3.418010, 0.122256, 0.512484), trn like -93.497026 acc 0.681250 test like -22.459735 acc 0.700000 *\n",
      "Iter 126: parms (-3.413773, 0.122133, 0.511908), trn like -93.478754 acc 0.681250 test like -22.457098 acc 0.700000 *\n",
      "Iter 127: parms (-3.409549, 0.122011, 0.511334), trn like -93.460597 acc 0.681250 test like -22.454482 acc 0.700000 *\n",
      "Iter 128: parms (-3.405338, 0.121888, 0.510763), trn like -93.442557 acc 0.681250 test like -22.451886 acc 0.700000 *\n",
      "Iter 129: parms (-3.401141, 0.121767, 0.510193), trn like -93.424631 acc 0.681250 test like -22.449312 acc 0.700000 *\n",
      "Iter 130: parms (-3.396958, 0.121645, 0.509624), trn like -93.406820 acc 0.681250 test like -22.446758 acc 0.700000 *\n",
      "Iter 131: parms (-3.392788, 0.121524, 0.509058), trn like -93.389124 acc 0.681250 test like -22.444224 acc 0.700000 *\n",
      "Iter 132: parms (-3.388631, 0.121403, 0.508494), trn like -93.371540 acc 0.681250 test like -22.441711 acc 0.700000 *\n",
      "Iter 133: parms (-3.384488, 0.121283, 0.507931), trn like -93.354070 acc 0.681250 test like -22.439218 acc 0.700000 *\n",
      "Iter 134: parms (-3.380358, 0.121163, 0.507370), trn like -93.336712 acc 0.681250 test like -22.436745 acc 0.700000 *\n",
      "Iter 135: parms (-3.376241, 0.121044, 0.506811), trn like -93.319467 acc 0.681250 test like -22.434293 acc 0.700000 *\n",
      "Iter 136: parms (-3.372138, 0.120924, 0.506254), trn like -93.302332 acc 0.681250 test like -22.431860 acc 0.700000 *\n",
      "Iter 137: parms (-3.368048, 0.120806, 0.505698), trn like -93.285308 acc 0.681250 test like -22.429447 acc 0.700000 *\n",
      "Iter 138: parms (-3.363971, 0.120687, 0.505145), trn like -93.268395 acc 0.681250 test like -22.427054 acc 0.700000 *\n",
      "Iter 139: parms (-3.359907, 0.120570, 0.504593), trn like -93.251591 acc 0.681250 test like -22.424681 acc 0.700000 *\n",
      "Iter 140: parms (-3.355857, 0.120452, 0.504043), trn like -93.234897 acc 0.681250 test like -22.422327 acc 0.700000 *\n",
      "Iter 141: parms (-3.351820, 0.120335, 0.503495), trn like -93.218311 acc 0.681250 test like -22.419992 acc 0.700000 *\n",
      "Iter 142: parms (-3.347796, 0.120218, 0.502949), trn like -93.201833 acc 0.681250 test like -22.417677 acc 0.700000 *\n",
      "Iter 143: parms (-3.343785, 0.120102, 0.502404), trn like -93.185463 acc 0.681250 test like -22.415381 acc 0.700000 *\n",
      "Iter 144: parms (-3.339787, 0.119986, 0.501862), trn like -93.169200 acc 0.681250 test like -22.413104 acc 0.700000 *\n",
      "Iter 145: parms (-3.335802, 0.119870, 0.501321), trn like -93.153043 acc 0.681250 test like -22.410846 acc 0.700000 *\n",
      "Iter 146: parms (-3.331831, 0.119755, 0.500782), trn like -93.136992 acc 0.681250 test like -22.408607 acc 0.700000 *\n",
      "Iter 147: parms (-3.327872, 0.119641, 0.500244), trn like -93.121046 acc 0.681250 test like -22.406387 acc 0.700000 *\n",
      "Iter 148: parms (-3.323927, 0.119526, 0.499709), trn like -93.105206 acc 0.681250 test like -22.404185 acc 0.700000 *\n",
      "Iter 149: parms (-3.319994, 0.119413, 0.499175), trn like -93.089469 acc 0.681250 test like -22.402002 acc 0.700000 *\n",
      "Iter 150: parms (-3.316075, 0.119299, 0.498643), trn like -93.073837 acc 0.681250 test like -22.399837 acc 0.700000 *\n",
      "Iter 151: parms (-3.312168, 0.119186, 0.498113), trn like -93.058308 acc 0.681250 test like -22.397691 acc 0.700000 *\n",
      "Iter 152: parms (-3.308275, 0.119074, 0.497584), trn like -93.042881 acc 0.681250 test like -22.395563 acc 0.700000 *\n",
      "Iter 153: parms (-3.304394, 0.118961, 0.497058), trn like -93.027557 acc 0.681250 test like -22.393453 acc 0.700000 *\n",
      "Iter 154: parms (-3.300526, 0.118850, 0.496533), trn like -93.012334 acc 0.681250 test like -22.391361 acc 0.700000 *\n",
      "Iter 155: parms (-3.296671, 0.118738, 0.496010), trn like -92.997213 acc 0.681250 test like -22.389286 acc 0.700000 *\n",
      "Iter 156: parms (-3.292829, 0.118627, 0.495488), trn like -92.982192 acc 0.681250 test like -22.387230 acc 0.700000 *\n",
      "Iter 157: parms (-3.289000, 0.118517, 0.494969), trn like -92.967271 acc 0.681250 test like -22.385191 acc 0.700000 *\n",
      "Iter 158: parms (-3.285183, 0.118406, 0.494451), trn like -92.952450 acc 0.681250 test like -22.383170 acc 0.700000 *\n",
      "Iter 159: parms (-3.281380, 0.118297, 0.493935), trn like -92.937728 acc 0.681250 test like -22.381167 acc 0.700000 *\n",
      "Iter 160: parms (-3.277589, 0.118187, 0.493420), trn like -92.923105 acc 0.681250 test like -22.379181 acc 0.700000 *\n",
      "Iter 161: parms (-3.273810, 0.118078, 0.492908), trn like -92.908579 acc 0.681250 test like -22.377212 acc 0.700000 *\n",
      "Iter 162: parms (-3.270045, 0.117970, 0.492397), trn like -92.894151 acc 0.681250 test like -22.375260 acc 0.700000 *\n",
      "Iter 163: parms (-3.266292, 0.117862, 0.491888), trn like -92.879820 acc 0.681250 test like -22.373325 acc 0.700000 *\n",
      "Iter 164: parms (-3.262552, 0.117754, 0.491380), trn like -92.865585 acc 0.681250 test like -22.371407 acc 0.700000 *\n",
      "Iter 165: parms (-3.258824, 0.117647, 0.490875), trn like -92.851447 acc 0.681250 test like -22.369506 acc 0.700000 *\n",
      "Iter 166: parms (-3.255109, 0.117540, 0.490371), trn like -92.837404 acc 0.681250 test like -22.367622 acc 0.700000 *\n",
      "Iter 167: parms (-3.251406, 0.117433, 0.489868), trn like -92.823455 acc 0.681250 test like -22.365755 acc 0.700000 *\n",
      "Iter 168: parms (-3.247716, 0.117327, 0.489368), trn like -92.809601 acc 0.681250 test like -22.363904 acc 0.700000 *\n",
      "Iter 169: parms (-3.244039, 0.117222, 0.488869), trn like -92.795841 acc 0.681250 test like -22.362069 acc 0.700000 *\n",
      "Iter 170: parms (-3.240374, 0.117116, 0.488372), trn like -92.782175 acc 0.681250 test like -22.360251 acc 0.700000 *\n",
      "Iter 171: parms (-3.236722, 0.117011, 0.487877), trn like -92.768601 acc 0.681250 test like -22.358449 acc 0.700000 *\n",
      "Iter 172: parms (-3.233082, 0.116907, 0.487383), trn like -92.755120 acc 0.681250 test like -22.356663 acc 0.700000 *\n",
      "Iter 173: parms (-3.229454, 0.116803, 0.486891), trn like -92.741731 acc 0.681250 test like -22.354893 acc 0.700000 *\n",
      "Iter 174: parms (-3.225839, 0.116699, 0.486401), trn like -92.728433 acc 0.681250 test like -22.353139 acc 0.700000 *\n",
      "Iter 175: parms (-3.222236, 0.116596, 0.485912), trn like -92.715225 acc 0.681250 test like -22.351401 acc 0.700000 *\n",
      "Iter 176: parms (-3.218645, 0.116493, 0.485425), trn like -92.702109 acc 0.681250 test like -22.349679 acc 0.700000 *\n",
      "Iter 177: parms (-3.215067, 0.116390, 0.484940), trn like -92.689082 acc 0.681250 test like -22.347972 acc 0.700000 *\n",
      "Iter 178: parms (-3.211501, 0.116288, 0.484456), trn like -92.676144 acc 0.681250 test like -22.346281 acc 0.700000 *\n",
      "Iter 179: parms (-3.207948, 0.116186, 0.483975), trn like -92.663296 acc 0.681250 test like -22.344605 acc 0.700000 *\n",
      "Iter 180: parms (-3.204406, 0.116085, 0.483494), trn like -92.650536 acc 0.681250 test like -22.342945 acc 0.700000 *\n",
      "Iter 181: parms (-3.200877, 0.115984, 0.483016), trn like -92.637863 acc 0.681250 test like -22.341300 acc 0.700000 *\n",
      "Iter 182: parms (-3.197360, 0.115883, 0.482539), trn like -92.625279 acc 0.681250 test like -22.339670 acc 0.700000 *\n",
      "Iter 183: parms (-3.193856, 0.115783, 0.482064), trn like -92.612781 acc 0.681250 test like -22.338055 acc 0.700000 *\n",
      "Iter 184: parms (-3.190363, 0.115683, 0.481590), trn like -92.600369 acc 0.681250 test like -22.336454 acc 0.700000 *\n",
      "Iter 185: parms (-3.186882, 0.115584, 0.481119), trn like -92.588044 acc 0.681250 test like -22.334869 acc 0.700000 *\n",
      "Iter 186: parms (-3.183414, 0.115485, 0.480648), trn like -92.575804 acc 0.681250 test like -22.333299 acc 0.700000 *\n",
      "Iter 187: parms (-3.179957, 0.115386, 0.480180), trn like -92.563649 acc 0.681250 test like -22.331743 acc 0.700000 *\n",
      "Iter 188: parms (-3.176513, 0.115288, 0.479713), trn like -92.551579 acc 0.681250 test like -22.330202 acc 0.700000 *\n",
      "Iter 189: parms (-3.173081, 0.115190, 0.479248), trn like -92.539592 acc 0.681250 test like -22.328675 acc 0.700000 *\n",
      "Iter 190: parms (-3.169660, 0.115093, 0.478784), trn like -92.527689 acc 0.681250 test like -22.327163 acc 0.700000 *\n",
      "Iter 191: parms (-3.166252, 0.114996, 0.478322), trn like -92.515869 acc 0.681250 test like -22.325664 acc 0.700000 *\n",
      "Iter 192: parms (-3.162855, 0.114899, 0.477862), trn like -92.504132 acc 0.681250 test like -22.324180 acc 0.700000 *\n",
      "Iter 193: parms (-3.159471, 0.114803, 0.477403), trn like -92.492477 acc 0.681250 test like -22.322711 acc 0.700000 *\n",
      "Iter 194: parms (-3.156098, 0.114707, 0.476946), trn like -92.480904 acc 0.681250 test like -22.321255 acc 0.700000 *\n",
      "Iter 195: parms (-3.152737, 0.114611, 0.476490), trn like -92.469412 acc 0.681250 test like -22.319813 acc 0.700000 *\n",
      "Iter 196: parms (-3.149388, 0.114516, 0.476036), trn like -92.458000 acc 0.681250 test like -22.318384 acc 0.700000 *\n",
      "Iter 197: parms (-3.146050, 0.114421, 0.475584), trn like -92.446669 acc 0.681250 test like -22.316970 acc 0.700000 *\n",
      "Iter 198: parms (-3.142725, 0.114326, 0.475133), trn like -92.435418 acc 0.681250 test like -22.315569 acc 0.700000 *\n",
      "Iter 199: parms (-3.139411, 0.114232, 0.474684), trn like -92.424246 acc 0.681250 test like -22.314182 acc 0.700000 *\n",
      "Iter 200: parms (-3.136109, 0.114138, 0.474237), trn like -92.413152 acc 0.681250 test like -22.312808 acc 0.700000 *\n",
      "Iter 201: parms (-3.132819, 0.114045, 0.473791), trn like -92.402138 acc 0.681250 test like -22.311447 acc 0.700000 *\n",
      "Iter 202: parms (-3.129540, 0.113952, 0.473347), trn like -92.391201 acc 0.681250 test like -22.310100 acc 0.700000 *\n",
      "Iter 203: parms (-3.126273, 0.113859, 0.472904), trn like -92.380341 acc 0.681250 test like -22.308766 acc 0.700000 *\n",
      "Iter 204: parms (-3.123017, 0.113767, 0.472463), trn like -92.369559 acc 0.681250 test like -22.307444 acc 0.700000 *\n",
      "Iter 205: parms (-3.119773, 0.113675, 0.472024), trn like -92.358853 acc 0.681250 test like -22.306136 acc 0.700000 *\n",
      "Iter 206: parms (-3.116541, 0.113584, 0.471586), trn like -92.348224 acc 0.681250 test like -22.304841 acc 0.700000 *\n",
      "Iter 207: parms (-3.113320, 0.113492, 0.471149), trn like -92.337670 acc 0.681250 test like -22.303559 acc 0.700000 *\n",
      "Iter 208: parms (-3.110110, 0.113402, 0.470715), trn like -92.327191 acc 0.681250 test like -22.302289 acc 0.700000 *\n",
      "Iter 209: parms (-3.106913, 0.113311, 0.470281), trn like -92.316787 acc 0.681250 test like -22.301032 acc 0.700000 *\n",
      "Iter 210: parms (-3.103726, 0.113221, 0.469850), trn like -92.306458 acc 0.681250 test like -22.299787 acc 0.700000 *\n",
      "Iter 211: parms (-3.100551, 0.113131, 0.469420), trn like -92.296202 acc 0.681250 test like -22.298555 acc 0.700000 *\n",
      "Iter 212: parms (-3.097387, 0.113042, 0.468991), trn like -92.286020 acc 0.681250 test like -22.297335 acc 0.700000 *\n",
      "Iter 213: parms (-3.094235, 0.112953, 0.468564), trn like -92.275911 acc 0.681250 test like -22.296128 acc 0.700000 *\n",
      "Iter 214: parms (-3.091094, 0.112864, 0.468139), trn like -92.265874 acc 0.681250 test like -22.294932 acc 0.700000 *\n",
      "Iter 215: parms (-3.087964, 0.112776, 0.467715), trn like -92.255909 acc 0.681250 test like -22.293749 acc 0.700000 *\n",
      "Iter 216: parms (-3.084846, 0.112688, 0.467292), trn like -92.246017 acc 0.681250 test like -22.292578 acc 0.700000 *\n",
      "Iter 217: parms (-3.081739, 0.112600, 0.466872), trn like -92.236195 acc 0.681250 test like -22.291419 acc 0.700000 *\n",
      "Iter 218: parms (-3.078643, 0.112513, 0.466452), trn like -92.226445 acc 0.681250 test like -22.290271 acc 0.700000 *\n",
      "Iter 219: parms (-3.075558, 0.112426, 0.466035), trn like -92.216764 acc 0.681250 test like -22.289136 acc 0.700000 *\n",
      "Iter 220: parms (-3.072484, 0.112339, 0.465618), trn like -92.207154 acc 0.681250 test like -22.288012 acc 0.700000 *\n",
      "Iter 221: parms (-3.069422, 0.112253, 0.465204), trn like -92.197613 acc 0.681250 test like -22.286899 acc 0.700000 *\n",
      "Iter 222: parms (-3.066371, 0.112167, 0.464790), trn like -92.188142 acc 0.681250 test like -22.285798 acc 0.700000 *\n",
      "Iter 223: parms (-3.063330, 0.112081, 0.464379), trn like -92.178739 acc 0.681250 test like -22.284709 acc 0.700000 *\n",
      "Iter 224: parms (-3.060301, 0.111996, 0.463969), trn like -92.169404 acc 0.681250 test like -22.283631 acc 0.700000 *\n",
      "Iter 225: parms (-3.057283, 0.111911, 0.463560), trn like -92.160137 acc 0.681250 test like -22.282564 acc 0.700000 *\n",
      "Iter 226: parms (-3.054276, 0.111827, 0.463153), trn like -92.150938 acc 0.681250 test like -22.281508 acc 0.700000 *\n",
      "Iter 227: parms (-3.051280, 0.111743, 0.462747), trn like -92.141806 acc 0.681250 test like -22.280464 acc 0.700000 *\n",
      "Iter 228: parms (-3.048294, 0.111659, 0.462343), trn like -92.132740 acc 0.681250 test like -22.279430 acc 0.700000 *\n",
      "Iter 229: parms (-3.045320, 0.111575, 0.461940), trn like -92.123741 acc 0.681250 test like -22.278408 acc 0.700000 *\n",
      "Iter 230: parms (-3.042356, 0.111492, 0.461539), trn like -92.114807 acc 0.681250 test like -22.277396 acc 0.700000 *\n",
      "Iter 231: parms (-3.039404, 0.111409, 0.461139), trn like -92.105939 acc 0.681250 test like -22.276395 acc 0.700000 *\n",
      "Iter 232: parms (-3.036462, 0.111327, 0.460741), trn like -92.097135 acc 0.681250 test like -22.275404 acc 0.700000 *\n",
      "Iter 233: parms (-3.033531, 0.111244, 0.460344), trn like -92.088397 acc 0.681250 test like -22.274425 acc 0.700000 *\n",
      "Iter 234: parms (-3.030611, 0.111163, 0.459949), trn like -92.079722 acc 0.681250 test like -22.273456 acc 0.700000 *\n",
      "Iter 235: parms (-3.027701, 0.111081, 0.459555), trn like -92.071111 acc 0.681250 test like -22.272497 acc 0.700000 *\n",
      "Iter 236: parms (-3.024803, 0.111000, 0.459163), trn like -92.062564 acc 0.681250 test like -22.271549 acc 0.700000 *\n",
      "Iter 237: parms (-3.021915, 0.110919, 0.458772), trn like -92.054079 acc 0.687500 test like -22.270611 acc 0.700000 *\n",
      "Iter 238: parms (-3.019037, 0.110838, 0.458382), trn like -92.045657 acc 0.687500 test like -22.269683 acc 0.700000 *\n",
      "Iter 239: parms (-3.016170, 0.110758, 0.457994), trn like -92.037298 acc 0.687500 test like -22.268765 acc 0.700000 *\n",
      "Iter 240: parms (-3.013314, 0.110678, 0.457608), trn like -92.029000 acc 0.687500 test like -22.267858 acc 0.700000 *\n",
      "Iter 241: parms (-3.010469, 0.110599, 0.457223), trn like -92.020763 acc 0.687500 test like -22.266960 acc 0.700000 *\n",
      "Iter 242: parms (-3.007634, 0.110519, 0.456839), trn like -92.012588 acc 0.687500 test like -22.266073 acc 0.700000 *\n",
      "Iter 243: parms (-3.004809, 0.110441, 0.456457), trn like -92.004473 acc 0.687500 test like -22.265195 acc 0.700000 *\n",
      "Iter 244: parms (-3.001995, 0.110362, 0.456076), trn like -91.996418 acc 0.687500 test like -22.264327 acc 0.700000 *\n",
      "Iter 245: parms (-2.999192, 0.110284, 0.455697), trn like -91.988423 acc 0.687500 test like -22.263468 acc 0.700000 *\n",
      "Iter 246: parms (-2.996399, 0.110206, 0.455319), trn like -91.980487 acc 0.687500 test like -22.262620 acc 0.700000 *\n",
      "Iter 247: parms (-2.993616, 0.110128, 0.454942), trn like -91.972611 acc 0.687500 test like -22.261781 acc 0.700000 *\n",
      "Iter 248: parms (-2.990844, 0.110051, 0.454567), trn like -91.964793 acc 0.687500 test like -22.260951 acc 0.700000 *\n",
      "Iter 249: parms (-2.988082, 0.109974, 0.454193), trn like -91.957034 acc 0.687500 test like -22.260131 acc 0.700000 *\n",
      "Iter 250: parms (-2.985330, 0.109897, 0.453821), trn like -91.949332 acc 0.687500 test like -22.259320 acc 0.700000 *\n",
      "Iter 251: parms (-2.982589, 0.109821, 0.453450), trn like -91.941688 acc 0.687500 test like -22.258518 acc 0.700000 *\n",
      "Iter 252: parms (-2.979858, 0.109745, 0.453080), trn like -91.934102 acc 0.687500 test like -22.257726 acc 0.700000 *\n",
      "Iter 253: parms (-2.977137, 0.109669, 0.452712), trn like -91.926572 acc 0.687500 test like -22.256942 acc 0.700000 *\n",
      "Iter 254: parms (-2.974426, 0.109593, 0.452346), trn like -91.919098 acc 0.687500 test like -22.256168 acc 0.700000 *\n",
      "Iter 255: parms (-2.971726, 0.109518, 0.451980), trn like -91.911681 acc 0.687500 test like -22.255403 acc 0.700000 *\n",
      "Iter 256: parms (-2.969036, 0.109443, 0.451616), trn like -91.904319 acc 0.687500 test like -22.254646 acc 0.700000 *\n",
      "Iter 257: parms (-2.966355, 0.109369, 0.451254), trn like -91.897013 acc 0.687500 test like -22.253898 acc 0.700000 *\n",
      "Iter 258: parms (-2.963685, 0.109295, 0.450893), trn like -91.889761 acc 0.687500 test like -22.253160 acc 0.700000 *\n",
      "Iter 259: parms (-2.961025, 0.109221, 0.450533), trn like -91.882565 acc 0.687500 test like -22.252429 acc 0.700000 *\n",
      "Iter 260: parms (-2.958376, 0.109147, 0.450174), trn like -91.875422 acc 0.687500 test like -22.251708 acc 0.700000 *\n",
      "Iter 261: parms (-2.955736, 0.109074, 0.449817), trn like -91.868334 acc 0.687500 test like -22.250995 acc 0.700000 *\n",
      "Iter 262: parms (-2.953106, 0.109001, 0.449462), trn like -91.861299 acc 0.687500 test like -22.250290 acc 0.700000 *\n",
      "Iter 263: parms (-2.950486, 0.108928, 0.449107), trn like -91.854317 acc 0.687500 test like -22.249594 acc 0.700000 *\n",
      "Iter 264: parms (-2.947876, 0.108856, 0.448754), trn like -91.847388 acc 0.687500 test like -22.248907 acc 0.700000 *\n",
      "Iter 265: parms (-2.945276, 0.108784, 0.448403), trn like -91.840512 acc 0.687500 test like -22.248227 acc 0.700000 *\n",
      "Iter 266: parms (-2.942685, 0.108712, 0.448052), trn like -91.833687 acc 0.687500 test like -22.247556 acc 0.700000 *\n",
      "Iter 267: parms (-2.940105, 0.108640, 0.447703), trn like -91.826915 acc 0.687500 test like -22.246893 acc 0.700000 *\n",
      "Iter 268: parms (-2.937534, 0.108569, 0.447356), trn like -91.820194 acc 0.687500 test like -22.246238 acc 0.700000 *\n",
      "Iter 269: parms (-2.934974, 0.108498, 0.447009), trn like -91.813524 acc 0.687500 test like -22.245591 acc 0.700000 *\n",
      "Iter 270: parms (-2.932423, 0.108428, 0.446664), trn like -91.806905 acc 0.687500 test like -22.244952 acc 0.700000 *\n",
      "Iter 271: parms (-2.929881, 0.108357, 0.446321), trn like -91.800336 acc 0.687500 test like -22.244321 acc 0.700000 *\n",
      "Iter 272: parms (-2.927350, 0.108287, 0.445978), trn like -91.793818 acc 0.687500 test like -22.243697 acc 0.700000 *\n",
      "Iter 273: parms (-2.924828, 0.108217, 0.445637), trn like -91.787349 acc 0.687500 test like -22.243082 acc 0.700000 *\n",
      "Iter 274: parms (-2.922316, 0.108148, 0.445298), trn like -91.780930 acc 0.687500 test like -22.242474 acc 0.700000 *\n",
      "Iter 275: parms (-2.919813, 0.108079, 0.444959), trn like -91.774560 acc 0.687500 test like -22.241874 acc 0.700000 *\n",
      "Iter 276: parms (-2.917320, 0.108010, 0.444622), trn like -91.768238 acc 0.687500 test like -22.241281 acc 0.700000 *\n",
      "Iter 277: parms (-2.914836, 0.107941, 0.444286), trn like -91.761965 acc 0.687500 test like -22.240696 acc 0.700000 *\n",
      "Iter 278: parms (-2.912362, 0.107873, 0.443952), trn like -91.755740 acc 0.687500 test like -22.240118 acc 0.700000 *\n",
      "Iter 279: parms (-2.909898, 0.107805, 0.443619), trn like -91.749563 acc 0.687500 test like -22.239548 acc 0.700000 *\n",
      "Iter 280: parms (-2.907443, 0.107737, 0.443287), trn like -91.743433 acc 0.687500 test like -22.238985 acc 0.700000 *\n",
      "Iter 281: parms (-2.904998, 0.107670, 0.442956), trn like -91.737351 acc 0.687500 test like -22.238429 acc 0.700000 *\n",
      "Iter 282: parms (-2.902562, 0.107603, 0.442627), trn like -91.731315 acc 0.687500 test like -22.237881 acc 0.700000 *\n",
      "Iter 283: parms (-2.900135, 0.107536, 0.442299), trn like -91.725326 acc 0.687500 test like -22.237340 acc 0.700000 *\n",
      "Iter 284: parms (-2.897718, 0.107469, 0.441972), trn like -91.719383 acc 0.687500 test like -22.236805 acc 0.700000 *\n",
      "Iter 285: parms (-2.895310, 0.107403, 0.441646), trn like -91.713486 acc 0.687500 test like -22.236278 acc 0.700000 *\n",
      "Iter 286: parms (-2.892911, 0.107337, 0.441322), trn like -91.707634 acc 0.687500 test like -22.235758 acc 0.700000 *\n",
      "Iter 287: parms (-2.890522, 0.107271, 0.440999), trn like -91.701828 acc 0.687500 test like -22.235244 acc 0.700000 *\n",
      "Iter 288: parms (-2.888142, 0.107205, 0.440678), trn like -91.696066 acc 0.687500 test like -22.234738 acc 0.700000 *\n",
      "Iter 289: parms (-2.885771, 0.107140, 0.440357), trn like -91.690349 acc 0.687500 test like -22.234238 acc 0.700000 *\n",
      "Iter 290: parms (-2.883409, 0.107075, 0.440038), trn like -91.684677 acc 0.687500 test like -22.233745 acc 0.700000 *\n",
      "Iter 291: parms (-2.881056, 0.107010, 0.439720), trn like -91.679048 acc 0.687500 test like -22.233259 acc 0.700000 *\n",
      "Iter 292: parms (-2.878713, 0.106946, 0.439403), trn like -91.673463 acc 0.687500 test like -22.232779 acc 0.700000 *\n",
      "Iter 293: parms (-2.876379, 0.106882, 0.439088), trn like -91.667922 acc 0.687500 test like -22.232306 acc 0.700000 *\n",
      "Iter 294: parms (-2.874054, 0.106818, 0.438773), trn like -91.662423 acc 0.687500 test like -22.231839 acc 0.700000 *\n",
      "Iter 295: parms (-2.871738, 0.106754, 0.438460), trn like -91.656968 acc 0.687500 test like -22.231379 acc 0.700000 *\n",
      "Iter 296: parms (-2.869431, 0.106691, 0.438149), trn like -91.651555 acc 0.687500 test like -22.230925 acc 0.700000 *\n",
      "Iter 297: parms (-2.867133, 0.106628, 0.437838), trn like -91.646184 acc 0.687500 test like -22.230478 acc 0.700000 *\n",
      "Iter 298: parms (-2.864844, 0.106565, 0.437529), trn like -91.640855 acc 0.687500 test like -22.230036 acc 0.700000 *\n",
      "Iter 299: parms (-2.862564, 0.106503, 0.437221), trn like -91.635568 acc 0.687500 test like -22.229601 acc 0.700000 *\n",
      "Iter 300: parms (-2.860292, 0.106440, 0.436914), trn like -91.630322 acc 0.687500 test like -22.229173 acc 0.700000 *\n",
      "Iter 301: parms (-2.858030, 0.106378, 0.436608), trn like -91.625117 acc 0.687500 test like -22.228750 acc 0.700000 *\n",
      "Iter 302: parms (-2.855777, 0.106316, 0.436304), trn like -91.619953 acc 0.687500 test like -22.228333 acc 0.700000 *\n",
      "Iter 303: parms (-2.853532, 0.106255, 0.436000), trn like -91.614829 acc 0.687500 test like -22.227923 acc 0.700000 *\n",
      "Iter 304: parms (-2.851296, 0.106194, 0.435698), trn like -91.609745 acc 0.687500 test like -22.227518 acc 0.700000 *\n",
      "Iter 305: parms (-2.849069, 0.106133, 0.435397), trn like -91.604702 acc 0.687500 test like -22.227119 acc 0.700000 *\n",
      "Iter 306: parms (-2.846851, 0.106072, 0.435098), trn like -91.599698 acc 0.687500 test like -22.226726 acc 0.700000 *\n",
      "Iter 307: parms (-2.844642, 0.106011, 0.434799), trn like -91.594733 acc 0.687500 test like -22.226339 acc 0.700000 *\n",
      "Iter 308: parms (-2.842441, 0.105951, 0.434502), trn like -91.589807 acc 0.687500 test like -22.225958 acc 0.700000 *\n",
      "Iter 309: parms (-2.840249, 0.105891, 0.434206), trn like -91.584921 acc 0.687500 test like -22.225582 acc 0.700000 *\n",
      "Iter 310: parms (-2.838065, 0.105832, 0.433911), trn like -91.580072 acc 0.687500 test like -22.225212 acc 0.700000 *\n",
      "Iter 311: parms (-2.835891, 0.105772, 0.433617), trn like -91.575262 acc 0.687500 test like -22.224848 acc 0.700000 *\n",
      "Iter 312: parms (-2.833724, 0.105713, 0.433324), trn like -91.570490 acc 0.687500 test like -22.224489 acc 0.700000 *\n",
      "Iter 313: parms (-2.831567, 0.105654, 0.433033), trn like -91.565756 acc 0.687500 test like -22.224135 acc 0.700000 *\n",
      "Iter 314: parms (-2.829418, 0.105595, 0.432742), trn like -91.561059 acc 0.687500 test like -22.223787 acc 0.700000 *\n",
      "Iter 315: parms (-2.827277, 0.105537, 0.432453), trn like -91.556399 acc 0.687500 test like -22.223445 acc 0.700000 *\n",
      "Iter 316: parms (-2.825145, 0.105479, 0.432165), trn like -91.551776 acc 0.687500 test like -22.223108 acc 0.700000 *\n",
      "Iter 317: parms (-2.823021, 0.105421, 0.431878), trn like -91.547189 acc 0.687500 test like -22.222776 acc 0.700000 *\n",
      "Iter 318: parms (-2.820906, 0.105363, 0.431593), trn like -91.542639 acc 0.687500 test like -22.222449 acc 0.700000 *\n",
      "Iter 319: parms (-2.818799, 0.105305, 0.431308), trn like -91.538125 acc 0.687500 test like -22.222128 acc 0.700000 *\n",
      "Iter 320: parms (-2.816701, 0.105248, 0.431025), trn like -91.533647 acc 0.687500 test like -22.221811 acc 0.700000 *\n",
      "Iter 321: parms (-2.814611, 0.105191, 0.430742), trn like -91.529205 acc 0.687500 test like -22.221500 acc 0.700000 *\n",
      "Iter 322: parms (-2.812529, 0.105135, 0.430461), trn like -91.524798 acc 0.687500 test like -22.221194 acc 0.700000 *\n",
      "Iter 323: parms (-2.810456, 0.105078, 0.430181), trn like -91.520426 acc 0.687500 test like -22.220893 acc 0.700000 *\n",
      "Iter 324: parms (-2.808391, 0.105022, 0.429902), trn like -91.516089 acc 0.687500 test like -22.220597 acc 0.700000 *\n",
      "Iter 325: parms (-2.806334, 0.104966, 0.429625), trn like -91.511786 acc 0.687500 test like -22.220305 acc 0.700000 *\n",
      "Iter 326: parms (-2.804285, 0.104910, 0.429348), trn like -91.507518 acc 0.687500 test like -22.220019 acc 0.700000 *\n",
      "Iter 327: parms (-2.802244, 0.104854, 0.429072), trn like -91.503283 acc 0.687500 test like -22.219738 acc 0.700000 *\n",
      "Iter 328: parms (-2.800212, 0.104799, 0.428798), trn like -91.499083 acc 0.687500 test like -22.219461 acc 0.700000 *\n",
      "Iter 329: parms (-2.798188, 0.104744, 0.428524), trn like -91.494916 acc 0.687500 test like -22.219189 acc 0.700000 *\n",
      "Iter 330: parms (-2.796172, 0.104689, 0.428252), trn like -91.490783 acc 0.687500 test like -22.218921 acc 0.700000 *\n",
      "Iter 331: parms (-2.794164, 0.104635, 0.427981), trn like -91.486682 acc 0.687500 test like -22.218659 acc 0.700000 *\n",
      "Iter 332: parms (-2.792164, 0.104580, 0.427711), trn like -91.482615 acc 0.687500 test like -22.218401 acc 0.700000 *\n",
      "Iter 333: parms (-2.790172, 0.104526, 0.427442), trn like -91.478580 acc 0.687500 test like -22.218147 acc 0.700000 *\n",
      "Iter 334: parms (-2.788188, 0.104472, 0.427174), trn like -91.474577 acc 0.687500 test like -22.217898 acc 0.700000 *\n",
      "Iter 335: parms (-2.786212, 0.104419, 0.426907), trn like -91.470607 acc 0.687500 test like -22.217654 acc 0.700000 *\n",
      "Iter 336: parms (-2.784244, 0.104365, 0.426642), trn like -91.466668 acc 0.687500 test like -22.217414 acc 0.700000 *\n",
      "Iter 337: parms (-2.782284, 0.104312, 0.426377), trn like -91.462761 acc 0.687500 test like -22.217178 acc 0.700000 *\n",
      "Iter 338: parms (-2.780332, 0.104259, 0.426113), trn like -91.458886 acc 0.687500 test like -22.216947 acc 0.700000 *\n",
      "Iter 339: parms (-2.778387, 0.104206, 0.425851), trn like -91.455041 acc 0.687500 test like -22.216720 acc 0.700000 *\n",
      "Iter 340: parms (-2.776451, 0.104154, 0.425590), trn like -91.451228 acc 0.687500 test like -22.216497 acc 0.700000 *\n",
      "Iter 341: parms (-2.774522, 0.104102, 0.425329), trn like -91.447446 acc 0.687500 test like -22.216278 acc 0.700000 *\n",
      "Iter 342: parms (-2.772601, 0.104049, 0.425070), trn like -91.443694 acc 0.687500 test like -22.216064 acc 0.700000 *\n",
      "Iter 343: parms (-2.770688, 0.103998, 0.424812), trn like -91.439972 acc 0.687500 test like -22.215854 acc 0.700000 *\n",
      "Iter 344: parms (-2.768783, 0.103946, 0.424554), trn like -91.436280 acc 0.687500 test like -22.215648 acc 0.700000 *\n",
      "Iter 345: parms (-2.766885, 0.103895, 0.424298), trn like -91.432618 acc 0.687500 test like -22.215446 acc 0.700000 *\n",
      "Iter 346: parms (-2.764995, 0.103843, 0.424043), trn like -91.428986 acc 0.687500 test like -22.215248 acc 0.700000 *\n",
      "Iter 347: parms (-2.763113, 0.103792, 0.423789), trn like -91.425383 acc 0.687500 test like -22.215054 acc 0.700000 *\n",
      "Iter 348: parms (-2.761238, 0.103742, 0.423536), trn like -91.421810 acc 0.687500 test like -22.214864 acc 0.700000 *\n",
      "Iter 349: parms (-2.759371, 0.103691, 0.423284), trn like -91.418265 acc 0.687500 test like -22.214677 acc 0.700000 *\n",
      "Iter 350: parms (-2.757512, 0.103641, 0.423033), trn like -91.414749 acc 0.687500 test like -22.214495 acc 0.700000 *\n",
      "Iter 351: parms (-2.755660, 0.103591, 0.422783), trn like -91.411262 acc 0.687500 test like -22.214317 acc 0.700000 *\n",
      "Iter 352: parms (-2.753816, 0.103541, 0.422534), trn like -91.407803 acc 0.687500 test like -22.214142 acc 0.700000 *\n",
      "Iter 353: parms (-2.751979, 0.103491, 0.422286), trn like -91.404372 acc 0.687500 test like -22.213971 acc 0.700000 *\n",
      "Iter 354: parms (-2.750150, 0.103442, 0.422039), trn like -91.400969 acc 0.687500 test like -22.213804 acc 0.700000 *\n",
      "Iter 355: parms (-2.748328, 0.103393, 0.421793), trn like -91.397594 acc 0.687500 test like -22.213640 acc 0.700000 *\n",
      "Iter 356: parms (-2.746513, 0.103344, 0.421548), trn like -91.394246 acc 0.687500 test like -22.213480 acc 0.700000 *\n",
      "Iter 357: parms (-2.744706, 0.103295, 0.421305), trn like -91.390926 acc 0.687500 test like -22.213324 acc 0.700000 *\n",
      "Iter 358: parms (-2.742907, 0.103246, 0.421062), trn like -91.387632 acc 0.687500 test like -22.213171 acc 0.700000 *\n",
      "Iter 359: parms (-2.741114, 0.103198, 0.420820), trn like -91.384366 acc 0.687500 test like -22.213022 acc 0.700000 *\n",
      "Iter 360: parms (-2.739329, 0.103150, 0.420579), trn like -91.381126 acc 0.687500 test like -22.212876 acc 0.700000 *\n",
      "Iter 361: parms (-2.737552, 0.103102, 0.420339), trn like -91.377912 acc 0.687500 test like -22.212734 acc 0.700000 *\n",
      "Iter 362: parms (-2.735781, 0.103054, 0.420100), trn like -91.374725 acc 0.687500 test like -22.212595 acc 0.700000 *\n",
      "Iter 363: parms (-2.734018, 0.103006, 0.419862), trn like -91.371564 acc 0.687500 test like -22.212460 acc 0.700000 *\n",
      "Iter 364: parms (-2.732262, 0.102959, 0.419625), trn like -91.368429 acc 0.687500 test like -22.212327 acc 0.700000 *\n",
      "Iter 365: parms (-2.730513, 0.102912, 0.419389), trn like -91.365319 acc 0.687500 test like -22.212199 acc 0.700000 *\n",
      "Iter 366: parms (-2.728772, 0.102865, 0.419154), trn like -91.362235 acc 0.687500 test like -22.212073 acc 0.700000 *\n",
      "Iter 367: parms (-2.727037, 0.102818, 0.418920), trn like -91.359177 acc 0.687500 test like -22.211951 acc 0.700000 *\n",
      "Iter 368: parms (-2.725310, 0.102772, 0.418687), trn like -91.356143 acc 0.687500 test like -22.211832 acc 0.700000 *\n",
      "Iter 369: parms (-2.723590, 0.102726, 0.418455), trn like -91.353134 acc 0.693750 test like -22.211716 acc 0.700000 *\n",
      "Iter 370: parms (-2.721877, 0.102679, 0.418224), trn like -91.350150 acc 0.693750 test like -22.211603 acc 0.700000 *\n",
      "Iter 371: parms (-2.720171, 0.102633, 0.417994), trn like -91.347191 acc 0.693750 test like -22.211494 acc 0.700000 *\n",
      "Iter 372: parms (-2.718472, 0.102588, 0.417765), trn like -91.344256 acc 0.693750 test like -22.211387 acc 0.700000 *\n",
      "Iter 373: parms (-2.716780, 0.102542, 0.417536), trn like -91.341345 acc 0.693750 test like -22.211284 acc 0.700000 *\n",
      "Iter 374: parms (-2.715095, 0.102497, 0.417309), trn like -91.338458 acc 0.693750 test like -22.211183 acc 0.700000 *\n",
      "Iter 375: parms (-2.713417, 0.102452, 0.417083), trn like -91.335595 acc 0.693750 test like -22.211086 acc 0.700000 *\n",
      "Iter 376: parms (-2.711746, 0.102407, 0.416857), trn like -91.332755 acc 0.693750 test like -22.210991 acc 0.700000 *\n",
      "Iter 377: parms (-2.710082, 0.102362, 0.416633), trn like -91.329939 acc 0.693750 test like -22.210900 acc 0.700000 *\n",
      "Iter 378: parms (-2.708424, 0.102318, 0.416409), trn like -91.327146 acc 0.693750 test like -22.210811 acc 0.700000 *\n",
      "Iter 379: parms (-2.706774, 0.102273, 0.416186), trn like -91.324376 acc 0.693750 test like -22.210725 acc 0.700000 *\n",
      "Iter 380: parms (-2.705130, 0.102229, 0.415965), trn like -91.321629 acc 0.693750 test like -22.210642 acc 0.700000 *\n",
      "Iter 381: parms (-2.703493, 0.102185, 0.415744), trn like -91.318905 acc 0.693750 test like -22.210562 acc 0.700000 *\n",
      "Iter 382: parms (-2.701863, 0.102141, 0.415524), trn like -91.316203 acc 0.693750 test like -22.210485 acc 0.700000 *\n",
      "Iter 383: parms (-2.700240, 0.102098, 0.415305), trn like -91.313524 acc 0.693750 test like -22.210410 acc 0.700000 *\n",
      "Iter 384: parms (-2.698624, 0.102055, 0.415087), trn like -91.310867 acc 0.693750 test like -22.210338 acc 0.700000 *\n",
      "Iter 385: parms (-2.697014, 0.102011, 0.414870), trn like -91.308232 acc 0.693750 test like -22.210269 acc 0.700000 *\n",
      "Iter 386: parms (-2.695411, 0.101968, 0.414654), trn like -91.305618 acc 0.693750 test like -22.210202 acc 0.700000 *\n",
      "Iter 387: parms (-2.693814, 0.101926, 0.414438), trn like -91.303027 acc 0.693750 test like -22.210138 acc 0.700000 *\n",
      "Iter 388: parms (-2.692224, 0.101883, 0.414224), trn like -91.300457 acc 0.693750 test like -22.210077 acc 0.700000 *\n",
      "Iter 389: parms (-2.690641, 0.101840, 0.414010), trn like -91.297908 acc 0.693750 test like -22.210018 acc 0.700000 *\n",
      "Iter 390: parms (-2.689064, 0.101798, 0.413798), trn like -91.295381 acc 0.693750 test like -22.209962 acc 0.700000 *\n",
      "Iter 391: parms (-2.687494, 0.101756, 0.413586), trn like -91.292874 acc 0.693750 test like -22.209908 acc 0.700000 *\n",
      "Iter 392: parms (-2.685931, 0.101714, 0.413375), trn like -91.290389 acc 0.693750 test like -22.209857 acc 0.700000 *\n",
      "Iter 393: parms (-2.684374, 0.101673, 0.413165), trn like -91.287924 acc 0.693750 test like -22.209808 acc 0.700000 *\n",
      "Iter 394: parms (-2.682823, 0.101631, 0.412956), trn like -91.285479 acc 0.693750 test like -22.209762 acc 0.700000 *\n",
      "Iter 395: parms (-2.681279, 0.101590, 0.412748), trn like -91.283055 acc 0.693750 test like -22.209718 acc 0.700000 *\n",
      "Iter 396: parms (-2.679742, 0.101549, 0.412540), trn like -91.280652 acc 0.693750 test like -22.209676 acc 0.700000 *\n",
      "Iter 397: parms (-2.678211, 0.101508, 0.412334), trn like -91.278268 acc 0.693750 test like -22.209637 acc 0.700000 *\n",
      "Iter 398: parms (-2.676686, 0.101467, 0.412128), trn like -91.275904 acc 0.693750 test like -22.209600 acc 0.700000 *\n",
      "Iter 399: parms (-2.675167, 0.101426, 0.411923), trn like -91.273560 acc 0.693750 test like -22.209565 acc 0.700000 *\n"
     ]
    }
   ],
   "source": [
    "theta = np.array([[-4,0,1]]).T\n",
    "theta_best = theta\n",
    "loglike_test_best = 0\n",
    "alpha = 0.001\n",
    "for i in range(0,400):\n",
    "    #train\n",
    "    ypred_train = predict(X_train, theta)\n",
    "    loglike_train = loglike(y_train, ypred_train)\n",
    "    acc_train = accuracy(y_train, ypred_train)\n",
    "    #test\n",
    "    ypred_test = predict(X_test, theta)\n",
    "    loglike_test = loglike(y_test, ypred_test)\n",
    "    acc_test = accuracy(y_test, ypred_test)\n",
    "    \n",
    "    sbest = ''\n",
    "    if i == 0 or loglike_test > loglike_test_best:\n",
    "        loglike_test_best = loglike_test\n",
    "        theta_best = theta\n",
    "        sbest = '*'\n",
    "    print('Iter %d: parms (%f, %f, %f), trn like %f acc %f test like %f acc %f %s' %\n",
    "          (i, theta[0], theta[1], theta[2], loglike_train, acc_train, loglike_test, acc_test, sbest))\n",
    "    dtheta = X_train.T @ (y_train - ypred_train)\n",
    "    theta = theta + alpha * dtheta"
   ]
  },
  {
   "cell_type": "code",
   "execution_count": 83,
   "metadata": {},
   "outputs": [
    {
     "name": "stdout",
     "output_type": "stream",
     "text": [
      "Best parameters: (-4.053763, -0.017591, 0.591738)\n"
     ]
    },
    {
     "name": "stderr",
     "output_type": "stream",
     "text": [
      "c:\\Python3.10.4\\lib\\site-packages\\numpy\\core\\shape_base.py:65: VisibleDeprecationWarning: Creating an ndarray from ragged nested sequences (which is a list-or-tuple of lists-or-tuples-or ndarrays with different lengths or shapes) is deprecated. If you meant to do this, you must specify 'dtype=object' when creating the ndarray.\n",
      "  ary = asanyarray(ary)\n"
     ]
    },
    {
     "data": {
      "image/png": "[encoded data removed]",
      "text/plain": [
       "<Figure size 576x360 with 1 Axes>"
      ]
     },
     "metadata": {
      "needs_background": "light"
     },
     "output_type": "display_data"
    }
   ],
   "source": [
    "def plot_line(plot_handle, theta):\n",
    "    X11 = -3.5\n",
    "    X12 = (- theta[0] - theta[1] * X11) / theta[2]\n",
    "    X21 = 3.5\n",
    "    X22 = (- theta[0] - theta[1] * X21) / theta[2]\n",
    "    plot_handle.plot([X11, X21], [X21, X22], 'k-')\n",
    "\n",
    "plt.figure(figsize=(8, 5))\n",
    "plt.plot(X_test[test_idx_0, 1], X_test[test_idx_0, 2], 'ro', label='Class 1')\n",
    "plt.plot(X_test[test_idx_1, 1], X_test[test_idx_1, 2], 'bo', label='Class 2')\n",
    "plot_line(plt, theta_best)\n",
    "plt.xlim([-3.5,3.5])\n",
    "plt.legend()\n",
    "plt.title('Best logistic regression classifier')\n",
    "\n",
    "print('Best parameters: (%f, %f, %f)' % (theta_best[0], theta_best[1], theta_best[2]))"
   ]
  },
  {
   "cell_type": "markdown",
   "metadata": {},
   "source": [
    "4. **Transform the data to contain five input variables: $x_1$, $x_2$, $x_1^2$, $x_2^2$, and $x_1x_2$. Build a new logistic regression model, report its training and test set accuracy, and optimal parameters here:**"
   ]
  },
  {
   "cell_type": "code",
   "execution_count": 90,
   "metadata": {},
   "outputs": [],
   "source": [
    "def augment(X):\n",
    "    m = X.shape[0]\n",
    "    return np.concatenate(\n",
    "        (X,\n",
    "         (X[:,1] * X[:,1]).reshape(m,1),\n",
    "         (X[:,2] * X[:,2]).reshape(m,1),\n",
    "         (X[:,1] * X[:,2]).reshape(m,1)), 1)"
   ]
  },
  {
   "cell_type": "code",
   "execution_count": 91,
   "metadata": {},
   "outputs": [
    {
     "data": {
      "text/plain": [
       "((160, 6), (40, 6))"
      ]
     },
     "execution_count": 91,
     "metadata": {},
     "output_type": "execute_result"
    }
   ],
   "source": [
    "XX_train = augment(X_train)\n",
    "XX_test = augment(X_test)\n",
    "\n",
    "XX_train.shape,XX_test.shape"
   ]
  },
  {
   "cell_type": "code",
   "execution_count": 93,
   "metadata": {},
   "outputs": [
    {
     "name": "stdout",
     "output_type": "stream",
     "text": [
      "Iter 0: parms (-4.000000, 0.000000, 1.000000, 0.000000, 0.000000, 0.000000), trn like -161.602908 acc 0.737500 test like -43.273998 acc 0.625000 *\n",
      "Iter 1000: parms (-4.003943, 0.020849, 1.029379, -0.579595, -0.017918, -0.000031), trn like -51.647651 acc 0.925000 test like -13.401455 acc 0.900000 *\n",
      "Iter 2000: parms (-4.010123, 0.030828, 1.067559, -0.909601, -0.002131, -0.002199), trn like -40.381180 acc 0.956250 test like -10.614320 acc 0.925000 *\n",
      "Iter 3000: parms (-4.022836, 0.036627, 1.089736, -1.133160, 0.009117, -0.003601), trn like -35.256073 acc 0.962500 test like -9.301762 acc 0.925000 *\n",
      "Iter 4000: parms (-4.039447, 0.040441, 1.101685, -1.300774, 0.018140, -0.004466), trn like -32.380031 acc 0.962500 test like -8.527527 acc 0.950000 *\n",
      "Iter 5000: parms (-4.058168, 0.043216, 1.107952, -1.434336, 0.025748, -0.004971), trn like -30.544401 acc 0.956250 test like -8.011072 acc 0.950000 *\n",
      "Iter 6000: parms (-4.078005, 0.045421, 1.111117, -1.545095, 0.032331, -0.005243), trn like -29.269512 acc 0.950000 test like -7.639742 acc 0.950000 *\n",
      "Iter 7000: parms (-4.098404, 0.047308, 1.112606, -1.639545, 0.038120, -0.005365), trn like -28.330300 acc 0.956250 test like -7.359091 acc 0.950000 *\n",
      "Iter 8000: parms (-4.119054, 0.049025, 1.113220, -1.721761, 0.043271, -0.005393), trn like -27.607824 acc 0.956250 test like -7.139287 acc 0.950000 *\n",
      "Iter 9000: parms (-4.139774, 0.050655, 1.113416, -1.794457, 0.047896, -0.005363), trn like -27.033441 acc 0.956250 test like -6.962457 acc 0.950000 *\n"
     ]
    }
   ],
   "source": [
    "theta = np.array([[-4,0,1,0,0,0]]).T\n",
    "theta_best = theta\n",
    "loglike_test_best = 0\n",
    "alpha = 0.00001\n",
    "for i in range(0,10000):\n",
    "    ypred_train = predict(XX_train, theta)\n",
    "    loglike_train = loglike(y_train, ypred_train)\n",
    "    acc_train = accuracy(y_train, ypred_train)\n",
    "    ypred_test = predict(XX_test, theta)\n",
    "    loglike_test = loglike(y_test, ypred_test)\n",
    "    acc_test = accuracy(y_test, ypred_test)\n",
    "    sbest = ''\n",
    "    if i == 0 or loglike_test > loglike_test_best:\n",
    "        loglike_test_best = loglike_test\n",
    "        theta_best = theta\n",
    "        sbest = '*'\n",
    "    if i % 1000 == 0:\n",
    "        print('Iter %d: parms (%f, %f, %f, %f, %f, %f), trn like %f acc %f test like %f acc %f %s' %\n",
    "              (i, theta[0], theta[1], theta[2], theta[3], theta[4], theta[5], loglike_train, acc_train, loglike_test, acc_test, sbest))\n",
    "    dtheta = XX_train.T @ (y_train - ypred_train)\n",
    "    theta = theta + alpha * dtheta"
   ]
  },
  {
   "cell_type": "code",
   "execution_count": 95,
   "metadata": {},
   "outputs": [
    {
     "name": "stdout",
     "output_type": "stream",
     "text": [
      "Best parameters: (-4.160439, 0.052252, 1.113462, -1.859472, 0.052075, -0.005298)\n"
     ]
    },
    {
     "data": {
      "image/png": "[encoded data removed]",
      "text/plain": [
       "<Figure size 576x360 with 1 Axes>"
      ]
     },
     "metadata": {
      "needs_background": "light"
     },
     "output_type": "display_data"
    }
   ],
   "source": [
    "plt.figure(figsize=(8, 5))\n",
    "y_pred_best = predict(XX_test, theta_best)\n",
    "idx_correct = (y_pred_best < 0.5) == (y_test == 0)\n",
    "idx_correct_0 = ((y_test == 0) & idx_correct).reshape(40)\n",
    "idx_correct_1 = ((y_test == 1) & idx_correct).reshape(40)\n",
    "idx_incorrect_0 = ((y_test == 0) & ~idx_correct).reshape(40)\n",
    "idx_incorrect_1 = ((y_test == 1) & ~idx_correct).reshape(40)\n",
    "\n",
    "plt.plot(X_test[idx_correct_0, 1], X_test[idx_correct_0, 2], 'ro', label='Class 0 correct')\n",
    "plt.plot(X_test[idx_correct_1, 1], X_test[idx_correct_1, 2], 'bo', label='Class 1 correct')\n",
    "plt.plot(X_test[idx_incorrect_0, 1], X_test[idx_incorrect_0, 2], 'r*', label='Class 0 incorrect', ms=20)\n",
    "plt.plot(X_test[idx_incorrect_1, 1], X_test[idx_incorrect_1, 2], 'b*', label='Class 1 incorrect', ms=20)\n",
    "plt.xlim([-3.5,3.5])\n",
    "plt.legend()\n",
    "plt.title('Best augmented logistic regression classifier')\n",
    "\n",
    "print('Best parameters: (%f, %f, %f, %f, %f, %f)' % (theta_best[0], theta_best[1], theta_best[2], theta_best[3], theta_best[4], theta_best[5]))"
   ]
  },
  {
   "cell_type": "markdown",
   "metadata": {},
   "source": [
    "## Question 5 (20 points)\n",
    "\n",
    "Suppose you were interested in predicting the number of traffic fatalities that occur at a given traffic intersection based on various factors that might indicate the level of danger at that intersection: number of lanes, speed limit, types and number of businesses close to the intersection, curvature of the roads leading to the intersection, number of people that live in the surrounding area, and so on.\n",
    "\n",
    "Imagine that you obtain monthly fatality counts for 500 intersections in Bangkok and also obtain the necessary input data on the characteristics of the intersections then start to model.\n",
    "\n",
    "The standard linear regression model would consider the outcome (the number of traffic fatalities per month) as a Gaussian random variable with a mean of $\\mathbf{\\theta}^T\\mathbf{x}$. But that might not be the best approach for this problem.\n",
    "\n",
    "For example, you might consider the [Poisson distribution](https://en.wikipedia.org/wiki/Poisson_distribution).\n",
    "\n",
    "**Do the following.**\n",
    "\n",
    "1. **Read briefly about the Poisson distribution and explain here why it would be a better model of the outcome (number of traffic fatalities per month at a particular intersection) than a Gaussian.**\n",
    "\n",
    "2. **Noting that the Poisson distribution is a member of the exponential family, explain in general how you could use the GLM approach to come up with a model that predicts the fatality rate to be a Poisson random variable with mean** $\\lambda = \\exp(\\mathbf{\\theta}^T\\textbf{x})$. **(Note that the exponential here is just to convert the linear combination of inputs, which could be positive or negative, to a strictly positive value.)**\n",
    "\n",
    "Note that for part 2, *you do not need to derive any equations*! Just explain what steps you would take to obtain a good machine learning algorithm for this problem.\n"
   ]
  },
  {
   "cell_type": "markdown",
   "metadata": {},
   "source": [
    "\n",
    "**Solution:**\n",
    "\n",
    "1. A Gaussian random variable has a range of $-\\infty$ to $\\infty$, with nonzero probability for every value in that range. Clearly, the probability of observing a negative number of fatalities at an intersection is zero. The Gaussian would have to be modified somehow (truncation?) to accurately model the observation. The truncated Gaussian probably wouldn't be a member of the exponential family any more.\n",
    "\n",
    "   A Poisson random variable, on the other hand, models exactly what we want, i.e., a distribution over the number $k$ of events occurring in a given range of time. It is only valid for integer values of $k \\ge 0$. \n",
    "\n",
    "2. We would first model the Poisson as a member of the exponential family, with parameter $\\lambda$, the expected number of fatalities per month at a given intersection. This will allow us to write down the log likelihood function, take the gradient of the log likelihood with respect to $\\mathbf{\\theta}$, and thereby arrive at an estimation algorithm for $\\mathbf{\\theta}$. Once we have the estimation algorithm, given a dataset, we guess an initial value for $\\mathbf{\\theta}$ and use gradient ascent to find the maximum."
   ]
  },
  {
   "cell_type": "code",
   "execution_count": null,
   "metadata": {},
   "outputs": [],
   "source": []
  }
 ],
 "metadata": {
  "kernelspec": {
   "display_name": "Python 3.10.4 64-bit",
   "language": "python",
   "name": "python3"
  },
  "language_info": {
   "codemirror_mode": {
    "name": "ipython",
    "version": 3
   },
   "file_extension": ".py",
   "mimetype": "text/x-python",
   "name": "python",
   "nbconvert_exporter": "python",
   "pygments_lexer": "ipython3",
   "version": "3.10.4"
  },
  "vscode": {
   "interpreter": {
    "hash": "c81d839d3c4227cd770621df97fe8191838af02e7eef185a922d8250cb33d344"
   }
  }
 },
 "nbformat": 4,
 "nbformat_minor": 2
}
