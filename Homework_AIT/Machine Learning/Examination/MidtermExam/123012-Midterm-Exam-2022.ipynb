{
 "cells": [
  {
   "cell_type": "markdown",
   "metadata": {},
   "source": [
    "Before you turn this problem in, make sure everything runs as expected. First, **restart the kernel** (in the menubar, select Kernel$\\rightarrow$Restart) and then **run all cells** (in the menubar, select Cell$\\rightarrow$Run All).\n",
    "\n",
    "Make sure you fill in any place that says `YOUR CODE HERE` or \"YOUR ANSWER HERE\", as well as your name and collaborators below:"
   ]
  },
  {
   "cell_type": "code",
   "execution_count": 11,
   "metadata": {},
   "outputs": [],
   "source": [
    "NAME = \"Todsavad Tangtortan\"\n",
    "ID = \"123012\""
   ]
  },
  {
   "cell_type": "markdown",
   "metadata": {},
   "source": [
    "---"
   ]
  },
  {
   "cell_type": "markdown",
   "metadata": {},
   "source": [
    "# AT82.03 Machine Learning Aug 2022: Midterm Examination\n",
    "\n",
    "Happy Wednesday! This is the midterm for Machine Learning in the August 2022 semester.\n",
    "\n",
    "This exam is 2.5 hours long. Once the exam starts, you will have exactly 2.5 hours to finish your work\n",
    "and upload your notebook to Google Classroom.\n",
    "\n",
    "Please fill in this notebook with your code and short answers. Be sure to put all of your code\n",
    "in the cells marked with\n",
    "\n",
    "    # YOUR CODE GOES HERE\n",
    "    \n",
    "and please put your answers to the short answer questions exactly where you see the remark\n",
    "\n",
    "*You answer goes here.*\n",
    "\n",
    "Be complete and precise in your answers! Be sure to answer the question that's being asked. Don't dump random information in the hope that it'll give you partial credit. I give generous partial credit, but I will deduct points for answers that are not on point.\n",
    "\n",
    "Also beware that if I discover any cheating, I will give you a 0 for the entire exam, or worse, and you will likely fail the class. Just don't do it!\n",
    "\n",
    "OK, that's all for the advice. Relax, take a deep breath, and good luck!\n",
    "\n",
    "## Question 1: Data exploration plots (10 points)\n",
    "\n",
    "Consider the dataset below consisting of three input variables/featues and a single target variable:\n"
   ]
  },
  {
   "cell_type": "code",
   "execution_count": 482,
   "metadata": {},
   "outputs": [],
   "source": [
    "import numpy as np\n",
    "\n",
    "X = np.array([[95.4390639,  83.31934972],\n",
    "              [13.67115836, 84.74557641],\n",
    "              [53.27307589, 37.59403767],\n",
    "              [ 8.64486451, 47.8405645 ],\n",
    "              [64.15658753, 92.72411943],\n",
    "              [29.04799402, 79.06075206],\n",
    "              [ 1.00602702, 63.4238684 ],\n",
    "              [45.41508098,  7.21623462],\n",
    "              [82.17800656, 33.68390064],\n",
    "              [86.96070407, 38.92389152],\n",
    "              [60.7952285 , 44.6908313 ],\n",
    "              [73.95070995,  2.68723738],\n",
    "              [25.6515135 , 49.37574364],\n",
    "              [74.66786412, 48.38958582],\n",
    "              [74.38500065,  9.40806053],\n",
    "              [19.64213251, 13.91601575],\n",
    "              [81.66070641, 74.72551798],\n",
    "              [88.06273009, 71.35391261],\n",
    "              [ 1.5653782 , 36.79127474],\n",
    "              [90.81727373, 54.02801892],\n",
    "              [49.26948878, 86.50036905],\n",
    "              [84.11602474, 44.29903127],\n",
    "              [30.91464673, 47.65360783],\n",
    "              [12.98810571, 50.07917374],\n",
    "              [ 0.36686977, 43.17571941],\n",
    "              [22.94379496,  1.60172342],\n",
    "              [65.93710816, 79.72225388],\n",
    "              [31.81502718, 62.58999468],\n",
    "              [91.85575017, 73.05058517],\n",
    "              [49.29673314, 74.79098938],\n",
    "              [38.0590356 , 89.72315669],\n",
    "              [66.09614352,  1.86648706],\n",
    "              [56.71586768, 96.25263839],\n",
    "              [14.19414724,  6.40805837],\n",
    "              [33.62560565,  3.99906838],\n",
    "              [15.75202546,  5.0044235 ],\n",
    "              [59.41717888, 92.58145208],\n",
    "              [27.70218439,  5.61364412],\n",
    "              [88.25916981, 89.90372639],\n",
    "              [73.31581635,  6.73594244],\n",
    "              [90.67376266, 43.58520754],\n",
    "              [78.58358674, 67.42325087],\n",
    "              [23.87123374, 87.60442979],\n",
    "              [21.96131452, 63.8536643 ],\n",
    "              [ 1.00417157, 17.59184728],\n",
    "              [67.59954605, 84.15755705],\n",
    "              [80.47940141, 11.87636075],\n",
    "              [ 3.62917933, 19.55198985],\n",
    "              [12.71516368, 25.4186217 ],\n",
    "              [37.55750429, 43.64111412],\n",
    "              [86.90215504, 69.64712887],\n",
    "              [91.73632345, 68.89476544],\n",
    "              [25.8879402 , 31.0297828 ],\n",
    "              [ 4.06990637, 22.16202138],\n",
    "              [41.5923672 , 59.89802204],\n",
    "              [31.31259798,  5.53064783],\n",
    "              [43.82748871, 62.4199824 ],\n",
    "              [40.97918259, 92.30728398],\n",
    "              [33.82910179, 34.83518447],\n",
    "              [99.94971986, 12.40551602],\n",
    "              [34.58465592, 38.62695867],\n",
    "              [32.19795867, 72.5024713 ],\n",
    "              [75.80358715, 57.31685742],\n",
    "              [45.12675968,  9.41268545],\n",
    "              [38.78337235, 85.01680884],\n",
    "              [58.95973444, 99.74117103],\n",
    "              [45.21354088, 79.1192906 ],\n",
    "              [18.96298673, 29.1266886 ],\n",
    "              [65.22722146, 12.33871576],\n",
    "              [69.45278969, 77.33459766],\n",
    "              [91.52575785, 30.18428089],\n",
    "              [21.33762542, 35.20892926],\n",
    "              [26.08155921, 53.28634734],\n",
    "              [61.79099611,  8.53528537],\n",
    "              [74.10980357, 72.94139705],\n",
    "              [87.42932264, 57.83790766],\n",
    "              [68.39378835, 27.12353194],\n",
    "              [15.83177191, 97.73050493],\n",
    "              [ 9.76973702, 48.28013156],\n",
    "              [15.22312416, 32.97343019],\n",
    "              [90.73003149, 66.96409435],\n",
    "              [18.04637341, 10.82496695],\n",
    "              [97.27276228, 60.71938239],\n",
    "              [ 4.71433411, 90.53983424],\n",
    "              [59.3203621 , 44.40236225],\n",
    "              [11.93173881, 34.4326921 ],\n",
    "              [90.2860103 , 27.86584664],\n",
    "              [69.33515009, 88.3734959 ],\n",
    "              [77.86141135, 92.60874545],\n",
    "              [85.20628186, 52.38274736],\n",
    "              [92.05168876, 51.16781838],\n",
    "              [73.74077248, 21.88131717],\n",
    "              [25.25937634, 41.85879142],\n",
    "              [36.20679505,  3.0151093 ],\n",
    "              [25.73434511, 44.71374727],\n",
    "              [17.23168113, 55.57854404],\n",
    "              [51.44267764, 17.90561249],\n",
    "              [79.76603354, 75.91389532],\n",
    "              [37.33184173, 27.1768214 ],\n",
    "              [69.42879862, 37.94106355],\n",
    "              [61.75116432, 59.17469329],\n",
    "              [42.39948842, 87.24563964],\n",
    "              [53.53282161, 24.67781179],\n",
    "              [51.11641162,  5.26161797],\n",
    "              [34.72889214, 51.47271592],\n",
    "              [ 8.57248491, 17.49620487],\n",
    "              [17.24240261, 43.79440455],\n",
    "              [39.93474089,  5.24234885],\n",
    "              [30.06770223,  0.55310218],\n",
    "              [21.43661461, 58.77677102],\n",
    "              [46.39565122, 61.43016461],\n",
    "              [10.14847636, 39.12835251],\n",
    "              [41.36878042, 61.94551292],\n",
    "              [85.4576223 ,  2.20674862],\n",
    "              [31.69633183, 15.21810378],\n",
    "              [41.90442163, 24.27193547],\n",
    "              [47.74418285, 39.62200428],\n",
    "              [96.84289226,  7.33215784],\n",
    "              [48.23947471, 96.89881133],\n",
    "              [12.07908021, 20.97423282],\n",
    "              [61.91831172, 54.42739665],\n",
    "              [78.14110823, 96.20732396],\n",
    "              [48.22251149, 76.88097169],\n",
    "              [74.19593295, 34.51148029],\n",
    "              [29.43667404, 51.57111197],\n",
    "              [60.96653134, 60.4025707 ],\n",
    "              [44.96306242, 19.45826792],\n",
    "              [42.63108341,  0.34343994],\n",
    "              [53.26166658, 99.0958067 ],\n",
    "              [68.62289657, 82.77278996],\n",
    "              [20.45606188,  1.61360673],\n",
    "              [ 0.81419329, 79.35740785],\n",
    "              [ 1.10706956, 11.07768915],\n",
    "              [22.29397375, 58.56808987],\n",
    "              [62.55289326, 42.29890382],\n",
    "              [73.56267411, 12.92471643],\n",
    "              [55.7143952 , 81.6482372 ],\n",
    "              [42.28767373, 94.94612122],\n",
    "              [20.0148003 , 89.72517477],\n",
    "              [70.78274519, 65.76766808],\n",
    "              [87.59219829, 61.7140151 ],\n",
    "              [75.91874255, 58.42769338],\n",
    "              [ 4.69951124, 22.08323946],\n",
    "              [97.10265343, 57.41537198],\n",
    "              [ 2.39245232, 88.05382523],\n",
    "              [90.39648331, 42.35355901],\n",
    "              [81.69437844, 89.60247877],\n",
    "              [79.0561316 , 14.71619645],\n",
    "              [41.87736504,  7.7179092 ],\n",
    "              [98.80428451,  2.86556487],\n",
    "              [36.05531832, 59.50705251],\n",
    "              [51.84540154, 53.186045  ],\n",
    "              [ 4.01348172, 84.38804872],\n",
    "              [22.27196067, 38.96304517],\n",
    "              [91.7045932 , 74.58898091],\n",
    "              [31.21223847, 41.29131348],\n",
    "              [73.22656691, 80.52341693],\n",
    "              [95.92673573, 91.41720844],\n",
    "              [64.32318894, 19.07813355],\n",
    "              [70.96266184,  3.73483197],\n",
    "              [29.65060712, 35.89131102],\n",
    "              [11.33574683, 59.53230411],\n",
    "              [62.91059369,  4.2448265 ],\n",
    "              [89.91209837, 21.40631786],\n",
    "              [79.17136304, 69.4979932 ],\n",
    "              [ 9.07106041, 26.21758758],\n",
    "              [99.03500898,  1.89039447],\n",
    "              [60.74915692, 92.51120357],\n",
    "              [93.15130955,  8.0828261 ],\n",
    "              [25.35400614, 81.11614377],\n",
    "              [89.07062163,  3.51718541],\n",
    "              [82.46353647, 89.19422305],\n",
    "              [44.42685019, 68.1011075 ],\n",
    "              [96.09301016, 39.09571892],\n",
    "              [38.27759922, 88.97250662],\n",
    "              [13.32816336, 96.81334061],\n",
    "              [25.86444023, 48.11143027],\n",
    "              [19.85332016, 62.64936196],\n",
    "              [49.36532404, 60.33179636],\n",
    "              [32.88859189, 14.26080865],\n",
    "              [10.76751248, 53.2446827 ],\n",
    "              [78.55138609, 53.6803922 ],\n",
    "              [85.27672228, 58.43291792],\n",
    "              [95.74517489, 16.15459772],\n",
    "              [31.78578734, 68.11013953],\n",
    "              [33.88018794,  3.76587732],\n",
    "              [45.84116034, 35.51417938],\n",
    "              [ 2.24823407, 82.35312693],\n",
    "              [66.96024794,  3.33362434],\n",
    "              [51.89744606, 81.33674745],\n",
    "              [42.27562763, 52.09268647],\n",
    "              [30.47513827, 61.90262754],\n",
    "              [ 0.58154445, 66.17316811],\n",
    "              [22.74349719, 81.36984334],\n",
    "              [ 7.13256459, 58.14590189],\n",
    "              [38.56940155, 57.67416727],\n",
    "              [30.36789005, 84.00158639],\n",
    "              [78.71620958, 52.93006222],\n",
    "              [97.30505155, 59.18821243],\n",
    "              [90.0085436 , 35.89366165]])\n",
    "\n",
    "y = np.array([[3.81150041],\n",
    "              [3.68854129],\n",
    "              [0.8944982 ],\n",
    "              [2.38966958],\n",
    "              [2.83461079],\n",
    "              [2.13870069],\n",
    "              [3.49598793],\n",
    "              [2.70892378],\n",
    "              [2.37979154],\n",
    "              [2.41434566],\n",
    "              [1.15137511],\n",
    "              [4.10953801],\n",
    "              [1.70821093],\n",
    "              [1.43740962],\n",
    "              [3.81414356],\n",
    "              [3.37590007],\n",
    "              [2.63553015],\n",
    "              [3.14050475],\n",
    "              [3.7116356 ],\n",
    "              [2.88950911],\n",
    "              [2.31154017],\n",
    "              [2.07401238],\n",
    "              [1.63752718],\n",
    "              [2.31200729],\n",
    "              [3.49300626],\n",
    "              [4.38477576],\n",
    "              [2.20830853],\n",
    "              [1.45509209],\n",
    "              [3.40380497],\n",
    "              [1.3105336 ],\n",
    "              [2.65585153],\n",
    "              [3.66509154],\n",
    "              [2.94160999],\n",
    "              [4.26551245],\n",
    "              [3.01997979],\n",
    "              [3.91127599],\n",
    "              [2.88986501],\n",
    "              [3.32841401],\n",
    "              [4.25079854],\n",
    "              [2.89912174],\n",
    "              [2.7998386 ],\n",
    "              [1.97409993],\n",
    "              [3.27449309],\n",
    "              [1.99240498],\n",
    "              [4.27111927],\n",
    "              [2.49961231],\n",
    "              [3.38980059],\n",
    "              [3.97536188],\n",
    "              [3.06064475],\n",
    "              [1.11169704],\n",
    "              [2.67002605],\n",
    "              [3.01202227],\n",
    "              [1.97460692],\n",
    "              [3.93318655],\n",
    "              [1.17142553],\n",
    "              [3.16730425],\n",
    "              [1.10690771],\n",
    "              [2.58932764],\n",
    "              [1.28624003],\n",
    "              [5.14848557],\n",
    "              [1.32973741],\n",
    "              [1.7458584 ],\n",
    "              [1.721212  ],\n",
    "              [2.82724111],\n",
    "              [1.91209222],\n",
    "              [3.9330277 ],\n",
    "              [1.93663538],\n",
    "              [2.33696548],\n",
    "              [2.92111572],\n",
    "              [2.50320805],\n",
    "              [3.35691113],\n",
    "              [2.09051283],\n",
    "              [1.43341029],\n",
    "              [3.12568028],\n",
    "              [2.10530864],\n",
    "              [2.66343892],\n",
    "              [1.95439316],\n",
    "              [4.45666594],\n",
    "              [2.66156551],\n",
    "              [2.6896019 ],\n",
    "              [3.10846211],\n",
    "              [3.67644779],\n",
    "              [3.46673821],\n",
    "              [5.25372191],\n",
    "              [1.31322018],\n",
    "              [2.93456814],\n",
    "              [3.03590631],\n",
    "              [2.35284503],\n",
    "              [3.83101015],\n",
    "              [2.06330819],\n",
    "              [2.8453685 ],\n",
    "              [2.35180484],\n",
    "              [1.55321838],\n",
    "              [3.36837427],\n",
    "              [1.04563186],\n",
    "              [2.24226242],\n",
    "              [1.95915203],\n",
    "              [2.60073806],\n",
    "              [1.65406792],\n",
    "              [1.386055  ],\n",
    "              [1.10679818],\n",
    "              [1.95594529],\n",
    "              [1.715877  ],\n",
    "              [2.87369866],\n",
    "              [1.26521026],\n",
    "              [3.92878375],\n",
    "              [2.09782531],\n",
    "              [3.17004681],\n",
    "              [3.96224365],\n",
    "              [1.59687344],\n",
    "              [1.55884482],\n",
    "              [2.6340439 ],\n",
    "              [1.22513898],\n",
    "              [4.65961598],\n",
    "              [2.22806804],\n",
    "              [1.96065793],\n",
    "              [1.00237227],\n",
    "              [5.09888098],\n",
    "              [3.28528245],\n",
    "              [3.05284663],\n",
    "              [1.34016037],\n",
    "              [3.91096303],\n",
    "              [1.80150393],\n",
    "              [1.85524126],\n",
    "              [1.68255239],\n",
    "              [1.09455258],\n",
    "              [2.00585719],\n",
    "              [3.12867532],\n",
    "              [3.57310516],\n",
    "              [2.26671395],\n",
    "              [4.09405201],\n",
    "              [4.22751424],\n",
    "              [5.05533809],\n",
    "              [1.83946567],\n",
    "              [1.05324801],\n",
    "              [2.94706859],\n",
    "              [2.067533  ],\n",
    "              [2.97737387],\n",
    "              [3.41087358],\n",
    "              [1.94174379],\n",
    "              [2.12261401],\n",
    "              [1.73471187],\n",
    "              [4.00767194],\n",
    "              [3.14592755],\n",
    "              [5.1161286 ],\n",
    "              [2.66923141],\n",
    "              [3.83505575],\n",
    "              [2.97122399],\n",
    "              [2.59815139],\n",
    "              [6.11801669],\n",
    "              [1.50199405],\n",
    "              [1.39166421],\n",
    "              [4.59746609],\n",
    "              [1.86539762],\n",
    "              [3.048804  ],\n",
    "              [1.12498764],\n",
    "              [2.46824373],\n",
    "              [5.06108491],\n",
    "              [1.90710975],\n",
    "              [3.10883655],\n",
    "              [1.73064835],\n",
    "              [2.47857719],\n",
    "              [3.67094623],\n",
    "              [3.52492058],\n",
    "              [2.03957669],\n",
    "              [3.33889322],\n",
    "              [5.70958104],\n",
    "              [3.05765815],\n",
    "              [4.54515851],\n",
    "              [2.55681515],\n",
    "              [4.22576424],\n",
    "              [3.77237288],\n",
    "              [1.6669642 ],\n",
    "              [2.941536  ],\n",
    "              [2.90623892],\n",
    "              [4.45817089],\n",
    "              [1.59686211],\n",
    "              [2.26125033],\n",
    "              [0.94883421],\n",
    "              [2.9927748 ],\n",
    "              [2.7481305 ],\n",
    "              [1.87223385],\n",
    "              [2.33870359],\n",
    "              [4.13076902],\n",
    "              [1.92604824],\n",
    "              [3.62946413],\n",
    "              [1.34572531],\n",
    "              [4.44013237],\n",
    "              [3.12749028],\n",
    "              [1.79832098],\n",
    "              [1.14916906],\n",
    "              [1.28223466],\n",
    "              [3.84131003],\n",
    "              [2.40451623],\n",
    "              [2.99815782],\n",
    "              [0.87113332],\n",
    "              [2.93661593],\n",
    "              [1.93936509],\n",
    "              [2.94934327],\n",
    "              [2.36572228]])"
   ]
  },
  {
   "cell_type": "code",
   "execution_count": 483,
   "metadata": {},
   "outputs": [
    {
     "data": {
      "text/plain": [
       "((200, 2), (200, 1))"
      ]
     },
     "execution_count": 483,
     "metadata": {},
     "output_type": "execute_result"
    }
   ],
   "source": [
    "X.shape,y.shape"
   ]
  },
  {
   "cell_type": "markdown",
   "metadata": {},
   "source": [
    "In the cell below, write code to make two scatterplots, each showing an input variable $x_j$ on the $X$ axis and the target variable $y$ on the $Y$ axis."
   ]
  },
  {
   "cell_type": "code",
   "execution_count": 484,
   "metadata": {},
   "outputs": [
    {
     "data": {
      "image/png": "[encoded data removed]",
      "text/plain": [
       "<Figure size 1800x360 with 2 Axes>"
      ]
     },
     "metadata": {
      "needs_background": "light"
     },
     "output_type": "display_data"
    }
   ],
   "source": [
    "# YOUR CODE HERE\n",
    "import matplotlib.pyplot as plt\n",
    "plt.figure(figsize=(25,5))\n",
    "plt.subplot(1,3,1)\n",
    "plt.scatter(X[:,0],y)\n",
    "plt.xlabel('x1')\n",
    "plt.ylabel('Y')\n",
    "plt.title('Input Variable x1')\n",
    "\n",
    "plt.subplot(1,3,2)\n",
    "plt.scatter(X[:,1],y)\n",
    "plt.title('Input Variable x2')\n",
    "plt.xlabel('x2')\n",
    "plt.ylabel('Y')\n",
    "\n",
    "plt.show()"
   ]
  },
  {
   "cell_type": "markdown",
   "metadata": {},
   "source": [
    "From your graphs, what do you think is the relationship between the independent variables and the dependent variable?\n",
    "YOUR ANSWER HERE\n",
    "\n",
    "There are the spread between X1 and X2 forming as a quadratic  shape. I think it is dependent variable because X1 and X2 is slightly follow with y to together as a curve."
   ]
  },
  {
   "cell_type": "markdown",
   "metadata": {},
   "source": [
    "## Question 2: Linear regression models (30 points)\n",
    "\n",
    "Split the data from Question 1 into a training set (80% of the data) and test set (20% of the data).\n",
    "\n",
    "Build three linear regression models using the normal equations:\n",
    "$$ h_{\\theta}(\\mathbf{x}) = \\theta_0 + \\theta_1 x_1 + \\theta_2 x_2$$\n",
    "$$ h_{\\theta}(\\mathbf{x}) = \\theta_0 + \\theta_1 x_1 + \\theta_2 x_2 + \\theta_3 x_1^2 + \\theta_4 x_2^2 + \\theta_5 x_1 x_2 $$\n",
    "$$ h_{\\theta}(\\mathbf{x}) = \\theta_0 + \\theta_1 x_1 + \\theta_2 x_2 + \\theta_3 x_1^2 + \\theta_4 x_2^2 + \\theta_5 x_1 x_2 + \\theta_6 x_1^3 + \\theta_7 x_2^3 + \\theta_8 x_1^2 x_2 + \\theta_9 x_1 x_2^2 $$\n",
    "\n",
    "Plot training and test error as a function of hypothesis polynomial degree."
   ]
  },
  {
   "cell_type": "markdown",
   "metadata": {},
   "source": [
    "$$ h_{\\theta}(\\mathbf{x}) = \\theta_0 + \\theta_1 x_1 + \\theta_2 x_2$$"
   ]
  },
  {
   "cell_type": "code",
   "execution_count": 485,
   "metadata": {},
   "outputs": [],
   "source": [
    "import random\n",
    "def partition(X, y, percent_train):\n",
    "    m = y.shape[0]\n",
    "    idx = np.arange(0,m)\n",
    "    random.seed(1412)\n",
    "    random.shuffle(idx)\n",
    "    percent_train = 0.6\n",
    "    m_train = int(m * percent_train)\n",
    "    train_idx = idx[:m_train]\n",
    "    test_idx = idx[m_train:]\n",
    "    X_train = X[train_idx]\n",
    "    y_train = y[train_idx]\n",
    "    X_test = X[test_idx]\n",
    "    y_test = y[test_idx]\n",
    "    return idx, X_train, y_train, X_test, y_test"
   ]
  },
  {
   "cell_type": "code",
   "execution_count": 486,
   "metadata": {},
   "outputs": [],
   "source": [
    "idx, X_train, y_train, X_test, y_test = partition(X,y,0.2)"
   ]
  },
  {
   "cell_type": "code",
   "execution_count": 487,
   "metadata": {},
   "outputs": [
    {
     "data": {
      "text/plain": [
       "((120, 2), (120, 1), (80, 2), (80, 1))"
      ]
     },
     "execution_count": 487,
     "metadata": {},
     "output_type": "execute_result"
    }
   ],
   "source": [
    "X_train.shape, y_train.shape, X_test.shape, y_test.shape"
   ]
  },
  {
   "cell_type": "code",
   "execution_count": 488,
   "metadata": {},
   "outputs": [],
   "source": [
    "def normal_equation(X,y):\n",
    "    theta_normal = np.linalg.inv(X.T @ X) @ X.T @ y\n",
    "    return theta_normal\n",
    "\n",
    "def hypothesis(X,theta):\n",
    "    yhat =  X @ theta\n",
    "    return yhat"
   ]
  },
  {
   "cell_type": "code",
   "execution_count": 489,
   "metadata": {},
   "outputs": [],
   "source": [
    "X1_train = np.insert(X_train,0,1,axis=1)\n",
    "X1_test = np.insert(X_test,0,1,axis=1)"
   ]
  },
  {
   "cell_type": "code",
   "execution_count": 490,
   "metadata": {},
   "outputs": [
    {
     "data": {
      "text/plain": [
       "((120, 3), (80, 2))"
      ]
     },
     "execution_count": 490,
     "metadata": {},
     "output_type": "execute_result"
    }
   ],
   "source": [
    "X1_train.shape,X_test.shape"
   ]
  },
  {
   "cell_type": "code",
   "execution_count": 491,
   "metadata": {},
   "outputs": [],
   "source": [
    "theta1 = normal_equation(X1_train,y_train)\n",
    "yhat1_train = hypothesis(X1_train,theta1)\n",
    "yhat1_test = hypothesis(X1_test,theta1)"
   ]
  },
  {
   "cell_type": "code",
   "execution_count": 492,
   "metadata": {},
   "outputs": [],
   "source": [
    "def rmse(X,yhat,y):\n",
    "    m = X.shape[0]\n",
    "    return np.sqrt((yhat - y).T @ (yhat - y) / m)"
   ]
  },
  {
   "cell_type": "code",
   "execution_count": 493,
   "metadata": {},
   "outputs": [
    {
     "data": {
      "text/plain": [
       "(array([[1.05454675]]), array([[1.09541058]]))"
      ]
     },
     "execution_count": 493,
     "metadata": {},
     "output_type": "execute_result"
    }
   ],
   "source": [
    "rmse1_train = rmse(X1_train,yhat1_train,y_train)\n",
    "rmse1_test  = rmse(X1_test,yhat1_test,y_test)\n",
    "rmse1_train,rmse1_test"
   ]
  },
  {
   "cell_type": "code",
   "execution_count": 494,
   "metadata": {},
   "outputs": [],
   "source": [
    "import matplotlib.pyplot as plt\n",
    "def predict_plot(y,yhat,rmse,text='Train'):\n",
    "    miny,maxy = 100,160\n",
    "    plt.plot(y, yhat, 'ro')\n",
    "    plt.plot([miny, maxy],[miny, maxy], 'k-')\n",
    "    plt.xlim([miny, maxy])\n",
    "    plt.xlabel('Actual')\n",
    "    plt.ylabel('Predicted')\n",
    "    plt.axis('equal')\n",
    "    plt.title(f'{text} set predictions')\n",
    "    plt.text(140, 110, 'RMSE: %.3f' % rmse, fontsize=12)"
   ]
  },
  {
   "cell_type": "code",
   "execution_count": 495,
   "metadata": {},
   "outputs": [
    {
     "data": {
      "image/png": "[encoded data removed]",
      "text/plain": [
       "<Figure size 1080x360 with 2 Axes>"
      ]
     },
     "metadata": {
      "needs_background": "light"
     },
     "output_type": "display_data"
    }
   ],
   "source": [
    "import matplotlib.pyplot as plt\n",
    "plt.figure(figsize=(15, 5))\n",
    "# miny,maxy = -5,5\n",
    "plt.subplot(1,2,1)\n",
    "plt.plot(y_train, yhat1_train, 'ro')\n",
    "# plt.plot([miny, maxy],[miny, maxy], 'k-')\n",
    "# plt.xlim([miny, maxy])\n",
    "plt.xlabel('Actual')\n",
    "plt.ylabel('Predicted')\n",
    "plt.axis('equal')\n",
    "plt.title('Training set predictions')\n",
    "plt.text(4, 1.5, 'RMSE: %.3f' % rmse1_train, fontsize=12)\n",
    "plt.subplot(1,2,2)\n",
    "plt.plot(y_test, yhat1_test, 'ro')\n",
    "# plt.plot([miny, maxy],[miny, maxy], 'k-')\n",
    "# plt.xlim([miny, maxy])\n",
    "plt.xlabel('Actual')\n",
    "plt.axis('equal')\n",
    "plt.title('Test set predictions')\n",
    "plt.text(4, 1.5, 'RMSE: %.3f' % rmse1_test, fontsize=12)\n",
    "plt.show()"
   ]
  },
  {
   "cell_type": "markdown",
   "metadata": {},
   "source": [
    "$$ h_{\\theta}(\\mathbf{x}) = \\theta_0 + \\theta_1 x_1 + \\theta_2 x_2 + \\theta_3 x_1^2 + \\theta_4 x_2^2 + \\theta_5 x_1 x_2 $$"
   ]
  },
  {
   "cell_type": "code",
   "execution_count": 496,
   "metadata": {},
   "outputs": [
    {
     "data": {
      "text/plain": [
       "array([[ 1.        , 66.96024794,  3.33362434],\n",
       "       [ 1.        , 40.97918259, 92.30728398],\n",
       "       [ 1.        , 77.86141135, 92.60874545],\n",
       "       [ 1.        , 33.62560565,  3.99906838],\n",
       "       [ 1.        ,  0.58154445, 66.17316811]])"
      ]
     },
     "execution_count": 496,
     "metadata": {},
     "output_type": "execute_result"
    }
   ],
   "source": [
    "X2_train = np.insert(X_train,0,1,axis=1)\n",
    "X2_test = np.insert(X_test,0,1,axis=1)\n",
    "\n",
    "X2_train[0:5]"
   ]
  },
  {
   "cell_type": "code",
   "execution_count": 497,
   "metadata": {},
   "outputs": [
    {
     "data": {
      "text/plain": [
       "(120, 3)"
      ]
     },
     "execution_count": 497,
     "metadata": {},
     "output_type": "execute_result"
    }
   ],
   "source": [
    "X2_train.shape"
   ]
  },
  {
   "cell_type": "code",
   "execution_count": 498,
   "metadata": {},
   "outputs": [],
   "source": [
    "X2_train = np.insert(X2_train, -1, X_train[:,0]**2, axis=1) #x^2 column \n",
    "X2_train = np.insert(X2_train, -1, X_train[:,1]**2, axis=1) #x^2 column \n",
    "X2_train = np.insert(X2_train, -1, X_train[:,0]*X_train[:,1], axis=1)\n",
    "\n",
    "X2_test = np.insert(X2_test, -1, X_test[:,0]**2, axis=1) #x^2 column \n",
    "X2_test = np.insert(X2_test, -1, X_test[:,1]**2, axis=1) #x^2 column \n",
    "X2_test = np.insert(X2_test, -1, X_test[:,0]*X_test[:,1], axis=1)"
   ]
  },
  {
   "cell_type": "code",
   "execution_count": 499,
   "metadata": {},
   "outputs": [
    {
     "data": {
      "text/plain": [
       "((120, 6), (80, 6))"
      ]
     },
     "execution_count": 499,
     "metadata": {},
     "output_type": "execute_result"
    }
   ],
   "source": [
    "X2_train.shape,X2_test.shape"
   ]
  },
  {
   "cell_type": "code",
   "execution_count": 500,
   "metadata": {},
   "outputs": [],
   "source": [
    "theta2 = normal_equation(X2_train,y_train)\n",
    "\n",
    "yhat2_train = hypothesis(X2_train,theta2)\n",
    "yhat2_test = hypothesis(X2_test,theta2)"
   ]
  },
  {
   "cell_type": "code",
   "execution_count": 501,
   "metadata": {},
   "outputs": [
    {
     "data": {
      "text/plain": [
       "(array([[0.21592833]]), array([[0.21520522]]))"
      ]
     },
     "execution_count": 501,
     "metadata": {},
     "output_type": "execute_result"
    }
   ],
   "source": [
    "rmse2_train = rmse(X2_train,yhat2_train,y_train)\n",
    "rmse2_test  = rmse(X2_test,yhat2_test,y_test)\n",
    "rmse2_train,rmse2_test"
   ]
  },
  {
   "cell_type": "code",
   "execution_count": 502,
   "metadata": {},
   "outputs": [
    {
     "data": {
      "image/png": "[encoded data removed]",
      "text/plain": [
       "<Figure size 1080x360 with 2 Axes>"
      ]
     },
     "metadata": {
      "needs_background": "light"
     },
     "output_type": "display_data"
    }
   ],
   "source": [
    "import matplotlib.pyplot as plt\n",
    "plt.figure(figsize=(15, 5))\n",
    "# miny,maxy = 100,160\n",
    "plt.subplot(1,2,1)\n",
    "plt.plot(y_train, yhat2_train, 'ro')\n",
    "# plt.plot([miny, maxy],[miny, maxy], 'k-')\n",
    "# plt.xlim([miny, maxy])\n",
    "plt.xlabel('Actual')\n",
    "plt.ylabel('Predicted')\n",
    "plt.axis('equal')\n",
    "plt.title('Training set predictions')\n",
    "plt.text(4, 1.5, 'RMSE: %.3f' % rmse2_train, fontsize=12)\n",
    "plt.subplot(1,2,2)\n",
    "plt.plot(y_test, yhat2_test, 'ro')\n",
    "# plt.plot([miny, maxy],[miny, maxy], 'k-')\n",
    "# plt.xlim([miny, maxy])\n",
    "plt.xlabel('Actual')\n",
    "plt.axis('equal')\n",
    "plt.title('Test set predictions')\n",
    "plt.text(4, 1.5, 'RMSE: %.3f' % rmse2_test, fontsize=12)\n",
    "plt.show()"
   ]
  },
  {
   "cell_type": "markdown",
   "metadata": {},
   "source": [
    "$$ h_{\\theta}(\\mathbf{x}) = \\theta_0 + \\theta_1 x_1 + \\theta_2 x_2 + \\theta_3 x_1^2 + \\theta_4 x_2^2 + \\theta_5 x_1 x_2 + \\theta_6 x_1^3 + \\theta_7 x_2^3 + \\theta_8 x_1^2 x_2 + \\theta_9 x_1 x_2^2 $$"
   ]
  },
  {
   "cell_type": "code",
   "execution_count": 503,
   "metadata": {},
   "outputs": [],
   "source": [
    "X3_train = np.insert(X_train,0,1,axis=1)\n",
    "X3_test = np.insert(X_test,0,1,axis=1)"
   ]
  },
  {
   "cell_type": "code",
   "execution_count": 504,
   "metadata": {},
   "outputs": [],
   "source": [
    "X3_train = np.insert(X3_train, -1, X_train[:,0]**2, axis=1) #x^2 column \n",
    "X3_train = np.insert(X3_train, -1, X_train[:,1]**2, axis=1) #x^2 column \n",
    "X3_train = np.insert(X3_train, -1, X_train[:,0]*X_train[:,1], axis=1)\n",
    "\n",
    "X3_train = np.insert(X3_train, -1, X_train[:,0]**3, axis=1)\n",
    "X3_train = np.insert(X3_train, -1, X_train[:,1]**3, axis=1)\n",
    "X3_train = np.insert(X3_train, -1, (X_train[:,0]**2)*X_train[:,1], axis=1)\n",
    "X3_train = np.insert(X3_train, -1, X_train[:,0]*(X_train[:,1]**2), axis=1)\n",
    "\n",
    "X3_test = np.insert(X3_test, -1, X_test[:,0]**2, axis=1) #x^2 column \n",
    "X3_test = np.insert(X3_test, -1, X_test[:,1]**2, axis=1) #x^2 column \n",
    "X3_test = np.insert(X3_test, -1, X_test[:,0]*X_test[:,1], axis=1)\n",
    "                     \n",
    "X3_test = np.insert(X3_test, -1, X_test[:,0]**3, axis=1)\n",
    "X3_test = np.insert(X3_test, -1, X_test[:,1]**3, axis=1)\n",
    "X3_test = np.insert(X3_test, -1, (X_test[:,0]**2)*X_test[:,1], axis=1)\n",
    "X3_test = np.insert(X3_test, -1, X_test[:,0]*(X_test[:,1]**2), axis=1)"
   ]
  },
  {
   "cell_type": "code",
   "execution_count": 505,
   "metadata": {},
   "outputs": [
    {
     "data": {
      "text/plain": [
       "((120, 10), (80, 10))"
      ]
     },
     "execution_count": 505,
     "metadata": {},
     "output_type": "execute_result"
    }
   ],
   "source": [
    "X3_train.shape,X3_test.shape"
   ]
  },
  {
   "cell_type": "code",
   "execution_count": 506,
   "metadata": {},
   "outputs": [],
   "source": [
    "theta3 = normal_equation(X3_train,y_train)\n",
    "\n",
    "yhat3_train = hypothesis(X3_train,theta3)\n",
    "yhat3_test = hypothesis(X3_test,theta3)"
   ]
  },
  {
   "cell_type": "code",
   "execution_count": 507,
   "metadata": {},
   "outputs": [
    {
     "data": {
      "text/plain": [
       "(array([[0.21270554]]), array([[0.22404454]]))"
      ]
     },
     "execution_count": 507,
     "metadata": {},
     "output_type": "execute_result"
    }
   ],
   "source": [
    "rmse3_train = rmse(X3_train,yhat3_train,y_train)\n",
    "rmse3_test  = rmse(X3_test,yhat3_test,y_test)\n",
    "rmse3_train,rmse3_test"
   ]
  },
  {
   "cell_type": "code",
   "execution_count": 508,
   "metadata": {},
   "outputs": [
    {
     "data": {
      "image/png": "[encoded data removed]",
      "text/plain": [
       "<Figure size 1080x360 with 2 Axes>"
      ]
     },
     "metadata": {
      "needs_background": "light"
     },
     "output_type": "display_data"
    }
   ],
   "source": [
    "import matplotlib.pyplot as plt\n",
    "plt.figure(figsize=(15, 5))\n",
    "# miny,maxy = 100,160\n",
    "plt.subplot(1,2,1)\n",
    "plt.plot(y_train, yhat2_train, 'ro')\n",
    "# plt.plot([miny, maxy],[miny, maxy], 'k-')\n",
    "# plt.xlim([miny, maxy])\n",
    "plt.xlabel('Actual')\n",
    "plt.ylabel('Predicted')\n",
    "plt.axis('equal')\n",
    "plt.title('Training set predictions')\n",
    "plt.text(4, 1.5, 'RMSE: %.3f' % rmse3_train, fontsize=12)\n",
    "plt.subplot(1,2,2)\n",
    "plt.plot(y_test, yhat2_test, 'ro')\n",
    "# plt.plot([miny, maxy],[miny, maxy], 'k-')\n",
    "# plt.xlim([miny, maxy])\n",
    "plt.xlabel('Actual')\n",
    "plt.axis('equal')\n",
    "plt.title('Test set predictions')\n",
    "plt.text(4, 1.5, 'RMSE: %.3f' % rmse3_test, fontsize=12)\n",
    "plt.show()"
   ]
  },
  {
   "cell_type": "markdown",
   "metadata": {},
   "source": [
    "Explain which of the three models is best, using evidence from the training and test error you observed.\n",
    "\n",
    "YOUR ANSWER HERE\n",
    "\n",
    "Models Number two is the best to use due to Root Mean Square Error has reduce to close 0, \n",
    "\n",
    "Training RMSE got 0.216 and Testing RMSE got 0.215\n",
    "\n",
    "Also explain whether the results in terms of training and test error are consistent with your observations\n",
    "from plotting the data in Question 1.\n",
    "\n",
    "YOUR ANSWER HERE\n",
    "From Model 1, it doesn't follow much we can see that the rmse still high \n",
    "\n",
    "But when we add up polynomial degree in Model 2 and 3. \n",
    "\n",
    "The result from y_predict and y_actual has follow up together."
   ]
  },
  {
   "cell_type": "markdown",
   "metadata": {},
   "source": [
    "## Question 3: Classification dataset exploration plot (10 points)\n",
    "\n",
    "Consider the dataset below consisting of two input features/variables and a Boolean (binary classification) target."
   ]
  },
  {
   "cell_type": "code",
   "execution_count": 546,
   "metadata": {},
   "outputs": [],
   "source": [
    "X = np.array([[4.28837945e+01, 1.58533438e+01],\n",
    "              [4.05332578e+01, 4.13863498e+01],\n",
    "              [1.74287110e+01, 2.83116346e+01],\n",
    "              [8.00095969e+01, 2.75325143e+01],\n",
    "              [8.90542214e+01, 8.29323915e+01],\n",
    "              [9.85487618e+01, 2.67835893e+00],\n",
    "              [3.93628204e+01, 5.42633221e+01],\n",
    "              [2.02656773e+01, 2.41364602e+01],\n",
    "              [6.23888086e+01, 2.58328284e+01],\n",
    "              [8.76223087e+01, 2.16251983e+01],\n",
    "              [8.71995029e+01, 5.01836952e+01],\n",
    "              [2.92977558e+01, 4.93360923e+01],\n",
    "              [8.63754003e+01, 2.32166773e+01],\n",
    "              [2.63668091e+01, 4.72476269e+01],\n",
    "              [4.00559464e+01, 2.25909049e+01],\n",
    "              [6.06763077e+01, 8.05560220e+01],\n",
    "              [6.43809894e+01, 9.72687124e+01],\n",
    "              [4.13465405e+01, 4.89943617e+01],\n",
    "              [3.23058901e+01, 7.26484340e+01],\n",
    "              [9.20360935e+01, 9.76820383e+01],\n",
    "              [4.10989631e+01, 5.48502895e+01],\n",
    "              [8.49531175e+01, 6.39354372e+01],\n",
    "              [5.07754803e+01, 5.87638855e+01],\n",
    "              [5.30583238e+01, 9.98922661e+01],\n",
    "              [8.97769201e+01, 4.79469320e+01],\n",
    "              [5.18848770e-01, 4.80042899e+00],\n",
    "              [3.89998180e+00, 9.94524685e+01],\n",
    "              [3.94594288e+01, 1.60560985e+01],\n",
    "              [6.24765693e+01, 5.42557211e+01],\n",
    "              [5.68135693e+01, 4.67305117e+00],\n",
    "              [2.05225744e+01, 2.92963520e+01],\n",
    "              [8.29451439e+01, 2.64923182e+01],\n",
    "              [9.33672838e+01, 7.47467381e+01],\n",
    "              [8.56552664e+01, 9.46470011e+01],\n",
    "              [2.91289936e+01, 8.79475279e+01],\n",
    "              [3.69739698e+00, 1.03576612e+01],\n",
    "              [5.71969532e+01, 7.50469233e+01],\n",
    "              [4.39402490e+01, 7.04137614e+01],\n",
    "              [5.70955144e+01, 6.69490832e+00],\n",
    "              [8.95741882e+01, 2.78373428e+01],\n",
    "              [6.10004528e+01, 7.33999720e+01],\n",
    "              [1.75260237e+01, 2.33630945e+01],\n",
    "              [8.63723642e+01, 3.82404507e+01],\n",
    "              [2.75931325e+01, 2.65066086e+01],\n",
    "              [8.41768613e+01, 2.93973775e+01],\n",
    "              [2.10378462e+01, 1.04045650e-02],\n",
    "              [5.20422792e+01, 3.27191217e+01],\n",
    "              [9.13227007e+01, 4.37608697e+01],\n",
    "              [9.22760249e+01, 9.36816802e+01],\n",
    "              [5.16258364e+01, 1.94484385e+01],\n",
    "              [1.50274094e+01, 4.99552288e+01],\n",
    "              [6.12714225e+01, 8.43212417e+01],\n",
    "              [1.94170789e+01, 5.73203697e+01],\n",
    "              [9.78487066e+01, 3.04488543e+01],\n",
    "              [1.02903007e+01, 1.94836010e+01],\n",
    "              [3.91525791e+00, 9.34129506e+01],\n",
    "              [4.69422916e+01, 5.35500842e+01],\n",
    "              [9.12394053e+01, 9.80968257e+01],\n",
    "              [4.66963302e+01, 4.35757890e+01],\n",
    "              [1.14755598e+01, 2.15314375e+01],\n",
    "              [4.64885701e+01, 9.05514566e+01],\n",
    "              [1.67398858e+01, 5.67872817e+00],\n",
    "              [9.45433595e+00, 6.48524238e+01],\n",
    "              [5.59409209e+01, 1.24580008e+01],\n",
    "              [2.08489446e+01, 7.24170405e+00],\n",
    "              [7.35277749e+01, 7.36388772e+01],\n",
    "              [1.18151863e+01, 6.39822488e+01],\n",
    "              [3.30817313e+01, 4.97715579e+01],\n",
    "              [9.33762805e+01, 4.97635576e+01],\n",
    "              [3.39264153e+01, 2.71089498e+01],\n",
    "              [3.10560974e+01, 2.72392041e+00],\n",
    "              [3.70722175e+01, 5.71718181e+01],\n",
    "              [2.13612689e+01, 1.54217710e+01],\n",
    "              [3.15013229e+01, 2.35479227e+01],\n",
    "              [2.02571635e+00, 1.20345800e+01],\n",
    "              [5.79586736e+01, 7.92856210e+01],\n",
    "              [1.43640878e+01, 9.80904863e+01],\n",
    "              [2.69654837e+01, 9.29016481e+01],\n",
    "              [3.09816252e+01, 3.31288508e+01],\n",
    "              [3.43430443e+01, 1.60599078e+01],\n",
    "              [4.81858559e+01, 7.36971400e+01],\n",
    "              [8.07741160e+01, 5.08556363e+01],\n",
    "              [3.30183000e+01, 6.08796588e+01],\n",
    "              [5.43102815e+00, 5.21807558e+01],\n",
    "              [7.75867739e+01, 1.31897005e+01],\n",
    "              [7.63732914e+01, 4.85483190e+01],\n",
    "              [5.79172985e+01, 1.92712913e+01],\n",
    "              [5.78996788e+01, 4.73703598e+01],\n",
    "              [7.38495589e+00, 2.84084062e+01],\n",
    "              [1.96031639e+01, 1.48274429e+01],\n",
    "              [5.47436169e+01, 9.20143607e+01],\n",
    "              [6.84770798e+01, 8.50037614e+01],\n",
    "              [8.10664239e+01, 9.39499540e+01],\n",
    "              [3.39265540e+01, 1.88015512e+01],\n",
    "              [2.65280071e+01, 2.49445623e+01],\n",
    "              [6.05494588e+01, 1.03744106e+01],\n",
    "              [2.19139070e+01, 5.41640091e+01],\n",
    "              [1.48860536e+01, 9.19599127e+01],\n",
    "              [2.89043936e+01, 5.21228243e+01],\n",
    "              [3.13560972e+01, 5.91429242e+01],\n",
    "              [8.11238430e+01, 2.62147378e+00],\n",
    "              [6.05359479e+01, 3.34125651e+01],\n",
    "              [3.48110155e+01, 7.36522830e+00],\n",
    "              [1.20652177e+01, 8.47008045e+01],\n",
    "              [4.06716550e+01, 4.73956956e+01],\n",
    "              [6.27546582e+01, 8.01580937e+01],\n",
    "              [9.11867181e+01, 6.16525302e+01],\n",
    "              [4.40195696e+01, 1.23132697e+01],\n",
    "              [8.06726526e+01, 4.63568529e+01],\n",
    "              [7.38095410e+01, 4.43719950e+01],\n",
    "              [1.45250238e+00, 6.98329311e+01],\n",
    "              [4.56953349e+01, 6.56517185e+00],\n",
    "              [4.78298518e+01, 7.48373334e+00],\n",
    "              [3.13326830e+01, 9.90418882e+00],\n",
    "              [6.37231499e+01, 2.05321365e+01],\n",
    "              [1.22604788e+00, 2.66014211e+01],\n",
    "              [6.49997579e+01, 2.67559782e+01],\n",
    "              [8.55976815e+01, 6.02836704e+01],\n",
    "              [2.62515618e+01, 5.47899839e+01],\n",
    "              [1.22210335e+01, 5.38587616e+00],\n",
    "              [1.49613962e+01, 5.17336824e+01],\n",
    "              [1.55927337e+01, 2.16335548e+01],\n",
    "              [8.76776355e+01, 9.51481273e+01],\n",
    "              [6.56500531e+01, 7.67614718e+01],\n",
    "              [6.62993941e+01, 7.06542229e+01],\n",
    "              [4.25902851e+01, 3.91420698e+01],\n",
    "              [2.53648325e+01, 5.95917871e+01],\n",
    "              [2.45440620e+01, 2.26700709e+01],\n",
    "              [1.70394198e+01, 7.58125345e+01],\n",
    "              [2.47076701e+01, 3.12084202e+01],\n",
    "              [7.17579069e+01, 1.53454992e+01],\n",
    "              [4.16087343e+00, 6.45031143e+01],\n",
    "              [1.31942542e+01, 2.47025459e+01],\n",
    "              [9.99812772e+01, 6.78958520e+00],\n",
    "              [4.34323718e+01, 6.51234409e+01],\n",
    "              [7.62157866e+01, 9.07653009e+01],\n",
    "              [8.67931593e+01, 8.27657885e+01],\n",
    "              [5.14942366e+01, 4.29610824e+01],\n",
    "              [1.20236039e+01, 6.09785254e+01],\n",
    "              [4.75085252e+01, 3.45378923e+01],\n",
    "              [6.63585960e+01, 6.98242957e+00],\n",
    "              [4.81727348e+01, 5.65008864e+01],\n",
    "              [2.67895910e+01, 1.47745637e+01],\n",
    "              [1.65237366e+01, 3.02494279e+01],\n",
    "              [6.52156612e+01, 1.62817768e+01],\n",
    "              [1.37648071e+01, 8.42478562e+00],\n",
    "              [7.37950012e+00, 7.12689172e+01],\n",
    "              [4.72022133e+01, 1.85536203e+01],\n",
    "              [6.78976544e+01, 2.62032117e+01],\n",
    "              [6.28604985e+01, 6.25244601e+01],\n",
    "              [2.64767966e+01, 1.91789513e+01],\n",
    "              [2.06525411e+01, 2.88125496e+01],\n",
    "              [3.45788800e+01, 2.36790548e+01],\n",
    "              [1.24117446e+01, 7.35265487e+01],\n",
    "              [4.11427923e+01, 1.18244112e+01],\n",
    "              [3.54967824e+01, 2.78720536e+01],\n",
    "              [3.89746728e+01, 9.45165960e+01],\n",
    "              [3.24531093e+01, 4.41008937e+01],\n",
    "              [5.28422070e+01, 7.28951392e+01],\n",
    "              [2.90593351e+01, 2.93581220e+01],\n",
    "              [7.76019737e+01, 8.81543445e+01],\n",
    "              [8.26616609e+01, 4.02122709e+00],\n",
    "              [1.07490095e+01, 6.19050046e+01],\n",
    "              [7.83283621e+01, 9.00111239e+01],\n",
    "              [3.49743883e+01, 5.08054202e+01],\n",
    "              [9.86078871e+01, 4.19772027e+01],\n",
    "              [7.97673979e+01, 3.11216042e+01],\n",
    "              [7.10435853e+01, 1.87284340e+01],\n",
    "              [9.93561363e+01, 3.94918192e+01],\n",
    "              [7.24694405e+01, 9.37010681e+00],\n",
    "              [8.03245170e+01, 3.49583677e+01],\n",
    "              [1.70614057e+01, 3.76719541e+01],\n",
    "              [3.73815574e+01, 8.96524085e+00],\n",
    "              [8.26909053e+01, 3.12106154e+00],\n",
    "              [6.08389768e+01, 1.30907383e+01],\n",
    "              [7.27606988e+01, 7.20396037e+01],\n",
    "              [8.62843066e+01, 6.46479273e+01],\n",
    "              [4.04345279e+00, 5.51208338e+01],\n",
    "              [8.30665346e+00, 3.98663667e+01],\n",
    "              [9.70887953e+01, 2.77464236e+01],\n",
    "              [2.69503466e+01, 5.67425847e+01],\n",
    "              [2.31393632e+01, 3.37259841e+01],\n",
    "              [5.56700287e+01, 3.93038773e+01],\n",
    "              [2.84917683e+01, 6.40922705e+01],\n",
    "              [8.70406525e+01, 6.90606197e+01],\n",
    "              [3.47756130e+01, 8.14423562e+01],\n",
    "              [2.79525890e+01, 4.44643460e+01],\n",
    "              [9.85676196e+01, 9.32485948e+01],\n",
    "              [5.26561153e+01, 9.41222837e+01],\n",
    "              [7.33087498e+01, 3.15492911e+01],\n",
    "              [7.65999652e+01, 1.70250412e+01],\n",
    "              [9.62243798e-01, 7.51134014e+01],\n",
    "              [2.69034496e+01, 9.93841991e+01],\n",
    "              [7.15571826e+01, 7.72553433e-01],\n",
    "              [2.18353573e+01, 5.71879602e+01],\n",
    "              [9.60771539e+01, 5.89759089e+01],\n",
    "              [3.30099103e+01, 9.60658110e+01],\n",
    "              [7.35623165e+01, 6.86015124e+01],\n",
    "              [8.78539624e+01, 4.32444886e+01],\n",
    "              [5.00168212e+01, 9.76717348e+01]])\n",
    "\n",
    "y = np.array([[1.],\n",
    "              [0.],\n",
    "              [0.],\n",
    "              [1.],\n",
    "              [1.],\n",
    "              [1.],\n",
    "              [0.],\n",
    "              [0.],\n",
    "              [1.],\n",
    "              [1.],\n",
    "              [1.],\n",
    "              [0.],\n",
    "              [1.],\n",
    "              [0.],\n",
    "              [1.],\n",
    "              [0.],\n",
    "              [0.],\n",
    "              [0.],\n",
    "              [0.],\n",
    "              [0.],\n",
    "              [0.],\n",
    "              [1.],\n",
    "              [0.],\n",
    "              [0.],\n",
    "              [1.],\n",
    "              [0.],\n",
    "              [0.],\n",
    "              [1.],\n",
    "              [1.],\n",
    "              [1.],\n",
    "              [0.],\n",
    "              [1.],\n",
    "              [1.],\n",
    "              [0.],\n",
    "              [0.],\n",
    "              [0.],\n",
    "              [0.],\n",
    "              [0.],\n",
    "              [1.],\n",
    "              [1.],\n",
    "              [0.],\n",
    "              [0.],\n",
    "              [1.],\n",
    "              [1.],\n",
    "              [1.],\n",
    "              [1.],\n",
    "              [1.],\n",
    "              [1.],\n",
    "              [0.],\n",
    "              [1.],\n",
    "              [0.],\n",
    "              [0.],\n",
    "              [0.],\n",
    "              [1.],\n",
    "              [0.],\n",
    "              [0.],\n",
    "              [0.],\n",
    "              [0.],\n",
    "              [1.],\n",
    "              [0.],\n",
    "              [0.],\n",
    "              [1.],\n",
    "              [0.],\n",
    "              [1.],\n",
    "              [1.],\n",
    "              [0.],\n",
    "              [0.],\n",
    "              [0.],\n",
    "              [1.],\n",
    "              [1.],\n",
    "              [1.],\n",
    "              [0.],\n",
    "              [1.],\n",
    "              [1.],\n",
    "              [0.],\n",
    "              [0.],\n",
    "              [0.],\n",
    "              [0.],\n",
    "              [0.],\n",
    "              [1.],\n",
    "              [0.],\n",
    "              [1.],\n",
    "              [0.],\n",
    "              [0.],\n",
    "              [1.],\n",
    "              [1.],\n",
    "              [1.],\n",
    "              [1.],\n",
    "              [0.],\n",
    "              [1.],\n",
    "              [0.],\n",
    "              [0.],\n",
    "              [0.],\n",
    "              [1.],\n",
    "              [1.],\n",
    "              [1.],\n",
    "              [0.],\n",
    "              [0.],\n",
    "              [0.],\n",
    "              [0.],\n",
    "              [1.],\n",
    "              [1.],\n",
    "              [1.],\n",
    "              [0.],\n",
    "              [0.],\n",
    "              [0.],\n",
    "              [1.],\n",
    "              [1.],\n",
    "              [1.],\n",
    "              [1.],\n",
    "              [0.],\n",
    "              [1.],\n",
    "              [1.],\n",
    "              [1.],\n",
    "              [1.],\n",
    "              [0.],\n",
    "              [1.],\n",
    "              [1.],\n",
    "              [0.],\n",
    "              [1.],\n",
    "              [0.],\n",
    "              [0.],\n",
    "              [0.],\n",
    "              [0.],\n",
    "              [0.],\n",
    "              [1.],\n",
    "              [0.],\n",
    "              [1.],\n",
    "              [0.],\n",
    "              [0.],\n",
    "              [1.],\n",
    "              [0.],\n",
    "              [0.],\n",
    "              [1.],\n",
    "              [0.],\n",
    "              [0.],\n",
    "              [1.],\n",
    "              [1.],\n",
    "              [0.],\n",
    "              [1.],\n",
    "              [1.],\n",
    "              [0.],\n",
    "              [1.],\n",
    "              [0.],\n",
    "              [1.],\n",
    "              [1.],\n",
    "              [0.],\n",
    "              [1.],\n",
    "              [1.],\n",
    "              [1.],\n",
    "              [1.],\n",
    "              [0.],\n",
    "              [1.],\n",
    "              [0.],\n",
    "              [1.],\n",
    "              [1.],\n",
    "              [0.],\n",
    "              [0.],\n",
    "              [0.],\n",
    "              [0.],\n",
    "              [0.],\n",
    "              [1.],\n",
    "              [0.],\n",
    "              [0.],\n",
    "              [0.],\n",
    "              [1.],\n",
    "              [1.],\n",
    "              [1.],\n",
    "              [1.],\n",
    "              [1.],\n",
    "              [1.],\n",
    "              [0.],\n",
    "              [1.],\n",
    "              [1.],\n",
    "              [1.],\n",
    "              [1.],\n",
    "              [1.],\n",
    "              [0.],\n",
    "              [0.],\n",
    "              [1.],\n",
    "              [0.],\n",
    "              [0.],\n",
    "              [1.],\n",
    "              [0.],\n",
    "              [1.],\n",
    "              [0.],\n",
    "              [0.],\n",
    "              [1.],\n",
    "              [0.],\n",
    "              [1.],\n",
    "              [1.],\n",
    "              [0.],\n",
    "              [0.],\n",
    "              [1.],\n",
    "              [0.],\n",
    "              [1.],\n",
    "              [0.],\n",
    "              [1.],\n",
    "              [1.],\n",
    "              [0.]])\n"
   ]
  },
  {
   "cell_type": "markdown",
   "metadata": {},
   "source": [
    "In the space below, write code to split the dataset into separate training and validation datasets in an 80%/20% ratio, then provide two scatter plots, one for the training set and one for the validation set, in which the positive and negative examples are plotted in different colors. "
   ]
  },
  {
   "cell_type": "code",
   "execution_count": 510,
   "metadata": {},
   "outputs": [
    {
     "data": {
      "text/plain": [
       "((200, 2), (200, 1))"
      ]
     },
     "execution_count": 510,
     "metadata": {},
     "output_type": "execute_result"
    }
   ],
   "source": [
    "X.shape,y.shape"
   ]
  },
  {
   "cell_type": "code",
   "execution_count": 511,
   "metadata": {},
   "outputs": [],
   "source": [
    "# YOUR CODE HERE\n",
    "idx, X_train, y_train, X_test, y_test = partition(X,y,0.2)"
   ]
  },
  {
   "cell_type": "code",
   "execution_count": 512,
   "metadata": {},
   "outputs": [
    {
     "data": {
      "text/plain": [
       "((120, 2), (120, 1), (80, 2), (80, 1))"
      ]
     },
     "execution_count": 512,
     "metadata": {},
     "output_type": "execute_result"
    }
   ],
   "source": [
    "X_train.shape, y_train.shape, X_test.shape, y_test.shape"
   ]
  },
  {
   "cell_type": "code",
   "execution_count": 513,
   "metadata": {},
   "outputs": [
    {
     "data": {
      "image/png": "[encoded data removed]",
      "text/plain": [
       "<Figure size 1008x432 with 2 Axes>"
      ]
     },
     "metadata": {
      "needs_background": "light"
     },
     "output_type": "display_data"
    }
   ],
   "source": [
    "#plot \n",
    "def plot_data(X, y, title):\n",
    "    X_0 = X[(y==0).flat]\n",
    "    X_1 = X[(y==1).flat]\n",
    "    plt.plot(X_0[:,0], X_0[:,1], 'ro')\n",
    "    plt.plot(X_1[:,0], X_1[:,1], 'bo')\n",
    "    plt.title(title)\n",
    "    plt.axis('equal')\n",
    "    \n",
    "plt.figure(figsize=(14, 6))\n",
    "plt.subplot(1, 2, 1)\n",
    "plot_data(X_train, y_train, 'Training data')\n",
    "plt.subplot(1, 2, 2)\n",
    "plot_data(X_test, y_test, 'Test data')"
   ]
  },
  {
   "cell_type": "markdown",
   "metadata": {},
   "source": [
    "## Question 4: Logistic regression model (30 points)\n",
    "\n",
    "In the space below, write code to train a logistic regression model on the training set.\n",
    "Train your model and plot the training and test sets in separate\n",
    "plots along with the optimal decision boundary according to the\n",
    "model."
   ]
  },
  {
   "cell_type": "code",
   "execution_count": 514,
   "metadata": {},
   "outputs": [
    {
     "name": "stderr",
     "output_type": "stream",
     "text": [
      "<ipython-input-514-3f578b219f96>:14: RuntimeWarning: divide by zero encountered in log\n",
      "  error = (-y * np.log(y_pred)) - ((1 - y) * np.log(1 - y_pred))\n",
      "<ipython-input-514-3f578b219f96>:14: RuntimeWarning: invalid value encountered in multiply\n",
      "  error = (-y * np.log(y_pred)) - ((1 - y) * np.log(1 - y_pred))\n"
     ]
    },
    {
     "name": "stdout",
     "output_type": "stream",
     "text": [
      "Optimal theta: 0.723108, 2.409425, -2.374778\n",
      "Cost Funtion reducet from nan to  nan in 2000 itreations\n"
     ]
    }
   ],
   "source": [
    "# YOUR CODE HERE\n",
    "# Place code to train the logistic regression model and plot the results here.\n",
    "def sigmoid(z):   \n",
    "    return 1 / (1 + np.exp(-z))\n",
    "\n",
    "def h(X, theta):\n",
    "    return sigmoid(X @ theta)\n",
    "\n",
    "def grad_j(X, y, y_pred):\n",
    "    return X.T @ (y - y_pred) / X.shape[0]\n",
    "    \n",
    "def j(theta, X, y):    \n",
    "    y_pred = h(X, theta)\n",
    "    error = (-y * np.log(y_pred)) - ((1 - y) * np.log(1 - y_pred))\n",
    "    cost = sum(error) / X.shape[0]\n",
    "    grad = grad_j(X, y, y_pred)\n",
    "    return cost[0], grad\n",
    "\n",
    "def train(X, y, theta_initial, alpha, num_iters):\n",
    "    theta = theta_initial\n",
    "    j_history = []\n",
    "    for i in range(num_iters):\n",
    "        cost, grad = j(theta, X, y)\n",
    "        #print(cost)\n",
    "        theta = theta + alpha * grad\n",
    "        j_history.append(cost)\n",
    "    return theta, j_history\n",
    "\n",
    "# X_train_aug = np.concatenate((np.ones((320,1)), X_train), 1)\n",
    "X_train_aug = np.insert(X_train,0,1,axis=1)\n",
    "theta_initial = np.ones((3,1))\n",
    "theta_final, j_history = train(X_train_aug, y_train, theta_initial, 0.05, 2000)\n",
    "\n",
    "print('Optimal theta: %f, %f, %f' % (theta_final[0],theta_final[1],theta_final[2]))\n",
    "print('Cost Funtion reducet from %f to  %f in %d itreations' % (j_history[0],j_history[-1],2000))"
   ]
  },
  {
   "cell_type": "code",
   "execution_count": 515,
   "metadata": {},
   "outputs": [],
   "source": [
    "def boundary_points(X, theta):\n",
    "    v_orthogonal = np.array([[theta[1,0]],[theta[2,0]]])\n",
    "    v_ortho_length = np.sqrt(v_orthogonal.T @ v_orthogonal)\n",
    "    dist_ortho = theta[0,0] / v_ortho_length\n",
    "    v_orthogonal = v_orthogonal / v_ortho_length\n",
    "    v_parallel = np.array([[-v_orthogonal[1,0]],[v_orthogonal[0,0]]])\n",
    "    projections = X @ v_parallel\n",
    "    proj_1 = min(projections)\n",
    "    proj_2 = max(projections)\n",
    "    point_1 = proj_1 * v_parallel - dist_ortho * v_orthogonal\n",
    "    point_2 = proj_2 * v_parallel - dist_ortho * v_orthogonal\n",
    "    return point_1, point_2"
   ]
  },
  {
   "cell_type": "code",
   "execution_count": 516,
   "metadata": {},
   "outputs": [],
   "source": [
    "def plot_data_with_correctness(X, y, yhat, theta, title):\n",
    "    X_0_corr = X[np.logical_and(y == 0, yhat < 0.5).flat]\n",
    "    X_0_incorr = X[np.logical_and(y == 0, yhat >= 0.5).flat]\n",
    "    X_1_corr = X[np.logical_and(y == 1, yhat >= 0.5).flat]\n",
    "    X_1_incorr = X[np.logical_and(y == 1, yhat < 0.5).flat]\n",
    "    plt.figure(figsize=(7, 7))\n",
    "    plt.plot(X_0_corr[:,0], X_0_corr[:,1], 'ro')\n",
    "    plt.plot(X_0_incorr[:,0], X_0_incorr[:,1], 'r*', markersize=10)\n",
    "    plt.plot(X_1_corr[:,0], X_1_corr[:,1], 'bo')\n",
    "    plt.plot(X_1_incorr[:,0], X_1_incorr[:,1], 'b*', markersize=10)\n",
    "    #Line Plot\n",
    "    point_1, point_2 = boundary_points(X, theta)\n",
    "    print('Point 1:', point_1)\n",
    "    print('Point 2:', point_2)\n",
    "    plt.plot([point_1[0,0], point_2[0,0]],[point_1[1,0], point_2[1,0]], 'g-')\n",
    "    plt.title(title)\n",
    "    plt.axis('equal')"
   ]
  },
  {
   "cell_type": "code",
   "execution_count": 517,
   "metadata": {},
   "outputs": [],
   "source": [
    "yhat_train = h(X_train_aug, theta_final)"
   ]
  },
  {
   "cell_type": "code",
   "execution_count": 518,
   "metadata": {},
   "outputs": [
    {
     "name": "stdout",
     "output_type": "stream",
     "text": [
      "Point 1: [[6.86261613]\n",
      " [7.26723353]]\n",
      "Point 2: [[95.03720265]\n",
      " [96.7282453 ]]\n",
      "Point 1: [[2.50339828]\n",
      " [2.84441677]]\n",
      "Point 2: [[92.15348621]\n",
      " [93.80245681]]\n"
     ]
    },
    {
     "data": {
      "image/png": "[encoded data removed]",
      "text/plain": [
       "<Figure size 504x504 with 1 Axes>"
      ]
     },
     "metadata": {
      "needs_background": "light"
     },
     "output_type": "display_data"
    },
    {
     "data": {
      "image/png": "[encoded data removed]",
      "text/plain": [
       "<Figure size 504x504 with 1 Axes>"
      ]
     },
     "metadata": {
      "needs_background": "light"
     },
     "output_type": "display_data"
    }
   ],
   "source": [
    "X_test_aug = np.concatenate((np.ones((80,1)), X_test), 1) #Add X0\n",
    "yhat_test = h(X_test_aug, theta_final)\n",
    "\n",
    "plot_data_with_correctness(X_train, y_train, yhat_train, theta_final, 'Training set classification results')\n",
    "plot_data_with_correctness(X_test, y_test, yhat_test, theta_final, 'Test set classification results')"
   ]
  },
  {
   "cell_type": "markdown",
   "metadata": {},
   "source": [
    "## Question 5: Support vector machine (20 points)\n",
    "\n",
    "In the space below, write code to train a SVM classifier on the training set using\n",
    "the dual generalized Lagrangian optimization method from class. Plot the training set\n",
    "along with the decision boundary, highlighting the support vectors (data points for which $\\alpha_i > 0$) with a\n",
    "different symbol."
   ]
  },
  {
   "cell_type": "code",
   "execution_count": 554,
   "metadata": {},
   "outputs": [],
   "source": [
    "import numpy as np\n",
    "import cvxopt\n",
    "\n",
    "def cvxopt_solve_qp(Q, c, A=None, b=None, E=None, d=None):\n",
    "    Q = .5 * (Q + Q.T)  # make sure Q is symmetric\n",
    "    args = [cvxopt.matrix(Q), cvxopt.matrix(c)]\n",
    "    if A is not None:\n",
    "        args.extend([cvxopt.matrix(A), cvxopt.matrix(b)])\n",
    "        if E is not None:\n",
    "            args.extend([cvxopt.matrix(E), cvxopt.matrix(d)])\n",
    "    sol = cvxopt.solvers.qp(*args)\n",
    "    if 'optimal' not in sol['status']:\n",
    "        return None\n",
    "    return np.array(sol['x']).reshape((Q.shape[1],))"
   ]
  },
  {
   "cell_type": "code",
   "execution_count": 548,
   "metadata": {},
   "outputs": [],
   "source": [
    "#Convert 0/1 targets to -1/+1\n",
    "y_train_svm = y_train\n",
    "y_train_svm[y_train == 0] = -1\n",
    "y_test_svm = y_test\n",
    "y_test_svm[y_test == 0] = -1"
   ]
  },
  {
   "cell_type": "code",
   "execution_count": 549,
   "metadata": {},
   "outputs": [
    {
     "data": {
      "text/plain": [
       "((120, 2), (120, 1))"
      ]
     },
     "execution_count": 549,
     "metadata": {},
     "output_type": "execute_result"
    }
   ],
   "source": [
    "X_train.shape,y_train_svm.shape"
   ]
  },
  {
   "cell_type": "code",
   "execution_count": 550,
   "metadata": {},
   "outputs": [],
   "source": [
    "def linear_kernel(X):\n",
    "    m = X.shape[0];\n",
    "    K = np.matrix(np.zeros([m,m]));\n",
    "    for i in range(0,m):\n",
    "        for j in range(0,m):\n",
    "            K[i,j] = X[i,:]@(X[j,:].T)\n",
    "    return K;"
   ]
  },
  {
   "cell_type": "code",
   "execution_count": 551,
   "metadata": {},
   "outputs": [
    {
     "data": {
      "text/plain": [
       "(120, 2)"
      ]
     },
     "execution_count": 551,
     "metadata": {},
     "output_type": "execute_result"
    }
   ],
   "source": [
    "m,n = X_train.shape\n",
    "K = linear_kernel(X_train);\n",
    "m,n"
   ]
  },
  {
   "cell_type": "code",
   "execution_count": 552,
   "metadata": {},
   "outputs": [
    {
     "name": "stdout",
     "output_type": "stream",
     "text": [
      "Q rank: 2\n"
     ]
    }
   ],
   "source": [
    "Q = np.multiply(y_train_svm * y_train_svm.T, K)\n",
    "print('Q rank: %d' % np.linalg.matrix_rank(Q))"
   ]
  },
  {
   "cell_type": "code",
   "execution_count": 557,
   "metadata": {},
   "outputs": [
    {
     "name": "stdout",
     "output_type": "stream",
     "text": [
      "     pcost       dcost       gap    pres   dres\n",
      " 0: -3.9948e+01 -8.3154e+01  5e+02  2e+01  2e+00\n",
      " 1: -1.1726e+02 -1.1867e+02  2e+02  1e+01  1e+00\n",
      " 2: -2.2554e+02 -2.2763e+02  2e+02  1e+01  1e+00\n",
      " 3: -3.6367e+03 -3.6143e+03  3e+02  1e+01  1e+00\n",
      " 4: -1.0221e+04 -1.0144e+04  5e+02  1e+01  1e+00\n",
      " 5: -2.5882e+02 -2.5455e+02  1e+03  1e+01  1e+00\n",
      " 6: -1.0283e+03 -9.8125e+02  2e+03  1e+01  1e+00\n",
      " 7: -1.0487e+04 -9.3470e+03  2e+03  1e+01  9e-01\n",
      " 8: -2.8111e+02 -2.0440e+02  5e+03  8e+00  7e-01\n",
      " 9: -1.2851e+03 -6.9071e+02  4e+03  6e+00  5e-01\n",
      "10: -1.8712e+03 -4.7172e+02  2e+03  3e+00  2e-01\n",
      "11:  8.0745e-01 -2.1200e+01  1e+02  7e-02  6e-03\n",
      "12: -7.9494e+00 -1.6588e+01  3e+01  2e-02  2e-03\n",
      "13: -1.5931e+01 -1.6481e+01  6e-01  5e-05  5e-06\n",
      "14: -1.6439e+01 -1.6444e+01  6e-03  5e-07  5e-08\n",
      "15: -1.6444e+01 -1.6444e+01  6e-05  5e-09  5e-10\n",
      "16: -1.6444e+01 -1.6444e+01  6e-07  5e-11  3e-11\n",
      "Optimal solution found.\n",
      "Optimal alpha:\n",
      "[2.50184749e-11 1.75681482e-10 5.38521626e-11 1.63328533e-11\n",
      " 1.24578863e-11 2.04581268e-11 1.75745300e-11 7.84196417e-11\n",
      " 1.12251492e-10 1.98890535e-11 1.94162009e-11 5.67169961e-11\n",
      " 1.83785041e-10 1.00525692e-10 1.06365417e-10 2.85734433e-11\n",
      " 2.69530200e-11 2.29805051e-11 3.65737406e-11 1.88840911e-11\n",
      " 4.28850076e-10 3.90223646e-11 3.27477255e-11 1.63321358e-11\n",
      " 8.49913917e-11 1.49649255e-11 1.50344921e-10 2.58968793e-10\n",
      " 1.87682920e-10 3.86354569e-11 1.64440427e+01 1.79017285e-11\n",
      " 9.47873900e-11 7.31577927e-11 1.15603677e-10 5.50297660e-11\n",
      " 2.41233594e-10 1.93894173e-11 1.19322549e-10 8.00445222e-11\n",
      " 2.14864760e-10 3.91726996e-11 4.35428344e-11 2.73197153e-11\n",
      " 1.61334377e-11 5.42547006e-11 5.99725235e-11 8.38277139e-12\n",
      " 2.17111232e-11 1.90809926e-11 2.12661121e-11 2.25368717e-11\n",
      " 5.72630285e-11 6.37884008e-11 1.94493897e-09 5.30452630e-11\n",
      " 1.10258879e-11 2.59935743e-11 1.72834970e-11 1.46752724e-11\n",
      " 4.82982807e-11 1.57806794e-11 1.50514578e-10 3.72181566e-11\n",
      " 5.35664930e-11 8.77366635e-12 3.98640582e-11 1.29264459e-11\n",
      " 1.46112645e-11 5.47348186e-11 2.48114048e-11 5.67450983e-11\n",
      " 4.03566417e+00 1.09001290e-10 3.00755009e-11 2.91463940e-11\n",
      " 3.42389696e-11 1.75606098e-11 1.72471440e-11 5.20561811e-11\n",
      " 4.37628002e-11 2.39393444e-11 2.98432714e-11 4.12798600e-11\n",
      " 8.52236801e-11 1.89739006e-11 2.82043975e-10 1.18584459e-10\n",
      " 2.48966089e-11 8.08218436e-10 2.86683582e-11 1.89316209e-11\n",
      " 1.24083785e+01 3.12225443e-11 4.85406304e-11 2.06595332e-10\n",
      " 1.01345942e-10 1.50056454e-11 1.09901459e-10 2.77378120e-11\n",
      " 1.55387755e-11 6.91334852e-11 4.87252785e-11 1.02776142e-10\n",
      " 6.70420866e-11 5.65605783e-11 1.57562401e-10 2.69998409e-10\n",
      " 1.71122957e-10 3.45278097e-09 5.28481442e-11 2.76403585e-11\n",
      " 1.30425752e-10 1.49570523e-11 9.24975277e-11 8.79720122e-11\n",
      " 2.12299775e-11 3.13294980e-11 1.63230449e-10 4.43431630e-11]\n"
     ]
    }
   ],
   "source": [
    "c = -np.ones([m]);\n",
    "A = -np.eye(m);\n",
    "b = np.zeros([m]);\n",
    "E = y_train_svm.T;\n",
    "d = np.zeros(1);\n",
    "alpha_star = cvxopt_solve_qp(Q, c, A, b, E, d);\n",
    "print(\"Optimal alpha:\")\n",
    "print(alpha_star)"
   ]
  },
  {
   "cell_type": "code",
   "execution_count": 581,
   "metadata": {},
   "outputs": [
    {
     "name": "stdout",
     "output_type": "stream",
     "text": [
      "Optimal w: [0.705610,-0.708601] b: 0.124259\n"
     ]
    }
   ],
   "source": [
    "def get_wb(X, y, alpha):\n",
    "    # Find the support vectors\n",
    "    S = alpha > 1e-6\n",
    "    XS = X[S,:]\n",
    "    yS = y[S]\n",
    "    alphaS = alpha[S]\n",
    "    alphaSyS = np.tile(np.multiply(yS.T, alphaS).T, n)\n",
    "    w = sum(np.multiply(alphaSyS, XS)).T\n",
    "    # Find b\n",
    "    KS = K[S,:][:,S]\n",
    "    NS = yS.shape[0]\n",
    "    b = (np.sum(yS) - np.sum(np.multiply(alphaS,yS.T)*KS))/NS\n",
    "    # Normalize w,b\n",
    "    scalef = np.linalg.norm(w)\n",
    "    w = w / scalef\n",
    "    b = b / scalef\n",
    "    return w,b\n",
    "\n",
    "w,b = get_wb(X_train, y_train_svm, alpha_star)\n",
    "\n",
    "print(\"Optimal w: [%f,%f] b: %f\" % (w[0],w[1],b))"
   ]
  },
  {
   "cell_type": "code",
   "execution_count": 595,
   "metadata": {},
   "outputs": [
    {
     "data": {
      "text/plain": [
       "((2,), ())"
      ]
     },
     "execution_count": 595,
     "metadata": {},
     "output_type": "execute_result"
    }
   ],
   "source": [
    "w.shape,b.shape"
   ]
  },
  {
   "cell_type": "code",
   "execution_count": 588,
   "metadata": {},
   "outputs": [],
   "source": [
    "def plot_data(X, y):\n",
    "    X_0 = X[(y==-1).flat]\n",
    "    X_1 = X[(y==1).flat]\n",
    "    axes = plt.axes()\n",
    "    plt.plot(X_0[:,0], X_0[:,1], 'ro',label='class 1')\n",
    "    plt.plot(X_1[:,0], X_1[:,1], 'bo',label='class 2')\n",
    "    axes.set_aspect('equal', 'datalim')\n",
    "    plt.legend()\n",
    "    return axes"
   ]
  },
  {
   "cell_type": "code",
   "execution_count": 605,
   "metadata": {},
   "outputs": [],
   "source": [
    "def plot_w(w,b):\n",
    "    ylim = plt.axes().get_ylim()\n",
    "    xlim = plt.axes().get_xlim()\n",
    "    print(xlim,ylim)\n",
    "    p1 = (xlim[0], - (w[0] * xlim[0] + b) / w[1])\n",
    "    p2 = (xlim[1], - (w[0] * xlim[1] + b) / w[1])\n",
    "    plt.plot((p1[0],p2[0]), (p1[1],p2[1]), 'g-')"
   ]
  },
  {
   "cell_type": "code",
   "execution_count": 606,
   "metadata": {},
   "outputs": [
    {
     "name": "stdout",
     "output_type": "stream",
     "text": [
      "(-3.711713586, 104.91903866599999) (-4.96169863175, 104.42457169675)\n"
     ]
    },
    {
     "name": "stderr",
     "output_type": "stream",
     "text": [
      "<ipython-input-605-80bbc170ac29>:2: MatplotlibDeprecationWarning: Adding an axes using the same arguments as a previous axes currently reuses the earlier instance.  In a future version, a new instance will always be created and returned.  Meanwhile, this warning can be suppressed, and the future behavior ensured, by passing a unique label to each axes instance.\n",
      "  ylim = plt.axes().get_ylim()\n",
      "<ipython-input-605-80bbc170ac29>:3: MatplotlibDeprecationWarning: Adding an axes using the same arguments as a previous axes currently reuses the earlier instance.  In a future version, a new instance will always be created and returned.  Meanwhile, this warning can be suppressed, and the future behavior ensured, by passing a unique label to each axes instance.\n",
      "  xlim = plt.axes().get_xlim()\n"
     ]
    },
    {
     "data": {
      "image/png": "[encoded data removed]",
      "text/plain": [
       "<Figure size 432x288 with 1 Axes>"
      ]
     },
     "metadata": {
      "needs_background": "light"
     },
     "output_type": "display_data"
    }
   ],
   "source": [
    "plot_data(X_train,y_train)\n",
    "plot_w(w,b)"
   ]
  }
 ],
 "metadata": {
  "kernelspec": {
   "display_name": "Python 3.10.4 64-bit",
   "language": "python",
   "name": "python3"
  },
  "language_info": {
   "codemirror_mode": {
    "name": "ipython",
    "version": 3
   },
   "file_extension": ".py",
   "mimetype": "text/x-python",
   "name": "python",
   "nbconvert_exporter": "python",
   "pygments_lexer": "ipython3",
   "version": "3.10.4"
  },
  "vscode": {
   "interpreter": {
    "hash": "c81d839d3c4227cd770621df97fe8191838af02e7eef185a922d8250cb33d344"
   }
  }
 },
 "nbformat": 4,
 "nbformat_minor": 4
}
