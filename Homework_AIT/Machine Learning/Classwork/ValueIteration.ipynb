{
 "cells": [
  {
   "cell_type": "code",
   "execution_count": 2,
   "metadata": {},
   "outputs": [],
   "source": [
    "import numpy as np"
   ]
  },
  {
   "cell_type": "code",
   "execution_count": 18,
   "metadata": {},
   "outputs": [],
   "source": [
    "# Set up the DMP for the trivial little robot maze problem\n",
    "\n",
    "# 3x3 grid. State arrragned as\n",
    "\n",
    "# 4 5 6\n",
    "# 3 X X\n",
    "# 2 1 0\n",
    "\n",
    "# Start state is 0, all states have reward 0 except state 76, which has an immedaite reward of 100\n",
    "\n",
    "def value_iteration(NS,R,NA,gamma,Psa):\n",
    "    #V(s) <- 0 for each s\n",
    "    V = np.zeros(NS)\n",
    "    #Repeat until convergence\n",
    "    while True:\n",
    "        changed = False\n",
    "        #For each state s\n",
    "        for s in range(NS):\n",
    "            #V(s) <- R(s) + max_a gamma sum_s' Psa(s') V(s')\n",
    "            # print('Newval', Psa[s,:,:] @ V)\n",
    "            newval = R[s] + gamma * (Psa[s,:,:] @ V).max()\n",
    "            #Psa(s') * V(s') for each state s'\n",
    "            if newval != V[s]:\n",
    "                changed = True\n",
    "            V[s] = newval\n",
    "        if not changed:\n",
    "            break\n",
    "    return V\n",
    "\n",
    "#Action : L R U D\n",
    "Psa = np.array([\n",
    "    [   [0.1, 0.9, 0,   0,   0,   0,  0],   #L in state 0\n",
    "        [1.0, 0,   0,   0,   0,   0,  0],   #R in state 0\n",
    "        [1.0, 0,   0,   0,   0,   0,  0],   #U in state 0\n",
    "        [1.0, 0,   0,   0,   0,   0,  0]],  #D in state 0\n",
    "    [\n",
    "        [0,   0.1, 0.9, 0,   0,   0,   0],  #L in state 1\n",
    "        [0.9, 0.1, 0,   0,   0,   0,   0],  #R in state 1\n",
    "        [0,   1,   0,   0,   0,   0,   0],  #U in state 1\n",
    "        [0,   1,   0,   0,   0,   0,   0]], #D in state 1\n",
    "    [\n",
    "        [0,   0,   1,   0,   0,   0,   0],  #L in state 2\n",
    "        [0,   0.9, 0.1, 0,   0,   0,   0],  #R in state 2\n",
    "        [0,   0,   0.1, 0.9, 0,   0,   0],  #U in state 2\n",
    "        [0,   0,   1,   0,   0,   0,   0]], #D in state 2\n",
    "    [\n",
    "        [0,   0,   0,   1,   0,   0,   0],  #L in state 3\n",
    "        [0,   0,   1,   0,   0,   0,   0],  #R in state 3\n",
    "        [0,   0,   0,   0.1, 0.9, 0,   0],  #U in state 3\n",
    "        [0,   0,   0.9, 0.1, 0,   0,   0]], #D in state 3\n",
    "    [\n",
    "        [0,   0,   0,   0,   1,   0,   0],  #L in state 4\n",
    "        [0,   0,   0,   0,   0.1, 0.9, 0],  #R in state 4\n",
    "        [0,   0,   0,   0,   1,   0,   0],  #U in state 4\n",
    "        [0,   0,   0,   0.9, 0.1, 0,   0]], #D in state 4\n",
    "    [\n",
    "        [0,   0,   0,   0,   0.9, 0.1, 0],  #L in state 5\n",
    "        [0,   0,   0,   0,   0,   0.1, 0.9],#R in state 5\n",
    "        [0,   0,   0,   0,   0,   1,   0],  #U in state 5\n",
    "        [0,   0,   0,   0,   0,   1,   0]], #D in state 5\n",
    "    [\n",
    "        [0,   0,   0,   0,   0,   0,  0],   #L in state 6\n",
    "        [0,   0,   0,   0,   0,   0,  0],   #R in state 6\n",
    "        [0,   0,   0,   0,   0,   0,  0],   #U in state 6\n",
    "        [0,   0,   0,   0,   0,   0,  0]]  #D in state 6\n",
    "    ]) \n",
    "\n",
    "R = np.array([0, 0, 0, 0, 0, 0, 100])\n",
    "\n",
    "Vstar = value_iteration(7, R, 4, 0.9, Psa)\n",
    "\n",
    "def policy(V,Psa):\n",
    "    NS = len(V)\n",
    "    pi = np.zeros(NS)\n",
    "    # pistar(s) = argmax_a sum_s' Psa(s') V*(s')\n",
    "    for s in range(NS):\n",
    "        pi[s] = (Psa[s,:,:] @ V).argmax()\n",
    "    return pi \n",
    "\n",
    "pistar = policy(Vstar,Psa)"
   ]
  },
  {
   "cell_type": "code",
   "execution_count": 13,
   "metadata": {},
   "outputs": [
    {
     "data": {
      "text/plain": [
       "array([ 49.73495844,  55.87507676,  62.77323439,  70.52301641,\n",
       "        79.22956165,  89.01098901, 100.        ])"
      ]
     },
     "execution_count": 13,
     "metadata": {},
     "output_type": "execute_result"
    }
   ],
   "source": [
    "Vstar"
   ]
  },
  {
   "cell_type": "code",
   "execution_count": 20,
   "metadata": {},
   "outputs": [
    {
     "data": {
      "text/plain": [
       "array([0., 0., 2., 2., 1., 1., 0.])"
      ]
     },
     "execution_count": 20,
     "metadata": {},
     "output_type": "execute_result"
    }
   ],
   "source": [
    "pistar"
   ]
  }
 ],
 "metadata": {
  "kernelspec": {
   "display_name": "Python 3.10.4 64-bit",
   "language": "python",
   "name": "python3"
  },
  "language_info": {
   "codemirror_mode": {
    "name": "ipython",
    "version": 3
   },
   "file_extension": ".py",
   "mimetype": "text/x-python",
   "name": "python",
   "nbconvert_exporter": "python",
   "pygments_lexer": "ipython3",
   "version": "3.10.4"
  },
  "orig_nbformat": 4,
  "vscode": {
   "interpreter": {
    "hash": "c81d839d3c4227cd770621df97fe8191838af02e7eef185a922d8250cb33d344"
   }
  }
 },
 "nbformat": 4,
 "nbformat_minor": 2
}
