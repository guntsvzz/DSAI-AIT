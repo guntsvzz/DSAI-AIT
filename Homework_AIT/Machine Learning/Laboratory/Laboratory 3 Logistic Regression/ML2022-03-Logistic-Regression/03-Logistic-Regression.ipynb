{
 "cells": [
  {
   "cell_type": "markdown",
   "metadata": {},
   "source": [
    "Before you turn this problem in, make sure everything runs as expected. First, **restart the kernel** (in the menubar, select Kernel$\\rightarrow$Restart) and then **run all cells** (in the menubar, select Cell$\\rightarrow$Run All).\n",
    "\n",
    "Make sure you fill in any place that says `YOUR CODE HERE` or \"YOUR ANSWER HERE\", as well as your name and collaborators below:"
   ]
  },
  {
   "cell_type": "markdown",
   "metadata": {},
   "source": [
    "NAME = \"Todsavad\"\n",
    "ID = \"123012\""
   ]
  },
  {
   "cell_type": "markdown",
   "metadata": {},
   "source": [
    "---"
   ]
  },
  {
   "cell_type": "markdown",
   "metadata": {},
   "source": [
    "# Lab 03: Logistic Regression\n",
    "\n",
    "Thus far, the problems we've encountered have been *regression* problems, in which the target $y \\in \\mathbb{R}$.\n",
    "\n",
    "Today we'll start experimenting with *classification* problems, beginning with *binary* classification problems, in which the target $y \\in \\{ 0, 1 \\}$.\n",
    "\n",
    "## Background\n",
    "\n",
    "The simplest approach to classification, applicable when the input feature vector $\\mathbf{x} \\in \\mathbb{R}^n$, is a simple generalization of what we\n",
    "do in linear regression. Recall that in linear regression, we assume that the target is drawn from a Gaussian distribution whose mean is a linear function\n",
    "of $\\mathbf{x}$:\n",
    "\n",
    "$$ y \\sim {\\cal N}(\\theta^\\top \\mathbf{x}, \\sigma^2) $$\n",
    "\n",
    "In logistic regression, similarly, we'll assume that the target is drawn from a Bernoulli distribution with parameter $p$ being the probability of\n",
    "class 1:\n",
    "\n",
    "$$ y \\sim \\text{Bernoulli}(p) $$\n",
    "\n",
    "That's fine, but how do we model the parameter $p$? How is it related to $\\mathbf{x}$?\n",
    "\n",
    "In linear regression, we assume that the mean of the Gaussian is $\\theta^\\top \\mathbf{x}$, i.e., a linear function of $\\mathbf{x}$.\n",
    "\n",
    "In logistic regression, we'll assume that $p$ is a \"squashed\" linear function of $\\mathbf{x}$, i.e.,\n",
    "\n",
    "$$ p = \\text{sigmoid}(\\theta^\\top \\mathbf{x}) = g(\\theta^\\top \\mathbf{x}) = \\frac{1}{1+e^{-\\theta^\\top \\mathbf{x}}}. $$\n",
    "\n",
    "Later, when we introduce generalized linear models, we'll see why $p$ should take this form. For now, though, we can simply note that the selection makes\n",
    "sense. Since $p$ is a discrete probability, $p$ is bounded by $0 \\le p \\le 1$. The sigmoid function $g(\\cdot)$ conveniently obeys these bounds:\n"
   ]
  },
  {
   "cell_type": "code",
   "execution_count": 1,
   "metadata": {},
   "outputs": [],
   "source": [
    "import numpy as np\n",
    "import matplotlib.pyplot as plt\n",
    "\n",
    "def sigmoid(z):\n",
    "    return 1 / (1 + np.exp(-z))"
   ]
  },
  {
   "cell_type": "code",
   "execution_count": 2,
   "metadata": {},
   "outputs": [
    {
     "data": {
      "image/png": "[encoded data removed]",
      "text/plain": [
       "<Figure size 432x288 with 1 Axes>"
      ]
     },
     "metadata": {
      "needs_background": "light"
     },
     "output_type": "display_data"
    }
   ],
   "source": [
    "z = np.arange(-5, 5, 0.1)\n",
    "plt.plot(z, sigmoid(z), 'b-')\n",
    "plt.xlabel('z')\n",
    "plt.ylabel('g(z)')\n",
    "plt.title('Logistic sigmoid function')\n",
    "plt.show()"
   ]
  },
  {
   "cell_type": "markdown",
   "metadata": {},
   "source": [
    "We see that the sigmoid approaches 0 as its input approaches $-\\infty$ and approaches 1 as its input approaches $+\\infty$. If its input is 0, its value is 0.5.\n",
    "\n",
    "Again, this choice of function may seem strange at this point, but bear with it! We'll derive this function from a more general principle, the generalized\n",
    "linear model, later.\n",
    "\n",
    "OK then, we now understand that for logistic regression, the assumptions are:\n",
    "\n",
    "1. The *data* are pairs $(\\textbf{x}, y) \\in \\mathbb{R}^n \\times \\{ 0, 1 \\}$.\n",
    "1. The *hypothesis function* is $h_\\theta(\\textbf{x}) = \\frac{1}{1+e^{-\\theta^\\top \\mathbf{x}}}$.\n",
    "\n",
    "What else do we need... ? A cost function and an algorithm for minimizing that cost function!\n",
    "\n",
    "## Cost function for logistic regression\n",
    "\n",
    "You can refer to the lecture notes to see the derivation, but for this lab, let's just skip to the chase.\n",
    "With the hypothesis $h_\\theta(\\mathbf{x})$ chosen as above, the log likelihood function $\\ell(\\theta)$ can be derived as\n",
    "$$ \\ell(\\theta) = \\log {\\cal L}(\\theta) =  \\sum_{i=1}^{m}y^{(i)}\\log(h_{\\theta}(\\mathbf{x}^{(i)})) + (1 - y^{(i)})\\log(1 - (h_{\\theta}(\\mathbf{x}^{(i)})) .$$\n",
    "\n",
    "Negating the log likelihood function to obtain a loss function, we have\n",
    "\n",
    "$$ J(\\theta) = - \\sum_{i=1}^m y^{(i)}\\log h_\\theta(\\mathbf{x}^{(i)}) + (1-y^{(i)})\\log(1-h_\\theta(\\textbf{x}^{(i)})) .$$\n",
    "\n",
    "There is no closed-form solution to this problem like there is in linear regression, so we have to use gradient descent to find $\\theta$ minimizing $J(\\theta)$.\n",
    "Luckily, the function *is* convex in $\\theta$ so there is just a single global minimum, and gradient descent is guaranteed to get us there eventually if we take\n",
    "the right step size.\n",
    "\n",
    "The *stochastic* gradient of $J$, for a single observed pair $(\\mathbf{x}, y)$, turns out to be (see lecture notes)\n",
    "\n",
    "$$\\nabla_J(\\theta) = (h_\\theta(\\mathbf{x}) - y)\\mathbf{x} .$$\n",
    "\n",
    "Give some thought as to whether following this gradient to increase the loss $J$ would make a worse classifier, and vice versa!\n",
    "\n",
    "Finally, we obtain the update rule for the $j^{th}$ iteration selecting training pattern $i$:\n",
    "\n",
    "$$ \\theta^{(j+1)} \\leftarrow \\theta^{(j)} + \\alpha(y^{(i)} - h_\\theta(\\textbf{x}^{(i)}))\\textbf{x}^{(i)} .$$ \n",
    "\n",
    "Note that we can perform *batch gradient descent* simply by summing the single-pair gradient over the entire training set before taking a step,\n",
    "or *mini-batch gradient descent* by summing over a small subset of the data.\n",
    "\n",
    "## Example dataset 1: student admissions data\n",
    "\n",
    "This example is from Andrew Ng's machine learning course on Coursera.\n",
    "\n",
    "The data contain students' scores for two standardized tests and an admission decision (0 or 1).\n"
   ]
  },
  {
   "cell_type": "code",
   "execution_count": 3,
   "metadata": {},
   "outputs": [
    {
     "name": "stdout",
     "output_type": "stream",
     "text": [
      "Exam scores [[34.62365962 78.02469282]\n",
      " [30.28671077 43.89499752]\n",
      " [35.84740877 72.90219803]\n",
      " [60.18259939 86.3085521 ]\n",
      " [79.03273605 75.34437644]]\n",
      "-----------------------------\n",
      "Admission decision [0. 0. 0. 1. 1.]\n"
     ]
    }
   ],
   "source": [
    "# Load student admissions data.\n",
    "data = np.loadtxt('ex2data1.txt',delimiter = ',')\n",
    "exam1_data = data[:,0]\n",
    "exam2_data = data[:,1]\n",
    "X = np.array([exam1_data, exam2_data]).T\n",
    "y = data[:,2]\n",
    "\n",
    "# Output some sample data\n",
    "\n",
    "print('Exam scores', X[0:5,:])\n",
    "print('-----------------------------')\n",
    "print('Admission decision', y[0:5])"
   ]
  },
  {
   "cell_type": "markdown",
   "metadata": {},
   "source": [
    "Let's plot the data..."
   ]
  },
  {
   "cell_type": "code",
   "execution_count": 4,
   "metadata": {},
   "outputs": [
    {
     "data": {
      "image/png": "[encoded data removed]",
      "text/plain": [
       "<Figure size 360x360 with 1 Axes>"
      ]
     },
     "metadata": {
      "needs_background": "light"
     },
     "output_type": "display_data"
    }
   ],
   "source": [
    "# Plot the data\n",
    "idx_0 = np.where(y == 0)\n",
    "idx_1 = np.where(y == 1)\n",
    "\n",
    "fig1 = plt.figure(figsize=(5, 5)) \n",
    "ax = plt.axes()\n",
    "ax.set_aspect(aspect = 'equal', adjustable = 'box')\n",
    "plt.title('Distribution')\n",
    "plt.xlabel('Exam 1')\n",
    "plt.ylabel('Exam 2')\n",
    "plt.grid(axis='both', alpha=.25)\n",
    "ax.scatter(exam1_data[idx_0], exam2_data[idx_0], s=50, c='r', marker='*', label='Not Admitted')\n",
    "ax.scatter(exam1_data[idx_1], exam2_data[idx_1], s=50, c='b', marker='o', label='Admitted')\n",
    "plt.legend(loc=0)\n",
    "plt.show()"
   ]
  },
  {
   "cell_type": "markdown",
   "metadata": {},
   "source": [
    "Let's see if we can find good values for $\\theta$ without normalizing the data.\n",
    "We will definitely want to split the data into train and test, however..."
   ]
  },
  {
   "cell_type": "code",
   "execution_count": 5,
   "metadata": {},
   "outputs": [],
   "source": [
    "import random\n",
    "random.seed(12)\n",
    "\n",
    "# Partion data into training and test datasets\n",
    "m, n = X.shape\n",
    "XX = np.insert(X, 0, 1, axis=1)\n",
    "y = y.reshape(m, 1)\n",
    "idx = np.arange(0, m)\n",
    "random.shuffle(idx)\n",
    "percent_train = .6\n",
    "m_train = int(m * percent_train)\n",
    "train_idx = idx[0:m_train]\n",
    "test_idx = idx[m_train:]\n",
    "X_train = XX[train_idx,:];\n",
    "X_test = XX[test_idx,:];\n",
    "\n",
    "y_train = y[train_idx];\n",
    "y_test = y[test_idx];"
   ]
  },
  {
   "cell_type": "markdown",
   "metadata": {},
   "source": [
    "### All important functions are here\n",
    "- Sigmoid function\n",
    "- Hypothesis function\n",
    "- Gradient function\n",
    "- Cost $j$ and gradient function"
   ]
  },
  {
   "cell_type": "code",
   "execution_count": 6,
   "metadata": {},
   "outputs": [],
   "source": [
    "def sigmoid(z):   \n",
    "    return 1 / (1 + np.exp(-z))\n",
    "\n",
    "def h(X, theta):\n",
    "    return sigmoid(X @ theta)\n",
    "\n",
    "def grad_j(X, y, y_pred):\n",
    "    return X.T @ (y - y_pred) / X.shape[0]\n",
    "    \n",
    "def j(theta, X, y):    \n",
    "    y_pred = h(X, theta)\n",
    "    error = (-y * np.log(y_pred)) - ((1 - y) * np.log(1 - y_pred))\n",
    "    cost = sum(error) / X.shape[0]\n",
    "    grad = grad_j(X, y, y_pred)\n",
    "    return cost[0], grad"
   ]
  },
  {
   "cell_type": "markdown",
   "metadata": {},
   "source": [
    "### Initialize theta"
   ]
  },
  {
   "cell_type": "code",
   "execution_count": 7,
   "metadata": {},
   "outputs": [
    {
     "name": "stdout",
     "output_type": "stream",
     "text": [
      "Initial theta: [[0.]\n",
      " [0.]\n",
      " [0.]]\n",
      "Initial predictions: [[0.5]\n",
      " [0.5]\n",
      " [0.5]\n",
      " [0.5]\n",
      " [0.5]]\n",
      "Targets: [[0.]\n",
      " [0.]\n",
      " [0.]\n",
      " [1.]\n",
      " [1.]]\n"
     ]
    }
   ],
   "source": [
    "# Get a feel for how h works\n",
    "theta_initial = np.zeros((n+1, 1))\n",
    "\n",
    "print('Initial theta:', theta_initial)\n",
    "print('Initial predictions:', h(XX, theta_initial)[0:5,:])\n",
    "print('Targets:', y[0:5,:])"
   ]
  },
  {
   "cell_type": "markdown",
   "metadata": {},
   "source": [
    "### Batch training function for num_iters iterations"
   ]
  },
  {
   "cell_type": "code",
   "execution_count": 8,
   "metadata": {},
   "outputs": [],
   "source": [
    "def train(X, y, theta_initial, alpha, num_iters):\n",
    "    theta = theta_initial\n",
    "    j_history = []\n",
    "    for i in range(num_iters):\n",
    "        cost, grad = j(theta, X, y)\n",
    "        theta = theta + alpha * grad\n",
    "        j_history.append(cost)\n",
    "    return theta, j_history"
   ]
  },
  {
   "cell_type": "markdown",
   "metadata": {},
   "source": [
    "### Train data"
   ]
  },
  {
   "cell_type": "code",
   "execution_count": 9,
   "metadata": {},
   "outputs": [
    {
     "name": "stdout",
     "output_type": "stream",
     "text": [
      "Theta optimized: [[-0.10138705]\n",
      " [ 0.0212341 ]\n",
      " [-0.00718614]]\n",
      "Cost with optimized theta: 0.5973946101095569\n"
     ]
    }
   ],
   "source": [
    "# Train for 3000 iterations on full training set\n",
    "alpha = .0005\n",
    "# num_iters = 1000000\n",
    "num_iters = 3000\n",
    "theta, j_history = train(X_train, y_train, theta_initial, alpha, num_iters)\n",
    "\n",
    "print(\"Theta optimized:\", theta)\n",
    "print(\"Cost with optimized theta:\", j_history[-1])"
   ]
  },
  {
   "cell_type": "markdown",
   "metadata": {},
   "source": [
    "### Plot graph"
   ]
  },
  {
   "cell_type": "code",
   "execution_count": 10,
   "metadata": {},
   "outputs": [
    {
     "data": {
      "image/png": "[encoded data removed]",
      "text/plain": [
       "<Figure size 432x288 with 1 Axes>"
      ]
     },
     "metadata": {
      "needs_background": "light"
     },
     "output_type": "display_data"
    }
   ],
   "source": [
    "plt.plot(j_history)\n",
    "plt.xlabel(\"Iteration\")\n",
    "plt.ylabel(\"$J(\\theta)$\")\n",
    "plt.title(\"Training cost over time with batch gradient descent (no normalization)\")\n",
    "plt.show()"
   ]
  },
  {
   "cell_type": "markdown",
   "metadata": {
    "deletable": false,
    "editable": false,
    "nbgrader": {
     "cell_type": "markdown",
     "checksum": "576e44c3b1569c17fef6f70f258d4cec",
     "grade": false,
     "grade_id": "cell-84bc62ed117ee241",
     "locked": true,
     "schema_version": 3,
     "solution": false,
     "task": false
    }
   },
   "source": [
    "### In-lab exercise from example 1 (Total 35 points)\n",
    "\n",
    "That took a long time, right?\n",
    "\n",
    "See if you can do better. \n",
    "\n",
    "1. Try increasing the learning rate $\\alpha$ and starting with a better initial $\\theta$. How much does it help?\n",
    "   - Try at least 2 learning rate $\\alpha$ with 2 difference $\\theta$ (4 experiments)\n",
    "   - Do not forget to plot the graph to compare youre results\n",
    "\n",
    "2. Better yet, try *normalizing the data* and see if the training converges better. How did it go? \n",
    "   - Do not forget to plot the graph to compare youre results between unnormalized and normalized data.\n",
    "\n",
    "3. Discuss the effects of normalization, learning rate, and initial $\\theta$ in your report.\n",
    "\n",
    "\n"
   ]
  },
  {
   "cell_type": "markdown",
   "metadata": {},
   "source": [
    "### Exercise 1.1 (5 points)\n",
    "\n",
    "Fill $\\alpha$ and $\\theta$"
   ]
  },
  {
   "cell_type": "code",
   "execution_count": 11,
   "metadata": {
    "deletable": false,
    "nbgrader": {
     "cell_type": "code",
     "checksum": "fea93a8eacff9b7b1d1db9098abbb952",
     "grade": false,
     "grade_id": "cell-98f6eb46f41c6686",
     "locked": false,
     "schema_version": 3,
     "solution": true,
     "task": false
    }
   },
   "outputs": [
    {
     "data": {
      "text/plain": [
       "(array([[0.0017805],\n",
       "        [0.0017805],\n",
       "        [0.0017805]]),\n",
       " array([[-0.00695896],\n",
       "        [-0.00695896],\n",
       "        [-0.00695896]]))"
      ]
     },
     "execution_count": 11,
     "metadata": {},
     "output_type": "execute_result"
    }
   ],
   "source": [
    "# grade task: change 'None' value to number(s) or function\n",
    "# YOUR CODE HERE\n",
    "# raise NotImplementedError()\n",
    "# declare your alphas\n",
    "alpha1 = None\n",
    "alpha2 = None\n",
    "alpha1 = 0.0007\n",
    "alpha2 = 0.001\n",
    "\n",
    "# initialize thetas as you want\n",
    "theta_initial1 = None\n",
    "theta_initial2 = None\n",
    "import random\n",
    "theta_initial1 = np.zeros((n+1, 1)) + random.random()/100\n",
    "theta_initial2 = np.zeros((n+1, 1)) - random.random()/100\n",
    "\n",
    "# define your num iterations\n",
    "num_iters = None\n",
    "num_iters = 10000\n",
    "\n",
    "theta_initial1,theta_initial2"
   ]
  },
  {
   "cell_type": "code",
   "execution_count": 12,
   "metadata": {
    "deletable": false,
    "editable": false,
    "nbgrader": {
     "cell_type": "code",
     "checksum": "053e98ba0c27eb56eadb89857573b428",
     "grade": true,
     "grade_id": "cell-f9ecb4ab4402c8b4",
     "locked": true,
     "points": 5,
     "schema_version": 3,
     "solution": false,
     "task": false
    }
   },
   "outputs": [
    {
     "name": "stdout",
     "output_type": "stream",
     "text": [
      "alpha 1: 0.0007\n",
      "alpha 2: 0.001\n",
      "theta 1: [[0.0017805]\n",
      " [0.0017805]\n",
      " [0.0017805]]\n",
      "theta 2: [[-0.00695896]\n",
      " [-0.00695896]\n",
      " [-0.00695896]]\n",
      "Use num iterations: 10000\n",
      "success!\n"
     ]
    }
   ],
   "source": [
    "alpha_list = [alpha1, alpha2]\n",
    "print('alpha 1:', alpha1)\n",
    "print('alpha 2:', alpha2)\n",
    "\n",
    "theta_initial_list = [theta_initial1, theta_initial2]\n",
    "print('theta 1:', theta_initial_list[0])\n",
    "print('theta 2:', theta_initial_list[1])\n",
    "\n",
    "print('Use num iterations:', num_iters)\n",
    "\n",
    "# Test function: Do not remove\n",
    "assert alpha_list[0] is not None and alpha_list[1] is not None, \"Alpha has not been filled\"\n",
    "chk1 = isinstance(alpha_list[0], (int, float))\n",
    "chk2 = isinstance(alpha_list[1], (int, float))\n",
    "assert chk1 and chk2, \"Alpha must be number\"\n",
    "assert theta_initial_list[0] is not None and theta_initial_list[1] is not None, \"initialized theta has not been filled\"\n",
    "chk1 = isinstance(theta_initial_list[0], (list,np.ndarray))\n",
    "chk2 = isinstance(theta_initial_list[1], (list,np.ndarray))\n",
    "assert chk1 and chk2, \"Theta must be list\"\n",
    "chk1 = ((n+1, 1) == theta_initial_list[0].shape)\n",
    "chk2 = ((n+1, 1) == theta_initial_list[1].shape)\n",
    "assert chk1 and chk2, \"Theta size are incorrect\"\n",
    "assert num_iters is not None and isinstance(num_iters, int), \"num_iters must be integer\"\n",
    "print(\"success!\")\n",
    "# End Test function"
   ]
  },
  {
   "cell_type": "markdown",
   "metadata": {},
   "source": [
    "### Exercise 1.2 (5 points)\n",
    "\n",
    "Train data"
   ]
  },
  {
   "cell_type": "code",
   "execution_count": 13,
   "metadata": {},
   "outputs": [
    {
     "data": {
      "text/plain": [
       "array([[ 1.        , 79.03273605, 75.34437644],\n",
       "       [ 1.        , 53.97105215, 89.20735014],\n",
       "       [ 1.        , 40.45755098, 97.53518549],\n",
       "       [ 1.        , 79.94481794, 74.16311935],\n",
       "       [ 1.        , 55.48216114, 35.57070347]])"
      ]
     },
     "execution_count": 13,
     "metadata": {},
     "output_type": "execute_result"
    }
   ],
   "source": [
    "X_train[:5] #X_train add X0 as 0 already"
   ]
  },
  {
   "cell_type": "code",
   "execution_count": 14,
   "metadata": {
    "deletable": false,
    "nbgrader": {
     "cell_type": "code",
     "checksum": "9444a50fd763a5d22de0cc2d21c99107",
     "grade": false,
     "grade_id": "cell-77a540a2a0cc2031",
     "locked": false,
     "schema_version": 3,
     "solution": true,
     "task": false
    }
   },
   "outputs": [],
   "source": [
    "# grade task: change 'None, None' value to number(s) or function\n",
    "j_history_list = []\n",
    "theta_list = []\n",
    "for alpha in alpha_list:\n",
    "    for theta_initial in theta_initial_list:\n",
    "        # YOUR CODE HERE\n",
    "#         raise NotImplementedError()\n",
    "#         theta_i, j_history_i = None, None\n",
    "        theta_i, j_history_i = train(X_train, y_train, theta_initial, alpha, num_iters)\n",
    "        j_history_list.append(j_history_i)\n",
    "        theta_list.append(theta_i)"
   ]
  },
  {
   "cell_type": "code",
   "execution_count": 15,
   "metadata": {
    "deletable": false,
    "editable": false,
    "nbgrader": {
     "cell_type": "code",
     "checksum": "85d8b32e551ac03e7e946f2c677e92d0",
     "grade": true,
     "grade_id": "cell-57627ff7e32cd714",
     "locked": true,
     "points": 5,
     "schema_version": 3,
     "solution": false,
     "task": false
    }
   },
   "outputs": [
    {
     "name": "stdout",
     "output_type": "stream",
     "text": [
      "success!\n"
     ]
    }
   ],
   "source": [
    "# Test function: Do not remove\n",
    "assert theta_list[0] is not None and j_history_list[0] is not None, \"No values in theta_list or j_history_list\"\n",
    "chk1 = isinstance(theta_list[0], (list,np.ndarray))\n",
    "chk2 = isinstance(j_history_list[0][0], (int, float))\n",
    "assert chk1 and chk2, \"Wrong type in theta_list or j_history_list\"\n",
    "print(\"success!\")\n",
    "# End Test function"
   ]
  },
  {
   "cell_type": "markdown",
   "metadata": {},
   "source": [
    "### Exercise 1.3 (10 points)\n",
    "\n",
    "Plot graph"
   ]
  },
  {
   "cell_type": "code",
   "execution_count": 16,
   "metadata": {
    "deletable": false,
    "nbgrader": {
     "cell_type": "code",
     "checksum": "3f63a65931d5f3da4e50c7cd36990e0f",
     "grade": true,
     "grade_id": "cell-33ed3657769adb04",
     "locked": false,
     "points": 10,
     "schema_version": 3,
     "solution": true,
     "task": false
    }
   },
   "outputs": [
    {
     "name": "stdout",
     "output_type": "stream",
     "text": [
      "Cost with optimized theta1: 0.594814002100343\n",
      "Cost with optimized theta2: 0.5902623210631742\n"
     ]
    },
    {
     "data": {
      "text/plain": [
       "Text(0.5, 1.0, 'Training cost over time with batch gradient descent (no normalization)')"
      ]
     },
     "execution_count": 16,
     "metadata": {},
     "output_type": "execute_result"
    },
    {
     "data": {
      "image/png": "[encoded data removed]",
      "text/plain": [
       "<Figure size 432x288 with 1 Axes>"
      ]
     },
     "metadata": {
      "needs_background": "light"
     },
     "output_type": "display_data"
    }
   ],
   "source": [
    "# YOUR CODE HERE\n",
    "num_iters = 3000\n",
    "theta1, j_history_1 = train(X_train, y_train, theta_initial1, alpha1, num_iters)\n",
    "theta2, j_history_2 = train(X_train, y_train, theta_initial2, alpha2, num_iters)\n",
    "\n",
    "# print(\"Theta1 optimized:\", theta1[:5])\n",
    "print(\"Cost with optimized theta1:\", j_history_1[-1])\n",
    "# print(\"Theta2 optimized:\", theta2[:5])\n",
    "print(\"Cost with optimized theta2:\", j_history_2[-1])\n",
    "\n",
    "# plt.figure(figsize=(5, 5))\n",
    "\n",
    "plt.plot(j_history_1,color='blue')\n",
    "plt.plot(j_history_2,color='orange')\n",
    "plt.xlabel(\"Iteration\")\n",
    "plt.ylabel(\"$J(\\theta)$\")\n",
    "plt.title(\"Training cost over time with batch gradient descent (no normalization)\")\n",
    "# raise NotImplementedError()"
   ]
  },
  {
   "cell_type": "markdown",
   "metadata": {
    "deletable": false,
    "editable": false,
    "nbgrader": {
     "cell_type": "markdown",
     "checksum": "a43fae10e518b1ce4063a6991fa66ffc",
     "grade": false,
     "grade_id": "cell-59c862747f0fb871",
     "locked": true,
     "points": 10,
     "schema_version": 3,
     "solution": false,
     "task": true
    }
   },
   "source": [
    "### Exercise 1.4 (10 points)\n",
    "\n",
    "- Repeat your training, but **normalized data** before run training\n",
    "- Compare the results between **normalized data** and **unnormalized data**"
   ]
  },
  {
   "cell_type": "code",
   "execution_count": 17,
   "metadata": {},
   "outputs": [
    {
     "name": "stdout",
     "output_type": "stream",
     "text": [
      "Initial theta: [[1.]\n",
      " [1.]\n",
      " [1.]]\n",
      "Initial predictions: [[0.50902239]\n",
      " [0.11569987]\n",
      " [0.45568027]\n",
      " [0.85866756]\n",
      " [0.89888587]]\n"
     ]
    }
   ],
   "source": [
    "import random\n",
    "#Normalization of the dataset \n",
    "def normalized_data(data): #Z-value\n",
    "    means = np.mean(data, axis=0)\n",
    "    stds = np.std(data, axis=0)\n",
    "    z = (data - means) / stds\n",
    "    return z\n",
    "\n",
    "data_norm = normalized_data(data)\n",
    "\n",
    "exam1_dat = data_norm[:,0]\n",
    "exam2_dat = data_norm[:,1]\n",
    "X1 = np.array([exam1_dat, exam2_dat]).T\n",
    "y1 = data_norm[:,2]\n",
    "\n",
    "# Partion data into training and test datasets\n",
    "m, n = X1.shape\n",
    "XX = np.insert(X1, 0, 1, axis=1)\n",
    "y1 = y1.reshape(m, 1)\n",
    "idx = np.arange(0, m)\n",
    "random.shuffle(idx)\n",
    "percent_train = .6\n",
    "m_train = int(m * percent_train)\n",
    "train_idx = idx[0:m_train]\n",
    "test_idx = idx[m_train:]\n",
    "X_train = XX[train_idx,:];\n",
    "X_test = XX[test_idx,:];\n",
    "\n",
    "y_train = y[train_idx];\n",
    "y_test = y[test_idx];\n",
    " \n",
    "theta_initial = np.ones((n+1, 1))\n",
    "theta_initial\n",
    "\n",
    "print('Initial theta:', theta_initial)\n",
    "print('Initial predictions:', h(XX, theta_initial)[0:5,:])\n"
   ]
  },
  {
   "cell_type": "code",
   "execution_count": 18,
   "metadata": {},
   "outputs": [],
   "source": [
    "# import random\n",
    "# #Normalization of the dataset \n",
    "# def normalized_data(data): #Z-value\n",
    "#     means = np.mean(data, axis=0)\n",
    "#     stds = np.std(data, axis=0)\n",
    "#     z = (data - means) / stds\n",
    "#     return z\n",
    "\n",
    "# X_train = normalized_data(X_train);\n",
    "# y_train = normalized_data(y_train);"
   ]
  },
  {
   "cell_type": "code",
   "execution_count": 19,
   "metadata": {},
   "outputs": [
    {
     "name": "stdout",
     "output_type": "stream",
     "text": [
      "Cost with optimized theta: 0.2711360130909758\n",
      "Cost with optimized theta: 0.2556564226626891\n"
     ]
    },
    {
     "data": {
      "text/plain": [
       "Text(0.5, 1.0, 'Training cost over time with batch gradient descent (with normalization)')"
      ]
     },
     "execution_count": 19,
     "metadata": {},
     "output_type": "execute_result"
    },
    {
     "data": {
      "image/png": "[encoded data removed]",
      "text/plain": [
       "<Figure size 432x288 with 1 Axes>"
      ]
     },
     "metadata": {
      "needs_background": "light"
     },
     "output_type": "display_data"
    }
   ],
   "source": [
    "# code here\n",
    "num_iters = 30000\n",
    "theta_norm_1, j_history_norm_1 = train(X_train, y_train, theta_initial1, alpha1, num_iters)\n",
    "theta_norm_2, j_history_norm_2 = train(X_train, y_train, theta_initial2, alpha2, num_iters)\n",
    "\n",
    "# print(\"Theta optimized:\", theta_norm_1)\n",
    "print(\"Cost with optimized theta:\", j_history_norm_1[-1])\n",
    "\n",
    "# print(\"Theta optimized:\", theta_norm_2)\n",
    "print(\"Cost with optimized theta:\", j_history_norm_2[-1])\n",
    "\n",
    "plt.plot(j_history_norm_1,color='blue')\n",
    "plt.plot(j_history_norm_2,color='orange')\n",
    "\n",
    "plt.xlabel(\"Iteration\")\n",
    "plt.ylabel(\"$J(\\theta)$\")\n",
    "plt.title(\"Training cost over time with batch gradient descent (with normalization)\")"
   ]
  },
  {
   "cell_type": "markdown",
   "metadata": {
    "deletable": false,
    "editable": false,
    "nbgrader": {
     "cell_type": "markdown",
     "checksum": "7b1cd115f866825c9970f827ee43d67f",
     "grade": false,
     "grade_id": "cell-43c3a360c938e4be",
     "locked": true,
     "points": 5,
     "schema_version": 3,
     "solution": false,
     "task": true
    }
   },
   "source": [
    "### Exercise 1.5 (5 points)\n",
    "\n",
    "Discuss the effects of normalization, learning rate, and initial $\\theta$ in your report."
   ]
  },
  {
   "cell_type": "markdown",
   "metadata": {},
   "source": [
    "Report here"
   ]
  },
  {
   "cell_type": "markdown",
   "metadata": {},
   "source": [
    "### Decision boundary\n",
    "\n",
    "Note that when $\\theta^\\top \\textbf{x} = 0$, we have $h_\\theta(\\textbf{x}) = 0.5$. That is, we are\n",
    "equally unsure as to whether $\\textbf{x}$ belongs to class 0 or class 1. The contour at which\n",
    "$h_\\theta(\\textbf{x}) = 0.5$ is called the classifier's *decision boundary*.\n",
    "\n",
    "We know that in the plane, the equation $$ax+by+c=0$$ is the general form of a 2D line. In our case, we have\n",
    "$$\\theta_0 + \\theta_1 x_1 + \\theta_2 x_2 = 0$$ as our decision boundary, but clearly, this is just a 2D line\n",
    "in the plane. So when we plot $x_1$ against $x_2$, it is easy to plot the boundary line."
   ]
  },
  {
   "cell_type": "code",
   "execution_count": 20,
   "metadata": {},
   "outputs": [],
   "source": [
    "def boundary_points(X, theta):\n",
    "    v_orthogonal = np.array([[theta[1,0]],[theta[2,0]]])\n",
    "    v_ortho_length = np.sqrt(v_orthogonal.T @ v_orthogonal)\n",
    "    dist_ortho = theta[0,0] / v_ortho_length\n",
    "    v_orthogonal = v_orthogonal / v_ortho_length\n",
    "    v_parallel = np.array([[-v_orthogonal[1,0]],[v_orthogonal[0,0]]])\n",
    "    projections = X @ v_parallel\n",
    "    proj_1 = min(projections)\n",
    "    proj_2 = max(projections)\n",
    "    point_1 = proj_1 * v_parallel - dist_ortho * v_orthogonal\n",
    "    point_2 = proj_2 * v_parallel - dist_ortho * v_orthogonal\n",
    "    return point_1, point_2"
   ]
  },
  {
   "cell_type": "code",
   "execution_count": 21,
   "metadata": {},
   "outputs": [
    {
     "data": {
      "image/png": "[encoded data removed]",
      "text/plain": [
       "<Figure size 360x360 with 1 Axes>"
      ]
     },
     "metadata": {
      "needs_background": "light"
     },
     "output_type": "display_data"
    }
   ],
   "source": [
    "fig1 = plt.figure(figsize=(5,5)) \n",
    "ax = plt.axes() \n",
    "ax.set_aspect(aspect = 'equal', adjustable = 'box')\n",
    "plt.title('Logistic regression boundary')\n",
    "plt.xlabel('Exam 1')\n",
    "plt.ylabel('Exam 2')\n",
    "plt.grid(axis='both', alpha=.25)\n",
    "ax.scatter(X[:,0][idx_0], X[:,1][idx_0], s=50, c='r', marker='*', label='Not Admitted')\n",
    "ax.scatter(X[:,0][idx_1], X[:,1][idx_1], s=50, c='b', marker='o', label='Admitted')\n",
    "point_1, point_2 = boundary_points(X, theta)\n",
    "plt.plot([point_1[0,0], point_2[0,0]],[point_1[1,0], point_2[1,0]], 'g-')\n",
    "plt.legend(loc=0)\n",
    "plt.show()"
   ]
  },
  {
   "cell_type": "markdown",
   "metadata": {},
   "source": [
    "\n",
    "You'll have to adjust the above code to make it work with normalized data.\n",
    "\n",
    "### Test set performance\n",
    "\n",
    "Now let's apply the learned classifier to the test data we reserved in the beginning:\n"
   ]
  },
  {
   "cell_type": "code",
   "execution_count": 22,
   "metadata": {},
   "outputs": [],
   "source": [
    "def r_squared(y, y_pred):\n",
    "    return 1 - np.square(y - y_pred).sum() / np.square(y - y.mean()).sum()"
   ]
  },
  {
   "cell_type": "code",
   "execution_count": 23,
   "metadata": {},
   "outputs": [
    {
     "name": "stdout",
     "output_type": "stream",
     "text": [
      "Got test set soft R^2 0.0122, hard R^2 -0.8182, accuracy 0.55\n"
     ]
    }
   ],
   "source": [
    "y_test_pred_soft = h(X_test, theta)\n",
    "y_test_pred_hard = (y_test_pred_soft > 0.5).astype(int)\n",
    "\n",
    "test_rsq_soft = r_squared(y_test, y_test_pred_soft)\n",
    "test_rsq_hard = r_squared(y_test, y_test_pred_hard)\n",
    "test_acc = (y_test_pred_hard == y_test).astype(int).sum() / y_test.shape[0]\n",
    "\n",
    "print('Got test set soft R^2 %0.4f, hard R^2 %0.4f, accuracy %0.2f' % (test_rsq_soft, test_rsq_hard, test_acc))"
   ]
  },
  {
   "cell_type": "markdown",
   "metadata": {},
   "source": [
    "For classification, accuracy is probably the more useful measure of goodness of fit."
   ]
  },
  {
   "cell_type": "markdown",
   "metadata": {},
   "source": [
    "## Example 2: Loan prediction dataset\n",
    "\n",
    "Let's take another example dataset and see what we can do with it.\n",
    "\n",
    "This dataset is from [Kaggle](https://www.kaggle.com/altruistdelhite04/loan-prediction-problem-dataset).\n",
    "\n",
    "The data concern loan applications. It has 12 independent variables, including 5 categorical variables. The dependent variable is the decision \"Yes\" or \"No\" for extending a loan to an individual who applied.\n",
    "\n",
    "One thing we will have to do is to clean the data, by filling in missing values and converting categorical data to reals.\n",
    "We will use the Python libraries pandas and sklearn to help with the data cleaning and preparation.\n",
    "\n",
    "### Read the data and take a look"
   ]
  },
  {
   "cell_type": "code",
   "execution_count": 24,
   "metadata": {},
   "outputs": [
    {
     "name": "stdout",
     "output_type": "stream",
     "text": [
      "Training data shape (614, 13)\n",
      "Test data shape (367, 12)\n"
     ]
    }
   ],
   "source": [
    "# Import Pandas. You may need to run \"pip3 install pandas\" at the console if it's not already installed\n",
    "\n",
    "import pandas as pd\n",
    "\n",
    "# Import the data\n",
    "data_train = pd.read_csv('train_LoanPrediction.csv')\n",
    "data_test = pd.read_csv('test_LoanPrediction.csv')\n",
    "\n",
    "# Start to explore the data\n",
    "print('Training data shape', data_train.shape)\n",
    "print('Test data shape', data_test.shape)\n",
    "\n",
    "# print('Training data:\\n', data_train)"
   ]
  },
  {
   "cell_type": "code",
   "execution_count": 25,
   "metadata": {},
   "outputs": [
    {
     "name": "stdout",
     "output_type": "stream",
     "text": [
      "Missing values for train data:\n",
      "------------------------\n",
      " Loan_ID               0\n",
      "Gender               13\n",
      "Married               3\n",
      "Dependents           15\n",
      "Education             0\n",
      "Self_Employed        32\n",
      "ApplicantIncome       0\n",
      "CoapplicantIncome     0\n",
      "LoanAmount           22\n",
      "Loan_Amount_Term     14\n",
      "Credit_History       50\n",
      "Property_Area         0\n",
      "Loan_Status           0\n",
      "dtype: int64\n",
      "Missing values for test data \n",
      " ------------------------\n",
      " Loan_ID               0\n",
      "Gender               11\n",
      "Married               0\n",
      "Dependents           10\n",
      "Education             0\n",
      "Self_Employed        23\n",
      "ApplicantIncome       0\n",
      "CoapplicantIncome     0\n",
      "LoanAmount            5\n",
      "Loan_Amount_Term      6\n",
      "Credit_History       29\n",
      "Property_Area         0\n",
      "dtype: int64\n"
     ]
    }
   ],
   "source": [
    "# Check for missing values in the training and test data\n",
    "\n",
    "print('Missing values for train data:\\n------------------------\\n', data_train.isnull().sum())\n",
    "print('Missing values for test data \\n ------------------------\\n', data_test.isnull().sum())"
   ]
  },
  {
   "cell_type": "code",
   "execution_count": 26,
   "metadata": {},
   "outputs": [
    {
     "data": {
      "text/html": [
       "<div>\n",
       "<style scoped>\n",
       "    .dataframe tbody tr th:only-of-type {\n",
       "        vertical-align: middle;\n",
       "    }\n",
       "\n",
       "    .dataframe tbody tr th {\n",
       "        vertical-align: top;\n",
       "    }\n",
       "\n",
       "    .dataframe thead th {\n",
       "        text-align: right;\n",
       "    }\n",
       "</style>\n",
       "<table border=\"1\" class=\"dataframe\">\n",
       "  <thead>\n",
       "    <tr style=\"text-align: right;\">\n",
       "      <th></th>\n",
       "      <th>Loan_ID</th>\n",
       "      <th>Gender</th>\n",
       "      <th>Married</th>\n",
       "      <th>Dependents</th>\n",
       "      <th>Education</th>\n",
       "      <th>Self_Employed</th>\n",
       "      <th>ApplicantIncome</th>\n",
       "      <th>CoapplicantIncome</th>\n",
       "      <th>LoanAmount</th>\n",
       "      <th>Loan_Amount_Term</th>\n",
       "      <th>Credit_History</th>\n",
       "      <th>Property_Area</th>\n",
       "      <th>Loan_Status</th>\n",
       "    </tr>\n",
       "  </thead>\n",
       "  <tbody>\n",
       "    <tr>\n",
       "      <th>0</th>\n",
       "      <td>LP001002</td>\n",
       "      <td>Male</td>\n",
       "      <td>No</td>\n",
       "      <td>0</td>\n",
       "      <td>Graduate</td>\n",
       "      <td>No</td>\n",
       "      <td>5849</td>\n",
       "      <td>0.0</td>\n",
       "      <td>NaN</td>\n",
       "      <td>360.0</td>\n",
       "      <td>1.0</td>\n",
       "      <td>Urban</td>\n",
       "      <td>Y</td>\n",
       "    </tr>\n",
       "    <tr>\n",
       "      <th>1</th>\n",
       "      <td>LP001003</td>\n",
       "      <td>Male</td>\n",
       "      <td>Yes</td>\n",
       "      <td>1</td>\n",
       "      <td>Graduate</td>\n",
       "      <td>No</td>\n",
       "      <td>4583</td>\n",
       "      <td>1508.0</td>\n",
       "      <td>128.0</td>\n",
       "      <td>360.0</td>\n",
       "      <td>1.0</td>\n",
       "      <td>Rural</td>\n",
       "      <td>N</td>\n",
       "    </tr>\n",
       "    <tr>\n",
       "      <th>2</th>\n",
       "      <td>LP001005</td>\n",
       "      <td>Male</td>\n",
       "      <td>Yes</td>\n",
       "      <td>0</td>\n",
       "      <td>Graduate</td>\n",
       "      <td>Yes</td>\n",
       "      <td>3000</td>\n",
       "      <td>0.0</td>\n",
       "      <td>66.0</td>\n",
       "      <td>360.0</td>\n",
       "      <td>1.0</td>\n",
       "      <td>Urban</td>\n",
       "      <td>Y</td>\n",
       "    </tr>\n",
       "    <tr>\n",
       "      <th>3</th>\n",
       "      <td>LP001006</td>\n",
       "      <td>Male</td>\n",
       "      <td>Yes</td>\n",
       "      <td>0</td>\n",
       "      <td>Not Graduate</td>\n",
       "      <td>No</td>\n",
       "      <td>2583</td>\n",
       "      <td>2358.0</td>\n",
       "      <td>120.0</td>\n",
       "      <td>360.0</td>\n",
       "      <td>1.0</td>\n",
       "      <td>Urban</td>\n",
       "      <td>Y</td>\n",
       "    </tr>\n",
       "    <tr>\n",
       "      <th>4</th>\n",
       "      <td>LP001008</td>\n",
       "      <td>Male</td>\n",
       "      <td>No</td>\n",
       "      <td>0</td>\n",
       "      <td>Graduate</td>\n",
       "      <td>No</td>\n",
       "      <td>6000</td>\n",
       "      <td>0.0</td>\n",
       "      <td>141.0</td>\n",
       "      <td>360.0</td>\n",
       "      <td>1.0</td>\n",
       "      <td>Urban</td>\n",
       "      <td>Y</td>\n",
       "    </tr>\n",
       "  </tbody>\n",
       "</table>\n",
       "</div>"
      ],
      "text/plain": [
       "    Loan_ID Gender Married Dependents     Education Self_Employed  \\\n",
       "0  LP001002   Male      No          0      Graduate            No   \n",
       "1  LP001003   Male     Yes          1      Graduate            No   \n",
       "2  LP001005   Male     Yes          0      Graduate           Yes   \n",
       "3  LP001006   Male     Yes          0  Not Graduate            No   \n",
       "4  LP001008   Male      No          0      Graduate            No   \n",
       "\n",
       "   ApplicantIncome  CoapplicantIncome  LoanAmount  Loan_Amount_Term  \\\n",
       "0             5849                0.0         NaN             360.0   \n",
       "1             4583             1508.0       128.0             360.0   \n",
       "2             3000                0.0        66.0             360.0   \n",
       "3             2583             2358.0       120.0             360.0   \n",
       "4             6000                0.0       141.0             360.0   \n",
       "\n",
       "   Credit_History Property_Area Loan_Status  \n",
       "0             1.0         Urban           Y  \n",
       "1             1.0         Rural           N  \n",
       "2             1.0         Urban           Y  \n",
       "3             1.0         Urban           Y  \n",
       "4             1.0         Urban           Y  "
      ]
     },
     "execution_count": 26,
     "metadata": {},
     "output_type": "execute_result"
    }
   ],
   "source": [
    "data_train.head()"
   ]
  },
  {
   "cell_type": "markdown",
   "metadata": {},
   "source": [
    "### Handle missing values\n",
    "\n",
    "We can see from the above table that the `Married` column has 3 missing values in the training dataset and 0 missing values in the test dataset.\n",
    "Let's take a look at the distribution over the datasets then fill in the missing values in approximately the same ratio.\n",
    "\n",
    "You may be interested to look at the [documentation of the Pandas `fillna()` function](https://pandas.pydata.org/pandas-docs/stable/reference/api/pandas.DataFrame.fillna.html). It's great!"
   ]
  },
  {
   "cell_type": "code",
   "execution_count": 27,
   "metadata": {},
   "outputs": [
    {
     "name": "stdout",
     "output_type": "stream",
     "text": [
      "Yes    398\n",
      "No     213\n",
      "Name: Married, dtype: int64\n",
      "Elements in Married variable (2,)\n",
      "Married ratio  0.6513911620294599\n",
      "Yes    400\n",
      "No     214\n",
      "Name: Married, dtype: int64\n",
      "Missing values for train data:\n",
      "------------------------\n",
      " Loan_ID               0\n",
      "Gender               13\n",
      "Married               0\n",
      "Dependents           15\n",
      "Education             0\n",
      "Self_Employed        32\n",
      "ApplicantIncome       0\n",
      "CoapplicantIncome     0\n",
      "LoanAmount           22\n",
      "Loan_Amount_Term     14\n",
      "Credit_History       50\n",
      "Property_Area         0\n",
      "Loan_Status           0\n",
      "dtype: int64\n"
     ]
    }
   ],
   "source": [
    "# Compute ratio of each category value\n",
    "# Divide the missing values based on ratio\n",
    "# Fillin the missing values\n",
    "# Print the values before and after filling the missing values for confirmation\n",
    "\n",
    "print(data_train['Married'].value_counts())\n",
    "\n",
    "married = data_train['Married'].value_counts()\n",
    "print('Elements in Married variable', married.shape)\n",
    "print('Married ratio ', married[0]/sum(married.values))\n",
    "\n",
    "def fill_martial_status(data, yes_num_train, no_num_train):        \n",
    "    data['Married'].fillna('Yes', inplace = True, limit = yes_num_train)\n",
    "    data['Married'].fillna('No', inplace = True, limit = no_num_train)  \n",
    "\n",
    "fill_martial_status(data_train, 2, 1)\n",
    "print(data_train['Married'].value_counts()) \n",
    "print('Missing values for train data:\\n------------------------\\n', data_train.isnull().sum())"
   ]
  },
  {
   "cell_type": "markdown",
   "metadata": {},
   "source": [
    "Now the number of examples missing the `Married` attribute is 0.\n",
    "\n",
    "Excercise: Complete the data processing based on examples given and logistic regression model on training dataset. Estimate the Accuracy (goodness of fit) on test dataset."
   ]
  },
  {
   "cell_type": "code",
   "execution_count": 28,
   "metadata": {},
   "outputs": [
    {
     "name": "stdout",
     "output_type": "stream",
     "text": [
      "0     345\n",
      "1     102\n",
      "2     101\n",
      "3+     51\n",
      "Name: Dependents, dtype: int64\n",
      "Dependent ratio 1  0.5759599332220368\n",
      "Dependent ratio 2  0.17028380634390652\n",
      "Dependent ratio 3  0.1686143572621035\n",
      "Dependent ratio 3+  0.08514190317195326\n",
      "0     354\n",
      "1     104\n",
      "2     103\n",
      "3+     53\n",
      "Name: Dependents, dtype: int64\n"
     ]
    }
   ],
   "source": [
    "# Another example of filling in missing values for the \"number of dependents\" attribute.\n",
    "# Here we see that categorical values are all numeric except one value \"3+\" \n",
    "# Create a new category value \"4\" for \"3+\" and ensure that all the data is numeric\n",
    "\n",
    "print(data_train['Dependents'].value_counts())\n",
    "dependent = data_train['Dependents'].value_counts()\n",
    "\n",
    "print('Dependent ratio 1 ', dependent['0'] / sum(dependent.values))\n",
    "print('Dependent ratio 2 ', dependent['1'] / sum(dependent.values))\n",
    "print('Dependent ratio 3 ', dependent['2'] / sum(dependent.values))\n",
    "print('Dependent ratio 3+ ', dependent['3+'] / sum(dependent.values))\n",
    "\n",
    "def fill_dependent_status(num_0_train, num_1_train, num_2_train, num_3_train, num_0_test, num_1_test, num_2_test, num_3_test):        \n",
    "    data_train['Dependents'].fillna('0', inplace=True, limit = num_0_train)\n",
    "    data_train['Dependents'].fillna('1', inplace=True, limit = num_1_train)\n",
    "    data_train['Dependents'].fillna('2', inplace=True, limit = num_2_train)\n",
    "    data_train['Dependents'].fillna('3+', inplace=True, limit = num_3_train)\n",
    "    data_test['Dependents'].fillna('0', inplace=True, limit = num_0_test)\n",
    "    data_test['Dependents'].fillna('1', inplace=True, limit = num_1_test)\n",
    "    data_test['Dependents'].fillna('2', inplace=True, limit = num_2_test)\n",
    "    data_test['Dependents'].fillna('3+', inplace=True, limit = num_3_test)\n",
    "\n",
    "fill_dependent_status(9, 2, 2, 2, 5, 2, 2, 1)\n",
    "\n",
    "print(data_train['Dependents'].value_counts())\n",
    "\n",
    "# Convert category value \"3+\" to \"4\"\n",
    "\n",
    "data_train['Dependents'].replace('3+', 4, inplace = True)\n",
    "data_test['Dependents'].replace('3+', 4, inplace = True)\n",
    "\n",
    "data_train['Dependents'].replace('0', 0, inplace = True)\n",
    "data_train['Dependents'].replace('1', 1, inplace = True)\n",
    "data_train['Dependents'].replace('2', 2, inplace = True)"
   ]
  },
  {
   "cell_type": "markdown",
   "metadata": {},
   "source": [
    "Once missing values are filled in, you'll want to convert strings to numbers."
   ]
  },
  {
   "cell_type": "markdown",
   "metadata": {},
   "source": [
    "Finally, here's an example of replacing missing values for a numeric attribute. Typically, we would use the mean of the attribute over the training set. "
   ]
  },
  {
   "cell_type": "code",
   "execution_count": 29,
   "metadata": {},
   "outputs": [
    {
     "name": "stdout",
     "output_type": "stream",
     "text": [
      "120.0    20\n",
      "110.0    17\n",
      "100.0    15\n",
      "160.0    12\n",
      "187.0    12\n",
      "         ..\n",
      "240.0     1\n",
      "214.0     1\n",
      "59.0      1\n",
      "166.0     1\n",
      "253.0     1\n",
      "Name: LoanAmount, Length: 203, dtype: int64\n",
      "mean loan amount  146.41216216216216\n"
     ]
    }
   ],
   "source": [
    "print(data_train['LoanAmount'].value_counts())\n",
    "\n",
    "LoanAmt = data_train['LoanAmount'].value_counts()\n",
    "\n",
    "print('mean loan amount ', np.mean(data_train[\"LoanAmount\"]))\n",
    "\n",
    "loan_amount_mean = np.mean(data_train[\"LoanAmount\"])\n",
    "\n",
    "data_train['LoanAmount'].fillna(loan_amount_mean, inplace=True, limit = 22)\n",
    "data_test['LoanAmount'].fillna(loan_amount_mean, inplace=True, limit = 5)"
   ]
  },
  {
   "cell_type": "markdown",
   "metadata": {
    "deletable": false,
    "editable": false,
    "nbgrader": {
     "cell_type": "markdown",
     "checksum": "1288cf84e0d61caa8f2a40e2c323f327",
     "grade": false,
     "grade_id": "cell-2e5822ee2e432273",
     "locked": true,
     "points": 65,
     "schema_version": 3,
     "solution": false,
     "task": true
    }
   },
   "source": [
    "## Take-home exercise (65 points)\n",
    "\n",
    "Using the data from Example 2 above, finish the data cleaning and\n",
    "preparation. Build a logistic regression model based on the\n",
    "cleaned dataset and report the accuracy on the test and training sets.\n",
    "\n",
    "- Setup X and Y data (10 points)\n",
    "- Train data and return theta and J value. Find the good $\\alpha$ and you may normalized data before train. (30 points)\n",
    "- Use $\\theta$ and implement in test set. (10 points)\n",
    "- Summarize what did you do and how to find the best result in this take home exercise. (15 points)"
   ]
  },
  {
   "cell_type": "markdown",
   "metadata": {},
   "source": [
    "## To turn in\n",
    "\n",
    "Turn in a brief report in the form of a Jupyter notebook explaining what\n",
    "you did for the in-lab exercise and the take-home exercise. Discuss what\n",
    "you learned in terms of normalization and data cleaning and the results\n",
    "you obtained.\n"
   ]
  },
  {
   "cell_type": "markdown",
   "metadata": {},
   "source": [
    "# Handle Others Missing Values"
   ]
  },
  {
   "cell_type": "code",
   "execution_count": 30,
   "metadata": {},
   "outputs": [
    {
     "name": "stdout",
     "output_type": "stream",
     "text": [
      "Missing values for train data \n",
      " ------------------------\n",
      " Loan_ID               0\n",
      "Gender               13\n",
      "Married               0\n",
      "Dependents            0\n",
      "Education             0\n",
      "Self_Employed        32\n",
      "ApplicantIncome       0\n",
      "CoapplicantIncome     0\n",
      "LoanAmount            0\n",
      "Loan_Amount_Term     14\n",
      "Credit_History       50\n",
      "Property_Area         0\n",
      "Loan_Status           0\n",
      "dtype: int64\n",
      "Missing values for test data \n",
      " ------------------------\n",
      " Loan_ID               0\n",
      "Gender               11\n",
      "Married               0\n",
      "Dependents            0\n",
      "Education             0\n",
      "Self_Employed        23\n",
      "ApplicantIncome       0\n",
      "CoapplicantIncome     0\n",
      "LoanAmount            0\n",
      "Loan_Amount_Term      6\n",
      "Credit_History       29\n",
      "Property_Area         0\n",
      "dtype: int64\n"
     ]
    }
   ],
   "source": [
    "# Cleaning training set and test set \n",
    "print('Missing values for train data \\n ------------------------\\n', data_train.isnull().sum())\n",
    "print('Missing values for test data \\n ------------------------\\n', data_test.isnull().sum())\n",
    "#There Gender, Self_Employed, Loan_Amount_Term, Credit_History is NULL for training set and test set"
   ]
  },
  {
   "cell_type": "markdown",
   "metadata": {},
   "source": [
    "## Cleaing Gender"
   ]
  },
  {
   "cell_type": "code",
   "execution_count": 31,
   "metadata": {},
   "outputs": [
    {
     "name": "stdout",
     "output_type": "stream",
     "text": [
      "Male      489\n",
      "Female    112\n",
      "Name: Gender, dtype: int64\n",
      "Elements in Gender variable (2,)\n",
      "Gender ratio  0.8136439267886856\n",
      "Male      500\n",
      "Female    114\n",
      "Name: Gender, dtype: int64\n",
      "Missing values Gender for train data: 0\n",
      "\n",
      "Male      286\n",
      "Female     70\n",
      "Name: Gender, dtype: int64\n",
      "Elements in Gender variable (2,)\n",
      "Gender ratio  0.8033707865168539\n",
      "Male      295\n",
      "Female     72\n",
      "Name: Gender, dtype: int64\n",
      "Missing values Gender for test data: 0\n"
     ]
    }
   ],
   "source": [
    "#Training Data\n",
    "print(data_train['Gender'].value_counts())\n",
    "\n",
    "gender = data_train['Gender'].value_counts()\n",
    "print('Elements in Gender variable', gender.shape)\n",
    "print('Gender ratio ', gender[0]/sum(gender.values))\n",
    "\n",
    "def fill_gender_status(data, male_num_train, female_num_train):    \n",
    "    data['Gender'].fillna('Male',inplace=True, limit = male_num_train )\n",
    "    data['Gender'].fillna('Female',inplace=True, limit = female_num_train)  \n",
    "\n",
    "fill_gender_status(data_train,11,2) #Obtained by multiplying the ratios to the total value\n",
    "print(data_train['Gender'].value_counts()) \n",
    "print('Missing values Gender for train data:', data_train.Gender.isnull().sum())\n",
    "\n",
    "print()\n",
    "#Test Data\n",
    "print(data_test['Gender'].value_counts())\n",
    "\n",
    "gender = data_test['Gender'].value_counts()\n",
    "print('Elements in Gender variable', gender.shape)\n",
    "print('Gender ratio ', gender[0]/sum(gender.values))\n",
    "\n",
    "fill_gender_status(data_test,9,2) #Calcuated using the ratio to the total missing values\n",
    "print(data_test['Gender'].value_counts()) \n",
    "print('Missing values Gender for test data:', data_test.Gender.isnull().sum())"
   ]
  },
  {
   "cell_type": "markdown",
   "metadata": {},
   "source": [
    "## Cleaing Self_Employed"
   ]
  },
  {
   "cell_type": "code",
   "execution_count": 32,
   "metadata": {},
   "outputs": [
    {
     "name": "stdout",
     "output_type": "stream",
     "text": [
      "No     500\n",
      "Yes     82\n",
      "Name: Self_Employed, dtype: int64\n",
      "Elements in Self Employed variable (2,)\n",
      "Self Employed ratio  0.8591065292096219\n",
      "No     527\n",
      "Yes     87\n",
      "Name: Self_Employed, dtype: int64\n",
      "Missing values Self_Employed for train data: 0\n",
      "\n",
      "No     307\n",
      "Yes     37\n",
      "Name: Self_Employed, dtype: int64\n",
      "Elements in Self_Employed variable (2,)\n",
      "Self-Employed ratio  0.8924418604651163\n",
      "No     326\n",
      "Yes     41\n",
      "Name: Self_Employed, dtype: int64\n",
      "Missing values Self_Employed for test data: 0\n"
     ]
    }
   ],
   "source": [
    "#Training Data\n",
    "print(data_train['Self_Employed'].value_counts())\n",
    "\n",
    "self_employed = data_train['Self_Employed'].value_counts()\n",
    "print('Elements in Self Employed variable', self_employed.shape)\n",
    "print('Self Employed ratio ', self_employed[0]/sum(self_employed.values))\n",
    "\n",
    "def fill_selfemployed_status(data, yes_num_train, no_num_train):        \n",
    "    data['Self_Employed'].fillna('No', inplace = True, limit = yes_num_train)\n",
    "    data['Self_Employed'].fillna('Yes', inplace = True, limit = no_num_train)  \n",
    "\n",
    "fill_selfemployed_status(data_train, 27, 5)\n",
    "print(data_train['Self_Employed'].value_counts()) \n",
    "print('Missing values Self_Employed for train data:', data_train['Self_Employed'].isnull().sum())\n",
    "\n",
    "print()\n",
    "#Test Data\n",
    "print(data_test['Self_Employed'].value_counts())\n",
    "\n",
    "self_employed = data_test['Self_Employed'].value_counts()\n",
    "print('Elements in Self_Employed variable', self_employed.shape)\n",
    "print('Self-Employed ratio ', self_employed[0]/sum(self_employed.values))\n",
    "\n",
    "fill_selfemployed_status(data_test, 19, 4)\n",
    "print(data_test['Self_Employed'].value_counts()) \n",
    "print('Missing values Self_Employed for test data:', data_test['Self_Employed'].isnull().sum())"
   ]
  },
  {
   "cell_type": "markdown",
   "metadata": {},
   "source": [
    "## Clean Loan_Amount_Term"
   ]
  },
  {
   "cell_type": "code",
   "execution_count": 33,
   "metadata": {},
   "outputs": [
    {
     "name": "stdout",
     "output_type": "stream",
     "text": [
      "360.0    512\n",
      "180.0     44\n",
      "480.0     15\n",
      "300.0     13\n",
      "240.0      4\n",
      "84.0       4\n",
      "120.0      3\n",
      "60.0       2\n",
      "36.0       2\n",
      "12.0       1\n",
      "Name: Loan_Amount_Term, dtype: int64\n",
      "mean loan amount term  342.0\n",
      "360.0    512\n",
      "180.0     44\n",
      "480.0     15\n",
      "342.0     14\n",
      "300.0     13\n",
      "240.0      4\n",
      "84.0       4\n",
      "120.0      3\n",
      "60.0       2\n",
      "36.0       2\n",
      "12.0       1\n",
      "Name: Loan_Amount_Term, dtype: int64\n",
      "Missing values Loan_Amount_Term for train data: 0\n",
      "\n",
      "360.0    311\n",
      "180.0     22\n",
      "480.0      8\n",
      "300.0      7\n",
      "240.0      4\n",
      "84.0       3\n",
      "60.0       1\n",
      "12.0       1\n",
      "350.0      1\n",
      "36.0       1\n",
      "120.0      1\n",
      "6.0        1\n",
      "Name: Loan_Amount_Term, dtype: int64\n",
      "mean loan amount term  342.53739612188366\n",
      "360.000000    311\n",
      "180.000000     22\n",
      "480.000000      8\n",
      "300.000000      7\n",
      "342.537396      6\n",
      "240.000000      4\n",
      "84.000000       3\n",
      "60.000000       1\n",
      "12.000000       1\n",
      "350.000000      1\n",
      "36.000000       1\n",
      "120.000000      1\n",
      "6.000000        1\n",
      "Name: Loan_Amount_Term, dtype: int64\n",
      "Missing values Loan_Amount_Term for test data: 0\n"
     ]
    }
   ],
   "source": [
    "#Training Data\n",
    "print(data_train['Loan_Amount_Term'].value_counts())\n",
    "\n",
    "LoanAmt = data_train['Loan_Amount_Term'].value_counts()\n",
    "\n",
    "print('mean loan amount term ', np.mean(data_train[\"Loan_Amount_Term\"]))\n",
    "\n",
    "loan_amount_meant = np.mean(data_train[\"Loan_Amount_Term\"])\n",
    "loan_amount_meant\n",
    "data_train['Loan_Amount_Term'].fillna(loan_amount_meant, inplace=True, limit = 14) #Replacing all the values with the mean i.e. 314\n",
    "# data_test['Loan_Amount_Term'].fillna(loan_amount_meant, inplace=True, limit = 5)\n",
    "print(data_train['Loan_Amount_Term'].value_counts())\n",
    "\n",
    "print('Missing values Loan_Amount_Term for train data:', data_train['Loan_Amount_Term'].isnull().sum())\n",
    "\n",
    "print()\n",
    "#Test Data\n",
    "\n",
    "print(data_test['Loan_Amount_Term'].value_counts())\n",
    "\n",
    "LoanAmt = data_test['Loan_Amount_Term'].value_counts()\n",
    "\n",
    "print('mean loan amount term ', np.mean(data_test[\"Loan_Amount_Term\"]))\n",
    "\n",
    "loan_amount_meant = np.mean(data_test[\"Loan_Amount_Term\"])\n",
    "loan_amount_meant\n",
    "#data_train['Loan_Amount_Term'].fillna(loan_amount_meant, inplace=True, limit = 14) #Replacing all the values with the mean i.e. 314\n",
    "data_test['Loan_Amount_Term'].fillna(loan_amount_meant, inplace=True, limit = 6)\n",
    "print(data_test['Loan_Amount_Term'].value_counts())\n",
    "\n",
    "print('Missing values Loan_Amount_Term for test data:', data_test['Loan_Amount_Term'].isnull().sum())\n"
   ]
  },
  {
   "cell_type": "markdown",
   "metadata": {},
   "source": [
    "## Clean Credit_History"
   ]
  },
  {
   "cell_type": "code",
   "execution_count": 34,
   "metadata": {},
   "outputs": [
    {
     "name": "stdout",
     "output_type": "stream",
     "text": [
      "1.0    475\n",
      "0.0     89\n",
      "Name: Credit_History, dtype: int64\n",
      "Elements in Gender variable (2,)\n",
      "Credit ratio  0.15780141843971632\n",
      "1.0    517\n",
      "0.0     97\n",
      "Name: Credit_History, dtype: int64\n",
      "Missing values Credit_History for train data: 0\n",
      "\n",
      "1.0    279\n",
      "0.0     59\n",
      "Name: Credit_History, dtype: int64\n",
      "Elements in Gender variable (2,)\n",
      "Credit ratio  0.17455621301775148\n",
      "1.0    303\n",
      "0.0     64\n",
      "Name: Credit_History, dtype: int64\n",
      "Missing values Credit_History for test data: 0\n"
     ]
    }
   ],
   "source": [
    "#Training Data\n",
    "print(data_train['Credit_History'].value_counts())\n",
    "\n",
    "credit = data_train['Credit_History'].value_counts()\n",
    "print('Elements in Gender variable', credit.shape)\n",
    "print('Credit ratio ', credit[0]/sum(credit.values))\n",
    "\n",
    "\n",
    "def fill_credit_status(data, one_num_train, two_num_train):    \n",
    "    data['Credit_History'].fillna(1.0,inplace=True, limit = one_num_train )\n",
    "    data['Credit_History'].fillna(0.0,inplace=True, limit = two_num_train)  \n",
    "\n",
    "fill_credit_status(data_train,42,8) #Calcuated using the ratio to the total missing values\n",
    "print(data_train['Credit_History'].value_counts()) \n",
    "print('Missing values Credit_History for train data:', data_train['Credit_History'].isnull().sum())\n",
    "\n",
    "print()\n",
    "#Test Data\n",
    "print(data_test['Credit_History'].value_counts())\n",
    "\n",
    "credit = data_test['Credit_History'].value_counts()\n",
    "print('Elements in Gender variable', credit.shape)\n",
    "print('Credit ratio ', credit[0]/sum(credit.values))\n",
    "\n",
    "fill_credit_status(data_test,24,5) #Calcuated using the ratio to the total missing values\n",
    "print(data_test['Credit_History'].value_counts()) \n",
    "print('Missing values Credit_History for test data:', data_test['Credit_History'].isnull().sum())"
   ]
  },
  {
   "cell_type": "code",
   "execution_count": 35,
   "metadata": {},
   "outputs": [
    {
     "name": "stdout",
     "output_type": "stream",
     "text": [
      "Missing values for train data \n",
      " ------------------------\n",
      " Loan_ID              0\n",
      "Gender               0\n",
      "Married              0\n",
      "Dependents           0\n",
      "Education            0\n",
      "Self_Employed        0\n",
      "ApplicantIncome      0\n",
      "CoapplicantIncome    0\n",
      "LoanAmount           0\n",
      "Loan_Amount_Term     0\n",
      "Credit_History       0\n",
      "Property_Area        0\n",
      "Loan_Status          0\n",
      "dtype: int64\n",
      "Missing values for test data \n",
      " ------------------------\n",
      " Loan_ID              0\n",
      "Gender               0\n",
      "Married              0\n",
      "Dependents           0\n",
      "Education            0\n",
      "Self_Employed        0\n",
      "ApplicantIncome      0\n",
      "CoapplicantIncome    0\n",
      "LoanAmount           0\n",
      "Loan_Amount_Term     0\n",
      "Credit_History       0\n",
      "Property_Area        0\n",
      "dtype: int64\n"
     ]
    }
   ],
   "source": [
    "# Cleaning training set and test set \n",
    "print('Missing values for train data \\n ------------------------\\n', data_train.isnull().sum())\n",
    "print('Missing values for test data \\n ------------------------\\n', data_test.isnull().sum())"
   ]
  },
  {
   "cell_type": "code",
   "execution_count": 36,
   "metadata": {},
   "outputs": [],
   "source": [
    "# print(data_train.info())\n",
    "# print(data_test.info())"
   ]
  },
  {
   "cell_type": "markdown",
   "metadata": {},
   "source": [
    "## Converting categorical value to numerical value"
   ]
  },
  {
   "cell_type": "code",
   "execution_count": 37,
   "metadata": {},
   "outputs": [
    {
     "data": {
      "text/plain": [
       "(Loan_ID               object\n",
       " Gender                object\n",
       " Married               object\n",
       " Dependents             int64\n",
       " Education             object\n",
       " Self_Employed         object\n",
       " ApplicantIncome        int64\n",
       " CoapplicantIncome    float64\n",
       " LoanAmount           float64\n",
       " Loan_Amount_Term     float64\n",
       " Credit_History       float64\n",
       " Property_Area         object\n",
       " Loan_Status           object\n",
       " dtype: object,\n",
       " Loan_ID               object\n",
       " Gender                object\n",
       " Married               object\n",
       " Dependents            object\n",
       " Education             object\n",
       " Self_Employed         object\n",
       " ApplicantIncome        int64\n",
       " CoapplicantIncome      int64\n",
       " LoanAmount           float64\n",
       " Loan_Amount_Term     float64\n",
       " Credit_History       float64\n",
       " Property_Area         object\n",
       " dtype: object)"
      ]
     },
     "execution_count": 37,
     "metadata": {},
     "output_type": "execute_result"
    }
   ],
   "source": [
    "data_train.dtypes, data_test.dtypes\n",
    "#There are Gender, Married, Education, Self_Employed, Property_Area"
   ]
  },
  {
   "cell_type": "code",
   "execution_count": 38,
   "metadata": {},
   "outputs": [],
   "source": [
    "data_train['Gender'].replace('Male', 0, inplace = True)\n",
    "data_train['Gender'].replace('Female', 1, inplace = True)\n",
    "data_train['Married'].replace('No', 0, inplace = True)\n",
    "data_train['Married'].replace('Yes', 1, inplace = True)\n",
    "data_train['Education'].replace('Not Graduate', 0, inplace = True)\n",
    "data_train['Education'].replace('Graduate', 1, inplace = True)\n",
    "data_train['Self_Employed'].replace('No', 0, inplace = True)\n",
    "data_train['Self_Employed'].replace('Yes', 1, inplace = True)\n",
    "data_train['Property_Area'].replace('Urban', 0, inplace = True)\n",
    "data_train['Property_Area'].replace('Semiurban', 1, inplace = True)\n",
    "data_train['Property_Area'].replace('Rural', 2, inplace = True)\n",
    "data_train['Loan_Status'].replace('N', 0, inplace = True)\n",
    "data_train['Loan_Status'].replace('Y', 1, inplace = True)"
   ]
  },
  {
   "cell_type": "code",
   "execution_count": 39,
   "metadata": {},
   "outputs": [],
   "source": [
    "data_test['Gender'].replace('Male', 0, inplace = True)\n",
    "data_test['Gender'].replace('Female', 1, inplace = True)\n",
    "data_test['Married'].replace('No', 0, inplace = True)\n",
    "data_test['Married'].replace('Yes', 1, inplace = True)\n",
    "data_test['Education'].replace('Not Graduate', 0, inplace = True)\n",
    "data_test['Education'].replace('Graduate', 1, inplace = True)\n",
    "data_test['Self_Employed'].replace('No', 0, inplace = True)\n",
    "data_test['Self_Employed'].replace('Yes', 1, inplace = True)\n",
    "data_test['Property_Area'].replace('Urban', 0, inplace = True)\n",
    "data_test['Property_Area'].replace('Semiurban', 1, inplace = True)\n",
    "data_test['Property_Area'].replace('Rural', 2, inplace = True)\n",
    "data_test['Dependents'] = data_test['Dependents'].astype(str).astype(int)"
   ]
  },
  {
   "cell_type": "code",
   "execution_count": 40,
   "metadata": {},
   "outputs": [
    {
     "data": {
      "text/plain": [
       "(Loan_ID               object\n",
       " Gender                 int64\n",
       " Married                int64\n",
       " Dependents             int64\n",
       " Education              int64\n",
       " Self_Employed          int64\n",
       " ApplicantIncome        int64\n",
       " CoapplicantIncome    float64\n",
       " LoanAmount           float64\n",
       " Loan_Amount_Term     float64\n",
       " Credit_History       float64\n",
       " Property_Area          int64\n",
       " Loan_Status            int64\n",
       " dtype: object,\n",
       " Loan_ID               object\n",
       " Gender                 int64\n",
       " Married                int64\n",
       " Dependents             int32\n",
       " Education              int64\n",
       " Self_Employed          int64\n",
       " ApplicantIncome        int64\n",
       " CoapplicantIncome      int64\n",
       " LoanAmount           float64\n",
       " Loan_Amount_Term     float64\n",
       " Credit_History       float64\n",
       " Property_Area          int64\n",
       " dtype: object)"
      ]
     },
     "execution_count": 40,
     "metadata": {},
     "output_type": "execute_result"
    }
   ],
   "source": [
    "data_train.dtypes, data_test.dtypes\n",
    "#Dependent of Test is still not be a numerical value "
   ]
  },
  {
   "cell_type": "markdown",
   "metadata": {},
   "source": [
    "# Setup X and Y data"
   ]
  },
  {
   "cell_type": "code",
   "execution_count": 41,
   "metadata": {},
   "outputs": [
    {
     "data": {
      "text/plain": [
       "Index(['Loan_ID', 'Gender', 'Married', 'Dependents', 'Education',\n",
       "       'Self_Employed', 'ApplicantIncome', 'CoapplicantIncome', 'LoanAmount',\n",
       "       'Loan_Amount_Term', 'Credit_History', 'Property_Area', 'Loan_Status'],\n",
       "      dtype='object')"
      ]
     },
     "execution_count": 41,
     "metadata": {},
     "output_type": "execute_result"
    }
   ],
   "source": [
    "data_train.columns"
   ]
  },
  {
   "cell_type": "code",
   "execution_count": 42,
   "metadata": {},
   "outputs": [
    {
     "name": "stdout",
     "output_type": "stream",
     "text": [
      "614 10\n",
      "[[0.00000000e+00 0.00000000e+00 0.00000000e+00 1.00000000e+00\n",
      "  0.00000000e+00 5.84900000e+03 0.00000000e+00 1.46412162e+02\n",
      "  3.60000000e+02 1.00000000e+00]\n",
      " [0.00000000e+00 1.00000000e+00 1.00000000e+00 1.00000000e+00\n",
      "  0.00000000e+00 4.58300000e+03 1.50800000e+03 1.28000000e+02\n",
      "  3.60000000e+02 1.00000000e+00]\n",
      " [0.00000000e+00 1.00000000e+00 0.00000000e+00 1.00000000e+00\n",
      "  1.00000000e+00 3.00000000e+03 0.00000000e+00 6.60000000e+01\n",
      "  3.60000000e+02 1.00000000e+00]\n",
      " [0.00000000e+00 1.00000000e+00 0.00000000e+00 0.00000000e+00\n",
      "  0.00000000e+00 2.58300000e+03 2.35800000e+03 1.20000000e+02\n",
      "  3.60000000e+02 1.00000000e+00]\n",
      " [0.00000000e+00 0.00000000e+00 0.00000000e+00 1.00000000e+00\n",
      "  0.00000000e+00 6.00000000e+03 0.00000000e+00 1.41000000e+02\n",
      "  3.60000000e+02 1.00000000e+00]]\n"
     ]
    }
   ],
   "source": [
    "X_train = data_train.iloc[:,1:11].to_numpy() #10 Columns\n",
    "y_train = data_train.iloc[:,-1].to_numpy() #Loan_Status\n",
    "# print(y.shape)\n",
    "m,n = X_train.shape\n",
    "y_train = y_train.reshape(m,1)\n",
    "print(m,n)\n",
    "print(X_train[:5])"
   ]
  },
  {
   "cell_type": "markdown",
   "metadata": {},
   "source": [
    "### Normalize the data"
   ]
  },
  {
   "cell_type": "code",
   "execution_count": 43,
   "metadata": {},
   "outputs": [
    {
     "name": "stdout",
     "output_type": "stream",
     "text": [
      "[[-0.47749346 -1.36717185 -0.6944511   0.52836225 -0.40630701  0.07299082\n",
      "  -0.55448733  0.          0.27985054  0.43315227]\n",
      " [-0.47749346  0.73143694  0.12239368  0.52836225 -0.40630701 -0.13441195\n",
      "  -0.03873155 -0.21927331  0.27985054  0.43315227]\n",
      " [-0.47749346  0.73143694 -0.6944511   0.52836225  2.46119306 -0.39374734\n",
      "  -0.55448733 -0.957641    0.27985054  0.43315227]\n",
      " [-0.47749346  0.73143694 -0.6944511  -1.89264089 -0.40630701 -0.46206247\n",
      "   0.2519796  -0.31454656  0.27985054  0.43315227]\n",
      " [-0.47749346 -1.36717185 -0.6944511   0.52836225 -0.40630701  0.09772844\n",
      "  -0.55448733 -0.06445428  0.27985054  0.43315227]]\n"
     ]
    }
   ],
   "source": [
    "def normalized_data(data): #Z-value\n",
    "    means = np.mean(data, axis=0)\n",
    "    stds = np.std(data, axis=0)\n",
    "    z = (data - means) / stds\n",
    "    return z\n",
    "\n",
    "X_norm_train = normalized_data(X_train)\n",
    "print(X_norm_train[:5])"
   ]
  },
  {
   "cell_type": "markdown",
   "metadata": {},
   "source": [
    "# Train data and return theta and J value. Find the good $\\alpha$ "
   ]
  },
  {
   "cell_type": "markdown",
   "metadata": {},
   "source": [
    "### All important functions are here\n",
    "- Sigmoid function\n",
    "- Hypothesis function\n",
    "- Gradient function\n",
    "- Cost $j$ and gradient function\n",
    "- Goodness of fit"
   ]
  },
  {
   "cell_type": "code",
   "execution_count": 44,
   "metadata": {},
   "outputs": [
    {
     "name": "stdout",
     "output_type": "stream",
     "text": [
      "[[ 1.         -0.47749346 -1.36717185 -0.6944511   0.52836225 -0.40630701\n",
      "   0.07299082 -0.55448733  0.          0.27985054  0.43315227]\n",
      " [ 1.         -0.47749346  0.73143694  0.12239368  0.52836225 -0.40630701\n",
      "  -0.13441195 -0.03873155 -0.21927331  0.27985054  0.43315227]\n",
      " [ 1.         -0.47749346  0.73143694 -0.6944511   0.52836225  2.46119306\n",
      "  -0.39374734 -0.55448733 -0.957641    0.27985054  0.43315227]\n",
      " [ 1.         -0.47749346  0.73143694 -0.6944511  -1.89264089 -0.40630701\n",
      "  -0.46206247  0.2519796  -0.31454656  0.27985054  0.43315227]\n",
      " [ 1.         -0.47749346 -1.36717185 -0.6944511   0.52836225 -0.40630701\n",
      "   0.09772844 -0.55448733 -0.06445428  0.27985054  0.43315227]]\n"
     ]
    }
   ],
   "source": [
    "def sigmoid(z):   \n",
    "    return 1 / (1 + np.exp(-z))\n",
    "\n",
    "def h(X, theta): \n",
    "    return sigmoid(X @ theta)\n",
    "\n",
    "def grad_j(X, y, y_pred):\n",
    "    return X.T @ (y - y_pred) / X.shape[0]\n",
    "    \n",
    "def j(theta, X, y):    \n",
    "    y_pred = h(X, theta)\n",
    "    error = (-y * np.log(y_pred)) - ((1 - y) * np.log(1 - y_pred))\n",
    "    cost = sum(error) / X.shape[0]\n",
    "    grad = grad_j(X, y, y_pred)\n",
    "    return cost[0], grad\n",
    "\n",
    "n = X_train.shape[1]\n",
    "X_norm_train = np.insert(X_norm_train, 0, 1, axis=1)\n",
    "print(X_norm_train[:5])\n",
    "theta_initial = np.zeros((n+1, 1))\n",
    "\n",
    "# Batch training for num_iters iterations\n",
    "def train(X, y, theta_initial, alpha, num_iters):\n",
    "    theta = theta_initial\n",
    "    j_history = []\n",
    "    for i in range(num_iters):\n",
    "        cost, grad = j(theta, X, y)\n",
    "        theta = theta + alpha * grad\n",
    "        j_history.append(cost)\n",
    "    return theta, j_history"
   ]
  },
  {
   "cell_type": "code",
   "execution_count": 45,
   "metadata": {},
   "outputs": [
    {
     "name": "stdout",
     "output_type": "stream",
     "text": [
      "Theta optimized: [[ 0.84320222]\n",
      " [ 0.08100533]\n",
      " [ 0.294173  ]\n",
      " [ 0.00800491]\n",
      " [ 0.16619433]\n",
      " [ 0.00593999]\n",
      " [ 0.05710398]\n",
      " [-0.09887072]\n",
      " [-0.15044044]\n",
      " [-0.05437328]\n",
      " [ 1.21174543]]\n",
      "Cost with optimized theta: 0.47907820865317574\n"
     ]
    },
    {
     "data": {
      "text/plain": [
       "Text(0.5, 1.0, 'Training cost over time with batch gradient descent (with nomalized data)\\n')"
      ]
     },
     "execution_count": 45,
     "metadata": {},
     "output_type": "execute_result"
    },
    {
     "data": {
      "image/png": "[encoded data removed]",
      "text/plain": [
       "<Figure size 432x288 with 1 Axes>"
      ]
     },
     "metadata": {
      "needs_background": "light"
     },
     "output_type": "display_data"
    }
   ],
   "source": [
    "alpha = .05\n",
    "num_iters = 10000\n",
    "theta, j_history = train(X_norm_train, y_train, theta_initial, alpha, num_iters)\n",
    "\n",
    "print(\"Theta optimized:\", theta)\n",
    "print(\"Cost with optimized theta:\", j_history[-1])\n",
    "\n",
    "plt.plot(j_history)\n",
    "plt.xlabel(\"Iteration\")\n",
    "plt.ylabel(\"$J(\\theta)$\")\n",
    "plt.title(\"Training cost over time with batch gradient descent (with nomalized data)\\n\")"
   ]
  },
  {
   "cell_type": "code",
   "execution_count": 46,
   "metadata": {},
   "outputs": [
    {
     "name": "stdout",
     "output_type": "stream",
     "text": [
      "Goodness of fit\n",
      "Train set:  0.10579581358609791\n",
      "Train accuracy:  0.8078175895765473\n"
     ]
    }
   ],
   "source": [
    "def r_squared(y, y_pred):\n",
    "    return 1 - np.square(y - y_pred).sum() / np.square(y - y.mean()).sum()\n",
    "\n",
    "y_train_pred_soft = h(X_norm_train, theta)\n",
    "y_train_pred_hard = (y_train_pred_soft > 0.5).astype(int)\n",
    "\n",
    "# print(pd.DataFrame(y_train_pred_hard))\n",
    "\n",
    "train_rsq_soft = r_squared(y_train, y_train_pred_soft)\n",
    "train_rsq_hard = r_squared(y_train, y_train_pred_hard)\n",
    "train_acc = (y_train_pred_hard == y_train).astype(int).sum() / y_train.shape[0]\n",
    "\n",
    "print('Goodness of fit')\n",
    "print('Train set: ',train_rsq_hard)\n",
    "print('Train accuracy: ',train_acc)"
   ]
  },
  {
   "cell_type": "markdown",
   "metadata": {},
   "source": [
    "# Theta and implement in Test Set"
   ]
  },
  {
   "cell_type": "code",
   "execution_count": 55,
   "metadata": {},
   "outputs": [
    {
     "name": "stdout",
     "output_type": "stream",
     "text": [
      "367 10\n"
     ]
    }
   ],
   "source": [
    "X_test = data_test.iloc[:,1:11].to_numpy() #10 Columns\n",
    "# y_test = data_test.iloc[:,-1].to_numpy() #Loan_Status\n",
    "\n",
    "m,n = X_test.shape\n",
    "# y_test = y_test.reshape(m,1)\n",
    "print(m,n)\n",
    "# print(X_test[:5])\n",
    "\n",
    "X_norm_test = normalized_data(X_test)\n",
    "# print(X_norm_test[:5])"
   ]
  },
  {
   "cell_type": "code",
   "execution_count": 56,
   "metadata": {},
   "outputs": [
    {
     "name": "stdout",
     "output_type": "stream",
     "text": [
      "[[ 1.         -0.49403218  0.75835829 -0.71741014  0.5448117  -0.35463625\n",
      "   0.1864605  -0.67333511 -0.43158622  0.27060267  0.45958799]\n",
      " [ 1.         -0.49403218  0.75835829  0.04354223  0.5448117  -0.35463625\n",
      "  -0.35269225 -0.02984821 -0.16875089  0.27060267  0.45958799]\n",
      " [ 1.         -0.49403218  0.75835829  0.80449461  0.5448117  -0.35463625\n",
      "   0.0396413   0.09884917  1.17828022  0.27060267  0.45958799]\n",
      " [ 1.         -0.49403218  0.75835829  0.80449461  0.5448117  -0.35463625\n",
      "  -0.50277411  0.41887666 -0.59585831  0.27060267  0.45958799]\n",
      " [ 1.         -0.49403218 -1.31863792 -0.71741014 -1.83549656 -0.35463625\n",
      "  -0.31190914 -0.67333511 -0.9572569   0.27060267  0.45958799]]\n"
     ]
    }
   ],
   "source": [
    "n = X_test.shape[1]\n",
    "X_norm_test = np.insert(X_norm_test, 0, 1, axis=1)\n",
    "print(X_norm_test[:5])\n",
    "theta_initial = np.zeros((n+1, 1))"
   ]
  },
  {
   "cell_type": "code",
   "execution_count": 61,
   "metadata": {},
   "outputs": [],
   "source": [
    "# alpha = .05\n",
    "# num_iters = 10000\n",
    "# theta_test, j_history_test = train(X_norm_test, y_test, theta_initial, alpha, num_iters)\n",
    "\n",
    "# print(\"Theta optimized:\", theta_test)\n",
    "# print(\"Cost with optimized theta:\", j_history_test[-1])\n",
    "\n",
    "# plt.plot(j_history_test)\n",
    "# plt.xlabel(\"Iteration\")\n",
    "# plt.ylabel(\"$J(\\theta)$\")\n",
    "# plt.title(\"Testing cost over time with batch gradient descent (with nomalized data)\\n\")\n",
    "##### FIXXXXXXXXXXXXXXXX"
   ]
  },
  {
   "cell_type": "code",
   "execution_count": 60,
   "metadata": {},
   "outputs": [
    {
     "name": "stdout",
     "output_type": "stream",
     "text": [
      "Y Prediction\n",
      "Train\n",
      "1    516\n",
      "0     98\n",
      "Name: 0, dtype: int64\n",
      "Test\n",
      "1    303\n",
      "0     64\n",
      "Name: 0, dtype: int64\n"
     ]
    }
   ],
   "source": [
    "def r_squared(y, y_pred):\n",
    "    return 1 - np.square(y - y_pred).sum() / np.square(y - y.mean()).sum()\n",
    "\n",
    "y_test_pred_soft = h(X_norm_test, theta) #sigmoid function\n",
    "y_test_pred_hard = (y_test_pred_soft > 0.5).astype(int)\n",
    "\n",
    "# print(pd.DataFrame(y_test_pred_hard))\n",
    "\n",
    "# test_rsq_soft = r_squared(y_test, y_test_pred_soft)\n",
    "# test_rsq_hard = r_squared(y_test, y_test_pred_hard)\n",
    "# test_acc = (y_test_pred_hard == y_test).astype(int).sum() / y_test.shape[0]\n",
    "\n",
    "# print('Goodness of fit')\n",
    "# print('Test set: ',test_rsq_hard)\n",
    "# print('Test accuracy: ',test_acc)\n",
    "\n",
    "df_train = pd.DataFrame(y_train_pred_hard)\n",
    "df_test = pd.DataFrame(y_test_pred_hard)\n",
    "print('Y Prediction')\n",
    "print('Train')\n",
    "print(df_train[0].value_counts())\n",
    "print('Test')\n",
    "print(df_test[0].value_counts())"
   ]
  },
  {
   "cell_type": "markdown",
   "metadata": {},
   "source": [
    "# Summarize what did you do and how to find the best result"
   ]
  },
  {
   "cell_type": "markdown",
   "metadata": {},
   "source": [
    "Import csv file from data_train and data_test:\n",
    "data_train = pd.read_csv('train_LoanPrediction.csv')\n",
    "data_test = pd.read_csv('test_LoanPrediction.csv')\n",
    "\n",
    "1. Handle missing values\n",
    "- Filling missing values\n",
    "    - From Training Data and Testing Data, some features  (Gender,Self_Employed,Loan_Amount_Term,Credit_History) are missing\n",
    "- Converting categorical value to numerical value\n",
    "    1. Gender, Married, Education, Self_Employed,Property_Area,Loan_Status in Training Data  \n",
    "    2. Gender, Married, Dependents, Education, Self_Employed,Property_Area in Test Data \n",
    "\n",
    "2. Setup X and Y data\n",
    "- Normalized X Data \n",
    "\n",
    "3. Train data and return theta and J value\n",
    "- Ploting \n",
    "- Goodness of fit\n",
    "4. Use $\\theta$ and implement in test set.\n",
    "\n",
    "Conclusion: \n",
    "\n",
    "Part 1: To use any features, ML model is able to read data as number. Therefore, if there are any feature which is object, it has to be convert as int or float.\n",
    "\n",
    "Part 2: There are 2 files thus no need to test train split data\n",
    "- Normalzied Data X_train \n",
    "**DON'T* normalized Y data\n",
    "\n",
    "Part 3: Train data and return theta and J value. Find the good $\\alpha$ \n",
    "- All important functions are here\n",
    "    - Sigmoid function\n",
    "    - Hypothesis function\n",
    "    - Gradient function\n",
    "    - Cost $j$ and gradient function\n",
    "    - Goodness of fit\n",
    "    \n",
    "- Ploting \n",
    "    Start around 2000 Iteration loss function has minimized.\n",
    "    Cost with optimized theta: 0.48\n",
    "    \n",
    "- Goodness of fit\n",
    "    put X_train with normalized to hypothesis function (sigmoid function include) to get y_predict 0 or 1 then comparing with y_train to find how many accuracy.\n",
    "    Train Accuracy is come up with 0.8078 \n",
    "    \n",
    "Part 4: \n",
    "    Even Data X_test has normalized then put to hypothesis function to get y predict but Data Test file has not provided about Loan_Status features. Therefore, y predict cannot comparing with y real testing Data "
   ]
  }
 ],
 "metadata": {
  "kernelspec": {
   "display_name": "Python 3.10.4 64-bit",
   "language": "python",
   "name": "python3"
  },
  "language_info": {
   "codemirror_mode": {
    "name": "ipython",
    "version": 3
   },
   "file_extension": ".py",
   "mimetype": "text/x-python",
   "name": "python",
   "nbconvert_exporter": "python",
   "pygments_lexer": "ipython3",
   "version": "3.10.4"
  },
  "vscode": {
   "interpreter": {
    "hash": "c81d839d3c4227cd770621df97fe8191838af02e7eef185a922d8250cb33d344"
   }
  }
 },
 "nbformat": 4,
 "nbformat_minor": 4
}
