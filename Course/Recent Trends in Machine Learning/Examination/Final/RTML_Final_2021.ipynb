{
 "cells": [
  {
   "attachments": {},
   "cell_type": "markdown",
   "metadata": {},
   "source": [
    "# RTML Final 2021\n",
    "\n",
    "In this exam, we'll have some practical exercises using RNNs and some short answer questions regarding the Transformer/attention\n",
    "and reinforcement learning.\n",
    "\n",
    "Consider the AGNews text classification dataset:"
   ]
  },
  {
   "cell_type": "code",
   "execution_count": 22,
   "metadata": {},
   "outputs": [
    {
     "name": "stdout",
     "output_type": "stream",
     "text": [
      "Label frequencies: {3: 30000, 4: 30000, 2: 30000, 1: 30000}\n",
      "Label meanings: 1: World news, 2: Sports news, 3: Business news, 4: Sci/Tech news\n"
     ]
    }
   ],
   "source": [
    "from torchtext.datasets import AG_NEWS\n",
    "from torchtext.data.utils import get_tokenizer\n",
    "from collections import Counter\n",
    "from torchtext.vocab import vocab\n",
    "\n",
    "train_iter = AG_NEWS(split='train')\n",
    "tokenizer = get_tokenizer('basic_english')\n",
    "counter = Counter()\n",
    "\n",
    "def clean(line):\n",
    "    line = line.replace('\\\\', ' ')\n",
    "    return line\n",
    "\n",
    "labels = {}\n",
    "for (label, line) in train_iter:\n",
    "    if label in labels:\n",
    "        labels[label] += 1\n",
    "    else:\n",
    "        labels[label] = 1\n",
    "    counter.update(tokenizer(clean(line)))\n",
    "\n",
    "vocabulary = vocab(counter, min_freq=1)\n",
    "\n",
    "print('Label frequencies:', labels)\n",
    "# print('A few token frequencies:', vocab.freqs.most_common(5))\n",
    "print('Label meanings: 1: World news, 2: Sports news, 3: Business news, 4: Sci/Tech news')"
   ]
  },
  {
   "attachments": {},
   "cell_type": "markdown",
   "metadata": {},
   "source": [
    "Here's how we can get a sequence of tokens for a sentence with the cleaner, tokenizer, and vocabulary:"
   ]
  },
  {
   "cell_type": "code",
   "execution_count": 23,
   "metadata": {},
   "outputs": [
    {
     "data": {
      "text/plain": [
       "[1084, 14, 603, 7, 342, 76391, 14, 186, 490, 20, 7, 1935, 1093, 20, 924]"
      ]
     },
     "execution_count": 23,
     "metadata": {},
     "output_type": "execute_result"
    }
   ],
   "source": [
    "[vocabulary[token] for token in tokenizer(clean('Bangkok, or The Big Mango, is one of the great cities of Asia'))]"
   ]
  },
  {
   "attachments": {},
   "cell_type": "markdown",
   "metadata": {},
   "source": [
    "Let's make pipelines for processing a news story and a label:"
   ]
  },
  {
   "cell_type": "code",
   "execution_count": 24,
   "metadata": {},
   "outputs": [],
   "source": [
    "text_pipeline = lambda x: [vocabulary[token] for token in tokenizer(clean(x))]\n",
    "label_pipeline = lambda x: int(x) - 1"
   ]
  },
  {
   "attachments": {},
   "cell_type": "markdown",
   "metadata": {},
   "source": [
    "Here's how to create dataloaders for the training and test datasets:"
   ]
  },
  {
   "cell_type": "code",
   "execution_count": 25,
   "metadata": {},
   "outputs": [],
   "source": [
    "import torch\n",
    "from torch.utils.data import DataLoader\n",
    "from torch.nn.utils.rnn import pad_sequence\n",
    "device = torch.device(\"cuda\" if torch.cuda.is_available() else \"cpu\")\n",
    "\n",
    "def collate_batch(batch):\n",
    "    label_list, text_list, length_list = [], [], []\n",
    "    for (_label, _text) in batch:\n",
    "        label_list.append(label_pipeline(_label))\n",
    "        processed_text = torch.tensor(text_pipeline(_text), dtype=torch.int64)\n",
    "        length_list.append(processed_text.shape[0])\n",
    "        text_list.append(processed_text)\n",
    "    label_list = torch.tensor(label_list, dtype=torch.int64)\n",
    "    text_list = pad_sequence(text_list, padding_value=0)\n",
    "    length_list = torch.tensor(length_list, dtype=torch.int64)\n",
    "    return label_list.to(device), text_list.to(device), length_list.to(device)\n",
    "\n",
    "train_iter = AG_NEWS(split='train')\n",
    "train_dataset = list(train_iter)\n",
    "test_iter = AG_NEWS(split='test')\n",
    "test_dataset = list(test_iter)\n",
    "train_dataloader = DataLoader(train_dataset, batch_size=8, shuffle=True, collate_fn=collate_batch)\n",
    "test_dataloader = DataLoader(test_dataset, batch_size=8, shuffle=False, collate_fn=collate_batch)"
   ]
  },
  {
   "attachments": {},
   "cell_type": "markdown",
   "metadata": {},
   "source": [
    "Here's how to get a batch from one of these dataloaders. The first entry is a 1D tensor of labels for the batch\n",
    "(8 values between 0 and 3), then a 2D tensor representing the stories with dimension T x B (number of tokens x batch size). "
   ]
  },
  {
   "cell_type": "code",
   "execution_count": 26,
   "metadata": {},
   "outputs": [
    {
     "name": "stdout",
     "output_type": "stream",
     "text": [
      "(0, (tensor([2, 1, 1, 1, 3, 3, 2, 1], device='cuda:0'), tensor([[  385,   529,  4242,  5936, 11121, 41224, 14308, 13110],\n",
      "        [40422, 12426,    42, 48368,  4114,  1479,  4601,    70],\n",
      "        [  709, 49552, 26397,    70,  1445,  2536,   106,  2279],\n",
      "        [  327,    70,   415, 13966,  3746,  2600,   130,  3524],\n",
      "        [24498,  1910,  2918,  9560, 64203,   183,   474,  4743],\n",
      "        [ 8907,  2888,  9560, 48369,    70,   741,  5528, 13110],\n",
      "        [   57,   160,   331, 17397,  7251,  1536, 14308,   186],\n",
      "        [  388,     9, 10178, 25790, 12305,   637,  7172,  6532],\n",
      "        [  385,   154,    70,  4804,  9560,  1993,  7247,    70],\n",
      "        [  836,    11,   126,  6294,    17,    37,    14,  7333],\n",
      "        [ 9537,   154,   681,     2,   453,  1933,  1745,    39],\n",
      "        [  641,    12,   740,  4399,    20,    20,  9560,    37],\n",
      "        [  511,   529,    39,  4400,   415,  1872,    17,  1748],\n",
      "        [  452, 12426,  5933,    12, 13744,  1319,  2853,    46],\n",
      "        [   20,  3960,  5937,   490,    46,   936,  8640,  6839],\n",
      "        [ 3151, 49552,    42,  8139,  3593,    14,    14,    14],\n",
      "        [  921,   483,  5913,  4375,  2902,  1872,   102,   216],\n",
      "        [  246,  1910,     2,   159,  7647,   446,   613,  1088],\n",
      "        [  415,  8929,   806,     7,  2535,  3843,    51,  1743],\n",
      "        [ 2130,    42,    92,  2285,   204,  2887,  9230,  1390],\n",
      "        [  556,  8448,     7, 13966,  1142,  2600,   474,  5046],\n",
      "        [   70,    46,  2064,  9560,   560,   327, 10687,   601],\n",
      "        [13211,  2888,  1061, 12545,    53,     7,    53,   159],\n",
      "        [   51,   160,  1116, 29601,     7,  3346,   446,   197],\n",
      "        [  575,    20,  2574,  1434,  4927,    20,   457,  5924],\n",
      "        [   42,     7,    46,    37,  1463,    51,    42,    46],\n",
      "        [ 1238,   113,   740,  5943,  1194,   153,    37,   179],\n",
      "        [12805,  4909,  3000,  2178,     7, 41224, 14705,     2],\n",
      "        [  647,   726,     2,   123,   130,  4035,    46,     0],\n",
      "        [    2,     7,     7,  5908,     2,     2, 12249,     0],\n",
      "        [  385,     1, 18587,    14,     0,     0,    14,     0],\n",
      "        [  102,     2,  5382, 48370,     0,     0,   128,     0],\n",
      "        [18922,  4682,    34, 29352,     0,     0,     7,     0],\n",
      "        [   51,  5166,  1215,  4621,     0,     0,  1807,     0],\n",
      "        [67309,    42,   100,    42,     0,     0,    20,     0],\n",
      "        [ 4754,  5227, 12059,    37,     0,     0,   134,     0],\n",
      "        [    0,  1866, 18191,  6173,     0,     0,  1503,     0],\n",
      "        [    0,  5243,     0,    19,     0,     0,   380,     0],\n",
      "        [    0,    53,     0,    20,     0,     0,  2794,     0],\n",
      "        [    0,   103,     0,  5936,     0,     0,    51,     0],\n",
      "        [    0,     2,     0,     2,     0,     0,   465,     0],\n",
      "        [    0,     0,     0,     0,     0,     0, 15803,     0],\n",
      "        [    0,     0,     0,     0,     0,     0,     2,     0]],\n",
      "       device='cuda:0'), tensor([36, 41, 37, 41, 30, 30, 43, 28], device='cuda:0')))\n"
     ]
    }
   ],
   "source": [
    "batch = next(enumerate(train_dataloader))\n",
    "print(batch)"
   ]
  },
  {
   "attachments": {},
   "cell_type": "markdown",
   "metadata": {},
   "source": [
    "## Question 1, 10 points\n",
    "\n",
    "The vocabulary currently is too large for a simple one-hot embedding. Let's reduce the vocabulary size\n",
    "so that we can use one-hot. First, add a step that removes tokens from a list of \"stop words\" to the `text_pipeline` function.\n",
    "You probably want to remove punctuation ('.', ',', '-', etc.) and articles (\"a\", \"the\").\n",
    "\n",
    "Once you've removed stop words, modify the vocabulary to include only the most frequent 1000 tokens (including 0 for an unknown/infrequent word).\n",
    "\n",
    "Write your revised code in the cell below and output the 999 top words with their frequencies:"
   ]
  },
  {
   "cell_type": "code",
   "execution_count": 1,
   "metadata": {},
   "outputs": [
    {
     "name": "stdout",
     "output_type": "stream",
     "text": [
      "Label frequencies: {3: 30000, 4: 30000, 2: 30000, 1: 30000}\n",
      "Label meanings: 1: World news, 2: Sports news, 3: Business news, 4: Sci/Tech news\n"
     ]
    }
   ],
   "source": [
    "# Place code for Question 1 here\n",
    "from torchtext.datasets import AG_NEWS\n",
    "from torchtext.data.utils import get_tokenizer\n",
    "from collections import Counter\n",
    "from torchtext.vocab import build_vocab_from_iterator\n",
    "\n",
    "train_iter = AG_NEWS(split='train')\n",
    "tokenizer = get_tokenizer('basic_english')\n",
    "counter = Counter()\n",
    "\n",
    "def clean(line):\n",
    "    line = line.replace('\\\\', ' ')\n",
    "    line = line.replace(',', '')\n",
    "    line = line.replace('.', '')\n",
    "    line = line.replace('-', '')\n",
    "    line = line.replace(':', '')\n",
    "    line = line.replace(';', '')\n",
    "    line = line.replace(\"'\", '')\n",
    "    line = line.replace('(', '')\n",
    "    line = line.replace(')', '')\n",
    "    line = line.replace(' a ', '')\n",
    "    line = line.replace(' an ', '')\n",
    "    line = line.replace(' the ', '')\n",
    "    return line\n",
    "\n",
    "def yield_tokens(data_iter): #data_iter, e.g., train\n",
    "    global labels\n",
    "    labels = {}\n",
    "    for (label, line) in train_iter:\n",
    "        if label in labels:\n",
    "            labels[label] += 1\n",
    "        else:\n",
    "            labels[label] = 1\n",
    "        yield tokenizer(clean(line))\n",
    "        \n",
    "vocabulary = build_vocab_from_iterator(yield_tokens(train_iter), specials=['<unk>'], special_first = True, max_tokens=1000)\n",
    "vocabulary.set_default_index(vocabulary[\"<unk>\"])\n",
    "print('Label frequencies:', labels)\n",
    "# print('A few token frequencies:', vocab.freqs.most_common(5))\n",
    "print('Label meanings: 1: World news, 2: Sports news, 3: Business news, 4: Sci/Tech news')"
   ]
  },
  {
   "cell_type": "code",
   "execution_count": 2,
   "metadata": {},
   "outputs": [
    {
     "name": "stdout",
     "output_type": "stream",
     "text": [
      "A few token frequencies: ['<unk>', 'order', 'sources', 'later', 'launched', 'steve', 'our', 'finance', 'debate', 'gave', 'italian', 'drugs', 'ireland', 'woods', 'faces', 'worth', 'putin', 'amd', 'winter', 'short', 'above', 'does', '9', 'boeing', 'applications', 'rises', 'western', 'goes', 'labor', 'looks', 'fallujah', 'lines', 'december', 'nba', 'closer', 'reach', 'singapore', 'holiday', 'launches', 'rebel', 'career', 'walmart', 'miami', 'losses', 'fourth', 'water', 'hard', 'getting', 'singh', 'ofyear', 'missing', 'side', 'green', 'debt', 'olympics', 'sold', 'warns', 'until', 'available', 'seeks', 'further', 'dollars', 'black', 'sites', 'issues', 'hundreds', 'winning', 'expectations', 'regulators', 'blast', 'delta', 'weekend', 'never', 'starting', 'sign', 'list', 'development', 'businesses', 'moscow', 'push', 'johnson', 'charge', 'groups', 'focus', 'senior', 'kill', 'rising', 'jones', 'chips', 'basketball', 'continued', '100', 'rivals', 'shows', 'problems', 'find', 'yukos', 'officer', 'guard', 'cp', 'retailer', 'pressure', 'performance', 'kills', 'firms', 'dell', 'bay', 'personal', 'suicide', 'among', 'offers', 'quarterback', 'stop', 'muslim', 'sees', 'legal', 'need', 'toronto', 'competition', 'yasser', 'far', 'researchers', 'al', 'rights', 'madrid', 'houston', 'insurance', 'step', 'selling', 'investment', 'supply', 'old', 'arrested', 'beijing', 'aimed', 'retail', 'african', 'authorities', 'najaf', 'each', 'yards', 'insurgents', 'hours', 'administration', 'see', 'began', 'executives', 'indian', 'enough', 'shot', 'ltd', 'german', '21', 'operations', 'charged', 'continue', 'tour', 'afghan', 'council', 'using', 'station', 'teams', 'past', 'computers', 'manchester', 'leading', 'asian', 'begin', 'airways', 'outlook', 'store', 'africa', 'nine', 'spending', 'change', 'networks', 'analysts', 'takeover', 'coast', 'rally', 'signs', 'field', 'injured', 'storage', 'fuel', 'died', 'gas', 'gains', 'latest', 'following', 'wants', 'making', 'once', 'medal', 'afghanistan', '5', '13', 'every', 'northern', 'makes', 'accused', 'small', 'chinese', 'radio', 'champions', 'engine', 'saying', 'low', 'call', 'source', 'markets', 'earlier', 'morning', 'production', 'nov', 'infirst', 'less', 'texas', 'did', 'david', 'offering', 'recent', 'tech', 'los', 'meet', 'nokia', 'product', 'women', 'match', 'airlines', 'college', '18', 'half', 'calls', 'satellite', 'future', 'amid', 'region', 'bowl', '17', 'number', 'running', 'then', 'lost', 'east', 'electronics', 'information', 'history', 'communications', 'thousands', 'star', 'policy', 'soldiers', 'action', 'equipment', 'probe', 'germany', 'fight', 'aid', 'revenue', 'place', 'going', 'ready', 'oct', 'davis', 'trading', 'williams', 'cell', 'profits', 'come', 'launch', 'japanese', 'study', 'mark', 'decision', 'fraud', '14', 'central', 'buy', 'rates', '25', 'arsenal', 'new', 'looking', 'made', 'national', 'series', 'troops', 'fire', 'nuclear', 'asia', 'microsoft', 'union', 'spain', 'because', 'higher', 'merger', 'phone', 'university', 'quarter', 'chief', 'system', 'return', 'coming', 'co', 'report', 'with', 'cricket', 'john', 'red', 'military', 'runs', 'election', 'month', 'will', 'about', 'earnings', 'scored', 'battle', 'got', '16', 'boost', 'forecast', 'still', 'head', 'also', 'named', 'stake', 'men', 'biggest', 'around', 'mobile', 'gold', 'try', 'high', 'five', 'european', 'title', 'trial', 'reserve', 'companies', 'site', 'china', 'increase', 'london', 'paris', 'largest', 'lead', 'vs', 'them', 'least', '10', 'what', 'stadium', 'ibm', 'bank', 'security', 'yankees', 'research', 'would', 'based', 'whether', 'dead', 'television', 'held', 'india', 'now', 'computer', 'if', 'white', 'by', 'almost', 'desktop', 'operating', 'another', 'sets', 'city', 'there', '&ltb&gt&lt/b&gt', 'way', 'windows', 'attack', 'crude', 'international', '#39t', 'some', 'search', 'put', 'chip', 'shares', 'little', 'maker', '24', 'weeks', 'former', 'south', 'most', 'took', 'has', 'court', 'stock', 'united', 'consumers', 'florida', 'money', 'thirdquarter', 'grand', 'many', 'agreement', 'final', 'costs', 'want', 'health', 'yahoo', 'deal', 'other', 'police', 'foreign', 'internet', 'market', 'fears', 'law', 'set', 'president', 'championship', 'us', 'members', 'iraq', 'efforts', 'says', 'gaza', 'get', 'who', 'early', 'no', 'race', 'california', 'american', 'rules', 'rate', 'day', 'york', 'michael', 'country', 'southern', 'expected', 'food', 'media', 'online', 'announced', 'not', 'home', 'friday', 'cut', 'services', 'ended', 'users', 'challenge', 'goal', 'prime', 'percent', '&lta', 'offer', 'soccer', '?', '2004', 'more', 'george', 'are', 'devices', 'real', 'between', 'technologies', 'today', 'forces', 'yet', 'they', 'raised', 'him', 'be', 'year', 'so', 'north', 'his', 'service', 'cash', 'from', 'open', 'ap', 'plans', 'seven', 'version', 'one', 'hold', 'blair', 'than', 'up', 'for', 'britain', 'while', 'network', 'turn', 'results', 'its', 'car', 'digital', 'on', 'a', 'visit', 'big', 'claims', 'airline', 'was', 'third', 'two', 'san', 'staff', 'monday', 'management', 'xp', 'per', 'during', 'office', 'decided', 'players', 'this', 'season', 'came', 'years', 'takes', 'experts', 'it', 'heart', 'ahead', 'own', 'reuters', 'drop', 'show', 'million', 'darfur', 'week', 'corporate', 'business', 'inc', 'web', 'may', 'stocks', 'were', 'palestinian', 'cup', 'wireless', 'email', 'sunday', 'flight', 'he', 'data', 'investors', 'to', 'human', 'august', 'could', 'un', 'sales', 'late', 'said', 'people', 'time', 'executive', 'trade', 'href=http//wwwinvestorreuterscom/fullquoteaspx', 'exchange', 'as', 'club', '#39', 'state', 'survey', 'washington', 'defense', 'in', 'good', 'against', 'cost', 'afp', 'bankruptcy', 'jobs', 'sharon', 'price', 'like', 'tuesday', 'prices', 'america', 'profit', 'vote', 'the', 'thursday', 'three', 'ivan', 'rise', 'minister', 'back', 'without', 'plan', 'fans', 'software', 'which', 'strong', 'taken', 'wednesday', 'last', 'company', 'space', 'corp', 'again', 'west', 'is', 'congress', 'quote', 'and', 'products', 'growth', 'right', 'disney', 'world', 'cisco', 'close', 'quot', 'industry', 'peace', 'billion', 'group', 'told', 'that', 'help', 'when', 'at', 'including', 'private', 'according', 'days', 'their', 'violence', 'school', 'being', 'or', 'strip', 'ruling', 'over', 'arafat', 'olympic', 'after', 'music', 'just', 'drive', 'federal', 'fighting', 'government', 'baghdad', 'press', '19', 'november', 'left', 'peoplesoft', 'chairman', 'killed', 'elections', 'should', 'uk', 'first', 'control', 'support', 'games', 'second', 'dollar', 'team', 'kerry', 'night', 'officials', 'failed', 'out', 'forfirst', 'news', 'into', 'run', 'showed', 'japan', 'bush', 'seen', 'bid', 'take', '2', 'of', 'canadian', 'possible', 'states', '7', 'economic', 'all', 'down', 'mission', 'major', 'intel', 'coach', 'apple', 'loss', 'sale', 'top', 'won', 'giants', 'make', 'reports', 'war', 'end', 'points', 'since', 'louis', '11', 'behind', 'oracle', 'soon', 'hit', 'bonds', 'say', 'oil', 'update', 'taking', 'ever', 'russia', 'reported', 'nations', 'iran', 'terrorism', 'your', '2005', 'italy', 'general', 'life', 'tony', 'best', 'start', 'six', 'death', 'go', 'those', 'part', 'but', 'months', 'i', 'use', 'ago', 'football', 'europe', 'play', 'win', 'economy', 'growing', 'defeat', 'warned', 'found', 'four', 'pm', 'game', 'air', 'storm', 'off', 'israeli', 'blue', 'league', 'how', 'pakistan', 'eight', 'meeting', 'street', 'despite', 'even', 'an', '20', 'global', 'under', 'concerns', 'only', 'ban', 'injury', 'here', 'better', 'released', 'much', 'attacks', 'leaders', 'wins', 'suspected', 'had', '30', 'power', 'children', 'talks', 'used', 'fund', 'due', 'agreed', 'round', 'francisco', 'any', 'scientists', 'mike', 'free', 'prison', 'weapons', 'opposition', 'release', 'ceo', 'within', 'terror', 'times', 'athens', '64', 'through', 'technology', 'tokyo', 'known', 'systems', 'nasa', 'target', 'russian', 'eu', 'pc', 'video', 'england', 'nearly', 'work', 'do', '4', 'man', 'presidential', 'financial', 'record', 'sony', 'paul', 'you', 'bomb', 'hope', 'leader', 'charges', 'workers', 'agency', 'case', 'october', 'finally', 'boston', 'called', 'face', 'medical', 'she', 'official', 'demand', 'linux', 'have', 'september', 'others', 'player', 'sports', 'public', 'contract', 'where', 'lower', 'sun', 'hurricane', 'commission', 'fell', 'might', 'already', 'beat', 'several', 'pay', 'wall', 'consumer', 'customers', 'fall', 'test', 'program', 'trying', 'st', 'france', 'hostages', '8', 'calif', 'sept', 'rival', 'sox', '3', 'share', 'house', 'designed', 'local', 'led', 'both', 'rose', 'before', 'french', 'korea', 'point', 'victory', 'militants', 'track', 'family', 'amp', 'manager', 'countries', '<unk>', 'away', 'australian', 'next', 'keep', 'iraqi', 'killing', '6', 'firm', 'strike', 'threat', 'sell', 'profile', 'crisis', 'cuts', 'champion', '#151', 'bill', 'rebels', 'party', 'went', 'israel', 'straight', 'working', '!', 'saturday', 'hostage', 'association', 'yesterday', 'army', 'captain', 'energy', 'been', 'job', 'campaign', 'palestinians', 'hopes', 'give', 'well', 'near', 'her', 'sudan', 'british', 'conference', 'long', 'gets', 'interest', 'angeles', '12', 'park', 'likely', 'secretary', 'quarterly', 'we', 'giant', 'board', 'force', 'warning', 'baseball', 'australia', 'chicago', 'net', 'such', '1', 'stores', 'canada', 'americans', 'division', 'key', '15', 'political', 'tv', 'judge', 'too', 'employees', 'unit', 'google', '#39s', 'center', 'move', 'can', 'department', 'helped', 'access', 'drug', 'capital', 'tax', 'line', 'must', 'hits', 'phones', 'look', 'ipod']\n",
      "Amount of 1000\n"
     ]
    }
   ],
   "source": [
    "most_frequent_1000_words = ['<unk>'] + list(vocabulary.get_stoi())[:999]\n",
    "print('A few token frequencies:', most_frequent_1000_words)\n",
    "print('Amount of', len(most_frequent_1000_words))"
   ]
  },
  {
   "cell_type": "code",
   "execution_count": 3,
   "metadata": {},
   "outputs": [],
   "source": [
    "text_pipeline = lambda x: [vocabulary[token] for token in tokenizer(clean(x))]\n",
    "label_pipeline = lambda x: int(x) - 1"
   ]
  },
  {
   "cell_type": "code",
   "execution_count": 4,
   "metadata": {},
   "outputs": [],
   "source": [
    "import torch\n",
    "from torch.utils.data import DataLoader\n",
    "from torch.nn.utils.rnn import pad_sequence\n",
    "device = torch.device(\"cuda\" if torch.cuda.is_available() else \"cpu\")\n",
    "\n",
    "def collate_batch(batch):\n",
    "    label_list, text_list, length_list = [], [], []\n",
    "    for (_label, _text) in batch:\n",
    "        label_list.append(label_pipeline(_label))\n",
    "        processed_text = torch.tensor(text_pipeline(_text), dtype=torch.int64)\n",
    "        length_list.append(processed_text.shape[0])\n",
    "        text_list.append(processed_text)\n",
    "    label_list = torch.tensor(label_list, dtype=torch.int64)\n",
    "    text_list = pad_sequence(text_list, padding_value=0)\n",
    "    length_list = torch.tensor(length_list, dtype=torch.int64)\n",
    "    return label_list.to(device), text_list.to(device), length_list.to(device)\n",
    "\n",
    "train_iter = AG_NEWS(split='train')\n",
    "train_dataset = list(train_iter)\n",
    "test_iter = AG_NEWS(split='test')\n",
    "test_dataset = list(test_iter)\n",
    "train_dataloader = DataLoader(train_dataset, batch_size=8, shuffle=True, collate_fn=collate_batch)\n",
    "test_dataloader = DataLoader(test_dataset, batch_size=8, shuffle=False, collate_fn=collate_batch)"
   ]
  },
  {
   "cell_type": "code",
   "execution_count": 5,
   "metadata": {},
   "outputs": [
    {
     "name": "stdout",
     "output_type": "stream",
     "text": [
      "(0, (tensor([3, 0, 3, 0, 1, 2, 0, 0], device='cuda:0'), tensor([[ 14,   0, 363, 634,   0, 289, 185,   0],\n",
      "        [  7,  48,   0, 972, 882,   0,   0, 470],\n",
      "        [  0,   1, 537, 131,   0,   0,   0,   0],\n",
      "        [  4, 561, 215,   0,   0, 137, 529,   0],\n",
      "        [  0,   0, 733,   5,   0,   0, 171,  52],\n",
      "        [ 24,   0,   0, 354,  24, 123,  70,  31],\n",
      "        [853,   0,   0, 101,   0,   0,   0,   0],\n",
      "        [ 14, 162, 247,   0,   0,   7, 185, 758],\n",
      "        [ 45, 100, 363,   0,   0,   0,   0,  89],\n",
      "        [  0, 216,   0, 271,  32, 130,   0,  67],\n",
      "        [  0,   0,   0, 131,   0,  31,   0, 187],\n",
      "        [157,   0,   2,   1,   0,  22, 578,  16],\n",
      "        [180,  54,   0,   0, 178,   0,   0,   0],\n",
      "        [698,   1,   4, 141, 459, 137,  15,   2],\n",
      "        [253,   0, 129,   0,   0,   5, 171,   0],\n",
      "        [ 11,   3,   0,   1,   0,  44,   0, 257],\n",
      "        [371,  21,   9, 634,   0,   0,   2,   0],\n",
      "        [143,   0, 315, 972,  32, 123,   0, 109],\n",
      "        [  1, 156,  30,   0, 169,   0,   5,   0],\n",
      "        [  0,  14,   3,   5,   0,   7,  94,   0],\n",
      "        [  0,  26, 556,  12,   0,   0,   0, 100],\n",
      "        [698,   0, 215, 195,  52, 375,   0,   0],\n",
      "        [  0,   1,   0, 162,   0, 454, 214,   0],\n",
      "        [ 33, 561, 289, 100,   2, 165,   1,   0],\n",
      "        [  0,   0,   0, 835,   0,   0, 885,   0],\n",
      "        [  0,   0,   0, 659,   0, 375,   0,   0],\n",
      "        [  0, 804,   0,   4,  17, 454,   0,   0],\n",
      "        [241,  33,   0, 972,   0, 165,   0,   0],\n",
      "        [ 99,  63,   0,   7,   5,   0,   0,   0],\n",
      "        [  0,   0,   0,   0,  76,   0,   0,   0],\n",
      "        [ 28,   0,   0,   0,   0, 106,   0,   0],\n",
      "        [  0,   0,   0,   0,   0,   0,   0,   0],\n",
      "        [  0,   0,   0, 421,   0,   0,   0,   0],\n",
      "        [  0,   5,   0,   0,   0,   0,   0,   0],\n",
      "        [  0, 128,   0,   4,   0,   0,   0,   0],\n",
      "        [  0,   0,   0,   0,   0,   0,   0,   0],\n",
      "        [  0,   0,   0,   0,   0,  89,   0,   0],\n",
      "        [  0,   0,   0,   0,   0,   7,   0,   0],\n",
      "        [  0,   0,   0, 321,   0,   0,   0,   0],\n",
      "        [  0,   0,   0, 130,   0,   0,   0,   0]], device='cuda:0'), tensor([32, 36, 24, 40, 30, 39, 28, 21], device='cuda:0')))\n"
     ]
    }
   ],
   "source": [
    "batch = next(enumerate(train_dataloader))\n",
    "print(batch)"
   ]
  },
  {
   "attachments": {},
   "cell_type": "markdown",
   "metadata": {},
   "source": [
    "## Question 2, 30 points\n",
    "\n",
    "Next, let's build a simple RNN for classification of the AGNews dataset. Use a one-hot embedding of the vocabulary\n",
    "entries and the basic RNN from Lab 10. Use the lengths tensor (the third element in the batch returned by the dataloaders)\n",
    "to determine which output to apply the loss to.\n",
    "\n",
    "Place your training code below, and plot the training and test accuracy as a\n",
    "function of epoch. Finally, output a confusion matrix for the test set.\n",
    "\n",
    "*Do not spend a lot of time on the training! A few minutes is enough. The point is to show that the model is\n",
    "learning, not to get the best possible performance.*"
   ]
  },
  {
   "cell_type": "code",
   "execution_count": 6,
   "metadata": {},
   "outputs": [
    {
     "name": "stdout",
     "output_type": "stream",
     "text": [
      "torch.Size([2, 1, 1000]) tensor([[[1., 0., 0.,  ..., 0., 0., 0.]],\n",
      "\n",
      "        [[0., 1., 0.,  ..., 0., 0., 0.]]])\n",
      "torch.Size([3, 1, 1000]) tensor([[[0., 0., 0.,  ..., 0., 0., 0.]],\n",
      "\n",
      "        [[1., 0., 0.,  ..., 0., 0., 0.]],\n",
      "\n",
      "        [[1., 0., 0.,  ..., 0., 0., 0.]]])\n",
      "torch.Size([4, 1, 4]) tensor([[[1., 0., 0., 0.]],\n",
      "\n",
      "        [[0., 1., 0., 0.]],\n",
      "\n",
      "        [[0., 0., 1., 0.]],\n",
      "\n",
      "        [[0., 0., 0., 1.]]])\n"
     ]
    }
   ],
   "source": [
    "# Place code for Question 2 here\n",
    "def label2tensor(l):\n",
    "    tensor = torch.zeros(len(l), 1, len(labels))\n",
    "    for index, vector in enumerate(l):\n",
    "        tensor[index][0][vector] = 1\n",
    "    return tensor\n",
    "\n",
    "def list2tensor(l):\n",
    "    tensor = torch.zeros(len(l), 1, len(vocabulary))\n",
    "    for index, vector in enumerate(l):\n",
    "        tensor[index][0][vector] = 1\n",
    "    return tensor\n",
    "\n",
    "temp = list2tensor([0,1])\n",
    "print(temp.shape, temp)\n",
    "\n",
    "# This has lenght of 3 because we remove 'the' from the string.\n",
    "temp = list2tensor(text_pipeline(\"I love Matthew\"))\n",
    "print(temp.shape, temp)\n",
    "\n",
    "temp = label2tensor([0,1,2,3])\n",
    "print(temp.shape, temp)"
   ]
  },
  {
   "cell_type": "code",
   "execution_count": 7,
   "metadata": {},
   "outputs": [],
   "source": [
    "# Copy from above\n",
    "import torch\n",
    "from torch.utils.data import DataLoader\n",
    "from torch.nn.utils.rnn import pad_sequence\n",
    "device = torch.device(\"cuda:1\" if torch.cuda.is_available() else \"cpu\")\n",
    "\n",
    "def collate_batch(batch):\n",
    "    label_list, text_list, length_list = [], [], []\n",
    "    for (_label, _text) in batch:\n",
    "        label_list.append(label_pipeline(_label))\n",
    "        # text -> one hot\n",
    "        # processed_text = torch.tensor(text_pipeline(_text), dtype=torch.int64)\n",
    "        processed_text = list2tensor(text_pipeline(_text))\n",
    "        length_list.append(processed_text.shape[0])\n",
    "        text_list.append(processed_text)\n",
    "\n",
    "    # label_list -> one hot\n",
    "    # label_list = label2tensor(label_list)\n",
    "    label_list = torch.tensor(label_list, dtype=torch.int64)\n",
    "    text_list = pad_sequence(text_list, padding_value=0)\n",
    "\n",
    "    formatted_textlist = None\n",
    "    for text in text_list:\n",
    "        if(formatted_textlist == None):\n",
    "            formatted_textlist = text\n",
    "        else:\n",
    "            formatted_textlist = torch.cat( [formatted_textlist, text], dim = 1 )\n",
    "    # print(formatted_textlist.shape)\n",
    "\n",
    "    length_list = torch.tensor(length_list, dtype=torch.int64)\n",
    "    return label_list.to(device), formatted_textlist.to(device), length_list.to(device)\n",
    "\n",
    "train_iter = AG_NEWS(split='train')\n",
    "train_dataset = list(train_iter)\n",
    "test_iter = AG_NEWS(split='test')\n",
    "test_dataset = list(test_iter)\n",
    "train_dataloader = DataLoader(train_dataset, batch_size=8, shuffle=True, collate_fn=collate_batch)\n",
    "test_dataloader = DataLoader(test_dataset, batch_size=8, shuffle=False, collate_fn=collate_batch)"
   ]
  },
  {
   "cell_type": "code",
   "execution_count": 8,
   "metadata": {},
   "outputs": [
    {
     "name": "stdout",
     "output_type": "stream",
     "text": [
      "(0, (tensor([2, 1, 2, 1, 0, 2, 3, 3], device='cuda:1'), tensor([[[0., 0., 0.,  ..., 0., 0., 0.],\n",
      "         [0., 0., 0.,  ..., 0., 0., 0.],\n",
      "         [1., 0., 0.,  ..., 0., 0., 0.],\n",
      "         ...,\n",
      "         [1., 0., 0.,  ..., 0., 0., 0.],\n",
      "         [0., 0., 0.,  ..., 0., 0., 0.],\n",
      "         [0., 0., 0.,  ..., 0., 0., 0.]],\n",
      "\n",
      "        [[0., 0., 0.,  ..., 0., 0., 0.],\n",
      "         [1., 0., 0.,  ..., 0., 0., 0.],\n",
      "         [1., 0., 0.,  ..., 0., 0., 0.],\n",
      "         ...,\n",
      "         [0., 0., 0.,  ..., 0., 0., 0.],\n",
      "         [0., 0., 0.,  ..., 0., 0., 0.],\n",
      "         [0., 0., 0.,  ..., 0., 0., 0.]],\n",
      "\n",
      "        [[1., 0., 0.,  ..., 0., 0., 0.],\n",
      "         [1., 0., 0.,  ..., 0., 0., 0.],\n",
      "         [0., 0., 0.,  ..., 0., 0., 0.],\n",
      "         ...,\n",
      "         [0., 0., 0.,  ..., 0., 0., 0.],\n",
      "         [0., 0., 0.,  ..., 0., 0., 0.],\n",
      "         [0., 0., 0.,  ..., 0., 0., 0.]],\n",
      "\n",
      "        ...,\n",
      "\n",
      "        [[1., 0., 0.,  ..., 0., 0., 0.],\n",
      "         [1., 0., 0.,  ..., 0., 0., 0.],\n",
      "         [1., 0., 0.,  ..., 0., 0., 0.],\n",
      "         ...,\n",
      "         [0., 0., 0.,  ..., 0., 0., 0.],\n",
      "         [0., 0., 0.,  ..., 0., 0., 0.],\n",
      "         [0., 0., 0.,  ..., 0., 0., 0.]],\n",
      "\n",
      "        [[1., 0., 0.,  ..., 0., 0., 0.],\n",
      "         [0., 0., 0.,  ..., 0., 0., 0.],\n",
      "         [0., 1., 0.,  ..., 0., 0., 0.],\n",
      "         ...,\n",
      "         [0., 0., 0.,  ..., 0., 0., 0.],\n",
      "         [0., 0., 0.,  ..., 0., 0., 0.],\n",
      "         [0., 0., 0.,  ..., 0., 0., 0.]],\n",
      "\n",
      "        [[1., 0., 0.,  ..., 0., 0., 0.],\n",
      "         [1., 0., 0.,  ..., 0., 0., 0.],\n",
      "         [1., 0., 0.,  ..., 0., 0., 0.],\n",
      "         ...,\n",
      "         [1., 0., 0.,  ..., 0., 0., 0.],\n",
      "         [0., 0., 0.,  ..., 0., 0., 0.],\n",
      "         [0., 0., 0.,  ..., 0., 0., 0.]]], device='cuda:1'), tensor([35, 22, 37, 24, 29, 33, 31, 35], device='cuda:1')))\n"
     ]
    }
   ],
   "source": [
    "# Copy from above\n",
    "batch = next(enumerate(train_dataloader))\n",
    "# print(batch.shape)\n",
    "print(batch)"
   ]
  },
  {
   "cell_type": "code",
   "execution_count": 23,
   "metadata": {},
   "outputs": [],
   "source": [
    "import torch.nn as nn\n",
    "class RNN(nn.Module):\n",
    "    def __init__(self, input_size, hidden_size, output_size):\n",
    "        super(RNN, self).__init__()\n",
    "\n",
    "        self.hidden_size = hidden_size\n",
    "\n",
    "        self.i2h = nn.Linear(input_size + hidden_size, hidden_size)\n",
    "        self.h2o = nn.Linear(hidden_size, output_size)\n",
    "        # A bit more efficient than normal Softmax\n",
    "        self.softmax = nn.LogSoftmax(dim=1)\n",
    "\n",
    "    def forward(self, input, hidden):\n",
    "        # print(input.shape, hidden.shape)\n",
    "        combined = torch.cat((input, hidden), 1)\n",
    "        a = self.i2h(combined)\n",
    "        hidden = torch.tanh(a)\n",
    "        o = self.h2o(hidden)\n",
    "        y_hat = self.softmax(o)\n",
    "        return y_hat, hidden\n",
    "\n",
    "    def initHidden(self, batch_size = 1):\n",
    "        return torch.zeros(batch_size, self.hidden_size)"
   ]
  },
  {
   "cell_type": "code",
   "execution_count": 28,
   "metadata": {},
   "outputs": [
    {
     "name": "stdout",
     "output_type": "stream",
     "text": [
      "==================== 1/2 ====================\n"
     ]
    },
    {
     "name": "stderr",
     "output_type": "stream",
     "text": [
      "/tmp/ipykernel_12703/50122831.py:46: UserWarning: This overload of add_ is deprecated:\n",
      "\tadd_(Number alpha, Tensor other)\n",
      "Consider using one of the following signatures instead:\n",
      "\tadd_(Tensor other, *, Number alpha) (Triggered internally at ../torch/csrc/utils/python_arg_parser.cpp:1485.)\n",
      "  p.data.add_(-learning_rate, p.grad.data)\n"
     ]
    },
    {
     "name": "stdout",
     "output_type": "stream",
     "text": [
      "tensor(0.1250, device='cuda:1') 1.416812777519226 0/15000\n",
      "tensor(0.3750, device='cuda:1') 1387.9284970760345 1000/15000\n",
      "tensor(0.2500, device='cuda:1') 2772.8700326681137 2000/15000\n",
      "tensor(0.5000, device='cuda:1') 4157.627020001411 3000/15000\n",
      "tensor(0.1250, device='cuda:1') 5540.424576878548 4000/15000\n",
      "tensor(0.3750, device='cuda:1') 6922.916291356087 5000/15000\n",
      "tensor(0.2500, device='cuda:1') 8303.001613259315 6000/15000\n",
      "tensor(0.3750, device='cuda:1') 9684.749559044838 7000/15000\n",
      "tensor(0.2500, device='cuda:1') 11065.696526169777 8000/15000\n",
      "tensor(0.2500, device='cuda:1') 12445.111760497093 9000/15000\n",
      "tensor(0.1250, device='cuda:1') 13825.682912349701 10000/15000\n",
      "tensor(0.1250, device='cuda:1') 15204.153749465942 11000/15000\n",
      "tensor(0.2500, device='cuda:1') 16580.860401391983 12000/15000\n",
      "tensor(0.3750, device='cuda:1') 17956.94372153282 13000/15000\n",
      "tensor(0.6250, device='cuda:1') 19332.94884431362 14000/15000\n",
      "   Batch loss: 1.3803264277776082 tensor(0.2960, device='cuda:1')\n",
      "==================== 2/2 ====================\n",
      "tensor(0.2500, device='cuda:1') 1.3648494482040405 0/15000\n",
      "tensor(0.2500, device='cuda:1') 1374.8232778310776 1000/15000\n",
      "tensor(0.3750, device='cuda:1') 2748.752896666527 2000/15000\n",
      "tensor(0.3750, device='cuda:1') 4118.42708671093 3000/15000\n",
      "tensor(0.2500, device='cuda:1') 5488.6424062252045 4000/15000\n",
      "tensor(0.1250, device='cuda:1') 6858.175474047661 5000/15000\n",
      "tensor(0.1250, device='cuda:1') 8224.089987277985 6000/15000\n",
      "tensor(0.2500, device='cuda:1') 9590.58772456646 7000/15000\n",
      "tensor(0.1250, device='cuda:1') 10957.73091173172 8000/15000\n",
      "tensor(0.3750, device='cuda:1') 12321.055149316788 9000/15000\n",
      "tensor(0.3750, device='cuda:1') 13684.14731490612 10000/15000\n",
      "tensor(0.1250, device='cuda:1') 15043.824696540833 11000/15000\n",
      "tensor(0., device='cuda:1') 16402.94602251053 12000/15000\n",
      "tensor(0.2500, device='cuda:1') 17760.93299472332 13000/15000\n",
      "tensor(0.2500, device='cuda:1') 19117.964193820953 14000/15000\n",
      "   Batch loss: 1.364911818154653 tensor(0.3220, device='cuda:1')\n"
     ]
    }
   ],
   "source": [
    "# Use the lengths tensor (the third element in the batch returned by the dataloaders) to determine which output to apply the loss to.\n",
    "# Place your training code below, and plot the training and test accuracy as a function of epoch. Finally, output a confusion matrix for the test set.\n",
    "# Do not spend a lot of time on the training! A few minutes is enough. The point is to show that the model is learning, not to get the best possible performance.\n",
    "\n",
    "# Training is copy from the lab10\n",
    "import torch.nn as nn\n",
    "\n",
    "criterion = nn.NLLLoss()\n",
    "learning_rate = 0.005 \n",
    "n_hidden = 128\n",
    "rnn = RNN(len(vocabulary), n_hidden, len(labels))\n",
    "rnn = rnn.to('cuda:1')\n",
    "epochs = 2\n",
    "\n",
    "def train(category_tensor, line_tensor, lenght):\n",
    "    # hidden = rnn.initHidden(line_tensor.shape[1]).to('cuda:1')\n",
    "    rnn.zero_grad()\n",
    "    output_all = None\n",
    "    # print(\"input shape:\",line_tensor.shape)\n",
    "    for i in range(line_tensor.size()[0]):\n",
    "        output, hidden = rnn(line_tensor[i], hidden)\n",
    "        # prit()\n",
    "        if i == 0:\n",
    "            output_all = output.unsqueeze(0)\n",
    "            # print(output_all.shape)\n",
    "        else:\n",
    "            output_all = torch.cat( [output_all, output.unsqueeze(0)] , dim=0)\n",
    "    # print(\"The output all shape:\", output_all.shape)\n",
    "    # slecting the output\n",
    "    selected_output = None\n",
    "    # print(output_all[1])\n",
    "    for index,pos in enumerate(lenght):\n",
    "        # print(index,pos)\n",
    "        if selected_output == None:\n",
    "            selected_output = output_all[index][pos-1].unsqueeze(0)\n",
    "        else:\n",
    "            selected_output = torch.cat([selected_output, output_all[index][pos-1].unsqueeze(0) ], 0)\n",
    "    # print(selected_output.shape)\n",
    "    # loss = criterion(output, category_tensor)\n",
    "    # print(selected_output.shape, category_tensor.argmax(dim=2).shape)\n",
    "    loss = criterion(selected_output, category_tensor)\n",
    "    loss.backward()\n",
    "\n",
    "    # Add parameters' gradients to their values, multiplied by learning rate\n",
    "    for p in rnn.parameters():\n",
    "        p.data.add_(-learning_rate, p.grad.data)\n",
    "\n",
    "    return selected_output,loss.item()\n",
    "\n",
    "loss_hist = []\n",
    "acc_hist = []\n",
    "for epoch in range(epochs):\n",
    "    print(\"=\"*20, f\"{epoch+1}/{epochs}\", \"=\"*20)\n",
    "    batch_loss = 0\n",
    "    batch_acc = 0\n",
    "    for iter, batch in enumerate(train_dataloader):\n",
    "        label, input, lenght = batch\n",
    "        # print(label)\n",
    "        # print(input.shape)\n",
    "        # print(\"lenght:\",lenght)\n",
    "        pred, loss = train(label,input,lenght)\n",
    "        batch_loss += loss\n",
    "\n",
    "        correct = sum(pred.argmax(dim=1) == label)\n",
    "        acc = correct/len(pred)\n",
    "        batch_acc += acc\n",
    "        if(iter % 1000 == 0):            \n",
    "            print(acc,batch_loss, f\"{iter}/{len(train_dataloader)}\")\n",
    "            \n",
    "    print(\"   Batch loss:\", batch_loss/len(train_dataloader), batch_acc/len(train_dataloader))\n",
    "    loss_hist.append(batch_loss/len(train_dataloader))\n",
    "    acc_hist.append(batch_acc/len(train_dataloader))\n",
    "    # break"
   ]
  },
  {
   "cell_type": "code",
   "execution_count": 29,
   "metadata": {},
   "outputs": [
    {
     "data": {
      "text/plain": [
       "<function matplotlib.pyplot.show(close=None, block=None)>"
      ]
     },
     "execution_count": 29,
     "metadata": {},
     "output_type": "execute_result"
    },
    {
     "data": {
      "image/png": "[encoded data removed]",
      "text/plain": [
       "<Figure size 640x480 with 1 Axes>"
      ]
     },
     "metadata": {},
     "output_type": "display_data"
    }
   ],
   "source": [
    "import matplotlib.pyplot as plt\n",
    "\n",
    "print_acc = []\n",
    "for acc in acc_hist:\n",
    "    print_acc.append(acc.cpu().numpy())\n",
    "\n",
    "plt.plot(loss_hist, label='loss')\n",
    "plt.plot(print_acc, label='acc')\n",
    "plt.legend()\n",
    "plt.show"
   ]
  },
  {
   "attachments": {},
   "cell_type": "markdown",
   "metadata": {},
   "source": [
    "## Question 3, 10 points\n",
    "\n",
    "Next, replace the SRNN from Question 2 with a single-layer LSTM. Give the same output (training and testing accuracy as a function of epoch, as well as confusion\n",
    "matrix for the test set). Comment on the differences you observe between the two models."
   ]
  },
  {
   "cell_type": "code",
   "execution_count": 25,
   "metadata": {},
   "outputs": [],
   "source": [
    "import torch.nn as nn\n",
    "\n",
    "class LSTM(nn.Module):\n",
    "    def __init__(self, input_size, hidden_size, output_size):\n",
    "        super(LSTM, self).__init__()\n",
    "        self.hidden_size = hidden_size\n",
    "        self.lstm = nn.LSTMCell(input_size, hidden_size)\n",
    "        self.linear = nn.Linear(hidden_size,output_size)\n",
    "        self.softmax = nn.LogSoftmax(dim=1)\n",
    "\n",
    "    def forward(self, input_):\n",
    "        h_t = torch.zeros(input_.size(0), self.hidden_size).to(device)\n",
    "        c_t = torch.zeros(input_.size(0), self.hidden_size).to(device)\n",
    "        h_t, c_t = self.lstm(input_, (h_t, c_t))\n",
    "        output = self.softmax(self.linear(h_t))\n",
    "        return output, (h_t, c_t)"
   ]
  },
  {
   "cell_type": "code",
   "execution_count": 26,
   "metadata": {},
   "outputs": [
    {
     "name": "stdout",
     "output_type": "stream",
     "text": [
      "==================== 1/2 ====================\n",
      "tensor(0.3750, device='cuda:1') 1.3829162120819092 0/15000\n"
     ]
    },
    {
     "name": "stderr",
     "output_type": "stream",
     "text": [
      "/tmp/ipykernel_12890/4184730162.py:46: UserWarning: This overload of add_ is deprecated:\n",
      "\tadd_(Number alpha, Tensor other)\n",
      "Consider using one of the following signatures instead:\n",
      "\tadd_(Tensor other, *, Number alpha) (Triggered internally at ../torch/csrc/utils/python_arg_parser.cpp:1485.)\n",
      "  p.data.add_(-learning_rate, p.grad.data)\n"
     ]
    }
   ],
   "source": [
    "# Use the lengths tensor (the third element in the batch returned by the dataloaders) to determine which output to apply the loss to.\n",
    "# Place your training code below, and plot the training and test accuracy as a function of epoch. Finally, output a confusion matrix for the test set.\n",
    "# Do not spend a lot of time on the training! A few minutes is enough. The point is to show that the model is learning, not to get the best possible performance.\n",
    "\n",
    "# Training is copy from the lab10\n",
    "import torch.nn as nn\n",
    "\n",
    "criterion = nn.NLLLoss()\n",
    "learning_rate = 0.005 \n",
    "n_hidden = 128\n",
    "rnn = LSTM(len(vocabulary), n_hidden, len(labels))\n",
    "rnn = rnn.to('cuda:1')\n",
    "epochs = 2\n",
    "\n",
    "def train(category_tensor, line_tensor, lenght):\n",
    "    # hidden = rnn.initHidden(line_tensor.shape[1]).to('cuda:1')\n",
    "    rnn.zero_grad()\n",
    "    output_all = None\n",
    "    # print(\"input shape:\",line_tensor.shape)\n",
    "    for i in range(line_tensor.size()[0]):\n",
    "        output, hidden = rnn(line_tensor[i])\n",
    "        # prit()\n",
    "        if i == 0:\n",
    "            output_all = output.unsqueeze(0)\n",
    "            # print(output_all.shape)\n",
    "        else:\n",
    "            output_all = torch.cat( [output_all, output.unsqueeze(0)] , dim=0)\n",
    "    # print(\"The output all shape:\", output_all.shape)\n",
    "    # slecting the output\n",
    "    selected_output = None\n",
    "    # print(output_all[1])\n",
    "    for index,pos in enumerate(lenght):\n",
    "        # print(index,pos)\n",
    "        if selected_output == None:\n",
    "            selected_output = output_all[index][pos-1].unsqueeze(0)\n",
    "        else:\n",
    "            selected_output = torch.cat([selected_output, output_all[index][pos-1].unsqueeze(0) ], 0)\n",
    "    # print(selected_output.shape)\n",
    "    # loss = criterion(output, category_tensor)\n",
    "    # print(selected_output.shape, category_tensor.argmax(dim=2).shape)\n",
    "    loss = criterion(selected_output, category_tensor)\n",
    "    loss.backward()\n",
    "\n",
    "    # Add parameters' gradients to their values, multiplied by learning rate\n",
    "    for p in rnn.parameters():\n",
    "        p.data.add_(-learning_rate, p.grad.data)\n",
    "\n",
    "    return selected_output,loss.item()\n",
    "\n",
    "loss_hist = []\n",
    "acc_hist = []\n",
    "for epoch in range(epochs):\n",
    "    print(\"=\"*20, f\"{epoch+1}/{epochs}\", \"=\"*20)\n",
    "    batch_loss = 0\n",
    "    batch_acc = 0\n",
    "    for iter, batch in enumerate(train_dataloader):\n",
    "        label, input, lenght = batch\n",
    "        label = label.to(device)\n",
    "        input = input.to(device)\n",
    "        lenght = lenght.to(device)\n",
    "        # print(label)\n",
    "        # print(input.shape)\n",
    "        # print(\"lenght:\",lenght)\n",
    "        pred, loss = train(label,input,lenght)\n",
    "        batch_loss += loss\n",
    "\n",
    "        correct = sum(pred.argmax(dim=1) == label)\n",
    "        acc = correct/len(pred)\n",
    "        batch_acc += acc\n",
    "        if(iter % 1000 == 0):            \n",
    "            print(acc,batch_loss, f\"{iter}/{len(train_dataloader)}\")\n",
    "            \n",
    "    print(\"   Batch loss:\", batch_loss/len(train_dataloader), batch_acc/len(train_dataloader))\n",
    "    loss_hist.append(batch_loss/len(train_dataloader))\n",
    "    acc_hist.append(batch_acc/len(train_dataloader))\n",
    "    # break"
   ]
  },
  {
   "attachments": {},
   "cell_type": "markdown",
   "metadata": {},
   "source": [
    "## Question 4, 10 points\n",
    "\n",
    "Explain how you could use the Transformer model to perform the same task you explored in Questions 2 and 3.\n",
    "How would attention be useful for this text classification task? Give a precise and detailed answer. Be sure to discuss what\n",
    "parts of the original Transformer you would use and what you would have to remove."
   ]
  },
  {
   "attachments": {},
   "cell_type": "markdown",
   "metadata": {},
   "source": [
    "*Write your answer here.*\n",
    "\n",
    "In transformer, with the attention mechanism there are global dependencies between the input and output, This means that it is possible for one word to be connected to every words equally (with the set of key and values of compatibility or connnectivity between every word), without worrying about the long term dependency ot sequential computation problem, so it would be very beneficial for the this text classification task because the model can consider the whole sentence all together then clasify it. As this is just a classification task not a translating task I think we can remove the positional encoding part from the original Transformer as we no longer need the information about the positions of the words but we only need the content. Our output will only be the class of the text."
   ]
  },
  {
   "attachments": {},
   "cell_type": "markdown",
   "metadata": {},
   "source": [
    "## Question 5, 10 points\n",
    "\n",
    "In Lab 13, you implemented a DQN model for tic-tac-toe. You method learned to play against a fairly dumb `expert_action` opponent, however.  Also,\n",
    "DQN has proven to be less stable than other methods such as Double DQN, also discussed in Lab 13.\n",
    "\n",
    "Explain below how you would apply double DQN and self-play to improve your tic-tac-toe agent.\n",
    "Provide pseudocode for the algorithm below."
   ]
  },
  {
   "attachments": {},
   "cell_type": "markdown",
   "metadata": {},
   "source": [
    "*Write your explanation and pseudocode here.*\n",
    "\n",
    "In Double DQN, we have 2 DQN models the current model and the target model and we have two different action-value functions, Q and Q’.\n",
    "We update the parameters of target network based on the parameters of ther current network per several iterations.\n",
    "First we use the current network to make an action then we calculate the loss between the Q value of the curretn network and the target network. This way train 1 model but move it forward one step in time so the model at the previous time step can learn from it."
   ]
  },
  {
   "cell_type": "code",
   "execution_count": 1,
   "metadata": {},
   "outputs": [
    {
     "data": {
      "image/png": "[encoded data removed]",
      "text/plain": [
       "<PIL.PngImagePlugin.PngImageFile image mode=RGB size=700x249 at 0x7F3B4C509B20>"
      ]
     },
     "metadata": {},
     "output_type": "display_data"
    }
   ],
   "source": [
    "%matplotlib inline\n",
    "from PIL import Image\n",
    "\n",
    "image = Image.open('ddqn.png')\n",
    "image.show()"
   ]
  },
  {
   "attachments": {},
   "cell_type": "markdown",
   "metadata": {},
   "source": [
    "## Question 6, 30 points\n",
    "\n",
    "Based on your existing DQN implementation, implement the double DQN and self-play training method\n",
    "you just described. After some training (don't spend too much time on training -- again, we just want to see that the model can\n",
    "learn), show the result you playing a game against your learned agent."
   ]
  },
  {
   "cell_type": "code",
   "execution_count": 46,
   "metadata": {},
   "outputs": [
    {
     "name": "stdout",
     "output_type": "stream",
     "text": [
      "cuda:3\n"
     ]
    }
   ],
   "source": [
    "# Code for training and playing goes here\n",
    "import math, random\n",
    "import time\n",
    "import torch\n",
    "import torch.nn as nn\n",
    "import torch.optim as optim\n",
    "import torch.autograd as autograd \n",
    "import torch.nn.functional as F\n",
    "\n",
    "import matplotlib.pyplot as plt\n",
    "\n",
    "import gymnasium as gym\n",
    "import numpy as np\n",
    "\n",
    "from collections import deque\n",
    "from tqdm import trange\n",
    "\n",
    "import importlib\n",
    "from collections import defaultdict\n",
    "import torch\n",
    "import numpy\n",
    "\n",
    "# Select GPU or CPU as device\n",
    "device = torch.device(\"cuda:3\" if torch.cuda.is_available() else \"cpu\")\n",
    "print(device)"
   ]
  },
  {
   "cell_type": "code",
   "execution_count": 48,
   "metadata": {},
   "outputs": [],
   "source": [
    "def gen_eps_by_episode(epsilon_start, epsilon_final, epsilon_decay):\n",
    "    eps_by_episode = lambda episode: epsilon_final + (epsilon_start - epsilon_final) * math.exp(-1. * episode / epsilon_decay)\n",
    "    return eps_by_episode\n",
    "\n",
    "def update_target(current_model, target_model):\n",
    "    target_model.load_state_dict(current_model.state_dict())\n",
    "\n",
    "epsilon_start = 1.0\n",
    "epsilon_final = 0.01\n",
    "epsilon_decay = 500\n",
    "eps_by_episode = gen_eps_by_episode(epsilon_start, epsilon_final, epsilon_decay)"
   ]
  },
  {
   "attachments": {},
   "cell_type": "markdown",
   "metadata": {},
   "source": [
    "### Define model"
   ]
  },
  {
   "cell_type": "code",
   "execution_count": 49,
   "metadata": {},
   "outputs": [],
   "source": [
    "class DQN(nn.Module):\n",
    "    def __init__(self, n_state, n_action):\n",
    "        super(DQN, self).__init__()        \n",
    "        self.layers = nn.Sequential(\n",
    "            nn.Linear(n_state, 10),\n",
    "            nn.ReLU(),\n",
    "            nn.Linear(10, 10),\n",
    "            nn.ReLU(),\n",
    "            nn.Linear(10, n_action))\n",
    "        \n",
    "    def forward(self, x):\n",
    "        return self.layers(x)\n",
    "    \n",
    "    def act(self, state, epsilon):\n",
    "        # Get an epsilon greedy action for given state\n",
    "        if random.random() > epsilon: # Use argmax_a Q(s,a)\n",
    "            state = autograd.Variable(torch.FloatTensor(state).unsqueeze(0), volatile=True).to(device)\n",
    "            q_value = self.forward(state)\n",
    "            q_value = q_value.cpu()\n",
    "            action = q_value.max(1)[1].item()            \n",
    "        else: # get random action\n",
    "            action = random.randrange(n_action)\n",
    "        return action\n",
    "\n",
    "class ReplayBuffer(object):\n",
    "    def __init__(self, capacity):\n",
    "        self.buffer = deque(maxlen=capacity)\n",
    "    \n",
    "    def push(self, state, action, reward, next_state, done):\n",
    "        # Add batch index dimension to state representations\n",
    "        state = np.expand_dims(state, 0)\n",
    "        next_state = np.expand_dims(next_state, 0)            \n",
    "        self.buffer.append((state, action, reward, next_state, done))\n",
    "    \n",
    "    def sample(self, batch_size):\n",
    "        state, action, reward, next_state, done = zip(*random.sample(self.buffer, batch_size))\n",
    "        return np.concatenate(state), action, reward, np.concatenate(next_state), done\n",
    "    \n",
    "    def __len__(self):\n",
    "        return len(self.buffer)"
   ]
  },
  {
   "attachments": {},
   "cell_type": "markdown",
   "metadata": {},
   "source": [
    "### Define loss"
   ]
  },
  {
   "cell_type": "code",
   "execution_count": 50,
   "metadata": {},
   "outputs": [],
   "source": [
    "def compute_td_loss_DoubleDQN(current_model, target_model, batch_size, gamma=0.99):     # from input only a model, you must input 2 models: current_model, and target_model\n",
    "    # get data from replay mode\n",
    "    state, action, reward, next_state, done = replay_buffer.sample(batch_size)\n",
    "\n",
    "    # convert to tensors\n",
    "    # Autograd automatically supports Tensors with requires_grad set to True.\n",
    "    state      = autograd.Variable(torch.FloatTensor(np.float32(state))).to(device)\n",
    "    next_state = autograd.Variable(torch.FloatTensor(np.float32(next_state)), volatile=True).to(device)\n",
    "    action     = autograd.Variable(torch.LongTensor(action)).to(device)\n",
    "    reward     = autograd.Variable(torch.FloatTensor(reward)).to(device)\n",
    "    done       = autograd.Variable(torch.FloatTensor(done)).to(device)\n",
    "\n",
    "    # calculate q-values and next q-values from deeplearning\n",
    "    q_values      = current_model(state)\n",
    "    next_q_values = current_model(next_state)\n",
    "    # double DQN add here\n",
    "    next_q_state_values = target_model(next_state)\n",
    "    ############################################################\n",
    "\n",
    "    # get q-value from propagated action in each step\n",
    "    q_value          = q_values.gather(1, action.unsqueeze(1)).squeeze(1)\n",
    "    # double DQN different here\n",
    "    next_q_value     = next_q_state_values.gather(1, torch.max(next_q_values, 1)[1].unsqueeze(1)).squeeze(1)\n",
    "    ############################################################################\n",
    "    # calculate expected q-value from q-function\n",
    "    expected_q_value = reward + gamma * next_q_value * (1 - done)\n",
    "    \n",
    "    # calculate loss value\n",
    "    loss = (q_value - autograd.Variable(expected_q_value.data)).pow(2).mean()\n",
    "        \n",
    "    optimizer.zero_grad()\n",
    "    loss.backward()\n",
    "    optimizer.step()\n",
    "\n",
    "    return loss"
   ]
  },
  {
   "attachments": {},
   "cell_type": "markdown",
   "metadata": {},
   "source": [
    "### Define Train Function"
   ]
  },
  {
   "attachments": {},
   "cell_type": "markdown",
   "metadata": {},
   "source": [
    "######### modify here ########### is where i added lines of code"
   ]
  },
  {
   "cell_type": "code",
   "execution_count": 51,
   "metadata": {},
   "outputs": [],
   "source": [
    "def train_DoubleDQN(env, current_model, target_model, eps_by_episode, optimizer, replay_buffer, episodes = 10000, batch_size=32, gamma = 0.99):\n",
    "    losses = []\n",
    "    all_rewards = []\n",
    "    episode_reward = 0\n",
    "\n",
    "    obs = env.reset()\n",
    "    \n",
    "    ######### modify here ###########\n",
    "    state = obs.reshape(-1)\n",
    "\n",
    "    tot_reward = 0\n",
    "    tr = trange(episodes+1, desc='Agent training', leave=True)\n",
    "    for episode in tr:\n",
    "        tr.set_description(\"Agent training (episode{}) Avg Reward {}\".format(episode+1,tot_reward/(episode+1)))\n",
    "        tr.refresh() \n",
    "\n",
    "        # get action with q-values\n",
    "        epsilon = eps_by_episode(episode)\n",
    "        action = current_model.act(state, epsilon)\n",
    "        \n",
    "        \n",
    "        # input action into state\n",
    "#         next_obs, reward, done, _ = env.step(action)\n",
    "        next_obs, reward, done = env.step(action)\n",
    "\n",
    "        ######### modify here ###########\n",
    "        next_state = next_obs.reshape(-1)\n",
    "        \n",
    "        # save data into buffer\n",
    "        replay_buffer.push(state, action, reward, next_state, done)\n",
    "\n",
    "        tot_reward += reward\n",
    "        \n",
    "        state = next_state\n",
    "        obs = next_obs\n",
    "        episode_reward += reward\n",
    "        \n",
    "        if done:\n",
    "            obs = env.reset()\n",
    "            \n",
    "            ######### modify here ###########\n",
    "            state = obs.reshape(-1)\n",
    "            \n",
    "            all_rewards.append(episode_reward)\n",
    "            episode_reward = 0\n",
    "            \n",
    "        if len(replay_buffer) > batch_size:\n",
    "            loss = compute_td_loss_DoubleDQN(current_model, target_model, batch_size, gamma)    #######\n",
    "            losses.append(loss.item())\n",
    "\n",
    "        if episode % 500 == 0: \n",
    "            update_target(current_model, target_model)\n",
    "            \n",
    "    plot(episode, all_rewards, losses)  \n",
    "    return current_model, target_model, all_rewards, losses"
   ]
  },
  {
   "attachments": {},
   "cell_type": "markdown",
   "metadata": {},
   "source": [
    "### Define Train Function"
   ]
  },
  {
   "attachments": {},
   "cell_type": "markdown",
   "metadata": {},
   "source": [
    "######### modify here ########### is where i added lines of code"
   ]
  },
  {
   "cell_type": "code",
   "execution_count": 52,
   "metadata": {},
   "outputs": [],
   "source": [
    "def train_DoubleDQN(env, current_model, target_model, eps_by_episode, optimizer, replay_buffer, episodes = 10000, batch_size=32, gamma = 0.99):\n",
    "    losses = []\n",
    "    all_rewards = []\n",
    "    episode_reward = 0\n",
    "\n",
    "    obs = env.reset()\n",
    "    \n",
    "    ######### modify here ###########\n",
    "    state = obs.reshape(-1)\n",
    "\n",
    "    tot_reward = 0\n",
    "    tr = trange(episodes+1, desc='Agent training', leave=True)\n",
    "    for episode in tr:\n",
    "        tr.set_description(\"Agent training (episode{}) Avg Reward {}\".format(episode+1,tot_reward/(episode+1)))\n",
    "        tr.refresh() \n",
    "\n",
    "        # get action with q-values\n",
    "        epsilon = eps_by_episode(episode)\n",
    "        action = current_model.act(state, epsilon)\n",
    "        \n",
    "        \n",
    "        # input action into state\n",
    "#         next_obs, reward, done, _ = env.step(action)\n",
    "        next_obs, reward, done = env.step(action)\n",
    "\n",
    "        ######### modify here ###########\n",
    "        next_state = next_obs.reshape(-1)\n",
    "        \n",
    "        # save data into buffer\n",
    "        replay_buffer.push(state, action, reward, next_state, done)\n",
    "\n",
    "        tot_reward += reward\n",
    "        \n",
    "        state = next_state\n",
    "        obs = next_obs\n",
    "        episode_reward += reward\n",
    "        \n",
    "        if done:\n",
    "            obs = env.reset()\n",
    "            \n",
    "            ######### modify here ###########\n",
    "            state = obs.reshape(-1)\n",
    "            \n",
    "            all_rewards.append(episode_reward)\n",
    "            episode_reward = 0\n",
    "            \n",
    "        if len(replay_buffer) > batch_size:\n",
    "            loss = compute_td_loss_DoubleDQN(current_model, target_model, batch_size, gamma)    #######\n",
    "            losses.append(loss.item())\n",
    "\n",
    "        if episode % 500 == 0: \n",
    "            update_target(current_model, target_model)\n",
    "            \n",
    "    plot(episode, all_rewards, losses)  \n",
    "    return current_model, target_model, all_rewards, losses"
   ]
  },
  {
   "attachments": {},
   "cell_type": "markdown",
   "metadata": {},
   "source": [
    "### Plot"
   ]
  },
  {
   "cell_type": "code",
   "execution_count": 53,
   "metadata": {},
   "outputs": [],
   "source": [
    "def plot(episode, rewards, losses):\n",
    "    # clear_output(True)\n",
    "    plt.figure(figsize=(20,5))\n",
    "    plt.subplot(131)\n",
    "    plt.title('episode %s. reward: %s' % (episode, np.mean(rewards[-10:])))\n",
    "    plt.plot(rewards)\n",
    "    plt.subplot(132)\n",
    "    plt.title('loss')\n",
    "    plt.plot(losses)   \n",
    "    plt.show()"
   ]
  },
  {
   "cell_type": "code",
   "execution_count": 54,
   "metadata": {},
   "outputs": [
    {
     "name": "stderr",
     "output_type": "stream",
     "text": [
      "Agent training (episode10) Avg Reward -0.1:   0%|          | 0/5001 [00:00<?, ?it/s]               /tmp/ipykernel_12703/4233373420.py:17: UserWarning: volatile was removed and now has no effect. Use `with torch.no_grad():` instead.\n",
      "  state = autograd.Variable(torch.FloatTensor(state).unsqueeze(0), volatile=True).to(device)\n",
      "Agent training (episode33) Avg Reward -0.18181818181818182:   0%|          | 10/5001 [00:00<06:18, 13.18it/s]/tmp/ipykernel_12703/2665853348.py:8: UserWarning: volatile was removed and now has no effect. Use `with torch.no_grad():` instead.\n",
      "  next_state = autograd.Variable(torch.FloatTensor(np.float32(next_state)), volatile=True).to(device)\n",
      "Agent training (episode5001) Avg Reward 0.047190561887622474: 100%|██████████| 5001/5001 [00:38<00:00, 129.74it/s]   \n"
     ]
    },
    {
     "data": {
      "image/png": "[encoded data removed]",
      "text/plain": [
       "<Figure size 2000x500 with 2 Axes>"
      ]
     },
     "metadata": {},
     "output_type": "display_data"
    }
   ],
   "source": [
    "import importlib\n",
    "game_name = 'tictactoe'\n",
    "game_module = importlib.import_module(\"games.\" + game_name)\n",
    "env = game_module.Game()\n",
    "env.reset()\n",
    "\n",
    "n_state = 27\n",
    "\n",
    "n_action = 9\n",
    "\n",
    "episode = 5000\n",
    "\n",
    "# model = DQN(n_state = n_state, n_action = n_action).to(device)\n",
    "\n",
    "current_model = DQN(n_state = n_state, n_action = n_action).to(device)\n",
    "target_model = DQN(n_state = n_state, n_action = n_action).to(device)\n",
    "optimizer = optim.Adam(current_model.parameters())\n",
    "\n",
    "replay_buffer = ReplayBuffer(1000)\n",
    "update_target(current_model, target_model)\n",
    "\n",
    "current_model, target_model, all_rewards, losses = train_DoubleDQN(env, current_model, target_model, eps_by_episode, optimizer, replay_buffer, episodes = episode, batch_size=32, gamma = 0.99)"
   ]
  },
  {
   "cell_type": "code",
   "execution_count": 55,
   "metadata": {},
   "outputs": [],
   "source": [
    "torch.save(current_model.state_dict(), 'weights_5000.pth')"
   ]
  },
  {
   "attachments": {},
   "cell_type": "markdown",
   "metadata": {},
   "source": [
    "### Show the result you playing a game against your learned agent."
   ]
  },
  {
   "cell_type": "code",
   "execution_count": 56,
   "metadata": {},
   "outputs": [
    {
     "data": {
      "text/plain": [
       "<All keys matched successfully>"
      ]
     },
     "execution_count": 56,
     "metadata": {},
     "output_type": "execute_result"
    }
   ],
   "source": [
    "import importlib\n",
    "game_name = 'tictactoe'\n",
    "game_module = importlib.import_module(\"games.\" + game_name)\n",
    "env = game_module.Game()\n",
    "env.reset()\n",
    "\n",
    "n_state = 27\n",
    "\n",
    "n_action = 9\n",
    "\n",
    "current_model = DQN(n_state = n_state, n_action = n_action).to(device)\n",
    "current_model.load_state_dict(torch.load('weights_5000.pth'))\n"
   ]
  },
  {
   "cell_type": "code",
   "execution_count": 57,
   "metadata": {},
   "outputs": [],
   "source": [
    "def play(model, player):\n",
    "    done = False\n",
    "    state = env.reset()\n",
    "    state = state.reshape(-1)\n",
    "    \n",
    "    while(not done):\n",
    "        if env.to_play() == player:\n",
    "            available_action = env.legal_actions()\n",
    "            print(\"available action:\", available_action)\n",
    "            action = env.human_to_action()\n",
    "            # These will appear to select actions\n",
    "            # Enter the row (1,2,3):\n",
    "            # Enter the colume (1,2,3):\n",
    "            next_state, reward, done = env.step(action)\n",
    "            next_state = next_state.reshape(-1)\n",
    "            print(\"Player's turn\")\n",
    "            print(env.action_to_string(action))\n",
    "        else:\n",
    "            action = model.act(state, epsilon_final)\n",
    "            next_state, reward, isq_done = env.step(action)\n",
    "            next_state = next_state.reshape(-1)\n",
    "            print(\"Bot's turn\")\n",
    "            print(env.action_to_string(action))\n",
    "        \n",
    "        env.render()\n",
    "        time.sleep(0.03)\n",
    "        state = next_state"
   ]
  },
  {
   "cell_type": "code",
   "execution_count": 58,
   "metadata": {},
   "outputs": [
    {
     "name": "stdout",
     "output_type": "stream",
     "text": [
      "available action: [0, 1, 2, 3, 4, 5, 6, 7, 8]\n",
      "Wrong input, try again\n"
     ]
    },
    {
     "name": "stderr",
     "output_type": "stream",
     "text": [
      "/tmp/ipykernel_12703/4233373420.py:17: UserWarning: volatile was removed and now has no effect. Use `with torch.no_grad():` instead.\n",
      "  state = autograd.Variable(torch.FloatTensor(state).unsqueeze(0), volatile=True).to(device)\n"
     ]
    },
    {
     "name": "stdout",
     "output_type": "stream",
     "text": [
      "Beau's turn\n",
      "Play row 1, column 2\n",
      "   | O |   \n",
      "---+---+---\n",
      "   |   |   \n",
      "---+---+---\n",
      "   |   |   \n",
      "Model's turn\n",
      "Play row 2, column 1\n",
      "   | O |   \n",
      "---+---+---\n",
      " X |   |   \n",
      "---+---+---\n",
      "   |   |   \n",
      "available action: [0, 2, 4, 5, 6, 7, 8]\n",
      "Wrong input, try again\n",
      "Wrong input, try again\n",
      "Wrong input, try again\n",
      "Wrong input, try again\n",
      "Wrong input, try again\n"
     ]
    }
   ],
   "source": [
    "# I play as O \n",
    "play(current_model,1)"
   ]
  },
  {
   "cell_type": "code",
   "execution_count": null,
   "metadata": {},
   "outputs": [
    {
     "name": "stdout",
     "output_type": "stream",
     "text": [
      "Model's turn\n",
      "Play row 2, column 2\n",
      "   |   |   \n",
      "---+---+---\n",
      "   | O |   \n",
      "---+---+---\n",
      "   |   |   \n",
      "available action: [0, 1, 2, 3, 5, 6, 7, 8]\n",
      "Beau's turn\n",
      "Play row 1, column 2\n",
      "   | X |   \n",
      "---+---+---\n",
      "   | O |   \n",
      "---+---+---\n",
      "   |   |   \n",
      "Model's turn\n",
      "Play row 2, column 1\n",
      "   | X |   \n",
      "---+---+---\n",
      " O | O |   \n",
      "---+---+---\n",
      "   |   |   \n",
      "available action: [0, 2, 5, 6, 7, 8]\n",
      "Beau's turn\n",
      "Play row 1, column 1\n",
      " X | X |   \n",
      "---+---+---\n",
      " O | O |   \n",
      "---+---+---\n",
      "   |   |   \n",
      "Model's turn\n",
      "Play row 3, column 3\n",
      " X | X |   \n",
      "---+---+---\n",
      " O | O |   \n",
      "---+---+---\n",
      "   |   | O \n",
      "available action: [2, 5, 6, 7]\n",
      "Beau's turn\n",
      "Play row 1, column 3\n",
      " X | X | X \n",
      "---+---+---\n",
      " O | O |   \n",
      "---+---+---\n",
      "   |   | O \n"
     ]
    }
   ],
   "source": [
    "# I play as X\n",
    "play(current_model,-1)"
   ]
  },
  {
   "cell_type": "code",
   "execution_count": null,
   "metadata": {},
   "outputs": [],
   "source": []
  }
 ],
 "metadata": {
  "kernelspec": {
   "display_name": "Python 3",
   "language": "python",
   "name": "python3"
  },
  "language_info": {
   "codemirror_mode": {
    "name": "ipython",
    "version": 3
   },
   "file_extension": ".py",
   "mimetype": "text/x-python",
   "name": "python",
   "nbconvert_exporter": "python",
   "pygments_lexer": "ipython3",
   "version": "3.8.10"
  }
 },
 "nbformat": 4,
 "nbformat_minor": 4
}
