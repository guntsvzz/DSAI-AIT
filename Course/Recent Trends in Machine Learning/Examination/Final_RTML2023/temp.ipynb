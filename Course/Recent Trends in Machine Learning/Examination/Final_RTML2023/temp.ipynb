{
 "cells": [
  {
   "cell_type": "code",
   "execution_count": 1,
   "metadata": {},
   "outputs": [
    {
     "name": "stderr",
     "output_type": "stream",
     "text": [
      "c:\\Python3.10.4\\lib\\site-packages\\gymnasium\\envs\\registration.py:693: UserWarning: \u001b[33mWARN: Overriding environment GymV26Environment-v0 already in registry.\u001b[0m\n",
      "  logger.warn(f\"Overriding environment {new_spec.id} already in registry.\")\n",
      "c:\\Python3.10.4\\lib\\site-packages\\gymnasium\\envs\\registration.py:604: UserWarning: \u001b[33mWARN: plugin: shimmy.registration:register_gymnasium_envs raised Traceback (most recent call last):\n",
      "  File \"c:\\Python3.10.4\\lib\\site-packages\\gymnasium\\envs\\registration.py\", line 602, in load_plugin_envs\n",
      "    fn()\n",
      "  File \"c:\\Python3.10.4\\lib\\site-packages\\shimmy\\registration.py\", line 256, in register_gymnasium_envs\n",
      "    _register_dm_control_envs()\n",
      "  File \"c:\\Python3.10.4\\lib\\site-packages\\shimmy\\registration.py\", line 26, in _register_dm_control_envs\n",
      "    from shimmy.dm_control_compatibility import DmControlCompatibilityV0\n",
      "  File \"c:\\Python3.10.4\\lib\\site-packages\\shimmy\\dm_control_compatibility.py\", line 15, in <module>\n",
      "    from dm_control import composer\n",
      "  File \"c:\\Python3.10.4\\lib\\site-packages\\dm_control\\composer\\__init__.py\", line 26, in <module>\n",
      "    from dm_control.composer.environment import Environment\n",
      "  File \"c:\\Python3.10.4\\lib\\site-packages\\dm_control\\composer\\environment.py\", line 24, in <module>\n",
      "    from dm_control.composer import observation\n",
      "  File \"c:\\Python3.10.4\\lib\\site-packages\\dm_control\\composer\\observation\\__init__.py\", line 20, in <module>\n",
      "    from dm_control.composer.observation.updater import DEFAULT_BUFFER_SIZE\n",
      "  File \"c:\\Python3.10.4\\lib\\site-packages\\dm_control\\composer\\observation\\updater.py\", line 22, in <module>\n",
      "    from dm_control.composer import variation\n",
      "  File \"c:\\Python3.10.4\\lib\\site-packages\\dm_control\\composer\\variation\\__init__.py\", line 21, in <module>\n",
      "    from dm_control.composer.variation.base import Variation\n",
      "  File \"c:\\Python3.10.4\\lib\\site-packages\\dm_control\\composer\\variation\\base.py\", line 21, in <module>\n",
      "    from dm_control.composer.variation import variation_values\n",
      "  File \"c:\\Python3.10.4\\lib\\site-packages\\dm_control\\composer\\variation\\variation_values.py\", line 18, in <module>\n",
      "    import tree\n",
      "ModuleNotFoundError: No module named 'tree'\n",
      "\u001b[0m\n",
      "  logger.warn(f\"plugin: {plugin.value} raised {traceback.format_exc()}\")\n"
     ]
    }
   ],
   "source": [
    "# Your code here\n",
    "import gymnasium as gym\n",
    "import torch\n",
    "import torch.nn as nn\n",
    "import torch.nn.functional as F\n",
    "import numpy as np\n",
    "from torch import optim\n",
    "from torch.distributions import Categorical\n",
    "\n",
    "class Policy(nn.Module):\n",
    "    def __init__(self, env):\n",
    "        super(Policy, self).__init__()\n",
    "        self.n_inputs = env.observation_space.shape[0]\n",
    "        self.n_outputs = env.action_space.n\n",
    "        \n",
    "        self.affine1 = nn.Linear(self.n_inputs, 128)\n",
    "        self.dropout = nn.Dropout(p=0.6)\n",
    "        self.affine2 = nn.Linear(128, self.n_outputs)\n",
    "\n",
    "        self.saved_log_probs = []\n",
    "        self.rewards = []\n",
    "\n",
    "    def forward(self, x):\n",
    "        x = self.affine1(x)\n",
    "        x = self.dropout(x)\n",
    "        x = F.relu(x)\n",
    "        action_scores = self.affine2(x)\n",
    "        return F.softmax(action_scores, dim=1)\n",
    "    \n",
    "    def select_action(self, state):\n",
    "        state = torch.from_numpy(np.array(state)).float().unsqueeze(0)\n",
    "        probs = self.forward(state)\n",
    "        m = torch.distributions.Categorical(probs)\n",
    "        action = m.sample()\n",
    "        self.saved_log_probs.append(m.log_prob(action))\n",
    "        return action.item()\n"
   ]
  },
  {
   "cell_type": "code",
   "execution_count": 2,
   "metadata": {},
   "outputs": [],
   "source": [
    "#RL environment parameters\n",
    "gamma = 0.95\n",
    "seed = 0\n",
    "render = False\n",
    "log_interval = 10\n",
    "\n",
    "#Set up environment\n",
    "env = gym.make(\"LunarLander-v2\", render_mode=\"human\")\n",
    "# env = gym.make(\"CartPole-v1\", render_mode='rgb_array')\n",
    "env.reset(seed=seed)\n",
    "torch.manual_seed(seed)\n",
    "\n",
    "#Create out policy Network\n",
    "policy = Policy(env)\n",
    "optimizer = optim.Adam(policy.parameters(), lr=1e-2)\n",
    "eps = np.finfo(np.float32).eps.item()\n",
    "\n",
    "is_done = False\n",
    "state, info = env.reset()"
   ]
  },
  {
   "cell_type": "code",
   "execution_count": 3,
   "metadata": {},
   "outputs": [
    {
     "ename": "KeyboardInterrupt",
     "evalue": "",
     "output_type": "error",
     "traceback": [
      "\u001b[1;31m---------------------------------------------------------------------------\u001b[0m",
      "\u001b[1;31mKeyboardInterrupt\u001b[0m                         Traceback (most recent call last)",
      "\u001b[1;32mc:\\Users\\Guntsv\\Documents\\GitHub\\DSAI-AIT-2022\\Course\\Recent Trends in Machine Learning\\Examination\\Final_RTML2023\\temp.ipynb Cell 3\u001b[0m in \u001b[0;36m<cell line: 1>\u001b[1;34m()\u001b[0m\n\u001b[0;32m      <a href='vscode-notebook-cell:/c%3A/Users/Guntsv/Documents/GitHub/DSAI-AIT-2022/Course/Recent%20Trends%20in%20Machine%20Learning/Examination/Final_RTML2023/temp.ipynb#W2sZmlsZQ%3D%3D?line=3'>4</a>\u001b[0m     state, reward, done, truncated, info \u001b[39m=\u001b[39m env\u001b[39m.\u001b[39mstep(action)\n\u001b[0;32m      <a href='vscode-notebook-cell:/c%3A/Users/Guntsv/Documents/GitHub/DSAI-AIT-2022/Course/Recent%20Trends%20in%20Machine%20Learning/Examination/Final_RTML2023/temp.ipynb#W2sZmlsZQ%3D%3D?line=4'>5</a>\u001b[0m     \u001b[39m# print(reward, is_done)\u001b[39;00m\n\u001b[1;32m----> <a href='vscode-notebook-cell:/c%3A/Users/Guntsv/Documents/GitHub/DSAI-AIT-2022/Course/Recent%20Trends%20in%20Machine%20Learning/Examination/Final_RTML2023/temp.ipynb#W2sZmlsZQ%3D%3D?line=5'>6</a>\u001b[0m     screen \u001b[39m=\u001b[39m env\u001b[39m.\u001b[39;49mrender()\n\u001b[0;32m      <a href='vscode-notebook-cell:/c%3A/Users/Guntsv/Documents/GitHub/DSAI-AIT-2022/Course/Recent%20Trends%20in%20Machine%20Learning/Examination/Final_RTML2023/temp.ipynb#W2sZmlsZQ%3D%3D?line=6'>7</a>\u001b[0m env\u001b[39m.\u001b[39mclose()\n",
      "File \u001b[1;32mc:\\Python3.10.4\\lib\\site-packages\\gymnasium\\core.py:418\u001b[0m, in \u001b[0;36mWrapper.render\u001b[1;34m(self)\u001b[0m\n\u001b[0;32m    416\u001b[0m \u001b[39mdef\u001b[39;00m \u001b[39mrender\u001b[39m(\u001b[39mself\u001b[39m) \u001b[39m-\u001b[39m\u001b[39m>\u001b[39m RenderFrame \u001b[39m|\u001b[39m \u001b[39mlist\u001b[39m[RenderFrame] \u001b[39m|\u001b[39m \u001b[39mNone\u001b[39;00m:\n\u001b[0;32m    417\u001b[0m     \u001b[39m\"\"\"Uses the :meth:`render` of the :attr:`env` that can be overwritten to change the returned data.\"\"\"\u001b[39;00m\n\u001b[1;32m--> 418\u001b[0m     \u001b[39mreturn\u001b[39;00m \u001b[39mself\u001b[39;49m\u001b[39m.\u001b[39;49menv\u001b[39m.\u001b[39;49mrender()\n",
      "File \u001b[1;32mc:\\Python3.10.4\\lib\\site-packages\\gymnasium\\wrappers\\order_enforcing.py:70\u001b[0m, in \u001b[0;36mOrderEnforcing.render\u001b[1;34m(self, *args, **kwargs)\u001b[0m\n\u001b[0;32m     65\u001b[0m \u001b[39mif\u001b[39;00m \u001b[39mnot\u001b[39;00m \u001b[39mself\u001b[39m\u001b[39m.\u001b[39m_disable_render_order_enforcing \u001b[39mand\u001b[39;00m \u001b[39mnot\u001b[39;00m \u001b[39mself\u001b[39m\u001b[39m.\u001b[39m_has_reset:\n\u001b[0;32m     66\u001b[0m     \u001b[39mraise\u001b[39;00m ResetNeeded(\n\u001b[0;32m     67\u001b[0m         \u001b[39m\"\u001b[39m\u001b[39mCannot call `env.render()` before calling `env.reset()`, if this is a intended action, \u001b[39m\u001b[39m\"\u001b[39m\n\u001b[0;32m     68\u001b[0m         \u001b[39m\"\u001b[39m\u001b[39mset `disable_render_order_enforcing=True` on the OrderEnforcer wrapper.\u001b[39m\u001b[39m\"\u001b[39m\n\u001b[0;32m     69\u001b[0m     )\n\u001b[1;32m---> 70\u001b[0m \u001b[39mreturn\u001b[39;00m \u001b[39mself\u001b[39m\u001b[39m.\u001b[39menv\u001b[39m.\u001b[39mrender(\u001b[39m*\u001b[39margs, \u001b[39m*\u001b[39m\u001b[39m*\u001b[39mkwargs)\n",
      "File \u001b[1;32mc:\\Python3.10.4\\lib\\site-packages\\gymnasium\\wrappers\\env_checker.py:65\u001b[0m, in \u001b[0;36mPassiveEnvChecker.render\u001b[1;34m(self, *args, **kwargs)\u001b[0m\n\u001b[0;32m     63\u001b[0m     \u001b[39mreturn\u001b[39;00m env_render_passive_checker(\u001b[39mself\u001b[39m\u001b[39m.\u001b[39menv, \u001b[39m*\u001b[39margs, \u001b[39m*\u001b[39m\u001b[39m*\u001b[39mkwargs)\n\u001b[0;32m     64\u001b[0m \u001b[39melse\u001b[39;00m:\n\u001b[1;32m---> 65\u001b[0m     \u001b[39mreturn\u001b[39;00m \u001b[39mself\u001b[39m\u001b[39m.\u001b[39menv\u001b[39m.\u001b[39mrender(\u001b[39m*\u001b[39margs, \u001b[39m*\u001b[39m\u001b[39m*\u001b[39mkwargs)\n",
      "File \u001b[1;32mc:\\Python3.10.4\\lib\\site-packages\\gymnasium\\envs\\box2d\\lunar_lander.py:787\u001b[0m, in \u001b[0;36mLunarLander.render\u001b[1;34m(self)\u001b[0m\n\u001b[0;32m    785\u001b[0m     \u001b[39mself\u001b[39m\u001b[39m.\u001b[39mscreen\u001b[39m.\u001b[39mblit(\u001b[39mself\u001b[39m\u001b[39m.\u001b[39msurf, (\u001b[39m0\u001b[39m, \u001b[39m0\u001b[39m))\n\u001b[0;32m    786\u001b[0m     pygame\u001b[39m.\u001b[39mevent\u001b[39m.\u001b[39mpump()\n\u001b[1;32m--> 787\u001b[0m     \u001b[39mself\u001b[39;49m\u001b[39m.\u001b[39;49mclock\u001b[39m.\u001b[39;49mtick(\u001b[39mself\u001b[39;49m\u001b[39m.\u001b[39;49mmetadata[\u001b[39m\"\u001b[39;49m\u001b[39mrender_fps\u001b[39;49m\u001b[39m\"\u001b[39;49m])\n\u001b[0;32m    788\u001b[0m     pygame\u001b[39m.\u001b[39mdisplay\u001b[39m.\u001b[39mflip()\n\u001b[0;32m    789\u001b[0m \u001b[39melif\u001b[39;00m \u001b[39mself\u001b[39m\u001b[39m.\u001b[39mrender_mode \u001b[39m==\u001b[39m \u001b[39m\"\u001b[39m\u001b[39mrgb_array\u001b[39m\u001b[39m\"\u001b[39m:\n",
      "\u001b[1;31mKeyboardInterrupt\u001b[0m: "
     ]
    }
   ],
   "source": [
    "while not is_done:\n",
    "    action = policy.select_action(state)\n",
    "    \n",
    "    state, reward, done, truncated, info = env.step(action)\n",
    "    # print(reward, is_done)\n",
    "    screen = env.render()\n",
    "env.close()"
   ]
  },
  {
   "cell_type": "code",
   "execution_count": null,
   "metadata": {},
   "outputs": [],
   "source": []
  }
 ],
 "metadata": {
  "kernelspec": {
   "display_name": "Python 3",
   "language": "python",
   "name": "python3"
  },
  "language_info": {
   "codemirror_mode": {
    "name": "ipython",
    "version": 3
   },
   "file_extension": ".py",
   "mimetype": "text/x-python",
   "name": "python",
   "nbconvert_exporter": "python",
   "pygments_lexer": "ipython3",
   "version": "3.10.4"
  },
  "orig_nbformat": 4
 },
 "nbformat": 4,
 "nbformat_minor": 2
}
