{
 "cells": [
  {
   "cell_type": "markdown",
   "metadata": {},
   "source": [
    "# RTML Final, 2023\n",
    "\n",
    "Welcome to the midterm exam, version 2023!\n",
    "\n",
    "Prepare your answer to each question, writing your answers directly in this notebook, print as PDF, and turn in via Google Classroom by the deadline.\n",
    "\n",
    "You may use any online resource including ChatGPT (!), but you may not talk/chat/discuss with any live human being.\n",
    "\n",
    "You have 2.5 hours to complete the exam. Good luck!"
   ]
  },
  {
   "cell_type": "markdown",
   "metadata": {},
   "source": [
    "## Question 1 (25 points)\n",
    "\n",
    "Using a ResNet50 model pretrained on ImageNet, obtain the top 5 classes for the following image.\n",
    "\n",
    "<img src=\"boat.png\">\n",
    "\n",
    "Optional hints:\n",
    "1. Use the torchvision implementation of ResNet50.\n",
    "2. Normalize the RGB values of the image using the ImageNet means (0.485, 0.456, 0.406) and standard deviations (0.229, 0.224, 0.225), resize to 256, and center crop to 224x224.\n",
    "3. Run the image through the model, find the indices of the top 5 classes, and convert them to class labels using the [list of ImageNet clsses](https://deeplearning.cms.waikato.ac.nz/user-guide/class-maps/IMAGENET/)."
   ]
  },
  {
   "cell_type": "code",
   "execution_count": 1,
   "metadata": {},
   "outputs": [],
   "source": [
    "# Place your code here"
   ]
  },
  {
   "cell_type": "markdown",
   "metadata": {},
   "source": [
    "*List the top 5 classes according to the model here.*"
   ]
  },
  {
   "cell_type": "markdown",
   "metadata": {},
   "source": [
    "## Question 2 (25 points)\n",
    "\n",
    "Obtain instance segmentation masks for the image in Question 1 using pretrained Mask R-CNN and YOLACT models."
   ]
  },
  {
   "cell_type": "code",
   "execution_count": 2,
   "metadata": {},
   "outputs": [],
   "source": [
    "# Place your code here"
   ]
  },
  {
   "cell_type": "markdown",
   "metadata": {},
   "source": [
    "*Display separate masks overlaid on the original image for Mask R-CNN and YOLACT here.*"
   ]
  },
  {
   "cell_type": "markdown",
   "metadata": {},
   "source": [
    "## Question 3 (25 points)\n",
    "\n",
    "Design an ordinary GAN in which the generator models an \"annulus\" distribution in $\\mathbb{R}^2$. Recall that an annulus distribution has a uniform distribution\n",
    "over angles around the circle and a radius that is Gaussian with a mean $\\mu$ such as 1.0 and standard deviation $\\sigma$ such as 0.1. You may use a\n",
    "\n",
    "Train the GAN and demonstrate that the final generator models the target annulus distribution."
   ]
  },
  {
   "cell_type": "code",
   "execution_count": 4,
   "metadata": {},
   "outputs": [],
   "source": [
    "# Place your code here"
   ]
  },
  {
   "cell_type": "markdown",
   "metadata": {},
   "source": [
    "*Plot results here*"
   ]
  },
  {
   "cell_type": "markdown",
   "metadata": {},
   "source": [
    "## Question 4 (25 points)\n",
    "\n",
    "Use the Parzen window idea over the training set (with window size determined using a validation set) to rate the likelihood of your model's parameters.\n",
    "Plot model likelihood as a function of training epoch for the training you performed in Question 3."
   ]
  },
  {
   "cell_type": "code",
   "execution_count": 5,
   "metadata": {},
   "outputs": [],
   "source": [
    "# Place your code here"
   ]
  },
  {
   "cell_type": "markdown",
   "metadata": {},
   "source": [
    "*Plot results here*"
   ]
  },
  {
   "cell_type": "code",
   "execution_count": null,
   "metadata": {},
   "outputs": [],
   "source": []
  }
 ],
 "metadata": {
  "kernelspec": {
   "display_name": "Python 3 (ipykernel)",
   "language": "python",
   "name": "python3"
  },
  "language_info": {
   "codemirror_mode": {
    "name": "ipython",
    "version": 3
   },
   "file_extension": ".py",
   "mimetype": "text/x-python",
   "name": "python",
   "nbconvert_exporter": "python",
   "pygments_lexer": "ipython3",
   "version": "3.10.6"
  }
 },
 "nbformat": 4,
 "nbformat_minor": 4
}
