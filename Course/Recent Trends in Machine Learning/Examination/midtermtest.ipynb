{
 "cells": [
  {
   "cell_type": "code",
   "execution_count": 1,
   "metadata": {},
   "outputs": [],
   "source": [
    "import torch\n",
    "from torch import nn, optim\n",
    "from torch.autograd.variable import Variable\n",
    "from torchvision import transforms, datasets\n",
    "%matplotlib inline  \n",
    "import matplotlib.pyplot as plt\n",
    "import numpy as np\n",
    "import time\n",
    "\n",
    "N_Z_PARAMS = 8\n",
    "\n",
    "def noise(size):\n",
    "    # Generates a 1-d vector of gaussian sampled random values\n",
    "    n = Variable(torch.randn(size, N_Z_PARAMS))\n",
    "    return n\n",
    "\n",
    "def pdata_sample(size):\n",
    "    mean = np.array([2, 3])\n",
    "    cov = np.array([[4, -3], [-3, 9]])\n",
    "    return np.random.multivariate_normal(mean, cov, size)\n",
    "\n",
    "def plot_data(fig, ax, X1, X2, labels):\n",
    "    plt.title('Sample')\n",
    "    ax.plot(X1[:,0], X1[:,1], 'ro', label=labels[0])\n",
    "    ax.plot(X2[:,0], X2[:,1], 'bo', label=labels[1])\n",
    "    ax.axis('equal')\n",
    "    ax.legend()"
   ]
  },
  {
   "cell_type": "code",
   "execution_count": 3,
   "metadata": {},
   "outputs": [
    {
     "name": "stdout",
     "output_type": "stream",
     "text": [
      "(100, 2)\n",
      "torch.Size([100, 8])\n"
     ]
    }
   ],
   "source": [
    "num_test_samples = 100\n",
    "test_data_real = pdata_sample(num_test_samples)\n",
    "test_noise = noise(num_test_samples)\n",
    "print(test_data_real.shape)\n",
    "print(test_noise.shape)"
   ]
  },
  {
   "cell_type": "code",
   "execution_count": null,
   "metadata": {},
   "outputs": [],
   "source": []
  }
 ],
 "metadata": {
  "kernelspec": {
   "display_name": "Python 3",
   "language": "python",
   "name": "python3"
  },
  "language_info": {
   "codemirror_mode": {
    "name": "ipython",
    "version": 3
   },
   "file_extension": ".py",
   "mimetype": "text/x-python",
   "name": "python",
   "nbconvert_exporter": "python",
   "pygments_lexer": "ipython3",
   "version": "3.10.4 (tags/v3.10.4:9d38120, Mar 23 2022, 23:13:41) [MSC v.1929 64 bit (AMD64)]"
  },
  "orig_nbformat": 2,
  "vscode": {
   "interpreter": {
    "hash": "c81d839d3c4227cd770621df97fe8191838af02e7eef185a922d8250cb33d344"
   }
  }
 },
 "nbformat": 4,
 "nbformat_minor": 2
}
