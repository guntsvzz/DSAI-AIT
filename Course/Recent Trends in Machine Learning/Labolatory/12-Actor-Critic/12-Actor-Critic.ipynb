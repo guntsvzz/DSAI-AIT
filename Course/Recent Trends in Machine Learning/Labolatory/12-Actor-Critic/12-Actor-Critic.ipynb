{
 "cells": [
  {
   "cell_type": "markdown",
   "metadata": {},
   "source": [
    "# Lab 12: Gym installation and Actor Critic\n",
    "\n",
    "Today we'll explore deep reinforcement learning with policy gradient\n",
    "and actor-critic approaches.\n",
    "Here are some of the references used in today's lab:\n",
    "\n",
    "- https://gym.openai.com\n",
    "- Deep Reinforcement Learning Hands-On (Packtpub)\n",
    "- https://github.com/pytorch/examples/blob/main/reinforcement_learning/reinforce.py\n",
    "- https://towardsdatascience.com/breaking-down-richard-suttons-policy-gradient-9768602cb63b\n",
    "- https://towardsdatascience.com/learning-reinforcement-learning-reinforce-with-pytorch-5e8ad7fc7da0\n",
    "- https://github.com/woithook/A2C-Pytorch-implementations"
   ]
  },
  {
   "cell_type": "markdown",
   "metadata": {},
   "source": [
    "## Reinforcement learning\n",
    "\n",
    "Reinforcement Learning (RL) is a branch of machine learning in which we set up an agent to learn in an interactive environment by trial and error using feedback on its actions and experiences. RL uses a reward (or punishment) function to signal \"good\" and \"bad\" behavior.\n",
    "\n",
    "The RL setting has two main components:\n",
    "1. Environment\n",
    "2. Agent\n",
    "\n",
    "Generally, at each step, \n",
    "1. The **agent** outputs an ***action***, which is input to the **environment**.\n",
    "2. The **environment** evolves according to its dynamics, changing to a ***new state***.\n",
    "3. The **agent** observes the ***new state*** of the **environment** and (optionally) obtains a ***reward***\n",
    "\n",
    "The process continues until hopefully the agent learns what behavior maximizes its reward.\n",
    "\n",
    "<img src=\"img/RL.jpg\" title=\"Introduction\" style=\"width: 600px;\" />"
   ]
  },
  {
   "cell_type": "markdown",
   "metadata": {},
   "source": [
    "Our goal is to create and design the agent to be as smart as possible. However, an agent cannot learn without an environment. So first we will install OpenAI's Gym library for creating benchmark RL agent environments."
   ]
  },
  {
   "cell_type": "markdown",
   "metadata": {},
   "source": [
    "## OpenAI Gym\n",
    "\n",
    "Many of the popular simulation environments for RL are build on OpenAI's Gym library.\n",
    "\n",
    "[OpenAI](https://openai.com) is a research company trying to develop systems exhibiting *artificial general intelligence* (AGI).\n",
    "They developed Gym to support the development of RL algorithms. Gym ships with many reinforcement learning simulations and tasks. Visit [the Gym website](https://gym.openai.com) for a full list of environments.\n",
    "\n",
    "<img src=\"img/RL_gym.PNG\" title=\"Gym example\" style=\"width: 600px;\" />"
   ]
  },
  {
   "cell_type": "markdown",
   "metadata": {},
   "source": [
    "## Install Environment in your PC\n",
    "\n",
    "***Note***: you can use *google colab*, if your computer does not support.\n",
    "\n",
    "***Note2***: No need to follow this instruction, if you can do it, show your result to me is fine.\n",
    "\n",
    "**System requirement**: Ubuntu (Linux), Nvidia GPU (optional, really, but you may cry when try to run more complex agent)\n",
    "    \n",
    "Things to install for desktop version:\n",
    "1. mujoco_py library\n",
    "2. OpenAI library: gym"
   ]
  },
  {
   "cell_type": "markdown",
   "metadata": {},
   "source": [
    "### Windows\n",
    "\n",
    "We haven't tested on Windows, unfortunately, but the following links should help:\n",
    "1. Install [OpenAI Gym](https://towardsdatascience.com/how-to-install-openai-gym-in-a-windows-environment-338969e24d30)\n",
    "2. Install [OpenAI Gym with Box2D and Mujoco](https://medium.com/@sayanmndl21/install-openai-gym-with-box2d-and-mujoco-in-windows-10-e25ee9b5c1d5)"
   ]
  },
  {
   "cell_type": "markdown",
   "metadata": {},
   "source": [
    "### Linux (your local PC)\n",
    "\n",
    "The steps to install Gym seem to be constantly changing. The following steps currently work on Ubuntu Linux 20.04:\n",
    "\n",
    "1. `sudo apt-get update ; sudo apt-get upgrade ; sudo apt-get install libglew-dev patchelf libosmesa6-dev libgl1-mesa-glx libglfw3 wget swig`\n",
    "2. `wget https://mujoco.org/download/mujoco210-linux-x86_64.tar.gz`\n",
    "3. `tar xvzf mujoco210-linux-x86_64.tar.gz`\n",
    "4. `mkdir -p ~/.mujoco ; mv mujoco210 ~/.mujoco/ ; rm mujoco210-linux-x86_64.tar.gz`\n",
    "5. `pip3 install gym`\n",
    "6. `pip3 install mujoco`\n",
    "7. Edit ~/.bashrc and add line `export LD_LIBRARY_PATH=$HOME/.mujoco/mujoco210/bin:/usr/lib/nvidia`\n",
    "8. `source ~/.bashrc`\n",
    "9. `python3`\n",
    "       >>> import mujoco\n",
    "       >>>\n",
    "10. `pip3 install gym pyvirtualdisplay`\n",
    "11. `pip3 install gym[atari,accept-rom-license]`\n",
    "12. `pip3 install gym[Robotics,classic_control]`\n",
    "13. `pip3 install gym-robotics`\n",
    "14. `pip3 install box2d-py`\n",
    "15. `pip3 install gym[Box_2D]`"
   ]
  },
  {
   "cell_type": "markdown",
   "metadata": {},
   "source": [
    "#### Alternative (if mujoco-py doesn't work)\n",
    "\n",
    "If the above method does not work, the `free-mujoco-py` library may work instead:\n",
    "1. `pip3 uninstall mujoco-py`\n",
    "2. `pip3 install free-mujoco-py`"
   ]
  },
  {
   "cell_type": "markdown",
   "metadata": {},
   "source": [
    "***Test it!***: After installing Gym as above, try this code.\n",
    "If there is any error, you should solve the problem or use the free Mujoco alternative above instead.\n",
    "This code will take a long time to compile libraries the first time you run it but should be fast after the first try."
   ]
  },
  {
   "cell_type": "code",
   "execution_count": null,
   "metadata": {},
   "outputs": [],
   "source": [
    "import gym\n",
    "import time\n",
    "\n",
    "env = gym.make(\"FetchPickAndPlace-v1\")\n",
    "env.reset()\n",
    "env.render()\n",
    "time.sleep(5)\n",
    "env.close()"
   ]
  },
  {
   "cell_type": "markdown",
   "metadata": {},
   "source": [
    "### Google Colab\n",
    "\n",
    "If you cannot setup on your own computer, you can use Google Colab to and train in this class. Unfortunately, you have to re-run the\n",
    "installation steps every time your environment shuts down (12 hours for the free version and 24 hours for the Pro version).\n",
    "\n",
    "You can access Google colab from this [colab](https://colab.research.google.com/). Sign in as your e-mail and it will ready to use."
   ]
  },
  {
   "cell_type": "markdown",
   "metadata": {},
   "source": [
    "Open a Google colab file and copy the code below:"
   ]
  },
  {
   "cell_type": "markdown",
   "metadata": {},
   "source": [
    "#### Step 1: Install xvfb & other dependencies"
   ]
  },
  {
   "cell_type": "code",
   "execution_count": null,
   "metadata": {},
   "outputs": [],
   "source": [
    "!apt-get install x11-utils > /dev/null 2>&1 \n",
    "!pip install pyglet > /dev/null 2>&1 \n",
    "!apt-get install -y xvfb python-opengl > /dev/null 2>&1"
   ]
  },
  {
   "cell_type": "markdown",
   "metadata": {},
   "source": [
    "#### Step 2: Install mujoco\n",
    "This step used for 3D simulators. Ex. Robots, and some control plants\n",
    "\n",
    "In some simulators, it does not require."
   ]
  },
  {
   "cell_type": "code",
   "execution_count": null,
   "metadata": {},
   "outputs": [],
   "source": [
    "# Include this at the top of your colab code\n",
    "\n",
    "import os\n",
    "\n",
    "if not os.path.exists('.mujoco_setup_complete'):\n",
    "    # Get the prereqs\n",
    "    !apt-get -qq update\n",
    "    !apt-get -qq install -y libosmesa6-dev libgl1-mesa-glx libglfw3 libgl1-mesa-dev libglew-dev patchelf\n",
    "    # Get Mujoco\n",
    "    !mkdir ~/.mujoco\n",
    "    !wget -q https://mujoco.org/download/mujoco210-linux-x86_64.tar.gz -O mujoco.tar.gz\n",
    "    !tar -zxf mujoco.tar.gz -C \"$HOME/.mujoco\"\n",
    "    !rm mujoco.tar.gz\n",
    "    # Add it to the actively loaded path and the bashrc path (these only do so much)\n",
    "    !echo 'export LD_LIBRARY_PATH=$LD_LIBRARY_PATH:$HOME/.mujoco/mujoco210/bin' >> ~/.bashrc \n",
    "    !echo 'export LD_PRELOAD=$LD_PRELOAD:/usr/lib/x86_64-linux-gnu/libGLEW.so' >> ~/.bashrc \n",
    "    # THE ANNOYING ONE, FORCE IT INTO LDCONFIG SO WE ACTUALLY GET ACCESS TO IT THIS SESSION\n",
    "    !echo \"/root/.mujoco/mujoco210/bin\" > /etc/ld.so.conf.d/mujoco_ld_lib_path.conf\n",
    "    !ldconfig\n",
    "    # Install Mujoco-py\n",
    "    !pip3 install -U 'mujoco-py<2.2,>=2.1'\n",
    "    # run once\n",
    "    !touch .mujoco_setup_complete\n",
    "\n",
    "try:\n",
    "    if _mujoco_run_once:\n",
    "        pass\n",
    "except NameError:\n",
    "    _mujoco_run_once = False\n",
    "    \n",
    "if not _mujoco_run_once:\n",
    "    # Add it to the actively loaded path and the bashrc path (these only do so much)\n",
    "    try:\n",
    "        os.environ['LD_LIBRARY_PATH']=os.environ['LD_LIBRARY_PATH'] + ':/root/.mujoco/mujoco210/bin'\n",
    "    except KeyError:\n",
    "        os.environ['LD_LIBRARY_PATH']='/root/.mujoco/mujoco210/bin'\n",
    "    try:\n",
    "        os.environ['LD_PRELOAD']=os.environ['LD_PRELOAD'] + ':/usr/lib/x86_64-linux-gnu/libGLEW.so'\n",
    "    except KeyError:\n",
    "        os.environ['LD_PRELOAD']='/usr/lib/x86_64-linux-gnu/libGLEW.so'\n",
    "    # presetup so we don't see output on first env initialization\n",
    "    import mujoco_py\n",
    "    _mujoco_run_once = True"
   ]
  },
  {
   "cell_type": "markdown",
   "metadata": {},
   "source": [
    "#### Step 3: Install pyvirtual display\n",
    "\n",
    "This allows you to show the simulation in Google Colab (and Jupyter notebooks)"
   ]
  },
  {
   "cell_type": "code",
   "execution_count": null,
   "metadata": {},
   "outputs": [],
   "source": [
    "!pip install gym pyvirtualdisplay > /dev/null 2>&1\n",
    "!pip install -U gym>=0.21.0\n",
    "!pip install -U gym[atari,accept-rom-license]\n",
    "!pip install -U gym[Robotics,classic_control]"
   ]
  },
  {
   "cell_type": "markdown",
   "metadata": {},
   "source": [
    "From begin of March 2022, the installation has been changed (again!)\n",
    "\n",
    "You need to install gym-robotics."
   ]
  },
  {
   "cell_type": "code",
   "execution_count": null,
   "metadata": {},
   "outputs": [],
   "source": [
    "!pip install gym-robotics"
   ]
  },
  {
   "cell_type": "markdown",
   "metadata": {},
   "source": [
    "And also, there are somethings change (Ex: LunarLander), you may need to install box2D"
   ]
  },
  {
   "cell_type": "code",
   "execution_count": null,
   "metadata": {},
   "outputs": [],
   "source": [
    "!pip3 install box2d-py\n",
    "!pip3 install gym[Box_2D]"
   ]
  },
  {
   "cell_type": "markdown",
   "metadata": {},
   "source": [
    "You can see the example and test in colab from the [link](https://colab.research.google.com/drive/1WonMpHUG_0MO8jedG7ePmoGOo-JVPS7r?usp=sharing)"
   ]
  },
  {
   "cell_type": "markdown",
   "metadata": {},
   "source": [
    "## Test your environment\n",
    "\n",
    "After you finish installation, use the code below to check that your installation is correct.\n",
    "\n",
    "For a local installation, it's simple:"
   ]
  },
  {
   "cell_type": "code",
   "execution_count": null,
   "metadata": {},
   "outputs": [],
   "source": [
    "import gym\n",
    "\n",
    "# env = gym.make(\"CartPole-v0\")\n",
    "# env = gym.make(\"DoubleDunk-v0\")\n",
    "# env = gym.make(\"SpaceInvaders-v0\")\n",
    "# env = gym.make(\"Acrobot-v1\") # double invert pendulum\n",
    "# env = gym.make(\"Ant-v2\")\n",
    "\n",
    "env = gym.make(\"FetchPickAndPlace-v1\")\n",
    "env.reset()\n",
    "\n",
    "for i in range(200):\n",
    "    action = env.action_space.sample()\n",
    "    obs, reward, done, info = env.step(action)\n",
    "    screen = env.render()\n",
    "    if done:\n",
    "        break\n",
    "\n",
    "env.close()"
   ]
  },
  {
   "cell_type": "markdown",
   "metadata": {},
   "source": [
    "For Jupyter / Colab, we need matplotlib and ipythondisplay:"
   ]
  },
  {
   "cell_type": "code",
   "execution_count": null,
   "metadata": {},
   "outputs": [],
   "source": [
    "import gym\n",
    "import numpy as np\n",
    "import matplotlib.pyplot as plt\n",
    "from IPython import display as ipythondisplay"
   ]
  },
  {
   "cell_type": "markdown",
   "metadata": {},
   "source": [
    "For Jupyter notebooks or running on a remote server, you need to create a virtual display and initializing your screen size. This example uses a 400x300 virtual display."
   ]
  },
  {
   "cell_type": "code",
   "execution_count": null,
   "metadata": {},
   "outputs": [],
   "source": [
    "from pyvirtualdisplay import Display\n",
    "display = Display(visible=0, size=(400, 300))\n",
    "display.start()"
   ]
  },
  {
   "cell_type": "markdown",
   "metadata": {},
   "source": [
    "For Jupyter, we can \n",
    "use gym's `rgb_array` rendering functionality, render to a \"Screen\" variable, then plot the screen variable using Matplotlib,\n",
    "indirectly using Ipython display. If you have a local Python installation, you can skip the `rgb_array` and Matplotlib code."
   ]
  },
  {
   "cell_type": "code",
   "execution_count": null,
   "metadata": {},
   "outputs": [],
   "source": [
    "# env = gym.make(\"CartPole-v0\")\n",
    "# env = gym.make(\"DoubleDunk-v0\")\n",
    "# env = gym.make(\"SpaceInvaders-v0\")\n",
    "# env = gym.make(\"Acrobot-v1\") # double invert pendulum\n",
    "# env = gym.make(\"Ant-v2\")\n",
    "env = gym.make(\"FetchPickAndPlace-v1\")\n",
    "env.reset()\n",
    "prev_screen = env.render(mode='rgb_array')\n",
    "plt.imshow(prev_screen)\n",
    "\n",
    "for i in range(20):\n",
    "    action = env.action_space.sample()\n",
    "    obs, reward, done, info = env.step(action)\n",
    "    screen = env.render(mode='rgb_array')\n",
    "\n",
    "    plt.imshow(screen)\n",
    "    ipythondisplay.clear_output(wait=True)\n",
    "    ipythondisplay.display(plt.gcf())\n",
    "\n",
    "    if done:\n",
    "        break\n",
    "\n",
    "ipythondisplay.clear_output(wait=True)\n",
    "env.close()"
   ]
  },
  {
   "cell_type": "markdown",
   "metadata": {},
   "source": [
    "### Save simulator video\n",
    "\n",
    "The virtual display is very slow. For a long run, we should save a video and see the result later.\n",
    "In versions 0.22 and lower, Gym has a `Monitor` class that can be used to record videos. In version 0.23\n",
    "and above, the wrapper is called `RecordVideo`."
   ]
  },
  {
   "cell_type": "code",
   "execution_count": null,
   "metadata": {},
   "outputs": [],
   "source": [
    "import os\n",
    "import gym\n",
    "from gym.wrappers import RecordVideo\n",
    "\n",
    "vdo_path = 'video_rl/'\n",
    "if not os.path.exists(vdo_path):\n",
    "    os.mkdir(vdo_path)\n",
    "\n",
    "# env = gym.make(\"CartPole-v0\")\n",
    "# env = gym.make(\"DoubleDunk-v0\")\n",
    "# env = gym.make(\"SpaceInvaders-v0\")\n",
    "# env = gym.make(\"Acrobot-v1\") # double invert pendulum\n",
    "# env = gym.make(\"Ant-v2\")\n",
    "\n",
    "env = RecordVideo(gym.make('Ant-v3'), vdo_path)\n",
    "env.reset()\n",
    "\n",
    "for i in range(500):\n",
    "    action = env.action_space.sample()\n",
    "    obs, reward, done, info = env.step(action)\n",
    "    screen = env.render()\n",
    "    if done:\n",
    "        break\n",
    "\n",
    "env.close()"
   ]
  },
  {
   "cell_type": "markdown",
   "metadata": {},
   "source": [
    "You should get a video in the `video_rl` directory.\n",
    "\n",
    "<video controls src=\"img/openai_test2.mp4\" />"
   ]
  },
  {
   "cell_type": "markdown",
   "metadata": {},
   "source": [
    "## Policy Gradient and Actor-Critic methods\n",
    "\n",
    "We've already looked at Q-learning and other TD methods for reinforcement learning. These methods estimate a\n",
    "value function, then their policy is just to select the action maximizing the value in the current state.\n",
    "\n",
    "As an alternative, today we'll look at a class of RL algorithms called Policy Gradient (PG) methods.\n",
    "Instead of learning the value function then finding the value maximizing the value,\n",
    "PG methods learn the policy directly by increasing or decreasing the probability of a particular selected action in proportion to\n",
    "some measure of that action's value.\n",
    "\n",
    "The REINFORCE algorithm is a simple PG method that obtains state-action value function measurements $Q$\n",
    "alongside policy decisions and utilizes\n",
    "the $Q$ value of a state action pair to decide how much to increase or decrease the probability of a particular action in that state.\n",
    "\n",
    "Since REINFORCE has one model for the policy $\\pi$ and only uses actual rewards to calculate $Q$ values,\n",
    "it's not quite an Actor-Critic method. However, since it does directly\n",
    "optimizes the policy function using its gradient with respect to its parameters, it's a PG method.\n"
   ]
  },
  {
   "cell_type": "markdown",
   "metadata": {},
   "source": [
    "## REINFORCE\n",
    "\n",
    "The policy gradient loss function in REINFORCE is \n",
    "$$\\mathcal{L}=-Q(s,a)\\log \\pi(a|s)$$\n",
    "\n",
    "Without $Q$, minimizing this loss would be equivalent to maximizing the probability of taking action $a$ in state $s$.\n",
    "With $Q$, we're increasing the probability of action $a$ in proportion to $Q(s,a)$, the critic's estimate of how valuable\n",
    "action $a$ is in state $s$. If $Q(s,a)$ is small, we'll only increase the probability of taking action $a$ slightly, and if it's\n",
    "negative, we'll *decrease* the probability of taking action $a$.\n",
    "\n",
    "The steps of REINFORCE are as follows.\n",
    "\n",
    "1. Initialize the network with random weights\n",
    "2. Play $N$ full episodes, saving their $(s, a, r, s’)$ transitions\n",
    "3. For every step $t$ of every episode $k$, calculate the discounted total reward for subsequent steps $Q_{k,t}=\\sum_{i=0}\\gamma^i r_i$\n",
    "4. Calculate the loss function for all transitions $\\mathcal{L}=-\\sum_{k,t}Q_{k,t}\\log (\\pi(s_{k,t},a_{k,t}))$\n",
    "5. Perform SGD update of weights of $\\pi$ to minimize $\\mathcal{L}$\n",
    "6. Repeat from step 2 until converged\n",
    "\n",
    "REINFORCE is different from Q-learning in several important aspects:\n",
    "\n",
    "1. No explicit exploration is needed. In Q-learning, we use an $\\epsilon$-greedy strategy to explore the environment and prevent our agent from getting stuck with a non-optimal policy. Now, with action probabilities returned by the network, the exploration is performed automatically so long as there is a non-zero probability for every action. Since the network is initialized with random weights, in the beginning, the action will be approximately uniform, corresponding to random agent behavior.\n",
    "2. No replay buffer is used. PG methods are *on-policy* meaning we don’t train on data obtained from an old version of the policy. On policy methods are usually faster than off-policy methods in terms of the number of updates required, but they usually require much more interaction with the environment than off-policy methods such as DQN.\n",
    "3. No target network is needed. Here we use Q-values, but they’re obtained from our experience in the environment. In DQN, we used a target network to break correlations in Q-value approximation, but we’re not approximating it anymore. However, other PG methods do use a target network to estimate $Q$. These are called Actor-Critic methods."
   ]
  },
  {
   "cell_type": "markdown",
   "metadata": {},
   "source": [
    "## CartPole example"
   ]
  },
  {
   "cell_type": "code",
   "execution_count": 2,
   "metadata": {},
   "outputs": [
    {
     "name": "stdout",
     "output_type": "stream",
     "text": [
      "video_rl/ existed, do nothing\n"
     ]
    }
   ],
   "source": [
    "import numpy as np\n",
    "import matplotlib.pyplot as plt\n",
    "import gym\n",
    "import sys\n",
    "\n",
    "import torch\n",
    "from torch import nn\n",
    "import torch.nn.functional as F\n",
    "from torch import optim\n",
    "from torch.distributions import Categorical\n",
    "\n",
    "from IPython import display as ipythondisplay\n",
    "\n",
    "from pyvirtualdisplay import Display\n",
    "display = Display(visible=0, size=(400, 300))\n",
    "display.start()\n",
    "\n",
    "import os\n",
    "from gym.wrappers import RecordVideo\n",
    "\n",
    "vdo_path = 'video_rl/'\n",
    "if not os.path.exists(vdo_path):\n",
    "    os.mkdir(vdo_path)\n"
   ]
  },
  {
   "cell_type": "code",
   "execution_count": 3,
   "metadata": {},
   "outputs": [],
   "source": [
    "gamma = 0.95\n",
    "seed = 0\n",
    "render = False\n",
    "log_interval = 10"
   ]
  },
  {
   "cell_type": "code",
   "execution_count": 4,
   "metadata": {},
   "outputs": [
    {
     "data": {
      "text/plain": [
       "<torch._C.Generator at 0x7fe886abacf0>"
      ]
     },
     "execution_count": 4,
     "metadata": {},
     "output_type": "execute_result"
    }
   ],
   "source": [
    "env = gym.make(\"CartPole-v1\")\n",
    "env.reset(seed=seed)\n",
    "torch.manual_seed(seed)"
   ]
  },
  {
   "cell_type": "markdown",
   "metadata": {},
   "source": [
    "### Policies vs. Action Values\n",
    "\n",
    "The output of a DQN is going to be a vector of value estimates while the output of the policy gradient is going to be a probability distribution over actions.\n",
    "\n",
    "For example, a policy network and a DQN network that have learned the CartPole task with two actions (left and right). If we pass a state s to each, we might get the following from the DQN:\n",
    "\n",
    "$$\\pi_{DQN}(s) = [12.3, 23.9]$$\n",
    "\n",
    "and the policy gradient:\n",
    "\n",
    "$$\\pi_{PG}(s) = [0.28, 0.72]$$\n",
    "\n",
    "The DQN gives us estimates of the discounted future rewards of the state and we make our selection based on these values (typically taking the maximum value according to some epsilon-greedy rule). The policy gradient, on the other hand, gives us probabilities of our actions. The way we make our selection, in this case, is by choosing action 0 28% of the time and action 1 72% of the time. These probabilities will change as the network gains more experience.\n",
    "\n",
    "### Values to Probabilities\n",
    "\n",
    "To get these probabilities in PG method, we use a simple function called softmax at the output layer. The function is given below:\n",
    "\n",
    "\n",
    "$$\\sigma(x)_i= \\frac{e^{x_i}}{\\sum_{j=1}^k e^{x_j}}$$\n",
    "\n",
    "This squashes all of our values to be between 0 and 1, and ensures that all of the outputs sum to 1 ($\\sum \\sigma(x) = 1$). Because we’re using the exp(x) function to scale our values, the largest ones tend to dominate and get more of the probability assigned to them."
   ]
  },
  {
   "cell_type": "markdown",
   "metadata": {},
   "source": [
    "### Policy class\n",
    "\n",
    "We’re going to set up a simple class called <code>policy</code> that will contain our neural network. It’s going to have two hidden layers with a ReLU activation function and softmax output. We’ll also give it a method called predict that enables us to do a forward pass through the network."
   ]
  },
  {
   "cell_type": "code",
   "execution_count": 5,
   "metadata": {},
   "outputs": [],
   "source": [
    "class Policy(nn.Module):\n",
    "    def __init__(self, env):\n",
    "        super(Policy, self).__init__()\n",
    "        self.n_inputs = env.observation_space.shape[0]\n",
    "        self.n_outputs = env.action_space.n\n",
    "        \n",
    "        self.affine1 = nn.Linear(self.n_inputs, 128)\n",
    "        self.dropout = nn.Dropout(p=0.6)\n",
    "        self.affine2 = nn.Linear(128, self.n_outputs)\n",
    "\n",
    "        self.saved_log_probs = []\n",
    "        self.rewards = []\n",
    "\n",
    "    def forward(self, x):\n",
    "        x = self.affine1(x)\n",
    "        x = self.dropout(x)\n",
    "        x = F.relu(x)\n",
    "        action_scores = self.affine2(x)\n",
    "        return F.softmax(action_scores, dim=1)\n",
    "    \n",
    "    def select_action(self, state):\n",
    "        state = torch.from_numpy(state).float().unsqueeze(0)\n",
    "        probs = self.forward(state)\n",
    "        m = Categorical(probs)\n",
    "        action = m.sample()\n",
    "        self.saved_log_probs.append(m.log_prob(action))\n",
    "        return action.item()"
   ]
  },
  {
   "cell_type": "code",
   "execution_count": 6,
   "metadata": {},
   "outputs": [],
   "source": [
    "policy = Policy(env)\n",
    "optimizer = optim.Adam(policy.parameters(), lr=1e-2)\n",
    "eps = np.finfo(np.float32).eps.item()"
   ]
  },
  {
   "cell_type": "markdown",
   "metadata": {},
   "source": [
    "The other thing we need is our discounting function to discount future rewards based on the discount factor $\\gamma$ we use."
   ]
  },
  {
   "cell_type": "code",
   "execution_count": 7,
   "metadata": {},
   "outputs": [],
   "source": [
    "def finish_episode():\n",
    "    R = 0\n",
    "    policy_loss = []\n",
    "    returns = []\n",
    "    for r in policy.rewards[::-1]:\n",
    "        R = r + gamma * R\n",
    "        returns.insert(0, R)\n",
    "    returns = torch.tensor(returns)\n",
    "    returns = (returns - returns.mean()) / (returns.std() + eps)\n",
    "    for log_prob, R in zip(policy.saved_log_probs, returns):\n",
    "        policy_loss.append(-log_prob * R)\n",
    "    optimizer.zero_grad()\n",
    "    policy_loss = torch.cat(policy_loss).sum()\n",
    "    policy_loss.backward()\n",
    "    optimizer.step()\n",
    "    del policy.rewards[:]\n",
    "    del policy.saved_log_probs[:]"
   ]
  },
  {
   "cell_type": "markdown",
   "metadata": {},
   "source": [
    "One thing I’ve done here that’s a bit non-standard is subtract the mean of the rewards at the end. This helps to stabilize the learning, particularly in cases such as this one where all the rewards are positive because the gradients change more with negative or below-average rewards than they would if the rewards weren’t normalized like this.\n",
    "\n",
    "Now for the REINFORCE algorithm itself."
   ]
  },
  {
   "cell_type": "code",
   "execution_count": 8,
   "metadata": {},
   "outputs": [],
   "source": [
    "from itertools import count\n",
    "def reinforce():\n",
    "    running_reward = 10\n",
    "    for i_episode in count(1):\n",
    "        state, ep_reward = env.reset(), 0\n",
    "        for t in range(1, 10000):  # Don't infinite loop while learning\n",
    "            action = policy.select_action(state)\n",
    "            state, reward, done, _ = env.step(action)\n",
    "            if render:\n",
    "                env.render()\n",
    "            policy.rewards.append(reward)\n",
    "            ep_reward += reward\n",
    "            if done:\n",
    "                break\n",
    "\n",
    "        # calculate reward\n",
    "        # It accepts a list of rewards for the whole episode and needs to calculate \n",
    "        # the discounted total reward for every step. To do this efficiently,\n",
    "        # we calculate the reward from the end of the local reward list.\n",
    "        # The last step of the episode will have the total reward equal to its local reward.\n",
    "        # The step before the last will have the total reward of ep_reward + gamma * running_reward\n",
    "        running_reward = 0.05 * ep_reward + (1 - 0.05) * running_reward\n",
    "        finish_episode()\n",
    "        if i_episode % log_interval == 0:\n",
    "            print('Episode {}\\tLast reward: {:.2f}\\tAverage reward: {:.2f}'.format(\n",
    "                  i_episode, ep_reward, running_reward))\n",
    "        if running_reward > env.spec.reward_threshold:\n",
    "            print(\"Solved! Running reward is now {} and \"\n",
    "                  \"the last episode runs to {} time steps!\".format(running_reward, t))\n",
    "            break"
   ]
  },
  {
   "cell_type": "code",
   "execution_count": 9,
   "metadata": {},
   "outputs": [
    {
     "name": "stdout",
     "output_type": "stream",
     "text": [
      "Episode 10\tLast reward: 22.00\tAverage reward: 17.46\n",
      "Episode 20\tLast reward: 43.00\tAverage reward: 29.58\n",
      "Episode 30\tLast reward: 44.00\tAverage reward: 37.32\n",
      "Episode 40\tLast reward: 76.00\tAverage reward: 51.04\n",
      "Episode 50\tLast reward: 131.00\tAverage reward: 78.77\n",
      "Episode 60\tLast reward: 174.00\tAverage reward: 125.78\n",
      "Episode 70\tLast reward: 37.00\tAverage reward: 116.83\n",
      "Episode 80\tLast reward: 133.00\tAverage reward: 116.19\n",
      "Episode 90\tLast reward: 236.00\tAverage reward: 181.02\n",
      "Episode 100\tLast reward: 179.00\tAverage reward: 235.53\n",
      "Episode 110\tLast reward: 78.00\tAverage reward: 184.59\n",
      "Episode 120\tLast reward: 74.00\tAverage reward: 138.73\n",
      "Episode 130\tLast reward: 387.00\tAverage reward: 163.54\n",
      "Episode 140\tLast reward: 178.00\tAverage reward: 257.02\n",
      "Episode 150\tLast reward: 500.00\tAverage reward: 335.32\n",
      "Episode 160\tLast reward: 306.00\tAverage reward: 349.12\n",
      "Episode 170\tLast reward: 500.00\tAverage reward: 345.62\n",
      "Episode 180\tLast reward: 500.00\tAverage reward: 374.02\n",
      "Episode 190\tLast reward: 239.00\tAverage reward: 357.80\n",
      "Episode 200\tLast reward: 158.00\tAverage reward: 296.96\n",
      "Episode 210\tLast reward: 230.00\tAverage reward: 248.40\n",
      "Episode 220\tLast reward: 292.00\tAverage reward: 222.24\n",
      "Episode 230\tLast reward: 216.00\tAverage reward: 220.33\n",
      "Episode 240\tLast reward: 181.00\tAverage reward: 216.99\n",
      "Episode 250\tLast reward: 173.00\tAverage reward: 198.41\n",
      "Episode 260\tLast reward: 147.00\tAverage reward: 190.08\n",
      "Episode 270\tLast reward: 187.00\tAverage reward: 178.19\n",
      "Episode 280\tLast reward: 500.00\tAverage reward: 229.17\n",
      "Episode 290\tLast reward: 500.00\tAverage reward: 333.00\n",
      "Episode 300\tLast reward: 500.00\tAverage reward: 349.00\n",
      "Episode 310\tLast reward: 225.00\tAverage reward: 330.39\n",
      "Episode 320\tLast reward: 207.00\tAverage reward: 301.73\n",
      "Episode 330\tLast reward: 326.00\tAverage reward: 312.91\n",
      "Episode 340\tLast reward: 355.00\tAverage reward: 362.05\n",
      "Episode 350\tLast reward: 322.00\tAverage reward: 346.84\n",
      "Episode 360\tLast reward: 500.00\tAverage reward: 363.66\n",
      "Episode 370\tLast reward: 500.00\tAverage reward: 414.74\n",
      "Episode 380\tLast reward: 500.00\tAverage reward: 443.37\n",
      "Episode 390\tLast reward: 500.00\tAverage reward: 440.09\n",
      "Episode 400\tLast reward: 141.00\tAverage reward: 446.15\n",
      "Episode 410\tLast reward: 500.00\tAverage reward: 467.76\n",
      "Solved! Running reward is now 475.0503553554182 and the last episode runs to 500 time steps!\n"
     ]
    }
   ],
   "source": [
    "reinforce()\n",
    "env.close()"
   ]
  },
  {
   "cell_type": "code",
   "execution_count": null,
   "metadata": {},
   "outputs": [],
   "source": [
    "env = RecordVideo(gym.make(\"CartPole-v1\"), vdo_path)\n",
    "is_done = False\n",
    "state = env.reset()\n",
    "while not is_done:\n",
    "    action = policy.select_action(state)\n",
    "    \n",
    "    state, reward, is_done, info = env.step(action)\n",
    "    # print(reward, is_done)\n",
    "    screen = env.render(mode='rgb_array')\n",
    "env.close()"
   ]
  },
  {
   "cell_type": "markdown",
   "metadata": {},
   "source": [
    "**Note**: Despite the fact our network returns probabilities, we’re not applying softmax nonlinearity to the output. The reason behind this is that we’ll use the PyTorch log_softmax function to calculate the logarithm of the softmax output at once. This way of calculation is much more numerically stable, but we need to remember that output from the network is not probability, but raw scores (usually called logits)."
   ]
  },
  {
   "cell_type": "markdown",
   "metadata": {},
   "source": [
    "### Policy-based versus value-based methods\n",
    "\n",
    "Let’s now step back from the code we’ve just seen and talk about the differences that both the families of methods have:\n",
    "\n",
    "- Policy methods are directly optimizing what we care about: our behavior. The value methods such as DQN are doing the same indirectly, learning the value first and providing to us policy based on this value.\n",
    "- Policy methods are on-policy and require fresh samples from the environment. The value methods can benefit from old data, obtained from the old policy, human demonstration, and other sources.\n",
    "- Policy methods are usually less sample-efficient, which means they require more interaction with the environment. The value methods can benefit from the large replay buffers. However, sample efficiency doesn’t mean that value methods are more computationally efficient and very often it’s the opposite. In the above example, during the training, we need to access our NN only once, to get the probabilities of actions. In DQN, we need to process two batch of states: one for the current state and another for the next state in the Bellman update.\n",
    "\n",
    "### REINFORCE issues\n",
    "\n",
    "1. Full episodes are required\n",
    "\n",
    "The origin of the complete episodes requirement is to get as accurate a Q estimation as possible. When we talked about DQN, we saw that in practice, it’s fine to replace the exact value for a discounted reward with our estimation using the one-step Bellman equation $Q(s,a)=r_a+\\gamma V(s')$. To estimate V(s), we’ve used our own Q-estimation, but in the case of PG, we don’t have $V(s)$ or $Q(s, a)$ anymore.\n",
    "\n",
    "$$Q(s,a)=r_a+\\gamma V(s')$$\n",
    "\n",
    "To overcome this, two approaches exist. On the one hand, we can ask our network to estimate $V(s)$ and use this estimation to obtain $Q$.\n",
    "This approach is called the **Actor-Critic method**, which is the most popular method from the PG family.\n",
    "\n",
    "2. High gradients variance\n",
    "\n",
    "In the PG formula $\\nabla J \\approx \\mathbb{E}[Q(s,a)\\nabla \\log \\pi(a|s)]$, we have a gradient proportional to the discounted reward from the given state. However, the range of this reward is heavily environment-dependent. Such a large difference can seriously affect our training dynamics, as one lucky episode will dominate in the final gradient.\n",
    "\n",
    "In mathematical terms, our PGs have high variance and we need to do something about this in complex environments, otherwise, the training process can become unstable. The usual approach to handle this is subtracting a value called baseline from the Q. The possible choices of the baseline are as follows:\n",
    "\n",
    "2.1. Some constant value, which normally is the mean of the discounted rewards\n",
    "\n",
    "2.2. The moving average of the discounted rewards\n",
    "\n",
    "2.3. Value of the state $V(s)$\n",
    "\n",
    "3. Exploration\n",
    "\n",
    "Even with the policy represented as probability distribution, there is a high chance that the agent will converge to some locally-optimal policy and stop exploring the environment. In DQN, we solved this using epsilon-greedy action selection: with probability epsilon, the agent took some random action instead of the action dictated by the current policy. We can use the same approach, of course, but PG allows us to follow a better path, called the entropy bonus.\n",
    "\n",
    "4. Correlation between samples\n",
    "\n",
    "In Deep Q-Networks, training samples in one single episode are usually heavily correlated, which is bad for SGD training. In the case of DQN, we solved this issue by having a large replay buffer with 100k-1M observations that we sampled our training batch from. This solution is not applicable to the PG family anymore, due to the fact that those methods belong to the on-policy class. The implication is simple: using old samples generated by the old policy, we’ll get PG for that old policy, not for our current one.\n",
    "\n",
    "The obvious, but, unfortunately wrong solution would be to reduce the replay buffer size. It might work in some simple cases, but in general, we need fresh training data generated by our current policy. To solve this, parallel environments are normally used. The idea is simple: instead of communicating with one environment, we use several and use their transitions as training data."
   ]
  },
  {
   "cell_type": "markdown",
   "metadata": {},
   "source": [
    "## Policy Gradient (PG)\n",
    "\n",
    "Before we can implement the policy gradient algorithm, we should go over specific math involved with the algorithm.\n",
    "\n",
    "1. Define **tau** to be a trajectory or a sequence of actions and the corresponding rewards obtained by executing these actions.\n",
    "\n",
    "$$\\tau = (a_0,r_0,a_1,r_1,\\cdots)$$\n",
    "\n",
    "Then define a function of the rewards to be a discounted or undiscounted (for episodic tasks) sum of trajectory’s rewards. In practice, we will find that even for episodic tasks, it is more beneficial to use discounted sum of rewards, defined as follows:\n",
    "\n",
    "$$R(\\tau)=\\sum_{t=0}^T \\gamma^t r_t$$\n",
    "\n",
    "2. Define performance measure J as an expected value of some function of the rewards that came from the most recent batch of trajectories (obtained under the current policy execution).\n",
    "\n",
    "$$J(\\pi) = \\mathbb{E}_{\\tau \\sim \\pi}[R(\\tau)]$$\n",
    "\n",
    "Let’s investigate the performance measure a little closer. By the definition of expectation, we obtain:\n",
    "\n",
    "$$\\mathbb{E}_{\\tau \\sim \\pi}[R(\\tau)] = \\int_T R(\\tau)P(\\tau|\\pi)d\\tau$$\n",
    "\n",
    "It is essential to understand that we would like to use the gradient of the performance measure to optimize our policy (agent). Hence, we obtain the following:\n",
    "\n",
    "$$\\nabla_\\Theta J(\\pi) = \\nabla_\\Theta \\mathbb{E}_{\\tau \\sim \\pi}[R(\\tau)] =  \\int_T R(\\tau)\\nabla_\\Theta P(\\tau|\\pi)d\\tau$$\n",
    "\n",
    "Now, there is an excellent trick or the log-derivative trick that comes from the following identity:\n",
    "\n",
    "$$\\frac{\\partial \\log (x)}{\\partial x} = \\frac{1}{x} => \\partial x = x\\partial \\log(x)$$\n",
    "\n",
    "We can use this trick to replace the gradient of the probability of the trajectory with the product of the probability and gradient of the log-probability of the trajectory, or:\n",
    "\n",
    "$$\\int_T R(\\tau)\\nabla_\\Theta P(\\tau|\\pi)d\\tau = \\int_T R(\\tau)\\nabla_\\Theta \\log P(\\tau|\\pi)d\\tau$$\n",
    "\n",
    "If we look closely at the right-hand side, we can notice that it is an expectation itself:\n",
    "\n",
    "$$\\int_T R(\\tau)\\nabla_\\Theta \\log P(\\tau|\\pi)d\\tau = \\mathbb{E}_{\\tau \\sim \\pi}[\\nabla_\\Theta \\log P(\\tau|\\pi)R(\\tau)]$$\n",
    "\n",
    "But what is the log-probability of the trajectory? It turns out that we can use the chain rule to define the probability over the trajectory:\n",
    "\n",
    "$$P(\\tau|\\pi) = \\rho(s_0) \\prod_{t=0}^{T-1}P(s_{t+1}|s_t,a_t)\\pi(a_t|s_t) $$\n",
    "\n",
    "Note that Chain rule can be used to define the probability distribution over the trajectory space.\n",
    "\n",
    "Intuitively this chain rule makes a lot of sense. We sample the initial state from some initial state distribution. Then, as our actions are stochastic, we choose an action with some probability over the action space, which is our policy. Finally, the transition model is stochastic too; hence, we multiply by the probability of transitioning from the previous state to the next state. We continue this process until we reach the end of the episode.\n",
    "\n",
    "Now, let us look into the log-probability distribution over the trajectory space:\n",
    "\n",
    "$$\\log P(\\tau|\\pi) = \\log \\rho(s_0)+\\sum_{t=0}^{T-1}\\log P(s_{t+1}|s_t,a_t)+ \\log \\pi(a_t|s_t)$$\n",
    "\n",
    "Let us calculate the gradient of the log-probability over the trajectory space with respect to the parameters of the policy:\n",
    "\n",
    "$$\\nabla_\\Theta \\log P(\\tau|\\pi) = \\nabla_\\Theta \\log \\rho(s_0) + \\sum_{t=0}^{T-1} \\nabla_\\Theta \\log P(s_{t+1}|s_t,a_t) + \\nabla_\\Theta \\log \\pi(a_t|s_t) = \\nabla \\log \\pi(a_t|s_t)$$\n",
    "\n",
    "We see that only the policy probability distribution depends on the policy parameters. Hence, the rest of the terms evaluate to zero. Finally, we can put all of the math together to obtain:\n",
    "\n",
    "$$\\nabla_\\Theta J(\\pi)= \\mathbb{E}_{\\tau \\sim \\pi}[\\nabla \\log \\pi(a_t|s_t) R(\\tau)]$$\n",
    "\n",
    "Now, since the gradient of the performance measure is an expectation, we can estimate it with sampling, which is extremely easy. We will generate several trajectories under the current policy (as the policy gradient is an on-policy algorithm) and then will calculate the mean of the weighted (by R(tau)) log-probabilities that we obtain from the agent (policy)."
   ]
  },
  {
   "cell_type": "markdown",
   "metadata": {},
   "source": [
    "### Rewards\n",
    "\n",
    "Instead of the sum of the discounted rewards, we are going to use the sum of the discounted rewards from the time t to the end of the episode. These are called rewards-to-go and are used more frequently in policy gradient methods as the actions that are committed after time t should not have any effect on the rewards that were obtained before these actions happened.\n",
    "\n",
    "$$R_(\\tau) = \\sum_{t'=t}^{T-1}\\gamma^t r_t$$\n",
    "\n",
    "### Entropy Bonus\n",
    "\n",
    "In the code, we will also use an entropy bonus to discourage strict certainty. The idea is relatively simple: we subtract the entropy of the policy from the “loss” during the policy optimization. If the agent is overly confident in its actions, then the entropy of the policy becomes small, and the bonus vanishes. The entropy of the policy is a recurrent theme in reinforcement learning and is used in other algorithms such as Soft Actor-Critic.\n",
    "\n",
    "### Baseline\n",
    "We also are going to use a baseline. A baseline is a quantity that gets subtracted from R(tau) without affecting the expectation because, typically, the baseline is a state-specific quantity. We will use a state-specific mean of the trajectory’s rewards as a baseline.\n",
    "\n",
    "The baseline reduces variance in the policy gradient estimation. Intuitively, it makes a lot of sense, especially in the case of the CartPole problem. Suppose that our agent can balance the pole for 2 seconds. Is that good or bad? If, on average, the agent balanced the pole for 1 second before this episode, then yes, it is much better performance. The policy gradient will be estimated to be positive in this case, and the agent will take a step in the direction of further improvement.\n",
    "\n",
    "However, if the agent on average balanced the pole for 3 seconds before the episode, the policy gradient will be estimated to be negative, and we will still make the step in the right direction, away from the parameters that made the agent balance the pole for 2 seconds. If we don’t use the baseline, both 1 second and 3 seconds and 10 seconds episode will result in similar gradient directions; hence, training might take much longer.\n",
    "It is important to note that for more complicated problems such as LunarLander, the baseline is less intuitive as we have both negative and positive rewards, and the scale of the rewards is different."
   ]
  },
  {
   "cell_type": "markdown",
   "metadata": {},
   "source": [
    "## PG on CartPole"
   ]
  },
  {
   "cell_type": "code",
   "execution_count": 11,
   "metadata": {},
   "outputs": [],
   "source": [
    "import torch\n",
    "import gym\n",
    "from collections import namedtuple\n",
    "\n",
    "\n",
    "class PolicyNet(torch.nn.Module):\n",
    "    def __init__(self, input_size, output_size, hidden_layer_size=64):\n",
    "        super(PolicyNet, self).__init__()\n",
    "        self.fc1 = torch.nn.Linear(input_size, hidden_layer_size)\n",
    "        self.fc2 = torch.nn.Linear(hidden_layer_size, output_size)\n",
    "        self.softmax = torch.nn.Softmax(dim=0)\n",
    "\n",
    "    def forward(self, x):\n",
    "        x = torch.from_numpy(x).float()\n",
    "        return self.softmax(self.fc2(torch.nn.functional.relu(self.fc1(x))))\n",
    "\n",
    "    def get_action_and_logp(self, x):\n",
    "        action_prob = self.forward(x)\n",
    "        m = torch.distributions.Categorical(action_prob)\n",
    "        action = m.sample()\n",
    "        logp = m.log_prob(action)\n",
    "        return action.item(), logp\n",
    "\n",
    "    def act(self, x):\n",
    "        action, _ = self.get_action_and_logp(x)\n",
    "        return action\n",
    "\n",
    "\n",
    "class ValueNet(torch.nn.Module):\n",
    "    def __init__(self, input_size, hidden_layer_size=64):\n",
    "        super(ValueNet, self).__init__()\n",
    "        self.fc1 = torch.nn.Linear(input_size, hidden_layer_size)\n",
    "        self.fc2 = torch.nn.Linear(hidden_layer_size, 1)\n",
    "\n",
    "    def forward(self, x):\n",
    "        x = torch.from_numpy(x).float()\n",
    "        return self.fc2(torch.nn.functional.relu(self.fc1(x)))\n",
    "\n",
    "\n",
    "def vpg(env, num_iter=200, num_traj=10, max_num_steps=1000, gamma=0.98,\n",
    "        policy_learning_rate=0.01, value_learning_rate=0.01,\n",
    "        policy_saved_path='vpg_policy.pt', value_saved_path='vpg_value.pt'):\n",
    "    input_size = env.observation_space.shape[0]\n",
    "    output_size = env.action_space.n\n",
    "    Trajectory = namedtuple('Trajectory', 'states actions rewards dones logp')\n",
    "\n",
    "    def collect_trajectory():\n",
    "        state_list = []\n",
    "        action_list = []\n",
    "        reward_list = []\n",
    "        dones_list = []\n",
    "        logp_list = []\n",
    "        state = env.reset()\n",
    "        done = False\n",
    "        steps = 0\n",
    "        while not done and steps <= max_num_steps:\n",
    "            action, logp = policy.get_action_and_logp(state)\n",
    "            newstate, reward, done, _ = env.step(action)\n",
    "            #reward = reward + float(state[0])\n",
    "            state_list.append(state)\n",
    "            action_list.append(action)\n",
    "            reward_list.append(reward)\n",
    "            dones_list.append(done)\n",
    "            logp_list.append(logp)\n",
    "            steps += 1\n",
    "            state = newstate\n",
    "\n",
    "        traj = Trajectory(states=state_list, actions=action_list,\n",
    "                          rewards=reward_list, logp=logp_list, dones=dones_list)\n",
    "        return traj\n",
    "\n",
    "    def calc_returns(rewards):\n",
    "        dis_rewards = [gamma**i * r for i, r in enumerate(rewards)]\n",
    "        return [sum(dis_rewards[i:]) for i in range(len(dis_rewards))]\n",
    "\n",
    "    policy = PolicyNet(input_size, output_size)\n",
    "    value = ValueNet(input_size)\n",
    "    policy_optimizer = torch.optim.Adam(\n",
    "        policy.parameters(), lr=policy_learning_rate)\n",
    "    value_optimizer = torch.optim.Adam(\n",
    "        value.parameters(), lr=value_learning_rate)\n",
    "\n",
    "    mean_return_list = []\n",
    "    for it in range(num_iter):\n",
    "        traj_list = [collect_trajectory() for _ in range(num_traj)]\n",
    "        returns = [calc_returns(traj.rewards) for traj in traj_list]\n",
    "\n",
    "        policy_loss_terms = [-1. * traj.logp[j] * (returns[i][j] - value(traj.states[j]))\n",
    "                             for i, traj in enumerate(traj_list) for j in range(len(traj.actions))]\n",
    "\n",
    "        policy_loss = 1. / num_traj * torch.cat(policy_loss_terms).sum()\n",
    "        policy_optimizer.zero_grad()\n",
    "        policy_loss.backward()\n",
    "        policy_optimizer.step()\n",
    "\n",
    "        value_loss_terms = [1. / len(traj.actions) * (value(traj.states[j]) - returns[i][j])**2.\n",
    "                            for i, traj in enumerate(traj_list) for j in range(len(traj.actions))]\n",
    "        value_loss = 1. / num_traj * torch.cat(value_loss_terms).sum()\n",
    "        value_optimizer.zero_grad()\n",
    "        value_loss.backward()\n",
    "        value_optimizer.step()\n",
    "\n",
    "        mean_return = 1. / num_traj * \\\n",
    "            sum([traj_returns[0] for traj_returns in returns])\n",
    "        mean_return_list.append(mean_return)\n",
    "        if it % 10 == 0:\n",
    "            print('Iteration {}: Mean Return = {}'.format(it, mean_return))\n",
    "            torch.save(policy.state_dict(), policy_saved_path)\n",
    "            torch.save(value.state_dict(), value_saved_path)\n",
    "    return policy, mean_return_list"
   ]
  },
  {
   "cell_type": "code",
   "execution_count": 13,
   "metadata": {},
   "outputs": [
    {
     "name": "stdout",
     "output_type": "stream",
     "text": [
      "video_rl2/ existed, do nothing\n",
      "Iteration 0: Mean Return = 27.8\n",
      "Iteration 10: Mean Return = 42.2\n",
      "Iteration 20: Mean Return = 73.4\n",
      "Iteration 30: Mean Return = 87.60000000000001\n",
      "Iteration 40: Mean Return = 162.4\n",
      "Iteration 50: Mean Return = 142.8\n",
      "Iteration 60: Mean Return = 119.0\n",
      "Iteration 70: Mean Return = 179.4\n",
      "Iteration 80: Mean Return = 200.0\n",
      "Iteration 90: Mean Return = 200.0\n",
      "Iteration 100: Mean Return = 180.4\n",
      "Iteration 110: Mean Return = 189.60000000000002\n",
      "Iteration 120: Mean Return = 200.0\n",
      "Iteration 130: Mean Return = 200.0\n",
      "Iteration 140: Mean Return = 200.0\n",
      "Iteration 150: Mean Return = 200.0\n",
      "Iteration 160: Mean Return = 200.0\n",
      "Iteration 170: Mean Return = 200.0\n",
      "Iteration 180: Mean Return = 200.0\n",
      "Iteration 190: Mean Return = 200.0\n"
     ]
    },
    {
     "data": {
      "image/png": "[encoded data removed]",
      "text/plain": [
       "<Figure size 432x288 with 1 Axes>"
      ]
     },
     "metadata": {
      "needs_background": "light"
     },
     "output_type": "display_data"
    }
   ],
   "source": [
    "import gym\n",
    "import matplotlib.pyplot as plt\n",
    "\n",
    "vdo_path = 'video_rl2/'\n",
    "if not os.path.exists(vdo_path):\n",
    "    print(\"No folder \", vdo_path, 'exist. Create the folder')\n",
    "    os.mkdir(vdo_path)\n",
    "    print(\"Create directory finished\")\n",
    "else:\n",
    "    print(vdo_path, 'existed, do nothing')\n",
    "\n",
    "env = gym.make('CartPole-v1')\n",
    "\n",
    "agent, mean_return_list = vpg(env, num_iter=200, max_num_steps=500, gamma=1.0,\n",
    "                              num_traj=5)\n",
    "\n",
    "env = RecordVideo(gym.make(\"CartPole-v1\"), vdo_path, force=True)\n",
    "\n",
    "plt.plot(mean_return_list)\n",
    "plt.xlabel('Iteration')\n",
    "plt.ylabel('Mean Return')\n",
    "plt.savefig('vpg_returns.png', format='png', dpi=300)\n",
    "\n",
    "state = env.reset()\n",
    "for t in range(1000):\n",
    "    action = agent.act(state)\n",
    "    env.render()\n",
    "    state, reward, done, _ = env.step(action)\n",
    "    if done:\n",
    "        break\n",
    "env.close()"
   ]
  },
  {
   "cell_type": "markdown",
   "metadata": {},
   "source": [
    "# Actor-Critic\n",
    "\n",
    "The next step in reducing the variance is making our baseline state-dependent (which, intuitively, is a good idea, as different states could have very different baselines). Indeed, to decide about the suitability of a particular action in some state, we're using the discounted total reward of the action. However, the total reward itself could be represented as a value of the state plus advantage of the action: $Q(s, a) = V(s) + A(s, a)$.\n",
    "\n",
    "So, why can't we use $V(s)$ as a baseline? In that case, the scale of our gradient will be just advantage $A(s, a)$, showing how this taken action is better in respect to the average state's value. In fact, we can do this, and it is a very good idea for improving the PG method. The only problem here is: we don't know the value of the $V(s)$ state to subtract it from the discounted total reward $Q(s, a)$. To solve this, let's use another neural network, which will approximate V(s) for every observation. To train it, we can exploit the same training procedure we used in DQN methods: we'll carry out the Bellman step and then minimize the mean square error to improve $V(s)$ approximation.\n",
    "\n",
    "When we know the value for any state (or, at least, have some approximation of it), we can use it to calculate the PG and update our policy network to increase probabilities for actions with good advantage values and decrease the chance of actions with bad advantage. The policy network (which returns probability distribution of actions) is called the actor, as it tells us what to do. Another network is called critic, as it allows us to understand how good our actions were. Below is an illustration of the architecture.\n",
    "\n",
    "<img src=\"img/ActorCritic2.png\" title=\"The A2C architecture\" style=\"width: 400px;\" />\n",
    "\n",
    "In practice, policy and value networks partially overlap, mostly due to the efficiency and convergence considerations. In this case, policy and value are implemented as different heads of the network, taking the output from the common body and transforming it into the probability distribution and a single number representing the value of the state. This helps both networks to share low-level features (such as convolution filters in the Atari agent), but combine them in a different way. This architecture is shown below.\n",
    "\n",
    "<img src=\"img/ActorCritic3.png\" title=\"A2C architecture with a shared network body\" style=\"width: 400px;\" />"
   ]
  },
  {
   "cell_type": "markdown",
   "metadata": {},
   "source": [
    "### Actor-Critic steps\n",
    "\n",
    "From a training point of view, we complete these steps:\n",
    "\n",
    "1. Initialize network parameters $\\theta$ with random values\n",
    "2. Play N steps in the environment using the current policy $\\pi_\\theta$, saving state $s_t$, action $a_t$, reward $r_t$\n",
    "3. R = 0 if the end of the episode is reached or \n",
    "4. For $i=t-1,\\cdots,t_{start}$ (note that steps are processed backwards):\n",
    "    - $R\\leftarrow r_i + \\gamma R$\n",
    "    - Accumulate the PG $\\partial \\theta_\\pi \\leftarrow \\partial \\theta_\\pi + \\nabla_\\theta \\log \\pi_\\theta(a_i|s_i)(R-V\\theta(s_i))$\n",
    "    - Accxumulate the value gradients $\\partial \\theta_v \\leftarrow \\partial_v + \\frac{\\partial(R-V_\\theta (s_i))^2}{\\partial \\theta_v}$\n",
    "5. Update network parameters using the accumulated gradients, moving in the direction of PG $\\theta_\\pi$ and in the opposite direction of the value gradients $\\partial \\theta_v$\n",
    "6. Repeat from step 2 until convergence is reached\n",
    "\n",
    "The preceding algorithm is an outline, similar to those which are usually printed in research papers. In practice, some considerations need to be taken:\n",
    "\n",
    " - Entropy bonus is usually added to improve exploration. It's typically written as an entropy value added to the loss function:$\\mathcal{L}_H = \\beta \\sum_i \\pi_\\theta (s_i) \\log \\pi_\\theta(s_i)$. This function has a minimum when probability distribution is uniform, so by adding it to the loss function, we're pushing our agent away from being too certain about its actions.\n",
    " - Gradients accumulation is usually implemented as a loss function combining all three components: policy loss, value loss, and entropy loss. You should be careful with signs of these losses, as PGs? are showing you the direction of policy improvement, but both value and entropy losses should be minimized.\n",
    " - To improve stability, it's worth using several environments, providing you with observations concurrently (when we have multiple environments and our training batch will be created from their observations). We'll look at several ways of doing this in the next chapter.\n",
    " \n",
    "The preceding method is called Actor-Critic, or sometimes Advantage Actor-Critic, which is abbreviated as A2C for short. The version with several environments running in parallel is called Advantage Asynchronous Actor-Critic, which is also known as A3C."
   ]
  },
  {
   "cell_type": "markdown",
   "metadata": {},
   "source": [
    "## Basic CartPole A2C"
   ]
  },
  {
   "cell_type": "code",
   "execution_count": 14,
   "metadata": {},
   "outputs": [],
   "source": [
    "import torch\n",
    "import torch.nn as nn\n",
    "import torch.nn.functional as F\n",
    "import matplotlib.pyplot as plt\n",
    "import numpy as np\n",
    "import math\n",
    "import random\n",
    "import os\n",
    "import gym"
   ]
  },
  {
   "cell_type": "code",
   "execution_count": 15,
   "metadata": {},
   "outputs": [],
   "source": [
    "# Hyper Parameters\n",
    "STATE_DIM = 4\n",
    "ACTION_DIM = 2\n",
    "STEP = 2000\n",
    "SAMPLE_NUMS = 30"
   ]
  },
  {
   "cell_type": "code",
   "execution_count": 16,
   "metadata": {},
   "outputs": [],
   "source": [
    "class ActorNetwork(nn.Module):\n",
    "\n",
    "    def __init__(self,input_size,hidden_size,action_size):\n",
    "        super(ActorNetwork, self).__init__()\n",
    "        self.fc1 = nn.Linear(input_size,hidden_size)\n",
    "        self.fc2 = nn.Linear(hidden_size,hidden_size)\n",
    "        self.fc3 = nn.Linear(hidden_size,action_size)\n",
    "\n",
    "    def forward(self,x):\n",
    "        out = F.relu(self.fc1(x))\n",
    "        out = F.relu(self.fc2(out))\n",
    "        out = F.log_softmax(self.fc3(out))\n",
    "        return out"
   ]
  },
  {
   "cell_type": "code",
   "execution_count": 17,
   "metadata": {},
   "outputs": [],
   "source": [
    "class ValueNetwork(nn.Module):\n",
    "\n",
    "    def __init__(self,input_size,hidden_size,output_size):\n",
    "        super(ValueNetwork, self).__init__()\n",
    "        self.fc1 = nn.Linear(input_size,hidden_size)\n",
    "        self.fc2 = nn.Linear(hidden_size,hidden_size)\n",
    "        self.fc3 = nn.Linear(hidden_size,output_size)\n",
    "\n",
    "    def forward(self,x):\n",
    "        out = F.relu(self.fc1(x))\n",
    "        out = F.relu(self.fc2(out))\n",
    "        out = self.fc3(out)\n",
    "        return out"
   ]
  },
  {
   "cell_type": "code",
   "execution_count": 18,
   "metadata": {},
   "outputs": [],
   "source": [
    "def roll_out(actor_network,task,sample_nums,value_network,init_state):\n",
    "    #task.reset()\n",
    "    states = []\n",
    "    actions = []\n",
    "    rewards = []\n",
    "    is_done = False\n",
    "    final_r = 0\n",
    "    state = init_state\n",
    "\n",
    "    for j in range(sample_nums):\n",
    "        states.append(state)\n",
    "        log_softmax_action = actor_network(torch.Tensor([state]))\n",
    "        softmax_action = torch.exp(log_softmax_action)\n",
    "        action = np.random.choice(ACTION_DIM,p=softmax_action.cpu().data.numpy()[0])\n",
    "        one_hot_action = [int(k == action) for k in range(ACTION_DIM)]\n",
    "        next_state,reward,done,_ = task.step(action)\n",
    "        #fix_reward = -10 if done else 1\n",
    "        actions.append(one_hot_action)\n",
    "        rewards.append(reward)\n",
    "        final_state = next_state\n",
    "        state = next_state\n",
    "        if done:\n",
    "            is_done = True\n",
    "            state = task.reset()\n",
    "            break\n",
    "    if not is_done:\n",
    "        final_r = value_network(torch.Tensor([final_state])).cpu().data.numpy()\n",
    "\n",
    "    return states,actions,rewards,final_r,state"
   ]
  },
  {
   "cell_type": "code",
   "execution_count": 19,
   "metadata": {},
   "outputs": [],
   "source": [
    "def discount_reward(r, gamma,final_r):\n",
    "    discounted_r = np.zeros_like(r)\n",
    "    running_add = final_r\n",
    "    for t in reversed(range(0, len(r))):\n",
    "        running_add = running_add * gamma + r[t]\n",
    "        discounted_r[t] = running_add\n",
    "    return discounted_r"
   ]
  },
  {
   "cell_type": "code",
   "execution_count": 22,
   "metadata": {},
   "outputs": [],
   "source": [
    "def A2C():\n",
    "    # init a task generator for data fetching\n",
    "    task = gym.make(\"CartPole-v1\")\n",
    "    init_state = task.reset()\n",
    "\n",
    "    # init value network\n",
    "    value_network = ValueNetwork(input_size = STATE_DIM,hidden_size = 40,output_size = 1)\n",
    "    value_network_optim = torch.optim.Adam(value_network.parameters(),lr=0.01)\n",
    "\n",
    "    # init actor network\n",
    "    actor_network = ActorNetwork(STATE_DIM,40,ACTION_DIM)\n",
    "    actor_network_optim = torch.optim.Adam(actor_network.parameters(),lr = 0.01)\n",
    "\n",
    "    steps =[]\n",
    "    task_episodes =[]\n",
    "    test_results =[]\n",
    "\n",
    "    for step in range(STEP):\n",
    "        states,actions,rewards,final_r,current_state = roll_out(actor_network,task,SAMPLE_NUMS,value_network,init_state)\n",
    "        init_state = current_state\n",
    "        actions_var = torch.Tensor(actions).view(-1,ACTION_DIM)\n",
    "        states_var = torch.Tensor(states).view(-1,STATE_DIM)\n",
    "\n",
    "        # train actor network\n",
    "        actor_network_optim.zero_grad()\n",
    "        log_softmax_actions = actor_network(states_var)\n",
    "        vs = value_network(states_var).detach()\n",
    "        # calculate qs\n",
    "        qs = torch.Tensor(discount_reward(rewards,0.99,final_r))\n",
    "\n",
    "        advantages = qs - vs\n",
    "        actor_network_loss = - torch.mean(torch.sum(log_softmax_actions*actions_var,1)* advantages)\n",
    "        actor_network_loss.backward()\n",
    "        torch.nn.utils.clip_grad_norm(actor_network.parameters(),0.5)\n",
    "        actor_network_optim.step()\n",
    "\n",
    "        # train value network\n",
    "        value_network_optim.zero_grad()\n",
    "        target_values = qs.unsqueeze(1)\n",
    "        values = value_network(states_var)\n",
    "        criterion = nn.MSELoss()\n",
    "        value_network_loss = criterion(values,target_values)\n",
    "        value_network_loss.backward()\n",
    "        torch.nn.utils.clip_grad_norm(value_network.parameters(),0.5)\n",
    "        value_network_optim.step()\n",
    "\n",
    "        # Testing\n",
    "        if (step + 1) % 50== 0:\n",
    "                result = 0\n",
    "                test_task = gym.make(\"CartPole-v1\")\n",
    "                for test_epi in range(10):\n",
    "                    state = test_task.reset()\n",
    "                    for test_step in range(200):\n",
    "                        softmax_action = torch.exp(actor_network(torch.Tensor([state])))\n",
    "                        #print(softmax_action.data)\n",
    "                        action = np.argmax(softmax_action.data.numpy()[0])\n",
    "                        next_state,reward,done,_ = test_task.step(action)\n",
    "                        result += reward\n",
    "                        state = next_state\n",
    "                        if done:\n",
    "                            break\n",
    "                print(\"step:\",step+1,\"test result:\",result/10.0)\n",
    "                steps.append(step+1)\n",
    "                test_results.append(result/10)\n",
    "                \n",
    "    return actor_network"
   ]
  },
  {
   "cell_type": "code",
   "execution_count": null,
   "metadata": {},
   "outputs": [],
   "source": [
    "actor_network = A2C()"
   ]
  },
  {
   "cell_type": "code",
   "execution_count": null,
   "metadata": {},
   "outputs": [],
   "source": [
    "vdo_path = 'video_rl3/'\n",
    "if not os.path.exists(vdo_path):\n",
    "    os.mkdir(vdo_path)\n",
    "\n",
    "env = RecordVideo(gym.make(\"CartPole-v1\"), vdo_path)\n",
    "\n",
    "state = env.reset()\n",
    "for t in range(1000):\n",
    "    softmax_action = torch.exp(actor_network(torch.Tensor([state])))\n",
    "    #print(softmax_action.data)\n",
    "    action = np.argmax(softmax_action.data.numpy()[0])\n",
    "    env.render()\n",
    "    state, reward, done, _ = env.step(action)\n",
    "    if done:\n",
    "        break\n",
    "env.close()"
   ]
  },
  {
   "cell_type": "markdown",
   "metadata": {},
   "source": [
    "### Take-home exercise\n",
    "\n",
    "Implement REINFORCE and A2C for one of the Atari games such as Space Invaders using a CNN for the policy\n",
    "network and (for A2C) the value network.\n"
   ]
  },
  {
   "cell_type": "code",
   "execution_count": null,
   "metadata": {},
   "outputs": [],
   "source": []
  }
 ],
 "metadata": {
  "kernelspec": {
   "display_name": "Python 3",
   "language": "python",
   "name": "python3"
  },
  "language_info": {
   "codemirror_mode": {
    "name": "ipython",
    "version": 3
   },
   "file_extension": ".py",
   "mimetype": "text/x-python",
   "name": "python",
   "nbconvert_exporter": "python",
   "pygments_lexer": "ipython3",
   "version": "3.8.10"
  }
 },
 "nbformat": 4,
 "nbformat_minor": 4
}
