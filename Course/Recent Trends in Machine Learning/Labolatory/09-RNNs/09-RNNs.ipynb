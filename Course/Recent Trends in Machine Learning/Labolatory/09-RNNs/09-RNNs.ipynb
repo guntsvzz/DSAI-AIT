{
 "cells": [
  {
   "cell_type": "markdown",
   "metadata": {},
   "source": [
    "# Lab 09: RNNs\n",
    "\n",
    "Some references for the materials used for this lab:\n",
    "- https://stanford.edu/~shervine/teaching/cs-230/cheatsheet-recurrent-neural-networks\n",
    "- https://www.simplilearn.com/tutorials/deep-learning-tutorial/rnn\n",
    "\n",
    "Today we'll do some preliminary investigation of simple RNNs similar to the form of Figure 10.3 in Goodfellow et al. (the Elman network).\n"
   ]
  },
  {
   "cell_type": "markdown",
   "metadata": {},
   "source": [
    "## Recurrent neural networks (RNNs)\n",
    "\n",
    "**Recurrent neural networks** or **RNNs** are a class of neural networks that build up hidden state over time, using previous inputs, previous outputs, and/or previous hidden states to be used as inputs to the calculation at the current point in time. RNNs work on the principle of saving the output of a particular layer and feeding this back to the network as an input.\n",
    "\n",
    "This diagram gives the idea of one of the simplest types of recurrent networks, the Elman network:\n",
    "\n",
    "<img src=\"img/rnns_unfold2.PNG\" title=\"RNNs\" style=\"width: 600px;\" />\n",
    "\n",
    "Mathematically, for each timestep $t$, the activation $a^{(t)}$ and the output $y^{(t)}$ are expressed as\n",
    "$$\\begin{eqnarray} a^{(t)} & = & g_1(W_{aa}a^{(t-1)}+W_{ax}x^{(t)} + b_a) \\\\\n",
    "y^{(t)} & = & g_2(W_{ya}a^{(t)} + b_y), \\end{eqnarray}$$\n",
    "\n",
    "where $W_{ax}, W_{aa}, W_{ya}, b_a, b_y$ are coefficients that are shared temporally and $g_1, g_2$ are activation functions.\n",
    "\n",
    "Advantages and disadvantages of RNNs:\n",
    "\n",
    "| Advantages                                              | Disadvantages                                          |\n",
    "|:--------------------------------------------------------|:-------------------------------------------------------|\n",
    "| Possibility of processing input of any length           | Slow sequential computation                            |\n",
    "| Model size fixed regardless of input length             | Difficult to preserve information from a long time ago |\n",
    "| Computation accumulates historical information          | Current state cannot be conditioned on future input    |\n",
    "| Weight sharing across time gives statistical efficiency |                                                        |\n",
    "\n",
    "### Applications of RNNs\n",
    "\n",
    "RNN models are mostly used in the fields of natural language processing and speech recognition. Each type of RNN is applicable to different situations.\n",
    "Some typical RNNs:\n",
    "\n",
    "<img src=\"img/rnns_example2.png\" title=\"RNNs\" style=\"width: 800px;\" />\n",
    "\n",
    "Here are some example applications of these different types of models:\n",
    "\n",
    "| RNN Type | Example Application|\n",
    "|:--|:--|\n",
    "| One-to-One                  | Control                  |\n",
    "| One-to-Many                 | Music generation         |\n",
    "| Many-to-One                 | Sentiment classification |\n",
    "| Many-to-Many $T_x \\neq T_y$ | Machine translation      |\n",
    "| Many-to-Many $T_x = T_y$    | Name entity recognition  |"
   ]
  },
  {
   "cell_type": "markdown",
   "metadata": {},
   "source": [
    "### Loss function and back propagation\n",
    "\n",
    "In the case of a recurrent neural network, the loss function $\\mathcal{L}$ over all time steps is defined based on the loss at each time step:\n",
    "\n",
    "$$\\mathcal{L}(\\hat{y}, y) = \\sum_{t=1}^{T_y}\\mathcal{L}(\\hat{y}^{(t)}, y^{(t)})$$\n",
    "\n",
    "The backpropagation calculation can therefore be broken up into individual time-synchronized calculations.\n",
    "At timestep $t$, the derivative of the loss $\\mathcal{L}$ with respect to weight matrix $W$ is\n",
    "\n",
    "$$\\frac{\\partial\\mathcal{L}^{(t)}}{\\partial W} = \\sum_{t=1}^T \\frac{\\partial\\mathcal{L}^{(t)}}{\\partial W} |_{(t)}$$\n",
    "\n",
    "### Popular activation functions\n",
    "\n",
    "The most common activation functions:\n",
    "\n",
    "- Sigmoid (Bernoulli output)\n",
    "- Softmax (multinomial output)\n",
    "- Tanh (hidden state)\n",
    "- ReLU (hidden states in deeper RNNs)"
   ]
  },
  {
   "cell_type": "markdown",
   "metadata": {},
   "source": [
    "## Predicting the language a surname comes from\n",
    "\n",
    "Let's begin with one of the official PyTorch tutorials on [classifying surnames from 18 languages based on the character sequence](https://pytorch.org/tutorials/intermediate/char_rnn_classification_tutorial.html).\n",
    "\n",
    "## Runtime environment\n",
    "\n",
    "For the runtime environment, we won't get much benefit from the GPU in today's lab, as the examples are not batched, and it's not easy to do so, since different words have different lengths. Since the GPU server isn't going to help us much, you may prefer to run locally using Jupyter.\n",
    "\n",
    "## Surnames dataset\n",
    "\n",
    "Get your Jupyter environment up and running, then download the dataset (https://download.pytorch.org/tutorial/data.zip) and unzip it in your project directory.\n",
    "\n",
    "Here's code directly from the tutorial to read the names into a dictionary of the form { language1: [name1, name2, ...], language2: ... }"
   ]
  },
  {
   "cell_type": "code",
   "execution_count": 1,
   "metadata": {},
   "outputs": [
    {
     "name": "stdout",
     "output_type": "stream",
     "text": [
      "['data/names/Greek.txt', 'data/names/Vietnamese.txt', 'data/names/Scottish.txt', 'data/names/English.txt', 'data/names/French.txt', 'data/names/Chinese.txt', 'data/names/Japanese.txt', 'data/names/Czech.txt', 'data/names/Irish.txt', 'data/names/Spanish.txt', 'data/names/German.txt', 'data/names/Arabic.txt', 'data/names/Polish.txt', 'data/names/Italian.txt', 'data/names/Portuguese.txt', 'data/names/Russian.txt', 'data/names/Dutch.txt', 'data/names/Korean.txt']\n"
     ]
    }
   ],
   "source": [
    "from __future__ import unicode_literals, print_function, division\n",
    "from io import open\n",
    "import glob\n",
    "import os\n",
    "import unicodedata\n",
    "import string\n",
    "\n",
    "def findFiles(path):\n",
    "    return glob.glob(path)\n",
    "\n",
    "print(findFiles('data/names/*.txt'))\n",
    "\n",
    "all_letters = string.ascii_letters + \" .,;'\"\n",
    "n_letters = len(all_letters)"
   ]
  },
  {
   "cell_type": "code",
   "execution_count": 2,
   "metadata": {},
   "outputs": [
    {
     "name": "stdout",
     "output_type": "stream",
     "text": [
      "Slusarski\n"
     ]
    }
   ],
   "source": [
    "# Turn a Unicode string to plain ASCII, thanks to https://stackoverflow.com/a/518232/2809427\n",
    "\n",
    "def unicodeToAscii(s):\n",
    "    return ''.join(\n",
    "        c for c in unicodedata.normalize('NFD', s)\n",
    "        if unicodedata.category(c) != 'Mn'\n",
    "        and c in all_letters\n",
    "    )\n",
    "\n",
    "print(unicodeToAscii('Ślusàrski'))"
   ]
  },
  {
   "cell_type": "code",
   "execution_count": 3,
   "metadata": {
    "tags": []
   },
   "outputs": [
    {
     "name": "stdout",
     "output_type": "stream",
     "text": [
      "Greek\n",
      "['Adamidis', 'Adamou', 'Agelakos', 'Akrivopoulos', 'Alexandropoulos', 'Anetakis', 'Angelopoulos', 'Antimisiaris', 'Antipas', 'Antonakos', 'Antoniadis', 'Antonopoulos', 'Antonopoulos', 'Antonopoulos', 'Arvanitoyannis', 'Avgerinos', 'Banos', 'Batsakis', 'Bekyros', 'Belesis', 'Bertsimas', 'Bilias', 'Blades', 'Bouloukos', 'Brisimitzakis', 'Bursinos', 'Calogerakis', 'Calpis', 'Chellos', 'Christakos', 'Christodoulou', 'Christou', 'Chrysanthopoulos', 'Chrysanthopoulos', 'Comino', 'Close', 'Close', 'Close', 'Close', 'Close', 'Close', 'Close', 'Close', 'Dalianis', 'Danas', 'Dasios', 'Demakis', 'Demarchis', 'Demas', 'Demetrious', 'Dertilis', 'Diakogeorgiou', 'Dioletis', 'Dounias', 'Dritsas', 'Drivakis', 'Eatros', 'Egonidis', 'Eliopoulos', 'Forakis', 'Fotopoulos', 'Fourakis', 'Frangopoulos', 'Galanopoulos', 'Garofalis', 'Gavril', 'Gavrilopoulos', 'Georgeakopoulos', 'Geracimos', 'Gianakopulos', 'Giannakopoulos', 'Giannakos', 'Glynatsis', 'Gomatos', 'Grammatakakis', 'Gravari', 'Hadjiyianakies', 'Hagias', 'Haritopoulos', 'Honjas', 'Horiatis', 'Houlis', 'Jamussa', 'Kaglantge', 'Kalakos', 'Kalogeria', 'Kaloxylos', 'Kanavos', 'Kapsimalles', 'Karahalios', 'Karameros', 'Karkampasis', 'Karnoupakis', 'Katsourinis', 'Kefalas', 'Kokkali', 'Kokoris', 'Kolovos', 'Konstantatos', 'Kosmas', 'Kotsilimbas', 'Kotsiopoulos', 'Kouches', 'Koulaxizis', 'Koumanidis', 'Kourempes', 'Kouretas', 'Kouropoulos', 'Kouros', 'Koustoubos', 'Koutsoubos', 'Kreskas', 'Kringos', 'Kyritsis', 'Laganas', 'Leontarakis', 'Letsos', 'Liatos', 'Lillis', 'Lolos', 'Louverdis', 'Makricosta', 'Malihoudis', 'Maneates', 'Manos', 'Manoukarakis', 'Matsoukis', 'Mentis', 'Mersinias', 'Metrofanis', 'Michalaras', 'Milionis', 'Missiakos', 'Moraitopoulos', 'Nikolaou', 'Nomikos', 'Paitakes', 'Paloumbas', 'Panayiotopoulos', 'Panoulias', 'Pantelakos', 'Pantelas', 'Papadelias', 'Papadopulos', 'Papageorge', 'Papoutsis', 'Pappayiorgas', 'Paraskevopoulos', 'Paraskos', 'Paschalis', 'Patrianakos', 'Patselas', 'Pefanis', 'Petimezas', 'Petrakis', 'Pezos', 'Phocas', 'Pispinis', 'Polites', 'Polymenakou', 'Poniros', 'Protopsaltis', 'Rallis', 'Rigatos', 'Rorris', 'Rousses', 'Ruvelas', 'Sakelaris', 'Sakellariou', 'Samios', 'Sardelis', 'Sfakianos', 'Sklavenitis', 'Sortras', 'Sotiris', 'Spyridis', 'Stamatas', 'Stamatelos', 'Stavropoulos', 'Strilakos', 'Stroggylis', 'Tableriou', 'Taflambas', 'Tassioglou', 'Telis', 'Tsoumada', 'Theofilopoulos', 'Theohari', 'Totolos', 'Tourna', 'Tsahalis', 'Tsangaris', 'Tselios', 'Tsogas', 'Vamvakidis', 'Varvitsiotes', 'Vassilikos', 'Vassilopulos', 'Vlahos', 'Vourlis', 'Xydis', 'Zaloumi', 'Zouvelekis']\n",
      "Vietnamese\n",
      "['Nguyen', 'Tron', 'Le', 'Pham', 'Huynh', 'Hoang', 'Phan', 'Vu', 'Vo', 'Dang', 'Bui', 'Do', 'Ho', 'Ngo', 'Duong', 'Ly', 'An', 'an', 'Bach', 'Banh', 'Cao', 'Chau', 'Chu', 'Chung', 'Chu', 'Diep', 'Doan', 'Dam', 'Dao', 'Dinh', 'Doan', 'Giang', 'Ha', 'Han', 'Kieu', 'Kim', 'La', 'Lac', 'Lam', 'Lieu', 'Luc', 'Luong', 'Luu', 'Ma', 'Mach', 'Mai', 'Nghiem', 'Phi', 'Pho', 'Phung', 'Quach', 'Quang', 'Quyen', 'Ta', 'Thach', 'Thai', 'Sai', 'Thi', 'Than', 'Thao', 'Thuy', 'Tieu', 'To', 'Ton', 'Tong', 'Trang', 'Trieu', 'Trinh', 'Truong', 'Van', 'Vinh', 'Vuong', 'Vuu']\n"
     ]
    }
   ],
   "source": [
    "# Build the category_lines dictionary, a list of names per language\n",
    "\n",
    "category_lines = {}\n",
    "all_categories = []\n",
    "\n",
    "# Read a file and split into lines\n",
    "\n",
    "def readLines(filename):\n",
    "    lines = open(filename, encoding='utf-8').read().strip().split('\\n')\n",
    "    return [unicodeToAscii(line) for line in lines]\n",
    "\n",
    "for filename in findFiles('data/names/*.txt'):\n",
    "    category = os.path.splitext(os.path.basename(filename))[0]\n",
    "    all_categories.append(category)\n",
    "    lines = readLines(filename)\n",
    "    category_lines[category] = lines\n",
    "\n",
    "n_categories = len(all_categories)\n",
    "\n",
    "# Check that it worked\n",
    "\n",
    "for c in all_categories[:2]:\n",
    "    print(c)\n",
    "    print(category_lines[c]) "
   ]
  },
  {
   "cell_type": "markdown",
   "metadata": {},
   "source": [
    "OK, try it out. You can see some results with a query like"
   ]
  },
  {
   "cell_type": "code",
   "execution_count": 8,
   "metadata": {
    "scrolled": true
   },
   "outputs": [
    {
     "name": "stdout",
     "output_type": "stream",
     "text": [
      "['Abandonato', 'Abatangelo', 'Abatantuono', 'Abate', 'Abategiovanni']\n"
     ]
    }
   ],
   "source": [
    "print(category_lines['Italian'][:5])"
   ]
  },
  {
   "cell_type": "markdown",
   "metadata": {},
   "source": [
    "## Text embedding\n",
    "\n",
    "*Embedding* refers to the process of turning complex structured or unstructured data into a real-valued vector form suitable for deep learning.\n",
    "There are many different ways of representing text in deep learning. Examples:\n",
    "\n",
    "- One-hot encoding\n",
    "- Global Vector for word representation (GloVe)\n",
    "- Bag-of-words (BOW)\n",
    "- n-grams\n",
    "\n",
    "Today we'll use the most basic of these algorithms, one-hot encoding."
   ]
  },
  {
   "cell_type": "markdown",
   "metadata": {},
   "source": [
    "## One-hot encoding (what is it?)\n",
    "\n",
    "This information is from [Victor Zhou's blog on one-hot encoding](https://victorzhou.com/blog/one-hot/).\n",
    "\n",
    "One-hot encoding maps a single integer to a vector in which\n",
    "a single element is 1 and all other elements are 0, such as $[0, 1, 0, 0]$.\n",
    "This is also known as integer encoding. To interpret or generate a sequence of\n",
    "characters, we assign a unique one-hot code to each element in our vocabulary:\n",
    "\n",
    "|Character|Value|One-Hot|\n",
    "|---------|-----|-------|\n",
    "|A|1|1 0 0 0 ...|\n",
    "|B|2|0 1 0 0 ...|\n",
    "|C|3|0 0 1 0 ...|\n",
    "\n",
    "The representation is useful not only for characters, but any discrete tokens, especially\n",
    "words (when the vocabulary is not too large):\n",
    "\n",
    "|Word|Value|One-Hot|\n",
    "|---------|-----|-------|\n",
    "|Red|1|1 0 0 0 ...|\n",
    "|Blue|2|0 1 0 0 ...|\n",
    "|Green|3|0 0 1 0 ...|\n",
    "\n",
    "One benefit of a one-hot encoding of a sequence of tokens is that you can easily convert the sequence into\n",
    "a \"bag of words\" representation in which each element represents the (possibly weighted) frequency of a\n",
    "term over the sequence. To get unweighted frequencies, just add your one-hot vectors along the time dimension."
   ]
  },
  {
   "cell_type": "markdown",
   "metadata": {},
   "source": [
    "## One-hot representation of characters\n",
    "\n",
    "Next, let's see how to convert each letter in a word to a sequence of one-hot representations, for example mapping the character `b` tot he vector $[0 1 0 0 0 ...]$.\n",
    "The tensor size will be `linelength` $\\times$ 1 $\\times$ `nletters`. The first dimension is the number of characters in a given word/line of a data file,\n",
    "the second dimension is the index into the batch (we have a batch size of 1 here), and the third dimension indexes the different characters in the vocabulary.\n",
    "\n",
    "There are many ways to do it. Scikit-learn has functionality to perform one-hot encoding for an arbitrary dictionary:"
   ]
  },
  {
   "cell_type": "code",
   "execution_count": 9,
   "metadata": {},
   "outputs": [
    {
     "name": "stdout",
     "output_type": "stream",
     "text": [
      "[[0. 0. 1.]\n",
      " [0. 1. 0.]\n",
      " [1. 0. 0.]]\n"
     ]
    }
   ],
   "source": [
    "# One-hot encoding of a word vocabulary using scikit-learn’s OneHotEncoder\n",
    "\n",
    "from sklearn.preprocessing import OneHotEncoder\n",
    "\n",
    "encoder = OneHotEncoder(sparse=False)\n",
    "print(encoder.fit_transform([['red'], ['green'], ['blue']]))"
   ]
  },
  {
   "cell_type": "markdown",
   "metadata": {},
   "source": [
    "And here's a simple method to encode a sequence of integers using numpy:"
   ]
  },
  {
   "cell_type": "code",
   "execution_count": 10,
   "metadata": {},
   "outputs": [
    {
     "name": "stdout",
     "output_type": "stream",
     "text": [
      "[[0. 0. 1.]\n",
      " [0. 1. 0.]\n",
      " [1. 0. 0.]]\n"
     ]
    }
   ],
   "source": [
    "# One-hot encoding of a word using numpy\n",
    "\n",
    "import numpy as np\n",
    "\n",
    "arr = [2, 1, 0]\n",
    "max = np.max(arr) + 1\n",
    "print(np.eye(max)[arr])"
   ]
  },
  {
   "cell_type": "markdown",
   "metadata": {},
   "source": [
    "Here's PyTorch code for the same process:"
   ]
  },
  {
   "cell_type": "code",
   "execution_count": 11,
   "metadata": {},
   "outputs": [
    {
     "name": "stdout",
     "output_type": "stream",
     "text": [
      "tensor([[0., 0., 0., 0., 0., 0., 0., 0., 0., 0., 0., 0., 0., 0., 0., 0., 0., 0.,\n",
      "         0., 0., 0., 0., 0., 0., 0., 0., 0., 0., 0., 0., 0., 0., 0., 0., 0., 1.,\n",
      "         0., 0., 0., 0., 0., 0., 0., 0., 0., 0., 0., 0., 0., 0., 0., 0., 0., 0.,\n",
      "         0., 0., 0.]])\n",
      "torch.Size([5, 1, 57])\n"
     ]
    }
   ],
   "source": [
    "import torch\n",
    "\n",
    "# Find letter index from all_letters, e.g. \"a\" -> 0\n",
    "\n",
    "def letterToIndex(letter):\n",
    "    return all_letters.find(letter)\n",
    "\n",
    "# (For demonstration) turn a letter into a <1 x n_letters> tensor\n",
    "\n",
    "def letterToTensor(letter):\n",
    "    tensor = torch.zeros(1, n_letters)\n",
    "    tensor[0][letterToIndex(letter)] = 1\n",
    "    return tensor\n",
    "\n",
    "# Turn a line into a <line_length x 1 x n_letters> tensor\n",
    "# (an array of one-hot letter vectors)\n",
    "\n",
    "def lineToTensor(line):\n",
    "    tensor = torch.zeros(len(line), 1, n_letters)\n",
    "    for li, letter in enumerate(line):\n",
    "        tensor[li][0][letterToIndex(letter)] = 1\n",
    "    return tensor\n",
    "\n",
    "print(letterToTensor('J'))\n",
    "print(lineToTensor('Jones').size())"
   ]
  },
  {
   "cell_type": "markdown",
   "metadata": {},
   "source": [
    "## The RNN\n",
    "\n",
    "Next, let's implement the RNN structure itself:\n",
    "\n",
    "<img src=\"img/rnns_code2.png\" title=\"RNNs\" style=\"width: 400px;\" />"
   ]
  },
  {
   "cell_type": "code",
   "execution_count": 22,
   "metadata": {},
   "outputs": [],
   "source": [
    "import torch.nn as nn\n",
    "\n",
    "class RNN(nn.Module):\n",
    "    def __init__(self, input_size, hidden_size, output_size):\n",
    "        super(RNN, self).__init__()\n",
    "\n",
    "        self.hidden_size = hidden_size\n",
    "\n",
    "        self.i2h = nn.Linear(input_size + hidden_size, hidden_size)\n",
    "        self.i2o = nn.Linear(input_size + hidden_size, output_size)\n",
    "        self.softmax = nn.LogSoftmax(dim=1)\n",
    "\n",
    "    def forward(self, input, hidden):\n",
    "        combined = torch.cat((input, hidden), 1)\n",
    "        hidden = self.i2h(combined)\n",
    "        output = self.i2o(combined)\n",
    "        output = self.softmax(output)\n",
    "        return output, hidden\n",
    "\n",
    "    def initHidden(self):\n",
    "        return torch.zeros(1, self.hidden_size)\n",
    "\n",
    "n_hidden = 128\n",
    "rnn = RNN(n_letters, n_hidden, n_categories)"
   ]
  },
  {
   "cell_type": "markdown",
   "metadata": {},
   "source": [
    "A quick inspection shows that this only implements one time step for the model.\n",
    "The forward function takes an input and a previous hidden state, returning\n",
    "the output and the new hidden state.\n",
    "\n",
    "Note that this model is different from the Elman network structure in that the output layer takes\n",
    "input directly from the input as well as from the hidden layer.\n",
    "\n",
    "Here's code to pass an 'A' to our model, with the initial hidden state\n",
    "fixed to all zeros:"
   ]
  },
  {
   "cell_type": "code",
   "execution_count": 23,
   "metadata": {},
   "outputs": [
    {
     "data": {
      "text/plain": [
       "tensor([[-2.7500, -2.9758, -2.9131, -2.9102, -2.9301, -2.9744, -2.8931, -2.8013,\n",
       "         -2.9408, -2.7791, -2.8651, -2.8724, -2.8459, -2.9880, -2.8697, -2.9155,\n",
       "         -2.9289, -2.9111]], grad_fn=<LogSoftmaxBackward>)"
      ]
     },
     "execution_count": 23,
     "metadata": {},
     "output_type": "execute_result"
    }
   ],
   "source": [
    "input = letterToTensor('A')\n",
    "hidden = torch.zeros(1, n_hidden)\n",
    "\n",
    "output, next_hidden = rnn(input, hidden)\n",
    "output"
   ]
  },
  {
   "cell_type": "markdown",
   "metadata": {},
   "source": [
    "*Why don't the numbers add up to 1.0 if it's a softmax output?*\n",
    "Take a look a the code and figure it out.\n",
    "\n",
    "You can try `lineToTensor()` instead of `letterToTensor()`\n",
    "and run through an entire name such as 'Albert'."
   ]
  },
  {
   "cell_type": "code",
   "execution_count": 24,
   "metadata": {},
   "outputs": [
    {
     "name": "stdout",
     "output_type": "stream",
     "text": [
      "tensor([[-2.7500, -2.9758, -2.9131, -2.9102, -2.9301, -2.9744, -2.8931, -2.8013,\n",
      "         -2.9408, -2.7791, -2.8651, -2.8724, -2.8459, -2.9880, -2.8697, -2.9155,\n",
      "         -2.9289, -2.9111]], grad_fn=<LogSoftmaxBackward>)\n",
      "tensor([[-2.8105, -2.8761, -2.9569, -2.8582, -2.8021, -2.9496, -2.8759, -2.9045,\n",
      "         -2.8731, -2.8586, -2.9765, -2.7791, -2.8471, -3.0722, -2.8722, -2.9309,\n",
      "         -2.9046, -2.9193]], grad_fn=<LogSoftmaxBackward>)\n",
      "tensor([[-2.8294, -2.8779, -2.9132, -2.8815, -2.8224, -2.8856, -2.8218, -2.8554,\n",
      "         -2.9926, -2.8591, -2.9953, -2.9060, -2.9373, -2.9365, -2.7950, -2.9380,\n",
      "         -2.8278, -2.9849]], grad_fn=<LogSoftmaxBackward>)\n",
      "tensor([[-2.9343, -2.8381, -2.9167, -2.8078, -2.8931, -2.9265, -2.7875, -2.8971,\n",
      "         -2.8351, -2.8482, -2.9619, -2.9076, -2.8237, -3.0271, -2.9430, -2.8055,\n",
      "         -2.9306, -2.9813]], grad_fn=<LogSoftmaxBackward>)\n",
      "tensor([[-2.8965, -2.8010, -2.8688, -2.8782, -2.8980, -2.9677, -2.9482, -2.8641,\n",
      "         -2.8773, -2.8394, -2.9287, -2.8298, -3.0010, -2.9646, -2.8388, -2.8662,\n",
      "         -2.8953, -2.8867]], grad_fn=<LogSoftmaxBackward>)\n",
      "tensor([[-2.8303, -2.9819, -2.8356, -2.8106, -2.8243, -2.9523, -2.8173, -2.9433,\n",
      "         -2.9381, -2.8861, -2.9121, -2.8485, -2.8921, -2.9906, -2.8658, -2.8656,\n",
      "         -2.8719, -2.9922]], grad_fn=<LogSoftmaxBackward>)\n"
     ]
    }
   ],
   "source": [
    "input = lineToTensor('Albert')\n",
    "hidden = torch.zeros(1, n_hidden)\n",
    "\n",
    "next_hidden = hidden\n",
    "for i in range(input.shape[0]):\n",
    "    output, next_hidden = rnn(input[i], next_hidden)\n",
    "    print(output)"
   ]
  },
  {
   "cell_type": "markdown",
   "metadata": {},
   "source": [
    "### Training\n",
    "\n",
    "To get started with training, we need some helper functions.\n",
    "This one converts an output vector to a category:"
   ]
  },
  {
   "cell_type": "code",
   "execution_count": 25,
   "metadata": {},
   "outputs": [
    {
     "name": "stdout",
     "output_type": "stream",
     "text": [
      "('English', 3)\n"
     ]
    }
   ],
   "source": [
    "def categoryFromOutput(output):\n",
    "    top_n, top_i = output.topk(1)\n",
    "    category_i = top_i[0].item()\n",
    "    return all_categories[category_i], category_i\n",
    "\n",
    "print(categoryFromOutput(output))"
   ]
  },
  {
   "cell_type": "markdown",
   "metadata": {},
   "source": [
    "Next, let's add a function to get a random element of our training set:"
   ]
  },
  {
   "cell_type": "code",
   "execution_count": 26,
   "metadata": {},
   "outputs": [
    {
     "name": "stdout",
     "output_type": "stream",
     "text": [
      "category = Spanish / line = Aberquero\n",
      "category = Polish / line = Sokolsky\n",
      "category = Russian / line = Rohatsevich\n",
      "category = Italian / line = Pedrotti\n",
      "category = Polish / line = Wojewodka\n",
      "category = German / line = Larenz\n",
      "category = Scottish / line = Grant\n",
      "category = Scottish / line = Cunningham\n",
      "category = Vietnamese / line = Thai\n",
      "category = French / line = Beaumont\n"
     ]
    }
   ],
   "source": [
    "import random\n",
    "\n",
    "def randomChoice(l):\n",
    "    # random.randint range is inclusive thus len(l)-1\n",
    "    return l[random.randint(0, len(l) - 1)]\n",
    "\n",
    "def randomTrainingExample():\n",
    "    category = randomChoice(all_categories)\n",
    "    line = randomChoice(category_lines[category])\n",
    "    category_tensor = torch.tensor([all_categories.index(category)], dtype=torch.long)\n",
    "    line_tensor = lineToTensor(line)\n",
    "    return category, line, category_tensor, line_tensor\n",
    "\n",
    "for i in range(10):\n",
    "    category, line, category_tensor, line_tensor = randomTrainingExample()\n",
    "    print('category =', category, '/ line =', line)"
   ]
  },
  {
   "cell_type": "markdown",
   "metadata": {},
   "source": [
    "For the loss function, let's use negative log likelihood:"
   ]
  },
  {
   "cell_type": "code",
   "execution_count": 27,
   "metadata": {},
   "outputs": [],
   "source": [
    "criterion = nn.NLLLoss() "
   ]
  },
  {
   "cell_type": "markdown",
   "metadata": {},
   "source": [
    "Then a function for training on one sequence:"
   ]
  },
  {
   "cell_type": "code",
   "execution_count": 28,
   "metadata": {},
   "outputs": [],
   "source": [
    "learning_rate = 0.005 # If you set this too high, it might explode. If too low, it might not learn\n",
    "\n",
    "def train(category_tensor, line_tensor):\n",
    "    hidden = rnn.initHidden()\n",
    "\n",
    "    rnn.zero_grad()\n",
    "\n",
    "    for i in range(line_tensor.size()[0]):\n",
    "        output, hidden = rnn(line_tensor[i], hidden)\n",
    "\n",
    "    loss = criterion(output, category_tensor)\n",
    "    loss.backward()\n",
    "\n",
    "    # Add parameters' gradients to their values, multiplied by learning rate\n",
    "    for p in rnn.parameters():\n",
    "        p.data.add_(- learning_rate * p.grad.data)\n",
    "\n",
    "    return output, loss.item()  "
   ]
  },
  {
   "cell_type": "markdown",
   "metadata": {},
   "source": [
    "Try running it for a few iterations on a single random pattern.\n",
    "\n",
    "Next, try this code for the overall training:"
   ]
  },
  {
   "cell_type": "code",
   "execution_count": 29,
   "metadata": {},
   "outputs": [
    {
     "name": "stdout",
     "output_type": "stream",
     "text": [
      "5000 5% (0m 5s) 2.6744 Henriques / Greek ✗ (Portuguese)\n",
      "10000 10% (0m 10s) 2.3246 Leeming / Italian ✗ (English)\n",
      "15000 15% (0m 15s) 1.5694 Reuter / German ✓\n",
      "20000 20% (0m 20s) 2.5610 Kaglantge / French ✗ (Greek)\n",
      "25000 25% (0m 26s) 2.5303 Payne / Korean ✗ (English)\n",
      "30000 30% (0m 31s) 1.3453 Johnston / Scottish ✓\n",
      "35000 35% (0m 36s) 1.2093 Bitar / Arabic ✓\n",
      "40000 40% (0m 42s) 6.1893 Boutros / Greek ✗ (Arabic)\n",
      "45000 45% (0m 47s) 1.4591 Gordon / English ✗ (Scottish)\n",
      "50000 50% (0m 52s) 3.1304 Doon / Vietnamese ✗ (English)\n",
      "55000 55% (0m 58s) 1.3351 Gallego / Portuguese ✗ (Spanish)\n",
      "60000 60% (1m 3s) 0.2584 Najjar / Arabic ✓\n",
      "65000 65% (1m 8s) 2.3826 Jacques / Portuguese ✗ (French)\n",
      "70000 70% (1m 13s) 1.3815 Tan / Vietnamese ✗ (Chinese)\n",
      "75000 75% (1m 19s) 0.6620 Alesci / Italian ✓\n",
      "80000 80% (1m 24s) 0.2864 Adamidis / Greek ✓\n",
      "85000 85% (1m 29s) 0.7109 Rooiakker / Dutch ✓\n",
      "90000 90% (1m 34s) 0.9008 Nobunaga / Japanese ✓\n",
      "95000 95% (1m 40s) 0.6271 Oswald / English ✓\n",
      "100000 100% (1m 45s) 1.2620 Nelissen / Dutch ✓\n"
     ]
    }
   ],
   "source": [
    "import time\n",
    "import math\n",
    "\n",
    "n_iters = 100000\n",
    "print_every = 5000\n",
    "plot_every = 1000\n",
    "\n",
    "# Keep track of losses for plotting\n",
    "current_loss = 0\n",
    "all_losses = []\n",
    "\n",
    "def timeSince(since):\n",
    "    now = time.time()\n",
    "    s = now - since\n",
    "    m = math.floor(s / 60)\n",
    "    s -= m * 60\n",
    "    return '%dm %ds' % (m, s)\n",
    "\n",
    "start = time.time()\n",
    "\n",
    "for iter in range(1, n_iters + 1):\n",
    "    category, line, category_tensor, line_tensor = randomTrainingExample()\n",
    "    output, loss = train(category_tensor, line_tensor)\n",
    "    current_loss += loss\n",
    "\n",
    "    # Print iter number, loss, name and guess\n",
    "    if iter % print_every == 0:\n",
    "        guess, guess_i = categoryFromOutput(output)\n",
    "        correct = '✓' if guess == category else '✗ (%s)' % category\n",
    "        print('%d %d%% (%s) %.4f %s / %s %s' % (iter, iter / n_iters * 100, timeSince(start), loss, line, guess, correct))\n",
    "\n",
    "    # Add current loss avg to list of losses\n",
    "    if iter % plot_every == 0:\n",
    "        all_losses.append(current_loss / plot_every)\n",
    "        current_loss = 0"
   ]
  },
  {
   "cell_type": "markdown",
   "metadata": {},
   "source": [
    " Finally, plot the resulting training loss:\n",
    " "
   ]
  },
  {
   "cell_type": "code",
   "execution_count": 30,
   "metadata": {},
   "outputs": [
    {
     "data": {
      "text/plain": [
       "[<matplotlib.lines.Line2D at 0x7f593465e370>]"
      ]
     },
     "execution_count": 30,
     "metadata": {},
     "output_type": "execute_result"
    },
    {
     "data": {
      "image/png": "[encoded data removed]",
      "text/plain": [
       "<Figure size 432x288 with 1 Axes>"
      ]
     },
     "metadata": {
      "needs_background": "light"
     },
     "output_type": "display_data"
    }
   ],
   "source": [
    "import matplotlib.pyplot as plt\n",
    "import matplotlib.ticker as ticker\n",
    "\n",
    "plt.figure()\n",
    "plt.plot(all_losses)"
   ]
  },
  {
   "cell_type": "markdown",
   "metadata": {},
   "source": [
    "### Evaluation\n",
    "\n",
    "Great, we have a trained model. Let's get a confusion matrix:"
   ]
  },
  {
   "cell_type": "code",
   "execution_count": 31,
   "metadata": {},
   "outputs": [
    {
     "data": {
      "image/png": "[encoded data removed]",
      "text/plain": [
       "<Figure size 432x288 with 2 Axes>"
      ]
     },
     "metadata": {
      "needs_background": "light"
     },
     "output_type": "display_data"
    }
   ],
   "source": [
    "# Keep track of correct guesses in a confusion matrix\n",
    "confusion = torch.zeros(n_categories, n_categories)\n",
    "n_confusion = 10000\n",
    "\n",
    "# Just return an output given a line\n",
    "def evaluate(line_tensor):\n",
    "    hidden = rnn.initHidden()\n",
    "\n",
    "    for i in range(line_tensor.size()[0]):\n",
    "        output, hidden = rnn(line_tensor[i], hidden)\n",
    "\n",
    "    return output\n",
    "\n",
    "# Go through a bunch of examples and record which are correctly guessed\n",
    "for i in range(n_confusion):\n",
    "    category, line, category_tensor, line_tensor = randomTrainingExample()\n",
    "    output = evaluate(line_tensor)\n",
    "    guess, guess_i = categoryFromOutput(output)\n",
    "    category_i = all_categories.index(category)\n",
    "    confusion[category_i][guess_i] += 1\n",
    "\n",
    "# Normalize by dividing every row by its sum\n",
    "for i in range(n_categories):\n",
    "    confusion[i] = confusion[i] / confusion[i].sum()\n",
    "\n",
    "# Set up plot\n",
    "fig = plt.figure()\n",
    "ax = fig.add_subplot(111)\n",
    "cax = ax.matshow(confusion.numpy())\n",
    "fig.colorbar(cax)\n",
    "\n",
    "# Set up axes\n",
    "ax.set_xticklabels([''] + all_categories, rotation=90)\n",
    "ax.set_yticklabels([''] + all_categories)\n",
    "\n",
    "# Force label at every tick\n",
    "ax.xaxis.set_major_locator(ticker.MultipleLocator(1))\n",
    "ax.yaxis.set_major_locator(ticker.MultipleLocator(1))\n",
    "\n",
    "# sphinx_gallery_thumbnail_number = 2\n",
    "plt.show()"
   ]
  },
  {
   "cell_type": "markdown",
   "metadata": {},
   "source": [
    "Take a look at the most likely confusions and see if they make sense.\n",
    "\n",
    "### Prediction on user input\n",
    "\n",
    "Finally, try classifying novel inputs:"
   ]
  },
  {
   "cell_type": "code",
   "execution_count": 32,
   "metadata": {},
   "outputs": [
    {
     "name": "stdout",
     "output_type": "stream",
     "text": [
      "\n",
      "> Dovesky\n",
      "(-0.48) Russian\n",
      "(-1.53) Czech\n",
      "(-2.49) Polish\n",
      "\n",
      "> Jackson\n",
      "(-0.39) Scottish\n",
      "(-2.22) English\n",
      "(-2.23) Russian\n",
      "\n",
      "> Satoshi\n",
      "(-1.03) Japanese\n",
      "(-1.27) Arabic\n",
      "(-1.70) Italian\n"
     ]
    }
   ],
   "source": [
    "def predict(input_line, n_predictions=3):\n",
    "    print('\\n> %s' % input_line)\n",
    "    with torch.no_grad():\n",
    "        output = evaluate(lineToTensor(input_line))\n",
    "\n",
    "        # Get top N categories\n",
    "        topv, topi = output.topk(n_predictions, 1, True)\n",
    "        predictions = []\n",
    "\n",
    "        for i in range(n_predictions):\n",
    "            value = topv[0][i].item()\n",
    "            category_index = topi[0][i].item()\n",
    "            print('(%.2f) %s' % (value, all_categories[category_index]))\n",
    "            predictions.append([value, all_categories[category_index]])\n",
    "\n",
    "predict('Dovesky')\n",
    "predict('Jackson')\n",
    "predict('Satoshi')"
   ]
  },
  {
   "cell_type": "markdown",
   "metadata": {},
   "source": [
    "### Exercises\n",
    "\n",
    "Try the following:\n",
    "\n",
    "1. Change the structure to be identical to Goodfellow's Figure 10.3 (no input-to-hidden connection) with tanh activation functions\n",
    "   and see if you get different results.\n",
    "   \n",
    "2. Explore methods for batching patterns of different length prior to presentation to a RNN and\n",
    "   implement them. See how much speedup you can get from the GPU with minibatch training.\n",
    "\n",
    "3. Do a bit of research on similar problems such as named entity recognition, find a dataset,\n",
    "   train a model, and report your results.\n",
    "\n",
    "### The report\n",
    "\n",
    "As always, your report is due next week. Please submit via Google Classroom."
   ]
  },
  {
   "cell_type": "code",
   "execution_count": null,
   "metadata": {},
   "outputs": [],
   "source": []
  }
 ],
 "metadata": {
  "kernelspec": {
   "display_name": "Python 3",
   "language": "python",
   "name": "python3"
  },
  "language_info": {
   "codemirror_mode": {
    "name": "ipython",
    "version": 3
   },
   "file_extension": ".py",
   "mimetype": "text/x-python",
   "name": "python",
   "nbconvert_exporter": "python",
   "pygments_lexer": "ipython3",
   "version": "3.8.10"
  }
 },
 "nbformat": 4,
 "nbformat_minor": 4
}
