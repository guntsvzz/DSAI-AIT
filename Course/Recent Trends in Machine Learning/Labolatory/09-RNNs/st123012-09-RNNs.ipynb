{
 "cells": [
  {
   "attachments": {},
   "cell_type": "markdown",
   "metadata": {},
   "source": [
    "# Lab 09: RNNs\n",
    "\n",
    "Some references for the materials used for this lab:\n",
    "- https://stanford.edu/~shervine/teaching/cs-230/cheatsheet-recurrent-neural-networks\n",
    "- https://www.simplilearn.com/tutorials/deep-learning-tutorial/rnn\n",
    "\n",
    "Today we'll do some preliminary investigation of simple RNNs similar to the form of Figure 10.3 in Goodfellow et al. (the Elman network).\n"
   ]
  },
  {
   "cell_type": "code",
   "execution_count": null,
   "metadata": {},
   "outputs": [],
   "source": [
    "name = 'Todsavad Tangtortan'\n",
    "id   = 'st123012'"
   ]
  },
  {
   "attachments": {},
   "cell_type": "markdown",
   "metadata": {},
   "source": [
    "# Task 1. \n",
    "Change the structure to be identical to Goodfellow's Figure 10.3 (no input-to-hidden connection) with tanh activation functions\n",
    "   and see if you get different results."
   ]
  },
  {
   "cell_type": "code",
   "execution_count": 4,
   "metadata": {},
   "outputs": [
    {
     "name": "stdout",
     "output_type": "stream",
     "text": [
      "['data/names\\\\Arabic.txt', 'data/names\\\\Chinese.txt', 'data/names\\\\Czech.txt', 'data/names\\\\Dutch.txt', 'data/names\\\\English.txt', 'data/names\\\\French.txt', 'data/names\\\\German.txt', 'data/names\\\\Greek.txt', 'data/names\\\\Irish.txt', 'data/names\\\\Italian.txt', 'data/names\\\\Japanese.txt', 'data/names\\\\Korean.txt', 'data/names\\\\Polish.txt', 'data/names\\\\Portuguese.txt', 'data/names\\\\Russian.txt', 'data/names\\\\Scottish.txt', 'data/names\\\\Spanish.txt', 'data/names\\\\Vietnamese.txt']\n",
      "Slusarski\n",
      "Number of categories:  18\n"
     ]
    }
   ],
   "source": [
    "from __future__ import unicode_literals, print_function, division\n",
    "from io import open\n",
    "import glob\n",
    "import os\n",
    "import unicodedata\n",
    "import string\n",
    "\n",
    "def findFiles(path):\n",
    "    return glob.glob(path)\n",
    "\n",
    "print(findFiles('data/names/*.txt'))\n",
    "\n",
    "all_letters = string.ascii_letters + \" .,;'\"\n",
    "n_letters = len(all_letters)\n",
    "\n",
    "# Turn a Unicode string to plain ASCII, thanks to https://stackoverflow.com/a/518232/2809427\n",
    "\n",
    "def unicodeToAscii(s):\n",
    "    return ''.join(\n",
    "        c for c in unicodedata.normalize('NFD', s)\n",
    "        if unicodedata.category(c) != 'Mn'\n",
    "        and c in all_letters\n",
    "    )\n",
    "\n",
    "print(unicodeToAscii('Ślusàrski'))\n",
    "\n",
    "# Build the category_lines dictionary, a list of names per language\n",
    "\n",
    "category_lines = {}\n",
    "all_categories = []\n",
    "\n",
    "# Read a file and split into lines\n",
    "\n",
    "def readLines(filename):\n",
    "    lines = open(filename, encoding='utf-8').read().strip().split('\\n')\n",
    "    return [unicodeToAscii(line) for line in lines]\n",
    "\n",
    "for filename in findFiles('data/names/*.txt'):\n",
    "    category = os.path.splitext(os.path.basename(filename))[0]\n",
    "    all_categories.append(category)\n",
    "    lines = readLines(filename)\n",
    "    category_lines[category] = lines\n",
    "\n",
    "n_categories = len(all_categories)\n",
    "print('Number of categories: ', n_categories)"
   ]
  },
  {
   "cell_type": "code",
   "execution_count": 7,
   "metadata": {},
   "outputs": [
    {
     "name": "stdout",
     "output_type": "stream",
     "text": [
      "Arabic\n",
      "['Khoury', 'Nahas', 'Daher', 'Gerges', 'Nazari', 'Maalouf', 'Gerges', 'Naifeh', 'Guirguis', 'Baba', 'Sabbagh', 'Attia', 'Tahan', 'Haddad', 'Aswad', 'Najjar', 'Dagher', 'Maloof', 'Isa', 'Asghar', 'Nader', 'Gaber', 'Abboud', 'Maalouf', 'Zogby', 'Srour', 'Bahar', 'Mustafa', 'Hanania', 'Daher', 'Tuma', 'Nahas', 'Saliba', 'Shamoon', 'Handal', 'Baba', 'Amari', 'Bahar', 'Atiyeh', 'Said', 'Khouri', 'Tahan', 'Baba', 'Mustafa', 'Guirguis', 'Sleiman', 'Seif', 'Dagher', 'Bahar', 'Gaber', 'Harb', 'Seif', 'Asker', 'Nader', 'Antar', 'Awad', 'Srour', 'Shadid', 'Hajjar', 'Hanania', 'Kalb', 'Shadid', 'Bazzi', 'Mustafa', 'Masih', 'Ghanem', 'Haddad', 'Isa', 'Antoun', 'Sarraf', 'Sleiman', 'Dagher', 'Najjar', 'Malouf', 'Nahas', 'Naser', 'Saliba', 'Shamon', 'Malouf', 'Kalb', 'Daher', 'Maalouf', 'Wasem', 'Kanaan', 'Naifeh', 'Boutros', 'Moghadam', 'Masih', 'Sleiman', 'Aswad', 'Cham', 'Assaf', 'Quraishi', 'Shalhoub', 'Sabbag', 'Mifsud', 'Gaber', 'Shammas', 'Tannous', 'Sleiman', 'Bazzi', 'Quraishi', 'Rahal', 'Cham', 'Ghanem', 'Ghanem', 'Naser', 'Baba', 'Shamon', 'Almasi', 'Basara', 'Quraishi', 'Bata', 'Wasem', 'Shamoun', 'Deeb', 'Touma', 'Asfour', 'Deeb', 'Hadad', 'Naifeh', 'Touma', 'Bazzi', 'Shamoun', 'Nahas', 'Haddad', 'Arian', 'Kouri', 'Deeb', 'Toma', 'Halabi', 'Nazari', 'Saliba', 'Fakhoury', 'Hadad', 'Baba', 'Mansour', 'Sayegh', 'Antar', 'Deeb', 'Morcos', 'Shalhoub', 'Sarraf', 'Amari', 'Wasem', 'Ganim', 'Tuma', 'Fakhoury', 'Hadad', 'Hakimi', 'Nader', 'Said', 'Ganim', 'Daher', 'Ganem', 'Tuma', 'Boutros', 'Aswad', 'Sarkis', 'Daher', 'Toma', 'Boutros', 'Kanaan', 'Antar', 'Gerges', 'Kouri', 'Maroun', 'Wasem', 'Dagher', 'Naifeh', 'Bishara', 'Ba', 'Cham', 'Kalb', 'Bazzi', 'Bitar', 'Hadad', 'Moghadam', 'Sleiman', 'Shamoun', 'Antar', 'Atiyeh', 'Koury', 'Nahas', 'Kouri', 'Maroun', 'Nassar', 'Sayegh', 'Haik', 'Ghanem', 'Sayegh', 'Salib', 'Cham', 'Bata', 'Touma', 'Antoun', 'Antar', 'Bata', 'Botros', 'Shammas', 'Ganim', 'Sleiman', 'Seif', 'Moghadam', 'Ba', 'Tannous', 'Bazzi', 'Seif', 'Salib', 'Hadad', 'Quraishi', 'Halabi', 'Essa', 'Bahar', 'Kattan', 'Boutros', 'Nahas', 'Sabbagh', 'Kanaan', 'Sayegh', 'Said', 'Botros', 'Najjar', 'Toma', 'Bata', 'Atiyeh', 'Halabi', 'Tannous', 'Kouri', 'Shamoon', 'Kassis', 'Haddad', 'Tuma', 'Mansour', 'Antar', 'Kassis', 'Kalb', 'Basara', 'Rahal', 'Mansour', 'Handal', 'Morcos', 'Fakhoury', 'Hadad', 'Morcos', 'Kouri', 'Quraishi', 'Almasi', 'Awad', 'Naifeh', 'Koury', 'Asker', 'Maroun', 'Fakhoury', 'Sabbag', 'Sarraf', 'Shamon', 'Assaf', 'Boutros', 'Malouf', 'Nassar', 'Qureshi', 'Ghanem', 'Srour', 'Almasi', 'Qureshi', 'Ghannam', 'Mustafa', 'Najjar', 'Kassab', 'Shadid', 'Shamoon', 'Morcos', 'Atiyeh', 'Isa', 'Ba', 'Baz', 'Asker', 'Seif', 'Asghar', 'Hajjar', 'Deeb', 'Essa', 'Qureshi', 'Abboud', 'Ganem', 'Haddad', 'Koury', 'Nassar', 'Abadi', 'Toma', 'Tannous', 'Harb', 'Issa', 'Khouri', 'Mifsud', 'Kalb', 'Gaber', 'Ganim', 'Boulos', 'Samaha', 'Haddad', 'Sabbag', 'Wasem', 'Dagher', 'Rahal', 'Atiyeh', 'Antar', 'Asghar', 'Mansour', 'Awad', 'Boulos', 'Sarraf', 'Deeb', 'Abadi', 'Nazari', 'Daher', 'Gerges', 'Shamoon', 'Gaber', 'Amari', 'Sarraf', 'Nazari', 'Saliba', 'Naifeh', 'Nazari', 'Hakimi', 'Shamon', 'Abboud', 'Quraishi', 'Tahan', 'Safar', 'Hajjar', 'Srour', 'Gaber', 'Shalhoub', 'Attia', 'Safar', 'Said', 'Ganem', 'Nader', 'Asghar', 'Mustafa', 'Said', 'Antar', 'Botros', 'Nader', 'Ghannam', 'Asfour', 'Tahan', 'Mansour', 'Attia', 'Touma', 'Najjar', 'Kassis', 'Abboud', 'Bishara', 'Bazzi', 'Shalhoub', 'Shalhoub', 'Safar', 'Khoury', 'Nazari', 'Sabbag', 'Sleiman', 'Atiyeh', 'Kouri', 'Bitar', 'Zogby', 'Ghanem', 'Assaf', 'Abadi', 'Arian', 'Shalhoub', 'Khoury', 'Morcos', 'Shamon', 'Wasem', 'Abadi', 'Antoun', 'Baz', 'Naser', 'Assaf', 'Saliba', 'Nader', 'Mikhail', 'Naser', 'Daher', 'Morcos', 'Awad', 'Nahas', 'Sarkis', 'Malouf', 'Mustafa', 'Fakhoury', 'Ghannam', 'Shadid', 'Gaber', 'Koury', 'Atiyeh', 'Shamon', 'Boutros', 'Sarraf', 'Arian', 'Fakhoury', 'Abadi', 'Kassab', 'Nahas', 'Quraishi', 'Mansour', 'Samaha', 'Wasem', 'Seif', 'Fakhoury', 'Saliba', 'Cham', 'Bahar', 'Shamoun', 'Essa', 'Shamon', 'Asfour', 'Bitar', 'Cham', 'Tahan', 'Tannous', 'Daher', 'Khoury', 'Shamon', 'Bahar', 'Quraishi', 'Ghannam', 'Kassab', 'Zogby', 'Basara', 'Shammas', 'Arian', 'Sayegh', 'Naifeh', 'Mifsud', 'Sleiman', 'Arian', 'Kassis', 'Shamoun', 'Kassis', 'Harb', 'Mustafa', 'Boulos', 'Asghar', 'Shamon', 'Kanaan', 'Atiyeh', 'Kassab', 'Tahan', 'Bazzi', 'Kassis', 'Qureshi', 'Basara', 'Shalhoub', 'Sayegh', 'Haik', 'Attia', 'Maroun', 'Kassis', 'Sarkis', 'Harb', 'Assaf', 'Kattan', 'Antar', 'Sleiman', 'Touma', 'Sarraf', 'Bazzi', 'Boulos', 'Baz', 'Issa', 'Shamon', 'Shadid', 'Deeb', 'Sabbag', 'Wasem', 'Awad', 'Mansour', 'Saliba', 'Fakhoury', 'Arian', 'Bishara', 'Dagher', 'Bishara', 'Koury', 'Fakhoury', 'Naser', 'Nader', 'Antar', 'Gerges', 'Handal', 'Hanania', 'Shadid', 'Gerges', 'Kassis', 'Essa', 'Assaf', 'Shadid', 'Seif', 'Shalhoub', 'Shamoun', 'Hajjar', 'Baba', 'Sayegh', 'Mustafa', 'Sabbagh', 'Isa', 'Najjar', 'Tannous', 'Hanania', 'Ganem', 'Gerges', 'Fakhoury', 'Mifsud', 'Nahas', 'Bishara', 'Bishara', 'Abadi', 'Sarkis', 'Masih', 'Isa', 'Attia', 'Kalb', 'Essa', 'Boulos', 'Basara', 'Halabi', 'Halabi', 'Dagher', 'Attia', 'Kassis', 'Tuma', 'Gerges', 'Ghannam', 'Toma', 'Baz', 'Asghar', 'Zogby', 'Aswad', 'Hadad', 'Dagher', 'Naser', 'Shadid', 'Atiyeh', 'Zogby', 'Abboud', 'Tannous', 'Khouri', 'Atiyeh', 'Ganem', 'Maalouf', 'Isa', 'Maroun', 'Issa', 'Khouri', 'Harb', 'Nader', 'Awad', 'Nahas', 'Said', 'Baba', 'Totah', 'Ganim', 'Handal', 'Mansour', 'Basara', 'Malouf', 'Said', 'Botros', 'Samaha', 'Safar', 'Tahan', 'Botros', 'Shamoun', 'Handal', 'Sarraf', 'Malouf', 'Bishara', 'Aswad', 'Khouri', 'Baz', 'Asker', 'Toma', 'Koury', 'Gerges', 'Bishara', 'Boulos', 'Najjar', 'Aswad', 'Shamon', 'Kouri', 'Srour', 'Assaf', 'Tannous', 'Attia', 'Mustafa', 'Kattan', 'Asghar', 'Amari', 'Shadid', 'Said', 'Bazzi', 'Masih', 'Antar', 'Fakhoury', 'Shadid', 'Masih', 'Handal', 'Sarraf', 'Kassis', 'Salib', 'Hajjar', 'Totah', 'Koury', 'Totah', 'Mustafa', 'Sabbagh', 'Moghadam', 'Toma', 'Srour', 'Almasi', 'Totah', 'Maroun', 'Kattan', 'Naifeh', 'Sarkis', 'Mikhail', 'Nazari', 'Boutros', 'Guirguis', 'Gaber', 'Kassis', 'Masih', 'Hanania', 'Maloof', 'Quraishi', 'Cham', 'Hadad', 'Tahan', 'Bitar', 'Arian', 'Gaber', 'Baz', 'Mansour', 'Kalb', 'Sarkis', 'Attia', 'Antar', 'Asfour', 'Said', 'Essa', 'Koury', 'Hadad', 'Tuma', 'Moghadam', 'Sabbagh', 'Amari', 'Dagher', 'Srour', 'Antoun', 'Sleiman', 'Maroun', 'Tuma', 'Nahas', 'Hanania', 'Sayegh', 'Amari', 'Sabbagh', 'Said', 'Cham', 'Asker', 'Nassar', 'Bitar', 'Said', 'Dagher', 'Safar', 'Khouri', 'Totah', 'Khoury', 'Salib', 'Basara', 'Abboud', 'Baz', 'Isa', 'Cham', 'Amari', 'Mifsud', 'Hadad', 'Rahal', 'Khoury', 'Bazzi', 'Basara', 'Totah', 'Ghannam', 'Koury', 'Malouf', 'Zogby', 'Zogby', 'Boutros', 'Nassar', 'Handal', 'Hajjar', 'Maloof', 'Abadi', 'Maroun', 'Mifsud', 'Kalb', 'Amari', 'Hakimi', 'Boutros', 'Masih', 'Kattan', 'Haddad', 'Arian', 'Nazari', 'Assaf', 'Attia', 'Wasem', 'Gerges', 'Asker', 'Tahan', 'Fakhoury', 'Shadid', 'Sarraf', 'Attia', 'Naifeh', 'Aswad', 'Deeb', 'Tannous', 'Totah', 'Cham', 'Baba', 'Najjar', 'Hajjar', 'Shamoon', 'Handal', 'Awad', 'Guirguis', 'Awad', 'Ganem', 'Naifeh', 'Khoury', 'Hajjar', 'Moghadam', 'Mikhail', 'Ghannam', 'Guirguis', 'Tannous', 'Kanaan', 'Handal', 'Khoury', 'Kalb', 'Qureshi', 'Najjar', 'Atiyeh', 'Gerges', 'Nassar', 'Tahan', 'Hadad', 'Fakhoury', 'Salib', 'Wasem', 'Bitar', 'Fakhoury', 'Attia', 'Awad', 'Totah', 'Deeb', 'Touma', 'Botros', 'Nazari', 'Nahas', 'Kouri', 'Ghannam', 'Assaf', 'Asfour', 'Sarraf', 'Naifeh', 'Toma', 'Asghar', 'Abboud', 'Issa', 'Sabbag', 'Sabbagh', 'Isa', 'Koury', 'Kattan', 'Shamoon', 'Rahal', 'Kalb', 'Naser', 'Masih', 'Sayegh', 'Dagher', 'Asker', 'Maroun', 'Dagher', 'Sleiman', 'Botros', 'Sleiman', 'Harb', 'Tahan', 'Tuma', 'Said', 'Hadad', 'Samaha', 'Harb', 'Cham', 'Atiyeh', 'Haik', 'Malouf', 'Bazzi', 'Harb', 'Malouf', 'Ghanem', 'Cham', 'Asghar', 'Samaha', 'Khouri', 'Nassar', 'Rahal', 'Baz', 'Kalb', 'Rahal', 'Gerges', 'Cham', 'Sayegh', 'Shadid', 'Morcos', 'Shamoon', 'Hakimi', 'Shamoon', 'Qureshi', 'Ganim', 'Shadid', 'Khoury', 'Boutros', 'Hanania', 'Antoun', 'Naifeh', 'Deeb', 'Samaha', 'Awad', 'Asghar', 'Awad', 'Saliba', 'Shamoun', 'Mikhail', 'Hakimi', 'Mikhail', 'Cham', 'Halabi', 'Sarkis', 'Kattan', 'Nazari', 'Safar', 'Morcos', 'Khoury', 'Essa', 'Nassar', 'Haik', 'Shadid', 'Fakhoury', 'Najjar', 'Arian', 'Botros', 'Daher', 'Saliba', 'Saliba', 'Kattan', 'Hajjar', 'Nader', 'Daher', 'Nassar', 'Maroun', 'Harb', 'Nassar', 'Antar', 'Shammas', 'Toma', 'Antar', 'Koury', 'Nader', 'Botros', 'Bahar', 'Najjar', 'Maloof', 'Salib', 'Malouf', 'Mansour', 'Bazzi', 'Atiyeh', 'Kanaan', 'Bishara', 'Hakimi', 'Saliba', 'Tuma', 'Mifsud', 'Hakimi', 'Assaf', 'Nassar', 'Sarkis', 'Bitar', 'Isa', 'Halabi', 'Shamon', 'Qureshi', 'Bishara', 'Maalouf', 'Srour', 'Boulos', 'Safar', 'Shamoun', 'Ganim', 'Abadi', 'Koury', 'Shadid', 'Zogby', 'Boutros', 'Shadid', 'Hakimi', 'Bazzi', 'Isa', 'Totah', 'Salib', 'Shamoon', 'Gaber', 'Antar', 'Antar', 'Najjar', 'Fakhoury', 'Malouf', 'Salib', 'Rahal', 'Boulos', 'Attia', 'Said', 'Kassis', 'Bahar', 'Bazzi', 'Srour', 'Antar', 'Nahas', 'Kassis', 'Samaha', 'Quraishi', 'Asghar', 'Asker', 'Antar', 'Totah', 'Haddad', 'Maloof', 'Kouri', 'Basara', 'Bata', 'Antar', 'Shammas', 'Arian', 'Gerges', 'Seif', 'Almasi', 'Tuma', 'Shamoon', 'Khoury', 'Hakimi', 'Abboud', 'Baz', 'Seif', 'Issa', 'Nazari', 'Harb', 'Shammas', 'Amari', 'Totah', 'Malouf', 'Sarkis', 'Naser', 'Zogby', 'Handal', 'Naifeh', 'Cham', 'Hadad', 'Gerges', 'Kalb', 'Shalhoub', 'Saliba', 'Tannous', 'Tahan', 'Tannous', 'Kassis', 'Shadid', 'Sabbag', 'Tahan', 'Abboud', 'Nahas', 'Shamoun', 'Dagher', 'Botros', 'Amari', 'Maalouf', 'Awad', 'Gerges', 'Shamoon', 'Haddad', 'Salib', 'Attia', 'Kassis', 'Sleiman', 'Maloof', 'Maroun', 'Koury', 'Asghar', 'Kalb', 'Asghar', 'Touma', 'Ganim', 'Rahal', 'Haddad', 'Zogby', 'Mansour', 'Guirguis', 'Touma', 'Maroun', 'Tannous', 'Hakimi', 'Baba', 'Toma', 'Botros', 'Sarraf', 'Koury', 'Sarraf', 'Nassar', 'Boutros', 'Guirguis', 'Qureshi', 'Aswad', 'Basara', 'Toma', 'Tuma', 'Mansour', 'Ba', 'Naifeh', 'Mikhail', 'Amari', 'Shamon', 'Malouf', 'Boutros', 'Hakimi', 'Srour', 'Morcos', 'Halabi', 'Bazzi', 'Abadi', 'Shamoun', 'Haddad', 'Baz', 'Baba', 'Hadad', 'Saliba', 'Haddad', 'Maalouf', 'Bitar', 'Shammas', 'Totah', 'Said', 'Najjar', 'Mikhail', 'Samaha', 'Boulos', 'Kalb', 'Shamon', 'Shamoun', 'Seif', 'Touma', 'Hajjar', 'Hadad', 'Atiyeh', 'Totah', 'Mansour', 'Nazari', 'Quraishi', 'Ba', 'Sarkis', 'Gerges', 'Shalhoub', 'Nazari', 'Issa', 'Salib', 'Shalhoub', 'Nassar', 'Guirguis', 'Daher', 'Hakimi', 'Attia', 'Cham', 'Isa', 'Hakimi', 'Amari', 'Boutros', 'Sarraf', 'Antoun', 'Botros', 'Haddad', 'Tahan', 'Bishara', 'Shalhoub', 'Safar', 'Haik', 'Tahan', 'Seif', 'Awad', 'Antoun', 'Atiyeh', 'Samaha', 'Assaf', 'Guirguis', 'Hadad', 'Sayegh', 'Khouri', 'Asghar', 'Tannous', 'Maalouf', 'Khouri', 'Hajjar', 'Abadi', 'Ghanem', 'Salib', 'Botros', 'Bitar', 'Bishara', 'Quraishi', 'Boutros', 'Aswad', 'Srour', 'Shamon', 'Abboud', 'Almasi', 'Baba', 'Tahan', 'Essa', 'Sabbag', 'Issa', 'Abadi', 'Abboud', 'Bazzi', 'Nader', 'Bahar', 'Ghannam', 'Asghar', 'Gaber', 'Sayegh', 'Guirguis', 'Srour', 'Asghar', 'Quraishi', 'Sayegh', 'Rahal', 'Tahan', 'Morcos', 'Cham', 'Kanaan', 'Nahas', 'Essa', 'Mifsud', 'Kouri', 'Isa', 'Saliba', 'Asfour', 'Guirguis', 'Isa', 'Bishara', 'Assaf', 'Naser', 'Moghadam', 'Kalb', 'Baba', 'Guirguis', 'Naifeh', 'Bitar', 'Samaha', 'Abboud', 'Hadad', 'Ghannam', 'Hanania', 'Shadid', 'Totah', 'Tahan', 'Toma', 'Maloof', 'Botros', 'Issa', 'Deeb', 'Nahas', 'Khoury', 'Sayegh', 'Harb', 'Said', 'Guirguis', 'Nader', 'Harb', 'Atiyeh', 'Zogby', 'Basara', 'Nassar', 'Kalb', 'Khoury', 'Mifsud', 'Wasem', 'Handal', 'Ganim', 'Harb', 'Ganim', 'Malouf', 'Sayegh', 'Khoury', 'Sabbag', 'Sabbag', 'Boulos', 'Malouf', 'Gaber', 'Shammas', 'Fakhoury', 'Halabi', 'Haddad', 'Asker', 'Morcos', 'Hanania', 'Amari', 'Kassab', 'Malouf', 'Khouri', 'Moghadam', 'Totah', 'Maloof', 'Atiyeh', 'Abadi', 'Baz', 'Khoury', 'Arian', 'Handal', 'Dagher', 'Awad', 'Atiyeh', 'Arian', 'Khoury', 'Amari', 'Attia', 'Ganim', 'Nader', 'Dagher', 'Sabbag', 'Halabi', 'Khouri', 'Khouri', 'Saliba', 'Mifsud', 'Koury', 'Awad', 'Bahar', 'Mustafa', 'Kassis', 'Gaber', 'Mifsud', 'Bishara', 'Asker', 'Nahas', 'Wasem', 'Sleiman', 'Bata', 'Daher', 'Antar', 'Isa', 'Ganim', 'Rahal', 'Toma', 'Rahal', 'Shamoun', 'Maloof', 'Hakimi', 'Safar', 'Gerges', 'Hanania', 'Koury', 'Assaf', 'Safar', 'Gerges', 'Ganim', 'Morcos', 'Awad', 'Arian', 'Tahan', 'Sleiman', 'Asker', 'Boulos', 'Koury', 'Mifsud', 'Sabbag', 'Dagher', 'Bazzi', 'Mustafa', 'Almasi', 'Handal', 'Isa', 'Guirguis', 'Sayegh', 'Ganim', 'Ghanem', 'Toma', 'Mustafa', 'Basara', 'Bitar', 'Samaha', 'Mifsud', 'Tahan', 'Issa', 'Salib', 'Khoury', 'Hadad', 'Haik', 'Gaber', 'Mansour', 'Hakimi', 'Ba', 'Mustafa', 'Gaber', 'Kattan', 'Koury', 'Awad', 'Maalouf', 'Masih', 'Harb', 'Atiyeh', 'Zogby', 'Nahas', 'Assaf', 'Morcos', 'Ganem', 'Ganem', 'Wasem', 'Fakhoury', 'Ghanem', 'Salib', 'Khouri', 'Maloof', 'Khouri', 'Shalhoub', 'Issa', 'Najjar', 'Kassis', 'Mustafa', 'Sayegh', 'Kassis', 'Hajjar', 'Nader', 'Sarkis', 'Tahan', 'Haddad', 'Antar', 'Sayegh', 'Zogby', 'Mifsud', 'Kassab', 'Hanania', 'Bishara', 'Shamoun', 'Abboud', 'Mustafa', 'Sleiman', 'Abadi', 'Sarraf', 'Zogby', 'Daher', 'Issa', 'Nazari', 'Shamon', 'Tuma', 'Asghar', 'Morcos', 'Mifsud', 'Cham', 'Sarraf', 'Antar', 'Ba', 'Aswad', 'Mikhail', 'Kouri', 'Mikhail', 'Awad', 'Halabi', 'Moghadam', 'Mikhail', 'Naifeh', 'Kattan', 'Shammas', 'Malouf', 'Najjar', 'Srour', 'Masih', 'Fakhoury', 'Khouri', 'Assaf', 'Mifsud', 'Malouf', 'Abboud', 'Shamoon', 'Mansour', 'Halabi', 'Ganem', 'Deeb', 'Wasem', 'Kalb', 'Safar', 'Tuma', 'Fakhoury', 'Toma', 'Guirguis', 'Kassab', 'Nader', 'Handal', 'Baba', 'Fakhoury', 'Haik', 'Guirguis', 'Seif', 'Almasi', 'Shamon', 'Ba', 'Salib', 'Zogby', 'Koury', 'Najjar', 'Atiyeh', 'Morcos', 'Antar', 'Awad', 'Hadad', 'Maroun', 'Touma', 'Almasi', 'Kassis', 'Arian', 'Malouf', 'Koury', 'Sarraf', 'Hadad', 'Bata', 'Tuma', 'Sarkis', 'Quraishi', 'Gaber', 'Abadi', 'Nader', 'Bazzi', 'Ghannam', 'Botros', 'Deeb', 'Awad', 'Kattan', 'Kanaan', 'Sarraf', 'Nahas', 'Assaf', 'Shadid', 'Gaber', 'Samaha', 'Harb', 'Samaha', 'Zogby', 'Atiyeh', 'Mustafa', 'Hanania', 'Isa', 'Almasi', 'Bitar', 'Fakhoury', 'Moghadam', 'Handal', 'Seif', 'Mustafa', 'Rahal', 'Antoun', 'Kassab', 'Bazzi', 'Hadad', 'Nader', 'Tuma', 'Basara', 'Totah', 'Nassar', 'Seif', 'Nassar', 'Daher', 'Daher', 'Maalouf', 'Rahal', 'Quraishi', 'Hadad', 'Bahar', 'Sabbag', 'Halabi', 'Tuma', 'Antoun', 'Boutros', 'Gerges', 'Bishara', 'Baba', 'Zogby', 'Nahas', 'Atiyeh', 'Rahal', 'Sabbagh', 'Bitar', 'Botros', 'Tuma', 'Ganim', 'Handal', 'Daher', 'Boutros', 'Khouri', 'Maroun', 'Mifsud', 'Arian', 'Safar', 'Koury', 'Deeb', 'Shamoun', 'Cham', 'Asghar', 'Morcos', 'Tahan', 'Salib', 'Aswad', 'Shadid', 'Saliba', 'Ganim', 'Haik', 'Kattan', 'Antoun', 'Hajjar', 'Toma', 'Toma', 'Antoun', 'Tahan', 'Haik', 'Kassis', 'Shamoun', 'Shammas', 'Kassis', 'Shadid', 'Samaha', 'Sarraf', 'Nader', 'Ganem', 'Zogby', 'Maloof', 'Kalb', 'Gerges', 'Seif', 'Nahas', 'Arian', 'Asfour', 'Hakimi', 'Ba', 'Handal', 'Abadi', 'Harb', 'Nader', 'Asghar', 'Sabbag', 'Touma', 'Amari', 'Kanaan', 'Hajjar', 'Said', 'Sarraf', 'Haddad', 'Mifsud', 'Shammas', 'Sleiman', 'Asfour', 'Deeb', 'Kattan', 'Naser', 'Said', 'Bishara', 'Harb', 'Morcos', 'Sayegh', 'Said', 'Naser', 'Aswad', 'Seif', 'Kouri', 'Dagher', 'Shamon', 'Hadad', 'Handal', 'Tuma', 'Shamon', 'Hakimi', 'Rahal', 'Hadad', 'Ghannam', 'Almasi', 'Daher', 'Handal', 'Malouf', 'Mansour', 'Sabbagh', 'Sabbag', 'Saliba', 'Haddad', 'Tahan', 'Khoury', 'Harb', 'Ganim', 'Mansour', 'Ganem', 'Handal', 'Handal', 'Antar', 'Asfour', 'Kouri', 'Cham', 'Masih', 'Saliba', 'Qureshi', 'Daher', 'Safar', 'Assaf', 'Harb', 'Abboud', 'Haik', 'Ghannam', 'Maalouf', 'Daher', 'Najjar', 'Mifsud', 'Daher', 'Amari', 'Saliba', 'Kanaan', 'Guirguis', 'Atiyeh', 'Sleiman', 'Mikhail', 'Arian', 'Wasem', 'Attia', 'Nassar', 'Cham', 'Koury', 'Baba', 'Guirguis', 'Morcos', 'Quraishi', 'Seif', 'Sarkis', 'Moghadam', 'Ba', 'Boutros', 'Nader', 'Gerges', 'Salib', 'Salib', 'Guirguis', 'Essa', 'Guirguis', 'Antoun', 'Kassis', 'Abboud', 'Najjar', 'Aswad', 'Srour', 'Mifsud', 'Ghanem', 'Bitar', 'Ghannam', 'Asghar', 'Deeb', 'Kalb', 'Nader', 'Srour', 'Attia', 'Shamon', 'Bata', 'Nahas', 'Gerges', 'Kanaan', 'Kassis', 'Sarkis', 'Maloof', 'Almasi', 'Nassar', 'Saliba', 'Arian', 'Ghanem', 'Awad', 'Naifeh', 'Boutros', 'Fakhoury', 'Sabbag', 'Antar', 'Tahan', 'Mustafa', 'Almasi', 'Shammas', 'Totah', 'Boutros', 'Cham', 'Shamon', 'Ganim', 'Ghanem', 'Assaf', 'Khoury', 'Naifeh', 'Bahar', 'Quraishi', 'Bishara', 'Cham', 'Asfour', 'Ghannam', 'Khoury', 'Sayegh', 'Hanania', 'Maroun', 'Kouri', 'Sarkis', 'Haik', 'Basara', 'Salib', 'Shammas', 'Fakhoury', 'Nahas', 'Ganim', 'Botros', 'Arian', 'Shalhoub', 'Hadad', 'Mustafa', 'Shalhoub', 'Kassab', 'Asker', 'Botros', 'Kanaan', 'Gaber', 'Bazzi', 'Sayegh', 'Nassar', 'Kassis', 'Fakhoury', 'Kassis', 'Amari', 'Sarraf', 'Mifsud', 'Salib', 'Samaha', 'Mustafa', 'Asfour', 'Najjar', 'Essa', 'Naifeh', 'Cham', 'Sarraf', 'Moghadam', 'Fakhoury', 'Assaf', 'Almasi', 'Asghar', 'Nader', 'Kalb', 'Shamoun', 'Gerges', 'Wasem', 'Morcos', 'Nader', 'Said', 'Safar', 'Quraishi', 'Samaha', 'Kassab', 'Deeb', 'Sarraf', 'Rahal', 'Naifeh', 'Ba', 'Nazari', 'Ganim', 'Arian', 'Asker', 'Touma', 'Kassab', 'Tahan', 'Mansour', 'Morcos', 'Shammas', 'Baba', 'Morcos', 'Isa', 'Moghadam', 'Ganem', 'Baz', 'Totah', 'Nader', 'Kouri', 'Guirguis', 'Koury', 'Zogby', 'Basara', 'Baz', 'Deeb', 'Mustafa', 'Shadid', 'Awad', 'Sarraf', 'Quraishi', 'Kanaan', 'Tahan', 'Ghannam', 'Shammas', 'Abboud', 'Najjar', 'Bishara', 'Tuma', 'Srour', 'Mifsud', 'Srour', 'Hajjar', 'Qureshi', 'Bitar', 'Hadad', 'Almasi', 'Wasem', 'Abadi', 'Maroun', 'Baz', 'Koury', 'Ganem', 'Awad', 'Maalouf', 'Mifsud', 'Haik', 'Sleiman', 'Arian', 'Seif', 'Mansour', 'Koury', 'Kattan', 'Koury', 'Aswad', 'Ba', 'Rahal', 'Zogby', 'Bahar', 'Fakhoury', 'Samaha', 'Sarraf', 'Mifsud', 'Antar', 'Moghadam', 'Botros', 'Srour', 'Sabbag', 'Sayegh', 'Rahal', 'Attia', 'Naifeh', 'Saliba', 'Mustafa', 'Amari', 'Issa', 'Masih', 'Khouri', 'Haddad', 'Kalb', 'Bazzi', 'Salib', 'Hanania', 'Shamoon', 'Tuma', 'Cham', 'Antoun', 'Wasem', 'Kouri', 'Ghanem', 'Wasem', 'Khoury', 'Assaf', 'Ganem', 'Seif', 'Nader', 'Essa', 'Shadid', 'Botros', 'Sleiman', 'Bishara', 'Basara', 'Maalouf', 'Issa', 'Nassar', 'Moghadam', 'Ganim', 'Kassis', 'Antoun', 'Said', 'Khouri', 'Salib', 'Baz', 'Sarkis', 'Tuma', 'Naifeh', 'Najjar', 'Asker', 'Khouri', 'Mustafa', 'Najjar', 'Sabbag', 'Malouf', 'Wasem', 'Maalouf', 'Gaber', 'Said', 'Zogby', 'Bahar', 'Hanania', 'Shalhoub', 'Abadi', 'Handal', 'Qureshi', 'Kanaan', 'Abboud', 'Mifsud', 'Touma', 'Ganim', 'Bishara', 'Bazzi', 'Gaber', 'Haik', 'Ghanem', 'Sarraf', 'Sarkis', 'Mustafa', 'Baz', 'Kanaan', 'Nazari', 'Bahar', 'Malouf', 'Quraishi', 'Kattan', 'Arian', 'Shadid', 'Tuma', 'Nader', 'Khoury', 'Safar', 'Wasem', 'Toma', 'Haddad', 'Quraishi', 'Nassar', 'Kanaan', 'Gaber', 'Haddad', 'Rahal', 'Koury', 'Harb', 'Mikhail', 'Dagher', 'Shadid', 'Boutros', 'Mikhail', 'Khouri', 'Nader', 'Issa', 'Harb', 'Dagher', 'Gerges', 'Morcos', 'Essa', 'Fakhoury', 'Tuma', 'Kattan', 'Totah', 'Qureshi', 'Nahas', 'Bitar', 'Tahan', 'Daher', 'Shammas', 'Kouri', 'Ganim', 'Daher', 'Awad', 'Malouf', 'Mustafa', 'Aswad']\n",
      "Chinese\n",
      "['Ang', 'AuYong', 'Bai', 'Ban', 'Bao', 'Bei', 'Bian', 'Bui', 'Cai', 'Cao', 'Cen', 'Chai', 'Chaim', 'Chan', 'Chang', 'Chao', 'Che', 'Chen', 'Cheng', 'Cheung', 'Chew', 'Chieu', 'Chin', 'Chong', 'Chou', 'Chu', 'Cui', 'Dai', 'Deng', 'Ding', 'Dong', 'Dou', 'Duan', 'Eng', 'Fan', 'Fei', 'Feng', 'Foong', 'Fung', 'Gan', 'Gauk', 'Geng', 'Gim', 'Gok', 'Gong', 'Guan', 'Guang', 'Guo', 'Gwock', 'Han', 'Hang', 'Hao', 'Hew', 'Hiu', 'Hong', 'Hor', 'Hsiao', 'Hua', 'Huan', 'Huang', 'Hui', 'Huie', 'Huo', 'Jia', 'Jiang', 'Jin', 'Jing', 'Joe', 'Kang', 'Kau', 'Khoo', 'Khu', 'Kong', 'Koo', 'Kwan', 'Kwei', 'Kwong', 'Lai', 'Lam', 'Lang', 'Lau', 'Law', 'Lew', 'Lian', 'Liao', 'Lim', 'Lin', 'Ling', 'Liu', 'Loh', 'Long', 'Loong', 'Luo', 'Mah', 'Mai', 'Mak', 'Mao', 'Mar', 'Mei', 'Meng', 'Miao', 'Min', 'Ming', 'Moy', 'Mui', 'Nie', 'Niu', 'OuYang', 'OwYang', 'Pan', 'Pang', 'Pei', 'Peng', 'Ping', 'Qian', 'Qin', 'Qiu', 'Quan', 'Que', 'Ran', 'Rao', 'Rong', 'Ruan', 'Sam', 'Seah', 'See ', 'Seow', 'Seto', 'Sha', 'Shan', 'Shang', 'Shao', 'Shaw', 'She', 'Shen', 'Sheng', 'Shi', 'Shu', 'Shuai', 'Shui', 'Shum', 'Siew', 'Siu', 'Song', 'Sum', 'Sun', 'Sze ', 'Tan', 'Tang', 'Tao', 'Teng', 'Teoh', 'Thean', 'Thian', 'Thien', 'Tian', 'Tong', 'Tow', 'Tsang', 'Tse', 'Tsen', 'Tso', 'Tze', 'Wan', 'Wang', 'Wei', 'Wen', 'Weng', 'Won', 'Wong', 'Woo', 'Xiang', 'Xiao', 'Xie', 'Xing', 'Xue', 'Xun', 'Yan', 'Yang', 'Yao', 'Yap', 'Yau', 'Yee', 'Yep', 'Yim', 'Yin', 'Ying', 'Yong', 'You', 'Yuan', 'Zang', 'Zeng', 'Zha', 'Zhan', 'Zhang', 'Zhao', 'Zhen', 'Zheng', 'Zhong', 'Zhou', 'Zhu', 'Zhuo', 'Zong', 'Zou', 'Bing', 'Chi', 'Chu', 'Cong', 'Cuan', 'Dan', 'Fei', 'Feng', 'Gai', 'Gao', 'Gou', 'Guan', 'Gui', 'Guo', 'Hong', 'Hou', 'Huan', 'Jian', 'Jiao', 'Jin', 'Jiu', 'Juan', 'Jue', 'Kan', 'Kuai', 'Kuang', 'Kui', 'Lao', 'Liang', 'Lu', 'Luo', 'Man', 'Nao', 'Pian', 'Qiao', 'Qing', 'Qiu', 'Rang', 'Rui', 'She', 'Shi', 'Shuo', 'Sui', 'Tai', 'Wan', 'Wei', 'Xian', 'Xie', 'Xin', 'Xing', 'Xiong', 'Xuan', 'Yan', 'Yin', 'Ying', 'Yuan', 'Yue', 'Yun', 'Zha', 'Zhai', 'Zhang', 'Zhi', 'Zhuan', 'Zhui']\n",
      "Italian\n",
      "['Abandonato', 'Abatangelo', 'Abatantuono', 'Abate', 'Abategiovanni']\n"
     ]
    }
   ],
   "source": [
    "# Check that it worked\n",
    "\n",
    "for c in all_categories[:2]:\n",
    "    print(c)\n",
    "    print(category_lines[c]) \n",
    "print('Italian')\n",
    "print(category_lines['Italian'][:5])"
   ]
  },
  {
   "attachments": {},
   "cell_type": "markdown",
   "metadata": {},
   "source": [
    "## One-hot representation of characters\n",
    "\n",
    "Next, let's see how to convert each letter in a word to a sequence of one-hot representations, for example mapping the character `b` tot he vector $[0 1 0 0 0 ...]$.\n",
    "The tensor size will be `linelength` $\\times$ 1 $\\times$ `nletters`. The first dimension is the number of characters in a given word/line of a data file,\n",
    "the second dimension is the index into the batch (we have a batch size of 1 here), and the third dimension indexes the different characters in the vocabulary.\n",
    "\n",
    "There are many ways to do it. Scikit-learn has functionality to perform one-hot encoding for an arbitrary dictionary:"
   ]
  },
  {
   "cell_type": "code",
   "execution_count": 8,
   "metadata": {},
   "outputs": [
    {
     "name": "stdout",
     "output_type": "stream",
     "text": [
      "tensor([[0., 0., 0., 0., 0., 0., 0., 0., 0., 0., 0., 0., 0., 0., 0., 0., 0., 0.,\n",
      "         0., 0., 0., 0., 0., 0., 0., 0., 0., 0., 0., 0., 0., 0., 0., 0., 0., 1.,\n",
      "         0., 0., 0., 0., 0., 0., 0., 0., 0., 0., 0., 0., 0., 0., 0., 0., 0., 0.,\n",
      "         0., 0., 0.]])\n",
      "torch.Size([5, 1, 57])\n"
     ]
    }
   ],
   "source": [
    "import torch\n",
    "\n",
    "# Find letter index from all_letters, e.g. \"a\" -> 0\n",
    "\n",
    "def letterToIndex(letter):\n",
    "    return all_letters.find(letter)\n",
    "\n",
    "# (For demonstration) turn a letter into a <1 x n_letters> tensor\n",
    "\n",
    "def letterToTensor(letter):\n",
    "    tensor = torch.zeros(1, n_letters)\n",
    "    tensor[0][letterToIndex(letter)] = 1\n",
    "    return tensor\n",
    "\n",
    "# Turn a line into a <line_length x 1 x n_letters> tensor\n",
    "# (an array of one-hot letter vectors)\n",
    "\n",
    "def lineToTensor(line):\n",
    "    tensor = torch.zeros(len(line), 1, n_letters)\n",
    "    for li, letter in enumerate(line):\n",
    "        tensor[li][0][letterToIndex(letter)] = 1\n",
    "    return tensor\n",
    "\n",
    "print(letterToTensor('J'))\n",
    "print(lineToTensor('Jones').size())"
   ]
  },
  {
   "cell_type": "markdown",
   "metadata": {},
   "source": [
    "## The RNN\n",
    "\n",
    "Next, let's implement the RNN structure itself:\n",
    "\n",
    "<img src=\"img/rnns_code2.png\" title=\"RNNs\" style=\"width: 400px;\" />"
   ]
  },
  {
   "attachments": {},
   "cell_type": "markdown",
   "metadata": {},
   "source": [
    "<img src=\"img/Figure10_3.png\" title=\"RNNs\" style=\"width: 400px;\" />"
   ]
  },
  {
   "attachments": {},
   "cell_type": "markdown",
   "metadata": {},
   "source": [
    "### RNNlman"
   ]
  },
  {
   "cell_type": "code",
   "execution_count": null,
   "metadata": {},
   "outputs": [],
   "source": []
  },
  {
   "attachments": {},
   "cell_type": "markdown",
   "metadata": {},
   "source": [
    "### RNNGoodFellow"
   ]
  },
  {
   "cell_type": "code",
   "execution_count": 9,
   "metadata": {},
   "outputs": [],
   "source": [
    "import torch.nn as nn\n",
    "\n",
    "class RNN(nn.Module):\n",
    "    def __init__(self, input_size, hidden_size, output_size):\n",
    "        super(RNN, self).__init__()\n",
    "\n",
    "        self.hidden_size = hidden_size\n",
    "\n",
    "        self.i2h = nn.Sequential(\n",
    "            nn.Linear(input_size + hidden_size, hidden_size),\n",
    "            nn.Tanh()\n",
    "            )\n",
    "        self.i2o = nn.Linear(hidden_size, output_size) #add tanh\n",
    "        self.softmax = nn.LogSoftmax(dim=1)  #logsoftmax thats why -2.XXX to avoid tiny bit of computation\n",
    "\n",
    "    def forward(self, input, hidden):\n",
    "        combined = torch.cat((input, hidden), 1)\n",
    "        hidden = self.i2h(combined)\n",
    "        output = self.i2o(hidden) #take from hidden\n",
    "        output = self.softmax(output)\n",
    "        return output, hidden\n",
    "\n",
    "    def initHidden(self):\n",
    "        return torch.zeros(1, self.hidden_size)"
   ]
  },
  {
   "cell_type": "code",
   "execution_count": 10,
   "metadata": {},
   "outputs": [],
   "source": [
    "n_hidden = 128\n",
    "rnn = RNN(n_letters, n_hidden, n_categories)"
   ]
  },
  {
   "cell_type": "code",
   "execution_count": 11,
   "metadata": {},
   "outputs": [
    {
     "data": {
      "text/plain": [
       "tensor([[-2.9334, -2.9737, -2.9333, -2.8142, -2.9702, -2.8929, -2.8506, -3.0158,\n",
       "         -2.9247, -2.8098, -2.7985, -2.8564, -2.9115, -2.8476, -2.9280, -2.7851,\n",
       "         -2.8723, -2.9465]], grad_fn=<LogSoftmaxBackward0>)"
      ]
     },
     "execution_count": 11,
     "metadata": {},
     "output_type": "execute_result"
    }
   ],
   "source": [
    "input = letterToTensor('A')\n",
    "hidden = torch.zeros(1, n_hidden)\n",
    "\n",
    "output, next_hidden = rnn(input, hidden)\n",
    "output"
   ]
  },
  {
   "cell_type": "code",
   "execution_count": 12,
   "metadata": {},
   "outputs": [
    {
     "name": "stdout",
     "output_type": "stream",
     "text": [
      "tensor([[-2.9334, -2.9737, -2.9333, -2.8142, -2.9702, -2.8929, -2.8506, -3.0158,\n",
      "         -2.9247, -2.8098, -2.7985, -2.8564, -2.9115, -2.8476, -2.9280, -2.7851,\n",
      "         -2.8723, -2.9465]], grad_fn=<LogSoftmaxBackward0>)\n",
      "tensor([[-2.9551, -2.9759, -2.9027, -2.8494, -2.9317, -2.8882, -2.8777, -2.9839,\n",
      "         -2.9443, -2.8444, -2.8229, -2.8255, -2.9672, -2.8300, -2.8579, -2.7978,\n",
      "         -2.8439, -2.9599]], grad_fn=<LogSoftmaxBackward0>)\n",
      "tensor([[-2.9986, -3.0087, -2.9168, -2.8014, -2.9429, -2.8627, -2.7926, -3.0548,\n",
      "         -2.8916, -2.8433, -2.8142, -2.8464, -2.9222, -2.8128, -2.9300, -2.7894,\n",
      "         -2.9092, -2.9414]], grad_fn=<LogSoftmaxBackward0>)\n",
      "tensor([[-2.9113, -2.9481, -2.8807, -2.8388, -2.9475, -2.8920, -2.8705, -3.0070,\n",
      "         -2.9282, -2.8480, -2.8188, -2.8148, -2.9828, -2.8147, -2.9343, -2.7894,\n",
      "         -2.8489, -2.9884]], grad_fn=<LogSoftmaxBackward0>)\n",
      "tensor([[-2.9338, -2.9932, -2.8765, -2.8184, -2.9674, -2.8944, -2.8151, -3.0160,\n",
      "         -2.9306, -2.8750, -2.8619, -2.8263, -2.9127, -2.8636, -2.8914, -2.7830,\n",
      "         -2.8535, -2.9481]], grad_fn=<LogSoftmaxBackward0>)\n",
      "tensor([[-2.9995, -2.9779, -2.9076, -2.8112, -2.9636, -2.8993, -2.8156, -2.9921,\n",
      "         -2.9019, -2.8608, -2.8683, -2.7631, -2.9274, -2.8402, -2.9230, -2.7651,\n",
      "         -2.8408, -3.0219]], grad_fn=<LogSoftmaxBackward0>)\n"
     ]
    }
   ],
   "source": [
    "input = lineToTensor('Albert')\n",
    "hidden = torch.zeros(1, n_hidden)\n",
    "\n",
    "next_hidden = hidden\n",
    "for i in range(input.shape[0]):\n",
    "    output, next_hidden = rnn(input[i], next_hidden)\n",
    "    print(output)"
   ]
  },
  {
   "cell_type": "markdown",
   "metadata": {},
   "source": [
    "### Training\n",
    "\n",
    "To get started with training, we need some helper functions.\n",
    "This one converts an output vector to a category:"
   ]
  },
  {
   "cell_type": "code",
   "execution_count": 15,
   "metadata": {},
   "outputs": [],
   "source": [
    "def categoryFromOutput(output):\n",
    "    top_n, top_i = output.topk(1)\n",
    "    category_i = top_i[0].item()\n",
    "    return all_categories[category_i], category_i\n",
    "\n",
    "# print(categoryFromOutput(output))"
   ]
  },
  {
   "cell_type": "code",
   "execution_count": 16,
   "metadata": {},
   "outputs": [],
   "source": [
    "import random\n",
    "\n",
    "def randomChoice(l):\n",
    "    # random.randint range is inclusive thus len(l)-1\n",
    "    return l[random.randint(0, len(l) - 1)]\n",
    "\n",
    "def randomTrainingExample():\n",
    "    category = randomChoice(all_categories)\n",
    "    line = randomChoice(category_lines[category])\n",
    "    category_tensor = torch.tensor([all_categories.index(category)], dtype=torch.long)\n",
    "    line_tensor = lineToTensor(line)\n",
    "    return category, line, category_tensor, line_tensor\n",
    "\n",
    "# for i in range(10):\n",
    "#     category, line, category_tensor, line_tensor = randomTrainingExample()\n",
    "#     print('category =', category, '/ line =', line)"
   ]
  },
  {
   "cell_type": "code",
   "execution_count": 17,
   "metadata": {},
   "outputs": [],
   "source": [
    "criterion = nn.NLLLoss() \n",
    "\n",
    "learning_rate = 0.005 # If you set this too high, it might explode. If too low, it might not learn\n",
    "\n",
    "def train(category_tensor, line_tensor):\n",
    "    hidden = rnn.initHidden()\n",
    "\n",
    "    rnn.zero_grad()\n",
    "\n",
    "    for i in range(line_tensor.size()[0]):\n",
    "        output, hidden = rnn(line_tensor[i], hidden)\n",
    "\n",
    "    loss = criterion(output, category_tensor)\n",
    "    loss.backward()\n",
    "\n",
    "    # Add parameters' gradients to their values, multiplied by learning rate\n",
    "    for p in rnn.parameters():\n",
    "        p.data.add_(- learning_rate * p.grad.data)\n",
    "\n",
    "    return output, loss.item()  "
   ]
  },
  {
   "cell_type": "code",
   "execution_count": 18,
   "metadata": {},
   "outputs": [
    {
     "name": "stdout",
     "output_type": "stream",
     "text": [
      "5000 5% (0m 7s) 2.5215 Dubanowski / Japanese ✗ (Polish)\n",
      "10000 10% (0m 15s) 2.7630 Schubert / Dutch ✗ (Czech)\n",
      "15000 15% (0m 22s) 2.5172 Noel / German ✗ (French)\n",
      "20000 20% (0m 30s) 1.4528 Pellegrino / Portuguese ✗ (Italian)\n",
      "25000 25% (0m 38s) 1.6819 Marmo / Portuguese ✗ (Italian)\n",
      "30000 30% (0m 47s) 2.7306 Oliver / Czech ✗ (French)\n",
      "35000 35% (0m 55s) 3.5994 Meeuwis / Greek ✗ (Dutch)\n",
      "40000 40% (1m 2s) 0.1821 Spyridis / Greek ✓\n",
      "45000 45% (1m 10s) 1.2285 Souza / Arabic ✗ (Portuguese)\n",
      "50000 50% (1m 17s) 0.5636 Christie / Scottish ✓\n",
      "55000 55% (1m 24s) 0.5454 Trieu / Vietnamese ✓\n",
      "60000 60% (1m 31s) 0.2179 Yu / Korean ✓\n",
      "65000 65% (1m 38s) 1.1173 Sobol / Polish ✓\n",
      "70000 70% (1m 46s) 1.9797 Onischuk / Arabic ✗ (Russian)\n",
      "75000 75% (1m 53s) 1.7990 Mateu / French ✗ (Spanish)\n",
      "80000 80% (2m 1s) 0.1213 Vuu / Vietnamese ✓\n",
      "85000 85% (2m 7s) 0.0173 Shimaoka / Japanese ✓\n",
      "90000 90% (2m 14s) 0.1498 Campbell / Scottish ✓\n",
      "95000 95% (2m 24s) 4.0601 Dana / Italian ✗ (Czech)\n",
      "100000 100% (2m 32s) 0.2682 Sniders / Dutch ✓\n"
     ]
    }
   ],
   "source": [
    "import time\n",
    "import math\n",
    "\n",
    "n_iters = 100000\n",
    "print_every = 5000\n",
    "plot_every = 1000\n",
    "\n",
    "# Keep track of losses for plotting\n",
    "current_loss = 0\n",
    "all_losses = []\n",
    "\n",
    "def timeSince(since):\n",
    "    now = time.time()\n",
    "    s = now - since\n",
    "    m = math.floor(s / 60)\n",
    "    s -= m * 60\n",
    "    return '%dm %ds' % (m, s)\n",
    "\n",
    "start = time.time()\n",
    "\n",
    "for iter in range(1, n_iters + 1):\n",
    "    category, line, category_tensor, line_tensor = randomTrainingExample()\n",
    "    output, loss = train(category_tensor, line_tensor)\n",
    "    current_loss += loss\n",
    "\n",
    "    # Print iter number, loss, name and guess\n",
    "    if iter % print_every == 0:\n",
    "        guess, guess_i = categoryFromOutput(output)\n",
    "        correct = '✓' if guess == category else '✗ (%s)' % category\n",
    "        print('%d %d%% (%s) %.4f %s / %s %s' % (iter, iter / n_iters * 100, timeSince(start), loss, line, guess, correct))\n",
    "\n",
    "    # Add current loss avg to list of losses\n",
    "    if iter % plot_every == 0:\n",
    "        all_losses.append(current_loss / plot_every)\n",
    "        current_loss = 0"
   ]
  },
  {
   "cell_type": "code",
   "execution_count": 19,
   "metadata": {},
   "outputs": [
    {
     "data": {
      "text/plain": [
       "[<matplotlib.lines.Line2D at 0x2c562745870>]"
      ]
     },
     "execution_count": 19,
     "metadata": {},
     "output_type": "execute_result"
    },
    {
     "data": {
      "image/png": "[encoded data removed]",
      "text/plain": [
       "<Figure size 432x288 with 1 Axes>"
      ]
     },
     "metadata": {
      "needs_background": "light"
     },
     "output_type": "display_data"
    }
   ],
   "source": [
    "import matplotlib.pyplot as plt\n",
    "import matplotlib.ticker as ticker\n",
    "\n",
    "plt.figure()\n",
    "plt.title('Training loss over time')\n",
    "plt.xlabel('Iteration/1000')\n",
    "plt.ylabel('Loss')\n",
    "plt.plot(all_losses)"
   ]
  },
  {
   "cell_type": "markdown",
   "metadata": {},
   "source": [
    "### Evaluation\n",
    "\n",
    "Great, we have a trained model. Let's get a confusion matrix:"
   ]
  },
  {
   "cell_type": "code",
   "execution_count": 20,
   "metadata": {},
   "outputs": [
    {
     "name": "stderr",
     "output_type": "stream",
     "text": [
      "C:\\Users\\Guntsv\\AppData\\Local\\Temp\\ipykernel_21628\\3585656379.py:33: UserWarning: FixedFormatter should only be used together with FixedLocator\n",
      "  ax.set_xticklabels([''] + all_categories, rotation=90)\n",
      "C:\\Users\\Guntsv\\AppData\\Local\\Temp\\ipykernel_21628\\3585656379.py:34: UserWarning: FixedFormatter should only be used together with FixedLocator\n",
      "  ax.set_yticklabels([''] + all_categories)\n"
     ]
    },
    {
     "data": {
      "image/png": "[encoded data removed]",
      "text/plain": [
       "<Figure size 432x288 with 2 Axes>"
      ]
     },
     "metadata": {
      "needs_background": "light"
     },
     "output_type": "display_data"
    }
   ],
   "source": [
    "# Keep track of correct guesses in a confusion matrix\n",
    "confusion = torch.zeros(n_categories, n_categories)\n",
    "n_confusion = 10000\n",
    "\n",
    "# Just return an output given a line\n",
    "def evaluate(line_tensor):\n",
    "    hidden = rnn.initHidden()\n",
    "\n",
    "    for i in range(line_tensor.size()[0]):\n",
    "        output, hidden = rnn(line_tensor[i], hidden)\n",
    "\n",
    "    return output\n",
    "\n",
    "# Go through a bunch of examples and record which are correctly guessed\n",
    "for i in range(n_confusion):\n",
    "    category, line, category_tensor, line_tensor = randomTrainingExample()\n",
    "    output = evaluate(line_tensor)\n",
    "    guess, guess_i = categoryFromOutput(output)\n",
    "    category_i = all_categories.index(category)\n",
    "    confusion[category_i][guess_i] += 1\n",
    "\n",
    "# Normalize by dividing every row by its sum\n",
    "for i in range(n_categories):\n",
    "    confusion[i] = confusion[i] / confusion[i].sum()\n",
    "\n",
    "# Set up plot\n",
    "fig = plt.figure()\n",
    "ax = fig.add_subplot(111)\n",
    "cax = ax.matshow(confusion.numpy())\n",
    "fig.colorbar(cax)\n",
    "\n",
    "# Set up axes\n",
    "ax.set_xticklabels([''] + all_categories, rotation=90)\n",
    "ax.set_yticklabels([''] + all_categories)\n",
    "\n",
    "# Force label at every tick\n",
    "ax.xaxis.set_major_locator(ticker.MultipleLocator(1))\n",
    "ax.yaxis.set_major_locator(ticker.MultipleLocator(1))\n",
    "\n",
    "# sphinx_gallery_thumbnail_number = 2\n",
    "plt.show()"
   ]
  },
  {
   "cell_type": "markdown",
   "metadata": {},
   "source": [
    "Take a look at the most likely confusions and see if they make sense.\n",
    "\n",
    "### Prediction on user input\n",
    "\n",
    "Finally, try classifying novel inputs:"
   ]
  },
  {
   "cell_type": "code",
   "execution_count": 21,
   "metadata": {},
   "outputs": [
    {
     "name": "stdout",
     "output_type": "stream",
     "text": [
      "\n",
      "> Dovesky\n",
      "(-0.63) Russian\n",
      "(-1.01) Czech\n",
      "(-3.09) Polish\n",
      "\n",
      "> Jackson\n",
      "(-0.20) Scottish\n",
      "(-2.45) English\n",
      "(-2.98) Czech\n",
      "\n",
      "> Satoshi\n",
      "(-0.12) Japanese\n",
      "(-3.28) Arabic\n",
      "(-3.48) Polish\n",
      "\n",
      "> Todsavad\n",
      "(-0.93) French\n",
      "(-1.34) Dutch\n",
      "(-2.20) Russian\n"
     ]
    }
   ],
   "source": [
    "def predict(input_line, n_predictions=3):\n",
    "    print('\\n> %s' % input_line)\n",
    "    with torch.no_grad():\n",
    "        output = evaluate(lineToTensor(input_line))\n",
    "\n",
    "        # Get top N categories\n",
    "        topv, topi = output.topk(n_predictions, 1, True)\n",
    "        predictions = []\n",
    "\n",
    "        for i in range(n_predictions):\n",
    "            value = topv[0][i].item()\n",
    "            category_index = topi[0][i].item()\n",
    "            print('(%.2f) %s' % (value, all_categories[category_index]))\n",
    "            predictions.append([value, all_categories[category_index]])\n",
    "\n",
    "predict('Dovesky')\n",
    "predict('Jackson')\n",
    "predict('Satoshi')\n",
    "predict('Todsavad')"
   ]
  },
  {
   "attachments": {},
   "cell_type": "markdown",
   "metadata": {},
   "source": [
    "# Task 2. \n",
    "Explore methods for batching patterns of different length prior to presentation to a RNN and implement them. See how much speedup you can get from the GPU with minibatch training."
   ]
  },
  {
   "cell_type": "code",
   "execution_count": 22,
   "metadata": {},
   "outputs": [],
   "source": [
    "# Set device to GPU or CPU\n",
    "device = torch.device(\"cuda:2\" if torch.cuda.is_available() else \"cpu\")"
   ]
  },
  {
   "cell_type": "code",
   "execution_count": 23,
   "metadata": {},
   "outputs": [
    {
     "name": "stdout",
     "output_type": "stream",
     "text": [
      "20074\n",
      "20074\n"
     ]
    }
   ],
   "source": [
    "names = []\n",
    "targets = []\n",
    "\n",
    "for k,v in category_lines.items():\n",
    "    for name in v:\n",
    "        names.append(name)\n",
    "        targets.append(k)\n",
    "\n",
    "print(len(names))\n",
    "print(len(targets))"
   ]
  },
  {
   "cell_type": "code",
   "execution_count": 24,
   "metadata": {},
   "outputs": [],
   "source": [
    "from sklearn.model_selection import train_test_split\n",
    "X_train, X_test, y_train, y_test = train_test_split(names, targets, test_size = 0.2, random_state = 123, stratify = targets)"
   ]
  },
  {
   "cell_type": "code",
   "execution_count": 30,
   "metadata": {},
   "outputs": [
    {
     "name": "stdout",
     "output_type": "stream",
     "text": [
      "The number of train data :  16059\n",
      "The number of test data  :  4015\n"
     ]
    }
   ],
   "source": [
    "print(\"The number of train data : \", len(X_train))\n",
    "print(\"The number of test data  : \", len(X_test))"
   ]
  },
  {
   "cell_type": "code",
   "execution_count": 43,
   "metadata": {},
   "outputs": [
    {
     "name": "stdout",
     "output_type": "stream",
     "text": [
      "torch.Size([3, 1, 57])\n",
      "tensor([9])\n",
      "torch.Size([1])\n"
     ]
    }
   ],
   "source": [
    "import torch\n",
    "\n",
    "# Find letter index from all_letters, e.g. \"a\" -> 0\n",
    "\n",
    "def letterToIndex(letter):\n",
    "    return all_letters.find(letter)\n",
    "\n",
    "# (For demonstration) turn a letter into a <1 x n_letters> tensor\n",
    "\n",
    "def letterToTensor(letter):\n",
    "    tensor = torch.zeros(1, n_letters)\n",
    "    tensor[0][letterToIndex(letter)] = 1\n",
    "    return tensor\n",
    "\n",
    "# Turn a line into a <line_length x 1 x n_letters> tensor\n",
    "# (an array of one-hot letter vectors)\n",
    "\n",
    "def lineToTensor(line):\n",
    "    tensor = torch.zeros(len(line), 1, n_letters)\n",
    "    for li, letter in enumerate(line):\n",
    "        tensor[li][0][letterToIndex(letter)] = 1\n",
    "    return tensor\n",
    "\n",
    "#function to create vec representation of the language\n",
    "def langugaeToTensor(lang):\n",
    "    return torch.tensor([all_categories.index(lang)], dtype = torch.long)\n",
    "\n",
    "print(lineToTensor('Gun').size())\n",
    "\n",
    "print(langugaeToTensor(\"Italian\"))\n",
    "print(langugaeToTensor(\"Italian\").size())"
   ]
  },
  {
   "attachments": {},
   "cell_type": "markdown",
   "metadata": {},
   "source": [
    "### RNN model "
   ]
  },
  {
   "cell_type": "code",
   "execution_count": 47,
   "metadata": {},
   "outputs": [],
   "source": [
    "#create simple rnn network \n",
    "import torch.nn as nn\n",
    "class RNN_model(nn.Module):\n",
    "    #Create a constructor\n",
    "    def __init__(self, input_size, hidden_size, output_size):\n",
    "        super(RNN_model, self).__init__()\n",
    "        self.hidden_size = hidden_size \n",
    "\n",
    "        # Applies a multi-layer Elman RNN with \\tanhtanh or \\text{ReLU}ReLU non-linearity to an input sequence.\n",
    "        self.rnn_cell = nn.RNN(input_size, hidden_size)\n",
    "\n",
    "        self.i20 = nn.Linear(hidden_size, output_size)\n",
    "        self.softmax = nn.LogSoftmax(dim = 1)\n",
    "\n",
    "    #create a forward pass function\n",
    "    def forward(self, input_, hidden = None, batch_size = 1):\n",
    "        out, hidden = self.rnn_cell(input_, hidden)\n",
    "        output      = self.i20(hidden.view(-1, self.hidden_size))\n",
    "        output      = self.softmax(output)\n",
    "        return output, hidden\n",
    "\n",
    "    def init_hidden(self, batch_size = 1):\n",
    "        #function to init the hidden layers\n",
    "        return torch.zeros(1, batch_size, self.hidden_size)"
   ]
  },
  {
   "cell_type": "code",
   "execution_count": 48,
   "metadata": {},
   "outputs": [],
   "source": [
    "#function to run interference\n",
    "def infer(model, name, device = \"cpu\"):\n",
    "    name_tensor = lineToTensor(name).to(device)\n",
    "    #get the output\n",
    "    output, hidden = model(name_tensor)\n",
    "    if type(hidden) is tuple: #for LSTM\n",
    "        hidden = hidden[0]\n",
    "    index = torch.argmax(hidden)\n",
    "\n",
    "    return output"
   ]
  },
  {
   "cell_type": "code",
   "execution_count": 49,
   "metadata": {},
   "outputs": [
    {
     "name": "stdout",
     "output_type": "stream",
     "text": [
      "Total number of languages present:  18\n"
     ]
    }
   ],
   "source": [
    "#create hidden layers\n",
    "n_hidden = 128 #hidden layers count\n",
    "#number of languages\n",
    "n_languages = len(category_lines.keys())\n",
    "print(\"Total number of languages present: \", n_languages)\n",
    "#initialize the network\n",
    "model = RNN_model(n_letters, n_hidden, n_languages)\n",
    "model = model.to(device)"
   ]
  },
  {
   "cell_type": "code",
   "execution_count": 51,
   "metadata": {},
   "outputs": [
    {
     "data": {
      "text/plain": [
       "tensor([[-2.9011, -2.9324, -2.9716, -2.7964, -2.8353, -2.8660, -2.9361, -2.8852,\n",
       "         -2.8852, -2.9123, -2.8523, -3.0221, -2.8715, -2.8568, -2.7716, -2.8899,\n",
       "         -2.9558, -2.9164]], grad_fn=<LogSoftmaxBackward0>)"
      ]
     },
     "execution_count": 51,
     "metadata": {},
     "output_type": "execute_result"
    }
   ],
   "source": [
    "input = lineToTensor('G')\n",
    "\n",
    "# put stuff on GPU\n",
    "input = input.to(device)\n",
    "hidden = torch.zeros((1,1, n_hidden)).to(device)\n",
    "\n",
    "output, next_hidden = model(input, hidden)\n",
    "output"
   ]
  },
  {
   "cell_type": "code",
   "execution_count": 53,
   "metadata": {},
   "outputs": [
    {
     "name": "stdout",
     "output_type": "stream",
     "text": [
      "tensor([[-2.9011, -2.9324, -2.9716, -2.7964, -2.8353, -2.8660, -2.9361, -2.8852,\n",
      "         -2.8852, -2.9123, -2.8523, -3.0221, -2.8715, -2.8568, -2.7716, -2.8899,\n",
      "         -2.9558, -2.9164]], grad_fn=<LogSoftmaxBackward0>)\n",
      "tensor([[-2.9282, -2.9227, -2.9692, -2.8450, -2.8584, -2.8262, -2.8676, -2.8613,\n",
      "         -2.8829, -2.9214, -2.8687, -2.8862, -2.9240, -2.9008, -2.7623, -2.9447,\n",
      "         -2.9735, -2.9071]], grad_fn=<LogSoftmaxBackward0>)\n",
      "tensor([[-2.9581, -2.9398, -2.9089, -2.8102, -2.8193, -2.8553, -2.9010, -2.8957,\n",
      "         -2.8653, -2.9184, -2.8371, -2.9643, -2.9203, -2.8926, -2.7802, -2.8942,\n",
      "         -2.9722, -2.9192]], grad_fn=<LogSoftmaxBackward0>)\n"
     ]
    }
   ],
   "source": [
    "input = lineToTensor('Gun')\n",
    "hidden = torch.zeros((1,1, n_hidden))\n",
    "\n",
    "# put stuff on GPU\n",
    "input = input.to(device)\n",
    "hidden = hidden.to(device)\n",
    "\n",
    "next_hidden = hidden\n",
    "for i in range(input.shape[0]):\n",
    "    output, next_hidden = model(input[i].reshape(1,1,-1), next_hidden)\n",
    "    print(output)"
   ]
  },
  {
   "cell_type": "markdown",
   "metadata": {},
   "source": [
    "Visualization"
   ]
  },
  {
   "cell_type": "code",
   "execution_count": 54,
   "metadata": {},
   "outputs": [
    {
     "name": "stdout",
     "output_type": "stream",
     "text": [
      "{'Arabic': 2000, 'Chinese': 268, 'Czech': 519, 'Dutch': 297, 'English': 3668, 'French': 277, 'German': 724, 'Greek': 203, 'Irish': 232, 'Italian': 709, 'Japanese': 991, 'Korean': 94, 'Polish': 139, 'Portuguese': 74, 'Russian': 9408, 'Scottish': 100, 'Spanish': 298, 'Vietnamese': 73}\n"
     ]
    }
   ],
   "source": [
    "count = {}\n",
    "for l in all_categories: \n",
    "    count[l] = 0\n",
    "for k,v in category_lines.items():\n",
    "    count[k] += len(v)\n",
    "\n",
    "print(count)"
   ]
  },
  {
   "cell_type": "code",
   "execution_count": 55,
   "metadata": {},
   "outputs": [
    {
     "name": "stderr",
     "output_type": "stream",
     "text": [
      "c:\\Python3.10.4\\lib\\site-packages\\seaborn\\_decorators.py:36: FutureWarning: Pass the following variables as keyword args: x, y. From version 0.12, the only valid positional argument will be `data`, and passing other arguments without an explicit keyword will result in an error or misinterpretation.\n",
      "  warnings.warn(\n"
     ]
    },
    {
     "data": {
      "image/png": "[encoded data removed]",
      "text/plain": [
       "<Figure size 432x288 with 1 Axes>"
      ]
     },
     "metadata": {
      "needs_background": "light"
     },
     "output_type": "display_data"
    }
   ],
   "source": [
    "import seaborn as sns\n",
    "import matplotlib.pyplot as plt\n",
    "plt_ = sns.barplot(list(count.keys()), list(count.values()))\n",
    "plt_.set_xticklabels(plt_.get_xticklabels(), rotation=90)\n",
    "plt.show() #Biassssssssssssssssssssssssssss"
   ]
  },
  {
   "attachments": {},
   "cell_type": "markdown",
   "metadata": {},
   "source": [
    "Dataloader & Evaluate Model\n",
    "\n",
    "Check whether it works before training!"
   ]
  },
  {
   "cell_type": "code",
   "execution_count": 56,
   "metadata": {},
   "outputs": [],
   "source": [
    "import numpy as np\n",
    "def dataloader(npoints, X_, y_):\n",
    "    \"\"\"Function to load the data\"\"\"\n",
    "    loader = []\n",
    "    for i in range(npoints):\n",
    "        index_ = np.random.randint(len(X_))\n",
    "        name, lang = X_[index_], y_[index_] #subset the data\n",
    "        loader.append((name, lang, lineToTensor(name), langugaeToTensor(lang)))\n",
    "    \n",
    "    return loader"
   ]
  },
  {
   "cell_type": "code",
   "execution_count": 57,
   "metadata": {},
   "outputs": [
    {
     "data": {
      "text/plain": [
       "[('Tokaev',\n",
       "  'Russian',\n",
       "  tensor([[[0., 0., 0., 0., 0., 0., 0., 0., 0., 0., 0., 0., 0., 0., 0., 0., 0.,\n",
       "            0., 0., 0., 0., 0., 0., 0., 0., 0., 0., 0., 0., 0., 0., 0., 0., 0.,\n",
       "            0., 0., 0., 0., 0., 0., 0., 0., 0., 0., 0., 1., 0., 0., 0., 0., 0.,\n",
       "            0., 0., 0., 0., 0., 0.]],\n",
       "  \n",
       "          [[0., 0., 0., 0., 0., 0., 0., 0., 0., 0., 0., 0., 0., 0., 1., 0., 0.,\n",
       "            0., 0., 0., 0., 0., 0., 0., 0., 0., 0., 0., 0., 0., 0., 0., 0., 0.,\n",
       "            0., 0., 0., 0., 0., 0., 0., 0., 0., 0., 0., 0., 0., 0., 0., 0., 0.,\n",
       "            0., 0., 0., 0., 0., 0.]],\n",
       "  \n",
       "          [[0., 0., 0., 0., 0., 0., 0., 0., 0., 0., 1., 0., 0., 0., 0., 0., 0.,\n",
       "            0., 0., 0., 0., 0., 0., 0., 0., 0., 0., 0., 0., 0., 0., 0., 0., 0.,\n",
       "            0., 0., 0., 0., 0., 0., 0., 0., 0., 0., 0., 0., 0., 0., 0., 0., 0.,\n",
       "            0., 0., 0., 0., 0., 0.]],\n",
       "  \n",
       "          [[1., 0., 0., 0., 0., 0., 0., 0., 0., 0., 0., 0., 0., 0., 0., 0., 0.,\n",
       "            0., 0., 0., 0., 0., 0., 0., 0., 0., 0., 0., 0., 0., 0., 0., 0., 0.,\n",
       "            0., 0., 0., 0., 0., 0., 0., 0., 0., 0., 0., 0., 0., 0., 0., 0., 0.,\n",
       "            0., 0., 0., 0., 0., 0.]],\n",
       "  \n",
       "          [[0., 0., 0., 0., 1., 0., 0., 0., 0., 0., 0., 0., 0., 0., 0., 0., 0.,\n",
       "            0., 0., 0., 0., 0., 0., 0., 0., 0., 0., 0., 0., 0., 0., 0., 0., 0.,\n",
       "            0., 0., 0., 0., 0., 0., 0., 0., 0., 0., 0., 0., 0., 0., 0., 0., 0.,\n",
       "            0., 0., 0., 0., 0., 0.]],\n",
       "  \n",
       "          [[0., 0., 0., 0., 0., 0., 0., 0., 0., 0., 0., 0., 0., 0., 0., 0., 0.,\n",
       "            0., 0., 0., 0., 1., 0., 0., 0., 0., 0., 0., 0., 0., 0., 0., 0., 0.,\n",
       "            0., 0., 0., 0., 0., 0., 0., 0., 0., 0., 0., 0., 0., 0., 0., 0., 0.,\n",
       "            0., 0., 0., 0., 0., 0.]]]),\n",
       "  tensor([14])),\n",
       " ('Roijacker',\n",
       "  'Dutch',\n",
       "  tensor([[[0., 0., 0., 0., 0., 0., 0., 0., 0., 0., 0., 0., 0., 0., 0., 0., 0.,\n",
       "            0., 0., 0., 0., 0., 0., 0., 0., 0., 0., 0., 0., 0., 0., 0., 0., 0.,\n",
       "            0., 0., 0., 0., 0., 0., 0., 0., 0., 1., 0., 0., 0., 0., 0., 0., 0.,\n",
       "            0., 0., 0., 0., 0., 0.]],\n",
       "  \n",
       "          [[0., 0., 0., 0., 0., 0., 0., 0., 0., 0., 0., 0., 0., 0., 1., 0., 0.,\n",
       "            0., 0., 0., 0., 0., 0., 0., 0., 0., 0., 0., 0., 0., 0., 0., 0., 0.,\n",
       "            0., 0., 0., 0., 0., 0., 0., 0., 0., 0., 0., 0., 0., 0., 0., 0., 0.,\n",
       "            0., 0., 0., 0., 0., 0.]],\n",
       "  \n",
       "          [[0., 0., 0., 0., 0., 0., 0., 0., 1., 0., 0., 0., 0., 0., 0., 0., 0.,\n",
       "            0., 0., 0., 0., 0., 0., 0., 0., 0., 0., 0., 0., 0., 0., 0., 0., 0.,\n",
       "            0., 0., 0., 0., 0., 0., 0., 0., 0., 0., 0., 0., 0., 0., 0., 0., 0.,\n",
       "            0., 0., 0., 0., 0., 0.]],\n",
       "  \n",
       "          [[0., 0., 0., 0., 0., 0., 0., 0., 0., 1., 0., 0., 0., 0., 0., 0., 0.,\n",
       "            0., 0., 0., 0., 0., 0., 0., 0., 0., 0., 0., 0., 0., 0., 0., 0., 0.,\n",
       "            0., 0., 0., 0., 0., 0., 0., 0., 0., 0., 0., 0., 0., 0., 0., 0., 0.,\n",
       "            0., 0., 0., 0., 0., 0.]],\n",
       "  \n",
       "          [[1., 0., 0., 0., 0., 0., 0., 0., 0., 0., 0., 0., 0., 0., 0., 0., 0.,\n",
       "            0., 0., 0., 0., 0., 0., 0., 0., 0., 0., 0., 0., 0., 0., 0., 0., 0.,\n",
       "            0., 0., 0., 0., 0., 0., 0., 0., 0., 0., 0., 0., 0., 0., 0., 0., 0.,\n",
       "            0., 0., 0., 0., 0., 0.]],\n",
       "  \n",
       "          [[0., 0., 1., 0., 0., 0., 0., 0., 0., 0., 0., 0., 0., 0., 0., 0., 0.,\n",
       "            0., 0., 0., 0., 0., 0., 0., 0., 0., 0., 0., 0., 0., 0., 0., 0., 0.,\n",
       "            0., 0., 0., 0., 0., 0., 0., 0., 0., 0., 0., 0., 0., 0., 0., 0., 0.,\n",
       "            0., 0., 0., 0., 0., 0.]],\n",
       "  \n",
       "          [[0., 0., 0., 0., 0., 0., 0., 0., 0., 0., 1., 0., 0., 0., 0., 0., 0.,\n",
       "            0., 0., 0., 0., 0., 0., 0., 0., 0., 0., 0., 0., 0., 0., 0., 0., 0.,\n",
       "            0., 0., 0., 0., 0., 0., 0., 0., 0., 0., 0., 0., 0., 0., 0., 0., 0.,\n",
       "            0., 0., 0., 0., 0., 0.]],\n",
       "  \n",
       "          [[0., 0., 0., 0., 1., 0., 0., 0., 0., 0., 0., 0., 0., 0., 0., 0., 0.,\n",
       "            0., 0., 0., 0., 0., 0., 0., 0., 0., 0., 0., 0., 0., 0., 0., 0., 0.,\n",
       "            0., 0., 0., 0., 0., 0., 0., 0., 0., 0., 0., 0., 0., 0., 0., 0., 0.,\n",
       "            0., 0., 0., 0., 0., 0.]],\n",
       "  \n",
       "          [[0., 0., 0., 0., 0., 0., 0., 0., 0., 0., 0., 0., 0., 0., 0., 0., 0.,\n",
       "            1., 0., 0., 0., 0., 0., 0., 0., 0., 0., 0., 0., 0., 0., 0., 0., 0.,\n",
       "            0., 0., 0., 0., 0., 0., 0., 0., 0., 0., 0., 0., 0., 0., 0., 0., 0.,\n",
       "            0., 0., 0., 0., 0., 0.]]]),\n",
       "  tensor([3]))]"
      ]
     },
     "execution_count": 57,
     "metadata": {},
     "output_type": "execute_result"
    }
   ],
   "source": [
    "dataloader(2, X_train, y_train)"
   ]
  },
  {
   "cell_type": "code",
   "execution_count": 58,
   "metadata": {},
   "outputs": [],
   "source": [
    "def eval(net, n_points, topk, X_, y_, device = \"cpu\"):\n",
    "    \"Evaluation function\"\n",
    "\n",
    "    net = net.eval().to(device)\n",
    "    data_ = dataloader(n_points, X_, y_)\n",
    "    correct = 0\n",
    "\n",
    "    #iterate\n",
    "    for name, language, name_ohe, lang_rep in data_:\n",
    "\n",
    "        #get the output\n",
    "        output = infer(net, name, device)\n",
    "        val, indices = output.topk(topk) #get the top k values\n",
    "        indices = indices.to(device) #convert to devices\n",
    "        \n",
    "        if lang_rep in indices:\n",
    "            correct += 1\n",
    "\n",
    "    accuracy = correct/n_points\n",
    "    return accuracy"
   ]
  },
  {
   "cell_type": "code",
   "execution_count": 59,
   "metadata": {},
   "outputs": [
    {
     "data": {
      "text/plain": [
       "0.404"
      ]
     },
     "execution_count": 59,
     "metadata": {},
     "output_type": "execute_result"
    }
   ],
   "source": [
    "#test the evaluation function\n",
    "eval(model, 1000, 1, X_test, y_test)"
   ]
  },
  {
   "attachments": {},
   "cell_type": "markdown",
   "metadata": {},
   "source": [
    "Batching pytorch"
   ]
  },
  {
   "cell_type": "code",
   "execution_count": 72,
   "metadata": {},
   "outputs": [],
   "source": [
    "#create a batched name rep\n",
    "def batched_lineToTensor(names, max_word_size):\n",
    "    rep = torch.zeros(max_word_size, len(names), n_letters)\n",
    "    for name_index, name in enumerate(names):\n",
    "        for letter_index, letter in enumerate(name):\n",
    "            pos = all_letters.find(letter)\n",
    "            rep[letter_index][name_index][pos] = 1\n",
    "    return rep\n",
    "\n",
    "def print_char(name_reps):\n",
    "    name_reps = name_reps.view((-1, name_reps.size()[-1]))\n",
    "    for t in name_reps: \n",
    "        if torch.sum(t) == 0:\n",
    "            print('<pad>')\n",
    "        else:\n",
    "            index = t.argmax()\n",
    "            print(all_letters[index])\n",
    "\n",
    "def batched_languageToTensor(langs):\n",
    "    rep = torch.zeros([len(langs)], dtype=torch.long)\n",
    "    for index, lang in enumerate(langs):\n",
    "        rep[index] = all_categories.index(lang)\n",
    "    return rep"
   ]
  },
  {
   "cell_type": "code",
   "execution_count": 73,
   "metadata": {},
   "outputs": [],
   "source": [
    "#create dataloader\n",
    "def batched_dataloader(npoints, X_, y_, verbose=False, device = 'cpu'):\n",
    "    names = []\n",
    "    langs = []\n",
    "    X_lengths = []\n",
    "    \n",
    "    for i in range(npoints):\n",
    "        index_ = np.random.randint(len(X_))\n",
    "        name, lang = X_[index_], y_[index_]\n",
    "        X_lengths.append(len(name))\n",
    "        names.append(name)\n",
    "        langs.append(lang)\n",
    "    max_length = max(X_lengths)\n",
    "    \n",
    "    names_rep = batched_lineToTensor(names, max_length).to(device)\n",
    "    langs_rep = batched_languageToTensor(langs).to(device)\n",
    "    \n",
    "    padded_names_rep = torch.nn.utils.rnn.pack_padded_sequence(names_rep, X_lengths, enforce_sorted = False)\n",
    "    \n",
    "    if verbose:\n",
    "        print(names_rep.shape, padded_names_rep.data.shape)\n",
    "        print('--')\n",
    "    \n",
    "    if verbose:\n",
    "        print(names)\n",
    "        print_char(names_rep)\n",
    "        print('--')\n",
    "    \n",
    "    if verbose:\n",
    "        print_char(padded_names_rep.data)\n",
    "        print('LanguageToTensor', langs_rep.data)\n",
    "        print('Batch sizes', padded_names_rep.batch_sizes)\n",
    "    \n",
    "    \n",
    "    return padded_names_rep.to(device), langs_rep"
   ]
  },
  {
   "cell_type": "code",
   "execution_count": 74,
   "metadata": {},
   "outputs": [
    {
     "name": "stdout",
     "output_type": "stream",
     "text": [
      "G\n",
      "T\n",
      "u\n",
      "o\n",
      "n\n",
      "n\n",
      "<pad>\n",
      "s\n",
      "<pad>\n",
      "o\n",
      "<pad>\n",
      "n\n"
     ]
    }
   ],
   "source": [
    "out_ = batched_lineToTensor(['Gun', 'Tonson'], 6)\n",
    "print_char(out_)"
   ]
  },
  {
   "cell_type": "code",
   "execution_count": 75,
   "metadata": {},
   "outputs": [
    {
     "name": "stdout",
     "output_type": "stream",
     "text": [
      "torch.Size([9, 2, 57]) torch.Size([15, 57])\n",
      "--\n",
      "['Leiferkus', 'Wahner']\n",
      "L\n",
      "W\n",
      "e\n",
      "a\n",
      "i\n",
      "h\n",
      "f\n",
      "n\n",
      "e\n",
      "e\n",
      "r\n",
      "r\n",
      "k\n",
      "<pad>\n",
      "u\n",
      "<pad>\n",
      "s\n",
      "<pad>\n",
      "--\n",
      "L\n",
      "W\n",
      "e\n",
      "a\n",
      "i\n",
      "h\n",
      "f\n",
      "n\n",
      "e\n",
      "e\n",
      "r\n",
      "r\n",
      "k\n",
      "u\n",
      "s\n",
      "LanguageToTensor tensor([14,  6])\n",
      "Batch sizes tensor([2, 2, 2, 2, 2, 2, 1, 1, 1])\n"
     ]
    },
    {
     "data": {
      "text/plain": [
       "(PackedSequence(data=tensor([[0., 0., 0., 0., 0., 0., 0., 0., 0., 0., 0., 0., 0., 0., 0., 0., 0., 0.,\n",
       "          0., 0., 0., 0., 0., 0., 0., 0., 0., 0., 0., 0., 0., 0., 0., 0., 0., 0.,\n",
       "          0., 1., 0., 0., 0., 0., 0., 0., 0., 0., 0., 0., 0., 0., 0., 0., 0., 0.,\n",
       "          0., 0., 0.],\n",
       "         [0., 0., 0., 0., 0., 0., 0., 0., 0., 0., 0., 0., 0., 0., 0., 0., 0., 0.,\n",
       "          0., 0., 0., 0., 0., 0., 0., 0., 0., 0., 0., 0., 0., 0., 0., 0., 0., 0.,\n",
       "          0., 0., 0., 0., 0., 0., 0., 0., 0., 0., 0., 0., 1., 0., 0., 0., 0., 0.,\n",
       "          0., 0., 0.],\n",
       "         [0., 0., 0., 0., 1., 0., 0., 0., 0., 0., 0., 0., 0., 0., 0., 0., 0., 0.,\n",
       "          0., 0., 0., 0., 0., 0., 0., 0., 0., 0., 0., 0., 0., 0., 0., 0., 0., 0.,\n",
       "          0., 0., 0., 0., 0., 0., 0., 0., 0., 0., 0., 0., 0., 0., 0., 0., 0., 0.,\n",
       "          0., 0., 0.],\n",
       "         [1., 0., 0., 0., 0., 0., 0., 0., 0., 0., 0., 0., 0., 0., 0., 0., 0., 0.,\n",
       "          0., 0., 0., 0., 0., 0., 0., 0., 0., 0., 0., 0., 0., 0., 0., 0., 0., 0.,\n",
       "          0., 0., 0., 0., 0., 0., 0., 0., 0., 0., 0., 0., 0., 0., 0., 0., 0., 0.,\n",
       "          0., 0., 0.],\n",
       "         [0., 0., 0., 0., 0., 0., 0., 0., 1., 0., 0., 0., 0., 0., 0., 0., 0., 0.,\n",
       "          0., 0., 0., 0., 0., 0., 0., 0., 0., 0., 0., 0., 0., 0., 0., 0., 0., 0.,\n",
       "          0., 0., 0., 0., 0., 0., 0., 0., 0., 0., 0., 0., 0., 0., 0., 0., 0., 0.,\n",
       "          0., 0., 0.],\n",
       "         [0., 0., 0., 0., 0., 0., 0., 1., 0., 0., 0., 0., 0., 0., 0., 0., 0., 0.,\n",
       "          0., 0., 0., 0., 0., 0., 0., 0., 0., 0., 0., 0., 0., 0., 0., 0., 0., 0.,\n",
       "          0., 0., 0., 0., 0., 0., 0., 0., 0., 0., 0., 0., 0., 0., 0., 0., 0., 0.,\n",
       "          0., 0., 0.],\n",
       "         [0., 0., 0., 0., 0., 1., 0., 0., 0., 0., 0., 0., 0., 0., 0., 0., 0., 0.,\n",
       "          0., 0., 0., 0., 0., 0., 0., 0., 0., 0., 0., 0., 0., 0., 0., 0., 0., 0.,\n",
       "          0., 0., 0., 0., 0., 0., 0., 0., 0., 0., 0., 0., 0., 0., 0., 0., 0., 0.,\n",
       "          0., 0., 0.],\n",
       "         [0., 0., 0., 0., 0., 0., 0., 0., 0., 0., 0., 0., 0., 1., 0., 0., 0., 0.,\n",
       "          0., 0., 0., 0., 0., 0., 0., 0., 0., 0., 0., 0., 0., 0., 0., 0., 0., 0.,\n",
       "          0., 0., 0., 0., 0., 0., 0., 0., 0., 0., 0., 0., 0., 0., 0., 0., 0., 0.,\n",
       "          0., 0., 0.],\n",
       "         [0., 0., 0., 0., 1., 0., 0., 0., 0., 0., 0., 0., 0., 0., 0., 0., 0., 0.,\n",
       "          0., 0., 0., 0., 0., 0., 0., 0., 0., 0., 0., 0., 0., 0., 0., 0., 0., 0.,\n",
       "          0., 0., 0., 0., 0., 0., 0., 0., 0., 0., 0., 0., 0., 0., 0., 0., 0., 0.,\n",
       "          0., 0., 0.],\n",
       "         [0., 0., 0., 0., 1., 0., 0., 0., 0., 0., 0., 0., 0., 0., 0., 0., 0., 0.,\n",
       "          0., 0., 0., 0., 0., 0., 0., 0., 0., 0., 0., 0., 0., 0., 0., 0., 0., 0.,\n",
       "          0., 0., 0., 0., 0., 0., 0., 0., 0., 0., 0., 0., 0., 0., 0., 0., 0., 0.,\n",
       "          0., 0., 0.],\n",
       "         [0., 0., 0., 0., 0., 0., 0., 0., 0., 0., 0., 0., 0., 0., 0., 0., 0., 1.,\n",
       "          0., 0., 0., 0., 0., 0., 0., 0., 0., 0., 0., 0., 0., 0., 0., 0., 0., 0.,\n",
       "          0., 0., 0., 0., 0., 0., 0., 0., 0., 0., 0., 0., 0., 0., 0., 0., 0., 0.,\n",
       "          0., 0., 0.],\n",
       "         [0., 0., 0., 0., 0., 0., 0., 0., 0., 0., 0., 0., 0., 0., 0., 0., 0., 1.,\n",
       "          0., 0., 0., 0., 0., 0., 0., 0., 0., 0., 0., 0., 0., 0., 0., 0., 0., 0.,\n",
       "          0., 0., 0., 0., 0., 0., 0., 0., 0., 0., 0., 0., 0., 0., 0., 0., 0., 0.,\n",
       "          0., 0., 0.],\n",
       "         [0., 0., 0., 0., 0., 0., 0., 0., 0., 0., 1., 0., 0., 0., 0., 0., 0., 0.,\n",
       "          0., 0., 0., 0., 0., 0., 0., 0., 0., 0., 0., 0., 0., 0., 0., 0., 0., 0.,\n",
       "          0., 0., 0., 0., 0., 0., 0., 0., 0., 0., 0., 0., 0., 0., 0., 0., 0., 0.,\n",
       "          0., 0., 0.],\n",
       "         [0., 0., 0., 0., 0., 0., 0., 0., 0., 0., 0., 0., 0., 0., 0., 0., 0., 0.,\n",
       "          0., 0., 1., 0., 0., 0., 0., 0., 0., 0., 0., 0., 0., 0., 0., 0., 0., 0.,\n",
       "          0., 0., 0., 0., 0., 0., 0., 0., 0., 0., 0., 0., 0., 0., 0., 0., 0., 0.,\n",
       "          0., 0., 0.],\n",
       "         [0., 0., 0., 0., 0., 0., 0., 0., 0., 0., 0., 0., 0., 0., 0., 0., 0., 0.,\n",
       "          1., 0., 0., 0., 0., 0., 0., 0., 0., 0., 0., 0., 0., 0., 0., 0., 0., 0.,\n",
       "          0., 0., 0., 0., 0., 0., 0., 0., 0., 0., 0., 0., 0., 0., 0., 0., 0., 0.,\n",
       "          0., 0., 0.]]), batch_sizes=tensor([2, 2, 2, 2, 2, 2, 1, 1, 1]), sorted_indices=tensor([0, 1]), unsorted_indices=tensor([0, 1])),\n",
       " tensor([14,  6]))"
      ]
     },
     "execution_count": 75,
     "metadata": {},
     "output_type": "execute_result"
    }
   ],
   "source": [
    "batched_dataloader(2, X_train, y_train, True)"
   ]
  },
  {
   "cell_type": "markdown",
   "metadata": {},
   "source": [
    "### Training"
   ]
  },
  {
   "cell_type": "code",
   "execution_count": 76,
   "metadata": {},
   "outputs": [],
   "source": [
    "def train(net, opt, criterion, n_points):\n",
    "    \n",
    "    opt.zero_grad()\n",
    "    total_loss = 0\n",
    "    \n",
    "    data_ = dataloader(n_points, X_train, y_train)\n",
    "    \n",
    "    total_loss = 0\n",
    "    \n",
    "    for name, language, name_ohe, lang_rep in data_:\n",
    "\n",
    "        hidden = net.init_hidden()\n",
    "\n",
    "        for i in range(name_ohe.size()[0]):\n",
    "            output, hidden = net(name_ohe[i:i+1], hidden)\n",
    "            \n",
    "        loss = criterion(output, lang_rep)\n",
    "        loss.backward(retain_graph=True)\n",
    "        \n",
    "        total_loss += loss\n",
    "        \n",
    "    opt.step()       \n",
    "    return total_loss/n_points"
   ]
  },
  {
   "cell_type": "code",
   "execution_count": 77,
   "metadata": {},
   "outputs": [],
   "source": [
    "def train_batch(net, opt, criterion, n_points, device = 'cpu'):\n",
    "    \n",
    "    net.train().to(device)\n",
    "    opt.zero_grad()\n",
    "    \n",
    "    batch_input, batch_groundtruth = batched_dataloader(n_points, X_train, y_train, False, device)\n",
    "    \n",
    "    output, hidden = net(batch_input)\n",
    "    \n",
    "    loss = criterion(output, batch_groundtruth)\n",
    "    \n",
    "    loss.backward()\n",
    "    opt.step()\n",
    "    return loss"
   ]
  },
  {
   "cell_type": "code",
   "execution_count": 83,
   "metadata": {},
   "outputs": [],
   "source": [
    "import torch.optim as optim\n",
    "\n",
    "net = RNN_model(n_letters, n_hidden, n_categories)\n",
    "criterion = nn.NLLLoss().to(device)\n",
    "optimizer = optim.SGD(net.parameters(), lr=0.01, momentum=0.9)"
   ]
  },
  {
   "cell_type": "code",
   "execution_count": 84,
   "metadata": {},
   "outputs": [
    {
     "name": "stdout",
     "output_type": "stream",
     "text": [
      "CPU times: total: 281 ms\n",
      "Wall time: 563 ms\n"
     ]
    },
    {
     "data": {
      "text/plain": [
       "tensor(2.8340, grad_fn=<DivBackward0>)"
      ]
     },
     "execution_count": 84,
     "metadata": {},
     "output_type": "execute_result"
    }
   ],
   "source": [
    "%%time \n",
    "#time for normal training\n",
    "train(model, optimizer, criterion, 256)"
   ]
  },
  {
   "cell_type": "code",
   "execution_count": 87,
   "metadata": {},
   "outputs": [],
   "source": [
    "from IPython.display import clear_output\n",
    "\n",
    "def train_setup(net, lr = 0.01, n_batches = 100, batch_size = 10, momentum = 0.9, display_freq=5, device = 'cpu'):\n",
    "    net = net.to(device)\n",
    "    criterion = nn.NLLLoss()\n",
    "    opt = optim.SGD(net.parameters(), lr=lr, momentum=momentum)\n",
    "    \n",
    "    loss_arr = np.zeros(n_batches + 1)\n",
    "    \n",
    "    for i in range(n_batches):\n",
    "        loss_arr[i+1] = (loss_arr[i]*i + train_batch(net, opt, criterion, batch_size, device))/(i + 1)\n",
    "        \n",
    "        if i%display_freq == display_freq-1:\n",
    "            clear_output(wait=True)\n",
    "            \n",
    "            print('Iteration', i, 'Loss', loss_arr[i])\n",
    "            # print('Top-1:', eval(net, len(X_test), 1, X_test, y_test), 'Top-2:', eval(net, len(X_test), 2, X_test, y_test))\n",
    "            plt.figure()\n",
    "            plt.plot(loss_arr[1:i], '-*')\n",
    "            plt.xlabel('Iteration')\n",
    "            plt.ylabel('Loss')\n",
    "            plt.show()\n",
    "            print('\\n\\n')\n",
    "            \n",
    "    print('Top-1 Accuracy:', eval(net, len(X_test), 1, X_test, y_test, device), 'Top-2 Accuracy:', eval(net, len(X_test), 2, X_test, y_test, device))"
   ]
  },
  {
   "cell_type": "code",
   "execution_count": 88,
   "metadata": {},
   "outputs": [
    {
     "name": "stdout",
     "output_type": "stream",
     "text": [
      "Iteration 2499 Loss 0.5031614899635315\n"
     ]
    },
    {
     "data": {
      "image/png": "[encoded data removed]",
      "text/plain": [
       "<Figure size 432x288 with 1 Axes>"
      ]
     },
     "metadata": {
      "needs_background": "light"
     },
     "output_type": "display_data"
    },
    {
     "name": "stdout",
     "output_type": "stream",
     "text": [
      "\n",
      "\n",
      "\n"
     ]
    }
   ],
   "source": [
    "%%time\n",
    "\n",
    "#training RNN using batch technique\n",
    "model = RNN_model(n_letters, n_hidden, n_languages)\n",
    "train_setup(model, lr=0.15, n_batches=3200, batch_size = 512, display_freq=500) # CPU Training example"
   ]
  },
  {
   "attachments": {},
   "cell_type": "markdown",
   "metadata": {},
   "source": [
    "# Task 3. \n",
    "Do a bit of research on similar problems such as named entity recognition, find a dataset, train a model, and report your results."
   ]
  },
  {
   "cell_type": "code",
   "execution_count": null,
   "metadata": {},
   "outputs": [],
   "source": []
  }
 ],
 "metadata": {
  "kernelspec": {
   "display_name": "Python 3",
   "language": "python",
   "name": "python3"
  },
  "language_info": {
   "codemirror_mode": {
    "name": "ipython",
    "version": 3
   },
   "file_extension": ".py",
   "mimetype": "text/x-python",
   "name": "python",
   "nbconvert_exporter": "python",
   "pygments_lexer": "ipython3",
   "version": "3.10.4"
  },
  "orig_nbformat": 4
 },
 "nbformat": 4,
 "nbformat_minor": 2
}
