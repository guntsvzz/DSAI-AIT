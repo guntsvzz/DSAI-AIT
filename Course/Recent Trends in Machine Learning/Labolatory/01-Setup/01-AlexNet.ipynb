{
 "cells": [
  {
   "attachments": {},
   "cell_type": "markdown",
   "metadata": {},
   "source": [
    "# 01 - Setup"
   ]
  },
  {
   "attachments": {},
   "cell_type": "markdown",
   "metadata": {},
   "source": [
    "NAME = \"Todsavad Tangtortan\"\n",
    "ID = \"123012\""
   ]
  },
  {
   "cell_type": "markdown",
   "metadata": {},
   "source": [
    "Your goal is to try to train and evaluate the PyTorch AlexNet model on the CIFAR-10 dataset. You can use Torch's torchvision module to load the data into PyTorch tensors.\n",
    "\n",
    "Your lab report should have the following sections:\n",
    "1. Introduction: the background and goals of the lab\n",
    "2. Methods: what you did, what parameters you tried, and so on\n",
    "3. Results: what were the results\n",
    "4. Conclusion: what did you learn from the lab, and what might be the next steps\n",
    "\n",
    "In the results section, be sure to show training and validation loss as a function of training epochs. You'll also want to show results on a separate test set and give some analysis of the errors the classifier makes on the test set."
   ]
  },
  {
   "cell_type": "code",
   "execution_count": 1,
   "metadata": {},
   "outputs": [],
   "source": [
    "import urllib\n",
    "from PIL import Image\n",
    "\n",
    "import torch\n",
    "import torch.nn as nn\n",
    "import torch.nn.functional as F\n",
    "from torch.utils.data import DataLoader, Dataset, TensorDataset\n",
    "from torch.optim import *\n",
    "import torchvision\n",
    "from torchvision import datasets, transforms\n",
    "\n",
    "import matplotlib.pyplot as plt\n",
    "import numpy as np\n",
    "import pandas as pd\n",
    "\n",
    "import os\n",
    "import random\n",
    "import warnings\n",
    "warnings.filterwarnings(\"ignore\")\n",
    "\n",
    "from IPython.display import clear_output\n",
    "\n",
    "os.environ['http_proxy'] = 'http://192.41.170.23:3128'\n",
    "os.environ['https_proxy'] = 'http://192.41.170.23:3128'"
   ]
  },
  {
   "cell_type": "code",
   "execution_count": 2,
   "metadata": {},
   "outputs": [],
   "source": [
    "import time\n",
    "\n",
    "def epoch_time(start_time, end_time):\n",
    "    elapsed_time = end_time - start_time\n",
    "    elapsed_mins = int(elapsed_time / 60)\n",
    "    elapsed_secs = int(elapsed_time - (elapsed_mins * 60))\n",
    "    return elapsed_mins, elapsed_secs"
   ]
  },
  {
   "cell_type": "code",
   "execution_count": 3,
   "metadata": {},
   "outputs": [
    {
     "name": "stderr",
     "output_type": "stream",
     "text": [
      "Using cache found in /root/.cache/torch/hub/pytorch_vision_v0.11.2\n"
     ]
    },
    {
     "name": "stdout",
     "output_type": "stream",
     "text": [
      "Maximum value tensor([16.8252], device='cuda:0') at index tensor([258], device='cuda:0')\n",
      "Epoch Time: 0m 0s\n",
      "Elapsed time  0.005654096603393555\n"
     ]
    }
   ],
   "source": [
    "#From AlexNet.py\n",
    "import torch\n",
    "import urllib\n",
    "import os\n",
    "\n",
    "os.environ['http_proxy'] = 'http://192.41.170.23:3128'\n",
    "os.environ['https_proxy'] = 'http://192.41.170.23:3128'\n",
    "\n",
    "model = torch.hub.load('pytorch/vision:v0.11.2', 'alexnet', pretrained=True)\n",
    "\n",
    "model.eval()\n",
    "\n",
    "# Download an example image from the pytorch website\n",
    "\n",
    "filename = 'dog.jpg'\n",
    "if not os.path.isfile(filename):\n",
    "    with urllib.request.urlopen('https://github.com/pytorch/hub/raw/master/images/dog.jpg') as url:\n",
    "        with open(filename, 'wb') as f:\n",
    "            f.write(url.read())\n",
    "\n",
    "from PIL import Image\n",
    "from torchvision import transforms\n",
    "input_image = Image.open(filename)\n",
    "preprocess = transforms.Compose([\n",
    "    transforms.Resize(256),\n",
    "    transforms.CenterCrop(224),\n",
    "    transforms.ToTensor(),\n",
    "    transforms.Normalize(mean=[0.485, 0.456, 0.406], std=[0.229, 0.224, 0.225]),\n",
    "])\n",
    "input_tensor = preprocess(input_image)\n",
    "input_batch = input_tensor.unsqueeze(0) # create a mini-batch as expected by the model\n",
    "\n",
    "# move the input and model to GPU for speed if available\n",
    "if torch.cuda.is_available():\n",
    "    input_batch = input_batch.to('cuda')\n",
    "    model.to('cuda')\n",
    "\n",
    "with torch.no_grad():\n",
    "    start_time = time.time()\n",
    "    output = model(input_batch)\n",
    "    end_time = time.time()\n",
    "\n",
    "epoch_mins, epoch_secs = epoch_time(start_time, end_time)\n",
    "# Tensor of shape 1000, with confidence scores over Imagenet's 1000 classes\n",
    "#print(output[0])\n",
    "\n",
    "# The output has unnormalized scores. To get probabilities, you can run a softmax on it.\n",
    "softmax_scores = torch.nn.functional.softmax(output[0], dim=0)\n",
    "\n",
    "maxval, maxindex = output.max(1)\n",
    "print('Maximum value', maxval, 'at index', maxindex)\n",
    "print(f'Epoch Time: {epoch_mins}m {epoch_secs}s')\n",
    "print(\"Elapsed time \",end_time - start_time)"
   ]
  },
  {
   "attachments": {},
   "cell_type": "markdown",
   "metadata": {},
   "source": [
    "## 1. Download prettrained model AlexNet"
   ]
  },
  {
   "cell_type": "code",
   "execution_count": 4,
   "metadata": {},
   "outputs": [
    {
     "name": "stderr",
     "output_type": "stream",
     "text": [
      "Using cache found in /root/.cache/torch/hub/pytorch_vision_v0.11.2\n"
     ]
    },
    {
     "data": {
      "text/plain": [
       "AlexNet(\n",
       "  (features): Sequential(\n",
       "    (0): Conv2d(3, 64, kernel_size=(11, 11), stride=(4, 4), padding=(2, 2))\n",
       "    (1): ReLU(inplace=True)\n",
       "    (2): MaxPool2d(kernel_size=3, stride=2, padding=0, dilation=1, ceil_mode=False)\n",
       "    (3): Conv2d(64, 192, kernel_size=(5, 5), stride=(1, 1), padding=(2, 2))\n",
       "    (4): ReLU(inplace=True)\n",
       "    (5): MaxPool2d(kernel_size=3, stride=2, padding=0, dilation=1, ceil_mode=False)\n",
       "    (6): Conv2d(192, 384, kernel_size=(3, 3), stride=(1, 1), padding=(1, 1))\n",
       "    (7): ReLU(inplace=True)\n",
       "    (8): Conv2d(384, 256, kernel_size=(3, 3), stride=(1, 1), padding=(1, 1))\n",
       "    (9): ReLU(inplace=True)\n",
       "    (10): Conv2d(256, 256, kernel_size=(3, 3), stride=(1, 1), padding=(1, 1))\n",
       "    (11): ReLU(inplace=True)\n",
       "    (12): MaxPool2d(kernel_size=3, stride=2, padding=0, dilation=1, ceil_mode=False)\n",
       "  )\n",
       "  (avgpool): AdaptiveAvgPool2d(output_size=(6, 6))\n",
       "  (classifier): Sequential(\n",
       "    (0): Dropout(p=0.5, inplace=False)\n",
       "    (1): Linear(in_features=9216, out_features=4096, bias=True)\n",
       "    (2): ReLU(inplace=True)\n",
       "    (3): Dropout(p=0.5, inplace=False)\n",
       "    (4): Linear(in_features=4096, out_features=4096, bias=True)\n",
       "    (5): ReLU(inplace=True)\n",
       "    (6): Linear(in_features=4096, out_features=1000, bias=True)\n",
       "  )\n",
       ")"
      ]
     },
     "execution_count": 4,
     "metadata": {},
     "output_type": "execute_result"
    }
   ],
   "source": [
    "model = torch.hub.load('pytorch/vision:v0.11.2', 'alexnet', pretrained=True)\n",
    "model"
   ]
  },
  {
   "attachments": {},
   "cell_type": "markdown",
   "metadata": {},
   "source": [
    "### 1.1 Modify the output of AlexNet \n",
    "- CIFAR-10 provide 10 classes thus it must modify output"
   ]
  },
  {
   "cell_type": "code",
   "execution_count": 5,
   "metadata": {},
   "outputs": [
    {
     "data": {
      "text/plain": [
       "AlexNet(\n",
       "  (features): Sequential(\n",
       "    (0): Conv2d(3, 64, kernel_size=(11, 11), stride=(4, 4), padding=(2, 2))\n",
       "    (1): ReLU(inplace=True)\n",
       "    (2): MaxPool2d(kernel_size=3, stride=2, padding=0, dilation=1, ceil_mode=False)\n",
       "    (3): Conv2d(64, 192, kernel_size=(5, 5), stride=(1, 1), padding=(2, 2))\n",
       "    (4): ReLU(inplace=True)\n",
       "    (5): MaxPool2d(kernel_size=3, stride=2, padding=0, dilation=1, ceil_mode=False)\n",
       "    (6): Conv2d(192, 384, kernel_size=(3, 3), stride=(1, 1), padding=(1, 1))\n",
       "    (7): ReLU(inplace=True)\n",
       "    (8): Conv2d(384, 256, kernel_size=(3, 3), stride=(1, 1), padding=(1, 1))\n",
       "    (9): ReLU(inplace=True)\n",
       "    (10): Conv2d(256, 256, kernel_size=(3, 3), stride=(1, 1), padding=(1, 1))\n",
       "    (11): ReLU(inplace=True)\n",
       "    (12): MaxPool2d(kernel_size=3, stride=2, padding=0, dilation=1, ceil_mode=False)\n",
       "  )\n",
       "  (avgpool): AdaptiveAvgPool2d(output_size=(6, 6))\n",
       "  (classifier): Sequential(\n",
       "    (0): Dropout(p=0.5, inplace=False)\n",
       "    (1): Linear(in_features=9216, out_features=4096, bias=True)\n",
       "    (2): ReLU(inplace=True)\n",
       "    (3): Dropout(p=0.5, inplace=False)\n",
       "    (4): Linear(in_features=4096, out_features=4096, bias=True)\n",
       "    (5): ReLU(inplace=True)\n",
       "    (6): Linear(in_features=4096, out_features=10, bias=True)\n",
       "  )\n",
       ")"
      ]
     },
     "execution_count": 5,
     "metadata": {},
     "output_type": "execute_result"
    }
   ],
   "source": [
    "model.classifier[1] = nn.Linear(9216,4096)\n",
    "model.classifier[4] = nn.Linear(4096,4096)\n",
    "model.classifier[6] = nn.Linear(4096,10)\n",
    "model.eval()"
   ]
  },
  {
   "cell_type": "code",
   "execution_count": 6,
   "metadata": {},
   "outputs": [
    {
     "data": {
      "text/plain": [
       "AlexNet(\n",
       "  (features): Sequential(\n",
       "    (0): Conv2d(3, 64, kernel_size=(11, 11), stride=(4, 4), padding=(2, 2))\n",
       "    (1): ReLU(inplace=True)\n",
       "    (2): MaxPool2d(kernel_size=3, stride=2, padding=0, dilation=1, ceil_mode=False)\n",
       "    (3): Conv2d(64, 192, kernel_size=(5, 5), stride=(1, 1), padding=(2, 2))\n",
       "    (4): ReLU(inplace=True)\n",
       "    (5): MaxPool2d(kernel_size=3, stride=2, padding=0, dilation=1, ceil_mode=False)\n",
       "    (6): Conv2d(192, 384, kernel_size=(3, 3), stride=(1, 1), padding=(1, 1))\n",
       "    (7): ReLU(inplace=True)\n",
       "    (8): Conv2d(384, 256, kernel_size=(3, 3), stride=(1, 1), padding=(1, 1))\n",
       "    (9): ReLU(inplace=True)\n",
       "    (10): Conv2d(256, 256, kernel_size=(3, 3), stride=(1, 1), padding=(1, 1))\n",
       "    (11): ReLU(inplace=True)\n",
       "    (12): MaxPool2d(kernel_size=3, stride=2, padding=0, dilation=1, ceil_mode=False)\n",
       "  )\n",
       "  (avgpool): AdaptiveAvgPool2d(output_size=(6, 6))\n",
       "  (classifier): Sequential(\n",
       "    (0): Dropout(p=0.5, inplace=False)\n",
       "    (1): Linear(in_features=9216, out_features=4096, bias=True)\n",
       "    (2): ReLU(inplace=True)\n",
       "    (3): Dropout(p=0.5, inplace=False)\n",
       "    (4): Linear(in_features=4096, out_features=4096, bias=True)\n",
       "    (5): ReLU(inplace=True)\n",
       "    (6): Linear(in_features=4096, out_features=10, bias=True)\n",
       "  )\n",
       ")"
      ]
     },
     "execution_count": 6,
     "metadata": {},
     "output_type": "execute_result"
    }
   ],
   "source": [
    "#check the modified architecture\n",
    "model"
   ]
  },
  {
   "attachments": {},
   "cell_type": "markdown",
   "metadata": {},
   "source": [
    "## 2. Load CIFAR-10 Dataset\n",
    "\n",
    "Reference preprocessing\n",
    "https://www.kaggle.com/code/yogeshrampariya/cifar10-classification-with-alexnet-on-pytorch/notebook"
   ]
  },
  {
   "cell_type": "code",
   "execution_count": 7,
   "metadata": {},
   "outputs": [],
   "source": [
    "preprocess = transforms.Compose([\n",
    "    transforms.Resize(70),\n",
    "    transforms.RandomCrop(64),\n",
    "    transforms.RandomHorizontalFlip(),\n",
    "    transforms.ToTensor(),\n",
    "    transforms.Normalize(mean=[0.485, 0.456, 0.406], std=[0.229, 0.224, 0.225]),\n",
    "])"
   ]
  },
  {
   "cell_type": "code",
   "execution_count": 95,
   "metadata": {},
   "outputs": [
    {
     "name": "stdout",
     "output_type": "stream",
     "text": [
      "Files already downloaded and verified\n",
      "Files already downloaded and verified\n"
     ]
    }
   ],
   "source": [
    "train_data = datasets.CIFAR10(root='./data', train=True, download=True, transform=preprocess)\n",
    "test_set = datasets.CIFAR10(root='./data', train=False, download=True, transform=preprocess)"
   ]
  },
  {
   "cell_type": "code",
   "execution_count": 9,
   "metadata": {},
   "outputs": [
    {
     "data": {
      "text/plain": [
       "(50000, 10000)"
      ]
     },
     "execution_count": 9,
     "metadata": {},
     "output_type": "execute_result"
    }
   ],
   "source": [
    "len(train_data), len(test_set)"
   ]
  },
  {
   "attachments": {},
   "cell_type": "markdown",
   "metadata": {},
   "source": [
    "### 2.1. Data Split : train, val, test"
   ]
  },
  {
   "cell_type": "code",
   "execution_count": 10,
   "metadata": {},
   "outputs": [],
   "source": [
    "#Train Validation Split split 70:30\n",
    "train_size = int(len(train_data) * 0.7)\n",
    "valid_size = int(len(train_data) * 0.3)\n",
    "\n",
    "train_set, val_set = torch.utils.data.random_split(train_data, [train_size, valid_size])"
   ]
  },
  {
   "cell_type": "code",
   "execution_count": 11,
   "metadata": {},
   "outputs": [
    {
     "data": {
      "text/plain": [
       "(35000, 15000, 10000)"
      ]
     },
     "execution_count": 11,
     "metadata": {},
     "output_type": "execute_result"
    }
   ],
   "source": [
    "len(train_set), len(val_set), len(test_set)"
   ]
  },
  {
   "cell_type": "code",
   "execution_count": 12,
   "metadata": {},
   "outputs": [
    {
     "name": "stderr",
     "output_type": "stream",
     "text": [
      "Clipping input data to the valid range for imshow with RGB data ([0..1] for floats or [0..255] for integers).\n"
     ]
    },
    {
     "data": {
      "text/plain": [
       "6"
      ]
     },
     "execution_count": 12,
     "metadata": {},
     "output_type": "execute_result"
    },
    {
     "data": {
      "image/png": "[encoded data removed]",
      "text/plain": [
       "<Figure size 640x480 with 1 Axes>"
      ]
     },
     "metadata": {},
     "output_type": "display_data"
    }
   ],
   "source": [
    "image = torch.permute(train_set[0][0],(1,2,0))\n",
    "image.shape\n",
    "\n",
    "plt.imshow(image) \n",
    "train_set[0][1]"
   ]
  },
  {
   "attachments": {},
   "cell_type": "markdown",
   "metadata": {},
   "source": [
    "### 2.2. Create dataloader for train, val, test"
   ]
  },
  {
   "cell_type": "code",
   "execution_count": 13,
   "metadata": {},
   "outputs": [],
   "source": [
    "batch_size = 256 #keeping it binary so it fits GPU\n",
    "\n",
    "#Dataloader(dataset,batch_size, shuffle)\n",
    "train_loader = DataLoader(train_set,batch_size=batch_size, shuffle=True)\n",
    "val_loader = DataLoader(val_set, batch_size=batch_size, shuffle=True)\n",
    "test_loader = DataLoader(test_set,batch_size=batch_size, shuffle=True)"
   ]
  },
  {
   "attachments": {},
   "cell_type": "markdown",
   "metadata": {},
   "source": [
    "### 2.3 Test to the dataloader"
   ]
  },
  {
   "cell_type": "code",
   "execution_count": 14,
   "metadata": {},
   "outputs": [
    {
     "name": "stdout",
     "output_type": "stream",
     "text": [
      "torch.Size([256, 3, 64, 64])\n",
      "torch.Size([256])\n"
     ]
    }
   ],
   "source": [
    "for image,label in train_loader:\n",
    "    print(image.shape) #what is the shape (100,3,32,32) == (batch_size, C, W, H)\n",
    "    print(label.shape) #what is the shape (100)\n",
    "    break"
   ]
  },
  {
   "cell_type": "code",
   "execution_count": 15,
   "metadata": {},
   "outputs": [
    {
     "name": "stdout",
     "output_type": "stream",
     "text": [
      "cuda:0\n"
     ]
    }
   ],
   "source": [
    "device = torch.device(\"cuda:0\") if torch.cuda.is_available() else torch.device(\"cpu\")\n",
    "print(device)"
   ]
  },
  {
   "cell_type": "code",
   "execution_count": 16,
   "metadata": {},
   "outputs": [
    {
     "data": {
      "text/plain": [
       "AlexNet(\n",
       "  (features): Sequential(\n",
       "    (0): Conv2d(3, 64, kernel_size=(11, 11), stride=(4, 4), padding=(2, 2))\n",
       "    (1): ReLU(inplace=True)\n",
       "    (2): MaxPool2d(kernel_size=3, stride=2, padding=0, dilation=1, ceil_mode=False)\n",
       "    (3): Conv2d(64, 192, kernel_size=(5, 5), stride=(1, 1), padding=(2, 2))\n",
       "    (4): ReLU(inplace=True)\n",
       "    (5): MaxPool2d(kernel_size=3, stride=2, padding=0, dilation=1, ceil_mode=False)\n",
       "    (6): Conv2d(192, 384, kernel_size=(3, 3), stride=(1, 1), padding=(1, 1))\n",
       "    (7): ReLU(inplace=True)\n",
       "    (8): Conv2d(384, 256, kernel_size=(3, 3), stride=(1, 1), padding=(1, 1))\n",
       "    (9): ReLU(inplace=True)\n",
       "    (10): Conv2d(256, 256, kernel_size=(3, 3), stride=(1, 1), padding=(1, 1))\n",
       "    (11): ReLU(inplace=True)\n",
       "    (12): MaxPool2d(kernel_size=3, stride=2, padding=0, dilation=1, ceil_mode=False)\n",
       "  )\n",
       "  (avgpool): AdaptiveAvgPool2d(output_size=(6, 6))\n",
       "  (classifier): Sequential(\n",
       "    (0): Dropout(p=0.5, inplace=False)\n",
       "    (1): Linear(in_features=9216, out_features=4096, bias=True)\n",
       "    (2): ReLU(inplace=True)\n",
       "    (3): Dropout(p=0.5, inplace=False)\n",
       "    (4): Linear(in_features=4096, out_features=4096, bias=True)\n",
       "    (5): ReLU(inplace=True)\n",
       "    (6): Linear(in_features=4096, out_features=10, bias=True)\n",
       "  )\n",
       ")"
      ]
     },
     "execution_count": 16,
     "metadata": {},
     "output_type": "execute_result"
    }
   ],
   "source": [
    "model.to(device)"
   ]
  },
  {
   "attachments": {},
   "cell_type": "markdown",
   "metadata": {},
   "source": [
    "## 3.Training"
   ]
  },
  {
   "cell_type": "code",
   "execution_count": 17,
   "metadata": {},
   "outputs": [],
   "source": [
    "#define loss\n",
    "criterion = nn.CrossEntropyLoss().to(device)\n",
    "#define optimizer\n",
    "optimizer = torch.optim.SGD(model.parameters(),lr=0.005,momentum=0.9)\n",
    "\n",
    "train_losses = []\n",
    "train_accs = []\n",
    "val_losses   = []\n",
    "val_accs = []\n",
    "val_corr = []"
   ]
  },
  {
   "cell_type": "code",
   "execution_count": 18,
   "metadata": {},
   "outputs": [
    {
     "name": "stdout",
     "output_type": "stream",
     "text": [
      "Epoch : 0 | Batch Step :   0 | Train loss : 2.37 | Acc : 12.11 | Time : 0m 0s\n",
      "Epoch : 0 | Batch Step : 100 | Train loss : 0.96 | Acc : 58.86 | Time : 0m 13s\n",
      "++++++Validation++++++ : Val_loss : 0.70 | Acc: 71.55 | Time : 0m 18s\n",
      "Epoch : 1 | Batch Step :   0 | Train loss : 0.72 | Acc : 73.83 | Time : 0m 0s\n",
      "Epoch : 1 | Batch Step : 100 | Train loss : 0.72 | Acc : 73.77 | Time : 0m 13s\n",
      "++++++Validation++++++ : Val_loss : 0.73 | Acc: 75.12 | Time : 0m 18s\n",
      "Epoch : 2 | Batch Step :   0 | Train loss : 0.67 | Acc : 76.95 | Time : 0m 0s\n",
      "Epoch : 2 | Batch Step : 100 | Train loss : 0.70 | Acc : 77.21 | Time : 0m 13s\n",
      "++++++Validation++++++ : Val_loss : 0.54 | Acc: 77.13 | Time : 0m 18s\n",
      "Epoch : 3 | Batch Step :   0 | Train loss : 0.56 | Acc : 80.86 | Time : 0m 0s\n",
      "Epoch : 3 | Batch Step : 100 | Train loss : 0.60 | Acc : 79.77 | Time : 0m 13s\n",
      "++++++Validation++++++ : Val_loss : 0.62 | Acc: 78.07 | Time : 0m 18s\n",
      "Epoch : 4 | Batch Step :   0 | Train loss : 0.60 | Acc : 75.39 | Time : 0m 0s\n",
      "Epoch : 4 | Batch Step : 100 | Train loss : 0.55 | Acc : 80.91 | Time : 0m 13s\n",
      "++++++Validation++++++ : Val_loss : 0.84 | Acc: 78.85 | Time : 0m 18s\n",
      "Epoch : 5 | Batch Step :   0 | Train loss : 0.56 | Acc : 80.86 | Time : 0m 0s\n",
      "Epoch : 5 | Batch Step : 100 | Train loss : 0.52 | Acc : 82.44 | Time : 0m 13s\n",
      "++++++Validation++++++ : Val_loss : 0.58 | Acc: 79.62 | Time : 0m 18s\n",
      "Epoch : 6 | Batch Step :   0 | Train loss : 0.49 | Acc : 82.81 | Time : 0m 0s\n",
      "Epoch : 6 | Batch Step : 100 | Train loss : 0.41 | Acc : 83.79 | Time : 0m 13s\n",
      "++++++Validation++++++ : Val_loss : 0.62 | Acc: 80.01 | Time : 0m 18s\n",
      "Epoch : 7 | Batch Step :   0 | Train loss : 0.48 | Acc : 83.59 | Time : 0m 0s\n",
      "Epoch : 7 | Batch Step : 100 | Train loss : 0.49 | Acc : 85.00 | Time : 0m 13s\n",
      "++++++Validation++++++ : Val_loss : 0.45 | Acc: 80.59 | Time : 0m 18s\n",
      "Epoch : 8 | Batch Step :   0 | Train loss : 0.35 | Acc : 86.72 | Time : 0m 0s\n",
      "Epoch : 8 | Batch Step : 100 | Train loss : 0.38 | Acc : 85.79 | Time : 0m 13s\n",
      "++++++Validation++++++ : Val_loss : 0.73 | Acc: 79.50 | Time : 0m 18s\n",
      "Epoch : 9 | Batch Step :   0 | Train loss : 0.43 | Acc : 83.20 | Time : 0m 0s\n",
      "Epoch : 9 | Batch Step : 100 | Train loss : 0.31 | Acc : 86.31 | Time : 0m 13s\n",
      "++++++Validation++++++ : Val_loss : 0.65 | Acc: 80.68 | Time : 0m 17s\n",
      "Epoch : 10 | Batch Step :   0 | Train loss : 0.32 | Acc : 91.80 | Time : 0m 0s\n",
      "Epoch : 10 | Batch Step : 100 | Train loss : 0.33 | Acc : 88.11 | Time : 0m 13s\n",
      "++++++Validation++++++ : Val_loss : 0.71 | Acc: 81.49 | Time : 0m 18s\n",
      "Epoch : 11 | Batch Step :   0 | Train loss : 0.34 | Acc : 86.72 | Time : 0m 0s\n",
      "Epoch : 11 | Batch Step : 100 | Train loss : 0.26 | Acc : 88.10 | Time : 0m 13s\n",
      "++++++Validation++++++ : Val_loss : 0.72 | Acc: 81.92 | Time : 0m 18s\n",
      "Epoch : 12 | Batch Step :   0 | Train loss : 0.25 | Acc : 91.02 | Time : 0m 0s\n",
      "Epoch : 12 | Batch Step : 100 | Train loss : 0.29 | Acc : 89.08 | Time : 0m 13s\n",
      "++++++Validation++++++ : Val_loss : 0.43 | Acc: 81.32 | Time : 0m 18s\n",
      "Epoch : 13 | Batch Step :   0 | Train loss : 0.28 | Acc : 91.02 | Time : 0m 0s\n",
      "Epoch : 13 | Batch Step : 100 | Train loss : 0.39 | Acc : 89.87 | Time : 0m 13s\n",
      "++++++Validation++++++ : Val_loss : 0.66 | Acc: 81.89 | Time : 0m 18s\n",
      "Epoch : 14 | Batch Step :   0 | Train loss : 0.20 | Acc : 93.36 | Time : 0m 0s\n",
      "Epoch : 14 | Batch Step : 100 | Train loss : 0.28 | Acc : 90.76 | Time : 0m 13s\n",
      "++++++Validation++++++ : Val_loss : 0.51 | Acc: 81.75 | Time : 0m 17s\n",
      "Epoch : 15 | Batch Step :   0 | Train loss : 0.26 | Acc : 89.84 | Time : 0m 0s\n",
      "Epoch : 15 | Batch Step : 100 | Train loss : 0.32 | Acc : 91.11 | Time : 0m 13s\n",
      "++++++Validation++++++ : Val_loss : 0.74 | Acc: 80.75 | Time : 0m 17s\n",
      "Epoch : 16 | Batch Step :   0 | Train loss : 0.17 | Acc : 95.31 | Time : 0m 0s\n",
      "Epoch : 16 | Batch Step : 100 | Train loss : 0.22 | Acc : 91.57 | Time : 0m 13s\n",
      "++++++Validation++++++ : Val_loss : 0.61 | Acc: 81.38 | Time : 0m 18s\n",
      "Epoch : 17 | Batch Step :   0 | Train loss : 0.27 | Acc : 90.23 | Time : 0m 0s\n",
      "Epoch : 17 | Batch Step : 100 | Train loss : 0.16 | Acc : 92.23 | Time : 0m 13s\n",
      "++++++Validation++++++ : Val_loss : 0.38 | Acc: 81.59 | Time : 0m 18s\n",
      "Epoch : 18 | Batch Step :   0 | Train loss : 0.24 | Acc : 92.58 | Time : 0m 0s\n",
      "Epoch : 18 | Batch Step : 100 | Train loss : 0.24 | Acc : 92.58 | Time : 0m 13s\n",
      "++++++Validation++++++ : Val_loss : 0.59 | Acc: 81.32 | Time : 0m 18s\n",
      "Epoch : 19 | Batch Step :   0 | Train loss : 0.18 | Acc : 95.31 | Time : 0m 0s\n",
      "Epoch : 19 | Batch Step : 100 | Train loss : 0.21 | Acc : 92.86 | Time : 0m 13s\n",
      "++++++Validation++++++ : Val_loss : 0.78 | Acc: 81.88 | Time : 0m 17s\n"
     ]
    }
   ],
   "source": [
    "import time\n",
    "val_old_loss = float(\"inf\")\n",
    "filepath = './models/Cifa10AlexNet.pt'\n",
    "epochs = 20\n",
    "for e in range(epochs): #for epoch 20\n",
    "\n",
    "    train_total = 0\n",
    "    total_train_corr = 0\n",
    "\n",
    "    model.train()\n",
    "    start_time = time.time()\n",
    "    for batch, (image,label) in enumerate(train_loader):  #for trainloader\n",
    "        image = image.to(device) #put image and label to device\n",
    "        label = label.to(device)\n",
    "        #Forward pass\n",
    "        yhat = model(image) #1.predict\n",
    "        loss = criterion(yhat,label) #2.loss\n",
    "\n",
    "\n",
    "        #add Accuracy\n",
    "        train_losses.append(loss)\n",
    "        predicted = torch.max(yhat,1)[1]\n",
    "        train_total += label.size(0)  #keep track of total number of samples\n",
    "        bacth_train_corr = (predicted == label).sum().item()\n",
    "        total_train_corr += bacth_train_corr\n",
    "\n",
    "        #Backward and optimize\n",
    "        optimizer.zero_grad() #3.clear gradient\n",
    "        loss.backward() #4.backpropagate\n",
    "        optimizer.step() #5.update\n",
    "\n",
    "        #print the loss and acc if epoch / 1\n",
    "        train_acc = (total_train_corr * 100) / (batch_size*(batch+1)) #train_total\n",
    "        train_accs.append(train_acc)\n",
    "\n",
    "        end_time = time.time()\n",
    "        epoch_mins, epoch_secs = epoch_time(start_time, end_time)\n",
    "        #print the loss\n",
    "        if (batch+1) % 100 == 1:\n",
    "            # sys.stdout.write(f'Batch: {batch+1} - Loss: {loss:.4f} ')\n",
    "            print(f'Epoch : {e} | Batch Step : {batch:3.0f} | Train loss : {loss:.2f} | Acc : {train_acc:.2f} | Time : {epoch_mins}m {epoch_secs}s')\n",
    "    \n",
    "    #After each epoch , calculate the validation acc and loss\n",
    "    model.eval()\n",
    "    \n",
    "    with torch.no_grad():\n",
    "\n",
    "        total_val_corr = 0\n",
    "\n",
    "        for (val_image,val_label) in val_loader:\n",
    "            val_image = val_image.to(device) #put image and label to device\n",
    "            val_label = val_label.to(device)\n",
    "\n",
    "            val_yhat = model(val_image)\n",
    "            val_loss = criterion(val_yhat,val_label)\n",
    "            \n",
    "            val_predicted = torch.max(val_yhat, 1)[1]\n",
    "            total_val_corr += (val_predicted == val_label).sum()\n",
    "            \n",
    "        val_acc = (total_val_corr * 100) / len(val_set)\n",
    "\n",
    "            # break # I only do validation on 1 batch of Validation set for faster training time\n",
    "\n",
    "    val_accs.append(val_acc)\n",
    "    val_losses.append(val_loss)\n",
    "\n",
    "    #save the model with the lowest loss\n",
    "    if val_loss < val_old_loss:\n",
    "        # val_old_loss = val_loss\n",
    "        torch.save(model.state_dict(), filepath) #state_dict is simple the weights\n",
    "    \n",
    "    print(f'++++++Validation++++++ : Val_loss : {val_loss:.2f} | Acc: {val_acc:.2f} | Time : {epoch_mins}m {epoch_secs}s')"
   ]
  },
  {
   "attachments": {},
   "cell_type": "markdown",
   "metadata": {},
   "source": [
    "### 3.1 Plot the loss and Accuracy "
   ]
  },
  {
   "cell_type": "code",
   "execution_count": 20,
   "metadata": {},
   "outputs": [],
   "source": [
    "train_losses = [loss.item() for loss in train_losses]\n",
    "train_accs   = [acc.item()  for acc  in train_accs]\n",
    "val_losses   = [loss.item() for loss in val_losses]\n",
    "val_accs     = [acc.item()  for acc  in val_accs]"
   ]
  },
  {
   "cell_type": "code",
   "execution_count": 47,
   "metadata": {},
   "outputs": [
    {
     "data": {
      "image/png": "[encoded data removed]",
      "text/plain": [
       "<Figure size 640x480 with 2 Axes>"
      ]
     },
     "metadata": {},
     "output_type": "display_data"
    }
   ],
   "source": [
    "plt.subplot(2,1,1)\n",
    "plt.plot(train_losses, label='training loss')\n",
    "plt.plot(val_losses, label='validation loss')\n",
    "plt.legend()\n",
    "plt.ylabel('Loss')\n",
    "plt.xlabel('Epochs')\n",
    "plt.grid()\n",
    "plt.title('Loss/Acc at the end of each epoch')\n",
    "plt.subplot(2,1,2)\n",
    "plt.plot(train_accs, label='training acc')\n",
    "plt.plot(val_accs, label='validation loss')\n",
    "plt.legend()\n",
    "plt.ylabel('Accuracy')\n",
    "plt.xlabel('Epochs')\n",
    "plt.grid()"
   ]
  },
  {
   "attachments": {},
   "cell_type": "markdown",
   "metadata": {},
   "source": [
    "### 3.2 Check which image we got wrong ..... with confusion matrix \n",
    "- even print out the image we predict wrong....."
   ]
  },
  {
   "cell_type": "code",
   "execution_count": null,
   "metadata": {},
   "outputs": [],
   "source": [
    "# classes of CIFAR-10\n",
    "class_names = ['airplane', 'automobile', 'bird', 'cat', 'deer', 'dog', 'fog', 'horse', 'ship', 'truck']"
   ]
  },
  {
   "attachments": {},
   "cell_type": "markdown",
   "metadata": {},
   "source": [
    "## 4. Testing"
   ]
  },
  {
   "cell_type": "code",
   "execution_count": 100,
   "metadata": {},
   "outputs": [
    {
     "name": "stdout",
     "output_type": "stream",
     "text": [
      "Test Loss: 0.600 | Test Acc: 82.22%\n"
     ]
    }
   ],
   "source": [
    "#load the best model based on val loss\n",
    "# model = model().to(device)\n",
    "model.load_state_dict(torch.load(filepath)) #load the best model\n",
    "\n",
    "total_test_loss = 0\n",
    "test_total = 0\n",
    "\n",
    "with torch.no_grad():\n",
    "    test_corr = 0 \n",
    "\n",
    "    for batch, (test_image, test_label) in enumerate(test_loader):\n",
    "        test_image = test_image.to(device)\n",
    "        test_label = test_label.to(device)\n",
    "\n",
    "        test_yhat = model(test_image)\n",
    "        test_loss = criterion(test_yhat, test_label)\n",
    "\n",
    "        test_predicted = torch.max(test_yhat, 1)[1]\n",
    "        test_corr += (test_predicted == test_label).sum().item()\n",
    "        \n",
    "        total_test_loss += test_loss.item()\n",
    "\n",
    "    test_loss = total_test_loss / len(test_loader)\n",
    "    test_acc = (test_corr * 100) / len(test_set)\n",
    "           \n",
    "print(f'Test Loss: {test_loss:.3f} | Test Acc: {test_acc:.2f}%') "
   ]
  },
  {
   "attachments": {},
   "cell_type": "markdown",
   "metadata": {},
   "source": [
    "### Display the incorrectly clasified images"
   ]
  },
  {
   "cell_type": "code",
   "execution_count": 102,
   "metadata": {},
   "outputs": [
    {
     "data": {
      "text/plain": [
       "<sklearn.metrics._plot.confusion_matrix.ConfusionMatrixDisplay at 0x7f27a35d3a60>"
      ]
     },
     "execution_count": 102,
     "metadata": {},
     "output_type": "execute_result"
    },
    {
     "data": {
      "image/png": "[encoded data removed]",
      "text/plain": [
       "<Figure size 640x480 with 2 Axes>"
      ]
     },
     "metadata": {},
     "output_type": "display_data"
    }
   ],
   "source": [
    "from sklearn.metrics import confusion_matrix, ConfusionMatrixDisplay\n",
    "import seaborn as sns\n",
    "import pandas as pd\n",
    "# classes of CIFAR-10a\n",
    "class_names = ['airplane', 'automobile', 'bird', 'cat', 'deer', 'dog', 'fog', 'horse', 'ship', 'truck']\n",
    "# disp = confusion_matrix(test_predicted.cpu().numpy(), test_label.cpu().numpy())\n",
    "# df_cm = pd.DataFrame(disp)\n",
    "# plt.figure(figsize = (9,6))\n",
    "# sns.heatmap(df_cm, annot=True, fmt=\"d\", cmap='BuGn')\n",
    "# plt.xlabel(\"prediction\")\n",
    "# plt.ylabel(\"label (ground truth)\")\n",
    "# plt.show()\n",
    "\n",
    "disp = ConfusionMatrixDisplay(confusion_matrix(test_predicted.cpu().numpy(), test_label.cpu().numpy())) \n",
    "disp.plot()"
   ]
  },
  {
   "attachments": {},
   "cell_type": "markdown",
   "metadata": {},
   "source": [
    "# Conclusion\n",
    "\n"
   ]
  },
  {
   "attachments": {},
   "cell_type": "markdown",
   "metadata": {},
   "source": [
    "1. Introduction: the background and goals of the lab\n",
    "- To look into deeply in AlexNet model which classifies 1000 different classes in ImageNet. We load this architecture then apply to other dataset such as CIFAR-10 (10 classes) \n",
    "\n",
    "2. Methods: what you did, what parameters you tried, and so on\n",
    "- AlexNet provide final outputs as 1000 parameter thus it have to be changed 10 classes according with cifar-10\n",
    "\n",
    "- Due to different size, I has preprocessed as \n",
    "    - Resize(70),\n",
    "    - RandomCrop(64),\n",
    "    - RandomHorizontalFlip(),\n",
    "    - ToTensor(),\n",
    "    - Normalize(mean=[0.485, 0.456, 0.406], std=[0.229, 0.224, 0.225]),\n",
    "])\n",
    "\n",
    "- Hyperparameter using : \n",
    "    - learing rate = 0.005\n",
    "    - batch_size = 256\n",
    "    - SGD with momentum = 0.9\n",
    "    - Cross Entropy Loss Function\n",
    "3. Results: what were the results\n",
    "- Train loss : 0.18 | Acc : 95.31 | Time : 0m 0s\n",
    "- Train loss : 0.21 | Acc : 92.86 | Time : 0m 13s\n",
    "- Val_loss   : 0.78 | Acc: 81.88  | Time : 0m 17s\n",
    "\n",
    "4. Conclusion: what did you learn from the lab, and what might be the next steps\n",
    "- I learned is as follow :\n",
    "    - Set up remote SSH to use GPU from puffer and also about images, dockers and containers\n",
    "    - Load pre-tained model then adapt different outputs with other datasets\n"
   ]
  },
  {
   "cell_type": "markdown",
   "metadata": {},
   "source": []
  }
 ],
 "metadata": {
  "kernelspec": {
   "display_name": "Python 3",
   "language": "python",
   "name": "python3"
  },
  "language_info": {
   "codemirror_mode": {
    "name": "ipython",
    "version": 3
   },
   "file_extension": ".py",
   "mimetype": "text/x-python",
   "name": "python",
   "nbconvert_exporter": "python",
   "pygments_lexer": "ipython3",
   "version": "3.8.10"
  },
  "orig_nbformat": 4,
  "vscode": {
   "interpreter": {
    "hash": "916dbcbb3f70747c44a77c7bcd40155683ae19c65e1c03b4aa3499c5328201f1"
   }
  }
 },
 "nbformat": 4,
 "nbformat_minor": 2
}
