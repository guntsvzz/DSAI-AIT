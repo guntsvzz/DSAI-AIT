{
 "cells": [
  {
   "cell_type": "code",
   "execution_count": 5,
   "metadata": {},
   "outputs": [],
   "source": [
    "# Gym is an OpenAI toolkit for RL\n",
    "from gymnasium.spaces import Box\n",
    "from gymnasium.wrappers import FrameStack\n",
    "import gymnasium as gym\n",
    "\n",
    "import torch\n",
    "import torch.nn as nn\n",
    "from torch import optim\n",
    "from torch.distributions import Categorical\n",
    "import torch.autograd as autograd \n",
    "import torch.nn.functional as F\n",
    "import torchvision.transforms as T\n",
    "\n",
    "from collections import namedtuple\n",
    "import matplotlib.pyplot as plt\n",
    "\n",
    "import numpy as np\n",
    "from utils import GrayScaleObservation, ResizeObservation, SkipFrame"
   ]
  },
  {
   "cell_type": "code",
   "execution_count": 6,
   "metadata": {},
   "outputs": [
    {
     "ename": "NamespaceNotFound",
     "evalue": "Namespace ALE not found. Have you installed the proper package for ALE?",
     "output_type": "error",
     "traceback": [
      "\u001b[1;31m---------------------------------------------------------------------------\u001b[0m",
      "\u001b[1;31mNamespaceNotFound\u001b[0m                         Traceback (most recent call last)",
      "\u001b[1;32mc:\\Users\\Guntsv\\Documents\\GitHub\\DSAI-AIT-2022\\Course\\Recent Trends in Machine Learning\\Labolatory\\13-Actor-Critic\\temp.ipynb Cell 2\u001b[0m in \u001b[0;36m<cell line: 7>\u001b[1;34m()\u001b[0m\n\u001b[0;32m      <a href='vscode-notebook-cell:/c%3A/Users/Guntsv/Documents/GitHub/DSAI-AIT-2022/Course/Recent%20Trends%20in%20Machine%20Learning/Labolatory/13-Actor-Critic/temp.ipynb#W0sZmlsZQ%3D%3D?line=3'>4</a>\u001b[0m render \u001b[39m=\u001b[39m \u001b[39mFalse\u001b[39;00m\n\u001b[0;32m      <a href='vscode-notebook-cell:/c%3A/Users/Guntsv/Documents/GitHub/DSAI-AIT-2022/Course/Recent%20Trends%20in%20Machine%20Learning/Labolatory/13-Actor-Critic/temp.ipynb#W0sZmlsZQ%3D%3D?line=4'>5</a>\u001b[0m log_interval \u001b[39m=\u001b[39m \u001b[39m10\u001b[39m\n\u001b[1;32m----> <a href='vscode-notebook-cell:/c%3A/Users/Guntsv/Documents/GitHub/DSAI-AIT-2022/Course/Recent%20Trends%20in%20Machine%20Learning/Labolatory/13-Actor-Critic/temp.ipynb#W0sZmlsZQ%3D%3D?line=6'>7</a>\u001b[0m env \u001b[39m=\u001b[39m gym\u001b[39m.\u001b[39;49mmake(\u001b[39m\"\u001b[39;49m\u001b[39mALE/SpaceInvaders-v5\u001b[39;49m\u001b[39m\"\u001b[39;49m, render_mode\u001b[39m=\u001b[39;49m\u001b[39m\"\u001b[39;49m\u001b[39mrgb_array\u001b[39;49m\u001b[39m\"\u001b[39;49m)\n\u001b[0;32m      <a href='vscode-notebook-cell:/c%3A/Users/Guntsv/Documents/GitHub/DSAI-AIT-2022/Course/Recent%20Trends%20in%20Machine%20Learning/Labolatory/13-Actor-Critic/temp.ipynb#W0sZmlsZQ%3D%3D?line=7'>8</a>\u001b[0m \u001b[39m# define a reward threshold\u001b[39;00m\n\u001b[0;32m      <a href='vscode-notebook-cell:/c%3A/Users/Guntsv/Documents/GitHub/DSAI-AIT-2022/Course/Recent%20Trends%20in%20Machine%20Learning/Labolatory/13-Actor-Critic/temp.ipynb#W0sZmlsZQ%3D%3D?line=8'>9</a>\u001b[0m reward_threshold \u001b[39m=\u001b[39m \u001b[39m500\u001b[39m\n",
      "File \u001b[1;32mc:\\Python3.10.4\\lib\\site-packages\\gymnasium\\envs\\registration.py:740\u001b[0m, in \u001b[0;36mmake\u001b[1;34m(id, max_episode_steps, autoreset, apply_api_compatibility, disable_env_checker, **kwargs)\u001b[0m\n\u001b[0;32m    737\u001b[0m     \u001b[39massert\u001b[39;00m \u001b[39misinstance\u001b[39m(\u001b[39mid\u001b[39m, \u001b[39mstr\u001b[39m)\n\u001b[0;32m    739\u001b[0m     \u001b[39m# The environment name can include an unloaded module in \"module:env_name\" style\u001b[39;00m\n\u001b[1;32m--> 740\u001b[0m     env_spec \u001b[39m=\u001b[39m _find_spec(\u001b[39mid\u001b[39;49m)\n\u001b[0;32m    742\u001b[0m \u001b[39massert\u001b[39;00m \u001b[39misinstance\u001b[39m(env_spec, EnvSpec)\n\u001b[0;32m    744\u001b[0m \u001b[39m# Update the env spec kwargs with the `make` kwargs\u001b[39;00m\n",
      "File \u001b[1;32mc:\\Python3.10.4\\lib\\site-packages\\gymnasium\\envs\\registration.py:537\u001b[0m, in \u001b[0;36m_find_spec\u001b[1;34m(env_id)\u001b[0m\n\u001b[0;32m    531\u001b[0m     logger\u001b[39m.\u001b[39mwarn(\n\u001b[0;32m    532\u001b[0m         \u001b[39mf\u001b[39m\u001b[39m\"\u001b[39m\u001b[39mUsing the latest versioned environment `\u001b[39m\u001b[39m{\u001b[39;00mnew_env_id\u001b[39m}\u001b[39;00m\u001b[39m` \u001b[39m\u001b[39m\"\u001b[39m\n\u001b[0;32m    533\u001b[0m         \u001b[39mf\u001b[39m\u001b[39m\"\u001b[39m\u001b[39minstead of the unversioned environment `\u001b[39m\u001b[39m{\u001b[39;00menv_name\u001b[39m}\u001b[39;00m\u001b[39m`.\u001b[39m\u001b[39m\"\u001b[39m\n\u001b[0;32m    534\u001b[0m     )\n\u001b[0;32m    536\u001b[0m \u001b[39mif\u001b[39;00m env_spec \u001b[39mis\u001b[39;00m \u001b[39mNone\u001b[39;00m:\n\u001b[1;32m--> 537\u001b[0m     _check_version_exists(ns, name, version)\n\u001b[0;32m    538\u001b[0m     \u001b[39mraise\u001b[39;00m error\u001b[39m.\u001b[39mError(\u001b[39mf\u001b[39m\u001b[39m\"\u001b[39m\u001b[39mNo registered env with id: \u001b[39m\u001b[39m{\u001b[39;00menv_name\u001b[39m}\u001b[39;00m\u001b[39m\"\u001b[39m)\n\u001b[0;32m    540\u001b[0m \u001b[39mreturn\u001b[39;00m env_spec\n",
      "File \u001b[1;32mc:\\Python3.10.4\\lib\\site-packages\\gymnasium\\envs\\registration.py:403\u001b[0m, in \u001b[0;36m_check_version_exists\u001b[1;34m(ns, name, version)\u001b[0m\n\u001b[0;32m    400\u001b[0m \u001b[39mif\u001b[39;00m get_env_id(ns, name, version) \u001b[39min\u001b[39;00m registry:\n\u001b[0;32m    401\u001b[0m     \u001b[39mreturn\u001b[39;00m\n\u001b[1;32m--> 403\u001b[0m _check_name_exists(ns, name)\n\u001b[0;32m    404\u001b[0m \u001b[39mif\u001b[39;00m version \u001b[39mis\u001b[39;00m \u001b[39mNone\u001b[39;00m:\n\u001b[0;32m    405\u001b[0m     \u001b[39mreturn\u001b[39;00m\n",
      "File \u001b[1;32mc:\\Python3.10.4\\lib\\site-packages\\gymnasium\\envs\\registration.py:366\u001b[0m, in \u001b[0;36m_check_name_exists\u001b[1;34m(ns, name)\u001b[0m\n\u001b[0;32m    364\u001b[0m \u001b[39m\"\"\"Check if an env exists in a namespace. If it doesn't, print a helpful error message.\"\"\"\u001b[39;00m\n\u001b[0;32m    365\u001b[0m \u001b[39m# First check if the namespace exists\u001b[39;00m\n\u001b[1;32m--> 366\u001b[0m _check_namespace_exists(ns)\n\u001b[0;32m    368\u001b[0m \u001b[39m# Then check if the name exists\u001b[39;00m\n\u001b[0;32m    369\u001b[0m names: \u001b[39mset\u001b[39m[\u001b[39mstr\u001b[39m] \u001b[39m=\u001b[39m {\n\u001b[0;32m    370\u001b[0m     env_spec\u001b[39m.\u001b[39mname \u001b[39mfor\u001b[39;00m env_spec \u001b[39min\u001b[39;00m registry\u001b[39m.\u001b[39mvalues() \u001b[39mif\u001b[39;00m env_spec\u001b[39m.\u001b[39mnamespace \u001b[39m==\u001b[39m ns\n\u001b[0;32m    371\u001b[0m }\n",
      "File \u001b[1;32mc:\\Python3.10.4\\lib\\site-packages\\gymnasium\\envs\\registration.py:360\u001b[0m, in \u001b[0;36m_check_namespace_exists\u001b[1;34m(ns)\u001b[0m\n\u001b[0;32m    357\u001b[0m \u001b[39melse\u001b[39;00m:\n\u001b[0;32m    358\u001b[0m     suggestion_msg \u001b[39m=\u001b[39m \u001b[39mf\u001b[39m\u001b[39m\"\u001b[39m\u001b[39mHave you installed the proper package for \u001b[39m\u001b[39m{\u001b[39;00mns\u001b[39m}\u001b[39;00m\u001b[39m?\u001b[39m\u001b[39m\"\u001b[39m\n\u001b[1;32m--> 360\u001b[0m \u001b[39mraise\u001b[39;00m error\u001b[39m.\u001b[39mNamespaceNotFound(\u001b[39mf\u001b[39m\u001b[39m\"\u001b[39m\u001b[39mNamespace \u001b[39m\u001b[39m{\u001b[39;00mns\u001b[39m}\u001b[39;00m\u001b[39m not found. \u001b[39m\u001b[39m{\u001b[39;00msuggestion_msg\u001b[39m}\u001b[39;00m\u001b[39m\"\u001b[39m)\n",
      "\u001b[1;31mNamespaceNotFound\u001b[0m: Namespace ALE not found. Have you installed the proper package for ALE?"
     ]
    }
   ],
   "source": [
    "#RL environment parameters\n",
    "gamma = 0.95\n",
    "seed = 0\n",
    "render = False\n",
    "log_interval = 10\n",
    "\n",
    "env = gym.make(\"ALE/SpaceInvaders-v5\", render_mode=\"rgb_array\")\n",
    "# define a reward threshold\n",
    "reward_threshold = 500\n",
    "# register the reward threshold with the environment\n",
    "env.spec.reward_threshold = reward_threshold\n",
    "# env = gym.make(\"SpaceInvaders-v0\")\n",
    "env = FrameStack(ResizeObservation(GrayScaleObservation(SkipFrame(env, skip=4)), shape=84), num_stack=4)\n",
    "env.reset(seed=seed)\n",
    "torch.manual_seed(seed)"
   ]
  },
  {
   "cell_type": "code",
   "execution_count": null,
   "metadata": {},
   "outputs": [],
   "source": []
  }
 ],
 "metadata": {
  "kernelspec": {
   "display_name": "Python 3",
   "language": "python",
   "name": "python3"
  },
  "language_info": {
   "codemirror_mode": {
    "name": "ipython",
    "version": 3
   },
   "file_extension": ".py",
   "mimetype": "text/x-python",
   "name": "python",
   "nbconvert_exporter": "python",
   "pygments_lexer": "ipython3",
   "version": "3.10.4"
  },
  "orig_nbformat": 4
 },
 "nbformat": 4,
 "nbformat_minor": 2
}
