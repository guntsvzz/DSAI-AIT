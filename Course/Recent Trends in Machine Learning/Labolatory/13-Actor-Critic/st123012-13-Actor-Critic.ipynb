{
 "cells": [
  {
   "attachments": {},
   "cell_type": "markdown",
   "metadata": {},
   "source": [
    "# Lab 13: Deep RL\n",
    "\n",
    "exploring deep reinforcement learning with policy gradient\n",
    "and actor-critic approaches.\n",
    "Here are some of the references used in today's lab:\n",
    "\n",
    "- https://gym.openai.com\n",
    "- Deep Reinforcement Learning Hands-On (Packtpub)\n",
    "- https://github.com/pytorch/examples/blob/main/reinforcement_learning/reinforce.py\n",
    "- https://towardsdatascience.com/breaking-down-richard-suttons-policy-gradient-9768602cb63b\n",
    "- https://towardsdatascience.com/learning-reinforcement-learning-reinforce-with-pytorch-5e8ad7fc7da0\n",
    "- https://github.com/woithook/A2C-Pytorch-implementations"
   ]
  },
  {
   "cell_type": "code",
   "execution_count": 1,
   "metadata": {},
   "outputs": [],
   "source": [
    "id = 123012\n",
    "name ='Todsavad Tangtortan'"
   ]
  },
  {
   "attachments": {},
   "cell_type": "markdown",
   "metadata": {},
   "source": [
    "# Take-home exercise\n",
    "\n",
    "Implement REINFORCE and A2C for one of the Atari games such as Space Invaders using a CNN for the policy\n",
    "network and (for A2C) the value network."
   ]
  },
  {
   "attachments": {},
   "cell_type": "markdown",
   "metadata": {},
   "source": [
    "## Setting Environment"
   ]
  },
  {
   "cell_type": "code",
   "execution_count": 6,
   "metadata": {},
   "outputs": [],
   "source": [
    "# 'export LD_LIBRARY_PATH=$LD_LIBRARY_PATH:$HOME/.mujoco/mujoco210/bin' \n",
    "# mkdir ~/.mujoco\n",
    "# wget -q https://mujoco.org/download/mujoco210-linux-x86_64.tar.gz -O mujoco.tar.gz\n",
    "# rm mujoco.tar.gz\n",
    "# pip install mujoco-py\n",
    "# pip install gymnasium[mujoco]\n",
    "# pip install gymnasium[classic-control]\n",
    "# apt-get install libglew-dev patchelf libosmesa6-dev libgl1-mesa-glx\n",
    "# apt-get install -y xvfb python-opengl \n",
    "# xvfb-run -a -s \"-screen 0 1400x900x24\" bash"
   ]
  },
  {
   "attachments": {},
   "cell_type": "markdown",
   "metadata": {},
   "source": [
    "## REINFORCE"
   ]
  },
  {
   "cell_type": "code",
   "execution_count": 2,
   "metadata": {},
   "outputs": [
    {
     "name": "stderr",
     "output_type": "stream",
     "text": [
      "/usr/local/lib/python3.8/dist-packages/tqdm/auto.py:21: TqdmWarning: IProgress not found. Please update jupyter and ipywidgets. See https://ipywidgets.readthedocs.io/en/stable/user_install.html\n",
      "  from .autonotebook import tqdm as notebook_tqdm\n"
     ]
    }
   ],
   "source": [
    "# Gym is an OpenAI toolkit for RL\n",
    "from gymnasium.spaces import Box\n",
    "from gymnasium.wrappers import FrameStack\n",
    "import gymnasium as gym\n",
    "\n",
    "import torch\n",
    "import torch.nn as nn\n",
    "from torch import optim\n",
    "from torch.distributions import Categorical\n",
    "import torch.autograd as autograd \n",
    "import torch.nn.functional as F\n",
    "import torchvision.transforms as T\n",
    "\n",
    "from collections import namedtuple\n",
    "import matplotlib.pyplot as plt\n",
    "\n",
    "import numpy as np\n",
    "from utils import GrayScaleObservation, ResizeObservation, SkipFrame"
   ]
  },
  {
   "cell_type": "code",
   "execution_count": 3,
   "metadata": {},
   "outputs": [],
   "source": [
    "class Policy(nn.Module):\n",
    "    def __init__(self, env):\n",
    "        super(Policy, self).__init__()\n",
    "        # self.n_inputs = env.observation_space.shape[2]\n",
    "        self.n_outputs = env.action_space.n\n",
    "\n",
    "        self.conv1 = nn.Conv2d(in_channels=4, out_channels=32, kernel_size=8, stride=4)\n",
    "        self.conv2 = nn.Conv2d(in_channels=32, out_channels=64, kernel_size=4, stride=2)\n",
    "        self.conv3 = nn.Conv2d(in_channels=64, out_channels=64, kernel_size=2, stride=1)\n",
    "        \n",
    "        self.affine1 = nn.Linear(4096, 128)\n",
    "        self.dropout = nn.Dropout(p=0.6)\n",
    "        self.affine2 = nn.Linear(128, self.n_outputs)\n",
    "\n",
    "        self.saved_log_probs = []\n",
    "        self.rewards = []\n",
    "    \n",
    "    def forward(self, x):\n",
    "        x = x / 255.0  # normalize pixel values\n",
    "        x = torch.relu(self.conv1(x))\n",
    "        x = torch.relu(self.conv2(x))\n",
    "        x = torch.relu(self.conv3(x))\n",
    "        x = x.view(x.size(0), -1)\n",
    "        \n",
    "        x = self.affine1(x)\n",
    "        x = self.dropout(x)\n",
    "        x = F.relu(x)\n",
    "        action_scores = self.affine2(x)\n",
    "        return F.softmax(action_scores, dim=1)\n",
    "    \n",
    "    def select_action(self, state):\n",
    "        state = torch.from_numpy(np.array(state)).float().unsqueeze(0)\n",
    "        probs = self.forward(state)\n",
    "        m = torch.distributions.Categorical(probs)\n",
    "        action = m.sample()\n",
    "        self.saved_log_probs.append(m.log_prob(action))\n",
    "        return action.item()"
   ]
  },
  {
   "cell_type": "code",
   "execution_count": 4,
   "metadata": {},
   "outputs": [
    {
     "name": "stderr",
     "output_type": "stream",
     "text": [
      "A.L.E: Arcade Learning Environment (version 0.8.1+53f58b7)\n",
      "[Powered by Stella]\n"
     ]
    }
   ],
   "source": [
    "#RL environment parameters\n",
    "gamma = 0.95\n",
    "seed = 0\n",
    "render = False\n",
    "log_interval = 10\n",
    "\n",
    "env = gym.make(\"ALE/SpaceInvaders-v5\", render_mode=\"rgb_array\")\n",
    "# define a reward threshold\n",
    "reward_threshold = 300\n",
    "# register the reward threshold with the environment\n",
    "env.spec.reward_threshold = reward_threshold\n",
    "# env = gym.make(\"SpaceInvaders-v0\")\n",
    "env = FrameStack(ResizeObservation(GrayScaleObservation(SkipFrame(env, skip=4)), shape=84), num_stack=4)\n",
    "env.reset(seed=seed)\n",
    "torch.manual_seed(seed)\n",
    "\n",
    "#Create out policy Network\n",
    "policy = Policy(env)\n",
    "optimizer = optim.Adam(policy.parameters(), lr=1e-2)\n",
    "eps = np.finfo(np.float32).eps.item()"
   ]
  },
  {
   "cell_type": "code",
   "execution_count": 5,
   "metadata": {},
   "outputs": [],
   "source": [
    "def finish_episode():\n",
    "    R = 0\n",
    "    policy_loss = []\n",
    "    returns = []\n",
    "    for r in policy.rewards[::-1]:\n",
    "        R = r + gamma * R\n",
    "        returns.insert(0, R)\n",
    "    returns = torch.tensor(returns)\n",
    "    returns = (returns - returns.mean()) / (returns.std() + eps)\n",
    "    for log_prob, R in zip(policy.saved_log_probs, returns):\n",
    "        policy_loss.append(-log_prob * R)\n",
    "    optimizer.zero_grad()\n",
    "    policy_loss = torch.cat(policy_loss).sum()\n",
    "    policy_loss.backward()\n",
    "    optimizer.step()\n",
    "    del policy.rewards[:]\n",
    "    del policy.saved_log_probs[:]\n",
    "\n",
    "from itertools import count\n",
    "def reinforce():\n",
    "    running_reward = 10\n",
    "    for i_episode in count(1):\n",
    "        (state, info), ep_reward = env.reset(), 0\n",
    "        # print('Initial State', state)\n",
    "        for t in range(1, 10000):  # Don't infinite loop while learning\n",
    "            action = policy.select_action(state)\n",
    "            state, reward, done, truncated, info = env.step(action)\n",
    "            # print('New State', state)\n",
    "            if render:\n",
    "                env.render()\n",
    "            policy.rewards.append(reward)\n",
    "            ep_reward += reward\n",
    "            if done:\n",
    "                break\n",
    "\n",
    "        # calculate reward\n",
    "        # It accepts a list of rewards for the whole episode and needs to calculate \n",
    "        # the discounted total reward for every step. To do this efficiently,\n",
    "        # we calculate the reward from the end of the local reward list.\n",
    "        # The last step of the episode will have the total reward equal to its local reward.\n",
    "        # The step before the last will have the total reward of ep_reward + gamma * running_reward\n",
    "        running_reward = 0.05 * ep_reward + (1 - 0.05) * running_reward\n",
    "        finish_episode()\n",
    "        if i_episode % log_interval == 0:\n",
    "            print('Episode {}\\tLast reward: {:.2f}\\tAverage reward: {:.2f}'.format(\n",
    "                  i_episode, ep_reward, running_reward))\n",
    "\n",
    "        if running_reward > env.spec.reward_threshold:\n",
    "            print(\"Solved! Running reward is now {} and \"\n",
    "                  \"the last episode runs to {} time steps!\".format(running_reward, t))\n",
    "            break"
   ]
  },
  {
   "cell_type": "code",
   "execution_count": 6,
   "metadata": {},
   "outputs": [
    {
     "name": "stdout",
     "output_type": "stream",
     "text": [
      "Episode 10\tLast reward: 180.00\tAverage reward: 95.77\n",
      "Episode 20\tLast reward: 285.00\tAverage reward: 181.60\n",
      "Episode 30\tLast reward: 485.00\tAverage reward: 244.85\n",
      "Episode 40\tLast reward: 220.00\tAverage reward: 267.49\n",
      "Episode 50\tLast reward: 135.00\tAverage reward: 242.66\n",
      "Episode 60\tLast reward: 155.00\tAverage reward: 243.16\n",
      "Episode 70\tLast reward: 135.00\tAverage reward: 207.00\n",
      "Episode 80\tLast reward: 85.00\tAverage reward: 190.89\n",
      "Episode 90\tLast reward: 290.00\tAverage reward: 178.00\n",
      "Episode 100\tLast reward: 65.00\tAverage reward: 139.06\n",
      "Episode 110\tLast reward: 125.00\tAverage reward: 129.55\n",
      "Episode 120\tLast reward: 305.00\tAverage reward: 130.85\n",
      "Episode 130\tLast reward: 175.00\tAverage reward: 135.96\n",
      "Episode 140\tLast reward: 70.00\tAverage reward: 142.77\n",
      "Episode 150\tLast reward: 110.00\tAverage reward: 125.79\n",
      "Episode 160\tLast reward: 45.00\tAverage reward: 122.52\n",
      "Episode 170\tLast reward: 15.00\tAverage reward: 94.65\n",
      "Episode 180\tLast reward: 125.00\tAverage reward: 118.72\n",
      "Episode 190\tLast reward: 395.00\tAverage reward: 153.05\n",
      "Episode 200\tLast reward: 145.00\tAverage reward: 169.32\n",
      "Episode 210\tLast reward: 290.00\tAverage reward: 204.73\n",
      "Episode 220\tLast reward: 270.00\tAverage reward: 219.21\n",
      "Episode 230\tLast reward: 270.00\tAverage reward: 244.00\n",
      "Episode 240\tLast reward: 240.00\tAverage reward: 242.96\n",
      "Episode 250\tLast reward: 245.00\tAverage reward: 256.88\n",
      "Episode 260\tLast reward: 220.00\tAverage reward: 251.18\n",
      "Episode 270\tLast reward: 15.00\tAverage reward: 230.48\n",
      "Episode 280\tLast reward: 75.00\tAverage reward: 250.64\n",
      "Episode 290\tLast reward: 210.00\tAverage reward: 202.57\n",
      "Episode 300\tLast reward: 175.00\tAverage reward: 196.98\n",
      "Episode 310\tLast reward: 280.00\tAverage reward: 217.15\n",
      "Episode 320\tLast reward: 300.00\tAverage reward: 205.54\n",
      "Episode 330\tLast reward: 350.00\tAverage reward: 191.87\n",
      "Episode 340\tLast reward: 500.00\tAverage reward: 243.25\n",
      "Episode 350\tLast reward: 185.00\tAverage reward: 225.95\n",
      "Episode 360\tLast reward: 60.00\tAverage reward: 203.73\n",
      "Episode 370\tLast reward: 195.00\tAverage reward: 212.24\n",
      "Episode 380\tLast reward: 60.00\tAverage reward: 196.77\n",
      "Episode 390\tLast reward: 120.00\tAverage reward: 201.33\n",
      "Episode 400\tLast reward: 20.00\tAverage reward: 190.49\n",
      "Episode 410\tLast reward: 360.00\tAverage reward: 214.95\n",
      "Episode 420\tLast reward: 210.00\tAverage reward: 217.68\n",
      "Episode 430\tLast reward: 180.00\tAverage reward: 220.87\n",
      "Episode 440\tLast reward: 105.00\tAverage reward: 158.62\n",
      "Episode 450\tLast reward: 120.00\tAverage reward: 115.42\n",
      "Episode 460\tLast reward: 105.00\tAverage reward: 110.09\n",
      "Episode 470\tLast reward: 135.00\tAverage reward: 173.55\n",
      "Episode 480\tLast reward: 825.00\tAverage reward: 248.74\n",
      "Solved! Running reward is now 307.9425180399372 and the last episode runs to 260 time steps!\n"
     ]
    }
   ],
   "source": [
    "reinforce()\n",
    "env.close()"
   ]
  },
  {
   "attachments": {},
   "cell_type": "markdown",
   "metadata": {},
   "source": [
    "## Policy Gradient"
   ]
  },
  {
   "cell_type": "code",
   "execution_count": 8,
   "metadata": {},
   "outputs": [],
   "source": [
    "# Gym is an OpenAI toolkit for RL\n",
    "from gymnasium.spaces import Box\n",
    "from gymnasium.wrappers import FrameStack\n",
    "import gymnasium as gym\n",
    "\n",
    "import torch\n",
    "import torch.nn as nn\n",
    "from torch import optim\n",
    "from torch.distributions import Categorical\n",
    "import torch.autograd as autograd \n",
    "import torch.nn.functional as F\n",
    "import torchvision.transforms as T\n",
    "\n",
    "from collections import namedtuple\n",
    "import matplotlib.pyplot as plt\n",
    "\n",
    "import numpy as np\n",
    "from utils import GrayScaleObservation, ResizeObservation, SkipFrame\n",
    "from tqdm import tqdm"
   ]
  },
  {
   "cell_type": "code",
   "execution_count": 2,
   "metadata": {},
   "outputs": [],
   "source": [
    "class PolicyNet(torch.nn.Module):\n",
    "    def __init__(self, input_size, output_size, hidden_layer_size=64):\n",
    "        super(PolicyNet, self).__init__()\n",
    "        \n",
    "        self.conv1 = nn.Conv2d(in_channels=input_size, out_channels=32, kernel_size=8, stride=4)\n",
    "        self.conv2 = nn.Conv2d(in_channels=32, out_channels=64, kernel_size=4, stride=2)\n",
    "        self.conv3 = nn.Conv2d(in_channels=64, out_channels=64, kernel_size=2, stride=1)\n",
    "\n",
    "        self.fc1 = torch.nn.Linear(4096, hidden_layer_size)\n",
    "        self.fc2 = torch.nn.Linear(hidden_layer_size, output_size)\n",
    "        self.softmax = torch.nn.Softmax(dim=0)\n",
    "\n",
    "    def forward(self, x):\n",
    "        x = x / 255.0  # normalize pixel values\n",
    "        x = torch.from_numpy(x).float().unsqueeze(0)\n",
    "\n",
    "        x = torch.relu(self.conv1(x))\n",
    "        x = torch.relu(self.conv2(x))\n",
    "        x = torch.relu(self.conv3(x))\n",
    "        x = x.view(x.size(0), -1)\n",
    "\n",
    "        return self.softmax(self.fc2(torch.nn.functional.relu(self.fc1(x))))\n",
    "\n",
    "    def get_action_and_logp(self, x):\n",
    "        x = x.__array__()/255.0\n",
    "        action_prob = self.forward(x)\n",
    "        m = torch.distributions.Categorical(action_prob)\n",
    "        action = m.sample()\n",
    "        logp = m.log_prob(action)\n",
    "        return action.item(), logp\n",
    "\n",
    "    def act(self, x):\n",
    "        action, _ = self.get_action_and_logp(x)\n",
    "        return action\n",
    "\n",
    "\n",
    "class ValueNet(torch.nn.Module):\n",
    "    def __init__(self, input_size, hidden_layer_size=64):\n",
    "        super(ValueNet, self).__init__()\n",
    "\n",
    "        self.conv1 = nn.Conv2d(in_channels=input_size, out_channels=32, kernel_size=8, stride=4)\n",
    "        self.conv2 = nn.Conv2d(in_channels=32, out_channels=64, kernel_size=4, stride=2)\n",
    "        self.conv3 = nn.Conv2d(in_channels=64, out_channels=64, kernel_size=2, stride=1)\n",
    "\n",
    "        self.fc1 = torch.nn.Linear(4096, hidden_layer_size)\n",
    "        self.fc2 = torch.nn.Linear(hidden_layer_size, 1)\n",
    "\n",
    "    def forward(self, x):\n",
    "        x = x.__array__() / 255.0  # normalize pixel values\n",
    "        x = torch.from_numpy(x).float().unsqueeze(0)\n",
    "\n",
    "        x = torch.relu(self.conv1(x))\n",
    "        x = torch.relu(self.conv2(x))\n",
    "        x = torch.relu(self.conv3(x))\n",
    "        x = x.view(x.size(0), -1)\n",
    "\n",
    "        return self.fc2(torch.nn.functional.relu(self.fc1(x)))"
   ]
  },
  {
   "cell_type": "code",
   "execution_count": 3,
   "metadata": {},
   "outputs": [],
   "source": [
    "def vpg(env, num_iter=200, num_traj=10, max_num_steps=1000, gamma=0.98,\n",
    "        policy_learning_rate=0.01, value_learning_rate=0.01,\n",
    "        policy_saved_path='vpg_policy_invader.pt', value_saved_path='vpg_value_invader.pt'):\n",
    "    input_size = env.observation_space.shape[0] # Box(3,210,160)\n",
    "    output_size = env.action_space.n\n",
    "    print(f'input_size {input_size}')\n",
    "    print(f'output_size {output_size} actions')\n",
    "    Trajectory = namedtuple('Trajectory', 'states actions rewards dones logp')\n",
    "\n",
    "    def collect_trajectory():\n",
    "        state_list = []\n",
    "        action_list = []\n",
    "        reward_list = []\n",
    "        dones_list = []\n",
    "        logp_list = []\n",
    "        state, info = env.reset()\n",
    "        done = False\n",
    "        steps = 0\n",
    "        while not done and steps <= max_num_steps:\n",
    "            action, logp = policy.get_action_and_logp(state)\n",
    "            newstate, reward, done, truncated, info = env.step(action)\n",
    "            #reward = reward + float(state[0])\n",
    "            state_list.append(state)\n",
    "            action_list.append(action)\n",
    "            reward_list.append(reward)\n",
    "            dones_list.append(done)\n",
    "            logp_list.append(logp)\n",
    "            steps += 1\n",
    "            state = newstate\n",
    "\n",
    "        traj = Trajectory(states=state_list, actions=action_list,\n",
    "                          rewards=reward_list, logp=logp_list, dones=dones_list)\n",
    "        return traj\n",
    "\n",
    "    def calc_returns(rewards):\n",
    "        dis_rewards = [gamma**i * r for i, r in enumerate(rewards)]\n",
    "        return [sum(dis_rewards[i:]) for i in range(len(dis_rewards))]\n",
    "\n",
    "    policy = PolicyNet(input_size, output_size)\n",
    "    value = ValueNet(input_size)\n",
    "    policy_optimizer = torch.optim.Adam(\n",
    "        policy.parameters(), lr=policy_learning_rate)\n",
    "    value_optimizer = torch.optim.Adam(\n",
    "        value.parameters(), lr=value_learning_rate)\n",
    "\n",
    "    mean_return_list = []\n",
    "    for it in tqdm(range(num_iter)):\n",
    "        traj_list = [collect_trajectory() for _ in range(num_traj)]\n",
    "        returns = [calc_returns(traj.rewards) for traj in traj_list]\n",
    "\n",
    "        policy_loss_terms = [-1. * traj.logp[j] * (returns[i][j] - value(traj.states[j]))\n",
    "                             for i, traj in enumerate(traj_list) for j in range(len(traj.actions))]\n",
    "\n",
    "        policy_loss = 1. / num_traj * torch.cat(policy_loss_terms).sum()\n",
    "        policy_optimizer.zero_grad()\n",
    "        policy_loss.backward()\n",
    "        policy_optimizer.step()\n",
    "\n",
    "        value_loss_terms = [1. / len(traj.actions) * (value(traj.states[j]) - returns[i][j])**2.\n",
    "                            for i, traj in enumerate(traj_list) for j in range(len(traj.actions))]\n",
    "        value_loss = 1. / num_traj * torch.cat(value_loss_terms).sum()\n",
    "        value_optimizer.zero_grad()\n",
    "        value_loss.backward()\n",
    "        value_optimizer.step()\n",
    "\n",
    "        mean_return = 1. / num_traj * \\\n",
    "            sum([traj_returns[0] for traj_returns in returns])\n",
    "        mean_return_list.append(mean_return)\n",
    "        if it % 10 == 0:\n",
    "            print('Iteration {}: Mean Return = {}'.format(it, mean_return))\n",
    "            torch.save(policy.state_dict(), policy_saved_path)\n",
    "            torch.save(value.state_dict(), value_saved_path)\n",
    "    return policy, mean_return_list"
   ]
  },
  {
   "cell_type": "code",
   "execution_count": 4,
   "metadata": {},
   "outputs": [
    {
     "name": "stderr",
     "output_type": "stream",
     "text": [
      "A.L.E: Arcade Learning Environment (version 0.8.1+53f58b7)\n",
      "[Powered by Stella]\n"
     ]
    },
    {
     "name": "stdout",
     "output_type": "stream",
     "text": [
      "input_size 4\n",
      "output_size 6 actions\n"
     ]
    },
    {
     "name": "stderr",
     "output_type": "stream",
     "text": [
      "  0%|          | 1/200 [00:11<36:35, 11.03s/it]"
     ]
    },
    {
     "name": "stdout",
     "output_type": "stream",
     "text": [
      "Iteration 0: Mean Return = 136.0\n"
     ]
    },
    {
     "name": "stderr",
     "output_type": "stream",
     "text": [
      "  6%|▌         | 11/200 [02:00<35:14, 11.19s/it]"
     ]
    },
    {
     "name": "stdout",
     "output_type": "stream",
     "text": [
      "Iteration 10: Mean Return = 183.0\n"
     ]
    },
    {
     "name": "stderr",
     "output_type": "stream",
     "text": [
      " 10%|█         | 21/200 [03:54<34:27, 11.55s/it]"
     ]
    },
    {
     "name": "stdout",
     "output_type": "stream",
     "text": [
      "Iteration 20: Mean Return = 190.0\n"
     ]
    },
    {
     "name": "stderr",
     "output_type": "stream",
     "text": [
      " 16%|█▌        | 31/200 [05:47<29:52, 10.60s/it]"
     ]
    },
    {
     "name": "stdout",
     "output_type": "stream",
     "text": [
      "Iteration 30: Mean Return = 135.0\n"
     ]
    },
    {
     "name": "stderr",
     "output_type": "stream",
     "text": [
      " 20%|██        | 41/200 [07:41<30:17, 11.43s/it]"
     ]
    },
    {
     "name": "stdout",
     "output_type": "stream",
     "text": [
      "Iteration 40: Mean Return = 132.0\n"
     ]
    },
    {
     "name": "stderr",
     "output_type": "stream",
     "text": [
      " 26%|██▌       | 51/200 [09:31<27:46, 11.18s/it]"
     ]
    },
    {
     "name": "stdout",
     "output_type": "stream",
     "text": [
      "Iteration 50: Mean Return = 164.0\n"
     ]
    },
    {
     "name": "stderr",
     "output_type": "stream",
     "text": [
      " 30%|███       | 61/200 [11:20<24:17, 10.48s/it]"
     ]
    },
    {
     "name": "stdout",
     "output_type": "stream",
     "text": [
      "Iteration 60: Mean Return = 70.0\n"
     ]
    },
    {
     "name": "stderr",
     "output_type": "stream",
     "text": [
      " 36%|███▌      | 71/200 [13:15<25:59, 12.09s/it]"
     ]
    },
    {
     "name": "stdout",
     "output_type": "stream",
     "text": [
      "Iteration 70: Mean Return = 216.0\n"
     ]
    },
    {
     "name": "stderr",
     "output_type": "stream",
     "text": [
      " 40%|████      | 81/200 [15:17<24:27, 12.33s/it]"
     ]
    },
    {
     "name": "stdout",
     "output_type": "stream",
     "text": [
      "Iteration 80: Mean Return = 190.0\n"
     ]
    },
    {
     "name": "stderr",
     "output_type": "stream",
     "text": [
      " 46%|████▌     | 91/200 [17:09<20:46, 11.43s/it]"
     ]
    },
    {
     "name": "stdout",
     "output_type": "stream",
     "text": [
      "Iteration 90: Mean Return = 142.0\n"
     ]
    },
    {
     "name": "stderr",
     "output_type": "stream",
     "text": [
      " 50%|█████     | 101/200 [18:57<18:24, 11.15s/it]"
     ]
    },
    {
     "name": "stdout",
     "output_type": "stream",
     "text": [
      "Iteration 100: Mean Return = 81.0\n"
     ]
    },
    {
     "name": "stderr",
     "output_type": "stream",
     "text": [
      " 56%|█████▌    | 111/200 [20:58<16:25, 11.07s/it]"
     ]
    },
    {
     "name": "stdout",
     "output_type": "stream",
     "text": [
      "Iteration 110: Mean Return = 75.0\n"
     ]
    },
    {
     "name": "stderr",
     "output_type": "stream",
     "text": [
      " 60%|██████    | 121/200 [23:01<15:48, 12.00s/it]"
     ]
    },
    {
     "name": "stdout",
     "output_type": "stream",
     "text": [
      "Iteration 120: Mean Return = 90.0\n"
     ]
    },
    {
     "name": "stderr",
     "output_type": "stream",
     "text": [
      " 66%|██████▌   | 131/200 [24:48<12:37, 10.98s/it]"
     ]
    },
    {
     "name": "stdout",
     "output_type": "stream",
     "text": [
      "Iteration 130: Mean Return = 151.0\n"
     ]
    },
    {
     "name": "stderr",
     "output_type": "stream",
     "text": [
      " 70%|███████   | 141/200 [26:45<11:33, 11.75s/it]"
     ]
    },
    {
     "name": "stdout",
     "output_type": "stream",
     "text": [
      "Iteration 140: Mean Return = 179.0\n"
     ]
    },
    {
     "name": "stderr",
     "output_type": "stream",
     "text": [
      " 76%|███████▌  | 151/200 [28:39<09:52, 12.09s/it]"
     ]
    },
    {
     "name": "stdout",
     "output_type": "stream",
     "text": [
      "Iteration 150: Mean Return = 179.0\n"
     ]
    },
    {
     "name": "stderr",
     "output_type": "stream",
     "text": [
      " 80%|████████  | 161/200 [30:24<06:37, 10.20s/it]"
     ]
    },
    {
     "name": "stdout",
     "output_type": "stream",
     "text": [
      "Iteration 160: Mean Return = 123.0\n"
     ]
    },
    {
     "name": "stderr",
     "output_type": "stream",
     "text": [
      " 86%|████████▌ | 171/200 [32:10<05:30, 11.38s/it]"
     ]
    },
    {
     "name": "stdout",
     "output_type": "stream",
     "text": [
      "Iteration 170: Mean Return = 167.0\n"
     ]
    },
    {
     "name": "stderr",
     "output_type": "stream",
     "text": [
      " 90%|█████████ | 181/200 [34:02<03:43, 11.78s/it]"
     ]
    },
    {
     "name": "stdout",
     "output_type": "stream",
     "text": [
      "Iteration 180: Mean Return = 254.0\n"
     ]
    },
    {
     "name": "stderr",
     "output_type": "stream",
     "text": [
      " 96%|█████████▌| 191/200 [36:03<01:54, 12.68s/it]"
     ]
    },
    {
     "name": "stdout",
     "output_type": "stream",
     "text": [
      "Iteration 190: Mean Return = 160.0\n"
     ]
    },
    {
     "name": "stderr",
     "output_type": "stream",
     "text": [
      "100%|██████████| 200/200 [37:46<00:00, 11.33s/it]\n"
     ]
    }
   ],
   "source": [
    "env = gym.make(\"ALE/SpaceInvaders-v5\", render_mode=\"rgb_array\")\n",
    "env = FrameStack(ResizeObservation(GrayScaleObservation(SkipFrame(env, skip=4)), shape=84), num_stack=4)\n",
    "\n",
    "agent, mean_return_list = vpg(env, num_iter=200, max_num_steps=500, gamma=1.0,\n",
    "                              num_traj=5)"
   ]
  },
  {
   "cell_type": "code",
   "execution_count": 7,
   "metadata": {},
   "outputs": [
    {
     "data": {
      "image/png": "[encoded data removed]",
      "text/plain": [
       "<Figure size 640x480 with 1 Axes>"
      ]
     },
     "metadata": {},
     "output_type": "display_data"
    }
   ],
   "source": [
    "plt.plot(mean_return_list)\n",
    "plt.xlabel('Iteration')\n",
    "plt.ylabel('Mean Return')\n",
    "plt.savefig('vpg_returns.png', format='png', dpi=300)"
   ]
  },
  {
   "cell_type": "code",
   "execution_count": 10,
   "metadata": {},
   "outputs": [],
   "source": [
    "# state,_  = env.reset()\n",
    "# for t in range(1000):\n",
    "#     action = agent.act(state)\n",
    "#     env.render()\n",
    "#     state, reward, done, truncated, info  = env.step(action)\n",
    "#     if done:\n",
    "#         break\n",
    "# env.close()"
   ]
  },
  {
   "attachments": {},
   "cell_type": "markdown",
   "metadata": {},
   "source": [
    "## Actor-Critic"
   ]
  },
  {
   "cell_type": "code",
   "execution_count": 16,
   "metadata": {},
   "outputs": [],
   "source": [
    "import torch\n",
    "import torch.nn as nn\n",
    "import torch.nn.functional as F\n",
    "import matplotlib.pyplot as plt\n",
    "import numpy as np\n",
    "import math\n",
    "import random\n",
    "import os\n",
    "import gymnasium as gym\n",
    "from gym.wrappers import RecordVideo\n",
    "from utils import GrayScaleObservation, ResizeObservation, SkipFrame\n",
    "from gymnasium.spaces import Box\n",
    "from gymnasium.wrappers import FrameStack\n",
    "from tqdm import tqdm"
   ]
  },
  {
   "cell_type": "code",
   "execution_count": 17,
   "metadata": {},
   "outputs": [],
   "source": [
    "class ActorNetwork(nn.Module):\n",
    "\n",
    "    def __init__(self,input_size,hidden_size,action_size):\n",
    "        super(ActorNetwork, self).__init__()\n",
    "\n",
    "        self.conv1 = nn.Conv2d(in_channels=input_size, out_channels=32, kernel_size=8, stride=4)\n",
    "        self.conv2 = nn.Conv2d(in_channels=32, out_channels=64, kernel_size=4, stride=2)\n",
    "        self.conv3 = nn.Conv2d(in_channels=64, out_channels=64, kernel_size=2, stride=1)\n",
    "\n",
    "        self.fc1 = nn.Linear(4096,hidden_size)\n",
    "        self.fc2 = nn.Linear(hidden_size,hidden_size)\n",
    "        self.fc3 = nn.Linear(hidden_size,action_size)\n",
    "\n",
    "    def forward(self,x):\n",
    "\n",
    "        x = torch.relu(self.conv1(x))\n",
    "        x = torch.relu(self.conv2(x))\n",
    "        x = torch.relu(self.conv3(x))\n",
    "        x = x.view(x.size(0), -1)\n",
    "\n",
    "        out = F.relu(self.fc1(x))\n",
    "        out = F.relu(self.fc2(out))\n",
    "        out = F.log_softmax(self.fc3(out))\n",
    "        return out\n",
    "\n",
    "class ValueNetwork(nn.Module):\n",
    "\n",
    "    def __init__(self,input_size,hidden_size,output_size):\n",
    "        super(ValueNetwork, self).__init__()\n",
    "\n",
    "        self.conv1 = nn.Conv2d(in_channels=input_size, out_channels=32, kernel_size=8, stride=4)\n",
    "        self.conv2 = nn.Conv2d(in_channels=32, out_channels=64, kernel_size=4, stride=2)\n",
    "        self.conv3 = nn.Conv2d(in_channels=64, out_channels=64, kernel_size=2, stride=1)\n",
    "\n",
    "        self.fc1 = nn.Linear(4096,hidden_size)\n",
    "        self.fc2 = nn.Linear(hidden_size,hidden_size)\n",
    "        self.fc3 = nn.Linear(hidden_size,output_size)\n",
    "\n",
    "    def forward(self,x):\n",
    "\n",
    "        x = torch.relu(self.conv1(x))\n",
    "        x = torch.relu(self.conv2(x))\n",
    "        x = torch.relu(self.conv3(x))\n",
    "        x = x.view(x.size(0), -1)\n",
    "    \n",
    "        out = F.relu(self.fc1(x))\n",
    "        out = F.relu(self.fc2(out))\n",
    "        out = self.fc3(out)\n",
    "        return out"
   ]
  },
  {
   "cell_type": "code",
   "execution_count": 18,
   "metadata": {},
   "outputs": [],
   "source": [
    "def roll_out(actor_network,task,sample_nums,value_network,init_state):\n",
    "    #task.reset()\n",
    "    states = []\n",
    "    actions = []\n",
    "    rewards = []\n",
    "    is_done = False\n",
    "    final_r = 0\n",
    "    state = init_state\n",
    "\n",
    "    for j in range(sample_nums):\n",
    "        states.append(np.array(state))\n",
    "        state = torch.from_numpy(np.array(state)).float().unsqueeze(0)\n",
    "        log_softmax_action = actor_network(state)\n",
    "        softmax_action = torch.exp(log_softmax_action)\n",
    "        action = np.random.choice(ACTION_DIM,p=softmax_action.cpu().data.numpy()[0])\n",
    "        one_hot_action = [int(k == action) for k in range(ACTION_DIM)]\n",
    "        next_state,reward,done,_,_ = task.step(action)\n",
    "        #fix_reward = -10 if done else 1\n",
    "        actions.append(one_hot_action)\n",
    "        rewards.append(reward)\n",
    "        final_state = next_state\n",
    "        state = next_state\n",
    "        if done:\n",
    "            is_done = True\n",
    "            state, _ = task.reset()\n",
    "            break\n",
    "    if not is_done:\n",
    "        final_state = torch.from_numpy(np.array(final_state)).float().unsqueeze(0)\n",
    "        final_r = value_network(final_state).cpu().data.numpy()\n",
    "\n",
    "    return states,actions,rewards,final_r,state\n",
    "\n",
    "def discount_reward(r, gamma,final_r):\n",
    "    discounted_r = np.zeros_like(r)\n",
    "    running_add = final_r\n",
    "    for t in reversed(range(0, len(r))):\n",
    "        running_add = running_add * gamma + r[t]\n",
    "        discounted_r[t] = running_add\n",
    "    return discounted_r"
   ]
  },
  {
   "cell_type": "code",
   "execution_count": 19,
   "metadata": {},
   "outputs": [],
   "source": [
    "def A2C():\n",
    "    # init a task generator for data fetching\n",
    "    # task = gym.make(\"CartPole-v1\")\n",
    "    env = gym.make(\"ALE/SpaceInvaders-v5\", render_mode=\"rgb_array\")\n",
    "    task = FrameStack(ResizeObservation(GrayScaleObservation(SkipFrame(env, skip=4)), shape=84), num_stack=4)\n",
    "    input_size = task.observation_space.shape[0]\n",
    "    init_state, _ = task.reset()\n",
    "\n",
    "    # init value network\n",
    "    value_network = ValueNetwork(input_size = input_size, hidden_size = 40,output_size = 1)\n",
    "    value_network_optim = torch.optim.Adam(value_network.parameters(),lr=0.01)\n",
    "\n",
    "    # init actor network\n",
    "    actor_network = ActorNetwork(input_size,40,ACTION_DIM)\n",
    "    actor_network_optim = torch.optim.Adam(actor_network.parameters(),lr = 0.01)\n",
    "\n",
    "    steps =[]\n",
    "    task_episodes =[]\n",
    "    test_results =[]\n",
    "\n",
    "    for step in tqdm(range(STEP)):\n",
    "        states, actions,rewards,final_r,current_state = roll_out(actor_network,task,SAMPLE_NUMS,value_network,init_state)\n",
    "        init_state = current_state\n",
    "        actions_var = torch.Tensor(actions)\n",
    "        states_var = torch.Tensor(states)\n",
    "\n",
    "        # train actor network\n",
    "        actor_network_optim.zero_grad()\n",
    "        log_softmax_actions = actor_network(states_var)\n",
    "        vs = value_network(states_var).detach()\n",
    "        # calculate qs\n",
    "        qs = torch.Tensor(discount_reward(rewards,0.99,final_r))\n",
    "\n",
    "        advantages = qs - vs\n",
    "        actor_network_loss = - torch.mean(torch.sum(log_softmax_actions*actions_var,1)* advantages)\n",
    "        actor_network_loss.backward()\n",
    "        torch.nn.utils.clip_grad_norm(actor_network.parameters(),0.5)\n",
    "        actor_network_optim.step()\n",
    "\n",
    "        # train value network\n",
    "        value_network_optim.zero_grad()\n",
    "        target_values = qs.unsqueeze(1)\n",
    "        values = value_network(states_var)\n",
    "        criterion = nn.MSELoss()\n",
    "        value_network_loss = criterion(values,target_values)\n",
    "        value_network_loss.backward()\n",
    "        torch.nn.utils.clip_grad_norm(value_network.parameters(),0.5)\n",
    "        value_network_optim.step()\n",
    "\n",
    "        # Testing\n",
    "        if (step + 1) % 50== 0:\n",
    "                result = 0\n",
    "                # test_task = gym.make(\"CartPole-v1\")\n",
    "                env = gym.make(\"ALE/SpaceInvaders-v5\", render_mode=\"rgb_array\")\n",
    "                test_task = FrameStack(ResizeObservation(GrayScaleObservation(SkipFrame(env, skip=4)), shape=84), num_stack=4)\n",
    "                for test_epi in range(10):\n",
    "                    state, _ = test_task.reset()\n",
    "                    for test_step in range(200):\n",
    "                        # print(state)\n",
    "                        state = torch.from_numpy(np.array(state)).float().unsqueeze(0)\n",
    "                        softmax_action = torch.exp(actor_network(state))\n",
    "                        #print(softmax_action.data)\n",
    "                        action = np.argmax(softmax_action.data.numpy()[0])\n",
    "                        next_state,reward,done,_,_ = test_task.step(action)\n",
    "                        result += reward\n",
    "                        state = next_state\n",
    "                        if done:\n",
    "                            break\n",
    "                print(\"step:\",step+1,\"test result:\",result/10.0)\n",
    "                steps.append(step+1)\n",
    "                test_results.append(result/10)\n",
    "                \n",
    "    return actor_network"
   ]
  },
  {
   "cell_type": "code",
   "execution_count": 20,
   "metadata": {},
   "outputs": [
    {
     "name": "stderr",
     "output_type": "stream",
     "text": [
      "  0%|          | 0/2000 [00:00<?, ?it/s]/tmp/ipykernel_7245/547364578.py:23: UserWarning: Implicit dimension choice for log_softmax has been deprecated. Change the call to include dim=X as an argument.\n",
      "  out = F.log_softmax(self.fc3(out))\n",
      "/tmp/ipykernel_7245/3431494964.py:37: UserWarning: torch.nn.utils.clip_grad_norm is now deprecated in favor of torch.nn.utils.clip_grad_norm_.\n",
      "  torch.nn.utils.clip_grad_norm(actor_network.parameters(),0.5)\n",
      "/tmp/ipykernel_7245/3431494964.py:47: UserWarning: torch.nn.utils.clip_grad_norm is now deprecated in favor of torch.nn.utils.clip_grad_norm_.\n",
      "  torch.nn.utils.clip_grad_norm(value_network.parameters(),0.5)\n",
      "  2%|▎         | 50/2000 [00:32<1:52:11,  3.45s/it]"
     ]
    },
    {
     "name": "stdout",
     "output_type": "stream",
     "text": [
      "step: 50 test result: 285.0\n"
     ]
    },
    {
     "name": "stderr",
     "output_type": "stream",
     "text": [
      "  5%|▌         | 100/2000 [01:04<1:55:52,  3.66s/it]"
     ]
    },
    {
     "name": "stdout",
     "output_type": "stream",
     "text": [
      "step: 100 test result: 285.0\n"
     ]
    },
    {
     "name": "stderr",
     "output_type": "stream",
     "text": [
      "  8%|▊         | 150/2000 [01:36<1:58:32,  3.84s/it]"
     ]
    },
    {
     "name": "stdout",
     "output_type": "stream",
     "text": [
      "step: 150 test result: 285.0\n"
     ]
    },
    {
     "name": "stderr",
     "output_type": "stream",
     "text": [
      " 10%|█         | 200/2000 [02:08<2:00:11,  4.01s/it]"
     ]
    },
    {
     "name": "stdout",
     "output_type": "stream",
     "text": [
      "step: 200 test result: 285.0\n"
     ]
    },
    {
     "name": "stderr",
     "output_type": "stream",
     "text": [
      " 12%|█▎        | 250/2000 [02:40<1:55:03,  3.95s/it]"
     ]
    },
    {
     "name": "stdout",
     "output_type": "stream",
     "text": [
      "step: 250 test result: 285.0\n"
     ]
    },
    {
     "name": "stderr",
     "output_type": "stream",
     "text": [
      " 15%|█▌        | 300/2000 [03:12<1:57:15,  4.14s/it]"
     ]
    },
    {
     "name": "stdout",
     "output_type": "stream",
     "text": [
      "step: 300 test result: 285.0\n"
     ]
    },
    {
     "name": "stderr",
     "output_type": "stream",
     "text": [
      " 18%|█▊        | 350/2000 [03:45<1:28:13,  3.21s/it]"
     ]
    },
    {
     "name": "stdout",
     "output_type": "stream",
     "text": [
      "step: 350 test result: 285.0\n"
     ]
    },
    {
     "name": "stderr",
     "output_type": "stream",
     "text": [
      " 20%|██        | 400/2000 [04:17<1:33:33,  3.51s/it]"
     ]
    },
    {
     "name": "stdout",
     "output_type": "stream",
     "text": [
      "step: 400 test result: 285.0\n"
     ]
    },
    {
     "name": "stderr",
     "output_type": "stream",
     "text": [
      " 22%|██▎       | 450/2000 [04:49<1:33:14,  3.61s/it]"
     ]
    },
    {
     "name": "stdout",
     "output_type": "stream",
     "text": [
      "step: 450 test result: 285.0\n"
     ]
    },
    {
     "name": "stderr",
     "output_type": "stream",
     "text": [
      " 25%|██▌       | 500/2000 [05:22<1:36:34,  3.86s/it]"
     ]
    },
    {
     "name": "stdout",
     "output_type": "stream",
     "text": [
      "step: 500 test result: 285.0\n"
     ]
    },
    {
     "name": "stderr",
     "output_type": "stream",
     "text": [
      " 28%|██▊       | 550/2000 [05:55<1:36:21,  3.99s/it]"
     ]
    },
    {
     "name": "stdout",
     "output_type": "stream",
     "text": [
      "step: 550 test result: 285.0\n"
     ]
    },
    {
     "name": "stderr",
     "output_type": "stream",
     "text": [
      " 30%|███       | 600/2000 [06:27<1:37:33,  4.18s/it]"
     ]
    },
    {
     "name": "stdout",
     "output_type": "stream",
     "text": [
      "step: 600 test result: 285.0\n"
     ]
    },
    {
     "name": "stderr",
     "output_type": "stream",
     "text": [
      " 32%|███▎      | 650/2000 [06:59<1:29:53,  4.00s/it]"
     ]
    },
    {
     "name": "stdout",
     "output_type": "stream",
     "text": [
      "step: 650 test result: 285.0\n"
     ]
    },
    {
     "name": "stderr",
     "output_type": "stream",
     "text": [
      " 35%|███▌      | 700/2000 [07:31<1:08:11,  3.15s/it]"
     ]
    },
    {
     "name": "stdout",
     "output_type": "stream",
     "text": [
      "step: 700 test result: 285.0\n"
     ]
    },
    {
     "name": "stderr",
     "output_type": "stream",
     "text": [
      " 38%|███▊      | 750/2000 [08:03<1:13:41,  3.54s/it]"
     ]
    },
    {
     "name": "stdout",
     "output_type": "stream",
     "text": [
      "step: 750 test result: 285.0\n"
     ]
    },
    {
     "name": "stderr",
     "output_type": "stream",
     "text": [
      " 40%|████      | 800/2000 [08:35<1:11:58,  3.60s/it]"
     ]
    },
    {
     "name": "stdout",
     "output_type": "stream",
     "text": [
      "step: 800 test result: 285.0\n"
     ]
    },
    {
     "name": "stderr",
     "output_type": "stream",
     "text": [
      " 42%|████▎     | 850/2000 [09:07<1:15:32,  3.94s/it]"
     ]
    },
    {
     "name": "stdout",
     "output_type": "stream",
     "text": [
      "step: 850 test result: 285.0\n"
     ]
    },
    {
     "name": "stderr",
     "output_type": "stream",
     "text": [
      " 45%|████▌     | 900/2000 [09:40<1:13:48,  4.03s/it]"
     ]
    },
    {
     "name": "stdout",
     "output_type": "stream",
     "text": [
      "step: 900 test result: 285.0\n"
     ]
    },
    {
     "name": "stderr",
     "output_type": "stream",
     "text": [
      " 48%|████▊     | 950/2000 [10:12<1:12:19,  4.13s/it]"
     ]
    },
    {
     "name": "stdout",
     "output_type": "stream",
     "text": [
      "step: 950 test result: 285.0\n"
     ]
    },
    {
     "name": "stderr",
     "output_type": "stream",
     "text": [
      " 50%|█████     | 1000/2000 [10:44<1:07:48,  4.07s/it]"
     ]
    },
    {
     "name": "stdout",
     "output_type": "stream",
     "text": [
      "step: 1000 test result: 285.0\n"
     ]
    },
    {
     "name": "stderr",
     "output_type": "stream",
     "text": [
      " 52%|█████▎    | 1050/2000 [11:17<50:19,  3.18s/it]  "
     ]
    },
    {
     "name": "stdout",
     "output_type": "stream",
     "text": [
      "step: 1050 test result: 285.0\n"
     ]
    },
    {
     "name": "stderr",
     "output_type": "stream",
     "text": [
      " 55%|█████▌    | 1100/2000 [11:49<50:54,  3.39s/it]"
     ]
    },
    {
     "name": "stdout",
     "output_type": "stream",
     "text": [
      "step: 1100 test result: 285.0\n"
     ]
    },
    {
     "name": "stderr",
     "output_type": "stream",
     "text": [
      " 57%|█████▊    | 1150/2000 [12:20<50:09,  3.54s/it]"
     ]
    },
    {
     "name": "stdout",
     "output_type": "stream",
     "text": [
      "step: 1150 test result: 285.0\n"
     ]
    },
    {
     "name": "stderr",
     "output_type": "stream",
     "text": [
      " 60%|██████    | 1200/2000 [12:52<50:33,  3.79s/it]"
     ]
    },
    {
     "name": "stdout",
     "output_type": "stream",
     "text": [
      "step: 1200 test result: 285.0\n"
     ]
    },
    {
     "name": "stderr",
     "output_type": "stream",
     "text": [
      " 62%|██████▎   | 1250/2000 [13:24<49:28,  3.96s/it]"
     ]
    },
    {
     "name": "stdout",
     "output_type": "stream",
     "text": [
      "step: 1250 test result: 285.0\n"
     ]
    },
    {
     "name": "stderr",
     "output_type": "stream",
     "text": [
      " 65%|██████▌   | 1300/2000 [13:56<46:50,  4.01s/it]"
     ]
    },
    {
     "name": "stdout",
     "output_type": "stream",
     "text": [
      "step: 1300 test result: 285.0\n"
     ]
    },
    {
     "name": "stderr",
     "output_type": "stream",
     "text": [
      " 68%|██████▊   | 1350/2000 [14:29<44:24,  4.10s/it]"
     ]
    },
    {
     "name": "stdout",
     "output_type": "stream",
     "text": [
      "step: 1350 test result: 285.0\n"
     ]
    },
    {
     "name": "stderr",
     "output_type": "stream",
     "text": [
      " 70%|███████   | 1400/2000 [15:02<32:43,  3.27s/it]"
     ]
    },
    {
     "name": "stdout",
     "output_type": "stream",
     "text": [
      "step: 1400 test result: 285.0\n"
     ]
    },
    {
     "name": "stderr",
     "output_type": "stream",
     "text": [
      " 72%|███████▎  | 1450/2000 [15:34<32:24,  3.53s/it]"
     ]
    },
    {
     "name": "stdout",
     "output_type": "stream",
     "text": [
      "step: 1450 test result: 285.0\n"
     ]
    },
    {
     "name": "stderr",
     "output_type": "stream",
     "text": [
      " 75%|███████▌  | 1500/2000 [16:06<30:15,  3.63s/it]"
     ]
    },
    {
     "name": "stdout",
     "output_type": "stream",
     "text": [
      "step: 1500 test result: 285.0\n"
     ]
    },
    {
     "name": "stderr",
     "output_type": "stream",
     "text": [
      " 78%|███████▊  | 1550/2000 [16:38<28:53,  3.85s/it]"
     ]
    },
    {
     "name": "stdout",
     "output_type": "stream",
     "text": [
      "step: 1550 test result: 285.0\n"
     ]
    },
    {
     "name": "stderr",
     "output_type": "stream",
     "text": [
      " 80%|████████  | 1600/2000 [17:10<26:48,  4.02s/it]"
     ]
    },
    {
     "name": "stdout",
     "output_type": "stream",
     "text": [
      "step: 1600 test result: 285.0\n"
     ]
    },
    {
     "name": "stderr",
     "output_type": "stream",
     "text": [
      " 82%|████████▎ | 1650/2000 [17:42<23:12,  3.98s/it]"
     ]
    },
    {
     "name": "stdout",
     "output_type": "stream",
     "text": [
      "step: 1650 test result: 285.0\n"
     ]
    },
    {
     "name": "stderr",
     "output_type": "stream",
     "text": [
      " 85%|████████▌ | 1700/2000 [18:14<19:06,  3.82s/it]"
     ]
    },
    {
     "name": "stdout",
     "output_type": "stream",
     "text": [
      "step: 1700 test result: 285.0\n"
     ]
    },
    {
     "name": "stderr",
     "output_type": "stream",
     "text": [
      " 88%|████████▊ | 1750/2000 [18:46<13:55,  3.34s/it]"
     ]
    },
    {
     "name": "stdout",
     "output_type": "stream",
     "text": [
      "step: 1750 test result: 285.0\n"
     ]
    },
    {
     "name": "stderr",
     "output_type": "stream",
     "text": [
      " 90%|█████████ | 1800/2000 [19:19<11:49,  3.55s/it]"
     ]
    },
    {
     "name": "stdout",
     "output_type": "stream",
     "text": [
      "step: 1800 test result: 285.0\n"
     ]
    },
    {
     "name": "stderr",
     "output_type": "stream",
     "text": [
      " 92%|█████████▎| 1850/2000 [19:51<09:04,  3.63s/it]"
     ]
    },
    {
     "name": "stdout",
     "output_type": "stream",
     "text": [
      "step: 1850 test result: 285.0\n"
     ]
    },
    {
     "name": "stderr",
     "output_type": "stream",
     "text": [
      " 95%|█████████▌| 1900/2000 [20:23<06:34,  3.95s/it]"
     ]
    },
    {
     "name": "stdout",
     "output_type": "stream",
     "text": [
      "step: 1900 test result: 285.0\n"
     ]
    },
    {
     "name": "stderr",
     "output_type": "stream",
     "text": [
      " 98%|█████████▊| 1950/2000 [20:55<03:12,  3.84s/it]"
     ]
    },
    {
     "name": "stdout",
     "output_type": "stream",
     "text": [
      "step: 1950 test result: 285.0\n"
     ]
    },
    {
     "name": "stderr",
     "output_type": "stream",
     "text": [
      "100%|██████████| 2000/2000 [21:27<00:00,  1.55it/s]"
     ]
    },
    {
     "name": "stdout",
     "output_type": "stream",
     "text": [
      "step: 2000 test result: 285.0\n"
     ]
    },
    {
     "name": "stderr",
     "output_type": "stream",
     "text": [
      "\n"
     ]
    },
    {
     "ename": "ValueError",
     "evalue": "only one element tensors can be converted to Python scalars",
     "output_type": "error",
     "traceback": [
      "\u001b[0;31m---------------------------------------------------------------------------\u001b[0m",
      "\u001b[0;31mValueError\u001b[0m                                Traceback (most recent call last)",
      "Cell \u001b[0;32mIn[20], line 19\u001b[0m\n\u001b[1;32m     17\u001b[0m state,_ \u001b[39m=\u001b[39m env\u001b[39m.\u001b[39mreset()\n\u001b[1;32m     18\u001b[0m \u001b[39mfor\u001b[39;00m t \u001b[39min\u001b[39;00m \u001b[39mrange\u001b[39m(\u001b[39m1000\u001b[39m):\n\u001b[0;32m---> 19\u001b[0m     softmax_action \u001b[39m=\u001b[39m torch\u001b[39m.\u001b[39mexp(actor_network(torch\u001b[39m.\u001b[39;49mTensor([state])))\n\u001b[1;32m     20\u001b[0m     \u001b[39m#print(softmax_action.data)\u001b[39;00m\n\u001b[1;32m     21\u001b[0m     action \u001b[39m=\u001b[39m np\u001b[39m.\u001b[39margmax(softmax_action\u001b[39m.\u001b[39mdata\u001b[39m.\u001b[39mnumpy()[\u001b[39m0\u001b[39m])\n",
      "\u001b[0;31mValueError\u001b[0m: only one element tensors can be converted to Python scalars"
     ]
    }
   ],
   "source": [
    "# Hyper Parameters\n",
    "STATE_DIM = 4\n",
    "ACTION_DIM = 6\n",
    "STEP = 2000\n",
    "SAMPLE_NUMS = 30\n",
    "\n",
    "actor_network = A2C()\n",
    "\n",
    "# vdo_path = 'video_rl3/'\n",
    "# if not os.path.exists(vdo_path):\n",
    "#     os.mkdir(vdo_path)\n",
    "\n",
    "# # env = RecordVideo(gym.make(\"CartPole-v1\"), vdo_path)\n",
    "# env = gym.make(\"ALE/SpaceInvaders-v5\", render_mode=\"rgb_array\")\n",
    "# env = FrameStack(ResizeObservation(GrayScaleObservation(SkipFrame(env, skip=4)), shape=84), num_stack=4)\n",
    "\n",
    "# state,_ = env.reset()\n",
    "# for t in range(1000):\n",
    "#     state = torch.from_numpy(np.array(state)).float().unsqueeze(0)\n",
    "#     softmax_action = torch.exp(actor_network(state))\n",
    "#     #print(softmax_action.data)\n",
    "#     action = np.argmax(softmax_action.data.numpy()[0])\n",
    "#     env.render()\n",
    "#     state, reward, done, _, _ = env.step(action)\n",
    "#     if done:\n",
    "#         break\n",
    "# env.close()"
   ]
  },
  {
   "attachments": {},
   "cell_type": "markdown",
   "metadata": {},
   "source": [
    "## Conclusion\n",
    "\n",
    "In Atari environments, Space Invader return Actions are 6 and Observation Space (210, 160, 3) which refer to width, heihgt, channels. \n",
    "Firstly, frames was skipping by 4 frames. Furthermore, changing it to greyscale then resize from (3, 210, 160) to (4, 84, 84) instead.\n",
    "Each model has added convoluton layers.\n",
    "\n",
    "        self.conv1 = nn.Conv2d(in_channels=4, out_channels=32, kernel_size=8, stride=4)\n",
    "        self.conv2 = nn.Conv2d(in_channels=32, out_channels=64, kernel_size=4, stride=2)\n",
    "        self.conv3 = nn.Conv2d(in_channels=64, out_channels=64, kernel_size=2, stride=1)\n",
    "\n",
    "        self.fc1 = torch.nn.Linear(4096, hidden_layer_size)\n",
    "        self.fc2 = torch.nn.Linear(hidden_layer_size, output_size)\n",
    "        \n",
    "In 1st model, REINFORCE was set reward_threshold = 300 Therefore, Running reward is now 307.94 and the last episode runs to 260 time steps!\n",
    "\n",
    "In 2nd model, Policy Gradient was tested 200 iteration and the maximum mean return is 254.0\n",
    "\n",
    "In 3rd model, Actor-Critic was tested 2000 iteration as well and the result reach to 285.0"
   ]
  },
  {
   "cell_type": "markdown",
   "metadata": {},
   "source": []
  }
 ],
 "metadata": {
  "kernelspec": {
   "display_name": "Python 3",
   "language": "python",
   "name": "python3"
  },
  "language_info": {
   "codemirror_mode": {
    "name": "ipython",
    "version": 3
   },
   "file_extension": ".py",
   "mimetype": "text/x-python",
   "name": "python",
   "nbconvert_exporter": "python",
   "pygments_lexer": "ipython3",
   "version": "3.8.10"
  },
  "orig_nbformat": 4
 },
 "nbformat": 4,
 "nbformat_minor": 2
}
