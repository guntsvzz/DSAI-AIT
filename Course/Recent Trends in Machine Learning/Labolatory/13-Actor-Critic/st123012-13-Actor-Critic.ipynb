{
 "cells": [
  {
   "attachments": {},
   "cell_type": "markdown",
   "metadata": {},
   "source": [
    "# Lab 13: Deep RL\n",
    "\n",
    "exploring deep reinforcement learning with policy gradient\n",
    "and actor-critic approaches.\n",
    "Here are some of the references used in today's lab:\n",
    "\n",
    "- https://gym.openai.com\n",
    "- Deep Reinforcement Learning Hands-On (Packtpub)\n",
    "- https://github.com/pytorch/examples/blob/main/reinforcement_learning/reinforce.py\n",
    "- https://towardsdatascience.com/breaking-down-richard-suttons-policy-gradient-9768602cb63b\n",
    "- https://towardsdatascience.com/learning-reinforcement-learning-reinforce-with-pytorch-5e8ad7fc7da0\n",
    "- https://github.com/woithook/A2C-Pytorch-implementations"
   ]
  },
  {
   "cell_type": "code",
   "execution_count": 1,
   "metadata": {},
   "outputs": [],
   "source": [
    "id = 123012\n",
    "name ='Todsavad Tangtortan'"
   ]
  },
  {
   "attachments": {},
   "cell_type": "markdown",
   "metadata": {},
   "source": [
    "# Take-home exercise\n",
    "\n",
    "Implement REINFORCE and A2C for one of the Atari games such as Space Invaders using a CNN for the policy\n",
    "network and (for A2C) the value network."
   ]
  },
  {
   "attachments": {},
   "cell_type": "markdown",
   "metadata": {},
   "source": [
    "## Setting Environment"
   ]
  },
  {
   "cell_type": "code",
   "execution_count": null,
   "metadata": {},
   "outputs": [],
   "source": [
    "# 'export LD_LIBRARY_PATH=$LD_LIBRARY_PATH:$HOME/.mujoco/mujoco210/bin' \n",
    "# mkdir ~/.mujoco\n",
    "# wget -q https://mujoco.org/download/mujoco210-linux-x86_64.tar.gz -O mujoco.tar.gz\n",
    "# rm mujoco.tar.gz\n",
    "# pip install mujoco-py\n",
    "# pip install gymnasium[mujoco]\n",
    "# pip install gymnasium[classic-control]\n",
    "# apt-get install libglew-dev patchelf libosmesa6-dev libgl1-mesa-glx\n",
    "# apt-get install -y xvfb python-opengl \n",
    "# xvfb-run -a -s \"-screen 0 1400x900x24\" bash"
   ]
  },
  {
   "attachments": {},
   "cell_type": "markdown",
   "metadata": {},
   "source": [
    "## REINFORCE"
   ]
  },
  {
   "cell_type": "code",
   "execution_count": 2,
   "metadata": {},
   "outputs": [
    {
     "name": "stderr",
     "output_type": "stream",
     "text": [
      "/usr/local/lib/python3.8/dist-packages/tqdm/auto.py:21: TqdmWarning: IProgress not found. Please update jupyter and ipywidgets. See https://ipywidgets.readthedocs.io/en/stable/user_install.html\n",
      "  from .autonotebook import tqdm as notebook_tqdm\n"
     ]
    }
   ],
   "source": [
    "# Gym is an OpenAI toolkit for RL\n",
    "from gymnasium.spaces import Box\n",
    "from gymnasium.wrappers import FrameStack\n",
    "import gymnasium as gym\n",
    "\n",
    "import torch\n",
    "import torch.nn as nn\n",
    "from torch import optim\n",
    "from torch.distributions import Categorical\n",
    "import torch.autograd as autograd \n",
    "import torch.nn.functional as F\n",
    "import torchvision.transforms as T\n",
    "\n",
    "from collections import namedtuple\n",
    "import matplotlib.pyplot as plt\n",
    "\n",
    "import numpy as np\n",
    "from utils import GrayScaleObservation, ResizeObservation, SkipFrame"
   ]
  },
  {
   "cell_type": "code",
   "execution_count": 3,
   "metadata": {},
   "outputs": [],
   "source": [
    "class Policy(nn.Module):\n",
    "    def __init__(self, env):\n",
    "        super(Policy, self).__init__()\n",
    "        # self.n_inputs = env.observation_space.shape[2]\n",
    "        self.n_outputs = env.action_space.n\n",
    "\n",
    "        self.conv1 = nn.Conv2d(in_channels=4, out_channels=32, kernel_size=8, stride=4)\n",
    "        self.conv2 = nn.Conv2d(in_channels=32, out_channels=64, kernel_size=4, stride=2)\n",
    "        self.conv3 = nn.Conv2d(in_channels=64, out_channels=64, kernel_size=2, stride=1)\n",
    "        \n",
    "        self.affine1 = nn.Linear(4096, 128)\n",
    "        self.dropout = nn.Dropout(p=0.6)\n",
    "        self.affine2 = nn.Linear(128, self.n_outputs)\n",
    "\n",
    "        self.saved_log_probs = []\n",
    "        self.rewards = []\n",
    "    \n",
    "    def forward(self, x):\n",
    "        x = x / 255.0  # normalize pixel values\n",
    "        x = torch.relu(self.conv1(x))\n",
    "        x = torch.relu(self.conv2(x))\n",
    "        x = torch.relu(self.conv3(x))\n",
    "        x = x.view(x.size(0), -1)\n",
    "        \n",
    "        x = self.affine1(x)\n",
    "        x = self.dropout(x)\n",
    "        x = F.relu(x)\n",
    "        action_scores = self.affine2(x)\n",
    "        return F.softmax(action_scores, dim=1)\n",
    "    \n",
    "    def select_action(self, state):\n",
    "        state = torch.from_numpy(np.array(state)).float().unsqueeze(0)\n",
    "        probs = self.forward(state)\n",
    "        m = torch.distributions.Categorical(probs)\n",
    "        action = m.sample()\n",
    "        self.saved_log_probs.append(m.log_prob(action))\n",
    "        return action.item()"
   ]
  },
  {
   "cell_type": "code",
   "execution_count": 4,
   "metadata": {},
   "outputs": [
    {
     "name": "stderr",
     "output_type": "stream",
     "text": [
      "A.L.E: Arcade Learning Environment (version 0.8.1+53f58b7)\n",
      "[Powered by Stella]\n"
     ]
    }
   ],
   "source": [
    "#RL environment parameters\n",
    "gamma = 0.95\n",
    "seed = 0\n",
    "render = False\n",
    "log_interval = 10\n",
    "\n",
    "env = gym.make(\"ALE/SpaceInvaders-v5\", render_mode=\"rgb_array\")\n",
    "# define a reward threshold\n",
    "reward_threshold = 300\n",
    "# register the reward threshold with the environment\n",
    "env.spec.reward_threshold = reward_threshold\n",
    "# env = gym.make(\"SpaceInvaders-v0\")\n",
    "env = FrameStack(ResizeObservation(GrayScaleObservation(SkipFrame(env, skip=4)), shape=84), num_stack=4)\n",
    "env.reset(seed=seed)\n",
    "torch.manual_seed(seed)\n",
    "\n",
    "#Create out policy Network\n",
    "policy = Policy(env)\n",
    "optimizer = optim.Adam(policy.parameters(), lr=1e-2)\n",
    "eps = np.finfo(np.float32).eps.item()"
   ]
  },
  {
   "cell_type": "code",
   "execution_count": 5,
   "metadata": {},
   "outputs": [],
   "source": [
    "def finish_episode():\n",
    "    R = 0\n",
    "    policy_loss = []\n",
    "    returns = []\n",
    "    for r in policy.rewards[::-1]:\n",
    "        R = r + gamma * R\n",
    "        returns.insert(0, R)\n",
    "    returns = torch.tensor(returns)\n",
    "    returns = (returns - returns.mean()) / (returns.std() + eps)\n",
    "    for log_prob, R in zip(policy.saved_log_probs, returns):\n",
    "        policy_loss.append(-log_prob * R)\n",
    "    optimizer.zero_grad()\n",
    "    policy_loss = torch.cat(policy_loss).sum()\n",
    "    policy_loss.backward()\n",
    "    optimizer.step()\n",
    "    del policy.rewards[:]\n",
    "    del policy.saved_log_probs[:]\n",
    "\n",
    "from itertools import count\n",
    "def reinforce():\n",
    "    running_reward = 10\n",
    "    for i_episode in count(1):\n",
    "        (state, info), ep_reward = env.reset(), 0\n",
    "        # print('Initial State', state)\n",
    "        for t in range(1, 10000):  # Don't infinite loop while learning\n",
    "            action = policy.select_action(state)\n",
    "            state, reward, done, truncated, info = env.step(action)\n",
    "            # print('New State', state)\n",
    "            if render:\n",
    "                env.render()\n",
    "            policy.rewards.append(reward)\n",
    "            ep_reward += reward\n",
    "            if done:\n",
    "                break\n",
    "\n",
    "        # calculate reward\n",
    "        # It accepts a list of rewards for the whole episode and needs to calculate \n",
    "        # the discounted total reward for every step. To do this efficiently,\n",
    "        # we calculate the reward from the end of the local reward list.\n",
    "        # The last step of the episode will have the total reward equal to its local reward.\n",
    "        # The step before the last will have the total reward of ep_reward + gamma * running_reward\n",
    "        running_reward = 0.05 * ep_reward + (1 - 0.05) * running_reward\n",
    "        finish_episode()\n",
    "        if i_episode % log_interval == 0:\n",
    "            print('Episode {}\\tLast reward: {:.2f}\\tAverage reward: {:.2f}'.format(\n",
    "                  i_episode, ep_reward, running_reward))\n",
    "\n",
    "        if running_reward > env.spec.reward_threshold:\n",
    "            print(\"Solved! Running reward is now {} and \"\n",
    "                  \"the last episode runs to {} time steps!\".format(running_reward, t))\n",
    "            break"
   ]
  },
  {
   "cell_type": "code",
   "execution_count": 6,
   "metadata": {},
   "outputs": [
    {
     "name": "stdout",
     "output_type": "stream",
     "text": [
      "Episode 10\tLast reward: 180.00\tAverage reward: 95.77\n",
      "Episode 20\tLast reward: 285.00\tAverage reward: 181.60\n",
      "Episode 30\tLast reward: 485.00\tAverage reward: 244.85\n",
      "Episode 40\tLast reward: 220.00\tAverage reward: 267.49\n",
      "Episode 50\tLast reward: 135.00\tAverage reward: 242.66\n",
      "Episode 60\tLast reward: 155.00\tAverage reward: 243.16\n",
      "Episode 70\tLast reward: 135.00\tAverage reward: 207.00\n",
      "Episode 80\tLast reward: 85.00\tAverage reward: 190.89\n",
      "Episode 90\tLast reward: 290.00\tAverage reward: 178.00\n",
      "Episode 100\tLast reward: 65.00\tAverage reward: 139.06\n",
      "Episode 110\tLast reward: 125.00\tAverage reward: 129.55\n",
      "Episode 120\tLast reward: 305.00\tAverage reward: 130.85\n",
      "Episode 130\tLast reward: 175.00\tAverage reward: 135.96\n",
      "Episode 140\tLast reward: 70.00\tAverage reward: 142.77\n",
      "Episode 150\tLast reward: 110.00\tAverage reward: 125.79\n",
      "Episode 160\tLast reward: 45.00\tAverage reward: 122.52\n",
      "Episode 170\tLast reward: 15.00\tAverage reward: 94.65\n",
      "Episode 180\tLast reward: 125.00\tAverage reward: 118.72\n",
      "Episode 190\tLast reward: 395.00\tAverage reward: 153.05\n",
      "Episode 200\tLast reward: 145.00\tAverage reward: 169.32\n",
      "Episode 210\tLast reward: 290.00\tAverage reward: 204.73\n",
      "Episode 220\tLast reward: 270.00\tAverage reward: 219.21\n",
      "Episode 230\tLast reward: 270.00\tAverage reward: 244.00\n",
      "Episode 240\tLast reward: 240.00\tAverage reward: 242.96\n",
      "Episode 250\tLast reward: 245.00\tAverage reward: 256.88\n",
      "Episode 260\tLast reward: 220.00\tAverage reward: 251.18\n",
      "Episode 270\tLast reward: 15.00\tAverage reward: 230.48\n",
      "Episode 280\tLast reward: 75.00\tAverage reward: 250.64\n",
      "Episode 290\tLast reward: 210.00\tAverage reward: 202.57\n",
      "Episode 300\tLast reward: 175.00\tAverage reward: 196.98\n",
      "Episode 310\tLast reward: 280.00\tAverage reward: 217.15\n",
      "Episode 320\tLast reward: 300.00\tAverage reward: 205.54\n",
      "Episode 330\tLast reward: 350.00\tAverage reward: 191.87\n",
      "Episode 340\tLast reward: 500.00\tAverage reward: 243.25\n",
      "Episode 350\tLast reward: 185.00\tAverage reward: 225.95\n",
      "Episode 360\tLast reward: 60.00\tAverage reward: 203.73\n",
      "Episode 370\tLast reward: 195.00\tAverage reward: 212.24\n",
      "Episode 380\tLast reward: 60.00\tAverage reward: 196.77\n",
      "Episode 390\tLast reward: 120.00\tAverage reward: 201.33\n",
      "Episode 400\tLast reward: 20.00\tAverage reward: 190.49\n",
      "Episode 410\tLast reward: 360.00\tAverage reward: 214.95\n",
      "Episode 420\tLast reward: 210.00\tAverage reward: 217.68\n",
      "Episode 430\tLast reward: 180.00\tAverage reward: 220.87\n",
      "Episode 440\tLast reward: 105.00\tAverage reward: 158.62\n",
      "Episode 450\tLast reward: 120.00\tAverage reward: 115.42\n",
      "Episode 460\tLast reward: 105.00\tAverage reward: 110.09\n",
      "Episode 470\tLast reward: 135.00\tAverage reward: 173.55\n",
      "Episode 480\tLast reward: 825.00\tAverage reward: 248.74\n",
      "Solved! Running reward is now 307.9425180399372 and the last episode runs to 260 time steps!\n"
     ]
    }
   ],
   "source": [
    "reinforce()\n",
    "env.close()"
   ]
  },
  {
   "attachments": {},
   "cell_type": "markdown",
   "metadata": {},
   "source": [
    "## A2C"
   ]
  },
  {
   "cell_type": "code",
   "execution_count": 1,
   "metadata": {},
   "outputs": [
    {
     "name": "stderr",
     "output_type": "stream",
     "text": [
      "/usr/local/lib/python3.8/dist-packages/tqdm/auto.py:21: TqdmWarning: IProgress not found. Please update jupyter and ipywidgets. See https://ipywidgets.readthedocs.io/en/stable/user_install.html\n",
      "  from .autonotebook import tqdm as notebook_tqdm\n"
     ]
    }
   ],
   "source": [
    "# Gym is an OpenAI toolkit for RL\n",
    "from gymnasium.spaces import Box\n",
    "from gymnasium.wrappers import FrameStack\n",
    "import gymnasium as gym\n",
    "\n",
    "import torch\n",
    "import torch.nn as nn\n",
    "from torch import optim\n",
    "from torch.distributions import Categorical\n",
    "import torch.autograd as autograd \n",
    "import torch.nn.functional as F\n",
    "import torchvision.transforms as T\n",
    "\n",
    "from collections import namedtuple\n",
    "import matplotlib.pyplot as plt\n",
    "\n",
    "import numpy as np\n",
    "from utils import GrayScaleObservation, ResizeObservation, SkipFrame\n",
    "from tqdm import tqdm"
   ]
  },
  {
   "cell_type": "code",
   "execution_count": 2,
   "metadata": {},
   "outputs": [],
   "source": [
    "class PolicyNet(torch.nn.Module):\n",
    "    def __init__(self, input_size, output_size, hidden_layer_size=64):\n",
    "        super(PolicyNet, self).__init__()\n",
    "        \n",
    "        self.conv1 = nn.Conv2d(in_channels=input_size, out_channels=32, kernel_size=8, stride=4)\n",
    "        self.conv2 = nn.Conv2d(in_channels=32, out_channels=64, kernel_size=4, stride=2)\n",
    "        self.conv3 = nn.Conv2d(in_channels=64, out_channels=64, kernel_size=2, stride=1)\n",
    "\n",
    "        self.fc1 = torch.nn.Linear(4096, hidden_layer_size)\n",
    "        self.fc2 = torch.nn.Linear(hidden_layer_size, output_size)\n",
    "        self.softmax = torch.nn.Softmax(dim=0)\n",
    "\n",
    "    def forward(self, x):\n",
    "        x = x / 255.0  # normalize pixel values\n",
    "        x = torch.from_numpy(x).float().unsqueeze(0)\n",
    "\n",
    "        x = torch.relu(self.conv1(x))\n",
    "        x = torch.relu(self.conv2(x))\n",
    "        x = torch.relu(self.conv3(x))\n",
    "        x = x.view(x.size(0), -1)\n",
    "\n",
    "        return self.softmax(self.fc2(torch.nn.functional.relu(self.fc1(x))))\n",
    "\n",
    "    def get_action_and_logp(self, x):\n",
    "        x = x.__array__()/255.0\n",
    "        action_prob = self.forward(x)\n",
    "        m = torch.distributions.Categorical(action_prob)\n",
    "        action = m.sample()\n",
    "        logp = m.log_prob(action)\n",
    "        return action.item(), logp\n",
    "\n",
    "    def act(self, x):\n",
    "        action, _ = self.get_action_and_logp(x)\n",
    "        return action\n",
    "\n",
    "\n",
    "class ValueNet(torch.nn.Module):\n",
    "    def __init__(self, input_size, hidden_layer_size=64):\n",
    "        super(ValueNet, self).__init__()\n",
    "\n",
    "        self.conv1 = nn.Conv2d(in_channels=input_size, out_channels=32, kernel_size=8, stride=4)\n",
    "        self.conv2 = nn.Conv2d(in_channels=32, out_channels=64, kernel_size=4, stride=2)\n",
    "        self.conv3 = nn.Conv2d(in_channels=64, out_channels=64, kernel_size=2, stride=1)\n",
    "\n",
    "        self.fc1 = torch.nn.Linear(4096, hidden_layer_size)\n",
    "        self.fc2 = torch.nn.Linear(hidden_layer_size, 1)\n",
    "\n",
    "    def forward(self, x):\n",
    "        x = x.__array__() / 255.0  # normalize pixel values\n",
    "        x = torch.from_numpy(x).float().unsqueeze(0)\n",
    "\n",
    "        x = torch.relu(self.conv1(x))\n",
    "        x = torch.relu(self.conv2(x))\n",
    "        x = torch.relu(self.conv3(x))\n",
    "        x = x.view(x.size(0), -1)\n",
    "\n",
    "        return self.fc2(torch.nn.functional.relu(self.fc1(x)))"
   ]
  },
  {
   "cell_type": "code",
   "execution_count": 3,
   "metadata": {},
   "outputs": [],
   "source": [
    "def vpg(env, num_iter=200, num_traj=10, max_num_steps=1000, gamma=0.98,\n",
    "        policy_learning_rate=0.01, value_learning_rate=0.01,\n",
    "        policy_saved_path='vpg_policy_invader.pt', value_saved_path='vpg_value_invader.pt'):\n",
    "    input_size = env.observation_space.shape[0] # Box(3,210,160)\n",
    "    output_size = env.action_space.n\n",
    "    print(f'input_size {input_size}')\n",
    "    print(f'output_size {output_size} actions')\n",
    "    Trajectory = namedtuple('Trajectory', 'states actions rewards dones logp')\n",
    "\n",
    "    def collect_trajectory():\n",
    "        state_list = []\n",
    "        action_list = []\n",
    "        reward_list = []\n",
    "        dones_list = []\n",
    "        logp_list = []\n",
    "        state, info = env.reset()\n",
    "        done = False\n",
    "        steps = 0\n",
    "        while not done and steps <= max_num_steps:\n",
    "            action, logp = policy.get_action_and_logp(state)\n",
    "            newstate, reward, done, truncated, info = env.step(action)\n",
    "            #reward = reward + float(state[0])\n",
    "            state_list.append(state)\n",
    "            action_list.append(action)\n",
    "            reward_list.append(reward)\n",
    "            dones_list.append(done)\n",
    "            logp_list.append(logp)\n",
    "            steps += 1\n",
    "            state = newstate\n",
    "\n",
    "        traj = Trajectory(states=state_list, actions=action_list,\n",
    "                          rewards=reward_list, logp=logp_list, dones=dones_list)\n",
    "        return traj\n",
    "\n",
    "    def calc_returns(rewards):\n",
    "        dis_rewards = [gamma**i * r for i, r in enumerate(rewards)]\n",
    "        return [sum(dis_rewards[i:]) for i in range(len(dis_rewards))]\n",
    "\n",
    "    policy = PolicyNet(input_size, output_size)\n",
    "    value = ValueNet(input_size)\n",
    "    policy_optimizer = torch.optim.Adam(\n",
    "        policy.parameters(), lr=policy_learning_rate)\n",
    "    value_optimizer = torch.optim.Adam(\n",
    "        value.parameters(), lr=value_learning_rate)\n",
    "\n",
    "    mean_return_list = []\n",
    "    for it in tqdm(range(num_iter)):\n",
    "        traj_list = [collect_trajectory() for _ in range(num_traj)]\n",
    "        returns = [calc_returns(traj.rewards) for traj in traj_list]\n",
    "\n",
    "        policy_loss_terms = [-1. * traj.logp[j] * (returns[i][j] - value(traj.states[j]))\n",
    "                             for i, traj in enumerate(traj_list) for j in range(len(traj.actions))]\n",
    "\n",
    "        policy_loss = 1. / num_traj * torch.cat(policy_loss_terms).sum()\n",
    "        policy_optimizer.zero_grad()\n",
    "        policy_loss.backward()\n",
    "        policy_optimizer.step()\n",
    "\n",
    "        value_loss_terms = [1. / len(traj.actions) * (value(traj.states[j]) - returns[i][j])**2.\n",
    "                            for i, traj in enumerate(traj_list) for j in range(len(traj.actions))]\n",
    "        value_loss = 1. / num_traj * torch.cat(value_loss_terms).sum()\n",
    "        value_optimizer.zero_grad()\n",
    "        value_loss.backward()\n",
    "        value_optimizer.step()\n",
    "\n",
    "        mean_return = 1. / num_traj * \\\n",
    "            sum([traj_returns[0] for traj_returns in returns])\n",
    "        mean_return_list.append(mean_return)\n",
    "        if it % 10 == 0:\n",
    "            print('Iteration {}: Mean Return = {}'.format(it, mean_return))\n",
    "            torch.save(policy.state_dict(), policy_saved_path)\n",
    "            torch.save(value.state_dict(), value_saved_path)\n",
    "    return policy, mean_return_list"
   ]
  },
  {
   "cell_type": "code",
   "execution_count": 4,
   "metadata": {},
   "outputs": [
    {
     "name": "stderr",
     "output_type": "stream",
     "text": [
      "A.L.E: Arcade Learning Environment (version 0.8.1+53f58b7)\n",
      "[Powered by Stella]\n"
     ]
    },
    {
     "name": "stdout",
     "output_type": "stream",
     "text": [
      "input_size 4\n",
      "output_size 6 actions\n"
     ]
    },
    {
     "name": "stderr",
     "output_type": "stream",
     "text": [
      "  0%|          | 1/200 [00:11<36:35, 11.03s/it]"
     ]
    },
    {
     "name": "stdout",
     "output_type": "stream",
     "text": [
      "Iteration 0: Mean Return = 136.0\n"
     ]
    },
    {
     "name": "stderr",
     "output_type": "stream",
     "text": [
      "  6%|▌         | 11/200 [02:00<35:14, 11.19s/it]"
     ]
    },
    {
     "name": "stdout",
     "output_type": "stream",
     "text": [
      "Iteration 10: Mean Return = 183.0\n"
     ]
    },
    {
     "name": "stderr",
     "output_type": "stream",
     "text": [
      " 10%|█         | 21/200 [03:54<34:27, 11.55s/it]"
     ]
    },
    {
     "name": "stdout",
     "output_type": "stream",
     "text": [
      "Iteration 20: Mean Return = 190.0\n"
     ]
    },
    {
     "name": "stderr",
     "output_type": "stream",
     "text": [
      " 16%|█▌        | 31/200 [05:47<29:52, 10.60s/it]"
     ]
    },
    {
     "name": "stdout",
     "output_type": "stream",
     "text": [
      "Iteration 30: Mean Return = 135.0\n"
     ]
    },
    {
     "name": "stderr",
     "output_type": "stream",
     "text": [
      " 20%|██        | 41/200 [07:41<30:17, 11.43s/it]"
     ]
    },
    {
     "name": "stdout",
     "output_type": "stream",
     "text": [
      "Iteration 40: Mean Return = 132.0\n"
     ]
    },
    {
     "name": "stderr",
     "output_type": "stream",
     "text": [
      " 26%|██▌       | 51/200 [09:31<27:46, 11.18s/it]"
     ]
    },
    {
     "name": "stdout",
     "output_type": "stream",
     "text": [
      "Iteration 50: Mean Return = 164.0\n"
     ]
    },
    {
     "name": "stderr",
     "output_type": "stream",
     "text": [
      " 30%|███       | 61/200 [11:20<24:17, 10.48s/it]"
     ]
    },
    {
     "name": "stdout",
     "output_type": "stream",
     "text": [
      "Iteration 60: Mean Return = 70.0\n"
     ]
    },
    {
     "name": "stderr",
     "output_type": "stream",
     "text": [
      " 35%|███▌      | 70/200 [13:03<25:39, 11.84s/it]"
     ]
    }
   ],
   "source": [
    "env = gym.make(\"ALE/SpaceInvaders-v5\", render_mode=\"rgb_array\")\n",
    "env = FrameStack(ResizeObservation(GrayScaleObservation(SkipFrame(env, skip=4)), shape=84), num_stack=4)\n",
    "\n",
    "agent, mean_return_list = vpg(env, num_iter=200, max_num_steps=500, gamma=1.0,\n",
    "                              num_traj=5)"
   ]
  },
  {
   "cell_type": "code",
   "execution_count": null,
   "metadata": {},
   "outputs": [],
   "source": [
    "state,_  = env.reset()\n",
    "for t in range(1000):\n",
    "    action = agent.act(state)\n",
    "    env.render()\n",
    "    state, reward, done, truncated, info  = env.step(action)\n",
    "    if done:\n",
    "        break\n",
    "env.close()"
   ]
  },
  {
   "attachments": {},
   "cell_type": "markdown",
   "metadata": {},
   "source": [
    "## Conclusion\n",
    "\n",
    "In Atari environments, Space Invader return Actions are 6 and Observation Space (210, 160, 3) which refer to width, heihgt, channels. \n",
    "Firstly, frames was skipping by 4 frames. Furthermore, changing it to greyscale then resize from (3, 210, 160) to (4, 84, 84) instead.\n",
    "Each model has added convoluton layers.\n",
    "\n",
    "        self.conv1 = nn.Conv2d(in_channels=4, out_channels=32, kernel_size=8, stride=4)\n",
    "        self.conv2 = nn.Conv2d(in_channels=32, out_channels=64, kernel_size=4, stride=2)\n",
    "        self.conv3 = nn.Conv2d(in_channels=64, out_channels=64, kernel_size=2, stride=1)\n",
    "        \n",
    "In first model, REINFORCE was set reward_threshold = 300 Therefore, Running reward is now 307.94 and the last episode runs to 260 time steps!\n",
    "\n",
    "In second model, A2C :"
   ]
  },
  {
   "cell_type": "markdown",
   "metadata": {},
   "source": []
  }
 ],
 "metadata": {
  "kernelspec": {
   "display_name": "Python 3",
   "language": "python",
   "name": "python3"
  },
  "language_info": {
   "codemirror_mode": {
    "name": "ipython",
    "version": 3
   },
   "file_extension": ".py",
   "mimetype": "text/x-python",
   "name": "python",
   "nbconvert_exporter": "python",
   "pygments_lexer": "ipython3",
   "version": "3.8.10"
  },
  "orig_nbformat": 4
 },
 "nbformat": 4,
 "nbformat_minor": 2
}
