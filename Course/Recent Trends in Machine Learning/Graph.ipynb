{
 "cells": [
  {
   "attachments": {},
   "cell_type": "markdown",
   "metadata": {},
   "source": [
    "<img src = \"./Graph.png\" width=800>"
   ]
  },
  {
   "cell_type": "code",
   "execution_count": 2,
   "metadata": {},
   "outputs": [],
   "source": [
    "import numpy as np\n",
    "degreeMatrix = [\n",
    "    #1  2  3  4  5  6  7  8  9  10\n",
    "    [2, 0, 0, 0, 0, 0, 0, 0, 0, 0], #1\n",
    "    [0, 3, 0, 0, 0, 0, 0, 0, 0, 0], #2\n",
    "    [0, 0, 3, 0, 0, 0, 0, 0, 0, 0], #3\n",
    "    [0, 0, 0, 2, 0, 0, 0, 0, 0, 0], #4\n",
    "    [0, 0, 0, 0, 3, 0, 0, 0, 0, 0], #5\n",
    "    [0, 0, 0, 0, 0, 2, 0, 0, 0, 0], #6\n",
    "    [0, 0, 0, 0, 0, 0, 2, 0, 0, 0], #7\n",
    "    [0, 0, 0, 0, 0, 0, 0, 3, 0, 0], #8\n",
    "    [0, 0, 0, 0, 0, 0, 0, 0, 2, 0], #9\n",
    "    [0, 0, 0, 0, 0, 0, 0, 0, 0, 2]  #10\n",
    "]\n",
    "\n",
    "adjacentMatrix = [\n",
    "    #1  2  3  4  5  6  7  8  9  10\n",
    "    [0, 4, 4, 0, 0, 0, 0, 0, 0, 0], #1\n",
    "    [4, 0, 2, 1, 0, 0, 0, 0, 0, 0], #2\n",
    "    [4, 2, 0, 0, 1, 0, 0, 0, 0, 0], #3\n",
    "    [0, 1, 0, 0, 0, 0, 0, 0, 0, 0], #4\n",
    "    [0, 0, 1, 0, 0, 2, 1, 0, 0, 0], #5\n",
    "    [0, 0, 0, 0, 2, 0, 0, 0, 0, 0], #6\n",
    "    [0, 0, 0, 0, 1, 0, 0, 3, 0, 0], #7\n",
    "    [0, 0, 0, 0, 0, 0, 3, 0, 3, 2], #8\n",
    "    [0, 0, 0, 0, 0, 0, 0, 3, 0, 4], #9\n",
    "    [0, 0, 0, 0, 0, 0, 0, 2, 4, 0]  #10\n",
    "]\n",
    "\n",
    "\n",
    "degM = np.array(degreeMatrix)\n",
    "adjM = np.array(adjacentMatrix)\n",
    "lapM = degM - adjM"
   ]
  },
  {
   "cell_type": "code",
   "execution_count": 3,
   "metadata": {},
   "outputs": [
    {
     "name": "stdout",
     "output_type": "stream",
     "text": [
      "Degree Matrix\n",
      "[[2 0 0 0 0 0 0 0 0 0]\n",
      " [0 3 0 0 0 0 0 0 0 0]\n",
      " [0 0 3 0 0 0 0 0 0 0]\n",
      " [0 0 0 2 0 0 0 0 0 0]\n",
      " [0 0 0 0 3 0 0 0 0 0]\n",
      " [0 0 0 0 0 2 0 0 0 0]\n",
      " [0 0 0 0 0 0 2 0 0 0]\n",
      " [0 0 0 0 0 0 0 3 0 0]\n",
      " [0 0 0 0 0 0 0 0 2 0]\n",
      " [0 0 0 0 0 0 0 0 0 2]]\n"
     ]
    }
   ],
   "source": [
    "print('Degree Matrix')\n",
    "print(degM)"
   ]
  },
  {
   "cell_type": "code",
   "execution_count": 4,
   "metadata": {},
   "outputs": [
    {
     "name": "stdout",
     "output_type": "stream",
     "text": [
      "Adjacency Matrix\n",
      "[[0 4 4 0 0 0 0 0 0 0]\n",
      " [4 0 2 1 0 0 0 0 0 0]\n",
      " [4 2 0 0 1 0 0 0 0 0]\n",
      " [0 1 0 0 0 0 0 0 0 0]\n",
      " [0 0 1 0 0 2 1 0 0 0]\n",
      " [0 0 0 0 2 0 0 0 0 0]\n",
      " [0 0 0 0 1 0 0 3 0 0]\n",
      " [0 0 0 0 0 0 3 0 3 2]\n",
      " [0 0 0 0 0 0 0 3 0 4]\n",
      " [0 0 0 0 0 0 0 2 4 0]]\n"
     ]
    }
   ],
   "source": [
    "print('Adjacency Matrix')\n",
    "print(adjM)"
   ]
  },
  {
   "cell_type": "code",
   "execution_count": 5,
   "metadata": {},
   "outputs": [
    {
     "name": "stdout",
     "output_type": "stream",
     "text": [
      "laplacian Matrix\n",
      "[[ 2 -4 -4  0  0  0  0  0  0  0]\n",
      " [-4  3 -2 -1  0  0  0  0  0  0]\n",
      " [-4 -2  3  0 -1  0  0  0  0  0]\n",
      " [ 0 -1  0  2  0  0  0  0  0  0]\n",
      " [ 0  0 -1  0  3 -2 -1  0  0  0]\n",
      " [ 0  0  0  0 -2  2  0  0  0  0]\n",
      " [ 0  0  0  0 -1  0  2 -3  0  0]\n",
      " [ 0  0  0  0  0  0 -3  3 -3 -2]\n",
      " [ 0  0  0  0  0  0  0 -3  2 -4]\n",
      " [ 0  0  0  0  0  0  0 -2 -4  2]]\n"
     ]
    }
   ],
   "source": [
    "print('laplacian Matrix')\n",
    "print(lapM)"
   ]
  },
  {
   "cell_type": "code",
   "execution_count": 21,
   "metadata": {},
   "outputs": [
    {
     "data": {
      "text/plain": [
       "array([[ 1.        ,  0.        ,  0.        ,  0.        ,  0.        ,\n",
       "         0.        ,  0.        ,  0.        ,  0.        ,  0.        ],\n",
       "       [ 0.        ,  1.        ,  0.        ,  0.        ,  0.        ,\n",
       "         0.        ,  0.        ,  0.        ,  0.        ,  0.        ],\n",
       "       [ 0.        ,  0.        ,  1.        ,  0.        ,  0.        ,\n",
       "         0.        ,  0.        ,  0.        ,  0.        ,  0.        ],\n",
       "       [ 0.        ,  0.        ,  0.        , -1.        ,  0.        ,\n",
       "         0.        ,  0.        ,  0.        ,  0.        ,  0.        ],\n",
       "       [ 0.        ,  0.        ,  0.        ,  0.        ,  1.        ,\n",
       "         0.        ,  0.        ,  0.        ,  0.        ,  0.        ],\n",
       "       [ 0.        ,  0.        ,  0.        ,  0.        ,  0.        ,\n",
       "         0.95833333,  0.        ,  0.        ,  0.        ,  0.        ],\n",
       "       [ 0.        ,  0.        ,  0.        ,  0.        ,  0.        ,\n",
       "         0.        ,  0.83333333,  0.        ,  0.        ,  0.        ],\n",
       "       [ 0.        ,  0.        ,  0.        ,  0.        ,  0.        ,\n",
       "         0.        ,  0.        ,  1.        ,  0.        ,  0.        ],\n",
       "       [ 0.        ,  0.        ,  0.        ,  0.        ,  0.        ,\n",
       "         0.        ,  0.        ,  0.        ,  1.        ,  0.        ],\n",
       "       [ 0.        ,  0.        ,  0.        ,  0.        ,  0.        ,\n",
       "         0.        ,  0.        ,  0.        ,  0.        ,  1.        ]])"
      ]
     },
     "execution_count": 21,
     "metadata": {},
     "output_type": "execute_result"
    }
   ],
   "source": [
    "Lnorm = np.eye(10,10) - np.linalg.inv(degM) * np.linalg.inv(adjM)\n",
    "Lnorm"
   ]
  },
  {
   "cell_type": "code",
   "execution_count": null,
   "metadata": {},
   "outputs": [],
   "source": []
  }
 ],
 "metadata": {
  "kernelspec": {
   "display_name": "Python 3",
   "language": "python",
   "name": "python3"
  },
  "language_info": {
   "codemirror_mode": {
    "name": "ipython",
    "version": 3
   },
   "file_extension": ".py",
   "mimetype": "text/x-python",
   "name": "python",
   "nbconvert_exporter": "python",
   "pygments_lexer": "ipython3",
   "version": "3.10.4"
  },
  "orig_nbformat": 4
 },
 "nbformat": 4,
 "nbformat_minor": 2
}
