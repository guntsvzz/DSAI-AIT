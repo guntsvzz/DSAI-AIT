{
 "cells": [
  {
   "cell_type": "code",
   "execution_count": 1,
   "metadata": {},
   "outputs": [],
   "source": [
    "your_client_id='ElyKc6o3du1IMb5LP2HYjg'\n",
    "your_client_secret='YimfVn3bTLyVFu_XkJuLxrNkR3vHAQ'\n",
    "your_user_name='guntsv'\n",
    "# https://www.reddit.com/prefs/apps"
   ]
  },
  {
   "cell_type": "code",
   "execution_count": 6,
   "metadata": {},
   "outputs": [
    {
     "name": "stderr",
     "output_type": "stream",
     "text": [
      "/usr/local/lib/python3.8/dist-packages/tqdm/auto.py:22: TqdmWarning: IProgress not found. Please update jupyter and ipywidgets. See https://ipywidgets.readthedocs.io/en/stable/user_install.html\n",
      "  from .autonotebook import tqdm as notebook_tqdm\n"
     ]
    }
   ],
   "source": [
    "import pandas as pd\n",
    "import numpy as np\n",
    "\n",
    "# misc\n",
    "import datetime as dt\n",
    "from pprint import pprint\n",
    "from itertools import chain\n",
    "\n",
    "#spacy \n",
    "import spacy\n",
    "from spacy.lang.en.stop_words import STOP_WORDS\n",
    "# reddit crawler\n",
    "import praw\n",
    "\n",
    "# # sentiment analysis\n",
    "import nltk\n",
    "from nltk.sentiment.vader import SentimentIntensityAnalyzer\n",
    "from nltk.tokenize import word_tokenize, RegexpTokenizer # tokenize words\n",
    "from nltk.corpus import stopwords\n",
    "\n",
    "# visualization\n",
    "import matplotlib.pyplot as plt\n",
    "%matplotlib inline\n",
    "plt.rcParams[\"figure.figsize\"] = (10, 8) # default plot size\n",
    "import seaborn as sns\n",
    "sns.set(style='whitegrid', palette='Dark2')\n",
    "from wordcloud import WordCloud"
   ]
  },
  {
   "cell_type": "code",
   "execution_count": 3,
   "metadata": {},
   "outputs": [],
   "source": [
    "reddit = praw.Reddit(client_id=your_client_id,\n",
    "                     client_secret=your_client_secret,\n",
    "                     user_agent=your_user_name,\n",
    "                     check_for_async=False)"
   ]
  },
  {
   "cell_type": "code",
   "execution_count": 4,
   "metadata": {},
   "outputs": [
    {
     "name": "stdout",
     "output_type": "stream",
     "text": [
      "981\n"
     ]
    }
   ],
   "source": [
    "subreddit = reddit.subreddit('iphone')\n",
    "\n",
    "news = [*subreddit.top(limit=None)] # top posts all time\n",
    "\n",
    "print(len(news))"
   ]
  },
  {
   "cell_type": "code",
   "execution_count": 26,
   "metadata": {},
   "outputs": [
    {
     "name": "stdout",
     "output_type": "stream",
     "text": [
      "Now you can cook on it\n",
      "47471\n",
      "1568141987.0\n",
      "2019-09-10 18:59:47\n",
      "1247\n",
      "0.93\n",
      "7\n"
     ]
    }
   ],
   "source": [
    "news0 = news[0]\n",
    "\n",
    "# pprint(vars(news0)) \n",
    "print(news0.title) # headline\n",
    "print(news0.score) # upvotes\n",
    "print(news0.created) # UNIX timestamps \n",
    "print(dt.datetime.fromtimestamp(news0.created)) # date and time\n",
    "print(news0.num_comments) # no. of comments\n",
    "print(news0.upvote_ratio) # upvote / total votes\n",
    "print(news0.total_awards_received) # no. of awards given"
   ]
  },
  {
   "cell_type": "code",
   "execution_count": 5,
   "metadata": {},
   "outputs": [],
   "source": [
    "title = [n.title for n in news]"
   ]
  },
  {
   "cell_type": "code",
   "execution_count": 29,
   "metadata": {},
   "outputs": [
    {
     "data": {
      "text/html": [
       "<div>\n",
       "<style scoped>\n",
       "    .dataframe tbody tr th:only-of-type {\n",
       "        vertical-align: middle;\n",
       "    }\n",
       "\n",
       "    .dataframe tbody tr th {\n",
       "        vertical-align: top;\n",
       "    }\n",
       "\n",
       "    .dataframe thead th {\n",
       "        text-align: right;\n",
       "    }\n",
       "</style>\n",
       "<table border=\"1\" class=\"dataframe\">\n",
       "  <thead>\n",
       "    <tr style=\"text-align: right;\">\n",
       "      <th></th>\n",
       "      <th>title</th>\n",
       "    </tr>\n",
       "  </thead>\n",
       "  <tbody>\n",
       "    <tr>\n",
       "      <th>0</th>\n",
       "      <td>Now you can cook on it</td>\n",
       "    </tr>\n",
       "    <tr>\n",
       "      <th>1</th>\n",
       "      <td>Just got my first iPhone for Christmas!</td>\n",
       "    </tr>\n",
       "    <tr>\n",
       "      <th>2</th>\n",
       "      <td>Apple CarPlay volume control UI</td>\n",
       "    </tr>\n",
       "    <tr>\n",
       "      <th>3</th>\n",
       "      <td>Wait I’ve seen this one before</td>\n",
       "    </tr>\n",
       "    <tr>\n",
       "      <th>4</th>\n",
       "      <td>How rotation lock should be</td>\n",
       "    </tr>\n",
       "  </tbody>\n",
       "</table>\n",
       "</div>"
      ],
      "text/plain": [
       "                                     title\n",
       "0                   Now you can cook on it\n",
       "1  Just got my first iPhone for Christmas!\n",
       "2          Apple CarPlay volume control UI\n",
       "3           Wait I’ve seen this one before\n",
       "4              How rotation lock should be"
      ]
     },
     "execution_count": 29,
     "metadata": {},
     "output_type": "execute_result"
    }
   ],
   "source": [
    "news = pd.DataFrame({\n",
    "    \"title\": title,\n",
    "})\n",
    "news.head()"
   ]
  },
  {
   "cell_type": "code",
   "execution_count": 30,
   "metadata": {},
   "outputs": [
    {
     "data": {
      "text/plain": [
       "(981, 1)"
      ]
     },
     "execution_count": 30,
     "metadata": {},
     "output_type": "execute_result"
    }
   ],
   "source": [
    "news.shape"
   ]
  },
  {
   "attachments": {},
   "cell_type": "markdown",
   "metadata": {},
   "source": [
    "## NLTK"
   ]
  },
  {
   "cell_type": "code",
   "execution_count": 37,
   "metadata": {},
   "outputs": [
    {
     "name": "stderr",
     "output_type": "stream",
     "text": [
      "[nltk_data] Downloading package vader_lexicon to /root/nltk_data...\n",
      "[nltk_data] Downloading package punkt to /root/nltk_data...\n",
      "[nltk_data]   Unzipping tokenizers/punkt.zip.\n",
      "[nltk_data] Downloading package stopwords to /root/nltk_data...\n",
      "[nltk_data]   Unzipping corpora/stopwords.zip.\n"
     ]
    },
    {
     "data": {
      "text/plain": [
       "True"
      ]
     },
     "execution_count": 37,
     "metadata": {},
     "output_type": "execute_result"
    }
   ],
   "source": [
    "nltk.download('vader_lexicon') # get lexicons data\n",
    "nltk.download('punkt') # for tokenizer\n",
    "nltk.download('stopwords')"
   ]
  },
  {
   "cell_type": "code",
   "execution_count": 39,
   "metadata": {},
   "outputs": [
    {
     "name": "stdout",
     "output_type": "stream",
     "text": [
      "{'neg': 0.0, 'neu': 0.328, 'pos': 0.672, 'compound': 0.6249}\n",
      "{'neg': 0.0, 'neu': 0.281, 'pos': 0.719, 'compound': 0.729}\n",
      "{'neg': 0.636, 'neu': 0.364, 'pos': 0.0, 'compound': -0.5423}\n"
     ]
    }
   ],
   "source": [
    "sid = SentimentIntensityAnalyzer()\n",
    "\n",
    "pos_text = \"Vader is awesome\"\n",
    "cap_pos_text = \"Vader is AWESOME!\" # captilization and ! increases the effect\n",
    "neg_text = \"Vader is bad\"\n",
    "\n",
    "print(sid.polarity_scores(pos_text))\n",
    "print(sid.polarity_scores(cap_pos_text))\n",
    "print(sid.polarity_scores(neg_text))"
   ]
  },
  {
   "cell_type": "code",
   "execution_count": 40,
   "metadata": {},
   "outputs": [
    {
     "name": "stdout",
     "output_type": "stream",
     "text": [
      "[{'compound': 0.0, 'neg': 0.0, 'neu': 1.0, 'pos': 0.0},\n",
      " {'compound': 0.0, 'neg': 0.0, 'neu': 1.0, 'pos': 0.0},\n",
      " {'compound': 0.0, 'neg': 0.0, 'neu': 1.0, 'pos': 0.0}]\n"
     ]
    }
   ],
   "source": [
    "res = [*news['title'].apply(sid.polarity_scores)]\n",
    "pprint(res[:3])"
   ]
  },
  {
   "cell_type": "code",
   "execution_count": 41,
   "metadata": {},
   "outputs": [
    {
     "data": {
      "text/html": [
       "<div>\n",
       "<style scoped>\n",
       "    .dataframe tbody tr th:only-of-type {\n",
       "        vertical-align: middle;\n",
       "    }\n",
       "\n",
       "    .dataframe tbody tr th {\n",
       "        vertical-align: top;\n",
       "    }\n",
       "\n",
       "    .dataframe thead th {\n",
       "        text-align: right;\n",
       "    }\n",
       "</style>\n",
       "<table border=\"1\" class=\"dataframe\">\n",
       "  <thead>\n",
       "    <tr style=\"text-align: right;\">\n",
       "      <th></th>\n",
       "      <th>title</th>\n",
       "      <th>neg</th>\n",
       "      <th>neu</th>\n",
       "      <th>pos</th>\n",
       "      <th>compound</th>\n",
       "    </tr>\n",
       "  </thead>\n",
       "  <tbody>\n",
       "    <tr>\n",
       "      <th>0</th>\n",
       "      <td>Now you can cook on it</td>\n",
       "      <td>0.0</td>\n",
       "      <td>1.0</td>\n",
       "      <td>0.0</td>\n",
       "      <td>0.0</td>\n",
       "    </tr>\n",
       "    <tr>\n",
       "      <th>1</th>\n",
       "      <td>Just got my first iPhone for Christmas!</td>\n",
       "      <td>0.0</td>\n",
       "      <td>1.0</td>\n",
       "      <td>0.0</td>\n",
       "      <td>0.0</td>\n",
       "    </tr>\n",
       "    <tr>\n",
       "      <th>2</th>\n",
       "      <td>Apple CarPlay volume control UI</td>\n",
       "      <td>0.0</td>\n",
       "      <td>1.0</td>\n",
       "      <td>0.0</td>\n",
       "      <td>0.0</td>\n",
       "    </tr>\n",
       "    <tr>\n",
       "      <th>3</th>\n",
       "      <td>Wait I’ve seen this one before</td>\n",
       "      <td>0.0</td>\n",
       "      <td>1.0</td>\n",
       "      <td>0.0</td>\n",
       "      <td>0.0</td>\n",
       "    </tr>\n",
       "    <tr>\n",
       "      <th>4</th>\n",
       "      <td>How rotation lock should be</td>\n",
       "      <td>0.0</td>\n",
       "      <td>1.0</td>\n",
       "      <td>0.0</td>\n",
       "      <td>0.0</td>\n",
       "    </tr>\n",
       "  </tbody>\n",
       "</table>\n",
       "</div>"
      ],
      "text/plain": [
       "                                     title  neg  neu  pos  compound\n",
       "0                   Now you can cook on it  0.0  1.0  0.0       0.0\n",
       "1  Just got my first iPhone for Christmas!  0.0  1.0  0.0       0.0\n",
       "2          Apple CarPlay volume control UI  0.0  1.0  0.0       0.0\n",
       "3           Wait I’ve seen this one before  0.0  1.0  0.0       0.0\n",
       "4              How rotation lock should be  0.0  1.0  0.0       0.0"
      ]
     },
     "execution_count": 41,
     "metadata": {},
     "output_type": "execute_result"
    }
   ],
   "source": [
    "sentiment_df = pd.DataFrame.from_records(res)\n",
    "news = pd.concat([news, sentiment_df], axis=1, join='inner')\n",
    "news.head()"
   ]
  },
  {
   "cell_type": "code",
   "execution_count": 42,
   "metadata": {},
   "outputs": [
    {
     "data": {
      "text/html": [
       "<div>\n",
       "<style scoped>\n",
       "    .dataframe tbody tr th:only-of-type {\n",
       "        vertical-align: middle;\n",
       "    }\n",
       "\n",
       "    .dataframe tbody tr th {\n",
       "        vertical-align: top;\n",
       "    }\n",
       "\n",
       "    .dataframe thead th {\n",
       "        text-align: right;\n",
       "    }\n",
       "</style>\n",
       "<table border=\"1\" class=\"dataframe\">\n",
       "  <thead>\n",
       "    <tr style=\"text-align: right;\">\n",
       "      <th></th>\n",
       "      <th>title</th>\n",
       "      <th>neg</th>\n",
       "      <th>neu</th>\n",
       "      <th>pos</th>\n",
       "      <th>compound</th>\n",
       "      <th>label</th>\n",
       "    </tr>\n",
       "  </thead>\n",
       "  <tbody>\n",
       "    <tr>\n",
       "      <th>0</th>\n",
       "      <td>Now you can cook on it</td>\n",
       "      <td>0.0</td>\n",
       "      <td>1.0</td>\n",
       "      <td>0.0</td>\n",
       "      <td>0.0</td>\n",
       "      <td>neu</td>\n",
       "    </tr>\n",
       "    <tr>\n",
       "      <th>1</th>\n",
       "      <td>Just got my first iPhone for Christmas!</td>\n",
       "      <td>0.0</td>\n",
       "      <td>1.0</td>\n",
       "      <td>0.0</td>\n",
       "      <td>0.0</td>\n",
       "      <td>neu</td>\n",
       "    </tr>\n",
       "    <tr>\n",
       "      <th>2</th>\n",
       "      <td>Apple CarPlay volume control UI</td>\n",
       "      <td>0.0</td>\n",
       "      <td>1.0</td>\n",
       "      <td>0.0</td>\n",
       "      <td>0.0</td>\n",
       "      <td>neu</td>\n",
       "    </tr>\n",
       "    <tr>\n",
       "      <th>3</th>\n",
       "      <td>Wait I’ve seen this one before</td>\n",
       "      <td>0.0</td>\n",
       "      <td>1.0</td>\n",
       "      <td>0.0</td>\n",
       "      <td>0.0</td>\n",
       "      <td>neu</td>\n",
       "    </tr>\n",
       "    <tr>\n",
       "      <th>4</th>\n",
       "      <td>How rotation lock should be</td>\n",
       "      <td>0.0</td>\n",
       "      <td>1.0</td>\n",
       "      <td>0.0</td>\n",
       "      <td>0.0</td>\n",
       "      <td>neu</td>\n",
       "    </tr>\n",
       "  </tbody>\n",
       "</table>\n",
       "</div>"
      ],
      "text/plain": [
       "                                     title  neg  neu  pos  compound label\n",
       "0                   Now you can cook on it  0.0  1.0  0.0       0.0   neu\n",
       "1  Just got my first iPhone for Christmas!  0.0  1.0  0.0       0.0   neu\n",
       "2          Apple CarPlay volume control UI  0.0  1.0  0.0       0.0   neu\n",
       "3           Wait I’ve seen this one before  0.0  1.0  0.0       0.0   neu\n",
       "4              How rotation lock should be  0.0  1.0  0.0       0.0   neu"
      ]
     },
     "execution_count": 42,
     "metadata": {},
     "output_type": "execute_result"
    }
   ],
   "source": [
    "THRESHOLD = 0.2\n",
    "\n",
    "conditions = [\n",
    "    (news['compound'] <= -THRESHOLD),\n",
    "    (news['compound'] > -THRESHOLD) & (news['compound'] < THRESHOLD),\n",
    "    (news['compound'] >= THRESHOLD),\n",
    "    ]\n",
    "\n",
    "values = [\"neg\", \"neu\", \"pos\"]\n",
    "news['label'] = np.select(conditions, values)\n",
    "\n",
    "news.head()"
   ]
  },
  {
   "cell_type": "code",
   "execution_count": 43,
   "metadata": {},
   "outputs": [
    {
     "name": "stdout",
     "output_type": "stream",
     "text": [
      "Now you can cook on it\n",
      "['Now', 'you', 'can', 'cook', 'on', 'it']\n",
      "\n",
      "Positive: []\n",
      "Neutral: ['Now', 'you', 'can', 'cook', 'on', 'it']\n",
      "Negative: []\n",
      "\n",
      "This sentence is 0.0% negative\n",
      "This sentence is 100.0% neutral\n",
      "This sentence is 0.0% positive\n",
      "The compound value : 0.0 <= -0.2\n",
      "\n",
      "This sentence is NEGATIVE\n"
     ]
    }
   ],
   "source": [
    "sentence0 = news.title.iloc[0]\n",
    "print(sentence0)\n",
    "words0 = news.title.iloc[0].split()\n",
    "print(words0)\n",
    "\n",
    "pos_list, neg_list, neu_list = [], [], []\n",
    "\n",
    "for word in words0:\n",
    "  if (sid.polarity_scores(word)['compound']) >= THRESHOLD:\n",
    "    pos_list.append(word)\n",
    "  elif (sid.polarity_scores(word)['compound']) <= -THRESHOLD:\n",
    "    neg_list.append(word)\n",
    "  else:\n",
    "    neu_list.append(word)                \n",
    "\n",
    "print('\\nPositive:',pos_list)        \n",
    "print('Neutral:',neu_list)    \n",
    "print('Negative:',neg_list) \n",
    "score = sid.polarity_scores(sentence0)\n",
    "\n",
    "print(f\"\\nThis sentence is {round(score['neg'] * 100, 2)}% negative\")\n",
    "print(f\"This sentence is {round(score['neu'] * 100, 2)}% neutral\")\n",
    "print(f\"This sentence is {round(score['pos'] * 100, 2)}% positive\")\n",
    "print(f\"The compound value : {score['compound']} <= {-THRESHOLD}\")\n",
    "print(f\"\\nThis sentence is NEGATIVE\")\n",
    "\n",
    "# source https://stackoverflow.com/a/51515048/11386747"
   ]
  },
  {
   "cell_type": "code",
   "execution_count": 46,
   "metadata": {},
   "outputs": [
    {
     "data": {
      "text/plain": [
       "<AxesSubplot: xlabel='label', ylabel='Count'>"
      ]
     },
     "execution_count": 46,
     "metadata": {},
     "output_type": "execute_result"
    },
    {
     "data": {
      "image/png": "[encoded data removed]",
      "text/plain": [
       "<Figure size 1000x800 with 1 Axes>"
      ]
     },
     "metadata": {},
     "output_type": "display_data"
    }
   ],
   "source": [
    "sns.histplot(news.label)"
   ]
  },
  {
   "cell_type": "code",
   "execution_count": 47,
   "metadata": {},
   "outputs": [
    {
     "name": "stdout",
     "output_type": "stream",
     "text": [
      "Positive news\n",
      "====================\n",
      "i made this stupid iPhone animation/render a few days ago i hope you like it\n",
      "People should know this, especially if your friends like to mess around!\n",
      "The way this border wallpaper fades in is extremely satisfying\n",
      "Celebrate! Today is one of 7 days each year where Google Calendar’s iOS app icon is correct! 🙄\n",
      "Good guy Safari. Apple are really serious about its privacy.\n",
      "\n",
      "Neutral news\n",
      "====================\n",
      "Wholesome ❤️\n",
      "Apple reportedly switched 2M units of production from iPhone 12 mini to Pro - 9to5Mac\n",
      "Spotify iOS 14 widgets make early appearance in latest beta\n",
      "Apple patent suggests that iPhone will have the same water-ejection system as Apple Watch\n",
      "After less than a month of sporadic use with my iPhone 7, the dongle is already tearing.\n",
      "\n",
      "Negative news\n",
      "====================\n",
      "Guys, you weren't even kidding! Thanks for the tip! (Pun absolutely intended)\n",
      "Apparently if you do this enough times, it will crash the phone. This was the last one it could handle.\n",
      "I took apart my broken iPhone 4 and framed it.\n",
      "Apple temporarily closes US retail stores in wake of widespread looting and protests\n",
      "This is ridiculous.\n"
     ]
    }
   ],
   "source": [
    "def news_title_output(df, label):\n",
    "  res = df[df['label'] == label].title.values\n",
    "  print(f'{\"=\" * 20}')\n",
    "  print(\"\\n\".join(title for title in res))\n",
    "\n",
    "# randomly sample\n",
    "news_sub = news.groupby('label').sample(n = 5, random_state = 7)\n",
    "\n",
    "print(\"Positive news\")\n",
    "news_title_output(news_sub, \"pos\")\n",
    "\n",
    "print(\"\\nNeutral news\")\n",
    "news_title_output(news_sub, \"neu\")\n",
    "\n",
    "print(\"\\nNegative news\")\n",
    "news_title_output(news_sub, \"neg\")"
   ]
  },
  {
   "cell_type": "code",
   "execution_count": null,
   "metadata": {},
   "outputs": [],
   "source": []
  }
 ],
 "metadata": {
  "kernelspec": {
   "display_name": "Python 3",
   "language": "python",
   "name": "python3"
  },
  "language_info": {
   "codemirror_mode": {
    "name": "ipython",
    "version": 3
   },
   "file_extension": ".py",
   "mimetype": "text/x-python",
   "name": "python",
   "nbconvert_exporter": "python",
   "pygments_lexer": "ipython3",
   "version": "3.8.10"
  },
  "orig_nbformat": 4,
  "vscode": {
   "interpreter": {
    "hash": "916dbcbb3f70747c44a77c7bcd40155683ae19c65e1c03b4aa3499c5328201f1"
   }
  }
 },
 "nbformat": 4,
 "nbformat_minor": 2
}
