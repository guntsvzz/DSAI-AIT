{
 "cells": [
  {
   "cell_type": "code",
   "execution_count": 1,
   "metadata": {},
   "outputs": [
    {
     "name": "stderr",
     "output_type": "stream",
     "text": [
      "/usr/local/lib/python3.8/dist-packages/tqdm/auto.py:22: TqdmWarning: IProgress not found. Please update jupyter and ipywidgets. See https://ipywidgets.readthedocs.io/en/stable/user_install.html\n",
      "  from .autonotebook import tqdm as notebook_tqdm\n"
     ]
    },
    {
     "name": "stdout",
     "output_type": "stream",
     "text": [
      "500\n"
     ]
    },
    {
     "data": {
      "text/html": [
       "<div>\n",
       "<style scoped>\n",
       "    .dataframe tbody tr th:only-of-type {\n",
       "        vertical-align: middle;\n",
       "    }\n",
       "\n",
       "    .dataframe tbody tr th {\n",
       "        vertical-align: top;\n",
       "    }\n",
       "\n",
       "    .dataframe thead th {\n",
       "        text-align: right;\n",
       "    }\n",
       "</style>\n",
       "<table border=\"1\" class=\"dataframe\">\n",
       "  <thead>\n",
       "    <tr style=\"text-align: right;\">\n",
       "      <th></th>\n",
       "      <th>Title</th>\n",
       "      <th>Rating</th>\n",
       "    </tr>\n",
       "  </thead>\n",
       "  <tbody>\n",
       "    <tr>\n",
       "      <th>0</th>\n",
       "      <td>It's official! 1 Bitcoin = $10,000 USD</td>\n",
       "      <td>3</td>\n",
       "    </tr>\n",
       "    <tr>\n",
       "      <th>1</th>\n",
       "      <td>The last 3 months in 47 seconds.</td>\n",
       "      <td>1</td>\n",
       "    </tr>\n",
       "    <tr>\n",
       "      <th>2</th>\n",
       "      <td>Tesla buys $1.5b in Bitcoin and is looking to ...</td>\n",
       "      <td>3</td>\n",
       "    </tr>\n",
       "    <tr>\n",
       "      <th>3</th>\n",
       "      <td>It's over 9000!!!</td>\n",
       "      <td>3</td>\n",
       "    </tr>\n",
       "    <tr>\n",
       "      <th>4</th>\n",
       "      <td>Everyone who's trading BTC right now</td>\n",
       "      <td>2</td>\n",
       "    </tr>\n",
       "  </tbody>\n",
       "</table>\n",
       "</div>"
      ],
      "text/plain": [
       "                                               Title  Rating\n",
       "0             It's official! 1 Bitcoin = $10,000 USD       3\n",
       "1                   The last 3 months in 47 seconds.       1\n",
       "2  Tesla buys $1.5b in Bitcoin and is looking to ...       3\n",
       "3                                  It's over 9000!!!       3\n",
       "4               Everyone who's trading BTC right now       2"
      ]
     },
     "execution_count": 1,
     "metadata": {},
     "output_type": "execute_result"
    }
   ],
   "source": [
    "# reddit crawler\n",
    "import pandas as pd\n",
    "import praw\n",
    "from LSTM_predict import *\n",
    "\n",
    "your_client_id='ElyKc6o3du1IMb5LP2HYjg'\n",
    "your_client_secret='YimfVn3bTLyVFu_XkJuLxrNkR3vHAQ'\n",
    "your_user_name='guntsv'\n",
    "\n",
    "reddit = praw.Reddit(client_id=your_client_id,\n",
    "                     client_secret=your_client_secret,\n",
    "                     user_agent=your_user_name,\n",
    "                     check_for_async=False)\n",
    "\n",
    "subreddit = reddit.subreddit('bitcoin')\n",
    "topics = [*subreddit.top(limit=500)] # top posts all time\n",
    "print(len(topics))\n",
    "\n",
    "title = [n.title for n in topics]\n",
    "df_topics = pd.DataFrame({\"title\": title})\n",
    "\n",
    "df_result = pd.DataFrame(prediction(df_topics['title']))\n",
    "df_result = df_result.rename(columns={0: 'Title', 1: 'Rating'})\n",
    "df_result.head()"
   ]
  },
  {
   "cell_type": "code",
   "execution_count": 2,
   "metadata": {},
   "outputs": [],
   "source": [
    "from collections import Counter\n",
    "from spacy.lang.en.stop_words import STOP_WORDS\n",
    "import spacy\n",
    "nlp = spacy.load('en_core_web_md')\n",
    "# ruler = nlp.add_pipe(\"entity_ruler\")\n",
    "# ruler.from_disk(skill_path)\n",
    "# nlp.pipe_names"
   ]
  },
  {
   "cell_type": "code",
   "execution_count": 3,
   "metadata": {},
   "outputs": [],
   "source": [
    "def preprocessing(sentence):\n",
    "\n",
    "    stopwords = list(STOP_WORDS)\n",
    "    doc = nlp(sentence)\n",
    "    cleaned_tokens = []\n",
    "\n",
    "    for token in doc:\n",
    "        if token.text not in stopwords and token.pos_ != 'PUNCT' and token.pos_ != 'SPACE' and \\\n",
    "                token.pos_ != 'SYM':\n",
    "            cleaned_tokens.append(token.lemma_.lower().strip())\n",
    "\n",
    "    return \" \".join(cleaned_tokens)"
   ]
  },
  {
   "cell_type": "code",
   "execution_count": 4,
   "metadata": {},
   "outputs": [
    {
     "data": {
      "text/plain": [
       "0                   it official 1 bitcoin = 10,000 usd\n",
       "1                                the 3 month 47 second\n",
       "2    tesla buy 1.5b bitcoin look accept crypto form...\n",
       "3                                              it 9000\n",
       "4                             everyone trade btc right\n",
       "Name: clean, dtype: object"
      ]
     },
     "execution_count": 4,
     "metadata": {},
     "output_type": "execute_result"
    }
   ],
   "source": [
    "df_result['clean'] = df_result['Title'].apply(preprocessing)\n",
    "df_result['clean'].head()"
   ]
  },
  {
   "cell_type": "code",
   "execution_count": 11,
   "metadata": {},
   "outputs": [],
   "source": [
    "negative = df_result['Rating'].isin([0,1])\n",
    "postive = df_result['Rating'].isin([3,4])\n",
    "#I considerly remove 2 as normal"
   ]
  },
  {
   "cell_type": "code",
   "execution_count": 16,
   "metadata": {},
   "outputs": [
    {
     "data": {
      "text/plain": [
       "((89, 3), (166, 3))"
      ]
     },
     "execution_count": 16,
     "metadata": {},
     "output_type": "execute_result"
    }
   ],
   "source": [
    "df_pos = df_result[postive]\n",
    "df_neg = df_result[negative]\n",
    "df_pos.shape,df_neg.shape"
   ]
  },
  {
   "cell_type": "code",
   "execution_count": 31,
   "metadata": {},
   "outputs": [],
   "source": [
    "def findvocab(corpus):\n",
    "    #data tokenized\n",
    "    corpus_tokenized = [sent.split(\" \") for sent in corpus]\n",
    "    #2. numericalize (vocab)\n",
    "    #2.1 get all the unique words\n",
    "    #we want to flatten unit (basically merge all list)\n",
    "    flatten = lambda l: [item for sublist in l for item in sublist]\n",
    "    vocabs = list(flatten(corpus_tokenized))\n",
    "    voc_size = len(vocabs)\n",
    "    print('Vocab Size :',voc_size)\n",
    "    word_freq = Counter(vocabs)\n",
    "    common_words_pos = word_freq.most_common(10)\n",
    "    return common_words_pos"
   ]
  },
  {
   "cell_type": "code",
   "execution_count": 32,
   "metadata": {},
   "outputs": [
    {
     "name": "stdout",
     "output_type": "stream",
     "text": [
      "Vocab Size : 893\n"
     ]
    },
    {
     "data": {
      "text/plain": [
       "[('bitcoin', 50),\n",
       " ('i', 28),\n",
       " ('today', 13),\n",
       " ('btc', 11),\n",
       " ('buy', 9),\n",
       " ('year', 9),\n",
       " ('the', 9),\n",
       " ('good', 8),\n",
       " ('time', 8),\n",
       " ('new', 7)]"
      ]
     },
     "execution_count": 32,
     "metadata": {},
     "output_type": "execute_result"
    }
   ],
   "source": [
    "common_words_pos = findvocab(df_pos['clean'])\n",
    "common_words_pos"
   ]
  },
  {
   "cell_type": "code",
   "execution_count": 33,
   "metadata": {},
   "outputs": [
    {
     "name": "stdout",
     "output_type": "stream",
     "text": [
      "Vocab Size : 1870\n"
     ]
    },
    {
     "data": {
      "text/plain": [
       "[('bitcoin', 106),\n",
       " ('i', 43),\n",
       " ('the', 21),\n",
       " ('buy', 21),\n",
       " ('like', 19),\n",
       " ('money', 16),\n",
       " ('year', 13),\n",
       " ('time', 12),\n",
       " ('go', 11),\n",
       " ('btc', 10)]"
      ]
     },
     "execution_count": 33,
     "metadata": {},
     "output_type": "execute_result"
    }
   ],
   "source": [
    "common_words_neg = findvocab(df_neg['clean'])\n",
    "common_words_neg"
   ]
  },
  {
   "cell_type": "code",
   "execution_count": null,
   "metadata": {},
   "outputs": [],
   "source": []
  }
 ],
 "metadata": {
  "kernelspec": {
   "display_name": "Python 3",
   "language": "python",
   "name": "python3"
  },
  "language_info": {
   "codemirror_mode": {
    "name": "ipython",
    "version": 3
   },
   "file_extension": ".py",
   "mimetype": "text/x-python",
   "name": "python",
   "nbconvert_exporter": "python",
   "pygments_lexer": "ipython3",
   "version": "3.10.4"
  },
  "orig_nbformat": 4,
  "vscode": {
   "interpreter": {
    "hash": "c81d839d3c4227cd770621df97fe8191838af02e7eef185a922d8250cb33d344"
   }
  }
 },
 "nbformat": 4,
 "nbformat_minor": 2
}
