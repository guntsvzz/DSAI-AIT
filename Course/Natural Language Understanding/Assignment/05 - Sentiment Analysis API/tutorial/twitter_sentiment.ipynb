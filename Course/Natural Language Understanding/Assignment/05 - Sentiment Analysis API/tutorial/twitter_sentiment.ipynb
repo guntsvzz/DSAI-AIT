{
 "cells": [
  {
   "cell_type": "code",
   "execution_count": 3,
   "metadata": {},
   "outputs": [
    {
     "name": "stdout",
     "output_type": "stream",
     "text": [
      "1626019574100676608 2023-02-16 07:44:11 +0700 <theNNoHH> When people talk about how they love when ex military go rouge, they mean like Robin Hood, not like Darth Vader.\n",
      "1626019260790370305 2023-02-16 07:42:56 +0700 <shalsabils> Using voice changing software, I read your tweets in Darth Vader's voice... If that doesn't work it's on to Tinker Bell's.\n",
      "1626018753635880960 2023-02-16 07:40:55 +0700 <quazzer17> @joncoopertweets Darth Vader.\n",
      "1626017658637365251 2023-02-16 07:36:34 +0700 <gabyortega10> @Urieldesimoni Tuve algunas de esas y las que eran más chicas tipo café de Darth Vader y Stormtroopers❤️\n",
      "1626017103500267520 2023-02-16 07:34:22 +0700 <congleton_c> @ByTheIrwell @MadScientistFF He was already Darth vader by the time she died\n",
      "1626016623629897730 2023-02-16 07:32:27 +0700 <ByTheIrwell> @MadScientistFF Queen Amidala. But that would destroy the whole Stars Wars saga.  It would just be a rom com between Anakin and Amidala bringing up Luke and Leia. No Darth Vader, Death Star, Evil Empire or Eworks.\n",
      "1626016015074091008 2023-02-16 07:30:02 +0700 <Darthrelentles1> @KYodeliz Mustafa where Darth Vader castle is :)\n",
      "1626014688285794305 2023-02-16 07:24:46 +0700 <nnickneIson> the way he closes her eyes😭😭😭😭😭😭😭😭😭😭😭😭😭😭😭😭😭😭😭😭😭😭😭😭😭😭😭😭  and then he gets the darth vader eyes and he will never be the same again😁\n",
      "1626014537584635905 2023-02-16 07:24:10 +0700 <MotonSPO> Standing in Trader Joes produce section, and I swear I hear @DarthVader and an @ArmySpies discussing top-secret plans about @AtalaPrism and fruit.  Do I risk DOXing them or play it cool and pretend I'm just picking out avocados? #SpyGames #TraderJoesAdventures\n",
      "1626013505420664832 2023-02-16 07:20:04 +0700 <Lilith_1965> komo q padawan padrino, si te gusta darth vader eso no va a salir bn🕴️\n",
      "1626011296452804610 2023-02-16 07:11:17 +0700 <JerichoWinston> @AhComfy I can draw Darth Vader's face mask accurately without looking at a picture\n",
      "1626010860513554432 2023-02-16 07:09:33 +0700 <DrComicsBot> “It’s clobberin’ time!” Gutters  in  Star Wars: Darth Vader and the Ghost Prison (2012)\n",
      "1626010405783932928 2023-02-16 07:07:45 +0700 <akirosakata> @contracultural darth vader y palpatine\n",
      "1626009846347624456 2023-02-16 07:05:31 +0700 <SillasMeir> @AttMatts SIM MANO DUUAUDHWUS  O DARTH VADER USANDO A FORÇA PRA CURAR ALIADO FOI MTO BOM\n",
      "1626009690491461634 2023-02-16 07:04:54 +0700 <AttMatts> @SillasMeir Obi-wan e Darth Vader dando grau e um mortal na moto  Devíamos ter gravado\n",
      "1626009534362787846 2023-02-16 07:04:17 +0700 <SillasMeir> @AttMatts Obi-Wan e \"Darth Vader\" como nos velhos tempos\n",
      "1626009438946467840 2023-02-16 07:03:54 +0700 <TVOnTheSpot> @DarthHamill @Scarlet49560258 @1Flukeskywalker @darth_swlove03 @MaraRanger @SmMarwood @_Cristian_Vlad_ @Sithmasta79 @maka_gh @GabrielleOrlita @NotDrSheldonC @Gillster37 @MariamSkywalker @wildwaterstu @MarkHamill @Matt_5972 @SarantosMelogia @XDarthThunderX @TheFrankOzJam @kirkacevedo @ronniehowlett3 @LydiaCornell @WookOfficial @TheWookieeRoars @JenniLynnHamill I wish I had Darth Vader’s Tie Fighter  https://t.co/AUVP9LyeGL\n",
      "1626009209207758855 2023-02-16 07:02:59 +0700 <ECochnar> @rycentennial @mikemovies The Darth Vader part?\n",
      "1626008227253985280 2023-02-16 06:59:05 +0700 <IsaacLageMain> @rickriordan would hermes be darth vader?  both have a son named luke. hermes has winged boots which he uses to .... SKY WALK.  so they have in common. AN AKIN &amp; SKYWALKER\n",
      "----------------------------------------------------------------------------------------------------\n",
      "Using voice changing software, I read your tweets in Darth Vader's voice... If that doesn't work it's on to Tinker Bell's.\n",
      "@joncoopertweets Darth Vader.\n",
      "The Executor-class Star Dreadnought Executor was the personal flagship of the Dark Lord of the Sith Darth Vader and one of the largest and most powerful Imperial vessels ever constructed.\n",
      "@Urieldesimoni Tuve algunas de esas y las que eran más chicas tipo café de Darth Vader y Stormtroopers❤️\n",
      "@ByTheIrwell @MadScientistFF He was already Darth vader by the time she died\n",
      "@MadScientistFF Queen Amidala. But that would destroy the whole Stars Wars saga.  It would just be a rom com between Anakin and Amidala bringing up Luke and Leia. No Darth Vader, Death Star, Evil Empire or Eworks.\n",
      "@KYodeliz Mustafa where Darth Vader castle is :)\n",
      "the way he closes her eyes😭😭😭😭😭😭😭😭😭😭😭😭😭😭😭😭😭😭😭😭😭😭😭😭😭😭😭😭  and then he gets the darth vader eyes and he will never be the same again😁\n",
      "Standing in Trader Joes produce section, and I swear I hear @DarthVader and an @ArmySpies discussing top-secret plans about @AtalaPrism and fruit.  Do I risk DOXing them or play it cool and pretend I'm just picking out avocados? #SpyGames #TraderJoesAdventures\n",
      "komo q padawan padrino, si te gusta darth vader eso no va a salir bn🕴️\n",
      "@AhComfy I can draw Darth Vader's face mask accurately without looking at a picture\n",
      "“It’s clobberin’ time!” Gutters  in  Star Wars: Darth Vader and the Ghost Prison (2012)\n",
      "@contracultural darth vader y palpatine\n",
      "@AttMatts SIM MANO DUUAUDHWUS  O DARTH VADER USANDO A FORÇA PRA CURAR ALIADO FOI MTO BOM\n",
      "@SillasMeir Obi-wan e Darth Vader dando grau e um mortal na moto  Devíamos ter gravado\n",
      "@AttMatts Obi-Wan e \"Darth Vader\" como nos velhos tempos\n",
      "@DarthHamill @Scarlet49560258 @1Flukeskywalker @darth_swlove03 @MaraRanger @SmMarwood @_Cristian_Vlad_ @Sithmasta79 @maka_gh @GabrielleOrlita @NotDrSheldonC @Gillster37 @MariamSkywalker @wildwaterstu @MarkHamill @Matt_5972 @SarantosMelogia @XDarthThunderX @TheFrankOzJam @kirkacevedo @ronniehowlett3 @LydiaCornell @WookOfficial @TheWookieeRoars @JenniLynnHamill I wish I had Darth Vader’s Tie Fighter  https://t.co/AUVP9LyeGL\n",
      "@rycentennial @mikemovies The Darth Vader part?\n",
      "@rickriordan would hermes be darth vader?  both have a son named luke. hermes has winged boots which he uses to .... SKY WALK.  so they have in common. AN AKIN &amp; SKYWALKER\n",
      "@MadScientistFF Darth Vader/Anakin Skywalker. What if he didn’t die? White armor and helmet with a blue lightsaber helping to stop Eps. 7-9 from happening.\n",
      "Take a look! Star Wars #31 Review #MARVEL #marvelcomics #comics #comicbooks #news #mcu #art #info #NCBD #comicbooknews #previews #reviews #starwars #darthvader #vader #skywalker #starwarscomics #amazon #lukeskywalker  https://t.co/OcV9saB9Rz\n",
      "When people talk about how they love when ex military go rouge, they mean like Robin Hood, not like Darth Vader.\n",
      "Using voice changing software, I read your tweets in Darth Vader's voice... If that doesn't work it's on to Tinker Bell's.\n",
      "@joncoopertweets Darth Vader.\n",
      "@Urieldesimoni Tuve algunas de esas y las que eran más chicas tipo café de Darth Vader y Stormtroopers❤️\n",
      "@ByTheIrwell @MadScientistFF He was already Darth vader by the time she died\n",
      "@MadScientistFF Queen Amidala. But that would destroy the whole Stars Wars saga.  It would just be a rom com between Anakin and Amidala bringing up Luke and Leia. No Darth Vader, Death Star, Evil Empire or Eworks.\n",
      "@KYodeliz Mustafa where Darth Vader castle is :)\n",
      "the way he closes her eyes😭😭😭😭😭😭😭😭😭😭😭😭😭😭😭😭😭😭😭😭😭😭😭😭😭😭😭😭  and then he gets the darth vader eyes and he will never be the same again😁\n",
      "Standing in Trader Joes produce section, and I swear I hear @DarthVader and an @ArmySpies discussing top-secret plans about @AtalaPrism and fruit.  Do I risk DOXing them or play it cool and pretend I'm just picking out avocados? #SpyGames #TraderJoesAdventures\n",
      "komo q padawan padrino, si te gusta darth vader eso no va a salir bn🕴️\n",
      "@AhComfy I can draw Darth Vader's face mask accurately without looking at a picture\n",
      "“It’s clobberin’ time!” Gutters  in  Star Wars: Darth Vader and the Ghost Prison (2012)\n",
      "@contracultural darth vader y palpatine\n",
      "@AttMatts SIM MANO DUUAUDHWUS  O DARTH VADER USANDO A FORÇA PRA CURAR ALIADO FOI MTO BOM\n",
      "@SillasMeir Obi-wan e Darth Vader dando grau e um mortal na moto  Devíamos ter gravado\n",
      "@AttMatts Obi-Wan e \"Darth Vader\" como nos velhos tempos\n",
      "@DarthHamill @Scarlet49560258 @1Flukeskywalker @darth_swlove03 @MaraRanger @SmMarwood @_Cristian_Vlad_ @Sithmasta79 @maka_gh @GabrielleOrlita @NotDrSheldonC @Gillster37 @MariamSkywalker @wildwaterstu @MarkHamill @Matt_5972 @SarantosMelogia @XDarthThunderX @TheFrankOzJam @kirkacevedo @ronniehowlett3 @LydiaCornell @WookOfficial @TheWookieeRoars @JenniLynnHamill I wish I had Darth Vader’s Tie Fighter  https://t.co/AUVP9LyeGL\n",
      "@rycentennial @mikemovies The Darth Vader part?\n",
      "When people talk about how they love when ex military go rouge, they mean like Robin Hood, not like Darth Vader.\n",
      "Using voice changing software, I read your tweets in Darth Vader's voice... If that doesn't work it's on to Tinker Bell's.\n",
      "@joncoopertweets Darth Vader.\n",
      "@Urieldesimoni Tuve algunas de esas y las que eran más chicas tipo café de Darth Vader y Stormtroopers❤️\n",
      "@ByTheIrwell @MadScientistFF He was already Darth vader by the time she died\n",
      "@MadScientistFF Queen Amidala. But that would destroy the whole Stars Wars saga.  It would just be a rom com between Anakin and Amidala bringing up Luke and Leia. No Darth Vader, Death Star, Evil Empire or Eworks.\n",
      "@KYodeliz Mustafa where Darth Vader castle is :)\n",
      "the way he closes her eyes😭😭😭😭😭😭😭😭😭😭😭😭😭😭😭😭😭😭😭😭😭😭😭😭😭😭😭😭  and then he gets the darth vader eyes and he will never be the same again😁\n",
      "Standing in Trader Joes produce section, and I swear I hear @DarthVader and an @ArmySpies discussing top-secret plans about @AtalaPrism and fruit.  Do I risk DOXing them or play it cool and pretend I'm just picking out avocados? #SpyGames #TraderJoesAdventures\n",
      "komo q padawan padrino, si te gusta darth vader eso no va a salir bn🕴️\n",
      "@AhComfy I can draw Darth Vader's face mask accurately without looking at a picture\n",
      "“It’s clobberin’ time!” Gutters  in  Star Wars: Darth Vader and the Ghost Prison (2012)\n",
      "@contracultural darth vader y palpatine\n",
      "@AttMatts SIM MANO DUUAUDHWUS  O DARTH VADER USANDO A FORÇA PRA CURAR ALIADO FOI MTO BOM\n",
      "@SillasMeir Obi-wan e Darth Vader dando grau e um mortal na moto  Devíamos ter gravado\n",
      "@AttMatts Obi-Wan e \"Darth Vader\" como nos velhos tempos\n",
      "@DarthHamill @Scarlet49560258 @1Flukeskywalker @darth_swlove03 @MaraRanger @SmMarwood @_Cristian_Vlad_ @Sithmasta79 @maka_gh @GabrielleOrlita @NotDrSheldonC @Gillster37 @MariamSkywalker @wildwaterstu @MarkHamill @Matt_5972 @SarantosMelogia @XDarthThunderX @TheFrankOzJam @kirkacevedo @ronniehowlett3 @LydiaCornell @WookOfficial @TheWookieeRoars @JenniLynnHamill I wish I had Darth Vader’s Tie Fighter  https://t.co/AUVP9LyeGL\n",
      "@rycentennial @mikemovies The Darth Vader part?\n",
      "@rickriordan would hermes be darth vader?  both have a son named luke. hermes has winged boots which he uses to .... SKY WALK.  so they have in common. AN AKIN &amp; SKYWALKER\n"
     ]
    }
   ],
   "source": [
    "import twint\n",
    "import nest_asyncio \n",
    "nest_asyncio.apply() \n",
    "# pip3 install twint\n",
    "# pip3 install --user --upgrade git+https://github.com/twintproject/twint.git@origin/master#egg=twint\n",
    "# Configure Twint to search for tweets containing a certain keyword\n",
    "\n",
    "def scraper(keyword,limit):\n",
    "    c = twint.Config()\n",
    "    c.Search = keyword\n",
    "    c.Limit = limit\n",
    "    c.Store_object = True\n",
    "\n",
    "    twint.run.Search(c)\n",
    "    output = twint.output.tweets_list\n",
    "\n",
    "    return output\n",
    "\n",
    "if __name__ ==\"__main__\":\n",
    "    tweets = scraper(\"Darth Vader\",2)\n",
    "    print('--'*50)\n",
    "    for tweet in tweets:\n",
    "        print(tweet.tweet)"
   ]
  },
  {
   "attachments": {},
   "cell_type": "markdown",
   "metadata": {},
   "source": [
    "Reference \n",
    "- https://vtiya.medium.com/%E0%B8%94%E0%B8%B6%E0%B8%87%E0%B8%82%E0%B9%89%E0%B8%AD%E0%B8%A1%E0%B8%B9%E0%B8%A5%E0%B8%88%E0%B8%B2%E0%B8%81-twitter-%E0%B9%82%E0%B8%94%E0%B8%A2%E0%B9%83%E0%B8%8A%E0%B9%89-twint-8a71808fd942\n",
    "- https://medium.com/analytics-vidhya/how-to-scrape-tweets-from-twitter-with-python-twint-83b4c70c5536"
   ]
  },
  {
   "cell_type": "markdown",
   "metadata": {},
   "source": []
  }
 ],
 "metadata": {
  "kernelspec": {
   "display_name": "Python 3",
   "language": "python",
   "name": "python3"
  },
  "language_info": {
   "codemirror_mode": {
    "name": "ipython",
    "version": 3
   },
   "file_extension": ".py",
   "mimetype": "text/x-python",
   "name": "python",
   "nbconvert_exporter": "python",
   "pygments_lexer": "ipython3",
   "version": "3.10.4"
  },
  "orig_nbformat": 4,
  "vscode": {
   "interpreter": {
    "hash": "c81d839d3c4227cd770621df97fe8191838af02e7eef185a922d8250cb33d344"
   }
  }
 },
 "nbformat": 4,
 "nbformat_minor": 2
}
