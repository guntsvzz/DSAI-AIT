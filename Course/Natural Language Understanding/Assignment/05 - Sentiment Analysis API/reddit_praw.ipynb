{
 "cells": [
  {
   "cell_type": "code",
   "execution_count": 1,
   "metadata": {},
   "outputs": [
    {
     "name": "stderr",
     "output_type": "stream",
     "text": [
      "/usr/local/lib/python3.8/dist-packages/tqdm/auto.py:22: TqdmWarning: IProgress not found. Please update jupyter and ipywidgets. See https://ipywidgets.readthedocs.io/en/stable/user_install.html\n",
      "  from .autonotebook import tqdm as notebook_tqdm\n"
     ]
    },
    {
     "data": {
      "text/plain": [
       "<All keys matched successfully>"
      ]
     },
     "execution_count": 1,
     "metadata": {},
     "output_type": "execute_result"
    }
   ],
   "source": [
    "from LSTM_model import *\n",
    "import torch\n",
    "import pytreebank\n",
    "import spacy\n",
    "from torchtext.data.utils import get_tokenizer\n",
    "from torchtext.vocab import build_vocab_from_iterator\n",
    "\n",
    "#Load GPU\n",
    "device = torch.device('cuda:2' if torch.cuda.is_available() else 'cpu')\n",
    "\n",
    "#Load Data\n",
    "train = pytreebank.import_tree_corpus(\"./sentiment/train.txt\")\n",
    "tokenizer = get_tokenizer('spacy', language='en_core_web_sm')\n",
    "\n",
    "def seperate(dataset): #Use All nodes\n",
    "    seperation = []\n",
    "    for data in dataset:\n",
    "        for label, text in data.to_labeled_lines():\n",
    "            seperation.append((label,text))\n",
    "    return seperation\n",
    "\n",
    "train_sep = seperate(train)\n",
    "text_pipeline = lambda x: vocab(tokenizer(x))\n",
    "\n",
    "def yield_tokens(data_iter): #data_iter, e.g., train\n",
    "    for _, text in data_iter: \n",
    "        yield tokenizer(text)\n",
    "\n",
    "vocab = build_vocab_from_iterator(yield_tokens(train_sep), specials=['<unk>','<pad>','<bos>','<eos>'], special_first = True)\n",
    "vocab.set_default_index(vocab[\"<unk>\"])\n",
    "pad_ix = vocab['<pad>']\n",
    "\n",
    "#hyper-parameter\n",
    "input_dim  = len(vocab)\n",
    "hid_dim    = 256\n",
    "emb_dim    = 300         \n",
    "output_dim = 5\n",
    "num_layers = 2\n",
    "bidirectional = True\n",
    "dropout = 0.5\n",
    "\n",
    "model = LSTM(input_dim, emb_dim, hid_dim, output_dim, num_layers, bidirectional, dropout, pad_ix).to(device)\n",
    "save_path = f'models/LSTM_TreeBank.pt'\n",
    "model.load_state_dict(torch.load(save_path))"
   ]
  },
  {
   "cell_type": "code",
   "execution_count": 2,
   "metadata": {},
   "outputs": [],
   "source": [
    "# reddit crawler\n",
    "import praw\n",
    "your_client_id='ElyKc6o3du1IMb5LP2HYjg'\n",
    "your_client_secret='YimfVn3bTLyVFu_XkJuLxrNkR3vHAQ'\n",
    "your_user_name='guntsv'\n",
    "\n",
    "reddit = praw.Reddit(client_id=your_client_id,\n",
    "                     client_secret=your_client_secret,\n",
    "                     user_agent=your_user_name,\n",
    "                     check_for_async=False)"
   ]
  },
  {
   "cell_type": "code",
   "execution_count": 3,
   "metadata": {},
   "outputs": [
    {
     "name": "stdout",
     "output_type": "stream",
     "text": [
      "992\n"
     ]
    }
   ],
   "source": [
    "subreddit = reddit.subreddit('bitcoin')\n",
    "topics = [*subreddit.top(limit=None)] # top posts all time\n",
    "print(len(topics))"
   ]
  },
  {
   "cell_type": "code",
   "execution_count": 4,
   "metadata": {},
   "outputs": [
    {
     "name": "stdout",
     "output_type": "stream",
     "text": [
      "It's official! 1 Bitcoin = $10,000 USD\n"
     ]
    }
   ],
   "source": [
    "for topic in topics:\n",
    "    print(topic.title) # headline\n",
    "    break"
   ]
  },
  {
   "cell_type": "code",
   "execution_count": 5,
   "metadata": {},
   "outputs": [
    {
     "data": {
      "text/html": [
       "<div>\n",
       "<style scoped>\n",
       "    .dataframe tbody tr th:only-of-type {\n",
       "        vertical-align: middle;\n",
       "    }\n",
       "\n",
       "    .dataframe tbody tr th {\n",
       "        vertical-align: top;\n",
       "    }\n",
       "\n",
       "    .dataframe thead th {\n",
       "        text-align: right;\n",
       "    }\n",
       "</style>\n",
       "<table border=\"1\" class=\"dataframe\">\n",
       "  <thead>\n",
       "    <tr style=\"text-align: right;\">\n",
       "      <th></th>\n",
       "      <th>title</th>\n",
       "    </tr>\n",
       "  </thead>\n",
       "  <tbody>\n",
       "    <tr>\n",
       "      <th>0</th>\n",
       "      <td>It's official! 1 Bitcoin = $10,000 USD</td>\n",
       "    </tr>\n",
       "    <tr>\n",
       "      <th>1</th>\n",
       "      <td>The last 3 months in 47 seconds.</td>\n",
       "    </tr>\n",
       "    <tr>\n",
       "      <th>2</th>\n",
       "      <td>Tesla buys $1.5b in Bitcoin and is looking to ...</td>\n",
       "    </tr>\n",
       "    <tr>\n",
       "      <th>3</th>\n",
       "      <td>It's over 9000!!!</td>\n",
       "    </tr>\n",
       "    <tr>\n",
       "      <th>4</th>\n",
       "      <td>Everyone who's trading BTC right now</td>\n",
       "    </tr>\n",
       "  </tbody>\n",
       "</table>\n",
       "</div>"
      ],
      "text/plain": [
       "                                               title\n",
       "0             It's official! 1 Bitcoin = $10,000 USD\n",
       "1                   The last 3 months in 47 seconds.\n",
       "2  Tesla buys $1.5b in Bitcoin and is looking to ...\n",
       "3                                  It's over 9000!!!\n",
       "4               Everyone who's trading BTC right now"
      ]
     },
     "execution_count": 5,
     "metadata": {},
     "output_type": "execute_result"
    }
   ],
   "source": [
    "import pandas as pd\n",
    "\n",
    "title = [n.title for n in topics]\n",
    "df_topics = pd.DataFrame({\"title\": title})\n",
    "df_topics.head()"
   ]
  },
  {
   "cell_type": "code",
   "execution_count": 6,
   "metadata": {},
   "outputs": [
    {
     "data": {
      "text/plain": [
       "(992, 1)"
      ]
     },
     "execution_count": 6,
     "metadata": {},
     "output_type": "execute_result"
    }
   ],
   "source": [
    "df_topics.shape"
   ]
  },
  {
   "cell_type": "code",
   "execution_count": 15,
   "metadata": {},
   "outputs": [],
   "source": [
    "def prediction(test_str_list):\n",
    "    result = list()\n",
    "    for test_str in test_str_list:\n",
    "        text = torch.tensor(text_pipeline(test_str)).to(device).reshape(1, -1)\n",
    "        # text_list = [x.item() for x in text]\n",
    "        text_length = torch.tensor([text.size(1)]).to(dtype=torch.int64)\n",
    "        output = model(text, text_length).squeeze(1)\n",
    "        predicted = torch.max(output.data, 1)[1].detach().cpu().numpy()[0]\n",
    "        result.append((test_str, predicted))\n",
    "    return result"
   ]
  },
  {
   "cell_type": "code",
   "execution_count": 23,
   "metadata": {},
   "outputs": [
    {
     "data": {
      "text/html": [
       "<div>\n",
       "<style scoped>\n",
       "    .dataframe tbody tr th:only-of-type {\n",
       "        vertical-align: middle;\n",
       "    }\n",
       "\n",
       "    .dataframe tbody tr th {\n",
       "        vertical-align: top;\n",
       "    }\n",
       "\n",
       "    .dataframe thead th {\n",
       "        text-align: right;\n",
       "    }\n",
       "</style>\n",
       "<table border=\"1\" class=\"dataframe\">\n",
       "  <thead>\n",
       "    <tr style=\"text-align: right;\">\n",
       "      <th></th>\n",
       "      <th>Title</th>\n",
       "      <th>Rating</th>\n",
       "    </tr>\n",
       "  </thead>\n",
       "  <tbody>\n",
       "    <tr>\n",
       "      <th>0</th>\n",
       "      <td>It's official! 1 Bitcoin = $10,000 USD</td>\n",
       "      <td>2</td>\n",
       "    </tr>\n",
       "    <tr>\n",
       "      <th>1</th>\n",
       "      <td>The last 3 months in 47 seconds.</td>\n",
       "      <td>1</td>\n",
       "    </tr>\n",
       "    <tr>\n",
       "      <th>2</th>\n",
       "      <td>Tesla buys $1.5b in Bitcoin and is looking to ...</td>\n",
       "      <td>3</td>\n",
       "    </tr>\n",
       "    <tr>\n",
       "      <th>3</th>\n",
       "      <td>It's over 9000!!!</td>\n",
       "      <td>3</td>\n",
       "    </tr>\n",
       "    <tr>\n",
       "      <th>4</th>\n",
       "      <td>Everyone who's trading BTC right now</td>\n",
       "      <td>2</td>\n",
       "    </tr>\n",
       "  </tbody>\n",
       "</table>\n",
       "</div>"
      ],
      "text/plain": [
       "                                               Title  Rating\n",
       "0             It's official! 1 Bitcoin = $10,000 USD       2\n",
       "1                   The last 3 months in 47 seconds.       1\n",
       "2  Tesla buys $1.5b in Bitcoin and is looking to ...       3\n",
       "3                                  It's over 9000!!!       3\n",
       "4               Everyone who's trading BTC right now       2"
      ]
     },
     "execution_count": 23,
     "metadata": {},
     "output_type": "execute_result"
    }
   ],
   "source": [
    "result = pd.DataFrame(prediction(df_topics['title']))\n",
    "result = result.rename(columns={0: 'Title', 1: 'Rating'})\n",
    "result.head()"
   ]
  },
  {
   "cell_type": "code",
   "execution_count": 26,
   "metadata": {},
   "outputs": [
    {
     "data": {
      "text/plain": [
       "2    488\n",
       "1    313\n",
       "3    154\n",
       "4     26\n",
       "0     11\n",
       "Name: Rating, dtype: int64"
      ]
     },
     "execution_count": 26,
     "metadata": {},
     "output_type": "execute_result"
    }
   ],
   "source": [
    "result['Rating'].value_counts()"
   ]
  },
  {
   "cell_type": "code",
   "execution_count": 9,
   "metadata": {},
   "outputs": [],
   "source": [
    "#Reference\n",
    "# https://www.learndatasci.com/tutorials/sentiment-analysis-reddit-headlines-pythons-nltk/\n",
    "# https://medium.com/bitgrit-data-science-publication/sentiment-analysis-on-reddit-tech-news-with-python-cbaddb8e9bb6"
   ]
  }
 ],
 "metadata": {
  "kernelspec": {
   "display_name": "Python 3",
   "language": "python",
   "name": "python3"
  },
  "language_info": {
   "codemirror_mode": {
    "name": "ipython",
    "version": 3
   },
   "file_extension": ".py",
   "mimetype": "text/x-python",
   "name": "python",
   "nbconvert_exporter": "python",
   "pygments_lexer": "ipython3",
   "version": "3.10.4"
  },
  "orig_nbformat": 4,
  "vscode": {
   "interpreter": {
    "hash": "c81d839d3c4227cd770621df97fe8191838af02e7eef185a922d8250cb33d344"
   }
  }
 },
 "nbformat": 4,
 "nbformat_minor": 2
}
