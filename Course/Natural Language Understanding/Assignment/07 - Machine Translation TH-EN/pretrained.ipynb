{
 "cells": [
  {
   "cell_type": "code",
   "execution_count": 4,
   "metadata": {},
   "outputs": [
    {
     "name": "stderr",
     "output_type": "stream",
     "text": [
      "2023-02-24 23:02:25 | INFO | fairseq.file_utils | loading archive file ./SCB_1M+TBASE_th-en_spm-spm_32000-joined_v1.0/models/\n"
     ]
    },
    {
     "ename": "FileNotFoundError",
     "evalue": "[Errno 2] No such file or directory: 'c:\\\\Users\\\\Guntsv\\\\Documents\\\\GitHub\\\\DSAI-AIT-2022\\\\Course\\\\Natural Language Understanding\\\\Assignment\\\\07 - Machine Translation TH-EN\\\\SCB_1M+TBASE_th-en_spm-spm_32000-joined_v1.0\\\\models\\\\SCB_1M+TBASE_th-en_spm-spm_32000-joined_v1.0\\\\vocab\\\\dict.th.txt'",
     "output_type": "error",
     "traceback": [
      "\u001b[1;31m---------------------------------------------------------------------------\u001b[0m",
      "\u001b[1;31mFileNotFoundError\u001b[0m                         Traceback (most recent call last)",
      "\u001b[1;32mc:\\Users\\Guntsv\\Documents\\GitHub\\DSAI-AIT-2022\\Course\\Natural Language Understanding\\Assignment\\07 - Machine Translation TH-EN\\pretrained.ipynb Cell 1\u001b[0m in \u001b[0;36m<cell line: 7>\u001b[1;34m()\u001b[0m\n\u001b[0;32m      <a href='vscode-notebook-cell:/c%3A/Users/Guntsv/Documents/GitHub/DSAI-AIT-2022/Course/Natural%20Language%20Understanding/Assignment/07%20-%20Machine%20Translation%20TH-EN/pretrained.ipynb#W0sZmlsZQ%3D%3D?line=3'>4</a>\u001b[0m VOCAB_BASE_DIR \u001b[39m=\u001b[39m \u001b[39m'\u001b[39m\u001b[39m./SCB_1M+TBASE_th-en_spm-spm_32000-joined_v1.0/vocab/\u001b[39m\u001b[39m'\u001b[39m\n\u001b[0;32m      <a href='vscode-notebook-cell:/c%3A/Users/Guntsv/Documents/GitHub/DSAI-AIT-2022/Course/Natural%20Language%20Understanding/Assignment/07%20-%20Machine%20Translation%20TH-EN/pretrained.ipynb#W0sZmlsZQ%3D%3D?line=4'>5</a>\u001b[0m BPE_BASE_DIR \u001b[39m=\u001b[39m \u001b[39m'\u001b[39m\u001b[39m./SCB_1M+TBASE_th-en_spm-spm_32000-joined_v1.0/bpe/\u001b[39m\u001b[39m'\u001b[39m\n\u001b[1;32m----> <a href='vscode-notebook-cell:/c%3A/Users/Guntsv/Documents/GitHub/DSAI-AIT-2022/Course/Natural%20Language%20Understanding/Assignment/07%20-%20Machine%20Translation%20TH-EN/pretrained.ipynb#W0sZmlsZQ%3D%3D?line=6'>7</a>\u001b[0m th2en \u001b[39m=\u001b[39m TransformerModel\u001b[39m.\u001b[39;49mfrom_pretrained(\n\u001b[0;32m      <a href='vscode-notebook-cell:/c%3A/Users/Guntsv/Documents/GitHub/DSAI-AIT-2022/Course/Natural%20Language%20Understanding/Assignment/07%20-%20Machine%20Translation%20TH-EN/pretrained.ipynb#W0sZmlsZQ%3D%3D?line=7'>8</a>\u001b[0m             model_name_or_path\u001b[39m=\u001b[39;49mMODEL_BASE_DIR,\n\u001b[0;32m      <a href='vscode-notebook-cell:/c%3A/Users/Guntsv/Documents/GitHub/DSAI-AIT-2022/Course/Natural%20Language%20Understanding/Assignment/07%20-%20Machine%20Translation%20TH-EN/pretrained.ipynb#W0sZmlsZQ%3D%3D?line=8'>9</a>\u001b[0m             checkpoint_file\u001b[39m=\u001b[39;49m\u001b[39m'\u001b[39;49m\u001b[39mcheckpoint.pt\u001b[39;49m\u001b[39m'\u001b[39;49m,\n\u001b[0;32m     <a href='vscode-notebook-cell:/c%3A/Users/Guntsv/Documents/GitHub/DSAI-AIT-2022/Course/Natural%20Language%20Understanding/Assignment/07%20-%20Machine%20Translation%20TH-EN/pretrained.ipynb#W0sZmlsZQ%3D%3D?line=9'>10</a>\u001b[0m             data_name_or_path\u001b[39m=\u001b[39;49mVOCAB_BASE_DIR,\n\u001b[0;32m     <a href='vscode-notebook-cell:/c%3A/Users/Guntsv/Documents/GitHub/DSAI-AIT-2022/Course/Natural%20Language%20Understanding/Assignment/07%20-%20Machine%20Translation%20TH-EN/pretrained.ipynb#W0sZmlsZQ%3D%3D?line=10'>11</a>\u001b[0m             bpe\u001b[39m=\u001b[39;49m\u001b[39m'\u001b[39;49m\u001b[39msentencepiece\u001b[39;49m\u001b[39m'\u001b[39;49m,\n\u001b[0;32m     <a href='vscode-notebook-cell:/c%3A/Users/Guntsv/Documents/GitHub/DSAI-AIT-2022/Course/Natural%20Language%20Understanding/Assignment/07%20-%20Machine%20Translation%20TH-EN/pretrained.ipynb#W0sZmlsZQ%3D%3D?line=11'>12</a>\u001b[0m             sentencepiece_vocab\u001b[39m=\u001b[39;49mBPE_BASE_DIR \u001b[39m+\u001b[39;49m \u001b[39m'\u001b[39;49m\u001b[39mspm.th.model\u001b[39;49m\u001b[39m'\u001b[39;49m)\n\u001b[0;32m     <a href='vscode-notebook-cell:/c%3A/Users/Guntsv/Documents/GitHub/DSAI-AIT-2022/Course/Natural%20Language%20Understanding/Assignment/07%20-%20Machine%20Translation%20TH-EN/pretrained.ipynb#W0sZmlsZQ%3D%3D?line=13'>14</a>\u001b[0m th2en\u001b[39m.\u001b[39mtranslate(\u001b[39m\"\u001b[39m\u001b[39mงั้นเอาเป็นเวนติ แบล็คแอนด์ไวท์มอคค่าใส่นมสดกับวิปครีม จากสตาร์บัคส์สาขาห้างเบิร์ชวิลล์นะคะ\u001b[39m\u001b[39m\"\u001b[39m)\n",
      "File \u001b[1;32mc:\\Python3.10.4\\lib\\site-packages\\fairseq\\models\\fairseq_model.py:267\u001b[0m, in \u001b[0;36mBaseFairseqModel.from_pretrained\u001b[1;34m(cls, model_name_or_path, checkpoint_file, data_name_or_path, **kwargs)\u001b[0m\n\u001b[0;32m    244\u001b[0m \u001b[39m\"\"\"\u001b[39;00m\n\u001b[0;32m    245\u001b[0m \u001b[39mLoad a :class:`~fairseq.models.FairseqModel` from a pre-trained model\u001b[39;00m\n\u001b[0;32m    246\u001b[0m \u001b[39mfile. Downloads and caches the pre-trained model file if needed.\u001b[39;00m\n\u001b[1;32m   (...)\u001b[0m\n\u001b[0;32m    263\u001b[0m \u001b[39m        model archive path.\u001b[39;00m\n\u001b[0;32m    264\u001b[0m \u001b[39m\"\"\"\u001b[39;00m\n\u001b[0;32m    265\u001b[0m \u001b[39mfrom\u001b[39;00m \u001b[39mfairseq\u001b[39;00m \u001b[39mimport\u001b[39;00m hub_utils\n\u001b[1;32m--> 267\u001b[0m x \u001b[39m=\u001b[39m hub_utils\u001b[39m.\u001b[39mfrom_pretrained(\n\u001b[0;32m    268\u001b[0m     model_name_or_path,\n\u001b[0;32m    269\u001b[0m     checkpoint_file,\n\u001b[0;32m    270\u001b[0m     data_name_or_path,\n\u001b[0;32m    271\u001b[0m     archive_map\u001b[39m=\u001b[39m\u001b[39mcls\u001b[39m\u001b[39m.\u001b[39mhub_models(),\n\u001b[0;32m    272\u001b[0m     \u001b[39m*\u001b[39m\u001b[39m*\u001b[39mkwargs,\n\u001b[0;32m    273\u001b[0m )\n\u001b[0;32m    274\u001b[0m logger\u001b[39m.\u001b[39minfo(x[\u001b[39m\"\u001b[39m\u001b[39margs\u001b[39m\u001b[39m\"\u001b[39m])\n\u001b[0;32m    275\u001b[0m \u001b[39mreturn\u001b[39;00m hub_utils\u001b[39m.\u001b[39mGeneratorHubInterface(x[\u001b[39m\"\u001b[39m\u001b[39margs\u001b[39m\u001b[39m\"\u001b[39m], x[\u001b[39m\"\u001b[39m\u001b[39mtask\u001b[39m\u001b[39m\"\u001b[39m], x[\u001b[39m\"\u001b[39m\u001b[39mmodels\u001b[39m\u001b[39m\"\u001b[39m])\n",
      "File \u001b[1;32mc:\\Python3.10.4\\lib\\site-packages\\fairseq\\hub_utils.py:73\u001b[0m, in \u001b[0;36mfrom_pretrained\u001b[1;34m(model_name_or_path, checkpoint_file, data_name_or_path, archive_map, **kwargs)\u001b[0m\n\u001b[0;32m     70\u001b[0m \u001b[39mif\u001b[39;00m \u001b[39m\"\u001b[39m\u001b[39muser_dir\u001b[39m\u001b[39m\"\u001b[39m \u001b[39min\u001b[39;00m kwargs:\n\u001b[0;32m     71\u001b[0m     utils\u001b[39m.\u001b[39mimport_user_module(argparse\u001b[39m.\u001b[39mNamespace(user_dir\u001b[39m=\u001b[39mkwargs[\u001b[39m\"\u001b[39m\u001b[39muser_dir\u001b[39m\u001b[39m\"\u001b[39m]))\n\u001b[1;32m---> 73\u001b[0m models, args, task \u001b[39m=\u001b[39m checkpoint_utils\u001b[39m.\u001b[39;49mload_model_ensemble_and_task(\n\u001b[0;32m     74\u001b[0m     [os\u001b[39m.\u001b[39;49mpath\u001b[39m.\u001b[39;49mjoin(model_path, cpt) \u001b[39mfor\u001b[39;49;00m cpt \u001b[39min\u001b[39;49;00m checkpoint_file\u001b[39m.\u001b[39;49msplit(os\u001b[39m.\u001b[39;49mpathsep)],\n\u001b[0;32m     75\u001b[0m     arg_overrides\u001b[39m=\u001b[39;49mkwargs,\n\u001b[0;32m     76\u001b[0m )\n\u001b[0;32m     78\u001b[0m \u001b[39mreturn\u001b[39;00m {\n\u001b[0;32m     79\u001b[0m     \u001b[39m\"\u001b[39m\u001b[39margs\u001b[39m\u001b[39m\"\u001b[39m: args,\n\u001b[0;32m     80\u001b[0m     \u001b[39m\"\u001b[39m\u001b[39mtask\u001b[39m\u001b[39m\"\u001b[39m: task,\n\u001b[0;32m     81\u001b[0m     \u001b[39m\"\u001b[39m\u001b[39mmodels\u001b[39m\u001b[39m\"\u001b[39m: models,\n\u001b[0;32m     82\u001b[0m }\n",
      "File \u001b[1;32mc:\\Python3.10.4\\lib\\site-packages\\fairseq\\checkpoint_utils.py:436\u001b[0m, in \u001b[0;36mload_model_ensemble_and_task\u001b[1;34m(filenames, arg_overrides, task, strict, suffix, num_shards, state)\u001b[0m\n\u001b[0;32m    431\u001b[0m     \u001b[39mraise\u001b[39;00m \u001b[39mRuntimeError\u001b[39;00m(\n\u001b[0;32m    432\u001b[0m         \u001b[39mf\u001b[39m\u001b[39m\"\u001b[39m\u001b[39mNeither args nor cfg exist in state keys = \u001b[39m\u001b[39m{\u001b[39;00mstate\u001b[39m.\u001b[39mkeys()\u001b[39m}\u001b[39;00m\u001b[39m\"\u001b[39m\n\u001b[0;32m    433\u001b[0m     )\n\u001b[0;32m    435\u001b[0m \u001b[39mif\u001b[39;00m task \u001b[39mis\u001b[39;00m \u001b[39mNone\u001b[39;00m:\n\u001b[1;32m--> 436\u001b[0m     task \u001b[39m=\u001b[39m tasks\u001b[39m.\u001b[39;49msetup_task(cfg\u001b[39m.\u001b[39;49mtask)\n\u001b[0;32m    438\u001b[0m \u001b[39mif\u001b[39;00m \u001b[39m\"\u001b[39m\u001b[39mtask_state\u001b[39m\u001b[39m\"\u001b[39m \u001b[39min\u001b[39;00m state:\n\u001b[0;32m    439\u001b[0m     task\u001b[39m.\u001b[39mload_state_dict(state[\u001b[39m\"\u001b[39m\u001b[39mtask_state\u001b[39m\u001b[39m\"\u001b[39m])\n",
      "File \u001b[1;32mc:\\Python3.10.4\\lib\\site-packages\\fairseq\\tasks\\__init__.py:46\u001b[0m, in \u001b[0;36msetup_task\u001b[1;34m(cfg, **kwargs)\u001b[0m\n\u001b[0;32m     40\u001b[0m         task \u001b[39m=\u001b[39m TASK_REGISTRY[task_name]\n\u001b[0;32m     42\u001b[0m \u001b[39massert\u001b[39;00m (\n\u001b[0;32m     43\u001b[0m     task \u001b[39mis\u001b[39;00m \u001b[39mnot\u001b[39;00m \u001b[39mNone\u001b[39;00m\n\u001b[0;32m     44\u001b[0m ), \u001b[39mf\u001b[39m\u001b[39m\"\u001b[39m\u001b[39mCould not infer task type from \u001b[39m\u001b[39m{\u001b[39;00mcfg\u001b[39m}\u001b[39;00m\u001b[39m. Available argparse tasks: \u001b[39m\u001b[39m{\u001b[39;00mTASK_REGISTRY\u001b[39m.\u001b[39mkeys()\u001b[39m}\u001b[39;00m\u001b[39m. Available hydra tasks: \u001b[39m\u001b[39m{\u001b[39;00mTASK_DATACLASS_REGISTRY\u001b[39m.\u001b[39mkeys()\u001b[39m}\u001b[39;00m\u001b[39m\"\u001b[39m\n\u001b[1;32m---> 46\u001b[0m \u001b[39mreturn\u001b[39;00m task\u001b[39m.\u001b[39msetup_task(cfg, \u001b[39m*\u001b[39m\u001b[39m*\u001b[39mkwargs)\n",
      "File \u001b[1;32mc:\\Python3.10.4\\lib\\site-packages\\fairseq\\tasks\\translation.py:308\u001b[0m, in \u001b[0;36mTranslationTask.setup_task\u001b[1;34m(cls, cfg, **kwargs)\u001b[0m\n\u001b[0;32m    303\u001b[0m     \u001b[39mraise\u001b[39;00m \u001b[39mException\u001b[39;00m(\n\u001b[0;32m    304\u001b[0m         \u001b[39m\"\u001b[39m\u001b[39mCould not infer language pair, please provide it explicitly\u001b[39m\u001b[39m\"\u001b[39m\n\u001b[0;32m    305\u001b[0m     )\n\u001b[0;32m    307\u001b[0m \u001b[39m# load dictionaries\u001b[39;00m\n\u001b[1;32m--> 308\u001b[0m src_dict \u001b[39m=\u001b[39m \u001b[39mcls\u001b[39;49m\u001b[39m.\u001b[39;49mload_dictionary(\n\u001b[0;32m    309\u001b[0m     os\u001b[39m.\u001b[39;49mpath\u001b[39m.\u001b[39;49mjoin(paths[\u001b[39m0\u001b[39;49m], \u001b[39m\"\u001b[39;49m\u001b[39mdict.\u001b[39;49m\u001b[39m{}\u001b[39;49;00m\u001b[39m.txt\u001b[39;49m\u001b[39m\"\u001b[39;49m\u001b[39m.\u001b[39;49mformat(cfg\u001b[39m.\u001b[39;49msource_lang))\n\u001b[0;32m    310\u001b[0m )\n\u001b[0;32m    311\u001b[0m tgt_dict \u001b[39m=\u001b[39m \u001b[39mcls\u001b[39m\u001b[39m.\u001b[39mload_dictionary(\n\u001b[0;32m    312\u001b[0m     os\u001b[39m.\u001b[39mpath\u001b[39m.\u001b[39mjoin(paths[\u001b[39m0\u001b[39m], \u001b[39m\"\u001b[39m\u001b[39mdict.\u001b[39m\u001b[39m{}\u001b[39;00m\u001b[39m.txt\u001b[39m\u001b[39m\"\u001b[39m\u001b[39m.\u001b[39mformat(cfg\u001b[39m.\u001b[39mtarget_lang))\n\u001b[0;32m    313\u001b[0m )\n\u001b[0;32m    314\u001b[0m \u001b[39massert\u001b[39;00m src_dict\u001b[39m.\u001b[39mpad() \u001b[39m==\u001b[39m tgt_dict\u001b[39m.\u001b[39mpad()\n",
      "File \u001b[1;32mc:\\Python3.10.4\\lib\\site-packages\\fairseq\\tasks\\fairseq_task.py:94\u001b[0m, in \u001b[0;36mFairseqTask.load_dictionary\u001b[1;34m(cls, filename)\u001b[0m\n\u001b[0;32m     87\u001b[0m \u001b[39m@classmethod\u001b[39m\n\u001b[0;32m     88\u001b[0m \u001b[39mdef\u001b[39;00m \u001b[39mload_dictionary\u001b[39m(\u001b[39mcls\u001b[39m, filename):\n\u001b[0;32m     89\u001b[0m     \u001b[39m\"\"\"Load the dictionary from the filename\u001b[39;00m\n\u001b[0;32m     90\u001b[0m \n\u001b[0;32m     91\u001b[0m \u001b[39m    Args:\u001b[39;00m\n\u001b[0;32m     92\u001b[0m \u001b[39m        filename (str): the filename\u001b[39;00m\n\u001b[0;32m     93\u001b[0m \u001b[39m    \"\"\"\u001b[39;00m\n\u001b[1;32m---> 94\u001b[0m     \u001b[39mreturn\u001b[39;00m Dictionary\u001b[39m.\u001b[39;49mload(filename)\n",
      "File \u001b[1;32mc:\\Python3.10.4\\lib\\site-packages\\fairseq\\data\\dictionary.py:226\u001b[0m, in \u001b[0;36mDictionary.load\u001b[1;34m(cls, f)\u001b[0m\n\u001b[0;32m    217\u001b[0m \u001b[39m\"\"\"Loads the dictionary from a text file with the format:\u001b[39;00m\n\u001b[0;32m    218\u001b[0m \n\u001b[0;32m    219\u001b[0m \u001b[39m```\u001b[39;00m\n\u001b[1;32m   (...)\u001b[0m\n\u001b[0;32m    223\u001b[0m \u001b[39m```\u001b[39;00m\n\u001b[0;32m    224\u001b[0m \u001b[39m\"\"\"\u001b[39;00m\n\u001b[0;32m    225\u001b[0m d \u001b[39m=\u001b[39m \u001b[39mcls\u001b[39m()\n\u001b[1;32m--> 226\u001b[0m d\u001b[39m.\u001b[39;49madd_from_file(f)\n\u001b[0;32m    227\u001b[0m \u001b[39mreturn\u001b[39;00m d\n",
      "File \u001b[1;32mc:\\Python3.10.4\\lib\\site-packages\\fairseq\\data\\dictionary.py:239\u001b[0m, in \u001b[0;36mDictionary.add_from_file\u001b[1;34m(self, f)\u001b[0m\n\u001b[0;32m    237\u001b[0m         \u001b[39mself\u001b[39m\u001b[39m.\u001b[39madd_from_file(fd)\n\u001b[0;32m    238\u001b[0m \u001b[39mexcept\u001b[39;00m \u001b[39mFileNotFoundError\u001b[39;00m \u001b[39mas\u001b[39;00m fnfe:\n\u001b[1;32m--> 239\u001b[0m     \u001b[39mraise\u001b[39;00m fnfe\n\u001b[0;32m    240\u001b[0m \u001b[39mexcept\u001b[39;00m \u001b[39mUnicodeError\u001b[39;00m:\n\u001b[0;32m    241\u001b[0m     \u001b[39mraise\u001b[39;00m \u001b[39mException\u001b[39;00m(\n\u001b[0;32m    242\u001b[0m         \u001b[39m\"\u001b[39m\u001b[39mIncorrect encoding detected in \u001b[39m\u001b[39m{}\u001b[39;00m\u001b[39m, please \u001b[39m\u001b[39m\"\u001b[39m\n\u001b[0;32m    243\u001b[0m         \u001b[39m\"\u001b[39m\u001b[39mrebuild the dataset\u001b[39m\u001b[39m\"\u001b[39m\u001b[39m.\u001b[39mformat(f)\n\u001b[0;32m    244\u001b[0m     )\n",
      "File \u001b[1;32mc:\\Python3.10.4\\lib\\site-packages\\fairseq\\data\\dictionary.py:236\u001b[0m, in \u001b[0;36mDictionary.add_from_file\u001b[1;34m(self, f)\u001b[0m\n\u001b[0;32m    234\u001b[0m \u001b[39mif\u001b[39;00m \u001b[39misinstance\u001b[39m(f, \u001b[39mstr\u001b[39m):\n\u001b[0;32m    235\u001b[0m     \u001b[39mtry\u001b[39;00m:\n\u001b[1;32m--> 236\u001b[0m         \u001b[39mwith\u001b[39;00m \u001b[39mopen\u001b[39;49m(PathManager\u001b[39m.\u001b[39;49mget_local_path(f), \u001b[39m\"\u001b[39;49m\u001b[39mr\u001b[39;49m\u001b[39m\"\u001b[39;49m, encoding\u001b[39m=\u001b[39;49m\u001b[39m\"\u001b[39;49m\u001b[39mutf-8\u001b[39;49m\u001b[39m\"\u001b[39;49m) \u001b[39mas\u001b[39;00m fd:\n\u001b[0;32m    237\u001b[0m             \u001b[39mself\u001b[39m\u001b[39m.\u001b[39madd_from_file(fd)\n\u001b[0;32m    238\u001b[0m     \u001b[39mexcept\u001b[39;00m \u001b[39mFileNotFoundError\u001b[39;00m \u001b[39mas\u001b[39;00m fnfe:\n",
      "\u001b[1;31mFileNotFoundError\u001b[0m: [Errno 2] No such file or directory: 'c:\\\\Users\\\\Guntsv\\\\Documents\\\\GitHub\\\\DSAI-AIT-2022\\\\Course\\\\Natural Language Understanding\\\\Assignment\\\\07 - Machine Translation TH-EN\\\\SCB_1M+TBASE_th-en_spm-spm_32000-joined_v1.0\\\\models\\\\SCB_1M+TBASE_th-en_spm-spm_32000-joined_v1.0\\\\vocab\\\\dict.th.txt'"
     ]
    }
   ],
   "source": [
    "from fairseq.models.transformer import TransformerModel\n",
    "\n",
    "MODEL_BASE_DIR = './SCB_1M+TBASE_th-en_spm-spm_32000-joined_v1.0/models/'\n",
    "VOCAB_BASE_DIR = './SCB_1M+TBASE_th-en_spm-spm_32000-joined_v1.0/vocab/'\n",
    "BPE_BASE_DIR = './SCB_1M+TBASE_th-en_spm-spm_32000-joined_v1.0/bpe/'\n",
    "\n",
    "th2en = TransformerModel.from_pretrained(\n",
    "            model_name_or_path=MODEL_BASE_DIR,\n",
    "            checkpoint_file='checkpoint.pt',\n",
    "            data_name_or_path=VOCAB_BASE_DIR,\n",
    "            bpe='sentencepiece',\n",
    "            sentencepiece_vocab=BPE_BASE_DIR + 'spm.th.model')\n",
    "\n",
    "th2en.translate(\"งั้นเอาเป็นเวนติ แบล็คแอนด์ไวท์มอคค่าใส่นมสดกับวิปครีม จากสตาร์บัคส์สาขาห้างเบิร์ชวิลล์นะคะ\")"
   ]
  },
  {
   "cell_type": "code",
   "execution_count": null,
   "metadata": {},
   "outputs": [],
   "source": []
  }
 ],
 "metadata": {
  "kernelspec": {
   "display_name": "Python 3",
   "language": "python",
   "name": "python3"
  },
  "language_info": {
   "codemirror_mode": {
    "name": "ipython",
    "version": 3
   },
   "file_extension": ".py",
   "mimetype": "text/x-python",
   "name": "python",
   "nbconvert_exporter": "python",
   "pygments_lexer": "ipython3",
   "version": "3.10.4"
  },
  "orig_nbformat": 4,
  "vscode": {
   "interpreter": {
    "hash": "c81d839d3c4227cd770621df97fe8191838af02e7eef185a922d8250cb33d344"
   }
  }
 },
 "nbformat": 4,
 "nbformat_minor": 2
}
