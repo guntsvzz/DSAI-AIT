{
 "cells": [
  {
   "cell_type": "code",
   "execution_count": null,
   "metadata": {},
   "outputs": [],
   "source": [
    "# train_without12dep = []\n",
    "# for idx,train in enumerate(train_set):\n",
    "#     train_dict = dict()\n",
    "#     for key in train.keys():\n",
    "#         if key == 'dep':\n",
    "#             continue\n",
    "#         train_dict[key] = train_set[idx][key]\n",
    "#     train_without12dep.append(train_dict)\n",
    "# train_without12dep[1]"
   ]
  },
  {
   "cell_type": "code",
   "execution_count": null,
   "metadata": {},
   "outputs": [],
   "source": [
    "# train_without18pos = []\n",
    "# for idx,train in enumerate(train_set):\n",
    "#     train_dict = dict()\n",
    "#     for key in train.keys():\n",
    "#         if key == 'pos':\n",
    "#             continue\n",
    "#         train_dict[key] = train_set[idx][key]\n",
    "#     train_without18pos.append(train_dict)\n",
    "# train_without18pos[1]"
   ]
  }
 ],
 "metadata": {
  "kernelspec": {
   "display_name": "Python 3",
   "language": "python",
   "name": "python3"
  },
  "language_info": {
   "name": "python",
   "version": "3.10.4 (tags/v3.10.4:9d38120, Mar 23 2022, 23:13:41) [MSC v.1929 64 bit (AMD64)]"
  },
  "orig_nbformat": 4,
  "vscode": {
   "interpreter": {
    "hash": "c81d839d3c4227cd770621df97fe8191838af02e7eef185a922d8250cb33d344"
   }
  }
 },
 "nbformat": 4,
 "nbformat_minor": 2
}
