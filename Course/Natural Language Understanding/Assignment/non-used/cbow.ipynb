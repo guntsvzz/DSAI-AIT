{
 "cells": [
  {
   "cell_type": "code",
   "execution_count": 2,
   "metadata": {},
   "outputs": [],
   "source": [
    "sentences = \"\"\"We are about to study the idea of a computational process.\n",
    "Computational processes are abstract beings that inhabit computers.\n",
    "As they evolve, processes manipulate other abstract things called data.\n",
    "The evolution of a process is directed by a pattern of rules\n",
    "called a program. People create programs to direct processes. In effect,\n",
    "we conjure the spirits of the computer with our spells.\"\"\""
   ]
  },
  {
   "cell_type": "code",
   "execution_count": 3,
   "metadata": {},
   "outputs": [],
   "source": [
    "import re\n",
    "# remove special characters\n",
    "sentences = re.sub('[^A-Za-z0-9]+', ' ', sentences)\n",
    "# remove 1 letter words\n",
    "sentences = re.sub(r'(?:^| )\\w(?:$| )', ' ', sentences).strip()\n",
    "# lower all characters\n",
    "sentences = sentences.lower()"
   ]
  },
  {
   "cell_type": "code",
   "execution_count": 4,
   "metadata": {},
   "outputs": [
    {
     "data": {
      "text/plain": [
       "'we are about to study the idea of computational process computational processes are abstract beings that inhabit computers as they evolve processes manipulate other abstract things called data the evolution of process is directed by pattern of rules called program people create programs to direct processes in effect we conjure the spirits of the computer with our spells'"
      ]
     },
     "execution_count": 4,
     "metadata": {},
     "output_type": "execute_result"
    }
   ],
   "source": [
    "sentences"
   ]
  },
  {
   "cell_type": "code",
   "execution_count": 5,
   "metadata": {},
   "outputs": [],
   "source": [
    "words = sentences.split()\n",
    "# words"
   ]
  },
  {
   "cell_type": "code",
   "execution_count": 6,
   "metadata": {},
   "outputs": [],
   "source": [
    "vocab = set(words)\n",
    "# vocab"
   ]
  },
  {
   "cell_type": "code",
   "execution_count": 7,
   "metadata": {},
   "outputs": [
    {
     "data": {
      "text/plain": [
       "43"
      ]
     },
     "execution_count": 7,
     "metadata": {},
     "output_type": "execute_result"
    }
   ],
   "source": [
    "embed_dim = 10\n",
    "context_size = 2\n",
    "vocab_size = len(vocab)\n",
    "vocab_size"
   ]
  },
  {
   "cell_type": "code",
   "execution_count": 8,
   "metadata": {},
   "outputs": [],
   "source": [
    "word_to_ix = {word: i for i, word in enumerate(vocab)}\n",
    "ix_to_word = {i: word for i, word in enumerate(vocab)}"
   ]
  },
  {
   "cell_type": "code",
   "execution_count": 9,
   "metadata": {},
   "outputs": [
    {
     "name": "stdout",
     "output_type": "stream",
     "text": [
      "[(['we', 'are', 'to', 'study'], 'about'), (['are', 'about', 'study', 'the'], 'to'), (['about', 'to', 'the', 'idea'], 'study'), (['to', 'study', 'idea', 'of'], 'the'), (['study', 'the', 'of', 'computational'], 'idea')]\n"
     ]
    }
   ],
   "source": [
    "# data - [(context), target]\n",
    "\n",
    "data = []\n",
    "for i in range(2, len(words) - 2):\n",
    "    context = [words[i - 2], words[i - 1], words[i + 1], words[i + 2]]\n",
    "    target = words[i]\n",
    "    data.append((context, target))\n",
    "print(data[:5])"
   ]
  },
  {
   "cell_type": "code",
   "execution_count": 10,
   "metadata": {},
   "outputs": [],
   "source": [
    "def cbow_model(data, total_vocab, window_size=1):\n",
    "    cbow = []\n",
    "    total_length = window_size*2\n",
    "    for text in data:\n",
    "        text_len = len(text)\n",
    "        for idx, word in enumerate(text):\n",
    "            context_word = []\n",
    "            target   = []            \n",
    "            begin = idx - window_size\n",
    "            end = idx + window_size + 1\n",
    "            context_word.append([text[i] for i in range(begin, end) if 0 <= i < text_len and i != idx])\n",
    "            target.append(word)\n",
    "        cbow.append((context_word[0][0], target))\n",
    "    return cbow"
   ]
  },
  {
   "cell_type": "code",
   "execution_count": 11,
   "metadata": {},
   "outputs": [
    {
     "data": {
      "text/plain": [
       "'we are about to study the idea of computational process computational processes are abstract beings that inhabit computers as they evolve processes manipulate other abstract things called data the evolution of process is directed by pattern of rules called program people create programs to direct processes in effect we conjure the spirits of the computer with our spells'"
      ]
     },
     "execution_count": 11,
     "metadata": {},
     "output_type": "execute_result"
    }
   ],
   "source": [
    "sentences"
   ]
  },
  {
   "cell_type": "code",
   "execution_count": 12,
   "metadata": {},
   "outputs": [
    {
     "data": {
      "text/plain": [
       "[(['we', 'are', 'to', 'study'], ['about']),\n",
       " (['are', 'about', 'study', 'the'], ['to']),\n",
       " (['about', 'to', 'the', 'idea'], ['study']),\n",
       " (['to', 'study', 'idea', 'of'], ['the']),\n",
       " (['study', 'the', 'of', 'computational'], ['idea']),\n",
       " (['the', 'idea', 'computational', 'process'], ['of']),\n",
       " (['idea', 'of', 'process', 'computational'], ['computational']),\n",
       " (['of', 'computational', 'computational', 'processes'], ['process']),\n",
       " (['computational', 'process', 'processes', 'are'], ['computational']),\n",
       " (['process', 'computational', 'are', 'abstract'], ['processes']),\n",
       " (['computational', 'processes', 'abstract', 'beings'], ['are']),\n",
       " (['processes', 'are', 'beings', 'that'], ['abstract']),\n",
       " (['are', 'abstract', 'that', 'inhabit'], ['beings']),\n",
       " (['abstract', 'beings', 'inhabit', 'computers'], ['that']),\n",
       " (['beings', 'that', 'computers', 'as'], ['inhabit']),\n",
       " (['that', 'inhabit', 'as', 'they'], ['computers']),\n",
       " (['inhabit', 'computers', 'they', 'evolve'], ['as']),\n",
       " (['computers', 'as', 'evolve', 'processes'], ['they']),\n",
       " (['as', 'they', 'processes', 'manipulate'], ['evolve']),\n",
       " (['they', 'evolve', 'manipulate', 'other'], ['processes']),\n",
       " (['evolve', 'processes', 'other', 'abstract'], ['manipulate']),\n",
       " (['processes', 'manipulate', 'abstract', 'things'], ['other']),\n",
       " (['manipulate', 'other', 'things', 'called'], ['abstract']),\n",
       " (['other', 'abstract', 'called', 'data'], ['things']),\n",
       " (['abstract', 'things', 'data', 'the'], ['called']),\n",
       " (['things', 'called', 'the', 'evolution'], ['data']),\n",
       " (['called', 'data', 'evolution', 'of'], ['the']),\n",
       " (['data', 'the', 'of', 'process'], ['evolution']),\n",
       " (['the', 'evolution', 'process', 'is'], ['of']),\n",
       " (['evolution', 'of', 'is', 'directed'], ['process']),\n",
       " (['of', 'process', 'directed', 'by'], ['is']),\n",
       " (['process', 'is', 'by', 'pattern'], ['directed']),\n",
       " (['is', 'directed', 'pattern', 'of'], ['by']),\n",
       " (['directed', 'by', 'of', 'rules'], ['pattern']),\n",
       " (['by', 'pattern', 'rules', 'called'], ['of']),\n",
       " (['pattern', 'of', 'called', 'program'], ['rules']),\n",
       " (['of', 'rules', 'program', 'people'], ['called']),\n",
       " (['rules', 'called', 'people', 'create'], ['program']),\n",
       " (['called', 'program', 'create', 'programs'], ['people']),\n",
       " (['program', 'people', 'programs', 'to'], ['create']),\n",
       " (['people', 'create', 'to', 'direct'], ['programs']),\n",
       " (['create', 'programs', 'direct', 'processes'], ['to']),\n",
       " (['programs', 'to', 'processes', 'in'], ['direct']),\n",
       " (['to', 'direct', 'in', 'effect'], ['processes']),\n",
       " (['direct', 'processes', 'effect', 'we'], ['in']),\n",
       " (['processes', 'in', 'we', 'conjure'], ['effect']),\n",
       " (['in', 'effect', 'conjure', 'the'], ['we']),\n",
       " (['effect', 'we', 'the', 'spirits'], ['conjure']),\n",
       " (['we', 'conjure', 'spirits', 'of'], ['the']),\n",
       " (['conjure', 'the', 'of', 'the'], ['spirits']),\n",
       " (['the', 'spirits', 'the', 'computer'], ['of']),\n",
       " (['spirits', 'of', 'computer', 'with'], ['the']),\n",
       " (['of', 'the', 'with', 'our'], ['computer']),\n",
       " (['the', 'computer', 'our', 'spells'], ['with'])]"
      ]
     },
     "execution_count": 12,
     "metadata": {},
     "output_type": "execute_result"
    }
   ],
   "source": [
    "cbow_model(data, window_size=2, total_vocab=vocab_size)"
   ]
  },
  {
   "cell_type": "code",
   "execution_count": 19,
   "metadata": {},
   "outputs": [],
   "source": [
    "import numpy as np\n",
    "embeddings =  np.random.random_sample((vocab_size, embed_dim))"
   ]
  },
  {
   "cell_type": "code",
   "execution_count": 20,
   "metadata": {},
   "outputs": [],
   "source": [
    "def linear(m, theta):\n",
    "    w = theta\n",
    "    return m.dot(w)\n",
    "def log_softmax(x):\n",
    "    e_x = np.exp(x - np.max(x))\n",
    "    return np.log(e_x / e_x.sum())"
   ]
  },
  {
   "cell_type": "code",
   "execution_count": 21,
   "metadata": {},
   "outputs": [],
   "source": [
    "def forward(context_idxs, theta):\n",
    "    m = embeddings[context_idxs].reshape(1, -1)\n",
    "    n = linear(m, theta)\n",
    "    o = log_softmax(n)\n",
    "    \n",
    "    return m, n, o"
   ]
  },
  {
   "cell_type": "code",
   "execution_count": 22,
   "metadata": {},
   "outputs": [],
   "source": [
    "theta = np.random.uniform(-1, 1, (2 * context_size * embed_dim, vocab_size))"
   ]
  },
  {
   "cell_type": "code",
   "execution_count": 23,
   "metadata": {},
   "outputs": [],
   "source": [
    "import numpy as np\n",
    "for context, target in data:\n",
    "        context_idxs = np.array([word_to_ix[w] for w in context])\n",
    "        \n",
    "        preds = forward(context_idxs, theta)\n",
    "        break"
   ]
  },
  {
   "cell_type": "code",
   "execution_count": 14,
   "metadata": {},
   "outputs": [
    {
     "data": {
      "text/plain": [
       "array([22, 23, 27, 24])"
      ]
     },
     "execution_count": 14,
     "metadata": {},
     "output_type": "execute_result"
    }
   ],
   "source": [
    "context_idxs"
   ]
  },
  {
   "cell_type": "code",
   "execution_count": 26,
   "metadata": {},
   "outputs": [
    {
     "data": {
      "text/plain": [
       "(1, 40)"
      ]
     },
     "execution_count": 26,
     "metadata": {},
     "output_type": "execute_result"
    }
   ],
   "source": [
    "preds[0].shape"
   ]
  },
  {
   "cell_type": "code",
   "execution_count": null,
   "metadata": {},
   "outputs": [],
   "source": []
  }
 ],
 "metadata": {
  "kernelspec": {
   "display_name": "Python 3",
   "language": "python",
   "name": "python3"
  },
  "language_info": {
   "codemirror_mode": {
    "name": "ipython",
    "version": 3
   },
   "file_extension": ".py",
   "mimetype": "text/x-python",
   "name": "python",
   "nbconvert_exporter": "python",
   "pygments_lexer": "ipython3",
   "version": "3.10.4"
  },
  "orig_nbformat": 4,
  "vscode": {
   "interpreter": {
    "hash": "c81d839d3c4227cd770621df97fe8191838af02e7eef185a922d8250cb33d344"
   }
  }
 },
 "nbformat": 4,
 "nbformat_minor": 2
}
