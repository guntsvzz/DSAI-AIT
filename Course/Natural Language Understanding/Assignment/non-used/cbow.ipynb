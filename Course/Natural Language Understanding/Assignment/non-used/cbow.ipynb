{
 "cells": [
  {
   "cell_type": "code",
   "execution_count": 1,
   "metadata": {},
   "outputs": [],
   "source": [
    "sentences = \"\"\"We are about to study the idea of a computational process.\n",
    "Computational processes are abstract beings that inhabit computers.\n",
    "As they evolve, processes manipulate other abstract things called data.\n",
    "The evolution of a process is directed by a pattern of rules\n",
    "called a program. People create programs to direct processes. In effect,\n",
    "we conjure the spirits of the computer with our spells.\"\"\""
   ]
  },
  {
   "cell_type": "code",
   "execution_count": 2,
   "metadata": {},
   "outputs": [],
   "source": [
    "import re\n",
    "# remove special characters\n",
    "sentences = re.sub('[^A-Za-z0-9]+', ' ', sentences)\n",
    "# remove 1 letter words\n",
    "sentences = re.sub(r'(?:^| )\\w(?:$| )', ' ', sentences).strip()\n",
    "# lower all characters\n",
    "sentences = sentences.lower()"
   ]
  },
  {
   "cell_type": "code",
   "execution_count": 3,
   "metadata": {},
   "outputs": [
    {
     "data": {
      "text/plain": [
       "'we are about to study the idea of computational process computational processes are abstract beings that inhabit computers as they evolve processes manipulate other abstract things called data the evolution of process is directed by pattern of rules called program people create programs to direct processes in effect we conjure the spirits of the computer with our spells'"
      ]
     },
     "execution_count": 3,
     "metadata": {},
     "output_type": "execute_result"
    }
   ],
   "source": [
    "sentences"
   ]
  },
  {
   "cell_type": "code",
   "execution_count": 4,
   "metadata": {},
   "outputs": [],
   "source": [
    "words = sentences.split()\n",
    "# words"
   ]
  },
  {
   "cell_type": "code",
   "execution_count": 5,
   "metadata": {},
   "outputs": [],
   "source": [
    "vocab = set(words)\n",
    "# vocab"
   ]
  },
  {
   "cell_type": "code",
   "execution_count": 6,
   "metadata": {},
   "outputs": [
    {
     "data": {
      "text/plain": [
       "43"
      ]
     },
     "execution_count": 6,
     "metadata": {},
     "output_type": "execute_result"
    }
   ],
   "source": [
    "embed_dim = 10\n",
    "context_size = 2\n",
    "vocab_size = len(vocab)\n",
    "vocab_size"
   ]
  },
  {
   "cell_type": "code",
   "execution_count": 7,
   "metadata": {},
   "outputs": [],
   "source": [
    "word_to_ix = {word: i for i, word in enumerate(vocab)}\n",
    "ix_to_word = {i: word for i, word in enumerate(vocab)}"
   ]
  },
  {
   "cell_type": "code",
   "execution_count": 9,
   "metadata": {},
   "outputs": [
    {
     "name": "stdout",
     "output_type": "stream",
     "text": [
      "[('about', ['we', 'are', 'to', 'study']), ('to', ['are', 'about', 'study', 'the']), ('study', ['about', 'to', 'the', 'idea']), ('the', ['to', 'study', 'idea', 'of']), ('idea', ['study', 'the', 'of', 'computational'])]\n"
     ]
    }
   ],
   "source": [
    "# data - [(context), target]\n",
    "\n",
    "data = []\n",
    "for i in range(2, len(words) - 2):\n",
    "    context = [words[i - 2], words[i - 1], words[i + 1], words[i + 2]]\n",
    "    target = words[i]\n",
    "    data.append((target,context))\n",
    "print(data[:5])"
   ]
  },
  {
   "cell_type": "code",
   "execution_count": 20,
   "metadata": {},
   "outputs": [],
   "source": [
    "def cbow_model(data, total_vocab, window_size=1):\n",
    "    cbow = []\n",
    "    total_length = window_size*2\n",
    "    for text in data:\n",
    "        text_len = len(text)\n",
    "        for idx, word in enumerate(text):\n",
    "            context_word = []\n",
    "            target   = []            \n",
    "            begin = idx - window_size\n",
    "            end = idx + window_size + 1\n",
    "            context_word.append([text[i] for i in range(begin, end) if 0 <= i < text_len and i != idx])\n",
    "            # for i in range(begin,end):\n",
    "            #     if 0 <= i < text_len and i != idx:\n",
    "            #         context_word.append(text[i])\n",
    "            target.append(word)\n",
    "        cbow.append((context_word[0][0], target[0]))\n",
    "    return cbow"
   ]
  },
  {
   "cell_type": "code",
   "execution_count": 21,
   "metadata": {},
   "outputs": [
    {
     "data": {
      "text/plain": [
       "'we are about to study the idea of computational process computational processes are abstract beings that inhabit computers as they evolve processes manipulate other abstract things called data the evolution of process is directed by pattern of rules called program people create programs to direct processes in effect we conjure the spirits of the computer with our spells'"
      ]
     },
     "execution_count": 21,
     "metadata": {},
     "output_type": "execute_result"
    }
   ],
   "source": [
    "sentences"
   ]
  },
  {
   "cell_type": "code",
   "execution_count": 22,
   "metadata": {},
   "outputs": [
    {
     "data": {
      "text/plain": [
       "[('about', ['we', 'are', 'to', 'study']),\n",
       " ('to', ['are', 'about', 'study', 'the']),\n",
       " ('study', ['about', 'to', 'the', 'idea']),\n",
       " ('the', ['to', 'study', 'idea', 'of']),\n",
       " ('idea', ['study', 'the', 'of', 'computational']),\n",
       " ('of', ['the', 'idea', 'computational', 'process']),\n",
       " ('computational', ['idea', 'of', 'process', 'computational']),\n",
       " ('process', ['of', 'computational', 'computational', 'processes']),\n",
       " ('computational', ['computational', 'process', 'processes', 'are']),\n",
       " ('processes', ['process', 'computational', 'are', 'abstract']),\n",
       " ('are', ['computational', 'processes', 'abstract', 'beings']),\n",
       " ('abstract', ['processes', 'are', 'beings', 'that']),\n",
       " ('beings', ['are', 'abstract', 'that', 'inhabit']),\n",
       " ('that', ['abstract', 'beings', 'inhabit', 'computers']),\n",
       " ('inhabit', ['beings', 'that', 'computers', 'as']),\n",
       " ('computers', ['that', 'inhabit', 'as', 'they']),\n",
       " ('as', ['inhabit', 'computers', 'they', 'evolve']),\n",
       " ('they', ['computers', 'as', 'evolve', 'processes']),\n",
       " ('evolve', ['as', 'they', 'processes', 'manipulate']),\n",
       " ('processes', ['they', 'evolve', 'manipulate', 'other']),\n",
       " ('manipulate', ['evolve', 'processes', 'other', 'abstract']),\n",
       " ('other', ['processes', 'manipulate', 'abstract', 'things']),\n",
       " ('abstract', ['manipulate', 'other', 'things', 'called']),\n",
       " ('things', ['other', 'abstract', 'called', 'data']),\n",
       " ('called', ['abstract', 'things', 'data', 'the']),\n",
       " ('data', ['things', 'called', 'the', 'evolution']),\n",
       " ('the', ['called', 'data', 'evolution', 'of']),\n",
       " ('evolution', ['data', 'the', 'of', 'process']),\n",
       " ('of', ['the', 'evolution', 'process', 'is']),\n",
       " ('process', ['evolution', 'of', 'is', 'directed']),\n",
       " ('is', ['of', 'process', 'directed', 'by']),\n",
       " ('directed', ['process', 'is', 'by', 'pattern']),\n",
       " ('by', ['is', 'directed', 'pattern', 'of']),\n",
       " ('pattern', ['directed', 'by', 'of', 'rules']),\n",
       " ('of', ['by', 'pattern', 'rules', 'called']),\n",
       " ('rules', ['pattern', 'of', 'called', 'program']),\n",
       " ('called', ['of', 'rules', 'program', 'people']),\n",
       " ('program', ['rules', 'called', 'people', 'create']),\n",
       " ('people', ['called', 'program', 'create', 'programs']),\n",
       " ('create', ['program', 'people', 'programs', 'to']),\n",
       " ('programs', ['people', 'create', 'to', 'direct']),\n",
       " ('to', ['create', 'programs', 'direct', 'processes']),\n",
       " ('direct', ['programs', 'to', 'processes', 'in']),\n",
       " ('processes', ['to', 'direct', 'in', 'effect']),\n",
       " ('in', ['direct', 'processes', 'effect', 'we']),\n",
       " ('effect', ['processes', 'in', 'we', 'conjure']),\n",
       " ('we', ['in', 'effect', 'conjure', 'the']),\n",
       " ('conjure', ['effect', 'we', 'the', 'spirits']),\n",
       " ('the', ['we', 'conjure', 'spirits', 'of']),\n",
       " ('spirits', ['conjure', 'the', 'of', 'the']),\n",
       " ('of', ['the', 'spirits', 'the', 'computer']),\n",
       " ('the', ['spirits', 'of', 'computer', 'with']),\n",
       " ('computer', ['of', 'the', 'with', 'our']),\n",
       " ('with', ['the', 'computer', 'our', 'spells'])]"
      ]
     },
     "execution_count": 22,
     "metadata": {},
     "output_type": "execute_result"
    }
   ],
   "source": [
    "cbow_model(data, window_size=2, total_vocab=vocab_size)"
   ]
  },
  {
   "cell_type": "code",
   "execution_count": 19,
   "metadata": {},
   "outputs": [],
   "source": [
    "import numpy as np\n",
    "embeddings =  np.random.random_sample((vocab_size, embed_dim))"
   ]
  },
  {
   "cell_type": "code",
   "execution_count": 20,
   "metadata": {},
   "outputs": [],
   "source": [
    "def linear(m, theta):\n",
    "    w = theta\n",
    "    return m.dot(w)\n",
    "def log_softmax(x):\n",
    "    e_x = np.exp(x - np.max(x))\n",
    "    return np.log(e_x / e_x.sum())"
   ]
  },
  {
   "cell_type": "code",
   "execution_count": 21,
   "metadata": {},
   "outputs": [],
   "source": [
    "def forward(context_idxs, theta):\n",
    "    m = embeddings[context_idxs].reshape(1, -1)\n",
    "    n = linear(m, theta)\n",
    "    o = log_softmax(n)\n",
    "    \n",
    "    return m, n, o"
   ]
  },
  {
   "cell_type": "code",
   "execution_count": 22,
   "metadata": {},
   "outputs": [],
   "source": [
    "theta = np.random.uniform(-1, 1, (2 * context_size * embed_dim, vocab_size))"
   ]
  },
  {
   "cell_type": "code",
   "execution_count": 23,
   "metadata": {},
   "outputs": [],
   "source": [
    "import numpy as np\n",
    "for context, target in data:\n",
    "        context_idxs = np.array([word_to_ix[w] for w in context])\n",
    "        \n",
    "        preds = forward(context_idxs, theta)\n",
    "        break"
   ]
  },
  {
   "cell_type": "code",
   "execution_count": 14,
   "metadata": {},
   "outputs": [
    {
     "data": {
      "text/plain": [
       "array([22, 23, 27, 24])"
      ]
     },
     "execution_count": 14,
     "metadata": {},
     "output_type": "execute_result"
    }
   ],
   "source": [
    "context_idxs"
   ]
  },
  {
   "cell_type": "code",
   "execution_count": 26,
   "metadata": {},
   "outputs": [
    {
     "data": {
      "text/plain": [
       "(1, 40)"
      ]
     },
     "execution_count": 26,
     "metadata": {},
     "output_type": "execute_result"
    }
   ],
   "source": [
    "preds[0].shape"
   ]
  },
  {
   "cell_type": "code",
   "execution_count": null,
   "metadata": {},
   "outputs": [],
   "source": []
  }
 ],
 "metadata": {
  "kernelspec": {
   "display_name": "Python 3",
   "language": "python",
   "name": "python3"
  },
  "language_info": {
   "codemirror_mode": {
    "name": "ipython",
    "version": 3
   },
   "file_extension": ".py",
   "mimetype": "text/x-python",
   "name": "python",
   "nbconvert_exporter": "python",
   "pygments_lexer": "ipython3",
   "version": "3.10.4"
  },
  "orig_nbformat": 4,
  "vscode": {
   "interpreter": {
    "hash": "c81d839d3c4227cd770621df97fe8191838af02e7eef185a922d8250cb33d344"
   }
  }
 },
 "nbformat": 4,
 "nbformat_minor": 2
}
