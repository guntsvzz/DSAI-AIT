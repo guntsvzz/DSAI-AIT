{
 "cells": [
  {
   "cell_type": "markdown",
   "metadata": {
    "id": "SBamoUTEp67H"
   },
   "source": [
    "# Code generation\n",
    "\n",
    "Up until now, we’ve mostly been using pretrained models and fine-tuning them for new use cases by reusing the weights from pretraining. This is commonly referred to as transfer learning, and it’s a very successful strategy for applying Transformer models to most real-world use cases where labeled data is sparse. In this chapter, we’ll take a different approach and train a completely new model from scratch. This is a good approach to take if you have a lot of data and it is very different from the pretraining data used for the available models. However, it also requires considerably more compute resources to pretrain a language model than just to fine-tune an existing one. Examples where it can make sense to train a new model include for datasets consisting of musical notes, molecular sequences such as DNA, or programming languages. The latter have recently gained traction thanks to tools such as TabNine and GitHub’s Copilot, powered by OpenAI’s Codex model, that can generate long sequences of code. This task of text generation is best addressed with auto-regressive or causal language models such as GPT-2.\n",
    "\n",
    "In this section we will build a scaled-down version of a code generation model: we’ll focus on one-line completions instead of full functions or classes, using a subset of Python code. When working with data in Python you are in frequent contact with the Python data science stack, consisting of the `matplotlib`, `seaborn`, `pandas`, and `scikit-learn` libraries. When using those frameworks it’s common to need to look up specific commands, so it would be nice if we could use a model to complete these calls for us."
   ]
  },
  {
   "cell_type": "markdown",
   "metadata": {},
   "source": [
    "## 1. Load the data\n",
    "\n",
    "Python code is abundantly available from code repositories such as GitHub, which we can use to create a dataset by scraping for every Python repository. This was the approach taken in the Transformers textbook to pretrain a large GPT-2 model. Using a GitHub dump of about 180 GB containing roughly 20 million Python files called `codeparrot`, the authors built a dataset that they then shared on the Hugging Face Hub.\n",
    "\n",
    "### The Codeparrot dataset\n",
    "\n",
    "However, training on the full corpus is time- and compute-consuming, and we only need the subset of the dataset concerned with the Python data science stack. So, let’s start by filtering the `codeparrot` dataset for all files that include any of the libraries in this stack. Because of the dataset’s size, we want to avoid downloading it; instead, we’ll use the streaming feature to filter it on the fly. To help us filter the code samples using the libraries we mentioned earlier, we’ll use the following function:"
   ]
  },
  {
   "cell_type": "code",
   "execution_count": 1,
   "metadata": {
    "id": "2BQ8iG0Qp67Q"
   },
   "outputs": [],
   "source": [
    "def any_keyword_in_string(string, keywords):\n",
    "    for keyword in keywords:\n",
    "        if keyword in string:\n",
    "            return True\n",
    "    return False"
   ]
  },
  {
   "cell_type": "code",
   "execution_count": 2,
   "metadata": {
    "id": "qnDtjfUTp67Q",
    "outputId": "38858309-cf90-4c6c-866f-8e0c727b2170"
   },
   "outputs": [
    {
     "name": "stdout",
     "output_type": "stream",
     "text": [
      "False True\n"
     ]
    }
   ],
   "source": [
    "filters = [\"pandas\", \"sklearn\", \"matplotlib\", \"seaborn\"]\n",
    "example_1 = \"import numpy as np\"\n",
    "example_2 = \"import pandas as pd\"\n",
    "\n",
    "print(\n",
    "    any_keyword_in_string(example_1, filters), any_keyword_in_string(example_2, filters)\n",
    ")"
   ]
  },
  {
   "cell_type": "markdown",
   "metadata": {},
   "source": [
    "We can use this to create a function that will stream the dataset and filter the elements we want:"
   ]
  },
  {
   "cell_type": "code",
   "execution_count": 3,
   "metadata": {
    "id": "DhDd_f_yp67R"
   },
   "outputs": [],
   "source": [
    "from collections import defaultdict\n",
    "from tqdm import tqdm\n",
    "from datasets import Dataset\n",
    "\n",
    "def filter_streaming_dataset(dataset, filters):\n",
    "    filtered_dict = defaultdict(list)\n",
    "    total = 0\n",
    "    for sample in tqdm(iter(dataset)):\n",
    "        total += 1\n",
    "        if any_keyword_in_string(sample[\"content\"], filters):\n",
    "            for k, v in sample.items():\n",
    "                filtered_dict[k].append(v)\n",
    "    print(f\"{len(filtered_dict['content'])/total:.2%} of data after filtering.\")\n",
    "    return Dataset.from_dict(filtered_dict)"
   ]
  },
  {
   "cell_type": "markdown",
   "metadata": {},
   "source": [
    "Then we can simply apply this function to the streaming dataset:"
   ]
  },
  {
   "cell_type": "code",
   "execution_count": 4,
   "metadata": {
    "id": "EeOINTkXp67S",
    "outputId": "dd34a8b2-9db3-48a8-dcd6-662ae7dffd46"
   },
   "outputs": [],
   "source": [
    "# # This cell will take a very long time to execute, so you should skip it and go the next one!\n",
    "# from datasets import load_dataset\n",
    "\n",
    "# split = \"train\"  # \"valid\"\n",
    "# filters = [\"pandas\", \"sklearn\", \"matplotlib\", \"seaborn\"]\n",
    "\n",
    "# data = load_dataset(f\"transformersbook/codeparrot-{split}\", split=split, streaming=True)\n",
    "# filtered_data = filter_streaming_dataset(data, filters)"
   ]
  },
  {
   "cell_type": "markdown",
   "metadata": {},
   "source": [
    "This leaves us with about 3% of the original dataset, which is still quite sizable — the resulting dataset is 6 GB and consists of 600,000 Python scripts!\n",
    "\n",
    "Filtering the full dataset can take 2-3h depending on your machine and bandwidth. If you don’t want to go through this lengthy process yourself, Hugging face provide the filtered dataset on the Hub for you to download:"
   ]
  },
  {
   "cell_type": "code",
   "execution_count": 5,
   "metadata": {},
   "outputs": [],
   "source": [
    "#comment this if you are not using AIT proxy...\n",
    "import os\n",
    "\n",
    "os.environ['http_proxy']  = 'http://192.41.170.23:3128'\n",
    "os.environ['https_proxy'] = 'http://192.41.170.23:3128'"
   ]
  },
  {
   "cell_type": "code",
   "execution_count": 6,
   "metadata": {
    "id": "_ALreHJyp67T",
    "outputId": "d952d84f-9a09-4a3b-c949-9303011da012"
   },
   "outputs": [
    {
     "name": "stderr",
     "output_type": "stream",
     "text": [
      "Using custom data configuration huggingface-course--codeparrot-ds-train-7e9fc5dfe436a81a\n",
      "Found cached dataset json (/home/chaklams/.cache/huggingface/datasets/huggingface-course___json/huggingface-course--codeparrot-ds-train-7e9fc5dfe436a81a/0.0.0/0f7e3662623656454fcd2b650f34e886a7db4b9104504885bd462096cc7a9f51)\n",
      "Using custom data configuration huggingface-course--codeparrot-ds-valid-65557c3279496c87\n",
      "Found cached dataset json (/home/chaklams/.cache/huggingface/datasets/huggingface-course___json/huggingface-course--codeparrot-ds-valid-65557c3279496c87/0.0.0/0f7e3662623656454fcd2b650f34e886a7db4b9104504885bd462096cc7a9f51)\n"
     ]
    },
    {
     "data": {
      "text/plain": [
       "DatasetDict({\n",
       "    train: Dataset({\n",
       "        features: ['repo_name', 'path', 'copies', 'size', 'content', 'license'],\n",
       "        num_rows: 50000\n",
       "    })\n",
       "    valid: Dataset({\n",
       "        features: ['repo_name', 'path', 'copies', 'size', 'content', 'license'],\n",
       "        num_rows: 500\n",
       "    })\n",
       "})"
      ]
     },
     "execution_count": 6,
     "metadata": {},
     "output_type": "execute_result"
    }
   ],
   "source": [
    "from datasets import load_dataset, DatasetDict\n",
    "\n",
    "ds_train = load_dataset(\"huggingface-course/codeparrot-ds-train\", split=\"train\")\n",
    "ds_valid = load_dataset(\"huggingface-course/codeparrot-ds-valid\", split=\"validation\")\n",
    "\n",
    "#remove .shuffle if you want to train the whole dataset....\n",
    "\n",
    "raw_datasets = DatasetDict(\n",
    "    {\n",
    "        \"train\": ds_train.shuffle().select(range(50000)),\n",
    "        \"valid\": ds_valid.shuffle().select(range(500))\n",
    "    }\n",
    ")\n",
    "\n",
    "raw_datasets"
   ]
  },
  {
   "cell_type": "markdown",
   "metadata": {},
   "source": [
    "Let’s look at an example from the dataset. We’ll just show the first 200 characters of each field:"
   ]
  },
  {
   "cell_type": "code",
   "execution_count": 7,
   "metadata": {
    "id": "YMNsy27Mp67T",
    "outputId": "f9672107-7d32-4df3-89e8-c347433f8f80"
   },
   "outputs": [
    {
     "name": "stdout",
     "output_type": "stream",
     "text": [
      "REPO_NAME: fabioticconi/scikit-learn\n",
      "PATH: sklearn/covariance/__init__.py\n",
      "COPIES: 389\n",
      "SIZE: 1157\n",
      "CONTENT: \"\"\"\n",
      "The :mod:`sklearn.covariance` module includes methods and algorithms to\n",
      "robustly estimate the covariance of features given a set of points. The\n",
      "precision matrix defined as the inverse of the covar\n",
      "LICENSE: bsd-3-clause\n"
     ]
    }
   ],
   "source": [
    "for key in raw_datasets[\"train\"][0]:\n",
    "    print(f\"{key.upper()}: {raw_datasets['train'][0][key][:200]}\")"
   ]
  },
  {
   "cell_type": "markdown",
   "metadata": {},
   "source": [
    "We can see that the content field contains the code that we want our model to train on. Now that we have a dataset, we need to prepare the texts so they’re in a format suitable for pretraining.\n",
    "\n",
    "## 2. Preprocessing\n",
    "\n",
    "The first step will be to tokenize the data, so we can use it for training. Since our goal is to mainly autocomplete short function calls, we can keep the context size relatively small. This has the benefit that we can train the model much faster and it requires significantly less memory. If it is important for your application to have more context (for example, if you want the model to write unit tests based on a file with the function definition), make sure you increase that number, but also keep in mind that this comes with a greater GPU memory footprint. For now, let’s fix the context size at 128 tokens, as opposed to the 1,024 or 2,048 used in GPT-2 or GPT-3, respectively.\n",
    "\n",
    "Most documents contain many more than 128 tokens, so simply truncating the inputs to the maximum length would eliminate a large fraction of our dataset. Instead, we’ll use the `return_overflowing_tokens` option to tokenize the whole input and split it into several chunks. We’ll also use the `return_length` option to return the length of each created chunk automatically. Often the last chunk will be smaller than the context size, and we’ll get rid of these pieces to avoid padding issues; we don’t really need them as we have plenty of data anyway.\n",
    "\n",
    "Let’s see exactly how this works by looking at the first two examples:"
   ]
  },
  {
   "cell_type": "code",
   "execution_count": 8,
   "metadata": {
    "id": "BifnDHGop67U",
    "outputId": "6c8faad9-18e5-43a9-f270-d8a076ac8b22"
   },
   "outputs": [
    {
     "name": "stdout",
     "output_type": "stream",
     "text": [
      "Input IDs length: 54\n",
      "Input chunk lengths: [128, 128, 36, 128, 128, 128, 128, 128, 128, 128, 128, 128, 128, 128, 128, 128, 128, 128, 128, 128, 128, 128, 128, 128, 128, 128, 128, 128, 128, 128, 128, 128, 128, 128, 128, 128, 128, 128, 128, 128, 128, 128, 128, 128, 128, 128, 128, 128, 128, 128, 128, 128, 128, 38]\n",
      "Chunk mapping: [0, 0, 0, 1, 1, 1, 1, 1, 1, 1, 1, 1, 1, 1, 1, 1, 1, 1, 1, 1, 1, 1, 1, 1, 1, 1, 1, 1, 1, 1, 1, 1, 1, 1, 1, 1, 1, 1, 1, 1, 1, 1, 1, 1, 1, 1, 1, 1, 1, 1, 1, 1, 1, 1]\n"
     ]
    }
   ],
   "source": [
    "from transformers import AutoTokenizer\n",
    "\n",
    "context_length = 128\n",
    "tokenizer = AutoTokenizer.from_pretrained(\"huggingface-course/code-search-net-tokenizer\")\n",
    "\n",
    "outputs = tokenizer(\n",
    "    raw_datasets[\"train\"][:2][\"content\"],\n",
    "    truncation=True,\n",
    "    max_length=context_length,\n",
    "    return_overflowing_tokens=True,\n",
    "    return_length=True,\n",
    ")\n",
    "\n",
    "print(f\"Input IDs length: {len(outputs['input_ids'])}\")\n",
    "print(f\"Input chunk lengths: {(outputs['length'])}\")\n",
    "print(f\"Chunk mapping: {outputs['overflow_to_sample_mapping']}\")"
   ]
  },
  {
   "cell_type": "markdown",
   "metadata": {},
   "source": [
    "We can see that we get 34 segments in total from those two examples. Looking at the chunk lengths, we can see that the chunks at the ends of both documents have less than 128 tokens (117 and 41, respectively). These represent just a small fraction of the total chunks that we have, so we can safely throw them away. With the `overflow_to_sample_mapping` field, we can also reconstruct which chunks belonged to which input samples.\n",
    "\n",
    "With this operation we’re using a handy feature of the `Dataset.map()` function in 🤗 Datasets, which is that it does not require one-to-one maps; we can create batches with more or fewer elements than the input batch. This is useful when doing operations like data augmentation or data filtering that change the number of elements. In our case, when tokenizing each element into chunks of the specified context size, we create many samples from each document. We just need to make sure to delete the existing columns, since they have a conflicting size. If we wanted to keep them, we could repeat them appropriately and return them within the `Dataset.map()` call:"
   ]
  },
  {
   "cell_type": "code",
   "execution_count": 9,
   "metadata": {
    "id": "-S15YDcYp67U",
    "outputId": "ddc3c276-3964-4339-cb58-c168afdf6719"
   },
   "outputs": [
    {
     "data": {
      "application/vnd.jupyter.widget-view+json": {
       "model_id": "881fd3a61eb84df4b7d7feb445c1d1af",
       "version_major": 2,
       "version_minor": 0
      },
      "text/plain": [
       "  0%|          | 0/50 [00:00<?, ?ba/s]"
      ]
     },
     "metadata": {},
     "output_type": "display_data"
    },
    {
     "data": {
      "application/vnd.jupyter.widget-view+json": {
       "model_id": "34007485df3341e08306bca1a63677b5",
       "version_major": 2,
       "version_minor": 0
      },
      "text/plain": [
       "  0%|          | 0/1 [00:00<?, ?ba/s]"
      ]
     },
     "metadata": {},
     "output_type": "display_data"
    },
    {
     "data": {
      "text/plain": [
       "DatasetDict({\n",
       "    train: Dataset({\n",
       "        features: ['input_ids'],\n",
       "        num_rows: 1378982\n",
       "    })\n",
       "    valid: Dataset({\n",
       "        features: ['input_ids'],\n",
       "        num_rows: 15591\n",
       "    })\n",
       "})"
      ]
     },
     "execution_count": 9,
     "metadata": {},
     "output_type": "execute_result"
    }
   ],
   "source": [
    "def tokenize(element):\n",
    "    outputs = tokenizer(\n",
    "        element[\"content\"],\n",
    "        truncation=True,\n",
    "        max_length=context_length,\n",
    "        return_overflowing_tokens=True,\n",
    "        return_length=True,\n",
    "    )\n",
    "    input_batch = []\n",
    "    for length, input_ids in zip(outputs[\"length\"], outputs[\"input_ids\"]):\n",
    "        if length == context_length:\n",
    "            input_batch.append(input_ids)\n",
    "    return {\"input_ids\": input_batch}\n",
    "\n",
    "\n",
    "tokenized_datasets = raw_datasets.map(\n",
    "    tokenize, batched=True, remove_columns=raw_datasets[\"train\"].column_names\n",
    ")\n",
    "tokenized_datasets"
   ]
  },
  {
   "cell_type": "markdown",
   "metadata": {},
   "source": [
    "We now have 16.7 million examples with 128 tokens each, which corresponds to about 2.1 billion tokens in total. For reference, OpenAI’s GPT-3 and Codex models are trained on 300 and 100 billion tokens, respectively, where the Codex models are initialized from the GPT-3 checkpoints. Our goal in this section is not to compete with these models, which can generate long, coherent texts, but to create a scaled-down version providing a quick autocomplete function for data scientists.\n",
    "\n",
    "Now that we have the dataset ready, let’s set up the model!"
   ]
  },
  {
   "cell_type": "markdown",
   "metadata": {},
   "source": [
    "## 3. Model\n",
    "\n",
    "Our first step is to freshly initialize a GPT-2 model. We’ll use the same configuration for our model as for the small GPT-2 model, so we load the pretrained configuration, make sure that the tokenizer size matches the model vocabulary size and pass the bos and eos (beginning and end of sequence) token IDs:"
   ]
  },
  {
   "cell_type": "code",
   "execution_count": 10,
   "metadata": {
    "id": "eo49fNk6p67V"
   },
   "outputs": [],
   "source": [
    "from transformers import AutoTokenizer, GPT2LMHeadModel, AutoConfig\n",
    "\n",
    "config = AutoConfig.from_pretrained(\n",
    "    \"gpt2\",\n",
    "    vocab_size=len(tokenizer),\n",
    "    n_ctx=context_length,\n",
    "    bos_token_id=tokenizer.bos_token_id,\n",
    "    eos_token_id=tokenizer.eos_token_id,\n",
    ")"
   ]
  },
  {
   "cell_type": "markdown",
   "metadata": {},
   "source": [
    "With that configuration, we can load a new model. Note that this is the first time we don’t use the `from_pretrained()` function, since we’re actually initializing a model ourself:"
   ]
  },
  {
   "cell_type": "code",
   "execution_count": 11,
   "metadata": {
    "id": "1hgAa8tNp67W",
    "outputId": "4eedd23e-3f6c-4cb2-beda-04d78c6f5551"
   },
   "outputs": [
    {
     "name": "stdout",
     "output_type": "stream",
     "text": [
      "GPT-2 size: 124.2M parameters\n"
     ]
    }
   ],
   "source": [
    "model = GPT2LMHeadModel(config)\n",
    "model_size = sum(t.numel() for t in model.parameters())\n",
    "print(f\"GPT-2 size: {model_size/1000**2:.1f}M parameters\")"
   ]
  },
  {
   "cell_type": "markdown",
   "metadata": {},
   "source": [
    "### Keywords\n",
    "\n",
    "Since we are mainly interested in sensible autocompletion for the the data science libraries, it makes sense to give more weight to training samples that make more use of these libraries. We can easily identify these examples through the use of keywords such as plt, pd, sk, fit, and predict, which are the most frequent import names for `matplotlib.pyplot`, `panda`s, and `sklearn` as well as the fit/predict pattern of the latter. If these are each represented as a single token, we can easily check if they occur in the input sequence. Tokens can have a whitespace prefix, so we’ll also check for those versions in the tokenizer vocabulary. To verify that it works, we’ll add one test token which should be split into multiple tokens:"
   ]
  },
  {
   "cell_type": "code",
   "execution_count": 12,
   "metadata": {
    "id": "kwGB9Xabp67a",
    "outputId": "ea971a13-14ca-4a21-f9d3-446660dd1803"
   },
   "outputs": [
    {
     "name": "stdout",
     "output_type": "stream",
     "text": [
      "Keyword has not single token: testtest\n"
     ]
    }
   ],
   "source": [
    "keytoken_ids = []\n",
    "for keyword in [\n",
    "    \"plt\",\n",
    "    \"pd\",\n",
    "    \"sk\",\n",
    "    \"fit\",\n",
    "    \"predict\",\n",
    "    \" plt\",\n",
    "    \" pd\",\n",
    "    \" sk\",\n",
    "    \" fit\",\n",
    "    \" predict\",\n",
    "    \"testtest\",\n",
    "]:\n",
    "    ids = tokenizer([keyword]).input_ids[0]\n",
    "    if len(ids) == 1:\n",
    "        keytoken_ids.append(ids[0])\n",
    "    else:\n",
    "        print(f\"Keyword has not single token: {keyword}\")"
   ]
  },
  {
   "cell_type": "markdown",
   "metadata": {},
   "source": [
    "### Loss\n",
    "\n",
    "Great, that seems to work nicely! We can now write a custom loss function that takes the input sequence, the logits, and the key tokens we just selected as inputs. First we need to align the logits and inputs: the input sequence shifted by one to the right forms the labels, since the next token is the label for the current token. We can achieve this by starting the labels from the second token of the input sequence, since the model does not make a prediction for the first token anyway. Then we cut off the last logit, as we don’t have a label for the token that follows the full input sequence. With that we can compute the loss per sample and count the occurrences of all keywords in each sample. Finally, we calculate the weighted average over all samples using the occurrences as weights. Since we don’t want to throw away all the samples that have no keywords, we add 1 to the weights:"
   ]
  },
  {
   "cell_type": "code",
   "execution_count": 13,
   "metadata": {
    "id": "VSpqoZMCp67b"
   },
   "outputs": [],
   "source": [
    "from torch.nn import CrossEntropyLoss\n",
    "import torch\n",
    "\n",
    "def keytoken_weighted_loss(inputs, logits, keytoken_ids, alpha=1.0):\n",
    "    # Shift so that tokens < n predict n\n",
    "    shift_labels = inputs[..., 1:].contiguous()\n",
    "    shift_logits = logits[..., :-1, :].contiguous()\n",
    "    # Calculate per-token loss\n",
    "    loss_fct = CrossEntropyLoss(reduce=False) #change to reduction=None\n",
    "    loss = loss_fct(shift_logits.view(-1, shift_logits.size(-1)), shift_labels.view(-1))\n",
    "    # Resize and average loss per sample\n",
    "    loss_per_sample = loss.view(shift_logits.size(0), shift_logits.size(1)).mean(axis=1)\n",
    "    # Calculate and scale weighting\n",
    "    weights = torch.stack([(inputs == kt).float() for kt in keytoken_ids]).sum(\n",
    "        axis=[0, 2]\n",
    "    )\n",
    "    weights = alpha * (1.0 + weights)\n",
    "    # Calculate weighted average\n",
    "    weighted_loss = (loss_per_sample * weights).mean()\n",
    "    return weighted_loss"
   ]
  },
  {
   "cell_type": "markdown",
   "metadata": {},
   "source": [
    "### Dataloaders"
   ]
  },
  {
   "cell_type": "code",
   "execution_count": 14,
   "metadata": {
    "id": "kLGhcK4yp67b"
   },
   "outputs": [],
   "source": [
    "from torch.utils.data.dataloader import DataLoader\n",
    "\n",
    "tokenized_datasets.set_format(\"torch\")\n",
    "train_dataloader = DataLoader(tokenized_datasets[\"train\"], batch_size=32, shuffle=True)\n",
    "eval_dataloader  = DataLoader(tokenized_datasets[\"valid\"], batch_size=32)"
   ]
  },
  {
   "cell_type": "markdown",
   "metadata": {},
   "source": [
    "### Optimizer\n",
    "\n",
    "Next, we group the parameters so that the optimizer knows which ones will get an additional weight decay. Usually, all bias and LayerNorm weights terms are exempt from this; here’s how we can do this:"
   ]
  },
  {
   "cell_type": "code",
   "execution_count": 15,
   "metadata": {
    "id": "Fp7E48B0p67c"
   },
   "outputs": [],
   "source": [
    "weight_decay = 0.1\n",
    "\n",
    "\n",
    "def get_grouped_params(model, no_decay=[\"bias\", \"LayerNorm.weight\"]):\n",
    "    params_with_wd, params_without_wd = [], []\n",
    "    for n, p in model.named_parameters():\n",
    "        if any(nd in n for nd in no_decay):\n",
    "            params_without_wd.append(p)\n",
    "        else:\n",
    "            params_with_wd.append(p)\n",
    "    return [\n",
    "        {\"params\": params_with_wd, \"weight_decay\": weight_decay},\n",
    "        {\"params\": params_without_wd, \"weight_decay\": 0.0},\n",
    "    ]"
   ]
  },
  {
   "cell_type": "markdown",
   "metadata": {},
   "source": [
    "Since we want to evaluate the model regularly on the validation set during training, let’s write a function for that as well. It just runs through the evaluation dataloader and gathers all the losses across processes:"
   ]
  },
  {
   "cell_type": "code",
   "execution_count": 16,
   "metadata": {
    "id": "-mZ3kzqQp67d"
   },
   "outputs": [],
   "source": [
    "def evaluate():\n",
    "    model.eval()\n",
    "    losses = []\n",
    "    for step, batch in enumerate(eval_dataloader):\n",
    "        with torch.no_grad():\n",
    "            outputs = model(batch[\"input_ids\"], labels=batch[\"input_ids\"])\n",
    "            outputs.loss = outputs.loss.reshape(1)\n",
    "        losses.append(accelerator.gather(outputs.loss))        \n",
    "    loss = torch.mean(torch.cat(losses))\n",
    "    try:\n",
    "        perplexity = torch.exp(loss)\n",
    "    except OverflowError:\n",
    "        perplexity = float(\"inf\")\n",
    "    return loss.item(), perplexity.item()"
   ]
  },
  {
   "cell_type": "markdown",
   "metadata": {},
   "source": [
    "With the `evaluate()` function we can report loss and perplexity at regular intervals. Next, we redefine our model to make sure we train from scratch again:"
   ]
  },
  {
   "cell_type": "code",
   "execution_count": 17,
   "metadata": {
    "id": "OOYLAotjp67e"
   },
   "outputs": [],
   "source": [
    "model = GPT2LMHeadModel(config)"
   ]
  },
  {
   "cell_type": "markdown",
   "metadata": {},
   "source": [
    "We can then define our optimizer, using the function from before to split the parameters for weight decay:"
   ]
  },
  {
   "cell_type": "code",
   "execution_count": 18,
   "metadata": {
    "id": "6EAy-kL2p67f"
   },
   "outputs": [],
   "source": [
    "from torch.optim import AdamW\n",
    "\n",
    "optimizer = AdamW(get_grouped_params(model), lr=5e-4)"
   ]
  },
  {
   "cell_type": "markdown",
   "metadata": {},
   "source": [
    "### Accelerator\n",
    "\n",
    "Now let’s prepare the model, optimizer, and dataloaders so we can start training:"
   ]
  },
  {
   "cell_type": "code",
   "execution_count": 19,
   "metadata": {
    "id": "PQebuY7Np67g"
   },
   "outputs": [],
   "source": [
    "from accelerate import Accelerator\n",
    "\n",
    "accelerator = Accelerator(mixed_precision='fp16')\n",
    "\n",
    "model, optimizer, train_dataloader, eval_dataloader = accelerator.prepare(\n",
    "    model, optimizer, train_dataloader, eval_dataloader\n",
    ")"
   ]
  },
  {
   "cell_type": "markdown",
   "metadata": {},
   "source": [
    "Now that we have sent our `train_dataloader` to `accelerator.prepare()`, we can use its length to compute the number of training steps. Remember that we should always do this after preparing the dataloader, as that method will change its length. We use a classic linear schedule from the learning rate to 0:"
   ]
  },
  {
   "cell_type": "code",
   "execution_count": 20,
   "metadata": {
    "id": "4xfHmYD8p67g"
   },
   "outputs": [],
   "source": [
    "from transformers import get_scheduler\n",
    "\n",
    "num_train_epochs = 1\n",
    "num_update_steps_per_epoch = len(train_dataloader)\n",
    "num_training_steps = num_train_epochs * num_update_steps_per_epoch\n",
    "\n",
    "lr_scheduler = get_scheduler(\n",
    "    name=\"linear\",\n",
    "    optimizer=optimizer,\n",
    "    num_warmup_steps=1_000,\n",
    "    num_training_steps=num_training_steps,\n",
    ")"
   ]
  },
  {
   "cell_type": "markdown",
   "metadata": {},
   "source": [
    "### Repository\n",
    "\n",
    "Lastly, to push our model to the Hub, we will need to create a `Repository` object in a working folder. First log in to the Hugging Face Hub, if you aren’t logged in already. We’ll determine the repository name from the model ID we want to give our model (feel free to replace the repo_name with your own choice; it just needs to contain your username, which is what the function `get_full_repo_name()` does):"
   ]
  },
  {
   "cell_type": "code",
   "execution_count": 21,
   "metadata": {
    "id": "WEdmDLsrp67X"
   },
   "outputs": [
    {
     "data": {
      "application/vnd.jupyter.widget-view+json": {
       "model_id": "b1ce3fd1b8ba4468805a3840c9622c10",
       "version_major": 2,
       "version_minor": 0
      },
      "text/plain": [
       "VBox(children=(HTML(value='<center> <img\\nsrc=https://huggingface.co/front/assets/huggingface_logo-noborder.sv…"
      ]
     },
     "metadata": {},
     "output_type": "display_data"
    }
   ],
   "source": [
    "from huggingface_hub import notebook_login\n",
    "\n",
    "notebook_login()"
   ]
  },
  {
   "cell_type": "code",
   "execution_count": 22,
   "metadata": {
    "id": "WTYUZa1Vp67h",
    "outputId": "5ff09515-4caf-4d44-9b7f-eeac319941ba"
   },
   "outputs": [
    {
     "data": {
      "text/plain": [
       "'Chaklam/codeparrot-ds-accelerate'"
      ]
     },
     "execution_count": 22,
     "metadata": {},
     "output_type": "execute_result"
    }
   ],
   "source": [
    "from huggingface_hub import Repository, get_full_repo_name\n",
    "\n",
    "model_name = \"codeparrot-ds-accelerate\"\n",
    "repo_name = get_full_repo_name(model_name)\n",
    "repo_name"
   ]
  },
  {
   "cell_type": "markdown",
   "metadata": {},
   "source": [
    "Then we can clone that repository in a local folder. If it already exists, this local folder should be an existing clone of the repository we are working with:"
   ]
  },
  {
   "cell_type": "code",
   "execution_count": 23,
   "metadata": {
    "id": "Cfs-aNVgp67h"
   },
   "outputs": [
    {
     "name": "stderr",
     "output_type": "stream",
     "text": [
      "/home/chaklams/NLP/Huggingface/Case studies/codeparrot-ds-accelerate is already a clone of https://huggingface.co/Chaklam/codeparrot-ds-accelerate. Make sure you pull the latest changes with `repo.git_pull()`.\n"
     ]
    }
   ],
   "source": [
    "os.environ[\"TOKENIZERS_PARALLELISM\"] = \"true\"\n",
    "\n",
    "output_dir = \"codeparrot-ds-accelerate\"\n",
    "repo = Repository(output_dir, clone_from=repo_name)"
   ]
  },
  {
   "cell_type": "markdown",
   "metadata": {},
   "source": [
    "We can now upload anything we save in `output_dir` by calling the `repo.push_to_hub()` method. This will help us upload the intermediate models at the end of each epoch.\n",
    "\n",
    "## 5. Training\n",
    "\n",
    "Before we train, let’s run a quick test to see if the evaluation function works properly:"
   ]
  },
  {
   "cell_type": "code",
   "execution_count": 24,
   "metadata": {
    "id": "hjbLZI12p67i",
    "outputId": "cf340db0-db72-433b-8027-d141d50074a1"
   },
   "outputs": [
    {
     "data": {
      "text/plain": [
       "(10.986104965209961, 59047.94140625)"
      ]
     },
     "execution_count": 24,
     "metadata": {},
     "output_type": "execute_result"
    }
   ],
   "source": [
    "evaluate()"
   ]
  },
  {
   "cell_type": "markdown",
   "metadata": {},
   "source": [
    "Those are very high values for loss and perplexity, but that’s not surprising as we haven’t trained the model yet. With that, we have everything prepared to write the core part of the training script: the training loop. In the training loop we iterate over the dataloader and pass the batches to the model. With the logits, we can then evaluate our custom loss function. We scale the loss by the number of gradient accumulation steps so as not to create larger losses when aggregating more steps. Before we optimize, we also clip the gradients for better convergence. Finally, every few steps we evaluate the model on the evaluation set with our new `evaluate()` function:"
   ]
  },
  {
   "cell_type": "code",
   "execution_count": 25,
   "metadata": {
    "id": "FUqnaEOwp67i"
   },
   "outputs": [
    {
     "data": {
      "application/vnd.jupyter.widget-view+json": {
       "model_id": "18f02740d93e4f6399e7974d3ee0165e",
       "version_major": 2,
       "version_minor": 0
      },
      "text/plain": [
       "  0%|          | 0/43094 [00:00<?, ?it/s]"
      ]
     },
     "metadata": {},
     "output_type": "display_data"
    },
    {
     "name": "stderr",
     "output_type": "stream",
     "text": [
      "/home/chaklams/.local/lib/python3.8/site-packages/torch/nn/_reduction.py:42: UserWarning: size_average and reduce args will be deprecated, please use reduction='none' instead.\n",
      "  warnings.warn(warning.format(ret))\n"
     ]
    },
    {
     "name": "stdout",
     "output_type": "stream",
     "text": [
      "{'steps': 12, 'loss/train': 117.36778259277344}\n",
      "{'steps': 24, 'loss/train': 118.7428207397461}\n",
      "{'steps': 37, 'loss/train': 158.66204833984375}\n",
      "{'steps': 49, 'loss/train': 98.00265502929688}\n",
      "{'steps': 62, 'loss/train': 108.23692321777344}\n",
      "{'steps': 74, 'loss/train': 94.67671203613281}\n",
      "{'steps': 87, 'loss/train': 72.48423767089844}\n",
      "{'steps': 99, 'loss/train': 71.55233001708984}\n",
      "{'steps': 112, 'loss/train': 94.02587890625}\n",
      "{'steps': 124, 'loss/train': 55.80986022949219}\n",
      "{'steps': 137, 'loss/train': 81.256103515625}\n",
      "{'steps': 149, 'loss/train': 66.40731811523438}\n",
      "{'steps': 162, 'loss/train': 59.08259582519531}\n",
      "{'steps': 174, 'loss/train': 54.9774169921875}\n",
      "{'steps': 187, 'loss/train': 59.98090362548828}\n",
      "{'steps': 199, 'loss/train': 54.915260314941406}\n",
      "{'steps': 212, 'loss/train': 67.92791748046875}\n",
      "{'steps': 224, 'loss/train': 54.714393615722656}\n",
      "{'steps': 237, 'loss/train': 54.490562438964844}\n",
      "{'steps': 249, 'loss/train': 57.40912628173828}\n",
      "{'steps': 262, 'loss/train': 51.72538757324219}\n",
      "{'steps': 274, 'loss/train': 51.92652130126953}\n",
      "{'steps': 287, 'loss/train': 59.38823699951172}\n",
      "{'steps': 299, 'loss/train': 48.68428039550781}\n",
      "{'steps': 312, 'loss/train': 47.79670333862305}\n",
      "{'steps': 324, 'loss/train': 50.78875732421875}\n",
      "{'steps': 337, 'loss/train': 43.8988151550293}\n",
      "{'steps': 349, 'loss/train': 60.746116638183594}\n",
      "{'steps': 362, 'loss/train': 57.47809600830078}\n",
      "{'steps': 374, 'loss/train': 53.074195861816406}\n",
      "{'steps': 387, 'loss/train': 45.525699615478516}\n",
      "{'steps': 399, 'loss/train': 48.34891128540039}\n",
      "{'steps': 412, 'loss/train': 50.251434326171875}\n",
      "{'steps': 424, 'loss/train': 58.90264892578125}\n",
      "{'steps': 437, 'loss/train': 39.516334533691406}\n",
      "{'steps': 449, 'loss/train': 44.62190628051758}\n",
      "{'steps': 462, 'loss/train': 51.52571487426758}\n",
      "{'steps': 474, 'loss/train': 37.94131088256836}\n",
      "{'steps': 487, 'loss/train': 39.90016174316406}\n",
      "{'steps': 499, 'loss/train': 46.25041961669922}\n",
      "{'steps': 512, 'loss/train': 49.126121520996094}\n",
      "{'steps': 524, 'loss/train': 39.26085662841797}\n",
      "{'steps': 537, 'loss/train': 37.27091979980469}\n",
      "{'steps': 549, 'loss/train': 41.508663177490234}\n",
      "{'steps': 562, 'loss/train': 42.811279296875}\n",
      "{'steps': 574, 'loss/train': 37.06730651855469}\n",
      "{'steps': 587, 'loss/train': 39.320125579833984}\n",
      "{'steps': 599, 'loss/train': 37.6624755859375}\n",
      "{'steps': 612, 'loss/train': 40.741031646728516}\n",
      "{'steps': 624, 'loss/train': 41.03688049316406}\n",
      "{'steps': 637, 'loss/train': 37.512454986572266}\n",
      "{'steps': 649, 'loss/train': 33.19443130493164}\n",
      "{'steps': 662, 'loss/train': 40.84016799926758}\n",
      "{'steps': 674, 'loss/train': 37.00569152832031}\n",
      "{'steps': 687, 'loss/train': 30.827667236328125}\n",
      "{'steps': 699, 'loss/train': 50.413360595703125}\n",
      "{'steps': 712, 'loss/train': 49.505821228027344}\n",
      "{'steps': 724, 'loss/train': 37.0533332824707}\n",
      "{'steps': 737, 'loss/train': 32.021400451660156}\n",
      "{'steps': 749, 'loss/train': 34.31147766113281}\n",
      "{'steps': 762, 'loss/train': 33.129920959472656}\n",
      "{'steps': 774, 'loss/train': 44.97466278076172}\n",
      "{'steps': 787, 'loss/train': 32.30278396606445}\n",
      "{'steps': 799, 'loss/train': 43.251373291015625}\n",
      "{'steps': 812, 'loss/train': 26.20859146118164}\n",
      "{'steps': 824, 'loss/train': 30.78853988647461}\n",
      "{'steps': 837, 'loss/train': 33.0854377746582}\n",
      "{'steps': 849, 'loss/train': 29.327377319335938}\n",
      "{'steps': 862, 'loss/train': 32.93120574951172}\n",
      "{'steps': 874, 'loss/train': 33.17713928222656}\n",
      "{'steps': 887, 'loss/train': 30.348697662353516}\n",
      "{'steps': 899, 'loss/train': 34.968013763427734}\n",
      "{'steps': 912, 'loss/train': 32.49985885620117}\n",
      "{'steps': 924, 'loss/train': 37.10100555419922}\n",
      "{'steps': 937, 'loss/train': 31.99162483215332}\n",
      "{'steps': 949, 'loss/train': 28.124774932861328}\n",
      "{'steps': 962, 'loss/train': 34.09712600708008}\n",
      "{'steps': 974, 'loss/train': 32.25476837158203}\n",
      "{'steps': 987, 'loss/train': 28.670106887817383}\n",
      "{'steps': 999, 'loss/train': 28.69034194946289}\n",
      "{'steps': 1012, 'loss/train': 37.50104904174805}\n",
      "{'steps': 1024, 'loss/train': 31.09092140197754}\n",
      "{'steps': 1037, 'loss/train': 29.87877082824707}\n",
      "{'steps': 1049, 'loss/train': 30.490976333618164}\n",
      "{'steps': 1062, 'loss/train': 31.60746192932129}\n",
      "{'steps': 1074, 'loss/train': 33.73052978515625}\n",
      "{'steps': 1087, 'loss/train': 29.5123348236084}\n",
      "{'steps': 1099, 'loss/train': 31.20482635498047}\n",
      "{'steps': 1112, 'loss/train': 38.418304443359375}\n",
      "{'steps': 1124, 'loss/train': 27.481216430664062}\n",
      "{'steps': 1137, 'loss/train': 41.95499038696289}\n",
      "{'steps': 1149, 'loss/train': 27.04640007019043}\n",
      "{'steps': 1162, 'loss/train': 28.874649047851562}\n",
      "{'steps': 1174, 'loss/train': 26.697599411010742}\n",
      "{'steps': 1187, 'loss/train': 30.961265563964844}\n",
      "{'steps': 1199, 'loss/train': 31.462736129760742}\n",
      "{'steps': 1212, 'loss/train': 32.210384368896484}\n",
      "{'steps': 1224, 'loss/train': 32.716392517089844}\n",
      "{'steps': 1237, 'loss/train': 30.511062622070312}\n",
      "{'steps': 1249, 'loss/train': 28.71982765197754}\n",
      "{'steps': 1262, 'loss/train': 36.05143356323242}\n",
      "{'steps': 1274, 'loss/train': 24.19877052307129}\n",
      "{'steps': 1287, 'loss/train': 26.294414520263672}\n",
      "{'steps': 1299, 'loss/train': 30.058042526245117}\n",
      "{'steps': 1312, 'loss/train': 29.669490814208984}\n",
      "{'steps': 1324, 'loss/train': 33.34059524536133}\n",
      "{'steps': 1337, 'loss/train': 30.040878295898438}\n",
      "{'steps': 1349, 'loss/train': 32.79996871948242}\n",
      "{'steps': 1362, 'loss/train': 31.929763793945312}\n",
      "{'steps': 1374, 'loss/train': 30.637304306030273}\n",
      "{'steps': 1387, 'loss/train': 24.44971466064453}\n",
      "{'steps': 1399, 'loss/train': 28.072368621826172}\n",
      "{'steps': 1412, 'loss/train': 27.853792190551758}\n",
      "{'steps': 1424, 'loss/train': 26.617212295532227}\n",
      "{'steps': 1437, 'loss/train': 26.999671936035156}\n",
      "{'steps': 1449, 'loss/train': 23.120773315429688}\n",
      "{'steps': 1462, 'loss/train': 27.123573303222656}\n",
      "{'steps': 1474, 'loss/train': 27.110612869262695}\n",
      "{'steps': 1487, 'loss/train': 20.127294540405273}\n",
      "{'steps': 1499, 'loss/train': 27.942941665649414}\n",
      "{'steps': 1512, 'loss/train': 27.980066299438477}\n",
      "{'steps': 1524, 'loss/train': 30.955106735229492}\n",
      "{'steps': 1537, 'loss/train': 30.575754165649414}\n",
      "{'steps': 1549, 'loss/train': 33.039695739746094}\n",
      "{'steps': 1562, 'loss/train': 27.32052993774414}\n",
      "{'steps': 1574, 'loss/train': 23.613990783691406}\n",
      "{'steps': 1587, 'loss/train': 33.010643005371094}\n",
      "{'steps': 1599, 'loss/train': 30.055511474609375}\n",
      "{'steps': 1612, 'loss/train': 32.83677673339844}\n",
      "{'steps': 1624, 'loss/train': 23.466259002685547}\n",
      "{'steps': 1637, 'loss/train': 25.144752502441406}\n",
      "{'steps': 1649, 'loss/train': 22.75186538696289}\n",
      "{'steps': 1662, 'loss/train': 31.989347457885742}\n",
      "{'steps': 1674, 'loss/train': 31.511451721191406}\n",
      "{'steps': 1687, 'loss/train': 28.031688690185547}\n",
      "{'steps': 1699, 'loss/train': 24.419597625732422}\n",
      "{'steps': 1712, 'loss/train': 30.71640968322754}\n",
      "{'steps': 1724, 'loss/train': 22.246715545654297}\n",
      "{'steps': 1737, 'loss/train': 30.320789337158203}\n",
      "{'steps': 1749, 'loss/train': 25.494937896728516}\n",
      "{'steps': 1762, 'loss/train': 26.34246826171875}\n",
      "{'steps': 1774, 'loss/train': 32.21684265136719}\n",
      "{'steps': 1787, 'loss/train': 25.78061294555664}\n",
      "{'steps': 1799, 'loss/train': 19.476428985595703}\n",
      "{'steps': 1812, 'loss/train': 31.833356857299805}\n",
      "{'steps': 1824, 'loss/train': 31.04962921142578}\n",
      "{'steps': 1837, 'loss/train': 25.096559524536133}\n",
      "{'steps': 1849, 'loss/train': 26.97623062133789}\n",
      "{'steps': 1862, 'loss/train': 22.131359100341797}\n",
      "{'steps': 1874, 'loss/train': 26.065475463867188}\n",
      "{'steps': 1887, 'loss/train': 24.500314712524414}\n",
      "{'steps': 1899, 'loss/train': 23.482709884643555}\n",
      "{'steps': 1912, 'loss/train': 28.55696678161621}\n",
      "{'steps': 1924, 'loss/train': 24.43035125732422}\n",
      "{'steps': 1937, 'loss/train': 26.938190460205078}\n",
      "{'steps': 1949, 'loss/train': 28.351207733154297}\n",
      "{'steps': 1962, 'loss/train': 20.16593360900879}\n",
      "{'steps': 1974, 'loss/train': 21.500926971435547}\n",
      "{'steps': 1987, 'loss/train': 27.3513240814209}\n",
      "{'steps': 1999, 'loss/train': 21.254348754882812}\n",
      "{'steps': 2012, 'loss/train': 29.09121322631836}\n",
      "{'steps': 2024, 'loss/train': 21.891311645507812}\n",
      "{'steps': 2037, 'loss/train': 27.39670181274414}\n",
      "{'steps': 2049, 'loss/train': 24.48271942138672}\n",
      "{'steps': 2062, 'loss/train': 21.226171493530273}\n",
      "{'steps': 2074, 'loss/train': 22.450410842895508}\n",
      "{'steps': 2087, 'loss/train': 21.68086051940918}\n",
      "{'steps': 2099, 'loss/train': 24.44041633605957}\n",
      "{'steps': 2112, 'loss/train': 24.882396697998047}\n",
      "{'steps': 2124, 'loss/train': 20.370269775390625}\n",
      "{'steps': 2137, 'loss/train': 25.21657943725586}\n",
      "{'steps': 2149, 'loss/train': 25.539478302001953}\n",
      "{'steps': 2162, 'loss/train': 27.337095260620117}\n",
      "{'steps': 2174, 'loss/train': 28.402185440063477}\n",
      "{'steps': 2187, 'loss/train': 23.58111572265625}\n",
      "{'steps': 2199, 'loss/train': 24.669334411621094}\n",
      "{'steps': 2212, 'loss/train': 21.43850326538086}\n",
      "{'steps': 2224, 'loss/train': 23.502565383911133}\n",
      "{'steps': 2237, 'loss/train': 19.234031677246094}\n",
      "{'steps': 2249, 'loss/train': 23.181732177734375}\n",
      "{'steps': 2262, 'loss/train': 22.113218307495117}\n",
      "{'steps': 2274, 'loss/train': 24.4682674407959}\n",
      "{'steps': 2287, 'loss/train': 19.771591186523438}\n",
      "{'steps': 2299, 'loss/train': 21.395751953125}\n",
      "{'steps': 2312, 'loss/train': 22.923397064208984}\n",
      "{'steps': 2324, 'loss/train': 21.671226501464844}\n",
      "{'steps': 2337, 'loss/train': 28.943119049072266}\n",
      "{'steps': 2349, 'loss/train': 23.40704345703125}\n",
      "{'steps': 2362, 'loss/train': 28.539409637451172}\n",
      "{'steps': 2374, 'loss/train': 25.15418243408203}\n",
      "{'steps': 2387, 'loss/train': 18.835407257080078}\n",
      "{'steps': 2399, 'loss/train': 25.15843963623047}\n",
      "{'steps': 2412, 'loss/train': 21.186115264892578}\n",
      "{'steps': 2424, 'loss/train': 23.02159309387207}\n",
      "{'steps': 2437, 'loss/train': 21.185699462890625}\n",
      "{'steps': 2449, 'loss/train': 23.161418914794922}\n",
      "{'steps': 2462, 'loss/train': 21.832324981689453}\n",
      "{'steps': 2474, 'loss/train': 20.95770263671875}\n",
      "{'steps': 2487, 'loss/train': 19.811796188354492}\n",
      "{'steps': 2499, 'loss/train': 23.738483428955078}\n",
      "{'steps': 2512, 'loss/train': 20.234107971191406}\n",
      "{'steps': 2524, 'loss/train': 22.56385040283203}\n",
      "{'steps': 2537, 'loss/train': 29.236129760742188}\n",
      "{'steps': 2549, 'loss/train': 22.692546844482422}\n",
      "{'steps': 2562, 'loss/train': 24.337814331054688}\n",
      "{'steps': 2574, 'loss/train': 31.52463150024414}\n",
      "{'steps': 2587, 'loss/train': 17.812442779541016}\n",
      "{'steps': 2599, 'loss/train': 20.919404983520508}\n",
      "{'steps': 2612, 'loss/train': 23.917686462402344}\n",
      "{'steps': 2624, 'loss/train': 19.36799430847168}\n",
      "{'steps': 2637, 'loss/train': 19.95630645751953}\n",
      "{'steps': 2649, 'loss/train': 27.87628746032715}\n",
      "{'steps': 2662, 'loss/train': 17.585128784179688}\n",
      "{'steps': 2674, 'loss/train': 26.086471557617188}\n",
      "{'steps': 2687, 'loss/train': 18.957584381103516}\n",
      "{'steps': 2699, 'loss/train': 18.313581466674805}\n",
      "{'steps': 2712, 'loss/train': 20.465206146240234}\n",
      "{'steps': 2724, 'loss/train': 19.65247344970703}\n",
      "{'steps': 2737, 'loss/train': 21.891407012939453}\n",
      "{'steps': 2749, 'loss/train': 25.199485778808594}\n",
      "{'steps': 2762, 'loss/train': 26.401437759399414}\n",
      "{'steps': 2774, 'loss/train': 19.286022186279297}\n",
      "{'steps': 2787, 'loss/train': 19.464006423950195}\n",
      "{'steps': 2799, 'loss/train': 16.637292861938477}\n",
      "{'steps': 2812, 'loss/train': 23.089622497558594}\n",
      "{'steps': 2824, 'loss/train': 20.981868743896484}\n",
      "{'steps': 2837, 'loss/train': 28.269432067871094}\n",
      "{'steps': 2849, 'loss/train': 28.664241790771484}\n",
      "{'steps': 2862, 'loss/train': 19.226491928100586}\n",
      "{'steps': 2874, 'loss/train': 25.76646614074707}\n",
      "{'steps': 2887, 'loss/train': 25.339832305908203}\n",
      "{'steps': 2899, 'loss/train': 22.37450408935547}\n",
      "{'steps': 2912, 'loss/train': 19.901609420776367}\n",
      "{'steps': 2924, 'loss/train': 22.730993270874023}\n",
      "{'steps': 2937, 'loss/train': 20.847808837890625}\n",
      "{'steps': 2949, 'loss/train': 25.510799407958984}\n",
      "{'steps': 2962, 'loss/train': 23.361112594604492}\n",
      "{'steps': 2974, 'loss/train': 20.415719985961914}\n",
      "{'steps': 2987, 'loss/train': 20.258987426757812}\n",
      "{'steps': 2999, 'loss/train': 20.143268585205078}\n",
      "{'steps': 3012, 'loss/train': 19.91705322265625}\n",
      "{'steps': 3024, 'loss/train': 18.864850997924805}\n",
      "{'steps': 3037, 'loss/train': 22.97016143798828}\n",
      "{'steps': 3049, 'loss/train': 24.851255416870117}\n",
      "{'steps': 3062, 'loss/train': 26.766090393066406}\n",
      "{'steps': 3074, 'loss/train': 20.8591251373291}\n",
      "{'steps': 3087, 'loss/train': 21.549144744873047}\n",
      "{'steps': 3099, 'loss/train': 22.25469970703125}\n",
      "{'steps': 3112, 'loss/train': 18.147727966308594}\n",
      "{'steps': 3124, 'loss/train': 19.752120971679688}\n",
      "{'steps': 3137, 'loss/train': 16.600994110107422}\n",
      "{'steps': 3149, 'loss/train': 17.73729705810547}\n",
      "{'steps': 3162, 'loss/train': 19.21462631225586}\n",
      "{'steps': 3174, 'loss/train': 24.90118408203125}\n",
      "{'steps': 3187, 'loss/train': 24.1462345123291}\n",
      "{'steps': 3199, 'loss/train': 26.68471336364746}\n",
      "{'steps': 3212, 'loss/train': 20.010181427001953}\n",
      "{'steps': 3224, 'loss/train': 23.14629364013672}\n",
      "{'steps': 3237, 'loss/train': 22.756427764892578}\n",
      "{'steps': 3249, 'loss/train': 25.42054557800293}\n",
      "{'steps': 3262, 'loss/train': 18.339839935302734}\n",
      "{'steps': 3274, 'loss/train': 16.154098510742188}\n",
      "{'steps': 3287, 'loss/train': 20.074951171875}\n",
      "{'steps': 3299, 'loss/train': 21.284709930419922}\n",
      "{'steps': 3312, 'loss/train': 24.371379852294922}\n",
      "{'steps': 3324, 'loss/train': 20.37534523010254}\n",
      "{'steps': 3337, 'loss/train': 16.470455169677734}\n",
      "{'steps': 3349, 'loss/train': 23.305988311767578}\n",
      "{'steps': 3362, 'loss/train': 27.63037109375}\n",
      "{'steps': 3374, 'loss/train': 19.914371490478516}\n",
      "{'steps': 3387, 'loss/train': 23.046791076660156}\n",
      "{'steps': 3399, 'loss/train': 19.985301971435547}\n",
      "{'steps': 3412, 'loss/train': 21.68389129638672}\n",
      "{'steps': 3424, 'loss/train': 23.419797897338867}\n",
      "{'steps': 3437, 'loss/train': 20.92878532409668}\n",
      "{'steps': 3449, 'loss/train': 19.53567123413086}\n",
      "{'steps': 3462, 'loss/train': 24.10177993774414}\n",
      "{'steps': 3474, 'loss/train': 21.224180221557617}\n",
      "{'steps': 3487, 'loss/train': 20.90483283996582}\n",
      "{'steps': 3499, 'loss/train': 20.375751495361328}\n",
      "{'steps': 3512, 'loss/train': 19.878746032714844}\n",
      "{'steps': 3524, 'loss/train': 22.20285987854004}\n",
      "{'steps': 3537, 'loss/train': 18.585174560546875}\n",
      "{'steps': 3549, 'loss/train': 14.317829132080078}\n",
      "{'steps': 3562, 'loss/train': 18.86206817626953}\n",
      "{'steps': 3574, 'loss/train': 19.072954177856445}\n",
      "{'steps': 3587, 'loss/train': 26.40545654296875}\n",
      "{'steps': 3599, 'loss/train': 22.354862213134766}\n",
      "{'steps': 3612, 'loss/train': 17.988815307617188}\n",
      "{'steps': 3624, 'loss/train': 24.075639724731445}\n",
      "{'steps': 3637, 'loss/train': 23.193016052246094}\n",
      "{'steps': 3649, 'loss/train': 27.335866928100586}\n",
      "{'steps': 3662, 'loss/train': 19.690189361572266}\n",
      "{'steps': 3674, 'loss/train': 24.90442657470703}\n",
      "{'steps': 3687, 'loss/train': 18.191125869750977}\n",
      "{'steps': 3699, 'loss/train': 18.554712295532227}\n",
      "{'steps': 3712, 'loss/train': 22.77706527709961}\n",
      "{'steps': 3724, 'loss/train': 19.566883087158203}\n",
      "{'steps': 3737, 'loss/train': 21.861370086669922}\n",
      "{'steps': 3749, 'loss/train': 22.63018035888672}\n",
      "{'steps': 3762, 'loss/train': 18.820682525634766}\n",
      "{'steps': 3774, 'loss/train': 16.84300994873047}\n",
      "{'steps': 3787, 'loss/train': 23.639984130859375}\n",
      "{'steps': 3799, 'loss/train': 24.730072021484375}\n",
      "{'steps': 3812, 'loss/train': 26.390701293945312}\n",
      "{'steps': 3824, 'loss/train': 19.809452056884766}\n",
      "{'steps': 3837, 'loss/train': 19.183597564697266}\n",
      "{'steps': 3849, 'loss/train': 17.14585304260254}\n",
      "{'steps': 3862, 'loss/train': 19.47623062133789}\n",
      "{'steps': 3874, 'loss/train': 17.95516586303711}\n",
      "{'steps': 3887, 'loss/train': 17.134017944335938}\n",
      "{'steps': 3899, 'loss/train': 18.703651428222656}\n",
      "{'steps': 3912, 'loss/train': 19.587791442871094}\n",
      "{'steps': 3924, 'loss/train': 20.074993133544922}\n",
      "{'steps': 3937, 'loss/train': 28.049230575561523}\n",
      "{'steps': 3949, 'loss/train': 22.7833194732666}\n",
      "{'steps': 3962, 'loss/train': 18.742778778076172}\n",
      "{'steps': 3974, 'loss/train': 20.948047637939453}\n",
      "{'steps': 3987, 'loss/train': 22.326568603515625}\n",
      "{'steps': 3999, 'loss/train': 23.834335327148438}\n",
      "{'steps': 4012, 'loss/train': 21.283626556396484}\n",
      "{'steps': 4024, 'loss/train': 16.4414119720459}\n",
      "{'steps': 4037, 'loss/train': 21.73299789428711}\n",
      "{'steps': 4049, 'loss/train': 23.01021957397461}\n",
      "{'steps': 4062, 'loss/train': 23.079282760620117}\n",
      "{'steps': 4074, 'loss/train': 20.359264373779297}\n",
      "{'steps': 4087, 'loss/train': 19.21485710144043}\n",
      "{'steps': 4099, 'loss/train': 21.43975830078125}\n",
      "{'steps': 4112, 'loss/train': 16.370567321777344}\n",
      "{'steps': 4124, 'loss/train': 17.11246109008789}\n",
      "{'steps': 4137, 'loss/train': 22.609312057495117}\n",
      "{'steps': 4149, 'loss/train': 19.352493286132812}\n",
      "{'steps': 4162, 'loss/train': 22.199569702148438}\n",
      "{'steps': 4174, 'loss/train': 22.817773818969727}\n",
      "{'steps': 4187, 'loss/train': 20.226531982421875}\n",
      "{'steps': 4199, 'loss/train': 20.189640045166016}\n",
      "{'steps': 4212, 'loss/train': 18.809396743774414}\n",
      "{'steps': 4224, 'loss/train': 22.81268310546875}\n",
      "{'steps': 4237, 'loss/train': 22.6021785736084}\n",
      "{'steps': 4249, 'loss/train': 17.260753631591797}\n",
      "{'steps': 4262, 'loss/train': 23.405746459960938}\n",
      "{'steps': 4274, 'loss/train': 20.707252502441406}\n",
      "{'steps': 4287, 'loss/train': 16.98857879638672}\n",
      "{'steps': 4299, 'loss/train': 24.512109756469727}\n",
      "{'steps': 4312, 'loss/train': 19.11862564086914}\n",
      "{'steps': 4324, 'loss/train': 16.985641479492188}\n",
      "{'steps': 4337, 'loss/train': 21.3453369140625}\n",
      "{'steps': 4349, 'loss/train': 23.871753692626953}\n",
      "{'steps': 4362, 'loss/train': 20.472286224365234}\n",
      "{'steps': 4374, 'loss/train': 28.06635284423828}\n",
      "{'steps': 4387, 'loss/train': 19.184829711914062}\n",
      "{'steps': 4399, 'loss/train': 20.68769073486328}\n",
      "{'steps': 4412, 'loss/train': 17.836933135986328}\n",
      "{'steps': 4424, 'loss/train': 20.074281692504883}\n",
      "{'steps': 4437, 'loss/train': 25.798986434936523}\n",
      "{'steps': 4449, 'loss/train': 17.792015075683594}\n",
      "{'steps': 4462, 'loss/train': 20.665504455566406}\n",
      "{'steps': 4474, 'loss/train': 24.783039093017578}\n",
      "{'steps': 4487, 'loss/train': 21.430988311767578}\n",
      "{'steps': 4499, 'loss/train': 16.70639991760254}\n",
      "{'steps': 4512, 'loss/train': 27.606700897216797}\n",
      "{'steps': 4524, 'loss/train': 30.709306716918945}\n",
      "{'steps': 4537, 'loss/train': 19.21640396118164}\n",
      "{'steps': 4549, 'loss/train': 18.03364372253418}\n",
      "{'steps': 4562, 'loss/train': 19.006624221801758}\n",
      "{'steps': 4574, 'loss/train': 21.70711898803711}\n",
      "{'steps': 4587, 'loss/train': 20.898448944091797}\n",
      "{'steps': 4599, 'loss/train': 18.61581802368164}\n",
      "{'steps': 4612, 'loss/train': 17.91801643371582}\n",
      "{'steps': 4624, 'loss/train': 21.735137939453125}\n",
      "{'steps': 4637, 'loss/train': 19.697101593017578}\n",
      "{'steps': 4649, 'loss/train': 14.2318754196167}\n",
      "{'steps': 4662, 'loss/train': 17.926977157592773}\n",
      "{'steps': 4674, 'loss/train': 17.473352432250977}\n",
      "{'steps': 4687, 'loss/train': 21.005706787109375}\n",
      "{'steps': 4699, 'loss/train': 21.216983795166016}\n",
      "{'steps': 4712, 'loss/train': 21.095855712890625}\n",
      "{'steps': 4724, 'loss/train': 25.727184295654297}\n",
      "{'steps': 4737, 'loss/train': 15.751760482788086}\n",
      "{'steps': 4749, 'loss/train': 17.111101150512695}\n",
      "{'steps': 4762, 'loss/train': 19.456993103027344}\n",
      "{'steps': 4774, 'loss/train': 18.495513916015625}\n",
      "{'steps': 4787, 'loss/train': 22.302947998046875}\n",
      "{'steps': 4799, 'loss/train': 19.05189323425293}\n",
      "{'steps': 4812, 'loss/train': 24.098079681396484}\n",
      "{'steps': 4824, 'loss/train': 18.964061737060547}\n",
      "{'steps': 4837, 'loss/train': 17.418882369995117}\n",
      "{'steps': 4849, 'loss/train': 13.698445320129395}\n",
      "{'steps': 4862, 'loss/train': 18.176340103149414}\n",
      "{'steps': 4874, 'loss/train': 15.409852981567383}\n",
      "{'steps': 4887, 'loss/train': 19.75168228149414}\n",
      "{'steps': 4899, 'loss/train': 19.860851287841797}\n",
      "{'steps': 4912, 'loss/train': 15.250025749206543}\n",
      "{'steps': 4924, 'loss/train': 20.587905883789062}\n",
      "{'steps': 4937, 'loss/train': 16.00501251220703}\n",
      "{'steps': 4949, 'loss/train': 25.97280502319336}\n",
      "{'steps': 4962, 'loss/train': 17.327619552612305}\n",
      "{'steps': 4974, 'loss/train': 25.64114761352539}\n",
      "{'steps': 4987, 'loss/train': 17.403335571289062}\n",
      "{'steps': 4999, 'loss/train': 19.860004425048828}\n",
      "{'loss/eval': 2.028899669647217, 'perplexity': 7.605712890625}\n"
     ]
    },
    {
     "name": "stderr",
     "output_type": "stream",
     "text": [
      "/home/chaklams/.local/lib/python3.8/site-packages/torch/nn/_reduction.py:42: UserWarning: size_average and reduce args will be deprecated, please use reduction='none' instead.\n",
      "  warnings.warn(warning.format(ret))\n"
     ]
    },
    {
     "name": "stdout",
     "output_type": "stream",
     "text": [
      "{'steps': 5012, 'loss/train': 24.154876708984375}\n",
      "{'steps': 5024, 'loss/train': 21.297893524169922}\n",
      "{'steps': 5037, 'loss/train': 19.56109046936035}\n",
      "{'steps': 5049, 'loss/train': 17.56352996826172}\n",
      "{'steps': 5062, 'loss/train': 18.389888763427734}\n",
      "{'steps': 5074, 'loss/train': 17.890464782714844}\n",
      "{'steps': 5087, 'loss/train': 17.64663314819336}\n",
      "{'steps': 5099, 'loss/train': 20.18653106689453}\n",
      "{'steps': 5112, 'loss/train': 15.458202362060547}\n",
      "{'steps': 5124, 'loss/train': 16.122230529785156}\n",
      "{'steps': 5137, 'loss/train': 16.004207611083984}\n",
      "{'steps': 5149, 'loss/train': 21.15920639038086}\n",
      "{'steps': 5162, 'loss/train': 17.387924194335938}\n",
      "{'steps': 5174, 'loss/train': 14.868324279785156}\n",
      "{'steps': 5187, 'loss/train': 17.92034149169922}\n",
      "{'steps': 5199, 'loss/train': 15.882739067077637}\n",
      "{'steps': 5212, 'loss/train': 22.712154388427734}\n",
      "{'steps': 5224, 'loss/train': 19.20160484313965}\n",
      "{'steps': 5237, 'loss/train': 17.288490295410156}\n",
      "{'steps': 5249, 'loss/train': 21.532642364501953}\n",
      "{'steps': 5262, 'loss/train': 23.098129272460938}\n",
      "{'steps': 5274, 'loss/train': 17.679954528808594}\n",
      "{'steps': 5287, 'loss/train': 16.65866470336914}\n",
      "{'steps': 5299, 'loss/train': 22.944896697998047}\n",
      "{'steps': 5312, 'loss/train': 16.025400161743164}\n",
      "{'steps': 5324, 'loss/train': 18.185222625732422}\n",
      "{'steps': 5337, 'loss/train': 17.53435516357422}\n",
      "{'steps': 5349, 'loss/train': 22.160947799682617}\n",
      "{'steps': 5362, 'loss/train': 19.101442337036133}\n",
      "{'steps': 5374, 'loss/train': 19.41428565979004}\n"
     ]
    }
   ],
   "source": [
    "from tqdm.notebook import tqdm\n",
    "\n",
    "gradient_accumulation_steps = 8\n",
    "eval_steps = 5_000\n",
    "\n",
    "model.train()\n",
    "completed_steps = 0\n",
    "for epoch in range(num_train_epochs):\n",
    "    for step, batch in tqdm(\n",
    "        enumerate(train_dataloader, start=1), total=num_training_steps\n",
    "    ):\n",
    "        logits = model(batch[\"input_ids\"]).logits\n",
    "        loss = keytoken_weighted_loss(batch[\"input_ids\"], logits, keytoken_ids)\n",
    "        if step % 100 == 0:\n",
    "            accelerator.print(\n",
    "                {\n",
    "                    \"steps\": completed_steps,\n",
    "                    \"loss/train\": loss.item() * gradient_accumulation_steps,\n",
    "                }\n",
    "            )\n",
    "        loss = loss / gradient_accumulation_steps\n",
    "        accelerator.backward(loss)\n",
    "        if step % gradient_accumulation_steps == 0:\n",
    "            accelerator.clip_grad_norm_(model.parameters(), 1.0)\n",
    "            optimizer.step()\n",
    "            lr_scheduler.step()\n",
    "            optimizer.zero_grad()\n",
    "            completed_steps += 1\n",
    "        if (step % (eval_steps * gradient_accumulation_steps)) == 0:\n",
    "            eval_loss, perplexity = evaluate()\n",
    "            accelerator.print({\"loss/eval\": eval_loss, \"perplexity\": perplexity})\n",
    "            model.train()\n",
    "            accelerator.wait_for_everyone()\n",
    "            unwrapped_model = accelerator.unwrap_model(model)\n",
    "            unwrapped_model.save_pretrained(output_dir, save_function=accelerator.save)\n",
    "            if accelerator.is_main_process:\n",
    "                tokenizer.save_pretrained(output_dir)\n",
    "                repo.push_to_hub(\n",
    "                    commit_message=f\"Training in progress step {step}\", blocking=False\n",
    "                )"
   ]
  },
  {
   "cell_type": "markdown",
   "metadata": {},
   "source": [
    "## 6. Inference\n",
    "\n",
    "Now is the moment of truth: let’s see how well the trained model actually works! We can see in the logs that the loss went down steadily, but to put the model to the test let’s take a look at how well it works on some prompts. To do that we’ll wrap the model in a text generation pipeline, and we’ll put it on the GPU for fast generations if there is one available."
   ]
  },
  {
   "cell_type": "code",
   "execution_count": 42,
   "metadata": {
    "id": "P-Vf3ZdHp67Y"
   },
   "outputs": [],
   "source": [
    "import torch\n",
    "from transformers import pipeline\n",
    "\n",
    "pipe = pipeline(\"text-generation\", max_length=100, pad_token_id=0, eos_token_id=0, model=\"Chaklam/codeparrot-ds-accelerate\")"
   ]
  },
  {
   "cell_type": "code",
   "execution_count": 43,
   "metadata": {
    "id": "nd5DDGWsp67Z",
    "outputId": "d9a6be77-f312-4674-a42e-34e5b11c9c35"
   },
   "outputs": [
    {
     "name": "stdout",
     "output_type": "stream",
     "text": [
      "# create some data\n",
      "x = np.random.randn(100)\n",
      "y = np.random.randn(100)\n",
      "\n",
      "# create scatter plot with x, y\n",
      "plt.scatter(x, y, c=y, zorder=100)\n",
      "ax = plt.gca()\n",
      "\n",
      "ax.set_title('Simple data')\n",
      "\n",
      "# create a scatter plot to show map\n",
      "h = plt.scatter(x, y, c=y, zorder=50)\n"
     ]
    }
   ],
   "source": [
    "txt = \"\"\"\\\n",
    "# create some data\n",
    "x = np.random.randn(100)\n",
    "y = np.random.randn(100)\n",
    "\n",
    "# create scatter plot with x, y\n",
    "\"\"\"\n",
    "print(pipe(txt, num_return_sequences=1)[0][\"generated_text\"])"
   ]
  },
  {
   "cell_type": "code",
   "execution_count": 44,
   "metadata": {
    "id": "6zIaw3d9p67Z",
    "outputId": "ecec00fa-8c24-4209-d366-ed3ea8f61eb0"
   },
   "outputs": [
    {
     "name": "stdout",
     "output_type": "stream",
     "text": [
      "# create some data\n",
      "x = np.random.randn(100)\n",
      "y = np.random.randn(100)\n",
      "\n",
      "# create dataframe from x and y\n",
      "df = pd.DataFrame({'y': y, 'x': X, 'z': y})\n",
      "\n",
      "dmatrix = pd.DataFrame({'x': np.random.randn(100),\n",
      "         'y': np.random.randn(100)})\n",
      "df = dmatrix.join(dmatrix, 'x\n"
     ]
    }
   ],
   "source": [
    "txt = \"\"\"\\\n",
    "# create some data\n",
    "x = np.random.randn(100)\n",
    "y = np.random.randn(100)\n",
    "\n",
    "# create dataframe from x and y\n",
    "\"\"\"\n",
    "print(pipe(txt, num_return_sequences=1)[0][\"generated_text\"])"
   ]
  },
  {
   "cell_type": "code",
   "execution_count": 45,
   "metadata": {
    "id": "podT5Mc5p67a",
    "outputId": "b2f70210-153a-4427-f370-fa0ef302703e"
   },
   "outputs": [
    {
     "name": "stdout",
     "output_type": "stream",
     "text": [
      "# dataframe with profession, income and name\n",
      "df = pd.DataFrame({'profession': x, 'income':y, 'name': z})\n",
      "\n",
      "# calculate the mean income per profession\n",
      "mww = sns.count_boxplot(x, y, hue=None)\n",
      "dados = pd.concat([mww, dados], ignore_index=True)\n",
      "print('plotting mean', np.sum([mww, dados]))\n",
      "\n"
     ]
    }
   ],
   "source": [
    "txt = \"\"\"\\\n",
    "# dataframe with profession, income and name\n",
    "df = pd.DataFrame({'profession': x, 'income':y, 'name': z})\n",
    "\n",
    "# calculate the mean income per profession\n",
    "\"\"\"\n",
    "print(pipe(txt, num_return_sequences=1)[0][\"generated_text\"])"
   ]
  },
  {
   "cell_type": "code",
   "execution_count": null,
   "metadata": {
    "id": "bwqsoHmjp67a",
    "outputId": "4334a9e0-6f34-49ca-db3d-95944c175b02"
   },
   "outputs": [
    {
     "name": "stdout",
     "output_type": "stream",
     "text": [
      "\n",
      "# import random forest regressor from scikit-learn\n",
      "from sklearn.ensemble import RandomForestRegressor\n",
      "\n",
      "# fit random forest model with 300 estimators on X, y:\n",
      "n_estimators = 1000\n",
      "\n",
      "# Create a random forest\n",
      "rng = check_random_state(0)500\n",
      "forest = ExtraTreesRegressor(n_estimators=10, random_state=rng)\n",
      "\n",
      "forest.fit(X_train, y_train)\n",
      "\n",
      "# forest.predict(X\n"
     ]
    }
   ],
   "source": [
    "txt = \"\"\"\n",
    "# import random forest regressor from scikit-learn\n",
    "from sklearn.ensemble import RandomForestRegressor\n",
    "\n",
    "# fit random forest model with 300 estimators on X, y:\n",
    "\"\"\"\n",
    "print(pipe(txt, num_return_sequences=1)[0][\"generated_text\"])"
   ]
  }
 ],
 "metadata": {
  "colab": {
   "name": "Training a causal language model from scratch (PyTorch)",
   "provenance": []
  },
  "kernelspec": {
   "display_name": "Python 3 (ipykernel)",
   "language": "python",
   "name": "python3"
  },
  "language_info": {
   "codemirror_mode": {
    "name": "ipython",
    "version": 3
   },
   "file_extension": ".py",
   "mimetype": "text/x-python",
   "name": "python",
   "nbconvert_exporter": "python",
   "pygments_lexer": "ipython3",
   "version": "3.8.10"
  }
 },
 "nbformat": 4,
 "nbformat_minor": 4
}
