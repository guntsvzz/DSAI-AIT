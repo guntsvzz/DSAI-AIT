{
 "cells": [
  {
   "attachments": {},
   "cell_type": "markdown",
   "metadata": {},
   "source": [
    "# Window NER\n",
    "\n",
    "Today we gonna work on simple window NER that no one uses... but it's a good starting point\n",
    "Later on, once you learned LSTM, I will teach a better one for NER"
   ]
  },
  {
   "attachments": {},
   "cell_type": "markdown",
   "metadata": {},
   "source": [
    "# 1.Load data\n",
    "Load the famous CoNll-2002 Shared Task\n",
    "\n",
    "CoNLL-2002 Shared Task: Language-Independent Named Entity Recognition <br>\n",
    "https://www.clips.uantwerpen.be/conll2002/ner/"
   ]
  },
  {
   "cell_type": "code",
   "execution_count": 1,
   "metadata": {},
   "outputs": [],
   "source": [
    "# !pip install nltk #or do it in your terminal"
   ]
  },
  {
   "cell_type": "code",
   "execution_count": 1,
   "metadata": {},
   "outputs": [
    {
     "data": {
      "text/plain": [
       "'3.7'"
      ]
     },
     "execution_count": 1,
     "metadata": {},
     "output_type": "execute_result"
    }
   ],
   "source": [
    "import nltk\n",
    "nltk.__version__"
   ]
  },
  {
   "cell_type": "code",
   "execution_count": 2,
   "metadata": {},
   "outputs": [
    {
     "name": "stderr",
     "output_type": "stream",
     "text": [
      "[nltk_data] Downloading package conll2002 to\n",
      "[nltk_data]     C:\\Users\\Guntsv\\AppData\\Roaming\\nltk_data...\n",
      "[nltk_data]   Package conll2002 is already up-to-date!\n"
     ]
    },
    {
     "data": {
      "text/plain": [
       "True"
      ]
     },
     "execution_count": 2,
     "metadata": {},
     "output_type": "execute_result"
    }
   ],
   "source": [
    "# import os\n",
    "# os.environ['http_proxy']  = 'http://192.41.170.23:3128'\n",
    "# os.environ['https_proxy'] = 'http://192.41.170.23:3128'\n",
    "\n",
    "nltk.download('conll2002')  #this will download the dataset, and put it somewhere in your pc"
   ]
  },
  {
   "cell_type": "code",
   "execution_count": 3,
   "metadata": {},
   "outputs": [],
   "source": [
    "corpus = nltk.corpus.conll2002.iob_sents()"
   ]
  },
  {
   "cell_type": "code",
   "execution_count": 4,
   "metadata": {},
   "outputs": [],
   "source": [
    "data = []\n",
    "for cor in corpus:\n",
    "    #extract only the first and third guy\n",
    "    #one list containing the first, and one list containing the third\n",
    "    #so we can use it to train\n",
    "    # ['Sao',\"Paulo','(','Brasil',....], ['B-IOC','I-LOC','B-IOC','O',........]\n",
    "    # print(cor) #B-LOC = beginning of a location, I-LOC = inside of a location entity, 0 means non-entity\n",
    "    sent, _, tag = list(zip(*cor))\n",
    "    data.append([sent,tag])\n",
    "\n",
    "    # break"
   ]
  },
  {
   "cell_type": "code",
   "execution_count": 5,
   "metadata": {},
   "outputs": [
    {
     "data": {
      "text/plain": [
       "[('Sao',\n",
       "  'Paulo',\n",
       "  '(',\n",
       "  'Brasil',\n",
       "  ')',\n",
       "  ',',\n",
       "  '23',\n",
       "  'may',\n",
       "  '(',\n",
       "  'EFECOM',\n",
       "  ')',\n",
       "  '.'),\n",
       " ('B-LOC', 'I-LOC', 'O', 'B-LOC', 'O', 'O', 'O', 'O', 'O', 'B-ORG', 'O', 'O')]"
      ]
     },
     "execution_count": 5,
     "metadata": {},
     "output_type": "execute_result"
    }
   ],
   "source": [
    "data[0]"
   ]
  },
  {
   "cell_type": "code",
   "execution_count": 6,
   "metadata": {},
   "outputs": [
    {
     "data": {
      "text/plain": [
       "35651"
      ]
     },
     "execution_count": 6,
     "metadata": {},
     "output_type": "execute_result"
    }
   ],
   "source": [
    "len(data) #35k sentence"
   ]
  },
  {
   "attachments": {},
   "cell_type": "markdown",
   "metadata": {},
   "source": [
    "## 2. Tokenization\n",
    "\n",
    "If you look carefully, we don't need to!!! Yay.... things are already chopped"
   ]
  },
  {
   "attachments": {},
   "cell_type": "markdown",
   "metadata": {},
   "source": [
    "## 3. Numericalization"
   ]
  },
  {
   "cell_type": "code",
   "execution_count": 7,
   "metadata": {},
   "outputs": [],
   "source": [
    "flatten = lambda l: [item for sublist in l for item in sublist]\n",
    "\n",
    "#I want to get all unique vocabs\n",
    "sents, tags = list(zip(*data))\n",
    "vocab = list(set(flatten(sents)))\n",
    "tagset = list(set(flatten(tags)))\n",
    "\n",
    "#why we don't combine vocab and tagset into one single list"
   ]
  },
  {
   "cell_type": "code",
   "execution_count": 9,
   "metadata": {},
   "outputs": [
    {
     "data": {
      "text/plain": [
       "['HEAT',\n",
       " 'aarzelt',\n",
       " 'filmcomponist',\n",
       " 'estipulados',\n",
       " 'versie',\n",
       " 'accedieron',\n",
       " 'verpatsen',\n",
       " 'V-plan',\n",
       " 'Financiewezen']"
      ]
     },
     "execution_count": 9,
     "metadata": {},
     "output_type": "execute_result"
    }
   ],
   "source": [
    "vocab[89:98]"
   ]
  },
  {
   "cell_type": "code",
   "execution_count": 10,
   "metadata": {},
   "outputs": [
    {
     "data": {
      "text/plain": [
       "65459"
      ]
     },
     "execution_count": 10,
     "metadata": {},
     "output_type": "execute_result"
    }
   ],
   "source": [
    "len(vocab)"
   ]
  },
  {
   "cell_type": "code",
   "execution_count": 11,
   "metadata": {},
   "outputs": [
    {
     "data": {
      "text/plain": [
       "['B-LOC', 'I-ORG', 'B-PER', 'B-ORG', 'I-LOC', 'I-MISC', 'O', 'I-PER', 'B-MISC']"
      ]
     },
     "execution_count": 11,
     "metadata": {},
     "output_type": "execute_result"
    }
   ],
   "source": [
    "tagset"
   ]
  },
  {
   "cell_type": "code",
   "execution_count": 12,
   "metadata": {},
   "outputs": [],
   "source": [
    "#create word2index library\n",
    "word2index =  {'<UNK>': 0, '<DUMMY>': 1} #DUMMY facilitates me moving the windows\n",
    "#loop each vocab\n",
    "for v in vocab:\n",
    "    #if that vocab does not exist yet in the word2index\n",
    "    if word2index.get(v) is None:\n",
    "        #the index of this vocab is basically the current len of word2index\n",
    "        word2index[v] = len(word2index)\n",
    "#create the index2word\n",
    "index2word = {v:k for k,v in word2index.items()}\n",
    "\n",
    "tag2index = {}\n",
    "#do this the same for tagset \n",
    "#loop each vocab\n",
    "for t in tagset:\n",
    "    #if that tag does not exist yet in the tag2index\n",
    "    if tag2index.get(t) is None:\n",
    "        #the index of this tag is basically the current len of tag2index\n",
    "        tag2index[t] = len(tag2index)\n",
    "#create the index2word\n",
    "index2tag = {v:k for k,v in tag2index.items()}"
   ]
  },
  {
   "cell_type": "code",
   "execution_count": 13,
   "metadata": {},
   "outputs": [
    {
     "data": {
      "text/plain": [
       "{'B-LOC': 0,\n",
       " 'I-ORG': 1,\n",
       " 'B-PER': 2,\n",
       " 'B-ORG': 3,\n",
       " 'I-LOC': 4,\n",
       " 'I-MISC': 5,\n",
       " 'O': 6,\n",
       " 'I-PER': 7,\n",
       " 'B-MISC': 8}"
      ]
     },
     "execution_count": 13,
     "metadata": {},
     "output_type": "execute_result"
    }
   ],
   "source": [
    "tag2index"
   ]
  },
  {
   "cell_type": "code",
   "execution_count": 14,
   "metadata": {},
   "outputs": [
    {
     "data": {
      "text/plain": [
       "{0: 'B-LOC',\n",
       " 1: 'I-ORG',\n",
       " 2: 'B-PER',\n",
       " 3: 'B-ORG',\n",
       " 4: 'I-LOC',\n",
       " 5: 'I-MISC',\n",
       " 6: 'O',\n",
       " 7: 'I-PER',\n",
       " 8: 'B-MISC'}"
      ]
     },
     "execution_count": 14,
     "metadata": {},
     "output_type": "execute_result"
    }
   ],
   "source": [
    "index2tag"
   ]
  },
  {
   "attachments": {},
   "cell_type": "markdown",
   "metadata": {},
   "source": [
    "## 4. Prepare window data\n",
    "\n",
    "<img src=\"figures/ner_win.png\" width=\"400\">\n",
    "\n",
    "E.g.,   Chaky   is  at  AIT,\n",
    "        B-PER   0   0   B-LOC\n",
    "\n",
    "Here I will have four sample of data:\n",
    "\n",
    "E.g., windows = [[ '<DUMMY>', '<DUMMY>', 'Chaky', 'is', 'at'],'B-PER'], [], []]"
   ]
  },
  {
   "cell_type": "code",
   "execution_count": 15,
   "metadata": {},
   "outputs": [
    {
     "name": "stdout",
     "output_type": "stream",
     "text": [
      "('Sao', 'Paulo', '(', 'Brasil', ')', ',', '23', 'may', '(', 'EFECOM', ')', '.')\n"
     ]
    }
   ],
   "source": [
    "for sample in data:\n",
    "    print(sample[0])\n",
    "    break"
   ]
  },
  {
   "cell_type": "code",
   "execution_count": 16,
   "metadata": {},
   "outputs": [],
   "source": [
    "ws = 2\n",
    "windows = []\n",
    "for sample in data:\n",
    "    dummy = ['<DUMMY>'] * ws\n",
    "    text = sample[0]\n",
    "    fulltext = dummy + list(text) + dummy\n",
    "    window = list(nltk.ngrams(fulltext,ws*2+1))\n",
    "    # print(window)\n",
    "    windows.extend([[list(window[i]),sample[1][i]] for i in range(len(sample[0]))])\n",
    "    # break"
   ]
  },
  {
   "cell_type": "code",
   "execution_count": 17,
   "metadata": {},
   "outputs": [
    {
     "data": {
      "text/plain": [
       "[['<DUMMY>', '<DUMMY>', 'Sao', 'Paulo', '('], 'B-LOC']"
      ]
     },
     "execution_count": 17,
     "metadata": {},
     "output_type": "execute_result"
    }
   ],
   "source": [
    "windows[0]"
   ]
  },
  {
   "cell_type": "code",
   "execution_count": 18,
   "metadata": {},
   "outputs": [
    {
     "data": {
      "text/plain": [
       "678377"
      ]
     },
     "execution_count": 18,
     "metadata": {},
     "output_type": "execute_result"
    }
   ],
   "source": [
    "len(windows)"
   ]
  },
  {
   "cell_type": "code",
   "execution_count": 19,
   "metadata": {},
   "outputs": [],
   "source": [
    "windows = windows[:1000]"
   ]
  },
  {
   "cell_type": "code",
   "execution_count": 43,
   "metadata": {},
   "outputs": [],
   "source": [
    "import random\n",
    "random.shuffle(windows)\n",
    "\n",
    "train = windows[:int(len(windows)*0.9)]\n",
    "test_data = windows[int(len(windows)*0.9):]"
   ]
  },
  {
   "cell_type": "code",
   "execution_count": 44,
   "metadata": {},
   "outputs": [
    {
     "data": {
      "text/plain": [
       "(900, 100)"
      ]
     },
     "execution_count": 44,
     "metadata": {},
     "output_type": "execute_result"
    }
   ],
   "source": [
    "len(train), len(test_data)"
   ]
  },
  {
   "attachments": {},
   "cell_type": "markdown",
   "metadata": {},
   "source": [
    "## 4. Model\n",
    "\n",
    "<img src=\"figures/ner_model.png\" width=\"600\">"
   ]
  },
  {
   "cell_type": "code",
   "execution_count": 22,
   "metadata": {},
   "outputs": [
    {
     "data": {
      "text/plain": [
       "array([[1, 2, 3],\n",
       "       [4, 5, 6],\n",
       "       [7, 8, 9]])"
      ]
     },
     "execution_count": 22,
     "metadata": {},
     "output_type": "execute_result"
    }
   ],
   "source": [
    "import numpy as np\n",
    "x = np.array([[1,2,3],[4,5,6],[7,8,9]])\n",
    "x"
   ]
  },
  {
   "cell_type": "code",
   "execution_count": 23,
   "metadata": {},
   "outputs": [
    {
     "data": {
      "text/plain": [
       "array([[1, 2, 3, 4, 5, 6, 7, 8, 9]])"
      ]
     },
     "execution_count": 23,
     "metadata": {},
     "output_type": "execute_result"
    }
   ],
   "source": [
    "y = x.reshape(-1,3*3)\n",
    "y"
   ]
  },
  {
   "cell_type": "code",
   "execution_count": 24,
   "metadata": {},
   "outputs": [],
   "source": [
    "import numpy as np\n",
    "import torch\n",
    "import torch.nn as nn\n",
    "import torch.optim as optim\n",
    "import matplotlib.pyplot as plt\n",
    "\n",
    "class WinNER(nn.Module):\n",
    "\n",
    "    def __init__(self, voc_size, emb_size, hidden_size, window_size, out_size):\n",
    "        super(WinNER,self).__init__()\n",
    "        self.embbedding = nn.Embedding(voc_size, emb_size)\n",
    "        self.hidden1 = nn.Linear(window_size*emb_size, hidden_size)\n",
    "        self.hidden2 = nn.Linear(hidden_size, out_size)\n",
    "        self.relu = nn.ReLU()\n",
    "        self.dropout = nn.Dropout(0.5)\n",
    "\n",
    "    def forward(self, inputs):\n",
    "        #inputs = (batch_size, window_size*2+1)\n",
    "        input_embed = self.embbedding(inputs)\n",
    "        # print(input_embed.shape)\n",
    "        #input_embed = (batch_size, window_Size*2+1,emb_size)\n",
    "        concats = input_embed.reshape(-1,input_embed.shape[1]*input_embed.shape[2])\n",
    "        #concat everything ===> (batch_size, window_size *2 + 1*emb_size) ===> 5d\n",
    "        h1 = self.dropout(self.relu(self.hidden1(concats))) #this is basically a liner layer of some hidden size\n",
    "        #after_h = (batch_size, hidden_size), e.g., 8\n",
    "        h2 = self.dropout(self.relu(self.hidden2(h1))) \n",
    "        #apply relu \n",
    "        #apply dropout\n",
    "        #basiaclly, h2 -> relu -> droput where h2 project into one number\n",
    "        # return what is return by h2\n",
    "        return h2 "
   ]
  },
  {
   "attachments": {},
   "cell_type": "markdown",
   "metadata": {},
   "source": [
    "## Test your model"
   ]
  },
  {
   "cell_type": "code",
   "execution_count": 25,
   "metadata": {},
   "outputs": [
    {
     "data": {
      "text/plain": [
       "tensor([[28436, 37629, 26446, 41557, 16511],\n",
       "        [12011, 45690, 46365, 48932,  9630]])"
      ]
     },
     "execution_count": 25,
     "metadata": {},
     "output_type": "execute_result"
    }
   ],
   "source": [
    "batch_size = 2\n",
    "window_size = ws\n",
    "inputs = torch.randint(0,len(vocab),(batch_size,5))\n",
    "inputs"
   ]
  },
  {
   "cell_type": "code",
   "execution_count": 26,
   "metadata": {},
   "outputs": [
    {
     "data": {
      "text/plain": [
       "WinNER(\n",
       "  (embbedding): Embedding(65459, 4)\n",
       "  (hidden1): Linear(in_features=20, out_features=8, bias=True)\n",
       "  (hidden2): Linear(in_features=8, out_features=9, bias=True)\n",
       "  (relu): ReLU()\n",
       "  (dropout): Dropout(p=0.5, inplace=False)\n",
       ")"
      ]
     },
     "execution_count": 26,
     "metadata": {},
     "output_type": "execute_result"
    }
   ],
   "source": [
    "voc_size = len(vocab)\n",
    "emb_size = 4\n",
    "hidden_size = 8\n",
    "window_size =  ws * 2 + 1\n",
    "\n",
    "out_size = len(tagset)\n",
    "model = WinNER(voc_size,emb_size,hidden_size,window_size,out_size)\n",
    "model"
   ]
  },
  {
   "cell_type": "code",
   "execution_count": 27,
   "metadata": {},
   "outputs": [
    {
     "data": {
      "text/plain": [
       "tensor([1.5596, 0.0000, 1.1344, 0.0000, 0.4166, 0.0000, 0.0000, 1.1383, 0.0000],\n",
       "       grad_fn=<SelectBackward0>)"
      ]
     },
     "execution_count": 27,
     "metadata": {},
     "output_type": "execute_result"
    }
   ],
   "source": [
    "NER = model(inputs)\n",
    "NER[0]"
   ]
  },
  {
   "cell_type": "markdown",
   "metadata": {},
   "source": [
    "# 5. Training"
   ]
  },
  {
   "cell_type": "code",
   "execution_count": 28,
   "metadata": {},
   "outputs": [
    {
     "data": {
      "text/plain": [
       "WinNER(\n",
       "  (embbedding): Embedding(65459, 4)\n",
       "  (hidden1): Linear(in_features=20, out_features=8, bias=True)\n",
       "  (hidden2): Linear(in_features=8, out_features=9, bias=True)\n",
       "  (relu): ReLU()\n",
       "  (dropout): Dropout(p=0.5, inplace=False)\n",
       ")"
      ]
     },
     "execution_count": 28,
     "metadata": {},
     "output_type": "execute_result"
    }
   ],
   "source": [
    "voc_size = len(vocab)\n",
    "emb_size = 4\n",
    "hidden_size = 8\n",
    "window_size =  ws * 2 + 1\n",
    "out_size = len(tagset)\n",
    "num_epochs = 5\n",
    "batch_size = 2\n",
    "\n",
    "model = WinNER(voc_size,emb_size,hidden_size,window_size,out_size)\n",
    "model"
   ]
  },
  {
   "cell_type": "code",
   "execution_count": 29,
   "metadata": {},
   "outputs": [],
   "source": [
    "criterion = nn.CrossEntropyLoss()\n",
    "optimizer = optim.Adam(model.parameters(),lr=0.001)"
   ]
  },
  {
   "cell_type": "code",
   "execution_count": 30,
   "metadata": {},
   "outputs": [
    {
     "data": {
      "text/plain": [
       "[['potencial', 'que', 'tiene', 'Brasil', 'y'], 'O']"
      ]
     },
     "execution_count": 30,
     "metadata": {},
     "output_type": "execute_result"
    }
   ],
   "source": [
    "train[0]"
   ]
  },
  {
   "cell_type": "code",
   "execution_count": 31,
   "metadata": {},
   "outputs": [],
   "source": [
    "def getBatch(batch_size, train):\n",
    "    random.shuffle(train)\n",
    "    s = 0\n",
    "    e = batch_size\n",
    "    \n",
    "    while e < len(train):\n",
    "        batch = train[s:e]\n",
    "        temp  = e\n",
    "        e     = e + batch_size\n",
    "        s     = temp\n",
    "        yield batch   #what is difference between yield and return (yield is MUCH more efficient than return)\n",
    "    \n",
    "    if e > len(train):\n",
    "        batch = train[s:]\n",
    "        yield batch"
   ]
  },
  {
   "cell_type": "code",
   "execution_count": 32,
   "metadata": {},
   "outputs": [],
   "source": [
    "#Actuualy function to convert out batch to tensor\n",
    "def prepare_sequence(seq, word2index):\n",
    "    idxs = list(map(lambda w: word2index[w] if word2index.get(w) is not None else word2index[\"<UNK>\"], seq))\n",
    "    return torch.LongTensor(idxs)\n",
    "\n",
    "def prepare_tag(tag,tag2index):\n",
    "    return torch.LongTensor([tag2index[tag]])"
   ]
  },
  {
   "cell_type": "code",
   "execution_count": 33,
   "metadata": {},
   "outputs": [],
   "source": [
    "def epoch_time(start_time, end_time):\n",
    "    elapsed_time = end_time - start_time\n",
    "    elapsed_mins = int(elapsed_time / 60)\n",
    "    elapsed_secs = int(elapsed_time - (elapsed_mins * 60))\n",
    "    return elapsed_mins, elapsed_secs"
   ]
  },
  {
   "cell_type": "code",
   "execution_count": 34,
   "metadata": {},
   "outputs": [
    {
     "name": "stdout",
     "output_type": "stream",
     "text": [
      "Epoch 1 | Batch: 448 | Loss 1.57337 | Time : 0m 1s\n",
      "Epoch 2 | Batch: 448 | Loss 1.64677 | Time : 0m 3s\n",
      "Epoch 3 | Batch: 448 | Loss 2.20380 | Time : 0m 4s\n",
      "Epoch 4 | Batch: 448 | Loss 2.19722 | Time : 0m 6s\n",
      "Epoch 5 | Batch: 448 | Loss 0.44150 | Time : 0m 7s\n"
     ]
    }
   ],
   "source": [
    "import numpy as np\n",
    "import time\n",
    "num_epochs = 5\n",
    "start_time = time.time()\n",
    "#mkae sure that mode luses dropout and any normalization\n",
    "model.train()\n",
    "for epoch in range(num_epochs):#loop each epoch\n",
    "    for i,batch in enumerate(getBatch(batch_size,train)): #loop each batch\n",
    "        x,y = list(zip(*batch))\n",
    "        inputs = torch.cat([prepare_sequence(sent, word2index).reshape(1,-1) for sent in x])\n",
    "        #(batch_size, 5)\n",
    "        targets = torch.cat([prepare_tag(tag,tag2index) for tag in y])\n",
    "        #(batch_size)\n",
    "\n",
    "        preds = model(inputs)#predict \n",
    "        loss = criterion(preds, targets)#get the loss\n",
    "        model.zero_grad() #zero grad\n",
    "        loss.backward() #backpropagate\n",
    "        optimizer.step() #update parameters\n",
    "        \n",
    "    end_time = time.time()\n",
    "\n",
    "    epoch_mins, epoch_secs = epoch_time(start_time, end_time)\n",
    "    #print epoch loss\n",
    "    # if (epoch + 1) % 1000 == 0:\n",
    "    print(f'Epoch {epoch+1} | Batch: {i:3.0f} | Loss {loss:.5f} | Time : {epoch_mins}m {epoch_secs}s')\n",
    "\n",
    "    # break"
   ]
  },
  {
   "cell_type": "markdown",
   "metadata": {},
   "source": [
    "# 6. Testing"
   ]
  },
  {
   "cell_type": "code",
   "execution_count": 35,
   "metadata": {},
   "outputs": [],
   "source": [
    "for_f1_score = []"
   ]
  },
  {
   "cell_type": "code",
   "execution_count": 45,
   "metadata": {},
   "outputs": [
    {
     "name": "stdout",
     "output_type": "stream",
     "text": [
      "82.0\n"
     ]
    }
   ],
   "source": [
    "accuracy = 0\n",
    "\n",
    "model.eval()\n",
    "for test in test_data:\n",
    "    x, y = test[0], test[1]\n",
    "    input_ = prepare_sequence(x, word2index).view(1, -1)\n",
    "    #input_ = [[18381, 33735, 59988, 48073, 33735]]\n",
    "    #input_ : (1, window_size * 2 + 1)\n",
    "    \n",
    "    preds = model(input_)\n",
    "    #preds : (1, label_size, i.e., number of tags)\n",
    "\n",
    "    i = model(input_).max(1)[1]  #max on first dimension, then take the index which is the 1th index element returned by max\n",
    "    pred = index2tag[i.item()]    \n",
    "    \n",
    "    for_f1_score.append([pred, y])\n",
    "    if pred == y:\n",
    "        accuracy += 1\n",
    "\n",
    "print(accuracy/len(test_data) * 100)"
   ]
  },
  {
   "attachments": {},
   "cell_type": "markdown",
   "metadata": {},
   "source": [
    "This high score is because most of labels are 'O' tag. So we need to measure f1 score."
   ]
  },
  {
   "attachments": {},
   "cell_type": "markdown",
   "metadata": {},
   "source": [
    "### f1-score"
   ]
  },
  {
   "cell_type": "code",
   "execution_count": 46,
   "metadata": {},
   "outputs": [],
   "source": [
    "y_pred, y_test = list(zip(*for_f1_score))"
   ]
  },
  {
   "cell_type": "code",
   "execution_count": 47,
   "metadata": {},
   "outputs": [
    {
     "data": {
      "text/plain": [
       "{'O'}"
      ]
     },
     "execution_count": 47,
     "metadata": {},
     "output_type": "execute_result"
    }
   ],
   "source": [
    "set(y_pred)"
   ]
  },
  {
   "cell_type": "code",
   "execution_count": 48,
   "metadata": {},
   "outputs": [
    {
     "data": {
      "text/plain": [
       "{'B-LOC', 'B-MISC', 'B-ORG', 'B-PER', 'I-LOC', 'I-MISC', 'I-ORG', 'I-PER', 'O'}"
      ]
     },
     "execution_count": 48,
     "metadata": {},
     "output_type": "execute_result"
    }
   ],
   "source": [
    "set(y_test)"
   ]
  },
  {
   "cell_type": "code",
   "execution_count": 49,
   "metadata": {},
   "outputs": [],
   "source": [
    "sorted_labels = sorted(\n",
    "    list(set(y_test) - {'O'}),\n",
    "    key=lambda name: (name[1:], name[0])\n",
    ")"
   ]
  },
  {
   "cell_type": "code",
   "execution_count": 50,
   "metadata": {},
   "outputs": [
    {
     "data": {
      "text/plain": [
       "['B-LOC', 'I-LOC', 'B-MISC', 'I-MISC', 'B-ORG', 'I-ORG', 'B-PER', 'I-PER']"
      ]
     },
     "execution_count": 50,
     "metadata": {},
     "output_type": "execute_result"
    }
   ],
   "source": [
    "sorted_labels"
   ]
  },
  {
   "cell_type": "code",
   "execution_count": 51,
   "metadata": {},
   "outputs": [
    {
     "name": "stdout",
     "output_type": "stream",
     "text": [
      "              precision    recall  f1-score   support\n",
      "\n",
      "       B-LOC      0.000     0.000     0.000         9\n",
      "       I-LOC      0.000     0.000     0.000         5\n",
      "      B-MISC      0.000     0.000     0.000         1\n",
      "      I-MISC      0.000     0.000     0.000         6\n",
      "       B-ORG      0.000     0.000     0.000        11\n",
      "       I-ORG      0.000     0.000     0.000         3\n",
      "       B-PER      0.000     0.000     0.000         2\n",
      "       I-PER      0.000     0.000     0.000         2\n",
      "\n",
      "   micro avg      0.000     0.000     0.000        39\n",
      "   macro avg      0.000     0.000     0.000        39\n",
      "weighted avg      0.000     0.000     0.000        39\n",
      "\n"
     ]
    },
    {
     "name": "stderr",
     "output_type": "stream",
     "text": [
      "c:\\Python3.10.4\\lib\\site-packages\\sklearn\\metrics\\_classification.py:1318: UndefinedMetricWarning: Precision and F-score are ill-defined and being set to 0.0 in labels with no predicted samples. Use `zero_division` parameter to control this behavior.\n",
      "  _warn_prf(average, modifier, msg_start, len(result))\n",
      "c:\\Python3.10.4\\lib\\site-packages\\sklearn\\metrics\\_classification.py:1318: UndefinedMetricWarning: Precision and F-score are ill-defined and being set to 0.0 due to no predicted samples. Use `zero_division` parameter to control this behavior.\n",
      "  _warn_prf(average, modifier, msg_start, len(result))\n",
      "c:\\Python3.10.4\\lib\\site-packages\\sklearn\\metrics\\_classification.py:1318: UndefinedMetricWarning: Precision and F-score are ill-defined and being set to 0.0 in labels with no predicted samples. Use `zero_division` parameter to control this behavior.\n",
      "  _warn_prf(average, modifier, msg_start, len(result))\n",
      "c:\\Python3.10.4\\lib\\site-packages\\sklearn\\metrics\\_classification.py:1318: UndefinedMetricWarning: Precision and F-score are ill-defined and being set to 0.0 in labels with no predicted samples. Use `zero_division` parameter to control this behavior.\n",
      "  _warn_prf(average, modifier, msg_start, len(result))\n"
     ]
    }
   ],
   "source": [
    "from sklearn import metrics\n",
    "     \n",
    "print(metrics.classification_report(y_test, y_pred, labels=sorted_labels, digits=3))"
   ]
  },
  {
   "cell_type": "code",
   "execution_count": null,
   "metadata": {},
   "outputs": [],
   "source": []
  }
 ],
 "metadata": {
  "kernelspec": {
   "display_name": "Python 3",
   "language": "python",
   "name": "python3"
  },
  "language_info": {
   "codemirror_mode": {
    "name": "ipython",
    "version": 3
   },
   "file_extension": ".py",
   "mimetype": "text/x-python",
   "name": "python",
   "nbconvert_exporter": "python",
   "pygments_lexer": "ipython3",
   "version": "3.10.4"
  },
  "orig_nbformat": 4,
  "vscode": {
   "interpreter": {
    "hash": "c81d839d3c4227cd770621df97fe8191838af02e7eef185a922d8250cb33d344"
   }
  }
 },
 "nbformat": 4,
 "nbformat_minor": 2
}
