{
 "cells": [
  {
   "cell_type": "markdown",
   "metadata": {},
   "source": [
    "# Naive Bayesian - Gaussian\n",
    "\n",
    "- Logistic Regression and Naive Bayesian are two baseline algorithm for classification\n",
    "- Baselines mean they serve like theminimum\n",
    "- when youdo classifivcation, it's a no brainer to use Logistic Regression and Naive \n",
    "    - they are so simple yet so effective\n",
    "- **key idea for GNB**: use the normal distribution to estimate y"
   ]
  },
  {
   "cell_type": "markdown",
   "metadata": {},
   "source": [
    "$$\n",
    "P(y|x) = \\frac{P(x|y)P(y)}{P(x)}\n",
    "$$"
   ]
  },
  {
   "cell_type": "markdown",
   "metadata": {},
   "source": [
    "In previous class, you estimate $P(y | x)$ directly using gradient descent.\n",
    "\n",
    "But we can do another way, that is, using Naive Baye Algorithm, i.e., if we can find $P(x | y)$, then we can find $P(y | x)$ ==> Genearative Algorithms\n",
    "\n",
    "So we can ask something like this right, e.g., $P(y | x = 4)$ ==> \n",
    "\n",
    "$$P(y = class 1 | x =4)$$ \n",
    "$$P(y = class 2 | x =4)$$\n",
    "and so on....\n",
    "\n",
    "$$\\frac{P(x|y = class 1)P(y = class 1)}{P(x)}$$\n",
    "$$\\frac{P(x|y = class 2)P(y = class 2)}{P(x)}$$\n",
    "and so on....\n",
    "\n",
    "We can ignore $P(x)$, and compare only the numerator (top guy)\n",
    "$${P(x|y = class 1)P(y = class 1)}$$\n",
    "$${P(x|y = class 2)P(y = class 2)}$$\n",
    "\n",
    "So we have two components here, the easy line is $P(y = class 1)$ and $P(y = class 2)$, they are \n",
    "$$P(y = 1) = \\frac{\\Sigma_{i=1}^m 1(y=1)}{m}$$\n",
    "$$P(y = 0) = \\frac{\\Sigma_{i=1}^m 1(y=0)}{m}$$\n",
    "\n",
    "Now the question is the left part, which is $P(x|y = class1), How to find?\n",
    "\n",
    "Answer: not easy!\n",
    "\n",
    "Naive answer: assume $P(x|y)$ follow some statistical distribution\n",
    "\n",
    "- if your x is continuous, you can assume Gaussian distribution \n",
    "- if your x is discrete, you can assume use Multinomial distribution"
   ]
  },
  {
   "cell_type": "code",
   "execution_count": 27,
   "metadata": {},
   "outputs": [
    {
     "name": "stdout",
     "output_type": "stream",
     "text": [
      "Prior 0 0.6\n",
      "Prior 1 0.4\n"
     ]
    }
   ],
   "source": [
    "import numpy as np\n",
    "\n",
    "X_train = np.array([\n",
    "    [1,2,3],\n",
    "    [4,5,6],\n",
    "    [7,8,9],\n",
    "    [10,11,12],\n",
    "    [11,12,13]\n",
    "    ])\n",
    "# print(X_train.shape)\n",
    "y_train = np.array([0,0,0,1,1])\n",
    "\n",
    "m0 = len(y_train[y_train==0])\n",
    "m1 = len(y_train[y_train==1])\n",
    "m = len(y_train)\n",
    "\n",
    "#simple exercise: find P(y=0), P(y=1) ==> priors\n",
    "prior0 = m0/m\n",
    "prior1 = m1/m\n",
    "\n",
    "print('Prior 0', prior0)\n",
    "print('Prior 1', prior1)"
   ]
  },
  {
   "cell_type": "code",
   "execution_count": 13,
   "metadata": {},
   "outputs": [
    {
     "data": {
      "text/plain": [
       "array([0.81649658, 0.81649658, 0.81649658, 0.81649658, 0.81649658])"
      ]
     },
     "execution_count": 13,
     "metadata": {},
     "output_type": "execute_result"
    }
   ],
   "source": [
    "#I want to find P(x|y = 0), P(x|y=1)\n",
    "#to make it, we need the normal distribution\n",
    "#before we have the normal distribtuion, we need to find the mean and std\n",
    "\n",
    "#mean of each class of each feature\n",
    "#std of each class of each feature\n",
    "\n",
    "#mean.shape : (k,n) or (n,k) #here k = #class, n = #features\n",
    "#std.shape : (k,n)\n",
    "\n",
    "#please find these mean and std\n",
    "\n",
    "np.mean(X_train,axis=1)\n",
    "\n",
    "np.std(X_train,axis=1)"
   ]
  },
  {
   "cell_type": "code",
   "execution_count": 39,
   "metadata": {},
   "outputs": [
    {
     "name": "stdout",
     "output_type": "stream",
     "text": [
      "Mean [[ 4.   5.   6. ]\n",
      " [10.5 11.5 12.5]]\n",
      "Std [[2.44948974 2.44948974 2.44948974]\n",
      " [0.5        0.5        0.5       ]]\n"
     ]
    },
    {
     "data": {
      "text/plain": [
       "((2, 3), (2, 3))"
      ]
     },
     "execution_count": 39,
     "metadata": {},
     "output_type": "execute_result"
    }
   ],
   "source": [
    "def mean_std(X,y,k):\n",
    "    #create empty mean and std:\n",
    "    n = X.shape[1]\n",
    "    mean = np.zeros((k,n))\n",
    "    std = np.zeros((k,n))\n",
    "    #for loop, loop each condition\n",
    "    for label in range(k):\n",
    "        mean[label,:] = np.mean(X[y==label],axis=0)\n",
    "        std[label,:] = np.std(X[y==label],axis=0)\n",
    "    return mean, std\n",
    "\n",
    "mean, std = mean_std(X_train,y_train,2)\n",
    "print(\"Mean\",mean) \n",
    "print(\"Std\",std)\n",
    "mean.shape,std.shape\n",
    "#6 normal distributions "
   ]
  },
  {
   "cell_type": "code",
   "execution_count": 40,
   "metadata": {},
   "outputs": [],
   "source": [
    "#For mean\n",
    "#(1+4+7)/3 (2+5+8)/5 (3+6+9)/6 for class 1\n",
    "#(10+11)/2 (11+12)/2 (12+13)/2 for class 2\n",
    "\n",
    "#we can now create the normal distribution - pdf - probability density function"
   ]
  },
  {
   "cell_type": "markdown",
   "metadata": {},
   "source": [
    "$$ P(x \\mid y=1 ; \\mu_1, \\sigma_1^{2}) = \\frac{1}{\\sqrt{2\\pi\\sigma_1^{2}}}e ^{-\\frac{(x-\\mu_1)^{2}}{2\\sigma_1^{2}}}$$\n",
    "$$ P(x \\mid y=0 ; \\mu_0, \\sigma_0^{2}) = \\frac{1}{\\sqrt{2\\pi\\sigma_0^{2}}}e ^{-\\frac{(x-\\mu_0)^{2}}{2\\sigma_0^{2}}}$$"
   ]
  },
  {
   "cell_type": "code",
   "execution_count": 101,
   "metadata": {},
   "outputs": [
    {
     "name": "stdout",
     "output_type": "stream",
     "text": [
      "[[0.00274451 0.00274451 0.00274451]\n",
      " [0.07693316 0.07693316 0.14984534]\n",
      " [0.0081087  0.04293141 0.04293141]]\n",
      "[[4.83941449e-01 4.83941449e-01 4.83941449e-01]\n",
      " [3.24927207e-79 3.24927207e-79 1.10614191e-49]\n",
      " [4.83941449e-01 1.38040588e-96 1.38040588e-96]]\n"
     ]
    }
   ],
   "source": [
    "#1. create a function called gaussian_pdf(X_test, mean, std)\n",
    "#    return the probability\n",
    "#Note that this mean and std COMES FROM training set\n",
    "#but when we predict, we use X_test\n",
    "def gaussian_pdf(X_test, mean, std):\n",
    "    left = 1/(np.sqrt(2*np.pi)*std)\n",
    "    power = (X_test - mean)**2/(2*std**2)\n",
    "    return left * np.exp(-power)\n",
    "\n",
    "#2. create some X_test, and try to predict the y\n",
    "X_test = np.array([\n",
    "    [11,12,13],\n",
    "    [1,2,5],\n",
    "    [10,1,2]\n",
    "    ])\n",
    "\n",
    "pdf0 = gaussian_pdf(X_test,mean[0],std[0]) \n",
    "pdf1 = gaussian_pdf(X_test,mean[1],std[1]) \n",
    "\n",
    "print(pdf0) \n",
    "#m,n\n",
    "#0.0081087 is the probability of sample1 of feature 1 for class0\n",
    "#00.0.07693316  is the probability of sample2 of feature 1 for class0\n",
    "#interpret: sample 2 has a much higher probability to become class0\n",
    "print(pdf1)\n",
    "#interpret: sample 1 has a much higher probability to become class1"
   ]
  },
  {
   "cell_type": "markdown",
   "metadata": {},
   "source": [
    "#This is the naive part, which assumes that each feature ate independent\n",
    "#thus the fnial probability is simple multipilication of it (principle of IID)\n",
    "\n",
    "$$P(x \\mid y) = \\prod_{i=1}^n P( x_i \\mid y )$$"
   ]
  },
  {
   "cell_type": "code",
   "execution_count": 102,
   "metadata": {},
   "outputs": [
    {
     "name": "stdout",
     "output_type": "stream",
     "text": [
      "[2.06726389e-08 8.86891295e-04 1.49451837e-05]\n",
      "[1.13338761e-001 1.16783908e-206 9.22160306e-193]\n"
     ]
    }
   ],
   "source": [
    "total_likelihood0 = np.prod(pdf0,axis=1)\n",
    "total_likelihood1 = np.prod(pdf1,axis=1)\n",
    "\n",
    "print(total_likelihood0)\n",
    "print(total_likelihood1)"
   ]
  },
  {
   "cell_type": "markdown",
   "metadata": {},
   "source": [
    "$${P(x|y = class 1)P(y = class 1)}$$\n",
    "$${P(x|y = class 2)P(y = class 2)}$$"
   ]
  },
  {
   "cell_type": "code",
   "execution_count": 103,
   "metadata": {},
   "outputs": [
    {
     "name": "stdout",
     "output_type": "stream",
     "text": [
      "[1.24035833e-08 5.32134777e-04 8.96711022e-06]\n",
      "[4.53355045e-002 4.67135631e-207 3.68864122e-193]\n"
     ]
    }
   ],
   "source": [
    "posterior0 = prior0*total_likelihood0\n",
    "posterior1 = prior1*total_likelihood1\n",
    "\n",
    "print(posterior0)\n",
    "print(posterior1)"
   ]
  },
  {
   "cell_type": "code",
   "execution_count": 105,
   "metadata": {},
   "outputs": [
    {
     "data": {
      "text/plain": [
       "array([1, 0, 0])"
      ]
     },
     "execution_count": 105,
     "metadata": {},
     "output_type": "execute_result"
    }
   ],
   "source": [
    "yhat = 1 * (posterior1 > posterior0)\n",
    "\n",
    "yhat"
   ]
  },
  {
   "cell_type": "code",
   "execution_count": 1,
   "metadata": {},
   "outputs": [
    {
     "data": {
      "image/png": "[encoded data removed]",
      "text/plain": [
       "<Figure size 432x288 with 1 Axes>"
      ]
     },
     "metadata": {
      "needs_background": "light"
     },
     "output_type": "display_data"
    }
   ],
   "source": [
    "#Exercise:\n",
    "import matplotlib.pyplot as plt\n",
    "from sklearn.datasets import make_classification\n",
    "\n",
    "X, y = make_classification(n_samples=500, n_features=10, n_redundant=2, n_informative=7,\n",
    "                             n_clusters_per_class=2, random_state=14)\n",
    "plt.scatter(X[:, 0], X[:, 1], marker='o', c=y,\n",
    "            s=25, edgecolor='k')\n",
    "\n",
    "#1. load the data (done!)\n",
    "#2. act like you do EDA (done!)\n",
    "\n",
    "#3. split\n",
    "from sklearn.model_selection import train_test_split\n",
    "\n",
    "X_train, X_test, y_train, y_test = train_test_split(X, y, test_size=0.3, random_state=999)\n",
    "\n",
    "#4.preprocess - clean (no need), standardize\n",
    "from sklearn.preprocessing import StandardScaler\n",
    "\n",
    "sc = StandardScaler()\n",
    "X_train = sc.fit_transform(X_train)\n",
    "X_test = sc.transform(X_test)"
   ]
  },
  {
   "cell_type": "code",
   "execution_count": 2,
   "metadata": {},
   "outputs": [
    {
     "data": {
      "text/plain": [
       "((350, 10), (150, 10), (350,), (150,))"
      ]
     },
     "execution_count": 2,
     "metadata": {},
     "output_type": "execute_result"
    }
   ],
   "source": [
    "X_train.shape, X_test.shape, y_train.shape, y_test.shape"
   ]
  },
  {
   "cell_type": "code",
   "execution_count": 148,
   "metadata": {},
   "outputs": [],
   "source": [
    "class GNB():\n",
    "    def __init__(self):\n",
    "        pass\n",
    "\n",
    "    def _prior(self,y_train):\n",
    "        m0 = len(y_train[y_train==0])\n",
    "        m1 = len(y_train[y_train==1])\n",
    "        m = len(y_train)\n",
    "        prior0 = m0/m\n",
    "        prior1 = m1/m\n",
    "        return prior0, prior1\n",
    "\n",
    "    def _mean_std(self,X_train,y_train,k):\n",
    "        #create empty mean and std:\n",
    "        n = X_train.shape[1]\n",
    "        mean = np.zeros((k,n))\n",
    "        std = np.zeros((k,n))\n",
    "        #for loop, loop each condition\n",
    "        for label in range(k):\n",
    "            mean[label,:] = np.mean(X_train[y_train==label],axis=0)\n",
    "            std[label,:] = np.std(X_train[y_train==label],axis=0)\n",
    "        return mean, std\n",
    "\n",
    "    def _gaussian_pdf(self,X_test, mean, std):\n",
    "        left = 1/(np.sqrt(2*np.pi)*std)\n",
    "        power = (X_test - mean)**2/(2*std**2)\n",
    "        return left * np.exp(-power)\n",
    "\n",
    "    def predict(self,X_test):\n",
    "        likelihood0 = self._gaussian_pdf(X_test,self.mean[0,:],self.std[0,:]) \n",
    "        likelihood1 = self._gaussian_pdf(X_test,self.mean[1,:],self.std[1,:]) \n",
    "\n",
    "        total_likelihood0 = np.prod(likelihood0,axis=1)\n",
    "        total_likelihood1 = np.prod(likelihood1,axis=1)\n",
    "\n",
    "        posterior0 = prior0 * total_likelihood0\n",
    "        posterior1 = prior1 * total_likelihood1\n",
    "        \n",
    "        y_pred = 1 * (posterior1 > posterior0)\n",
    "        return y_pred\n",
    "\n",
    "\n",
    "    def fit(self,X_train,y_train):\n",
    "        k = len(set(y_train))\n",
    "        # print(k)\n",
    "        self.mean, self.std = self._mean_std(X_train,y_train,k)\n",
    "        self.prior0,self.prior1 = self._prior(y_train)"
   ]
  },
  {
   "cell_type": "code",
   "execution_count": 152,
   "metadata": {},
   "outputs": [
    {
     "data": {
      "text/plain": [
       "array([0, 1, 0, 0, 1, 1, 0, 1, 0, 0, 0, 1, 1, 1, 0, 1, 1, 1, 0, 1, 0, 0,\n",
       "       0, 0, 0, 1, 0, 0, 0, 0, 0, 1, 0, 0, 1, 1, 0, 1, 1, 0, 1, 0, 0, 1,\n",
       "       1, 0, 0, 0, 0, 0, 0, 0, 0, 0, 1, 0, 0, 0, 0, 0, 0, 0, 1, 0, 0, 1,\n",
       "       0, 0, 1, 0, 1, 1, 0, 1, 0, 1, 0, 0, 1, 0, 1, 0, 0, 0, 0, 0, 0, 0,\n",
       "       0, 0, 0, 0, 1, 1, 0, 1, 0, 1, 0, 0, 0, 0, 1, 1, 0, 1, 1, 1, 0, 0,\n",
       "       1, 1, 1, 0, 1, 1, 1, 0, 1, 1, 0, 1, 1, 0, 1, 1, 1, 0, 1, 1, 0, 1,\n",
       "       0, 1, 0, 1, 0, 0, 1, 0, 0, 1, 0, 0, 1, 0, 0, 1, 0, 0])"
      ]
     },
     "execution_count": 152,
     "metadata": {},
     "output_type": "execute_result"
    }
   ],
   "source": [
    "#5. apply the naive bay algorithm (make it into a class)\n",
    "    #fit(), predict()\n",
    "model = GNB()\n",
    "model.fit(X_train,y_train)\n",
    "#6. predict with X_test\n",
    "yhat = model.predict(X_test)\n",
    "\n",
    "yhat"
   ]
  },
  {
   "cell_type": "code",
   "execution_count": 154,
   "metadata": {},
   "outputs": [
    {
     "data": {
      "text/plain": [
       "0.7933333333333333"
      ]
     },
     "execution_count": 154,
     "metadata": {},
     "output_type": "execute_result"
    }
   ],
   "source": [
    "from sklearn.metrics import classification_report, accuracy_score, confusion_matrix\n",
    "accuracy_score(y_test,yhat)"
   ]
  },
  {
   "cell_type": "code",
   "execution_count": 155,
   "metadata": {},
   "outputs": [
    {
     "name": "stdout",
     "output_type": "stream",
     "text": [
      "              precision    recall  f1-score   support\n",
      "\n",
      "           0       0.76      0.87      0.81        78\n",
      "           1       0.84      0.71      0.77        72\n",
      "\n",
      "    accuracy                           0.79       150\n",
      "   macro avg       0.80      0.79      0.79       150\n",
      "weighted avg       0.80      0.79      0.79       150\n",
      "\n"
     ]
    }
   ],
   "source": [
    "print(classification_report(y_test,yhat))"
   ]
  },
  {
   "cell_type": "code",
   "execution_count": 161,
   "metadata": {},
   "outputs": [
    {
     "data": {
      "text/plain": [
       "<sklearn.metrics._plot.confusion_matrix.ConfusionMatrixDisplay at 0x213d2acd600>"
      ]
     },
     "execution_count": 161,
     "metadata": {},
     "output_type": "execute_result"
    },
    {
     "data": {
      "image/png": "[encoded data removed]",
      "text/plain": [
       "<Figure size 432x288 with 2 Axes>"
      ]
     },
     "metadata": {
      "needs_background": "light"
     },
     "output_type": "display_data"
    }
   ],
   "source": [
    "from sklearn.metrics import ConfusionMatrixDisplay\n",
    "cm = confusion_matrix(y_test,yhat)\n",
    "\n",
    "cmd = ConfusionMatrixDisplay(cm,display_labels=[0,1])\n",
    "cmd.plot()"
   ]
  },
  {
   "cell_type": "markdown",
   "metadata": {},
   "source": [
    "The proof is as follows:\n",
    "\n",
    "- the probabilty of two events x and y happening, $P(x \\cap y)$ is the probability of $x$ or $P(x)$, times the probability of $y$ given that $P(x)$ has occured, $P(y \\mid x)$\n",
    "\n",
    "$$ P(x \\cap y) = P(x)P(y \\mid x)$$\n",
    "\n",
    "- on the other hand, the probability of $x$ and $y$ is also equal to the probability of $y$ timese the probabilty of $x$ given $y$\n",
    "\n",
    "$$ P(x \\cap y) = P(y)P(x \\mid y)$$\n",
    "\n",
    "- Equating the two yields:\n",
    "\n",
    "$$ P(x)P(y \\mid x) = P(y)P(x \\mid y)$$\n",
    "\n",
    "- Thus\n",
    "\n",
    "$$ P(y \\mid x) = \\frac{P(y)P(x \\mid y)}{P(x)}$$"
   ]
  },
  {
   "cell_type": "markdown",
   "metadata": {},
   "source": [
    "$$ P(x \\mid y=1 ; \\mu_1, \\sigma^{2}) = \\frac{1}{\\sqrt{2\\pi\\sigma^{2}}}e ^{-\\frac{(x-\\mu_1)^{2}}{2\\sigma^{2}}}$$\n",
    "$$ P(x \\mid y=0 ; \\mu_0, \\sigma^{2}) = \\frac{1}{\\sqrt{2\\pi\\sigma^{2}}}e ^{-\\frac{(x-\\mu_0)^{2}}{2\\sigma^{2}}}$$"
   ]
  }
 ],
 "metadata": {
  "kernelspec": {
   "display_name": "Python 3.10.4 64-bit",
   "language": "python",
   "name": "python3"
  },
  "language_info": {
   "codemirror_mode": {
    "name": "ipython",
    "version": 3
   },
   "file_extension": ".py",
   "mimetype": "text/x-python",
   "name": "python",
   "nbconvert_exporter": "python",
   "pygments_lexer": "ipython3",
   "version": "3.10.4"
  },
  "orig_nbformat": 4,
  "vscode": {
   "interpreter": {
    "hash": "c81d839d3c4227cd770621df97fe8191838af02e7eef185a922d8250cb33d344"
   }
  }
 },
 "nbformat": 4,
 "nbformat_minor": 2
}
