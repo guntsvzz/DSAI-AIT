{
 "cells": [
  {
   "cell_type": "markdown",
   "metadata": {},
   "source": [
    "# Multinomial Logistic Regressiion from Scratch\n",
    "- Fundamental of all deep learing operations, concerning classificaiton\n",
    "- Multinomial - used multinomial distributions to derive the likelihood.....\n",
    "              - multiclass version of logistic regression\n"
   ]
  },
  {
   "cell_type": "markdown",
   "metadata": {},
   "source": [
    "#### Four steps:\n",
    "\n",
    "1.  Predict - `X.shape = (m, n); y.shape = (m, k); theta/w/weights.shape = (n,k)`\n",
    "\n",
    "    What should $g(x)$ input and output?\n",
    "\n",
    "    input  = X : (m,n)\n",
    "    output = yhat : (m,k)\n",
    "\n",
    "    Mathematially, $g(x)$ an adapted version of the sigmoid formula, so that it outputs (m,k). We called this $g(x)$ the **softmax** function.\n",
    "    \n",
    "    $$ h = P(y = c | \\theta) = \\frac{e^{\\mathbf{X}\\theta_c}}{\\sum_{i=1}^k e^{\\mathbf{X}\\theta_c}}$$\n",
    "\n",
    "    Divison makes sure the probability sums to 1\n",
    "\n",
    "    Why $e$ \n",
    "    - $e$ always give positive number, so it's a perfect guy to calculate probability!\n",
    "    - But hey, Chaky, $e$ to the power of something gives me some number, \n",
    "    like very ihg number, like 8103...., so how it can be probability\n",
    "        - Ans : very simple, just divide by all e, then they will be frac of 1\n",
    "    - Derivative of e cancels nicely with log:\n",
    "    \n",
    "\n",
    "    Why is called softmax?\n",
    "    - What is hardmax ==> [2,3,4] ==> [0,0,1]\n",
    "        - The y vector only probability of either 1 or 0\n",
    "    - softmax: ==> [2,3,4] ==> [0.05,0.15,0.8] addup to 1\n",
    "\n",
    "\n",
    "2.  Find the gradient\n",
    "   \n",
    "    2.1 We must first define the $J(\\theta)$\n",
    "        Note: \n",
    "        - If y = [0,0,1,0], and yhat = [0.1,0.1,0.7,0.1], then J must be low\n",
    "            - y * h = [0,0,0.7,0]\n",
    "        - If y = [0,0,1,0], and yhat = [0.9,0.03,0.03,0.04], then J must be High\n",
    "            - y * h = [0,0,0.03,0]\n",
    "\n",
    "    $$J = -\\sum_{i=1}^m \\mathbf{Y}^{(i)}* log({\\mathbf{H}}^{(i)})$$\n",
    "             \n",
    "\n",
    "    2.2 $$\\frac{\\partial J}{\\partial \\theta_j} = \\mathbf{X}^T ({\\mathbf{H}} - \\mathbf{Y})$$\n",
    "\n",
    "3. Update the theta \n",
    "\n",
    "    $$\\theta := \\theta - \\alpha * \\frac{\\partial J}{\\partial \\theta_j}$$\n",
    "\n",
    "4. Repeat 1, 2, 3 until either (1) `num_epochs` reach limit, or (2) early stopping (which I asked you to implement in your assignment)"
   ]
  },
  {
   "attachments": {},
   "cell_type": "markdown",
   "metadata": {},
   "source": [
    "## Let's code"
   ]
  },
  {
   "cell_type": "code",
   "execution_count": 1,
   "metadata": {},
   "outputs": [
    {
     "data": {
      "text/plain": [
       "(2, 3)"
      ]
     },
     "execution_count": 1,
     "metadata": {},
     "output_type": "execute_result"
    }
   ],
   "source": [
    "import numpy as np\n",
    "X = np.array([[1,3,8],[4,8,1]]) #X with two samples, and three features\n",
    "X.shape"
   ]
  },
  {
   "cell_type": "code",
   "execution_count": 2,
   "metadata": {},
   "outputs": [
    {
     "data": {
      "text/plain": [
       "array([1, 2], dtype=int64)"
      ]
     },
     "execution_count": 2,
     "metadata": {},
     "output_type": "execute_result"
    }
   ],
   "source": [
    "#initial y = [2,3] #k = 3, which i have class 1,2,3\n",
    "#but in ML/DL, we DON'T DEFINE y LIKE THIS\n",
    "#we define as a one-hot encoded vectors\n",
    "\n",
    "#for the 1st sample, the probability of being class 1 = 0; class 2 = 1; class 3 = 0\n",
    "y = np.array([[0,1,0],[0,0,1]])\n",
    "y.shape #(m,k) where k is number of classes\n",
    "\n",
    "#with this format, you can get probability of each class, not absolutely the class\n",
    "#which is silly.... because every prediction is probabiliistic\n",
    "\n",
    "#i also want to let you know how yhat typically look likes\n",
    "#the behavior is the probability sums to 1\n",
    "#the probability of class 1 is 0.05, class2 is 0.86, class 3 is 0.09\n",
    "yhat_example = np.array([[0.05,0.86,0.09],[0.3,0.3,0.4]])\n",
    "yhat_example.shape #(m,k)\n",
    "\n",
    "#duriing like real prediction, we take the index with the highest probability\n",
    "#this is what i want - [2,3]\n",
    "#so how to ocnvert yhat_example to [2,3]; Ans: argmax\n",
    "np.argmax(yhat_example,axis=1) #since the index starts at 0\n",
    "#so here,let's assume the class is 0,1,2"
   ]
  },
  {
   "cell_type": "code",
   "execution_count": 3,
   "metadata": {},
   "outputs": [
    {
     "data": {
      "text/plain": [
       "'\\nX : (m,n)\\nw/theta/weight : (?,?)\\ny : (m,k)\\n(m,n) @ (n,k) = (m,k)\\n'"
      ]
     },
     "execution_count": 3,
     "metadata": {},
     "output_type": "execute_result"
    }
   ],
   "source": [
    "'''\n",
    "X : (m,n)\n",
    "w/theta/weight : (?,?)\n",
    "y : (m,k)\n",
    "(m,n) @ (n,k) = (m,k)\n",
    "'''\n",
    "# w = np.ones((X.shape[1],len(y.unique())))\n",
    "#assuming my y is not yet one-hot encoded...."
   ]
  },
  {
   "cell_type": "markdown",
   "metadata": {},
   "source": [
    " $$ h = P(y = c | \\theta) = \\frac{e^{\\mathbf{X}\\theta_c}}{\\sum_{i=1}^k e^{\\mathbf{X}\\theta_c}}$$"
   ]
  },
  {
   "cell_type": "code",
   "execution_count": 4,
   "metadata": {},
   "outputs": [
    {
     "data": {
      "text/plain": [
       "(2, 3)"
      ]
     },
     "execution_count": 4,
     "metadata": {},
     "output_type": "execute_result"
    }
   ],
   "source": [
    "X.shape"
   ]
  },
  {
   "cell_type": "code",
   "execution_count": 5,
   "metadata": {},
   "outputs": [
    {
     "data": {
      "text/plain": [
       "array([[0, 1, 2],\n",
       "       [3, 4, 5],\n",
       "       [6, 7, 8]])"
      ]
     },
     "execution_count": 5,
     "metadata": {},
     "output_type": "execute_result"
    }
   ],
   "source": [
    "theta = np.arange(9).reshape((X.shape[1],3))\n",
    "theta"
   ]
  },
  {
   "cell_type": "code",
   "execution_count": 6,
   "metadata": {},
   "outputs": [],
   "source": [
    "#so please write the softmax function,\n",
    "#can calculate the yhat wuth the given data\n",
    "def softmax(X,theta):\n",
    "    return np.exp(X @ theta)/np.sum(np.exp(X @ theta), axis = 1, keepdims=True) #.reshape(-1,1)\n",
    "\n",
    "yhat = softmax(X,theta) #(2,3) @ (3,3) = (2,3)\n",
    "sum = yhat.sum(axis=1)\n",
    "\n",
    "assert yhat.shape == (X.shape[0],3)\n",
    "assert np.all(sum == 1) #True or False statement "
   ]
  },
  {
   "attachments": {},
   "cell_type": "markdown",
   "metadata": {},
   "source": [
    "### Cross Entropy Loss\n",
    "$$J = -\\sum_{i=1}^m \\mathbf{y}^{(i)}* log({\\mathbf{h}}^{(i)})$$"
   ]
  },
  {
   "cell_type": "code",
   "execution_count": 7,
   "metadata": {},
   "outputs": [
    {
     "name": "stdout",
     "output_type": "stream",
     "text": [
      "good,bad = (0.10536051565782628, 2.3025850929940455)\n"
     ]
    }
   ],
   "source": [
    "#1. Implement this loss function - crossentropy \n",
    "def crossentropy(Y,H):\n",
    "    grad = - np.sum(Y*np.log(H)) #because this should five me one number, because J is a number\n",
    "    return grad\n",
    "\n",
    "#2. create a y, a good yhat, a bad yaht\n",
    "y = np.array([[0,0,1,0]]) #(1,k)\n",
    "yhat_good = np.array([[0.01,0.03,0.9,0.03]])\n",
    "yhat_bad = np.array([[0.3,0.3,0.1,0.3]])\n",
    "#3. And check the loss. The good yhat should have low loss, and bad yhat should high loss\n",
    "good = crossentropy(y,yhat_good)\n",
    "bad = crossentropy(y,yhat_bad)\n",
    "print(f\"{good,bad = }\")\n",
    "#4. Optional: try to understand what does 'log' do to h"
   ]
  },
  {
   "cell_type": "code",
   "execution_count": 8,
   "metadata": {},
   "outputs": [
    {
     "data": {
      "text/plain": [
       "Text(0, 0.5, 'loss')"
      ]
     },
     "execution_count": 8,
     "metadata": {},
     "output_type": "execute_result"
    },
    {
     "data": {
      "image/png": "[encoded data removed]",
      "text/plain": [
       "<Figure size 432x288 with 1 Axes>"
      ]
     },
     "metadata": {
      "needs_background": "light"
     },
     "output_type": "display_data"
    }
   ],
   "source": [
    "import matplotlib.pyplot as plt\n",
    "\n",
    "yhat = np.linspace(0.1,0.99,1000)\n",
    "plt.plot(yhat,-np.log(yhat))\n",
    "plt.xlabel('prob')\n",
    "plt.ylabel('loss')\n",
    "\n",
    "\n",
    "#three purposes of log\n",
    "\n",
    "#1. by doing this, you will notice one thing:\n",
    "#smail probability will be kept small\n",
    "#only the very big probability will be enlarged\n",
    "#Recall the definition of softmax\n",
    "\n",
    "#2. it keep small probability in check\n",
    "    #i.e., no errors like 0.00000000001 == 0\n",
    "    #by doing np.log, this value is kept\n",
    "\n",
    "#3. log deals very nicely with e, thet cancel one another\n",
    "    #the magic happens when we find the gradient"
   ]
  },
  {
   "cell_type": "markdown",
   "metadata": {},
   "source": [
    "# Let's code multinomial logistic regression"
   ]
  },
  {
   "cell_type": "code",
   "execution_count": 25,
   "metadata": {},
   "outputs": [],
   "source": [
    "#1. load sklearn iris dataset\n",
    "from sklearn.datasets import load_iris\n",
    "X,y = load_iris(return_X_y=True)\n",
    "#1.1 optionally, act like you do some EDA with plotting\n",
    "# plt.plot(X[:,0],X[:,1],c=y)"
   ]
  },
  {
   "cell_type": "code",
   "execution_count": 26,
   "metadata": {},
   "outputs": [],
   "source": [
    "#2. perform split, standardization, whatever you call\n",
    "from sklearn.model_selection import train_test_split\n",
    "X_train, X_test, y_train, y_test = train_test_split(X, y, test_size=0.2,random_state=100)\n",
    "\n",
    "X_train = np.insert(X_train,0,1,axis=1)\n",
    "X_test = np.insert(X_test,0,1,axis=1)\n",
    "#hint: check how your y look like\n",
    "#2.1 convert your y to one-hot encoded y\n",
    "#1 - male the np.zero one-hot encode y_train\n",
    "#don't worry\n",
    "#use sklearn.preprocessing import OnehotEncoder\n",
    "#use pd.get_dummies().to_numpy()\n",
    "# m = X_train.shape[0]\n",
    "# k = len(set(y_train))\n",
    "# oh_y_train = np.zeros((m,k))\n",
    "# #2 - get the index which it is one\n",
    "# for i in range(k):\n",
    "#      cond = y_train == i\n",
    "#      oh_y_train[cond,i] = 1"
   ]
  },
  {
   "cell_type": "code",
   "execution_count": 22,
   "metadata": {},
   "outputs": [
    {
     "data": {
      "text/plain": [
       "numpy.ndarray"
      ]
     },
     "execution_count": 22,
     "metadata": {},
     "output_type": "execute_result"
    }
   ],
   "source": [
    "import pandas as pd\n",
    "y_train = pd.get_dummies(y_train,drop_first=False).to_numpy()\n",
    "# y_train.value_counts()\n",
    "type(y_train)"
   ]
  },
  {
   "cell_type": "code",
   "execution_count": 23,
   "metadata": {},
   "outputs": [
    {
     "data": {
      "text/plain": [
       "((120, 5), (30, 5), (120, 3))"
      ]
     },
     "execution_count": 23,
     "metadata": {},
     "output_type": "execute_result"
    }
   ],
   "source": [
    "X_train.shape,X_test.shape,y_train.shape"
   ]
  },
  {
   "cell_type": "code",
   "execution_count": 13,
   "metadata": {},
   "outputs": [],
   "source": [
    "#3. implement class MultinomialLogisticRegression with fit() and predict()\n",
    "class MultinomialLogisticRegression():\n",
    "    def __init__(self,alpha=0.001,num_epochs=5):\n",
    "        self.alpha = alpha\n",
    "        self.num_epochs = num_epochs\n",
    "\n",
    "    def fit(self,X_train,y_train):\n",
    "        m, n, k = X_train.shape[0], X_train.shape[1], y_train.shape[1]\n",
    "        self.theta = np.ones((n,k)) \n",
    "        self.losses = []\n",
    "        #optional: premute here but i gonna skip\n",
    "        for epoch in range(self.num_epochs):\n",
    "            perm = np.random.permutation(X_train.shape[0])\n",
    "            X_train = X_train[perm]\n",
    "            y_train = y_train[perm]\n",
    "            self._train(X_train, y_train)\n",
    "        return self.losses\n",
    "\n",
    "    def crossentropy(self, y, H): #H = yhat =F(x)\n",
    "        return -np.sum(y*np.log(H))\n",
    "\n",
    "    def _train(self, X, y):\n",
    "        m = X.shape[0]\n",
    "        y_hat = self._predict(X)\n",
    "        # #1.1 optional : keep the loss \n",
    "        loss = self.crossentropy(y,y_hat)\n",
    "        self.losses.append(loss)\n",
    "        grad = self._gradient(X, y_hat - y)\n",
    "        # print(grad)\n",
    "        self.theta = self.theta - self.alpha*grad\n",
    "        \n",
    "    def _gradient(self,X,error):\n",
    "        return X.T @ error \n",
    "\n",
    "    def softmax(self,input):\n",
    "        return np.exp(input)/np.sum(np.exp(input), axis = 1, keepdims=True)\n",
    "\n",
    "    def predict(self,X): #fx, h_theta \n",
    "        input = X @ self.theta\n",
    "        return np.argmax(input, axis = 1)\n",
    "\n",
    "    def _predict(self,X): #fx, h_theta \n",
    "        input = X @ self.theta\n",
    "        return self.softmax(input)"
   ]
  },
  {
   "cell_type": "code",
   "execution_count": 14,
   "metadata": {},
   "outputs": [
    {
     "data": {
      "text/plain": [
       "Text(0, 0.5, 'Losses')"
      ]
     },
     "execution_count": 14,
     "metadata": {},
     "output_type": "execute_result"
    },
    {
     "data": {
      "image/png": "[encoded data removed]",
      "text/plain": [
       "<Figure size 432x288 with 1 Axes>"
      ]
     },
     "metadata": {
      "needs_background": "light"
     },
     "output_type": "display_data"
    }
   ],
   "source": [
    "#4. test with test set, and prine sklearn.metric classification reports, as well skelarn.metrics confusion matrix\n",
    "    #use argmax, because your test set i NOT one-hot encoded\n",
    "model = MultinomialLogisticRegression()\n",
    "train_losses = model.fit(X_train,y_train)\n",
    "ypred = model.predict(X_test)\n",
    "#4.1 optional plooting \n",
    "plt.plot(train_losses)\n",
    "plt.xlabel(\"Iteration\")\n",
    "plt.ylabel(\"Losses\")"
   ]
  },
  {
   "cell_type": "code",
   "execution_count": 15,
   "metadata": {},
   "outputs": [
    {
     "name": "stdout",
     "output_type": "stream",
     "text": [
      "              precision    recall  f1-score   support\n",
      "\n",
      "           0       1.00      1.00      1.00        11\n",
      "           1       0.32      1.00      0.48         6\n",
      "           2       0.00      0.00      0.00        13\n",
      "\n",
      "    accuracy                           0.57        30\n",
      "   macro avg       0.44      0.67      0.49        30\n",
      "weighted avg       0.43      0.57      0.46        30\n",
      "\n",
      "AxesSubplot(0.125,0.125;0.62x0.755)\n"
     ]
    },
    {
     "name": "stderr",
     "output_type": "stream",
     "text": [
      "c:\\Python3.10.4\\lib\\site-packages\\sklearn\\metrics\\_classification.py:1318: UndefinedMetricWarning: Precision and F-score are ill-defined and being set to 0.0 in labels with no predicted samples. Use `zero_division` parameter to control this behavior.\n",
      "  _warn_prf(average, modifier, msg_start, len(result))\n",
      "c:\\Python3.10.4\\lib\\site-packages\\sklearn\\metrics\\_classification.py:1318: UndefinedMetricWarning: Precision and F-score are ill-defined and being set to 0.0 in labels with no predicted samples. Use `zero_division` parameter to control this behavior.\n",
      "  _warn_prf(average, modifier, msg_start, len(result))\n",
      "c:\\Python3.10.4\\lib\\site-packages\\sklearn\\metrics\\_classification.py:1318: UndefinedMetricWarning: Precision and F-score are ill-defined and being set to 0.0 in labels with no predicted samples. Use `zero_division` parameter to control this behavior.\n",
      "  _warn_prf(average, modifier, msg_start, len(result))\n"
     ]
    },
    {
     "data": {
      "image/png": "[encoded data removed]",
      "text/plain": [
       "<Figure size 432x288 with 2 Axes>"
      ]
     },
     "metadata": {
      "needs_background": "light"
     },
     "output_type": "display_data"
    }
   ],
   "source": [
    "from sklearn.metrics import classification_report,confusion_matrix\n",
    "import seaborn as sns\n",
    "print(classification_report(y_test,ypred))\n",
    "# print(confusion_matrix(y_test,ypred))\n",
    "print(sns.heatmap(confusion_matrix(y_test,ypred),annot=True))"
   ]
  },
  {
   "cell_type": "code",
   "execution_count": 16,
   "metadata": {},
   "outputs": [
    {
     "data": {
      "text/plain": [
       "((30,), (30,))"
      ]
     },
     "execution_count": 16,
     "metadata": {},
     "output_type": "execute_result"
    }
   ],
   "source": [
    "y_test.shape,ypred.shape"
   ]
  },
  {
   "cell_type": "code",
   "execution_count": 17,
   "metadata": {},
   "outputs": [
    {
     "name": "stdout",
     "output_type": "stream",
     "text": [
      "0.5666666666666667\n"
     ]
    }
   ],
   "source": [
    "from sklearn.metrics import accuracy_score\n",
    "print(accuracy_score(y_test,ypred))"
   ]
  },
  {
   "cell_type": "code",
   "execution_count": 28,
   "metadata": {},
   "outputs": [
    {
     "name": "stdout",
     "output_type": "stream",
     "text": [
      "              precision    recall  f1-score   support\n",
      "\n",
      "           0       1.00      1.00      1.00        11\n",
      "           1       1.00      0.83      0.91         6\n",
      "           2       0.93      1.00      0.96        13\n",
      "\n",
      "    accuracy                           0.97        30\n",
      "   macro avg       0.98      0.94      0.96        30\n",
      "weighted avg       0.97      0.97      0.97        30\n",
      "\n",
      "AxesSubplot(0.125,0.125;0.62x0.755)\n",
      "0.5666666666666667\n"
     ]
    },
    {
     "data": {
      "image/png": "[encoded data removed]",
      "text/plain": [
       "<Figure size 432x288 with 2 Axes>"
      ]
     },
     "metadata": {
      "needs_background": "light"
     },
     "output_type": "display_data"
    }
   ],
   "source": [
    "#5. compare your results with sklearn.linear_model.LogistricRegression()\n",
    "from sklearn.linear_model import LogisticRegression\n",
    "\n",
    "lr = LogisticRegression()\n",
    "lr.fit(X_train,y_train)\n",
    "ypred_sk = lr.predict(X_test)\n",
    "\n",
    "print(classification_report(y_test,ypred_sk))\n",
    "print(sns.heatmap(confusion_matrix(y_test,ypred_sk),annot=True))\n",
    "\n",
    "from sklearn.metrics import accuracy_score\n",
    "print(accuracy_score(y_test,ypred))"
   ]
  },
  {
   "cell_type": "code",
   "execution_count": null,
   "metadata": {},
   "outputs": [],
   "source": []
  }
 ],
 "metadata": {
  "kernelspec": {
   "display_name": "Python 3.10.4 64-bit",
   "language": "python",
   "name": "python3"
  },
  "language_info": {
   "codemirror_mode": {
    "name": "ipython",
    "version": 3
   },
   "file_extension": ".py",
   "mimetype": "text/x-python",
   "name": "python",
   "nbconvert_exporter": "python",
   "pygments_lexer": "ipython3",
   "version": "3.10.4"
  },
  "orig_nbformat": 4,
  "vscode": {
   "interpreter": {
    "hash": "c81d839d3c4227cd770621df97fe8191838af02e7eef185a922d8250cb33d344"
   }
  }
 },
 "nbformat": 4,
 "nbformat_minor": 2
}
