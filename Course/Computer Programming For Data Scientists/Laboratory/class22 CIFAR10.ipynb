{
 "cells": [
  {
   "cell_type": "markdown",
   "metadata": {},
   "source": [
    "# Workshop on CIFAR10\n",
    "\n",
    "Today you will be working on CIFAR10 on your own\n",
    "\n",
    "Good luck"
   ]
  },
  {
   "cell_type": "code",
   "execution_count": 2,
   "metadata": {},
   "outputs": [],
   "source": [
    "import torch\n",
    "from torchvision import datasets, transforms\n",
    "import torch.nn as nn\n",
    "from torch.utils.data import DataLoader\n",
    "from torchvision.utils import make_grid\n",
    "\n",
    "import sys,time\n",
    "import numpy as np\n",
    "import pandas as pd\n",
    "from sklearn.metrics import confusion_matrix, ConfusionMatrixDisplay\n",
    "import matplotlib.pyplot as plt"
   ]
  },
  {
   "cell_type": "code",
   "execution_count": 3,
   "metadata": {},
   "outputs": [
    {
     "name": "stdout",
     "output_type": "stream",
     "text": [
      "cpu\n"
     ]
    }
   ],
   "source": [
    "device = torch.device('cuda:0' if torch.cuda.is_available() else 'cpu')\n",
    "print(device)\n",
    "\n",
    "#change this five times to get 5 cross validation\n",
    "SEED = 999\n",
    "torch.manual_seed(SEED)\n",
    "torch.backends.cudnn.deterministic = True"
   ]
  },
  {
   "cell_type": "markdown",
   "metadata": {},
   "source": [
    "## 1. ETL : Load the MNIST"
   ]
  },
  {
   "cell_type": "code",
   "execution_count": 4,
   "metadata": {},
   "outputs": [
    {
     "name": "stdout",
     "output_type": "stream",
     "text": [
      "Files already downloaded and verified\n",
      "Files already downloaded and verified\n"
     ]
    }
   ],
   "source": [
    "#use datasets.CIFAR to get train and test\n",
    "#then split train to train and val in the percentage of 80:20\n",
    "transform = transforms.ToTensor()\n",
    "train_data = datasets.CIFAR10(root=\"../data/\",train=True,download=True,transform= transform)\n",
    "test_set  = datasets.CIFAR10(root='../data', train=False, download=True, transform=transform)"
   ]
  },
  {
   "cell_type": "code",
   "execution_count": 5,
   "metadata": {},
   "outputs": [
    {
     "data": {
      "text/plain": [
       "(50000, 10000)"
      ]
     },
     "execution_count": 5,
     "metadata": {},
     "output_type": "execute_result"
    }
   ],
   "source": [
    "len(train_data), len(test_set)"
   ]
  },
  {
   "cell_type": "code",
   "execution_count": 6,
   "metadata": {},
   "outputs": [
    {
     "data": {
      "text/plain": [
       "(40000, 10000)"
      ]
     },
     "execution_count": 6,
     "metadata": {},
     "output_type": "execute_result"
    }
   ],
   "source": [
    "train_set,val_set = torch.utils.data.random_split(train_data,[40000,10000])\n",
    "len(train_set), len(val_set)"
   ]
  },
  {
   "cell_type": "markdown",
   "metadata": {},
   "source": [
    "## 2. EDA"
   ]
  },
  {
   "cell_type": "code",
   "execution_count": 10,
   "metadata": {},
   "outputs": [
    {
     "data": {
      "text/plain": [
       "2"
      ]
     },
     "execution_count": 10,
     "metadata": {},
     "output_type": "execute_result"
    },
    {
     "data": {
      "image/png": "[encoded data removed]",
      "text/plain": [
       "<Figure size 432x288 with 1 Axes>"
      ]
     },
     "metadata": {
      "needs_background": "light"
     },
     "output_type": "display_data"
    }
   ],
   "source": [
    "#Task 1: Please print one sample image of the training set\n",
    "#permute from C,W,H ==> W,H,C beacuse imshow wants this shape\n",
    "image = torch.permute(train_set[0][0],(1,2,0))\n",
    "image.shape\n",
    "\n",
    "plt.imshow(image) \n",
    "train_set[0][1]"
   ]
  },
  {
   "cell_type": "code",
   "execution_count": 12,
   "metadata": {},
   "outputs": [
    {
     "data": {
      "text/plain": [
       "{0, 1, 2, 3, 4, 5, 6, 7, 8, 9}"
      ]
     },
     "execution_count": 12,
     "metadata": {},
     "output_type": "execute_result"
    }
   ],
   "source": [
    "#Task 2: check how many labels we have\n",
    "train_data.targets #is provided by torch dataset format\n",
    "set(train_data.targets)\n",
    "# you can len()"
   ]
  },
  {
   "cell_type": "code",
   "execution_count": 61,
   "metadata": {},
   "outputs": [],
   "source": [
    "#Task 3: for each label, print one sample image\n",
    "# for number in set(train_data.targets):\n",
    "#     for image,target in train_data:\n",
    "#         if number == target:\n",
    "#             plt.figure()\n",
    "#             image = torch.permute(train_set[number][0],(1,2,0))\n",
    "#             plt.title(number)\n",
    "#             plt.imshow(image)\n",
    "#             break"
   ]
  },
  {
   "cell_type": "code",
   "execution_count": 63,
   "metadata": {},
   "outputs": [
    {
     "data": {
      "text/plain": [
       "([6, 9, 4, 1, 2, 7, 8, 3, 5, 0], [0, 1, 3, 4, 6, 7, 8, 9, 27, 29])"
      ]
     },
     "execution_count": 63,
     "metadata": {},
     "output_type": "execute_result"
    }
   ],
   "source": [
    "#Task 3: for each label, print one sample image\n",
    "indices = []\n",
    "labels = []\n",
    "for index, label in enumerate(train_data.targets):\n",
    "    if len(indices) < 10:\n",
    "        if label not in labels:\n",
    "            labels.append(label)\n",
    "            indices.append(index)\n",
    "            \n",
    "labels, indices"
   ]
  },
  {
   "cell_type": "code",
   "execution_count": 68,
   "metadata": {},
   "outputs": [
    {
     "data": {
      "text/plain": [
       "[29, 4, 6, 9, 3, 27, 0, 7, 8, 1]"
      ]
     },
     "execution_count": 68,
     "metadata": {},
     "output_type": "execute_result"
    }
   ],
   "source": [
    "sorted_indices = [ label for _, label in sorted(zip(labels, indices)) ]\n",
    "sorted_indices"
   ]
  },
  {
   "cell_type": "code",
   "execution_count": 69,
   "metadata": {},
   "outputs": [
    {
     "name": "stdout",
     "output_type": "stream",
     "text": [
      "Labels: tensor([0, 1, 2, 3, 4, 5, 6, 7, 8, 9])\n"
     ]
    },
    {
     "data": {
      "text/plain": [
       "<matplotlib.image.AxesImage at 0x1b6dd7fef80>"
      ]
     },
     "execution_count": 69,
     "metadata": {},
     "output_type": "execute_result"
    },
    {
     "data": {
      "image/png": "[encoded data removed]",
      "text/plain": [
       "<Figure size 720x576 with 1 Axes>"
      ]
     },
     "metadata": {
      "needs_background": "light"
     },
     "output_type": "display_data"
    }
   ],
   "source": [
    "images = []\n",
    "for i,image_index in enumerate(sorted_indices): #O[1]\n",
    "    image = train_data[image_index][0]\n",
    "    images.append(image)\n",
    "\n",
    "image_tensor = torch.stack(images,0) #make_grind(tensor)\n",
    "image_tensor.shape #tensor shape: B, C, W, H #(10, 3, 32, 32)\n",
    "\n",
    "print(\"Labels:\", torch.arange(10))\n",
    "\n",
    "grid_image = make_grid(image_tensor, nrow=5)  # the default nrow is 8\n",
    "grid_image = torch.permute(grid_image, (1, 2, 0))\n",
    "plt.figure(figsize=(10,8))\n",
    "plt.imshow(grid_image)"
   ]
  },
  {
   "cell_type": "markdown",
   "metadata": {},
   "source": [
    "## 3. Create dataloader for train, val, test"
   ]
  },
  {
   "cell_type": "code",
   "execution_count": 76,
   "metadata": {},
   "outputs": [],
   "source": [
    "batch_size = 100\n",
    "\n",
    "#format Dataloader(dataset,batch_size, shuffle)\n",
    "train_loader = DataLoader(train_set, batch_size = batch_size,    shuffle=True, pin_memory=True, num_workers=2)\n",
    "val_loader   = DataLoader(val_set,   batch_size = batch_size,  shuffle=True, pin_memory=True, num_workers=2) #batch_size = len(val_set)\n",
    "test_loader  = DataLoader(test_set,  batch_size = batch_size, shuffle=True, pin_memory=True, num_workers=2) #batch_size = len(test_set)"
   ]
  },
  {
   "cell_type": "markdown",
   "metadata": {},
   "source": [
    "### 3.1 Test to the dataloader"
   ]
  },
  {
   "cell_type": "code",
   "execution_count": 78,
   "metadata": {},
   "outputs": [
    {
     "name": "stdout",
     "output_type": "stream",
     "text": [
      "torch.Size([100, 3, 32, 32])\n",
      "torch.Size([100])\n"
     ]
    }
   ],
   "source": [
    "for image,label in train_loader:\n",
    "    print(image.shape) #what is the shape (100,3,32,32) == (batch_size, C, W, H)\n",
    "    print(label.shape) #what is the shape (100)\n",
    "    break\n",
    "\n",
    "image = torch.randn((100,3,32,32))"
   ]
  },
  {
   "cell_type": "markdown",
   "metadata": {},
   "source": [
    "## 4. Test your knowledge on conv2d"
   ]
  },
  {
   "cell_type": "code",
   "execution_count": 94,
   "metadata": {},
   "outputs": [
    {
     "data": {
      "text/plain": [
       "torch.Size([100, 3, 32, 32])"
      ]
     },
     "execution_count": 94,
     "metadata": {},
     "output_type": "execute_result"
    }
   ],
   "source": [
    "image.shape"
   ]
  },
  {
   "cell_type": "code",
   "execution_count": 105,
   "metadata": {},
   "outputs": [
    {
     "name": "stdout",
     "output_type": "stream",
     "text": [
      "torch.Size([100, 256, 30, 30])\n",
      "torch.Size([100, 128, 28, 28])\n",
      "torch.Size([100, 20])\n",
      "torch.Size([100, 10])\n"
     ]
    }
   ],
   "source": [
    "#create two layers of conv2d\n",
    "#from 3 -> 256 -> 128\n",
    "#image shape: (B,3,32,32)\n",
    "#format: nn.Conv2d(input_channel, output_channel, kernel_size, stride = 1,padding=0)\n",
    "#outsize = (input_size - kernel_size +2padding )/stride + 1\n",
    "layer1 = nn.Conv2d(3, 256, 3, 1, 0) \n",
    "out = layer1(image)\n",
    "print(out.shape)\n",
    "#out_size = (32 - 3) / 1 + 1\n",
    "#after layer 1: shape (B,256,30,30)\n",
    "layer2 = nn.Conv2d(256, 128, 3, 1, 0)\n",
    "out = layer2(out)\n",
    "print(out.shape)\n",
    "#out_size = (30 - 3) / 1 + 1\n",
    "#after layer 2: shape (B,128,28,28)\n",
    "\n",
    "#don't forget to reshape[B,128,28,28] ==> (B,128*28*28)\n",
    "out = out.reshape(-1,128*28*28) #linear layer can only take 2 layers\n",
    "\n",
    "#follow by two linear layer 128 -> 20 -> 10\n",
    "layer3 = nn.Linear(128*28*28,20)\n",
    "out = layer3(out)\n",
    "print(out.shape)\n",
    "#after layer 3: shape (B,20)\n",
    "layer4 = nn.Linear(20,10)\n",
    "out = layer4(out)\n",
    "print(out.shape)\n",
    "#after layer 4: shape (B,10)\n",
    "\n",
    "# layers = nn.Sequential(layer1,layer2,layer3,layer4)"
   ]
  },
  {
   "cell_type": "markdown",
   "metadata": {},
   "source": [
    "## 5. Desing the neural network"
   ]
  },
  {
   "cell_type": "code",
   "execution_count": 115,
   "metadata": {},
   "outputs": [],
   "source": [
    "class cifarCNN(nn.Module):\n",
    "    def __init__(self):\n",
    "        super().__init__()\n",
    "        #conv2d(3,256) -> relu -> batchnorm -> conv2d(256,128) -> relu -> batchnorm ->\n",
    "        self.layer1 = nn.Conv2d(3, 256, 3, 1, 0) \n",
    "        self.norm1 = nn.BatchNorm2d(256)\n",
    "        self.maxpool = nn.MaxPool2d(2,2)\n",
    "\n",
    "        self.layer2 = nn.Conv2d(256, 128, 3, 1, 0)\n",
    "        self.norm2 = nn.BatchNorm2d(128)\n",
    "        \n",
    "        #linear(128,64) -> relu -> linear(64,20) -> relu -> linear(20,10)\n",
    "        self.linear1 = nn.Linear(128*6*6, 64)\n",
    "        self.linear2 = nn.Linear(64, 20)\n",
    "        self.linear3 = nn.Linear(20, 10)\n",
    "    \n",
    "    def forward(self,image):\n",
    "        out = self.maxpool(self.relu(self.layer1(image)))\n",
    "        #out_size = 15\n",
    "        out = self.maxpool(self.relu(self.layer2(out)))\n",
    "        #(15 - 3) / 1 + 1 = 13 \n",
    "        #out_size = 6 (After maxpool)\n",
    "        out = out.reshape(-1, 128*6*6)\n",
    "        out = self.relu(self.linear1(out))\n",
    "        out = self.relu(self.linear2(out))\n",
    "        return self.linear3(out)"
   ]
  },
  {
   "cell_type": "markdown",
   "metadata": {},
   "source": [
    "## 6. Test the model"
   ]
  },
  {
   "cell_type": "code",
   "execution_count": 117,
   "metadata": {},
   "outputs": [
    {
     "data": {
      "text/plain": [
       "torch.Size([100, 10])"
      ]
     },
     "execution_count": 117,
     "metadata": {},
     "output_type": "execute_result"
    }
   ],
   "source": [
    "#creat the model, out them into the device\n",
    "model = cifarCNN().to(device)\n",
    "#let's use (B,C,W,H)\n",
    "image.shape\n",
    "#try input this image to the model\n",
    "out = model(image)\n",
    "#check the output size\n",
    "out.shape #[100, 10] = [Batch_size, output_size]"
   ]
  },
  {
   "cell_type": "markdown",
   "metadata": {},
   "source": [
    "## 7. Count the parameters"
   ]
  },
  {
   "cell_type": "code",
   "execution_count": 119,
   "metadata": {},
   "outputs": [
    {
     "name": "stdout",
     "output_type": "stream",
     "text": [
      "  6912\n",
      "   256\n",
      "   256\n",
      "   256\n",
      "294912\n",
      "   128\n",
      "   128\n",
      "   128\n",
      "6422528\n",
      "    64\n",
      "  1280\n",
      "    20\n",
      "   200\n",
      "    10\n",
      "______\n",
      "6727078\n"
     ]
    }
   ],
   "source": [
    "def count_parameters(model):\n",
    "    params = [p.numel() for p in model.parameters() if p.requires_grad]\n",
    "    for item in params:\n",
    "        print(f'{item:>6}')\n",
    "    print(f'______\\n{sum(params):>6}')\n",
    "    \n",
    "count_parameters(model)\n",
    "#whht is 6912 ? conv2d weight 3*256*3*3\n",
    "#what is 256 ? conv2d bias 128 come from the bias of the frist conv2d layers\n",
    "#256 gamma of batchnorm\n",
    "#256 lambda of batchnorms"
   ]
  },
  {
   "cell_type": "markdown",
   "metadata": {},
   "source": [
    "## 8. Training!!!"
   ]
  },
  {
   "cell_type": "code",
   "execution_count": 124,
   "metadata": {},
   "outputs": [
    {
     "name": "stdout",
     "output_type": "stream",
     "text": [
      "Epoch : 0; Batch Step ;    1 Train loss : 2.30\n",
      "Epoch : 0; Batch Step ;  201 Train loss : 2.30\n",
      "Epoch : 1; Batch Step ;    1 Train loss : 2.30\n",
      "Epoch : 1; Batch Step ;  201 Train loss : 2.31\n",
      "Epoch : 2; Batch Step ;    1 Train loss : 2.30\n",
      "Epoch : 2; Batch Step ;  201 Train loss : 2.31\n",
      "Epoch : 3; Batch Step ;    1 Train loss : 2.30\n",
      "Epoch : 3; Batch Step ;  201 Train loss : 2.30\n",
      "Epoch : 4; Batch Step ;    1 Train loss : 2.30\n",
      "Epoch : 4; Batch Step ;  201 Train loss : 2.30\n"
     ]
    }
   ],
   "source": [
    "#define loss\n",
    "criterion = nn.CrossEntropyLoss()\n",
    "#define optimizer\n",
    "optimizer = torch.optim.Adam(model.parameters(),lr=0.01)\n",
    "\n",
    "train_accs = []\n",
    "val_corr = []\n",
    "val_old_loss = float(\"inf\")\n",
    "filepath = '../models/cifacnn.pt'\n",
    "epochs = 5\n",
    "for e in range(epochs): #for epoch 5\n",
    "    total_train_corr = 0\n",
    "    for batch, (image,label) in enumerate(train_loader):  #for trainloader\n",
    "        image.to(device) #put image and label to device\n",
    "        label.to(device)\n",
    "\n",
    "        yhat = model(image) #1.predict\n",
    "        loss = criterion(yhat,label) #2.loss\n",
    "\n",
    "        #add accuracy\n",
    "        predicted = torch.max(yhat,1)[1]\n",
    "        bacth_train_corr = (predicted == label).sum()\n",
    "        total_train_corr += bacth_train_corr\n",
    "        train_acc = (total_train_corr * 100) / (batch_size * (batch + 1))\n",
    "        train_accs.append(train_acc)\n",
    "\n",
    "        optimizer.zero_grad() #3.clear gradient\n",
    "        loss.backward() #4.backpropagate\n",
    "        optimizer.step() #5.update\n",
    "\n",
    "        #print the loss\n",
    "        if (batch+1) % 100 == 1:\n",
    "            sys.stdout.write(f'/rBatch: {batch+1} - Loss: {loss}')\n",
    "            print(f'Epoch : {e}; Batch Step : {batch:3.0f} Train loss : {loss:.2f} Acc : {train_acc:.2f}')\n",
    "\n",
    "    #after each epoch , calculate the validation acc and loss\n",
    "    with torch.no_grad():\n",
    "        total_val_corr = 0\n",
    "        for (val_image,val_label) in val_loader:\n",
    "            val_image.to(device) #put image and label to device\n",
    "            val_label.to(device)\n",
    "            val_yhat = model(val_image)\n",
    "            val_loss = criterion(val_yhat,val_label)\n",
    "            #save the model with the lowest loss\n",
    "            if val_loss < val_old_loss:\n",
    "                torch.save(model.state_dict(), filepath) #state_dict is simple the weights\n",
    "            val_predicted = torch.max(val_yhat, 1)[1]\n",
    "            total_val_corr += (val_predicted == val_label).sum()\n",
    "        val_acc = (val_corr * 100) / len(val_set)\n",
    "        print(f'++++++Validation++++++ : Val_loss : {val_loss:.2f} - Acc: {val_acc:.2f}')"
   ]
  },
  {
   "cell_type": "markdown",
   "metadata": {},
   "source": [
    "## 9. Plot the loss and acc"
   ]
  },
  {
   "cell_type": "code",
   "execution_count": null,
   "metadata": {},
   "outputs": [],
   "source": [
    "train_losses = [loss.item() for loss in train_losses]\n",
    "train_accs   = [acc.item()  for acc  in train_accs]\n",
    "val_losses   = [loss.item() for loss in val_losses]\n",
    "val_accs     = [acc.item()  for acc  in val_accs]"
   ]
  },
  {
   "cell_type": "code",
   "execution_count": null,
   "metadata": {},
   "outputs": [],
   "source": [
    "plt.plot(train_losses, label='training loss')\n",
    "plt.legend()\n",
    "plt.title('Loss/acc at the end of each epoch')"
   ]
  },
  {
   "cell_type": "code",
   "execution_count": null,
   "metadata": {},
   "outputs": [],
   "source": [
    "plt.plot(val_losses, label='validation loss')\n",
    "plt.legend()\n",
    "plt.title('Loss/acc at the end of each epoch')"
   ]
  },
  {
   "cell_type": "code",
   "execution_count": null,
   "metadata": {},
   "outputs": [],
   "source": [
    "plt.plot(train_accs, label='training acc')\n",
    "plt.legend()\n",
    "plt.title('Loss/acc at the end of each epoch')"
   ]
  },
  {
   "cell_type": "code",
   "execution_count": null,
   "metadata": {},
   "outputs": [],
   "source": [
    "plt.plot(val_accs, label='validation loss')\n",
    "plt.legend()\n",
    "plt.title('Loss/acc at the end of each epoch')"
   ]
  },
  {
   "cell_type": "markdown",
   "metadata": {},
   "source": [
    "## 10. Check which image we got wrong ..... with confusion matrix \n",
    "- even print out the image we predict wrong....."
   ]
  },
  {
   "cell_type": "code",
   "execution_count": null,
   "metadata": {},
   "outputs": [],
   "source": [
    "# Display the confusion matrix as a heatmap\n",
    "import seaborn as sns\n",
    "\n",
    "arr = confusion_matrix(y_test.view(-1), predicted.view(-1))\n",
    "df_cm = pd.DataFrame(arr, class_names, class_names)\n",
    "plt.figure(figsize = (9,6))\n",
    "sns.heatmap(df_cm, annot=True, fmt=\"d\", cmap='BuGn')\n",
    "plt.xlabel(\"prediction\")\n",
    "plt.ylabel(\"label (ground truth)\")\n",
    "plt.show()"
   ]
  },
  {
   "cell_type": "markdown",
   "metadata": {},
   "source": [
    "## 11. Testing!!!"
   ]
  },
  {
   "cell_type": "code",
   "execution_count": null,
   "metadata": {},
   "outputs": [],
   "source": [
    "#do by yourself\n",
    "#load the best model based on val loss\n",
    "model = cifarCNN().to(device)\n",
    "# model.load_state_dict(torch.load(filepath)) #load the best model\n",
    "\n",
    "#do the testing phase! :-)\n",
    "with torch.no_grad():\n",
    "    test_corr = 0 \n",
    "    for test_image, test_label in test_loader:\n",
    "        test_image = test_image.to(device)\n",
    "        test_label = test_label.to(device)\n",
    "        test_yhat = model(test_image)\n",
    "        test_loss = criterion(test_yhat, test_label)\n",
    "        test_predicted = torch.max(test_yhat, 1)[1]\n",
    "        test_corr += (test_predicted == test_label).sum()\n",
    "    test_acc = (test_corr * 100) / len(test_set)\n",
    "    \n",
    "print(test_acc)"
   ]
  }
 ],
 "metadata": {
  "kernelspec": {
   "display_name": "Python 3.10.4 64-bit",
   "language": "python",
   "name": "python3"
  },
  "language_info": {
   "codemirror_mode": {
    "name": "ipython",
    "version": 3
   },
   "file_extension": ".py",
   "mimetype": "text/x-python",
   "name": "python",
   "nbconvert_exporter": "python",
   "pygments_lexer": "ipython3",
   "version": "3.10.4"
  },
  "orig_nbformat": 4,
  "vscode": {
   "interpreter": {
    "hash": "c81d839d3c4227cd770621df97fe8191838af02e7eef185a922d8250cb33d344"
   }
  }
 },
 "nbformat": 4,
 "nbformat_minor": 2
}
