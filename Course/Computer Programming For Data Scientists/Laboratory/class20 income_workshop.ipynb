{
 "cells": [
  {
   "cell_type": "markdown",
   "metadata": {},
   "source": [
    "# Income Dataset"
   ]
  },
  {
   "cell_type": "code",
   "execution_count": 1,
   "metadata": {},
   "outputs": [],
   "source": [
    "#the rule of today game is the following:\n",
    "#if 8 person submit the answer in the chat, then we continue...\n",
    "#so if you guys are faster, than we can finish this early\n",
    "#chaky will not CODE a single line.... he will only copy you guys code......"
   ]
  },
  {
   "cell_type": "code",
   "execution_count": 2,
   "metadata": {},
   "outputs": [],
   "source": [
    "#import stuffs\n",
    "import torch\n",
    "import torch.nn as nn\n",
    "\n",
    "import numpy as np\n",
    "import pandas as pd\n",
    "import matplotlib.pyplot as plt\n",
    "import seaborn as sns"
   ]
  },
  {
   "cell_type": "markdown",
   "metadata": {},
   "source": [
    "## 1. ETL"
   ]
  },
  {
   "cell_type": "code",
   "execution_count": 3,
   "metadata": {},
   "outputs": [],
   "source": [
    "df = pd.read_csv('income.csv')"
   ]
  },
  {
   "cell_type": "code",
   "execution_count": 4,
   "metadata": {},
   "outputs": [
    {
     "data": {
      "text/plain": [
       "Index(['age', 'sex', 'education', 'education-num', 'marital-status',\n",
       "       'workclass', 'occupation', 'hours-per-week', 'income', 'label'],\n",
       "      dtype='object')"
      ]
     },
     "execution_count": 4,
     "metadata": {},
     "output_type": "execute_result"
    }
   ],
   "source": [
    "df.columns"
   ]
  },
  {
   "cell_type": "code",
   "execution_count": 5,
   "metadata": {},
   "outputs": [
    {
     "data": {
      "text/html": [
       "<div>\n",
       "<style scoped>\n",
       "    .dataframe tbody tr th:only-of-type {\n",
       "        vertical-align: middle;\n",
       "    }\n",
       "\n",
       "    .dataframe tbody tr th {\n",
       "        vertical-align: top;\n",
       "    }\n",
       "\n",
       "    .dataframe thead th {\n",
       "        text-align: right;\n",
       "    }\n",
       "</style>\n",
       "<table border=\"1\" class=\"dataframe\">\n",
       "  <thead>\n",
       "    <tr style=\"text-align: right;\">\n",
       "      <th></th>\n",
       "      <th>age</th>\n",
       "      <th>sex</th>\n",
       "      <th>education</th>\n",
       "      <th>education-num</th>\n",
       "      <th>marital-status</th>\n",
       "      <th>workclass</th>\n",
       "      <th>occupation</th>\n",
       "      <th>hours-per-week</th>\n",
       "      <th>income</th>\n",
       "      <th>label</th>\n",
       "    </tr>\n",
       "  </thead>\n",
       "  <tbody>\n",
       "    <tr>\n",
       "      <th>0</th>\n",
       "      <td>27</td>\n",
       "      <td>Male</td>\n",
       "      <td>HS-grad</td>\n",
       "      <td>9</td>\n",
       "      <td>Never-married</td>\n",
       "      <td>Private</td>\n",
       "      <td>Craft-repair</td>\n",
       "      <td>40</td>\n",
       "      <td>&lt;=50K</td>\n",
       "      <td>0</td>\n",
       "    </tr>\n",
       "    <tr>\n",
       "      <th>1</th>\n",
       "      <td>47</td>\n",
       "      <td>Male</td>\n",
       "      <td>Masters</td>\n",
       "      <td>14</td>\n",
       "      <td>Married</td>\n",
       "      <td>Local-gov</td>\n",
       "      <td>Exec-managerial</td>\n",
       "      <td>50</td>\n",
       "      <td>&gt;50K</td>\n",
       "      <td>1</td>\n",
       "    </tr>\n",
       "    <tr>\n",
       "      <th>2</th>\n",
       "      <td>59</td>\n",
       "      <td>Male</td>\n",
       "      <td>HS-grad</td>\n",
       "      <td>9</td>\n",
       "      <td>Divorced</td>\n",
       "      <td>Self-emp</td>\n",
       "      <td>Prof-specialty</td>\n",
       "      <td>20</td>\n",
       "      <td>&lt;=50K</td>\n",
       "      <td>0</td>\n",
       "    </tr>\n",
       "    <tr>\n",
       "      <th>3</th>\n",
       "      <td>38</td>\n",
       "      <td>Female</td>\n",
       "      <td>Prof-school</td>\n",
       "      <td>15</td>\n",
       "      <td>Never-married</td>\n",
       "      <td>Federal-gov</td>\n",
       "      <td>Prof-specialty</td>\n",
       "      <td>57</td>\n",
       "      <td>&gt;50K</td>\n",
       "      <td>1</td>\n",
       "    </tr>\n",
       "    <tr>\n",
       "      <th>4</th>\n",
       "      <td>64</td>\n",
       "      <td>Female</td>\n",
       "      <td>11th</td>\n",
       "      <td>7</td>\n",
       "      <td>Widowed</td>\n",
       "      <td>Private</td>\n",
       "      <td>Farming-fishing</td>\n",
       "      <td>40</td>\n",
       "      <td>&lt;=50K</td>\n",
       "      <td>0</td>\n",
       "    </tr>\n",
       "  </tbody>\n",
       "</table>\n",
       "</div>"
      ],
      "text/plain": [
       "   age     sex    education  education-num marital-status    workclass  \\\n",
       "0   27    Male      HS-grad              9  Never-married      Private   \n",
       "1   47    Male      Masters             14        Married    Local-gov   \n",
       "2   59    Male      HS-grad              9       Divorced     Self-emp   \n",
       "3   38  Female  Prof-school             15  Never-married  Federal-gov   \n",
       "4   64  Female         11th              7        Widowed      Private   \n",
       "\n",
       "        occupation  hours-per-week income  label  \n",
       "0     Craft-repair              40  <=50K      0  \n",
       "1  Exec-managerial              50   >50K      1  \n",
       "2   Prof-specialty              20  <=50K      0  \n",
       "3   Prof-specialty              57   >50K      1  \n",
       "4  Farming-fishing              40  <=50K      0  "
      ]
     },
     "execution_count": 5,
     "metadata": {},
     "output_type": "execute_result"
    }
   ],
   "source": [
    "df.head()"
   ]
  },
  {
   "cell_type": "code",
   "execution_count": 6,
   "metadata": {},
   "outputs": [
    {
     "data": {
      "text/plain": [
       "0    0.723333\n",
       "1    0.276667\n",
       "Name: label, dtype: float64"
      ]
     },
     "execution_count": 6,
     "metadata": {},
     "output_type": "execute_result"
    }
   ],
   "source": [
    "#please check the class label - test task\n",
    "df['label'].value_counts(normalize=True)\n",
    "#again, deep learning should be able to handle this for us\n",
    "#but you can always use imbalance library"
   ]
  },
  {
   "cell_type": "markdown",
   "metadata": {},
   "source": [
    "## 2. EDA"
   ]
  },
  {
   "cell_type": "markdown",
   "metadata": {},
   "source": [
    "### 2.1 Univariate Analysis\n",
    "- look at oen variavle\n",
    "- main tools - countplot and displot\n",
    "- countplot for discrete features\n",
    "- displot for continuous features"
   ]
  },
  {
   "cell_type": "code",
   "execution_count": 7,
   "metadata": {},
   "outputs": [
    {
     "data": {
      "text/plain": [
       "Index(['age', 'sex', 'education', 'education-num', 'marital-status',\n",
       "       'workclass', 'occupation', 'hours-per-week', 'income', 'label'],\n",
       "      dtype='object')"
      ]
     },
     "execution_count": 7,
     "metadata": {},
     "output_type": "execute_result"
    }
   ],
   "source": [
    "df.columns"
   ]
  },
  {
   "cell_type": "code",
   "execution_count": 8,
   "metadata": {},
   "outputs": [
    {
     "data": {
      "image/png": "[encoded data removed]",
      "text/plain": [
       "<Figure size 720x720 with 1 Axes>"
      ]
     },
     "metadata": {
      "needs_background": "light"
     },
     "output_type": "display_data"
    },
    {
     "data": {
      "image/png": "[encoded data removed]",
      "text/plain": [
       "<Figure size 720x720 with 1 Axes>"
      ]
     },
     "metadata": {
      "needs_background": "light"
     },
     "output_type": "display_data"
    },
    {
     "data": {
      "image/png": "[encoded data removed]",
      "text/plain": [
       "<Figure size 720x720 with 1 Axes>"
      ]
     },
     "metadata": {
      "needs_background": "light"
     },
     "output_type": "display_data"
    },
    {
     "data": {
      "image/png": "[encoded data removed]",
      "text/plain": [
       "<Figure size 720x720 with 1 Axes>"
      ]
     },
     "metadata": {
      "needs_background": "light"
     },
     "output_type": "display_data"
    },
    {
     "data": {
      "image/png": "[encoded data removed]",
      "text/plain": [
       "<Figure size 720x720 with 1 Axes>"
      ]
     },
     "metadata": {
      "needs_background": "light"
     },
     "output_type": "display_data"
    },
    {
     "data": {
      "image/png": "[encoded data removed]",
      "text/plain": [
       "<Figure size 720x720 with 1 Axes>"
      ]
     },
     "metadata": {
      "needs_background": "light"
     },
     "output_type": "display_data"
    },
    {
     "data": {
      "image/png": "[encoded data removed]",
      "text/plain": [
       "<Figure size 720x720 with 1 Axes>"
      ]
     },
     "metadata": {
      "needs_background": "light"
     },
     "output_type": "display_data"
    }
   ],
   "source": [
    "categorical = ['age','sex','education','marital-status','workclass', 'occupation','hours-per-week']\n",
    "\n",
    "for col in categorical:\n",
    "    plt.figure(figsize = (10,10))\n",
    "    sns.countplot(x=col,data=df, hue = df['income'], palette='Greens_r')\n",
    "    plt.show()"
   ]
  },
  {
   "cell_type": "code",
   "execution_count": 9,
   "metadata": {},
   "outputs": [],
   "source": [
    "#workclass is dominant (consider it)\n",
    "#hours-per-week is dominant (consider it)"
   ]
  },
  {
   "cell_type": "markdown",
   "metadata": {},
   "source": [
    "### 2.2 Multivariate analysis\n",
    "- look at two featuress/labels at the same time\n",
    "- e.g., see how bathroomms affect Rent -> bivaraint analysis\n",
    "- e.g., see hwo size affect Rent\n",
    "- usually, y is label and x is any giben feature\n",
    "- Goal: which factor/features are somwhow related tomy label, i.e., Rent\n",
    "- boxplot : for discrete vs continuous features\n",
    "- scatterplot : for continuous vs continuous features"
   ]
  },
  {
   "cell_type": "code",
   "execution_count": 10,
   "metadata": {},
   "outputs": [
    {
     "data": {
      "image/png": "[encoded data removed]",
      "text/plain": [
       "<Figure size 432x288 with 1 Axes>"
      ]
     },
     "metadata": {
      "needs_background": "light"
     },
     "output_type": "display_data"
    },
    {
     "data": {
      "image/png": "[encoded data removed]",
      "text/plain": [
       "<Figure size 432x288 with 1 Axes>"
      ]
     },
     "metadata": {
      "needs_background": "light"
     },
     "output_type": "display_data"
    },
    {
     "data": {
      "image/png": "[encoded data removed]",
      "text/plain": [
       "<Figure size 432x288 with 1 Axes>"
      ]
     },
     "metadata": {
      "needs_background": "light"
     },
     "output_type": "display_data"
    }
   ],
   "source": [
    "numerical = ['age','education-num','hours-per-week']\n",
    "for col in numerical:\n",
    "    sns.boxplot(x=df.label,y=df[col])\n",
    "    plt.show()"
   ]
  },
  {
   "cell_type": "code",
   "execution_count": 11,
   "metadata": {},
   "outputs": [
    {
     "data": {
      "image/png": "[encoded data removed]",
      "text/plain": [
       "<Figure size 432x288 with 1 Axes>"
      ]
     },
     "metadata": {
      "needs_background": "light"
     },
     "output_type": "display_data"
    },
    {
     "data": {
      "image/png": "[encoded data removed]",
      "text/plain": [
       "<Figure size 432x288 with 1 Axes>"
      ]
     },
     "metadata": {
      "needs_background": "light"
     },
     "output_type": "display_data"
    },
    {
     "data": {
      "image/png": "[encoded data removed]",
      "text/plain": [
       "<Figure size 432x288 with 1 Axes>"
      ]
     },
     "metadata": {
      "needs_background": "light"
     },
     "output_type": "display_data"
    },
    {
     "data": {
      "image/png": "[encoded data removed]",
      "text/plain": [
       "<Figure size 432x288 with 1 Axes>"
      ]
     },
     "metadata": {
      "needs_background": "light"
     },
     "output_type": "display_data"
    },
    {
     "data": {
      "image/png": "[encoded data removed]",
      "text/plain": [
       "<Figure size 432x288 with 1 Axes>"
      ]
     },
     "metadata": {
      "needs_background": "light"
     },
     "output_type": "display_data"
    }
   ],
   "source": [
    "numerical = ['sex','education','marital-status','workclass', 'occupation']\n",
    "\n",
    "for col in numerical:\n",
    "    sns.boxenplot(x=df[col],y=df.label)\n",
    "    plt.show()\n",
    "# 0 <=50K\n",
    "# 1 >50K  "
   ]
  },
  {
   "cell_type": "code",
   "execution_count": 12,
   "metadata": {},
   "outputs": [],
   "source": [
    "#Male is dominant (consider it)\n",
    "#Married in material status column is outstanding (consider it)"
   ]
  },
  {
   "cell_type": "code",
   "execution_count": 13,
   "metadata": {},
   "outputs": [
    {
     "data": {
      "text/plain": [
       "<AxesSubplot:>"
      ]
     },
     "execution_count": 13,
     "metadata": {},
     "output_type": "execute_result"
    },
    {
     "data": {
      "image/png": "[encoded data removed]",
      "text/plain": [
       "<Figure size 360x360 with 2 Axes>"
      ]
     },
     "metadata": {
      "needs_background": "light"
     },
     "output_type": "display_data"
    }
   ],
   "source": [
    "plt.figure(figsize=(5,5))\n",
    "sns.heatmap(df.corr(), annot =True)"
   ]
  },
  {
   "cell_type": "markdown",
   "metadata": {},
   "source": [
    "## 3. Feature Engineering"
   ]
  },
  {
   "cell_type": "markdown",
   "metadata": {},
   "source": [
    "## 4. Feature Extraction"
   ]
  },
  {
   "cell_type": "code",
   "execution_count": 14,
   "metadata": {},
   "outputs": [
    {
     "data": {
      "text/plain": [
       "array(['HS-grad', 'Masters', 'Prof-school', '11th', '12th', '5th-6th',\n",
       "       'Some-college', 'Bachelors', 'Assoc-acdm', '9th', 'Assoc-voc',\n",
       "       '10th', '7th-8th', 'Doctorate'], dtype=object)"
      ]
     },
     "execution_count": 14,
     "metadata": {},
     "output_type": "execute_result"
    }
   ],
   "source": [
    "df.education.unique()"
   ]
  },
  {
   "cell_type": "code",
   "execution_count": 15,
   "metadata": {},
   "outputs": [],
   "source": [
    "df['BelowUndergraduate'] = 0\n",
    "education = ['Bachelors','Masters','Assoc-voc','Assoc-acdm','Doctorate']\n",
    "above = df['education'].isin(education)\n",
    "below = ~df['education'].isin(education)\n",
    "df.loc[above, 'BelowUndergraduate'] = 0\n",
    "df.loc[below, 'BelowUndergraduate'] = 1"
   ]
  },
  {
   "cell_type": "code",
   "execution_count": 16,
   "metadata": {},
   "outputs": [
    {
     "data": {
      "text/html": [
       "<div>\n",
       "<style scoped>\n",
       "    .dataframe tbody tr th:only-of-type {\n",
       "        vertical-align: middle;\n",
       "    }\n",
       "\n",
       "    .dataframe tbody tr th {\n",
       "        vertical-align: top;\n",
       "    }\n",
       "\n",
       "    .dataframe thead th {\n",
       "        text-align: right;\n",
       "    }\n",
       "</style>\n",
       "<table border=\"1\" class=\"dataframe\">\n",
       "  <thead>\n",
       "    <tr style=\"text-align: right;\">\n",
       "      <th></th>\n",
       "      <th>age</th>\n",
       "      <th>sex</th>\n",
       "      <th>education</th>\n",
       "      <th>education-num</th>\n",
       "      <th>marital-status</th>\n",
       "      <th>workclass</th>\n",
       "      <th>occupation</th>\n",
       "      <th>hours-per-week</th>\n",
       "      <th>income</th>\n",
       "      <th>label</th>\n",
       "      <th>BelowUndergraduate</th>\n",
       "    </tr>\n",
       "  </thead>\n",
       "  <tbody>\n",
       "    <tr>\n",
       "      <th>0</th>\n",
       "      <td>27</td>\n",
       "      <td>Male</td>\n",
       "      <td>HS-grad</td>\n",
       "      <td>9</td>\n",
       "      <td>Never-married</td>\n",
       "      <td>Private</td>\n",
       "      <td>Craft-repair</td>\n",
       "      <td>40</td>\n",
       "      <td>&lt;=50K</td>\n",
       "      <td>0</td>\n",
       "      <td>1</td>\n",
       "    </tr>\n",
       "    <tr>\n",
       "      <th>1</th>\n",
       "      <td>47</td>\n",
       "      <td>Male</td>\n",
       "      <td>Masters</td>\n",
       "      <td>14</td>\n",
       "      <td>Married</td>\n",
       "      <td>Local-gov</td>\n",
       "      <td>Exec-managerial</td>\n",
       "      <td>50</td>\n",
       "      <td>&gt;50K</td>\n",
       "      <td>1</td>\n",
       "      <td>0</td>\n",
       "    </tr>\n",
       "    <tr>\n",
       "      <th>2</th>\n",
       "      <td>59</td>\n",
       "      <td>Male</td>\n",
       "      <td>HS-grad</td>\n",
       "      <td>9</td>\n",
       "      <td>Divorced</td>\n",
       "      <td>Self-emp</td>\n",
       "      <td>Prof-specialty</td>\n",
       "      <td>20</td>\n",
       "      <td>&lt;=50K</td>\n",
       "      <td>0</td>\n",
       "      <td>1</td>\n",
       "    </tr>\n",
       "    <tr>\n",
       "      <th>3</th>\n",
       "      <td>38</td>\n",
       "      <td>Female</td>\n",
       "      <td>Prof-school</td>\n",
       "      <td>15</td>\n",
       "      <td>Never-married</td>\n",
       "      <td>Federal-gov</td>\n",
       "      <td>Prof-specialty</td>\n",
       "      <td>57</td>\n",
       "      <td>&gt;50K</td>\n",
       "      <td>1</td>\n",
       "      <td>1</td>\n",
       "    </tr>\n",
       "    <tr>\n",
       "      <th>4</th>\n",
       "      <td>64</td>\n",
       "      <td>Female</td>\n",
       "      <td>11th</td>\n",
       "      <td>7</td>\n",
       "      <td>Widowed</td>\n",
       "      <td>Private</td>\n",
       "      <td>Farming-fishing</td>\n",
       "      <td>40</td>\n",
       "      <td>&lt;=50K</td>\n",
       "      <td>0</td>\n",
       "      <td>1</td>\n",
       "    </tr>\n",
       "  </tbody>\n",
       "</table>\n",
       "</div>"
      ],
      "text/plain": [
       "   age     sex    education  education-num marital-status    workclass  \\\n",
       "0   27    Male      HS-grad              9  Never-married      Private   \n",
       "1   47    Male      Masters             14        Married    Local-gov   \n",
       "2   59    Male      HS-grad              9       Divorced     Self-emp   \n",
       "3   38  Female  Prof-school             15  Never-married  Federal-gov   \n",
       "4   64  Female         11th              7        Widowed      Private   \n",
       "\n",
       "        occupation  hours-per-week income  label  BelowUndergraduate  \n",
       "0     Craft-repair              40  <=50K      0                   1  \n",
       "1  Exec-managerial              50   >50K      1                   0  \n",
       "2   Prof-specialty              20  <=50K      0                   1  \n",
       "3   Prof-specialty              57   >50K      1                   1  \n",
       "4  Farming-fishing              40  <=50K      0                   1  "
      ]
     },
     "execution_count": 16,
     "metadata": {},
     "output_type": "execute_result"
    }
   ],
   "source": [
    "df.head()"
   ]
  },
  {
   "cell_type": "markdown",
   "metadata": {},
   "source": [
    "## 5. Categorify"
   ]
  },
  {
   "cell_type": "code",
   "execution_count": 17,
   "metadata": {},
   "outputs": [
    {
     "name": "stdout",
     "output_type": "stream",
     "text": [
      "<class 'pandas.core.frame.DataFrame'>\n",
      "RangeIndex: 30000 entries, 0 to 29999\n",
      "Data columns (total 11 columns):\n",
      " #   Column              Non-Null Count  Dtype \n",
      "---  ------              --------------  ----- \n",
      " 0   age                 30000 non-null  int64 \n",
      " 1   sex                 30000 non-null  object\n",
      " 2   education           30000 non-null  object\n",
      " 3   education-num       30000 non-null  int64 \n",
      " 4   marital-status      30000 non-null  object\n",
      " 5   workclass           30000 non-null  object\n",
      " 6   occupation          30000 non-null  object\n",
      " 7   hours-per-week      30000 non-null  int64 \n",
      " 8   income              30000 non-null  object\n",
      " 9   label               30000 non-null  int64 \n",
      " 10  BelowUndergraduate  30000 non-null  int64 \n",
      "dtypes: int64(5), object(6)\n",
      "memory usage: 2.5+ MB\n"
     ]
    }
   ],
   "source": [
    "df.info()"
   ]
  },
  {
   "cell_type": "code",
   "execution_count": 18,
   "metadata": {},
   "outputs": [],
   "source": [
    "#columns name\n",
    "cat_cols = ['sex',\n",
    "            'marital-status',\n",
    "            'education-num',\n",
    "            'workclass', \n",
    "            'occupation']\n",
    "            \n",
    "cont_cols = ['age', 'hours-per-week']\n",
    "y = ['label'] #classification"
   ]
  },
  {
   "cell_type": "code",
   "execution_count": 19,
   "metadata": {},
   "outputs": [],
   "source": [
    "#change all cat_cols in type category\n",
    "#why we need to categorify\n",
    "#underhood: thing become integers, but you don't lose\n",
    "for col in cat_cols:\n",
    "    df[col] = df[col].astype('category')"
   ]
  },
  {
   "cell_type": "code",
   "execution_count": 20,
   "metadata": {},
   "outputs": [
    {
     "name": "stdout",
     "output_type": "stream",
     "text": [
      "<class 'pandas.core.frame.DataFrame'>\n",
      "RangeIndex: 30000 entries, 0 to 29999\n",
      "Data columns (total 11 columns):\n",
      " #   Column              Non-Null Count  Dtype   \n",
      "---  ------              --------------  -----   \n",
      " 0   age                 30000 non-null  int64   \n",
      " 1   sex                 30000 non-null  category\n",
      " 2   education           30000 non-null  object  \n",
      " 3   education-num       30000 non-null  category\n",
      " 4   marital-status      30000 non-null  category\n",
      " 5   workclass           30000 non-null  category\n",
      " 6   occupation          30000 non-null  category\n",
      " 7   hours-per-week      30000 non-null  int64   \n",
      " 8   income              30000 non-null  object  \n",
      " 9   label               30000 non-null  int64   \n",
      " 10  BelowUndergraduate  30000 non-null  int64   \n",
      "dtypes: category(5), int64(4), object(2)\n",
      "memory usage: 1.5+ MB\n"
     ]
    }
   ],
   "source": [
    "df.info()"
   ]
  },
  {
   "cell_type": "markdown",
   "metadata": {},
   "source": [
    "## 6. Cleaning "
   ]
  },
  {
   "cell_type": "code",
   "execution_count": 21,
   "metadata": {},
   "outputs": [
    {
     "data": {
      "text/plain": [
       "age                   0\n",
       "sex                   0\n",
       "education             0\n",
       "education-num         0\n",
       "marital-status        0\n",
       "workclass             0\n",
       "occupation            0\n",
       "hours-per-week        0\n",
       "income                0\n",
       "label                 0\n",
       "BelowUndergraduate    0\n",
       "dtype: int64"
      ]
     },
     "execution_count": 21,
     "metadata": {},
     "output_type": "execute_result"
    }
   ],
   "source": [
    "df.isna().sum() \n",
    "#There are any features missing"
   ]
  },
  {
   "cell_type": "markdown",
   "metadata": {},
   "source": [
    "## 7. Define X and y"
   ]
  },
  {
   "cell_type": "code",
   "execution_count": 22,
   "metadata": {},
   "outputs": [
    {
     "data": {
      "text/plain": [
       "[(2, 1), (6, 3), (14, 7), (5, 2), (12, 6)]"
      ]
     },
     "execution_count": 22,
     "metadata": {},
     "output_type": "execute_result"
    }
   ],
   "source": [
    "cat_size = [len(df[col].cat.categories) for col in cat_cols]\n",
    "emb_size = [(size,min(50,size//2)) for size in cat_size]\n",
    "emb_size\n",
    "#so you guys explain to yourself, e.g., what is (12,6) mean?\n",
    "#df.occupation.unique()\n",
    "#each of the occupartion is represent by a unique vector of size 6...."
   ]
  },
  {
   "cell_type": "code",
   "execution_count": 23,
   "metadata": {},
   "outputs": [
    {
     "data": {
      "text/plain": [
       "(30000, 5)"
      ]
     },
     "execution_count": 23,
     "metadata": {},
     "output_type": "execute_result"
    }
   ],
   "source": [
    "#combline all categorical column into one tensor\n",
    "sex = df.sex.cat.codes.values \n",
    "status = df['marital-status'].cat.codes.values\n",
    "education_num = df['education-num'].cat.codes.values\n",
    "workclass = df.workclass.cat.codes.values\n",
    "occupation = df.occupation.cat.codes.values\n",
    "cat = np.stack([sex,status,education_num,workclass,occupation], axis=1)\n",
    "cat.shape #(30000 samples,5 features)"
   ]
  },
  {
   "cell_type": "code",
   "execution_count": 24,
   "metadata": {},
   "outputs": [
    {
     "data": {
      "text/plain": [
       "tensor([[ 1,  3,  6,  2,  1],\n",
       "        [ 1,  1, 11,  1,  2],\n",
       "        [ 1,  0,  6,  3,  7]], dtype=torch.int32)"
      ]
     },
     "execution_count": 24,
     "metadata": {},
     "output_type": "execute_result"
    }
   ],
   "source": [
    "#convert this numpy to tensor\n",
    "#cats = np.stack([df[col].cat.codes.values for col in cat_cols], 1)\n",
    "cat = torch.tensor(cat, dtype=torch.int32)\n",
    "cat[:3]\n",
    "#why here must be int"
   ]
  },
  {
   "cell_type": "code",
   "execution_count": 25,
   "metadata": {},
   "outputs": [
    {
     "data": {
      "text/plain": [
       "(30000, 2)"
      ]
     },
     "execution_count": 25,
     "metadata": {},
     "output_type": "execute_result"
    }
   ],
   "source": [
    "age = df.age.values #.values give you the numpy vector\n",
    "hrpw = df['hours-per-week'].values\n",
    "conts = np.stack([age,hrpw],axis=1)\n",
    "conts.shape #30000,2"
   ]
  },
  {
   "cell_type": "code",
   "execution_count": 26,
   "metadata": {},
   "outputs": [
    {
     "data": {
      "text/plain": [
       "tensor([[27., 40.],\n",
       "        [47., 50.],\n",
       "        [59., 20.],\n",
       "        [38., 57.]])"
      ]
     },
     "execution_count": 26,
     "metadata": {},
     "output_type": "execute_result"
    }
   ],
   "source": [
    "#conts = np.stack([df[col].values for col in cont_cols], 1)\n",
    "conts = torch.tensor(conts, dtype=torch.float32)\n",
    "conts[:4]\n",
    "#why here must be float"
   ]
  },
  {
   "cell_type": "code",
   "execution_count": 27,
   "metadata": {},
   "outputs": [
    {
     "data": {
      "text/plain": [
       "torch.Size([30000])"
      ]
     },
     "execution_count": 27,
     "metadata": {},
     "output_type": "execute_result"
    }
   ],
   "source": [
    "#turn your y into tensor\n",
    "#(sample) or (sample,1) or (sample,targets) -> (sample)\n",
    "y = torch.tensor(df[y].values).reshape(-1) #or flatten(-1)\n",
    "y.shape"
   ]
  },
  {
   "cell_type": "markdown",
   "metadata": {},
   "source": [
    "## 8. Determine the embedding size\n",
    "\n",
    "- Before we create the embedding, we need to specify the embedding size...\n",
    "- Two ways: \n",
    "    - randomly pick a size \n",
    "        - min(50, unique/2)\n",
    "    - specify a size"
   ]
  },
  {
   "cell_type": "code",
   "execution_count": 28,
   "metadata": {},
   "outputs": [
    {
     "data": {
      "text/plain": [
       "[2, 6, 14, 5, 12]"
      ]
     },
     "execution_count": 28,
     "metadata": {},
     "output_type": "execute_result"
    }
   ],
   "source": [
    "#get the size of all my categorical cols\n",
    "cat_size = [len(df[col].cat.categories) for col in cat_cols]\n",
    "cat_size"
   ]
  },
  {
   "cell_type": "code",
   "execution_count": 29,
   "metadata": {},
   "outputs": [
    {
     "data": {
      "text/plain": [
       "[(2, 1), (6, 3), (14, 7), (5, 2), (12, 6)]"
      ]
     },
     "execution_count": 29,
     "metadata": {},
     "output_type": "execute_result"
    }
   ],
   "source": [
    "emb_size = [(size,min(50,size//2)) for size in cat_size]\n",
    "emb_size "
   ]
  },
  {
   "cell_type": "markdown",
   "metadata": {},
   "source": [
    "## 9. Try to illstrate how Embedding layer works"
   ]
  },
  {
   "cell_type": "code",
   "execution_count": 30,
   "metadata": {},
   "outputs": [
    {
     "data": {
      "text/plain": [
       "tensor([[ 1,  3,  6,  2,  1],\n",
       "        [ 1,  1, 11,  1,  2]], dtype=torch.int32)"
      ]
     },
     "execution_count": 30,
     "metadata": {},
     "output_type": "execute_result"
    }
   ],
   "source": [
    "sample = cat[:1]\n",
    "sample\n",
    "twosample = cat[:2]\n",
    "twosample"
   ]
  },
  {
   "cell_type": "code",
   "execution_count": 31,
   "metadata": {},
   "outputs": [
    {
     "data": {
      "text/plain": [
       "ModuleList(\n",
       "  (0): Embedding(2, 1)\n",
       "  (1): Embedding(6, 3)\n",
       "  (2): Embedding(14, 7)\n",
       "  (3): Embedding(5, 2)\n",
       "  (4): Embedding(12, 6)\n",
       ")"
      ]
     },
     "execution_count": 31,
     "metadata": {},
     "output_type": "execute_result"
    }
   ],
   "source": [
    "embed_layers = nn.ModuleList([nn.Embedding(unique,emb_s) for unique, emb_s in emb_size])\n",
    "embed_layers"
   ]
  },
  {
   "cell_type": "code",
   "execution_count": 32,
   "metadata": {},
   "outputs": [
    {
     "data": {
      "text/plain": [
       "[tensor([[1.2313],\n",
       "         [1.2313]], grad_fn=<EmbeddingBackward0>),\n",
       " tensor([[-0.6541, -0.4534, -0.0193],\n",
       "         [ 0.6208,  0.4688,  0.1062]], grad_fn=<EmbeddingBackward0>),\n",
       " tensor([[ 0.2535,  1.5712, -0.0129, -0.8850,  0.3933,  0.4094, -0.6229],\n",
       "         [ 1.2950, -0.5536, -0.5835,  1.2012,  0.8992, -0.8749, -1.7202]],\n",
       "        grad_fn=<EmbeddingBackward0>),\n",
       " tensor([[-0.6207,  0.8332],\n",
       "         [ 0.9100,  0.5018]], grad_fn=<EmbeddingBackward0>),\n",
       " tensor([[-0.1993, -0.7070,  0.2139, -0.0098,  1.0913, -0.0763],\n",
       "         [-0.1985, -1.4454, -0.9996,  1.5911, -0.5388,  1.0563]],\n",
       "        grad_fn=<EmbeddingBackward0>)]"
      ]
     },
     "execution_count": 32,
     "metadata": {},
     "output_type": "execute_result"
    }
   ],
   "source": [
    "#empty embedding\n",
    "sample_embedding = []\n",
    "\n",
    "for i,e in enumerate(embed_layers):\n",
    "    sample_embedding.append(e(twosample[:,i]))  #apply embedding layer to colummn i\n",
    "                                                #apply embedding layer 0 to colummn 0\n",
    "sample_embedding\n",
    "#embedding is a randommize values from a uniform distribution (close to 0)"
   ]
  },
  {
   "cell_type": "code",
   "execution_count": 33,
   "metadata": {},
   "outputs": [
    {
     "data": {
      "text/plain": [
       "tensor([[ 1.2313, -0.6541, -0.4534, -0.0193,  0.2535,  1.5712, -0.0129, -0.8850,\n",
       "          0.3933,  0.4094, -0.6229, -0.6207,  0.8332, -0.1993, -0.7070,  0.2139,\n",
       "         -0.0098,  1.0913, -0.0763],\n",
       "        [ 1.2313,  0.6208,  0.4688,  0.1062,  1.2950, -0.5536, -0.5835,  1.2012,\n",
       "          0.8992, -0.8749, -1.7202,  0.9100,  0.5018, -0.1985, -1.4454, -0.9996,\n",
       "          1.5911, -0.5388,  1.0563]], grad_fn=<CatBackward0>)"
      ]
     },
     "execution_count": 33,
     "metadata": {},
     "output_type": "execute_result"
    }
   ],
   "source": [
    "final_embedding = torch.cat(sample_embedding, axis = 1)\n",
    "final_embedding"
   ]
  },
  {
   "cell_type": "code",
   "execution_count": 34,
   "metadata": {},
   "outputs": [
    {
     "data": {
      "text/plain": [
       "tensor([[ 0.0000, -1.3081, -0.0000, -0.0387,  0.0000,  0.0000, -0.0258, -1.7701,\n",
       "          0.7866,  0.0000, -1.2458, -1.2413,  0.0000, -0.3986, -1.4139,  0.4279,\n",
       "         -0.0000,  0.0000, -0.1526],\n",
       "        [ 0.0000,  1.2416,  0.0000,  0.0000,  0.0000, -0.0000, -0.0000,  2.4023,\n",
       "          0.0000, -0.0000, -3.4403,  0.0000,  0.0000, -0.0000, -2.8908, -0.0000,\n",
       "          3.1823, -1.0777,  0.0000]], grad_fn=<MulBackward0>)"
      ]
     },
     "execution_count": 34,
     "metadata": {},
     "output_type": "execute_result"
    }
   ],
   "source": [
    "dl = nn.Dropout(0.5)\n",
    "final_embedding = dl(final_embedding)\n",
    "final_embedding "
   ]
  },
  {
   "cell_type": "code",
   "execution_count": 35,
   "metadata": {},
   "outputs": [
    {
     "data": {
      "text/plain": [
       "tensor([[27., 40.],\n",
       "        [47., 50.]])"
      ]
     },
     "execution_count": 35,
     "metadata": {},
     "output_type": "execute_result"
    }
   ],
   "source": [
    "sample_cont = conts[:2]\n",
    "sample_cont"
   ]
  },
  {
   "cell_type": "code",
   "execution_count": 36,
   "metadata": {},
   "outputs": [],
   "source": [
    "sample_cont = sample_cont.type(torch.float32)"
   ]
  },
  {
   "cell_type": "code",
   "execution_count": 37,
   "metadata": {},
   "outputs": [
    {
     "data": {
      "text/plain": [
       "tensor([[-1., -1.],\n",
       "        [ 1.,  1.]], grad_fn=<NativeBatchNormBackward0>)"
      ]
     },
     "execution_count": 37,
     "metadata": {},
     "output_type": "execute_result"
    }
   ],
   "source": [
    "batch_norm1d = nn.BatchNorm1d(2)\n",
    "output = batch_norm1d(sample_cont)\n",
    "output #across features"
   ]
  },
  {
   "cell_type": "markdown",
   "metadata": {},
   "source": [
    "## 10. Define the model"
   ]
  },
  {
   "cell_type": "code",
   "execution_count": 38,
   "metadata": {},
   "outputs": [],
   "source": [
    "#create your training and testing split\n",
    "train_size = 6000\n",
    "test_size = 1000\n",
    "#why Chaky don't use PyTorch dataset or dataloader? \n",
    "#silly quesgion, why Chaky don't use all the dataset (30,000) \n",
    "#actually, Chaky should have use validation set\n",
    "\n",
    "cat_train = cat[:train_size]\n",
    "cat_test = cat[train_size:test_size+train_size]\n",
    "cont_train = conts[:train_size]\n",
    "cont_test = conts[train_size:test_size+train_size]\n",
    "y_train = y[:train_size]\n",
    "y_test = y[train_size:test_size+train_size]"
   ]
  },
  {
   "cell_type": "code",
   "execution_count": 39,
   "metadata": {},
   "outputs": [],
   "source": [
    "class IncomeModule(nn.Module):\n",
    "    def __init__(self, emb_size, cont_size, out_size, layer_size = [200,100], p = 0.5):\n",
    "        super().__init__()\n",
    "        #embedding layers\n",
    "        self.embed_layer = nn.ModuleList([nn.Embedding(unique, emb_s) for unique, emb_s in emb_size])\n",
    "        #dropout for the embedding layers\n",
    "        self.dropout = nn.Dropout(p)\n",
    "        #batchnorm for the cont col\n",
    "        self.batchnorm1d = nn.BatchNorm1d(cont_size)\n",
    "\n",
    "        cat_size = sum(emb_s for _, emb_s in emb_size)\n",
    "        input_size = cat_size + cont_size\n",
    "        #a list of layer\n",
    "            #linear-> Relu -> batchnorm -> dropout\n",
    "        #linear(something, out_size)\n",
    "        layerlist = []\n",
    "        for i in layer_size:\n",
    "            layerlist.append(nn.Linear(input_size,i)) #(input_size,200)\n",
    "            layerlist.append(nn.ReLU(inplace=True)) \n",
    "            layerlist.append(nn.BatchNorm1d(i)) \n",
    "            layerlist.append(nn.Dropout(p))\n",
    "            input_size = i \n",
    "        layerlist.append(nn.Linear(layer_size[-1],out_size))\n",
    "\n",
    "        self.layers = nn.Sequential(*layerlist) #* is same as nn.ModuleList\n",
    "\n",
    "    def forward(self, x_cat,x_cont):\n",
    "        #first get the embedding for the cat_cols \n",
    "        # x_cat : (sample_size,5) #x_cont : (sample_size,2)\n",
    "        embeddings = []\n",
    "        for i,e in enumerate(self.embed_layer):\n",
    "            embeddings.append(e(x_cat[:,i]))\n",
    "        #embeddings.shape : [   (sample_size, emb_size1), 1\n",
    "        #                       (sample_size, emb_size2), 7\n",
    "        #                       (sample_size, emb_size3), 3\n",
    "        #                       (sample_size, emb_size4), 2\n",
    "        #                       (sample_size, emb_size5)] 6\n",
    "        #Then concatenate embedding of cat_cols into 1 embedding\n",
    "        x = torch.cat(embeddings,1) \n",
    "        #embedding.shape : (sample_size,19) #1+3+7+2+6 \n",
    "        #perform dropout for these embeddings. Why? Why we don't need to apply dropout for cont_cols\n",
    "        x = self.dropout(x) #what will happen after droup out --> (sample_size,19)\n",
    "        #batchnorm con_cols. Why batchnorm? batchnorm is across samples or features\n",
    "        x_cont = self.batchnorm1d(x_cont) #what will happen after batchnorm1d? --> #x_cont : (sample_size,2)\n",
    "        #concatenate cat and con\n",
    "        x = torch.cat([x,x_cont],1) #x: (sample_size,21)\n",
    "        #apply all the layers\n",
    "        x = self.layers(x)\n",
    "        #last x.shape: ????\n",
    "        return x\n",
    "\n",
    "#I don't know ..... This is called designing neural network\n",
    "#you know what is dropout, batchnorm, but combining then is like an ART...... trial and error.\n",
    "\n",
    "#because neural network can come up with better one, through backpropagation"
   ]
  },
  {
   "cell_type": "code",
   "execution_count": 40,
   "metadata": {},
   "outputs": [
    {
     "name": "stdout",
     "output_type": "stream",
     "text": [
      "torch.Size([5, 2])\n",
      "tensor([[ 0.0390,  0.5506],\n",
      "        [-1.0844,  0.5424],\n",
      "        [ 0.3307, -0.5839],\n",
      "        [ 0.0335, -0.8166],\n",
      "        [-1.3469,  0.8300]], grad_fn=<AddmmBackward0>)\n"
     ]
    }
   ],
   "source": [
    "#test your model\n",
    "torch.manual_seed(9999) \n",
    "#in deep learning, usually we cannot do cross-validation\n",
    "#because it's huge dataset...\n",
    "#to get multiple performance metrics, we use different seeds\n",
    "#maybe compare across 5 seeds\n",
    "#create model\n",
    "model = IncomeModule(emb_size, conts.shape[1], len(y.unique()))\n",
    "model\n",
    "\n",
    "#try take some sample cat and cont\n",
    "# cat[:1]\n",
    "# conts[:1]\n",
    "\n",
    "#run the model\n",
    "output = model(cat[:5],conts[:5])\n",
    "\n",
    "#check the output \n",
    "print(output.shape)\n",
    "\n",
    "#is the output shaep the thing you wan???\n",
    "print(output)\n",
    "#what does this output means\n",
    "#[ 0.0573,  0.9109] is this???\n",
    "#[ not-normalized prob of class 0, not-normalized prob of class 1]\n",
    "# class 0 \n",
    "#why they do not sum to 1\n",
    "#my next question, when does my output got normalized?"
   ]
  },
  {
   "cell_type": "code",
   "execution_count": 41,
   "metadata": {},
   "outputs": [
    {
     "name": "stderr",
     "output_type": "stream",
     "text": [
      "C:\\Users\\Guntsv\\AppData\\Local\\Temp\\ipykernel_15584\\1177283475.py:3: UserWarning: Implicit dimension choice for softmax has been deprecated. Change the call to include dim=X as an argument.\n",
      "  soft_out = softmax(output)\n"
     ]
    },
    {
     "data": {
      "text/plain": [
       "tensor([[0.3748, 0.6252],\n",
       "        [0.1643, 0.8357],\n",
       "        [0.7139, 0.2861],\n",
       "        [0.7006, 0.2994],\n",
       "        [0.1018, 0.8982]], grad_fn=<SoftmaxBackward0>)"
      ]
     },
     "execution_count": 41,
     "metadata": {},
     "output_type": "execute_result"
    }
   ],
   "source": [
    "softmax = nn.Softmax()\n",
    "\n",
    "soft_out = softmax(output)\n",
    "soft_out"
   ]
  },
  {
   "cell_type": "code",
   "execution_count": 42,
   "metadata": {},
   "outputs": [],
   "source": [
    "#when you say loss = CrossEntropyLoss(yhat,y_test)\n",
    "#CrossEntropyLoss do softmax(yhat) then do cross_entropy with y_test"
   ]
  },
  {
   "cell_type": "markdown",
   "metadata": {},
   "source": [
    "## Training!!!"
   ]
  },
  {
   "cell_type": "code",
   "execution_count": 66,
   "metadata": {},
   "outputs": [
    {
     "name": "stdout",
     "output_type": "stream",
     "text": [
      "tensor(-2.1665e-06)\n",
      "Epoch:  0; Loss: 0.23\n",
      "tensor(-1.5738e-06)\n",
      "Epoch: 50; Loss: 0.23\n",
      "tensor(-3.9071e-06)\n",
      "Epoch: 100; Loss: 0.23\n",
      "tensor(-9.3657e-06)\n",
      "Epoch: 150; Loss: 0.23\n",
      "tensor(3.0634e-06)\n",
      "Epoch: 200; Loss: 0.24\n",
      "tensor(1.5820e-07)\n",
      "Epoch: 250; Loss: 0.23\n",
      "tensor(5.2666e-06)\n",
      "Epoch: 300; Loss: 0.23\n",
      "tensor(3.5129e-06)\n",
      "Epoch: 350; Loss: 0.23\n",
      "tensor(7.5449e-07)\n",
      "Epoch: 400; Loss: 0.23\n",
      "tensor(-7.3077e-08)\n",
      "Epoch: 450; Loss: 0.23\n"
     ]
    }
   ],
   "source": [
    "epochs    = 500\n",
    "J_fn      = nn.CrossEntropyLoss() #sometimes people called this criterion or loss rather than J_fn\n",
    "optimizer = torch.optim.Adam(model.parameters(),lr=0.01)\n",
    "            #how can we know lr = 0.01 is good enough\n",
    "            #why not 0.001, 0.0001\n",
    "            #because our gradients are very small\n",
    "            #it make sense that our lr should NOT be too small!\n",
    "losses = []\n",
    "\n",
    "#for epoch\n",
    "for i in range(epochs):\n",
    "    #1.prediction using model()\n",
    "    yhat = model(cat_train,cont_train)\n",
    "    #2. loss using J_fn()\n",
    "    loss = J_fn(yhat,y_train)\n",
    "    #please collect the loss and accuracy\n",
    "    losses.append(loss)\n",
    "    #3. empty the gradients (zero_grad())\n",
    "    #you should NOT print the grad after zero_grad\n",
    "    optimizer.zero_grad()\n",
    "    #4.backpropagate (backward())\n",
    "    #you should print the grad after backward\n",
    "    loss.backward()\n",
    "\n",
    "    # print(model.layers[0].bias.grad)\n",
    "    # print(model.layers[4].weight.grad)\n",
    "    # print(model.layers[4].bias.grad)\n",
    "\n",
    "    #5. update parameters (step())\n",
    "    optimizer.step()\n",
    "    #every 50 epochs, pritn loss and accuracy\n",
    "    if i % 50 == 0:\n",
    "        print(torch.mean(model.layers[0].weight.grad))\n",
    "        print(f'Epoch: {i:2.0f}; Loss: {loss:3.2f}')"
   ]
  },
  {
   "cell_type": "code",
   "execution_count": 49,
   "metadata": {},
   "outputs": [
    {
     "data": {
      "text/plain": [
       "Text(0, 0.5, 'loss')"
      ]
     },
     "execution_count": 49,
     "metadata": {},
     "output_type": "execute_result"
    },
    {
     "data": {
      "image/png": "[encoded data removed]",
      "text/plain": [
       "<Figure size 432x288 with 1 Axes>"
      ]
     },
     "metadata": {
      "needs_background": "light"
     },
     "output_type": "display_data"
    }
   ],
   "source": [
    "#plot the losses and acc\n",
    "train_loss = [loss.item() for loss in losses]\n",
    "plt.plot(range(epochs),train_loss)\n",
    "plt.xlabel('epoch')\n",
    "plt.ylabel('loss')"
   ]
  },
  {
   "cell_type": "markdown",
   "metadata": {},
   "source": [
    "# 11. Testing/Inference"
   ]
  },
  {
   "cell_type": "code",
   "execution_count": 57,
   "metadata": {},
   "outputs": [
    {
     "name": "stdout",
     "output_type": "stream",
     "text": [
      "0.881\n"
     ]
    }
   ],
   "source": [
    "from sklearn.metrics import accuracy_score\n",
    "\n",
    "with torch.no_grad():\n",
    "    yhat = model(cat_test, cont_test)\n",
    "    loss = J_fn(yhat, y_test)\n",
    "    predicted = torch.max(yhat, 1)[1]\n",
    "    acc  = accuracy_score(predicted, y_test)\n",
    "    \n",
    "print(acc)"
   ]
  },
  {
   "cell_type": "markdown",
   "metadata": {},
   "source": []
  }
 ],
 "metadata": {
  "kernelspec": {
   "display_name": "Python 3.10.4 64-bit",
   "language": "python",
   "name": "python3"
  },
  "language_info": {
   "codemirror_mode": {
    "name": "ipython",
    "version": 3
   },
   "file_extension": ".py",
   "mimetype": "text/x-python",
   "name": "python",
   "nbconvert_exporter": "python",
   "pygments_lexer": "ipython3",
   "version": "3.10.4"
  },
  "orig_nbformat": 4,
  "vscode": {
   "interpreter": {
    "hash": "c81d839d3c4227cd770621df97fe8191838af02e7eef185a922d8250cb33d344"
   }
  }
 },
 "nbformat": 4,
 "nbformat_minor": 2
}
