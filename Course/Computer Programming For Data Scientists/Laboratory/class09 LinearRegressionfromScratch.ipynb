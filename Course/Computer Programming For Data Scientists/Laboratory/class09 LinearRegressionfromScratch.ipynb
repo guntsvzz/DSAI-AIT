{
 "cells": [
  {
   "cell_type": "markdown",
   "metadata": {},
   "source": [
    "### Where are we now?\n",
    "\n",
    "- Bootcamp: Python \n",
    "- Numpy, Pandas, Sklearn, (Matplotlib)\n",
    "- If you reach here, and you can do the quiz VERY WELL, you can already go outside and work....\n",
    "\n",
    "- Series of machine learning from scratch\n",
    "    - Why? Chaky? We already have sklearn, why scratch?"
   ]
  },
  {
   "cell_type": "markdown",
   "metadata": {},
   "source": [
    "## Feedback\n",
    "- Generally, everyone did very well.....\n",
    "\n",
    "- High level comment: Be less a programmer, Be more like a scientist\n",
    "    - Think thrice, code once\n",
    "\n",
    "- Label encoding vs. One-hot encoding\n",
    "    - Use label encoding when there are way too many categories.... like 30 or 50......\n",
    "    - when you use one-hot encoding, before you use, maybe you can think about grouping them, to make less categories.....\n",
    "\n",
    "- None of you has hypothesis......\n",
    "- None of you has research question......\n",
    "- Very few of you has discussion, interpretation........."
   ]
  },
  {
   "cell_type": "markdown",
   "metadata": {},
   "source": [
    "## Linear Regression from Scratch\n",
    "\n",
    "| | Egg price  | Gold price    | Oil price   | GDP   |\n",
    "|---:|:-------------|:-----------|:------|:------|\n",
    "| 1 | 3  | 100       | 4   | 21   |\n",
    "| 2 | 4  | 500    | 7   | 43     |"
   ]
  },
  {
   "cell_type": "code",
   "execution_count": 168,
   "metadata": {},
   "outputs": [],
   "source": [
    "import numpy as np\n",
    "import random"
   ]
  },
  {
   "cell_type": "code",
   "execution_count": 278,
   "metadata": {},
   "outputs": [],
   "source": [
    "#sample 1\n",
    "x1 = np.array([3,100,4])\n",
    "y1 = np.array([21])\n",
    "\n",
    "#what's the idea of prediction? What is machine learning?\n",
    "#- find the weights that can bring you from x1 to y1\n",
    "\n",
    "#first smaple\n",
    "#3 * w1 + 100 * w2 + 4 * w3 = 21\n",
    "#3 * 1 + 100 * 1 + 4 * 1 = 107\n",
    "#3 * 7 + 100 * 1 + 4 * -25 = 21\n",
    "\n",
    "#machine learning is trying to find the 'best' weights\n",
    "\n",
    "#second smaple\n",
    "#4 * w1 + 500 * w2 + 7 * w3 = 43\n",
    "#4 * 7 + 500 * 1 + 7 * -25 = 353\n",
    "\n",
    "#machine laering is trying to find the 'best' weights ACROSS all samples....\n",
    "\n",
    "#all deep learning is based on these weight systems"
   ]
  },
  {
   "cell_type": "code",
   "execution_count": 279,
   "metadata": {},
   "outputs": [],
   "source": [
    "#Definiton of terms and notations\n",
    "\n",
    "#2 samples\n",
    "#3 features - egg price, gold price, oil price\n",
    "    #features are the variables used for predictingthe label\n",
    "    #factors, independent variable, predictiors, X\n",
    "\n",
    "#egg price - x_1 --> always a vector, e.g. [3,4]\n",
    "#gold price - x_2 --> always a vector, e.g. [100,500]\n",
    "#oil price - x_3 --> always a vector, e.g. [4,7]\n",
    "#we call egg price + gold price + oil price - whole 'feature matrix' --> \\mathbg{x}\n",
    "\n",
    "#1 label -gdp\n",
    "    #label is the variable that we want to predict\n",
    "    #target, outcome, y\n",
    "    #y_1 = y = a vector of labels, e.g.[21,43]\n",
    "\n",
    "#Tips: small and big\n",
    "#small mean"
   ]
  },
  {
   "cell_type": "markdown",
   "metadata": {},
   "source": [
    "Math notations:\n",
    "- normal  a -> scalar (one number)\n",
    "- bold $\\mathbf{a}$ --> vector (a 1D numpy array)\n",
    "- bold $\\mathbf{A}$ --> matrix (a 2D numpy array) \n",
    "\n",
    "- $\\mathbf{x}_1^2$ --> feature 1, second sample"
   ]
  },
  {
   "cell_type": "code",
   "execution_count": 280,
   "metadata": {},
   "outputs": [
    {
     "data": {
      "text/plain": [
       "(2, 3)"
      ]
     },
     "execution_count": 280,
     "metadata": {},
     "output_type": "execute_result"
    }
   ],
   "source": [
    "X = np.array([[3,100,4],[4,500,7]])\n",
    "X.shape #(2,3) means 2 samples = m, 3 features = n "
   ]
  },
  {
   "cell_type": "code",
   "execution_count": 281,
   "metadata": {},
   "outputs": [
    {
     "data": {
      "text/plain": [
       "(3,)"
      ]
     },
     "execution_count": 281,
     "metadata": {},
     "output_type": "execute_result"
    }
   ],
   "source": [
    "#weight = theta = params\n",
    "theta = np.array([7,1,-25])\n",
    "theta.shape #weight must be the sampleshape as X.shape[1]"
   ]
  },
  {
   "cell_type": "code",
   "execution_count": 282,
   "metadata": {},
   "outputs": [
    {
     "data": {
      "text/plain": [
       "array([ 21, 353])"
      ]
     },
     "execution_count": 282,
     "metadata": {},
     "output_type": "execute_result"
    }
   ],
   "source": [
    "# X.dot(theta)\n",
    "#To be able to dot, the number should be same in the close pair\n",
    "#(2,3) @ (3, ) = (2,)\n",
    "#(4,6) @ (6, ) = (4,)\n",
    "#(4,6,1) @ (1,2) = (4,6,1,2)\n",
    "\n",
    "X @ theta\n",
    "\n",
    "#the common error: matmul error"
   ]
  },
  {
   "cell_type": "code",
   "execution_count": 283,
   "metadata": {},
   "outputs": [
    {
     "data": {
      "text/plain": [
       "21"
      ]
     },
     "execution_count": 283,
     "metadata": {},
     "output_type": "execute_result"
    }
   ],
   "source": [
    "X[0][0] * theta[0] + X[0][1] * theta[1] + X[0][2] * theta[2]"
   ]
  },
  {
   "cell_type": "markdown",
   "metadata": {},
   "source": [
    "### How to find the best weight?\n",
    "- There are many ways, e.g, closed from, gradient descrent, expectation\n",
    "- gradient descent / backpropagation\n",
    "    - you adjust the weight slightly, based on the errors....\n",
    "    - How to adjust basaed on the erorrs\n",
    "\n",
    "0. You first use any randomized weight\n",
    "    \n",
    "    [1,2,3]\n",
    "\n",
    "1. We need to find out how to measure errors\n",
    "\n",
    "$\\sum_0^m (\\hat{y}_i - y_i)^2 $\n",
    "\n",
    "2. We need to know how much to adjust the weight? HOW?\n",
    "\n",
    "Just try all number in the world........ NOOOOO\n",
    "\n",
    "Find the derivative first!\n",
    "\n",
    "$(\\hat{y}_i - y_i) *x_j$\n",
    "\n",
    "$\\mathbf{X}^\\top(\\mathbf{\\hat{y} - \\mathbf{y}})$\n",
    "\n",
    "\n",
    "\n",
    "3. We need to cahgne the weight accordingly\n",
    "\n",
    "$ weight_j = weight_j - \\alpha * derivative $\n",
    "\n",
    "only for one sample\n",
    "\n",
    "$ weight_j = weight_j - \\alpha* (\\hat{y}_i - y_i) * x_j $\n",
    "\n",
    "do for all sample\n",
    "\n",
    "$ \\mathbf{w} = \\mathbf{w} - \\alpha * \\mathbf{X}^\\top(\\mathbf{\\hat{y} - \\mathbf{y}}) $\n",
    "\n",
    "Note: $\\alpha$ - 0.1, 0.01, 0.001, 0.0001\n",
    "\n",
    "4. Run predict again....\n",
    "\n",
    "5. We stop when our errors are decreased no more....or reach some max iterations..."
   ]
  },
  {
   "cell_type": "code",
   "execution_count": 284,
   "metadata": {},
   "outputs": [],
   "source": [
    "import matplotlib.pyplot as plt\n",
    "import numpy as np"
   ]
  },
  {
   "cell_type": "code",
   "execution_count": 285,
   "metadata": {},
   "outputs": [
    {
     "data": {
      "text/plain": [
       "Text(0, 0.5, 'error/cost')"
      ]
     },
     "execution_count": 285,
     "metadata": {},
     "output_type": "execute_result"
    },
    {
     "data": {
      "image/png": "[encoded data removed]",
      "text/plain": [
       "<Figure size 432x288 with 1 Axes>"
      ]
     },
     "metadata": {
      "needs_background": "light"
     },
     "output_type": "display_data"
    }
   ],
   "source": [
    "x = np.linspace(0,100,1000)\n",
    "y = (x-50)**2\n",
    "\n",
    "plt.plot(x,y)\n",
    "plt.xlabel('weight')\n",
    "plt.ylabel(\"error/cost\")"
   ]
  },
  {
   "cell_type": "markdown",
   "metadata": {},
   "source": [
    "#### Steps for linear regression / gradient descent\n",
    "\n",
    "### Gradient descent is basically backpropagation in deep learning......\n",
    "\n",
    "Step 1: Randomize your weight\n",
    "\n",
    "- weight.shape (n, )\n",
    "\n",
    "Step 2: Use this inital weight to predict\n",
    "\n",
    "- you will get errors\n",
    "\n",
    "Step 3: Find the derivative\n",
    "\n",
    "- $\\mathbf{X}^\\top(\\mathbf{\\hat{y} - \\mathbf{y}})$\n",
    "\n",
    "Step 4: Change the weight\n",
    "\n",
    "- $ \\mathbf{w} = \\mathbf{w} - \\alpha * \\mathbf{X}^\\top(\\mathbf{\\hat{y} - \\mathbf{y}}) $\n",
    "\n",
    "Step 5: Repeat Step 2, 3, 4, until you either (1) reach the max iteration, or (2) your validation loss does not decrease anymore"
   ]
  },
  {
   "cell_type": "markdown",
   "metadata": {},
   "source": [
    "#### Let's code"
   ]
  },
  {
   "cell_type": "markdown",
   "metadata": {},
   "source": [
    "#### Step 1: Load some toy dataset"
   ]
  },
  {
   "cell_type": "code",
   "execution_count": 298,
   "metadata": {},
   "outputs": [],
   "source": [
    "from sklearn.datasets import load_diabetes\n",
    "diabetes = load_diabetes()\n",
    "X = diabetes.data\n",
    "y = diabetes.target\n",
    "\n",
    "#print the shape of X and y\n",
    "X.shape, y.shape\n",
    "assert X.ndim == 2\n",
    "assert y.ndim == 1\n",
    "#print one of X, and maybe try to see what it is \n",
    "# x[0]\n",
    "#print one of y, and maybe try to see what it is \n",
    "# y[0]\n",
    "# diabetes.feature_names\n",
    "#label is blood glucose level....\n",
    "\n",
    "#please help me set m and n \n",
    "m,n = X.shape\n",
    "\n",
    "#write an assert function to check that X and y has same amount of samples...\n",
    "assert m == y.shape[0]"
   ]
  },
  {
   "cell_type": "markdown",
   "metadata": {},
   "source": [
    "Note: We skip EDA and cleaninig, because we are lazy; but actually this dataset is already clean"
   ]
  },
  {
   "cell_type": "markdown",
   "metadata": {},
   "source": [
    "#### Step 2: Train Test Split"
   ]
  },
  {
   "cell_type": "code",
   "execution_count": 299,
   "metadata": {},
   "outputs": [],
   "source": [
    "from sklearn.model_selection import train_test_split\n",
    "\n",
    "#split here\n",
    "X_train, X_test, y_train, y_test = train_test_split(X, y, test_size = 0.3, random_state=999)\n",
    "\n",
    "#assert that X_train and y_train has the same amount of samples\n",
    "#assert that X_test and y_test has the same amount of samples\n",
    "assert X_train.shape[0] == y_train.shape[0]\n",
    "assert X_test.shape[0] == y_test.shape[0]"
   ]
  },
  {
   "cell_type": "code",
   "execution_count": 300,
   "metadata": {},
   "outputs": [
    {
     "data": {
      "text/plain": [
       "((309, 10), (133, 10), (309,), (133,))"
      ]
     },
     "execution_count": 300,
     "metadata": {},
     "output_type": "execute_result"
    }
   ],
   "source": [
    "X_train.shape, X_test.shape, y_train.shape, y_test.shape"
   ]
  },
  {
   "cell_type": "markdown",
   "metadata": {},
   "source": [
    "#### Step 3: Standardziation"
   ]
  },
  {
   "cell_type": "code",
   "execution_count": 301,
   "metadata": {},
   "outputs": [],
   "source": [
    "#import the StandatdScalar\n",
    "from sklearn.preprocessing import StandardScaler\n",
    "sc = StandardScaler()\n",
    "\n",
    "#standardize the traing set\n",
    "X_train = sc.fit_transform(X_train)\n",
    "\n",
    "#standardize the test set\n",
    "X_test = sc.transform(X_test)"
   ]
  },
  {
   "cell_type": "markdown",
   "metadata": {},
   "source": [
    "#### Step 4: Add intercept to your X"
   ]
  },
  {
   "cell_type": "code",
   "execution_count": 302,
   "metadata": {},
   "outputs": [],
   "source": [
    "# Example: if your X is        [  [3, 2, 4],    [2, 6, 8]  ]\n",
    "# I want you to make it into   [  [1, 3, 2, 4], [1, 2, 6, 8]  ]\n",
    "# Why 1?  because imagine you have another weight, which let's call w0\n",
    "# this w0 is actually the intercept; so multiply with 1, will do nothing\n",
    "# so we can still use X @ theta....\n",
    "\n",
    "intercept = np.ones((X_train.shape[0],1))\n",
    "intercept.shape\n",
    "\n",
    "#hint: use np.concatenate with X_train on axis = 1, to add these ones to X_train\n",
    "# X_train = np.concatenate((intercept, X_train), axis=1)\n",
    "# or \n",
    "X_train = np.insert(X_train,0,1,axis=1) #insert(array,position,value,axis)\n",
    "X_test = np.insert(X_test,0,1,axis=1) #insert(array,position,value,axis)"
   ]
  },
  {
   "cell_type": "code",
   "execution_count": 303,
   "metadata": {},
   "outputs": [
    {
     "data": {
      "text/plain": [
       "((309, 11), (133, 11))"
      ]
     },
     "execution_count": 303,
     "metadata": {},
     "output_type": "execute_result"
    }
   ],
   "source": [
    "X_train.shape, X_test.shape"
   ]
  },
  {
   "cell_type": "markdown",
   "metadata": {},
   "source": [
    "#### Step 5: Fitting!!! Gradient Descent"
   ]
  },
  {
   "cell_type": "code",
   "execution_count": 294,
   "metadata": {},
   "outputs": [],
   "source": [
    "#put everything fit()\n",
    "alpha = 0.001\n",
    "max_iter = 10000\n",
    "#1. randomize out theta\n",
    "#please help me create a random theta of size (X_train.shape[1])\n",
    "theta = np.ones(X_train.shape[1])\n",
    "\n",
    "def predict(X,theta):\n",
    "    y_pred = X @ theta\n",
    "    return y_pred\n",
    "\n",
    "def mean_squared_error(y_hat,y): #loss or cost function\n",
    "    # return np.sum(np.square(y_pred - y))\n",
    "    return ((y_hat - y)**2).sum() /y.shape[0]\n",
    "\n",
    "def _gradient(X,error): #it's only for internal purpose \n",
    "    #not for external purpose\n",
    "    #what do you mean by external: i mean the main() program of python\n",
    "    return X.T @ error\n",
    "\n",
    "def fit(X, y, theta, alpha, max_iter):\n",
    "    for i in range(max_iter):\n",
    "        #2. predict \n",
    "        y_hat = predict(X,theta)\n",
    "\n",
    "        #2.1 can you guys compute the squared error\n",
    "        #print(the mean sqaure error, we can see whether MSE goes down eventually)\n",
    "        mse = mean_squared_error(y_hat,y)\n",
    "        # if ( i%50 ==0 ):\n",
    "        #     print(f'MSE: {mse}')\n",
    "        # print('MSE',mse)\n",
    "\n",
    "        #3. get derivativaes\n",
    "        deriv = _gradient(X_train, y_hat - y)\n",
    "        #4. update weight\n",
    "        theta = theta - alpha*deriv\n",
    "\n",
    "        #5.repeat 1,2,3,4\n",
    "        #please put a for loop for 2,3,4\n",
    "        #set 1000 call it max_iter\n",
    "    # return theta"
   ]
  },
  {
   "cell_type": "code",
   "execution_count": 295,
   "metadata": {},
   "outputs": [],
   "source": [
    "theta = fit(X_train,y_train,theta,alpha,max_iter) \n",
    "#model is the weight"
   ]
  },
  {
   "cell_type": "markdown",
   "metadata": {},
   "source": [
    "#### Step 6: Testing"
   ]
  },
  {
   "cell_type": "code",
   "execution_count": 296,
   "metadata": {},
   "outputs": [
    {
     "ename": "ValueError",
     "evalue": "matmul: Input operand 1 does not have enough dimensions (has 0, gufunc core with signature (n?,k),(k,m?)->(n?,m?) requires 1)",
     "output_type": "error",
     "traceback": [
      "\u001b[1;31m---------------------------------------------------------------------------\u001b[0m",
      "\u001b[1;31mValueError\u001b[0m                                Traceback (most recent call last)",
      "\u001b[1;32mc:\\Users\\Guntsv\\Downloads\\AIT\\AT82.01 Computer Programming for Data Science and Artificial Intelligence (PDS)\\Coding-Along\\class9 LinearRegressionfromScratch.ipynb Cell 32\u001b[0m in \u001b[0;36m<cell line: 1>\u001b[1;34m()\u001b[0m\n\u001b[1;32m----> <a href='vscode-notebook-cell:/c%3A/Users/Guntsv/Downloads/AIT/AT82.01%20Computer%20Programming%20for%20Data%20Science%20and%20Artificial%20Intelligence%20%28PDS%29/Coding-Along/class9%20LinearRegressionfromScratch.ipynb#X42sZmlsZQ%3D%3D?line=0'>1</a>\u001b[0m y_hat \u001b[39m=\u001b[39m predict(X_test,theta)\n\u001b[0;32m      <a href='vscode-notebook-cell:/c%3A/Users/Guntsv/Downloads/AIT/AT82.01%20Computer%20Programming%20for%20Data%20Science%20and%20Artificial%20Intelligence%20%28PDS%29/Coding-Along/class9%20LinearRegressionfromScratch.ipynb#X42sZmlsZQ%3D%3D?line=2'>3</a>\u001b[0m mean_squared_error(y_hat,y_test)\n",
      "\u001b[1;32mc:\\Users\\Guntsv\\Downloads\\AIT\\AT82.01 Computer Programming for Data Science and Artificial Intelligence (PDS)\\Coding-Along\\class9 LinearRegressionfromScratch.ipynb Cell 32\u001b[0m in \u001b[0;36mpredict\u001b[1;34m(X, theta)\u001b[0m\n\u001b[0;32m      <a href='vscode-notebook-cell:/c%3A/Users/Guntsv/Downloads/AIT/AT82.01%20Computer%20Programming%20for%20Data%20Science%20and%20Artificial%20Intelligence%20%28PDS%29/Coding-Along/class9%20LinearRegressionfromScratch.ipynb#X42sZmlsZQ%3D%3D?line=7'>8</a>\u001b[0m \u001b[39mdef\u001b[39;00m \u001b[39mpredict\u001b[39m(X,theta):\n\u001b[1;32m----> <a href='vscode-notebook-cell:/c%3A/Users/Guntsv/Downloads/AIT/AT82.01%20Computer%20Programming%20for%20Data%20Science%20and%20Artificial%20Intelligence%20%28PDS%29/Coding-Along/class9%20LinearRegressionfromScratch.ipynb#X42sZmlsZQ%3D%3D?line=8'>9</a>\u001b[0m     y_pred \u001b[39m=\u001b[39m X \u001b[39m@\u001b[39;49m theta\n\u001b[0;32m     <a href='vscode-notebook-cell:/c%3A/Users/Guntsv/Downloads/AIT/AT82.01%20Computer%20Programming%20for%20Data%20Science%20and%20Artificial%20Intelligence%20%28PDS%29/Coding-Along/class9%20LinearRegressionfromScratch.ipynb#X42sZmlsZQ%3D%3D?line=9'>10</a>\u001b[0m     \u001b[39mreturn\u001b[39;00m y_pred\n",
      "\u001b[1;31mValueError\u001b[0m: matmul: Input operand 1 does not have enough dimensions (has 0, gufunc core with signature (n?,k),(k,m?)->(n?,m?) requires 1)"
     ]
    }
   ],
   "source": [
    "y_hat = predict(X_test,theta)\n",
    "\n",
    "mean_squared_error(y_hat,y_test)"
   ]
  },
  {
   "cell_type": "markdown",
   "metadata": {},
   "source": [
    "### Many things I wanna do today"
   ]
  },
  {
   "cell_type": "markdown",
   "metadata": {},
   "source": [
    "Objectives:\n",
    "\n",
    "1. Understand better about cross validation\n",
    "2. Remind how to write a  class\n",
    "3. Learn about stochastic and mini-batch gradient descent, which are very important concepts later on in deep learing......"
   ]
  },
  {
   "cell_type": "markdown",
   "metadata": {},
   "source": [
    "minibatch-gradient descent\n",
    "- use only a subset of data for finding the gradient\n",
    "- why?\n",
    "- because using the whole set of data to find the gradient takes time\n",
    "- we assume that the subset of data, should give a general good slope anyway for the whole population"
   ]
  },
  {
   "cell_type": "markdown",
   "metadata": {},
   "source": [
    "stochastic-gradient descent\n",
    "- use only one sample to get the gradient\n",
    "- very fast (but NOT good! usually)\n",
    "- Exercise: add a parameter at init called 'method'\n",
    "    - if method = mini_batch, then do mini_batch\n",
    "    - if method = sto, go sto ==> please do without replacement\n",
    "    - otherwise, do the normally gradient_descent"
   ]
  },
  {
   "cell_type": "code",
   "execution_count": 150,
   "metadata": {},
   "outputs": [],
   "source": [
    "#Ex1 : Please Write this whole thing & class called LinearRegression()\n",
    "    #it should have two functions at least\n",
    "    #fit() to fit the model\n",
    "    #predict() to inference\n",
    "    #trivial: try to do like what sklearn do....\n",
    "    #15:10 - 15:30"
   ]
  },
  {
   "cell_type": "code",
   "execution_count": 304,
   "metadata": {},
   "outputs": [],
   "source": [
    "from sklearn.model_selection import KFold\n",
    "class LinearRegression():\n",
    "    kfold = KFold(n_splits=5)\n",
    "    def __init__(self,max_iter=1000,alpha=0.0001,num_epochs=5,batch_size=50,method='batch',\n",
    "        cv=kfold):\n",
    "        self.max_iter = max_iter\n",
    "        self.alpha = alpha\n",
    "        self.num_epochs = num_epochs\n",
    "        self.batch_size = batch_size\n",
    "        self.method = method\n",
    "        self.cv = cv\n",
    "\n",
    "    def predict(self,X):\n",
    "        y_pred = X @ self.theta\n",
    "        return y_pred\n",
    "\n",
    "    def mean_squared_error(self,y_hat,y):\n",
    "        return ((y_hat - y)**2).sum() /y.shape[0]\n",
    "\n",
    "    def _gradient(self,X,error):\n",
    "        return X.T @ error\n",
    "        \n",
    "    def cross_validation(X,fold=3):\n",
    "        dataset_split = list()\n",
    "        return dataset_split\n",
    "\n",
    "    def fit(self,X_train, y_train):\n",
    "        #using training .......\n",
    "\n",
    "        #create a list of kfold scores\n",
    "        self.kfold = list()\n",
    "\n",
    "        #please change it ot cross-validation\n",
    "        for fold,(train_idx, val_idx) in enumerate(self.cv.split(X_train)):\n",
    "            X_cross_train, X_cross_val = X_train[train_idx], X_train[val_idx]\n",
    "            y_cross_train, y_cross_val = y_train[train_idx], y_train[val_idx]\n",
    "\n",
    "            #create self.theta\n",
    "            self.theta = np.zeros(X_cross_train.shape[1]) #based on features\n",
    "\n",
    "            #define X_train as only a subset of the data\n",
    "            #how big is this subset ? mini-batch size ==> 50\n",
    "            \n",
    "            #one epoch will exhaust the WHOLE training set\n",
    "            for epoch in range(self.num_epochs):\n",
    "                #with replacement or no replacement\n",
    "                #with replacement mean jsut randomize\n",
    "                #with no replace menes 0:50 51:100 101:150.... 300:323\n",
    "                #shuffle you index\n",
    "                #===> please shuffle your index\n",
    "                perm = np.random.permutation(X_cross_train.shape[0]) #return as a list of index\n",
    "                # print(permuted_index)\n",
    "                X_cross_train = X_cross_train[perm]\n",
    "                y_cross_train = y_cross_train[perm]\n",
    "\n",
    "                if self.method == 'mini':\n",
    "                    for batch_idx in range(0,X_cross_train.shape[0], self.batch_size):\n",
    "                        #batch_idx = 0,50,100,150\n",
    "                        X_method_train = X_cross_train[batch_idx:batch_idx+self.batch_size,:]\n",
    "                        y_method_train = y_cross_train[batch_idx:batch_idx+self.batch_size]\n",
    "                        # print(X_method_train.shape)\n",
    "                        self._train(X_method_train, y_method_train)\n",
    "                elif self.method == 'sto':\n",
    "                    for sto_idx in range(0,X_cross_train.shape[0]):\n",
    "                        X_method_train = X_cross_train[sto_idx,:].reshape(1,-1) #(11,) => (1,11)\n",
    "                        y_method_train = y_cross_train[sto_idx]\n",
    "                        # print(X_method_train.shape)\n",
    "                        self._train(X_method_train, y_method_train)\n",
    "                else: #'gradient_descent'\n",
    "                    X_method_train = X_cross_train\n",
    "                    y_method_train = y_cross_train\n",
    "                    self._train(X_method_train, y_method_train)\n",
    "            #print the validation\n",
    "            yhat_val = self.predict(X_cross_val)\n",
    "            self.kfold.append(mean_squared_error(y_cross_val,yhat_val))\n",
    "            # print(f'Fold {fold:} : {mean_squared_error(y_cross_val,yhat_val)}')\n",
    "\n",
    "    def _train(self, X, y):\n",
    "        y_hat = self.predict(X)\n",
    "        #1.1 Optionally, print loss\n",
    "        # mse = self.mean_squared_error(y_hat,y_train)\n",
    "        #2.get gradient\n",
    "        deriv = self._gradient(X, y_hat - y)\n",
    "        #3. adjust theta/coef\n",
    "        self.theta = self.theta - self.alpha*deriv\n",
    "\n",
    "    def _coef(self): #<------ basically theta\n",
    "        return self.theta[1:]   #remind that theta is (w0,w1,w2,w3,w4,....,wn)\n",
    "                                #w0 is the bias or the intercepts\n",
    "                                #w1 .... wn are the weights/ coefficients / theta\n",
    "\n",
    "    def _bias(self):\n",
    "        return self.theta[0]    "
   ]
  },
  {
   "cell_type": "code",
   "execution_count": 276,
   "metadata": {},
   "outputs": [],
   "source": [
    "model = LinearRegression(method='sto')\n",
    "model.fit(X_train,y_train)"
   ]
  },
  {
   "cell_type": "code",
   "execution_count": 277,
   "metadata": {},
   "outputs": [
    {
     "data": {
      "text/plain": [
       "[27880.862074943092,\n",
       " 23238.037436715316,\n",
       " 21116.883388792816,\n",
       " 23715.462654768115,\n",
       " 24569.876942679075]"
      ]
     },
     "execution_count": 277,
     "metadata": {},
     "output_type": "execute_result"
    }
   ],
   "source": [
    "model.kfold"
   ]
  },
  {
   "cell_type": "code",
   "execution_count": 297,
   "metadata": {},
   "outputs": [
    {
     "data": {
      "text/plain": [
       "array([ 0.69189699,  0.17352329,  5.15926454,  3.44343493,  1.83484542,\n",
       "        1.58441267, -2.40741838,  2.66884436,  3.99019904])"
      ]
     },
     "execution_count": 297,
     "metadata": {},
     "output_type": "execute_result"
    }
   ],
   "source": [
    "model._coef() # the weight associated with the ten feature"
   ]
  }
 ],
 "metadata": {
  "kernelspec": {
   "display_name": "Python 3.10.4 64-bit",
   "language": "python",
   "name": "python3"
  },
  "language_info": {
   "codemirror_mode": {
    "name": "ipython",
    "version": 3
   },
   "file_extension": ".py",
   "mimetype": "text/x-python",
   "name": "python",
   "nbconvert_exporter": "python",
   "pygments_lexer": "ipython3",
   "version": "3.10.4"
  },
  "orig_nbformat": 4,
  "vscode": {
   "interpreter": {
    "hash": "c81d839d3c4227cd770621df97fe8191838af02e7eef185a922d8250cb33d344"
   }
  }
 },
 "nbformat": 4,
 "nbformat_minor": 2
}
