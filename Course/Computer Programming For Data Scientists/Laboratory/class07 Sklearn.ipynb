{
 "cells": [
  {
   "cell_type": "markdown",
   "metadata": {},
   "source": [
    "# Programming for Data Science and Artificial Intelligence\n",
    "\n",
    "## Sklearn\n",
    "\n",
    "so fat\n",
    "- bootcamp - Python\n",
    "- Numpy \n",
    "- Pandas\n",
    "\n",
    "Today\n",
    "- Sklearn - machine learning\n",
    "\n",
    "- Matplotlib\n",
    "- Deploying models to the internet - 6 hours\n",
    "\n",
    "At this point, you can already work in many entry-level DS jobs.\n",
    "\n",
    "- Regression from scratch \n",
    "- Classification from scratch\n",
    "- Clustering from scratch + sklearn\n",
    "- Dimensionality reduction + sklearn\n",
    "\n",
    "Midterm\n",
    "Deep Learning\n",
    "- PyTorch (Numpy equivalent called torch tensors)\n",
    "- Fully-Connected Neuraul Network\n",
    "- Convolutional Neural Network\n",
    "\n",
    "Signal Processing - useful for EEG, Wifi, stock, time series\n",
    "\n",
    "Optional: AWS, GAN, Autoencoders, etc.\n",
    "\n",
    "Chaky - why do I need to code ?\n",
    "--> some company just use software- Rapidminer. Weka, Auzer ML, etc.\n",
    "--> these software are very powerful. and can do many **typical ML** stuffs\n",
    "--> but the hihglight ofcdoing, is that youcan custormize as mich as you want, you \n",
    "can always use the lasted algorithm, you don't have stick with the preprocessing \n",
    "techniqtue these software gave you ... etc... basically, coding is the MOST powetful.\n",
    "\n",
    "Four jobs in the market:\n",
    "\n",
    "Thailand : 35K - 200K\n",
    "\n",
    "- Data Anaylsts : Tools : PowerBI, Excel, SQL\n",
    "- Data Scientits : mathamtics oriented; mostly Python\n",
    "- Data Engineers : Database, cloud computing -AWS, Microsoft thingy\n",
    "- ML oops : software engineers in ML domain (very very efficient, and optimized - \n",
    "true computer science program)"
   ]
  },
  {
   "cell_type": "code",
   "execution_count": 2,
   "metadata": {},
   "outputs": [],
   "source": [
    "# Pandas is built on top of NumPy\n",
    "#   it means that Pandas, in a very raw level, is actually nothing but NumPy array\n",
    "#   pandas has added functionality, like dealing with missing values, for example\n",
    "\n",
    "# so why NumPy?  Why not use Pandas always?\n",
    "# Pandas is MUCH slower than NumPy"
   ]
  },
  {
   "cell_type": "markdown",
   "metadata": {},
   "source": [
    "### Import Pandas"
   ]
  },
  {
   "cell_type": "code",
   "execution_count": 1,
   "metadata": {},
   "outputs": [],
   "source": [
    "import pandas as pd"
   ]
  },
  {
   "cell_type": "code",
   "execution_count": 2,
   "metadata": {},
   "outputs": [
    {
     "data": {
      "text/plain": [
       "'1.4.1'"
      ]
     },
     "execution_count": 2,
     "metadata": {},
     "output_type": "execute_result"
    }
   ],
   "source": [
    "pd.__version__"
   ]
  },
  {
   "cell_type": "markdown",
   "metadata": {},
   "source": [
    "# 1. Extract-Transform-Load (ETL) \n",
    "\n",
    "- Challenge: many data sources; maintain a lot of connectors; transform them to one single format"
   ]
  },
  {
   "cell_type": "markdown",
   "metadata": {},
   "source": [
    "### Load csv file"
   ]
  },
  {
   "cell_type": "code",
   "execution_count": 5,
   "metadata": {},
   "outputs": [],
   "source": [
    "#the name of data that pandas called, is \"Dataframe\"\n",
    "df = pd.read_csv(\"howlongwelive.csv\")"
   ]
  },
  {
   "cell_type": "markdown",
   "metadata": {},
   "source": [
    "### Preview the dataframe"
   ]
  },
  {
   "cell_type": "code",
   "execution_count": 6,
   "metadata": {},
   "outputs": [
    {
     "data": {
      "text/html": [
       "<div>\n",
       "<style scoped>\n",
       "    .dataframe tbody tr th:only-of-type {\n",
       "        vertical-align: middle;\n",
       "    }\n",
       "\n",
       "    .dataframe tbody tr th {\n",
       "        vertical-align: top;\n",
       "    }\n",
       "\n",
       "    .dataframe thead th {\n",
       "        text-align: right;\n",
       "    }\n",
       "</style>\n",
       "<table border=\"1\" class=\"dataframe\">\n",
       "  <thead>\n",
       "    <tr style=\"text-align: right;\">\n",
       "      <th></th>\n",
       "      <th>Country</th>\n",
       "      <th>Year</th>\n",
       "      <th>Status</th>\n",
       "      <th>Life expectancy</th>\n",
       "      <th>Adult Mortality</th>\n",
       "      <th>infant deaths</th>\n",
       "      <th>Alcohol</th>\n",
       "      <th>percentage expenditure</th>\n",
       "      <th>Hepatitis B</th>\n",
       "      <th>Measles</th>\n",
       "      <th>...</th>\n",
       "      <th>Polio</th>\n",
       "      <th>Total expenditure</th>\n",
       "      <th>Diphtheria</th>\n",
       "      <th>HIV/AIDS</th>\n",
       "      <th>GDP</th>\n",
       "      <th>Population</th>\n",
       "      <th>thinness  1-19 years</th>\n",
       "      <th>thinness 5-9 years</th>\n",
       "      <th>Income composition of resources</th>\n",
       "      <th>Schooling</th>\n",
       "    </tr>\n",
       "  </thead>\n",
       "  <tbody>\n",
       "    <tr>\n",
       "      <th>0</th>\n",
       "      <td>Afghanistan</td>\n",
       "      <td>2015</td>\n",
       "      <td>Developing</td>\n",
       "      <td>65.0</td>\n",
       "      <td>263.0</td>\n",
       "      <td>62</td>\n",
       "      <td>0.01</td>\n",
       "      <td>71.279624</td>\n",
       "      <td>65.0</td>\n",
       "      <td>1154</td>\n",
       "      <td>...</td>\n",
       "      <td>6.0</td>\n",
       "      <td>8.16</td>\n",
       "      <td>65.0</td>\n",
       "      <td>0.1</td>\n",
       "      <td>584.259210</td>\n",
       "      <td>33736494.0</td>\n",
       "      <td>17.2</td>\n",
       "      <td>17.3</td>\n",
       "      <td>0.479</td>\n",
       "      <td>10.1</td>\n",
       "    </tr>\n",
       "    <tr>\n",
       "      <th>1</th>\n",
       "      <td>Afghanistan</td>\n",
       "      <td>2014</td>\n",
       "      <td>Developing</td>\n",
       "      <td>59.9</td>\n",
       "      <td>271.0</td>\n",
       "      <td>64</td>\n",
       "      <td>0.01</td>\n",
       "      <td>73.523582</td>\n",
       "      <td>62.0</td>\n",
       "      <td>492</td>\n",
       "      <td>...</td>\n",
       "      <td>58.0</td>\n",
       "      <td>8.18</td>\n",
       "      <td>62.0</td>\n",
       "      <td>0.1</td>\n",
       "      <td>612.696514</td>\n",
       "      <td>327582.0</td>\n",
       "      <td>17.5</td>\n",
       "      <td>17.5</td>\n",
       "      <td>0.476</td>\n",
       "      <td>10.0</td>\n",
       "    </tr>\n",
       "    <tr>\n",
       "      <th>2</th>\n",
       "      <td>Afghanistan</td>\n",
       "      <td>2013</td>\n",
       "      <td>Developing</td>\n",
       "      <td>59.9</td>\n",
       "      <td>268.0</td>\n",
       "      <td>66</td>\n",
       "      <td>0.01</td>\n",
       "      <td>73.219243</td>\n",
       "      <td>64.0</td>\n",
       "      <td>430</td>\n",
       "      <td>...</td>\n",
       "      <td>62.0</td>\n",
       "      <td>8.13</td>\n",
       "      <td>64.0</td>\n",
       "      <td>0.1</td>\n",
       "      <td>631.744976</td>\n",
       "      <td>31731688.0</td>\n",
       "      <td>17.7</td>\n",
       "      <td>17.7</td>\n",
       "      <td>0.470</td>\n",
       "      <td>9.9</td>\n",
       "    </tr>\n",
       "    <tr>\n",
       "      <th>3</th>\n",
       "      <td>Afghanistan</td>\n",
       "      <td>2012</td>\n",
       "      <td>Developing</td>\n",
       "      <td>59.5</td>\n",
       "      <td>272.0</td>\n",
       "      <td>69</td>\n",
       "      <td>0.01</td>\n",
       "      <td>78.184215</td>\n",
       "      <td>67.0</td>\n",
       "      <td>2787</td>\n",
       "      <td>...</td>\n",
       "      <td>67.0</td>\n",
       "      <td>8.52</td>\n",
       "      <td>67.0</td>\n",
       "      <td>0.1</td>\n",
       "      <td>669.959000</td>\n",
       "      <td>3696958.0</td>\n",
       "      <td>17.9</td>\n",
       "      <td>18.0</td>\n",
       "      <td>0.463</td>\n",
       "      <td>9.8</td>\n",
       "    </tr>\n",
       "    <tr>\n",
       "      <th>4</th>\n",
       "      <td>Afghanistan</td>\n",
       "      <td>2011</td>\n",
       "      <td>Developing</td>\n",
       "      <td>59.2</td>\n",
       "      <td>275.0</td>\n",
       "      <td>71</td>\n",
       "      <td>0.01</td>\n",
       "      <td>7.097109</td>\n",
       "      <td>68.0</td>\n",
       "      <td>3013</td>\n",
       "      <td>...</td>\n",
       "      <td>68.0</td>\n",
       "      <td>7.87</td>\n",
       "      <td>68.0</td>\n",
       "      <td>0.1</td>\n",
       "      <td>63.537231</td>\n",
       "      <td>2978599.0</td>\n",
       "      <td>18.2</td>\n",
       "      <td>18.2</td>\n",
       "      <td>0.454</td>\n",
       "      <td>9.5</td>\n",
       "    </tr>\n",
       "  </tbody>\n",
       "</table>\n",
       "<p>5 rows × 22 columns</p>\n",
       "</div>"
      ],
      "text/plain": [
       "       Country  Year      Status  Life expectancy   Adult Mortality  \\\n",
       "0  Afghanistan  2015  Developing              65.0            263.0   \n",
       "1  Afghanistan  2014  Developing              59.9            271.0   \n",
       "2  Afghanistan  2013  Developing              59.9            268.0   \n",
       "3  Afghanistan  2012  Developing              59.5            272.0   \n",
       "4  Afghanistan  2011  Developing              59.2            275.0   \n",
       "\n",
       "   infant deaths  Alcohol  percentage expenditure  Hepatitis B  Measles   ...  \\\n",
       "0             62     0.01               71.279624         65.0      1154  ...   \n",
       "1             64     0.01               73.523582         62.0       492  ...   \n",
       "2             66     0.01               73.219243         64.0       430  ...   \n",
       "3             69     0.01               78.184215         67.0      2787  ...   \n",
       "4             71     0.01                7.097109         68.0      3013  ...   \n",
       "\n",
       "   Polio  Total expenditure  Diphtheria    HIV/AIDS         GDP  Population  \\\n",
       "0    6.0               8.16         65.0        0.1  584.259210  33736494.0   \n",
       "1   58.0               8.18         62.0        0.1  612.696514    327582.0   \n",
       "2   62.0               8.13         64.0        0.1  631.744976  31731688.0   \n",
       "3   67.0               8.52         67.0        0.1  669.959000   3696958.0   \n",
       "4   68.0               7.87         68.0        0.1   63.537231   2978599.0   \n",
       "\n",
       "    thinness  1-19 years   thinness 5-9 years  \\\n",
       "0                   17.2                 17.3   \n",
       "1                   17.5                 17.5   \n",
       "2                   17.7                 17.7   \n",
       "3                   17.9                 18.0   \n",
       "4                   18.2                 18.2   \n",
       "\n",
       "   Income composition of resources  Schooling  \n",
       "0                            0.479       10.1  \n",
       "1                            0.476       10.0  \n",
       "2                            0.470        9.9  \n",
       "3                            0.463        9.8  \n",
       "4                            0.454        9.5  \n",
       "\n",
       "[5 rows x 22 columns]"
      ]
     },
     "execution_count": 6,
     "metadata": {},
     "output_type": "execute_result"
    }
   ],
   "source": [
    "#you use df.head()\n",
    "#format: df.head(number of rows; default is 5; you can also put negative numbers)\n",
    "df.head()"
   ]
  },
  {
   "cell_type": "code",
   "execution_count": 7,
   "metadata": {},
   "outputs": [
    {
     "data": {
      "text/plain": [
       "(2938, 22)"
      ]
     },
     "execution_count": 7,
     "metadata": {},
     "output_type": "execute_result"
    }
   ],
   "source": [
    "#as I say, Pandas IS NumPy\n",
    "df.shape\n",
    "\n",
    "#means that there are 2938 rows, and 22 columns"
   ]
  },
  {
   "cell_type": "code",
   "execution_count": 8,
   "metadata": {},
   "outputs": [
    {
     "data": {
      "text/plain": [
       "Index(['Country', 'Year', 'Status', 'Life expectancy ', 'Adult Mortality',\n",
       "       'infant deaths', 'Alcohol', 'percentage expenditure', 'Hepatitis B',\n",
       "       'Measles ', ' BMI ', 'under-five deaths ', 'Polio', 'Total expenditure',\n",
       "       'Diphtheria ', ' HIV/AIDS', 'GDP', 'Population',\n",
       "       ' thinness  1-19 years', ' thinness 5-9 years',\n",
       "       'Income composition of resources', 'Schooling'],\n",
       "      dtype='object')"
      ]
     },
     "execution_count": 8,
     "metadata": {},
     "output_type": "execute_result"
    }
   ],
   "source": [
    "#maybe you want a list of columns\n",
    "df.columns"
   ]
  },
  {
   "cell_type": "markdown",
   "metadata": {},
   "source": [
    "# 2. Exploratory Data Analysis (EDA)\n",
    "- looking at the distribution of data\n",
    "- plot something useful\n",
    "- understand the data\n",
    "- know which features to use\n",
    "  \n",
    "Note: **this is the MOST important step in all data science**"
   ]
  },
  {
   "cell_type": "code",
   "execution_count": 9,
   "metadata": {},
   "outputs": [],
   "source": [
    "## related seaborn\n",
    "#df.info()\n",
    "\n",
    "#list the datatypes of the dataframe\n",
    "#key: we DON'T LIKE \"object\" ==> \"string\"\n",
    "\n",
    "#so when you \"object\", you change it to numbers or drop it"
   ]
  },
  {
   "cell_type": "code",
   "execution_count": 10,
   "metadata": {},
   "outputs": [
    {
     "data": {
      "text/plain": [
       "0       Developing\n",
       "1       Developing\n",
       "2       Developing\n",
       "3       Developing\n",
       "4       Developing\n",
       "           ...    \n",
       "2933    Developing\n",
       "2934    Developing\n",
       "2935    Developing\n",
       "2936    Developing\n",
       "2937    Developing\n",
       "Name: Status, Length: 2938, dtype: object"
      ]
     },
     "execution_count": 10,
     "metadata": {},
     "output_type": "execute_result"
    }
   ],
   "source": [
    "#two ways to access each column\n",
    "#format1:  df['colname']\n",
    "#format2:  df.colname\n",
    "df['Status']  #try df.Status"
   ]
  },
  {
   "cell_type": "code",
   "execution_count": 11,
   "metadata": {},
   "outputs": [
    {
     "data": {
      "text/plain": [
       "array(['Developing', 'Developed'], dtype=object)"
      ]
     },
     "execution_count": 11,
     "metadata": {},
     "output_type": "execute_result"
    }
   ],
   "source": [
    "df['Status'].unique()"
   ]
  },
  {
   "cell_type": "code",
   "execution_count": 12,
   "metadata": {},
   "outputs": [],
   "source": [
    "developing_cond = df['Status'] == 'Developing'\n",
    "developed_cond  = df['Status'] == 'Developed'"
   ]
  },
  {
   "cell_type": "code",
   "execution_count": 13,
   "metadata": {},
   "outputs": [
    {
     "name": "stdout",
     "output_type": "stream",
     "text": [
      "Number of developing countries:  2426\n",
      "Number of developed countries:  512\n"
     ]
    }
   ],
   "source": [
    "print(\"Number of developing countries: \", \n",
    "      len(df.Status[developing_cond]))\n",
    "\n",
    "print (\"Number of developed countries: \", \n",
    "       df.Status[developed_cond].count())"
   ]
  },
  {
   "cell_type": "code",
   "execution_count": 14,
   "metadata": {},
   "outputs": [
    {
     "data": {
      "text/plain": [
       "512"
      ]
     },
     "execution_count": 14,
     "metadata": {},
     "output_type": "execute_result"
    }
   ],
   "source": [
    "df.Status[developed_cond].shape[0]"
   ]
  },
  {
   "cell_type": "code",
   "execution_count": 15,
   "metadata": {},
   "outputs": [
    {
     "data": {
      "text/plain": [
       "17.87"
      ]
     },
     "execution_count": 15,
     "metadata": {},
     "output_type": "execute_result"
    }
   ],
   "source": [
    "df['Alcohol'].max()  #try min(), mean(), median()"
   ]
  },
  {
   "cell_type": "code",
   "execution_count": 16,
   "metadata": {},
   "outputs": [
    {
     "data": {
      "text/plain": [
       "(0.01, 4.602860787172012, 3.755)"
      ]
     },
     "execution_count": 16,
     "metadata": {},
     "output_type": "execute_result"
    }
   ],
   "source": [
    "df.Alcohol.min(), df.Alcohol.mean(), df.Alcohol.median()"
   ]
  },
  {
   "cell_type": "code",
   "execution_count": 17,
   "metadata": {},
   "outputs": [],
   "source": [
    "#exercise: get the rows with alcohol more than the median\n",
    "#and count\n",
    "#challenge: list these unique countries\n",
    "\n",
    "#Answer:\n",
    "#fancy_indexes = df.Alcohol > df.Alcohol.median()\n",
    "#df.Country[fancy_indexes].unique()"
   ]
  },
  {
   "cell_type": "code",
   "execution_count": 18,
   "metadata": {},
   "outputs": [
    {
     "data": {
      "text/plain": [
       "numpy.ndarray"
      ]
     },
     "execution_count": 18,
     "metadata": {},
     "output_type": "execute_result"
    }
   ],
   "source": [
    "#exercise2: get the list of country\n",
    "#with Schooling more than the median\n",
    "#and GDP more than the median\n",
    "\n",
    "cond1 = df.Schooling > df.Schooling.median()\n",
    "cond2 = df.GDP > df.GDP.median()\n",
    "\n",
    "countries = df.Country[cond1 & cond2].unique()\n",
    "#use | for or\n",
    "\n",
    "type(countries)"
   ]
  },
  {
   "cell_type": "code",
   "execution_count": 19,
   "metadata": {},
   "outputs": [
    {
     "data": {
      "text/html": [
       "<div>\n",
       "<style scoped>\n",
       "    .dataframe tbody tr th:only-of-type {\n",
       "        vertical-align: middle;\n",
       "    }\n",
       "\n",
       "    .dataframe tbody tr th {\n",
       "        vertical-align: top;\n",
       "    }\n",
       "\n",
       "    .dataframe thead th {\n",
       "        text-align: right;\n",
       "    }\n",
       "</style>\n",
       "<table border=\"1\" class=\"dataframe\">\n",
       "  <thead>\n",
       "    <tr style=\"text-align: right;\">\n",
       "      <th></th>\n",
       "      <th>Year</th>\n",
       "      <th>Life expectancy</th>\n",
       "      <th>Adult Mortality</th>\n",
       "      <th>infant deaths</th>\n",
       "      <th>Alcohol</th>\n",
       "      <th>percentage expenditure</th>\n",
       "      <th>Hepatitis B</th>\n",
       "      <th>Measles</th>\n",
       "      <th>BMI</th>\n",
       "      <th>under-five deaths</th>\n",
       "      <th>Polio</th>\n",
       "      <th>Total expenditure</th>\n",
       "      <th>Diphtheria</th>\n",
       "      <th>HIV/AIDS</th>\n",
       "      <th>GDP</th>\n",
       "      <th>Population</th>\n",
       "      <th>thinness  1-19 years</th>\n",
       "      <th>thinness 5-9 years</th>\n",
       "      <th>Income composition of resources</th>\n",
       "      <th>Schooling</th>\n",
       "    </tr>\n",
       "  </thead>\n",
       "  <tbody>\n",
       "    <tr>\n",
       "      <th>count</th>\n",
       "      <td>2938.000000</td>\n",
       "      <td>2928.000000</td>\n",
       "      <td>2928.000000</td>\n",
       "      <td>2938.000000</td>\n",
       "      <td>2744.000000</td>\n",
       "      <td>2938.000000</td>\n",
       "      <td>2385.000000</td>\n",
       "      <td>2938.000000</td>\n",
       "      <td>2904.000000</td>\n",
       "      <td>2938.000000</td>\n",
       "      <td>2919.000000</td>\n",
       "      <td>2712.00000</td>\n",
       "      <td>2919.000000</td>\n",
       "      <td>2938.000000</td>\n",
       "      <td>2490.000000</td>\n",
       "      <td>2.286000e+03</td>\n",
       "      <td>2904.000000</td>\n",
       "      <td>2904.000000</td>\n",
       "      <td>2771.000000</td>\n",
       "      <td>2775.000000</td>\n",
       "    </tr>\n",
       "    <tr>\n",
       "      <th>mean</th>\n",
       "      <td>2007.518720</td>\n",
       "      <td>69.224932</td>\n",
       "      <td>164.796448</td>\n",
       "      <td>30.303948</td>\n",
       "      <td>4.602861</td>\n",
       "      <td>738.251295</td>\n",
       "      <td>80.940461</td>\n",
       "      <td>2419.592240</td>\n",
       "      <td>38.321247</td>\n",
       "      <td>42.035739</td>\n",
       "      <td>82.550188</td>\n",
       "      <td>5.93819</td>\n",
       "      <td>82.324084</td>\n",
       "      <td>1.742103</td>\n",
       "      <td>7483.158469</td>\n",
       "      <td>1.275338e+07</td>\n",
       "      <td>4.839704</td>\n",
       "      <td>4.870317</td>\n",
       "      <td>0.627551</td>\n",
       "      <td>11.992793</td>\n",
       "    </tr>\n",
       "    <tr>\n",
       "      <th>std</th>\n",
       "      <td>4.613841</td>\n",
       "      <td>9.523867</td>\n",
       "      <td>124.292079</td>\n",
       "      <td>117.926501</td>\n",
       "      <td>4.052413</td>\n",
       "      <td>1987.914858</td>\n",
       "      <td>25.070016</td>\n",
       "      <td>11467.272489</td>\n",
       "      <td>20.044034</td>\n",
       "      <td>160.445548</td>\n",
       "      <td>23.428046</td>\n",
       "      <td>2.49832</td>\n",
       "      <td>23.716912</td>\n",
       "      <td>5.077785</td>\n",
       "      <td>14270.169342</td>\n",
       "      <td>6.101210e+07</td>\n",
       "      <td>4.420195</td>\n",
       "      <td>4.508882</td>\n",
       "      <td>0.210904</td>\n",
       "      <td>3.358920</td>\n",
       "    </tr>\n",
       "    <tr>\n",
       "      <th>min</th>\n",
       "      <td>2000.000000</td>\n",
       "      <td>36.300000</td>\n",
       "      <td>1.000000</td>\n",
       "      <td>0.000000</td>\n",
       "      <td>0.010000</td>\n",
       "      <td>0.000000</td>\n",
       "      <td>1.000000</td>\n",
       "      <td>0.000000</td>\n",
       "      <td>1.000000</td>\n",
       "      <td>0.000000</td>\n",
       "      <td>3.000000</td>\n",
       "      <td>0.37000</td>\n",
       "      <td>2.000000</td>\n",
       "      <td>0.100000</td>\n",
       "      <td>1.681350</td>\n",
       "      <td>3.400000e+01</td>\n",
       "      <td>0.100000</td>\n",
       "      <td>0.100000</td>\n",
       "      <td>0.000000</td>\n",
       "      <td>0.000000</td>\n",
       "    </tr>\n",
       "    <tr>\n",
       "      <th>25%</th>\n",
       "      <td>2004.000000</td>\n",
       "      <td>63.100000</td>\n",
       "      <td>74.000000</td>\n",
       "      <td>0.000000</td>\n",
       "      <td>0.877500</td>\n",
       "      <td>4.685343</td>\n",
       "      <td>77.000000</td>\n",
       "      <td>0.000000</td>\n",
       "      <td>19.300000</td>\n",
       "      <td>0.000000</td>\n",
       "      <td>78.000000</td>\n",
       "      <td>4.26000</td>\n",
       "      <td>78.000000</td>\n",
       "      <td>0.100000</td>\n",
       "      <td>463.935626</td>\n",
       "      <td>1.957932e+05</td>\n",
       "      <td>1.600000</td>\n",
       "      <td>1.500000</td>\n",
       "      <td>0.493000</td>\n",
       "      <td>10.100000</td>\n",
       "    </tr>\n",
       "    <tr>\n",
       "      <th>50%</th>\n",
       "      <td>2008.000000</td>\n",
       "      <td>72.100000</td>\n",
       "      <td>144.000000</td>\n",
       "      <td>3.000000</td>\n",
       "      <td>3.755000</td>\n",
       "      <td>64.912906</td>\n",
       "      <td>92.000000</td>\n",
       "      <td>17.000000</td>\n",
       "      <td>43.500000</td>\n",
       "      <td>4.000000</td>\n",
       "      <td>93.000000</td>\n",
       "      <td>5.75500</td>\n",
       "      <td>93.000000</td>\n",
       "      <td>0.100000</td>\n",
       "      <td>1766.947595</td>\n",
       "      <td>1.386542e+06</td>\n",
       "      <td>3.300000</td>\n",
       "      <td>3.300000</td>\n",
       "      <td>0.677000</td>\n",
       "      <td>12.300000</td>\n",
       "    </tr>\n",
       "    <tr>\n",
       "      <th>75%</th>\n",
       "      <td>2012.000000</td>\n",
       "      <td>75.700000</td>\n",
       "      <td>228.000000</td>\n",
       "      <td>22.000000</td>\n",
       "      <td>7.702500</td>\n",
       "      <td>441.534144</td>\n",
       "      <td>97.000000</td>\n",
       "      <td>360.250000</td>\n",
       "      <td>56.200000</td>\n",
       "      <td>28.000000</td>\n",
       "      <td>97.000000</td>\n",
       "      <td>7.49250</td>\n",
       "      <td>97.000000</td>\n",
       "      <td>0.800000</td>\n",
       "      <td>5910.806335</td>\n",
       "      <td>7.420359e+06</td>\n",
       "      <td>7.200000</td>\n",
       "      <td>7.200000</td>\n",
       "      <td>0.779000</td>\n",
       "      <td>14.300000</td>\n",
       "    </tr>\n",
       "    <tr>\n",
       "      <th>max</th>\n",
       "      <td>2015.000000</td>\n",
       "      <td>89.000000</td>\n",
       "      <td>723.000000</td>\n",
       "      <td>1800.000000</td>\n",
       "      <td>17.870000</td>\n",
       "      <td>19479.911610</td>\n",
       "      <td>99.000000</td>\n",
       "      <td>212183.000000</td>\n",
       "      <td>87.300000</td>\n",
       "      <td>2500.000000</td>\n",
       "      <td>99.000000</td>\n",
       "      <td>17.60000</td>\n",
       "      <td>99.000000</td>\n",
       "      <td>50.600000</td>\n",
       "      <td>119172.741800</td>\n",
       "      <td>1.293859e+09</td>\n",
       "      <td>27.700000</td>\n",
       "      <td>28.600000</td>\n",
       "      <td>0.948000</td>\n",
       "      <td>20.700000</td>\n",
       "    </tr>\n",
       "  </tbody>\n",
       "</table>\n",
       "</div>"
      ],
      "text/plain": [
       "              Year  Life expectancy   Adult Mortality  infant deaths  \\\n",
       "count  2938.000000       2928.000000      2928.000000    2938.000000   \n",
       "mean   2007.518720         69.224932       164.796448      30.303948   \n",
       "std       4.613841          9.523867       124.292079     117.926501   \n",
       "min    2000.000000         36.300000         1.000000       0.000000   \n",
       "25%    2004.000000         63.100000        74.000000       0.000000   \n",
       "50%    2008.000000         72.100000       144.000000       3.000000   \n",
       "75%    2012.000000         75.700000       228.000000      22.000000   \n",
       "max    2015.000000         89.000000       723.000000    1800.000000   \n",
       "\n",
       "           Alcohol  percentage expenditure  Hepatitis B       Measles   \\\n",
       "count  2744.000000             2938.000000  2385.000000    2938.000000   \n",
       "mean      4.602861              738.251295    80.940461    2419.592240   \n",
       "std       4.052413             1987.914858    25.070016   11467.272489   \n",
       "min       0.010000                0.000000     1.000000       0.000000   \n",
       "25%       0.877500                4.685343    77.000000       0.000000   \n",
       "50%       3.755000               64.912906    92.000000      17.000000   \n",
       "75%       7.702500              441.534144    97.000000     360.250000   \n",
       "max      17.870000            19479.911610    99.000000  212183.000000   \n",
       "\n",
       "              BMI   under-five deaths         Polio  Total expenditure  \\\n",
       "count  2904.000000         2938.000000  2919.000000         2712.00000   \n",
       "mean     38.321247           42.035739    82.550188            5.93819   \n",
       "std      20.044034          160.445548    23.428046            2.49832   \n",
       "min       1.000000            0.000000     3.000000            0.37000   \n",
       "25%      19.300000            0.000000    78.000000            4.26000   \n",
       "50%      43.500000            4.000000    93.000000            5.75500   \n",
       "75%      56.200000           28.000000    97.000000            7.49250   \n",
       "max      87.300000         2500.000000    99.000000           17.60000   \n",
       "\n",
       "       Diphtheria      HIV/AIDS            GDP    Population  \\\n",
       "count  2919.000000  2938.000000    2490.000000  2.286000e+03   \n",
       "mean     82.324084     1.742103    7483.158469  1.275338e+07   \n",
       "std      23.716912     5.077785   14270.169342  6.101210e+07   \n",
       "min       2.000000     0.100000       1.681350  3.400000e+01   \n",
       "25%      78.000000     0.100000     463.935626  1.957932e+05   \n",
       "50%      93.000000     0.100000    1766.947595  1.386542e+06   \n",
       "75%      97.000000     0.800000    5910.806335  7.420359e+06   \n",
       "max      99.000000    50.600000  119172.741800  1.293859e+09   \n",
       "\n",
       "        thinness  1-19 years   thinness 5-9 years  \\\n",
       "count            2904.000000          2904.000000   \n",
       "mean                4.839704             4.870317   \n",
       "std                 4.420195             4.508882   \n",
       "min                 0.100000             0.100000   \n",
       "25%                 1.600000             1.500000   \n",
       "50%                 3.300000             3.300000   \n",
       "75%                 7.200000             7.200000   \n",
       "max                27.700000            28.600000   \n",
       "\n",
       "       Income composition of resources    Schooling  \n",
       "count                      2771.000000  2775.000000  \n",
       "mean                          0.627551    11.992793  \n",
       "std                           0.210904     3.358920  \n",
       "min                           0.000000     0.000000  \n",
       "25%                           0.493000    10.100000  \n",
       "50%                           0.677000    12.300000  \n",
       "75%                           0.779000    14.300000  \n",
       "max                           0.948000    20.700000  "
      ]
     },
     "execution_count": 19,
     "metadata": {},
     "output_type": "execute_result"
    }
   ],
   "source": [
    "#for any columns of continuous value, \n",
    "# it gives you count, mean, std, min, etc.\n",
    "df.describe()"
   ]
  },
  {
   "cell_type": "code",
   "execution_count": 20,
   "metadata": {},
   "outputs": [],
   "source": [
    "#use some easy library for visualization\n",
    "#it accepts input as dataframe\n",
    "import seaborn as sns\n",
    "#seaborn: super easy library for visualization\n",
    "#it's built on top of matplotlib \n",
    "#matplotlib is the classic python library for visualization\n",
    "\n",
    "#if i want to predict egg price, using gold and oil prices\n",
    "#we called gold and oil prices MANY names\n",
    "#   features, factors, independent variables, predictors, X\n",
    "#   here, gold is called x_1, oil is called x_2\n",
    "#we called egg price MANY names\n",
    "#   labels, targets, outcomes, dependent variables, y"
   ]
  },
  {
   "cell_type": "code",
   "execution_count": 21,
   "metadata": {},
   "outputs": [
    {
     "data": {
      "text/plain": [
       "<AxesSubplot:xlabel='Status', ylabel='count'>"
      ]
     },
     "execution_count": 21,
     "metadata": {},
     "output_type": "execute_result"
    },
    {
     "data": {
      "image/png": "[encoded data removed]",
      "text/plain": [
       "<Figure size 432x288 with 1 Axes>"
      ]
     },
     "metadata": {
      "needs_background": "light"
     },
     "output_type": "display_data"
    }
   ],
   "source": [
    "#1. countplot is to plot the discrete x_1 or y\n",
    "sns.countplot(data = df, x=\"Status\")"
   ]
  },
  {
   "cell_type": "code",
   "execution_count": 22,
   "metadata": {},
   "outputs": [
    {
     "data": {
      "text/plain": [
       "'0.11.2'"
      ]
     },
     "execution_count": 22,
     "metadata": {},
     "output_type": "execute_result"
    }
   ],
   "source": [
    "sns.__version__"
   ]
  },
  {
   "cell_type": "code",
   "execution_count": 23,
   "metadata": {},
   "outputs": [
    {
     "data": {
      "text/plain": [
       "<seaborn.axisgrid.FacetGrid at 0x25062dee470>"
      ]
     },
     "execution_count": 23,
     "metadata": {},
     "output_type": "execute_result"
    },
    {
     "data": {
      "image/png": "[encoded data removed]",
      "text/plain": [
       "<Figure size 360x360 with 1 Axes>"
      ]
     },
     "metadata": {
      "needs_background": "light"
     },
     "output_type": "display_data"
    }
   ],
   "source": [
    "#2. distplot or displt is to plot the continuous x_1 or y\n",
    "sns.displot(df.Alcohol)  #==> you get error, this is because your version is not >0.10\n",
    "#displot = distribution plot\n",
    "\n",
    "#exercise: try displot for another continuous variable"
   ]
  },
  {
   "cell_type": "code",
   "execution_count": 24,
   "metadata": {},
   "outputs": [
    {
     "data": {
      "text/plain": [
       "Index(['Country', 'Year', 'Status', 'Life expectancy ', 'Adult Mortality',\n",
       "       'infant deaths', 'Alcohol', 'percentage expenditure', 'Hepatitis B',\n",
       "       'Measles ', ' BMI ', 'under-five deaths ', 'Polio', 'Total expenditure',\n",
       "       'Diphtheria ', ' HIV/AIDS', 'GDP', 'Population',\n",
       "       ' thinness  1-19 years', ' thinness 5-9 years',\n",
       "       'Income composition of resources', 'Schooling'],\n",
       "      dtype='object')"
      ]
     },
     "execution_count": 24,
     "metadata": {},
     "output_type": "execute_result"
    }
   ],
   "source": [
    "df.columns"
   ]
  },
  {
   "cell_type": "code",
   "execution_count": 25,
   "metadata": {},
   "outputs": [],
   "source": [
    "'''\n",
    "format: .rename(\n",
    "    columns =\n",
    "    {oldname: newname,\n",
    "     oldname2: newname2,\n",
    "     oldname3: newname3}\n",
    ")\n",
    "'''\n",
    "df = df.rename(\n",
    "    columns = {'Life expectancy ': 'life-exp',\n",
    "               'Income composition of resources' : 'income',\n",
    "               'Schooling' : 'schooling'}\n",
    ")\n",
    "\n",
    "# df.head()\n",
    "\n",
    "#tips:  if you don't want to do df=, just put a argument inplace=True\n",
    "#exercise: can you change \n",
    "#   Income composition of resources to income, \n",
    "#   Schooling to schooling and \n",
    "#   Status to status"
   ]
  },
  {
   "cell_type": "code",
   "execution_count": 26,
   "metadata": {},
   "outputs": [
    {
     "data": {
      "text/plain": [
       "Index(['Country', 'Year', 'Status', 'life-exp', 'Adult Mortality',\n",
       "       'infant deaths', 'Alcohol', 'percentage expenditure', 'Hepatitis B',\n",
       "       'Measles', 'BMI', 'under-five deaths', 'Polio', 'Total expenditure',\n",
       "       'Diphtheria', 'HIV/AIDS', 'GDP', 'Population', 'thinness  1-19 years',\n",
       "       'thinness 5-9 years', 'income', 'schooling'],\n",
       "      dtype='object')"
      ]
     },
     "execution_count": 26,
     "metadata": {},
     "output_type": "execute_result"
    }
   ],
   "source": [
    "#challenge: help clear all the spaces in the columns\n",
    "import numpy as np\n",
    "df.columns = df.columns.str.strip()\n",
    "\n",
    "df.columns"
   ]
  },
  {
   "cell_type": "code",
   "execution_count": 27,
   "metadata": {},
   "outputs": [
    {
     "data": {
      "text/plain": [
       "<AxesSubplot:xlabel='Status', ylabel='life-exp'>"
      ]
     },
     "execution_count": 27,
     "metadata": {},
     "output_type": "execute_result"
    },
    {
     "data": {
      "image/png": "[encoded data removed]",
      "text/plain": [
       "<Figure size 432x288 with 1 Axes>"
      ]
     },
     "metadata": {
      "needs_background": "light"
     },
     "output_type": "display_data"
    }
   ],
   "source": [
    "#3. boxplot is to plot discrete x_1 vs. continuous x_2/y\n",
    "sns.boxplot(x = df['Status'], y = df['life-exp'])"
   ]
  },
  {
   "cell_type": "code",
   "execution_count": 28,
   "metadata": {},
   "outputs": [
    {
     "data": {
      "text/plain": [
       "<AxesSubplot:xlabel='Alcohol', ylabel='life-exp'>"
      ]
     },
     "execution_count": 28,
     "metadata": {},
     "output_type": "execute_result"
    },
    {
     "data": {
      "image/png": "[encoded data removed]",
      "text/plain": [
       "<Figure size 432x288 with 1 Axes>"
      ]
     },
     "metadata": {
      "needs_background": "light"
     },
     "output_type": "display_data"
    }
   ],
   "source": [
    "#4. scatterplot is to plot continuous x_1 vs. continuous x_2/y\n",
    "#hue MUST be a discrete variable\n",
    "sns.scatterplot(x = df['Alcohol'], y = df['life-exp'], hue = df['Status'])"
   ]
  },
  {
   "cell_type": "code",
   "execution_count": 29,
   "metadata": {},
   "outputs": [
    {
     "data": {
      "text/plain": [
       "Index(['Country', 'Year', 'Status', 'life-exp', 'Adult Mortality',\n",
       "       'infant deaths', 'Alcohol', 'percentage expenditure', 'Hepatitis B',\n",
       "       'Measles', 'BMI', 'under-five deaths', 'Polio', 'Total expenditure',\n",
       "       'Diphtheria', 'HIV/AIDS', 'GDP', 'Population', 'thinness  1-19 years',\n",
       "       'thinness 5-9 years', 'income', 'schooling'],\n",
       "      dtype='object')"
      ]
     },
     "execution_count": 29,
     "metadata": {},
     "output_type": "execute_result"
    }
   ],
   "source": [
    "df.columns"
   ]
  },
  {
   "cell_type": "code",
   "execution_count": 30,
   "metadata": {},
   "outputs": [
    {
     "data": {
      "text/plain": [
       "numpy.ndarray"
      ]
     },
     "execution_count": 30,
     "metadata": {},
     "output_type": "execute_result"
    }
   ],
   "source": [
    "cols = df.columns\n",
    "cols = np.array(cols)\n",
    "\n",
    "type(cols)"
   ]
  },
  {
   "cell_type": "code",
   "execution_count": 31,
   "metadata": {},
   "outputs": [
    {
     "data": {
      "text/plain": [
       "array(['Adult Mortality', 'infant deaths', 'Alcohol',\n",
       "       'percentage expenditure', 'Hepatitis B', 'Measles', 'BMI',\n",
       "       'under-five deaths', 'Polio', 'Total expenditure', 'Diphtheria',\n",
       "       'HIV/AIDS', 'GDP', 'Population', 'thinness  1-19 years',\n",
       "       'thinness 5-9 years', 'income', 'schooling'], dtype=object)"
      ]
     },
     "execution_count": 31,
     "metadata": {},
     "output_type": "execute_result"
    }
   ],
   "source": [
    "#then i have to check how to remove\n",
    "cols = np.delete(cols, np.where(cols=='Status'))\n",
    "cols = np.delete(cols, np.where(cols=='Country'))\n",
    "cols = np.delete(cols, np.where(cols=='life-exp'))\n",
    "cols = np.delete(cols, np.where(cols=='Year'))\n",
    "\n",
    "cols\n"
   ]
  },
  {
   "cell_type": "code",
   "execution_count": 32,
   "metadata": {},
   "outputs": [],
   "source": [
    "#exercise, find me the features that have very strong correlation with life-exp\n",
    "#exercise, which features have almost NO relationship with life exp\n",
    "\n",
    "#get some columns, but I also have to drop some columns - drop Status, drop Country, drop life-exp\n",
    "# import matplotlib.pyplot as plt\n",
    "# for each_col in cols: \n",
    "#     sns.scatterplot(x = df[each_col], y = df['life-exp'], hue = df['Status'])\n",
    "#     plt.show()"
   ]
  },
  {
   "cell_type": "code",
   "execution_count": 33,
   "metadata": {},
   "outputs": [
    {
     "data": {
      "text/plain": [
       "<AxesSubplot:>"
      ]
     },
     "execution_count": 33,
     "metadata": {},
     "output_type": "execute_result"
    },
    {
     "data": {
      "image/png": "[encoded data removed]",
      "text/plain": [
       "<Figure size 1080x360 with 2 Axes>"
      ]
     },
     "metadata": {
      "needs_background": "light"
     },
     "output_type": "display_data"
    }
   ],
   "source": [
    "#exercise:  try sns.heatmap(df.corr(), annot=True)\n",
    "#df.corr() calculates the correlation between continuous features\n",
    "\n",
    "#exercise:  try to figure out how to increase the size of the figure \n",
    "# (hint: you have to change using matplotlib figure size)\n",
    "\n",
    "#1st way: use sns.set \n",
    "#2nd way: set the figure size via the plt variable of matplotlib\n",
    "import matplotlib.pyplot as plt\n",
    "\n",
    "plt.figure(figsize=(15, 5))\n",
    "sns.heatmap(df.corr(), annot=True)"
   ]
  },
  {
   "cell_type": "markdown",
   "metadata": {},
   "source": [
    "### 3. Preprocessing / Cleaning\n",
    "\n",
    "#### 3.1 dealing with missing values\n",
    "  - Case 1: **Continuous values**\n",
    "    - Replace with:\n",
    "      - 1. **mean/median** if the distribution is normal\n",
    "      - 2. **median** if the distribution is NOT normal\n",
    "      - 3. **0** if 0 is a very common occurrence in the real-world\n",
    "      - 4. **regression** if your data fits nicely with regression, especially linear regression\n",
    "    - Do we ever drop?\n",
    "      - Almost never.  Drop columns lose a lot of values, dropping rows also lost other features....\n",
    "      - If you are super sure this is human mistake, you can drop\n",
    "  - Case 2: **Discrete values**\n",
    "    - Replace with: \n",
    "      - 1. **Majority** - when majority is like 90%\n",
    "      - 2. **No category** - when we are not so sure\n",
    "      - 3. **Ratio** - preserve the shape of distribution"
   ]
  },
  {
   "cell_type": "code",
   "execution_count": 34,
   "metadata": {},
   "outputs": [
    {
     "data": {
      "text/plain": [
       "Country                     0\n",
       "Year                        0\n",
       "Status                      0\n",
       "life-exp                   10\n",
       "Adult Mortality            10\n",
       "infant deaths               0\n",
       "Alcohol                   194\n",
       "percentage expenditure      0\n",
       "Hepatitis B               553\n",
       "Measles                     0\n",
       "BMI                        34\n",
       "under-five deaths           0\n",
       "Polio                      19\n",
       "Total expenditure         226\n",
       "Diphtheria                 19\n",
       "HIV/AIDS                    0\n",
       "GDP                       448\n",
       "Population                652\n",
       "thinness  1-19 years       34\n",
       "thinness 5-9 years         34\n",
       "income                    167\n",
       "schooling                 163\n",
       "dtype: int64"
      ]
     },
     "execution_count": 34,
     "metadata": {},
     "output_type": "execute_result"
    }
   ],
   "source": [
    "#function to quickly check missing values\n",
    "df.isna().sum()\n",
    "\n",
    "# df['life-exp'].isna().sum()\n",
    "\n",
    "#this is my plan:\n",
    "\n",
    "#features: income, schooling, status\n",
    "#label   : life-exp"
   ]
  },
  {
   "cell_type": "code",
   "execution_count": 35,
   "metadata": {},
   "outputs": [
    {
     "data": {
      "text/plain": [
       "(0.6275510645976182, 0.677)"
      ]
     },
     "execution_count": 35,
     "metadata": {},
     "output_type": "execute_result"
    },
    {
     "data": {
      "image/png": "[encoded data removed]",
      "text/plain": [
       "<Figure size 360x360 with 1 Axes>"
      ]
     },
     "metadata": {
      "needs_background": "light"
     },
     "output_type": "display_data"
    }
   ],
   "source": [
    "#typical steps to fill in missing value (continuous values)\n",
    "\n",
    "#1. Ex1: plot the distribution (income, schooling, life-exp)\n",
    "#if your data is discrete, use countplot\n",
    "sns.displot(df['income'])\n",
    "\n",
    "#2. Ex2: print mean and median\n",
    "df['income'].mean(), df['income'].median()\n",
    "\n",
    "#3. judge by yourself mean or median better, then fillna\n",
    "##########I COMMENT DUE TO POSSIBLE DATA LEAKAGE\n",
    "# df['income'] = df['income'].fillna(df['income'].median())\n",
    "#df['income'].fillna(df['income'].median(), inplace=True)  ==> you don't have assign a variable to take the value\n",
    "\n",
    "#exercise: please fillna for schooling and life-exp\n",
    "\n",
    "#1. plot the distribution\n",
    "# let's assume i plot already, and i found that median is a good representation\n",
    "# good representation - high probability\n",
    "# ##########I COMMENT DUE TO POSSIBLE DATA LEAKAGE\n",
    "# df['life-exp'] = df['life-exp'].fillna(df['life-exp'].median())\n",
    "# df['schooling'] = df['schooling'].fillna(df['schooling'].median())\n",
    "\n",
    "#make sure schooling.isna().sum() and life-exp.isna().sum() is 0\n",
    "\n",
    "#1, 2, 3, 3, 100\n",
    "\n",
    "#assert df['schooling'].isna().sum() == 0  #unit test\n",
    "\n",
    "#mean = 22\n",
    "#median = 3"
   ]
  },
  {
   "cell_type": "code",
   "execution_count": 36,
   "metadata": {},
   "outputs": [],
   "source": [
    "#press B to quickly get new cell\n",
    "#press D D to quickly delete cell\n",
    "#press M to change to markdown"
   ]
  },
  {
   "cell_type": "code",
   "execution_count": 37,
   "metadata": {},
   "outputs": [],
   "source": [
    "# df.isna().sum()"
   ]
  },
  {
   "cell_type": "code",
   "execution_count": 38,
   "metadata": {},
   "outputs": [],
   "source": [
    "# cols = ['life-exp', 'income', 'schooling']\n",
    "\n",
    "# for col in cols:\n",
    "#     df[col].fillna(df[col].median(), inplace=True)\n",
    "\n",
    "# assert df['life-exp'].isna().sum() == 0\n",
    "# assert df['income'].isna().sum() == 0\n",
    "# assert df['schooling'].isna().sum() == 0\n",
    "\n",
    "#one thing very important\n",
    "#if YOU HAVE MISSING VALUES, when you run ML models\n",
    "#   you will get error:  Infinity NaN values.....\n",
    "#if you want to drop the rows, use df[colname].dropna()"
   ]
  },
  {
   "cell_type": "markdown",
   "metadata": {},
   "source": [
    "#### 3.2 Convert strings to numbers (float/int)\n",
    "\n",
    "- because ALL ML and DL models don't take strings\n",
    "  - data type error:  Expected int/float but got strings\n",
    "- to quickly scan use info(), note the \"objects\""
   ]
  },
  {
   "cell_type": "code",
   "execution_count": 39,
   "metadata": {},
   "outputs": [],
   "source": [
    "#df.info() \n",
    "#scan for dtype = objects"
   ]
  },
  {
   "cell_type": "code",
   "execution_count": 40,
   "metadata": {},
   "outputs": [
    {
     "data": {
      "text/plain": [
       "array(['Developing', 'Developed'], dtype=object)"
      ]
     },
     "execution_count": 40,
     "metadata": {},
     "output_type": "execute_result"
    }
   ],
   "source": [
    "df.Status.unique()"
   ]
  },
  {
   "cell_type": "markdown",
   "metadata": {},
   "source": [
    "#### Theory/principle how to convert string to integer/float\n",
    "\n",
    "Three ways:\n",
    "\n",
    "1. **Label encoding**: Just change to number:\n",
    "   1. Example: change developing to 0, developed to 1\n",
    "   2. Pros: super simple\n",
    "   3. Cons: imagine you got encoded 0, 1, 2, 3, 4, 5\n",
    "      1. You create a unwanted knowledge of order within this, e.g., 5 > 1\n",
    "      2. NEVER USE label encoding if you have more than two categories\n",
    "2. **One-hot encoding**: Pivot the values and make it become the columns\n",
    "   1. Delete the column \"Status\"\n",
    "   2. Put Developing as one column; Developed as another column\n",
    "      1. if Developing is true, put 1, and then Developed will be 0\n",
    "      2. if Developing is false, put 0, and then in the Developed col, will be 1\n",
    "3. **Sparse one-hot encoding**: if you have n columns of pivot, you can always delete 1 to save space."
   ]
  },
  {
   "cell_type": "code",
   "execution_count": 41,
   "metadata": {},
   "outputs": [
    {
     "name": "stdout",
     "output_type": "stream",
     "text": [
      "[1 0 0 1]\n"
     ]
    },
    {
     "data": {
      "text/plain": [
       "'\\nle.fit_transform(some_make_up_data) \\n\\n=== \\n\\nle.fit(some_make_up_data)  #learn the mapping\\nresult = le.transform(some_make_up_data)  #transform the data\\n\\n'"
      ]
     },
     "execution_count": 41,
     "metadata": {},
     "output_type": "execute_result"
    }
   ],
   "source": [
    "#we want to convert Status to 0 and 1\n",
    "#easiest way is to use sklearn.preprocessing import LabelEncoder\n",
    "\n",
    "#1. import the library\n",
    "from sklearn.preprocessing import LabelEncoder\n",
    "\n",
    "#2. create the object\n",
    "le = LabelEncoder()\n",
    "\n",
    "#3. fit and transform\n",
    "some_make_up_data = np.array([\"Male\", \"Female\", \"Female\", \"Male\"]) #===one column of df\n",
    "result = le.fit_transform(some_make_up_data)\n",
    "\n",
    "print(result)\n",
    "\n",
    "#if you want to know which map to which, use le.inverse_transform(np.array([0, 1]))\n",
    "\n",
    "'''\n",
    "le.fit_transform(some_make_up_data) \n",
    "\n",
    "=== \n",
    "\n",
    "le.fit(some_make_up_data)  #learn the mapping\n",
    "result = le.transform(some_make_up_data)  #transform the data\n",
    "\n",
    "'''\n",
    "\n",
    "#i want to tell the difference between fit and transform\n",
    "#fit means learn the pattern\n",
    "#transform means transform the data"
   ]
  },
  {
   "cell_type": "code",
   "execution_count": 42,
   "metadata": {},
   "outputs": [
    {
     "data": {
      "text/plain": [
       "array([1, 0])"
      ]
     },
     "execution_count": 42,
     "metadata": {},
     "output_type": "execute_result"
    }
   ],
   "source": [
    "#Exercise: please tranform Status using LabelEncoder\n",
    "df['status_en'] = le.fit_transform(df['Status'])\n",
    "df['status_en'].unique()"
   ]
  },
  {
   "cell_type": "code",
   "execution_count": 43,
   "metadata": {},
   "outputs": [
    {
     "data": {
      "text/plain": [
       "array(['Developed', 'Developing'], dtype=object)"
      ]
     },
     "execution_count": 43,
     "metadata": {},
     "output_type": "execute_result"
    }
   ],
   "source": [
    "#to know that what maps to what \n",
    "le.inverse_transform(np.array([0, 1]))"
   ]
  },
  {
   "cell_type": "code",
   "execution_count": 44,
   "metadata": {},
   "outputs": [],
   "source": [
    "#test that my transformation is correct\n",
    "assert len(df['status_en'].unique()) == 2"
   ]
  },
  {
   "cell_type": "markdown",
   "metadata": {},
   "source": [
    "Break: 16:50 - 17:00"
   ]
  },
  {
   "cell_type": "markdown",
   "metadata": {},
   "source": [
    "#### 3.3 Standardization / Normalization\n",
    "\n",
    "-i.e., we usually do splitting before any preprocessing\n",
    "\n",
    "- splitting - test train split before any preprocessing\n",
    "  - if you standardize\n",
    "  - if you fill missing value with some global statistics, you should split\n",
    "  - (it's ok to label encode)\n",
    "\n",
    "- when some knowledge of the testing set flows to the training set, we called \"data leakage\"  --> this is one of MOST COMMON MISTAKES of all beginners...like 99%\n"
   ]
  },
  {
   "cell_type": "code",
   "execution_count": 45,
   "metadata": {},
   "outputs": [],
   "source": [
    "data = np.array([[1, 5], [2, 6], [3, 7], [4, 8]])"
   ]
  },
  {
   "cell_type": "code",
   "execution_count": 46,
   "metadata": {},
   "outputs": [
    {
     "data": {
      "text/plain": [
       "1.118033988749895"
      ]
     },
     "execution_count": 46,
     "metadata": {},
     "output_type": "execute_result"
    }
   ],
   "source": [
    "np.array([1, 2, 3, 4]).std()"
   ]
  },
  {
   "cell_type": "code",
   "execution_count": 47,
   "metadata": {},
   "outputs": [
    {
     "data": {
      "text/plain": [
       "-0.4504504504504504"
      ]
     },
     "execution_count": 47,
     "metadata": {},
     "output_type": "execute_result"
    }
   ],
   "source": [
    "(2 - 2.5) / 1.11"
   ]
  },
  {
   "cell_type": "code",
   "execution_count": 48,
   "metadata": {},
   "outputs": [
    {
     "name": "stdout",
     "output_type": "stream",
     "text": [
      "[[-1.34164079 -1.34164079]\n",
      " [-0.4472136  -0.4472136 ]\n",
      " [ 0.4472136   0.4472136 ]\n",
      " [ 1.34164079  1.34164079]]\n"
     ]
    }
   ],
   "source": [
    "#for each feature, do (x - mean) / std\n",
    "\n",
    "#for the first feature, mean = (1 + 2 + 3 + 4) / 4 = 2.5\n",
    "# for the first data, do (1 - 2.5) / 1.11 = -1.35\n",
    "# for the second data, do (2 - 2.5) / 1.11 = -0.45\n",
    "\n",
    "#after standardization, all features will have same scale\n",
    "#all features mean = 0, std = 1\n",
    "\n",
    "#1. import the library\n",
    "from sklearn.preprocessing import StandardScaler\n",
    "\n",
    "#2. create the object\n",
    "sc = StandardScaler()\n",
    "\n",
    "#3. fit and transform\n",
    "standardized_data = sc.fit_transform(data)\n",
    "\n",
    "print(standardized_data)\n",
    "\n",
    "#when do you want to standardize your data:\n",
    "#1. when you use regression, definitely yes - feature importance\n",
    "#2. in most classification algorithms (not distance-based algorithms), you benefit a bit\n",
    "#   from standardization\n",
    "#3. your training will be more stable\n",
    "\n",
    "#when you should NOT standardize your data:\n",
    "#1. when the mean does not represent well your data\n",
    "#   signal\n",
    "#   we can either do nothing or do min-max normalization\n",
    "#from sklearn.preprocessing import MinMaxScaler #try this at your home\n",
    "# (x - xmax) / (xmax - xmin) ==> (0, 1)"
   ]
  },
  {
   "cell_type": "markdown",
   "metadata": {},
   "source": [
    "### 4. Feature Extracton / Selection\n",
    "\n",
    "- Seriously consider which X and y to use for training"
   ]
  },
  {
   "cell_type": "code",
   "execution_count": 49,
   "metadata": {},
   "outputs": [
    {
     "data": {
      "text/plain": [
       "Index(['Country', 'Year', 'Status', 'life-exp', 'Adult Mortality',\n",
       "       'infant deaths', 'Alcohol', 'percentage expenditure', 'Hepatitis B',\n",
       "       'Measles', 'BMI', 'under-five deaths', 'Polio', 'Total expenditure',\n",
       "       'Diphtheria', 'HIV/AIDS', 'GDP', 'Population', 'thinness  1-19 years',\n",
       "       'thinness 5-9 years', 'income', 'schooling', 'status_en'],\n",
       "      dtype='object')"
      ]
     },
     "execution_count": 49,
     "metadata": {},
     "output_type": "execute_result"
    }
   ],
   "source": [
    "df.columns"
   ]
  },
  {
   "cell_type": "markdown",
   "metadata": {},
   "source": [
    "#### Define X and y"
   ]
  },
  {
   "cell_type": "code",
   "execution_count": 50,
   "metadata": {},
   "outputs": [],
   "source": [
    "X = df[['income', 'schooling', 'status_en']]\n",
    "X.shape\n",
    "\n",
    "#for X to be used with sklearn, it must be in the shape of (m, n)\n",
    "#where m is number of samples, and n is number of features\n",
    "#if you have only one feature, n = 1 (e.g., it cannot be (m, ); MUST be (m, 1))\n",
    "\n",
    "assert X.shape[0] > 0\n",
    "assert X.shape[1] > 0"
   ]
  },
  {
   "cell_type": "code",
   "execution_count": 1,
   "metadata": {},
   "outputs": [
    {
     "ename": "NameError",
     "evalue": "name 'df' is not defined",
     "output_type": "error",
     "traceback": [
      "\u001b[1;31m---------------------------------------------------------------------------\u001b[0m",
      "\u001b[1;31mNameError\u001b[0m                                 Traceback (most recent call last)",
      "\u001b[1;32mc:\\Users\\Guntsv\\Downloads\\AIT\\AT82.01 Computer Programming for Data Science and Artificial Intelligence (PDS)\\Coding-Along\\class7 Sklearn.ipynb Cell 63\u001b[0m in \u001b[0;36m<cell line: 1>\u001b[1;34m()\u001b[0m\n\u001b[1;32m----> <a href='vscode-notebook-cell:/c%3A/Users/Guntsv/Downloads/AIT/AT82.01%20Computer%20Programming%20for%20Data%20Science%20and%20Artificial%20Intelligence%20%28PDS%29/Coding-Along/class7%20Sklearn.ipynb#Y116sZmlsZQ%3D%3D?line=0'>1</a>\u001b[0m y \u001b[39m=\u001b[39m df[\u001b[39m'\u001b[39m\u001b[39mlife-exp\u001b[39m\u001b[39m'\u001b[39m]\n\u001b[0;32m      <a href='vscode-notebook-cell:/c%3A/Users/Guntsv/Downloads/AIT/AT82.01%20Computer%20Programming%20for%20Data%20Science%20and%20Artificial%20Intelligence%20%28PDS%29/Coding-Along/class7%20Sklearn.ipynb#Y116sZmlsZQ%3D%3D?line=1'>2</a>\u001b[0m \u001b[39m#for y to be used with sklearn, if you only have one label,\u001b[39;00m\n\u001b[0;32m      <a href='vscode-notebook-cell:/c%3A/Users/Guntsv/Downloads/AIT/AT82.01%20Computer%20Programming%20for%20Data%20Science%20and%20Artificial%20Intelligence%20%28PDS%29/Coding-Along/class7%20Sklearn.ipynb#Y116sZmlsZQ%3D%3D?line=2'>3</a>\u001b[0m \u001b[39m#the shape is (m, ), where m is number of samples\u001b[39;00m\n\u001b[0;32m      <a href='vscode-notebook-cell:/c%3A/Users/Guntsv/Downloads/AIT/AT82.01%20Computer%20Programming%20for%20Data%20Science%20and%20Artificial%20Intelligence%20%28PDS%29/Coding-Along/class7%20Sklearn.ipynb#Y116sZmlsZQ%3D%3D?line=3'>4</a>\u001b[0m \u001b[39m#another possible is (m,k) ,  k is the number of classes\u001b[39;00m\n\u001b[1;32m   (...)\u001b[0m\n\u001b[0;32m      <a href='vscode-notebook-cell:/c%3A/Users/Guntsv/Downloads/AIT/AT82.01%20Computer%20Programming%20for%20Data%20Science%20and%20Artificial%20Intelligence%20%28PDS%29/Coding-Along/class7%20Sklearn.ipynb#Y116sZmlsZQ%3D%3D?line=7'>8</a>\u001b[0m \u001b[39m#for sample 2, it belong to class3 out of four classes\u001b[39;00m\n\u001b[0;32m      <a href='vscode-notebook-cell:/c%3A/Users/Guntsv/Downloads/AIT/AT82.01%20Computer%20Programming%20for%20Data%20Science%20and%20Artificial%20Intelligence%20%28PDS%29/Coding-Along/class7%20Sklearn.ipynb#Y116sZmlsZQ%3D%3D?line=8'>9</a>\u001b[0m \u001b[39m#y will look like this [0,0,1,0] \u001b[39;00m\n\u001b[0;32m     <a href='vscode-notebook-cell:/c%3A/Users/Guntsv/Downloads/AIT/AT82.01%20Computer%20Programming%20for%20Data%20Science%20and%20Artificial%20Intelligence%20%28PDS%29/Coding-Along/class7%20Sklearn.ipynb#Y116sZmlsZQ%3D%3D?line=9'>10</a>\u001b[0m y\u001b[39m.\u001b[39mshape\n",
      "\u001b[1;31mNameError\u001b[0m: name 'df' is not defined"
     ]
    }
   ],
   "source": [
    "y = df['life-exp']\n",
    "#for y to be used with sklearn, if you only have one label,\n",
    "#the shape is (m, ), where m is number of samples\n",
    "#another possible is (m,k) ,  k is the number of classes\n",
    "#for sample 1, it belongs to class2 out of four classes\n",
    "#y will look like this [0,1,0,0] \n",
    "#predicted y will look like this [0.2, 0.3, 0.3, 0.2]\n",
    "#for sample 2, it belong to class3 out of four classes\n",
    "#y will look like this [0,0,1,0] \n",
    "y.shape"
   ]
  },
  {
   "cell_type": "markdown",
   "metadata": {},
   "source": [
    "#### Test-train-split"
   ]
  },
  {
   "cell_type": "code",
   "execution_count": 52,
   "metadata": {},
   "outputs": [],
   "source": [
    "from sklearn.model_selection import train_test_split\n",
    "\n",
    "X_train, X_test, y_train, y_test = train_test_split(X, y, test_size=0.3, random_state=999)"
   ]
  },
  {
   "cell_type": "code",
   "execution_count": 53,
   "metadata": {},
   "outputs": [
    {
     "data": {
      "text/plain": [
       "((2056, 3), (882, 3), (2056,), (882,))"
      ]
     },
     "execution_count": 53,
     "metadata": {},
     "output_type": "execute_result"
    }
   ],
   "source": [
    "X_train.shape, X_test.shape, y_train.shape, y_test.shape"
   ]
  },
  {
   "cell_type": "code",
   "execution_count": 54,
   "metadata": {},
   "outputs": [],
   "source": [
    "import math\n",
    "assert int(X.shape[0] * 0.7) == X_train.shape[0]\n",
    "assert int(X.shape[0] * 0.7) == y_train.shape[0]\n",
    "assert int(math.ceil(X.shape[0] * 0.3)) == X_test.shape[0]\n",
    "assert int(math.ceil(X.shape[0] * 0.3)) == y_test.shape[0]"
   ]
  },
  {
   "cell_type": "markdown",
   "metadata": {},
   "source": [
    "#### Fillna\n",
    "\n",
    "- I assume you already deleted fillna on top!"
   ]
  },
  {
   "cell_type": "code",
   "execution_count": 55,
   "metadata": {},
   "outputs": [],
   "source": [
    "#to avoid warning\n",
    "X_train = X_train.copy()\n",
    "X_test  = X_test.copy()\n",
    "\n",
    "#fillna for training set\n",
    "X_train['income'].fillna(X_train['income'].median(), inplace=True)\n",
    "X_train['schooling'].fillna(X_train['schooling'].median(), inplace=True)\n",
    "y_train.fillna(y_train.median(), inplace=True)\n",
    "\n",
    "#use median of training set to fillna for testing set\n",
    "X_test['income'].fillna(X_train['income'].median(), inplace=True)\n",
    "X_test['schooling'].fillna(X_train['schooling'].median(), inplace=True)\n",
    "y_test.fillna(y_train.median(), inplace=True)"
   ]
  },
  {
   "cell_type": "code",
   "execution_count": 56,
   "metadata": {},
   "outputs": [],
   "source": [
    "assert X_train['income'].isna().sum() == 0\n",
    "assert X_train['schooling'].isna().sum() == 0\n",
    "assert y_train.isna().sum() == 0\n",
    "\n",
    "assert X_test['income'].isna().sum() == 0\n",
    "assert X_test['schooling'].isna().sum() == 0\n",
    "assert y_test.isna().sum() == 0"
   ]
  },
  {
   "cell_type": "markdown",
   "metadata": {},
   "source": [
    "#### Scaling"
   ]
  },
  {
   "cell_type": "code",
   "execution_count": 57,
   "metadata": {},
   "outputs": [],
   "source": [
    "#now i want to show, let's say standardization, how to do\n",
    "\n",
    "#please assume the same for any other preprocessing\n",
    "\n",
    "from sklearn.preprocessing import StandardScaler\n",
    "\n",
    "sc = StandardScaler()\n",
    "X_train = sc.fit_transform(X_train)\n",
    "X_test  = sc.transform(X_test)"
   ]
  },
  {
   "cell_type": "code",
   "execution_count": 58,
   "metadata": {},
   "outputs": [],
   "source": [
    "#please assume the same for fillna\n",
    "\n",
    "#Exercise: \n",
    "# i want you to restart this notebook, but now, fillna with median() \n",
    "# from the training set...."
   ]
  },
  {
   "cell_type": "code",
   "execution_count": 59,
   "metadata": {},
   "outputs": [],
   "source": [
    "# income_median    = np.median(X_train[: , 0])\n",
    "# schooling_median = np.median(X_train[:,  1])\n",
    "\n",
    "# income_median, schooling_median\n",
    "\n",
    "#hint: get the median first, before it got standardized, \n",
    "# if not, the value you replaced is not valid"
   ]
  },
  {
   "cell_type": "code",
   "execution_count": 60,
   "metadata": {},
   "outputs": [
    {
     "data": {
      "text/plain": [
       "((2056, 3), (882, 3), (2056,), (882,))"
      ]
     },
     "execution_count": 60,
     "metadata": {},
     "output_type": "execute_result"
    }
   ],
   "source": [
    "X_train.shape, X_test.shape, y_train.shape, y_test.shape"
   ]
  },
  {
   "cell_type": "code",
   "execution_count": 61,
   "metadata": {},
   "outputs": [
    {
     "data": {
      "text/plain": [
       "(0.9999999999999999, 1.0)"
      ]
     },
     "execution_count": 61,
     "metadata": {},
     "output_type": "execute_result"
    }
   ],
   "source": [
    "X_train[:, 0].mean(), X_train[:, 1].mean()\n",
    "X_train[:, 0].std(), X_train[:, 1].std()"
   ]
  },
  {
   "cell_type": "markdown",
   "metadata": {},
   "source": [
    "### 4. Modeling\n",
    "\n",
    "- prequisities - X : (m,n), y: (m,)"
   ]
  },
  {
   "cell_type": "code",
   "execution_count": 62,
   "metadata": {},
   "outputs": [
    {
     "data": {
      "text/plain": [
       "((2056, 3), (882, 3), (2056,), (882,))"
      ]
     },
     "execution_count": 62,
     "metadata": {},
     "output_type": "execute_result"
    }
   ],
   "source": [
    "X_train.shape, X_test.shape, y_train.shape, y_test.shape\n",
    "\n",
    "#m =  number of samples\n",
    "#n = number of features"
   ]
  },
  {
   "cell_type": "code",
   "execution_count": 63,
   "metadata": {},
   "outputs": [
    {
     "data": {
      "text/plain": [
       "array([-0.59830618, -0.51245325,  0.45138351])"
      ]
     },
     "execution_count": 63,
     "metadata": {},
     "output_type": "execute_result"
    }
   ],
   "source": [
    "X_train[1] #first sample of income, schooling, status_en"
   ]
  },
  {
   "cell_type": "code",
   "execution_count": 64,
   "metadata": {},
   "outputs": [
    {
     "data": {
      "text/plain": [
       "59.9"
      ]
     },
     "execution_count": 64,
     "metadata": {},
     "output_type": "execute_result"
    }
   ],
   "source": [
    "y_train[1] #label is life expectancy"
   ]
  },
  {
   "cell_type": "markdown",
   "metadata": {},
   "source": [
    "Algorithms can be into supervised and unsupervised\n",
    "\n",
    "Supervised has input and label\n",
    "Unsupervise has only input\n",
    "\n",
    "Here, in our case,\n",
    "- Input is income, schooling, and stauts_en (X)\n",
    "- Output is life expectancy (y)\n",
    "\n",
    "Now in supervised learning, there are two types:\n",
    "- If the label is continuous : Regression\n",
    "- If the label is discrete : Classification\n",
    "\n",
    "Becuase life expectnacy is continuous value, we are doing a regression problem"
   ]
  },
  {
   "cell_type": "markdown",
   "metadata": {},
   "source": [
    "For regression,\n",
    "- The most typical is Linear Regression "
   ]
  },
  {
   "cell_type": "code",
   "execution_count": 65,
   "metadata": {},
   "outputs": [
    {
     "name": "stdout",
     "output_type": "stream",
     "text": [
      "0: [0 1 2 4] : [3]\n",
      "1: [0 1 2 3] : [4]\n",
      "2: [1 2 3 4] : [0]\n",
      "3: [0 1 3 4] : [2]\n",
      "4: [0 2 3 4] : [1]\n"
     ]
    }
   ],
   "source": [
    "from sklearn.model_selection import KFold\n",
    "\n",
    "kf = KFold(n_splits = 5, shuffle=True)\n",
    "\n",
    "#here note that i have 5 samples!\n",
    "X = np.array([[1, 2], [3, 4], [5, 6], [7, 8], [9, 10]])\n",
    "\n",
    "for ix, (train_index, test_index) in enumerate(kf.split(X)):\n",
    "    print(f\"{ix}: {train_index} : {test_index}\")"
   ]
  },
  {
   "cell_type": "markdown",
   "metadata": {},
   "source": [
    "#### 4.1 Cross Validation"
   ]
  },
  {
   "cell_type": "code",
   "execution_count": 66,
   "metadata": {},
   "outputs": [
    {
     "name": "stdout",
     "output_type": "stream",
     "text": [
      "[-37.73944997 -43.3045401  -40.71907721 -35.53655106 -43.93712155]\n",
      "-40.247347977025626\n"
     ]
    }
   ],
   "source": [
    "#modeling - to train a model to understan thepattern\n",
    "#many possob;e a;gprihtm to train am del\n",
    "#sklearn DON'T USE GPU - although there is a way - they can CPU....\n",
    "\n",
    "#1.import the algorithms\n",
    "from sklearn.linear_model import LinearRegression\n",
    "from sklearn.ensemble import RandomForestRegressor\n",
    "\n",
    "#data -> algortihm ->model\n",
    "\n",
    "#Exercise: print out the r2 and RMSE for me\n",
    "#put the RMSE and r2 for RandomForestRegressor in the chat...\n",
    "\n",
    "#2.create the object of the algorthims\n",
    "lr = LinearRegression(n_jobs = -1) # n_jobs =-1 means i gonna use the full power of my PC\n",
    "\n",
    "#3. call .fix(X_train,y_train) to learn the patterns\n",
    "# lr.fit(X_train,y_train)\n",
    "\n",
    "#import the cross validation function \n",
    "from sklearn.model_selection import cross_val_score\n",
    "from sklearn.model_selection import KFold\n",
    "\n",
    "kf = KFold(n_splits = 5, shuffle=True)\n",
    "\n",
    "#many ways for cv,go check at sklearn.model_selection, e.g, Stratified Fold\n",
    "#run that funcion finish\n",
    "#format: cross_val_score(model,xtrain,ytrain,cv=kfold(5),scoring='accuracy')\n",
    "scores_lr = cross_val_score(lr, X_train, y_train, cv=kf, \n",
    "                        scoring='neg_mean_squared_error') #find the scoring = r2score\n",
    "\n",
    "print(scores_lr)\n",
    "print(scores_lr.mean())\n",
    "\n",
    "#Exercise compare the cross-validation score between LinearRegression and\n",
    "#RandomForestRegressor (put on the chat the mean score of the two)"
   ]
  },
  {
   "cell_type": "code",
   "execution_count": 67,
   "metadata": {},
   "outputs": [
    {
     "name": "stdout",
     "output_type": "stream",
     "text": [
      "[-22.39075328 -22.35850362 -20.04151963 -22.43123364 -24.05944549]\n",
      "-22.256291132617896\n"
     ]
    }
   ],
   "source": [
    "#RandomForestRegressor\n",
    "from sklearn.ensemble import RandomForestRegressor\n",
    "from sklearn.metrics import mean_squared_error\n",
    "from sklearn.metrics import r2_score\n",
    "#Exercise: print out the r2 and RMSE for me\n",
    "rf = RandomForestRegressor(n_jobs = -1)\n",
    "# rf.fit(X_train,y_train)\n",
    "# yhat_random = rf.predict(X_test)\n",
    "\n",
    "# RMSE_random = math.sqrt(mean_squared_error(y_test,yhat_random))\n",
    "# r2_random = r2_score(y_test,yhat_random)\n",
    "\n",
    "# print(f'{RMSE_random, r2_random = }')\n",
    "scores_rf = cross_val_score(rf, X_train, y_train, cv=kf, \n",
    "                        scoring='neg_mean_squared_error')\n",
    "\n",
    "print(scores_rf)\n",
    "print(scores_rf.mean()) #better score"
   ]
  },
  {
   "cell_type": "code",
   "execution_count": 68,
   "metadata": {},
   "outputs": [
    {
     "name": "stdout",
     "output_type": "stream",
     "text": [
      "[0.56962446 0.50919315 0.58169649 0.53848958 0.55645249]\n",
      "0.5510912334815747\n",
      "[0.73687489 0.74764402 0.80021665 0.76274382 0.74374222]\n",
      "0.7582443184550398\n"
     ]
    }
   ],
   "source": [
    "scores_r2_lr = cross_val_score(lr, X_train, y_train, cv=kf, scoring='r2') #find the scoring = r2score\n",
    "\n",
    "print(scores_r2_lr)\n",
    "print(scores_r2_lr.mean())\n",
    "\n",
    "scores_r2_rf = cross_val_score(rf, X_train, y_train, cv=kf, scoring='r2')\n",
    "\n",
    "print(scores_r2_rf)\n",
    "print(scores_r2_rf.mean()) "
   ]
  },
  {
   "cell_type": "markdown",
   "metadata": {},
   "source": [
    "#### 4.2 Grid Search\n",
    "\n",
    "We got that RandomForestRegressor is the best between LinearRegression and RandomForestRegressor.\n",
    "\n",
    "Now, the question is, even RandomForestRegressor is the best between these two algorithms, can we find the **best version** of RandomForestRegressor?\n",
    "\n",
    "Well, you can use cross-validation again!!!\n",
    "\n",
    "Example:\n",
    "\n",
    "rf1 = RandomForestRegressor(n_estimators=5, max_depth=5)\n",
    "rf2 = RandomForestRegressor(n_estimators=6, max_depth=5)\n",
    "rf3 = RandomForestRegressor(n_estimators=7, max_depth=5)\n",
    "\n",
    "rf4 = RandomForestRegressor(n_estimators=5, max_depth=6)\n",
    "rf5 = RandomForestRegressor(n_estimators=6, max_depth=6)\n",
    "rf6 = RandomForestRegressor(n_estimators=7, max_depth=6)\n",
    "\n",
    "....go on....\n",
    "\n",
    "models = [rf1, rf2, ..., rf6]\n",
    "\n",
    "for model in models:\n",
    "    do cross_validation on model\n",
    "\n",
    "DO YOU GUYS FEEL PAINFUL?\n",
    "\n",
    "So the sklearn people help you create a nice function for you do loop all the parameters and is called `GridSearch`\n",
    "\n",
    "GridSearch == Cross validation, but Gridsearch is for within one algorithm.\n",
    "\n",
    "Normal steps:\n",
    "- do `cross_val_score` to first compare different algorithms, --> best is RandomForestRegressor\n",
    "- then do `gridsearch` to find the best version of that one best algoirthm  --> best is RandomForestRegressor(n_estimators = X, max_depth = Y, etc.)"
   ]
  },
  {
   "cell_type": "code",
   "execution_count": 3,
   "metadata": {},
   "outputs": [
    {
     "ename": "NameError",
     "evalue": "name 'lr' is not defined",
     "output_type": "error",
     "traceback": [
      "\u001b[1;31m---------------------------------------------------------------------------\u001b[0m",
      "\u001b[1;31mNameError\u001b[0m                                 Traceback (most recent call last)",
      "\u001b[1;32mc:\\Users\\Guntsv\\Downloads\\AIT\\AT82.01 Computer Programming for Data Science and Artificial Intelligence (PDS)\\Coding-Along\\class7 Sklearn.ipynb Cell 89\u001b[0m in \u001b[0;36m<cell line: 3>\u001b[1;34m()\u001b[0m\n\u001b[0;32m      <a href='vscode-notebook-cell:/c%3A/Users/Guntsv/Downloads/AIT/AT82.01%20Computer%20Programming%20for%20Data%20Science%20and%20Artificial%20Intelligence%20%28PDS%29/Coding-Along/class7%20Sklearn.ipynb#Y154sZmlsZQ%3D%3D?line=0'>1</a>\u001b[0m \u001b[39m#after tou call fit, the model is created\u001b[39;00m\n\u001b[0;32m      <a href='vscode-notebook-cell:/c%3A/Users/Guntsv/Downloads/AIT/AT82.01%20Computer%20Programming%20for%20Data%20Science%20and%20Artificial%20Intelligence%20%28PDS%29/Coding-Along/class7%20Sklearn.ipynb#Y154sZmlsZQ%3D%3D?line=1'>2</a>\u001b[0m \u001b[39m#where is the model??\u001b[39;00m\n\u001b[1;32m----> <a href='vscode-notebook-cell:/c%3A/Users/Guntsv/Downloads/AIT/AT82.01%20Computer%20Programming%20for%20Data%20Science%20and%20Artificial%20Intelligence%20%28PDS%29/Coding-Along/class7%20Sklearn.ipynb#Y154sZmlsZQ%3D%3D?line=2'>3</a>\u001b[0m lr\u001b[39m.\u001b[39mcoef_\n",
      "\u001b[1;31mNameError\u001b[0m: name 'lr' is not defined"
     ]
    }
   ],
   "source": [
    "#after tou call fit, the model is created\n",
    "#where is the model??\n",
    "lr.coef_"
   ]
  },
  {
   "cell_type": "code",
   "execution_count": null,
   "metadata": {},
   "outputs": [
    {
     "data": {
      "text/plain": [
       "69.23049610894941"
      ]
     },
     "execution_count": 83,
     "metadata": {},
     "output_type": "execute_result"
    }
   ],
   "source": [
    "lr.intercept_"
   ]
  },
  {
   "cell_type": "code",
   "execution_count": null,
   "metadata": {},
   "outputs": [
    {
     "data": {
      "text/plain": [
       "74.248"
      ]
     },
     "execution_count": 67,
     "metadata": {},
     "output_type": "execute_result"
    }
   ],
   "source": [
    "#linear regression is this:\n",
    "# y= 2.978*income + 3.548*schooling + -1.508*status_en + 69.230\n",
    "\n",
    "#if income = 1, schooling = 1, status_en = 1, what is life expentancy?\n",
    "# y = 2.978*1 + 3.548*1 + -1.508*1 + 69.230\n",
    "2.978*1 + 3.548*1 + -1.508*1 + 69.230"
   ]
  },
  {
   "cell_type": "code",
   "execution_count": null,
   "metadata": {},
   "outputs": [
    {
     "data": {
      "text/plain": [
       "array([74.24921081, 70.62215255])"
      ]
     },
     "execution_count": 84,
     "metadata": {},
     "output_type": "execute_result"
    }
   ],
   "source": [
    "data = np.array([ [1,1,1],[0.5,0.1,0.3] ]) #income = 1, schooling = 1, status_en = 1\n",
    "\n",
    "result = lr.predict(data)\n",
    "result"
   ]
  },
  {
   "cell_type": "code",
   "execution_count": null,
   "metadata": {},
   "outputs": [
    {
     "data": {
      "text/plain": [
       "(3,)"
      ]
     },
     "execution_count": 85,
     "metadata": {},
     "output_type": "execute_result"
    }
   ],
   "source": [
    "lr.coef_.shape"
   ]
  },
  {
   "cell_type": "code",
   "execution_count": null,
   "metadata": {},
   "outputs": [
    {
     "data": {
      "text/plain": [
       "(2, 3)"
      ]
     },
     "execution_count": 86,
     "metadata": {},
     "output_type": "execute_result"
    }
   ],
   "source": [
    "data.shape"
   ]
  },
  {
   "cell_type": "code",
   "execution_count": null,
   "metadata": {},
   "outputs": [
    {
     "data": {
      "text/plain": [
       "array([74.24921081, 70.62215255])"
      ]
     },
     "execution_count": 87,
     "metadata": {},
     "output_type": "execute_result"
    }
   ],
   "source": [
    "#dot product\n",
    "data @ lr.coef_ + lr.intercept_"
   ]
  },
  {
   "cell_type": "code",
   "execution_count": 70,
   "metadata": {},
   "outputs": [],
   "source": [
    "#1. import the library\n",
    "from sklearn.model_selection import GridSearchCV\n",
    "#RandomSearchCV is a faster version\n",
    "\n",
    "#2. define the search space\n",
    "#is a dictionary: key(param): value(value)\n",
    "#go to google and search sklearn RandomForestRegressor, see how many parameters\n",
    "#what is the idea: no idea - just loop everything\n",
    "param_grid = {\n",
    "    'max_depth' : [5, 10],\n",
    "    'n_estimators' : [5, 6, 7, 8, 9, 10],\n",
    "    'max_features' : ['auto', 'log2'],\n",
    "}\n",
    "#how many combinations? --> 24 combinations\n",
    "\n",
    "#3. define the model you want to search with\n",
    "estimator = RandomForestRegressor()\n",
    "\n",
    "#4. define the gridsearch object with the search space\n",
    "grid = GridSearchCV(estimator  = estimator,\n",
    "                    param_grid = param_grid,\n",
    "                    cv = 5,  #by default, it uses kfold anyway; 5 here means 5 fold\n",
    "                    n_jobs  = -1,\n",
    "                    refit   = True, #refits means, after 24 loops, it will fit the best version again!, so grid = best model\n",
    "                    scoring = 'neg_mean_squared_error',\n",
    "                    return_train_score=True)\n",
    "\n",
    "#5. run the search\n",
    "grid.fit(X_train, y_train)  #why training set???"
   ]
  },
  {
   "cell_type": "code",
   "execution_count": null,
   "metadata": {},
   "outputs": [],
   "source": [
    "#after you run, you can check many things:\n",
    "\n",
    "#best parameters\n",
    "print(f\"Best params: {grid.best_params_}\")\n",
    "\n",
    "#best mse (score)\n",
    "print(f\"Best mse: {grid.best_score_}\")\n",
    "\n",
    "#you can retrieve the best model (basically the model trained the best_params_)\n",
    "print(f\"Best estimator: {grid.best_estimator_}\")  #but you DON'T NEED THIS, because the `grid` itself is already \n",
    "#the best model, because of refit=True"
   ]
  },
  {
   "cell_type": "code",
   "execution_count": null,
   "metadata": {},
   "outputs": [],
   "source": [
    "#Exercise: find the best combination of paramters, and put in to the chat"
   ]
  },
  {
   "cell_type": "markdown",
   "metadata": {},
   "source": [
    "### 5. Inference/ Testing\n",
    "- Well, now you gor themodel\n",
    "- But what really matters, is how good it is\n",
    "    - The measure of goodness:\n",
    "        - Testing our model with **unseen** dataset\n",
    "        - the **unseen** data is basically out testing set"
   ]
  },
  {
   "cell_type": "markdown",
   "metadata": {},
   "source": [
    "$ \\hat{y} $ = predicted y\n",
    "\n",
    "$y$         = actual y"
   ]
  },
  {
   "cell_type": "markdown",
   "metadata": {},
   "source": [
    "so you should NEVER use tsting set to compare model or to find best paramters\n",
    "wwhy? Because you violate the \"unseen data\" law...\n",
    "\n",
    "Then how to fix:\n",
    "1. Easiest way: from the training set, further split it into training set and validation set\n",
    "    - 100: training set : 50; validation set : 20; testing set : 30\n",
    "    - Train mode on training setm test them first on validation set\n",
    "    - Train another model on training set, test the mfirst on validation set\n",
    "    - Compare thier validation scorem adnd then adjust accordingly\n",
    "    - Last, choose the model you can and test with testing set...\n",
    "\n",
    "Bad thing about this guy:\n",
    "1. you lose data for validation\n",
    "2. Lucky of Unlucky of validation set\n",
    "\n",
    "Answer : Cross Validation\n"
   ]
  },
  {
   "cell_type": "code",
   "execution_count": null,
   "metadata": {},
   "outputs": [
    {
     "data": {
      "text/plain": [
       "array([[ 1.02990701,  0.68096406,  0.45138351],\n",
       "       [ 1.12769759,  0.83396628, -2.21541102],\n",
       "       [-1.68867117, -2.011875  ,  0.45138351],\n",
       "       ...,\n",
       "       [-0.87211981, -1.06326124,  0.45138351],\n",
       "       [ 0.80009914,  1.10937028,  0.45138351],\n",
       "       [ 1.16192429,  0.46676095, -2.21541102]])"
      ]
     },
     "execution_count": 88,
     "metadata": {},
     "output_type": "execute_result"
    }
   ],
   "source": [
    "X_test"
   ]
  },
  {
   "cell_type": "code",
   "execution_count": null,
   "metadata": {},
   "outputs": [],
   "source": [
    "#4. call .predict(X_test) to ask the model to predict tthe label given the features\n",
    "yhat = lr.predict(X_test)\n",
    "# yhat"
   ]
  },
  {
   "cell_type": "markdown",
   "metadata": {},
   "source": [
    "#### 5.1 Evalutaion \n",
    "\n",
    "- For regression, the common metric is two\n",
    "    - Root sqaured mean error (RMSE)\n",
    "    - $r^2$"
   ]
  },
  {
   "cell_type": "code",
   "execution_count": null,
   "metadata": {},
   "outputs": [
    {
     "data": {
      "text/plain": [
       "(38.01317129153252, 6.1654822432257905, 4.533491536620471)"
      ]
     },
     "execution_count": 90,
     "metadata": {},
     "output_type": "execute_result"
    }
   ],
   "source": [
    "from sklearn.metrics import mean_squared_error\n",
    "from sklearn.metrics import mean_absolute_error\n",
    "import math\n",
    "\n",
    "MSE = mean_squared_error(y_test,yhat)\n",
    "RMSE = math.sqrt(MSE)\n",
    "MAE = mean_absolute_error(y_test,yhat)\n",
    "\n",
    "MSE, RMSE, MAE\n",
    "\n",
    "#if you compare two models\n",
    "#a slight difference is RMSE may equal to big diffrerence in MSE\n"
   ]
  },
  {
   "cell_type": "code",
   "execution_count": null,
   "metadata": {},
   "outputs": [],
   "source": [
    "#lower than error, better\n",
    "#d1 + d2 + d3 + ... + dn\n",
    "#if you only do like this, they will cancel - postive will cancel negatives\n",
    "\n",
    "#how to fix this: two ways\n",
    "#d1^2 + d2^2 +d3^2 + ... + dn^2 ===> mean_squared_error\n",
    "#sqrt (d1^2 + d2^2 +d3^2 + ... + dn^2) ===> root_mean_squared_error\n",
    "\n",
    "#abs (d1^2 + d2^2 +d3^2 + ... + dn^2) ===> mean_absolute_error\n",
    "\n",
    "#which one to use? Just use all three? If one go up, all go up"
   ]
  },
  {
   "cell_type": "code",
   "execution_count": null,
   "metadata": {},
   "outputs": [],
   "source": [
    "#how do i know (38.01317129153252, 6.1654822432257905, 4.533491536620471) is low or high\n",
    "\n",
    "#what is the range of RMSE, MSE, MAE\n",
    "#(0, infinity, )\n",
    "\n",
    "#how to interpret\n",
    "#2 ways: 1) compare with your friend ..... academic paper\n",
    "#        2) R^2 - this is NOT an alternative for RMSE, but a complement\n",
    "\n",
    "#R^2 is basically benchmarking your model against **the mean line**\n",
    "\n",
    "#R^2 = 1 - RSS/TSS (RSS= MSE, TSS is basically the MSE of meanline)\n",
    "# = 1 => you are so much better than mean\n",
    "# = 0 => no better than mean\n",
    "# < 0 => worst than mean\n",
    "\n",
    "#range(-infinity,1)"
   ]
  },
  {
   "cell_type": "code",
   "execution_count": 4,
   "metadata": {},
   "outputs": [
    {
     "ename": "NameError",
     "evalue": "name 'np' is not defined",
     "output_type": "error",
     "traceback": [
      "\u001b[1;31m---------------------------------------------------------------------------\u001b[0m",
      "\u001b[1;31mNameError\u001b[0m                                 Traceback (most recent call last)",
      "\u001b[1;32mc:\\Users\\Guntsv\\Downloads\\AIT\\AT82.01 Computer Programming for Data Science and Artificial Intelligence (PDS)\\Coding-Along\\class7 Sklearn.ipynb Cell 108\u001b[0m in \u001b[0;36m<cell line: 1>\u001b[1;34m()\u001b[0m\n\u001b[1;32m----> <a href='vscode-notebook-cell:/c%3A/Users/Guntsv/Downloads/AIT/AT82.01%20Computer%20Programming%20for%20Data%20Science%20and%20Artificial%20Intelligence%20%28PDS%29/Coding-Along/class7%20Sklearn.ipynb#Y212sZmlsZQ%3D%3D?line=0'>1</a>\u001b[0m real_y \u001b[39m=\u001b[39m np\u001b[39m.\u001b[39marray([\u001b[39m1\u001b[39m,\u001b[39m2\u001b[39m,\u001b[39m3\u001b[39m,\u001b[39m4\u001b[39m,\u001b[39m5\u001b[39m,\u001b[39m6\u001b[39m,\u001b[39m7\u001b[39m])\n\u001b[0;32m      <a href='vscode-notebook-cell:/c%3A/Users/Guntsv/Downloads/AIT/AT82.01%20Computer%20Programming%20for%20Data%20Science%20and%20Artificial%20Intelligence%20%28PDS%29/Coding-Along/class7%20Sklearn.ipynb#Y212sZmlsZQ%3D%3D?line=1'>2</a>\u001b[0m \u001b[39m# real_y.mean()\u001b[39;00m\n\u001b[0;32m      <a href='vscode-notebook-cell:/c%3A/Users/Guntsv/Downloads/AIT/AT82.01%20Computer%20Programming%20for%20Data%20Science%20and%20Artificial%20Intelligence%20%28PDS%29/Coding-Along/class7%20Sklearn.ipynb#Y212sZmlsZQ%3D%3D?line=3'>4</a>\u001b[0m good_yhat \u001b[39m=\u001b[39m np\u001b[39m.\u001b[39marray([\u001b[39m1\u001b[39m,\u001b[39m2\u001b[39m,\u001b[39m3\u001b[39m,\u001b[39m4\u001b[39m,\u001b[39m5\u001b[39m,\u001b[39m6\u001b[39m,\u001b[39m7\u001b[39m])\n",
      "\u001b[1;31mNameError\u001b[0m: name 'np' is not defined"
     ]
    }
   ],
   "source": [
    "real_y = np.array([1,2,3,4,5,6,7])\n",
    "# real_y.mean()\n",
    "\n",
    "good_yhat = np.array([1,2,3,4,5,6,7])\n",
    "mean_yhat = np.array([4,4,4,4,4,4,4])\n",
    "verybad_yhat = np.array([999, 999, 11000, 3333, 4444, 3333, 5555])\n",
    "\n",
    "#Exercise: help me calculate the r2 socre of real_y vs good, real_y vs mena,  real_y vs very bad\n",
    "# def r_squared(real,suppose):\n",
    "#     return 1-real/suppose.mean()\n",
    "\n",
    "# r1 = r_squared(real_y,good_yhat).sum()\n",
    "# r2 = r_squared(real_y,mean_yhat).sum()\n",
    "# r3 = r_squared(real_y,verybad_yhat).sum()\n",
    "\n",
    "# print(f'{r1,r2,r3 =}')\n",
    "\n",
    "from sklearn.metrics import r2_score\n",
    "\n",
    "r_good = r2_score(real_y,good_yhat)\n",
    "r_mean = r2_score(real_y,mean_yhat)\n",
    "r_bad = r2_score(real_y,verybad_yhat)\n",
    "\n",
    "print(f'{r_good,r_mean,r_bad =}')\n",
    "\n",
    "r2_score(y_test, yhat)"
   ]
  },
  {
   "cell_type": "markdown",
   "metadata": {},
   "source": [
    "### 6. Saving model for deployment\n"
   ]
  },
  {
   "cell_type": "code",
   "execution_count": null,
   "metadata": {},
   "outputs": [
    {
     "name": "stdout",
     "output_type": "stream",
     "text": [
      "[64.21178141 74.24921081]\n",
      "[71.43428273]\n"
     ]
    }
   ],
   "source": [
    "#import pickle\n",
    "import pickle\n",
    "\n",
    "#set the filename\n",
    "filename = 'lifeexp.pkl' #pkl is optional but useful for reminder\n",
    "\n",
    "#dump the file\n",
    "#format: pickle.dump(model, open(filename,'wb')) #wb stands writing\n",
    "pickle.dump(lr, open(filename, 'wb'))\n",
    "\n",
    "#i can show you how to load the mode\n",
    "loaded_model = pickle.load(open(filename, 'rb'))\n",
    "\n",
    "#i can show you how you can instantly use the model to precdict\n",
    "some_data = np.array([[1,2,3],[4,5,6]])\n",
    "#Exercise: can you help me predict the life expectancy\n",
    "#when income = 0.6, schooling = 0.5, status_en = 0.9\n",
    "print(loaded_model.predict(sc.transform(some_data)))\n",
    "#your model expects standdatdized values, so make sure you standardize first\n",
    "exercise_data = np.array([[0.6,0.5,0.9]]) \n",
    "print(loaded_model.predict(exercise_data))"
   ]
  },
  {
   "cell_type": "markdown",
   "metadata": {},
   "source": [
    "### The rest is NOT really Pandas job\n",
    "\n",
    "5. Training \n",
    "   1. cross validaiton, grid search\n",
    "6. Testing / Inference\n",
    "7. Deployment "
   ]
  }
 ],
 "metadata": {
  "kernelspec": {
   "display_name": "Python 3.10.4 64-bit",
   "language": "python",
   "name": "python3"
  },
  "language_info": {
   "codemirror_mode": {
    "name": "ipython",
    "version": 3
   },
   "file_extension": ".py",
   "mimetype": "text/x-python",
   "name": "python",
   "nbconvert_exporter": "python",
   "pygments_lexer": "ipython3",
   "version": "3.10.4"
  },
  "vscode": {
   "interpreter": {
    "hash": "c81d839d3c4227cd770621df97fe8191838af02e7eef185a922d8250cb33d344"
   }
  }
 },
 "nbformat": 4,
 "nbformat_minor": 4
}
