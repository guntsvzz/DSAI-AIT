{
 "cells": [
  {
   "cell_type": "markdown",
   "metadata": {},
   "source": [
    "# Predict Apple Stock using LSTM"
   ]
  },
  {
   "cell_type": "code",
   "execution_count": 1,
   "metadata": {},
   "outputs": [],
   "source": [
    "import torch\n",
    "import torch.nn as nn\n",
    "\n",
    "import numpy as np\n",
    "import pandas as pd\n",
    "import matplotlib.pyplot as plt"
   ]
  },
  {
   "cell_type": "markdown",
   "metadata": {},
   "source": [
    "## 1.ETL"
   ]
  },
  {
   "cell_type": "code",
   "execution_count": 2,
   "metadata": {},
   "outputs": [
    {
     "data": {
      "text/html": [
       "<div>\n",
       "<style scoped>\n",
       "    .dataframe tbody tr th:only-of-type {\n",
       "        vertical-align: middle;\n",
       "    }\n",
       "\n",
       "    .dataframe tbody tr th {\n",
       "        vertical-align: top;\n",
       "    }\n",
       "\n",
       "    .dataframe thead th {\n",
       "        text-align: right;\n",
       "    }\n",
       "</style>\n",
       "<table border=\"1\" class=\"dataframe\">\n",
       "  <thead>\n",
       "    <tr style=\"text-align: right;\">\n",
       "      <th></th>\n",
       "      <th>Open</th>\n",
       "      <th>High</th>\n",
       "      <th>Low</th>\n",
       "      <th>Close</th>\n",
       "      <th>Volume</th>\n",
       "      <th>Adj Close</th>\n",
       "    </tr>\n",
       "    <tr>\n",
       "      <th>Date</th>\n",
       "      <th></th>\n",
       "      <th></th>\n",
       "      <th></th>\n",
       "      <th></th>\n",
       "      <th></th>\n",
       "      <th></th>\n",
       "    </tr>\n",
       "  </thead>\n",
       "  <tbody>\n",
       "    <tr>\n",
       "      <th>2014-07-08</th>\n",
       "      <td>96.27</td>\n",
       "      <td>96.80</td>\n",
       "      <td>93.92</td>\n",
       "      <td>95.35</td>\n",
       "      <td>65130000</td>\n",
       "      <td>95.35</td>\n",
       "    </tr>\n",
       "    <tr>\n",
       "      <th>2014-07-07</th>\n",
       "      <td>94.14</td>\n",
       "      <td>95.99</td>\n",
       "      <td>94.10</td>\n",
       "      <td>95.97</td>\n",
       "      <td>56305400</td>\n",
       "      <td>95.97</td>\n",
       "    </tr>\n",
       "    <tr>\n",
       "      <th>2014-07-03</th>\n",
       "      <td>93.67</td>\n",
       "      <td>94.10</td>\n",
       "      <td>93.20</td>\n",
       "      <td>94.03</td>\n",
       "      <td>22891800</td>\n",
       "      <td>94.03</td>\n",
       "    </tr>\n",
       "    <tr>\n",
       "      <th>2014-07-02</th>\n",
       "      <td>93.87</td>\n",
       "      <td>94.06</td>\n",
       "      <td>93.09</td>\n",
       "      <td>93.48</td>\n",
       "      <td>28420900</td>\n",
       "      <td>93.48</td>\n",
       "    </tr>\n",
       "    <tr>\n",
       "      <th>2014-07-01</th>\n",
       "      <td>93.52</td>\n",
       "      <td>94.07</td>\n",
       "      <td>93.13</td>\n",
       "      <td>93.52</td>\n",
       "      <td>38170200</td>\n",
       "      <td>93.52</td>\n",
       "    </tr>\n",
       "  </tbody>\n",
       "</table>\n",
       "</div>"
      ],
      "text/plain": [
       "             Open   High    Low  Close    Volume  Adj Close\n",
       "Date                                                       \n",
       "2014-07-08  96.27  96.80  93.92  95.35  65130000      95.35\n",
       "2014-07-07  94.14  95.99  94.10  95.97  56305400      95.97\n",
       "2014-07-03  93.67  94.10  93.20  94.03  22891800      94.03\n",
       "2014-07-02  93.87  94.06  93.09  93.48  28420900      93.48\n",
       "2014-07-01  93.52  94.07  93.13  93.52  38170200      93.52"
      ]
     },
     "execution_count": 2,
     "metadata": {},
     "output_type": "execute_result"
    }
   ],
   "source": [
    "df = pd.read_csv('../data/appl_1980_2014.csv',index_col=0,parse_dates=True)\n",
    "df.head()"
   ]
  },
  {
   "cell_type": "code",
   "execution_count": 3,
   "metadata": {},
   "outputs": [
    {
     "data": {
      "text/html": [
       "<div>\n",
       "<style scoped>\n",
       "    .dataframe tbody tr th:only-of-type {\n",
       "        vertical-align: middle;\n",
       "    }\n",
       "\n",
       "    .dataframe tbody tr th {\n",
       "        vertical-align: top;\n",
       "    }\n",
       "\n",
       "    .dataframe thead th {\n",
       "        text-align: right;\n",
       "    }\n",
       "</style>\n",
       "<table border=\"1\" class=\"dataframe\">\n",
       "  <thead>\n",
       "    <tr style=\"text-align: right;\">\n",
       "      <th></th>\n",
       "      <th>Close</th>\n",
       "    </tr>\n",
       "    <tr>\n",
       "      <th>Date</th>\n",
       "      <th></th>\n",
       "    </tr>\n",
       "  </thead>\n",
       "  <tbody>\n",
       "    <tr>\n",
       "      <th>2014-07-08</th>\n",
       "      <td>95.35</td>\n",
       "    </tr>\n",
       "    <tr>\n",
       "      <th>2014-07-07</th>\n",
       "      <td>95.97</td>\n",
       "    </tr>\n",
       "    <tr>\n",
       "      <th>2014-07-03</th>\n",
       "      <td>94.03</td>\n",
       "    </tr>\n",
       "    <tr>\n",
       "      <th>2014-07-02</th>\n",
       "      <td>93.48</td>\n",
       "    </tr>\n",
       "    <tr>\n",
       "      <th>2014-07-01</th>\n",
       "      <td>93.52</td>\n",
       "    </tr>\n",
       "  </tbody>\n",
       "</table>\n",
       "</div>"
      ],
      "text/plain": [
       "            Close\n",
       "Date             \n",
       "2014-07-08  95.35\n",
       "2014-07-07  95.97\n",
       "2014-07-03  94.03\n",
       "2014-07-02  93.48\n",
       "2014-07-01  93.52"
      ]
     },
     "execution_count": 3,
     "metadata": {},
     "output_type": "execute_result"
    }
   ],
   "source": [
    "df = df.drop(columns=['Open', 'High','Low','Adj Close','Volume'])\n",
    "df.head()"
   ]
  },
  {
   "cell_type": "code",
   "execution_count": 4,
   "metadata": {},
   "outputs": [
    {
     "data": {
      "text/plain": [
       "(8465, 1)"
      ]
     },
     "execution_count": 4,
     "metadata": {},
     "output_type": "execute_result"
    }
   ],
   "source": [
    "df.shape"
   ]
  },
  {
   "cell_type": "markdown",
   "metadata": {},
   "source": [
    "## 2.EDA"
   ]
  },
  {
   "cell_type": "code",
   "execution_count": 5,
   "metadata": {},
   "outputs": [
    {
     "data": {
      "image/png": "[encoded data removed]",
      "text/plain": [
       "<Figure size 1440x360 with 1 Axes>"
      ]
     },
     "metadata": {
      "needs_background": "light"
     },
     "output_type": "display_data"
    }
   ],
   "source": [
    "plt.figure(figsize=(20,5))\n",
    "plt.plot(df['Close'])\n",
    "plt.grid()"
   ]
  },
  {
   "cell_type": "markdown",
   "metadata": {},
   "source": [
    "## 3. Feature Extraction"
   ]
  },
  {
   "cell_type": "code",
   "execution_count": 6,
   "metadata": {},
   "outputs": [
    {
     "data": {
      "text/plain": [
       "(8465,)"
      ]
     },
     "execution_count": 6,
     "metadata": {},
     "output_type": "execute_result"
    }
   ],
   "source": [
    "y = df['Close'].values.astype('float') #.values is basically getting numpy array of pandas\n",
    "y.shape"
   ]
  },
  {
   "cell_type": "code",
   "execution_count": 7,
   "metadata": {},
   "outputs": [],
   "source": [
    "#test size\n",
    "test_size = 200\n",
    "\n",
    "train_set = y[:-test_size]\n",
    "test_set = y[-test_size:]"
   ]
  },
  {
   "cell_type": "code",
   "execution_count": 8,
   "metadata": {},
   "outputs": [
    {
     "data": {
      "text/plain": [
       "(8265,)"
      ]
     },
     "execution_count": 8,
     "metadata": {},
     "output_type": "execute_result"
    }
   ],
   "source": [
    "train_set.shape"
   ]
  },
  {
   "cell_type": "markdown",
   "metadata": {},
   "source": [
    "## 4. Prepocessing\n",
    "\n",
    "In anything, for neural network, it's better to normalize, so to reach convergence faster.... \n",
    "\n",
    "Two ways are:\n",
    "\n",
    "1.Standardizing - normalize aorund the mean $\\displaystyle\\frac{x_i-\\mu}{\\sigma}$\n",
    "\n",
    "2.MinMax - $\\displaystyle\\frac{x_i-x_\\text{min}}{x_\\text{max}-x_\\text{min}}$\n",
    "\n",
    "In signal, we cannot the trust the mean, so MinMax is better"
   ]
  },
  {
   "cell_type": "code",
   "execution_count": 9,
   "metadata": {},
   "outputs": [],
   "source": [
    "from sklearn.preprocessing import MinMaxScaler\n",
    "\n",
    "scalar = MinMaxScaler(feature_range=(-1,1)) #by defauly 0,1\n",
    "#for signal, -1 to 1 is good way to normalize"
   ]
  },
  {
   "cell_type": "code",
   "execution_count": 10,
   "metadata": {},
   "outputs": [],
   "source": [
    "#to prevent data lekage, you only scale the train set independently of test set\n",
    "#scalar.fit_transform((m,n))\n",
    "train_minmax = scalar.fit_transform(train_set.reshape(-1,1))"
   ]
  },
  {
   "cell_type": "code",
   "execution_count": 11,
   "metadata": {},
   "outputs": [
    {
     "data": {
      "text/plain": [
       "(-1.0, 0.9999999999999998, -0.7415862749994903)"
      ]
     },
     "execution_count": 11,
     "metadata": {},
     "output_type": "execute_result"
    }
   ],
   "source": [
    "train_minmax.min(), train_minmax.max(), train_minmax.mean()"
   ]
  },
  {
   "cell_type": "code",
   "execution_count": 12,
   "metadata": {},
   "outputs": [
    {
     "data": {
      "text/plain": [
       "torch.Size([8265])"
      ]
     },
     "execution_count": 12,
     "metadata": {},
     "output_type": "execute_result"
    }
   ],
   "source": [
    "# train_minmax = torch.FloatTensor(train_minmax.reshape(-1)) #or\n",
    "train_minmax = torch.FloatTensor(train_minmax).view(-1)\n",
    "train_minmax.size()"
   ]
  },
  {
   "cell_type": "markdown",
   "metadata": {},
   "source": [
    "## 5. Create our batch creator"
   ]
  },
  {
   "cell_type": "code",
   "execution_count": 13,
   "metadata": {},
   "outputs": [],
   "source": [
    "window_size = 30\n",
    "\n",
    "def input_data(seq, window_size,label_size=1):\n",
    "    out = []\n",
    "    total_length = len(seq)\n",
    "    for i in range(total_length-window_size): #if not, we will go out of bound\n",
    "        window = seq[i:i+window_size]\n",
    "        label = seq[i+window_size:i+window_size+label_size]\n",
    "        out.append((window,label))\n",
    "    return out\n",
    "\n",
    "#question: if my window is 200, label size is 1, my seq is 8065\n",
    "#        : then what is the shape of out"
   ]
  },
  {
   "cell_type": "code",
   "execution_count": 14,
   "metadata": {},
   "outputs": [
    {
     "data": {
      "text/plain": [
       "8235"
      ]
     },
     "execution_count": 14,
     "metadata": {},
     "output_type": "execute_result"
    }
   ],
   "source": [
    "train_data = input_data(train_minmax,window_size)\n",
    "\n",
    "len(train_data) "
   ]
  },
  {
   "cell_type": "code",
   "execution_count": 15,
   "metadata": {},
   "outputs": [
    {
     "data": {
      "text/plain": [
       "(tensor([-0.7559, -0.7541, -0.7597, -0.7613, -0.7612, -0.7629, -0.7656, -0.7688,\n",
       "         -0.7703, -0.7706, -0.7690, -0.7687, -0.7660, -0.7651, -0.7654, -0.7650,\n",
       "         -0.7677, -0.7648, -0.7602, -0.7591, -0.7607,  0.8364,  0.8416,  0.8342,\n",
       "          0.8132,  0.7874,  0.8000,  0.8069,  0.7740,  0.7787]),\n",
       " tensor([0.7454]))"
      ]
     },
     "execution_count": 15,
     "metadata": {},
     "output_type": "execute_result"
    }
   ],
   "source": [
    "train_data[0] #sample should be simply(200,1)"
   ]
  },
  {
   "cell_type": "markdown",
   "metadata": {},
   "source": [
    "## 6. Define the model"
   ]
  },
  {
   "cell_type": "code",
   "execution_count": 31,
   "metadata": {},
   "outputs": [],
   "source": [
    "class LSTM(nn.Module):\n",
    "    #why out_size = 1, because later on, we will label_size =1\n",
    "    def __init__(self,input_size = 1 ,hidden_size = 100, out_size = 1):\n",
    "        super().__init__()\n",
    "        self.hidden_size = hidden_size\n",
    "\n",
    "        self.lstm = nn.LSTM(input_size,hidden_size)\n",
    "        self.linear = nn.Linear(hidden_size,out_size) #taking the last hidden state\n",
    "\n",
    "        #optional \n",
    "        #h0, c0\n",
    "        #(D*num layer, N, Hin)\n",
    "        self.hidden = (torch.zeros(1, 1, hidden_size).to(device),\n",
    "                       torch.zeros(1, 1, hidden_size).to(device))\n",
    "\n",
    "    def forward(self, seq):\n",
    "        #seq shape : 30 \n",
    "        seq = seq.reshape(len(seq),1,-1)\n",
    "        #seq shape : (30, 1, 1)\n",
    "        out, (_,_) = self.lstm(seq, self.hidden) #you don't need self.hidden\n",
    "        #out shape : (L, N, Hout * D) ==> (30, 1, 100)\n",
    "        #get the last hidden state\n",
    "        out = out[-1,:,:] #(B, Hout)\n",
    "        #out shape : (1,100) \n",
    "        out = self.linear(out)\n",
    "        #out shape : (1, 1)\n",
    "        return out"
   ]
  },
  {
   "cell_type": "code",
   "execution_count": 32,
   "metadata": {},
   "outputs": [
    {
     "name": "stdout",
     "output_type": "stream",
     "text": [
      "cuda:0\n"
     ]
    }
   ],
   "source": [
    "device = torch.device('cuda:0' if torch.cuda.is_available() else 'cpu')\n",
    "print(device)"
   ]
  },
  {
   "cell_type": "markdown",
   "metadata": {},
   "source": [
    "## 7. Training!!"
   ]
  },
  {
   "cell_type": "code",
   "execution_count": 33,
   "metadata": {},
   "outputs": [],
   "source": [
    "torch.manual_seed(9999)\n",
    "\n",
    "model = LSTM().to(device)\n",
    "\n",
    "criterion = nn.MSELoss()\n",
    "optimizer = torch.optim.Adam(model.parameters(),lr=0.01)\n",
    "torch.set_printoptions(sci_mode=False)"
   ]
  },
  {
   "cell_type": "code",
   "execution_count": 34,
   "metadata": {},
   "outputs": [
    {
     "name": "stdout",
     "output_type": "stream",
     "text": [
      "   400\n",
      " 40000\n",
      "   400\n",
      "   400\n",
      "   100\n",
      "     1\n",
      "______\n",
      " 41301\n"
     ]
    }
   ],
   "source": [
    "def count_parameters(model):\n",
    "    params = [p.numel() for p in model.parameters() if p.requires_grad]\n",
    "    for item in params:\n",
    "        print(f'{item:>6}')\n",
    "    print(f'______\\n{sum(params):>6}')\n",
    "    \n",
    "count_parameters(model) #why 400?, why 40000????"
   ]
  },
  {
   "cell_type": "code",
   "execution_count": 35,
   "metadata": {},
   "outputs": [
    {
     "name": "stdout",
     "output_type": "stream",
     "text": [
      "Epoch :  0 - Loss : 9.979487458622316e-07\n",
      "Epoch :  1 - Loss : 1.3767872587777674e-05\n",
      "Epoch :  2 - Loss : 2.686739719592879e-10\n",
      "Epoch :  3 - Loss : 2.3079707034412422e-09\n",
      "Epoch :  4 - Loss : 2.990761822729837e-05\n"
     ]
    }
   ],
   "source": [
    "epochs = 5\n",
    "future = 30\n",
    "for e in range(epochs):\n",
    "    \n",
    "    for seq, y_train in train_data:\n",
    "        #seq : (30, ) #y_train : (1, )\n",
    "        # print(seq.shape)\n",
    "        # print(y_train.shape)\n",
    "        seq = seq.to(device)\n",
    "        y_train = y_train.to(device)\n",
    "        yhat = model(seq) #1. predict\n",
    "        yhat = yhat.reshape(-1) #I think you don't need this\n",
    "        # print(yhat.shape, y_train.shape)\n",
    "        loss = criterion(yhat,y_train) #2. loss\n",
    "        optimizer.zero_grad() #3. zero_grad\n",
    "        loss.backward() #4. backward\n",
    "        optimizer.step() #5. step\n",
    "        \n",
    "    print(f'Epoch : {e:2.0f} - Loss : {loss}')"
   ]
  },
  {
   "cell_type": "code",
   "execution_count": 37,
   "metadata": {},
   "outputs": [],
   "source": [
    "model = model.to(device)"
   ]
  },
  {
   "cell_type": "markdown",
   "metadata": {},
   "source": [
    "## 8. Plot the loss"
   ]
  },
  {
   "cell_type": "markdown",
   "metadata": {},
   "source": [
    "## 9. Inference"
   ]
  },
  {
   "cell_type": "code",
   "execution_count": 56,
   "metadata": {},
   "outputs": [
    {
     "name": "stdout",
     "output_type": "stream",
     "text": [
      "30\n"
     ]
    },
    {
     "data": {
      "image/png": "[encoded data removed]",
      "text/plain": [
       "<Figure size 864x288 with 1 Axes>"
      ]
     },
     "metadata": {
      "needs_background": "light"
     },
     "output_type": "display_data"
    }
   ],
   "source": [
    "future = 100\n",
    "# #prepare a lsit of predictions and append on this list\n",
    "preds = train_minmax[-window_size:].tolist()\n",
    "\n",
    "model.eval() \n",
    "for _ in range(future):\n",
    "    #act as the current train\n",
    "    seq = torch.FloatTensor(preds[-window_size:]).to(device)\n",
    "    with torch.no_grad():\n",
    "        yhat = model(seq)\n",
    "        yhat = yhat.reshape(-1)\n",
    "        preds.append(yhat.item()) \n",
    "\n",
    "print(len(preds[-window_size:]))\n",
    "\n",
    "plt.figure(figsize=(12,4))\n",
    "plt.xlim(6000,8466)\n",
    "plt.grid(True)\n",
    "plt.plot(y)\n",
    "plt.plot(range(8365,8465),preds[window_size:])\n",
    "plt.show()"
   ]
  },
  {
   "cell_type": "markdown",
   "metadata": {},
   "source": [
    "## 10. Denormalize our data!"
   ]
  },
  {
   "cell_type": "code",
   "execution_count": 41,
   "metadata": {},
   "outputs": [],
   "source": [
    "preds_real = scalar.inverse_transform(np.array(preds).reshape(-1,1))"
   ]
  },
  {
   "cell_type": "code",
   "execution_count": 42,
   "metadata": {},
   "outputs": [
    {
     "data": {
      "text/plain": [
       "array([[16.28221069],\n",
       "       [16.28221069],\n",
       "       [16.28221069],\n",
       "       [16.28221069],\n",
       "       [16.28221069],\n",
       "       [16.28221069],\n",
       "       [16.28221069],\n",
       "       [16.28221069],\n",
       "       [16.28221069],\n",
       "       [16.28221069],\n",
       "       [16.28221069],\n",
       "       [16.28221069],\n",
       "       [16.28221069],\n",
       "       [16.28221069],\n",
       "       [16.28221069],\n",
       "       [16.28221069],\n",
       "       [16.28221069],\n",
       "       [16.28221069],\n",
       "       [16.28221069],\n",
       "       [16.28221069],\n",
       "       [16.28221069],\n",
       "       [16.28221069],\n",
       "       [16.28221069],\n",
       "       [16.28221069],\n",
       "       [16.28221069],\n",
       "       [16.28221069],\n",
       "       [16.28221069],\n",
       "       [16.28221069],\n",
       "       [16.28221069],\n",
       "       [16.28221069]])"
      ]
     },
     "execution_count": 42,
     "metadata": {},
     "output_type": "execute_result"
    }
   ],
   "source": [
    "preds_real[-window_size:]"
   ]
  },
  {
   "cell_type": "code",
   "execution_count": 43,
   "metadata": {},
   "outputs": [
    {
     "data": {
      "text/plain": [
       "array([15.13, 14.38, 14.25, 16.37, 16.5 , 16.88, 17.88, 17.75, 17.62,\n",
       "       18.12, 18.5 , 19.  , 19.63, 19.87, 19.75, 19.75, 20.38, 20.62,\n",
       "       21.75, 21.38, 20.13, 20.13, 19.13, 19.  , 19.37, 18.87, 20.13,\n",
       "       21.62, 21.38, 21.62, 22.13, 22.87, 23.25, 24.  , 24.5 , 25.25,\n",
       "       25.25, 25.87, 25.12, 24.75, 25.  , 24.62, 23.75, 24.12, 25.  ,\n",
       "       24.  , 23.25, 22.63, 24.  , 24.12, 25.87, 25.  , 24.38, 23.75,\n",
       "       22.75, 22.25, 24.12, 26.13, 25.12, 24.88, 25.75, 25.75, 26.  ,\n",
       "       28.12, 29.13, 29.5 , 28.87, 29.63, 29.13, 30.25, 31.12, 31.25,\n",
       "       31.75, 32.37, 32.5 , 32.87, 31.5 , 31.12, 30.5 , 31.62, 32.12,\n",
       "       31.5 , 31.5 , 33.13, 33.13, 33.  , 33.  , 31.25, 31.38, 30.  ,\n",
       "       28.38, 27.5 , 28.  , 27.5 , 26.87, 27.25, 27.38, 27.38, 28.  ,\n",
       "       27.75, 27.38, 28.12, 28.25, 28.38, 28.38, 27.88, 28.25, 28.75,\n",
       "       29.  , 29.25, 28.5 , 27.5 , 25.75, 25.  , 26.5 , 27.88, 27.88,\n",
       "       27.88, 27.5 , 27.  , 25.75, 26.  , 26.5 , 26.37, 24.25, 24.5 ,\n",
       "       24.75, 24.75, 25.63, 26.13, 26.63, 26.75, 25.75, 25.5 , 25.75,\n",
       "       24.25, 23.13, 22.25, 22.5 , 21.62, 22.5 , 23.63, 25.63, 25.87,\n",
       "       26.  , 26.25, 26.63, 26.5 , 25.63, 25.25, 23.75, 24.62, 24.25,\n",
       "       25.63, 27.25, 26.13, 25.5 , 26.13, 26.37, 27.25, 27.25, 28.75,\n",
       "       28.62, 28.62, 27.62, 26.63, 28.25, 29.87, 31.  , 32.  , 32.25,\n",
       "       32.75, 32.87, 32.5 , 31.88, 32.87, 31.  , 31.25, 30.63, 30.5 ,\n",
       "       31.62, 31.88, 30.25, 30.88, 32.25, 33.75, 34.5 , 34.13, 35.12,\n",
       "       36.  , 35.5 , 32.5 , 30.88, 29.63, 28.25, 26.63, 25.87, 25.25,\n",
       "       27.25, 28.75])"
      ]
     },
     "execution_count": 43,
     "metadata": {},
     "output_type": "execute_result"
    }
   ],
   "source": [
    "test_set"
   ]
  },
  {
   "cell_type": "code",
   "execution_count": null,
   "metadata": {},
   "outputs": [],
   "source": []
  }
 ],
 "metadata": {
  "kernelspec": {
   "display_name": "Python 3 (ipykernel)",
   "language": "python",
   "name": "python3"
  },
  "language_info": {
   "codemirror_mode": {
    "name": "ipython",
    "version": 3
   },
   "file_extension": ".py",
   "mimetype": "text/x-python",
   "name": "python",
   "nbconvert_exporter": "python",
   "pygments_lexer": "ipython3",
   "version": "3.10.4"
  },
  "vscode": {
   "interpreter": {
    "hash": "c81d839d3c4227cd770621df97fe8191838af02e7eef185a922d8250cb33d344"
   }
  }
 },
 "nbformat": 4,
 "nbformat_minor": 4
}
