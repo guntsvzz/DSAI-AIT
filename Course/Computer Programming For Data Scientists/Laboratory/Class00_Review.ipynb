{
 "cells": [
  {
   "cell_type": "markdown",
   "metadata": {},
   "source": [
    "Review"
   ]
  },
  {
   "cell_type": "code",
   "execution_count": 4,
   "metadata": {},
   "outputs": [
    {
     "data": {
      "text/plain": [
       "int"
      ]
     },
     "execution_count": 4,
     "metadata": {},
     "output_type": "execute_result"
    }
   ],
   "source": [
    "#1. we learn that python supports dynamic typing\n",
    "x = 3\n",
    "type(x) #int"
   ]
  },
  {
   "cell_type": "code",
   "execution_count": 6,
   "metadata": {},
   "outputs": [
    {
     "data": {
      "text/plain": [
       "float"
      ]
     },
     "execution_count": 6,
     "metadata": {},
     "output_type": "execute_result"
    }
   ],
   "source": [
    "x = 3. \n",
    "type(x) #float"
   ]
  },
  {
   "cell_type": "code",
   "execution_count": 8,
   "metadata": {},
   "outputs": [
    {
     "data": {
      "text/plain": [
       "str"
      ]
     },
     "execution_count": 8,
     "metadata": {},
     "output_type": "execute_result"
    }
   ],
   "source": [
    "x = \"String\"\n",
    "type(x) #str"
   ]
  },
  {
   "cell_type": "code",
   "execution_count": 10,
   "metadata": {},
   "outputs": [
    {
     "name": "stdout",
     "output_type": "stream",
     "text": [
      "Any thing you wanna print\n"
     ]
    }
   ],
   "source": [
    "#2. how to print\n",
    "print(\"Any thing you wanna print\")"
   ]
  },
  {
   "cell_type": "code",
   "execution_count": 12,
   "metadata": {},
   "outputs": [
    {
     "name": "stdout",
     "output_type": "stream",
     "text": [
      "I got 3 money\n"
     ]
    }
   ],
   "source": [
    "#2.1 how to print variable along with text\n",
    "x = \"3\"\n",
    "print(f\"I got {x} money\")"
   ]
  },
  {
   "cell_type": "code",
   "execution_count": 16,
   "metadata": {},
   "outputs": [
    {
     "name": "stdout",
     "output_type": "stream",
     "text": [
      "x is greather than y\n"
     ]
    }
   ],
   "source": [
    "#3. If elif else\n",
    "x = 9 \n",
    "y = 5\n",
    "z = 10 \n",
    "if (x > y) :\n",
    "    print(\"x is greather than y\")\n",
    "elif (x < z):\n",
    "    print(\"x is less than z\")\n",
    "else : \n",
    "    print(\"x is less than y\")\n"
   ]
  },
  {
   "cell_type": "code",
   "execution_count": 18,
   "metadata": {},
   "outputs": [
    {
     "name": "stdout",
     "output_type": "stream",
     "text": [
      "5\n",
      "6\n",
      "7\n",
      "8\n",
      "9\n"
     ]
    }
   ],
   "source": [
    "#4. while loop\n",
    "x = 5\n",
    "while (x < 10) : #as long as x is less than 10, do below\n",
    "    print(x)\n",
    "    x += 1 "
   ]
  },
  {
   "cell_type": "code",
   "execution_count": 25,
   "metadata": {},
   "outputs": [
    {
     "name": "stdout",
     "output_type": "stream",
     "text": [
      "1\n",
      "2\n"
     ]
    }
   ],
   "source": [
    "#5. input(), str(), int()\n",
    "#how to ask input from users\n",
    "something = input(\"Please input a number\") #intput always receive anything as string\n",
    "#first, conver the input to int\n",
    "something = int(something)\n",
    "\n",
    "print(something)\n",
    "\n",
    "print(something+1)"
   ]
  },
  {
   "cell_type": "code",
   "execution_count": 27,
   "metadata": {},
   "outputs": [],
   "source": [
    "#6. list\n",
    "#def list using a sqaure bracket, separated by commas\n",
    "x = [1, 3, 5, 9, 10]\n"
   ]
  },
  {
   "cell_type": "code",
   "execution_count": 29,
   "metadata": {},
   "outputs": [
    {
     "data": {
      "text/plain": [
       "9"
      ]
     },
     "execution_count": 29,
     "metadata": {},
     "output_type": "execute_result"
    }
   ],
   "source": [
    "#we can access the element, in which the index starts at 0\n",
    "#if I want 9, how?\n",
    "\n",
    "x[3]"
   ]
  },
  {
   "cell_type": "code",
   "execution_count": 33,
   "metadata": {},
   "outputs": [
    {
     "name": "stdout",
     "output_type": "stream",
     "text": [
      "1\n",
      "3\n",
      "5\n",
      "9\n",
      "10\n"
     ]
    }
   ],
   "source": [
    "#also learn how loop the list\n",
    "#how to print 1, 3, 5, 9, 10\n",
    "for each_num in x:\n",
    "    print(each_num)"
   ]
  },
  {
   "cell_type": "code",
   "execution_count": 34,
   "metadata": {},
   "outputs": [],
   "source": [
    "#7. tuples - nothing but list that cannot be changed\n",
    "#let's create tuples\n",
    "#we use () brackets\n",
    "\n",
    "x = (1, 3, 5, 7, 9)"
   ]
  },
  {
   "cell_type": "code",
   "execution_count": 36,
   "metadata": {},
   "outputs": [
    {
     "data": {
      "text/plain": [
       "7"
      ]
     },
     "execution_count": 36,
     "metadata": {},
     "output_type": "execute_result"
    }
   ],
   "source": [
    "#how to access number 7\n",
    "x[3]"
   ]
  },
  {
   "cell_type": "code",
   "execution_count": 38,
   "metadata": {},
   "outputs": [
    {
     "name": "stdout",
     "output_type": "stream",
     "text": [
      "1\n",
      "3\n",
      "5\n",
      "7\n",
      "9\n"
     ]
    }
   ],
   "source": [
    "#of course, you can loop\n",
    "\n",
    "for num in x:\n",
    "    print(num)"
   ]
  },
  {
   "cell_type": "code",
   "execution_count": 39,
   "metadata": {},
   "outputs": [
    {
     "data": {
      "text/plain": [
       "(1, 3, 5, 7, 9)"
      ]
     },
     "execution_count": 39,
     "metadata": {},
     "output_type": "execute_result"
    }
   ],
   "source": [
    "#but one thing is different, is that tuples CANNOT change\n",
    "#List use MORE memory but Tuple use LESS\n",
    "x"
   ]
  },
  {
   "cell_type": "code",
   "execution_count": 41,
   "metadata": {},
   "outputs": [
    {
     "ename": "TypeError",
     "evalue": "'tuple' object does not support item assignment",
     "output_type": "error",
     "traceback": [
      "\u001b[1;31m---------------------------------------------------------------------------\u001b[0m",
      "\u001b[1;31mTypeError\u001b[0m                                 Traceback (most recent call last)",
      "\u001b[1;32mc:\\Users\\Guntsv\\Downloads\\AIT\\Python-for-Data-Science-master\\Review.ipynb Cell 16\u001b[0m in \u001b[0;36m<cell line: 2>\u001b[1;34m()\u001b[0m\n\u001b[0;32m      <a href='vscode-notebook-cell:/c%3A/Users/Guntsv/Downloads/AIT/Python-for-Data-Science-master/Review.ipynb#X26sZmlsZQ%3D%3D?line=0'>1</a>\u001b[0m \u001b[39m#let's change 1 to 99\u001b[39;00m\n\u001b[1;32m----> <a href='vscode-notebook-cell:/c%3A/Users/Guntsv/Downloads/AIT/Python-for-Data-Science-master/Review.ipynb#X26sZmlsZQ%3D%3D?line=1'>2</a>\u001b[0m x[\u001b[39m0\u001b[39m] \u001b[39m=\u001b[39m \u001b[39m99\u001b[39m\n",
      "\u001b[1;31mTypeError\u001b[0m: 'tuple' object does not support item assignment"
     ]
    }
   ],
   "source": [
    "#let's change 1 to 99\n",
    "x[0] = 99"
   ]
  },
  {
   "cell_type": "code",
   "execution_count": 43,
   "metadata": {},
   "outputs": [
    {
     "data": {
      "text/plain": [
       "tuple"
      ]
     },
     "execution_count": 43,
     "metadata": {},
     "output_type": "execute_result"
    }
   ],
   "source": [
    "#tuple is a disguise of multiple assignments\n",
    "x = 1, 2, 3\n",
    "type(x)"
   ]
  },
  {
   "cell_type": "code",
   "execution_count": 44,
   "metadata": {},
   "outputs": [],
   "source": [
    "#you can unpack this tuple\n",
    "first, second, third = x"
   ]
  },
  {
   "cell_type": "code",
   "execution_count": 46,
   "metadata": {},
   "outputs": [
    {
     "data": {
      "text/plain": [
       "1"
      ]
     },
     "execution_count": 46,
     "metadata": {},
     "output_type": "execute_result"
    }
   ],
   "source": [
    "first"
   ]
  },
  {
   "cell_type": "code",
   "execution_count": 47,
   "metadata": {},
   "outputs": [
    {
     "data": {
      "text/plain": [
       "2"
      ]
     },
     "execution_count": 47,
     "metadata": {},
     "output_type": "execute_result"
    }
   ],
   "source": [
    "second"
   ]
  },
  {
   "cell_type": "code",
   "execution_count": 49,
   "metadata": {},
   "outputs": [
    {
     "data": {
      "text/plain": [
       "3"
      ]
     },
     "execution_count": 49,
     "metadata": {},
     "output_type": "execute_result"
    }
   ],
   "source": [
    "third"
   ]
  },
  {
   "cell_type": "code",
   "execution_count": 50,
   "metadata": {},
   "outputs": [],
   "source": [
    "#8. dictionary\n",
    "#dictionary supports a pair of information \n",
    "#you create dictionary using curly bracis {}\n",
    "some_dict = {\n",
    "    \"name\" : \"Gun\",\n",
    "    \"age\" : 22,\n",
    "    \"gender\" : \"M\",\n",
    "    \"ID\" : \"123-012\"\n",
    "}"
   ]
  },
  {
   "cell_type": "code",
   "execution_count": 51,
   "metadata": {},
   "outputs": [
    {
     "data": {
      "text/plain": [
       "'Gun'"
      ]
     },
     "execution_count": 51,
     "metadata": {},
     "output_type": "execute_result"
    }
   ],
   "source": [
    "#how to use this dicitonary\n",
    "#formatL dictionary_name[key]\n",
    "some_dict[\"name\"]"
   ]
  },
  {
   "cell_type": "code",
   "execution_count": 52,
   "metadata": {},
   "outputs": [],
   "source": [
    "#9. function\n",
    "#what is a function : a nuch of code that is reuseable\n",
    "#To create a funciton, use def\n",
    "def square(number):\n",
    "    return number ** 2"
   ]
  },
  {
   "cell_type": "code",
   "execution_count": 53,
   "metadata": {},
   "outputs": [
    {
     "data": {
      "text/plain": [
       "4"
      ]
     },
     "execution_count": 53,
     "metadata": {},
     "output_type": "execute_result"
    }
   ],
   "source": [
    "#so what do i mena by reuseable\n",
    "square(2)"
   ]
  },
  {
   "cell_type": "code",
   "execution_count": 54,
   "metadata": {},
   "outputs": [
    {
     "data": {
      "text/plain": [
       "100"
      ]
     },
     "execution_count": 54,
     "metadata": {},
     "output_type": "execute_result"
    }
   ],
   "source": [
    "square(10)"
   ]
  },
  {
   "cell_type": "code",
   "execution_count": 55,
   "metadata": {},
   "outputs": [],
   "source": [
    "#10 Class\n",
    "#what is a class: a collection of function and data that are tightly related"
   ]
  },
  {
   "cell_type": "code",
   "execution_count": 75,
   "metadata": {},
   "outputs": [],
   "source": [
    "class Square(object): #we create a class named \"Anyname\", and inherit another class called object\n",
    "    #the one function thast you cannot miss is called __init__\n",
    "    #what is self? slef is referring to itself\n",
    "    #if you don't understand here, it's ok for now\n",
    "    #but please remember that for every function, the first variable is self\n",
    "    \n",
    "    #it mean whenever we create a class called Square, how it gonna create it \n",
    "    def __init__(self, width = 1,height =1): \n",
    "        self.width = width\n",
    "        self.height = height\n",
    "    \n",
    "    #put any function that is related to Square\n",
    "    def getArea(self):\n",
    "        return self.width * self.height\n",
    "    \n"
   ]
  },
  {
   "cell_type": "code",
   "execution_count": 83,
   "metadata": {},
   "outputs": [],
   "source": [
    "#create this object\n",
    "anyname = Square(width = 5, height = 7)"
   ]
  },
  {
   "cell_type": "code",
   "execution_count": 84,
   "metadata": {},
   "outputs": [
    {
     "data": {
      "text/plain": [
       "35"
      ]
     },
     "execution_count": 84,
     "metadata": {},
     "output_type": "execute_result"
    }
   ],
   "source": [
    "#there is a differnece vetween attribute and function\n",
    "#attribute - use dot (.)\n",
    "#function - use dot (.) but follow by parenthesis () e.g., anyname.getArea()\n",
    "anyname.getArea()"
   ]
  },
  {
   "cell_type": "code",
   "execution_count": 72,
   "metadata": {},
   "outputs": [
    {
     "data": {
      "text/plain": [
       "__main__.Square"
      ]
     },
     "execution_count": 72,
     "metadata": {},
     "output_type": "execute_result"
    }
   ],
   "source": [
    "type(anyname)"
   ]
  },
  {
   "cell_type": "code",
   "execution_count": 85,
   "metadata": {},
   "outputs": [
    {
     "data": {
      "text/plain": [
       "5"
      ]
     },
     "execution_count": 85,
     "metadata": {},
     "output_type": "execute_result"
    }
   ],
   "source": [
    "#this is the way to access the attributes using dot(.)\n",
    "anyname.width"
   ]
  },
  {
   "cell_type": "code",
   "execution_count": 127,
   "metadata": {},
   "outputs": [
    {
     "name": "stdout",
     "output_type": "stream",
     "text": [
      "Sum of even numbers : 14\n"
     ]
    },
    {
     "data": {
      "text/plain": [
       "'\\nExample:\\nInput : [1, 3, 4, 5, 6, 7]\\nOutput : 10\\n'"
      ]
     },
     "execution_count": 127,
     "metadata": {},
     "output_type": "execute_result"
    }
   ],
   "source": [
    "#Challenge 1\n",
    "#create a list of 10 numbers \n",
    "import random\n",
    "x = [int(random.random()*10) for i in range(10)]\n",
    "result = 0\n",
    "#x = list(range(1,11))\n",
    "#add only the even number and assign the result to some variable\n",
    "#you have to loop the list\n",
    "for num in x:\n",
    "    if (num % 2 == 0):\n",
    "        result = result + num \n",
    "print(f\"Sum of even numbers : {result}\")\n",
    "'''\n",
    "Example:\n",
    "Input : [1, 3, 4, 5, 6, 7]\n",
    "Output : 10\n",
    "'''\n",
    "\n"
   ]
  },
  {
   "cell_type": "code",
   "execution_count": 193,
   "metadata": {},
   "outputs": [],
   "source": [
    "#Challenge 2\n",
    "x = [\n",
    "    [1, 0, 0 ,0],\n",
    "    [0, 1, 0 ,0],\n",
    "    [1, 0, 0 ,0],\n",
    "    [0, 0, 0 ,1]\n",
    "    ]\n",
    "#please print the index that has 1"
   ]
  },
  {
   "cell_type": "code",
   "execution_count": 154,
   "metadata": {},
   "outputs": [
    {
     "data": {
      "text/plain": [
       "[0, 1, 0, 3]"
      ]
     },
     "execution_count": 154,
     "metadata": {},
     "output_type": "execute_result"
    }
   ],
   "source": [
    "\n",
    "result = []\n",
    "for row in range(len(x)):\n",
    "    for column in range(len(x[0])):\n",
    "        num = x[row][column]\n",
    "        if num == 1:\n",
    "            result.append(column)\n",
    "\n",
    "result\n"
   ]
  },
  {
   "cell_type": "code",
   "execution_count": 159,
   "metadata": {},
   "outputs": [
    {
     "name": "stdout",
     "output_type": "stream",
     "text": [
      "index : 0, num : 1\n",
      "index : 0, num : 0\n",
      "index : 1, num : 1\n",
      "index : 0, num : 1\n",
      "index : 0, num : 0\n",
      "index : 1, num : 0\n",
      "index : 2, num : 0\n",
      "index : 3, num : 1\n",
      "[0, 1, 0, 3]\n"
     ]
    }
   ],
   "source": [
    "#first version\n",
    "result = [] #empty list\n",
    "for each_list in x:\n",
    "    for index,num in enumerate(each_list):\n",
    "        print(f\"index : {index}, num : {num}\")\n",
    "        #if number is 1\n",
    "        if num == 1:\n",
    "            #i somehow need to add this \"index\" to a list\n",
    "            result.append(index)\n",
    "            #once i found, skip this inner for loop\n",
    "            break  #this break will stop the inner most loop\n",
    "print(result)"
   ]
  },
  {
   "cell_type": "code",
   "execution_count": 194,
   "metadata": {},
   "outputs": [
    {
     "name": "stdout",
     "output_type": "stream",
     "text": [
      "[1, 0, 0, 0]\n",
      "0\n",
      "[0, 1, 0, 0]\n",
      "1\n",
      "[1, 0, 0, 0]\n",
      "0\n",
      "[0, 0, 0, 1]\n",
      "3\n",
      "------------\n",
      "[0, 1, 0, 3]\n"
     ]
    }
   ],
   "source": [
    "#second version\n",
    "#let's use a bulit-in function called index()\n",
    "result = []\n",
    "#if you want to uncomment quickly, do cmd/wub + /\n",
    "for each_list in x:\n",
    "    print(each_list)\n",
    "    index = each_list.index(1)\n",
    "    result.append(index)\n",
    "    #result.append(x.index(each_list))\n",
    "    #print(x.index(each_list))\n",
    "\n",
    "print(\"------------\")\n",
    "print(result)"
   ]
  },
  {
   "cell_type": "code",
   "execution_count": 171,
   "metadata": {},
   "outputs": [
    {
     "data": {
      "text/plain": [
       "[0, 1, 0, 3]"
      ]
     },
     "execution_count": 171,
     "metadata": {},
     "output_type": "execute_result"
    }
   ],
   "source": [
    "#third version\n",
    "#use list comprehension\n",
    "result = [each_list.index(1) for each_list in x]\n",
    "result"
   ]
  }
 ],
 "metadata": {
  "kernelspec": {
   "display_name": "Python 3.10.4 64-bit",
   "language": "python",
   "name": "python3"
  },
  "language_info": {
   "codemirror_mode": {
    "name": "ipython",
    "version": 3
   },
   "file_extension": ".py",
   "mimetype": "text/x-python",
   "name": "python",
   "nbconvert_exporter": "python",
   "pygments_lexer": "ipython3",
   "version": "3.10.4"
  },
  "orig_nbformat": 4,
  "vscode": {
   "interpreter": {
    "hash": "c81d839d3c4227cd770621df97fe8191838af02e7eef185a922d8250cb33d344"
   }
  }
 },
 "nbformat": 4,
 "nbformat_minor": 2
}
