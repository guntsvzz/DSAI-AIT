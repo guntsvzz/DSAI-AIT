{
 "cells": [
  {
   "cell_type": "markdown",
   "metadata": {},
   "source": [
    "# Logistic Regressiion from Scratch"
   ]
  },
  {
   "cell_type": "markdown",
   "metadata": {},
   "source": [
    "### Review: Linear Regression from Scratch\n",
    "\n",
    "Note: This is the fundamental of deep learning.  Almost all deep learning operations is based on this weight multiplication.\n",
    "\n",
    "Solving linear regression is an **optimization** problem. Optimization means finding the optimal - max, min.\n",
    "\n",
    "$$\\theta^* = \\argmin_\\theta J(\\theta)$$\n",
    "\n",
    "#### Four steps:\n",
    "\n",
    "1.  Predict - `X.shape = (m, n); y.shape = (m, )`\n",
    "    $$ h(\\theta) = y = f(x) = \\mathbf{X} \\cdot \\theta$$\n",
    "\n",
    "2.  Find the gradient\n",
    "   \n",
    "    2.1 We must first define the $J(\\theta)$\n",
    "        $$J(\\theta) = \\sum_{i=0}^m \\frac{(\\hat{\\mathbf{y}}^{(i)} - \\mathbf{y}^{(i)})^2}{2}$$\n",
    "\n",
    "    2.2 $$\\frac{\\partial J}{\\partial \\theta_j} = \\sum_{i=0}^m (\\hat{\\mathbf{y}}^{(i)} - \\mathbf{y}^{(i)})\\mathbf{x}_j$$\n",
    "\n",
    "3. Update the theta \n",
    "\n",
    "    $$\\theta = \\theta - \\alpha * \\frac{\\partial J}{\\partial \\theta_j}$$\n",
    "\n",
    "4. Repeat 1, 2, 3 until either (1) `num_epochs` reach limit, or (2) early stopping (which I asked you to implement in your assignment)\n",
    "    "
   ]
  },
  {
   "cell_type": "markdown",
   "metadata": {},
   "source": [
    "### Let's come back to Logistic Regression\n",
    "\n",
    "Note: this is also the fundamental of all deep learning, that involves classification.   In deep learning, all operations do something like this....\n",
    "\n",
    "Logistic Regression is a **classification** algorithm based on linear regression.\n",
    "\n",
    "Classification - supervised learning - where $y$ is discrete.\n",
    "\n",
    "Binary - class 0 and 1\n",
    "Multiclass - > 2 class\n",
    "\n",
    "Today we will be doing binary.....\n",
    "This Thurs we will be doing multiclass...."
   ]
  },
  {
   "cell_type": "markdown",
   "metadata": {},
   "source": [
    "#### Four steps:\n",
    "\n",
    "1.  Predict - `X.shape = (m, n); y.shape = (m, )`\n",
    "    $$ h(\\theta) = y = f(x) = X \\cdot \\theta$$\n",
    "\n",
    "    We know that $\\texttt{range}(X \\cdot \\theta) =  (-\\infty, \\infty)$\n",
    "\n",
    "    We need to find a function $g(x)$ such that it maps infinity to 0 and 1.\n",
    "\n",
    "    That $g(x) = \\displaystyle\\frac{1}{1 + e^{-x}}$\n",
    "\n",
    "    So if you combine $g(x)$ with $h(\\theta)$, then you will get\n",
    "    \n",
    "    $h(g(x)) = \\displaystyle\\frac{1}{1 + e^{-(X \\cdot \\theta)}}$\n",
    "\n",
    "\n",
    "2.  Find the gradient\n",
    "   \n",
    "    2.1 We must first define the $J(\\theta)$\n",
    "        Note: \n",
    "        - the behavior of J is that when y, yhat= (1,1) | (0, 0) , then J = 0\n",
    "        - the behavior of J is that when y, yhat= (0,1) | (1, 0) , then J = very high\n",
    "\n",
    "\n",
    "    $$J(\\theta) = \\sum_{i=0}^m -( \\mathbf{y}^{(i)} * \\log{\\mathbf{h}}^{(i)} + (1 - \\mathbf{y}^{(i)})\\log(1 - {\\mathbf{h}}^{(i)}))$$\n",
    "             \n",
    "\n",
    "    2.2 $$\\frac{\\partial J}{\\partial \\theta_j} = \\mathbf{X}^T (\\hat{\\mathbf{y}} - \\mathbf{y})$$\n",
    "\n",
    "3. Update the theta \n",
    "\n",
    "    $$\\theta = \\theta - \\alpha * \\frac{\\partial J}{\\partial \\theta_j}$$\n",
    "\n",
    "4. Repeat 1, 2, 3 until either (1) `num_epochs` reach limit, or (2) early stopping (which I asked you to implement in your assignment)"
   ]
  },
  {
   "cell_type": "markdown",
   "metadata": {},
   "source": [
    "### Let's code"
   ]
  },
  {
   "cell_type": "code",
   "execution_count": 12,
   "metadata": {},
   "outputs": [
    {
     "data": {
      "text/plain": [
       "Text(0, 0.5, 'y')"
      ]
     },
     "execution_count": 12,
     "metadata": {},
     "output_type": "execute_result"
    },
    {
     "data": {
      "image/png": "[encoded data removed]",
      "text/plain": [
       "<Figure size 432x288 with 1 Axes>"
      ]
     },
     "metadata": {
      "needs_background": "light"
     },
     "output_type": "display_data"
    }
   ],
   "source": [
    "import numpy as np\n",
    "import matplotlib.pyplot as plt\n",
    "#1. I want you to define this function g(x)\n",
    "def sigmoid(x):\n",
    "    return 1/(1 + np.exp(-x))\n",
    "    \n",
    "#2. I want you to simulate x from - 5 to 5\n",
    "x = np.linspace(-5,5,1000)\n",
    "y = sigmoid(x)\n",
    "#3. Try to plot it\n",
    "plt.scatter(x,y)\n",
    "plt.grid()\n",
    "plt.xlabel('x')\n",
    "plt.ylabel('y')"
   ]
  },
  {
   "cell_type": "code",
   "execution_count": 34,
   "metadata": {},
   "outputs": [
    {
     "name": "stdout",
     "output_type": "stream",
     "text": [
      "[1. 1. 1.]\n"
     ]
    }
   ],
   "source": [
    "#1. define X with two samples. Sample 1 has egg price = 5, oil price = 10; Sample 2 has egg price = 3, oil price = 4; \n",
    "X = np.array([[5,10],[3,4],[9,10]])\n",
    "\n",
    "#2. define any theta you like\n",
    "theta = np.random.random((2,)) #np.ones((X.shape[1],))\n",
    "\n",
    "#3. perform X dot theta #(3,2) @ (2,) = (3,)\n",
    "def h(X,theta):\n",
    "    return X @ theta\n",
    "y_hat = h(X, theta)\n",
    "\n",
    "#4. perform sigmoid in top and see whether the value is really 0 and 1\n",
    "def sigmoid(x):\n",
    "    return 1/(1 + np.exp(-x))\n",
    "\n",
    "y_hat_sigmoid = sigmoid(y_hat)\n",
    "#5. perform a round the nearest\n",
    "print(np.round(y_hat_sigmoid))"
   ]
  },
  {
   "cell_type": "markdown",
   "metadata": {},
   "source": [
    "$$J(\\theta) = \\sum_{i=0}^m -(y^{(i)}*\\log h^{(i)}+ (1-y^{(i)})*(1-\\log{h}^{(i)}))$$"
   ]
  },
  {
   "cell_type": "code",
   "execution_count": 52,
   "metadata": {},
   "outputs": [
    {
     "name": "stdout",
     "output_type": "stream",
     "text": [
      "Good 0.31844724673955827\n",
      "Bad 19.84779709959251\n"
     ]
    },
    {
     "data": {
      "image/png": "[encoded data removed]",
      "text/plain": [
       "<Figure size 432x288 with 1 Axes>"
      ]
     },
     "metadata": {
      "needs_background": "light"
     },
     "output_type": "display_data"
    }
   ],
   "source": [
    "#1. Please code this loss function above\n",
    "#h = f(x) = yhat\n",
    "def binary_cross_entopy(y, yhat):\n",
    "    return -np.sum(y*np.log(yhat)+(1-y)*(np.log(1-yhat)))\n",
    "#1.1 Please plot -np.log(h) and -np.log(1-h), \n",
    "#where h is a value between 0.01 to 0.99\n",
    "h = np.linspace(0.01,0.99,1000)\n",
    "plt.plot(h,-np.log(h),label = '-log(h) when y = 1')\n",
    "plt.plot(h,-np.log(1-h),label = '-log(1-h) when y = 1')\n",
    "plt.xlabel('h')\n",
    "plt.ylabel('J')\n",
    "plt.legend()\n",
    "#2.1 Simulate the actual y\n",
    "y = np.array([0,1,1,0,1])\n",
    "#2.2 simulate the very bad yhat - no good predictions\n",
    "bad_yhat = np.array([0.88, 0.01, 0.02,0.99,0.01]) #opposite of good\n",
    "#2.3 simulate a very good yhat - very good predictions\n",
    "good_yhat = np.array([0.01,0.98,0.92,0.03,0.84])\n",
    "#3. try to get j(\\theta) of actual y vs. (1) very bad (2) very good\n",
    "print('Good',binary_cross_entopy(y,good_yhat))\n",
    "print('Bad',binary_cross_entopy(y,bad_yhat))"
   ]
  },
  {
   "cell_type": "code",
   "execution_count": 118,
   "metadata": {},
   "outputs": [
    {
     "data": {
      "image/png": "[encoded data removed]",
      "text/plain": [
       "<Figure size 432x288 with 1 Axes>"
      ]
     },
     "metadata": {
      "needs_background": "light"
     },
     "output_type": "display_data"
    }
   ],
   "source": [
    "#1. Load breast cancer from sklearn\n",
    "from sklearn.model_selection import train_test_split\n",
    "from sklearn.datasets import load_breast_cancer\n",
    "from sklearn.preprocessing import StandardScaler\n",
    "#2. Set the X and y. split properly ,standardize properly\n",
    "X,y = load_breast_cancer(return_X_y=True)\n",
    "X_train, X_test, y_train, y_test = train_test_split(X, y, test_size = 0.3, random_state=999)\n",
    "#standardize properly\n",
    "sc = StandardScaler()\n",
    "X_train = sc.fit_transform(X_train)\n",
    "X_test = sc.transform(X_test)\n",
    "\n",
    "X_train = np.insert(X_train,0,1,axis=1) \n",
    "X_test = np.insert(X_test,0,1,axis=1)\n",
    "\n",
    "#2.1 plot\n",
    "plt.scatter(X[:,0],X[:,1],c=y)\n",
    "#3.create a class of Logistic Regression (no need mini-batch, sto, or cross validation)\n",
    "class LogisticRegression(object):\n",
    "    def __init__(self,alpha=0.01,num_epochs=5):\n",
    "        self.alpha = alpha\n",
    "        self.num_epochs = num_epochs\n",
    "\n",
    "    def fit(self,X_train,y_train):\n",
    "        self.theta = np.ones(X_train.shape[1],) #<---- This is NOT good\n",
    "        for epoch in range(self.num_epochs):\n",
    "            #randomize out X_train\n",
    "            perm = np.random.permutation(X_train.shape[0])\n",
    "            X_train = X_train[perm]\n",
    "            y_train = y_train[perm]\n",
    "            self._train(X_train, y_train)\n",
    "\n",
    "    def _train(self, X, y):\n",
    "        #predict\n",
    "        y_hat = self._predict(X)\n",
    "        #grad\n",
    "        deriv = self._gradient(X, y_hat - y)\n",
    "        # print(\"Grad\",deriv)\n",
    "        #update\n",
    "        self.theta = self.theta - self.alpha*deriv\n",
    "        # print(\"Theta\",self.theta)\n",
    "\n",
    "    def _gradient(self, X,error):\n",
    "        return X.T @ error  \n",
    "\n",
    "    def predict(self, X): #fx, h_theta \n",
    "        return self.sigmoid(X @ self.theta)\n",
    "\n",
    "    def _predict(self, X): #return either 0 or 1\n",
    "        return np.round(self.sigmoid(X @ self.theta))\n",
    "\n",
    "    def sigmoid(self, h):\n",
    "        return 1/(1 + np.exp(-h))\n",
    "\n",
    "    def binary_cross_entopy(self,y,yhat):\n",
    "        return -np.sum(y*np.log(yhat)+(1-y)*(np.log(1-yhat)))\n",
    "\n",
    "    def _coef(self): \n",
    "        return self.theta[1:]   \n",
    "\n",
    "    def _bias(self):\n",
    "        return self.theta[0] \n",
    "\n",
    "#4. fit, and predict\n",
    "#Later.... 5. I will trach recall, precisionm accuracy"
   ]
  },
  {
   "cell_type": "code",
   "execution_count": 119,
   "metadata": {},
   "outputs": [
    {
     "data": {
      "text/plain": [
       "(0.0, 1.0)"
      ]
     },
     "execution_count": 119,
     "metadata": {},
     "output_type": "execute_result"
    }
   ],
   "source": [
    "from sklearn.metrics import classification_report, accuracy_score\n",
    "lr = LogisticRegression()\n",
    "lr.fit(X_train,y_train)\n",
    "\n",
    "yhat = lr._predict(X_test)\n",
    "yhat.min(), yhat.max()\n",
    "#it only takes either 0 or 1"
   ]
  },
  {
   "cell_type": "code",
   "execution_count": 120,
   "metadata": {},
   "outputs": [
    {
     "data": {
      "text/plain": [
       "0.9532163742690059"
      ]
     },
     "execution_count": 120,
     "metadata": {},
     "output_type": "execute_result"
    }
   ],
   "source": [
    "accuracy_score(y_test,yhat)"
   ]
  },
  {
   "cell_type": "code",
   "execution_count": 122,
   "metadata": {},
   "outputs": [
    {
     "name": "stdout",
     "output_type": "stream",
     "text": [
      "              precision    recall  f1-score   support\n",
      "\n",
      "           0       0.96      0.93      0.94        73\n",
      "           1       0.95      0.97      0.96        98\n",
      "\n",
      "    accuracy                           0.95       171\n",
      "   macro avg       0.95      0.95      0.95       171\n",
      "weighted avg       0.95      0.95      0.95       171\n",
      "\n"
     ]
    }
   ],
   "source": [
    "print(classification_report(y_test,yhat))"
   ]
  },
  {
   "cell_type": "markdown",
   "metadata": {},
   "source": [
    "Confusion Matrix"
   ]
  },
  {
   "cell_type": "code",
   "execution_count": null,
   "metadata": {},
   "outputs": [],
   "source": [
    "'''\n",
    "Confusion Matrix\n",
    "                        Actual\n",
    "                1                 0\n",
    "        1   #True pos       #False pos\n",
    "Predict\n",
    "        0   #False neg      #True neg\n",
    "'''\n",
    "\n",
    "# TP + FP + FN + TN = m\n",
    "\n",
    "# Accuracy = (TP + FP)/(TP + FP + FN + TN)\n",
    "\n",
    "#but accuracy sucks, the class is imbalanced\n",
    "#remember the imbalance case we got\n",
    "#the model will always get 10/11 accuracy\n",
    "\n",
    "#recall = TP/(TP + FN) #penalize FN, it does not like FN, ex. Cancer, Terrorist, Zombie\n",
    "\n",
    "#precision = TP/(TP+FP) #penalizee FP, it does not like FP, ex. Search Engine\n",
    "\n",
    "#f1 = 2 * recall * precision / (precision + recall) #balance between recall and precision\n",
    "\n",
    "#btw, recall, precisionm, f1 are quite tobut with imbalanced data"
   ]
  },
  {
   "cell_type": "code",
   "execution_count": 165,
   "metadata": {},
   "outputs": [
    {
     "name": "stdout",
     "output_type": "stream",
     "text": [
      "Added everything : 171\n",
      "yhat samples : 171\n"
     ]
    }
   ],
   "source": [
    "#please code the following FROM scratch\n",
    "def cm(yhat,y):\n",
    "    TP = TN = FP = FN = 0\n",
    "    for i in range(yhat.shape[0]):\n",
    "        if (yhat[i] == 1) & (y[i] == 1):\n",
    "            TP += 1\n",
    "        elif (yhat[i] == 0) & (y[i] == 0):\n",
    "            TN += 1\n",
    "        elif (yhat[i] == 1) & (y[i] == 0):\n",
    "            FP += 1\n",
    "        elif (yhat[i] == 0) & (y[i] == 1):\n",
    "            FN += 1\n",
    "    print('Added everything :',TP + FP + FN + TN)\n",
    "    print('yhat samples :',yhat.shape[0])\n",
    "    assert (TP + FP + FN + TN) == yhat.shape[0]\n",
    "    return TP,FP,FN,TN\n",
    "\n",
    "TP,FP,FN,TN = cm(yhat,y_test)"
   ]
  },
  {
   "cell_type": "code",
   "execution_count": 169,
   "metadata": {},
   "outputs": [
    {
     "name": "stdout",
     "output_type": "stream",
     "text": [
      "0.9532163742690059 0.9693877551020408 0.95 0.9595959595959594\n",
      "0.9532163742690059 0.9693877551020408 0.95 0.9595959595959594\n"
     ]
    }
   ],
   "source": [
    "from sklearn.metrics import accuracy_score,precision_score,recall_score,f1_score\n",
    "\n",
    "#ACCURACY\n",
    "accuracy = (TP + TN) /(TP + FP + FN + TN)\n",
    "#RECALL\n",
    "recall = TP/(TP + FN)\n",
    "#PRECISION\n",
    "precision = TP/(TP+FP)\n",
    "#F1\n",
    "f1 = 2 * recall * precision / (precision + recall)\n",
    "\n",
    "print(accuracy,recall,precision,f1)\n",
    "print(accuracy_score(y_test,yhat),recall_score(y_test,yhat),precision_score(y_test,yhat),f1_score(y_test,yhat))\n"
   ]
  },
  {
   "cell_type": "code",
   "execution_count": null,
   "metadata": {},
   "outputs": [],
   "source": []
  }
 ],
 "metadata": {
  "kernelspec": {
   "display_name": "Python 3.10.4 64-bit",
   "language": "python",
   "name": "python3"
  },
  "language_info": {
   "codemirror_mode": {
    "name": "ipython",
    "version": 3
   },
   "file_extension": ".py",
   "mimetype": "text/x-python",
   "name": "python",
   "nbconvert_exporter": "python",
   "pygments_lexer": "ipython3",
   "version": "3.10.4"
  },
  "orig_nbformat": 4,
  "vscode": {
   "interpreter": {
    "hash": "c81d839d3c4227cd770621df97fe8191838af02e7eef185a922d8250cb33d344"
   }
  }
 },
 "nbformat": 4,
 "nbformat_minor": 2
}
