{
 "cells": [
  {
   "cell_type": "markdown",
   "metadata": {},
   "source": [
    "# Heapsort"
   ]
  },
  {
   "cell_type": "code",
   "execution_count": 2,
   "metadata": {},
   "outputs": [],
   "source": [
    "def Left(i):\n",
    "    return 2*i+1\n",
    "\n",
    "def Right(i):\n",
    "    return 2*i+2\n",
    "\n",
    "def Max_Heapify(ls, heap_size, i):\n",
    "    # Find largest among root and children\n",
    "    l = Left(i)\n",
    "    r = Right(i)\n",
    "    \n",
    "    #Left child and is greater than root\n",
    "    if l < heap_size and ls[l] > ls[i]:\n",
    "        largest = l\n",
    "    else:\n",
    "        largest = i\n",
    "        \n",
    "    #Right child and is greater than root\n",
    "    if r < heap_size and ls[r] > ls[largest]:\n",
    "        largest = r\n",
    "\n",
    "    print(f'{largest,l,r = }')\n",
    "    \n",
    "    #Swap root\n",
    "    if largest != i:\n",
    "        ls[i], ls[largest] = ls[largest], ls[i]\n",
    "        print(f'{ls[i], ls[largest] = }')\n",
    "        Max_Heapify(ls, heap_size, largest)\n",
    "    \n",
    "def Build_Max_Heap(ls,heap_size):\n",
    "    for i in range(heap_size//2, -1, -1):\n",
    "        print('Round', i)\n",
    "        Max_Heapify(ls, heap_size, i)\n",
    "        \n",
    "def HeapSort(ls):\n",
    "    heap_size = len(ls)\n",
    "  \n",
    "    Build_Max_Heap(ls,heap_size)\n",
    "\n",
    "    for i in range(heap_size-1, 0, -1):\n",
    "        ls[i], ls[0] = ls[0], ls[i] \n",
    "        Max_Heapify(ls, i, 0)"
   ]
  },
  {
   "cell_type": "code",
   "execution_count": 3,
   "metadata": {},
   "outputs": [
    {
     "name": "stdout",
     "output_type": "stream",
     "text": [
      "Round 3\n",
      "largest,l,r = (3, 7, 8)\n",
      "Round 2\n",
      "largest,l,r = (2, 5, 6)\n",
      "Round 1\n",
      "largest,l,r = (4, 3, 4)\n",
      "ls[i], ls[largest] = (7, 3)\n",
      "largest,l,r = (4, 9, 10)\n",
      "Round 0\n",
      "largest,l,r = (2, 1, 2)\n",
      "ls[i], ls[largest] = (9, 6)\n",
      "largest,l,r = (5, 5, 6)\n",
      "ls[i], ls[largest] = (8, 6)\n",
      "largest,l,r = (5, 11, 12)\n",
      "largest,l,r = (2, 1, 2)\n",
      "ls[i], ls[largest] = (8, 6)\n",
      "largest,l,r = (2, 5, 6)\n",
      "largest,l,r = (1, 1, 2)\n",
      "ls[i], ls[largest] = (7, 3)\n",
      "largest,l,r = (3, 3, 4)\n",
      "ls[i], ls[largest] = (5, 3)\n",
      "largest,l,r = (3, 7, 8)\n",
      "largest,l,r = (2, 1, 2)\n",
      "ls[i], ls[largest] = (6, 3)\n",
      "largest,l,r = (2, 5, 6)\n",
      "largest,l,r = (1, 1, 2)\n",
      "ls[i], ls[largest] = (5, 3)\n",
      "largest,l,r = (1, 3, 4)\n",
      "largest,l,r = (0, 1, 2)\n",
      "Heapsort array : [3, 5, 6, 7, 8, 9]\n"
     ]
    }
   ],
   "source": [
    "import random\n",
    "# list_prep = [random.randint(0,100) for j in range(8)]\n",
    "list_prep = [6,3,9,5,7,8]\n",
    "HeapSort(list_prep)\n",
    "print(\"Heapsort array :\",list_prep)"
   ]
  },
  {
   "cell_type": "code",
   "execution_count": null,
   "metadata": {},
   "outputs": [],
   "source": []
  }
 ],
 "metadata": {
  "kernelspec": {
   "display_name": "Python 3.10.4 64-bit",
   "language": "python",
   "name": "python3"
  },
  "language_info": {
   "codemirror_mode": {
    "name": "ipython",
    "version": 3
   },
   "file_extension": ".py",
   "mimetype": "text/x-python",
   "name": "python",
   "nbconvert_exporter": "python",
   "pygments_lexer": "ipython3",
   "version": "3.10.4"
  },
  "orig_nbformat": 4,
  "vscode": {
   "interpreter": {
    "hash": "c81d839d3c4227cd770621df97fe8191838af02e7eef185a922d8250cb33d344"
   }
  }
 },
 "nbformat": 4,
 "nbformat_minor": 2
}