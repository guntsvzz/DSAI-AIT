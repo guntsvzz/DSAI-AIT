{
 "cells": [
  {
   "cell_type": "markdown",
   "id": "eb6911b5-9e18-4ac0-869a-ad5277a0422e",
   "metadata": {},
   "source": [
    "# Solution to ML Lecture 02 Exercise\n",
    "\n",
    "In Lecture 02, \n",
    "we were asked to use the normal equations to find the optimal linear regression\n",
    "parameters $\\theta_0$ and $\\theta_1$ for a dataset consisting of height and weight\n",
    "measurements for a group of people attending that day's lecture.\n",
    "\n",
    "Let's do it in Python using the NumPy library.\n",
    "\n",
    "The variable X contains the weight measurements we obtained:"
   ]
  },
  {
   "cell_type": "code",
   "execution_count": 1,
   "id": "88a10afa-f5cc-428f-b4c4-0a79db685e07",
   "metadata": {},
   "outputs": [],
   "source": [
    "import numpy as np\n",
    "\n",
    "X = np.array([180, 162, 183, 174, 160, 163, 180, 165, 175, 170, 170, 169,\n",
    "              168, 175, 169, 171, 155, 158, 175, 165]).reshape((-1,1))"
   ]
  },
  {
   "cell_type": "markdown",
   "id": "dc594458-a052-47b8-9c23-5589adf7041b",
   "metadata": {},
   "source": [
    "Next we have the target values (weights) for the same individuals:"
   ]
  },
  {
   "cell_type": "code",
   "execution_count": 2,
   "id": "c4d88eb9-e5bf-4f7a-afcc-6146dd133270",
   "metadata": {},
   "outputs": [],
   "source": [
    "y = np.array([86, 55, 86.5, 70, 62, 54, 60, 72, 93, 89, 60, 82, 59, 75,\n",
    "              56, 89, 45, 60, 60, 72]).reshape((-1,1))"
   ]
  },
  {
   "cell_type": "markdown",
   "id": "7cdc4ae5-4208-4a2b-a9b5-157fdc265563",
   "metadata": {},
   "source": [
    "The reshape operations form each array into a column vector.\n",
    "\n",
    "We have to insert a column of 1's corresponding to the intercept term ($\\theta_0$):"
   ]
  },
  {
   "cell_type": "code",
   "execution_count": 3,
   "id": "03bc1539-7e3c-4de5-a99f-a21dd2b091fd",
   "metadata": {},
   "outputs": [
    {
     "name": "stdout",
     "output_type": "stream",
     "text": [
      "X after adding dummy 1 variable: [[  1 180]\n",
      " [  1 162]\n",
      " [  1 183]\n",
      " [  1 174]\n",
      " [  1 160]\n",
      " [  1 163]\n",
      " [  1 180]\n",
      " [  1 165]\n",
      " [  1 175]\n",
      " [  1 170]\n",
      " [  1 170]\n",
      " [  1 169]\n",
      " [  1 168]\n",
      " [  1 175]\n",
      " [  1 169]\n",
      " [  1 171]\n",
      " [  1 155]\n",
      " [  1 158]\n",
      " [  1 175]\n",
      " [  1 165]]\n"
     ]
    }
   ],
   "source": [
    "X = np.insert(X, 0, 1, axis=1)\n",
    "print('X after adding dummy 1 variable:', X)"
   ]
  },
  {
   "cell_type": "markdown",
   "id": "972a5c12-6fd3-4ca6-962f-e86baac23597",
   "metadata": {},
   "source": [
    "Once we have X and y repersented appropriately, we can use the normal equations to find the optimal values of $\\theta_0$ and $\\theta_1$ for the hypothesis $h_\\theta(x) = \\theta_0 + \\theta_1 x$:"
   ]
  },
  {
   "cell_type": "code",
   "execution_count": 5,
   "id": "02339da3-2fee-4bdd-959b-21ccad078cec",
   "metadata": {},
   "outputs": [
    {
     "name": "stdout",
     "output_type": "stream",
     "text": [
      "[[-114.75365641]\n",
      " [   1.08667645]]\n"
     ]
    }
   ],
   "source": [
    "from numpy.linalg import inv\n",
    "\n",
    "theta = inv(X.T @ X) @ X.T @ y\n",
    "print(theta)"
   ]
  },
  {
   "cell_type": "markdown",
   "id": "929fb281-e4f9-41db-96f1-d86f88319f61",
   "metadata": {},
   "source": [
    "This says that given a person's height $x$, we predict their weight as\n",
    "$$\\hat{y} = \\theta_0 + \\theta_1 x$$\n",
    "$$\\hat{y} = -114.75365641 + 1.08667645 x$$"
   ]
  },
  {
   "cell_type": "markdown",
   "id": "cca777c6-2957-4b24-9f57-d109686f71a8",
   "metadata": {},
   "source": [
    "We can plot the line using two values for $x$:"
   ]
  },
  {
   "cell_type": "code",
   "execution_count": 26,
   "id": "2e68becf-b29d-4d5d-9b82-a5d05bcf88a3",
   "metadata": {},
   "outputs": [
    {
     "data": {
      "text/plain": [
       "Text(0.5, 1.0, 'Height and weight of AIT DS&AI ML students')"
      ]
     },
     "execution_count": 26,
     "metadata": {},
     "output_type": "execute_result"
    },
    {
     "data": {
      "image/png": "[encoded data removed]",
      "text/plain": [
       "<Figure size 432x288 with 1 Axes>"
      ]
     },
     "metadata": {
      "needs_background": "light"
     },
     "output_type": "display_data"
    }
   ],
   "source": [
    "import matplotlib.pyplot as plt\n",
    "\n",
    "x1 = 150\n",
    "y1 = theta[0] + theta[1] * x1\n",
    "x2 = 190\n",
    "y2 = theta[0] + theta[1] * x2\n",
    "\n",
    "plt.plot([x1, x2], [y1, y2], 'r-')\n",
    "plt.plot(X[:,1], y[:,0], 'bo')\n",
    "\n",
    "plt.xlabel('Height')\n",
    "plt.ylabel('Weight')\n",
    "plt.title('Height and weight of AIT DS&AI ML students')\n"
   ]
  },
  {
   "cell_type": "code",
   "execution_count": null,
   "id": "e8a7c2ab-8a0c-44c4-926f-3946093392d5",
   "metadata": {},
   "outputs": [],
   "source": []
  }
 ],
 "metadata": {
  "kernelspec": {
   "display_name": "Python 3 (ipykernel)",
   "language": "python",
   "name": "python3"
  },
  "language_info": {
   "codemirror_mode": {
    "name": "ipython",
    "version": 3
   },
   "file_extension": ".py",
   "mimetype": "text/x-python",
   "name": "python",
   "nbconvert_exporter": "python",
   "pygments_lexer": "ipython3",
   "version": "3.9.7"
  }
 },
 "nbformat": 4,
 "nbformat_minor": 5
}
