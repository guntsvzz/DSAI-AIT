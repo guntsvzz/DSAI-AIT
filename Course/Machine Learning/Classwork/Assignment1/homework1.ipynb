{
 "cells": [
  {
   "cell_type": "code",
   "execution_count": 16,
   "metadata": {},
   "outputs": [],
   "source": [
    "import numpy as np\n",
    "import pandas as pd\n",
    "import matplotlib.pyplot as plt\n",
    "from sklearn.linear_model import LinearRegression\n",
    "df = pd.read_csv('homework1_dataset.csv')"
   ]
  },
  {
   "cell_type": "code",
   "execution_count": 18,
   "metadata": {},
   "outputs": [
    {
     "name": "stdout",
     "output_type": "stream",
     "text": [
      "See the data sample:\n",
      "\n",
      "   Height  Weight\n",
      "0     180    80.0\n",
      "1     162    55.0\n",
      "2     183    86.5\n",
      "3     174    70.0\n",
      "4     160    63.0\n",
      "See the summary of features:\n",
      "\n",
      "<class 'pandas.core.frame.DataFrame'>\n",
      "RangeIndex: 20 entries, 0 to 19\n",
      "Data columns (total 2 columns):\n",
      " #   Column  Non-Null Count  Dtype  \n",
      "---  ------  --------------  -----  \n",
      " 0   Height  20 non-null     int64  \n",
      " 1   Weight  20 non-null     float64\n",
      "dtypes: float64(1), int64(1)\n",
      "memory usage: 448.0 bytes\n",
      "None\n",
      "Calculate basic stat of each feature:\n",
      "\n",
      "           Height    Weight\n",
      "count   20.000000  20.00000\n",
      "mean   169.350000  69.02500\n",
      "std      7.576105  13.86635\n",
      "min    155.000000  45.00000\n",
      "25%    164.500000  59.75000\n",
      "50%    169.500000  66.50000\n",
      "75%    175.000000  80.50000\n",
      "max    183.000000  93.00000\n"
     ]
    }
   ],
   "source": [
    "# Explore the data\n",
    "print(\"See the data sample:\\n\")\n",
    "print(df.head())\n",
    "print(\"See the summary of features:\\n\")\n",
    "print(df.info())\n",
    "print(\"Calculate basic stat of each feature:\\n\")\n",
    "print(df.describe())"
   ]
  },
  {
   "cell_type": "code",
   "execution_count": 20,
   "metadata": {},
   "outputs": [
    {
     "data": {
      "text/plain": [
       "Text(0, 0.5, 'Weight')"
      ]
     },
     "execution_count": 20,
     "metadata": {},
     "output_type": "execute_result"
    },
    {
     "data": {
      "image/png": "[encoded data removed]",
      "text/plain": [
       "<Figure size 864x648 with 1 Axes>"
      ]
     },
     "metadata": {
      "needs_background": "light"
     },
     "output_type": "display_data"
    }
   ],
   "source": [
    "# Visualise the data\n",
    "plt.figure(figsize=(12,9))\n",
    "plt.scatter(df[\"Height\"], df[\"Weight\"])\n",
    "plt.xlabel(\"Height\")\n",
    "plt.ylabel(\"Weight\")"
   ]
  },
  {
   "cell_type": "code",
   "execution_count": 21,
   "metadata": {},
   "outputs": [
    {
     "name": "stdout",
     "output_type": "stream",
     "text": [
      "X_train shape = (20, 1)\n",
      "y_train shape = (20, 1)\n",
      "X_test shape = (20, 1)\n",
      "y_test shape = (20, 1)\n"
     ]
    }
   ],
   "source": [
    "# Format X_train and y_train into 2D vector\n",
    "X_train = np.array(df[\"Height\"]).reshape(-1,1)\n",
    "y_train = np.array(df[\"Weight\"]).reshape(-1,1)\n",
    "X_test = np.array(df[\"Height\"]).reshape(-1,1)\n",
    "y_test = np.array(df[\"Weight\"]).reshape(-1,1)\n",
    "\n",
    "print(\"X_train shape = \" + str(X_train.shape))\n",
    "print(\"y_train shape = \" + str(y_train.shape))\n",
    "print(\"X_test shape = \" + str(X_test.shape))\n",
    "print(\"y_test shape = \" + str(y_test.shape))"
   ]
  },
  {
   "cell_type": "code",
   "execution_count": 27,
   "metadata": {},
   "outputs": [
    {
     "name": "stdout",
     "output_type": "stream",
     "text": [
      "theta1 coefficient is [[1.0195085]]\n",
      "theta0 intercept is [-103.6287653]\n"
     ]
    }
   ],
   "source": [
    "# Train the data\n",
    "model = LinearRegression()\n",
    "model.fit(X_train, y_train)\n",
    "print(\"Theta1 coefficient is\", model.coef_)\n",
    "print(\"Theta0 intercept is\", model.intercept_)"
   ]
  },
  {
   "cell_type": "code",
   "execution_count": null,
   "metadata": {},
   "outputs": [],
   "source": []
  }
 ],
 "metadata": {
  "kernelspec": {
   "display_name": "Python 3.10.4 64-bit",
   "language": "python",
   "name": "python3"
  },
  "language_info": {
   "codemirror_mode": {
    "name": "ipython",
    "version": 3
   },
   "file_extension": ".py",
   "mimetype": "text/x-python",
   "name": "python",
   "nbconvert_exporter": "python",
   "pygments_lexer": "ipython3",
   "version": "3.10.4"
  },
  "orig_nbformat": 4,
  "vscode": {
   "interpreter": {
    "hash": "c81d839d3c4227cd770621df97fe8191838af02e7eef185a922d8250cb33d344"
   }
  }
 },
 "nbformat": 4,
 "nbformat_minor": 2
}
