{
 "cells": [
  {
   "cell_type": "markdown",
   "metadata": {},
   "source": [
    "# Machine Learning Final Exam, Jan 2018 Semester\n",
    "\n",
    "In this exam, you will demonstrate your understanding of the material from the lectures, tutorials, and problem sets.\n",
    "\n",
    "For each question, insert your answer directly in this sheet. When complete, export the sheet as a PDF and upload to Gradescope.\n",
    "\n",
    "Note that you have **2.5 hours** to do the exam. Also note that there are some short answer questions that you may be able to answer faster than the coding questions. You might consider answering those questions first to get as much credit as possible!\n",
    "\n",
    "## Question 1 (20 points)\n",
    "\n",
    "**Suppose you are faced with a binary classification problem based on 4 discrete features. There are two classes $C \\in \\{ c_1, c_2 \\}$, and each of the four features have two possible values, i.e., $X_1 \\in \\{ x_{11}, x_{12} \\}$, $X_2 \\in \\{ x_{21}, x_{22} \\}$, and so on. Based on a training set, you calculate the following conditional probability estimates:**\n",
    "\n",
    "<table>\n",
    "    <tr><th>Class ($C$)</th><th>Feature 1 ($X_1$)</th><th>Conditional probability $P(C \\mid X_1)$</th></tr>        \n",
    "    <tr><td>$c_1$</td><td>$x_{11}$</td><td>0.55</td></tr>\n",
    "    <tr><td>$c_2$</td><td>$x_{11}$</td><td>0.45</td></tr>\n",
    "    <tr><td>$c_1$</td><td>$x_{12}$</td><td>0.48</td></tr>\n",
    "    <tr><td>$c_2$</td><td>$x_{12}$</td><td>0.52</td></tr>\n",
    "</table>\n",
    "\n",
    "<table>\n",
    "    <tr><th>Class ($C$)</th><th>Feature 2 ($X_2$)</th><th>Conditional probability $P(C \\mid X_2)$</th></tr>        \n",
    "    <tr><td>$c_1$</td><td>$x_{21}$</td><td>0.49</td></tr>\n",
    "    <tr><td>$c_2$</td><td>$x_{21}$</td><td>0.51</td></tr>\n",
    "    <tr><td>$c_1$</td><td>$x_{22}$</td><td>0.60</td></tr>\n",
    "    <tr><td>$c_2$</td><td>$x_{22}$</td><td>0.40</td></tr>\n",
    "</table>\n",
    "\n",
    "<table>\n",
    "    <tr><th>Class ($C$)</th><th>Feature 3 ($X_3$)</th><th>Conditional probability $P(C \\mid X_3)$</th></tr>        \n",
    "    <tr><td>$c_1$</td><td>$x_{31}$</td><td>0.35</td></tr>\n",
    "    <tr><td>$c_2$</td><td>$x_{31}$</td><td>0.65</td></tr>\n",
    "    <tr><td>$c_1$</td><td>$x_{32}$</td><td>0.53</td></tr>\n",
    "    <tr><td>$c_2$</td><td>$x_{32}$</td><td>0.47</td></tr>\n",
    "</table>\n",
    "\n",
    "<table>\n",
    "    <tr><th>Class ($C$)</th><th>Feature 4 ($X_4$)</th><th>Conditional probability $P(C \\mid X_4)$</th></tr>        \n",
    "    <tr><td>$c_1$</td><td>$x_{41}$</td><td>0.56</td></tr>\n",
    "    <tr><td>$c_2$</td><td>$x_{41}$</td><td>0.44</td></tr>\n",
    "    <tr><td>$c_1$</td><td>$x_{42}$</td><td>0.52</td></tr>\n",
    "    <tr><td>$c_2$</td><td>$x_{42}$</td><td>0.48</td></tr>\n",
    "</table>\n",
    "\n",
    "**Based on these parameters and the naive Bayes model, if you observed a new instance $(x_{11}, x_{22}, x_{32}, x_{41})$, what are the posterior probabilities of $C=c_1$ and $C=c_2$?**"
   ]
  },
  {
   "cell_type": "code",
   "execution_count": null,
   "metadata": {},
   "outputs": [],
   "source": []
  },
  {
   "cell_type": "markdown",
   "metadata": {},
   "source": [
    "## Question 2 (10 points)\n",
    "\n",
    "**In Question 1, you already have the parameters necessary for the naive Bayes estimate of $P(C=c_1 \\mid X_1=x_{11}, X_2=x_{22}, X_3=x_{32}, X_4=x_{41})$. Now suppose you believed that the naive Bayes assumption does not hold for your problem. What should you do? Be specific about how you would change the model and what parameters you would have to calculate from your training set.**\n",
    "\n",
    "(Put your answer here)"
   ]
  },
  {
   "cell_type": "markdown",
   "metadata": {},
   "source": [
    "## Question 3 (20 points)\n",
    "\n",
    "**Recall your favorite data below from your midterm. Split the data into training and validation sets, with the first 80% of the data for each class in the training set and the remaining 20% in the validation set. Make two scatterplots, one for the training set and one for the validation set, showing the two classes in different colors.**"
   ]
  },
  {
   "cell_type": "code",
   "execution_count": null,
   "metadata": {},
   "outputs": [],
   "source": [
    "import numpy as np\n",
    "\n",
    "X1 = np.matrix([[70.4611978, 6.77435737], [26.63557899, 6.18519845], [21.21435842, 5.98482521],\n",
    "      [49.46520438, 6.46685477], [36.31867059, 6.26767026], [65.40450545, 6.69973324],\n",
    "      [47.63604002, 6.52991946], [51.12650291, 6.55278139], [16.19718639, 5.8701804],\n",
    "      [41.09647679, 6.39265021], [48.52977517, 6.54874167], [33.2783272, 6.24645442],\n",
    "      [54.2416494, 6.68772955], [63.87981696, 6.64426231], [49.74926534, 6.54019839],\n",
    "      [45.50085081, 6.40530107], [31.80572899, 6.33114329], [25.88027769, 6.00191626],\n",
    "      [25.34847504, 6.07445523], [59.5509754, 6.67139653], [50.69674158, 6.51872281],\n",
    "      [54.11728722, 6.58716206], [58.22172538, 6.58217774], [38.82480513, 6.43235051],\n",
    "      [54.62361945, 6.62107478], [42.24368621, 6.43349846], [44.91058546, 6.40702283],\n",
    "      [62.72139429, 6.81082283], [77.55458346, 6.86015373], [49.07536097, 6.58151526],\n",
    "      [51.48292856, 6.62113585], [57.37090719, 6.65400127], [48.48641553, 6.54340401],\n",
    "      [21.24715108, 6.07259954], [37.64146721, 6.46820336], [12.35289436, 5.4695928],\n",
    "      [37.65875476, 6.18370352], [49.85008383, 6.60947486], [66.13648137, 6.79896653],\n",
    "      [27.29008652, 6.15868866], [82.89679414, 6.86219115], [60.28610161, 6.77246816],\n",
    "      [45.99452861, 6.40409124], [77.29411953, 6.88564085], [49.24729059, 6.39129918],\n",
    "      [52.19238458, 6.52793378], [55.55244532, 6.5922497], [38.28876143, 6.35421521],\n",
    "      [41.28903755, 6.33314064], [73.83202683, 6.85274489], [62.84426032, 6.63317405],\n",
    "      [27.66679337, 6.0765891], [64.90528747, 6.7277243], [62.75897971, 6.74867287],\n",
    "      [57.47911597, 6.56964198], [32.54225548, 6.14425762], [44.7087849, 6.55684065],\n",
    "      [30.22868535, 6.17664755], [66.43902044, 6.66354862], [57.50647725, 6.63295779],\n",
    "      [56.23274763, 6.65483072], [71.62377075, 6.8249259], [37.21929751, 6.45896618],\n",
    "      [30.33685416, 6.29108668], [53.72586113, 6.55558498], [58.92009067, 6.58914418],\n",
    "      [60.36917635, 6.73713645], [46.46087002, 6.61086064], [54.97919255, 6.48830287],\n",
    "      [60.08999745, 6.63018137], [29.23503961, 6.06804535], [45.18879885, 6.44043758],\n",
    "      [67.91432786, 6.8105173], [46.5800853, 6.50060039], [56.70569052, 6.65565127],\n",
    "      [40.68951533, 6.41478636], [48.67956085, 6.48811567], [41.59182624, 6.38699182],\n",
    "      [39.95740486, 6.33546435], [44.94880975, 6.46206514], [64.78053936, 6.74188874],\n",
    "      [57.93695294, 6.73064008], [55.49704023, 6.64231398], [39.57510111, 6.29139288],\n",
    "      [33.95225046, 6.33743394], [77.23246962, 6.79966126], [56.49647686, 6.66597049],\n",
    "      [72.05710124, 6.83097927], [51.36582347, 6.63984591], [36.23540347, 6.26819074],\n",
    "      [51.33172918, 6.55170989], [65.9107458, 6.7412432], [45.92145099, 6.55785946],\n",
    "      [48.73393011, 6.5700271], [43.19824007, 6.5765512], [32.51187411, 6.17277242],\n",
    "      [66.52125325, 6.7549236], [71.77667409, 6.77447514], [27.54687135, 6.07712865],\n",
    "      [70.29209858, 6.82371897]])\n",
    "\n",
    "X2 = np.matrix([[103.48734726, 7.06665128], [45.95181945, 6.92463529], [62.51311459, 7.29929464],\n",
    "      [34.75905558, 6.82590246], [61.42150233, 7.14207452], [20.92995779, 6.18926827],\n",
    "      [48.88757058, 7.10046058], [47.00567217, 6.87392491], [66.03960746, 7.21300884],\n",
    "      [41.00765303, 6.88260887], [53.39454458, 7.12002753], [59.05801699, 7.07708207],\n",
    "      [25.84457253, 6.52661965], [20.64948341, 6.4810278], [63.28046094, 7.18001038],\n",
    "      [66.29002442, 7.24725685], [49.26589866, 7.02704851], [59.53968788, 7.12513223],\n",
    "      [48.46665858, 6.97610637], [34.51909729, 6.85422354], [61.16606292, 7.1611797],\n",
    "      [65.62870788, 7.25370585], [57.43965533, 7.12551572], [51.4256259, 7.12109028],\n",
    "      [78.45648704, 7.38957843], [70.23973965, 7.28014297], [61.12178687, 7.14687961],\n",
    "      [75.55803406, 7.2645782], [44.9666415, 7.00364604], [43.94509452, 6.94630876],\n",
    "      [44.98195858, 6.94771427], [44.07909292, 6.84250384], [33.27404217, 6.76884994],\n",
    "      [66.83707899, 7.26223859], [34.99475166, 6.75074986], [59.51675598, 7.18130986],\n",
    "      [37.03437849, 6.87742508], [62.14584595, 7.21712651], [51.37422401, 7.1478843],\n",
    "      [25.75396602, 6.83643475], [66.18768985, 7.28574587], [50.46927715, 7.0901681],\n",
    "      [66.08232926, 7.28108743], [16.81537222, 6.44176855], [38.49515228, 6.85670726],\n",
    "      [44.87889506, 6.89762361], [51.72803212, 7.15768698], [26.41099035, 6.69220322],\n",
    "      [67.40763472, 7.25475514], [60.26711966, 7.13606818], [41.26604269, 6.82072533],\n",
    "      [36.25102952, 6.81241658], [90.34415059, 7.10789215], [49.9112951, 7.04364433],\n",
    "      [37.60574769, 6.75709643], [47.69027385, 7.15224795], [70.7126762, 7.37139046],\n",
    "      [31.38034068, 6.57171353], [45.43488612, 6.97156664], [29.83557583, 6.77016354],\n",
    "      [53.58242995, 7.14264146], [40.28103375, 6.88596508], [69.76687507, 7.29225697],\n",
    "      [40.72428579, 6.90370374], [38.35168955, 6.72388286], [88.77752009, 7.30440221],\n",
    "      [52.71910503, 7.10525341], [78.13634099, 7.43246583], [55.28469075, 7.15527197],\n",
    "      [26.12154, 6.77911307], [57.9174037, 7.16031425], [59.96888213, 7.04359248],\n",
    "      [28.979886, 6.69711096], [54.10548377, 7.08093707], [46.24087958, 7.03464403],\n",
    "      [46.02151582, 6.98139406], [32.74868227, 6.69473258], [45.70424283, 6.94792668],\n",
    "      [25.85436229, 6.58336042], [77.98270261, 7.41044107], [54.65190235, 7.11080335],\n",
    "      [60.44627103, 7.07123203], [68.58296094, 7.33179762], [42.80337975, 6.87396778],\n",
    "      [31.35673666, 6.66603545], [19.04585207, 6.62207371], [48.79436125, 7.01009406],\n",
    "      [45.44124128, 7.08039785], [41.97937064, 6.854478], [53.39688062, 7.02525752],\n",
    "      [66.0637938, 7.258192], [55.09943464, 7.1307132], [65.22295533, 7.28208667],\n",
    "      [48.25983281, 6.93393588], [19.00711267, 6.33112045], [39.14998323, 6.99193013],\n",
    "      [75.51283715, 7.34232193], [20.07554717, 6.65314899], [40.64087416, 6.81927983],\n",
    "      [68.19628122, 7.3153336]])\n",
    "\n",
    "X = np.concatenate([X1, X2],0);\n",
    "y = np.concatenate([-np.matrix(np.ones([100,1])),np.matrix(np.ones([100,1]))]);"
   ]
  },
  {
   "cell_type": "markdown",
   "metadata": {},
   "source": [
    "## Question 4 (20 points)\n",
    "\n",
    "**Train a neural network WITH NO HIDDEN LAYER on the training set from Question 3. Your model should have just a single logistic sigmoid output unit connected directly to the inputs. Do the following.**\n",
    "\n",
    "1. **Report training loss for each iteration as the model is trained with a mini-batch size of 1 and reasonable learning rate.**\n",
    "\n",
    "2. **Describe the results. Does the model overfit the data? Does it underfit the data? Or would you say it fits the data well?**\n",
    "\n",
    "3. **Explain the relationship between this model and the logistic regression model we studied early in the semester.**\n",
    "\n",
    "**Place your code and answers in cells below. You may adapt the training code we developed in class, or use Tensor Flow, or use any tool you like.**"
   ]
  },
  {
   "cell_type": "markdown",
   "metadata": {},
   "source": [
    "## Question 5 (20 points)\n",
    "\n",
    "**Now train a more powerful neural network with TWO OR MORE HIDDEN LAYERS on the training set from Question 3. You may use ReLU, tanh, or logistic sigmoid activation functions, as you choose. The model should be powerful enough that evidence of overfitting (increasing validation set loss) is very clear. Do the following.**\n",
    "\n",
    "1. **Briefly describe the model and explain why it overfits. Relate your answer to the learning theory that we studied near the end of the semester.**\n",
    "\n",
    "2. **Describe the results. Show training and validation loss for each iteration as the model is trained. You may use any mini-batch strategy or other hyperparameters as necessary.**\n",
    "\n",
    "3. **Recall that in the midterm exam, we developed a hand-crafted feature mapping $\\mathbf{\\phi}(\\mathbf{x})$ for a SVM that made the data linearly separable. Briefly explain the similarities and differences between the neural network you developed for this question and that SVM.**"
   ]
  },
  {
   "cell_type": "markdown",
   "metadata": {},
   "source": [
    "## Question 6 (10 points)\n",
    "\n",
    "**Recall the example MDP from class that characterized a robot trying to escape from a maze. The process had a small discrete set of states, a small discrete set of actions, deterministic transitions, and fully observable state. These factors made it easy to learn an optimal policy using value iteration or policy iteration.**\n",
    "\n",
    "**Now consider developing a MDP and policy optimization method for playing the game of checkers (draughts, see https://en.wikipedia.org/wiki/Draughts). The state space and action space are clearly discrete, and the state is fully observable, but the transitions are non-deterministic, since the agent's opponent will make unpredictable moves in response to each move the agent makes.**\n",
    "\n",
    "**Answer the following.**\n",
    "\n",
    "1. **What would be a good reward function?**\n",
    "2. **Can we use value iteration as described in class directly (think, for example, whether the value function data will fit into the available RAM on your laptop)?**\n",
    "3. **How could we use a second instance of the learning agent to help us learn $P_{sa}$, i.e., the probability distribution over new states when we take action $a$ in state $s$?**"
   ]
  },
  {
   "cell_type": "code",
   "execution_count": null,
   "metadata": {},
   "outputs": [],
   "source": []
  }
 ],
 "metadata": {
  "kernelspec": {
   "display_name": "Python 3.10.4 64-bit",
   "language": "python",
   "name": "python3"
  },
  "language_info": {
   "codemirror_mode": {
    "name": "ipython",
    "version": 3
   },
   "file_extension": ".py",
   "mimetype": "text/x-python",
   "name": "python",
   "nbconvert_exporter": "python",
   "pygments_lexer": "ipython3",
   "version": "3.10.4"
  },
  "vscode": {
   "interpreter": {
    "hash": "c81d839d3c4227cd770621df97fe8191838af02e7eef185a922d8250cb33d344"
   }
  }
 },
 "nbformat": 4,
 "nbformat_minor": 2
}
