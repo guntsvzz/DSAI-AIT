{
 "cells": [
  {
   "cell_type": "markdown",
   "metadata": {},
   "source": [
    "Before you turn this problem in, make sure everything runs as expected. First, **restart the kernel** (in the menubar, select Kernel$\\rightarrow$Restart) and then **run all cells** (in the menubar, select Cell$\\rightarrow$Run All).\n",
    "\n",
    "Make sure you fill in any place that says `YOUR CODE HERE` or \"YOUR ANSWER HERE\", as well as your name and collaborators below:"
   ]
  },
  {
   "cell_type": "code",
   "execution_count": null,
   "metadata": {},
   "outputs": [],
   "source": [
    "NAME = \"\"\n",
    "ID = \"\""
   ]
  },
  {
   "cell_type": "markdown",
   "metadata": {},
   "source": [
    "---"
   ]
  },
  {
   "cell_type": "markdown",
   "metadata": {},
   "source": [
    "### SVM supplementary example"
   ]
  },
  {
   "cell_type": "markdown",
   "metadata": {},
   "source": [
    "In this example we will implement SVM classification using linear and Gaussian kernel.\n",
    "\n",
    "This example has been adapted from <a herf=\"https://pythonprogramming.net/soft-margin-kernel-cvxopt-svm-machine-learning-tutorial/\">pythonprogramming.net</a>"
   ]
  },
  {
   "cell_type": "code",
   "execution_count": 1,
   "metadata": {},
   "outputs": [],
   "source": [
    "import numpy as np\n",
    "from numpy import linalg\n",
    "import cvxopt\n",
    "import cvxopt.solvers\n",
    "import pylab as pl"
   ]
  },
  {
   "cell_type": "markdown",
   "metadata": {},
   "source": [
    "Define linear, polynomial and Gaussian kernel."
   ]
  },
  {
   "cell_type": "code",
   "execution_count": 2,
   "metadata": {},
   "outputs": [],
   "source": [
    "def linear_kernel(x1, x2):\n",
    "    return np.dot(x1, x2)\n",
    "\n",
    "def polynomial_kernel(x, y, p=3):\n",
    "    return (1 + np.dot(x, y)) ** p\n",
    "\n",
    "def gaussian_kernel(x, y, sigma=5.0):\n",
    "    return np.exp(-linalg.norm(x-y)**2 / (2 * (sigma ** 2)))"
   ]
  },
  {
   "cell_type": "markdown",
   "metadata": {},
   "source": [
    "Define **fit** function to implement cvxopt using linear, polynomial and Gaussian kernel. \n",
    "\n",
    "Here the C hyperparameter controls the level of misclassification in SVM optimization. So the C hypermeter which is set before the training model and used to control error, a very small value of C will cause the optimizer to look for a larger-margin (soft margin) separating hyperplane, even if that hyperplane misclassifies more datapairs.\n",
    "\n",
    "Here **a** are the Lagrange multipliers and **sv** are the support vectors.\n"
   ]
  },
  {
   "cell_type": "code",
   "execution_count": 3,
   "metadata": {},
   "outputs": [],
   "source": [
    "\n",
    "def fit(X, y, kernel, C):\n",
    "    n_samples, n_features = X.shape\n",
    "\n",
    "    # Gram matrix\n",
    "    # initialize kernel matrix    \n",
    "    K = np.zeros((n_samples, n_samples))\n",
    "    # Kernel matrix\n",
    "    \n",
    "    for i in range(n_samples):\n",
    "        for j in range(n_samples):\n",
    "            if kernel == 'linear_kernel':\n",
    "                K[i,j] = linear_kernel(X[i], X[j])\n",
    "            elif kernel == 'polynomial_kernel':\n",
    "                K[i,j] = polynomial_kernel(X[i], X[j])\n",
    "            else:\n",
    "                K[i,j] = gaussian_kernel(X[i], X[j])\n",
    "            \n",
    "     \n",
    "    P = cvxopt.matrix(np.outer(y,y) * K)\n",
    "    q = cvxopt.matrix(np.ones(n_samples) * -1)\n",
    "    A = cvxopt.matrix(y, (1,n_samples))\n",
    "    b = cvxopt.matrix(0.0)\n",
    "\n",
    "    if C is None:\n",
    "        G = cvxopt.matrix(np.diag(np.ones(n_samples) * -1))\n",
    "        h = cvxopt.matrix(np.zeros(n_samples))\n",
    "    else:\n",
    "        tmp1 = np.diag(np.ones(n_samples) * -1)\n",
    "        tmp2 = np.identity(n_samples)\n",
    "        G = cvxopt.matrix(np.vstack((tmp1, tmp2)))\n",
    "        tmp1 = np.zeros(n_samples)\n",
    "        tmp2 = np.ones(n_samples) * C\n",
    "        h = cvxopt.matrix(np.hstack((tmp1, tmp2)))\n",
    "\n",
    "    # solve QP problem\n",
    "    solution = cvxopt.solvers.qp(P, q, G, h, A, b)\n",
    "\n",
    "    # Lagrange multipliers\n",
    "    a = np.ravel(solution['x'])\n",
    "\n",
    "    # Support vectors have non zero lagrange multipliers\n",
    "    sv_idx = a > 1e-5\n",
    "    ind = np.arange(len(a))[sv_idx]\n",
    "    a = a[sv_idx]    \n",
    "    sv = X[sv_idx]\n",
    "    sv_y = y[sv_idx]\n",
    "    print(\"%d support vectors out of %d points\" % (len(a), n_samples))\n",
    "\n",
    "    # Intercept\n",
    "    b = 0\n",
    "    for n in range(len(a)):\n",
    "        b += sv_y[n]\n",
    "        b -= np.sum(a * sv_y * K[ind[n],sv_idx])\n",
    "    b /= len(a)\n",
    "\n",
    "    # Weight vector\n",
    "    if kernel == 'linear_kernel':\n",
    "        w = np.zeros(n_features)\n",
    "        for n in range(len(a)):\n",
    "            w += a[n] * sv_y[n] * sv[n]\n",
    "    else:\n",
    "        w = None\n",
    "    return sv, sv_y, a, w, b\n"
   ]
  },
  {
   "cell_type": "markdown",
   "metadata": {},
   "source": [
    " Define **project** and **predict** function."
   ]
  },
  {
   "cell_type": "code",
   "execution_count": 4,
   "metadata": {},
   "outputs": [],
   "source": [
    "def project(X, kernel,sv, sv_y, a, w, b):\n",
    "    if w is not None:\n",
    "        return np.dot(X, w) + b\n",
    "    else:\n",
    "        y_predict = np.zeros(len(X))\n",
    "        for i in range(len(X)):\n",
    "            s = 0\n",
    "            for a_val, sv_y_val, sv_val in zip(a, sv_y, sv):\n",
    "                if kernel == 'polynomial_kernel':\n",
    "                    s += a_val * sv_y_val * polynomial_kernel(X[i], sv_val)\n",
    "                else:\n",
    "                    s += a_val * sv_y_val * gaussian_kernel(X[i], sv_val)\n",
    "            y_predict[i] = s\n",
    "        return y_predict + b\n",
    "\n",
    "def predict(X, kernel, sv, sv_y, a, w, b):\n",
    "    return np.sign(project(X, kernel,sv, sv_y, a, w, b))\n"
   ]
  },
  {
   "cell_type": "code",
   "execution_count": 5,
   "metadata": {},
   "outputs": [],
   "source": [
    "def gen_lin_separable_data():\n",
    "    # generate training data in the 2-d case\n",
    "    mean1 = np.array([0, 2])\n",
    "    mean2 = np.array([2, 0])\n",
    "    cov = np.array([[0.8, 0.6], [0.6, 0.8]])\n",
    "    X1 = np.random.multivariate_normal(mean1, cov, 100)\n",
    "    y1 = np.ones(len(X1))\n",
    "    X2 = np.random.multivariate_normal(mean2, cov, 100)\n",
    "    y2 = np.ones(len(X2)) * -1\n",
    "    return X1, y1, X2, y2\n",
    "\n",
    "def gen_non_lin_separable_data():\n",
    "    mean1 = [-1, 2]\n",
    "    mean2 = [1, -1]\n",
    "    mean3 = [4, -4]\n",
    "    mean4 = [-4, 4]\n",
    "    cov = [[1.0,0.8], [0.8, 1.0]]\n",
    "    X1 = np.random.multivariate_normal(mean1, cov, 50)\n",
    "    X1 = np.vstack((X1, np.random.multivariate_normal(mean3, cov, 50)))\n",
    "    y1 = np.ones(len(X1))\n",
    "    X2 = np.random.multivariate_normal(mean2, cov, 50)\n",
    "    X2 = np.vstack((X2, np.random.multivariate_normal(mean4, cov, 50)))\n",
    "    y2 = np.ones(len(X2)) * -1\n",
    "    return X1, y1, X2, y2\n",
    "\n",
    "def gen_lin_separable_overlap_data():\n",
    "    # generate training data in the 2-d case\n",
    "    mean1 = np.array([0, 2])\n",
    "    mean2 = np.array([2, 0])\n",
    "    cov = np.array([[1.5, 1.0], [1.0, 1.5]])\n",
    "    X1 = np.random.multivariate_normal(mean1, cov, 100)\n",
    "    y1 = np.ones(len(X1))\n",
    "    X2 = np.random.multivariate_normal(mean2, cov, 100)\n",
    "    y2 = np.ones(len(X2)) * -1\n",
    "    return X1, y1, X2, y2"
   ]
  },
  {
   "cell_type": "code",
   "execution_count": 6,
   "metadata": {},
   "outputs": [],
   "source": [
    "def split_train(X1, y1, X2, y2):\n",
    "    X1_train = X1[:90]\n",
    "    y1_train = y1[:90]\n",
    "    X2_train = X2[:90]\n",
    "    y2_train = y2[:90]\n",
    "    X_train = np.vstack((X1_train, X2_train))\n",
    "    y_train = np.hstack((y1_train, y2_train))\n",
    "    return X_train, y_train\n",
    "\n",
    "def split_test(X1, y1, X2, y2):\n",
    "    X1_test = X1[90:]\n",
    "    y1_test = y1[90:]\n",
    "    X2_test = X2[90:]\n",
    "    y2_test = y2[90:]\n",
    "    X_test = np.vstack((X1_test, X2_test))\n",
    "    y_test = np.hstack((y1_test, y2_test))\n",
    "    return X_test, y_test"
   ]
  },
  {
   "cell_type": "code",
   "execution_count": 7,
   "metadata": {},
   "outputs": [],
   "source": [
    "def plot_margin(X1_train, X2_train, w, b, sv):\n",
    "    def f(x, w, b, c=0):\n",
    "        # given x, return y such that [x,y] in on the line\n",
    "        # w.x + b = c\n",
    "        return (-w[0] * x - b + c) / w[1]\n",
    "\n",
    "    pl.plot(X1_train[:,0], X1_train[:,1], \"ro\")\n",
    "    pl.plot(X2_train[:,0], X2_train[:,1], \"bo\")\n",
    "    pl.scatter(sv[:,0], sv[:,1], s=100, c=\"g\")\n",
    "\n",
    "    # w.x + b = 0\n",
    "    a0 = -4; a1 = f(a0, w, b)\n",
    "    b0 = 4; b1 = f(b0, w, b)\n",
    "    pl.plot([a0,b0], [a1,b1], \"k\")\n",
    "\n",
    "    # w.x + b = 1\n",
    "    a0 = -4; a1 = f(a0, w, b, 1)\n",
    "    b0 = 4; b1 = f(b0, w, b, 1)\n",
    "    pl.plot([a0,b0], [a1,b1], \"k--\")\n",
    "\n",
    "    # w.x + b = -1\n",
    "    a0 = -4; a1 = f(a0, w, b, -1)\n",
    "    b0 = 4; b1 = f(b0, w, b, -1)\n",
    "    pl.plot([a0,b0], [a1,b1], \"k--\")\n",
    "\n",
    "    pl.axis(\"tight\")\n",
    "    pl.show()\n"
   ]
  },
  {
   "cell_type": "code",
   "execution_count": 8,
   "metadata": {},
   "outputs": [],
   "source": [
    "def plot_contour(X1_train, X2_train, kernel, sv, sv_y, a, w, b):\n",
    "    pl.plot(X1_train[:,0], X1_train[:,1], \"ro\")\n",
    "    pl.plot(X2_train[:,0], X2_train[:,1], \"bo\")\n",
    "    pl.scatter(sv[:,0], sv[:,1], s=100, c=\"g\")\n",
    "    # here we choose the range between -7 and 7 as we have choosen\n",
    "    # the mean to be between -4 and 4 while generating data with the variance of 0.8\n",
    "    X1, X2 = np.meshgrid(np.linspace(-7,7,50), np.linspace(-7,7,50))\n",
    "    X = np.array([[x1, x2] for x1, x2 in zip(np.ravel(X1), np.ravel(X2))])\n",
    "    Z = project(X, kernel,sv, sv_y, a, w, b).reshape(X1.shape)\n",
    "    pl.contour(X1, X2, Z, [0.0], colors='k', linewidths=1, origin='lower')\n",
    "    pl.contour(X1, X2, Z + 1, [0.0], colors='grey', linewidths=1, origin='lower')\n",
    "    pl.contour(X1, X2, Z - 1, [0.0], colors='grey', linewidths=1, origin='lower')\n",
    "\n",
    "    pl.axis(\"tight\")\n",
    "    pl.show()"
   ]
  },
  {
   "cell_type": "code",
   "execution_count": 9,
   "metadata": {},
   "outputs": [],
   "source": [
    "def test_linear():\n",
    "    X1, y1, X2, y2 = gen_lin_separable_data()\n",
    "    X_train, y_train = split_train(X1, y1, X2, y2)\n",
    "    X_test, y_test = split_test(X1, y1, X2, y2)\n",
    "\n",
    "    kernel = 'linear_kernel'\n",
    "    C = None\n",
    "    sv, sv_y, a, w, b = fit(X_train, y_train,kernel, C)\n",
    "\n",
    "    y_predict = predict(X_test,kernel,sv, sv_y, a, w, b)\n",
    "    correct = np.sum(y_predict == y_test)\n",
    "    print(\"%d out of %d predictions correct\" % (correct, len(y_predict)))\n",
    "\n",
    "    plot_margin(X_train[y_train==1], X_train[y_train==-1], w, b, sv)\n",
    "\n",
    "def test_non_linear():\n",
    "    X1, y1, X2, y2 = gen_non_lin_separable_data()\n",
    "    X_train, y_train = split_train(X1, y1, X2, y2)\n",
    "    X_test, y_test = split_test(X1, y1, X2, y2)\n",
    "\n",
    "    kernel = 'gaussian_kernel'\n",
    "    C = None\n",
    "    sv, sv_y, a, w, b = fit(X_train, y_train,kernel, C)\n",
    "    y_predict = predict(X_test,kernel,sv, sv_y, a, w, b)\n",
    "    correct = np.sum(y_predict == y_test)\n",
    "    print(\"%d out of %d predictions correct\" % (correct, len(y_predict)))\n",
    "\n",
    "    plot_contour(X_train[y_train==1], X_train[y_train==-1], kernel, sv, sv_y, a, w, b)\n",
    "\n",
    "def test_soft():\n",
    "    X1, y1, X2, y2 = gen_lin_separable_overlap_data()\n",
    "    X_train, y_train = split_train(X1, y1, X2, y2)\n",
    "    X_test, y_test = split_test(X1, y1, X2, y2)\n",
    "\n",
    "    kernel = 'linear_kernel'\n",
    "    C=1000.1\n",
    "    sv, sv_y, a, w, b = fit(X_train, y_train,kernel, C)\n",
    "    y_predict = predict(X_test,kernel,sv, sv_y, a, w, b)\n",
    "    correct = np.sum(y_predict == y_test)\n",
    "    print(\"%d out of %d predictions correct\" % (correct, len(y_predict)))\n",
    "\n",
    "    plot_contour(X_train[y_train==1], X_train[y_train==-1], kernel, sv, sv_y, a, w, b)\n"
   ]
  },
  {
   "cell_type": "code",
   "execution_count": 10,
   "metadata": {},
   "outputs": [
    {
     "name": "stdout",
     "output_type": "stream",
     "text": [
      "     pcost       dcost       gap    pres   dres\n",
      " 0: -1.5994e+01 -2.6807e+01  5e+02  2e+01  2e+00\n",
      " 1: -1.1638e+01 -4.1285e+00  5e+01  3e+00  2e-01\n",
      " 2: -8.3601e-01 -1.8436e+00  2e+00  2e-02  2e-03\n",
      " 3: -1.1709e+00 -1.5141e+00  5e-01  7e-03  6e-04\n",
      " 4: -1.3816e+00 -1.5040e+00  1e-01  8e-04  6e-05\n",
      " 5: -1.4864e+00 -1.4924e+00  7e-03  4e-05  3e-06\n",
      " 6: -1.4916e+00 -1.4917e+00  9e-05  5e-07  4e-08\n",
      " 7: -1.4916e+00 -1.4916e+00  9e-07  5e-09  4e-10\n",
      "Optimal solution found.\n",
      "3 support vectors out of 180 points\n",
      "20 out of 20 predictions correct\n"
     ]
    },
    {
     "data": {
      "image/png": "[encoded data removed]",
      "text/plain": [
       "<Figure size 432x288 with 1 Axes>"
      ]
     },
     "metadata": {
      "needs_background": "light"
     },
     "output_type": "display_data"
    }
   ],
   "source": [
    "test_linear()"
   ]
  },
  {
   "cell_type": "code",
   "execution_count": 11,
   "metadata": {},
   "outputs": [
    {
     "name": "stdout",
     "output_type": "stream",
     "text": [
      "     pcost       dcost       gap    pres   dres\n",
      " 0: -5.5416e+01 -1.5815e+02  5e+02  2e+01  2e+00\n",
      " 1: -8.0654e+01 -1.7514e+02  1e+02  5e+00  5e-01\n",
      " 2: -1.1133e+02 -1.9658e+02  1e+02  3e+00  4e-01\n",
      " 3: -1.7227e+02 -2.4159e+02  9e+01  1e+00  2e-01\n",
      " 4: -1.9323e+02 -2.1669e+02  3e+01  3e-01  4e-02\n",
      " 5: -2.0215e+02 -2.0822e+02  6e+00  2e-14  4e-14\n",
      " 6: -2.0678e+02 -2.0739e+02  6e-01  6e-14  5e-14\n",
      " 7: -2.0730e+02 -2.0731e+02  1e-02  3e-14  5e-14\n",
      " 8: -2.0731e+02 -2.0731e+02  5e-04  2e-14  4e-14\n",
      " 9: -2.0731e+02 -2.0731e+02  2e-05  5e-14  4e-14\n",
      "Optimal solution found.\n",
      "10 support vectors out of 180 points\n",
      "20 out of 20 predictions correct\n"
     ]
    },
    {
     "data": {
      "image/png": "[encoded data removed]",
      "text/plain": [
       "<Figure size 432x288 with 1 Axes>"
      ]
     },
     "metadata": {
      "needs_background": "light"
     },
     "output_type": "display_data"
    }
   ],
   "source": [
    "test_non_linear()"
   ]
  },
  {
   "cell_type": "code",
   "execution_count": 12,
   "metadata": {},
   "outputs": [
    {
     "name": "stdout",
     "output_type": "stream",
     "text": [
      "     pcost       dcost       gap    pres   dres\n",
      " 0:  1.4217e+05 -8.6702e+07  2e+08  5e-01  6e-12\n",
      " 1:  3.8685e+05 -1.5700e+07  3e+07  5e-02  2e-11\n",
      " 2:  3.7769e+05 -2.8638e+06  5e+06  8e-03  4e-12\n",
      " 3:  1.7551e+05 -6.7759e+05  1e+06  2e-03  2e-12\n",
      " 4:  5.0688e+04 -1.7412e+05  2e+05  2e-13  1e-12\n",
      " 5:  9.2614e+03 -3.9300e+04  5e+04  6e-13  8e-13\n",
      " 6:  6.7533e+02 -1.4960e+04  2e+04  3e-13  7e-13\n",
      " 7: -2.2565e+03 -5.5653e+03  3e+03  9e-13  8e-13\n",
      " 8: -2.4765e+03 -5.7403e+03  3e+03  5e-13  9e-13\n",
      " 9: -2.8580e+03 -5.3353e+03  2e+03  2e-13  1e-12\n",
      "10: -2.6189e+03 -4.9250e+03  2e+03  8e-14  1e-12\n",
      "11: -2.7063e+03 -4.5973e+03  2e+03  2e-13  1e-12\n",
      "12: -3.1700e+03 -4.8948e+03  2e+03  2e-13  1e-12\n",
      "13: -3.3460e+03 -4.0122e+03  7e+02  6e-13  1e-12\n",
      "14: -3.3622e+03 -4.0032e+03  6e+02  7e-13  1e-12\n",
      "15: -3.5105e+03 -3.6888e+03  2e+02  8e-13  2e-12\n",
      "16: -3.5526e+03 -3.5745e+03  2e+01  1e-13  1e-12\n",
      "17: -3.5547e+03 -3.5729e+03  2e+01  9e-13  1e-12\n",
      "18: -3.5616e+03 -3.5618e+03  2e-01  4e-13  1e-12\n",
      "19: -3.5617e+03 -3.5617e+03  2e-03  1e-13  2e-12\n",
      "Optimal solution found.\n",
      "7 support vectors out of 180 points\n",
      "20 out of 20 predictions correct\n"
     ]
    },
    {
     "data": {
      "image/png": "[encoded data removed]",
      "text/plain": [
       "<Figure size 432x288 with 1 Axes>"
      ]
     },
     "metadata": {
      "needs_background": "light"
     },
     "output_type": "display_data"
    }
   ],
   "source": [
    "test_soft()"
   ]
  },
  {
   "cell_type": "code",
   "execution_count": null,
   "metadata": {},
   "outputs": [],
   "source": []
  }
 ],
 "metadata": {
  "kernelspec": {
   "display_name": "Python 3.10.4 64-bit",
   "language": "python",
   "name": "python3"
  },
  "language_info": {
   "codemirror_mode": {
    "name": "ipython",
    "version": 3
   },
   "file_extension": ".py",
   "mimetype": "text/x-python",
   "name": "python",
   "nbconvert_exporter": "python",
   "pygments_lexer": "ipython3",
   "version": "3.10.4"
  },
  "vscode": {
   "interpreter": {
    "hash": "c81d839d3c4227cd770621df97fe8191838af02e7eef185a922d8250cb33d344"
   }
  }
 },
 "nbformat": 4,
 "nbformat_minor": 4
}
