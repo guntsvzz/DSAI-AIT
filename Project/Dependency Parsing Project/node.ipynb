{
 "cells": [
  {
   "cell_type": "code",
   "execution_count": 1,
   "metadata": {},
   "outputs": [],
   "source": [
    "class Node(object):\n",
    "   def __init__(self, name):\n",
    "      self.name = name\n",
    "      self.edges = []\n",
    " \n",
    "   def addEdge(self, node):\n",
    "      self.edges.append(node)"
   ]
  },
  {
   "cell_type": "code",
   "execution_count": 7,
   "metadata": {},
   "outputs": [],
   "source": [
    "G = {'0': ['2'], '2': ['1', '3', '6'], '6': ['5', '4']}"
   ]
  },
  {
   "cell_type": "code",
   "execution_count": null,
   "metadata": {},
   "outputs": [],
   "source": [
    "list = ['0','1','2','3','4','5','6']"
   ]
  },
  {
   "cell_type": "code",
   "execution_count": 8,
   "metadata": {},
   "outputs": [],
   "source": [
    "a = Node('0')\n",
    "b = Node('1')\n",
    "c = Node('2')\n",
    "d = Node('3')\n",
    "e = Node('4')\n",
    "f = Node('5')\n",
    "g = Node('6')"
   ]
  },
  {
   "cell_type": "code",
   "execution_count": 9,
   "metadata": {},
   "outputs": [],
   "source": [
    "a.addEdge(c)    \n",
    "c.addEdge(b)    \n",
    "c.addEdge(d)    \n",
    "c.addEdge(g)    \n",
    "g.addEdge(e)\n",
    "g.addEdge(f)    "
   ]
  },
  {
   "cell_type": "code",
   "execution_count": 17,
   "metadata": {},
   "outputs": [
    {
     "name": "stdout",
     "output_type": "stream",
     "text": [
      "1\n",
      "3\n",
      "4\n",
      "5\n",
      "6\n",
      "2\n",
      "0\n"
     ]
    }
   ],
   "source": [
    "def dep_resolve(node, resolved):\n",
    "   # print(node.name)\n",
    "   for edge in node.edges:\n",
    "      if edge not in resolved:\n",
    "         dep_resolve(edge, resolved)\n",
    "   resolved.append(node)\n",
    "\n",
    "resolved = []\n",
    "dep_resolve(a, resolved)\n",
    "for node in resolved:\n",
    "   print(node.name)"
   ]
  },
  {
   "cell_type": "code",
   "execution_count": 1,
   "metadata": {},
   "outputs": [],
   "source": [
    "new_config = [((2, 'books', 'books', 'ROOT'), '->', (1, 'she', 'books', 'nsubj')),\n",
    " ((2, 'books', 'books', 'ROOT'), '->', (3, 'me', 'books', 'dative')),\n",
    " ((6, 'flight', 'books', 'dobj'), '->', (5, 'morning', 'flight', 'compound')),\n",
    " ((6, 'flight', 'books', 'dobj'), '->', (4, 'the', 'flight', 'det')),\n",
    " ((2, 'books', 'books', 'ROOT'), '->', (6, 'flight', 'books', 'dobj')),\n",
    " ((0, 'root', 'root', 'ROOT'), '->', (2, 'books', 'books', 'ROOT'))]"
   ]
  },
  {
   "cell_type": "code",
   "execution_count": 3,
   "metadata": {},
   "outputs": [
    {
     "data": {
      "text/plain": [
       "defaultdict(list, {'2': ['1', '3', '6'], '6': ['5', '4'], '0': ['2']})"
      ]
     },
     "execution_count": 3,
     "metadata": {},
     "output_type": "execute_result"
    }
   ],
   "source": [
    "def convertToList(new_config):\n",
    "    #store to list\n",
    "    from collections import defaultdict\n",
    "    graph = defaultdict(list)\n",
    "    for i in new_config:\n",
    "        graph[f\"{i[0][0]}\"].append(f'{i[2][0]}')\n",
    "    # print('Original graph :\\n',graph)\n",
    "    # graph_sort = dict(sorted(graph.items()))\n",
    "    # print('Sorted graph :\\n', graph_sort)\n",
    "    return graph\n",
    "\n",
    "graph = convertToList(new_config)\n",
    "graph"
   ]
  }
 ],
 "metadata": {
  "kernelspec": {
   "display_name": "Python 3.10.4 64-bit",
   "language": "python",
   "name": "python3"
  },
  "language_info": {
   "codemirror_mode": {
    "name": "ipython",
    "version": 3
   },
   "file_extension": ".py",
   "mimetype": "text/x-python",
   "name": "python",
   "nbconvert_exporter": "python",
   "pygments_lexer": "ipython3",
   "version": "3.10.4"
  },
  "orig_nbformat": 4,
  "vscode": {
   "interpreter": {
    "hash": "c81d839d3c4227cd770621df97fe8191838af02e7eef185a922d8250cb33d344"
   }
  }
 },
 "nbformat": 4,
 "nbformat_minor": 2
}
