{
 "cells": [
  {
   "cell_type": "markdown",
   "metadata": {},
   "source": [
    "# Process"
   ]
  },
  {
   "cell_type": "markdown",
   "metadata": {},
   "source": [
    "# Dependency Parsing"
   ]
  },
  {
   "cell_type": "code",
   "execution_count": 1,
   "metadata": {},
   "outputs": [],
   "source": [
    "import spacy\n",
    "from spacy import displacy\n",
    "text='she books me the morning flight'\n",
    "# text= 'book the flight through houston' #arc-eager\n",
    "# text = 'I am hungry' #arc-standard\n",
    "# text = 'Viken will join the board as a nonexecutive director Nov 29'\n",
    "def convertToSpacy(text):\n",
    "    nlp=spacy.load('en_core_web_sm/en_core_web_sm-3.4.1/')\n",
    "    word_list = list()\n",
    "    print (\"{:<5} | {:<10} | {:<8} | {:<10} | {:<20}\".format('Index','Token','Relation','Head', 'Children'))\n",
    "    print (\"-\" * 70)\n",
    "    for index,token in enumerate(nlp(text)):\n",
    "        # print(index+1, token.text,'=>',token.dep_,'=>',token.head.text)\n",
    "        print (\"{:<5} | {:<10} | {:<8} | {:<10} | {:<20}\"\n",
    "         .format(str(index+1),str(token.text), str(token.dep_), str(token.head.text), str([child for child in token.children])))\n",
    "        # text = np.array([index+1,token.text,token.dep_])\n",
    "        # np.append(list_text,text)\n",
    "        word_list.append((index+1,token.text,token.head.text,token.dep_)) #token.dep_ \n",
    "        # dep_list.append((token.text,token.dep_,token.head.text))\n",
    "    displacy.render(nlp(text),jupyter=True)\n",
    "      \n",
    "    return word_list"
   ]
  },
  {
   "cell_type": "code",
   "execution_count": 2,
   "metadata": {},
   "outputs": [
    {
     "name": "stdout",
     "output_type": "stream",
     "text": [
      "Index | Token      | Relation | Head       | Children            \n",
      "----------------------------------------------------------------------\n",
      "1     | she        | nsubj    | books      | []                  \n",
      "2     | books      | ROOT     | books      | [she, me, flight]   \n",
      "3     | me         | dative   | books      | []                  \n",
      "4     | the        | det      | flight     | []                  \n",
      "5     | morning    | compound | flight     | []                  \n",
      "6     | flight     | dobj     | books      | [the, morning]      \n"
     ]
    },
    {
     "data": {
      "text/html": [
       "<span class=\"tex2jax_ignore\"><svg xmlns=\"http://www.w3.org/2000/svg\" xmlns:xlink=\"http://www.w3.org/1999/xlink\" xml:lang=\"en\" id=\"f7d6510015d34f8dacda852dee242e7a-0\" class=\"displacy\" width=\"1100\" height=\"399.5\" direction=\"ltr\" style=\"max-width: none; height: 399.5px; color: #000000; background: #ffffff; font-family: Arial; direction: ltr\">\n",
       "<text class=\"displacy-token\" fill=\"currentColor\" text-anchor=\"middle\" y=\"309.5\">\n",
       "    <tspan class=\"displacy-word\" fill=\"currentColor\" x=\"50\">she</tspan>\n",
       "    <tspan class=\"displacy-tag\" dy=\"2em\" fill=\"currentColor\" x=\"50\">PRON</tspan>\n",
       "</text>\n",
       "\n",
       "<text class=\"displacy-token\" fill=\"currentColor\" text-anchor=\"middle\" y=\"309.5\">\n",
       "    <tspan class=\"displacy-word\" fill=\"currentColor\" x=\"225\">books</tspan>\n",
       "    <tspan class=\"displacy-tag\" dy=\"2em\" fill=\"currentColor\" x=\"225\">VERB</tspan>\n",
       "</text>\n",
       "\n",
       "<text class=\"displacy-token\" fill=\"currentColor\" text-anchor=\"middle\" y=\"309.5\">\n",
       "    <tspan class=\"displacy-word\" fill=\"currentColor\" x=\"400\">me</tspan>\n",
       "    <tspan class=\"displacy-tag\" dy=\"2em\" fill=\"currentColor\" x=\"400\">PRON</tspan>\n",
       "</text>\n",
       "\n",
       "<text class=\"displacy-token\" fill=\"currentColor\" text-anchor=\"middle\" y=\"309.5\">\n",
       "    <tspan class=\"displacy-word\" fill=\"currentColor\" x=\"575\">the</tspan>\n",
       "    <tspan class=\"displacy-tag\" dy=\"2em\" fill=\"currentColor\" x=\"575\">DET</tspan>\n",
       "</text>\n",
       "\n",
       "<text class=\"displacy-token\" fill=\"currentColor\" text-anchor=\"middle\" y=\"309.5\">\n",
       "    <tspan class=\"displacy-word\" fill=\"currentColor\" x=\"750\">morning</tspan>\n",
       "    <tspan class=\"displacy-tag\" dy=\"2em\" fill=\"currentColor\" x=\"750\">NOUN</tspan>\n",
       "</text>\n",
       "\n",
       "<text class=\"displacy-token\" fill=\"currentColor\" text-anchor=\"middle\" y=\"309.5\">\n",
       "    <tspan class=\"displacy-word\" fill=\"currentColor\" x=\"925\">flight</tspan>\n",
       "    <tspan class=\"displacy-tag\" dy=\"2em\" fill=\"currentColor\" x=\"925\">NOUN</tspan>\n",
       "</text>\n",
       "\n",
       "<g class=\"displacy-arrow\">\n",
       "    <path class=\"displacy-arc\" id=\"arrow-f7d6510015d34f8dacda852dee242e7a-0-0\" stroke-width=\"2px\" d=\"M70,264.5 C70,177.0 215.0,177.0 215.0,264.5\" fill=\"none\" stroke=\"currentColor\"/>\n",
       "    <text dy=\"1.25em\" style=\"font-size: 0.8em; letter-spacing: 1px\">\n",
       "        <textPath xlink:href=\"#arrow-f7d6510015d34f8dacda852dee242e7a-0-0\" class=\"displacy-label\" startOffset=\"50%\" side=\"left\" fill=\"currentColor\" text-anchor=\"middle\">nsubj</textPath>\n",
       "    </text>\n",
       "    <path class=\"displacy-arrowhead\" d=\"M70,266.5 L62,254.5 78,254.5\" fill=\"currentColor\"/>\n",
       "</g>\n",
       "\n",
       "<g class=\"displacy-arrow\">\n",
       "    <path class=\"displacy-arc\" id=\"arrow-f7d6510015d34f8dacda852dee242e7a-0-1\" stroke-width=\"2px\" d=\"M245,264.5 C245,177.0 390.0,177.0 390.0,264.5\" fill=\"none\" stroke=\"currentColor\"/>\n",
       "    <text dy=\"1.25em\" style=\"font-size: 0.8em; letter-spacing: 1px\">\n",
       "        <textPath xlink:href=\"#arrow-f7d6510015d34f8dacda852dee242e7a-0-1\" class=\"displacy-label\" startOffset=\"50%\" side=\"left\" fill=\"currentColor\" text-anchor=\"middle\">dative</textPath>\n",
       "    </text>\n",
       "    <path class=\"displacy-arrowhead\" d=\"M390.0,266.5 L398.0,254.5 382.0,254.5\" fill=\"currentColor\"/>\n",
       "</g>\n",
       "\n",
       "<g class=\"displacy-arrow\">\n",
       "    <path class=\"displacy-arc\" id=\"arrow-f7d6510015d34f8dacda852dee242e7a-0-2\" stroke-width=\"2px\" d=\"M595,264.5 C595,89.5 920.0,89.5 920.0,264.5\" fill=\"none\" stroke=\"currentColor\"/>\n",
       "    <text dy=\"1.25em\" style=\"font-size: 0.8em; letter-spacing: 1px\">\n",
       "        <textPath xlink:href=\"#arrow-f7d6510015d34f8dacda852dee242e7a-0-2\" class=\"displacy-label\" startOffset=\"50%\" side=\"left\" fill=\"currentColor\" text-anchor=\"middle\">det</textPath>\n",
       "    </text>\n",
       "    <path class=\"displacy-arrowhead\" d=\"M595,266.5 L587,254.5 603,254.5\" fill=\"currentColor\"/>\n",
       "</g>\n",
       "\n",
       "<g class=\"displacy-arrow\">\n",
       "    <path class=\"displacy-arc\" id=\"arrow-f7d6510015d34f8dacda852dee242e7a-0-3\" stroke-width=\"2px\" d=\"M770,264.5 C770,177.0 915.0,177.0 915.0,264.5\" fill=\"none\" stroke=\"currentColor\"/>\n",
       "    <text dy=\"1.25em\" style=\"font-size: 0.8em; letter-spacing: 1px\">\n",
       "        <textPath xlink:href=\"#arrow-f7d6510015d34f8dacda852dee242e7a-0-3\" class=\"displacy-label\" startOffset=\"50%\" side=\"left\" fill=\"currentColor\" text-anchor=\"middle\">compound</textPath>\n",
       "    </text>\n",
       "    <path class=\"displacy-arrowhead\" d=\"M770,266.5 L762,254.5 778,254.5\" fill=\"currentColor\"/>\n",
       "</g>\n",
       "\n",
       "<g class=\"displacy-arrow\">\n",
       "    <path class=\"displacy-arc\" id=\"arrow-f7d6510015d34f8dacda852dee242e7a-0-4\" stroke-width=\"2px\" d=\"M245,264.5 C245,2.0 925.0,2.0 925.0,264.5\" fill=\"none\" stroke=\"currentColor\"/>\n",
       "    <text dy=\"1.25em\" style=\"font-size: 0.8em; letter-spacing: 1px\">\n",
       "        <textPath xlink:href=\"#arrow-f7d6510015d34f8dacda852dee242e7a-0-4\" class=\"displacy-label\" startOffset=\"50%\" side=\"left\" fill=\"currentColor\" text-anchor=\"middle\">dobj</textPath>\n",
       "    </text>\n",
       "    <path class=\"displacy-arrowhead\" d=\"M925.0,266.5 L933.0,254.5 917.0,254.5\" fill=\"currentColor\"/>\n",
       "</g>\n",
       "</svg></span>"
      ],
      "text/plain": [
       "<IPython.core.display.HTML object>"
      ]
     },
     "metadata": {},
     "output_type": "display_data"
    },
    {
     "data": {
      "text/plain": [
       "[(1, 'she', 'books', 'nsubj'),\n",
       " (2, 'books', 'books', 'ROOT'),\n",
       " (3, 'me', 'books', 'dative'),\n",
       " (4, 'the', 'flight', 'det'),\n",
       " (5, 'morning', 'flight', 'compound'),\n",
       " (6, 'flight', 'books', 'dobj')]"
      ]
     },
     "execution_count": 2,
     "metadata": {},
     "output_type": "execute_result"
    }
   ],
   "source": [
    "text = 'she books me the morning flight'\n",
    "word_list = convertToSpacy(text)\n",
    "word_list"
   ]
  },
  {
   "cell_type": "markdown",
   "metadata": {},
   "source": [
    "# 1. Greedy Transition-Based Dependency Parsing"
   ]
  },
  {
   "cell_type": "markdown",
   "metadata": {},
   "source": [
    "## 1.1.1 Stack : Enqueue and Dequeue (Non-related Dependency Parsing)"
   ]
  },
  {
   "cell_type": "code",
   "execution_count": 3,
   "metadata": {},
   "outputs": [],
   "source": [
    "from collections import deque\n",
    "class Stack(object):\n",
    "    def __init__(self):\n",
    "        self.container = deque()\n",
    "    def push(self,*value):\n",
    "        self.container.append(*value)\n",
    "    def pop(self):\n",
    "        if len(self.container) != 0:\n",
    "            return self.container.pop()  \n",
    "        else: raise IndexError(\"An empty deque\")\n",
    "    def size(self):\n",
    "        return len(self.container)"
   ]
  },
  {
   "cell_type": "code",
   "execution_count": 4,
   "metadata": {},
   "outputs": [
    {
     "name": "stdout",
     "output_type": "stream",
     "text": [
      "Initial queue\n",
      "deque(['she', 'books', 'me', 'the', 'morning', 'flight'])\n",
      "\n",
      "Queue after removing elements\n",
      "deque([])\n"
     ]
    }
   ],
   "source": [
    "s = Stack()\n",
    "#push items\n",
    "for i in range(len(word_list)):\n",
    "    s.push(word_list[i][1])\n",
    "    \n",
    "print(\"Initial queue\")\n",
    "print(s.container)\n",
    "\n",
    "#pop items\n",
    "for i in range(len(word_list)):\n",
    "    s.pop()\n",
    "    \n",
    "print(\"\\nQueue after removing elements\")\n",
    "print(s.container)\n",
    "#Finish Stack is easy!!!"
   ]
  },
  {
   "cell_type": "markdown",
   "metadata": {},
   "source": [
    "## 1.1.2. Stack and Buffer\n",
    "\n",
    "- LEFTARC: Assert a head-dependent relation between the word at the top of the stack and the word directly beneath it; \n",
    "remove the lower word from the stack. \n",
    "- RIGHTARC: Assert a head-dependent relation between the second word on the stack and the word at the top; \n",
    "remove the word at the top of the stack; \n",
    "- SHIFT: Remove the word from the front of the input buffer and push it onto the stack.\n",
    "\n",
    "Start with root on stack, buffer with whole sentence\n",
    "- If there’s nothing on the stack, you must shift\n",
    "- If the top of the stack is the child of the top of the buffer, then make a left\n",
    "edge\n",
    "- If the top of the buffer is is a child of the top of the stack and the top of\n",
    "the buffer has no children that have yet to be added to the tree, then\n",
    "make a right\n",
    "\n"
   ]
  },
  {
   "cell_type": "code",
   "execution_count": 5,
   "metadata": {},
   "outputs": [],
   "source": [
    "class Configuration(object):\n",
    "    def __init__(self,dependency_list):\n",
    "        self.stack = [(0,'root','root','ROOT')]\n",
    "        self.buffer = dependency_list\n",
    "        self.arcs = list()\n",
    "    def __str__(self):\n",
    "        return f'Stack  : {self.stack} \\nBuffer : {self.buffer} \\nArcs   : {self.arcs}'\n",
    "\n",
    "class Transition(object): ####put word to buffer####\n",
    "    def __init__(self,approach):\n",
    "        self.approach = approach #'arc-standard' or 'arc-eager'\n",
    "    #Arc-standard parsing cannot produce non-projective trees\n",
    "    def left_arc(self,config,relation):\n",
    "        if self.approach == 'arc-standard':\n",
    "            #pop top of stack -> append arc relation\n",
    "            index_i = config.stack.pop()\n",
    "            index_j = config.stack.pop()\n",
    "            config.stack.append(index_i)\n",
    "            config.arcs.append((index_i, relation, index_j)) \n",
    "        elif self.approach == 'arc-eager':\n",
    "            pass\n",
    "\n",
    "    def right_arc(self,config,relation):\n",
    "        if self.approach == 'arc-standard':\n",
    "            #pop top of stack -> append arc relation\n",
    "            index_i = config.stack.pop()\n",
    "            index_j = config.stack.pop()\n",
    "            config.stack.append(index_j)\n",
    "            config.arcs.append((index_j, relation, index_i)) \n",
    "        elif self.approach == 'arc-eager':\n",
    "            pass\n",
    "\n",
    "    def shift(self,config): #move buffer to stack\n",
    "        if len(config.buffer) <= 0:\n",
    "            return -1\n",
    "        index_i = config.buffer.pop(0)\n",
    "        config.stack.append(index_i)\n",
    "\n",
    "    def reduce(sefl,config): #'arc-eager'\n",
    "        pass\n",
    "\n",
    "class Parser(object): \n",
    "    def __init__(self,approach):\n",
    "        self.approach = approach\n",
    "\n",
    "    def oracle(self,config): ####put buffer to stack####\n",
    "        operation = Transition(self.approach)\n",
    "        i = 0\n",
    "        print('\\nAction :',end=' ')\n",
    "        while not(len(config.buffer) == 0 and len(config.stack) == 1): #stop when buffer is empty and stack contain only root\n",
    "            if (len(config.buffer) == 0 and len(config.stack) == 2):\n",
    "                print('Right-Arc',end='->')\n",
    "                operation.right_arc(config,'->')\n",
    "                \n",
    "            if len(config.stack) == 1:\n",
    "                print(\"Shift_along\",end='->')\n",
    "                operation.shift(config)\n",
    "            else:\n",
    "                if config.stack[-1][1] == config.stack[-2][2]: \n",
    "                    print('Left-Arc',end='->')\n",
    "                    operation.left_arc(config,'->')\n",
    "                elif (config.stack[-1][2] == config.stack[-2][1]) : #next_head = prev_text\n",
    "                    print('Right-Arc',end='->')\n",
    "                    operation.right_arc(config,'->')\n",
    "                else:\n",
    "                    print(\"Shift\",end='->')\n",
    "                    operation.shift(config)\n",
    "            i+=1\n",
    "            if i == 20:\n",
    "                break\n",
    "        # print('\\n',config)\n",
    "        print('\\n') \n",
    "        return config\n",
    "\n",
    "def SaB(word_list):\n",
    "    print('Setup Configuration')\n",
    "    buffer_list = word_list.copy()\n",
    "    config = Configuration(buffer_list)\n",
    "    print(config)\n",
    "    print('Trainsition-Based')\n",
    "    parsing = Parser('arc-standard')\n",
    "    new_config = parsing.oracle(config)\n",
    "    print(new_config)\n",
    "    return new_config\n",
    "    #index, token, head, relation"
   ]
  },
  {
   "cell_type": "code",
   "execution_count": 6,
   "metadata": {},
   "outputs": [
    {
     "name": "stdout",
     "output_type": "stream",
     "text": [
      "Setup Configuration\n",
      "Stack  : [(0, 'root', 'root', 'ROOT')] \n",
      "Buffer : [(1, 'she', 'books', 'nsubj'), (2, 'books', 'books', 'ROOT'), (3, 'me', 'books', 'dative'), (4, 'the', 'flight', 'det'), (5, 'morning', 'flight', 'compound'), (6, 'flight', 'books', 'dobj')] \n",
      "Arcs   : []\n",
      "Trainsition-Based\n",
      "\n",
      "Action : Shift_along->Shift->Left-Arc->Shift->Right-Arc->Shift->Shift->Shift->Left-Arc->Left-Arc->Right-Arc->Right-Arc->Shift_along->\n",
      "\n",
      "Stack  : [(0, 'root', 'root', 'ROOT')] \n",
      "Buffer : [] \n",
      "Arcs   : [((2, 'books', 'books', 'ROOT'), '->', (1, 'she', 'books', 'nsubj')), ((2, 'books', 'books', 'ROOT'), '->', (3, 'me', 'books', 'dative')), ((6, 'flight', 'books', 'dobj'), '->', (5, 'morning', 'flight', 'compound')), ((6, 'flight', 'books', 'dobj'), '->', (4, 'the', 'flight', 'det')), ((2, 'books', 'books', 'ROOT'), '->', (6, 'flight', 'books', 'dobj')), ((0, 'root', 'root', 'ROOT'), '->', (2, 'books', 'books', 'ROOT'))]\n"
     ]
    }
   ],
   "source": [
    "new_config = SaB(word_list)"
   ]
  },
  {
   "cell_type": "markdown",
   "metadata": {},
   "source": [
    "## 1.2. Dependency Tree\n",
    "- The dependency structure is a tree (directed acyclic graph) with the main verb as its root (head). (Projective)"
   ]
  },
  {
   "cell_type": "code",
   "execution_count": 7,
   "metadata": {},
   "outputs": [
    {
     "data": {
      "text/plain": [
       "[((2, 'books', 'books', 'ROOT'), '->', (1, 'she', 'books', 'nsubj')),\n",
       " ((2, 'books', 'books', 'ROOT'), '->', (3, 'me', 'books', 'dative')),\n",
       " ((6, 'flight', 'books', 'dobj'), '->', (5, 'morning', 'flight', 'compound')),\n",
       " ((6, 'flight', 'books', 'dobj'), '->', (4, 'the', 'flight', 'det')),\n",
       " ((2, 'books', 'books', 'ROOT'), '->', (6, 'flight', 'books', 'dobj')),\n",
       " ((0, 'root', 'root', 'ROOT'), '->', (2, 'books', 'books', 'ROOT'))]"
      ]
     },
     "execution_count": 7,
     "metadata": {},
     "output_type": "execute_result"
    }
   ],
   "source": [
    "new_config.arcs #book go to she"
   ]
  },
  {
   "cell_type": "code",
   "execution_count": 8,
   "metadata": {},
   "outputs": [],
   "source": [
    "def DependencyGraph(word_list,new_config):\n",
    "    from collections import defaultdict\n",
    "    graph_default = defaultdict(list)\n",
    "    for i in range(len(word_list)+1):\n",
    "        # for j in range(len(word_list)+1):\n",
    "        # graph_default.setdefault(i)\n",
    "        graph_default[f'{i}'] = []\n",
    "    for i in new_config.arcs:\n",
    "    #     graph_default[i[0][0]][i[2][0]] = ((i[2][0],i[2][0]))\n",
    "        graph_default[f\"{i[0][0]}\"].append(f'{i[2][0]}')\n",
    "    return graph_default"
   ]
  },
  {
   "cell_type": "code",
   "execution_count": 9,
   "metadata": {},
   "outputs": [
    {
     "data": {
      "text/plain": [
       "defaultdict(list,\n",
       "            {'0': ['2'],\n",
       "             '1': [],\n",
       "             '2': ['1', '3', '6'],\n",
       "             '3': [],\n",
       "             '4': [],\n",
       "             '5': [],\n",
       "             '6': ['5', '4']})"
      ]
     },
     "execution_count": 9,
     "metadata": {},
     "output_type": "execute_result"
    }
   ],
   "source": [
    "DGraph = DependencyGraph(word_list,new_config)\n",
    "DGraph"
   ]
  },
  {
   "cell_type": "markdown",
   "metadata": {},
   "source": [
    "### 1.2.1 Breadth-first Search"
   ]
  },
  {
   "cell_type": "code",
   "execution_count": 10,
   "metadata": {},
   "outputs": [
    {
     "name": "stdout",
     "output_type": "stream",
     "text": [
      "0 --> 2 --> 3 --> 1 --> 6 --> 4 --> 5 --> "
     ]
    }
   ],
   "source": [
    "def BFS(graph,s):\n",
    "    visited = set() #unique number\n",
    "    queue = set()   #list in python is basiaclly queue\n",
    "    visited.add(s)  #means make it black\n",
    "    queue.add(s)\n",
    "\n",
    "    while queue:        #as long as the queue is not empty....\n",
    "        u = queue.pop() #pop the front guy.... basiaclly index 0\n",
    "        \n",
    "        print(u, \"-->\", end = \" \") \n",
    "        for neighbor in graph[u]:       #for everyone who connects to u,\n",
    "            if neighbor not in visited:\n",
    "                visited.add(neighbor)    #add them to visited\n",
    "                queue.add(neighbor)      #add them to the queue\n",
    "\n",
    "BFS(DGraph,'0')"
   ]
  },
  {
   "cell_type": "markdown",
   "metadata": {},
   "source": [
    "### 1.2.2 Depth-first Search"
   ]
  },
  {
   "cell_type": "code",
   "execution_count": 11,
   "metadata": {},
   "outputs": [
    {
     "name": "stdout",
     "output_type": "stream",
     "text": [
      "0 --> 2 --> 1 --> 3 --> 6 --> 5 --> 4 --> "
     ]
    }
   ],
   "source": [
    "visited = set()\n",
    "def DFS(graph,s):\n",
    "    if s not in visited:\n",
    "        print(s,'-->',end=\" \")\n",
    "        visited.add(s)\n",
    "        for neighbor in graph[s]:\n",
    "            DFS(graph,neighbor)\n",
    "\n",
    "DFS(DGraph,'0')"
   ]
  },
  {
   "cell_type": "markdown",
   "metadata": {},
   "source": [
    "### 1.2.3 Beam Search "
   ]
  },
  {
   "cell_type": "markdown",
   "metadata": {},
   "source": [
    "### Reference : Transition-Based\n",
    "- https://www.youtube.com/watch?v=xG0MXIPVUdk&list=PLyyEwPZh6aHpDieqWwr7hTgreKnYSY9Ox&index=60\n",
    "- https://www.youtube.com/watch?v=2jLk93iIyrw&list=PLr9TFf9GjancAHiiP5cqGmYsZad99Uf_h&index=39\n",
    "- https://www.youtube.com/watch?v=f5-hTA9hA3s&list=WL&index=8\n",
    "- https://www.youtube.com/watch?v=oLHnqGmQtI4\n",
    "- http://www.cs.umd.edu/class/fall2017/cmsc723/slides/slides_13.pdf\n",
    "- Chapter 15 Dependency Parsing, Speech and Language Processing. Daniel Jurafsky & James H. Martin. Copyright c 2019. All rights reserved. Draft of October 2, 2019.\n",
    "- Covington, M. (2001). A fundamental algorithm for dependency parsing. In Proceedings of the 39th Annual ACM Southeast Conference, 95–102.\n",
    "- Nivre, J. (2003). An efficient algorithm for projective dependency parsing. In Proceedings of the 8th International Workshop on Parsing Technologies (IWPT)."
   ]
  },
  {
   "cell_type": "markdown",
   "metadata": {},
   "source": [
    "# 2. Graph-Based Dependency Parsing (Non-projective)"
   ]
  },
  {
   "cell_type": "markdown",
   "metadata": {},
   "source": [
    "## 2.1 Maximum Spanning Tree (Chu-Liu-Edmonds)"
   ]
  },
  {
   "cell_type": "markdown",
   "metadata": {},
   "source": [
    "## Comparision"
   ]
  },
  {
   "cell_type": "code",
   "execution_count": 12,
   "metadata": {},
   "outputs": [
    {
     "name": "stdout",
     "output_type": "stream",
     "text": [
      "0 --> 2 --> 3 --> 1 --> 6 --> 4 --> 5 --> 0 --> 2 --> 3 --> 1 --> 6 --> 4 --> 5 --> 0 --> 2 --> 3 --> 1 --> 6 --> 4 --> 5 --> 0 --> 2 --> 3 --> 1 --> 6 --> 4 --> 5 --> 0 --> 2 --> 3 --> 1 --> 6 --> 4 --> 5 --> 0 --> 2 --> 3 --> 1 --> 6 --> 4 --> 5 --> "
     ]
    },
    {
     "data": {
      "image/png": "[encoded data removed]",
      "text/plain": [
       "<Figure size 432x288 with 1 Axes>"
      ]
     },
     "metadata": {
      "needs_background": "light"
     },
     "output_type": "display_data"
    }
   ],
   "source": [
    "def comparision(word_list,new_config,DGraph,s):\n",
    "    import time\n",
    "    import matplotlib.pyplot as plt\n",
    "    time_interval_Stack = []\n",
    "    time_interval_Graph = []\n",
    "    time_interval_BFS = []\n",
    "    time_interval_DFS = []\n",
    "    num_samples = [i for i in range(len(word_list))]\n",
    "    for n in num_samples:\n",
    "        start_time = time.time()\n",
    "        s.push(n)\n",
    "        elapsed_time = time.time() - start_time\n",
    "        time_interval_Stack.append(elapsed_time)\n",
    "\n",
    "        start_time = time.time()\n",
    "        DependencyGraph(word_list,new_config)\n",
    "        elapsed_time = time.time() - start_time\n",
    "        time_interval_Graph.append(elapsed_time)\n",
    "\n",
    "        start_time = time.time()\n",
    "        BFS(DGraph,str(0))\n",
    "        elapsed_time = time.time() - start_time\n",
    "        time_interval_BFS.append(elapsed_time)\n",
    "\n",
    "        start_time = time.time()\n",
    "        DFS(DGraph,str(0))\n",
    "        elapsed_time = time.time() - start_time\n",
    "        time_interval_DFS.append(elapsed_time)\n",
    "\n",
    "    plt.plot(num_samples,time_interval_Stack,label='Stack')\n",
    "    plt.plot(num_samples,time_interval_Graph,label='Graph')\n",
    "    plt.plot(num_samples,time_interval_BFS,label='BFS')\n",
    "    plt.plot(num_samples,time_interval_DFS,label='DFS')\n",
    "    plt.legend()\n",
    "    plt.xlabel(\"Number of samples\")\n",
    "    plt.ylabel(\"Time Complexity\")\n",
    "    plt.title(\"Time Complexity Comparison\")\n",
    "    plt.show()\n",
    "\n",
    "comparision(word_list,new_config,DGraph,s)"
   ]
  },
  {
   "cell_type": "code",
   "execution_count": 13,
   "metadata": {},
   "outputs": [],
   "source": [
    "#Stack O(1)\n",
    "#Graph O(1)\n",
    "#BFS O(V + E)\t\n",
    "#DFS O(V + E)"
   ]
  },
  {
   "cell_type": "markdown",
   "metadata": {},
   "source": [
    "### Reference \n",
    "- https://courses.cs.washington.edu/courses/cse490u/17wi/slides/CLE.pdf\n",
    "- https://www.youtube.com/watch?v=dOCRzahEL84"
   ]
  },
  {
   "cell_type": "markdown",
   "metadata": {},
   "source": [
    "# Future Work\n",
    "- Implementation Non-projective\n",
    "- Implementation Oracle using Machine Learning Model\n",
    "- Implementatio arc-eager"
   ]
  }
 ],
 "metadata": {
  "kernelspec": {
   "display_name": "Python 3.10.4 64-bit",
   "language": "python",
   "name": "python3"
  },
  "language_info": {
   "codemirror_mode": {
    "name": "ipython",
    "version": 3
   },
   "file_extension": ".py",
   "mimetype": "text/x-python",
   "name": "python",
   "nbconvert_exporter": "python",
   "pygments_lexer": "ipython3",
   "version": "3.10.4"
  },
  "orig_nbformat": 4,
  "vscode": {
   "interpreter": {
    "hash": "c81d839d3c4227cd770621df97fe8191838af02e7eef185a922d8250cb33d344"
   }
  }
 },
 "nbformat": 4,
 "nbformat_minor": 2
}
