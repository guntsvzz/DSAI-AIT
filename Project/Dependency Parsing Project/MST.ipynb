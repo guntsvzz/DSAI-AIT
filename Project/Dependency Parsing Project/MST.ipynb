{
 "cells": [
  {
   "cell_type": "code",
   "execution_count": 31,
   "metadata": {},
   "outputs": [
    {
     "name": "stdout",
     "output_type": "stream",
     "text": [
      "[{'5', '3', '4', '1'}, {'6'}, {'2'}, {'0'}]\n"
     ]
    }
   ],
   "source": [
    "def dependensyTree(arg):\n",
    "    d=dict((k, set(arg[k])) for k in arg)\n",
    "    # print('dict',d)\n",
    "    r=[]\n",
    "    while d:\n",
    "        # values not in keys (items without dep)\n",
    "        t = set(i for v in d.values() for i in v)-set(d.keys())\n",
    "        # and keys without value (items without dep)\n",
    "        t.update(k for k, v in d.items() if not v)\n",
    "        # can be done right away\n",
    "        r.append(t)\n",
    "        # and cleaned up\n",
    "        d=dict(((k, v-t) for k, v in d.items() if v))\n",
    "    return r\n",
    "\n",
    "if __name__=='__main__':\n",
    "    buffer = {'0': ['2'], '2': ['1', '3', '6'], '6': ['5', '4']}\n",
    "    print(dependensyTree(buffer))"
   ]
  },
  {
   "cell_type": "code",
   "execution_count": 1,
   "metadata": {},
   "outputs": [],
   "source": [
    "def reverse(graph):\n",
    "    r = {}\n",
    "    for src in graph:\n",
    "        for (dst,c) in graph[src].items():\n",
    "            if dst in r:\n",
    "                r[dst][src] = c\n",
    "            else:\n",
    "                r[dst] = { src : c }\n",
    "    return r"
   ]
  },
  {
   "cell_type": "code",
   "execution_count": 3,
   "metadata": {},
   "outputs": [
    {
     "ename": "AttributeError",
     "evalue": "'list' object has no attribute 'items'",
     "output_type": "error",
     "traceback": [
      "\u001b[1;31m---------------------------------------------------------------------------\u001b[0m",
      "\u001b[1;31mAttributeError\u001b[0m                            Traceback (most recent call last)",
      "\u001b[1;32mc:\\Users\\Guntsv\\Documents\\GitHub\\DSAI-AIT-2022\\Homework_AIT\\Algorithm Design\\Project\\MaximumSpanningTree.ipynb Cell 3\u001b[0m in \u001b[0;36m<cell line: 2>\u001b[1;34m()\u001b[0m\n\u001b[0;32m      <a href='vscode-notebook-cell:/c%3A/Users/Guntsv/Documents/GitHub/DSAI-AIT-2022/Homework_AIT/Algorithm%20Design/Project/MaximumSpanningTree.ipynb#W2sZmlsZQ%3D%3D?line=0'>1</a>\u001b[0m graph \u001b[39m=\u001b[39m {\u001b[39m'\u001b[39m\u001b[39m0\u001b[39m\u001b[39m'\u001b[39m: [\u001b[39m'\u001b[39m\u001b[39m2\u001b[39m\u001b[39m'\u001b[39m], \u001b[39m'\u001b[39m\u001b[39m2\u001b[39m\u001b[39m'\u001b[39m: [\u001b[39m'\u001b[39m\u001b[39m1\u001b[39m\u001b[39m'\u001b[39m, \u001b[39m'\u001b[39m\u001b[39m3\u001b[39m\u001b[39m'\u001b[39m, \u001b[39m'\u001b[39m\u001b[39m6\u001b[39m\u001b[39m'\u001b[39m], \u001b[39m'\u001b[39m\u001b[39m6\u001b[39m\u001b[39m'\u001b[39m: [\u001b[39m'\u001b[39m\u001b[39m5\u001b[39m\u001b[39m'\u001b[39m, \u001b[39m'\u001b[39m\u001b[39m4\u001b[39m\u001b[39m'\u001b[39m]}\n\u001b[1;32m----> <a href='vscode-notebook-cell:/c%3A/Users/Guntsv/Documents/GitHub/DSAI-AIT-2022/Homework_AIT/Algorithm%20Design/Project/MaximumSpanningTree.ipynb#W2sZmlsZQ%3D%3D?line=1'>2</a>\u001b[0m reverse(graph)\n",
      "\u001b[1;32mc:\\Users\\Guntsv\\Documents\\GitHub\\DSAI-AIT-2022\\Homework_AIT\\Algorithm Design\\Project\\MaximumSpanningTree.ipynb Cell 3\u001b[0m in \u001b[0;36mreverse\u001b[1;34m(graph)\u001b[0m\n\u001b[0;32m      <a href='vscode-notebook-cell:/c%3A/Users/Guntsv/Documents/GitHub/DSAI-AIT-2022/Homework_AIT/Algorithm%20Design/Project/MaximumSpanningTree.ipynb#W2sZmlsZQ%3D%3D?line=1'>2</a>\u001b[0m r \u001b[39m=\u001b[39m {}\n\u001b[0;32m      <a href='vscode-notebook-cell:/c%3A/Users/Guntsv/Documents/GitHub/DSAI-AIT-2022/Homework_AIT/Algorithm%20Design/Project/MaximumSpanningTree.ipynb#W2sZmlsZQ%3D%3D?line=2'>3</a>\u001b[0m \u001b[39mfor\u001b[39;00m src \u001b[39min\u001b[39;00m graph:\n\u001b[1;32m----> <a href='vscode-notebook-cell:/c%3A/Users/Guntsv/Documents/GitHub/DSAI-AIT-2022/Homework_AIT/Algorithm%20Design/Project/MaximumSpanningTree.ipynb#W2sZmlsZQ%3D%3D?line=3'>4</a>\u001b[0m     \u001b[39mfor\u001b[39;00m (dst,c) \u001b[39min\u001b[39;00m graph[src]\u001b[39m.\u001b[39;49mitems():\n\u001b[0;32m      <a href='vscode-notebook-cell:/c%3A/Users/Guntsv/Documents/GitHub/DSAI-AIT-2022/Homework_AIT/Algorithm%20Design/Project/MaximumSpanningTree.ipynb#W2sZmlsZQ%3D%3D?line=4'>5</a>\u001b[0m         \u001b[39mif\u001b[39;00m dst \u001b[39min\u001b[39;00m r:\n\u001b[0;32m      <a href='vscode-notebook-cell:/c%3A/Users/Guntsv/Documents/GitHub/DSAI-AIT-2022/Homework_AIT/Algorithm%20Design/Project/MaximumSpanningTree.ipynb#W2sZmlsZQ%3D%3D?line=5'>6</a>\u001b[0m             r[dst][src] \u001b[39m=\u001b[39m c\n",
      "\u001b[1;31mAttributeError\u001b[0m: 'list' object has no attribute 'items'"
     ]
    }
   ],
   "source": [
    "graph = {'0': ['2'], '2': ['1', '3', '6'], '6': ['5', '4']}\n",
    "reverse(graph)"
   ]
  },
  {
   "cell_type": "code",
   "execution_count": 4,
   "metadata": {},
   "outputs": [],
   "source": [
    "from heapdict import heapdict\n",
    "class Graph(object):\n",
    "    def __init__(self,G):\n",
    "        self.INF = 9999\n",
    "        self.G = G\n",
    "        self.N = len(self.G)\n",
    "        self.r = 0\n",
    "        self.Q = heapdict()\n",
    "        for i in range(self.N):\n",
    "            self.Q[i] = self.INF\n",
    "        self.Q[self.r] = 0 \n",
    "        self.pi = [None] * self.N\n",
    "        self.pi[self.r] = -1\n",
    "\n",
    "    def v_in_q(self,v):\n",
    "        #get the keys in 0\n",
    "        keys = list(self.Q.keys()) #you can actually do if v in Q\n",
    "        #check if v in keys\n",
    "        return v in keys\n",
    "\n",
    "    def adj(self,u):\n",
    "        neighbors = []\n",
    "        for index, values in enumerate(self.G[u]):\n",
    "            if values != 0:\n",
    "                neighbors.append(index) \n",
    "        return neighbors #list() #return only index\n",
    "\n",
    "    def prim_adjlist(self):\n",
    "        while (self.Q):\n",
    "            #u = extradct_min  (dict has no extract_min; you have to suffer from)\n",
    "            u = self.Q.popitem()[0]\n",
    "            # print(f'Vertex : {u}')\n",
    "            #for v in adj[u]\n",
    "            for v in self.adj(u):\n",
    "                # print(v, end = \" --> \")\n",
    "                if self.v_in_q(v) and (self.G[u][v][1] < self.Q[v]):   \n",
    "                    self.pi[v] = u\n",
    "                    self.Q[v] = self.G[u][v][1]\n",
    "        return f'Pi Adjancency List: {self.pi}'"
   ]
  },
  {
   "cell_type": "code",
   "execution_count": 11,
   "metadata": {},
   "outputs": [],
   "source": [
    "G = {\n",
    "    0 : [(0,0), (1,2), (2,2), (3,5), (4,3)],\n",
    "    1 : [(0,2), (1,0), (2,1), (3,4), (4,4)],\n",
    "    2 : [(0,2), (1,1), (2,0), (3,3), (4,5)],\n",
    "    3 : [(0,5), (1,4), (2,3), (3,0), (4,9)],\n",
    "    4 : [(0,3), (1,4), (2,5), (3,9), (4,0)]\n",
    "}\n",
    "\n",
    "G = {'0': ['2'], '2': ['1', '3', '6'], '6': ['5', '4']}\n",
    "\n",
    "# graph = Graph(G)\n",
    "# graph.prim_adjlist()"
   ]
  },
  {
   "cell_type": "code",
   "execution_count": 13,
   "metadata": {},
   "outputs": [
    {
     "data": {
      "text/plain": [
       "dict_items([('0', ['2']), ('2', ['1', '3', '6']), ('6', ['5', '4'])])"
      ]
     },
     "execution_count": 13,
     "metadata": {},
     "output_type": "execute_result"
    }
   ],
   "source": [
    "G.items()"
   ]
  },
  {
   "cell_type": "code",
   "execution_count": 26,
   "metadata": {},
   "outputs": [
    {
     "ename": "AttributeError",
     "evalue": "'list' object has no attribute 'keys'",
     "output_type": "error",
     "traceback": [
      "\u001b[1;31m---------------------------------------------------------------------------\u001b[0m",
      "\u001b[1;31mAttributeError\u001b[0m                            Traceback (most recent call last)",
      "\u001b[1;32mc:\\Users\\Guntsv\\Documents\\GitHub\\DSAI-AIT-2022\\Homework_AIT\\Algorithm Design\\Project\\MaximumSpanningTree.ipynb Cell 7\u001b[0m in \u001b[0;36m<cell line: 1>\u001b[1;34m()\u001b[0m\n\u001b[0;32m      <a href='vscode-notebook-cell:/c%3A/Users/Guntsv/Documents/GitHub/DSAI-AIT-2022/Homework_AIT/Algorithm%20Design/Project/MaximumSpanningTree.ipynb#X15sZmlsZQ%3D%3D?line=0'>1</a>\u001b[0m \u001b[39mfor\u001b[39;00m src \u001b[39min\u001b[39;00m G\u001b[39m.\u001b[39mkeys():\n\u001b[1;32m----> <a href='vscode-notebook-cell:/c%3A/Users/Guntsv/Documents/GitHub/DSAI-AIT-2022/Homework_AIT/Algorithm%20Design/Project/MaximumSpanningTree.ipynb#X15sZmlsZQ%3D%3D?line=1'>2</a>\u001b[0m     \u001b[39mfor\u001b[39;00m dst \u001b[39min\u001b[39;00m G[src]\u001b[39m.\u001b[39;49mkeys():\n\u001b[0;32m      <a href='vscode-notebook-cell:/c%3A/Users/Guntsv/Documents/GitHub/DSAI-AIT-2022/Homework_AIT/Algorithm%20Design/Project/MaximumSpanningTree.ipynb#X15sZmlsZQ%3D%3D?line=2'>3</a>\u001b[0m         \u001b[39mprint\u001b[39m(dst)\n",
      "\u001b[1;31mAttributeError\u001b[0m: 'list' object has no attribute 'keys'"
     ]
    }
   ],
   "source": [
    "for src in G.keys():\n",
    "    for dst in G[src].keys():\n",
    "        print(dst)"
   ]
  },
  {
   "cell_type": "code",
   "execution_count": null,
   "metadata": {},
   "outputs": [],
   "source": [
    "def reverse_graph(G):\n",
    "    '''Return the reversed graph where g[dst][src]=G[src][dst]'''\n",
    "    g={}\n",
    "    for src in G.keys():\n",
    "        for dst in G[src].keys():\n",
    "            if dst not in g.keys():\n",
    "                g[dst]={}\n",
    "            g[dst][src]=G[src][dst]\n",
    "    return g"
   ]
  },
  {
   "cell_type": "code",
   "execution_count": null,
   "metadata": {},
   "outputs": [],
   "source": [
    "def reverse(graph):\n",
    "    r = {}\n",
    "    for src in graph:\n",
    "        for (dst,c) in graph[src].items():\n",
    "            if dst in r:\n",
    "                r[dst][src] = c\n",
    "            else:\n",
    "                r[dst] = { src : c }\n",
    "    return r"
   ]
  },
  {
   "cell_type": "code",
   "execution_count": null,
   "metadata": {},
   "outputs": [],
   "source": [
    "def msa(V, E, r, w):\n",
    "    \"\"\"\n",
    "    Recursive Edmond's algorithm as per Wikipedia's explanation\n",
    "    Returns a set of all the edges of the minimum spanning arborescence.\n",
    "    V := set( Vertex(v) )\n",
    "    E := set( Edge(u,v) )\n",
    "    r := Root(v)\n",
    "    w := dict( Edge(u,v) : cost)\n",
    "    \"\"\"\n",
    "\n",
    "    \"\"\"\n",
    "    Step 1 : Removing all edges that lead back to the root\n",
    "    \"\"\"\n",
    "    for (u,v) in E.copy():\n",
    "        if v == r:\n",
    "            E.remove((u,v))\n",
    "            w.pop((u,v))\n",
    "\n",
    "    \"\"\"\n",
    "    Step 2 : Finding the minimum incoming edge for every vertex. O(n**2) but okay since it is\n",
    "    a small sized list\n",
    "    \"\"\"\n",
    "    pi = dict()\n",
    "    for v in V:\n",
    "        edges = [edge[0] for edge in E if edge[1] == v]\n",
    "        if not len(edges):\n",
    "            continue\n",
    "        costs = [w[(u,v)] for u in edges]\n",
    "        pi[v] = edges[costs.index(min(costs))]\n",
    "    \n",
    "    \"\"\"\n",
    "    Step 3 : Finding cycles in the graph\n",
    "    \"\"\"\n",
    "    cycle_vertex = None\n",
    "    for v in V:\n",
    "        if cycle_vertex is not None:\n",
    "            break\n",
    "        visited = set()\n",
    "        next_v = pi.get(v)\n",
    "        while next_v:\n",
    "            if next_v in visited:\n",
    "                cycle_vertex = next_v\n",
    "                break\n",
    "            visited.add(next_v)\n",
    "            next_v = pi.get(next_v)\n",
    "    \n",
    "    \"\"\"\n",
    "    Step 4 : If there is no cycle, return all the minimum edges pi(v)\n",
    "    \"\"\"\n",
    "    if cycle_vertex is None:\n",
    "        return set([(pi[v],v) for v in pi.keys()])\n",
    "    \n",
    "    \"\"\"\n",
    "    Step 5 : Otherwise, all the vertices in the cycle must be identified\n",
    "    \"\"\"\n",
    "    C = set()\n",
    "    C.add(cycle_vertex)\n",
    "    next_v = pi.get(cycle_vertex)\n",
    "    while next_v != cycle_vertex:\n",
    "        C.add(next_v)\n",
    "        next_v = pi.get(next_v)\n",
    "    \n",
    "    \"\"\"\n",
    "    Step 6 : Contracting the cycle C into a new node v_c\n",
    "    v_c is negative and squared to avoid having the same number\n",
    "    \"\"\"\n",
    "    v_c = -cycle_vertex**2\n",
    "    V_prime = set([v for v in V if v not in C] + [v_c])\n",
    "    E_prime = set()\n",
    "    w_prime = dict()\n",
    "    correspondance = dict()\n",
    "    for (u,v) in E:\n",
    "        if u not in C and v in C:\n",
    "            e = (u,v_c)\n",
    "            if e in E_prime:\n",
    "                if w_prime[e] < w[(u,v)] - w[(pi[v],v)]:\n",
    "                    continue\n",
    "            w_prime[e] = w[(u,v)] - w[(pi[v],v)]\n",
    "            correspondance[e] = (u,v)\n",
    "            E_prime.add(e)\n",
    "        elif u in C and v not in C:\n",
    "            e = (v_c,v)\n",
    "            if e in E_prime:\n",
    "                old_u = correspondance[e][0]\n",
    "                if w[(old_u,v)] < w[(u,v)]:\n",
    "                    continue\n",
    "            E_prime.add(e)\n",
    "            w_prime[e] = w[(u,v)]\n",
    "            correspondance[e] = (u,v)\n",
    "        elif u not in C and v not in C:\n",
    "            e = (u,v)\n",
    "            E_prime.add(e)\n",
    "            w_prime[e] = w[(u,v)]\n",
    "            correspondance[e] = (u,v)\n",
    "    \n",
    "    \"\"\"\n",
    "    Step 7 : Recursively calling the algorithm again until no cycles are found\n",
    "    \"\"\"\n",
    "    tree = msa(V_prime, E_prime, r, w_prime)\n",
    "    \n",
    "    \"\"\"\n",
    "    Step 8 : \n",
    "    \"\"\"\n",
    "    cycle_edge = None\n",
    "    for (u,v) in tree:\n",
    "        if v == v_c:\n",
    "            old_v = correspondance[(u,v_c)][1]\n",
    "            cycle_edge = (pi[old_v],old_v)\n",
    "            break\n",
    "    \n",
    "    ret = set([correspondance[(u,v)] for (u,v) in tree])\n",
    "    for v in C:\n",
    "        u = pi[v]\n",
    "        ret.add((u,v))\n",
    "        \n",
    "    ret.remove(cycle_edge)\n",
    "    \n",
    "    return ret"
   ]
  }
 ],
 "metadata": {
  "kernelspec": {
   "display_name": "Python 3.10.4 64-bit",
   "language": "python",
   "name": "python3"
  },
  "language_info": {
   "codemirror_mode": {
    "name": "ipython",
    "version": 3
   },
   "file_extension": ".py",
   "mimetype": "text/x-python",
   "name": "python",
   "nbconvert_exporter": "python",
   "pygments_lexer": "ipython3",
   "version": "3.10.4"
  },
  "orig_nbformat": 4,
  "vscode": {
   "interpreter": {
    "hash": "c81d839d3c4227cd770621df97fe8191838af02e7eef185a922d8250cb33d344"
   }
  }
 },
 "nbformat": 4,
 "nbformat_minor": 2
}
