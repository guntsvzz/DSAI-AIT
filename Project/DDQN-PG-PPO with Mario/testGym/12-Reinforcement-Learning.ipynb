{
 "cells": [
  {
   "cell_type": "markdown",
   "metadata": {},
   "source": [
    "# Lab 13: Reinforcement Learning (RL)\n",
    "\n",
    "**I bring lab 13 and 14 of RL in RTML class (Up to DQN, remove self-environment creation). Please design exercise at below :-)**\n",
    "\n",
    "Today we'll have a gentle introduction to reinforcement learning.\n",
    "The material in today's lab comes from these references:\n",
    "\n",
    " - Pytorch 1.x Reinforcement Learning Cookbook (Packtpub)\n",
    " - Hands-On Reinforcement Learning for Games (Packtpub)\n",
    " - https://www.kdnuggets.com/2018/03/5-things-reinforcement-learning.html\n",
    " - Reinforcement Learning: An Introduction (Sutton et al.)\n",
    " - https://github.com/werner-duvaud/muzero-general (simulator code)\n",
    "\n",
    "\n",
    "## Reinforcement learning\n",
    "\n",
    "Reinforcement Learning (RL) is a machine learning technique that enables an agent to learn in an interactive environment by trial and error using feedback on its actions and experiences.\n",
    "RL uses rewards and punishment as signals for \"good\" and \"bad\" behavior.\n",
    "\n",
    "Generally, at each step, the agent outputs an action, which is input to the environment. The environment evolves according to its dynamics, the agent observes the new state of the environment\n",
    "and (optionally) a reward, and the process continues until hopefully the agent learns what behavior maximizes its reward.\n",
    "\n",
    "<img src=\"img/RL.jpg\" title=\"Introduction\" style=\"width: 600px;\" />\n",
    "\n",
    "\n",
    "## Markov decision process (MDP)\n",
    "\n",
    "Markov decision process (MDP) is a discrete-time stochastic control process.\n",
    "It provides a mathematical framework for modeling decision making in situations where outcomes are partly random and partly under the control of a decision maker.\n",
    "MDPs are useful for studying optimization problems solved via dynamic programming.\n",
    "They are used in many disciplines, including robotics, automatic control, economics and manufacturing.\n",
    "\n",
    "The MDP model is based on the idea of an environment that evolves as a Markov chain.\n",
    "\n",
    "### Markov chain\n",
    "\n",
    "A Markov chain is a model of the dynamics of a discrete time system that obeys the (first order) \"Markov property,\" meaning that the state $s^{t+1}$ at time\n",
    "$t+1$ is conditionally independent of the state at times $0, \\ldots, t-1$ given the state at time $t$, i.e.,\n",
    "\n",
    "$$ p(s^{t+1} \\mid s^t, s^{t-1}, \\ldots, s^0) = p(s^{t+1} \\mid s^t). $$\n",
    "\n",
    "Informally, we might say that the current state is all you need to know to predict the next state.\n",
    "\n",
    "A Markov chain is defined by a set of possible states $S={s_0, s_1, \\ldots, s_n}$ and a transition matrix $T(s,s')$ containing the propbabilities of state $s$ (current state) transitioning to state $s'$ (next state).\n",
    "\n",
    "Here is a visualization of a simple Markov chain:\n",
    "\n",
    "<img src=\"img/RL_markov.png\" title=\"Markov chain\" style=\"width: 600px;\" />\n",
    "\n",
    "You might be interested in [this Markov chain simulator](https://setosa.io/ev/markov-chains/) and the [full screen diagram](https://setosa.io/markov/index.html).\n",
    "\n",
    "Now, the dynamics of the environment in a MDP are slightly different from that of a simple Markov chain. We have to consider how the agent's\n",
    "actions affect the system's dynamics. At each time step, rather than just\n",
    "transitioning randomly to the next state, we add the agent's action as an external input or disturbance $a \\in A$, so (assuming a small number of discrete\n",
    "states and actions) the transition probabilities become a 3D tensor of size $|S|\\times |A|\\times |S|$\n",
    "mapping each state/action pair to a probability distribution over the states.\n",
    "\n",
    "### A simple MDP\n",
    "\n",
    "Assume we have **Three states** (**A**, **B**, **C**), the Markov chain is:\n",
    "\n",
    "<img src=\"img/MarkovChain.PNG\" title=\"Markov chain example\" style=\"width: 400px;\" />\n",
    "\n",
    "The transition matrix is:\n",
    "\n",
    "$$\n",
    "T =\n",
    "\\begin{bmatrix}\n",
    "0.3 & 0.5 & 0.2 \\\\ \n",
    "0.8 & 0.1 & 0.1 \\\\\n",
    "0.1 & 0.3 & 0.6\n",
    "\\end{bmatrix}\n",
    "$$\n",
    "\n",
    "Each row means current state, and each column means the next state to go. If you consider $0.5$ in the matrix (row 0, and column 1), you can say that \"now you are in state **A** and the possible to go to next state of **B** is 0.5\"\n"
   ]
  },
  {
   "cell_type": "code",
   "execution_count": 2,
   "metadata": {},
   "outputs": [
    {
     "name": "stdout",
     "output_type": "stream",
     "text": [
      "tensor([[0.3000, 0.5000, 0.2000],\n",
      "        [0.8000, 0.1000, 0.1000],\n",
      "        [0.1000, 0.3000, 0.6000]])\n"
     ]
    }
   ],
   "source": [
    "import torch\n",
    "\n",
    "T = torch.tensor([[0.3, 0.5, 0.2],\n",
    "                  [0.8, 0.1, 0.1],\n",
    "                  [0.1, 0.3, 0.6]])\n",
    "\n",
    "# show the matrix\n",
    "print(T)"
   ]
  },
  {
   "cell_type": "markdown",
   "metadata": {},
   "source": [
    "#### Probability after k steps\n",
    "\n",
    "The probability after $k$ steps equation is:\n",
    "$$ T_n = T^n $$\n",
    "\n",
    "Thus, if we want to find the T state at step 2, 5, 10, 20, we can do as:"
   ]
  },
  {
   "cell_type": "code",
   "execution_count": 3,
   "metadata": {},
   "outputs": [
    {
     "name": "stdout",
     "output_type": "stream",
     "text": [
      "state transition at k=2: tensor([[0.5100, 0.2600, 0.2300],\n",
      "        [0.3300, 0.4400, 0.2300],\n",
      "        [0.3300, 0.2600, 0.4100]])\n",
      "state transition at k=5: tensor([[0.3991, 0.3230, 0.2779],\n",
      "        [0.4153, 0.3100, 0.2746],\n",
      "        [0.3926, 0.3165, 0.2908]])\n",
      "state transition at k=10: tensor([[0.4026, 0.3170, 0.2804],\n",
      "        [0.4024, 0.3172, 0.2804],\n",
      "        [0.4024, 0.3170, 0.2806]])\n",
      "state transition at k=20: tensor([[0.4024, 0.3171, 0.2805],\n",
      "        [0.4024, 0.3171, 0.2805],\n",
      "        [0.4024, 0.3171, 0.2805]])\n"
     ]
    }
   ],
   "source": [
    "T_2 = torch.matrix_power(T,2)\n",
    "print('state transition at k=2:', T_2)\n",
    "T_5 = torch.matrix_power(T,5)\n",
    "print('state transition at k=5:', T_5)\n",
    "T_10 = torch.matrix_power(T,10)\n",
    "print('state transition at k=10:', T_10)\n",
    "T_20 = torch.matrix_power(T,20)\n",
    "print('state transition at k=20:', T_20)"
   ]
  },
  {
   "cell_type": "markdown",
   "metadata": {},
   "source": [
    "The state transition after step 10 to 20 steps are going to converges. This means that, no matter what state the process is in, it has the same probability of transitioning to A (40.24%), B (31.71%), and C (28.05%).\n",
    "\n",
    "### Initial Distribution\n",
    "\n",
    "Assume we have the initial distribution of three state is:\n",
    "\n",
    "$$\n",
    "V=\n",
    "\\begin{bmatrix}\n",
    "0.2 & 0.5 & 0.3\n",
    "\\end{bmatrix}\n",
    "$$\n",
    "\n",
    "The initial distribution means you can go to any states at the first time, but it depends on the probability. In this matrix, we can say that there are possible to go to state A more than other states."
   ]
  },
  {
   "cell_type": "code",
   "execution_count": 4,
   "metadata": {},
   "outputs": [
    {
     "name": "stdout",
     "output_type": "stream",
     "text": [
      "tensor([[0.2000, 0.5000, 0.3000]])\n"
     ]
    }
   ],
   "source": [
    "V_0 = torch.tensor([[0.2, 0.5, 0.3]])\n",
    "\n",
    "print(V_0)"
   ]
  },
  {
   "cell_type": "markdown",
   "metadata": {},
   "source": [
    "Try to calculate the state distribution after state 1, 2, 5, 10, and 20"
   ]
  },
  {
   "cell_type": "code",
   "execution_count": 5,
   "metadata": {},
   "outputs": [
    {
     "name": "stdout",
     "output_type": "stream",
     "text": [
      "Distribution of states after 1 step:\n",
      "tensor([[0.4900, 0.2400, 0.2700]])\n",
      "\n",
      "Distribution of states after 2 step:\n",
      "tensor([[0.3660, 0.3500, 0.2840]])\n",
      "\n",
      "Distribution of states after 5 step:\n",
      "tensor([[0.4053, 0.3146, 0.2801]])\n",
      "\n",
      "Distribution of states after 10 step:\n",
      "tensor([[0.4024, 0.3171, 0.2805]])\n",
      "\n",
      "Distribution of states after 20 step:\n",
      "tensor([[0.4024, 0.3171, 0.2805]])\n",
      "\n"
     ]
    }
   ],
   "source": [
    "V_1 = torch.mm(V_0, T)\n",
    "print(\"Distribution of states after 1 step:\\n{}\\n\".format(V_1))\n",
    "V_2 = torch.mm(V_0, T_2)\n",
    "print(\"Distribution of states after 2 step:\\n{}\\n\".format(V_2))\n",
    "V_5 = torch.mm(V_0, T_5)\n",
    "print(\"Distribution of states after 5 step:\\n{}\\n\".format(V_5))\n",
    "V_10 = torch.mm(V_0, T_10)\n",
    "print(\"Distribution of states after 10 step:\\n{}\\n\".format(V_10))\n",
    "V_20 = torch.mm(V_0, T_20)\n",
    "print(\"Distribution of states after 20 step:\\n{}\\n\".format(V_20))"
   ]
  },
  {
   "cell_type": "markdown",
   "metadata": {},
   "source": [
    "We can see that, after 10 steps, the state distribution converges. The probability of being in A (40.24%), B (31.71%) and the probability of being in s1 (28.05%) remain unchanged in the long run.\n",
    "\n",
    "Starting with $[0.2,0.5,0.3]$, the state distribution after one iteration becomes $[0.4024, 0.3171, 0.2805]$. Details of its calculation are illustrated in the following diagram:\n",
    "\n",
    "<img src=\"img/MarkovDistributionChart.png\" title=\"Markov chain example\" style=\"width: 600px;\" />"
   ]
  },
  {
   "cell_type": "markdown",
   "metadata": {},
   "source": [
    "### Come back to MDP\n",
    "\n",
    "MDP is slightly different from a simple Markov chain because MDP has to consider agent's actions which affect to the system's dynamics.\n",
    "Thus, not only probability of transition of nextstate, but also agent's action need to be calculate. We assign $A$ as all possible actions and $a$ as the action which agent selects (at this situation, $a$ must be in $A$ or $a \\in A$.\n",
    "\n",
    "The transition probabilities become a **3D tensor** of size $|S|\\times |A|\\times |S|$\n",
    "mapping each state/action pair to a probability distribution over the states."
   ]
  },
  {
   "cell_type": "markdown",
   "metadata": {},
   "source": [
    "### A simple MDP\n",
    "\n",
    "Suppose we have **three states (s0, s1, s2) and two actions (a0, a1)** and that the state/action transition tensor is as follows:\n",
    "\n",
    "$$T=\n",
    "\\begin{cases}\n",
    " &\n",
    "\\begin{bmatrix}\n",
    "0.8 & 0.1 & 0.1 \\\\ \n",
    "0.1 & 0.6 & 0.3\n",
    "\\end{bmatrix} \\\\ \n",
    " & \n",
    "\\begin{bmatrix}\n",
    "0.7 & 0.2 & 0.1 \\\\ \n",
    "0.1 & 0.8 & 0.1\n",
    "\\end{bmatrix} \\\\  \n",
    " & \n",
    "\\begin{bmatrix}\n",
    "0.6 & 0.2 & 0.2 \\\\ \n",
    "0.1 & 0.4 & 0.5\n",
    "\\end{bmatrix}\n",
    "\\end{cases}\n",
    "$$\n",
    "\n",
    "The first matrix block is mean current state $s0$, second block is $s1$, and the third block is $s2$.\n",
    "\n",
    "Consider into the matrix block, the rows of matrix block mean actions (a0 is 1st row, and a1 is 2nd row). And the columns of matix block is the same as Markov Chain: next state $s'$"
   ]
  },
  {
   "cell_type": "code",
   "execution_count": 6,
   "metadata": {},
   "outputs": [
    {
     "name": "stdout",
     "output_type": "stream",
     "text": [
      "tensor([[[0.8000, 0.1000, 0.1000],\n",
      "         [0.1000, 0.6000, 0.3000]],\n",
      "\n",
      "        [[0.7000, 0.2000, 0.1000],\n",
      "         [0.1000, 0.8000, 0.1000]],\n",
      "\n",
      "        [[0.6000, 0.2000, 0.2000],\n",
      "         [0.1000, 0.4000, 0.5000]]])\n"
     ]
    }
   ],
   "source": [
    "# State transition function\n",
    "T = torch.tensor([[[0.8, 0.1, 0.1],\n",
    "                   [0.1, 0.6, 0.3]],\n",
    "                  [[0.7, 0.2, 0.1],\n",
    "                   [0.1, 0.8, 0.1]],\n",
    "                  [[0.6, 0.2, 0.2],\n",
    "                   [0.1, 0.4, 0.5]]])\n",
    "\n",
    "# show the matrix\n",
    "print(T)"
   ]
  },
  {
   "cell_type": "markdown",
   "metadata": {},
   "source": [
    "Assume we want to observe at state 2, and see the probability to change to state 1 with playing action 0, we can write in code with"
   ]
  },
  {
   "cell_type": "code",
   "execution_count": 7,
   "metadata": {},
   "outputs": [
    {
     "data": {
      "text/plain": [
       "tensor(0.2000)"
      ]
     },
     "execution_count": 7,
     "metadata": {},
     "output_type": "execute_result"
    }
   ],
   "source": [
    "T[2,0,1]"
   ]
  },
  {
   "cell_type": "markdown",
   "metadata": {},
   "source": [
    "To complete our simple MDP, we need a *reward function* $R$ and a *discount factor* $\\gamma$.\n",
    "\n",
    "**reward function $R$** is a set of rewards that depend on the state and the action taken.\n",
    "\n",
    "**discount factor $\\gamma$** is how important future rewards are to the current state. Discount factor is a value between 0 and 1. A reward $R$ that occurs $n$ steps in the future from the current state, is multiplied by $\\gamma^n$ to describe its importance to the current state (Thus, current reward is $\\gamma^tR$, where $t$ is a number step.\n",
    "\n",
    "Suppose $R = [ -1, 0.1, 0.9 ]$ and $\\gamma = 0.5$. Let's define our MDP in Python with PyTorch tensors:"
   ]
  },
  {
   "cell_type": "code",
   "execution_count": 8,
   "metadata": {},
   "outputs": [],
   "source": [
    "# Reward function\n",
    "R = torch.tensor([-1.,0.1,0.9])\n",
    "\n",
    "# Discount factor\n",
    "gamma = 0.5"
   ]
  },
  {
   "cell_type": "markdown",
   "metadata": {},
   "source": [
    "### The agent's goal\n",
    "\n",
    "Once the MDP is defined, the agent's goal is to **maximize its expected reward**.\n",
    "\n",
    "If we start in state $s^0$ and perform a series of actions $a^0, a^1, \\ldots a^{T-1}$ placing us in state $s^1, s^2, \\ldots s^T$, we obtain the total reward $R_F$\n",
    "\n",
    "$$R_F=\\sum_{t=0}^T \\gamma^{t} R(s^t)$$\n",
    "\n",
    "The agent's goal is to behave so as to maximize the expected total reward. To do so,\n",
    "it should come up with a policy $\\pi : S \\times A \\rightarrow \\mathbb{R}$ giving a probability distribution\n",
    "over actions that can be executed in each state, then when in state $s$, sample action $a$ according to that\n",
    "distribution $\\pi(s,\\cdot)$, and repeat.\n",
    "\n",
    "Now the agent's goal can be clearly specified as finding an optimal policy\n",
    "\n",
    "$$ \\pi^* = \\textrm{argmax}_\\pi \\mathbb{E}_{a^t \\sim \\pi(s^t), s^{t} \\sim T(s^{t-1},a^{t-1})}\\left[ \\sum_{t=0}^T \\gamma^{t} R(s^t) \\right]$$\n",
    "\n",
    "Under a particular policy $\\pi$, then, the *value* of state $s$ is the expected reward we obtain by following $\\pi$ from state $s$:\n",
    "\n",
    "$$ V^\\pi(s) = \\mathbb{E}_{a^t \\sim \\pi(s^t), s^{t} \\sim T(s^{t-1},a^{t-1}) \\mid s^0=s}\\left[ R(s) + \\sum_{t=1}^T \\gamma^{t} R(s^t) \\right]$$\n",
    "\n",
    "The value function clearly obeys the *Bellman equations*\n",
    "\n",
    "$$ V^\\pi(s) = R(s) + \\gamma \\sum_{s',a'} \\pi(s,a') T(s,a',s') V^\\pi(s'). $$ \n",
    "\n",
    "#### Too difficult?\n",
    "\n",
    "OK, lets see the easier version of equation\n",
    "\n",
    "The equation of V relate at time t is:\n",
    "\n",
    "$$V_{t+1}=R+\\gamma * T * V_t$$\n",
    "\n",
    "When the value converges, which mean $V_{t+1}=V_t$, so we can derive the value $V$ as:\n",
    "\n",
    "$$\n",
    "V=R+\\gamma * T * V \\\\\n",
    "V = (I-\\gamma * T)^{-1} * R.\n",
    "$$\n",
    "\n",
    "The function can be writed as:"
   ]
  },
  {
   "cell_type": "code",
   "execution_count": 9,
   "metadata": {},
   "outputs": [],
   "source": [
    "def cal_value_matrix_inversion(gamma, trans_matrix, rewards):\n",
    "    inv = torch.inverse(torch.eye(rewards.shape[0]) - gamma * trans_matrix)\n",
    "    V = torch.mm(inv, rewards.reshape(-1, 1))\n",
    "    return V"
   ]
  },
  {
   "cell_type": "markdown",
   "metadata": {},
   "source": [
    "Asume that we select action $a_0$ in all curcumstances."
   ]
  },
  {
   "cell_type": "code",
   "execution_count": 10,
   "metadata": {},
   "outputs": [],
   "source": [
    "action = 0"
   ]
  },
  {
   "cell_type": "markdown",
   "metadata": {},
   "source": [
    "Find transition matrix:"
   ]
  },
  {
   "cell_type": "code",
   "execution_count": 11,
   "metadata": {},
   "outputs": [
    {
     "name": "stdout",
     "output_type": "stream",
     "text": [
      "tensor([[0.8000, 0.1000, 0.1000],\n",
      "        [0.7000, 0.2000, 0.1000],\n",
      "        [0.6000, 0.2000, 0.2000]])\n"
     ]
    }
   ],
   "source": [
    "trans_matrix = T[:, action]\n",
    "\n",
    "print(trans_matrix)"
   ]
  },
  {
   "cell_type": "markdown",
   "metadata": {},
   "source": [
    "Calculate value from the bellman equation above:"
   ]
  },
  {
   "cell_type": "code",
   "execution_count": 12,
   "metadata": {},
   "outputs": [
    {
     "name": "stdout",
     "output_type": "stream",
     "text": [
      "The value function under the optimal policy is:\n",
      "tensor([[-1.6781],\n",
      "        [-0.5202],\n",
      "        [ 0.3828]])\n"
     ]
    }
   ],
   "source": [
    "V = cal_value_matrix_inversion(gamma, trans_matrix, R)\n",
    "\n",
    "print(\"The value function under the optimal policy is:\\n{}\".format(V))"
   ]
  },
  {
   "cell_type": "markdown",
   "metadata": {},
   "source": [
    "### Policy evaluation\n",
    "\n",
    "To determine how good a particular policy is, we use policy evaluation.\n",
    "Policy evaluation is an iterative algorithm. It starts with arbitrary values for each state\n",
    "and then iteratively updates the values based on the Bellman equations until the values converge. Assume $\\pi$ is the value of a policy, the update equation is:\n",
    "\n",
    "$$ V(s) = \\sum_a \\pi(s,a) \\left[ R(s,a) + \\gamma \\sum_{s'} T(s,a',s') V(s') \\right] $$ \n",
    "\n",
    "$\\pi(s,a)$: the probability of taking action $a$ in stat $s$ under policy $\\pi$\n",
    "$R(s,a)$: the reward received in state $s$ by taking action $a$\n",
    "\n",
    "You can see this algorithm's pseudocode in Sutton's book on page 75.\n",
    "\n",
    "Because Policy evaluation is a loop processing, you need to stop by conditions. There are 2 ways to terminate the iterative updating process.\n",
    "- Fix number of iterations\n",
    "- Set some specific threshold and terminating the process when the values of all states change to lower than the threshold.\n",
    "\n",
    "Here we compute the value of the three states in our MDP assuming the agent always peforms the first action. The function process are:\n",
    "\n",
    "1. Initializes the policy values as all zeros.\n",
    "2. Updates the values based on the Bellman expectation equation.\n",
    "3. Computes the maximal change of the values across all states.\n",
    "4. If the maximal change is greater than the threshold, it keeps updating the values. Otherwise, it terminates the evaluation process and returns the latest values."
   ]
  },
  {
   "cell_type": "code",
   "execution_count": 13,
   "metadata": {},
   "outputs": [],
   "source": [
    "def policy_evaluation(policy, trans_matrix, rewards, gamma, threshold):\n",
    "    \"\"\"\n",
    "    Perform policy evaluation\n",
    "    @param policy: policy matrix containing actions and their \n",
    "                            probability in each state\n",
    "    @param trans_matrix: transformation matrix\n",
    "    @param rewards: rewards for each state\n",
    "    @param gamma: discount factor\n",
    "    @param threshold: the evaluation will stop once values \n",
    "                           for all states are less than the threshold\n",
    "    @return: values of the given policy for all possible states\n",
    "    \"\"\"\n",
    "    n_state = policy.shape[0]\n",
    "    V = torch.zeros(n_state)\n",
    "    V_his = [V]\n",
    "    i = 0\n",
    "    while True:\n",
    "        V_temp = torch.zeros(n_state)\n",
    "        i += 1\n",
    "        for state, actions in enumerate(policy):\n",
    "            for action, action_prob in enumerate(actions):\n",
    "                V_temp[state] += action_prob * (R[state] + gamma * torch.dot(trans_matrix[state, action], V))\n",
    "        max_delta = torch.max(torch.abs(V - V_temp))\n",
    "        V = V_temp.clone()\n",
    "        V_his.append(V)\n",
    "        if max_delta <= threshold:\n",
    "            break\n",
    "    return V, V_his"
   ]
  },
  {
   "cell_type": "markdown",
   "metadata": {},
   "source": [
    "Define the threshold used to determine when to stop the evaluation process and the optimal policy where action a0 is chosen under all circumstances:"
   ]
  },
  {
   "cell_type": "code",
   "execution_count": 14,
   "metadata": {},
   "outputs": [],
   "source": [
    "threshold = 0.0001\n",
    "\n",
    "policy_optimal = torch.tensor([[1.0, 0.0],\n",
    "                               [1.0, 0.0],\n",
    "                               [1.0, 0.0]])"
   ]
  },
  {
   "cell_type": "markdown",
   "metadata": {},
   "source": [
    "Using the policy_evaluation function to find the optimal policy:"
   ]
  },
  {
   "cell_type": "code",
   "execution_count": 15,
   "metadata": {},
   "outputs": [
    {
     "name": "stdout",
     "output_type": "stream",
     "text": [
      "The value function under the optimal policy is:\n",
      "tensor([-1.6780, -0.5201,  0.3829])\n"
     ]
    }
   ],
   "source": [
    "V, V_his = policy_evaluation(policy_optimal, T, R, gamma, threshold)\n",
    "\n",
    "print(\"The value function under the optimal policy is:\\n{}\".format(V))"
   ]
  },
  {
   "cell_type": "markdown",
   "metadata": {},
   "source": [
    "Plot the resulting history of values:"
   ]
  },
  {
   "cell_type": "code",
   "execution_count": 16,
   "metadata": {},
   "outputs": [],
   "source": [
    "import matplotlib.pyplot as plt\n",
    "\n",
    "def plot_history(V_history, gamma):\n",
    "    s = []\n",
    "    text = []\n",
    "    for i in range(len(V_history[0])):\n",
    "        s_x, = plt.plot([v[i] for v in V_history])\n",
    "        s.append(s_x)\n",
    "        text.append('State s' + str(i))\n",
    "\n",
    "    plt.title('Optimal policy with gamma = {}'.format(str(gamma)))\n",
    "    plt.xlabel('Iteration')\n",
    "    plt.ylabel('Policy values')\n",
    "    plt.legend(s, text, loc=\"upper left\")\n",
    "    \n",
    "    plt.show()"
   ]
  },
  {
   "cell_type": "code",
   "execution_count": 17,
   "metadata": {},
   "outputs": [
    {
     "data": {
      "image/png": "[encoded data removed]",
      "text/plain": [
       "<Figure size 432x288 with 1 Axes>"
      ]
     },
     "metadata": {
      "needs_background": "light"
     },
     "output_type": "display_data"
    }
   ],
   "source": [
    "plot_history(V_his, gamma)"
   ]
  },
  {
   "cell_type": "markdown",
   "metadata": {},
   "source": [
    "### Value iteration algorithm\n",
    "\n",
    "The idea behind value iteration is quite similar to that of policy evaluation. It is also an iterative algorithm. It starts with arbitrary policy values and then iteratively updates the values based on the Bellman optimality equation until they converge. So in each iteration, instead of taking the expectation (average) of values across all actions, it picks the action that achieves the maximal policy values:\n",
    "\n",
    "$$ V^*(s) = \\max_a \\left[ R(s,a) + \\gamma \\sum_{s'} T(s,a',s') V^*(s') \\right] $$ \n",
    "\n",
    "$V^*(s)$ denotes the optimal value, which is the value of the optimal policy\n",
    "\n",
    "Once the optimal values are computed, we obtain the optimal policy:\n",
    "\n",
    "$$ \\pi^*(s) = \\text{argmax}_a \\sum_{s'}T(s,a,s') \\left[ R(s,a) + \\gamma V^*(s') \\right] $$ "
   ]
  },
  {
   "cell_type": "markdown",
   "metadata": {},
   "source": [
    "### Apply it to gym environment\n",
    "\n",
    "In this step, we try to use *FrozenLake* environment to see how to implement the value iteration.\n",
    "\n",
    "FrozenLake is a typical Gym environment with a discrete state space. It is about moving an agent from the starting location to the goal location in a grid world, and at the same time avoiding traps. Currently, We use four by four grid (https://gym.openai.com/envs/FrozenLake-v0/)."
   ]
  },
  {
   "cell_type": "markdown",
   "metadata": {},
   "source": [
    "## OpenAI Gym\n",
    "\n",
    "One of the popular simulation environment for RL is OpenAI Gym.\n",
    "\n",
    "[OpenAI](https://openai.com) is a research company trying to develop systems exhibiting *artificial general intelligence* (AGI).\n",
    "They developed Gym to support the development of RL algorithms. Gym\n",
    "provides many reinforcement learning simulations and tasks. Visit [the Gym website](https://gym.openai.com) for a full list of environments.\n",
    "\n",
    "<img src=\"img/RL_gym.PNG\" title=\"Gym example\" style=\"width: 600px;\" />\n",
    "\n",
    "### Install Gym\n",
    "\n",
    "From your local machine, you can follow from [this step](https://github.com/Alisa-Kunapinun/Deep-Reinforcement-learning-lab/tree/main/01-Intro_RL_Setup). However, it is a little bit old (and the gym is update every 2 month!), so try to solve those problems yourself. :-)"
   ]
  },
  {
   "cell_type": "code",
   "execution_count": 18,
   "metadata": {},
   "outputs": [],
   "source": [
    "# RUN apt-get update ; apt-get install -y x11-utils xvfb python-opengl\n",
    "# RUN pip install pyglet gym pyvirtualdisplay\n",
    "# RUN pip install -U gym==0.21.0\n",
    "# RUN pip install gym[atari,accept-rom-license]\n",
    "\n",
    "# !pip install gym pyvirtualdisplay > /dev/null 2>&1\n",
    "# !pip install -U gym==0.21.0\n",
    "# !pip install -U gym[atari,accept-rom-license]"
   ]
  },
  {
   "cell_type": "code",
   "execution_count": 1,
   "metadata": {},
   "outputs": [
    {
     "data": {
      "text/plain": [
       "'0.26.2'"
      ]
     },
     "execution_count": 1,
     "metadata": {},
     "output_type": "execute_result"
    }
   ],
   "source": [
    "import gym\n",
    "import torch\n",
    "gym.__version__"
   ]
  },
  {
   "cell_type": "markdown",
   "metadata": {},
   "source": [
    "#### Test it!"
   ]
  },
  {
   "cell_type": "code",
   "execution_count": 20,
   "metadata": {},
   "outputs": [],
   "source": [
    "# !python SpaceInvaders.py"
   ]
  },
  {
   "cell_type": "code",
   "execution_count": 3,
   "metadata": {},
   "outputs": [],
   "source": [
    "#For version : 0.26.2\n",
    "# import matplotlib.pyplot as plt\n",
    "# import gym\n",
    "# from IPython import display\n",
    "# %matplotlib inline\n",
    "\n",
    "# env = gym.make(\"ALE/SpaceInvaders-v5\", obs_type='rgb', render_mode='rgb_array')\n",
    "\n",
    "# obs, info = env.reset()\n",
    "\n",
    "# for i in range(20000):\n",
    "#     action = env.action_space.sample()\n",
    "#     obs, reward, terminated, truncated, info = env.step(action)\n",
    "#     if i % 100 == 0:\n",
    "#         plt.imshow(obs)\n",
    "#         display.display(plt.gcf())    \n",
    "#         display.clear_output(wait=True)\n",
    "   \n",
    "#     if terminated or truncated:\n",
    "#         env.reset()\n",
    "\n",
    "# env.close()"
   ]
  },
  {
   "cell_type": "code",
   "execution_count": 18,
   "metadata": {},
   "outputs": [],
   "source": [
    "#For version : 0.21.0\n",
    "# import gym\n",
    "# import numpy as np\n",
    "# import matplotlib.pyplot as plt\n",
    "# from IPython import display as ipythondisplay\n",
    "\n",
    "# from pyvirtualdisplay import Display\n",
    "# display = Display(visible=0, size=(400, 300))\n",
    "# display.start()\n",
    "\n",
    "# # env = gym.make(\"CartPole-v0\")\n",
    "# # env = gym.make(\"DoubleDunk-v0\")\n",
    "# env = gym.make(\"SpaceInvaders-v0\")\n",
    "# # env = gym.make(\"Acrobot-v1\") # double invert pendulum\n",
    "# env.reset()\n",
    "# prev_screen = env.render(mode='rgb_array')\n",
    "# plt.imshow(prev_screen)\n",
    "\n",
    "# for i in range(20):\n",
    "#     action = env.action_space.sample()\n",
    "#     obs, reward, done, info = env.step(action)\n",
    "#     # total = env.step(action)\n",
    "#     screen = env.render(mode='rgb_array')\n",
    "\n",
    "#     plt.imshow(screen)\n",
    "#     ipythondisplay.clear_output(wait=True)\n",
    "#     ipythondisplay.display(plt.gcf())\n",
    "\n",
    "#     if done:\n",
    "#         break\n",
    "\n",
    "# ipythondisplay.clear_output(wait=True)\n",
    "# env.close()"
   ]
  },
  {
   "cell_type": "markdown",
   "metadata": {},
   "source": [
    "### Come back to Value Iteration\n",
    "\n",
    "Import gym library and pytorch library."
   ]
  },
  {
   "cell_type": "code",
   "execution_count": 23,
   "metadata": {},
   "outputs": [],
   "source": [
    "import gym\n",
    "import torch"
   ]
  },
  {
   "cell_type": "code",
   "execution_count": 26,
   "metadata": {},
   "outputs": [
    {
     "data": {
      "text/plain": [
       "'0.26.2'"
      ]
     },
     "execution_count": 26,
     "metadata": {},
     "output_type": "execute_result"
    }
   ],
   "source": [
    "gym.__version__"
   ]
  },
  {
   "cell_type": "markdown",
   "metadata": {},
   "source": [
    "Create Frozen environment and take a look states and actions"
   ]
  },
  {
   "cell_type": "code",
   "execution_count": 5,
   "metadata": {},
   "outputs": [
    {
     "name": "stdout",
     "output_type": "stream",
     "text": [
      "number of states: 16\n",
      "number of actions: 4\n"
     ]
    }
   ],
   "source": [
    "#For version : 0.21.0\n",
    "# env = gym.make(\"FrozenLake-v1\")\n",
    "#For version : 0.26.2\n",
    "env = gym.make(\"FrozenLake-v1\",render_mode='rgb_array')\n",
    "\n",
    "n_state = env.observation_space.n\n",
    "print(\"number of states:\", n_state)\n",
    "\n",
    "n_action = env.action_space.n\n",
    "print(\"number of actions:\", n_action)"
   ]
  },
  {
   "cell_type": "markdown",
   "metadata": {},
   "source": [
    "Reset and render the environment. Because the graphical of the environment is **text** style and no image pop-up. We can use render() directly.\n",
    "\n",
    "**Note**: In the new version of gym, the environment is not text, so you need to use **pyvirtualdisplay**. These depend on your version. Check yourself!"
   ]
  },
  {
   "cell_type": "code",
   "execution_count": 50,
   "metadata": {},
   "outputs": [
    {
     "name": "stdout",
     "output_type": "stream",
     "text": [
      "state:  (0, {'prob': 1})\n"
     ]
    },
    {
     "data": {
      "image/png": "[encoded data removed]",
      "text/plain": [
       "<Figure size 432x288 with 1 Axes>"
      ]
     },
     "metadata": {
      "needs_background": "light"
     },
     "output_type": "display_data"
    }
   ],
   "source": [
    "state = env.reset()\n",
    "env.render()\n",
    "\n",
    "img = plt.imshow(env.render()) # only call this once\n",
    "img.set_data(env.render()) # just update the data\n",
    "display.display(plt.gcf())\n",
    "display.clear_output(wait=True)\n",
    "\n",
    "print(\"state: \", state)"
   ]
  },
  {
   "cell_type": "markdown",
   "metadata": {},
   "source": [
    "Try to put an down action to make the agent work."
   ]
  },
  {
   "cell_type": "code",
   "execution_count": 51,
   "metadata": {},
   "outputs": [
    {
     "data": {
      "image/png": "[encoded data removed]",
      "text/plain": [
       "<Figure size 432x288 with 1 Axes>"
      ]
     },
     "metadata": {
      "needs_background": "light"
     },
     "output_type": "display_data"
    }
   ],
   "source": [
    "left = 0\n",
    "down = 1\n",
    "right = 2\n",
    "up = 3\n",
    "#For version : 0.21.0\n",
    "# new_state, reward, is_done, info = env.step(down)\n",
    "#For version : 0.26.2\n",
    "new_state, reward, is_done, truncated , info = env.step(down)\n",
    "env.render()\n",
    "img = plt.imshow(env.render()) # only call this once\n",
    "img.set_data(env.render()) # just update the data\n",
    "display.display(plt.gcf())\n",
    "display.clear_output(wait=True)"
   ]
  },
  {
   "cell_type": "markdown",
   "metadata": {},
   "source": [
    "Check the output of environment class after take action. In the <code>info</code>, and <code>new_state</code>, it says that the agent lands in <code>new_state</code>, with probability 0.3333333333333333. The reward is 0 because the agent has not reached the goal and the episode is not done. You might see the agent landing in different state, or staying in state 0 because of the slippery surface."
   ]
  },
  {
   "cell_type": "code",
   "execution_count": 52,
   "metadata": {},
   "outputs": [
    {
     "name": "stdout",
     "output_type": "stream",
     "text": [
      "state:  0\n",
      "reward:  0.0\n",
      "Finish?:  False\n",
      "information:  {'prob': 0.3333333333333333}\n"
     ]
    }
   ],
   "source": [
    "print(\"state: \", new_state)\n",
    "\n",
    "print(\"reward: \", reward)\n",
    "\n",
    "print(\"Finish?: \", is_done)\n",
    "\n",
    "print(\"information: \", info)"
   ]
  },
  {
   "cell_type": "markdown",
   "metadata": {},
   "source": [
    "Define a function that simulates a FrozenLake episode given a policy and returns the total reward"
   ]
  },
  {
   "cell_type": "code",
   "execution_count": 53,
   "metadata": {},
   "outputs": [],
   "source": [
    "# import time\n",
    "def run_episode(env, policy, render=False):\n",
    "    state,_ = env.reset()\n",
    "    if render:\n",
    "        env.render()\n",
    "    total_reward = 0\n",
    "    is_done = False\n",
    "    step = 1\n",
    "    while not is_done:\n",
    "        action = policy[state].item()\n",
    "        new_state, reward, is_done, truncated , info = env.step(down)\n",
    "        if render:\n",
    "            # time.sleep(500)\n",
    "            print('step: ', step)\n",
    "            # env.render()\n",
    "            img = plt.imshow(env.render()) # only call this once\n",
    "            img.set_data(env.render()) # just update the data\n",
    "            display.display(plt.gcf())\n",
    "            display.clear_output(wait=True)\n",
    "        total_reward += reward\n",
    "        step += 1\n",
    "        if is_done:\n",
    "            break\n",
    "    return total_reward"
   ]
  },
  {
   "cell_type": "markdown",
   "metadata": {},
   "source": [
    "Try to run 500 episodes with random policy, and see the results\n",
    "\n",
    "We randomly generated a policy that was composed of 16 actions for the 16 states. Keep in mind that in FrozenLake, the movement direction is only partially dependent on the chosen action. This increases the uncertainty of control."
   ]
  },
  {
   "cell_type": "code",
   "execution_count": 54,
   "metadata": {},
   "outputs": [
    {
     "name": "stdout",
     "output_type": "stream",
     "text": [
      "Average total reward under random policy: 0.002\n",
      "tensor([2, 3, 3, 1, 0, 1, 1, 3, 1, 3, 2, 0, 0, 3, 1, 1])\n"
     ]
    }
   ],
   "source": [
    "n_episode = 500\n",
    "total_rewards = []\n",
    "\n",
    "for episode in range(n_episode):\n",
    "    # Create random policy with integer value deal to number of actions with n_state size.\n",
    "    random_policy = torch.randint(high=n_action, size=(n_state,))\n",
    "    # run an episode\n",
    "    total_reward = run_episode(env, random_policy)\n",
    "    total_rewards.append(total_reward)\n",
    "    \n",
    "    if total_reward == 1:\n",
    "        best_policy = random_policy\n",
    "        break\n",
    "    \n",
    "print('Average total reward under random policy: {}'.format(sum(total_rewards) / n_episode))\n",
    "# see the best policy\n",
    "print(best_policy)"
   ]
  },
  {
   "cell_type": "markdown",
   "metadata": {},
   "source": [
    "Try to run 500 episodes again using the <code>best_policy</code>, to check that the winning rate is good or not."
   ]
  },
  {
   "cell_type": "code",
   "execution_count": 79,
   "metadata": {},
   "outputs": [
    {
     "name": "stdout",
     "output_type": "stream",
     "text": [
      "Average total reward under best policy: 0.058\n"
     ]
    }
   ],
   "source": [
    "total_rewards = []\n",
    "\n",
    "for episode in range(n_episode):# run an episode\n",
    "    total_reward = run_episode(env, best_policy)\n",
    "    total_rewards.append(total_reward)\n",
    "    \n",
    "print('Average total reward under best policy: {}'.format(sum(total_rewards) / n_episode))"
   ]
  },
  {
   "cell_type": "markdown",
   "metadata": {},
   "source": [
    "See the simulator"
   ]
  },
  {
   "cell_type": "code",
   "execution_count": 80,
   "metadata": {},
   "outputs": [
    {
     "name": "stdout",
     "output_type": "stream",
     "text": [
      "Total reward under best policy: 1.0\n"
     ]
    },
    {
     "data": {
      "image/png": "[encoded data removed]",
      "text/plain": [
       "<Figure size 432x288 with 1 Axes>"
      ]
     },
     "metadata": {
      "needs_background": "light"
     },
     "output_type": "display_data"
    }
   ],
   "source": [
    "total_reward = run_episode(env, best_policy, True)\n",
    "\n",
    "print('Total reward under best policy: {}'.format(total_reward))"
   ]
  },
  {
   "cell_type": "markdown",
   "metadata": {},
   "source": [
    "### Solving FrozenLake with value iteration\n",
    "\n",
    "At above, we found that the best policy from random policy is not good enough, so let's implement value iteration.\n",
    "\n",
    "Set discount factor $\\gamma$ as 0.9 and convergence threshold 0.000001"
   ]
  },
  {
   "cell_type": "code",
   "execution_count": 81,
   "metadata": {},
   "outputs": [],
   "source": [
    "gamma = 0.9\n",
    "threshold = 0.000001"
   ]
  },
  {
   "cell_type": "markdown",
   "metadata": {},
   "source": [
    "Create value iteration function"
   ]
  },
  {
   "cell_type": "code",
   "execution_count": 84,
   "metadata": {},
   "outputs": [],
   "source": [
    "def value_iteration(env, gamma, threshold):\n",
    "    \"\"\"\n",
    "    Solve a given environment with value iteration algorithm\n",
    "    @param env: OpenAI Gym environment\n",
    "    @param gamma: discount factor\n",
    "    @param threshold: the evaluation will stop once values for \n",
    "                       all states are less than the threshold\n",
    "    @return: values of the optimal policy for the given \n",
    "              environment\n",
    "    \"\"\"\n",
    "    n_state = env.observation_space.n\n",
    "    n_action = env.action_space.n\n",
    "    V = torch.zeros(n_state)\n",
    "    while True:\n",
    "        V_temp = torch.empty(n_state)\n",
    "        for state in range(n_state):\n",
    "            v_actions = torch.zeros(n_action)\n",
    "            for action in range(n_action):\n",
    "                # calculate the optimal policy using probability in environment\n",
    "                for trans_prob, new_state, reward, _ in env.env.P[state][action]:\n",
    "                    v_actions[action] += trans_prob * (reward + gamma * V[new_state])\n",
    "            V_temp[state] = torch.max(v_actions)\n",
    "        max_delta = torch.max(torch.abs(V - V_temp))\n",
    "        V = V_temp.clone()\n",
    "        if max_delta <= threshold:\n",
    "            break\n",
    "    return V"
   ]
  },
  {
   "cell_type": "markdown",
   "metadata": {},
   "source": [
    "Find the optimal value using value iteration function"
   ]
  },
  {
   "cell_type": "code",
   "execution_count": 85,
   "metadata": {},
   "outputs": [
    {
     "name": "stdout",
     "output_type": "stream",
     "text": [
      "Optimal values:\n",
      "tensor([0.0689, 0.0614, 0.0744, 0.0558, 0.0918, 0.0000, 0.1122, 0.0000, 0.1454,\n",
      "        0.2475, 0.2996, 0.0000, 0.0000, 0.3799, 0.6390, 0.0000])\n"
     ]
    }
   ],
   "source": [
    "V_optimal = value_iteration(env, gamma, threshold)\n",
    "\n",
    "print('Optimal values:\\n{}'.format(V_optimal))"
   ]
  },
  {
   "cell_type": "markdown",
   "metadata": {},
   "source": [
    "Create a function to extract from optimal value to be optimal policy."
   ]
  },
  {
   "cell_type": "code",
   "execution_count": 86,
   "metadata": {},
   "outputs": [],
   "source": [
    "def extract_optimal_policy(env, V_optimal, gamma):\n",
    "    \"\"\"\n",
    "    Obtain the optimal policy based on the optimal values\n",
    "    @param env: OpenAI Gym environment\n",
    "    @param V_optimal: optimal values\n",
    "    @param gamma: discount factor\n",
    "    @return: optimal policy\n",
    "    \"\"\"\n",
    "    n_state = env.observation_space.n\n",
    "    n_action = env.action_space.n\n",
    "    optimal_policy = torch.zeros(n_state)\n",
    "    for state in range(n_state):\n",
    "        v_actions = torch.zeros(n_action)\n",
    "        for action in range(n_action):\n",
    "            for trans_prob, new_state, reward, _ in env.env.P[state][action]:\n",
    "                v_actions[action] += trans_prob * (reward \n",
    "                           + gamma * V_optimal[new_state])\n",
    "        optimal_policy[state] = torch.argmax(v_actions)\n",
    "    return optimal_policy"
   ]
  },
  {
   "cell_type": "code",
   "execution_count": 87,
   "metadata": {},
   "outputs": [
    {
     "name": "stdout",
     "output_type": "stream",
     "text": [
      "Optimal policy:\n",
      "tensor([0., 3., 0., 3., 0., 0., 0., 0., 3., 1., 0., 0., 0., 2., 1., 0.])\n"
     ]
    }
   ],
   "source": [
    "optimal_policy = extract_optimal_policy(env, V_optimal, gamma)\n",
    "\n",
    "print('Optimal policy:\\n{}'.format(optimal_policy))"
   ]
  },
  {
   "cell_type": "markdown",
   "metadata": {},
   "source": [
    "Try to run 500 episodes again using the <code>optimal_policy</code>, to check that the winning rate is good or not."
   ]
  },
  {
   "cell_type": "code",
   "execution_count": 88,
   "metadata": {},
   "outputs": [
    {
     "name": "stdout",
     "output_type": "stream",
     "text": [
      "Average total reward under optimal policy: 0.058\n"
     ]
    }
   ],
   "source": [
    "total_rewards = []\n",
    "\n",
    "for episode in range(n_episode):# run an episode\n",
    "    total_reward = run_episode(env, optimal_policy)\n",
    "    total_rewards.append(total_reward)\n",
    "    \n",
    "print('Average total reward under optimal policy: {}'.format(sum(total_rewards) / n_episode))"
   ]
  },
  {
   "cell_type": "markdown",
   "metadata": {},
   "source": [
    "You can see that the optimal_policy accuracy is better than the random_policy."
   ]
  },
  {
   "cell_type": "markdown",
   "metadata": {},
   "source": [
    "### Policy iteration\n",
    "\n",
    "Policy iteration starts with a random policy then uses policy evaluation and the resulting values to iteratively improve the policy until an optimal policy is obtained. It is, however,\n",
    "slow, due to the policy evaluation loop within the policy iteration loop.\n",
    "\n",
    "### Implement with policy iteration\n",
    "\n",
    "A policy iteration algorithm can be subdivided into two components: policy evaluation and policy improvement. It starts with an arbitrary policy. And in each iteration, it first computes the policy values given the latest policy, based on the Bellman expectation equation; it then extracts an improved policy out of the resulting policy values, based on the Bellman optimality equation. It iteratively evaluates the policy and generates an improved version until the policy doesn't change any more.\n",
    "\n",
    "$$ V(s) = \\sum_{s'} T(s,a',s') \\left[ R(s,a,s') + \\gamma V(s') \\right] $$ \n",
    "\n",
    "Once the optimal values are computed, we obtain the optimal policy:\n",
    "\n",
    "$$ \\pi(s) = \\text{argmax}_a \\sum_{s'}T(s,a,s') \\left[ R(s,a,s') + \\gamma V(s') \\right] $$ \n",
    "\n",
    "Here's an implementation using a slightly different formulation fo the reward as a function $R(s,a,s')$ of the current state $s$, action taken $a$, and resulting state $s'$:"
   ]
  },
  {
   "cell_type": "code",
   "execution_count": 89,
   "metadata": {
    "tags": []
   },
   "outputs": [],
   "source": [
    "def policy_evaluation(env, policy, gamma, threshold):\n",
    "    \"\"\"\n",
    "    Perform policy evaluation\n",
    "    @param env: OpenAI Gym environment\n",
    "    @param policy: policy matrix containing actions and \n",
    "                            their probability in each state\n",
    "    @param gamma: discount factor\n",
    "    @param threshold: the evaluation will stop once values for all states are less than the threshold\n",
    "    @return: values of the given policy\n",
    "    \"\"\"\n",
    "    n_state = policy.shape[0]\n",
    "    V = torch.zeros(n_state)\n",
    "    while True:\n",
    "        V_temp = torch.zeros(n_state)\n",
    "        for state in range(n_state):\n",
    "            action = policy[state].item()\n",
    "            for trans_prob, new_state, reward, _ in env.env.P[state][action]:\n",
    "                V_temp[state] += trans_prob * (reward + gamma * V[new_state])\n",
    "        max_delta = torch.max(torch.abs(V - V_temp))\n",
    "        V = V_temp.clone()\n",
    "        if max_delta <= threshold:\n",
    "           break\n",
    "    return V"
   ]
  },
  {
   "cell_type": "code",
   "execution_count": 90,
   "metadata": {},
   "outputs": [],
   "source": [
    "def policy_improvement(env, V, gamma):\n",
    "    \"\"\"\n",
    "    Obtain an improved policy based on the values\n",
    "    @param env: OpenAI Gym environment\n",
    "    @param V: policy values\n",
    "    @param gamma: discount factor\n",
    "    @return: the policy\n",
    "    \"\"\"\n",
    "    n_state = env.observation_space.n\n",
    "    n_action = env.action_space.n\n",
    "    policy = torch.zeros(n_state)\n",
    "    for state in range(n_state):\n",
    "        v_actions = torch.zeros(n_action)\n",
    "        for action in range(n_action):\n",
    "            for trans_prob, new_state, reward, _ in env.env.P[state][action]:\n",
    "                v_actions[action] += trans_prob * (reward + gamma * V[new_state])\n",
    "        policy[state] = torch.argmax(v_actions)\n",
    "    return policy"
   ]
  },
  {
   "cell_type": "markdown",
   "metadata": {},
   "source": [
    "Create policy_iteration function. The function combines policy_evaluation and policy_improvement."
   ]
  },
  {
   "cell_type": "code",
   "execution_count": 91,
   "metadata": {},
   "outputs": [],
   "source": [
    "def policy_iteration(env, gamma, threshold):\n",
    "    \"\"\"\n",
    "    Solve a given environment with policy iteration algorithm\n",
    "    @param env: OpenAI Gym environment\n",
    "    @param gamma: discount factor\n",
    "    @param threshold: the evaluation will stop once values \n",
    "                    for all states are less than the threshold\n",
    "    @return: optimal values and the optimal policy for the given \n",
    "              environment\n",
    "    \"\"\"\n",
    "    n_state = env.observation_space.n\n",
    "    n_action = env.action_space.n\n",
    "    policy = torch.randint(high=n_action, size=(n_state,)).float()\n",
    "    while True:\n",
    "        V = policy_evaluation(env, policy, gamma, threshold)\n",
    "        policy_improved = policy_improvement(env, V, gamma)\n",
    "        if torch.equal(policy_improved, policy):\n",
    "            return V, policy_improved\n",
    "        policy = policy_improved"
   ]
  },
  {
   "cell_type": "code",
   "execution_count": 92,
   "metadata": {},
   "outputs": [
    {
     "name": "stdout",
     "output_type": "stream",
     "text": [
      "Optimal values:\n",
      "tensor([0.0689, 0.0614, 0.0744, 0.0558, 0.0918, 0.0000, 0.1122, 0.0000, 0.1454,\n",
      "        0.2475, 0.2996, 0.0000, 0.0000, 0.3799, 0.6390, 0.0000])\n",
      "Optimal policy:\n",
      "tensor([0., 3., 0., 3., 0., 0., 0., 0., 3., 1., 0., 0., 0., 2., 1., 0.])\n"
     ]
    }
   ],
   "source": [
    "# try it\n",
    "V_optimal, optimal_policy = policy_iteration(env, gamma, threshold)\n",
    "\n",
    "print('Optimal values:\\n{}'.format(V_optimal))\n",
    "print('Optimal policy:\\n{}'.format(optimal_policy))"
   ]
  },
  {
   "cell_type": "markdown",
   "metadata": {},
   "source": [
    "Try to run 500 episodes again using the <code>optimal_policy</code>, to check that the winning rate is good or not."
   ]
  },
  {
   "cell_type": "code",
   "execution_count": 93,
   "metadata": {},
   "outputs": [
    {
     "name": "stdout",
     "output_type": "stream",
     "text": [
      "Average total reward under optimal policy: 0.044\n"
     ]
    }
   ],
   "source": [
    "total_rewards = []\n",
    "\n",
    "for episode in range(n_episode):# run an episode\n",
    "    total_reward = run_episode(env, optimal_policy)\n",
    "    total_rewards.append(total_reward)\n",
    "    \n",
    "print('Average total reward under optimal policy: {}'.format(sum(total_rewards) / n_episode))"
   ]
  },
  {
   "cell_type": "markdown",
   "metadata": {},
   "source": [
    "### Atari games environment\n",
    "\n",
    "Atari games includes video games such as Alien, Pong, and Space Race. Here is the example of using the Space Invaders game.\n",
    "\n",
    "Let's create a Space Invaders environment:"
   ]
  },
  {
   "cell_type": "code",
   "execution_count": 96,
   "metadata": {},
   "outputs": [
    {
     "data": {
      "text/plain": [
       "(array([[[ 0,  0,  0],\n",
       "         [ 0,  0,  0],\n",
       "         [ 0,  0,  0],\n",
       "         ...,\n",
       "         [ 0,  0,  0],\n",
       "         [ 0,  0,  0],\n",
       "         [ 0,  0,  0]],\n",
       " \n",
       "        [[ 0,  0,  0],\n",
       "         [ 0,  0,  0],\n",
       "         [ 0,  0,  0],\n",
       "         ...,\n",
       "         [ 0,  0,  0],\n",
       "         [ 0,  0,  0],\n",
       "         [ 0,  0,  0]],\n",
       " \n",
       "        [[ 0,  0,  0],\n",
       "         [ 0,  0,  0],\n",
       "         [ 0,  0,  0],\n",
       "         ...,\n",
       "         [ 0,  0,  0],\n",
       "         [ 0,  0,  0],\n",
       "         [ 0,  0,  0]],\n",
       " \n",
       "        ...,\n",
       " \n",
       "        [[80, 89, 22],\n",
       "         [80, 89, 22],\n",
       "         [80, 89, 22],\n",
       "         ...,\n",
       "         [80, 89, 22],\n",
       "         [80, 89, 22],\n",
       "         [80, 89, 22]],\n",
       " \n",
       "        [[80, 89, 22],\n",
       "         [80, 89, 22],\n",
       "         [80, 89, 22],\n",
       "         ...,\n",
       "         [80, 89, 22],\n",
       "         [80, 89, 22],\n",
       "         [80, 89, 22]],\n",
       " \n",
       "        [[80, 89, 22],\n",
       "         [80, 89, 22],\n",
       "         [80, 89, 22],\n",
       "         ...,\n",
       "         [80, 89, 22],\n",
       "         [80, 89, 22],\n",
       "         [80, 89, 22]]], dtype=uint8),\n",
       " {'lives': 3, 'episode_frame_number': 0, 'frame_number': 0})"
      ]
     },
     "execution_count": 96,
     "metadata": {},
     "output_type": "execute_result"
    }
   ],
   "source": [
    "import gym\n",
    "# create environment\n",
    "#For version : 0.21.0\n",
    "# env = gym.make('SpaceInvaders-v0')\n",
    "#For version : 0.26.2\n",
    "env = gym.make('SpaceInvaders-v4',render_mode='rgb_array')\n",
    "# reset environments\n",
    "env.reset()"
   ]
  },
  {
   "cell_type": "markdown",
   "metadata": {},
   "source": [
    "Render the environment locally. (You cannot render in Jupyter, or let us know if you find a way!)\n",
    "\n",
    "Locally, you should get output like this:\n",
    "\n",
    "<img src=\"img/RL_SpaceInvaders.PNG\" title=\"Space Invaders\" style=\"width: 600px;\" />"
   ]
  },
  {
   "cell_type": "markdown",
   "metadata": {},
   "source": [
    "for i in range(20):\n",
    "    action = env.action_space.sample()\n",
    "    obs, reward, terminated, truncated, info = env.step(action)\n",
    "    if i % 100 == 0:\n",
    "        plt.imshow(obs)\n",
    "        display.display(plt.gcf())    \n",
    "        display.clear_output(wait=True)\n",
    "   \n",
    "    if terminated or truncated:\n",
    "        env.reset()\n",
    "\n",
    "env.close()After rendering, you'll want to close the environment.\n",
    "\n",
    "<font size=\"3\" color=\"red\"><b>WARNING</b></font>\n",
    "    \n",
    "In JUPYTER NOTEBOOK or JUPYTER LAB, you need to use <code><font color='red'>env.close()</font></code> after <code>env.render()</code>, unless the program will stuck."
   ]
  },
  {
   "cell_type": "code",
   "execution_count": 100,
   "metadata": {},
   "outputs": [
    {
     "data": {
      "image/png": "[encoded data removed]",
      "text/plain": [
       "<Figure size 432x288 with 1 Axes>"
      ]
     },
     "metadata": {
      "needs_background": "light"
     },
     "output_type": "display_data"
    }
   ],
   "source": [
    "for i in range(20):\n",
    "    action = env.action_space.sample()\n",
    "    obs, reward, terminated, truncated, info = env.step(action)\n",
    "    if i % 100 == 0:\n",
    "        plt.imshow(obs)\n",
    "        display.display(plt.gcf())    \n",
    "        display.clear_output(wait=True)\n",
    "   \n",
    "    if terminated or truncated:\n",
    "        env.reset()\n",
    "\n",
    "env.close()"
   ]
  },
  {
   "cell_type": "code",
   "execution_count": 99,
   "metadata": {},
   "outputs": [],
   "source": [
    "# Example 1\n",
    "\n",
    "# import time\n",
    "# env.render()\n",
    "# time.sleep(5)\n",
    "# # close the environment\n",
    "# env.close()"
   ]
  },
  {
   "cell_type": "code",
   "execution_count": 104,
   "metadata": {},
   "outputs": [],
   "source": [
    "# import time\n",
    "# env.render()\n",
    "# for i in range(200):\n",
    "#     img = plt.imshow(env.render()) # only call this once\n",
    "#     img.set_data(env.render()) # just update the data\n",
    "#     display.display(plt.gcf())\n",
    "#     display.clear_output(wait=True)\n",
    "\n",
    "# # time.sleep(5)\n",
    "# # close the environment\n",
    "# env.close()"
   ]
  },
  {
   "cell_type": "markdown",
   "metadata": {},
   "source": [
    "If you cannot use Atari games due to errors occurring in Windows, you can try another simulator such as CartPole (inverted pendulum):\n",
    "\n",
    "<img src=\"img/RL_CartPole.PNG\" title=\"Cart pole\" style=\"width: 600px;\" />"
   ]
  },
  {
   "cell_type": "code",
   "execution_count": 109,
   "metadata": {},
   "outputs": [],
   "source": [
    "# Example 2\n",
    "\n",
    "#import gym\n",
    "#import time\n",
    "# create environment\n",
    "# env = gym.make('CartPole-v0')\n",
    "\n",
    "# reset environments\n",
    "# env.reset()\n",
    "\n",
    "# render the environment\n",
    "#env.render()\n",
    "#time.sleep(5)\n",
    "\n",
    "#env.close()"
   ]
  },
  {
   "cell_type": "markdown",
   "metadata": {},
   "source": [
    "Before try the example above, I have another solution that you can use gym run in Jupyter notebook.\n",
    "One is MP4 and another is real-time showing. <link>[In this link](https://kyso.io/eoin/openai-gym-jupyter#code=both)</link>"
   ]
  },
  {
   "cell_type": "markdown",
   "metadata": {},
   "source": [
    "### Way1: MP4 Running\n",
    "\n",
    "Save the simulation as an mp4 and save it at the end. This method makes the simulation faster since there is no visualising happening every step. In this simulation we just make the space ship take a random move each step."
   ]
  },
  {
   "cell_type": "code",
   "execution_count": 79,
   "metadata": {},
   "outputs": [],
   "source": [
    "# import gym\n",
    "# from gym import wrappers\n",
    "\n",
    "# env = gym.make('SpaceInvaders-v0')\n",
    "# env = wrappers.Monitor(env, \"./gym-results\", force=True)\n",
    "# env.reset()\n",
    "# for _ in range(1000):\n",
    "#     action = env.action_space.sample()\n",
    "#     observation, reward, done, info = env.step(action)\n",
    "#     if done: break\n",
    "# env.close()"
   ]
  },
  {
   "cell_type": "markdown",
   "metadata": {},
   "source": [
    "And show MP4 vdo by this code"
   ]
  },
  {
   "cell_type": "code",
   "execution_count": 80,
   "metadata": {},
   "outputs": [],
   "source": [
    "# import io\n",
    "# import base64\n",
    "# from IPython.display import HTML\n",
    "\n",
    "# video = io.open('./gym-results/openaigym.video.%s.video000000.mp4' % env.file_infix, 'r+b').read()\n",
    "# encoded = base64.b64encode(video)\n",
    "# HTML(data='''\n",
    "#     <video width=\"360\" height=\"auto\" alt=\"test\" controls><source src=\"data:video/mp4;base64,{0}\" type=\"video/mp4\" /></video>'''\n",
    "# .format(encoded.decode('ascii')))"
   ]
  },
  {
   "cell_type": "markdown",
   "metadata": {},
   "source": [
    "### Way2: Show as gif in realtime\n",
    "\n",
    "This method is useful for look at the simulation in realtime, but it does make the simulation take longer. It does not save the gif, but if you run this cell you will the image change as the simulation progresses."
   ]
  },
  {
   "cell_type": "code",
   "execution_count": null,
   "metadata": {},
   "outputs": [
    {
     "name": "stdout",
     "output_type": "stream",
     "text": [
      "Requirement already satisfied: gym[box2d] in /opt/conda/lib/python3.9/site-packages (0.26.2)\n",
      "Requirement already satisfied: gym-notices>=0.0.4 in /opt/conda/lib/python3.9/site-packages (from gym[box2d]) (0.0.8)\n",
      "Requirement already satisfied: cloudpickle>=1.2.0 in /opt/conda/lib/python3.9/site-packages (from gym[box2d]) (2.0.0)\n",
      "Requirement already satisfied: importlib-metadata>=4.8.0 in /opt/conda/lib/python3.9/site-packages (from gym[box2d]) (4.10.0)\n",
      "Requirement already satisfied: numpy>=1.18.0 in /opt/conda/lib/python3.9/site-packages (from gym[box2d]) (1.21.5)\n",
      "Requirement already satisfied: pygame==2.1.0 in /opt/conda/lib/python3.9/site-packages (from gym[box2d]) (2.1.0)\n",
      "\u001b[33mWARNING: Retrying (Retry(total=4, connect=None, read=None, redirect=None, status=None)) after connection broken by 'ConnectTimeoutError(<pip._vendor.urllib3.connection.HTTPSConnection object at 0x7f492ac3fcd0>, 'Connection to pypi.org timed out. (connect timeout=15)')': /simple/box2d-py/\u001b[0m\n",
      "\u001b[33mWARNING: Retrying (Retry(total=3, connect=None, read=None, redirect=None, status=None)) after connection broken by 'ConnectTimeoutError(<pip._vendor.urllib3.connection.HTTPSConnection object at 0x7f492ac3fd30>, 'Connection to pypi.org timed out. (connect timeout=15)')': /simple/box2d-py/\u001b[0m\n"
     ]
    }
   ],
   "source": [
    "!pip install gym[box2d]"
   ]
  },
  {
   "cell_type": "code",
   "execution_count": 113,
   "metadata": {},
   "outputs": [],
   "source": [
    "# import gym\n",
    "# from IPython import display\n",
    "# import matplotlib\n",
    "# import matplotlib.pyplot as plt\n",
    "# %matplotlib inline\n",
    "\n",
    "# env = gym.make('CarRacing-v2')\n",
    "# env.reset()\n",
    "# plt.figure(figsize=(9,9))\n",
    "# #img = plt.imshow(env.render(mode='rgb_array')) # only call this once\n",
    "# for _ in range(100):\n",
    "#     #img.set_data(env.render(mode='rgb_array')) # just update the data\n",
    "#     #display.display(plt.gcf())\n",
    "#     #display.clear_output(wait=True)\n",
    "#     # env.render()\n",
    "#     img = plt.imshow(env.render()) # only call this once\n",
    "#     img.set_data(env.render()) # just update the data\n",
    "#     display.display(plt.gcf())\n",
    "#     display.clear_output(wait=True)\n",
    "#     action = env.action_space.sample()\n",
    "#     env.step(action)\n",
    "# env.close()"
   ]
  },
  {
   "cell_type": "code",
   "execution_count": null,
   "metadata": {},
   "outputs": [],
   "source": [
    "#For version : 0.26.0\n",
    "import gym\n",
    "from IPython import display\n",
    "import matplotlib\n",
    "import matplotlib.pyplot as plt\n",
    "%matplotlib inline\n",
    "\n",
    "env = gym.make('CarRacing-v2',render_mode=\"rgb_array\")\n",
    "env.reset()\n",
    "plt.figure(figsize=(9,9))\n",
    "img = plt.imshow(env.render()) # only call this once\n",
    "for _ in range(100):\n",
    "    img.set_data(env.render()) # just update the data\n",
    "    display.display(plt.gcf())\n",
    "    display.clear_output(wait=True)\n",
    "    # env.render()\n",
    "    action = env.action_space.sample()\n",
    "    env.step(action)\n",
    "env.close()"
   ]
  },
  {
   "cell_type": "markdown",
   "metadata": {},
   "source": [
    "#### In this lab, I recommend you to use the way2 for smoother working ;-)"
   ]
  },
  {
   "cell_type": "markdown",
   "metadata": {},
   "source": [
    "Take a look at the action space available, and try to get a sample from the action space:"
   ]
  },
  {
   "cell_type": "code",
   "execution_count": 114,
   "metadata": {},
   "outputs": [
    {
     "name": "stdout",
     "output_type": "stream",
     "text": [
      "Discrete(2)\n",
      "0\n"
     ]
    }
   ],
   "source": [
    "print(env.action_space)\n",
    "action = env.action_space.sample()\n",
    "print(action)"
   ]
  },
  {
   "cell_type": "markdown",
   "metadata": {},
   "source": [
    "Execute an action using `step()`.\n",
    "The `step` method returns the next state after the action is taken.\n",
    " - **new_state**: The new observation\n",
    " - **reward**: The reward associated with that action in that state.\n",
    " - **is_done**: A flag to tell the game end (True).\n",
    " - **info**: extra information"
   ]
  },
  {
   "cell_type": "code",
   "execution_count": 47,
   "metadata": {},
   "outputs": [
    {
     "name": "stdout",
     "output_type": "stream",
     "text": [
      "False\n",
      "-0.10000000000000009\n",
      "{}\n"
     ]
    }
   ],
   "source": [
    "# new_state, reward, is_done, info = env.step(action)\n",
    "#For version 0.26.2\n",
    "new_state, reward, is_done,_, info = env.step(action)\n",
    "print(is_done)\n",
    "print(reward)\n",
    "print(info)"
   ]
  },
  {
   "cell_type": "markdown",
   "metadata": {},
   "source": [
    "Let's make a *while* loop with a random agent:"
   ]
  },
  {
   "cell_type": "code",
   "execution_count": 50,
   "metadata": {},
   "outputs": [
    {
     "data": {
      "image/png": "[encoded data removed]",
      "text/plain": [
       "<Figure size 900x900 with 1 Axes>"
      ]
     },
     "metadata": {},
     "output_type": "display_data"
    }
   ],
   "source": [
    "# import time\n",
    "\n",
    "# is_done = False\n",
    "# env = gym.make('SpaceInvaders-v0')\n",
    "# env.reset()\n",
    "# plt.figure(figsize=(9,9))\n",
    "# img = plt.imshow(env.render(mode='rgb_array')) # only call this once\n",
    "# step = 0\n",
    "# while step >= 2:\n",
    "# # while not is_done:\n",
    "#     action = env.action_space.sample()\n",
    "#     new_state, reward, is_done, info = env.step(action)\n",
    "#     print(info)\n",
    "#     img.set_data(env.render(mode='rgb_array')) # just update the data\n",
    "#     display.display(plt.gcf())\n",
    "#     display.clear_output(wait=True)\n",
    "#     time.sleep(0.03)\n",
    "#     step += 1\n",
    "# env.close()"
   ]
  },
  {
   "cell_type": "markdown",
   "metadata": {},
   "source": [
    "## Using the environments to do reinforcement learning\n",
    "\n",
    "## Monte Carlo (MC) Method\n",
    "\n",
    "Monte Carlo method is a model-free which have no require any prior knowledge of the environment. MC method is more scalable than MDP. MC control is used for finding the optimal policy when a policy is not given. There are 2 basically of MC control: on-policy and off-policy. On-policy method learns about the optimal policy by executing the policy and evaluating and improving it, while Off-policy method learns about the optimal policy using data generated by another policy."
   ]
  },
  {
   "cell_type": "markdown",
   "metadata": {},
   "source": [
    "## Monte Carlo Method Concept\n",
    "\n",
    "MC method is any mothod that uses randomness to solve problems. The algorithm repeats suitable **random sampling** and observes the fraction of samples that obey particular properties in order to make numerical estimations.\n",
    "\n",
    "## Find $\\pi$ using MC method\n",
    "\n",
    "$\\pi$? Yes the $\\pi$ which is used for calculate circle. We assume that if there are some random points which are in the square area. We can calculate $\\pi$ by\n",
    "\n",
    "$$ A_{rect} = (2r)^2 = 4r^2 $$\n",
    "$$ A_{circle} = \\pi r^2 $$\n",
    "\n",
    "Hence,\n",
    "$$ \\frac{A_{circle}}{A_{rect}} = \\frac{\\pi r^2}{4r^2} = \\frac{\\pi}{4} $$\n",
    "\n",
    "Let's try to code:"
   ]
  },
  {
   "cell_type": "code",
   "execution_count": 6,
   "metadata": {},
   "outputs": [],
   "source": [
    "import torch\n",
    "import numpy\n",
    "import math\n",
    "import matplotlib.pyplot as plt"
   ]
  },
  {
   "cell_type": "markdown",
   "metadata": {},
   "source": [
    "Random 2,000 points in the square $x \\in [-1,1]$ and $y \\in [-1,1]$"
   ]
  },
  {
   "cell_type": "code",
   "execution_count": 7,
   "metadata": {},
   "outputs": [],
   "source": [
    "n_point = 2000\n",
    "points = torch.rand((n_point, 2)) * 2 - 1"
   ]
  },
  {
   "cell_type": "markdown",
   "metadata": {},
   "source": [
    "Find the points which are inside the circle, and keep them (this is for plot in the graph only)\n"
   ]
  },
  {
   "cell_type": "code",
   "execution_count": 8,
   "metadata": {},
   "outputs": [],
   "source": [
    "points_circle_x = []\n",
    "points_circle_y = []\n",
    "n_point_circle = 0\n",
    "\n",
    "pi_iteration = []\n",
    "i = 1\n",
    "for point in points:\n",
    "    r = torch.sqrt(point[0] ** 2 + point[1] ** 2)\n",
    "    if r <= 1:\n",
    "        points_circle_x.append(point[0])\n",
    "        points_circle_y.append(point[1])\n",
    "        n_point_circle += 1\n",
    "    pi_iteration.append(4 * (n_point_circle / i))\n",
    "    i += 1\n",
    "        \n",
    "points_circle_x = numpy.asarray(points_circle_x)\n",
    "points_circle_y = numpy.asarray(points_circle_y)"
   ]
  },
  {
   "cell_type": "markdown",
   "metadata": {},
   "source": [
    "Find the estimate $\\pi$"
   ]
  },
  {
   "cell_type": "code",
   "execution_count": 9,
   "metadata": {},
   "outputs": [
    {
     "name": "stdout",
     "output_type": "stream",
     "text": [
      "Estimated value of pi is: 3.142\n"
     ]
    }
   ],
   "source": [
    "pi_estimated = 4 * n_point_circle / n_point\n",
    "print('Estimated value of pi is:', pi_estimated)"
   ]
  },
  {
   "cell_type": "markdown",
   "metadata": {},
   "source": [
    "Plot to show the points and circle"
   ]
  },
  {
   "cell_type": "code",
   "execution_count": 10,
   "metadata": {},
   "outputs": [
    {
     "ename": "TypeError",
     "evalue": "linspace() missing 1 required positional arguments: \"steps\"",
     "output_type": "error",
     "traceback": [
      "\u001b[1;31m---------------------------------------------------------------------------\u001b[0m",
      "\u001b[1;31mTypeError\u001b[0m                                 Traceback (most recent call last)",
      "\u001b[1;32mc:\\Users\\Guntsv\\Downloads\\AIT\\AT82.03 Machine Learning (ML)\\Laboratory\\ML2022-13-Reinforcement-Learning\\12-Reinforcement-Learning.ipynb Cell 117\u001b[0m in \u001b[0;36m<cell line: 4>\u001b[1;34m()\u001b[0m\n\u001b[0;32m      <a href='vscode-notebook-cell:/c%3A/Users/Guntsv/Downloads/AIT/AT82.03%20Machine%20Learning%20%28ML%29/Laboratory/ML2022-13-Reinforcement-Learning/12-Reinforcement-Learning.ipynb#Y631sZmlsZQ%3D%3D?line=1'>2</a>\u001b[0m plt\u001b[39m.\u001b[39mplot(points_circle_x, points_circle_y, \u001b[39m'\u001b[39m\u001b[39mc.\u001b[39m\u001b[39m'\u001b[39m)\n\u001b[0;32m      <a href='vscode-notebook-cell:/c%3A/Users/Guntsv/Downloads/AIT/AT82.03%20Machine%20Learning%20%28ML%29/Laboratory/ML2022-13-Reinforcement-Learning/12-Reinforcement-Learning.ipynb#Y631sZmlsZQ%3D%3D?line=2'>3</a>\u001b[0m \u001b[39m# plot real circle\u001b[39;00m\n\u001b[1;32m----> <a href='vscode-notebook-cell:/c%3A/Users/Guntsv/Downloads/AIT/AT82.03%20Machine%20Learning%20%28ML%29/Laboratory/ML2022-13-Reinforcement-Learning/12-Reinforcement-Learning.ipynb#Y631sZmlsZQ%3D%3D?line=3'>4</a>\u001b[0m i \u001b[39m=\u001b[39m torch\u001b[39m.\u001b[39;49mlinspace(\u001b[39m0\u001b[39;49m, \u001b[39m2\u001b[39;49m \u001b[39m*\u001b[39;49m math\u001b[39m.\u001b[39;49mpi)\n\u001b[0;32m      <a href='vscode-notebook-cell:/c%3A/Users/Guntsv/Downloads/AIT/AT82.03%20Machine%20Learning%20%28ML%29/Laboratory/ML2022-13-Reinforcement-Learning/12-Reinforcement-Learning.ipynb#Y631sZmlsZQ%3D%3D?line=4'>5</a>\u001b[0m plt\u001b[39m.\u001b[39mplot(torch\u001b[39m.\u001b[39mcos(i)\u001b[39m.\u001b[39mnumpy(), torch\u001b[39m.\u001b[39msin(i)\u001b[39m.\u001b[39mnumpy(), \u001b[39m'\u001b[39m\u001b[39mr-\u001b[39m\u001b[39m'\u001b[39m)\n\u001b[0;32m      <a href='vscode-notebook-cell:/c%3A/Users/Guntsv/Downloads/AIT/AT82.03%20Machine%20Learning%20%28ML%29/Laboratory/ML2022-13-Reinforcement-Learning/12-Reinforcement-Learning.ipynb#Y631sZmlsZQ%3D%3D?line=5'>6</a>\u001b[0m \u001b[39m# plot circle from estimate pi\u001b[39;00m\n",
      "\u001b[1;31mTypeError\u001b[0m: linspace() missing 1 required positional arguments: \"steps\""
     ]
    },
    {
     "data": {
      "image/png": "[encoded data removed]",
      "text/plain": [
       "<Figure size 432x288 with 1 Axes>"
      ]
     },
     "metadata": {
      "needs_background": "light"
     },
     "output_type": "display_data"
    }
   ],
   "source": [
    "plt.plot(points[:, 0].numpy(), points[:, 1].numpy(), 'y.')\n",
    "plt.plot(points_circle_x, points_circle_y, 'c.')\n",
    "# plot real circle\n",
    "i = torch.linspace(0, 2 * math.pi)\n",
    "plt.plot(torch.cos(i).numpy(), torch.sin(i).numpy(), 'r-')\n",
    "# plot circle from estimate pi\n",
    "i = torch.linspace(0, 2 * pi_estimated)\n",
    "plt.plot(torch.cos(i).numpy(), torch.sin(i).numpy(), 'b--')\n",
    "plt.axes().set_aspect('equal')\n",
    "plt.show()"
   ]
  },
  {
   "cell_type": "code",
   "execution_count": 11,
   "metadata": {},
   "outputs": [
    {
     "data": {
      "image/png": "[encoded data removed]",
      "text/plain": [
       "<Figure size 432x288 with 1 Axes>"
      ]
     },
     "metadata": {
      "needs_background": "light"
     },
     "output_type": "display_data"
    }
   ],
   "source": [
    "plt.plot(pi_iteration)\n",
    "plt.plot([math.pi] * n_point, '--')\n",
    "plt.xlabel('Iteration')\n",
    "plt.ylabel('Estimated pi')\n",
    "plt.title('Estimation history')\n",
    "plt.show()"
   ]
  },
  {
   "cell_type": "markdown",
   "metadata": {},
   "source": [
    "### Monte Carlo Policy Evaluation\n",
    "\n",
    "Last time, we applied **DP** algorithm into policy evaluation. The things we need are:\n",
    "\n",
    "- Full state-value transition matrix\n",
    "- Reward matrix\n",
    "\n",
    "Those are fully known environment. However, in real-life situation, we don't know before we reach the situation. This is the **limitation of model-base algorithm**. To address the problem, the **model-free algorithm** is created for no pre-required prior knowledge both transition and rewards matrices.\n",
    "\n",
    "We need to recall the returns of **Giving Policy (G)** from a process, which are the total rewards over the long run, \n",
    "\n",
    "$$G_t=\\sum_k \\gamma^k R_{t+k+1}$$\n",
    "\n",
    "MC policy evaluation uses **empirical mean return** instead of **expected return (as in DP)** to estimate the value function. There are two ways to perform MC policy evaluation.\n",
    "- First-visit MC prediction -- averages the returns only for the first occurrence of a state, s, in an episode. \n",
    "- Every-visit MC prediction -- averages the returns for every occurrence of a state, s, in an episode.\n",
    "\n",
    "First-visit MC prediction has fewer calculations than the every-visit version, so it is more frequently used.\n",
    "\n",
    "### Incremental means\n",
    "\n",
    "To update the MC method, the incremenatl means have been used for update the policy. An incremental or running mean allows us to keep an average for a list of numbers without having to remember the list. We hold one value that we incrementally update using the following equation:\n",
    "\n",
    "$$V(S_t) = V(S_t) + \\alpha(G_t + V(S_t))$$\n",
    "\n",
    "When $V(S_t)$ is the current state value for the policy, $\\alpha$ is a discount rate, and $G_t$."
   ]
  },
  {
   "cell_type": "markdown",
   "metadata": {},
   "source": [
    "### FrozenLake and First-visit MC policy evaluation\n",
    "\n",
    "Let's start in FrozenLake environment using first-visit MC prediction."
   ]
  },
  {
   "cell_type": "code",
   "execution_count": 12,
   "metadata": {},
   "outputs": [],
   "source": [
    "import torch\n",
    "import gym\n",
    "\n",
    "env = gym.make(\"FrozenLake-v1\")"
   ]
  },
  {
   "cell_type": "code",
   "execution_count": 13,
   "metadata": {},
   "outputs": [
    {
     "data": {
      "text/plain": [
       "'0.26.2'"
      ]
     },
     "execution_count": 13,
     "metadata": {},
     "output_type": "execute_result"
    }
   ],
   "source": [
    "gym.__version__"
   ]
  },
  {
   "cell_type": "markdown",
   "metadata": {},
   "source": [
    "Create a function which simulate for each episode given a policy and returns the reward and state for each step"
   ]
  },
  {
   "cell_type": "code",
   "execution_count": 15,
   "metadata": {},
   "outputs": [],
   "source": [
    "def run_episode(env, policy):\n",
    "    state = env.reset()\n",
    "    # this is the difference between MC and DP, find rewards and states\n",
    "    rewards = []\n",
    "    states = [state]\n",
    "    is_done = False\n",
    "    while not is_done:\n",
    "        action = policy[state].item()\n",
    "        state, reward, is_done,_, info = env.step(action)\n",
    "        # keep all states and reward\n",
    "        states.append(state)\n",
    "        rewards.append(reward)\n",
    "        if is_done:\n",
    "            break\n",
    "    # convert to torch\n",
    "    states = torch.tensor(states)\n",
    "    rewards = torch.tensor(rewards)\n",
    "    return states, rewards"
   ]
  },
  {
   "cell_type": "markdown",
   "metadata": {},
   "source": [
    "Create MC prediction in first-visit."
   ]
  },
  {
   "cell_type": "code",
   "execution_count": 16,
   "metadata": {},
   "outputs": [],
   "source": [
    "def mc_prediction_first_visit(env, policy, gamma, n_episode):\n",
    "    n_state = policy.shape[0]\n",
    "    V = torch.zeros(n_state)\n",
    "    N = torch.zeros(n_state)\n",
    "    for episode in range(n_episode):\n",
    "        # run 1 episode until end of the episode\n",
    "        states_t, rewards_t = run_episode(env, policy)\n",
    "        return_t = 0\n",
    "        first_visit = torch.zeros(n_state)\n",
    "        G = torch.zeros(n_state)\n",
    "        # take a look the state and reward from the last to first start\n",
    "        # calculate given policy\n",
    "        for state_t, reward_t in zip(reversed(states_t)[1:], reversed(rewards_t)):\n",
    "            # calculate rewards\n",
    "            # because the reward at the last can be only 0 or 1, otherwise are 0\n",
    "            # so the reward at first start will be smallest\n",
    "            return_t = gamma * return_t + reward_t\n",
    "            # put the reward for the state into given policy\n",
    "            # as you can see, if we come in the same state, it will be replaced to the early time when visit\n",
    "            # That's why we call first-visit\n",
    "            G[state_t] = return_t\n",
    "            first_visit[state_t] = 1\n",
    "        # at the end of given policy calculation\n",
    "        # we need to update the state transition by summation them (prepare to average)\n",
    "        for state in range(n_state):\n",
    "            if first_visit[state] > 0:\n",
    "                V[state] += G[state]\n",
    "                N[state] += 1\n",
    "    # average state transition here\n",
    "    for state in range(n_state):\n",
    "        if N[state] > 0:\n",
    "            V[state] = V[state] / N[state]\n",
    "    return V"
   ]
  },
  {
   "cell_type": "markdown",
   "metadata": {},
   "source": [
    "Setup discount rate $\\gamma$ as 1 and simulate 10,000 episodes\n",
    "\n",
    "We tried to used <code>optimal_policy</code> from lab 02 (don't be worry, we just bring the data), and feed it into the first-visit MC function, and see the results."
   ]
  },
  {
   "cell_type": "code",
   "execution_count": 24,
   "metadata": {},
   "outputs": [],
   "source": [
    "gamma = 1\n",
    "n_episode = 10000\n",
    "\n",
    "optimal_policy = torch.tensor([0., 3., 3., 3., 0., 3., 2., 3., 3., 1., 0., 3., 3., 2., 1., 3.])\n",
    "value = mc_prediction_first_visit(env, optimal_policy, gamma, n_episode)\n",
    "print('The value function calculated by first-visit MC prediction:\\n', value)"
   ]
  },
  {
   "cell_type": "markdown",
   "metadata": {},
   "source": [
    "As you can see, in MC-based prediction, it is not necessary to know about the full model of the environment. In most real-world cases, the transition matrix and reward matrix are not known beforehand, or are extremely difficult to obtain. Imagine how many possible states there are playing *chess* or *Go* and the number of possible actions; it is almost impossible to work out the transition matrix and reward matrix. Model-free reinforcement learning is about learning from experience by interacting with the environment.\n",
    "\n",
    "We only considered what could be observed, which included the new state and reward in each step, and made predictions using the Monte Carlo method.\n",
    "\n",
    "Note that the more episodes we simulate, the more accurate predictions we can obtain. If you plot the value updated after each episode, you will see how it converges over time, which is similar to what we saw when estimating the value of $\\pi$.\n",
    "\n",
    "### How about every-visit MC?\n",
    "\n",
    "Take a look at every-visit MC function"
   ]
  },
  {
   "cell_type": "code",
   "execution_count": 19,
   "metadata": {},
   "outputs": [],
   "source": [
    "def mc_prediction_every_visit(env, policy, gamma, n_episode):\n",
    "    n_state = policy.shape[0]\n",
    "    V = torch.zeros(n_state)\n",
    "    N = torch.zeros(n_state)\n",
    "    G = torch.zeros(n_state)\n",
    "    for episode in range(n_episode):\n",
    "        states_t, rewards_t = run_episode(env, policy)\n",
    "        return_t = 0\n",
    "        for state_t, reward_t in zip(reversed(states_t)[1:], reversed(rewards_t)):\n",
    "            return_t = gamma * return_t + reward_t\n",
    "            # Here is the difference, instead of discard the other visit\n",
    "            # we calculate all visiting in the target state\n",
    "            # That's why call every-visit\n",
    "            G[state_t] += return_t\n",
    "            N[state_t] += 1\n",
    "    for state in range(n_state):\n",
    "        if N[state] > 0:\n",
    "            V[state] = G[state] / N[state]\n",
    "    return V"
   ]
  },
  {
   "cell_type": "code",
   "execution_count": 23,
   "metadata": {},
   "outputs": [],
   "source": [
    "e_value = mc_prediction_every_visit(env, optimal_policy, gamma, n_episode)\n",
    "print('The value function calculated by every-visit MC prediction:\\n', e_value)"
   ]
  },
  {
   "cell_type": "markdown",
   "metadata": {},
   "source": [
    "Actually, the every-visit is more accurate than the first-visit, but it takes a lot of calculation, so it is not popular."
   ]
  },
  {
   "cell_type": "markdown",
   "metadata": {},
   "source": [
    "## On-policy Monte Carlo control\n",
    "\n",
    "On-policy Monte Carlo works look-a-like to policy iteration which has 2 phases: evaluation and improvement.\n",
    " - Evaluation phase: it evaluates the **action-values** (called **Q-function** $Q(s,a)$) instead of evaluates the value function.\n",
    " - Improvement phase: the policy is updated by assigning the optimal action to each stage: $\\pi(s)=argmax_a Q(s,a)$\n",
    "      \n",
    "### Developing MC control with epsilon-greedy policy\n",
    "\n",
    "The optimal policy using MC control can find the action with the highest state-action value was selected. However, the best choice available in early episodes does not guarantee an optimal solution. If we just focus on what is temporarily the best option and ignore the overall problem, we will be stuck in local optima instead of reaching the global optimal. In order to address the problem, we use another algorithm: epsilon-greedy policy.\n",
    "\n",
    "In MC control with epsilon-greedy policy, we no longer exploit the best action all the time, but choose an action randomly under certain probabilities. As the name implies, the algorithm has two folds:\n",
    "\n",
    "$$\\pi(s,a) = \\frac{\\epsilon}{|A|}$$\n",
    "\n",
    "when $|A|$ is the number of possible actions\n",
    "\n",
    "#### Greedy\n",
    "\n",
    "Greedy is the action with the highest state-action value is favored, and its probability of being chosen is increased by $1-\\epsilon$:\n",
    "\n",
    "$$\\pi(s,a) = 1 - \\epsilon + \\frac{\\epsilon}{|A|}$$\n",
    "\n",
    "Epsilon-greedy policy exploits the best action most of the time and also keeps exploring different actions from time to time."
   ]
  },
  {
   "cell_type": "markdown",
   "metadata": {},
   "source": [
    "## Modify MC control with epsilon-greedy policy with FrozenLake\n",
    "\n",
    "From the code above, let's modify as below:"
   ]
  },
  {
   "cell_type": "code",
   "execution_count": 25,
   "metadata": {},
   "outputs": [],
   "source": [
    "import torch\n",
    "import gym\n",
    "\n",
    "env = gym.make(\"FrozenLake-v1\")"
   ]
  },
  {
   "cell_type": "code",
   "execution_count": 26,
   "metadata": {},
   "outputs": [
    {
     "data": {
      "text/plain": [
       "'0.26.2'"
      ]
     },
     "execution_count": 26,
     "metadata": {},
     "output_type": "execute_result"
    }
   ],
   "source": [
    "gym.__version__"
   ]
  },
  {
   "cell_type": "markdown",
   "metadata": {},
   "source": [
    "Modify run_episode to return states, actions, rewards"
   ]
  },
  {
   "cell_type": "code",
   "execution_count": 27,
   "metadata": {},
   "outputs": [],
   "source": [
    "def run_episode(env, Q, epsilon, n_action):\n",
    "    \"\"\"\n",
    "    Run a episode and performs epsilon-greedy policy\n",
    "    @param env: OpenAI Gym environment\n",
    "    @param Q: Q-function\n",
    "    @param epsilon: the trade-off between exploration and exploitation\n",
    "    @param n_action: action space\n",
    "    @return: resulting states, actions and rewards for the entire episode\n",
    "    \"\"\"\n",
    "    state = env.reset()\n",
    "    rewards = []\n",
    "    actions = []\n",
    "    states = []\n",
    "    is_done = False\n",
    "    while not is_done:\n",
    "        probs = torch.ones(n_action) * epsilon / n_action\n",
    "        best_action = torch.argmax(Q[state]).item()\n",
    "        probs[best_action] += 1.0 - epsilon\n",
    "        action = torch.multinomial(probs, 1).item()\n",
    "        actions.append(action)\n",
    "        states.append(state)\n",
    "        state, reward, is_done, info = env.step(action)\n",
    "        rewards.append(reward)\n",
    "        if is_done:\n",
    "            break\n",
    "    return states, actions, rewards"
   ]
  },
  {
   "cell_type": "markdown",
   "metadata": {},
   "source": [
    "Create MC_control using epsilon greedy"
   ]
  },
  {
   "cell_type": "code",
   "execution_count": 28,
   "metadata": {},
   "outputs": [],
   "source": [
    "from collections import defaultdict\n",
    "\n",
    "def mc_control_epsilon_greedy(env, gamma, n_episode, epsilon):\n",
    "    \"\"\"\n",
    "    Obtain the optimal policy with on-policy MC control with epsilon_greedy\n",
    "    @param env: OpenAI Gym environment\n",
    "    @param gamma: discount factor\n",
    "    @param n_episode: number of episodes\n",
    "    @param epsilon: the trade-off between exploration and exploitation\n",
    "    @return: the optimal Q-function, and the optimal policy\n",
    "    \"\"\"\n",
    "    n_action = env.action_space.n\n",
    "    G_sum = defaultdict(float)\n",
    "    N = defaultdict(int)\n",
    "    Q = defaultdict(lambda: torch.empty(n_action))\n",
    "    for episode in range(n_episode):\n",
    "        if (episode + 1) % 1000 == 0:\n",
    "            print(\"Training episode {}\".format(episode+1))\n",
    "        states_t, actions_t, rewards_t = run_episode(env, Q, epsilon, n_action)\n",
    "        return_t = 0\n",
    "        G = {}\n",
    "        for state_t, action_t, reward_t in zip(states_t[::-1], actions_t[::-1], rewards_t[::-1]):\n",
    "            return_t = gamma * return_t + reward_t\n",
    "            G[(state_t, action_t)] = return_t\n",
    "        for state_action, return_t in G.items():\n",
    "            state, action = state_action\n",
    "\n",
    "            G_sum[state_action] += return_t\n",
    "            N[state_action] += 1\n",
    "            Q[state][action] = G_sum[state_action] / N[state_action]\n",
    "    policy = {}\n",
    "    for state, actions in Q.items():\n",
    "        policy[state] = torch.argmax(actions).item()\n",
    "    return Q, policy\n"
   ]
  },
  {
   "cell_type": "markdown",
   "metadata": {},
   "source": [
    "Find optimal policy"
   ]
  },
  {
   "cell_type": "code",
   "execution_count": 32,
   "metadata": {
    "scrolled": true
   },
   "outputs": [],
   "source": [
    "# gamma = 1\n",
    "\n",
    "# n_episode = 100000\n",
    "epsilon = 0.1\n",
    "\n",
    "# optimal_Q, optimal_policy = mc_control_epsilon_greedy(env, gamma, n_episode, epsilon)"
   ]
  },
  {
   "cell_type": "markdown",
   "metadata": {},
   "source": [
    "To test the optimal policy, we need to run simulation using policy.\n",
    "\n",
    "Let's create simulate_episode function:"
   ]
  },
  {
   "cell_type": "code",
   "execution_count": 33,
   "metadata": {},
   "outputs": [],
   "source": [
    "def simulate_episode(env, policy):\n",
    "    state = env.reset()\n",
    "    is_done = False\n",
    "    while not is_done:\n",
    "        action = policy[state]\n",
    "        state, reward, is_done, info = env.step(action)\n",
    "        if is_done:\n",
    "            return reward"
   ]
  },
  {
   "cell_type": "markdown",
   "metadata": {},
   "source": [
    "Run the optimal policy"
   ]
  },
  {
   "cell_type": "code",
   "execution_count": 69,
   "metadata": {
    "scrolled": true
   },
   "outputs": [
    {
     "name": "stdout",
     "output_type": "stream",
     "text": [
      "Testing episode 1000\n",
      "Testing episode 2000\n",
      "Testing episode 3000\n",
      "Testing episode 4000\n",
      "Testing episode 5000\n",
      "Testing episode 6000\n",
      "Testing episode 7000\n",
      "Testing episode 8000\n",
      "Testing episode 9000\n",
      "Testing episode 10000\n",
      "Testing episode 11000\n",
      "Testing episode 12000\n",
      "Testing episode 13000\n",
      "Testing episode 14000\n",
      "Testing episode 15000\n",
      "Testing episode 16000\n",
      "Testing episode 17000\n",
      "Testing episode 18000\n",
      "Testing episode 19000\n",
      "Testing episode 20000\n",
      "Testing episode 21000\n",
      "Testing episode 22000\n",
      "Testing episode 23000\n",
      "Testing episode 24000\n",
      "Testing episode 25000\n",
      "Testing episode 26000\n",
      "Testing episode 27000\n",
      "Testing episode 28000\n",
      "Testing episode 29000\n",
      "Testing episode 30000\n",
      "Testing episode 31000\n",
      "Testing episode 32000\n",
      "Testing episode 33000\n",
      "Testing episode 34000\n",
      "Testing episode 35000\n",
      "Testing episode 36000\n",
      "Testing episode 37000\n",
      "Testing episode 38000\n",
      "Testing episode 39000\n",
      "Testing episode 40000\n",
      "Testing episode 41000\n",
      "Testing episode 42000\n",
      "Testing episode 43000\n",
      "Testing episode 44000\n",
      "Testing episode 45000\n",
      "Testing episode 46000\n",
      "Testing episode 47000\n",
      "Testing episode 48000\n",
      "Testing episode 49000\n",
      "Testing episode 50000\n"
     ]
    }
   ],
   "source": [
    "n_episode = 50000\n",
    "n_win_optimal = 0\n",
    "n_lose_optimal = 0\n",
    "\n",
    "for episode in range(n_episode):\n",
    "    if (episode + 1) % 1000 == 0:\n",
    "        print(\"Testing episode {}\".format(episode+1))\n",
    "    reward = simulate_episode(env, optimal_policy)\n",
    "    if reward == 1:\n",
    "        n_win_optimal += 1\n",
    "    elif reward == -1:\n",
    "        n_lose_optimal += 1"
   ]
  },
  {
   "cell_type": "code",
   "execution_count": 70,
   "metadata": {},
   "outputs": [
    {
     "name": "stdout",
     "output_type": "stream",
     "text": [
      "Winning probability under the optimal policy: 0.25438\n",
      "Losing probability under the optimal policy: 0.0\n"
     ]
    }
   ],
   "source": [
    "print('Winning probability under the optimal policy: {}'.format(n_win_optimal/n_episode))\n",
    "\n",
    "print('Losing probability under the optimal policy: {}'.format(n_lose_optimal/n_episode))"
   ]
  },
  {
   "cell_type": "markdown",
   "metadata": {},
   "source": [
    "## Implement other environments: LunarLander\n",
    "\n",
    "Let's see the environment:"
   ]
  },
  {
   "cell_type": "code",
   "execution_count": 1,
   "metadata": {},
   "outputs": [
    {
     "data": {
      "image/png": "[encoded data removed]",
      "text/plain": [
       "<Figure size 640x480 with 1 Axes>"
      ]
     },
     "metadata": {},
     "output_type": "display_data"
    }
   ],
   "source": [
    "import gym\n",
    "import numpy as np\n",
    "import matplotlib.pyplot as plt\n",
    "from IPython import display as ipythondisplay\n",
    "\n",
    "from pyvirtualdisplay import Display\n",
    "display = Display(visible=0, size=(400, 300))\n",
    "display.start()\n",
    "\n",
    "env = gym.make('LunarLander-v2')\n",
    "\n",
    "env.reset()\n",
    "prev_screen = env.render(mode='rgb_array')\n",
    "plt.imshow(prev_screen)\n",
    "\n",
    "for i in range(50):\n",
    "    action = env.action_space.sample()\n",
    "    obs, reward, done, info = env.step(action)\n",
    "    screen = env.render(mode='rgb_array')\n",
    "\n",
    "    plt.imshow(screen)\n",
    "    ipythondisplay.clear_output(wait=True)\n",
    "    ipythondisplay.display(plt.gcf())\n",
    "\n",
    "    if done:\n",
    "        break\n",
    "\n",
    "ipythondisplay.clear_output(wait=True)\n",
    "env.close()"
   ]
  },
  {
   "cell_type": "markdown",
   "metadata": {},
   "source": [
    "Checking state in the environment."
   ]
  },
  {
   "cell_type": "code",
   "execution_count": 2,
   "metadata": {},
   "outputs": [
    {
     "name": "stdout",
     "output_type": "stream",
     "text": [
      "[ 0.00296688  1.408531    0.3004886  -0.10618901 -0.00343099 -0.06806513\n",
      "  0.          0.        ]\n"
     ]
    }
   ],
   "source": [
    "state = env.reset()\n",
    "print(state)"
   ]
  },
  {
   "cell_type": "markdown",
   "metadata": {},
   "source": [
    "Because the state is floating array, It is not good for creating the Q table. We try to change the state to integer array and convert the state array to tuple"
   ]
  },
  {
   "cell_type": "code",
   "execution_count": 3,
   "metadata": {},
   "outputs": [
    {
     "name": "stdout",
     "output_type": "stream",
     "text": [
      "(0, 14, 3, -1, 0, 0, 0, 0)\n"
     ]
    }
   ],
   "source": [
    "state = tuple((state * 10).astype(int))\n",
    "print(state)"
   ]
  },
  {
   "cell_type": "markdown",
   "metadata": {},
   "source": [
    "Modify run_episode function for supporting the state."
   ]
  },
  {
   "cell_type": "code",
   "execution_count": 4,
   "metadata": {},
   "outputs": [],
   "source": [
    "import numpy as np\n",
    "import torch\n",
    "\n",
    "def run_episode2(env, Q, epsilon, n_action):\n",
    "    \"\"\"\n",
    "    Run a episode and performs epsilon-greedy policy\n",
    "    @param env: OpenAI Gym environment\n",
    "    @param Q: Q-function\n",
    "    @param epsilon: the trade-off between exploration and exploitation\n",
    "    @param n_action: action space\n",
    "    @return: resulting states, actions and rewards for the entire episode\n",
    "    \"\"\"\n",
    "    state = env.reset()\n",
    "    state = tuple((state * 10).astype(int))\n",
    "    rewards = []\n",
    "    actions = []\n",
    "    states = []\n",
    "    is_done = False\n",
    "    while not is_done:\n",
    "        probs = torch.ones(n_action) * epsilon / n_action\n",
    "        #print(Q)\n",
    "        #print(state)\n",
    "        best_action = torch.argmax(Q[state]).item()\n",
    "        probs[best_action] += 1.0 - epsilon\n",
    "        action = torch.multinomial(probs, 1).item()\n",
    "        actions.append(action)\n",
    "        states.append(state)\n",
    "        state, reward, is_done, info = env.step(action)\n",
    "        state = tuple((state * 10).astype(int))\n",
    "        rewards.append(reward)\n",
    "        if is_done:\n",
    "            break\n",
    "    return states, actions, rewards"
   ]
  },
  {
   "cell_type": "code",
   "execution_count": 5,
   "metadata": {},
   "outputs": [],
   "source": [
    "from collections import defaultdict\n",
    "\n",
    "def mc_control_epsilon_greedy2(env, gamma, n_episode, epsilon):\n",
    "    \"\"\"\n",
    "    Obtain the optimal policy with on-policy MC control with epsilon_greedy\n",
    "    @param env: OpenAI Gym environment\n",
    "    @param gamma: discount factor\n",
    "    @param n_episode: number of episodes\n",
    "    @param epsilon: the trade-off between exploration and exploitation\n",
    "    @return: the optimal Q-function, and the optimal policy\n",
    "    \"\"\"\n",
    "    n_action = env.action_space.n\n",
    "    G_sum = defaultdict(float)\n",
    "    N = defaultdict(int)\n",
    "    Q = defaultdict(lambda: torch.empty(n_action))\n",
    "    for episode in range(n_episode):\n",
    "        if (episode + 1) % 500 == 0:\n",
    "            print(\"Training episode {}\".format(episode+1))\n",
    "        states_t, actions_t, rewards_t = run_episode2(env, Q, epsilon, n_action)\n",
    "        return_t = 0\n",
    "        G = {}\n",
    "        for state_t, action_t, reward_t in zip(states_t[::-1], actions_t[::-1], rewards_t[::-1]):\n",
    "            return_t = gamma * return_t + reward_t\n",
    "            G[(state_t, action_t)] = return_t\n",
    "        for state_action, return_t in G.items():\n",
    "            state, action = state_action\n",
    "\n",
    "            G_sum[state_action] += return_t\n",
    "            N[state_action] += 1\n",
    "            Q[state][action] = G_sum[state_action] / N[state_action]\n",
    "    policy = {}\n",
    "    for state, actions in Q.items():\n",
    "        policy[state] = torch.argmax(actions).item()\n",
    "    return Q, policy\n"
   ]
  },
  {
   "cell_type": "code",
   "execution_count": 6,
   "metadata": {},
   "outputs": [
    {
     "name": "stdout",
     "output_type": "stream",
     "text": [
      "Training episode 500\n",
      "Training episode 1000\n",
      "Training episode 1500\n",
      "Training episode 2000\n",
      "Training episode 2500\n",
      "Training episode 3000\n",
      "Training episode 3500\n",
      "Training episode 4000\n",
      "Training episode 4500\n",
      "Training episode 5000\n"
     ]
    }
   ],
   "source": [
    "gamma = 0.5\n",
    "\n",
    "n_episode = 5000\n",
    "epsilon = 0.1\n",
    "\n",
    "optimal_Q, optimal_policy = mc_control_epsilon_greedy2(env, gamma, n_episode, epsilon)"
   ]
  },
  {
   "cell_type": "code",
   "execution_count": 7,
   "metadata": {},
   "outputs": [
    {
     "data": {
      "text/plain": [
       "188934"
      ]
     },
     "execution_count": 7,
     "metadata": {},
     "output_type": "execute_result"
    }
   ],
   "source": [
    "len(optimal_policy)"
   ]
  },
  {
   "cell_type": "code",
   "execution_count": 8,
   "metadata": {},
   "outputs": [],
   "source": [
    "def simulate_episode_render(env, policy):\n",
    "    state = env.reset()\n",
    "    state = tuple((state * 10).astype(int))\n",
    "    is_done = False\n",
    "    while not is_done:\n",
    "        try:\n",
    "            action = policy[state]\n",
    "            print(\"get action\")\n",
    "        except:\n",
    "            action = 0\n",
    "            print(\"no action\")\n",
    "        print(action)\n",
    "        state, reward, is_done, info = env.step(action)\n",
    "        state = tuple((state * 10).astype(int))\n",
    "        screen = env.render(mode='rgb_array')\n",
    "        \n",
    "        plt.imshow(screen)\n",
    "        ipythondisplay.clear_output(wait=True)\n",
    "        ipythondisplay.display(plt.gcf())\n",
    "        if is_done:\n",
    "            return reward"
   ]
  },
  {
   "cell_type": "code",
   "execution_count": 9,
   "metadata": {},
   "outputs": [
    {
     "data": {
      "image/png": "[encoded data removed]",
      "text/plain": [
       "<Figure size 640x480 with 1 Axes>"
      ]
     },
     "metadata": {},
     "output_type": "display_data"
    }
   ],
   "source": [
    "from gym.wrappers import Monitor\n",
    "\n",
    "vdo_path = 'video_rl/'\n",
    "env = Monitor(gym.make('LunarLander-v2'), vdo_path, force=True)\n",
    "env.reset()\n",
    "prev_screen = env.render(mode='rgb_array')\n",
    "plt.imshow(prev_screen)\n",
    "\n",
    "simulate_episode_render(env, optimal_policy)\n",
    "\n",
    "ipythondisplay.clear_output(wait=True)\n",
    "env.close()"
   ]
  },
  {
   "cell_type": "markdown",
   "metadata": {},
   "source": [
    "### Another example: Blackjack"
   ]
  },
  {
   "cell_type": "code",
   "execution_count": 34,
   "metadata": {},
   "outputs": [
    {
     "ename": "TypeError",
     "evalue": "unhashable type: 'dict'",
     "output_type": "error",
     "traceback": [
      "\u001b[1;31m---------------------------------------------------------------------------\u001b[0m",
      "\u001b[1;31mTypeError\u001b[0m                                 Traceback (most recent call last)",
      "\u001b[1;32mc:\\Users\\Guntsv\\Downloads\\AIT\\AT82.03 Machine Learning (ML)\\Laboratory\\ML2022-13-Reinforcement-Learning\\12-Reinforcement-Learning.ipynb Cell 152\u001b[0m in \u001b[0;36m<cell line: 55>\u001b[1;34m()\u001b[0m\n\u001b[0;32m     <a href='vscode-notebook-cell:/c%3A/Users/Guntsv/Downloads/AIT/AT82.03%20Machine%20Learning%20%28ML%29/Laboratory/ML2022-13-Reinforcement-Learning/12-Reinforcement-Learning.ipynb#Y304sZmlsZQ%3D%3D?line=52'>53</a>\u001b[0m n_episode \u001b[39m=\u001b[39m \u001b[39m500000\u001b[39m\n\u001b[0;32m     <a href='vscode-notebook-cell:/c%3A/Users/Guntsv/Downloads/AIT/AT82.03%20Machine%20Learning%20%28ML%29/Laboratory/ML2022-13-Reinforcement-Learning/12-Reinforcement-Learning.ipynb#Y304sZmlsZQ%3D%3D?line=53'>54</a>\u001b[0m epsilon \u001b[39m=\u001b[39m \u001b[39m0.1\u001b[39m\n\u001b[1;32m---> <a href='vscode-notebook-cell:/c%3A/Users/Guntsv/Downloads/AIT/AT82.03%20Machine%20Learning%20%28ML%29/Laboratory/ML2022-13-Reinforcement-Learning/12-Reinforcement-Learning.ipynb#Y304sZmlsZQ%3D%3D?line=54'>55</a>\u001b[0m optimal_Q, optimal_policy \u001b[39m=\u001b[39m mc_control_on_policy(env, gamma, n_episode, epsilon)\n\u001b[0;32m     <a href='vscode-notebook-cell:/c%3A/Users/Guntsv/Downloads/AIT/AT82.03%20Machine%20Learning%20%28ML%29/Laboratory/ML2022-13-Reinforcement-Learning/12-Reinforcement-Learning.ipynb#Y304sZmlsZQ%3D%3D?line=55'>56</a>\u001b[0m \u001b[39m# print(optimal_policy)\u001b[39;00m\n\u001b[0;32m     <a href='vscode-notebook-cell:/c%3A/Users/Guntsv/Downloads/AIT/AT82.03%20Machine%20Learning%20%28ML%29/Laboratory/ML2022-13-Reinforcement-Learning/12-Reinforcement-Learning.ipynb#Y304sZmlsZQ%3D%3D?line=56'>57</a>\u001b[0m \u001b[39m# print(optimal_Q)\u001b[39;00m\n\u001b[0;32m     <a href='vscode-notebook-cell:/c%3A/Users/Guntsv/Downloads/AIT/AT82.03%20Machine%20Learning%20%28ML%29/Laboratory/ML2022-13-Reinforcement-Learning/12-Reinforcement-Learning.ipynb#Y304sZmlsZQ%3D%3D?line=58'>59</a>\u001b[0m \u001b[39mdef\u001b[39;00m \u001b[39msimulate_episode\u001b[39m(env, policy):\n",
      "\u001b[1;32mc:\\Users\\Guntsv\\Downloads\\AIT\\AT82.03 Machine Learning (ML)\\Laboratory\\ML2022-13-Reinforcement-Learning\\12-Reinforcement-Learning.ipynb Cell 152\u001b[0m in \u001b[0;36mmc_control_on_policy\u001b[1;34m(env, gamma, n_episode, epsilon)\u001b[0m\n\u001b[0;32m     <a href='vscode-notebook-cell:/c%3A/Users/Guntsv/Downloads/AIT/AT82.03%20Machine%20Learning%20%28ML%29/Laboratory/ML2022-13-Reinforcement-Learning/12-Reinforcement-Learning.ipynb#Y304sZmlsZQ%3D%3D?line=32'>33</a>\u001b[0m Q \u001b[39m=\u001b[39m defaultdict(\u001b[39mlambda\u001b[39;00m: torch\u001b[39m.\u001b[39mempty(env\u001b[39m.\u001b[39maction_space\u001b[39m.\u001b[39mn))\n\u001b[0;32m     <a href='vscode-notebook-cell:/c%3A/Users/Guntsv/Downloads/AIT/AT82.03%20Machine%20Learning%20%28ML%29/Laboratory/ML2022-13-Reinforcement-Learning/12-Reinforcement-Learning.ipynb#Y304sZmlsZQ%3D%3D?line=33'>34</a>\u001b[0m \u001b[39mfor\u001b[39;00m episode \u001b[39min\u001b[39;00m \u001b[39mrange\u001b[39m(n_episode):\n\u001b[1;32m---> <a href='vscode-notebook-cell:/c%3A/Users/Guntsv/Downloads/AIT/AT82.03%20Machine%20Learning%20%28ML%29/Laboratory/ML2022-13-Reinforcement-Learning/12-Reinforcement-Learning.ipynb#Y304sZmlsZQ%3D%3D?line=34'>35</a>\u001b[0m     states_t, actions_t, rewards_t \u001b[39m=\u001b[39m run_episode(env, Q, epsilon, n_action)\n\u001b[0;32m     <a href='vscode-notebook-cell:/c%3A/Users/Guntsv/Downloads/AIT/AT82.03%20Machine%20Learning%20%28ML%29/Laboratory/ML2022-13-Reinforcement-Learning/12-Reinforcement-Learning.ipynb#Y304sZmlsZQ%3D%3D?line=35'>36</a>\u001b[0m     return_t \u001b[39m=\u001b[39m \u001b[39m0\u001b[39m\n\u001b[0;32m     <a href='vscode-notebook-cell:/c%3A/Users/Guntsv/Downloads/AIT/AT82.03%20Machine%20Learning%20%28ML%29/Laboratory/ML2022-13-Reinforcement-Learning/12-Reinforcement-Learning.ipynb#Y304sZmlsZQ%3D%3D?line=36'>37</a>\u001b[0m     G \u001b[39m=\u001b[39m {}\n",
      "\u001b[1;32mc:\\Users\\Guntsv\\Downloads\\AIT\\AT82.03 Machine Learning (ML)\\Laboratory\\ML2022-13-Reinforcement-Learning\\12-Reinforcement-Learning.ipynb Cell 152\u001b[0m in \u001b[0;36mrun_episode\u001b[1;34m(env, Q, epsilon, n_action)\u001b[0m\n\u001b[0;32m     <a href='vscode-notebook-cell:/c%3A/Users/Guntsv/Downloads/AIT/AT82.03%20Machine%20Learning%20%28ML%29/Laboratory/ML2022-13-Reinforcement-Learning/12-Reinforcement-Learning.ipynb#Y304sZmlsZQ%3D%3D?line=15'>16</a>\u001b[0m \u001b[39mwhile\u001b[39;00m \u001b[39mnot\u001b[39;00m is_done:\n\u001b[0;32m     <a href='vscode-notebook-cell:/c%3A/Users/Guntsv/Downloads/AIT/AT82.03%20Machine%20Learning%20%28ML%29/Laboratory/ML2022-13-Reinforcement-Learning/12-Reinforcement-Learning.ipynb#Y304sZmlsZQ%3D%3D?line=16'>17</a>\u001b[0m     \u001b[39m# with epsilon-greedy\u001b[39;00m\n\u001b[0;32m     <a href='vscode-notebook-cell:/c%3A/Users/Guntsv/Downloads/AIT/AT82.03%20Machine%20Learning%20%28ML%29/Laboratory/ML2022-13-Reinforcement-Learning/12-Reinforcement-Learning.ipynb#Y304sZmlsZQ%3D%3D?line=17'>18</a>\u001b[0m     probs \u001b[39m=\u001b[39m torch\u001b[39m.\u001b[39mones(n_action) \u001b[39m*\u001b[39m epsilon \u001b[39m/\u001b[39m n_action\n\u001b[1;32m---> <a href='vscode-notebook-cell:/c%3A/Users/Guntsv/Downloads/AIT/AT82.03%20Machine%20Learning%20%28ML%29/Laboratory/ML2022-13-Reinforcement-Learning/12-Reinforcement-Learning.ipynb#Y304sZmlsZQ%3D%3D?line=18'>19</a>\u001b[0m     best_action \u001b[39m=\u001b[39m torch\u001b[39m.\u001b[39margmax(Q[state])\u001b[39m.\u001b[39mitem()\n\u001b[0;32m     <a href='vscode-notebook-cell:/c%3A/Users/Guntsv/Downloads/AIT/AT82.03%20Machine%20Learning%20%28ML%29/Laboratory/ML2022-13-Reinforcement-Learning/12-Reinforcement-Learning.ipynb#Y304sZmlsZQ%3D%3D?line=19'>20</a>\u001b[0m     probs[best_action] \u001b[39m+\u001b[39m\u001b[39m=\u001b[39m \u001b[39m1.0\u001b[39m \u001b[39m-\u001b[39m epsilon\n\u001b[0;32m     <a href='vscode-notebook-cell:/c%3A/Users/Guntsv/Downloads/AIT/AT82.03%20Machine%20Learning%20%28ML%29/Laboratory/ML2022-13-Reinforcement-Learning/12-Reinforcement-Learning.ipynb#Y304sZmlsZQ%3D%3D?line=20'>21</a>\u001b[0m     action \u001b[39m=\u001b[39m torch\u001b[39m.\u001b[39mmultinomial(probs, \u001b[39m1\u001b[39m)\u001b[39m.\u001b[39mitem()\n",
      "\u001b[1;31mTypeError\u001b[0m: unhashable type: 'dict'"
     ]
    }
   ],
   "source": [
    "import torch\n",
    "import gym\n",
    "from collections import defaultdict\n",
    "\n",
    "env = gym.make('Blackjack-v1')\n",
    "\n",
    "def run_episode(env, Q, epsilon, n_action):\n",
    "    state = env.reset()\n",
    "    rewards = []\n",
    "    actions = []\n",
    "    states = []\n",
    "    is_done = False\n",
    "    # without epsilon-greedy\n",
    "    # action = torch.randint(0, n_action, [1]).item()\n",
    "    ##################################################\n",
    "    while not is_done:\n",
    "        # with epsilon-greedy\n",
    "        probs = torch.ones(n_action) * epsilon / n_action\n",
    "        best_action = torch.argmax(Q[state]).item()\n",
    "        probs[best_action] += 1.0 - epsilon\n",
    "        action = torch.multinomial(probs, 1).item()\n",
    "        #######################################################\n",
    "        actions.append(action)\n",
    "        states.append(state)\n",
    "        state, reward, is_done, info = env.step(action)\n",
    "        rewards.append(reward)\n",
    "    return states, actions, rewards\n",
    "\n",
    "def mc_control_on_policy(env, gamma, n_episode, epsilon):\n",
    "    n_action = env.action_space.n\n",
    "    G_sum = defaultdict(float)\n",
    "    N = defaultdict(int)\n",
    "    Q = defaultdict(lambda: torch.empty(env.action_space.n))\n",
    "    for episode in range(n_episode):\n",
    "        states_t, actions_t, rewards_t = run_episode(env, Q, epsilon, n_action)\n",
    "        return_t = 0\n",
    "        G = {}\n",
    "        for state_t, action_t, reward_t in zip(states_t[::-1], actions_t[::-1], rewards_t[::-1]):\n",
    "            return_t = gamma * return_t + reward_t\n",
    "            G[(state_t, action_t)] = return_t\n",
    "            for state_action, return_t in G.items():\n",
    "                state, action = state_action\n",
    "                if state[0] <= 21:\n",
    "                    G_sum[state_action] += return_t\n",
    "                    N[state_action] += 1\n",
    "                    Q[state][action] = G_sum[state_action] / N[state_action]\n",
    "    policy = {}\n",
    "    for state, actions in Q.items():\n",
    "        policy[state] = torch.argmax(actions).item()\n",
    "    return Q, policy\n",
    "\n",
    "gamma = 1\n",
    "n_episode = 500000\n",
    "epsilon = 0.1\n",
    "optimal_Q, optimal_policy = mc_control_on_policy(env, gamma, n_episode, epsilon)\n",
    "# print(optimal_policy)\n",
    "# print(optimal_Q)\n",
    "\n",
    "def simulate_episode(env, policy):\n",
    "    state = env.reset()\n",
    "    is_done= False\n",
    "    while not is_done:\n",
    "        action = policy[state]\n",
    "        state, reward, is_done, info = env.step(action)\n",
    "        if is_done:\n",
    "            return reward\n",
    "\n",
    "n_episode = 100\n",
    "n_win_optimal = 0\n",
    "n_lose_optimal = 0\n",
    "for _ in range(n_episode):\n",
    "    reward = simulate_episode(env, optimal_policy)\n",
    "    if reward == 1:\n",
    "        n_win_optimal += 1\n",
    "    elif reward == -1:\n",
    "        n_lose_optimal += 1\n",
    "print('after episode 100, win ', n_win_optimal, ' lose ', n_lose_optimal)"
   ]
  },
  {
   "cell_type": "markdown",
   "metadata": {},
   "source": [
    "## Off-policy Monte Carlo control\n",
    "\n",
    "The Off-policy method optimizes the **target policy** ($\\pi$) using data generated by another policy (**behavior policy** ($b$)).\n",
    " - Target policy: exploitation purposes, greedy with respect to its current Q-function.\n",
    " - Behavior policy: exploration purposes, generate behavior which the target policy used for learning. The behavior policy can be anything to confirm that it can explore all possibilities, then all actions and all states can be chosen with non-zero probabilities.\n",
    "\n",
    "The weight importand for state-action pair is calculated as:\n",
    "\n",
    "$w_t=\\sum_{k=t}[\\pi(a_k|s_k)/b(a_k|s_k)]$\n",
    " - $\\pi(a_k|s_k)$: probabilities of taking action $a_k$ in state $s_k$\n",
    " - $b(a_k|s_k)$: probabilities under the behavior policy."
   ]
  },
  {
   "cell_type": "code",
   "execution_count": 35,
   "metadata": {
    "tags": []
   },
   "outputs": [
    {
     "ename": "ValueError",
     "evalue": "too many values to unpack (expected 4)",
     "output_type": "error",
     "traceback": [
      "\u001b[1;31m---------------------------------------------------------------------------\u001b[0m",
      "\u001b[1;31mValueError\u001b[0m                                Traceback (most recent call last)",
      "\u001b[1;32mc:\\Users\\Guntsv\\Downloads\\AIT\\AT82.03 Machine Learning (ML)\\Laboratory\\ML2022-13-Reinforcement-Learning\\12-Reinforcement-Learning.ipynb Cell 154\u001b[0m in \u001b[0;36m<cell line: 64>\u001b[1;34m()\u001b[0m\n\u001b[0;32m     <a href='vscode-notebook-cell:/c%3A/Users/Guntsv/Downloads/AIT/AT82.03%20Machine%20Learning%20%28ML%29/Laboratory/ML2022-13-Reinforcement-Learning/12-Reinforcement-Learning.ipynb#Y306sZmlsZQ%3D%3D?line=61'>62</a>\u001b[0m gamma \u001b[39m=\u001b[39m \u001b[39m1\u001b[39m\n\u001b[0;32m     <a href='vscode-notebook-cell:/c%3A/Users/Guntsv/Downloads/AIT/AT82.03%20Machine%20Learning%20%28ML%29/Laboratory/ML2022-13-Reinforcement-Learning/12-Reinforcement-Learning.ipynb#Y306sZmlsZQ%3D%3D?line=62'>63</a>\u001b[0m n_episode \u001b[39m=\u001b[39m \u001b[39m500000\u001b[39m\n\u001b[1;32m---> <a href='vscode-notebook-cell:/c%3A/Users/Guntsv/Downloads/AIT/AT82.03%20Machine%20Learning%20%28ML%29/Laboratory/ML2022-13-Reinforcement-Learning/12-Reinforcement-Learning.ipynb#Y306sZmlsZQ%3D%3D?line=63'>64</a>\u001b[0m optimal_Q, optimal_policy \u001b[39m=\u001b[39m mc_control_off_policy(env, gamma, n_episode, random_policy)\n\u001b[0;32m     <a href='vscode-notebook-cell:/c%3A/Users/Guntsv/Downloads/AIT/AT82.03%20Machine%20Learning%20%28ML%29/Laboratory/ML2022-13-Reinforcement-Learning/12-Reinforcement-Learning.ipynb#Y306sZmlsZQ%3D%3D?line=64'>65</a>\u001b[0m \u001b[39m# print(optimal_policy)\u001b[39;00m\n\u001b[0;32m     <a href='vscode-notebook-cell:/c%3A/Users/Guntsv/Downloads/AIT/AT82.03%20Machine%20Learning%20%28ML%29/Laboratory/ML2022-13-Reinforcement-Learning/12-Reinforcement-Learning.ipynb#Y306sZmlsZQ%3D%3D?line=65'>66</a>\u001b[0m \u001b[39m# print(optimal_Q)\u001b[39;00m\n\u001b[0;32m     <a href='vscode-notebook-cell:/c%3A/Users/Guntsv/Downloads/AIT/AT82.03%20Machine%20Learning%20%28ML%29/Laboratory/ML2022-13-Reinforcement-Learning/12-Reinforcement-Learning.ipynb#Y306sZmlsZQ%3D%3D?line=67'>68</a>\u001b[0m \u001b[39mdef\u001b[39;00m \u001b[39msimulate_episode\u001b[39m(env, policy):\n",
      "\u001b[1;32mc:\\Users\\Guntsv\\Downloads\\AIT\\AT82.03 Machine Learning (ML)\\Laboratory\\ML2022-13-Reinforcement-Learning\\12-Reinforcement-Learning.ipynb Cell 154\u001b[0m in \u001b[0;36mmc_control_off_policy\u001b[1;34m(env, gamma, n_episode, behavior_policy)\u001b[0m\n\u001b[0;32m     <a href='vscode-notebook-cell:/c%3A/Users/Guntsv/Downloads/AIT/AT82.03%20Machine%20Learning%20%28ML%29/Laboratory/ML2022-13-Reinforcement-Learning/12-Reinforcement-Learning.ipynb#Y306sZmlsZQ%3D%3D?line=37'>38</a>\u001b[0m W \u001b[39m=\u001b[39m {}\n\u001b[0;32m     <a href='vscode-notebook-cell:/c%3A/Users/Guntsv/Downloads/AIT/AT82.03%20Machine%20Learning%20%28ML%29/Laboratory/ML2022-13-Reinforcement-Learning/12-Reinforcement-Learning.ipynb#Y306sZmlsZQ%3D%3D?line=38'>39</a>\u001b[0m w \u001b[39m=\u001b[39m \u001b[39m1\u001b[39m\n\u001b[1;32m---> <a href='vscode-notebook-cell:/c%3A/Users/Guntsv/Downloads/AIT/AT82.03%20Machine%20Learning%20%28ML%29/Laboratory/ML2022-13-Reinforcement-Learning/12-Reinforcement-Learning.ipynb#Y306sZmlsZQ%3D%3D?line=39'>40</a>\u001b[0m states_t, actions_t, rewards_t \u001b[39m=\u001b[39m run_episode(env, behavior_policy)\n\u001b[0;32m     <a href='vscode-notebook-cell:/c%3A/Users/Guntsv/Downloads/AIT/AT82.03%20Machine%20Learning%20%28ML%29/Laboratory/ML2022-13-Reinforcement-Learning/12-Reinforcement-Learning.ipynb#Y306sZmlsZQ%3D%3D?line=40'>41</a>\u001b[0m return_t \u001b[39m=\u001b[39m \u001b[39m0\u001b[39m\n\u001b[0;32m     <a href='vscode-notebook-cell:/c%3A/Users/Guntsv/Downloads/AIT/AT82.03%20Machine%20Learning%20%28ML%29/Laboratory/ML2022-13-Reinforcement-Learning/12-Reinforcement-Learning.ipynb#Y306sZmlsZQ%3D%3D?line=41'>42</a>\u001b[0m G \u001b[39m=\u001b[39m {}\n",
      "\u001b[1;32mc:\\Users\\Guntsv\\Downloads\\AIT\\AT82.03 Machine Learning (ML)\\Laboratory\\ML2022-13-Reinforcement-Learning\\12-Reinforcement-Learning.ipynb Cell 154\u001b[0m in \u001b[0;36mrun_episode\u001b[1;34m(env, behavior_policy)\u001b[0m\n\u001b[0;32m     <a href='vscode-notebook-cell:/c%3A/Users/Guntsv/Downloads/AIT/AT82.03%20Machine%20Learning%20%28ML%29/Laboratory/ML2022-13-Reinforcement-Learning/12-Reinforcement-Learning.ipynb#Y306sZmlsZQ%3D%3D?line=23'>24</a>\u001b[0m actions\u001b[39m.\u001b[39mappend(action)\n\u001b[0;32m     <a href='vscode-notebook-cell:/c%3A/Users/Guntsv/Downloads/AIT/AT82.03%20Machine%20Learning%20%28ML%29/Laboratory/ML2022-13-Reinforcement-Learning/12-Reinforcement-Learning.ipynb#Y306sZmlsZQ%3D%3D?line=24'>25</a>\u001b[0m states\u001b[39m.\u001b[39mappend(state)\n\u001b[1;32m---> <a href='vscode-notebook-cell:/c%3A/Users/Guntsv/Downloads/AIT/AT82.03%20Machine%20Learning%20%28ML%29/Laboratory/ML2022-13-Reinforcement-Learning/12-Reinforcement-Learning.ipynb#Y306sZmlsZQ%3D%3D?line=25'>26</a>\u001b[0m state, reward, is_done, info \u001b[39m=\u001b[39m env\u001b[39m.\u001b[39mstep(action)\n\u001b[0;32m     <a href='vscode-notebook-cell:/c%3A/Users/Guntsv/Downloads/AIT/AT82.03%20Machine%20Learning%20%28ML%29/Laboratory/ML2022-13-Reinforcement-Learning/12-Reinforcement-Learning.ipynb#Y306sZmlsZQ%3D%3D?line=26'>27</a>\u001b[0m rewards\u001b[39m.\u001b[39mappend(reward)\n\u001b[0;32m     <a href='vscode-notebook-cell:/c%3A/Users/Guntsv/Downloads/AIT/AT82.03%20Machine%20Learning%20%28ML%29/Laboratory/ML2022-13-Reinforcement-Learning/12-Reinforcement-Learning.ipynb#Y306sZmlsZQ%3D%3D?line=27'>28</a>\u001b[0m \u001b[39mif\u001b[39;00m is_done:\n",
      "\u001b[1;31mValueError\u001b[0m: too many values to unpack (expected 4)"
     ]
    }
   ],
   "source": [
    "import torch\n",
    "import gym\n",
    "from collections import defaultdict\n",
    "\n",
    "env = gym.make('Blackjack-v1')\n",
    "\n",
    "def gen_random_policy(n_action):\n",
    "    probs = torch.ones(n_action) / n_action\n",
    "    def policy_function(state):\n",
    "        return probs\n",
    "    return policy_function\n",
    "\n",
    "random_policy = gen_random_policy(env.action_space.n)\n",
    "\n",
    "def run_episode(env, behavior_policy):\n",
    "    state = env.reset()\n",
    "    rewards = []\n",
    "    actions = []\n",
    "    states = []\n",
    "    is_done = False\n",
    "    while not is_done:\n",
    "        probs = behavior_policy(state)\n",
    "        action = torch.multinomial(probs, 1).item()\n",
    "        actions.append(action)\n",
    "        states.append(state)\n",
    "        state, reward, is_done, info = env.step(action)\n",
    "        rewards.append(reward)\n",
    "        if is_done:\n",
    "            break\n",
    "    return states, actions, rewards\n",
    "\n",
    "def mc_control_off_policy(env, gamma, n_episode, behavior_policy):\n",
    "    n_action = env.action_space.n\n",
    "    G_sum = defaultdict(float)\n",
    "    N = defaultdict(int)\n",
    "    Q = defaultdict(lambda: torch.empty(n_action))\n",
    "    for episode in range(n_episode):\n",
    "        W = {}\n",
    "        w = 1\n",
    "        states_t, actions_t, rewards_t = run_episode(env, behavior_policy)\n",
    "        return_t = 0\n",
    "        G = {}\n",
    "        for state_t, action_t, reward_t in zip(states_t[::-1], actions_t[::-1], rewards_t[::-1]):\n",
    "            return_t = gamma * return_t + reward_t\n",
    "            G[(state_t, action_t)] = return_t\n",
    "            w *= 1./ behavior_policy(state_t)[action_t]\n",
    "            W[(state_t, action_t)] = w\n",
    "            if action_t != torch.argmax(Q[state_t]).item():\n",
    "                break\n",
    "            \n",
    "        for state_action, return_t in G.items():\n",
    "            state, action = state_action\n",
    "            if state[0] <= 21:\n",
    "                G_sum[state_action] += return_t * W[state_action]\n",
    "                N[state_action] += 1\n",
    "                Q[state][action] = G_sum[state_action] / N[state_action]\n",
    "    policy = {}\n",
    "    for state, actions in Q.items():\n",
    "        policy[state] = torch.argmax(actions).item()\n",
    "    return Q, policy\n",
    "\n",
    "gamma = 1\n",
    "n_episode = 500000\n",
    "optimal_Q, optimal_policy = mc_control_off_policy(env, gamma, n_episode, random_policy)\n",
    "# print(optimal_policy)\n",
    "# print(optimal_Q)\n",
    "\n",
    "def simulate_episode(env, policy):\n",
    "    state = env.reset()\n",
    "    is_done= False\n",
    "    while not is_done:\n",
    "        action = policy[state]\n",
    "        state, reward, is_done, info = env.step(action)\n",
    "        if is_done:\n",
    "            return reward\n",
    "\n",
    "n_episode = 100\n",
    "n_win_optimal = 0\n",
    "n_lose_optimal = 0\n",
    "for _ in range(n_episode):\n",
    "    reward = simulate_episode(env, optimal_policy)\n",
    "    if reward == 1:\n",
    "        n_win_optimal += 1\n",
    "    elif reward == -1:\n",
    "        n_lose_optimal += 1\n",
    "print('after episode 100, win ', n_win_optimal, ' lose ', n_lose_optimal)"
   ]
  },
  {
   "cell_type": "markdown",
   "metadata": {},
   "source": [
    "## Temporal Difference (TD)\n",
    "\n",
    "**Makov Decision Process (MDP)** using **Monte Carlo method** which it a *model-free* approach. It does not require the prior knowledge environment. However, all algorithm that we learned, need to play until the end of episode, then it can update its knowledge. This is slow due to waiting some process to success or fail to terminate.\n",
    "\n",
    "For **Temporal Difference(TD)**, it is another method that can learn while it's running each step because learning every time step in an episode, TD increased learning efficiency significantly.\n",
    "\n",
    "Temporal Difference (TD) learning is a model-free learning algorithm like MC learning. In MC learning, Q-function is called and updated at the end of the entire episode, but TD learning update Q-function every step of an episode. One of the TD learning algorithm is Q-learning"
   ]
  },
  {
   "cell_type": "markdown",
   "metadata": {},
   "source": [
    "## Algorithms in TD method\n",
    "\n",
    "The TD method has 2 main algorithms family:\n",
    "1. Q-Learning\n",
    "2. SARSA"
   ]
  },
  {
   "cell_type": "markdown",
   "metadata": {},
   "source": [
    "## Q-Learning\n",
    "\n",
    "Q-Learning is a very popular TD method. It is an off-policy learning algorithm. The Q-function updates the Q policy based on the equation:\n",
    "\n",
    "$$Q(s,a)=Q(s,a)+\\alpha(r+\\gamma \\max_{a'}Q(s',a') - Q(s,a))$$\n",
    "\n",
    "where\n",
    "- s: currenct state\n",
    "- s': next state after taking action\n",
    "- a: action in the current state\n",
    "- a': action will take when go to next state\n",
    "- $\\alpha$: learning rate\n",
    "- $\\gamma$: discount factor\n",
    "\n",
    "$\\max_{a'}Q(s',a')$ means the behavior policy is greedy, where the highest Q-value among those in state $s'$ is selected to generate learning data.\n",
    "\n",
    "In Q-learning, actions are taken according to the epsilon-greedy policy."
   ]
  },
  {
   "cell_type": "markdown",
   "metadata": {},
   "source": [
    "## Q-Learning example: SpaceInvaders\n",
    "\n",
    "Now, let's do the Q-Learning algorithm using SpaceInvaders environment."
   ]
  },
  {
   "cell_type": "code",
   "execution_count": 36,
   "metadata": {},
   "outputs": [
    {
     "data": {
      "text/plain": [
       "(array([[[ 0,  0,  0],\n",
       "         [ 0,  0,  0],\n",
       "         [ 0,  0,  0],\n",
       "         ...,\n",
       "         [ 0,  0,  0],\n",
       "         [ 0,  0,  0],\n",
       "         [ 0,  0,  0]],\n",
       " \n",
       "        [[ 0,  0,  0],\n",
       "         [ 0,  0,  0],\n",
       "         [ 0,  0,  0],\n",
       "         ...,\n",
       "         [ 0,  0,  0],\n",
       "         [ 0,  0,  0],\n",
       "         [ 0,  0,  0]],\n",
       " \n",
       "        [[ 0,  0,  0],\n",
       "         [ 0,  0,  0],\n",
       "         [ 0,  0,  0],\n",
       "         ...,\n",
       "         [ 0,  0,  0],\n",
       "         [ 0,  0,  0],\n",
       "         [ 0,  0,  0]],\n",
       " \n",
       "        ...,\n",
       " \n",
       "        [[80, 89, 22],\n",
       "         [80, 89, 22],\n",
       "         [80, 89, 22],\n",
       "         ...,\n",
       "         [80, 89, 22],\n",
       "         [80, 89, 22],\n",
       "         [80, 89, 22]],\n",
       " \n",
       "        [[80, 89, 22],\n",
       "         [80, 89, 22],\n",
       "         [80, 89, 22],\n",
       "         ...,\n",
       "         [80, 89, 22],\n",
       "         [80, 89, 22],\n",
       "         [80, 89, 22]],\n",
       " \n",
       "        [[80, 89, 22],\n",
       "         [80, 89, 22],\n",
       "         [80, 89, 22],\n",
       "         ...,\n",
       "         [80, 89, 22],\n",
       "         [80, 89, 22],\n",
       "         [80, 89, 22]]], dtype=uint8),\n",
       " {'lives': 3, 'episode_frame_number': 0, 'frame_number': 0})"
      ]
     },
     "execution_count": 36,
     "metadata": {},
     "output_type": "execute_result"
    }
   ],
   "source": [
    "import torch\n",
    "import gym\n",
    "from collections import defaultdict\n",
    "import numpy\n",
    "\n",
    "env_id = \"SpaceInvaders-v0\"\n",
    "env = gym.make(env_id)\n",
    "\n",
    "env.reset()"
   ]
  },
  {
   "cell_type": "markdown",
   "metadata": {},
   "source": [
    "### Define Epsilon greedy policy\n",
    "\n",
    "As last time the epsilon greedy policy equation can be written as:\n",
    "\n",
    "$$\\pi(s,a) = \\frac{\\epsilon}{|A|}$$\n",
    "\n",
    "when $|A|$ is the number of possible actions, and\n",
    "\n",
    "$$\\pi(s,a) = 1 - \\epsilon + \\frac{\\epsilon}{|A|}$$"
   ]
  },
  {
   "cell_type": "code",
   "execution_count": 37,
   "metadata": {},
   "outputs": [],
   "source": [
    "def gen_epsilon_greedy_policy(n_action, epsilon):\n",
    "    def policy_function(state, Q, available_actions):\n",
    "        probs = torch.ones(n_action) * epsilon / n_action\n",
    "        best_action = torch.argmax(Q[state]).item()\n",
    "        if not(best_action in available_actions):\n",
    "            best_action = -1\n",
    "            Q_max = -800000000\n",
    "            for i in range(n_action):\n",
    "                if i in available_actions and Q_max < Q[state][i]:\n",
    "                    Q_max = Q[state][i]\n",
    "                    best_action = i\n",
    "        probs[best_action] += 1.0 - epsilon\n",
    "        action = torch.multinomial(probs, 1).item()\n",
    "        return action\n",
    "    return policy_function"
   ]
  },
  {
   "cell_type": "markdown",
   "metadata": {},
   "source": [
    "### Define Q-learning function\n",
    "\n",
    "We perform Q-learning in the tasks:\n",
    "\n",
    "1. Initialize the Q-table with all zeros.\n",
    "2. In each episode, we let the agent follow the epsilon-greedy policy to choose what action to take. And we update the Q function for each step.\n",
    "3. Run <code>n_episodes</code> episodes\n",
    "4. Obtain the optimal policy based on the optimal Q function."
   ]
  },
  {
   "cell_type": "code",
   "execution_count": 38,
   "metadata": {},
   "outputs": [],
   "source": [
    "def q_learning(env, gamma, n_episode, alpha, player):\n",
    "    \"\"\"\n",
    "    Obtain the optimal policy with off-policy Q-learning method\n",
    "    @param env: OpenAI Gym environment\n",
    "    @param gamma: discount factor\n",
    "    @param n_episode: number of episodes\n",
    "    @return: the optimal Q-function, and the optimal policy\n",
    "    \"\"\"\n",
    "    n_action = 9\n",
    "    Q = defaultdict(lambda: torch.zeros(n_action))\n",
    "    print('start learning')\n",
    "    for episode in range(n_episode):\n",
    "        print(\"episode: \", episode + 1)\n",
    "        state = env.reset()\n",
    "        state = hash(tuple(state.reshape(-1)))\n",
    "\n",
    "        is_done = False\n",
    "        while not is_done:\n",
    "            action = epsilon_greedy_policy(state, Q, available_actions)\n",
    "            next_state, reward, is_done, info = env.step(action)\n",
    "            next_state = hash(tuple(next_state.reshape(-1)))\n",
    "            td_delta = reward + gamma * torch.max(Q[next_state]) - Q[state][action]\n",
    "            Q[state][action] += alpha * td_delta\n",
    "\n",
    "            length_episode[episode] += 1\n",
    "            total_reward_episode[episode] += reward\n",
    "\n",
    "            if is_done:\n",
    "                break\n",
    "            state = next_state\n",
    "\n",
    "    policy = {}\n",
    "    for state, actions in Q.items():\n",
    "        policy[state] = torch.argmax(actions).item()\n",
    "    return Q, policy"
   ]
  },
  {
   "cell_type": "markdown",
   "metadata": {},
   "source": [
    "### Define initial parameters\n",
    "\n",
    "We specify the $\\gamma=1$, $\\alpha=0.4$, and $\\epsilon=0.1$ with 500 episodes"
   ]
  },
  {
   "cell_type": "code",
   "execution_count": 39,
   "metadata": {},
   "outputs": [],
   "source": [
    "gamma = 1\n",
    "alpha = 0.4\n",
    "epsilon = 0.1\n",
    "\n",
    "n_episode = 500"
   ]
  },
  {
   "cell_type": "markdown",
   "metadata": {},
   "source": [
    "### Create an instance of the epsilon-greedy policy function"
   ]
  },
  {
   "cell_type": "code",
   "execution_count": 40,
   "metadata": {},
   "outputs": [
    {
     "name": "stdout",
     "output_type": "stream",
     "text": [
      "<function gen_epsilon_greedy_policy.<locals>.policy_function at 0x000001299FB64CA0>\n"
     ]
    }
   ],
   "source": [
    "available_actions = numpy.arange(env.action_space.n)\n",
    "available_actions = torch.from_numpy(available_actions)\n",
    "epsilon_greedy_policy = gen_epsilon_greedy_policy(env.action_space.n, epsilon)\n",
    "\n",
    "print(epsilon_greedy_policy)"
   ]
  },
  {
   "cell_type": "markdown",
   "metadata": {},
   "source": [
    "### Train it!"
   ]
  },
  {
   "cell_type": "code",
   "execution_count": 41,
   "metadata": {
    "scrolled": true
   },
   "outputs": [
    {
     "name": "stdout",
     "output_type": "stream",
     "text": [
      "start learning\n",
      "episode:  1\n"
     ]
    },
    {
     "ename": "AttributeError",
     "evalue": "'tuple' object has no attribute 'reshape'",
     "output_type": "error",
     "traceback": [
      "\u001b[1;31m---------------------------------------------------------------------------\u001b[0m",
      "\u001b[1;31mAttributeError\u001b[0m                            Traceback (most recent call last)",
      "\u001b[1;32mc:\\Users\\Guntsv\\Downloads\\AIT\\AT82.03 Machine Learning (ML)\\Laboratory\\ML2022-13-Reinforcement-Learning\\12-Reinforcement-Learning.ipynb Cell 169\u001b[0m in \u001b[0;36m<cell line: 5>\u001b[1;34m()\u001b[0m\n\u001b[0;32m      <a href='vscode-notebook-cell:/c%3A/Users/Guntsv/Downloads/AIT/AT82.03%20Machine%20Learning%20%28ML%29/Laboratory/ML2022-13-Reinforcement-Learning/12-Reinforcement-Learning.ipynb#Y330sZmlsZQ%3D%3D?line=1'>2</a>\u001b[0m total_reward_episode \u001b[39m=\u001b[39m [\u001b[39m0\u001b[39m] \u001b[39m*\u001b[39m n_episode\n\u001b[0;32m      <a href='vscode-notebook-cell:/c%3A/Users/Guntsv/Downloads/AIT/AT82.03%20Machine%20Learning%20%28ML%29/Laboratory/ML2022-13-Reinforcement-Learning/12-Reinforcement-Learning.ipynb#Y330sZmlsZQ%3D%3D?line=3'>4</a>\u001b[0m \u001b[39m# agent play first\u001b[39;00m\n\u001b[1;32m----> <a href='vscode-notebook-cell:/c%3A/Users/Guntsv/Downloads/AIT/AT82.03%20Machine%20Learning%20%28ML%29/Laboratory/ML2022-13-Reinforcement-Learning/12-Reinforcement-Learning.ipynb#Y330sZmlsZQ%3D%3D?line=4'>5</a>\u001b[0m optimal_Q, optimal_policy \u001b[39m=\u001b[39m q_learning(env, gamma, n_episode, alpha, \u001b[39m1\u001b[39;49m)\n\u001b[0;32m      <a href='vscode-notebook-cell:/c%3A/Users/Guntsv/Downloads/AIT/AT82.03%20Machine%20Learning%20%28ML%29/Laboratory/ML2022-13-Reinforcement-Learning/12-Reinforcement-Learning.ipynb#Y330sZmlsZQ%3D%3D?line=7'>8</a>\u001b[0m \u001b[39mprint\u001b[39m(\u001b[39m'\u001b[39m\u001b[39mThe optimal policy:\u001b[39m\u001b[39m\\n\u001b[39;00m\u001b[39m'\u001b[39m, optimal_policy)\n",
      "\u001b[1;32mc:\\Users\\Guntsv\\Downloads\\AIT\\AT82.03 Machine Learning (ML)\\Laboratory\\ML2022-13-Reinforcement-Learning\\12-Reinforcement-Learning.ipynb Cell 169\u001b[0m in \u001b[0;36mq_learning\u001b[1;34m(env, gamma, n_episode, alpha, player)\u001b[0m\n\u001b[0;32m     <a href='vscode-notebook-cell:/c%3A/Users/Guntsv/Downloads/AIT/AT82.03%20Machine%20Learning%20%28ML%29/Laboratory/ML2022-13-Reinforcement-Learning/12-Reinforcement-Learning.ipynb#Y330sZmlsZQ%3D%3D?line=12'>13</a>\u001b[0m \u001b[39mprint\u001b[39m(\u001b[39m\"\u001b[39m\u001b[39mepisode: \u001b[39m\u001b[39m\"\u001b[39m, episode \u001b[39m+\u001b[39m \u001b[39m1\u001b[39m)\n\u001b[0;32m     <a href='vscode-notebook-cell:/c%3A/Users/Guntsv/Downloads/AIT/AT82.03%20Machine%20Learning%20%28ML%29/Laboratory/ML2022-13-Reinforcement-Learning/12-Reinforcement-Learning.ipynb#Y330sZmlsZQ%3D%3D?line=13'>14</a>\u001b[0m state \u001b[39m=\u001b[39m env\u001b[39m.\u001b[39mreset()\n\u001b[1;32m---> <a href='vscode-notebook-cell:/c%3A/Users/Guntsv/Downloads/AIT/AT82.03%20Machine%20Learning%20%28ML%29/Laboratory/ML2022-13-Reinforcement-Learning/12-Reinforcement-Learning.ipynb#Y330sZmlsZQ%3D%3D?line=14'>15</a>\u001b[0m state \u001b[39m=\u001b[39m \u001b[39mhash\u001b[39m(\u001b[39mtuple\u001b[39m(state\u001b[39m.\u001b[39;49mreshape(\u001b[39m-\u001b[39m\u001b[39m1\u001b[39m)))\n\u001b[0;32m     <a href='vscode-notebook-cell:/c%3A/Users/Guntsv/Downloads/AIT/AT82.03%20Machine%20Learning%20%28ML%29/Laboratory/ML2022-13-Reinforcement-Learning/12-Reinforcement-Learning.ipynb#Y330sZmlsZQ%3D%3D?line=16'>17</a>\u001b[0m is_done \u001b[39m=\u001b[39m \u001b[39mFalse\u001b[39;00m\n\u001b[0;32m     <a href='vscode-notebook-cell:/c%3A/Users/Guntsv/Downloads/AIT/AT82.03%20Machine%20Learning%20%28ML%29/Laboratory/ML2022-13-Reinforcement-Learning/12-Reinforcement-Learning.ipynb#Y330sZmlsZQ%3D%3D?line=17'>18</a>\u001b[0m \u001b[39mwhile\u001b[39;00m \u001b[39mnot\u001b[39;00m is_done:\n",
      "\u001b[1;31mAttributeError\u001b[0m: 'tuple' object has no attribute 'reshape'"
     ]
    }
   ],
   "source": [
    "length_episode = [0] * n_episode\n",
    "total_reward_episode = [0] * n_episode\n",
    "\n",
    "# agent play first\n",
    "optimal_Q, optimal_policy = q_learning(env, gamma, n_episode, alpha, 1)\n",
    "\n",
    "\n",
    "print('The optimal policy:\\n', optimal_policy)"
   ]
  },
  {
   "cell_type": "markdown",
   "metadata": {},
   "source": [
    "### Display the plot of episode"
   ]
  },
  {
   "cell_type": "code",
   "execution_count": 42,
   "metadata": {
    "tags": []
   },
   "outputs": [
    {
     "data": {
      "image/png": "[encoded data removed]",
      "text/plain": [
       "<Figure size 432x288 with 1 Axes>"
      ]
     },
     "metadata": {
      "needs_background": "light"
     },
     "output_type": "display_data"
    },
    {
     "name": "stdout",
     "output_type": "stream",
     "text": [
      "[0, 0, 0, 0, 0, 0, 0, 0, 0, 0, 0, 0, 0, 0, 0, 0, 0, 0, 0, 0, 0, 0, 0, 0, 0, 0, 0, 0, 0, 0, 0, 0, 0, 0, 0, 0, 0, 0, 0, 0, 0, 0, 0, 0, 0, 0, 0, 0, 0, 0, 0, 0, 0, 0, 0, 0, 0, 0, 0, 0, 0, 0, 0, 0, 0, 0, 0, 0, 0, 0, 0, 0, 0, 0, 0, 0, 0, 0, 0, 0, 0, 0, 0, 0, 0, 0, 0, 0, 0, 0, 0, 0, 0, 0, 0, 0, 0, 0, 0, 0]\n"
     ]
    },
    {
     "data": {
      "image/png": "[encoded data removed]",
      "text/plain": [
       "<Figure size 432x288 with 1 Axes>"
      ]
     },
     "metadata": {
      "needs_background": "light"
     },
     "output_type": "display_data"
    }
   ],
   "source": [
    "import matplotlib.pyplot as plt\n",
    "\n",
    "plt.plot(length_episode)\n",
    "plt.title('Episode length over time')\n",
    "plt.xlabel('Episode')\n",
    "plt.ylabel('Length')\n",
    "plt.show()\n",
    "\n",
    "\n",
    "plt.plot(total_reward_episode)\n",
    "print(total_reward_episode[-100:])\n",
    "plt.title('Episode reward over time')\n",
    "plt.xlabel('Episode')\n",
    "plt.ylabel('Total reward')\n",
    "plt.show()"
   ]
  },
  {
   "cell_type": "markdown",
   "metadata": {},
   "source": [
    "### Simulate the optimal policy"
   ]
  },
  {
   "cell_type": "code",
   "execution_count": 43,
   "metadata": {},
   "outputs": [
    {
     "ename": "NameError",
     "evalue": "name 'optimal_Q' is not defined",
     "output_type": "error",
     "traceback": [
      "\u001b[1;31m---------------------------------------------------------------------------\u001b[0m",
      "\u001b[1;31mNameError\u001b[0m                                 Traceback (most recent call last)",
      "\u001b[1;32mc:\\Users\\Guntsv\\Downloads\\AIT\\AT82.03 Machine Learning (ML)\\Laboratory\\ML2022-13-Reinforcement-Learning\\12-Reinforcement-Learning.ipynb Cell 173\u001b[0m in \u001b[0;36m<cell line: 24>\u001b[1;34m()\u001b[0m\n\u001b[0;32m     <a href='vscode-notebook-cell:/c%3A/Users/Guntsv/Downloads/AIT/AT82.03%20Machine%20Learning%20%28ML%29/Laboratory/ML2022-13-Reinforcement-Learning/12-Reinforcement-Learning.ipynb#Y334sZmlsZQ%3D%3D?line=20'>21</a>\u001b[0m         state \u001b[39m=\u001b[39m next_state\n\u001b[0;32m     <a href='vscode-notebook-cell:/c%3A/Users/Guntsv/Downloads/AIT/AT82.03%20Machine%20Learning%20%28ML%29/Laboratory/ML2022-13-Reinforcement-Learning/12-Reinforcement-Learning.ipynb#Y334sZmlsZQ%3D%3D?line=21'>22</a>\u001b[0m         state \u001b[39m=\u001b[39m \u001b[39mhash\u001b[39m(\u001b[39mtuple\u001b[39m(state\u001b[39m.\u001b[39mreshape(\u001b[39m-\u001b[39m\u001b[39m1\u001b[39m)))\n\u001b[1;32m---> <a href='vscode-notebook-cell:/c%3A/Users/Guntsv/Downloads/AIT/AT82.03%20Machine%20Learning%20%28ML%29/Laboratory/ML2022-13-Reinforcement-Learning/12-Reinforcement-Learning.ipynb#Y334sZmlsZQ%3D%3D?line=23'>24</a>\u001b[0m play_game(optimal_Q, available_actions)\n\u001b[0;32m     <a href='vscode-notebook-cell:/c%3A/Users/Guntsv/Downloads/AIT/AT82.03%20Machine%20Learning%20%28ML%29/Laboratory/ML2022-13-Reinforcement-Learning/12-Reinforcement-Learning.ipynb#Y334sZmlsZQ%3D%3D?line=24'>25</a>\u001b[0m env\u001b[39m.\u001b[39mclose()\n",
      "\u001b[1;31mNameError\u001b[0m: name 'optimal_Q' is not defined"
     ]
    }
   ],
   "source": [
    "import time\n",
    "from IPython import display\n",
    "import matplotlib\n",
    "import matplotlib.pyplot as plt\n",
    "%matplotlib inline\n",
    "\n",
    "def play_game(Q, available_actions):\n",
    "    done = False\n",
    "    plt.figure(figsize=(9,9))\n",
    "    img = plt.imshow(env.render(mode='rgb_array')) # only call this once\n",
    "    state = env.reset()\n",
    "    state = hash(tuple(state.reshape(-1)))\n",
    "    while(not done):\n",
    "        action = epsilon_greedy_policy(state, Q, available_actions)\n",
    "        next_state, reward, done, _ = env.step(action)\n",
    "        # env.render() No use!\n",
    "        img.set_data(env.render(mode='rgb_array')) # just update the data\n",
    "        display.display(plt.gcf())\n",
    "        display.clear_output(wait=True)\n",
    "        time.sleep(0.03)\n",
    "        state = next_state\n",
    "        state = hash(tuple(state.reshape(-1)))\n",
    "\n",
    "play_game(optimal_Q, available_actions)\n",
    "env.close()"
   ]
  },
  {
   "cell_type": "markdown",
   "metadata": {},
   "source": [
    "## Deep Q-Learning\n",
    "\n",
    "A deep Q-Network (DQN) is similar to a supervised regression model $F_{\\theta}$, but it more specifically maps states to action values directly instead of using a set of features.\n",
    "\n",
    "A DQN is trained to output $Q(s,a)$ values for each action given the input state $s$. In operation, in state $s$, the action $a$ is chosen greedily based on $Q(s,a)$ or stochastically\n",
    "following an epsilon-greedy policy.\n",
    "\n",
    "<img src=\"img/RL2_DQN.png\" title=\"DQN\" style=\"width: 800px;\" />\n",
    "\n",
    "In tabular Q learning, the update rule is an off-policy TD learning rule. When we take\n",
    "action $a$ in state $s$ receiving reward $r$, we update $Q(s,a)$ as\n",
    "\n",
    "$$Q(s,a)=Q(s,a)+\\alpha(r+\\gamma\\max_{a'}Q(s',a')-Q(s,a)),$$\n",
    "\n",
    "where\n",
    " - $s'$ is the resulting state after taking action $a$ in state $s$\n",
    " - $\\max_{a'}Q(s',a')$ is value of the action $a'$ we would take in state $s'$ according to a greedy behavior policy.\n",
    "\n",
    "A DQN does the same thing using backpropagation, minimizing inconsistencies in its $Q$ estimates. At each step, the difference\n",
    "between the estimated value and the observed data from the subsequent step should be minimized, giving us a kind of regression\n",
    "problem, for which a squared error loss function is appopriate, giving us a delta for the $a$th output of\n",
    "\n",
    "$$\\delta_a=r+\\gamma\\max_{a'}Q(s')_{a'}-Q(s)_{a}.$$\n",
    "\n",
    "With an appropriate exploration strategy and learning rate, DQN should find the optimal network model best approximating\n",
    "the state-value function $Q(s,a)$ for each possible state and action.\n",
    "\n",
    "## DQN Example: Cartpole\n",
    "\n",
    "Let's develop a sample DQN application step by step. First, some imports we'll need.\n",
    "\n",
    "**Note**: From now, the coding style have changed for supporting more advance coding."
   ]
  },
  {
   "cell_type": "code",
   "execution_count": 49,
   "metadata": {},
   "outputs": [],
   "source": [
    "import math, random\n",
    "\n",
    "import torch\n",
    "import torch.nn as nn\n",
    "import torch.optim as optim\n",
    "import torch.autograd as autograd \n",
    "import torch.nn.functional as F\n",
    "\n",
    "import matplotlib.pyplot as plt\n",
    "\n",
    "import gym\n",
    "import numpy as np\n",
    "\n",
    "from collections import deque\n",
    "from tqdm import trange\n",
    "\n",
    "# Select GPU or CPU as device\n",
    "\n",
    "device = torch.device(\"cuda:0\" if torch.cuda.is_available() else \"cpu\")"
   ]
  },
  {
   "cell_type": "markdown",
   "metadata": {},
   "source": [
    "### $\\epsilon$ decay schedule\n",
    "\n",
    "$\\epsilon$ is how much the model use the policy action as random. At first, we want $\\epsilon$ high as possible to explore the new path, and the $\\epsilon$ will decreased to exploit the policy at the old state that we have explored.\n",
    "\n",
    "Recall that some of the theoretical results on TD learning assume $\\epsilon$-greedy exploration with $\\epsilon$ decaying slowly to 0\n",
    "over time. Let's define an exponential decay schedule for $\\epsilon$. First, an example:"
   ]
  },
  {
   "cell_type": "code",
   "execution_count": 50,
   "metadata": {},
   "outputs": [
    {
     "data": {
      "image/png": "[encoded data removed]",
      "text/plain": [
       "<Figure size 432x288 with 1 Axes>"
      ]
     },
     "metadata": {
      "needs_background": "light"
     },
     "output_type": "display_data"
    }
   ],
   "source": [
    "epsilon_start = 1.0\n",
    "epsilon_final = 0.01\n",
    "epsilon_decay = 500\n",
    "\n",
    "# Define epsilon as a function of time (episode index)\n",
    "\n",
    "eps_by_episode = lambda episode: epsilon_final + (epsilon_start - epsilon_final) * math.exp(-1. * episode / epsilon_decay)\n",
    "\n",
    "# Note that the above lambda expression is equivalent to explicitly defining a function:\n",
    "# def epsilon_episode(episode):\n",
    "#     return epsilon_final + (epsilon_start - epsilon_final) * math.exp(-1. * episode / epsilon_decay)\n",
    "\n",
    "plt.plot([eps_by_episode(i) for i in range(10000)])\n",
    "plt.title('Epsilon as function of time')\n",
    "plt.xlabel('Time (episode index)')\n",
    "plt.ylabel('Epsilon')\n",
    "plt.show()"
   ]
  },
  {
   "cell_type": "markdown",
   "metadata": {},
   "source": [
    "Here's a reusable function to generate an annealing schedule function according to given parameters:"
   ]
  },
  {
   "cell_type": "code",
   "execution_count": 51,
   "metadata": {},
   "outputs": [],
   "source": [
    "# Epsilon annealing schedule generator\n",
    "\n",
    "def gen_eps_by_episode(epsilon_start, epsilon_final, epsilon_decay):\n",
    "    eps_by_episode = lambda episode: epsilon_final + (epsilon_start - epsilon_final) * math.exp(-1. * episode / epsilon_decay)\n",
    "    return eps_by_episode\n",
    "\n",
    "epsilon_start = 1.0\n",
    "epsilon_final = 0.01\n",
    "epsilon_decay = 500\n",
    "eps_by_episode = gen_eps_by_episode(epsilon_start, epsilon_final, epsilon_decay)"
   ]
  },
  {
   "cell_type": "markdown",
   "metadata": {},
   "source": [
    "### Replay buffer\n",
    "\n",
    "We know that deep learning methods learn faster when training samples are combined into batches. This speeds up learning and also makes it more stable by averaging\n",
    "updates over multiple samaples.\n",
    "\n",
    "RL algorithms also benefit from batched training. However, we see that the standard Q learning rule always updates $Q$ estimates using the most recent experience.\n",
    "If we always trained on batches consisting of samples of the most recent behavior, correlations between successive state action pairs will make learning less effective.\n",
    "So we would also like to select random training samples to make them look more like the i.i.d. sampling that supervised learning performs well under.\n",
    "\n",
    "In RL, the standard way of doing this is to create a large buffer of past state action pairs then form training batches by sampling from that replay buffer.\n",
    "Our replay buffer will store tuples consisting of an observed state, an action, the next_state, the reward, and the termination signal obtained by the agent at that point in time:"
   ]
  },
  {
   "cell_type": "code",
   "execution_count": 104,
   "metadata": {},
   "outputs": [],
   "source": [
    "class ReplayBuffer(object):\n",
    "    def __init__(self, capacity):\n",
    "        self.buffer = deque(maxlen=capacity)\n",
    "    \n",
    "    def push(self, state, action, reward, next_state, done):\n",
    "        # Add batch index dimension to state representations\n",
    "        state = np.expand_dims(state, 0)\n",
    "        next_state = np.expand_dims(next_state, 0)            \n",
    "        self.buffer.append((state, action, reward, next_state, done))\n",
    "    \n",
    "    def sample(self, batch_size):\n",
    "        state, action, reward, next_state, done = zip(*random.sample(self.buffer, batch_size))\n",
    "        return np.concatenate(state), action, reward, np.concatenate(next_state), done\n",
    "    \n",
    "    def __len__(self):\n",
    "        return len(self.buffer)"
   ]
  },
  {
   "cell_type": "code",
   "execution_count": 105,
   "metadata": {},
   "outputs": [],
   "source": [
    "from collections import namedtuple, deque\n",
    "Transition = namedtuple('Transition',('state', 'action', 'next_state', 'reward'))\n",
    "class ReplayBuffer(object):\n",
    "\n",
    "    def __init__(self, capacity):\n",
    "        self.buffer = deque([],maxlen=capacity)\n",
    "\n",
    "    def push(self, *args):\n",
    "        \"\"\"Save a transition\"\"\"\n",
    "        self.buffer.append(Transition(*args))\n",
    "\n",
    "    def sample(self, batch_size):\n",
    "        return random.sample(self.buffer, batch_size)\n",
    "\n",
    "    def __len__(self):\n",
    "        return len(self.buffer)"
   ]
  },
  {
   "cell_type": "markdown",
   "metadata": {},
   "source": [
    "### Basic DQN\n",
    "\n",
    "Next, a basic DQN class. We just create a neural network that takes as input a state\n",
    "and returns an output vector indiciating the value of each possible action $Q(s,a)$.\n",
    "\n",
    "The steps we take during learning will be as follows:\n",
    "\n",
    "<img src=\"img/RL2_DQNstep.jpeg\" title=\"\" style=\"width: 600px;\" />\n",
    "\n",
    "To implement the policy, besides the usual `forward()` method, we add one additional method `act()`,\n",
    "which samples an $\\epsilon$-greedy action for state $s$ using the current estimate $Q(s,a)$.\n",
    "`act()` will be used to implement step 1 in the pseudocode above.\n"
   ]
  },
  {
   "cell_type": "code",
   "execution_count": 106,
   "metadata": {},
   "outputs": [],
   "source": [
    "class DQN(nn.Module):\n",
    "    \n",
    "    def __init__(self, n_state, n_action):\n",
    "        super(DQN, self).__init__()        \n",
    "        self.layers = nn.Sequential(\n",
    "            nn.Linear(n_state, 128),\n",
    "            nn.ReLU(),\n",
    "            nn.Linear(128, 128),\n",
    "            nn.ReLU(),\n",
    "            nn.Linear(128, n_action)\n",
    "        )\n",
    "        \n",
    "    def forward(self, x):\n",
    "        return self.layers(x)\n",
    "    \n",
    "    def act(self, state, epsilon):\n",
    "        # Get an epsilon greedy action for given state\n",
    "        if random.random() > epsilon: # Use argmax_a Q(s,a)\n",
    "            state = autograd.Variable(torch.FloatTensor(state).unsqueeze(0), volatile=True).to(device)\n",
    "            q_value = self.forward(state)\n",
    "            q_value = q_value.cpu()\n",
    "            action = q_value.max(1)[1].item()            \n",
    "        else: # get random action\n",
    "            action = random.randrange(env.action_space.n)\n",
    "        return action"
   ]
  },
  {
   "cell_type": "markdown",
   "metadata": {},
   "source": [
    "### Create gym environment, prepare DQN for training\n",
    "\n",
    "Next we set up a gym environment for the cartpole simulation, create a DQN model with Adam optimization, and create a replay buffer of length 1000."
   ]
  },
  {
   "cell_type": "code",
   "execution_count": 107,
   "metadata": {},
   "outputs": [],
   "source": [
    "env_id = \"CartPole-v1\"\n",
    "env = gym.make(env_id)\n",
    "\n",
    "model = DQN(env.observation_space.shape[0], env.action_space.n).to(device)\n",
    "    \n",
    "optimizer = optim.Adam(model.parameters())\n",
    "\n",
    "replay_buffer = ReplayBuffer(3000)"
   ]
  },
  {
   "cell_type": "markdown",
   "metadata": {},
   "source": [
    "### Training step\n",
    "\n",
    "In the training step, we sample a batch from the replay buffer, calculate $Q(s,a)$ and $\\max_{a'} Q(s',a')$, calculate\n",
    "the target $Q$ value $r + \\gamma\\max_{a'}Q(s',a')$, the mean squared loss between the predicted and target $Q$ values,\n",
    "and then backpropagate.\n"
   ]
  },
  {
   "cell_type": "code",
   "execution_count": 108,
   "metadata": {},
   "outputs": [],
   "source": [
    "def compute_td_loss(model, batch_size, gamma=0.99):\n",
    "\n",
    "    # Get batch from replay buffer\n",
    "    state, action, reward, next_state, done = replay_buffer.sample(batch_size)\n",
    "\n",
    "    # Convert to tensors. Creating Variables is not necessary with more recent PyTorch versions.\n",
    "    state      = autograd.Variable(torch.FloatTensor(np.float32(state))).to(device)\n",
    "    next_state = autograd.Variable(torch.FloatTensor(np.float32(next_state)), volatile=True).to(device)\n",
    "    action     = autograd.Variable(torch.LongTensor(action)).to(device)\n",
    "    reward     = autograd.Variable(torch.FloatTensor(reward)).to(device)\n",
    "    done       = autograd.Variable(torch.FloatTensor(done)).to(device)\n",
    "\n",
    "    # Calculate Q(s) and Q(s')\n",
    "    q_values      = model(state)\n",
    "    # print(q_values.shape)\n",
    "    next_q_values = model(next_state)\n",
    "\n",
    "    # Get Q(s,a) and max_a' Q(s',a')\n",
    "    #print(\"action.unsqueeze(1)\", action.unsqueeze(1))\n",
    "    # print(action.unsqueeze(1).shape)\n",
    "    q_value          = q_values.gather(1, action.unsqueeze(1)).squeeze(1)\n",
    "    \n",
    "    next_q_value     = next_q_values.max(1)[0]\n",
    "    #print(\"next_q_value\", next_q_value)\n",
    "    # Calculate target for Q(s,a): r + gamma max_a' Q(s',a')\n",
    "    # Note that the done signal is used to terminate recursion at end of episode.\n",
    "    expected_q_value = reward + gamma * next_q_value * (1 - done)\n",
    "    \n",
    "    # Calculate MSE loss. Variables are not needed in recent PyTorch versions.\n",
    "    loss = (q_value - autograd.Variable(expected_q_value.data)).pow(2).mean()\n",
    "        \n",
    "    optimizer.zero_grad()\n",
    "    loss.backward()\n",
    "    optimizer.step()\n",
    "\n",
    "    return loss"
   ]
  },
  {
   "cell_type": "markdown",
   "metadata": {},
   "source": [
    "### Plot rewards and losses\n",
    "\n",
    "Here's a little function to plot relevant details for us:"
   ]
  },
  {
   "cell_type": "code",
   "execution_count": 109,
   "metadata": {},
   "outputs": [],
   "source": [
    "def plot(episode, rewards, losses):\n",
    "    # clear_output(True)\n",
    "    plt.figure(figsize=(20,5))\n",
    "    plt.subplot(131)\n",
    "    plt.title('episode %s. reward: %s' % (episode, np.mean(rewards[-10:])))\n",
    "    plt.plot(rewards)\n",
    "    plt.subplot(132)\n",
    "    plt.title('loss')\n",
    "    plt.plot(losses)   \n",
    "    plt.show() "
   ]
  },
  {
   "cell_type": "markdown",
   "metadata": {},
   "source": [
    "### Training loop\n",
    "\n",
    "The training loop lets the agent play the game until the end of the episode.\n",
    "Each step is appended to the replay buffer. We don't do any learning until the buffer's length reaches the batch_size.\n"
   ]
  },
  {
   "cell_type": "code",
   "execution_count": 110,
   "metadata": {},
   "outputs": [],
   "source": [
    "def train(env, model, eps_by_episode, optimizer, replay_buffer, episodes = 10000, batch_size=32, gamma = 0.99):\n",
    "    losses = []\n",
    "    all_rewards = []\n",
    "    episode_reward = 0\n",
    "    tot_reward = 0\n",
    "    tr = trange(episodes+1, desc='Agent training', leave=True)\n",
    "\n",
    "    # Get initial state input\n",
    "    state = env.reset()\n",
    "\n",
    "    # Execute episodes iterations\n",
    "    for episode in tr:\n",
    "        tr.set_description(\"Agent training (episode{}) Avg Reward {}\".format(episode+1,tot_reward/(episode+1)))\n",
    "        tr.refresh() \n",
    "\n",
    "        # Get initial epsilon greedy action\n",
    "        epsilon = eps_by_episode(episode)\n",
    "        action = model.act(state, epsilon)\n",
    "        \n",
    "        # Take a step\n",
    "        next_state, reward, done, _, _ = env.step(action)\n",
    "\n",
    "        # Append experience to replay buffer\n",
    "        # replay_buffer.push(state, action, reward, next_state, done)\n",
    "\n",
    "        tot_reward += reward\n",
    "        episode_reward += reward\n",
    "        \n",
    "        state = next_state\n",
    "\n",
    "        # Start a new episode if done signal is received\n",
    "        if done:\n",
    "            state = env.reset()\n",
    "            all_rewards.append(episode_reward)\n",
    "            episode_reward = 0\n",
    "\n",
    "        # Train on a batch if we've got enough experience\n",
    "        # print(len(replay_buffer))compute_td_loss\n",
    "        if len(replay_buffer) > batch_size:\n",
    "            loss = compute_td_loss(model, batch_size, gamma)\n",
    "            losses.append(loss.item())\n",
    "            \n",
    "    plot(episode, all_rewards, losses)  \n",
    "    return model,all_rewards, losses"
   ]
  },
  {
   "cell_type": "markdown",
   "metadata": {},
   "source": [
    "### Train!\n",
    "\n",
    "Let's train our DQN model for 10,000 steps in the cartpole simulation:"
   ]
  },
  {
   "cell_type": "code",
   "execution_count": 120,
   "metadata": {},
   "outputs": [
    {
     "name": "stderr",
     "output_type": "stream",
     "text": [
      "Agent training (episode14) Avg Reward 0.9285714285714286:   0%|          | 0/10001 [00:00<?, ?it/s]C:\\Users\\Guntsv\\AppData\\Local\\Temp\\ipykernel_25048\\2776276185.py:19: UserWarning: volatile was removed and now has no effect. Use `with torch.no_grad():` instead.\n",
      "  state = autograd.Variable(torch.FloatTensor(state).unsqueeze(0), volatile=True).to(device)\n",
      "Agent training (episode34) Avg Reward 0.9705882352941176:   0%|          | 33/10001 [00:00<00:16, 593.75it/s]\n"
     ]
    },
    {
     "ename": "ValueError",
     "evalue": "expected sequence of length 4 at dim 1 (got 0)",
     "output_type": "error",
     "traceback": [
      "\u001b[1;31m---------------------------------------------------------------------------\u001b[0m",
      "\u001b[1;31mValueError\u001b[0m                                Traceback (most recent call last)",
      "\u001b[1;32mc:\\Users\\Guntsv\\Downloads\\AIT\\AT82.03 Machine Learning (ML)\\Laboratory\\ML2022-13-Reinforcement-Learning\\12-Reinforcement-Learning.ipynb Cell 204\u001b[0m in \u001b[0;36m<cell line: 1>\u001b[1;34m()\u001b[0m\n\u001b[1;32m----> <a href='vscode-notebook-cell:/c%3A/Users/Guntsv/Downloads/AIT/AT82.03%20Machine%20Learning%20%28ML%29/Laboratory/ML2022-13-Reinforcement-Learning/12-Reinforcement-Learning.ipynb#Y365sZmlsZQ%3D%3D?line=0'>1</a>\u001b[0m model,all_rewards, losses \u001b[39m=\u001b[39m train(env, model, eps_by_episode, optimizer, replay_buffer, episodes \u001b[39m=\u001b[39;49m \u001b[39m10000\u001b[39;49m, batch_size\u001b[39m=\u001b[39;49m\u001b[39m32\u001b[39;49m, gamma \u001b[39m=\u001b[39;49m \u001b[39m0.99\u001b[39;49m)\n",
      "\u001b[1;32mc:\\Users\\Guntsv\\Downloads\\AIT\\AT82.03 Machine Learning (ML)\\Laboratory\\ML2022-13-Reinforcement-Learning\\12-Reinforcement-Learning.ipynb Cell 204\u001b[0m in \u001b[0;36mtrain\u001b[1;34m(env, model, eps_by_episode, optimizer, replay_buffer, episodes, batch_size, gamma)\u001b[0m\n\u001b[0;32m     <a href='vscode-notebook-cell:/c%3A/Users/Guntsv/Downloads/AIT/AT82.03%20Machine%20Learning%20%28ML%29/Laboratory/ML2022-13-Reinforcement-Learning/12-Reinforcement-Learning.ipynb#Y365sZmlsZQ%3D%3D?line=15'>16</a>\u001b[0m \u001b[39m# Get initial epsilon greedy action\u001b[39;00m\n\u001b[0;32m     <a href='vscode-notebook-cell:/c%3A/Users/Guntsv/Downloads/AIT/AT82.03%20Machine%20Learning%20%28ML%29/Laboratory/ML2022-13-Reinforcement-Learning/12-Reinforcement-Learning.ipynb#Y365sZmlsZQ%3D%3D?line=16'>17</a>\u001b[0m epsilon \u001b[39m=\u001b[39m eps_by_episode(episode)\n\u001b[1;32m---> <a href='vscode-notebook-cell:/c%3A/Users/Guntsv/Downloads/AIT/AT82.03%20Machine%20Learning%20%28ML%29/Laboratory/ML2022-13-Reinforcement-Learning/12-Reinforcement-Learning.ipynb#Y365sZmlsZQ%3D%3D?line=17'>18</a>\u001b[0m action \u001b[39m=\u001b[39m model\u001b[39m.\u001b[39;49mact(state, epsilon)\n\u001b[0;32m     <a href='vscode-notebook-cell:/c%3A/Users/Guntsv/Downloads/AIT/AT82.03%20Machine%20Learning%20%28ML%29/Laboratory/ML2022-13-Reinforcement-Learning/12-Reinforcement-Learning.ipynb#Y365sZmlsZQ%3D%3D?line=19'>20</a>\u001b[0m \u001b[39m# Take a step\u001b[39;00m\n\u001b[0;32m     <a href='vscode-notebook-cell:/c%3A/Users/Guntsv/Downloads/AIT/AT82.03%20Machine%20Learning%20%28ML%29/Laboratory/ML2022-13-Reinforcement-Learning/12-Reinforcement-Learning.ipynb#Y365sZmlsZQ%3D%3D?line=20'>21</a>\u001b[0m next_state, reward, done, _, _ \u001b[39m=\u001b[39m env\u001b[39m.\u001b[39mstep(action)\n",
      "\u001b[1;32mc:\\Users\\Guntsv\\Downloads\\AIT\\AT82.03 Machine Learning (ML)\\Laboratory\\ML2022-13-Reinforcement-Learning\\12-Reinforcement-Learning.ipynb Cell 204\u001b[0m in \u001b[0;36mDQN.act\u001b[1;34m(self, state, epsilon)\u001b[0m\n\u001b[0;32m     <a href='vscode-notebook-cell:/c%3A/Users/Guntsv/Downloads/AIT/AT82.03%20Machine%20Learning%20%28ML%29/Laboratory/ML2022-13-Reinforcement-Learning/12-Reinforcement-Learning.ipynb#Y365sZmlsZQ%3D%3D?line=15'>16</a>\u001b[0m \u001b[39mdef\u001b[39;00m \u001b[39mact\u001b[39m(\u001b[39mself\u001b[39m, state, epsilon):\n\u001b[0;32m     <a href='vscode-notebook-cell:/c%3A/Users/Guntsv/Downloads/AIT/AT82.03%20Machine%20Learning%20%28ML%29/Laboratory/ML2022-13-Reinforcement-Learning/12-Reinforcement-Learning.ipynb#Y365sZmlsZQ%3D%3D?line=16'>17</a>\u001b[0m     \u001b[39m# Get an epsilon greedy action for given state\u001b[39;00m\n\u001b[0;32m     <a href='vscode-notebook-cell:/c%3A/Users/Guntsv/Downloads/AIT/AT82.03%20Machine%20Learning%20%28ML%29/Laboratory/ML2022-13-Reinforcement-Learning/12-Reinforcement-Learning.ipynb#Y365sZmlsZQ%3D%3D?line=17'>18</a>\u001b[0m     \u001b[39mif\u001b[39;00m random\u001b[39m.\u001b[39mrandom() \u001b[39m>\u001b[39m epsilon: \u001b[39m# Use argmax_a Q(s,a)\u001b[39;00m\n\u001b[1;32m---> <a href='vscode-notebook-cell:/c%3A/Users/Guntsv/Downloads/AIT/AT82.03%20Machine%20Learning%20%28ML%29/Laboratory/ML2022-13-Reinforcement-Learning/12-Reinforcement-Learning.ipynb#Y365sZmlsZQ%3D%3D?line=18'>19</a>\u001b[0m         state \u001b[39m=\u001b[39m autograd\u001b[39m.\u001b[39mVariable(torch\u001b[39m.\u001b[39;49mFloatTensor(state)\u001b[39m.\u001b[39munsqueeze(\u001b[39m0\u001b[39m), volatile\u001b[39m=\u001b[39m\u001b[39mTrue\u001b[39;00m)\u001b[39m.\u001b[39mto(device)\n\u001b[0;32m     <a href='vscode-notebook-cell:/c%3A/Users/Guntsv/Downloads/AIT/AT82.03%20Machine%20Learning%20%28ML%29/Laboratory/ML2022-13-Reinforcement-Learning/12-Reinforcement-Learning.ipynb#Y365sZmlsZQ%3D%3D?line=19'>20</a>\u001b[0m         q_value \u001b[39m=\u001b[39m \u001b[39mself\u001b[39m\u001b[39m.\u001b[39mforward(state)\n\u001b[0;32m     <a href='vscode-notebook-cell:/c%3A/Users/Guntsv/Downloads/AIT/AT82.03%20Machine%20Learning%20%28ML%29/Laboratory/ML2022-13-Reinforcement-Learning/12-Reinforcement-Learning.ipynb#Y365sZmlsZQ%3D%3D?line=20'>21</a>\u001b[0m         q_value \u001b[39m=\u001b[39m q_value\u001b[39m.\u001b[39mcpu()\n",
      "\u001b[1;31mValueError\u001b[0m: expected sequence of length 4 at dim 1 (got 0)"
     ]
    }
   ],
   "source": [
    "model,all_rewards, losses = train(env, model, eps_by_episode, optimizer, replay_buffer, episodes = 10000, batch_size=32, gamma = 0.99)"
   ]
  },
  {
   "cell_type": "markdown",
   "metadata": {},
   "source": [
    "### Play in the simulation\n",
    "\n",
    "You can run your simulation in Jupyter if you have OpenGL installed, but after the simulation is finished, you must close the\n",
    "simulator with `env.close()` (this closes the simulator, not the environment)."
   ]
  },
  {
   "cell_type": "code",
   "execution_count": 66,
   "metadata": {},
   "outputs": [
    {
     "ename": "TypeError",
     "evalue": "CartPoleEnv.render() got an unexpected keyword argument 'mode'",
     "output_type": "error",
     "traceback": [
      "\u001b[1;31m---------------------------------------------------------------------------\u001b[0m",
      "\u001b[1;31mTypeError\u001b[0m                                 Traceback (most recent call last)",
      "\u001b[1;32mc:\\Users\\Guntsv\\Downloads\\AIT\\AT82.03 Machine Learning (ML)\\Laboratory\\ML2022-13-Reinforcement-Learning\\12-Reinforcement-Learning.ipynb Cell 205\u001b[0m in \u001b[0;36m<cell line: 22>\u001b[1;34m()\u001b[0m\n\u001b[0;32m     <a href='vscode-notebook-cell:/c%3A/Users/Guntsv/Downloads/AIT/AT82.03%20Machine%20Learning%20%28ML%29/Laboratory/ML2022-13-Reinforcement-Learning/12-Reinforcement-Learning.ipynb#Y400sZmlsZQ%3D%3D?line=18'>19</a>\u001b[0m         time\u001b[39m.\u001b[39msleep(\u001b[39m0.03\u001b[39m)\n\u001b[0;32m     <a href='vscode-notebook-cell:/c%3A/Users/Guntsv/Downloads/AIT/AT82.03%20Machine%20Learning%20%28ML%29/Laboratory/ML2022-13-Reinforcement-Learning/12-Reinforcement-Learning.ipynb#Y400sZmlsZQ%3D%3D?line=19'>20</a>\u001b[0m         state \u001b[39m=\u001b[39m next_state\n\u001b[1;32m---> <a href='vscode-notebook-cell:/c%3A/Users/Guntsv/Downloads/AIT/AT82.03%20Machine%20Learning%20%28ML%29/Laboratory/ML2022-13-Reinforcement-Learning/12-Reinforcement-Learning.ipynb#Y400sZmlsZQ%3D%3D?line=21'>22</a>\u001b[0m play_game(model)\n\u001b[0;32m     <a href='vscode-notebook-cell:/c%3A/Users/Guntsv/Downloads/AIT/AT82.03%20Machine%20Learning%20%28ML%29/Laboratory/ML2022-13-Reinforcement-Learning/12-Reinforcement-Learning.ipynb#Y400sZmlsZQ%3D%3D?line=22'>23</a>\u001b[0m env\u001b[39m.\u001b[39mclose()\n",
      "\u001b[1;32mc:\\Users\\Guntsv\\Downloads\\AIT\\AT82.03 Machine Learning (ML)\\Laboratory\\ML2022-13-Reinforcement-Learning\\12-Reinforcement-Learning.ipynb Cell 205\u001b[0m in \u001b[0;36mplay_game\u001b[1;34m(model)\u001b[0m\n\u001b[0;32m      <a href='vscode-notebook-cell:/c%3A/Users/Guntsv/Downloads/AIT/AT82.03%20Machine%20Learning%20%28ML%29/Laboratory/ML2022-13-Reinforcement-Learning/12-Reinforcement-Learning.ipynb#Y400sZmlsZQ%3D%3D?line=7'>8</a>\u001b[0m done \u001b[39m=\u001b[39m \u001b[39mFalse\u001b[39;00m\n\u001b[0;32m      <a href='vscode-notebook-cell:/c%3A/Users/Guntsv/Downloads/AIT/AT82.03%20Machine%20Learning%20%28ML%29/Laboratory/ML2022-13-Reinforcement-Learning/12-Reinforcement-Learning.ipynb#Y400sZmlsZQ%3D%3D?line=8'>9</a>\u001b[0m plt\u001b[39m.\u001b[39mfigure(figsize\u001b[39m=\u001b[39m(\u001b[39m9\u001b[39m,\u001b[39m9\u001b[39m))\n\u001b[1;32m---> <a href='vscode-notebook-cell:/c%3A/Users/Guntsv/Downloads/AIT/AT82.03%20Machine%20Learning%20%28ML%29/Laboratory/ML2022-13-Reinforcement-Learning/12-Reinforcement-Learning.ipynb#Y400sZmlsZQ%3D%3D?line=9'>10</a>\u001b[0m img \u001b[39m=\u001b[39m plt\u001b[39m.\u001b[39mimshow(env\u001b[39m.\u001b[39;49mrender(mode\u001b[39m=\u001b[39;49m\u001b[39m'\u001b[39;49m\u001b[39mrgb_array\u001b[39;49m\u001b[39m'\u001b[39;49m)) \u001b[39m# only call this once\u001b[39;00m\n\u001b[0;32m     <a href='vscode-notebook-cell:/c%3A/Users/Guntsv/Downloads/AIT/AT82.03%20Machine%20Learning%20%28ML%29/Laboratory/ML2022-13-Reinforcement-Learning/12-Reinforcement-Learning.ipynb#Y400sZmlsZQ%3D%3D?line=10'>11</a>\u001b[0m state \u001b[39m=\u001b[39m env\u001b[39m.\u001b[39mreset()\n\u001b[0;32m     <a href='vscode-notebook-cell:/c%3A/Users/Guntsv/Downloads/AIT/AT82.03%20Machine%20Learning%20%28ML%29/Laboratory/ML2022-13-Reinforcement-Learning/12-Reinforcement-Learning.ipynb#Y400sZmlsZQ%3D%3D?line=11'>12</a>\u001b[0m \u001b[39mwhile\u001b[39;00m(\u001b[39mnot\u001b[39;00m done):\n",
      "File \u001b[1;32mc:\\Python3.10.4\\lib\\site-packages\\gym\\core.py:329\u001b[0m, in \u001b[0;36mWrapper.render\u001b[1;34m(self, *args, **kwargs)\u001b[0m\n\u001b[0;32m    325\u001b[0m \u001b[39mdef\u001b[39;00m \u001b[39mrender\u001b[39m(\n\u001b[0;32m    326\u001b[0m     \u001b[39mself\u001b[39m, \u001b[39m*\u001b[39margs, \u001b[39m*\u001b[39m\u001b[39m*\u001b[39mkwargs\n\u001b[0;32m    327\u001b[0m ) \u001b[39m-\u001b[39m\u001b[39m>\u001b[39m Optional[Union[RenderFrame, List[RenderFrame]]]:\n\u001b[0;32m    328\u001b[0m     \u001b[39m\"\"\"Renders the environment.\"\"\"\u001b[39;00m\n\u001b[1;32m--> 329\u001b[0m     \u001b[39mreturn\u001b[39;00m \u001b[39mself\u001b[39m\u001b[39m.\u001b[39menv\u001b[39m.\u001b[39mrender(\u001b[39m*\u001b[39margs, \u001b[39m*\u001b[39m\u001b[39m*\u001b[39mkwargs)\n",
      "File \u001b[1;32mc:\\Python3.10.4\\lib\\site-packages\\gym\\wrappers\\order_enforcing.py:51\u001b[0m, in \u001b[0;36mOrderEnforcing.render\u001b[1;34m(self, *args, **kwargs)\u001b[0m\n\u001b[0;32m     46\u001b[0m \u001b[39mif\u001b[39;00m \u001b[39mnot\u001b[39;00m \u001b[39mself\u001b[39m\u001b[39m.\u001b[39m_disable_render_order_enforcing \u001b[39mand\u001b[39;00m \u001b[39mnot\u001b[39;00m \u001b[39mself\u001b[39m\u001b[39m.\u001b[39m_has_reset:\n\u001b[0;32m     47\u001b[0m     \u001b[39mraise\u001b[39;00m ResetNeeded(\n\u001b[0;32m     48\u001b[0m         \u001b[39m\"\u001b[39m\u001b[39mCannot call `env.render()` before calling `env.reset()`, if this is a intended action, \u001b[39m\u001b[39m\"\u001b[39m\n\u001b[0;32m     49\u001b[0m         \u001b[39m\"\u001b[39m\u001b[39mset `disable_render_order_enforcing=True` on the OrderEnforcer wrapper.\u001b[39m\u001b[39m\"\u001b[39m\n\u001b[0;32m     50\u001b[0m     )\n\u001b[1;32m---> 51\u001b[0m \u001b[39mreturn\u001b[39;00m \u001b[39mself\u001b[39m\u001b[39m.\u001b[39menv\u001b[39m.\u001b[39mrender(\u001b[39m*\u001b[39margs, \u001b[39m*\u001b[39m\u001b[39m*\u001b[39mkwargs)\n",
      "File \u001b[1;32mc:\\Python3.10.4\\lib\\site-packages\\gym\\wrappers\\env_checker.py:53\u001b[0m, in \u001b[0;36mPassiveEnvChecker.render\u001b[1;34m(self, *args, **kwargs)\u001b[0m\n\u001b[0;32m     51\u001b[0m \u001b[39mif\u001b[39;00m \u001b[39mself\u001b[39m\u001b[39m.\u001b[39mchecked_render \u001b[39mis\u001b[39;00m \u001b[39mFalse\u001b[39;00m:\n\u001b[0;32m     52\u001b[0m     \u001b[39mself\u001b[39m\u001b[39m.\u001b[39mchecked_render \u001b[39m=\u001b[39m \u001b[39mTrue\u001b[39;00m\n\u001b[1;32m---> 53\u001b[0m     \u001b[39mreturn\u001b[39;00m env_render_passive_checker(\u001b[39mself\u001b[39m\u001b[39m.\u001b[39menv, \u001b[39m*\u001b[39margs, \u001b[39m*\u001b[39m\u001b[39m*\u001b[39mkwargs)\n\u001b[0;32m     54\u001b[0m \u001b[39melse\u001b[39;00m:\n\u001b[0;32m     55\u001b[0m     \u001b[39mreturn\u001b[39;00m \u001b[39mself\u001b[39m\u001b[39m.\u001b[39menv\u001b[39m.\u001b[39mrender(\u001b[39m*\u001b[39margs, \u001b[39m*\u001b[39m\u001b[39m*\u001b[39mkwargs)\n",
      "File \u001b[1;32mc:\\Python3.10.4\\lib\\site-packages\\gym\\utils\\passive_env_checker.py:316\u001b[0m, in \u001b[0;36menv_render_passive_checker\u001b[1;34m(env, *args, **kwargs)\u001b[0m\n\u001b[0;32m    310\u001b[0m     \u001b[39melse\u001b[39;00m:\n\u001b[0;32m    311\u001b[0m         \u001b[39massert\u001b[39;00m env\u001b[39m.\u001b[39mrender_mode \u001b[39mis\u001b[39;00m \u001b[39mNone\u001b[39;00m \u001b[39mor\u001b[39;00m env\u001b[39m.\u001b[39mrender_mode \u001b[39min\u001b[39;00m render_modes, (\n\u001b[0;32m    312\u001b[0m             \u001b[39m\"\u001b[39m\u001b[39mThe environment was initialized successfully however with an unsupported render mode. \u001b[39m\u001b[39m\"\u001b[39m\n\u001b[0;32m    313\u001b[0m             \u001b[39mf\u001b[39m\u001b[39m\"\u001b[39m\u001b[39mRender mode: \u001b[39m\u001b[39m{\u001b[39;00menv\u001b[39m.\u001b[39mrender_mode\u001b[39m}\u001b[39;00m\u001b[39m, modes: \u001b[39m\u001b[39m{\u001b[39;00mrender_modes\u001b[39m}\u001b[39;00m\u001b[39m\"\u001b[39m\n\u001b[0;32m    314\u001b[0m         )\n\u001b[1;32m--> 316\u001b[0m result \u001b[39m=\u001b[39m env\u001b[39m.\u001b[39mrender(\u001b[39m*\u001b[39margs, \u001b[39m*\u001b[39m\u001b[39m*\u001b[39mkwargs)\n\u001b[0;32m    318\u001b[0m \u001b[39m# TODO: Check that the result is correct\u001b[39;00m\n\u001b[0;32m    320\u001b[0m \u001b[39mreturn\u001b[39;00m result\n",
      "\u001b[1;31mTypeError\u001b[0m: CartPoleEnv.render() got an unexpected keyword argument 'mode'"
     ]
    },
    {
     "data": {
      "text/plain": [
       "<Figure size 648x648 with 0 Axes>"
      ]
     },
     "metadata": {},
     "output_type": "display_data"
    }
   ],
   "source": [
    "import time\n",
    "from IPython import display\n",
    "import matplotlib\n",
    "import matplotlib.pyplot as plt\n",
    "%matplotlib inline\n",
    "\n",
    "def play_game(model):\n",
    "    done = False\n",
    "    plt.figure(figsize=(9,9))\n",
    "    img = plt.imshow(env.render(mode='rgb_array')) # only call this once\n",
    "    state = env.reset()\n",
    "    while(not done):\n",
    "        action = model.act(state, epsilon_final)\n",
    "        next_state, reward, done, _ = env.step(action)\n",
    "        # env.render() No use!\n",
    "        img.set_data(env.render(mode='rgb_array')) # just update the data\n",
    "        display.display(plt.gcf())\n",
    "        display.clear_output(wait=True)\n",
    "        time.sleep(0.03)\n",
    "        state = next_state\n",
    "\n",
    "play_game(model)\n",
    "env.close()"
   ]
  },
  {
   "cell_type": "markdown",
   "metadata": {
    "nbgrader": {
     "grade": false,
     "grade_id": "cell-2f62f416f34d5296",
     "locked": true,
     "points": 50,
     "schema_version": 3,
     "solution": false,
     "task": true
    }
   },
   "source": [
    "### In class exercise (50 points)\n",
    "\n"
   ]
  },
  {
   "cell_type": "code",
   "execution_count": null,
   "metadata": {},
   "outputs": [],
   "source": []
  },
  {
   "cell_type": "markdown",
   "metadata": {
    "nbgrader": {
     "grade": false,
     "grade_id": "cell-71f183bf97643dd9",
     "locked": true,
     "points": 50,
     "schema_version": 3,
     "solution": false,
     "task": true
    }
   },
   "source": [
    "### Take home exercise (50 points)\n",
    "\n"
   ]
  },
  {
   "cell_type": "code",
   "execution_count": 233,
   "metadata": {},
   "outputs": [
    {
     "data": {
      "text/plain": [
       "device(type='cpu')"
      ]
     },
     "execution_count": 233,
     "metadata": {},
     "output_type": "execute_result"
    }
   ],
   "source": [
    "import gym\n",
    "import math\n",
    "import random\n",
    "import numpy as np\n",
    "import matplotlib\n",
    "import matplotlib.pyplot as plt\n",
    "from collections import namedtuple, deque\n",
    "from itertools import count\n",
    "from PIL import Image\n",
    "\n",
    "import torch\n",
    "import torch.nn as nn\n",
    "import torch.optim as optim\n",
    "import torch.nn.functional as F\n",
    "import torchvision.transforms as T\n",
    "\n",
    "\n",
    "if gym.__version__ < '0.26':\n",
    "    env = gym.make('CartPole-v1', new_step_api=True, render_mode='single_rgb_array').unwrapped\n",
    "else:\n",
    "    env = gym.make('CartPole-v1', render_mode='rgb_array').unwrapped\n",
    "    # env = gym.make(\"FrozenLake-v1\",render_mode='rgb_array').unwrapped\n",
    "    # env = gym.make(\"ALE/SpaceInvaders-v5\", render_mode='rgb_array').unwrapped\n",
    "\n",
    "# set up matplotlib\n",
    "is_ipython = 'inline' in matplotlib.get_backend()\n",
    "if is_ipython:\n",
    "    from IPython import display\n",
    "\n",
    "# if gpu is to be used\n",
    "device = torch.device(\"cuda\" if torch.cuda.is_available() else \"cpu\")\n",
    "device"
   ]
  },
  {
   "cell_type": "code",
   "execution_count": 234,
   "metadata": {},
   "outputs": [],
   "source": [
    "Transition = namedtuple('Transition',('state', 'action', 'next_state', 'reward'))\n",
    "class ReplayBuffer(object):\n",
    "\n",
    "    def __init__(self, capacity):\n",
    "        self.buffer = deque([],maxlen=capacity)\n",
    "\n",
    "    def push(self, *args):\n",
    "        \"\"\"Save a transition\"\"\"\n",
    "        self.buffer.append(Transition(*args))\n",
    "\n",
    "    def sample(self, batch_size):\n",
    "        return random.sample(self.buffer, batch_size)\n",
    "\n",
    "    def __len__(self):\n",
    "        return len(self.buffer)"
   ]
  },
  {
   "cell_type": "code",
   "execution_count": 235,
   "metadata": {},
   "outputs": [],
   "source": [
    "class DQN(nn.Module):\n",
    "\n",
    "    def __init__(self, h, w, outputs):\n",
    "        super(DQN, self).__init__()\n",
    "        self.conv1 = nn.Conv2d(3, 16, kernel_size=5, stride=2)\n",
    "        self.bn1 = nn.BatchNorm2d(16)\n",
    "        self.conv2 = nn.Conv2d(16, 32, kernel_size=5, stride=2)\n",
    "        self.bn2 = nn.BatchNorm2d(32)\n",
    "        self.conv3 = nn.Conv2d(32, 32, kernel_size=5, stride=2)\n",
    "        self.bn3 = nn.BatchNorm2d(32)\n",
    "\n",
    "        # Number of Linear input connections depends on output of conv2d layers\n",
    "        # and therefore the input image size, so compute it.\n",
    "        def conv2d_size_out(size, kernel_size = 5, stride = 2):\n",
    "            return (size - (kernel_size - 1) - 1) // stride  + 1\n",
    "        convw = conv2d_size_out(conv2d_size_out(conv2d_size_out(w)))\n",
    "        convh = conv2d_size_out(conv2d_size_out(conv2d_size_out(h)))\n",
    "        linear_input_size = convw * convh * 32\n",
    "        self.head = nn.Linear(linear_input_size, outputs)\n",
    "\n",
    "    # Called with either one element to determine next action, or a batch\n",
    "    # during optimization. Returns tensor([[left0exp,right0exp]...]).\n",
    "    def forward(self, x):\n",
    "        x = x.to(device)\n",
    "        x = F.relu(self.bn1(self.conv1(x)))\n",
    "        x = F.relu(self.bn2(self.conv2(x)))\n",
    "        x = F.relu(self.bn3(self.conv3(x)))\n",
    "        return self.head(x.view(x.size(0), -1))"
   ]
  },
  {
   "cell_type": "code",
   "execution_count": 236,
   "metadata": {},
   "outputs": [
    {
     "name": "stderr",
     "output_type": "stream",
     "text": [
      "c:\\Python3.10.4\\lib\\site-packages\\torchvision\\transforms\\transforms.py:332: UserWarning: Argument 'interpolation' of type int is deprecated since 0.13 and will be removed in 0.15. Please use InterpolationMode enum.\n",
      "  warnings.warn(\n"
     ]
    },
    {
     "data": {
      "image/png": "[encoded data removed]",
      "text/plain": [
       "<Figure size 432x288 with 1 Axes>"
      ]
     },
     "metadata": {
      "needs_background": "light"
     },
     "output_type": "display_data"
    }
   ],
   "source": [
    "resize = T.Compose([T.ToPILImage(),\n",
    "                    T.Resize(40, interpolation=Image.CUBIC),\n",
    "                    T.ToTensor()])\n",
    "\n",
    "\n",
    "def get_cart_location(screen_width):\n",
    "    world_width = env.x_threshold * 2\n",
    "    scale = screen_width / world_width\n",
    "    return int(env.state[0] * scale + screen_width / 2.0)  # MIDDLE OF CART\n",
    "\n",
    "def get_screen():\n",
    "    # Returned screen requested by gym is 400x600x3, but is sometimes larger\n",
    "    # such as 800x1200x3. Transpose it into torch order (CHW).\n",
    "    screen = env.render().transpose((2, 0, 1))\n",
    "    # Cart is in the lower half, so strip off the top and bottom of the screen\n",
    "    _, screen_height, screen_width = screen.shape\n",
    "    screen = screen[:, int(screen_height*0.4):int(screen_height * 0.8)]\n",
    "    view_width = int(screen_width * 0.6)\n",
    "    cart_location = get_cart_location(screen_width)\n",
    "    if cart_location < view_width // 2:\n",
    "        slice_range = slice(view_width)\n",
    "    elif cart_location > (screen_width - view_width // 2):\n",
    "        slice_range = slice(-view_width, None)\n",
    "    else:\n",
    "        slice_range = slice(cart_location - view_width // 2,\n",
    "                            cart_location + view_width // 2)\n",
    "    # Strip off the edges, so that we have a square image centered on a cart\n",
    "    screen = screen[:, :, slice_range]\n",
    "    # Convert to float, rescale, convert to torch tensor\n",
    "    # (this doesn't require a copy)\n",
    "    screen = np.ascontiguousarray(screen, dtype=np.float32) / 255\n",
    "    screen = torch.from_numpy(screen)\n",
    "    # Resize, and add a batch dimension (BCHW)\n",
    "    return resize(screen).unsqueeze(0)\n",
    "\n",
    "env.reset()\n",
    "plt.figure()\n",
    "plt.imshow(get_screen().cpu().squeeze(0).permute(1, 2, 0).numpy(),\n",
    "           interpolation='none')\n",
    "plt.title('Example extracted screen')\n",
    "plt.show()"
   ]
  },
  {
   "cell_type": "code",
   "execution_count": 240,
   "metadata": {},
   "outputs": [],
   "source": [
    "BATCH_SIZE = 128\n",
    "GAMMA = 0.999\n",
    "EPS_START = 0.9\n",
    "EPS_END = 0.05\n",
    "EPS_DECAY = 200\n",
    "TARGET_UPDATE = 10\n",
    "\n",
    "init_screen = get_screen()\n",
    "_, _, screen_height, screen_width = init_screen.shape\n",
    "\n",
    "# Get number of actions from gym action space\n",
    "n_actions = env.action_space.n\n",
    "\n",
    "policy_net = DQN(screen_height, screen_width, n_actions).to(device)\n",
    "target_net = DQN(screen_height, screen_width, n_actions).to(device)\n",
    "target_net.load_state_dict(policy_net.state_dict())\n",
    "target_net.eval()\n",
    "\n",
    "optimizer = optim.RMSprop(policy_net.parameters())\n",
    "memory = ReplayBuffer(3000)\n",
    "\n",
    "steps_done = 0\n",
    "\n",
    "def select_action(state):\n",
    "    global steps_done\n",
    "    sample = random.random()\n",
    "    eps_threshold = EPS_END + (EPS_START - EPS_END) * \\\n",
    "        math.exp(-1. * steps_done / EPS_DECAY)\n",
    "    steps_done += 1\n",
    "    if sample > eps_threshold:\n",
    "        with torch.no_grad():\n",
    "            return policy_net(state).max(1)[1].view(1, 1)\n",
    "    else:\n",
    "        return torch.tensor([[random.randrange(n_actions)]], device=device, dtype=torch.long)\n",
    "\n",
    "episode_durations = []\n",
    "\n",
    "def plot_durations():\n",
    "    plt.figure(2)\n",
    "    plt.clf()\n",
    "    durations_t = torch.tensor(episode_durations, dtype=torch.float)\n",
    "    plt.title('Training...')\n",
    "    plt.xlabel('Episode')\n",
    "    plt.ylabel('Duration')\n",
    "    plt.plot(durations_t.numpy())\n",
    "    # Take 100 episode averages and plot them too\n",
    "    if is_ipython:\n",
    "        display.display(plt.gcf())\n",
    "        display.clear_output(wait=True)\n",
    "\n",
    "    if len(durations_t) >= 100:\n",
    "        means = durations_t.unfold(0, 100, 1).mean(1).view(-1)\n",
    "        means = torch.cat((torch.zeros(99), means))\n",
    "        plt.plot(means.numpy())"
   ]
  },
  {
   "cell_type": "code",
   "execution_count": 241,
   "metadata": {},
   "outputs": [],
   "source": [
    "def optimize_model():\n",
    "    if len(memory) < BATCH_SIZE:\n",
    "        return\n",
    "    transitions = memory.sample(BATCH_SIZE)\n",
    "    batch = Transition(*zip(*transitions))\n",
    "    non_final_mask = torch.tensor(tuple(map(lambda s: s is not None,\n",
    "                                          batch.next_state)), device=device, dtype=torch.bool)\n",
    "    non_final_next_states = torch.cat([s for s in batch.next_state\n",
    "                                                if s is not None])\n",
    "    state_batch = torch.cat(batch.state)\n",
    "    action_batch = torch.cat(batch.action)\n",
    "    reward_batch = torch.cat(batch.reward)\n",
    "\n",
    "    state_action_values = policy_net(state_batch).gather(1, action_batch)\n",
    "\n",
    "    next_state_values = torch.zeros(BATCH_SIZE, device=device)\n",
    "    next_state_values[non_final_mask] = target_net(non_final_next_states).max(1)[0].detach()\n",
    "    # Compute the expected Q values\n",
    "    expected_state_action_values = (next_state_values * GAMMA) + reward_batch\n",
    "\n",
    "    # Compute Huber loss\n",
    "    criterion = nn.SmoothL1Loss()\n",
    "    loss = criterion(state_action_values, expected_state_action_values.unsqueeze(1))\n",
    "\n",
    "    # Optimize the model\n",
    "    optimizer.zero_grad()\n",
    "    loss.backward()\n",
    "    for param in policy_net.parameters():\n",
    "        param.grad.data.clamp_(-1, 1)\n",
    "    optimizer.step()"
   ]
  },
  {
   "cell_type": "code",
   "execution_count": 242,
   "metadata": {},
   "outputs": [
    {
     "name": "stdout",
     "output_type": "stream",
     "text": [
      "Complete\n"
     ]
    },
    {
     "data": {
      "image/png": "[encoded data removed]",
      "text/plain": [
       "<Figure size 432x288 with 1 Axes>"
      ]
     },
     "metadata": {
      "needs_background": "light"
     },
     "output_type": "display_data"
    }
   ],
   "source": [
    "num_episodes = 50\n",
    "for i_episode in range(num_episodes):\n",
    "    # Initialize the environment and state\n",
    "    env.reset()\n",
    "    last_screen = get_screen()\n",
    "    current_screen = get_screen()\n",
    "    state = current_screen - last_screen\n",
    "    for t in count():\n",
    "        # Select and perform an action\n",
    "        action = select_action(state)\n",
    "        _, reward, done, _, _ = env.step(action.item())\n",
    "        reward = torch.tensor([reward], device=device)\n",
    "        # Observe new state\n",
    "        last_screen = current_screen\n",
    "        current_screen = get_screen()\n",
    "        if not done:\n",
    "            next_state = current_screen - last_screen\n",
    "        else:\n",
    "            next_state = None\n",
    "        # Store the transition in memory\n",
    "        memory.push(state, action, next_state, reward)\n",
    "        # Move to the next state\n",
    "        state = next_state\n",
    "        # Perform one step of the optimization (on the policy network)\n",
    "        # optimize_model()\n",
    "        if done:\n",
    "            episode_durations.append(t + 1)\n",
    "            if num_episodes == 50:\n",
    "                plot_durations()\n",
    "            break\n",
    "        # Update the target network, copying all weights and biases in DQN\n",
    "        if t % TARGET_UPDATE == 0:\n",
    "            target_net.load_state_dict(policy_net.state_dict())\n",
    "\n",
    "print('Complete')\n",
    "env.render()\n",
    "env.close()\n",
    "plt.show()"
   ]
  }
 ],
 "metadata": {
  "kernelspec": {
   "display_name": "Python 3 (ipykernel)",
   "language": "python",
   "name": "python3"
  },
  "language_info": {
   "codemirror_mode": {
    "name": "ipython",
    "version": 3
   },
   "file_extension": ".py",
   "mimetype": "text/x-python",
   "name": "python",
   "nbconvert_exporter": "python",
   "pygments_lexer": "ipython3",
   "version": "3.10.4"
  },
  "vscode": {
   "interpreter": {
    "hash": "c81d839d3c4227cd770621df97fe8191838af02e7eef185a922d8250cb33d344"
   }
  }
 },
 "nbformat": 4,
 "nbformat_minor": 4
}
