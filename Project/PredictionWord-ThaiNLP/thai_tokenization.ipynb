{
 "cells": [
  {
   "cell_type": "code",
   "execution_count": 1,
   "metadata": {},
   "outputs": [
    {
     "name": "stdout",
     "output_type": "stream",
     "text": [
      "Collecting deepcut\n",
      "  Downloading deepcut-0.7.0.0-py3-none-any.whl (2.0 MB)\n",
      "     ---------------------------------------- 2.0/2.0 MB 3.1 MB/s eta 0:00:00\n",
      "Requirement already satisfied: tensorflow>=2.0.0 in c:\\python3.10.4\\lib\\site-packages (from deepcut) (2.10.0)\n",
      "Requirement already satisfied: scikit-learn in c:\\python3.10.4\\lib\\site-packages (from deepcut) (1.0.2)\n",
      "Requirement already satisfied: pandas in c:\\python3.10.4\\lib\\site-packages (from deepcut) (1.4.1)\n",
      "Requirement already satisfied: h5py in c:\\python3.10.4\\lib\\site-packages (from deepcut) (3.7.0)\n"
     ]
    },
    {
     "name": "stderr",
     "output_type": "stream",
     "text": [
      "\n",
      "[notice] A new release of pip available: 22.3 -> 22.3.1\n",
      "[notice] To update, run: python.exe -m pip install --upgrade pip\n"
     ]
    },
    {
     "name": "stdout",
     "output_type": "stream",
     "text": [
      "Requirement already satisfied: scipy in c:\\python3.10.4\\lib\\site-packages (from deepcut) (1.8.0)\n",
      "Requirement already satisfied: numpy in c:\\python3.10.4\\lib\\site-packages (from deepcut) (1.23.4)\n",
      "Requirement already satisfied: packaging in c:\\python3.10.4\\lib\\site-packages (from tensorflow>=2.0.0->deepcut) (21.3)\n",
      "Requirement already satisfied: termcolor>=1.1.0 in c:\\python3.10.4\\lib\\site-packages (from tensorflow>=2.0.0->deepcut) (2.0.1)\n",
      "Requirement already satisfied: grpcio<2.0,>=1.24.3 in c:\\python3.10.4\\lib\\site-packages (from tensorflow>=2.0.0->deepcut) (1.50.0)\n",
      "Requirement already satisfied: flatbuffers>=2.0 in c:\\python3.10.4\\lib\\site-packages (from tensorflow>=2.0.0->deepcut) (22.10.26)\n",
      "Requirement already satisfied: gast<=0.4.0,>=0.2.1 in c:\\python3.10.4\\lib\\site-packages (from tensorflow>=2.0.0->deepcut) (0.4.0)\n",
      "Requirement already satisfied: google-pasta>=0.1.1 in c:\\python3.10.4\\lib\\site-packages (from tensorflow>=2.0.0->deepcut) (0.2.0)\n",
      "Requirement already satisfied: wrapt>=1.11.0 in c:\\python3.10.4\\lib\\site-packages (from tensorflow>=2.0.0->deepcut) (1.14.1)\n",
      "Requirement already satisfied: six>=1.12.0 in c:\\users\\guntsv\\appdata\\roaming\\python\\python310\\site-packages (from tensorflow>=2.0.0->deepcut) (1.16.0)\n",
      "Requirement already satisfied: astunparse>=1.6.0 in c:\\python3.10.4\\lib\\site-packages (from tensorflow>=2.0.0->deepcut) (1.6.3)\n",
      "Requirement already satisfied: typing-extensions>=3.6.6 in c:\\python3.10.4\\lib\\site-packages (from tensorflow>=2.0.0->deepcut) (4.4.0)\n",
      "Requirement already satisfied: keras<2.11,>=2.10.0 in c:\\python3.10.4\\lib\\site-packages (from tensorflow>=2.0.0->deepcut) (2.10.0)\n",
      "Requirement already satisfied: libclang>=13.0.0 in c:\\python3.10.4\\lib\\site-packages (from tensorflow>=2.0.0->deepcut) (14.0.6)\n",
      "Requirement already satisfied: setuptools in c:\\python3.10.4\\lib\\site-packages (from tensorflow>=2.0.0->deepcut) (58.1.0)\n",
      "Requirement already satisfied: absl-py>=1.0.0 in c:\\python3.10.4\\lib\\site-packages (from tensorflow>=2.0.0->deepcut) (1.3.0)\n",
      "Requirement already satisfied: opt-einsum>=2.3.2 in c:\\python3.10.4\\lib\\site-packages (from tensorflow>=2.0.0->deepcut) (3.3.0)\n",
      "Requirement already satisfied: tensorflow-io-gcs-filesystem>=0.23.1 in c:\\python3.10.4\\lib\\site-packages (from tensorflow>=2.0.0->deepcut) (0.27.0)\n",
      "Requirement already satisfied: tensorboard<2.11,>=2.10 in c:\\python3.10.4\\lib\\site-packages (from tensorflow>=2.0.0->deepcut) (2.10.1)\n",
      "Requirement already satisfied: keras-preprocessing>=1.1.1 in c:\\python3.10.4\\lib\\site-packages (from tensorflow>=2.0.0->deepcut) (1.1.2)\n",
      "Requirement already satisfied: tensorflow-estimator<2.11,>=2.10.0 in c:\\python3.10.4\\lib\\site-packages (from tensorflow>=2.0.0->deepcut) (2.10.0)\n",
      "Requirement already satisfied: protobuf<3.20,>=3.9.2 in c:\\python3.10.4\\lib\\site-packages (from tensorflow>=2.0.0->deepcut) (3.19.6)\n",
      "Requirement already satisfied: python-dateutil>=2.8.1 in c:\\users\\guntsv\\appdata\\roaming\\python\\python310\\site-packages (from pandas->deepcut) (2.8.2)\n",
      "Requirement already satisfied: pytz>=2020.1 in c:\\python3.10.4\\lib\\site-packages (from pandas->deepcut) (2022.1)\n",
      "Requirement already satisfied: joblib>=0.11 in c:\\python3.10.4\\lib\\site-packages (from scikit-learn->deepcut) (1.1.0)\n",
      "Requirement already satisfied: threadpoolctl>=2.0.0 in c:\\python3.10.4\\lib\\site-packages (from scikit-learn->deepcut) (3.1.0)\n",
      "Requirement already satisfied: wheel<1.0,>=0.23.0 in c:\\python3.10.4\\lib\\site-packages (from astunparse>=1.6.0->tensorflow>=2.0.0->deepcut) (0.37.1)\n",
      "Requirement already satisfied: tensorboard-data-server<0.7.0,>=0.6.0 in c:\\python3.10.4\\lib\\site-packages (from tensorboard<2.11,>=2.10->tensorflow>=2.0.0->deepcut) (0.6.1)\n",
      "Requirement already satisfied: requests<3,>=2.21.0 in c:\\python3.10.4\\lib\\site-packages (from tensorboard<2.11,>=2.10->tensorflow>=2.0.0->deepcut) (2.28.1)\n",
      "Requirement already satisfied: google-auth-oauthlib<0.5,>=0.4.1 in c:\\python3.10.4\\lib\\site-packages (from tensorboard<2.11,>=2.10->tensorflow>=2.0.0->deepcut) (0.4.6)\n",
      "Requirement already satisfied: tensorboard-plugin-wit>=1.6.0 in c:\\python3.10.4\\lib\\site-packages (from tensorboard<2.11,>=2.10->tensorflow>=2.0.0->deepcut) (1.8.1)\n",
      "Requirement already satisfied: markdown>=2.6.8 in c:\\python3.10.4\\lib\\site-packages (from tensorboard<2.11,>=2.10->tensorflow>=2.0.0->deepcut) (3.4.1)\n",
      "Requirement already satisfied: google-auth<3,>=1.6.3 in c:\\python3.10.4\\lib\\site-packages (from tensorboard<2.11,>=2.10->tensorflow>=2.0.0->deepcut) (2.13.0)\n",
      "Requirement already satisfied: werkzeug>=1.0.1 in c:\\python3.10.4\\lib\\site-packages (from tensorboard<2.11,>=2.10->tensorflow>=2.0.0->deepcut) (2.2.2)\n",
      "Requirement already satisfied: pyparsing!=3.0.5,>=2.0.2 in c:\\python3.10.4\\lib\\site-packages (from packaging->tensorflow>=2.0.0->deepcut) (3.0.7)\n",
      "Requirement already satisfied: cachetools<6.0,>=2.0.0 in c:\\python3.10.4\\lib\\site-packages (from google-auth<3,>=1.6.3->tensorboard<2.11,>=2.10->tensorflow>=2.0.0->deepcut) (5.2.0)\n",
      "Requirement already satisfied: pyasn1-modules>=0.2.1 in c:\\python3.10.4\\lib\\site-packages (from google-auth<3,>=1.6.3->tensorboard<2.11,>=2.10->tensorflow>=2.0.0->deepcut) (0.2.8)\n",
      "Requirement already satisfied: rsa<5,>=3.1.4 in c:\\python3.10.4\\lib\\site-packages (from google-auth<3,>=1.6.3->tensorboard<2.11,>=2.10->tensorflow>=2.0.0->deepcut) (4.9)\n",
      "Requirement already satisfied: requests-oauthlib>=0.7.0 in c:\\python3.10.4\\lib\\site-packages (from google-auth-oauthlib<0.5,>=0.4.1->tensorboard<2.11,>=2.10->tensorflow>=2.0.0->deepcut) (1.3.1)\n",
      "Requirement already satisfied: charset-normalizer<3,>=2 in c:\\python3.10.4\\lib\\site-packages (from requests<3,>=2.21.0->tensorboard<2.11,>=2.10->tensorflow>=2.0.0->deepcut) (2.1.1)\n",
      "Requirement already satisfied: urllib3<1.27,>=1.21.1 in c:\\python3.10.4\\lib\\site-packages (from requests<3,>=2.21.0->tensorboard<2.11,>=2.10->tensorflow>=2.0.0->deepcut) (1.26.12)\n",
      "Requirement already satisfied: certifi>=2017.4.17 in c:\\python3.10.4\\lib\\site-packages (from requests<3,>=2.21.0->tensorboard<2.11,>=2.10->tensorflow>=2.0.0->deepcut) (2022.9.24)\n",
      "Requirement already satisfied: idna<4,>=2.5 in c:\\python3.10.4\\lib\\site-packages (from requests<3,>=2.21.0->tensorboard<2.11,>=2.10->tensorflow>=2.0.0->deepcut) (3.4)\n",
      "Requirement already satisfied: MarkupSafe>=2.1.1 in c:\\users\\guntsv\\appdata\\roaming\\python\\python310\\site-packages (from werkzeug>=1.0.1->tensorboard<2.11,>=2.10->tensorflow>=2.0.0->deepcut) (2.1.1)\n",
      "Requirement already satisfied: pyasn1<0.5.0,>=0.4.6 in c:\\python3.10.4\\lib\\site-packages (from pyasn1-modules>=0.2.1->google-auth<3,>=1.6.3->tensorboard<2.11,>=2.10->tensorflow>=2.0.0->deepcut) (0.4.8)\n",
      "Requirement already satisfied: oauthlib>=3.0.0 in c:\\python3.10.4\\lib\\site-packages (from requests-oauthlib>=0.7.0->google-auth-oauthlib<0.5,>=0.4.1->tensorboard<2.11,>=2.10->tensorflow>=2.0.0->deepcut) (3.2.2)\n",
      "Installing collected packages: deepcut\n",
      "Successfully installed deepcut-0.7.0.0\n"
     ]
    }
   ],
   "source": [
    "! pip install deepcut"
   ]
  },
  {
   "cell_type": "code",
   "execution_count": 4,
   "metadata": {},
   "outputs": [
    {
     "name": "stdout",
     "output_type": "stream",
     "text": [
      "1/1 [==============================] - 0s 25ms/step\n"
     ]
    },
    {
     "data": {
      "text/plain": [
       "['ฉัน', 'รับประทาน', 'ปลา', 'ทอด']"
      ]
     },
     "execution_count": 4,
     "metadata": {},
     "output_type": "execute_result"
    }
   ],
   "source": [
    "import deepcut\n",
    "deepcut.tokenize('ฉันรับประทานปลาทอด')"
   ]
  },
  {
   "cell_type": "code",
   "execution_count": 5,
   "metadata": {},
   "outputs": [
    {
     "name": "stdout",
     "output_type": "stream",
     "text": [
      "1/1 [==============================] - 0s 25ms/step\n"
     ]
    },
    {
     "data": {
      "text/plain": [
       "['ฉัน', 'กิน', 'ปลา', 'ทอด']"
      ]
     },
     "execution_count": 5,
     "metadata": {},
     "output_type": "execute_result"
    }
   ],
   "source": [
    "deepcut.tokenize('ฉันกินปลาทอด')"
   ]
  },
  {
   "cell_type": "code",
   "execution_count": 7,
   "metadata": {},
   "outputs": [
    {
     "name": "stdout",
     "output_type": "stream",
     "text": [
      "Collecting newmm-tokenizer\n",
      "  Downloading newmm_tokenizer-0.2.2-py3-none-any.whl (320 kB)\n",
      "     ------------------------------------ 320.6/320.6 kB 991.6 kB/s eta 0:00:00\n",
      "Installing collected packages: newmm-tokenizer\n",
      "Successfully installed newmm-tokenizer-0.2.2\n"
     ]
    },
    {
     "name": "stderr",
     "output_type": "stream",
     "text": [
      "\n",
      "[notice] A new release of pip available: 22.3 -> 22.3.1\n",
      "[notice] To update, run: python.exe -m pip install --upgrade pip\n"
     ]
    }
   ],
   "source": [
    "! pip install newmm-tokenizer"
   ]
  },
  {
   "cell_type": "code",
   "execution_count": 8,
   "metadata": {},
   "outputs": [
    {
     "data": {
      "text/plain": [
       "['ฉัน', 'กิน', 'ปลา', 'ทอด']"
      ]
     },
     "execution_count": 8,
     "metadata": {},
     "output_type": "execute_result"
    }
   ],
   "source": [
    "from newmm_tokenizer.tokenizer import word_tokenize\n",
    "word_tokenize('ฉันกินปลาทอด')"
   ]
  },
  {
   "cell_type": "code",
   "execution_count": 9,
   "metadata": {},
   "outputs": [
    {
     "data": {
      "text/plain": [
       "['ฉัน', 'รับประทาน', 'ปลา', 'ทอด']"
      ]
     },
     "execution_count": 9,
     "metadata": {},
     "output_type": "execute_result"
    }
   ],
   "source": [
    "word_tokenize('ฉันรับประทานปลาทอด')"
   ]
  },
  {
   "cell_type": "code",
   "execution_count": null,
   "metadata": {},
   "outputs": [],
   "source": []
  }
 ],
 "metadata": {
  "kernelspec": {
   "display_name": "Python 3",
   "language": "python",
   "name": "python3"
  },
  "language_info": {
   "codemirror_mode": {
    "name": "ipython",
    "version": 3
   },
   "file_extension": ".py",
   "mimetype": "text/x-python",
   "name": "python",
   "nbconvert_exporter": "python",
   "pygments_lexer": "ipython3",
   "version": "3.10.4"
  },
  "orig_nbformat": 4,
  "vscode": {
   "interpreter": {
    "hash": "c81d839d3c4227cd770621df97fe8191838af02e7eef185a922d8250cb33d344"
   }
  }
 },
 "nbformat": 4,
 "nbformat_minor": 2
}
